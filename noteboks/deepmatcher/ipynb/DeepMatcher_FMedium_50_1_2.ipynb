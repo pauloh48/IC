{
  "cells": [
    {
      "cell_type": "markdown",
      "metadata": {
        "id": "aXpIRSAQ-cw1"
      },
      "source": [
        "# Getting started with DeepMatcher\n",
        "\n",
        "Note: you can run **[this notebook live in Google Colab](https://colab.research.google.com/github/anhaidgroup/deepmatcher/blob/master/examples/getting_started.ipynb)** and use free GPUs provided by Google.\n",
        "\n",
        "This tutorial describes how to effortlessly perform entity matching using deep neural networks. Specifically, we will see how to match pairs of tuples (also called data records or table rows) to determine if they refer to the same real world entity. To do so, we will need labeled examples as input, i.e., tuple pairs which have been annotated as matches or non-matches. This will be used to train our neural network using supervised learning. At the end of this tutorial, you will have a trained neural network as output which you can easily apply to unlabeled tuple pairs to make predictions."
      ]
    },
    {
      "cell_type": "code",
      "execution_count": null,
      "metadata": {
        "colab": {
          "base_uri": "https://localhost:8080/"
        },
        "id": "I0U8tlj1esDm",
        "outputId": "cb38736c-13b7-45dc-c0ee-3af9fa4a9aae"
      },
      "outputs": [
        {
          "name": "stdout",
          "output_type": "stream",
          "text": [
            "Mounted at /content/drive\n"
          ]
        }
      ],
      "source": [
        "'''from google.colab import drive\n",
        "drive.mount('/content/drive')'''"
      ]
    },
    {
      "cell_type": "markdown",
      "metadata": {
        "id": "19SozaN8QJOf"
      },
      "source": [
        "As an overview, here are the 4 steps to use `deepmatcher` which we will go through in this tutorial:\n",
        "\n",
        "<ol start=\"0\">\n",
        "  <li>Setup</li>\n",
        "  <li>Process labeled data</li>\n",
        "  <li>Define neural network model</li>\n",
        "  <li>Train model</li>\n",
        "  <li>Apply model to new data</li>\n",
        "</ol>\n",
        "\n",
        "Let's begin!"
      ]
    },
    {
      "cell_type": "markdown",
      "metadata": {
        "id": "sBtZVvrSQJOf"
      },
      "source": [
        "## Step 0. Setup\n",
        "\n",
        "If you are running this notebook inside Colab, you will first need to install necessary packages by running the code below:"
      ]
    },
    {
      "cell_type": "code",
      "execution_count": 31,
      "metadata": {
        "id": "LEiDiDNz-PEG"
      },
      "outputs": [],
      "source": [
        "try:\n",
        "    import deepmatcher\n",
        "except:\n",
        "    !pip install -qqq deepmatcher"
      ]
    },
    {
      "cell_type": "code",
      "execution_count": 32,
      "metadata": {
        "colab": {
          "base_uri": "https://localhost:8080/"
        },
        "id": "SuphMrtUs1m-",
        "outputId": "444f8e7f-f496-4864-e743-0ee04b496198"
      },
      "outputs": [
        {
          "output_type": "stream",
          "name": "stdout",
          "text": [
            "Looking in indexes: https://pypi.org/simple, https://us-python.pkg.dev/colab-wheels/public/simple/\n",
            "Requirement already satisfied: torchtext==0.10.0 in /usr/local/lib/python3.7/dist-packages (0.10.0)\n",
            "Requirement already satisfied: numpy in /usr/local/lib/python3.7/dist-packages (from torchtext==0.10.0) (1.21.6)\n",
            "Requirement already satisfied: tqdm in /usr/local/lib/python3.7/dist-packages (from torchtext==0.10.0) (4.64.0)\n",
            "Requirement already satisfied: torch==1.9.0 in /usr/local/lib/python3.7/dist-packages (from torchtext==0.10.0) (1.9.0)\n",
            "Requirement already satisfied: requests in /usr/local/lib/python3.7/dist-packages (from torchtext==0.10.0) (2.23.0)\n",
            "Requirement already satisfied: typing-extensions in /usr/local/lib/python3.7/dist-packages (from torch==1.9.0->torchtext==0.10.0) (4.1.1)\n",
            "Requirement already satisfied: idna<3,>=2.5 in /usr/local/lib/python3.7/dist-packages (from requests->torchtext==0.10.0) (2.10)\n",
            "Requirement already satisfied: certifi>=2017.4.17 in /usr/local/lib/python3.7/dist-packages (from requests->torchtext==0.10.0) (2022.6.15)\n",
            "Requirement already satisfied: urllib3!=1.25.0,!=1.25.1,<1.26,>=1.21.1 in /usr/local/lib/python3.7/dist-packages (from requests->torchtext==0.10.0) (1.24.3)\n",
            "Requirement already satisfied: chardet<4,>=3.0.2 in /usr/local/lib/python3.7/dist-packages (from requests->torchtext==0.10.0) (3.0.4)\n"
          ]
        }
      ],
      "source": [
        "# contorna erro legacy\n",
        "!pip install torchtext==0.10.0"
      ]
    },
    {
      "cell_type": "markdown",
      "metadata": {
        "id": "D1Hmd9LXQJOk"
      },
      "source": [
        "Now let's import `deepmatcher` which will do all the heavy lifting to build and train neural network models for entity matching. "
      ]
    },
    {
      "cell_type": "code",
      "execution_count": 1,
      "metadata": {
        "id": "0422OsKBQJOk"
      },
      "outputs": [],
      "source": [
        "import pandas as pd\n",
        "import deepmatcher as dm"
      ]
    },
    {
      "cell_type": "markdown",
      "metadata": {
        "id": "g6inOGkQQJOn"
      },
      "source": [
        "We recommend having a GPU available for the training in Step 4. In case a GPU is not available, we will use all available CPU cores. You can run the following command to determine if a GPU is available and will be used for training:"
      ]
    },
    {
      "cell_type": "code",
      "execution_count": 2,
      "metadata": {
        "colab": {
          "base_uri": "https://localhost:8080/"
        },
        "id": "GYb5r0etQJOo",
        "outputId": "d067c1b4-5636-4ca4-f1e1-646cc5a37986"
      },
      "outputs": [
        {
          "output_type": "execute_result",
          "data": {
            "text/plain": [
              "True"
            ]
          },
          "metadata": {},
          "execution_count": 2
        }
      ],
      "source": [
        "import torch\n",
        "torch.cuda.is_available()"
      ]
    },
    {
      "cell_type": "markdown",
      "metadata": {
        "id": "Dv_sFh1_QJOs"
      },
      "source": [
        "### Download sample data for entity matching\n",
        "\n",
        "Now let's get some sample data to play with in this tutorial. We will need three sets of labeled data and one set of unlabeled data:\n",
        "\n",
        "1. **Training Data:** This is used for training our neural network model.\n",
        "2. **Validation Data:** This is used for determining the configuration (i.e., hyperparameters) of our model in such a way that the model does not overfit to the training set.\n",
        "3. **Test Data:** This is used to estimate the performance of our trained model on unlabeled data.\n",
        "4. **Unlabeled Data:** The trained model is applied on this data to obtain predictions, which can then be used for downstream tasks in practical application scenarios.\n",
        "\n",
        "We download these four data sets to the `sample_data` directory:"
      ]
    },
    {
      "cell_type": "code",
      "execution_count": 35,
      "metadata": {
        "id": "wDOPl8FeLm7j"
      },
      "outputs": [],
      "source": [
        "#!mkdir -p /content/drive/MyDrive/IC/unirTeste\n",
        "#!wget -qnc -P /content/drive/MyDrive/IC/unirTeste/ http://pages.cs.wisc.edu/~anhai/data1/deepmatcher_data/Structured.zip"
      ]
    },
    {
      "cell_type": "code",
      "execution_count": 36,
      "metadata": {
        "id": "h_cHKHCULzbz"
      },
      "outputs": [],
      "source": [
        "#!unzip -q /content/drive/MyDrive/IC/unirTeste/Structured.zip -d /content/drive/MyDrive/IC/unirTeste"
      ]
    },
    {
      "cell_type": "code",
      "execution_count": 37,
      "metadata": {
        "id": "AxhYkWBOYgAQ"
      },
      "outputs": [],
      "source": [
        "#!ls /content/drive/MyDrive/IC/unirTeste/Structured/DBLP-GoogleScholar"
      ]
    },
    {
      "cell_type": "code",
      "execution_count": 38,
      "metadata": {
        "colab": {
          "base_uri": "https://localhost:8080/",
          "height": 157
        },
        "id": "qj-AXGxmR_gL",
        "outputId": "562ab231-f21d-458e-a8c1-02cc17e28f14"
      },
      "outputs": [
        {
          "output_type": "execute_result",
          "data": {
            "text/plain": [
              "\"\\ndef merge_data(labeled, table_a, table_b, output):\\n  merged_csv = pd.read_csv(labeled).rename(columns={'ltable_id': 'left_id', 'rtable_id': 'right_id'})\\n  table_a_csv = pd.read_csv(table_a)\\n  table_a_csv = table_a_csv.rename(columns={col: 'left_' + col for col in table_a_csv.columns})\\n  table_b_csv = pd.read_csv(table_b)\\n  table_b_csv = table_b_csv.rename(columns={col: 'right_' + col for col in table_b_csv.columns})\\n  merged_csv = pd.merge(merged_csv, table_a_csv, on='left_id')\\n  merged_csv = pd.merge(merged_csv, table_b_csv, on='right_id')\\n  merged_csv['id'] = merged_csv[['left_id', 'right_id']].apply(lambda row: '_'.join([str(c) for c in row]), axis=1)\\n  del merged_csv['left_id']\\n  del merged_csv['right_id']\\n  merged_csv.to_csv(output, index=False)\\n\""
            ],
            "application/vnd.google.colaboratory.intrinsic+json": {
              "type": "string"
            }
          },
          "metadata": {},
          "execution_count": 38
        }
      ],
      "source": [
        "'''\n",
        "def merge_data(labeled, table_a, table_b, output):\n",
        "  merged_csv = pd.read_csv(labeled).rename(columns={'ltable_id': 'left_id', 'rtable_id': 'right_id'})\n",
        "  table_a_csv = pd.read_csv(table_a)\n",
        "  table_a_csv = table_a_csv.rename(columns={col: 'left_' + col for col in table_a_csv.columns})\n",
        "  table_b_csv = pd.read_csv(table_b)\n",
        "  table_b_csv = table_b_csv.rename(columns={col: 'right_' + col for col in table_b_csv.columns})\n",
        "  merged_csv = pd.merge(merged_csv, table_a_csv, on='left_id')\n",
        "  merged_csv = pd.merge(merged_csv, table_b_csv, on='right_id')\n",
        "  merged_csv['id'] = merged_csv[['left_id', 'right_id']].apply(lambda row: '_'.join([str(c) for c in row]), axis=1)\n",
        "  del merged_csv['left_id']\n",
        "  del merged_csv['right_id']\n",
        "  merged_csv.to_csv(output, index=False)\n",
        "'''"
      ]
    },
    {
      "cell_type": "code",
      "execution_count": 39,
      "metadata": {
        "colab": {
          "base_uri": "https://localhost:8080/",
          "height": 192
        },
        "id": "b9U49dPOSVKU",
        "outputId": "bcf91940-6edc-406e-f70a-1bf895382a60"
      },
      "outputs": [
        {
          "output_type": "execute_result",
          "data": {
            "text/plain": [
              "\"\\nmerge_data(\\n    '/content/drive/MyDrive/IC/unirTeste/Structured/DBLP-GoogleScholar/train.csv', \\n    '/content/drive/MyDrive/IC/unirTeste/Structured/DBLP-GoogleScholar/tableA.csv', \\n    '/content/drive/MyDrive/IC/unirTeste/Structured/DBLP-GoogleScholar/tableB.csv', \\n    '/content/drive/MyDrive/IC/unirTeste/Structured/DBLP-GoogleScholar/joined_train.csv')\\nmerge_data(\\n    '/content/drive/MyDrive/IC/unirTeste/Structured/DBLP-GoogleScholar/valid.csv', \\n    '/content/drive/MyDrive/IC/unirTeste/Structured/DBLP-GoogleScholar/tableA.csv', \\n    '/content/drive/MyDrive/IC/unirTeste/Structured/DBLP-GoogleScholar/tableB.csv', \\n    '/content/drive/MyDrive/IC/unirTeste/Structured/DBLP-GoogleScholar/joined_valid.csv')\\nmerge_data(\\n    '/content/drive/MyDrive/IC/unirTeste/Structured/DBLP-GoogleScholar/test.csv', \\n    '/content/drive/MyDrive/IC/unirTeste/Structured/DBLP-GoogleScholar/tableA.csv', \\n    '/content/drive/MyDrive/IC/unirTeste/Structured/DBLP-GoogleScholar/tableB.csv', \\n    '/content/drive/MyDrive/IC/unirTeste/Structured/DBLP-GoogleScholar/joined_test.csv')\\n\""
            ],
            "application/vnd.google.colaboratory.intrinsic+json": {
              "type": "string"
            }
          },
          "metadata": {},
          "execution_count": 39
        }
      ],
      "source": [
        "'''\n",
        "merge_data(\n",
        "    '/content/drive/MyDrive/IC/unirTeste/Structured/DBLP-GoogleScholar/train.csv', \n",
        "    '/content/drive/MyDrive/IC/unirTeste/Structured/DBLP-GoogleScholar/tableA.csv', \n",
        "    '/content/drive/MyDrive/IC/unirTeste/Structured/DBLP-GoogleScholar/tableB.csv', \n",
        "    '/content/drive/MyDrive/IC/unirTeste/Structured/DBLP-GoogleScholar/joined_train.csv')\n",
        "merge_data(\n",
        "    '/content/drive/MyDrive/IC/unirTeste/Structured/DBLP-GoogleScholar/valid.csv', \n",
        "    '/content/drive/MyDrive/IC/unirTeste/Structured/DBLP-GoogleScholar/tableA.csv', \n",
        "    '/content/drive/MyDrive/IC/unirTeste/Structured/DBLP-GoogleScholar/tableB.csv', \n",
        "    '/content/drive/MyDrive/IC/unirTeste/Structured/DBLP-GoogleScholar/joined_valid.csv')\n",
        "merge_data(\n",
        "    '/content/drive/MyDrive/IC/unirTeste/Structured/DBLP-GoogleScholar/test.csv', \n",
        "    '/content/drive/MyDrive/IC/unirTeste/Structured/DBLP-GoogleScholar/tableA.csv', \n",
        "    '/content/drive/MyDrive/IC/unirTeste/Structured/DBLP-GoogleScholar/tableB.csv', \n",
        "    '/content/drive/MyDrive/IC/unirTeste/Structured/DBLP-GoogleScholar/joined_test.csv')\n",
        "'''"
      ]
    },
    {
      "cell_type": "markdown",
      "metadata": {
        "id": "lu6QgmbDQJOv"
      },
      "source": [
        "To get an idea of how our data looks like, let's take a peek at the training dataset:"
      ]
    },
    {
      "cell_type": "code",
      "execution_count": 40,
      "metadata": {
        "id": "lpsH6NEZQJOw"
      },
      "outputs": [],
      "source": [
        "#pd.read_csv('/content/drive/MyDrive/IC/ICReteste/Deepmatcher/TesteErros/TesteErrosLabel/Erros6_10/Datasets/Structured/DBLP-GoogleScholar/joined_train.csv').head()"
      ]
    },
    {
      "cell_type": "markdown",
      "metadata": {
        "id": "KuCrlwjeQs8i"
      },
      "source": [
        "## Step 1. Process labeled data\n",
        "\n",
        "Before we can use our data for training, `deepmatcher` needs to first load and process it in order to prepare it for neural network training. Currently `deepmatcher` only supports processing CSV files. Each CSV file is assumed to have the following kinds of columns:\n",
        "\n",
        "* **\"Left\" attributes (required):** Our goal is to match tuple pairs. \"Left\" attributes are columns that correspond to the \"left\" tuple or the first tuple in the tuple pair. These column names are expected to be prefixed with \"left_\" by default.\n",
        "* **\"Right\" attributes (required):** \"Right\" attributes are columns that correspond to the \"right\" tuple or the second tuple in the tuple pair. These column names are expected to be prefixed with \"right_\" by default.\n",
        "* **Label column (required for train, validation, test):** Column containing the labels (match or non-match) for each tuple pair. Expected to be named \"label\" by default\n",
        "* **ID column (required):** Column containing a unique ID for each tuple pair. This is for evaluation convenience.  Expected to be named \"id\" by default.\n",
        "\n",
        "More details on what data processing involves and ways to customize it are described in **[this notebook](https://nbviewer.jupyter.org/github/anhaidgroup/deepmatcher/blob/master/examples/data_processing.ipynb)**. \n",
        "\n",
        "### Processing labeled data\n",
        "In order to process our train, validation and test CSV files we call `dm.data.process` in the following code snippet which will load and process the CSV files and return three processed `MatchingDataset` objects respectively. These dataset objects will later be used for training and evaluation. The basic parameters to `dm.data.process` are as follows:\n",
        "\n",
        "* **path (required): ** The path where all data is stored. This includes train, validation and test. `deepmatcher` may create new files in this directory to store information about these data sets. This allows subsequent `dm.data.process` calls to be much faster.\n",
        "* **train (required): ** File name of training data in `path` directory.\n",
        "* **validation (required): ** File name of validation data in `path` directory.\n",
        "* **test (optional): ** File name of test data in `path` directory.\n",
        "* **ignore_columns (optional): ** Any columns in the CSV files that you may want to ignore for the purposes of training. These should be included here. \n",
        "\n",
        "Note that the train, validation and test CSVs must all share the same schema, i.e., they should have the same columns. Processing data involves several steps and can take several minutes to complete, especially if this is the first time you are running the `deepmatcher` package.\n",
        "\n",
        "NOTE: If you are running this in Colab, you may get a message saying 'Memory usage is close to the limit.' You can safely ignore it for now. We are working on reducing the memory footprint."
      ]
    },
    {
      "cell_type": "code",
      "execution_count": null,
      "metadata": {
        "colab": {
          "base_uri": "https://localhost:8080/"
        },
        "id": "EIIVF9-KsvqN",
        "outputId": "705bb083-f002-4a38-ca2a-932f7396ff3d"
      },
      "outputs": [
        {
          "output_type": "stream",
          "name": "stdout",
          "text": [
            "--2022-08-09 21:39:44--  https://dl.fbaipublicfiles.com/fasttext/vectors-wiki/wiki.en.zip\n",
            "Resolving dl.fbaipublicfiles.com (dl.fbaipublicfiles.com)... 172.67.9.4, 104.22.75.142, 104.22.74.142, ...\n",
            "Connecting to dl.fbaipublicfiles.com (dl.fbaipublicfiles.com)|172.67.9.4|:443... connected.\n",
            "HTTP request sent, awaiting response... 200 OK\n",
            "Length: 10356881291 (9.6G) [application/zip]\n",
            "Saving to: ‘/root/.vector_cache/wiki.en.zip’\n",
            "\n",
            "wiki.en.zip         100%[===================>]   9.65G  32.1MB/s    in 5m 16s  \n",
            "\n",
            "2022-08-09 21:45:00 (31.3 MB/s) - ‘/root/.vector_cache/wiki.en.zip’ saved [10356881291/10356881291]\n",
            "\n",
            "Archive:  /root/.vector_cache/wiki.en.zip\n",
            "  inflating: /root/.vector_cache/wiki.en.vec  \n",
            "  inflating: /root/.vector_cache/wiki.en.bin  \n"
          ]
        }
      ],
      "source": [
        "!wget https://dl.fbaipublicfiles.com/fasttext/vectors-wiki/wiki.en.zip --directory-prefix=/root/.vector_cache\n",
        "!unzip /root/.vector_cache/wiki.en.zip -d /root/.vector_cache/\n",
        "!rm /root/.vector_cache/wiki.en.vec"
      ]
    },
    {
      "cell_type": "code",
      "execution_count": null,
      "metadata": {
        "id": "WJ37wi1HC9EJ"
      },
      "outputs": [],
      "source": [
        "'''train, validation, test = dm.data.process(\n",
        "    path='/content/drive/MyDrive/IC/ICReteste/Deepmatcher/TesteErros/TesteErrosLabel/Erros6_10/Datasets/Dirty/DBLP-GoogleScholar/',\n",
        "    train='joined_train.csv',\n",
        "    validation='joined_valid.csv',\n",
        "    test='joined_test_error.csv')'''"
      ]
    },
    {
      "cell_type": "markdown",
      "metadata": {
        "id": "4RCEIm8MQJO3"
      },
      "source": [
        "#### Peeking at processed data\n",
        "Let's take a look at how the processed data looks like. To do this, we get the raw `pandas` table corresponding to the processed training dataset object. "
      ]
    },
    {
      "cell_type": "code",
      "execution_count": null,
      "metadata": {
        "colab": {
          "base_uri": "https://localhost:8080/",
          "height": 583
        },
        "id": "qmkzAzWOQJO3",
        "outputId": "bae13193-d087-45a4-ed6b-e63e27b68782"
      },
      "outputs": [
        {
          "data": {
            "text/html": [
              "\n",
              "  <div id=\"df-8a46ffc0-5d59-4001-86a4-0b232ae21474\">\n",
              "    <div class=\"colab-df-container\">\n",
              "      <div>\n",
              "<style scoped>\n",
              "    .dataframe tbody tr th:only-of-type {\n",
              "        vertical-align: middle;\n",
              "    }\n",
              "\n",
              "    .dataframe tbody tr th {\n",
              "        vertical-align: top;\n",
              "    }\n",
              "\n",
              "    .dataframe thead th {\n",
              "        text-align: right;\n",
              "    }\n",
              "</style>\n",
              "<table border=\"1\" class=\"dataframe\">\n",
              "  <thead>\n",
              "    <tr style=\"text-align: right;\">\n",
              "      <th></th>\n",
              "      <th>label</th>\n",
              "      <th>left_title</th>\n",
              "      <th>left_authors</th>\n",
              "      <th>left_venue</th>\n",
              "      <th>left_year</th>\n",
              "      <th>right_title</th>\n",
              "      <th>right_authors</th>\n",
              "      <th>right_venue</th>\n",
              "      <th>right_year</th>\n",
              "      <th>id</th>\n",
              "    </tr>\n",
              "  </thead>\n",
              "  <tbody>\n",
              "    <tr>\n",
              "      <th>0</th>\n",
              "      <td>0</td>\n",
              "      <td>the demarcation protocol : a technique for mai...</td>\n",
              "      <td>d barbarс , h garcia-molina</td>\n",
              "      <td></td>\n",
              "      <td></td>\n",
              "      <td>local verification of global integrity constra...</td>\n",
              "      <td></td>\n",
              "      <td></td>\n",
              "      <td></td>\n",
              "      <td>2563_6425</td>\n",
              "    </tr>\n",
              "    <tr>\n",
              "      <th>1</th>\n",
              "      <td>0</td>\n",
              "      <td>temporal conditions and integrity constraints ...</td>\n",
              "      <td>a sistla , o wolfson</td>\n",
              "      <td></td>\n",
              "      <td>1995.0</td>\n",
              "      <td>local verification of global integrity constra...</td>\n",
              "      <td></td>\n",
              "      <td></td>\n",
              "      <td></td>\n",
              "      <td>1610_6425</td>\n",
              "    </tr>\n",
              "    <tr>\n",
              "      <th>2</th>\n",
              "      <td>0</td>\n",
              "      <td>the role of integrity constraints in database ...</td>\n",
              "      <td>m vermeer , p apers</td>\n",
              "      <td>vldb</td>\n",
              "      <td></td>\n",
              "      <td>local verification of global integrity constra...</td>\n",
              "      <td></td>\n",
              "      <td></td>\n",
              "      <td></td>\n",
              "      <td>1999_6425</td>\n",
              "    </tr>\n",
              "    <tr>\n",
              "      <th>3</th>\n",
              "      <td>1</td>\n",
              "      <td>the demarcation protocol : a technique for mai...</td>\n",
              "      <td>d barbarс , h garcia-molina</td>\n",
              "      <td></td>\n",
              "      <td></td>\n",
              "      <td>protocol : a technique for maintaining linear ...</td>\n",
              "      <td>, h garcia-molina</td>\n",
              "      <td></td>\n",
              "      <td></td>\n",
              "      <td>2563_44470</td>\n",
              "    </tr>\n",
              "    <tr>\n",
              "      <th>4</th>\n",
              "      <td>0</td>\n",
              "      <td>the demarcation protocol : a technique for mai...</td>\n",
              "      <td>d barbarс , h garcia-molina</td>\n",
              "      <td></td>\n",
              "      <td></td>\n",
              "      <td>a locking protocol for resource coordination i...</td>\n",
              "      <td>da menasce , gj popek , rr muntz</td>\n",
              "      <td></td>\n",
              "      <td>1980.0</td>\n",
              "      <td>2563_55077</td>\n",
              "    </tr>\n",
              "  </tbody>\n",
              "</table>\n",
              "</div>\n",
              "      <button class=\"colab-df-convert\" onclick=\"convertToInteractive('df-8a46ffc0-5d59-4001-86a4-0b232ae21474')\"\n",
              "              title=\"Convert this dataframe to an interactive table.\"\n",
              "              style=\"display:none;\">\n",
              "        \n",
              "  <svg xmlns=\"http://www.w3.org/2000/svg\" height=\"24px\"viewBox=\"0 0 24 24\"\n",
              "       width=\"24px\">\n",
              "    <path d=\"M0 0h24v24H0V0z\" fill=\"none\"/>\n",
              "    <path d=\"M18.56 5.44l.94 2.06.94-2.06 2.06-.94-2.06-.94-.94-2.06-.94 2.06-2.06.94zm-11 1L8.5 8.5l.94-2.06 2.06-.94-2.06-.94L8.5 2.5l-.94 2.06-2.06.94zm10 10l.94 2.06.94-2.06 2.06-.94-2.06-.94-.94-2.06-.94 2.06-2.06.94z\"/><path d=\"M17.41 7.96l-1.37-1.37c-.4-.4-.92-.59-1.43-.59-.52 0-1.04.2-1.43.59L10.3 9.45l-7.72 7.72c-.78.78-.78 2.05 0 2.83L4 21.41c.39.39.9.59 1.41.59.51 0 1.02-.2 1.41-.59l7.78-7.78 2.81-2.81c.8-.78.8-2.07 0-2.86zM5.41 20L4 18.59l7.72-7.72 1.47 1.35L5.41 20z\"/>\n",
              "  </svg>\n",
              "      </button>\n",
              "      \n",
              "  <style>\n",
              "    .colab-df-container {\n",
              "      display:flex;\n",
              "      flex-wrap:wrap;\n",
              "      gap: 12px;\n",
              "    }\n",
              "\n",
              "    .colab-df-convert {\n",
              "      background-color: #E8F0FE;\n",
              "      border: none;\n",
              "      border-radius: 50%;\n",
              "      cursor: pointer;\n",
              "      display: none;\n",
              "      fill: #1967D2;\n",
              "      height: 32px;\n",
              "      padding: 0 0 0 0;\n",
              "      width: 32px;\n",
              "    }\n",
              "\n",
              "    .colab-df-convert:hover {\n",
              "      background-color: #E2EBFA;\n",
              "      box-shadow: 0px 1px 2px rgba(60, 64, 67, 0.3), 0px 1px 3px 1px rgba(60, 64, 67, 0.15);\n",
              "      fill: #174EA6;\n",
              "    }\n",
              "\n",
              "    [theme=dark] .colab-df-convert {\n",
              "      background-color: #3B4455;\n",
              "      fill: #D2E3FC;\n",
              "    }\n",
              "\n",
              "    [theme=dark] .colab-df-convert:hover {\n",
              "      background-color: #434B5C;\n",
              "      box-shadow: 0px 1px 3px 1px rgba(0, 0, 0, 0.15);\n",
              "      filter: drop-shadow(0px 1px 2px rgba(0, 0, 0, 0.3));\n",
              "      fill: #FFFFFF;\n",
              "    }\n",
              "  </style>\n",
              "\n",
              "      <script>\n",
              "        const buttonEl =\n",
              "          document.querySelector('#df-8a46ffc0-5d59-4001-86a4-0b232ae21474 button.colab-df-convert');\n",
              "        buttonEl.style.display =\n",
              "          google.colab.kernel.accessAllowed ? 'block' : 'none';\n",
              "\n",
              "        async function convertToInteractive(key) {\n",
              "          const element = document.querySelector('#df-8a46ffc0-5d59-4001-86a4-0b232ae21474');\n",
              "          const dataTable =\n",
              "            await google.colab.kernel.invokeFunction('convertToInteractive',\n",
              "                                                     [key], {});\n",
              "          if (!dataTable) return;\n",
              "\n",
              "          const docLinkHtml = 'Like what you see? Visit the ' +\n",
              "            '<a target=\"_blank\" href=https://colab.research.google.com/notebooks/data_table.ipynb>data table notebook</a>'\n",
              "            + ' to learn more about interactive tables.';\n",
              "          element.innerHTML = '';\n",
              "          dataTable['output_type'] = 'display_data';\n",
              "          await google.colab.output.renderOutput(dataTable, element);\n",
              "          const docLink = document.createElement('div');\n",
              "          docLink.innerHTML = docLinkHtml;\n",
              "          element.appendChild(docLink);\n",
              "        }\n",
              "      </script>\n",
              "    </div>\n",
              "  </div>\n",
              "  "
            ],
            "text/plain": [
              "   label                                         left_title  \\\n",
              "0      0  the demarcation protocol : a technique for mai...   \n",
              "1      0  temporal conditions and integrity constraints ...   \n",
              "2      0  the role of integrity constraints in database ...   \n",
              "3      1  the demarcation protocol : a technique for mai...   \n",
              "4      0  the demarcation protocol : a technique for mai...   \n",
              "\n",
              "                  left_authors left_venue left_year  \\\n",
              "0  d barbarс , h garcia-molina                        \n",
              "1         a sistla , o wolfson               1995.0   \n",
              "2          m vermeer , p apers       vldb             \n",
              "3  d barbarс , h garcia-molina                        \n",
              "4  d barbarс , h garcia-molina                        \n",
              "\n",
              "                                         right_title  \\\n",
              "0  local verification of global integrity constra...   \n",
              "1  local verification of global integrity constra...   \n",
              "2  local verification of global integrity constra...   \n",
              "3  protocol : a technique for maintaining linear ...   \n",
              "4  a locking protocol for resource coordination i...   \n",
              "\n",
              "                      right_authors right_venue right_year          id  \n",
              "0                                                            2563_6425  \n",
              "1                                                            1610_6425  \n",
              "2                                                            1999_6425  \n",
              "3                 , h garcia-molina                         2563_44470  \n",
              "4  da menasce , gj popek , rr muntz                 1980.0  2563_55077  "
            ]
          },
          "execution_count": 4,
          "metadata": {},
          "output_type": "execute_result"
        }
      ],
      "source": [
        "'''train_table = train.get_raw_table()\n",
        "train_table.head()'''"
      ]
    },
    {
      "cell_type": "markdown",
      "metadata": {
        "id": "hpo4JpshQJO6"
      },
      "source": [
        "The processed attribute values have been tokenized and lowercased so they may not look exactly the same as the input training data. These modifications help the neural network generalize better, i.e., perform better on data not trained on. "
      ]
    },
    {
      "cell_type": "markdown",
      "metadata": {
        "id": "8mr3oVzuQJO6"
      },
      "source": [
        "## Step 2. Define neural network model\n",
        "\n",
        "In this step you tell `deepmatcher` what kind of neural network you would like to use for entity matching. The easiest way to do this is to use one of the several kinds of neural network models that comes built-in with `deepmatcher`. To use a built-in network, construct a `dm.MatchingModel` as follows:\n",
        "\n",
        "`model = dm.MatchingModel(attr_summarizer='<TYPE>')`\n",
        "\n",
        "where `<TYPE>` is one of `sif`, `rnn`, `attention` or `hybrid`. If you are not familiar with what these mean, we strongly recommend taking a look at either **[slides from our talk on deepmatcher](http://bit.do/deepmatcher-talk)** for a high level overview, or **[our paper](http://pages.cs.wisc.edu/~anhai/papers1/deepmatcher-sigmod18.pdf)** for a more detailed explanation. Here we give briefly describe the intuition behind these four model types:\n",
        "* **sif:** This model considers the **words** present in each attribute value pair to determine a match or non-match. It does not take word order into account.\n",
        "* **rnn:** This model considers the **sequences of words** present in each attribute value pair to determine a match or non-match.\n",
        "* **attention:** This model considers the **alignment of words** present in each attribute value pair to determine a match or non-match. It does not take word order into account.\n",
        "* **hybrid:** This model considers the **alignment of sequences of words** present in each attribute value pair to determine a match or non-match. This is the default.\n",
        "\n",
        "`deepmatcher` is highly customizable and allows you to tune almost every aspect of the neural network model for your application scenario. **[This tutorial](https://nbviewer.jupyter.org/github/anhaidgroup/deepmatcher/blob/master/examples/matching_models.ipynb)** discusses the structure of `MatchingModel`s and how they can be customized.\n",
        "\n",
        "For this tutorial, let's create a `hybrid` model for entity matching:"
      ]
    },
    {
      "cell_type": "code",
      "execution_count": null,
      "metadata": {
        "id": "NwUE2jMXQJO7"
      },
      "outputs": [],
      "source": [
        "'''model = dm.MatchingModel(attr_summarizer='attention')'''"
      ]
    },
    {
      "cell_type": "markdown",
      "metadata": {
        "id": "7iLAHpuVQJO9"
      },
      "source": [
        "## Step 3. Train model\n",
        "\n",
        "Next, we train the defined neural network model using the processed training and validation data. To do so, we call the `run_train` method which takes the following basic parameters:\n",
        "\n",
        "* **train:** The processed training dataset object (of type `MatchingDataset`).\n",
        "* **validation:** The processed validation dataset object (of type `MatchingDataset`).\n",
        "* **epochs:** Number of times to go over the entire `train` data for training the model.\n",
        "* **batch_size:** Number of labeled examples (tuple pairs) to use for each training step. This value may be increased if you have a lot of training data and would like to speed up training. The optimal value is dataset dependent.\n",
        "* **best_save_path:** Path to save the best model.\n",
        "* **pos_neg_ratio**: The ratio of the weight of positive examples (matches) to weight of negative examples (non-matches). This value should be increased if you have fewer matches than non-matches in your data. The optimal value is dataset dependent.\n",
        "\n",
        "Many other aspects of the training algorithm can be customized. For details on this, please refer the API documentation for **[run_train]()**"
      ]
    },
    {
      "cell_type": "code",
      "execution_count": null,
      "metadata": {
        "id": "RIZclsK1QJO-"
      },
      "outputs": [],
      "source": [
        "'''model.run_train(\n",
        "    train,\n",
        "    validation,\n",
        "    epochs=15,\n",
        "    batch_size=32,\n",
        "    best_save_path='attention_model.pth',\n",
        "    pos_neg_ratio=3)'''"
      ]
    },
    {
      "cell_type": "markdown",
      "metadata": {
        "id": "0Qwnr7VZ3trW"
      },
      "source": [
        "## Novos Testes"
      ]
    },
    {
      "cell_type": "code",
      "execution_count": null,
      "metadata": {
        "id": "oo_L6Ddt4oEN",
        "colab": {
          "base_uri": "https://localhost:8080/"
        },
        "outputId": "cf82ffcf-51d7-4fd7-ab8a-cce56deeb280"
      },
      "outputs": [
        {
          "output_type": "stream",
          "name": "stdout",
          "text": [
            "Cloning into 'IC'...\n",
            "remote: Enumerating objects: 985, done.\u001b[K\n",
            "remote: Counting objects: 100% (55/55), done.\u001b[K\n",
            "remote: Compressing objects: 100% (51/51), done.\u001b[K\n",
            "remote: Total 985 (delta 16), reused 7 (delta 0), pack-reused 930\u001b[K\n",
            "Receiving objects: 100% (985/985), 252.10 MiB | 32.50 MiB/s, done.\n",
            "Resolving deltas: 100% (600/600), done.\n",
            "Checking out files: 100% (1274/1274), done.\n"
          ]
        }
      ],
      "source": [
        "!git clone https://github.com/pauloh48/IC.git"
      ]
    },
    {
      "cell_type": "markdown",
      "metadata": {
        "id": "3vKq-OdF309e"
      },
      "source": [
        "### RNN"
      ]
    },
    {
      "cell_type": "markdown",
      "metadata": {
        "id": "fAVxQf6N3-T9"
      },
      "source": [
        "#### STRUCTURED"
      ]
    },
    {
      "cell_type": "markdown",
      "metadata": {
        "id": "jKcaukyN4dkT"
      },
      "source": [
        "##### Amazon-Google"
      ]
    },
    {
      "cell_type": "code",
      "execution_count": 59,
      "metadata": {
        "id": "DhNKPMVA4YwE"
      },
      "outputs": [],
      "source": [
        "train, validation, test = dm.data.process(\n",
        "    path='/content/IC/datasesErros/FMedium_50_1_2/Structured/Amazon-Google/',\n",
        "    train='joined_train.csv',\n",
        "    validation='joined_valid.csv',\n",
        "    test='joined_test.csv')"
      ]
    },
    {
      "cell_type": "code",
      "execution_count": 60,
      "metadata": {
        "id": "_HYNTpDo4BIN"
      },
      "outputs": [],
      "source": [
        "model = dm.MatchingModel(attr_summarizer='rnn')"
      ]
    },
    {
      "cell_type": "code",
      "execution_count": 61,
      "metadata": {
        "id": "BJTNu1u-4I7m",
        "colab": {
          "base_uri": "https://localhost:8080/"
        },
        "outputId": "a90e08c6-5481-4e9f-98ff-836b2c405834"
      },
      "outputs": [
        {
          "output_type": "stream",
          "name": "stdout",
          "text": [
            "* Number of trainable parameters: 1762802\n",
            "===>  TRAIN Epoch 1\n"
          ]
        },
        {
          "output_type": "stream",
          "name": "stderr",
          "text": [
            "/usr/local/lib/python3.7/dist-packages/torch/nn/modules/module.py:949: UserWarning: Using non-full backward hooks on a Module that does not take as input a single Tensor or a tuple of Tensors is deprecated and will be removed in future versions. This hook will be missing some of the grad_input. Please use register_full_backward_hook to get the documented behavior.\n",
            "  warnings.warn(\"Using non-full backward hooks on a Module that does not take as input a \"\n",
            "/usr/local/lib/python3.7/dist-packages/torch/nn/modules/module.py:974: UserWarning: Using a non-full backward hook when the forward contains multiple autograd Nodes is deprecated and will be removed in future versions. This hook will be missing some grad_input. Please use register_full_backward_hook to get the documented behavior.\n",
            "  warnings.warn(\"Using a non-full backward hook when the forward contains multiple autograd Nodes \"\n",
            "/usr/local/lib/python3.7/dist-packages/torch/nn/modules/module.py:939: UserWarning: Using non-full backward hooks on a Module that does not return a single Tensor or a tuple of Tensors is deprecated and will be removed in future versions. This hook will be missing some of the grad_output. Please use register_full_backward_hook to get the documented behavior.\n",
            "  warnings.warn(\"Using non-full backward hooks on a Module that does not return a \"\n",
            "/usr/local/lib/python3.7/dist-packages/torch/nn/functional.py:2742: UserWarning: reduction: 'mean' divides the total loss by both the batch size and the support size.'batchmean' divides only by the batch size, and aligns with the KL div math definition.'mean' will be changed to behave the same as 'batchmean' in the next major release.\n",
            "  \"reduction: 'mean' divides the total loss by both the batch size and the support size.\"\n",
            "0% [██████████████████████████████] 100% | ETA: 00:00:00\n",
            "Total time elapsed: 00:00:11\n"
          ]
        },
        {
          "output_type": "stream",
          "name": "stdout",
          "text": [
            "Finished Epoch 1 || Run Time:    6.4 | Load Time:    5.2 || F1:  22.13 | Prec:  40.93 | Rec:  15.16 || Ex/s: 595.91\n",
            "\n",
            "===>  EVAL Epoch 1\n"
          ]
        },
        {
          "output_type": "stream",
          "name": "stderr",
          "text": [
            "0% [██████████████] 100% | ETA: 00:00:00\n",
            "Total time elapsed: 00:00:02\n"
          ]
        },
        {
          "output_type": "stream",
          "name": "stdout",
          "text": [
            "Finished Epoch 1 || Run Time:    1.0 | Load Time:    1.6 || F1:  44.85 | Prec:  36.68 | Rec:  57.69 || Ex/s: 885.99\n",
            "\n",
            "* Best F1: tensor(44.8505, device='cuda:0')\n",
            "Saving best model...\n",
            "Done.\n",
            "---------------------\n",
            "\n",
            "===>  TRAIN Epoch 2\n"
          ]
        },
        {
          "output_type": "stream",
          "name": "stderr",
          "text": [
            "0% [██████████████████████████████] 100% | ETA: 00:00:00\n",
            "Total time elapsed: 00:00:11\n"
          ]
        },
        {
          "output_type": "stream",
          "name": "stdout",
          "text": [
            "Finished Epoch 2 || Run Time:    6.3 | Load Time:    5.1 || F1:  56.63 | Prec:  49.78 | Rec:  65.67 || Ex/s: 599.87\n",
            "\n",
            "===>  EVAL Epoch 2\n"
          ]
        },
        {
          "output_type": "stream",
          "name": "stderr",
          "text": [
            "0% [██████████████] 100% | ETA: 00:00:00\n",
            "Total time elapsed: 00:00:02\n"
          ]
        },
        {
          "output_type": "stream",
          "name": "stdout",
          "text": [
            "Finished Epoch 2 || Run Time:    0.9 | Load Time:    1.6 || F1:  48.48 | Prec:  41.59 | Rec:  58.12 || Ex/s: 889.81\n",
            "\n",
            "* Best F1: tensor(48.4848, device='cuda:0')\n",
            "Saving best model...\n",
            "Done.\n",
            "---------------------\n",
            "\n",
            "===>  TRAIN Epoch 3\n"
          ]
        },
        {
          "output_type": "stream",
          "name": "stderr",
          "text": [
            "0% [██████████████████████████████] 100% | ETA: 00:00:00\n",
            "Total time elapsed: 00:00:11\n"
          ]
        },
        {
          "output_type": "stream",
          "name": "stdout",
          "text": [
            "Finished Epoch 3 || Run Time:    6.2 | Load Time:    5.1 || F1:  71.90 | Prec:  62.94 | Rec:  83.83 || Ex/s: 611.86\n",
            "\n",
            "===>  EVAL Epoch 3\n"
          ]
        },
        {
          "output_type": "stream",
          "name": "stderr",
          "text": [
            "0% [██████████████] 100% | ETA: 00:00:00\n",
            "Total time elapsed: 00:00:02\n"
          ]
        },
        {
          "output_type": "stream",
          "name": "stdout",
          "text": [
            "Finished Epoch 3 || Run Time:    0.9 | Load Time:    1.6 || F1:  45.48 | Prec:  57.52 | Rec:  37.61 || Ex/s: 890.71\n",
            "\n",
            "---------------------\n",
            "\n",
            "===>  TRAIN Epoch 4\n"
          ]
        },
        {
          "output_type": "stream",
          "name": "stderr",
          "text": [
            "0% [██████████████████████████████] 100% | ETA: 00:00:00\n",
            "Total time elapsed: 00:00:11\n"
          ]
        },
        {
          "output_type": "stream",
          "name": "stdout",
          "text": [
            "Finished Epoch 4 || Run Time:    6.4 | Load Time:    5.1 || F1:  82.65 | Prec:  75.03 | Rec:  91.99 || Ex/s: 599.25\n",
            "\n",
            "===>  EVAL Epoch 4\n"
          ]
        },
        {
          "output_type": "stream",
          "name": "stderr",
          "text": [
            "0% [██████████████] 100% | ETA: 00:00:00\n",
            "Total time elapsed: 00:00:02\n"
          ]
        },
        {
          "output_type": "stream",
          "name": "stdout",
          "text": [
            "Finished Epoch 4 || Run Time:    1.0 | Load Time:    1.7 || F1:  45.52 | Prec:  56.69 | Rec:  38.03 || Ex/s: 841.70\n",
            "\n",
            "---------------------\n",
            "\n",
            "===>  TRAIN Epoch 5\n"
          ]
        },
        {
          "output_type": "stream",
          "name": "stderr",
          "text": [
            "0% [██████████████████████████████] 100% | ETA: 00:00:00\n",
            "Total time elapsed: 00:00:11\n"
          ]
        },
        {
          "output_type": "stream",
          "name": "stdout",
          "text": [
            "Finished Epoch 5 || Run Time:    6.5 | Load Time:    5.2 || F1:  88.04 | Prec:  82.58 | Rec:  94.28 || Ex/s: 586.54\n",
            "\n",
            "===>  EVAL Epoch 5\n"
          ]
        },
        {
          "output_type": "stream",
          "name": "stderr",
          "text": [
            "0% [██████████████] 100% | ETA: 00:00:00\n",
            "Total time elapsed: 00:00:02\n"
          ]
        },
        {
          "output_type": "stream",
          "name": "stdout",
          "text": [
            "Finished Epoch 5 || Run Time:    1.0 | Load Time:    1.7 || F1:  48.46 | Prec:  50.00 | Rec:  47.01 || Ex/s: 855.24\n",
            "\n",
            "---------------------\n",
            "\n",
            "===>  TRAIN Epoch 6\n"
          ]
        },
        {
          "output_type": "stream",
          "name": "stderr",
          "text": [
            "0% [██████████████████████████████] 100% | ETA: 00:00:00\n",
            "Total time elapsed: 00:00:12\n"
          ]
        },
        {
          "output_type": "stream",
          "name": "stdout",
          "text": [
            "Finished Epoch 6 || Run Time:    7.1 | Load Time:    5.5 || F1:  92.54 | Prec:  88.71 | Rec:  96.71 || Ex/s: 545.91\n",
            "\n",
            "===>  EVAL Epoch 6\n"
          ]
        },
        {
          "output_type": "stream",
          "name": "stderr",
          "text": [
            "0% [██████████████] 100% | ETA: 00:00:00\n",
            "Total time elapsed: 00:00:02\n"
          ]
        },
        {
          "output_type": "stream",
          "name": "stdout",
          "text": [
            "Finished Epoch 6 || Run Time:    0.9 | Load Time:    1.6 || F1:  44.50 | Prec:  49.22 | Rec:  40.60 || Ex/s: 892.59\n",
            "\n",
            "---------------------\n",
            "\n",
            "===>  TRAIN Epoch 7\n"
          ]
        },
        {
          "output_type": "stream",
          "name": "stderr",
          "text": [
            "0% [██████████████████████████████] 100% | ETA: 00:00:00\n",
            "Total time elapsed: 00:00:11\n"
          ]
        },
        {
          "output_type": "stream",
          "name": "stdout",
          "text": [
            "Finished Epoch 7 || Run Time:    6.2 | Load Time:    5.1 || F1:  94.85 | Prec:  92.40 | Rec:  97.42 || Ex/s: 607.04\n",
            "\n",
            "===>  EVAL Epoch 7\n"
          ]
        },
        {
          "output_type": "stream",
          "name": "stderr",
          "text": [
            "0% [██████████████] 100% | ETA: 00:00:00\n",
            "Total time elapsed: 00:00:02\n"
          ]
        },
        {
          "output_type": "stream",
          "name": "stdout",
          "text": [
            "Finished Epoch 7 || Run Time:    1.1 | Load Time:    1.7 || F1:  50.43 | Prec:  50.43 | Rec:  50.43 || Ex/s: 838.56\n",
            "\n",
            "* Best F1: tensor(50.4273, device='cuda:0')\n",
            "Saving best model...\n",
            "Done.\n",
            "---------------------\n",
            "\n",
            "===>  TRAIN Epoch 8\n"
          ]
        },
        {
          "output_type": "stream",
          "name": "stderr",
          "text": [
            "0% [██████████████████████████████] 100% | ETA: 00:00:00\n",
            "Total time elapsed: 00:00:11\n"
          ]
        },
        {
          "output_type": "stream",
          "name": "stdout",
          "text": [
            "Finished Epoch 8 || Run Time:    6.3 | Load Time:    5.1 || F1:  96.10 | Prec:  93.62 | Rec:  98.71 || Ex/s: 601.62\n",
            "\n",
            "===>  EVAL Epoch 8\n"
          ]
        },
        {
          "output_type": "stream",
          "name": "stderr",
          "text": [
            "0% [██████████████] 100% | ETA: 00:00:00\n",
            "Total time elapsed: 00:00:02\n"
          ]
        },
        {
          "output_type": "stream",
          "name": "stdout",
          "text": [
            "Finished Epoch 8 || Run Time:    0.9 | Load Time:    1.6 || F1:  46.30 | Prec:  50.51 | Rec:  42.74 || Ex/s: 908.38\n",
            "\n",
            "---------------------\n",
            "\n",
            "===>  TRAIN Epoch 9\n"
          ]
        },
        {
          "output_type": "stream",
          "name": "stderr",
          "text": [
            "0% [██████████████████████████████] 100% | ETA: 00:00:00\n",
            "Total time elapsed: 00:00:11\n"
          ]
        },
        {
          "output_type": "stream",
          "name": "stdout",
          "text": [
            "Finished Epoch 9 || Run Time:    6.3 | Load Time:    5.1 || F1:  97.68 | Prec:  95.99 | Rec:  99.43 || Ex/s: 601.72\n",
            "\n",
            "===>  EVAL Epoch 9\n"
          ]
        },
        {
          "output_type": "stream",
          "name": "stderr",
          "text": [
            "0% [██████████████] 100% | ETA: 00:00:00\n",
            "Total time elapsed: 00:00:02\n"
          ]
        },
        {
          "output_type": "stream",
          "name": "stdout",
          "text": [
            "Finished Epoch 9 || Run Time:    1.0 | Load Time:    1.7 || F1:  43.46 | Prec:  56.08 | Rec:  35.47 || Ex/s: 848.69\n",
            "\n",
            "---------------------\n",
            "\n",
            "===>  TRAIN Epoch 10\n"
          ]
        },
        {
          "output_type": "stream",
          "name": "stderr",
          "text": [
            "0% [██████████████████████████████] 100% | ETA: 00:00:00\n",
            "Total time elapsed: 00:00:11\n"
          ]
        },
        {
          "output_type": "stream",
          "name": "stdout",
          "text": [
            "Finished Epoch 10 || Run Time:    6.5 | Load Time:    5.2 || F1:  98.17 | Prec:  96.80 | Rec:  99.57 || Ex/s: 589.49\n",
            "\n",
            "===>  EVAL Epoch 10\n"
          ]
        },
        {
          "output_type": "stream",
          "name": "stderr",
          "text": [
            "0% [██████████████] 100% | ETA: 00:00:00\n",
            "Total time elapsed: 00:00:02\n"
          ]
        },
        {
          "output_type": "stream",
          "name": "stdout",
          "text": [
            "Finished Epoch 10 || Run Time:    1.0 | Load Time:    1.6 || F1:  42.25 | Prec:  56.43 | Rec:  33.76 || Ex/s: 887.48\n",
            "\n",
            "---------------------\n",
            "\n",
            "===>  TRAIN Epoch 11\n"
          ]
        },
        {
          "output_type": "stream",
          "name": "stderr",
          "text": [
            "0% [██████████████████████████████] 100% | ETA: 00:00:00\n",
            "Total time elapsed: 00:00:11\n"
          ]
        },
        {
          "output_type": "stream",
          "name": "stdout",
          "text": [
            "Finished Epoch 11 || Run Time:    6.2 | Load Time:    5.1 || F1:  98.73 | Prec:  97.76 | Rec:  99.71 || Ex/s: 605.49\n",
            "\n",
            "===>  EVAL Epoch 11\n"
          ]
        },
        {
          "output_type": "stream",
          "name": "stderr",
          "text": [
            "0% [██████████████] 100% | ETA: 00:00:00\n",
            "Total time elapsed: 00:00:02\n"
          ]
        },
        {
          "output_type": "stream",
          "name": "stdout",
          "text": [
            "Finished Epoch 11 || Run Time:    1.0 | Load Time:    1.6 || F1:  44.27 | Prec:  56.67 | Rec:  36.32 || Ex/s: 875.96\n",
            "\n",
            "---------------------\n",
            "\n",
            "===>  TRAIN Epoch 12\n"
          ]
        },
        {
          "output_type": "stream",
          "name": "stderr",
          "text": [
            "0% [██████████████████████████████] 100% | ETA: 00:00:00\n",
            "Total time elapsed: 00:00:11\n"
          ]
        },
        {
          "output_type": "stream",
          "name": "stdout",
          "text": [
            "Finished Epoch 12 || Run Time:    6.3 | Load Time:    5.1 || F1:  99.15 | Prec:  98.59 | Rec:  99.71 || Ex/s: 604.40\n",
            "\n",
            "===>  EVAL Epoch 12\n"
          ]
        },
        {
          "output_type": "stream",
          "name": "stderr",
          "text": [
            "0% [██████████████] 100% | ETA: 00:00:00\n",
            "Total time elapsed: 00:00:02\n"
          ]
        },
        {
          "output_type": "stream",
          "name": "stdout",
          "text": [
            "Finished Epoch 12 || Run Time:    1.0 | Load Time:    1.6 || F1:  43.59 | Prec:  54.49 | Rec:  36.32 || Ex/s: 881.10\n",
            "\n",
            "---------------------\n",
            "\n",
            "===>  TRAIN Epoch 13\n"
          ]
        },
        {
          "output_type": "stream",
          "name": "stderr",
          "text": [
            "0% [██████████████████████████████] 100% | ETA: 00:00:00\n",
            "Total time elapsed: 00:00:11\n"
          ]
        },
        {
          "output_type": "stream",
          "name": "stdout",
          "text": [
            "Finished Epoch 13 || Run Time:    6.6 | Load Time:    5.3 || F1:  99.43 | Prec:  99.01 | Rec:  99.86 || Ex/s: 579.13\n",
            "\n",
            "===>  EVAL Epoch 13\n"
          ]
        },
        {
          "output_type": "stream",
          "name": "stderr",
          "text": [
            "0% [██████████████] 100% | ETA: 00:00:00\n",
            "Total time elapsed: 00:00:02\n"
          ]
        },
        {
          "output_type": "stream",
          "name": "stdout",
          "text": [
            "Finished Epoch 13 || Run Time:    0.9 | Load Time:    1.6 || F1:  43.26 | Prec:  53.46 | Rec:  36.32 || Ex/s: 909.49\n",
            "\n",
            "---------------------\n",
            "\n",
            "===>  TRAIN Epoch 14\n"
          ]
        },
        {
          "output_type": "stream",
          "name": "stderr",
          "text": [
            "0% [██████████████████████████████] 100% | ETA: 00:00:00\n",
            "Total time elapsed: 00:00:11\n"
          ]
        },
        {
          "output_type": "stream",
          "name": "stdout",
          "text": [
            "Finished Epoch 14 || Run Time:    6.1 | Load Time:    5.0 || F1:  99.50 | Prec:  99.15 | Rec:  99.86 || Ex/s: 614.52\n",
            "\n",
            "===>  EVAL Epoch 14\n"
          ]
        },
        {
          "output_type": "stream",
          "name": "stderr",
          "text": [
            "0% [██████████████] 100% | ETA: 00:00:00\n",
            "Total time elapsed: 00:00:02\n"
          ]
        },
        {
          "output_type": "stream",
          "name": "stdout",
          "text": [
            "Finished Epoch 14 || Run Time:    1.0 | Load Time:    1.6 || F1:  43.15 | Prec:  53.12 | Rec:  36.32 || Ex/s: 894.08\n",
            "\n",
            "---------------------\n",
            "\n",
            "===>  TRAIN Epoch 15\n"
          ]
        },
        {
          "output_type": "stream",
          "name": "stderr",
          "text": [
            "0% [██████████████████████████████] 100% | ETA: 00:00:00\n",
            "Total time elapsed: 00:00:11\n"
          ]
        },
        {
          "output_type": "stream",
          "name": "stdout",
          "text": [
            "Finished Epoch 15 || Run Time:    6.5 | Load Time:    5.2 || F1:  99.57 | Prec:  99.29 | Rec:  99.86 || Ex/s: 588.37\n",
            "\n",
            "===>  EVAL Epoch 15\n"
          ]
        },
        {
          "output_type": "stream",
          "name": "stderr",
          "text": [
            "0% [██████████████] 100% | ETA: 00:00:00\n",
            "Total time elapsed: 00:00:02\n"
          ]
        },
        {
          "output_type": "stream",
          "name": "stdout",
          "text": [
            "Finished Epoch 15 || Run Time:    1.0 | Load Time:    1.7 || F1:  43.15 | Prec:  53.12 | Rec:  36.32 || Ex/s: 848.52\n",
            "\n",
            "---------------------\n",
            "\n",
            "Loading best model...\n",
            "Training done.\n"
          ]
        },
        {
          "output_type": "execute_result",
          "data": {
            "text/plain": [
              "tensor(50.4273, device='cuda:0')"
            ]
          },
          "metadata": {},
          "execution_count": 61
        }
      ],
      "source": [
        "model.run_train(\n",
        "    train,\n",
        "    validation,\n",
        "    epochs=15,\n",
        "    batch_size=32,\n",
        "    best_save_path='rnn_model.pth',\n",
        "    pos_neg_ratio=3)"
      ]
    },
    {
      "cell_type": "code",
      "execution_count": 62,
      "metadata": {
        "id": "E6vG2R6E3w81",
        "colab": {
          "base_uri": "https://localhost:8080/"
        },
        "outputId": "7c1d1c40-d960-4d19-b359-35bb24b09b8b"
      },
      "outputs": [
        {
          "output_type": "stream",
          "name": "stdout",
          "text": [
            "===>  EVAL Epoch 7\n"
          ]
        },
        {
          "output_type": "stream",
          "name": "stderr",
          "text": [
            "/usr/local/lib/python3.7/dist-packages/torch/nn/modules/module.py:949: UserWarning: Using non-full backward hooks on a Module that does not take as input a single Tensor or a tuple of Tensors is deprecated and will be removed in future versions. This hook will be missing some of the grad_input. Please use register_full_backward_hook to get the documented behavior.\n",
            "  warnings.warn(\"Using non-full backward hooks on a Module that does not take as input a \"\n",
            "/usr/local/lib/python3.7/dist-packages/torch/nn/modules/module.py:939: UserWarning: Using non-full backward hooks on a Module that does not return a single Tensor or a tuple of Tensors is deprecated and will be removed in future versions. This hook will be missing some of the grad_output. Please use register_full_backward_hook to get the documented behavior.\n",
            "  warnings.warn(\"Using non-full backward hooks on a Module that does not return a \"\n",
            "/usr/local/lib/python3.7/dist-packages/torch/nn/modules/module.py:974: UserWarning: Using a non-full backward hook when the forward contains multiple autograd Nodes is deprecated and will be removed in future versions. This hook will be missing some grad_input. Please use register_full_backward_hook to get the documented behavior.\n",
            "  warnings.warn(\"Using a non-full backward hook when the forward contains multiple autograd Nodes \"\n",
            "0% [██████████████] 100% | ETA: 00:00:00\n",
            "Total time elapsed: 00:00:02\n"
          ]
        },
        {
          "output_type": "stream",
          "name": "stdout",
          "text": [
            "Finished Epoch 7 || Run Time:    1.0 | Load Time:    1.7 || F1:  53.02 | Prec:  53.48 | Rec:  52.56 || Ex/s: 843.96\n",
            "\n"
          ]
        },
        {
          "output_type": "execute_result",
          "data": {
            "text/plain": [
              "tensor(53.0172, device='cuda:0')"
            ]
          },
          "metadata": {},
          "execution_count": 62
        }
      ],
      "source": [
        "# Compute F1 on test set\n",
        "model.run_eval(test)"
      ]
    },
    {
      "cell_type": "markdown",
      "metadata": {
        "id": "5FgaGRh85u3W"
      },
      "source": [
        "##### Beer"
      ]
    },
    {
      "cell_type": "code",
      "execution_count": 63,
      "metadata": {
        "id": "6FIw9z855u3g"
      },
      "outputs": [],
      "source": [
        "train, validation, test = dm.data.process(\n",
        "    path='/content/IC/datasesErros/FMedium_50_1_2/Structured/Beer/',\n",
        "    train='joined_train.csv',\n",
        "    validation='joined_valid.csv',\n",
        "    test='joined_test.csv')"
      ]
    },
    {
      "cell_type": "code",
      "execution_count": 64,
      "metadata": {
        "id": "hb0ZCvlg5u3h"
      },
      "outputs": [],
      "source": [
        "model = dm.MatchingModel(attr_summarizer='rnn')"
      ]
    },
    {
      "cell_type": "code",
      "execution_count": 65,
      "metadata": {
        "id": "UtG97gkc5u3h",
        "colab": {
          "base_uri": "https://localhost:8080/"
        },
        "outputId": "ad99035d-3321-42a7-e188-062d92fa92da"
      },
      "outputs": [
        {
          "output_type": "stream",
          "name": "stderr",
          "text": [
            "/usr/local/lib/python3.7/dist-packages/torch/nn/modules/module.py:949: UserWarning: Using non-full backward hooks on a Module that does not take as input a single Tensor or a tuple of Tensors is deprecated and will be removed in future versions. This hook will be missing some of the grad_input. Please use register_full_backward_hook to get the documented behavior.\n",
            "  warnings.warn(\"Using non-full backward hooks on a Module that does not take as input a \"\n",
            "/usr/local/lib/python3.7/dist-packages/torch/nn/modules/module.py:974: UserWarning: Using a non-full backward hook when the forward contains multiple autograd Nodes is deprecated and will be removed in future versions. This hook will be missing some grad_input. Please use register_full_backward_hook to get the documented behavior.\n",
            "  warnings.warn(\"Using a non-full backward hook when the forward contains multiple autograd Nodes \"\n"
          ]
        },
        {
          "output_type": "stream",
          "name": "stdout",
          "text": [
            "* Number of trainable parameters: 2169602\n",
            "===>  TRAIN Epoch 1\n"
          ]
        },
        {
          "output_type": "stream",
          "name": "stderr",
          "text": [
            "/usr/local/lib/python3.7/dist-packages/torch/nn/modules/module.py:939: UserWarning: Using non-full backward hooks on a Module that does not return a single Tensor or a tuple of Tensors is deprecated and will be removed in future versions. This hook will be missing some of the grad_output. Please use register_full_backward_hook to get the documented behavior.\n",
            "  warnings.warn(\"Using non-full backward hooks on a Module that does not return a \"\n",
            "/usr/local/lib/python3.7/dist-packages/torch/nn/functional.py:2742: UserWarning: reduction: 'mean' divides the total loss by both the batch size and the support size.'batchmean' divides only by the batch size, and aligns with the KL div math definition.'mean' will be changed to behave the same as 'batchmean' in the next major release.\n",
            "  \"reduction: 'mean' divides the total loss by both the batch size and the support size.\"\n",
            "0% [█] 100% | ETA: 00:00:00\n",
            "Total time elapsed: 00:00:00\n"
          ]
        },
        {
          "output_type": "stream",
          "name": "stdout",
          "text": [
            "Finished Epoch 1 || Run Time:    0.4 | Load Time:    0.3 || F1:  39.44 | Prec:  27.45 | Rec:  70.00 || Ex/s: 378.20\n",
            "\n",
            "===>  EVAL Epoch 1\n",
            "Finished Epoch 1 || Run Time:    0.1 | Load Time:    0.1 || F1:   0.00 | Prec:   0.00 | Rec:   0.00 || Ex/s: 530.57\n",
            "\n",
            "* Best F1: tensor(0., device='cuda:0')\n",
            "Saving best model...\n",
            "Done.\n",
            "---------------------\n",
            "\n",
            "===>  TRAIN Epoch 2\n"
          ]
        },
        {
          "output_type": "stream",
          "name": "stderr",
          "text": [
            "0% [█] 100% | ETA: 00:00:00\n",
            "Total time elapsed: 00:00:00\n"
          ]
        },
        {
          "output_type": "stream",
          "name": "stdout",
          "text": [
            "Finished Epoch 2 || Run Time:    0.4 | Load Time:    0.3 || F1:  37.74 | Prec:  76.92 | Rec:  25.00 || Ex/s: 392.48\n",
            "\n",
            "===>  EVAL Epoch 2\n",
            "Finished Epoch 2 || Run Time:    0.1 | Load Time:    0.1 || F1:  57.14 | Prec:  85.71 | Rec:  42.86 || Ex/s: 558.72\n",
            "\n",
            "* Best F1: tensor(57.1429, device='cuda:0')\n",
            "Saving best model...\n",
            "Done.\n",
            "---------------------\n",
            "\n",
            "===>  TRAIN Epoch 3\n"
          ]
        },
        {
          "output_type": "stream",
          "name": "stderr",
          "text": [
            "0% [█] 100% | ETA: 00:00:00\n",
            "Total time elapsed: 00:00:00\n"
          ]
        },
        {
          "output_type": "stream",
          "name": "stdout",
          "text": [
            "Finished Epoch 3 || Run Time:    0.4 | Load Time:    0.3 || F1:  86.36 | Prec:  79.17 | Rec:  95.00 || Ex/s: 381.70\n",
            "\n",
            "===>  EVAL Epoch 3\n",
            "Finished Epoch 3 || Run Time:    0.1 | Load Time:    0.1 || F1:  47.62 | Prec:  35.71 | Rec:  71.43 || Ex/s: 539.34\n",
            "\n",
            "---------------------\n",
            "\n",
            "===>  TRAIN Epoch 4\n"
          ]
        },
        {
          "output_type": "stream",
          "name": "stderr",
          "text": [
            "0% [█] 100% | ETA: 00:00:00\n",
            "Total time elapsed: 00:00:00\n"
          ]
        },
        {
          "output_type": "stream",
          "name": "stdout",
          "text": [
            "Finished Epoch 4 || Run Time:    0.4 | Load Time:    0.3 || F1:  87.64 | Prec:  79.59 | Rec:  97.50 || Ex/s: 385.12\n",
            "\n",
            "===>  EVAL Epoch 4\n",
            "Finished Epoch 4 || Run Time:    0.1 | Load Time:    0.1 || F1:  50.00 | Prec:  38.46 | Rec:  71.43 || Ex/s: 562.54\n",
            "\n",
            "---------------------\n",
            "\n",
            "===>  TRAIN Epoch 5\n"
          ]
        },
        {
          "output_type": "stream",
          "name": "stderr",
          "text": [
            "0% [█] 100% | ETA: 00:00:00\n",
            "Total time elapsed: 00:00:00\n"
          ]
        },
        {
          "output_type": "stream",
          "name": "stdout",
          "text": [
            "Finished Epoch 5 || Run Time:    0.4 | Load Time:    0.3 || F1:  91.76 | Prec:  86.67 | Rec:  97.50 || Ex/s: 390.04\n",
            "\n",
            "===>  EVAL Epoch 5\n",
            "Finished Epoch 5 || Run Time:    0.1 | Load Time:    0.1 || F1:  48.78 | Prec:  37.04 | Rec:  71.43 || Ex/s: 555.65\n",
            "\n",
            "---------------------\n",
            "\n",
            "===>  TRAIN Epoch 6\n"
          ]
        },
        {
          "output_type": "stream",
          "name": "stderr",
          "text": [
            "0% [█] 100% | ETA: 00:00:00\n",
            "Total time elapsed: 00:00:00\n"
          ]
        },
        {
          "output_type": "stream",
          "name": "stdout",
          "text": [
            "Finished Epoch 6 || Run Time:    0.4 | Load Time:    0.3 || F1:  95.24 | Prec:  90.91 | Rec: 100.00 || Ex/s: 387.38\n",
            "\n",
            "===>  EVAL Epoch 6\n",
            "Finished Epoch 6 || Run Time:    0.1 | Load Time:    0.1 || F1:  57.14 | Prec:  42.86 | Rec:  85.71 || Ex/s: 541.71\n",
            "\n",
            "---------------------\n",
            "\n",
            "===>  TRAIN Epoch 7\n"
          ]
        },
        {
          "output_type": "stream",
          "name": "stderr",
          "text": [
            "0% [█] 100% | ETA: 00:00:00\n",
            "Total time elapsed: 00:00:00\n"
          ]
        },
        {
          "output_type": "stream",
          "name": "stdout",
          "text": [
            "Finished Epoch 7 || Run Time:    0.4 | Load Time:    0.3 || F1:  96.39 | Prec:  93.02 | Rec: 100.00 || Ex/s: 395.18\n",
            "\n",
            "===>  EVAL Epoch 7\n",
            "Finished Epoch 7 || Run Time:    0.1 | Load Time:    0.1 || F1:  53.33 | Prec:  38.71 | Rec:  85.71 || Ex/s: 564.14\n",
            "\n",
            "---------------------\n",
            "\n",
            "===>  TRAIN Epoch 8\n"
          ]
        },
        {
          "output_type": "stream",
          "name": "stderr",
          "text": [
            "0% [█] 100% | ETA: 00:00:00\n",
            "Total time elapsed: 00:00:00\n"
          ]
        },
        {
          "output_type": "stream",
          "name": "stdout",
          "text": [
            "Finished Epoch 8 || Run Time:    0.4 | Load Time:    0.3 || F1:  98.77 | Prec:  97.56 | Rec: 100.00 || Ex/s: 386.87\n",
            "\n",
            "===>  EVAL Epoch 8\n",
            "Finished Epoch 8 || Run Time:    0.1 | Load Time:    0.1 || F1:  53.33 | Prec:  38.71 | Rec:  85.71 || Ex/s: 557.60\n",
            "\n",
            "---------------------\n",
            "\n",
            "===>  TRAIN Epoch 9\n"
          ]
        },
        {
          "output_type": "stream",
          "name": "stderr",
          "text": [
            "0% [█] 100% | ETA: 00:00:00\n",
            "Total time elapsed: 00:00:00\n"
          ]
        },
        {
          "output_type": "stream",
          "name": "stdout",
          "text": [
            "Finished Epoch 9 || Run Time:    0.4 | Load Time:    0.3 || F1: 100.00 | Prec: 100.00 | Rec: 100.00 || Ex/s: 394.74\n",
            "\n",
            "===>  EVAL Epoch 9\n",
            "Finished Epoch 9 || Run Time:    0.1 | Load Time:    0.1 || F1:  52.17 | Prec:  37.50 | Rec:  85.71 || Ex/s: 538.73\n",
            "\n",
            "---------------------\n",
            "\n",
            "===>  TRAIN Epoch 10\n"
          ]
        },
        {
          "output_type": "stream",
          "name": "stderr",
          "text": [
            "0% [█] 100% | ETA: 00:00:00\n",
            "Total time elapsed: 00:00:00\n"
          ]
        },
        {
          "output_type": "stream",
          "name": "stdout",
          "text": [
            "Finished Epoch 10 || Run Time:    0.4 | Load Time:    0.3 || F1: 100.00 | Prec: 100.00 | Rec: 100.00 || Ex/s: 390.82\n",
            "\n",
            "===>  EVAL Epoch 10\n",
            "Finished Epoch 10 || Run Time:    0.1 | Load Time:    0.1 || F1:  52.17 | Prec:  37.50 | Rec:  85.71 || Ex/s: 546.39\n",
            "\n",
            "---------------------\n",
            "\n",
            "===>  TRAIN Epoch 11\n"
          ]
        },
        {
          "output_type": "stream",
          "name": "stderr",
          "text": [
            "0% [█] 100% | ETA: 00:00:00\n",
            "Total time elapsed: 00:00:00\n"
          ]
        },
        {
          "output_type": "stream",
          "name": "stdout",
          "text": [
            "Finished Epoch 11 || Run Time:    0.4 | Load Time:    0.3 || F1: 100.00 | Prec: 100.00 | Rec: 100.00 || Ex/s: 389.62\n",
            "\n",
            "===>  EVAL Epoch 11\n",
            "Finished Epoch 11 || Run Time:    0.1 | Load Time:    0.1 || F1:  52.17 | Prec:  37.50 | Rec:  85.71 || Ex/s: 559.44\n",
            "\n",
            "---------------------\n",
            "\n",
            "===>  TRAIN Epoch 12\n"
          ]
        },
        {
          "output_type": "stream",
          "name": "stderr",
          "text": [
            "0% [█] 100% | ETA: 00:00:00\n",
            "Total time elapsed: 00:00:00\n"
          ]
        },
        {
          "output_type": "stream",
          "name": "stdout",
          "text": [
            "Finished Epoch 12 || Run Time:    0.4 | Load Time:    0.3 || F1: 100.00 | Prec: 100.00 | Rec: 100.00 || Ex/s: 395.95\n",
            "\n",
            "===>  EVAL Epoch 12\n",
            "Finished Epoch 12 || Run Time:    0.1 | Load Time:    0.1 || F1:  52.17 | Prec:  37.50 | Rec:  85.71 || Ex/s: 519.67\n",
            "\n",
            "---------------------\n",
            "\n",
            "===>  TRAIN Epoch 13\n"
          ]
        },
        {
          "output_type": "stream",
          "name": "stderr",
          "text": [
            "0% [█] 100% | ETA: 00:00:00\n",
            "Total time elapsed: 00:00:00\n"
          ]
        },
        {
          "output_type": "stream",
          "name": "stdout",
          "text": [
            "Finished Epoch 13 || Run Time:    0.3 | Load Time:    0.3 || F1: 100.00 | Prec: 100.00 | Rec: 100.00 || Ex/s: 406.37\n",
            "\n",
            "===>  EVAL Epoch 13\n",
            "Finished Epoch 13 || Run Time:    0.0 | Load Time:    0.1 || F1:  52.17 | Prec:  37.50 | Rec:  85.71 || Ex/s: 587.36\n",
            "\n",
            "---------------------\n",
            "\n",
            "===>  TRAIN Epoch 14\n"
          ]
        },
        {
          "output_type": "stream",
          "name": "stderr",
          "text": [
            "0% [█] 100% | ETA: 00:00:00\n",
            "Total time elapsed: 00:00:00\n"
          ]
        },
        {
          "output_type": "stream",
          "name": "stdout",
          "text": [
            "Finished Epoch 14 || Run Time:    0.3 | Load Time:    0.3 || F1: 100.00 | Prec: 100.00 | Rec: 100.00 || Ex/s: 408.48\n",
            "\n",
            "===>  EVAL Epoch 14\n",
            "Finished Epoch 14 || Run Time:    0.1 | Load Time:    0.1 || F1:  50.00 | Prec:  35.29 | Rec:  85.71 || Ex/s: 549.48\n",
            "\n",
            "---------------------\n",
            "\n",
            "===>  TRAIN Epoch 15\n"
          ]
        },
        {
          "output_type": "stream",
          "name": "stderr",
          "text": [
            "0% [█] 100% | ETA: 00:00:00\n",
            "Total time elapsed: 00:00:00\n"
          ]
        },
        {
          "output_type": "stream",
          "name": "stdout",
          "text": [
            "Finished Epoch 15 || Run Time:    0.4 | Load Time:    0.3 || F1: 100.00 | Prec: 100.00 | Rec: 100.00 || Ex/s: 392.87\n",
            "\n",
            "===>  EVAL Epoch 15\n",
            "Finished Epoch 15 || Run Time:    0.1 | Load Time:    0.1 || F1:  50.00 | Prec:  35.29 | Rec:  85.71 || Ex/s: 543.35\n",
            "\n",
            "---------------------\n",
            "\n",
            "Loading best model...\n",
            "Training done.\n"
          ]
        },
        {
          "output_type": "execute_result",
          "data": {
            "text/plain": [
              "tensor(57.1429, device='cuda:0')"
            ]
          },
          "metadata": {},
          "execution_count": 65
        }
      ],
      "source": [
        "model.run_train(\n",
        "    train,\n",
        "    validation,\n",
        "    epochs=15,\n",
        "    batch_size=32,\n",
        "    best_save_path='rnn_model.pth',\n",
        "    pos_neg_ratio=3)"
      ]
    },
    {
      "cell_type": "code",
      "execution_count": 66,
      "metadata": {
        "id": "HENYOC9x5u3i",
        "colab": {
          "base_uri": "https://localhost:8080/"
        },
        "outputId": "4ee1714e-fd33-42f9-e2a4-abc857173a91"
      },
      "outputs": [
        {
          "output_type": "stream",
          "name": "stdout",
          "text": [
            "===>  EVAL Epoch 2\n"
          ]
        },
        {
          "output_type": "stream",
          "name": "stderr",
          "text": [
            "/usr/local/lib/python3.7/dist-packages/torch/nn/modules/module.py:949: UserWarning: Using non-full backward hooks on a Module that does not take as input a single Tensor or a tuple of Tensors is deprecated and will be removed in future versions. This hook will be missing some of the grad_input. Please use register_full_backward_hook to get the documented behavior.\n",
            "  warnings.warn(\"Using non-full backward hooks on a Module that does not take as input a \"\n",
            "/usr/local/lib/python3.7/dist-packages/torch/nn/modules/module.py:939: UserWarning: Using non-full backward hooks on a Module that does not return a single Tensor or a tuple of Tensors is deprecated and will be removed in future versions. This hook will be missing some of the grad_output. Please use register_full_backward_hook to get the documented behavior.\n",
            "  warnings.warn(\"Using non-full backward hooks on a Module that does not return a \"\n",
            "/usr/local/lib/python3.7/dist-packages/torch/nn/modules/module.py:974: UserWarning: Using a non-full backward hook when the forward contains multiple autograd Nodes is deprecated and will be removed in future versions. This hook will be missing some grad_input. Please use register_full_backward_hook to get the documented behavior.\n",
            "  warnings.warn(\"Using a non-full backward hook when the forward contains multiple autograd Nodes \"\n"
          ]
        },
        {
          "output_type": "stream",
          "name": "stdout",
          "text": [
            "Finished Epoch 2 || Run Time:    0.1 | Load Time:    0.1 || F1:  48.00 | Prec:  54.55 | Rec:  42.86 || Ex/s: 519.46\n",
            "\n"
          ]
        },
        {
          "output_type": "execute_result",
          "data": {
            "text/plain": [
              "tensor(48.0000, device='cuda:0')"
            ]
          },
          "metadata": {},
          "execution_count": 66
        }
      ],
      "source": [
        "# Compute F1 on test set\n",
        "model.run_eval(test)"
      ]
    },
    {
      "cell_type": "markdown",
      "metadata": {
        "id": "qwQCzuYP5-3d"
      },
      "source": [
        "##### DBLP-ACM"
      ]
    },
    {
      "cell_type": "code",
      "execution_count": 67,
      "metadata": {
        "id": "J-i9XPea5-3t"
      },
      "outputs": [],
      "source": [
        "train, validation, test = dm.data.process(\n",
        "    path='/content/IC/datasesErros/FMedium_50_1_2/Structured/DBLP-ACM/',\n",
        "    train='joined_train.csv',\n",
        "    validation='joined_valid.csv',\n",
        "    test='joined_test.csv')"
      ]
    },
    {
      "cell_type": "code",
      "execution_count": 68,
      "metadata": {
        "id": "ADWAE_Pm5-3u"
      },
      "outputs": [],
      "source": [
        "model = dm.MatchingModel(attr_summarizer='rnn')"
      ]
    },
    {
      "cell_type": "code",
      "execution_count": 69,
      "metadata": {
        "id": "YHwbSXrQ5-3u",
        "colab": {
          "base_uri": "https://localhost:8080/"
        },
        "outputId": "8496c05b-c0f0-4330-c867-4477b8ee5162"
      },
      "outputs": [
        {
          "output_type": "stream",
          "name": "stdout",
          "text": [
            "* Number of trainable parameters: 2169602\n",
            "===>  TRAIN Epoch 1\n"
          ]
        },
        {
          "output_type": "stream",
          "name": "stderr",
          "text": [
            "/usr/local/lib/python3.7/dist-packages/torch/nn/modules/module.py:949: UserWarning: Using non-full backward hooks on a Module that does not take as input a single Tensor or a tuple of Tensors is deprecated and will be removed in future versions. This hook will be missing some of the grad_input. Please use register_full_backward_hook to get the documented behavior.\n",
            "  warnings.warn(\"Using non-full backward hooks on a Module that does not take as input a \"\n",
            "/usr/local/lib/python3.7/dist-packages/torch/nn/modules/module.py:974: UserWarning: Using a non-full backward hook when the forward contains multiple autograd Nodes is deprecated and will be removed in future versions. This hook will be missing some grad_input. Please use register_full_backward_hook to get the documented behavior.\n",
            "  warnings.warn(\"Using a non-full backward hook when the forward contains multiple autograd Nodes \"\n",
            "/usr/local/lib/python3.7/dist-packages/torch/nn/modules/module.py:939: UserWarning: Using non-full backward hooks on a Module that does not return a single Tensor or a tuple of Tensors is deprecated and will be removed in future versions. This hook will be missing some of the grad_output. Please use register_full_backward_hook to get the documented behavior.\n",
            "  warnings.warn(\"Using non-full backward hooks on a Module that does not return a \"\n",
            "/usr/local/lib/python3.7/dist-packages/torch/nn/functional.py:2742: UserWarning: reduction: 'mean' divides the total loss by both the batch size and the support size.'batchmean' divides only by the batch size, and aligns with the KL div math definition.'mean' will be changed to behave the same as 'batchmean' in the next major release.\n",
            "  \"reduction: 'mean' divides the total loss by both the batch size and the support size.\"\n",
            "0% [██████████████████████████████] 100% | ETA: 00:00:00\n",
            "Total time elapsed: 00:00:23\n"
          ]
        },
        {
          "output_type": "stream",
          "name": "stdout",
          "text": [
            "Finished Epoch 1 || Run Time:    9.9 | Load Time:   13.4 || F1:  89.95 | Prec:  87.02 | Rec:  93.09 || Ex/s: 317.56\n",
            "\n",
            "===>  EVAL Epoch 1\n"
          ]
        },
        {
          "output_type": "stream",
          "name": "stderr",
          "text": [
            "0% [███████████████] 100% | ETA: 00:00:00\n",
            "Total time elapsed: 00:00:05\n"
          ]
        },
        {
          "output_type": "stream",
          "name": "stdout",
          "text": [
            "Finished Epoch 1 || Run Time:    1.5 | Load Time:    4.2 || F1:  96.82 | Prec:  94.43 | Rec:  99.32 || Ex/s: 428.75\n",
            "\n",
            "* Best F1: tensor(96.8167, device='cuda:0')\n",
            "Saving best model...\n",
            "Done.\n",
            "---------------------\n",
            "\n",
            "===>  TRAIN Epoch 2\n"
          ]
        },
        {
          "output_type": "stream",
          "name": "stderr",
          "text": [
            "0% [██████████████████████████████] 100% | ETA: 00:00:00\n",
            "Total time elapsed: 00:00:23\n"
          ]
        },
        {
          "output_type": "stream",
          "name": "stdout",
          "text": [
            "Finished Epoch 2 || Run Time:   10.0 | Load Time:   13.4 || F1:  97.93 | Prec:  96.50 | Rec:  99.40 || Ex/s: 317.24\n",
            "\n",
            "===>  EVAL Epoch 2\n"
          ]
        },
        {
          "output_type": "stream",
          "name": "stderr",
          "text": [
            "0% [███████████████] 100% | ETA: 00:00:00\n",
            "Total time elapsed: 00:00:05\n"
          ]
        },
        {
          "output_type": "stream",
          "name": "stdout",
          "text": [
            "Finished Epoch 2 || Run Time:    1.7 | Load Time:    4.5 || F1:  95.37 | Prec:  91.34 | Rec:  99.77 || Ex/s: 398.08\n",
            "\n",
            "---------------------\n",
            "\n",
            "===>  TRAIN Epoch 3\n"
          ]
        },
        {
          "output_type": "stream",
          "name": "stderr",
          "text": [
            "0% [██████████████████████████████] 100% | ETA: 00:00:00\n",
            "Total time elapsed: 00:00:23\n"
          ]
        },
        {
          "output_type": "stream",
          "name": "stdout",
          "text": [
            "Finished Epoch 3 || Run Time:   10.0 | Load Time:   13.3 || F1:  98.92 | Prec:  98.01 | Rec:  99.85 || Ex/s: 318.21\n",
            "\n",
            "===>  EVAL Epoch 3\n"
          ]
        },
        {
          "output_type": "stream",
          "name": "stderr",
          "text": [
            "0% [███████████████] 100% | ETA: 00:00:00\n",
            "Total time elapsed: 00:00:05\n"
          ]
        },
        {
          "output_type": "stream",
          "name": "stdout",
          "text": [
            "Finished Epoch 3 || Run Time:    1.5 | Load Time:    4.1 || F1:  96.93 | Prec:  94.44 | Rec:  99.55 || Ex/s: 440.69\n",
            "\n",
            "* Best F1: tensor(96.9298, device='cuda:0')\n",
            "Saving best model...\n",
            "Done.\n",
            "---------------------\n",
            "\n",
            "===>  TRAIN Epoch 4\n"
          ]
        },
        {
          "output_type": "stream",
          "name": "stderr",
          "text": [
            "0% [██████████████████████████████] 100% | ETA: 00:00:00\n",
            "Total time elapsed: 00:00:22\n"
          ]
        },
        {
          "output_type": "stream",
          "name": "stdout",
          "text": [
            "Finished Epoch 4 || Run Time:    9.9 | Load Time:   13.3 || F1:  99.18 | Prec:  98.59 | Rec:  99.77 || Ex/s: 319.72\n",
            "\n",
            "===>  EVAL Epoch 4\n"
          ]
        },
        {
          "output_type": "stream",
          "name": "stderr",
          "text": [
            "0% [███████████████] 100% | ETA: 00:00:00\n",
            "Total time elapsed: 00:00:05\n"
          ]
        },
        {
          "output_type": "stream",
          "name": "stdout",
          "text": [
            "Finished Epoch 4 || Run Time:    1.6 | Load Time:    4.2 || F1:  97.03 | Prec:  94.84 | Rec:  99.32 || Ex/s: 426.45\n",
            "\n",
            "* Best F1: tensor(97.0297, device='cuda:0')\n",
            "Saving best model...\n",
            "Done.\n",
            "---------------------\n",
            "\n",
            "===>  TRAIN Epoch 5\n"
          ]
        },
        {
          "output_type": "stream",
          "name": "stderr",
          "text": [
            "0% [██████████████████████████████] 100% | ETA: 00:00:00\n",
            "Total time elapsed: 00:00:22\n"
          ]
        },
        {
          "output_type": "stream",
          "name": "stdout",
          "text": [
            "Finished Epoch 5 || Run Time:    9.7 | Load Time:   13.1 || F1:  99.36 | Prec:  98.88 | Rec:  99.85 || Ex/s: 326.10\n",
            "\n",
            "===>  EVAL Epoch 5\n"
          ]
        },
        {
          "output_type": "stream",
          "name": "stderr",
          "text": [
            "0% [███████████████] 100% | ETA: 00:00:00\n",
            "Total time elapsed: 00:00:05\n"
          ]
        },
        {
          "output_type": "stream",
          "name": "stdout",
          "text": [
            "Finished Epoch 5 || Run Time:    1.5 | Load Time:    4.2 || F1:  97.65 | Prec:  96.90 | Rec:  98.42 || Ex/s: 435.58\n",
            "\n",
            "* Best F1: tensor(97.6536, device='cuda:0')\n",
            "Saving best model...\n",
            "Done.\n",
            "---------------------\n",
            "\n",
            "===>  TRAIN Epoch 6\n"
          ]
        },
        {
          "output_type": "stream",
          "name": "stderr",
          "text": [
            "0% [██████████████████████████████] 100% | ETA: 00:00:00\n",
            "Total time elapsed: 00:00:24\n"
          ]
        },
        {
          "output_type": "stream",
          "name": "stdout",
          "text": [
            "Finished Epoch 6 || Run Time:   10.4 | Load Time:   13.8 || F1:  99.44 | Prec:  98.96 | Rec:  99.92 || Ex/s: 305.65\n",
            "\n",
            "===>  EVAL Epoch 6\n"
          ]
        },
        {
          "output_type": "stream",
          "name": "stderr",
          "text": [
            "0% [███████████████] 100% | ETA: 00:00:00\n",
            "Total time elapsed: 00:00:05\n"
          ]
        },
        {
          "output_type": "stream",
          "name": "stdout",
          "text": [
            "Finished Epoch 6 || Run Time:    1.5 | Load Time:    4.1 || F1:  96.92 | Prec:  94.83 | Rec:  99.10 || Ex/s: 445.19\n",
            "\n",
            "---------------------\n",
            "\n",
            "===>  TRAIN Epoch 7\n"
          ]
        },
        {
          "output_type": "stream",
          "name": "stderr",
          "text": [
            "0% [██████████████████████████████] 100% | ETA: 00:00:00\n",
            "Total time elapsed: 00:00:23\n"
          ]
        },
        {
          "output_type": "stream",
          "name": "stdout",
          "text": [
            "Finished Epoch 7 || Run Time:   10.0 | Load Time:   13.3 || F1:  99.40 | Prec:  98.96 | Rec:  99.85 || Ex/s: 318.48\n",
            "\n",
            "===>  EVAL Epoch 7\n"
          ]
        },
        {
          "output_type": "stream",
          "name": "stderr",
          "text": [
            "0% [███████████████] 100% | ETA: 00:00:00\n",
            "Total time elapsed: 00:00:05\n"
          ]
        },
        {
          "output_type": "stream",
          "name": "stdout",
          "text": [
            "Finished Epoch 7 || Run Time:    1.5 | Load Time:    4.2 || F1:  97.02 | Prec:  95.23 | Rec:  98.87 || Ex/s: 429.90\n",
            "\n",
            "---------------------\n",
            "\n",
            "===>  TRAIN Epoch 8\n"
          ]
        },
        {
          "output_type": "stream",
          "name": "stderr",
          "text": [
            "0% [██████████████████████████████] 100% | ETA: 00:00:00\n",
            "Total time elapsed: 00:00:23\n"
          ]
        },
        {
          "output_type": "stream",
          "name": "stdout",
          "text": [
            "Finished Epoch 8 || Run Time:   10.0 | Load Time:   13.4 || F1:  99.44 | Prec:  98.96 | Rec:  99.92 || Ex/s: 317.44\n",
            "\n",
            "===>  EVAL Epoch 8\n"
          ]
        },
        {
          "output_type": "stream",
          "name": "stderr",
          "text": [
            "0% [███████████████] 100% | ETA: 00:00:00\n",
            "Total time elapsed: 00:00:05\n"
          ]
        },
        {
          "output_type": "stream",
          "name": "stdout",
          "text": [
            "Finished Epoch 8 || Run Time:    1.4 | Load Time:    4.1 || F1:  96.61 | Prec:  93.84 | Rec:  99.55 || Ex/s: 447.40\n",
            "\n",
            "---------------------\n",
            "\n",
            "===>  TRAIN Epoch 9\n"
          ]
        },
        {
          "output_type": "stream",
          "name": "stderr",
          "text": [
            "0% [██████████████████████████████] 100% | ETA: 00:00:00\n",
            "Total time elapsed: 00:00:22\n"
          ]
        },
        {
          "output_type": "stream",
          "name": "stdout",
          "text": [
            "Finished Epoch 9 || Run Time:    9.8 | Load Time:   13.2 || F1:  99.44 | Prec:  98.96 | Rec:  99.92 || Ex/s: 323.05\n",
            "\n",
            "===>  EVAL Epoch 9\n"
          ]
        },
        {
          "output_type": "stream",
          "name": "stderr",
          "text": [
            "0% [███████████████] 100% | ETA: 00:00:00\n",
            "Total time elapsed: 00:00:05\n"
          ]
        },
        {
          "output_type": "stream",
          "name": "stdout",
          "text": [
            "Finished Epoch 9 || Run Time:    1.4 | Load Time:    4.0 || F1:  97.02 | Prec:  95.03 | Rec:  99.10 || Ex/s: 454.65\n",
            "\n",
            "---------------------\n",
            "\n",
            "===>  TRAIN Epoch 10\n"
          ]
        },
        {
          "output_type": "stream",
          "name": "stderr",
          "text": [
            "0% [██████████████████████████████] 100% | ETA: 00:00:00\n",
            "Total time elapsed: 00:00:23\n"
          ]
        },
        {
          "output_type": "stream",
          "name": "stdout",
          "text": [
            "Finished Epoch 10 || Run Time:   10.0 | Load Time:   13.5 || F1:  99.48 | Prec:  99.03 | Rec:  99.92 || Ex/s: 315.14\n",
            "\n",
            "===>  EVAL Epoch 10\n"
          ]
        },
        {
          "output_type": "stream",
          "name": "stderr",
          "text": [
            "0% [███████████████] 100% | ETA: 00:00:00\n",
            "Total time elapsed: 00:00:05\n"
          ]
        },
        {
          "output_type": "stream",
          "name": "stdout",
          "text": [
            "Finished Epoch 10 || Run Time:    1.5 | Load Time:    4.3 || F1:  97.14 | Prec:  95.04 | Rec:  99.32 || Ex/s: 426.25\n",
            "\n",
            "---------------------\n",
            "\n",
            "===>  TRAIN Epoch 11\n"
          ]
        },
        {
          "output_type": "stream",
          "name": "stderr",
          "text": [
            "0% [██████████████████████████████] 100% | ETA: 00:00:00\n",
            "Total time elapsed: 00:00:23\n"
          ]
        },
        {
          "output_type": "stream",
          "name": "stdout",
          "text": [
            "Finished Epoch 11 || Run Time:    9.9 | Load Time:   13.3 || F1:  99.51 | Prec:  99.03 | Rec: 100.00 || Ex/s: 319.23\n",
            "\n",
            "===>  EVAL Epoch 11\n"
          ]
        },
        {
          "output_type": "stream",
          "name": "stderr",
          "text": [
            "0% [███████████████] 100% | ETA: 00:00:00\n",
            "Total time elapsed: 00:00:05\n"
          ]
        },
        {
          "output_type": "stream",
          "name": "stdout",
          "text": [
            "Finished Epoch 11 || Run Time:    1.5 | Load Time:    4.1 || F1:  97.14 | Prec:  95.04 | Rec:  99.32 || Ex/s: 443.54\n",
            "\n",
            "---------------------\n",
            "\n",
            "===>  TRAIN Epoch 12\n"
          ]
        },
        {
          "output_type": "stream",
          "name": "stderr",
          "text": [
            "0% [██████████████████████████████] 100% | ETA: 00:00:00\n",
            "Total time elapsed: 00:00:22\n"
          ]
        },
        {
          "output_type": "stream",
          "name": "stdout",
          "text": [
            "Finished Epoch 12 || Run Time:    9.9 | Load Time:   13.3 || F1:  99.51 | Prec:  99.03 | Rec: 100.00 || Ex/s: 319.85\n",
            "\n",
            "===>  EVAL Epoch 12\n"
          ]
        },
        {
          "output_type": "stream",
          "name": "stderr",
          "text": [
            "0% [███████████████] 100% | ETA: 00:00:00\n",
            "Total time elapsed: 00:00:05\n"
          ]
        },
        {
          "output_type": "stream",
          "name": "stdout",
          "text": [
            "Finished Epoch 12 || Run Time:    1.5 | Load Time:    4.2 || F1:  97.14 | Prec:  95.04 | Rec:  99.32 || Ex/s: 428.64\n",
            "\n",
            "---------------------\n",
            "\n",
            "===>  TRAIN Epoch 13\n"
          ]
        },
        {
          "output_type": "stream",
          "name": "stderr",
          "text": [
            "0% [██████████████████████████████] 100% | ETA: 00:00:00\n",
            "Total time elapsed: 00:00:22\n"
          ]
        },
        {
          "output_type": "stream",
          "name": "stdout",
          "text": [
            "Finished Epoch 13 || Run Time:    9.8 | Load Time:   13.2 || F1:  99.51 | Prec:  99.03 | Rec: 100.00 || Ex/s: 321.49\n",
            "\n",
            "===>  EVAL Epoch 13\n"
          ]
        },
        {
          "output_type": "stream",
          "name": "stderr",
          "text": [
            "0% [███████████████] 100% | ETA: 00:00:00\n",
            "Total time elapsed: 00:00:05\n"
          ]
        },
        {
          "output_type": "stream",
          "name": "stdout",
          "text": [
            "Finished Epoch 13 || Run Time:    1.7 | Load Time:    4.6 || F1:  97.14 | Prec:  95.04 | Rec:  99.32 || Ex/s: 394.65\n",
            "\n",
            "---------------------\n",
            "\n",
            "===>  TRAIN Epoch 14\n"
          ]
        },
        {
          "output_type": "stream",
          "name": "stderr",
          "text": [
            "0% [██████████████████████████████] 100% | ETA: 00:00:00\n",
            "Total time elapsed: 00:00:22\n"
          ]
        },
        {
          "output_type": "stream",
          "name": "stdout",
          "text": [
            "Finished Epoch 14 || Run Time:    9.9 | Load Time:   13.2 || F1:  99.51 | Prec:  99.03 | Rec: 100.00 || Ex/s: 320.88\n",
            "\n",
            "===>  EVAL Epoch 14\n"
          ]
        },
        {
          "output_type": "stream",
          "name": "stderr",
          "text": [
            "0% [███████████████] 100% | ETA: 00:00:00\n",
            "Total time elapsed: 00:00:05\n"
          ]
        },
        {
          "output_type": "stream",
          "name": "stdout",
          "text": [
            "Finished Epoch 14 || Run Time:    1.4 | Load Time:    4.0 || F1:  97.14 | Prec:  95.04 | Rec:  99.32 || Ex/s: 453.17\n",
            "\n",
            "---------------------\n",
            "\n",
            "===>  TRAIN Epoch 15\n"
          ]
        },
        {
          "output_type": "stream",
          "name": "stderr",
          "text": [
            "0% [██████████████████████████████] 100% | ETA: 00:00:00\n",
            "Total time elapsed: 00:00:22\n"
          ]
        },
        {
          "output_type": "stream",
          "name": "stdout",
          "text": [
            "Finished Epoch 15 || Run Time:    9.7 | Load Time:   13.1 || F1:  99.51 | Prec:  99.03 | Rec: 100.00 || Ex/s: 324.63\n",
            "\n",
            "===>  EVAL Epoch 15\n"
          ]
        },
        {
          "output_type": "stream",
          "name": "stderr",
          "text": [
            "0% [███████████████] 100% | ETA: 00:00:00\n",
            "Total time elapsed: 00:00:05\n"
          ]
        },
        {
          "output_type": "stream",
          "name": "stdout",
          "text": [
            "Finished Epoch 15 || Run Time:    1.5 | Load Time:    4.1 || F1:  97.14 | Prec:  95.04 | Rec:  99.32 || Ex/s: 442.90\n",
            "\n",
            "---------------------\n",
            "\n",
            "Loading best model...\n",
            "Training done.\n"
          ]
        },
        {
          "output_type": "execute_result",
          "data": {
            "text/plain": [
              "tensor(97.6536, device='cuda:0')"
            ]
          },
          "metadata": {},
          "execution_count": 69
        }
      ],
      "source": [
        "model.run_train(\n",
        "    train,\n",
        "    validation,\n",
        "    epochs=15,\n",
        "    batch_size=32,\n",
        "    best_save_path='rnn_model.pth',\n",
        "    pos_neg_ratio=3)"
      ]
    },
    {
      "cell_type": "code",
      "execution_count": 70,
      "metadata": {
        "id": "OfkfhY-15-3v",
        "colab": {
          "base_uri": "https://localhost:8080/"
        },
        "outputId": "214d08ea-9df5-444c-b399-898a81a207b5"
      },
      "outputs": [
        {
          "output_type": "stream",
          "name": "stdout",
          "text": [
            "===>  EVAL Epoch 5\n"
          ]
        },
        {
          "output_type": "stream",
          "name": "stderr",
          "text": [
            "/usr/local/lib/python3.7/dist-packages/torch/nn/modules/module.py:949: UserWarning: Using non-full backward hooks on a Module that does not take as input a single Tensor or a tuple of Tensors is deprecated and will be removed in future versions. This hook will be missing some of the grad_input. Please use register_full_backward_hook to get the documented behavior.\n",
            "  warnings.warn(\"Using non-full backward hooks on a Module that does not take as input a \"\n",
            "/usr/local/lib/python3.7/dist-packages/torch/nn/modules/module.py:939: UserWarning: Using non-full backward hooks on a Module that does not return a single Tensor or a tuple of Tensors is deprecated and will be removed in future versions. This hook will be missing some of the grad_output. Please use register_full_backward_hook to get the documented behavior.\n",
            "  warnings.warn(\"Using non-full backward hooks on a Module that does not return a \"\n",
            "/usr/local/lib/python3.7/dist-packages/torch/nn/modules/module.py:974: UserWarning: Using a non-full backward hook when the forward contains multiple autograd Nodes is deprecated and will be removed in future versions. This hook will be missing some grad_input. Please use register_full_backward_hook to get the documented behavior.\n",
            "  warnings.warn(\"Using a non-full backward hook when the forward contains multiple autograd Nodes \"\n",
            "0% [███████████████] 100% | ETA: 00:00:00\n",
            "Total time elapsed: 00:00:05\n"
          ]
        },
        {
          "output_type": "stream",
          "name": "stdout",
          "text": [
            "Finished Epoch 5 || Run Time:    1.5 | Load Time:    4.1 || F1:  97.32 | Prec:  96.46 | Rec:  98.20 || Ex/s: 439.19\n",
            "\n"
          ]
        },
        {
          "output_type": "execute_result",
          "data": {
            "text/plain": [
              "tensor(97.3214, device='cuda:0')"
            ]
          },
          "metadata": {},
          "execution_count": 70
        }
      ],
      "source": [
        "# Compute F1 on test set\n",
        "model.run_eval(test)"
      ]
    },
    {
      "cell_type": "markdown",
      "metadata": {
        "id": "jzWDzxUf6Af8"
      },
      "source": [
        "##### DBLP-GoogleScholar"
      ]
    },
    {
      "cell_type": "code",
      "execution_count": 71,
      "metadata": {
        "id": "AL8RYXfU6Af8"
      },
      "outputs": [],
      "source": [
        "train, validation, test = dm.data.process(\n",
        "    path='/content/IC/datasesErros/FMedium_50_1_2/Structured/DBLP-GoogleScholar/',\n",
        "    train='joined_train.csv',\n",
        "    validation='joined_valid.csv',\n",
        "    test='joined_test.csv')"
      ]
    },
    {
      "cell_type": "code",
      "execution_count": 72,
      "metadata": {
        "id": "hitCSKS16Af8"
      },
      "outputs": [],
      "source": [
        "model = dm.MatchingModel(attr_summarizer='rnn')"
      ]
    },
    {
      "cell_type": "code",
      "execution_count": 73,
      "metadata": {
        "id": "LD-LgJ1G6Af9",
        "colab": {
          "base_uri": "https://localhost:8080/"
        },
        "outputId": "45560841-1d70-4fd1-e3f7-4ba32c93baeb"
      },
      "outputs": [
        {
          "output_type": "stream",
          "name": "stdout",
          "text": [
            "* Number of trainable parameters: 2169602\n",
            "===>  TRAIN Epoch 1\n"
          ]
        },
        {
          "output_type": "stream",
          "name": "stderr",
          "text": [
            "/usr/local/lib/python3.7/dist-packages/torch/nn/modules/module.py:949: UserWarning: Using non-full backward hooks on a Module that does not take as input a single Tensor or a tuple of Tensors is deprecated and will be removed in future versions. This hook will be missing some of the grad_input. Please use register_full_backward_hook to get the documented behavior.\n",
            "  warnings.warn(\"Using non-full backward hooks on a Module that does not take as input a \"\n",
            "/usr/local/lib/python3.7/dist-packages/torch/nn/modules/module.py:974: UserWarning: Using a non-full backward hook when the forward contains multiple autograd Nodes is deprecated and will be removed in future versions. This hook will be missing some grad_input. Please use register_full_backward_hook to get the documented behavior.\n",
            "  warnings.warn(\"Using a non-full backward hook when the forward contains multiple autograd Nodes \"\n",
            "/usr/local/lib/python3.7/dist-packages/torch/nn/modules/module.py:939: UserWarning: Using non-full backward hooks on a Module that does not return a single Tensor or a tuple of Tensors is deprecated and will be removed in future versions. This hook will be missing some of the grad_output. Please use register_full_backward_hook to get the documented behavior.\n",
            "  warnings.warn(\"Using non-full backward hooks on a Module that does not return a \"\n",
            "/usr/local/lib/python3.7/dist-packages/torch/nn/functional.py:2742: UserWarning: reduction: 'mean' divides the total loss by both the batch size and the support size.'batchmean' divides only by the batch size, and aligns with the KL div math definition.'mean' will be changed to behave the same as 'batchmean' in the next major release.\n",
            "  \"reduction: 'mean' divides the total loss by both the batch size and the support size.\"\n",
            "0% [██████████████████████████████] 100% | ETA: 00:00:00\n",
            "Total time elapsed: 00:00:49\n"
          ]
        },
        {
          "output_type": "stream",
          "name": "stdout",
          "text": [
            "Finished Epoch 1 || Run Time:   22.5 | Load Time:   27.9 || F1:  81.07 | Prec:  76.26 | Rec:  86.53 || Ex/s: 341.70\n",
            "\n",
            "===>  EVAL Epoch 1\n"
          ]
        },
        {
          "output_type": "stream",
          "name": "stderr",
          "text": [
            "0% [██████████████████████████████] 100% | ETA: 00:00:00\n",
            "Total time elapsed: 00:00:11\n"
          ]
        },
        {
          "output_type": "stream",
          "name": "stdout",
          "text": [
            "Finished Epoch 1 || Run Time:    3.3 | Load Time:    8.3 || F1:  88.74 | Prec:  85.33 | Rec:  92.43 || Ex/s: 495.55\n",
            "\n",
            "* Best F1: tensor(88.7393, device='cuda:0')\n",
            "Saving best model...\n",
            "Done.\n",
            "---------------------\n",
            "\n",
            "===>  TRAIN Epoch 2\n"
          ]
        },
        {
          "output_type": "stream",
          "name": "stderr",
          "text": [
            "0% [██████████████████████████████] 100% | ETA: 00:00:00\n",
            "Total time elapsed: 00:00:48\n"
          ]
        },
        {
          "output_type": "stream",
          "name": "stdout",
          "text": [
            "Finished Epoch 2 || Run Time:   21.7 | Load Time:   27.1 || F1:  93.04 | Prec:  89.51 | Rec:  96.85 || Ex/s: 352.81\n",
            "\n",
            "===>  EVAL Epoch 2\n"
          ]
        },
        {
          "output_type": "stream",
          "name": "stderr",
          "text": [
            "0% [██████████████████████████████] 100% | ETA: 00:00:00\n",
            "Total time elapsed: 00:00:11\n"
          ]
        },
        {
          "output_type": "stream",
          "name": "stdout",
          "text": [
            "Finished Epoch 2 || Run Time:    3.3 | Load Time:    8.3 || F1:  90.44 | Prec:  89.85 | Rec:  91.03 || Ex/s: 497.14\n",
            "\n",
            "* Best F1: tensor(90.4364, device='cuda:0')\n",
            "Saving best model...\n",
            "Done.\n",
            "---------------------\n",
            "\n",
            "===>  TRAIN Epoch 3\n"
          ]
        },
        {
          "output_type": "stream",
          "name": "stderr",
          "text": [
            "0% [██████████████████████████████] 100% | ETA: 00:00:00\n",
            "Total time elapsed: 00:00:48\n"
          ]
        },
        {
          "output_type": "stream",
          "name": "stdout",
          "text": [
            "Finished Epoch 3 || Run Time:   21.4 | Load Time:   27.0 || F1:  96.33 | Prec:  94.43 | Rec:  98.32 || Ex/s: 355.64\n",
            "\n",
            "===>  EVAL Epoch 3\n"
          ]
        },
        {
          "output_type": "stream",
          "name": "stderr",
          "text": [
            "0% [██████████████████████████████] 100% | ETA: 00:00:00\n",
            "Total time elapsed: 00:00:12\n"
          ]
        },
        {
          "output_type": "stream",
          "name": "stdout",
          "text": [
            "Finished Epoch 3 || Run Time:    3.6 | Load Time:    8.6 || F1:  90.55 | Prec:  88.07 | Rec:  93.18 || Ex/s: 472.84\n",
            "\n",
            "* Best F1: tensor(90.5540, device='cuda:0')\n",
            "Saving best model...\n",
            "Done.\n",
            "---------------------\n",
            "\n",
            "===>  TRAIN Epoch 4\n"
          ]
        },
        {
          "output_type": "stream",
          "name": "stderr",
          "text": [
            "0% [██████████████████████████████] 100% | ETA: 00:00:00\n",
            "Total time elapsed: 00:00:48\n"
          ]
        },
        {
          "output_type": "stream",
          "name": "stdout",
          "text": [
            "Finished Epoch 4 || Run Time:   21.7 | Load Time:   27.1 || F1:  98.21 | Prec:  97.16 | Rec:  99.28 || Ex/s: 352.84\n",
            "\n",
            "===>  EVAL Epoch 4\n"
          ]
        },
        {
          "output_type": "stream",
          "name": "stderr",
          "text": [
            "0% [██████████████████████████████] 100% | ETA: 00:00:00\n",
            "Total time elapsed: 00:00:11\n"
          ]
        },
        {
          "output_type": "stream",
          "name": "stdout",
          "text": [
            "Finished Epoch 4 || Run Time:    3.4 | Load Time:    8.5 || F1:  89.36 | Prec:  92.59 | Rec:  86.36 || Ex/s: 480.38\n",
            "\n",
            "---------------------\n",
            "\n",
            "===>  TRAIN Epoch 5\n"
          ]
        },
        {
          "output_type": "stream",
          "name": "stderr",
          "text": [
            "0% [██████████████████████████████] 100% | ETA: 00:00:00\n",
            "Total time elapsed: 00:00:49\n"
          ]
        },
        {
          "output_type": "stream",
          "name": "stdout",
          "text": [
            "Finished Epoch 5 || Run Time:   22.0 | Load Time:   27.5 || F1:  98.98 | Prec:  98.46 | Rec:  99.50 || Ex/s: 348.10\n",
            "\n",
            "===>  EVAL Epoch 5\n"
          ]
        },
        {
          "output_type": "stream",
          "name": "stderr",
          "text": [
            "0% [██████████████████████████████] 100% | ETA: 00:00:00\n",
            "Total time elapsed: 00:00:11\n"
          ]
        },
        {
          "output_type": "stream",
          "name": "stdout",
          "text": [
            "Finished Epoch 5 || Run Time:    3.3 | Load Time:    8.3 || F1:  91.15 | Prec:  90.89 | Rec:  91.40 || Ex/s: 492.67\n",
            "\n",
            "* Best F1: tensor(91.1463, device='cuda:0')\n",
            "Saving best model...\n",
            "Done.\n",
            "---------------------\n",
            "\n",
            "===>  TRAIN Epoch 6\n"
          ]
        },
        {
          "output_type": "stream",
          "name": "stderr",
          "text": [
            "0% [██████████████████████████████] 100% | ETA: 00:00:00\n",
            "Total time elapsed: 00:00:45\n"
          ]
        },
        {
          "output_type": "stream",
          "name": "stdout",
          "text": [
            "Finished Epoch 6 || Run Time:   19.6 | Load Time:   25.9 || F1:  99.27 | Prec:  98.98 | Rec:  99.56 || Ex/s: 378.76\n",
            "\n",
            "===>  EVAL Epoch 6\n"
          ]
        },
        {
          "output_type": "stream",
          "name": "stderr",
          "text": [
            "0% [██████████████████████████████] 100% | ETA: 00:00:00\n",
            "Total time elapsed: 00:00:10\n"
          ]
        },
        {
          "output_type": "stream",
          "name": "stdout",
          "text": [
            "Finished Epoch 6 || Run Time:    3.0 | Load Time:    7.9 || F1:  91.10 | Prec:  91.28 | Rec:  90.93 || Ex/s: 526.41\n",
            "\n",
            "---------------------\n",
            "\n",
            "===>  TRAIN Epoch 7\n"
          ]
        },
        {
          "output_type": "stream",
          "name": "stderr",
          "text": [
            "0% [██████████████████████████████] 100% | ETA: 00:00:00\n",
            "Total time elapsed: 00:00:45\n"
          ]
        },
        {
          "output_type": "stream",
          "name": "stdout",
          "text": [
            "Finished Epoch 7 || Run Time:   19.6 | Load Time:   25.8 || F1:  99.41 | Prec:  99.22 | Rec:  99.59 || Ex/s: 379.79\n",
            "\n",
            "===>  EVAL Epoch 7\n"
          ]
        },
        {
          "output_type": "stream",
          "name": "stderr",
          "text": [
            "0% [██████████████████████████████] 100% | ETA: 00:00:00\n",
            "Total time elapsed: 00:00:10\n"
          ]
        },
        {
          "output_type": "stream",
          "name": "stdout",
          "text": [
            "Finished Epoch 7 || Run Time:    2.9 | Load Time:    7.8 || F1:  91.34 | Prec:  90.54 | Rec:  92.15 || Ex/s: 535.29\n",
            "\n",
            "* Best F1: tensor(91.3386, device='cuda:0')\n",
            "Saving best model...\n",
            "Done.\n",
            "---------------------\n",
            "\n",
            "===>  TRAIN Epoch 8\n"
          ]
        },
        {
          "output_type": "stream",
          "name": "stderr",
          "text": [
            "0% [██████████████████████████████] 100% | ETA: 00:00:00\n",
            "Total time elapsed: 00:00:44\n"
          ]
        },
        {
          "output_type": "stream",
          "name": "stdout",
          "text": [
            "Finished Epoch 8 || Run Time:   19.2 | Load Time:   25.4 || F1:  99.58 | Prec:  99.56 | Rec:  99.59 || Ex/s: 386.51\n",
            "\n",
            "===>  EVAL Epoch 8\n"
          ]
        },
        {
          "output_type": "stream",
          "name": "stderr",
          "text": [
            "0% [██████████████████████████████] 100% | ETA: 00:00:00\n",
            "Total time elapsed: 00:00:11\n"
          ]
        },
        {
          "output_type": "stream",
          "name": "stdout",
          "text": [
            "Finished Epoch 8 || Run Time:    3.0 | Load Time:    8.1 || F1:  91.84 | Prec:  89.67 | Rec:  94.11 || Ex/s: 513.93\n",
            "\n",
            "* Best F1: tensor(91.8377, device='cuda:0')\n",
            "Saving best model...\n",
            "Done.\n",
            "---------------------\n",
            "\n",
            "===>  TRAIN Epoch 9\n"
          ]
        },
        {
          "output_type": "stream",
          "name": "stderr",
          "text": [
            "0% [██████████████████████████████] 100% | ETA: 00:00:00\n",
            "Total time elapsed: 00:00:44\n"
          ]
        },
        {
          "output_type": "stream",
          "name": "stdout",
          "text": [
            "Finished Epoch 9 || Run Time:   19.1 | Load Time:   25.3 || F1:  99.61 | Prec:  99.53 | Rec:  99.69 || Ex/s: 387.56\n",
            "\n",
            "===>  EVAL Epoch 9\n"
          ]
        },
        {
          "output_type": "stream",
          "name": "stderr",
          "text": [
            "0% [██████████████████████████████] 100% | ETA: 00:00:00\n",
            "Total time elapsed: 00:00:10\n"
          ]
        },
        {
          "output_type": "stream",
          "name": "stdout",
          "text": [
            "Finished Epoch 9 || Run Time:    2.9 | Load Time:    7.8 || F1:  91.23 | Prec:  90.60 | Rec:  91.87 || Ex/s: 532.16\n",
            "\n",
            "---------------------\n",
            "\n",
            "===>  TRAIN Epoch 10\n"
          ]
        },
        {
          "output_type": "stream",
          "name": "stderr",
          "text": [
            "0% [██████████████████████████████] 100% | ETA: 00:00:00\n",
            "Total time elapsed: 00:00:44\n"
          ]
        },
        {
          "output_type": "stream",
          "name": "stdout",
          "text": [
            "Finished Epoch 10 || Run Time:   19.1 | Load Time:   25.3 || F1:  99.75 | Prec:  99.69 | Rec:  99.81 || Ex/s: 388.30\n",
            "\n",
            "===>  EVAL Epoch 10\n"
          ]
        },
        {
          "output_type": "stream",
          "name": "stderr",
          "text": [
            "0% [██████████████████████████████] 100% | ETA: 00:00:00\n",
            "Total time elapsed: 00:00:11\n"
          ]
        },
        {
          "output_type": "stream",
          "name": "stdout",
          "text": [
            "Finished Epoch 10 || Run Time:    3.1 | Load Time:    8.1 || F1:  91.32 | Prec:  89.36 | Rec:  93.36 || Ex/s: 513.45\n",
            "\n",
            "---------------------\n",
            "\n",
            "===>  TRAIN Epoch 11\n"
          ]
        },
        {
          "output_type": "stream",
          "name": "stderr",
          "text": [
            "0% [██████████████████████████████] 100% | ETA: 00:00:00\n",
            "Total time elapsed: 00:00:44\n"
          ]
        },
        {
          "output_type": "stream",
          "name": "stdout",
          "text": [
            "Finished Epoch 11 || Run Time:   19.1 | Load Time:   25.4 || F1:  99.80 | Prec:  99.75 | Rec:  99.84 || Ex/s: 387.08\n",
            "\n",
            "===>  EVAL Epoch 11\n"
          ]
        },
        {
          "output_type": "stream",
          "name": "stderr",
          "text": [
            "0% [██████████████████████████████] 100% | ETA: 00:00:00\n",
            "Total time elapsed: 00:00:10\n"
          ]
        },
        {
          "output_type": "stream",
          "name": "stdout",
          "text": [
            "Finished Epoch 11 || Run Time:    2.9 | Load Time:    7.8 || F1:  91.56 | Prec:  89.91 | Rec:  93.27 || Ex/s: 534.69\n",
            "\n",
            "---------------------\n",
            "\n",
            "===>  TRAIN Epoch 12\n"
          ]
        },
        {
          "output_type": "stream",
          "name": "stderr",
          "text": [
            "0% [██████████████████████████████] 100% | ETA: 00:00:00\n",
            "Total time elapsed: 00:00:44\n"
          ]
        },
        {
          "output_type": "stream",
          "name": "stdout",
          "text": [
            "Finished Epoch 12 || Run Time:   19.2 | Load Time:   25.4 || F1:  99.83 | Prec:  99.78 | Rec:  99.88 || Ex/s: 386.46\n",
            "\n",
            "===>  EVAL Epoch 12\n"
          ]
        },
        {
          "output_type": "stream",
          "name": "stderr",
          "text": [
            "0% [██████████████████████████████] 100% | ETA: 00:00:00\n",
            "Total time elapsed: 00:00:11\n"
          ]
        },
        {
          "output_type": "stream",
          "name": "stdout",
          "text": [
            "Finished Epoch 12 || Run Time:    3.1 | Load Time:    8.2 || F1:  91.47 | Prec:  91.26 | Rec:  91.68 || Ex/s: 508.44\n",
            "\n",
            "---------------------\n",
            "\n",
            "===>  TRAIN Epoch 13\n"
          ]
        },
        {
          "output_type": "stream",
          "name": "stderr",
          "text": [
            "0% [██████████████████████████████] 100% | ETA: 00:00:00\n",
            "Total time elapsed: 00:00:44\n"
          ]
        },
        {
          "output_type": "stream",
          "name": "stdout",
          "text": [
            "Finished Epoch 13 || Run Time:   19.4 | Load Time:   25.4 || F1:  99.86 | Prec:  99.84 | Rec:  99.88 || Ex/s: 384.94\n",
            "\n",
            "===>  EVAL Epoch 13\n"
          ]
        },
        {
          "output_type": "stream",
          "name": "stderr",
          "text": [
            "0% [██████████████████████████████] 100% | ETA: 00:00:00\n",
            "Total time elapsed: 00:00:10\n"
          ]
        },
        {
          "output_type": "stream",
          "name": "stdout",
          "text": [
            "Finished Epoch 13 || Run Time:    3.0 | Load Time:    7.9 || F1:  91.08 | Prec:  91.51 | Rec:  90.65 || Ex/s: 527.52\n",
            "\n",
            "---------------------\n",
            "\n",
            "===>  TRAIN Epoch 14\n"
          ]
        },
        {
          "output_type": "stream",
          "name": "stderr",
          "text": [
            "0% [██████████████████████████████] 100% | ETA: 00:00:00\n",
            "Total time elapsed: 00:00:44\n"
          ]
        },
        {
          "output_type": "stream",
          "name": "stdout",
          "text": [
            "Finished Epoch 14 || Run Time:   19.6 | Load Time:   25.7 || F1:  99.86 | Prec:  99.84 | Rec:  99.88 || Ex/s: 379.98\n",
            "\n",
            "===>  EVAL Epoch 14\n"
          ]
        },
        {
          "output_type": "stream",
          "name": "stderr",
          "text": [
            "0% [██████████████████████████████] 100% | ETA: 00:00:00\n",
            "Total time elapsed: 00:00:10\n"
          ]
        },
        {
          "output_type": "stream",
          "name": "stdout",
          "text": [
            "Finished Epoch 14 || Run Time:    2.9 | Load Time:    7.9 || F1:  91.21 | Prec:  91.29 | Rec:  91.12 || Ex/s: 531.30\n",
            "\n",
            "---------------------\n",
            "\n",
            "===>  TRAIN Epoch 15\n"
          ]
        },
        {
          "output_type": "stream",
          "name": "stderr",
          "text": [
            "0% [██████████████████████████████] 100% | ETA: 00:00:00\n",
            "Total time elapsed: 00:00:44\n"
          ]
        },
        {
          "output_type": "stream",
          "name": "stdout",
          "text": [
            "Finished Epoch 15 || Run Time:   19.5 | Load Time:   25.5 || F1:  99.88 | Prec:  99.88 | Rec:  99.88 || Ex/s: 382.32\n",
            "\n",
            "===>  EVAL Epoch 15\n"
          ]
        },
        {
          "output_type": "stream",
          "name": "stderr",
          "text": [
            "0% [██████████████████████████████] 100% | ETA: 00:00:00\n",
            "Total time elapsed: 00:00:10\n"
          ]
        },
        {
          "output_type": "stream",
          "name": "stdout",
          "text": [
            "Finished Epoch 15 || Run Time:    3.0 | Load Time:    7.8 || F1:  91.47 | Prec:  90.79 | Rec:  92.15 || Ex/s: 532.95\n",
            "\n",
            "---------------------\n",
            "\n",
            "Loading best model...\n",
            "Training done.\n"
          ]
        },
        {
          "output_type": "execute_result",
          "data": {
            "text/plain": [
              "tensor(91.8377, device='cuda:0')"
            ]
          },
          "metadata": {},
          "execution_count": 73
        }
      ],
      "source": [
        "model.run_train(\n",
        "    train,\n",
        "    validation,\n",
        "    epochs=15,\n",
        "    batch_size=32,\n",
        "    best_save_path='rnn_model.pth',\n",
        "    pos_neg_ratio=3)"
      ]
    },
    {
      "cell_type": "code",
      "execution_count": 74,
      "metadata": {
        "id": "aGKB9b1M6Af9",
        "colab": {
          "base_uri": "https://localhost:8080/"
        },
        "outputId": "7b329353-eaed-4bf5-dce7-e13dd7b4467b"
      },
      "outputs": [
        {
          "output_type": "stream",
          "name": "stdout",
          "text": [
            "===>  EVAL Epoch 8\n"
          ]
        },
        {
          "output_type": "stream",
          "name": "stderr",
          "text": [
            "/usr/local/lib/python3.7/dist-packages/torch/nn/modules/module.py:949: UserWarning: Using non-full backward hooks on a Module that does not take as input a single Tensor or a tuple of Tensors is deprecated and will be removed in future versions. This hook will be missing some of the grad_input. Please use register_full_backward_hook to get the documented behavior.\n",
            "  warnings.warn(\"Using non-full backward hooks on a Module that does not take as input a \"\n",
            "/usr/local/lib/python3.7/dist-packages/torch/nn/modules/module.py:939: UserWarning: Using non-full backward hooks on a Module that does not return a single Tensor or a tuple of Tensors is deprecated and will be removed in future versions. This hook will be missing some of the grad_output. Please use register_full_backward_hook to get the documented behavior.\n",
            "  warnings.warn(\"Using non-full backward hooks on a Module that does not return a \"\n",
            "/usr/local/lib/python3.7/dist-packages/torch/nn/modules/module.py:974: UserWarning: Using a non-full backward hook when the forward contains multiple autograd Nodes is deprecated and will be removed in future versions. This hook will be missing some grad_input. Please use register_full_backward_hook to get the documented behavior.\n",
            "  warnings.warn(\"Using a non-full backward hook when the forward contains multiple autograd Nodes \"\n",
            "0% [██████████████████████████████] 100% | ETA: 00:00:00\n",
            "Total time elapsed: 00:00:10\n"
          ]
        },
        {
          "output_type": "stream",
          "name": "stdout",
          "text": [
            "Finished Epoch 8 || Run Time:    3.0 | Load Time:    7.9 || F1:  90.24 | Prec:  86.99 | Rec:  93.74 || Ex/s: 526.85\n",
            "\n"
          ]
        },
        {
          "output_type": "execute_result",
          "data": {
            "text/plain": [
              "tensor(90.2384, device='cuda:0')"
            ]
          },
          "metadata": {},
          "execution_count": 74
        }
      ],
      "source": [
        "# Compute F1 on test set\n",
        "model.run_eval(test)"
      ]
    },
    {
      "cell_type": "markdown",
      "metadata": {
        "id": "vGOLtgtP6BTG"
      },
      "source": [
        "##### Walmart-Amazon"
      ]
    },
    {
      "cell_type": "code",
      "execution_count": 75,
      "metadata": {
        "id": "dFQXsL_J6BTH"
      },
      "outputs": [],
      "source": [
        "train, validation, test = dm.data.process(\n",
        "    path='/content/IC/datasesErros/FMedium_50_1_2/Structured/Walmart-Amazon/',\n",
        "    train='joined_train.csv',\n",
        "    validation='joined_valid.csv',\n",
        "    test='joined_test.csv')"
      ]
    },
    {
      "cell_type": "code",
      "execution_count": 76,
      "metadata": {
        "id": "7HIqkciW6BTI"
      },
      "outputs": [],
      "source": [
        "model = dm.MatchingModel(attr_summarizer='rnn')"
      ]
    },
    {
      "cell_type": "code",
      "execution_count": 77,
      "metadata": {
        "id": "MDr_sWKt6BTI",
        "colab": {
          "base_uri": "https://localhost:8080/"
        },
        "outputId": "7088ffd2-daec-44a2-e9e8-18eed5f4e4a2"
      },
      "outputs": [
        {
          "output_type": "stream",
          "name": "stdout",
          "text": [
            "* Number of trainable parameters: 2576402\n",
            "===>  TRAIN Epoch 1\n"
          ]
        },
        {
          "output_type": "stream",
          "name": "stderr",
          "text": [
            "/usr/local/lib/python3.7/dist-packages/torch/nn/modules/module.py:949: UserWarning: Using non-full backward hooks on a Module that does not take as input a single Tensor or a tuple of Tensors is deprecated and will be removed in future versions. This hook will be missing some of the grad_input. Please use register_full_backward_hook to get the documented behavior.\n",
            "  warnings.warn(\"Using non-full backward hooks on a Module that does not take as input a \"\n",
            "/usr/local/lib/python3.7/dist-packages/torch/nn/modules/module.py:974: UserWarning: Using a non-full backward hook when the forward contains multiple autograd Nodes is deprecated and will be removed in future versions. This hook will be missing some grad_input. Please use register_full_backward_hook to get the documented behavior.\n",
            "  warnings.warn(\"Using a non-full backward hook when the forward contains multiple autograd Nodes \"\n",
            "/usr/local/lib/python3.7/dist-packages/torch/nn/modules/module.py:939: UserWarning: Using non-full backward hooks on a Module that does not return a single Tensor or a tuple of Tensors is deprecated and will be removed in future versions. This hook will be missing some of the grad_output. Please use register_full_backward_hook to get the documented behavior.\n",
            "  warnings.warn(\"Using non-full backward hooks on a Module that does not return a \"\n",
            "/usr/local/lib/python3.7/dist-packages/torch/nn/functional.py:2742: UserWarning: reduction: 'mean' divides the total loss by both the batch size and the support size.'batchmean' divides only by the batch size, and aligns with the KL div math definition.'mean' will be changed to behave the same as 'batchmean' in the next major release.\n",
            "  \"reduction: 'mean' divides the total loss by both the batch size and the support size.\"\n",
            "0% [██████████████████████████████] 100% | ETA: 00:00:00\n",
            "Total time elapsed: 00:00:14\n"
          ]
        },
        {
          "output_type": "stream",
          "name": "stdout",
          "text": [
            "Finished Epoch 1 || Run Time:    7.7 | Load Time:    7.0 || F1:  31.57 | Prec:  57.87 | Rec:  21.70 || Ex/s: 418.19\n",
            "\n",
            "===>  EVAL Epoch 1\n"
          ]
        },
        {
          "output_type": "stream",
          "name": "stderr",
          "text": [
            "0% [█████████████] 100% | ETA: 00:00:00\n",
            "Total time elapsed: 00:00:03\n"
          ]
        },
        {
          "output_type": "stream",
          "name": "stdout",
          "text": [
            "Finished Epoch 1 || Run Time:    1.2 | Load Time:    2.2 || F1:  56.53 | Prec:  58.24 | Rec:  54.92 || Ex/s: 603.84\n",
            "\n",
            "* Best F1: tensor(56.5333, device='cuda:0')\n",
            "Saving best model...\n",
            "Done.\n",
            "---------------------\n",
            "\n",
            "===>  TRAIN Epoch 2\n"
          ]
        },
        {
          "output_type": "stream",
          "name": "stderr",
          "text": [
            "0% [██████████████████████████████] 100% | ETA: 00:00:00\n",
            "Total time elapsed: 00:00:14\n"
          ]
        },
        {
          "output_type": "stream",
          "name": "stdout",
          "text": [
            "Finished Epoch 2 || Run Time:    8.0 | Load Time:    7.2 || F1:  68.96 | Prec:  68.31 | Rec:  69.62 || Ex/s: 405.29\n",
            "\n",
            "===>  EVAL Epoch 2\n"
          ]
        },
        {
          "output_type": "stream",
          "name": "stderr",
          "text": [
            "0% [█████████████] 100% | ETA: 00:00:00\n",
            "Total time elapsed: 00:00:03\n"
          ]
        },
        {
          "output_type": "stream",
          "name": "stdout",
          "text": [
            "Finished Epoch 2 || Run Time:    1.2 | Load Time:    2.2 || F1:  58.30 | Prec:  49.46 | Rec:  70.98 || Ex/s: 602.32\n",
            "\n",
            "* Best F1: tensor(58.2979, device='cuda:0')\n",
            "Saving best model...\n",
            "Done.\n",
            "---------------------\n",
            "\n",
            "===>  TRAIN Epoch 3\n"
          ]
        },
        {
          "output_type": "stream",
          "name": "stderr",
          "text": [
            "0% [██████████████████████████████] 100% | ETA: 00:00:00\n",
            "Total time elapsed: 00:00:14\n"
          ]
        },
        {
          "output_type": "stream",
          "name": "stdout",
          "text": [
            "Finished Epoch 3 || Run Time:    7.7 | Load Time:    7.0 || F1:  87.57 | Prec:  83.26 | Rec:  92.36 || Ex/s: 419.53\n",
            "\n",
            "===>  EVAL Epoch 3\n"
          ]
        },
        {
          "output_type": "stream",
          "name": "stderr",
          "text": [
            "0% [█████████████] 100% | ETA: 00:00:00\n",
            "Total time elapsed: 00:00:03\n"
          ]
        },
        {
          "output_type": "stream",
          "name": "stdout",
          "text": [
            "Finished Epoch 3 || Run Time:    1.2 | Load Time:    2.2 || F1:  58.12 | Prec:  52.05 | Rec:  65.80 || Ex/s: 598.44\n",
            "\n",
            "---------------------\n",
            "\n",
            "===>  TRAIN Epoch 4\n"
          ]
        },
        {
          "output_type": "stream",
          "name": "stderr",
          "text": [
            "0% [██████████████████████████████] 100% | ETA: 00:00:00\n",
            "Total time elapsed: 00:00:14\n"
          ]
        },
        {
          "output_type": "stream",
          "name": "stdout",
          "text": [
            "Finished Epoch 4 || Run Time:    7.6 | Load Time:    6.9 || F1:  96.74 | Prec:  95.59 | Rec:  97.92 || Ex/s: 422.65\n",
            "\n",
            "===>  EVAL Epoch 4\n"
          ]
        },
        {
          "output_type": "stream",
          "name": "stderr",
          "text": [
            "0% [█████████████] 100% | ETA: 00:00:00\n",
            "Total time elapsed: 00:00:03\n"
          ]
        },
        {
          "output_type": "stream",
          "name": "stdout",
          "text": [
            "Finished Epoch 4 || Run Time:    1.2 | Load Time:    2.2 || F1:  61.62 | Prec:  67.07 | Rec:  56.99 || Ex/s: 602.55\n",
            "\n",
            "* Best F1: tensor(61.6247, device='cuda:0')\n",
            "Saving best model...\n",
            "Done.\n",
            "---------------------\n",
            "\n",
            "===>  TRAIN Epoch 5\n"
          ]
        },
        {
          "output_type": "stream",
          "name": "stderr",
          "text": [
            "0% [██████████████████████████████] 100% | ETA: 00:00:00\n",
            "Total time elapsed: 00:00:14\n"
          ]
        },
        {
          "output_type": "stream",
          "name": "stdout",
          "text": [
            "Finished Epoch 5 || Run Time:    7.7 | Load Time:    7.0 || F1:  98.45 | Prec:  97.77 | Rec:  99.13 || Ex/s: 418.80\n",
            "\n",
            "===>  EVAL Epoch 5\n"
          ]
        },
        {
          "output_type": "stream",
          "name": "stderr",
          "text": [
            "0% [█████████████] 100% | ETA: 00:00:00\n",
            "Total time elapsed: 00:00:03\n"
          ]
        },
        {
          "output_type": "stream",
          "name": "stdout",
          "text": [
            "Finished Epoch 5 || Run Time:    1.2 | Load Time:    2.2 || F1:  64.14 | Prec:  73.33 | Rec:  56.99 || Ex/s: 608.79\n",
            "\n",
            "* Best F1: tensor(64.1399, device='cuda:0')\n",
            "Saving best model...\n",
            "Done.\n",
            "---------------------\n",
            "\n",
            "===>  TRAIN Epoch 6\n"
          ]
        },
        {
          "output_type": "stream",
          "name": "stderr",
          "text": [
            "0% [██████████████████████████████] 100% | ETA: 00:00:00\n",
            "Total time elapsed: 00:00:14\n"
          ]
        },
        {
          "output_type": "stream",
          "name": "stdout",
          "text": [
            "Finished Epoch 6 || Run Time:    7.6 | Load Time:    6.9 || F1:  99.22 | Prec:  98.96 | Rec:  99.48 || Ex/s: 421.68\n",
            "\n",
            "===>  EVAL Epoch 6\n"
          ]
        },
        {
          "output_type": "stream",
          "name": "stderr",
          "text": [
            "0% [█████████████] 100% | ETA: 00:00:00\n",
            "Total time elapsed: 00:00:03\n"
          ]
        },
        {
          "output_type": "stream",
          "name": "stdout",
          "text": [
            "Finished Epoch 6 || Run Time:    1.2 | Load Time:    2.2 || F1:  65.10 | Prec:  75.00 | Rec:  57.51 || Ex/s: 606.56\n",
            "\n",
            "* Best F1: tensor(65.1026, device='cuda:0')\n",
            "Saving best model...\n",
            "Done.\n",
            "---------------------\n",
            "\n",
            "===>  TRAIN Epoch 7\n"
          ]
        },
        {
          "output_type": "stream",
          "name": "stderr",
          "text": [
            "0% [██████████████████████████████] 100% | ETA: 00:00:00\n",
            "Total time elapsed: 00:00:14\n"
          ]
        },
        {
          "output_type": "stream",
          "name": "stdout",
          "text": [
            "Finished Epoch 7 || Run Time:    7.6 | Load Time:    6.9 || F1:  99.83 | Prec:  99.65 | Rec: 100.00 || Ex/s: 422.35\n",
            "\n",
            "===>  EVAL Epoch 7\n"
          ]
        },
        {
          "output_type": "stream",
          "name": "stderr",
          "text": [
            "0% [█████████████] 100% | ETA: 00:00:00\n",
            "Total time elapsed: 00:00:03\n"
          ]
        },
        {
          "output_type": "stream",
          "name": "stdout",
          "text": [
            "Finished Epoch 7 || Run Time:    1.2 | Load Time:    2.2 || F1:  64.81 | Prec:  80.15 | Rec:  54.40 || Ex/s: 601.05\n",
            "\n",
            "---------------------\n",
            "\n",
            "===>  TRAIN Epoch 8\n"
          ]
        },
        {
          "output_type": "stream",
          "name": "stderr",
          "text": [
            "0% [██████████████████████████████] 100% | ETA: 00:00:00\n",
            "Total time elapsed: 00:00:14\n"
          ]
        },
        {
          "output_type": "stream",
          "name": "stdout",
          "text": [
            "Finished Epoch 8 || Run Time:    7.9 | Load Time:    7.2 || F1: 100.00 | Prec: 100.00 | Rec: 100.00 || Ex/s: 405.90\n",
            "\n",
            "===>  EVAL Epoch 8\n"
          ]
        },
        {
          "output_type": "stream",
          "name": "stderr",
          "text": [
            "0% [█████████████] 100% | ETA: 00:00:00\n",
            "Total time elapsed: 00:00:03\n"
          ]
        },
        {
          "output_type": "stream",
          "name": "stdout",
          "text": [
            "Finished Epoch 8 || Run Time:    1.2 | Load Time:    2.2 || F1:  63.98 | Prec:  79.84 | Rec:  53.37 || Ex/s: 604.33\n",
            "\n",
            "---------------------\n",
            "\n",
            "===>  TRAIN Epoch 9\n"
          ]
        },
        {
          "output_type": "stream",
          "name": "stderr",
          "text": [
            "0% [██████████████████████████████] 100% | ETA: 00:00:00\n",
            "Total time elapsed: 00:00:14\n"
          ]
        },
        {
          "output_type": "stream",
          "name": "stdout",
          "text": [
            "Finished Epoch 9 || Run Time:    7.6 | Load Time:    6.9 || F1: 100.00 | Prec: 100.00 | Rec: 100.00 || Ex/s: 423.81\n",
            "\n",
            "===>  EVAL Epoch 9\n"
          ]
        },
        {
          "output_type": "stream",
          "name": "stderr",
          "text": [
            "0% [█████████████] 100% | ETA: 00:00:00\n",
            "Total time elapsed: 00:00:03\n"
          ]
        },
        {
          "output_type": "stream",
          "name": "stdout",
          "text": [
            "Finished Epoch 9 || Run Time:    1.2 | Load Time:    2.2 || F1:  64.00 | Prec:  78.79 | Rec:  53.89 || Ex/s: 608.92\n",
            "\n",
            "---------------------\n",
            "\n",
            "===>  TRAIN Epoch 10\n"
          ]
        },
        {
          "output_type": "stream",
          "name": "stderr",
          "text": [
            "0% [██████████████████████████████] 100% | ETA: 00:00:00\n",
            "Total time elapsed: 00:00:14\n"
          ]
        },
        {
          "output_type": "stream",
          "name": "stdout",
          "text": [
            "Finished Epoch 10 || Run Time:    7.6 | Load Time:    6.9 || F1: 100.00 | Prec: 100.00 | Rec: 100.00 || Ex/s: 423.53\n",
            "\n",
            "===>  EVAL Epoch 10\n"
          ]
        },
        {
          "output_type": "stream",
          "name": "stderr",
          "text": [
            "0% [█████████████] 100% | ETA: 00:00:00\n",
            "Total time elapsed: 00:00:03\n"
          ]
        },
        {
          "output_type": "stream",
          "name": "stdout",
          "text": [
            "Finished Epoch 10 || Run Time:    1.2 | Load Time:    2.2 || F1:  63.58 | Prec:  78.63 | Rec:  53.37 || Ex/s: 608.41\n",
            "\n",
            "---------------------\n",
            "\n",
            "===>  TRAIN Epoch 11\n"
          ]
        },
        {
          "output_type": "stream",
          "name": "stderr",
          "text": [
            "0% [██████████████████████████████] 100% | ETA: 00:00:00\n",
            "Total time elapsed: 00:00:14\n"
          ]
        },
        {
          "output_type": "stream",
          "name": "stdout",
          "text": [
            "Finished Epoch 11 || Run Time:    7.6 | Load Time:    6.9 || F1: 100.00 | Prec: 100.00 | Rec: 100.00 || Ex/s: 422.24\n",
            "\n",
            "===>  EVAL Epoch 11\n"
          ]
        },
        {
          "output_type": "stream",
          "name": "stderr",
          "text": [
            "0% [█████████████] 100% | ETA: 00:00:00\n",
            "Total time elapsed: 00:00:03\n"
          ]
        },
        {
          "output_type": "stream",
          "name": "stdout",
          "text": [
            "Finished Epoch 11 || Run Time:    1.2 | Load Time:    2.2 || F1:  63.13 | Prec:  79.53 | Rec:  52.33 || Ex/s: 605.86\n",
            "\n",
            "---------------------\n",
            "\n",
            "===>  TRAIN Epoch 12\n"
          ]
        },
        {
          "output_type": "stream",
          "name": "stderr",
          "text": [
            "0% [██████████████████████████████] 100% | ETA: 00:00:00\n",
            "Total time elapsed: 00:00:14\n"
          ]
        },
        {
          "output_type": "stream",
          "name": "stdout",
          "text": [
            "Finished Epoch 12 || Run Time:    7.6 | Load Time:    6.9 || F1: 100.00 | Prec: 100.00 | Rec: 100.00 || Ex/s: 421.51\n",
            "\n",
            "===>  EVAL Epoch 12\n"
          ]
        },
        {
          "output_type": "stream",
          "name": "stderr",
          "text": [
            "0% [█████████████] 100% | ETA: 00:00:00\n",
            "Total time elapsed: 00:00:03\n"
          ]
        },
        {
          "output_type": "stream",
          "name": "stdout",
          "text": [
            "Finished Epoch 12 || Run Time:    1.2 | Load Time:    2.2 || F1:  62.66 | Prec:  80.49 | Rec:  51.30 || Ex/s: 605.36\n",
            "\n",
            "---------------------\n",
            "\n",
            "===>  TRAIN Epoch 13\n"
          ]
        },
        {
          "output_type": "stream",
          "name": "stderr",
          "text": [
            "0% [██████████████████████████████] 100% | ETA: 00:00:00\n",
            "Total time elapsed: 00:00:14\n"
          ]
        },
        {
          "output_type": "stream",
          "name": "stdout",
          "text": [
            "Finished Epoch 13 || Run Time:    7.6 | Load Time:    6.9 || F1: 100.00 | Prec: 100.00 | Rec: 100.00 || Ex/s: 422.68\n",
            "\n",
            "===>  EVAL Epoch 13\n"
          ]
        },
        {
          "output_type": "stream",
          "name": "stderr",
          "text": [
            "0% [█████████████] 100% | ETA: 00:00:00\n",
            "Total time elapsed: 00:00:03\n"
          ]
        },
        {
          "output_type": "stream",
          "name": "stdout",
          "text": [
            "Finished Epoch 13 || Run Time:    1.2 | Load Time:    2.2 || F1:  62.66 | Prec:  80.49 | Rec:  51.30 || Ex/s: 609.04\n",
            "\n",
            "---------------------\n",
            "\n",
            "===>  TRAIN Epoch 14\n"
          ]
        },
        {
          "output_type": "stream",
          "name": "stderr",
          "text": [
            "0% [██████████████████████████████] 100% | ETA: 00:00:00\n",
            "Total time elapsed: 00:00:14\n"
          ]
        },
        {
          "output_type": "stream",
          "name": "stdout",
          "text": [
            "Finished Epoch 14 || Run Time:    7.9 | Load Time:    7.2 || F1: 100.00 | Prec: 100.00 | Rec: 100.00 || Ex/s: 408.38\n",
            "\n",
            "===>  EVAL Epoch 14\n"
          ]
        },
        {
          "output_type": "stream",
          "name": "stderr",
          "text": [
            "0% [█████████████] 100% | ETA: 00:00:00\n",
            "Total time elapsed: 00:00:03\n"
          ]
        },
        {
          "output_type": "stream",
          "name": "stdout",
          "text": [
            "Finished Epoch 14 || Run Time:    1.2 | Load Time:    2.2 || F1:  62.66 | Prec:  80.49 | Rec:  51.30 || Ex/s: 611.54\n",
            "\n",
            "---------------------\n",
            "\n",
            "===>  TRAIN Epoch 15\n"
          ]
        },
        {
          "output_type": "stream",
          "name": "stderr",
          "text": [
            "0% [██████████████████████████████] 100% | ETA: 00:00:00\n",
            "Total time elapsed: 00:00:14\n"
          ]
        },
        {
          "output_type": "stream",
          "name": "stdout",
          "text": [
            "Finished Epoch 15 || Run Time:    7.6 | Load Time:    6.9 || F1: 100.00 | Prec: 100.00 | Rec: 100.00 || Ex/s: 423.22\n",
            "\n",
            "===>  EVAL Epoch 15\n"
          ]
        },
        {
          "output_type": "stream",
          "name": "stderr",
          "text": [
            "0% [█████████████] 100% | ETA: 00:00:00\n",
            "Total time elapsed: 00:00:03\n"
          ]
        },
        {
          "output_type": "stream",
          "name": "stdout",
          "text": [
            "Finished Epoch 15 || Run Time:    1.2 | Load Time:    2.2 || F1:  62.46 | Prec:  79.84 | Rec:  51.30 || Ex/s: 604.35\n",
            "\n",
            "---------------------\n",
            "\n",
            "Loading best model...\n",
            "Training done.\n"
          ]
        },
        {
          "output_type": "execute_result",
          "data": {
            "text/plain": [
              "tensor(65.1026, device='cuda:0')"
            ]
          },
          "metadata": {},
          "execution_count": 77
        }
      ],
      "source": [
        "model.run_train(\n",
        "    train,\n",
        "    validation,\n",
        "    epochs=15,\n",
        "    batch_size=32,\n",
        "    best_save_path='rnn_model.pth',\n",
        "    pos_neg_ratio=3)"
      ]
    },
    {
      "cell_type": "code",
      "execution_count": 78,
      "metadata": {
        "id": "i-fh3ga26BTI",
        "colab": {
          "base_uri": "https://localhost:8080/"
        },
        "outputId": "57654fa0-56df-4803-cf19-bb3d49306466"
      },
      "outputs": [
        {
          "output_type": "stream",
          "name": "stdout",
          "text": [
            "===>  EVAL Epoch 6\n"
          ]
        },
        {
          "output_type": "stream",
          "name": "stderr",
          "text": [
            "/usr/local/lib/python3.7/dist-packages/torch/nn/modules/module.py:949: UserWarning: Using non-full backward hooks on a Module that does not take as input a single Tensor or a tuple of Tensors is deprecated and will be removed in future versions. This hook will be missing some of the grad_input. Please use register_full_backward_hook to get the documented behavior.\n",
            "  warnings.warn(\"Using non-full backward hooks on a Module that does not take as input a \"\n",
            "/usr/local/lib/python3.7/dist-packages/torch/nn/modules/module.py:939: UserWarning: Using non-full backward hooks on a Module that does not return a single Tensor or a tuple of Tensors is deprecated and will be removed in future versions. This hook will be missing some of the grad_output. Please use register_full_backward_hook to get the documented behavior.\n",
            "  warnings.warn(\"Using non-full backward hooks on a Module that does not return a \"\n",
            "/usr/local/lib/python3.7/dist-packages/torch/nn/modules/module.py:974: UserWarning: Using a non-full backward hook when the forward contains multiple autograd Nodes is deprecated and will be removed in future versions. This hook will be missing some grad_input. Please use register_full_backward_hook to get the documented behavior.\n",
            "  warnings.warn(\"Using a non-full backward hook when the forward contains multiple autograd Nodes \"\n",
            "0% [█████████████] 100% | ETA: 00:00:00\n",
            "Total time elapsed: 00:00:03\n"
          ]
        },
        {
          "output_type": "stream",
          "name": "stdout",
          "text": [
            "Finished Epoch 6 || Run Time:    1.2 | Load Time:    2.2 || F1:  66.08 | Prec:  75.84 | Rec:  58.55 || Ex/s: 602.70\n",
            "\n"
          ]
        },
        {
          "output_type": "execute_result",
          "data": {
            "text/plain": [
              "tensor(66.0819, device='cuda:0')"
            ]
          },
          "metadata": {},
          "execution_count": 78
        }
      ],
      "source": [
        "# Compute F1 on test set\n",
        "model.run_eval(test)"
      ]
    },
    {
      "cell_type": "markdown",
      "metadata": {
        "id": "aHsurHMd6BTJ"
      },
      "source": [
        "#### TEXTUAL"
      ]
    },
    {
      "cell_type": "markdown",
      "metadata": {
        "id": "k3fxGhmL6qjr"
      },
      "source": [
        "##### Abt-Buy"
      ]
    },
    {
      "cell_type": "code",
      "execution_count": 79,
      "metadata": {
        "id": "Wv4spd7L6qjs"
      },
      "outputs": [],
      "source": [
        "train, validation, test = dm.data.process(\n",
        "    path='/content/IC/datasesErros/FMedium_50_1_2/Textual/Abt-Buy/',\n",
        "    train='joined_train.csv',\n",
        "    validation='joined_valid.csv',\n",
        "    test='joined_test.csv')"
      ]
    },
    {
      "cell_type": "code",
      "execution_count": 80,
      "metadata": {
        "id": "mpf83bRy6qjt"
      },
      "outputs": [],
      "source": [
        "model = dm.MatchingModel(attr_summarizer='rnn')"
      ]
    },
    {
      "cell_type": "code",
      "execution_count": 81,
      "metadata": {
        "id": "_c0rrNjk6qjt",
        "colab": {
          "base_uri": "https://localhost:8080/"
        },
        "outputId": "eddc70a1-3eef-4eb4-95d1-2311f557b24a"
      },
      "outputs": [
        {
          "output_type": "stream",
          "name": "stdout",
          "text": [
            "* Number of trainable parameters: 1762802\n",
            "===>  TRAIN Epoch 1\n"
          ]
        },
        {
          "output_type": "stream",
          "name": "stderr",
          "text": [
            "/usr/local/lib/python3.7/dist-packages/torch/nn/modules/module.py:949: UserWarning: Using non-full backward hooks on a Module that does not take as input a single Tensor or a tuple of Tensors is deprecated and will be removed in future versions. This hook will be missing some of the grad_input. Please use register_full_backward_hook to get the documented behavior.\n",
            "  warnings.warn(\"Using non-full backward hooks on a Module that does not take as input a \"\n",
            "/usr/local/lib/python3.7/dist-packages/torch/nn/modules/module.py:974: UserWarning: Using a non-full backward hook when the forward contains multiple autograd Nodes is deprecated and will be removed in future versions. This hook will be missing some grad_input. Please use register_full_backward_hook to get the documented behavior.\n",
            "  warnings.warn(\"Using a non-full backward hook when the forward contains multiple autograd Nodes \"\n",
            "/usr/local/lib/python3.7/dist-packages/torch/nn/modules/module.py:939: UserWarning: Using non-full backward hooks on a Module that does not return a single Tensor or a tuple of Tensors is deprecated and will be removed in future versions. This hook will be missing some of the grad_output. Please use register_full_backward_hook to get the documented behavior.\n",
            "  warnings.warn(\"Using non-full backward hooks on a Module that does not return a \"\n",
            "/usr/local/lib/python3.7/dist-packages/torch/nn/functional.py:2742: UserWarning: reduction: 'mean' divides the total loss by both the batch size and the support size.'batchmean' divides only by the batch size, and aligns with the KL div math definition.'mean' will be changed to behave the same as 'batchmean' in the next major release.\n",
            "  \"reduction: 'mean' divides the total loss by both the batch size and the support size.\"\n",
            "0% [██████████████████████████████] 100% | ETA: 00:00:00\n",
            "Total time elapsed: 00:00:17\n"
          ]
        },
        {
          "output_type": "stream",
          "name": "stdout",
          "text": [
            "Finished Epoch 1 || Run Time:    6.5 | Load Time:   11.2 || F1:  18.75 | Prec:  30.00 | Rec:  13.64 || Ex/s: 324.34\n",
            "\n",
            "===>  EVAL Epoch 1\n"
          ]
        },
        {
          "output_type": "stream",
          "name": "stderr",
          "text": [
            "0% [████████████] 100% | ETA: 00:00:00\n",
            "Total time elapsed: 00:00:04\n"
          ]
        },
        {
          "output_type": "stream",
          "name": "stdout",
          "text": [
            "Finished Epoch 1 || Run Time:    0.9 | Load Time:    3.3 || F1:  30.67 | Prec:  28.28 | Rec:  33.50 || Ex/s: 453.73\n",
            "\n",
            "* Best F1: tensor(30.6667, device='cuda:0')\n",
            "Saving best model...\n",
            "Done.\n",
            "---------------------\n",
            "\n",
            "===>  TRAIN Epoch 2\n"
          ]
        },
        {
          "output_type": "stream",
          "name": "stderr",
          "text": [
            "0% [██████████████████████████████] 100% | ETA: 00:00:00\n",
            "Total time elapsed: 00:00:17\n"
          ]
        },
        {
          "output_type": "stream",
          "name": "stdout",
          "text": [
            "Finished Epoch 2 || Run Time:    6.5 | Load Time:   11.1 || F1:  46.81 | Prec:  44.51 | Rec:  49.35 || Ex/s: 326.45\n",
            "\n",
            "===>  EVAL Epoch 2\n"
          ]
        },
        {
          "output_type": "stream",
          "name": "stderr",
          "text": [
            "0% [████████████] 100% | ETA: 00:00:00\n",
            "Total time elapsed: 00:00:04\n"
          ]
        },
        {
          "output_type": "stream",
          "name": "stdout",
          "text": [
            "Finished Epoch 2 || Run Time:    0.9 | Load Time:    3.3 || F1:  36.49 | Prec:  35.65 | Rec:  37.38 || Ex/s: 452.67\n",
            "\n",
            "* Best F1: tensor(36.4929, device='cuda:0')\n",
            "Saving best model...\n",
            "Done.\n",
            "---------------------\n",
            "\n",
            "===>  TRAIN Epoch 3\n"
          ]
        },
        {
          "output_type": "stream",
          "name": "stderr",
          "text": [
            "0% [██████████████████████████████] 100% | ETA: 00:00:00\n",
            "Total time elapsed: 00:00:17\n"
          ]
        },
        {
          "output_type": "stream",
          "name": "stdout",
          "text": [
            "Finished Epoch 3 || Run Time:    6.4 | Load Time:   11.2 || F1:  64.71 | Prec:  55.75 | Rec:  77.11 || Ex/s: 325.87\n",
            "\n",
            "===>  EVAL Epoch 3\n"
          ]
        },
        {
          "output_type": "stream",
          "name": "stderr",
          "text": [
            "0% [████████████] 100% | ETA: 00:00:00\n",
            "Total time elapsed: 00:00:04\n"
          ]
        },
        {
          "output_type": "stream",
          "name": "stdout",
          "text": [
            "Finished Epoch 3 || Run Time:    0.9 | Load Time:    3.3 || F1:  40.38 | Prec:  33.23 | Rec:  51.46 || Ex/s: 454.16\n",
            "\n",
            "* Best F1: tensor(40.3810, device='cuda:0')\n",
            "Saving best model...\n",
            "Done.\n",
            "---------------------\n",
            "\n",
            "===>  TRAIN Epoch 4\n"
          ]
        },
        {
          "output_type": "stream",
          "name": "stderr",
          "text": [
            "0% [██████████████████████████████] 100% | ETA: 00:00:00\n",
            "Total time elapsed: 00:00:17\n"
          ]
        },
        {
          "output_type": "stream",
          "name": "stdout",
          "text": [
            "Finished Epoch 4 || Run Time:    6.6 | Load Time:   11.4 || F1:  79.83 | Prec:  72.18 | Rec:  89.29 || Ex/s: 318.56\n",
            "\n",
            "===>  EVAL Epoch 4\n"
          ]
        },
        {
          "output_type": "stream",
          "name": "stderr",
          "text": [
            "0% [████████████] 100% | ETA: 00:00:00\n",
            "Total time elapsed: 00:00:04\n"
          ]
        },
        {
          "output_type": "stream",
          "name": "stdout",
          "text": [
            "Finished Epoch 4 || Run Time:    0.9 | Load Time:    3.3 || F1:  42.32 | Prec:  39.09 | Rec:  46.12 || Ex/s: 458.33\n",
            "\n",
            "* Best F1: tensor(42.3163, device='cuda:0')\n",
            "Saving best model...\n",
            "Done.\n",
            "---------------------\n",
            "\n",
            "===>  TRAIN Epoch 5\n"
          ]
        },
        {
          "output_type": "stream",
          "name": "stderr",
          "text": [
            "0% [██████████████████████████████] 100% | ETA: 00:00:00\n",
            "Total time elapsed: 00:00:17\n"
          ]
        },
        {
          "output_type": "stream",
          "name": "stdout",
          "text": [
            "Finished Epoch 5 || Run Time:    6.5 | Load Time:   11.2 || F1:  87.91 | Prec:  83.60 | Rec:  92.69 || Ex/s: 324.30\n",
            "\n",
            "===>  EVAL Epoch 5\n"
          ]
        },
        {
          "output_type": "stream",
          "name": "stderr",
          "text": [
            "0% [████████████] 100% | ETA: 00:00:00\n",
            "Total time elapsed: 00:00:04\n"
          ]
        },
        {
          "output_type": "stream",
          "name": "stdout",
          "text": [
            "Finished Epoch 5 || Run Time:    0.9 | Load Time:    3.3 || F1:  40.10 | Prec:  40.91 | Rec:  39.32 || Ex/s: 454.33\n",
            "\n",
            "---------------------\n",
            "\n",
            "===>  TRAIN Epoch 6\n"
          ]
        },
        {
          "output_type": "stream",
          "name": "stderr",
          "text": [
            "0% [██████████████████████████████] 100% | ETA: 00:00:00\n",
            "Total time elapsed: 00:00:17\n"
          ]
        },
        {
          "output_type": "stream",
          "name": "stdout",
          "text": [
            "Finished Epoch 6 || Run Time:    6.5 | Load Time:   11.2 || F1:  92.05 | Prec:  89.31 | Rec:  94.97 || Ex/s: 325.76\n",
            "\n",
            "===>  EVAL Epoch 6\n"
          ]
        },
        {
          "output_type": "stream",
          "name": "stderr",
          "text": [
            "0% [████████████] 100% | ETA: 00:00:00\n",
            "Total time elapsed: 00:00:04\n"
          ]
        },
        {
          "output_type": "stream",
          "name": "stdout",
          "text": [
            "Finished Epoch 6 || Run Time:    0.9 | Load Time:    3.3 || F1:  40.09 | Prec:  37.77 | Rec:  42.72 || Ex/s: 455.48\n",
            "\n",
            "---------------------\n",
            "\n",
            "===>  TRAIN Epoch 7\n"
          ]
        },
        {
          "output_type": "stream",
          "name": "stderr",
          "text": [
            "0% [██████████████████████████████] 100% | ETA: 00:00:00\n",
            "Total time elapsed: 00:00:17\n"
          ]
        },
        {
          "output_type": "stream",
          "name": "stdout",
          "text": [
            "Finished Epoch 7 || Run Time:    6.4 | Load Time:   11.1 || F1:  95.47 | Prec:  93.60 | Rec:  97.40 || Ex/s: 326.64\n",
            "\n",
            "===>  EVAL Epoch 7\n"
          ]
        },
        {
          "output_type": "stream",
          "name": "stderr",
          "text": [
            "0% [████████████] 100% | ETA: 00:00:00\n",
            "Total time elapsed: 00:00:04\n"
          ]
        },
        {
          "output_type": "stream",
          "name": "stdout",
          "text": [
            "Finished Epoch 7 || Run Time:    0.9 | Load Time:    3.3 || F1:  37.23 | Prec:  41.18 | Rec:  33.98 || Ex/s: 457.61\n",
            "\n",
            "---------------------\n",
            "\n",
            "===>  TRAIN Epoch 8\n"
          ]
        },
        {
          "output_type": "stream",
          "name": "stderr",
          "text": [
            "0% [██████████████████████████████] 100% | ETA: 00:00:00\n",
            "Total time elapsed: 00:00:17\n"
          ]
        },
        {
          "output_type": "stream",
          "name": "stdout",
          "text": [
            "Finished Epoch 8 || Run Time:    6.5 | Load Time:   11.1 || F1:  97.59 | Prec:  96.66 | Rec:  98.54 || Ex/s: 325.77\n",
            "\n",
            "===>  EVAL Epoch 8\n"
          ]
        },
        {
          "output_type": "stream",
          "name": "stderr",
          "text": [
            "0% [████████████] 100% | ETA: 00:00:00\n",
            "Total time elapsed: 00:00:04\n"
          ]
        },
        {
          "output_type": "stream",
          "name": "stdout",
          "text": [
            "Finished Epoch 8 || Run Time:    0.9 | Load Time:    3.3 || F1:  35.69 | Prec:  48.74 | Rec:  28.16 || Ex/s: 453.99\n",
            "\n",
            "---------------------\n",
            "\n",
            "===>  TRAIN Epoch 9\n"
          ]
        },
        {
          "output_type": "stream",
          "name": "stderr",
          "text": [
            "0% [██████████████████████████████] 100% | ETA: 00:00:00\n",
            "Total time elapsed: 00:00:18\n"
          ]
        },
        {
          "output_type": "stream",
          "name": "stdout",
          "text": [
            "Finished Epoch 9 || Run Time:    6.6 | Load Time:   11.5 || F1:  98.14 | Prec:  97.75 | Rec:  98.54 || Ex/s: 317.52\n",
            "\n",
            "===>  EVAL Epoch 9\n"
          ]
        },
        {
          "output_type": "stream",
          "name": "stderr",
          "text": [
            "0% [████████████] 100% | ETA: 00:00:00\n",
            "Total time elapsed: 00:00:04\n"
          ]
        },
        {
          "output_type": "stream",
          "name": "stdout",
          "text": [
            "Finished Epoch 9 || Run Time:    0.9 | Load Time:    3.3 || F1:  35.50 | Prec:  45.45 | Rec:  29.13 || Ex/s: 456.22\n",
            "\n",
            "---------------------\n",
            "\n",
            "===>  TRAIN Epoch 10\n"
          ]
        },
        {
          "output_type": "stream",
          "name": "stderr",
          "text": [
            "0% [██████████████████████████████] 100% | ETA: 00:00:00\n",
            "Total time elapsed: 00:00:17\n"
          ]
        },
        {
          "output_type": "stream",
          "name": "stdout",
          "text": [
            "Finished Epoch 10 || Run Time:    6.5 | Load Time:   11.1 || F1:  98.87 | Prec:  98.39 | Rec:  99.35 || Ex/s: 326.26\n",
            "\n",
            "===>  EVAL Epoch 10\n"
          ]
        },
        {
          "output_type": "stream",
          "name": "stderr",
          "text": [
            "0% [████████████] 100% | ETA: 00:00:00\n",
            "Total time elapsed: 00:00:04\n"
          ]
        },
        {
          "output_type": "stream",
          "name": "stdout",
          "text": [
            "Finished Epoch 10 || Run Time:    0.9 | Load Time:    3.3 || F1:  36.05 | Prec:  44.93 | Rec:  30.10 || Ex/s: 455.34\n",
            "\n",
            "---------------------\n",
            "\n",
            "===>  TRAIN Epoch 11\n"
          ]
        },
        {
          "output_type": "stream",
          "name": "stderr",
          "text": [
            "0% [██████████████████████████████] 100% | ETA: 00:00:00\n",
            "Total time elapsed: 00:00:17\n"
          ]
        },
        {
          "output_type": "stream",
          "name": "stdout",
          "text": [
            "Finished Epoch 11 || Run Time:    6.5 | Load Time:   11.1 || F1:  98.95 | Prec:  98.71 | Rec:  99.19 || Ex/s: 326.57\n",
            "\n",
            "===>  EVAL Epoch 11\n"
          ]
        },
        {
          "output_type": "stream",
          "name": "stderr",
          "text": [
            "0% [████████████] 100% | ETA: 00:00:00\n",
            "Total time elapsed: 00:00:04\n"
          ]
        },
        {
          "output_type": "stream",
          "name": "stdout",
          "text": [
            "Finished Epoch 11 || Run Time:    0.9 | Load Time:    3.3 || F1:  36.42 | Prec:  45.00 | Rec:  30.58 || Ex/s: 455.57\n",
            "\n",
            "---------------------\n",
            "\n",
            "===>  TRAIN Epoch 12\n"
          ]
        },
        {
          "output_type": "stream",
          "name": "stderr",
          "text": [
            "0% [██████████████████████████████] 100% | ETA: 00:00:00\n",
            "Total time elapsed: 00:00:17\n"
          ]
        },
        {
          "output_type": "stream",
          "name": "stdout",
          "text": [
            "Finished Epoch 12 || Run Time:    6.5 | Load Time:   11.2 || F1:  98.95 | Prec:  98.55 | Rec:  99.35 || Ex/s: 325.55\n",
            "\n",
            "===>  EVAL Epoch 12\n"
          ]
        },
        {
          "output_type": "stream",
          "name": "stderr",
          "text": [
            "0% [████████████] 100% | ETA: 00:00:00\n",
            "Total time elapsed: 00:00:04\n"
          ]
        },
        {
          "output_type": "stream",
          "name": "stdout",
          "text": [
            "Finished Epoch 12 || Run Time:    0.9 | Load Time:    3.3 || F1:  36.78 | Prec:  45.07 | Rec:  31.07 || Ex/s: 456.76\n",
            "\n",
            "---------------------\n",
            "\n",
            "===>  TRAIN Epoch 13\n"
          ]
        },
        {
          "output_type": "stream",
          "name": "stderr",
          "text": [
            "0% [██████████████████████████████] 100% | ETA: 00:00:00\n",
            "Total time elapsed: 00:00:17\n"
          ]
        },
        {
          "output_type": "stream",
          "name": "stdout",
          "text": [
            "Finished Epoch 13 || Run Time:    6.5 | Load Time:   11.1 || F1:  99.11 | Prec:  98.71 | Rec:  99.51 || Ex/s: 326.24\n",
            "\n",
            "===>  EVAL Epoch 13\n"
          ]
        },
        {
          "output_type": "stream",
          "name": "stderr",
          "text": [
            "0% [████████████] 100% | ETA: 00:00:00\n",
            "Total time elapsed: 00:00:04\n"
          ]
        },
        {
          "output_type": "stream",
          "name": "stdout",
          "text": [
            "Finished Epoch 13 || Run Time:    0.9 | Load Time:    3.3 || F1:  36.47 | Prec:  46.27 | Rec:  30.10 || Ex/s: 456.08\n",
            "\n",
            "---------------------\n",
            "\n",
            "===>  TRAIN Epoch 14\n"
          ]
        },
        {
          "output_type": "stream",
          "name": "stderr",
          "text": [
            "0% [██████████████████████████████] 100% | ETA: 00:00:00\n",
            "Total time elapsed: 00:00:17\n"
          ]
        },
        {
          "output_type": "stream",
          "name": "stdout",
          "text": [
            "Finished Epoch 14 || Run Time:    6.6 | Load Time:   11.4 || F1:  99.27 | Prec:  98.87 | Rec:  99.68 || Ex/s: 318.48\n",
            "\n",
            "===>  EVAL Epoch 14\n"
          ]
        },
        {
          "output_type": "stream",
          "name": "stderr",
          "text": [
            "0% [████████████] 100% | ETA: 00:00:00\n",
            "Total time elapsed: 00:00:04\n"
          ]
        },
        {
          "output_type": "stream",
          "name": "stdout",
          "text": [
            "Finished Epoch 14 || Run Time:    0.9 | Load Time:    3.3 || F1:  34.83 | Prec:  45.67 | Rec:  28.16 || Ex/s: 457.76\n",
            "\n",
            "---------------------\n",
            "\n",
            "===>  TRAIN Epoch 15\n"
          ]
        },
        {
          "output_type": "stream",
          "name": "stderr",
          "text": [
            "0% [██████████████████████████████] 100% | ETA: 00:00:00\n",
            "Total time elapsed: 00:00:17\n"
          ]
        },
        {
          "output_type": "stream",
          "name": "stdout",
          "text": [
            "Finished Epoch 15 || Run Time:    6.4 | Load Time:   11.2 || F1:  99.27 | Prec:  98.87 | Rec:  99.68 || Ex/s: 325.97\n",
            "\n",
            "===>  EVAL Epoch 15\n"
          ]
        },
        {
          "output_type": "stream",
          "name": "stderr",
          "text": [
            "0% [████████████] 100% | ETA: 00:00:00\n",
            "Total time elapsed: 00:00:04\n"
          ]
        },
        {
          "output_type": "stream",
          "name": "stdout",
          "text": [
            "Finished Epoch 15 || Run Time:    0.9 | Load Time:    3.3 || F1:  34.94 | Prec:  46.03 | Rec:  28.16 || Ex/s: 458.42\n",
            "\n",
            "---------------------\n",
            "\n",
            "Loading best model...\n",
            "Training done.\n"
          ]
        },
        {
          "output_type": "execute_result",
          "data": {
            "text/plain": [
              "tensor(42.3163, device='cuda:0')"
            ]
          },
          "metadata": {},
          "execution_count": 81
        }
      ],
      "source": [
        "model.run_train(\n",
        "    train,\n",
        "    validation,\n",
        "    epochs=15,\n",
        "    batch_size=32,\n",
        "    best_save_path='rnn_model.pth',\n",
        "    pos_neg_ratio=3)"
      ]
    },
    {
      "cell_type": "code",
      "execution_count": 82,
      "metadata": {
        "id": "Km4RlipY6qju",
        "colab": {
          "base_uri": "https://localhost:8080/"
        },
        "outputId": "d0bb785a-6d2f-4530-8d2e-9d7bf88d62c8"
      },
      "outputs": [
        {
          "output_type": "stream",
          "name": "stdout",
          "text": [
            "===>  EVAL Epoch 4\n"
          ]
        },
        {
          "output_type": "stream",
          "name": "stderr",
          "text": [
            "/usr/local/lib/python3.7/dist-packages/torch/nn/modules/module.py:949: UserWarning: Using non-full backward hooks on a Module that does not take as input a single Tensor or a tuple of Tensors is deprecated and will be removed in future versions. This hook will be missing some of the grad_input. Please use register_full_backward_hook to get the documented behavior.\n",
            "  warnings.warn(\"Using non-full backward hooks on a Module that does not take as input a \"\n",
            "/usr/local/lib/python3.7/dist-packages/torch/nn/modules/module.py:939: UserWarning: Using non-full backward hooks on a Module that does not return a single Tensor or a tuple of Tensors is deprecated and will be removed in future versions. This hook will be missing some of the grad_output. Please use register_full_backward_hook to get the documented behavior.\n",
            "  warnings.warn(\"Using non-full backward hooks on a Module that does not return a \"\n",
            "/usr/local/lib/python3.7/dist-packages/torch/nn/modules/module.py:974: UserWarning: Using a non-full backward hook when the forward contains multiple autograd Nodes is deprecated and will be removed in future versions. This hook will be missing some grad_input. Please use register_full_backward_hook to get the documented behavior.\n",
            "  warnings.warn(\"Using a non-full backward hook when the forward contains multiple autograd Nodes \"\n",
            "0% [████████████] 100% | ETA: 00:00:00\n",
            "Total time elapsed: 00:00:04\n"
          ]
        },
        {
          "output_type": "stream",
          "name": "stdout",
          "text": [
            "Finished Epoch 4 || Run Time:    0.9 | Load Time:    3.3 || F1:  35.40 | Prec:  32.52 | Rec:  38.83 || Ex/s: 454.47\n",
            "\n"
          ]
        },
        {
          "output_type": "execute_result",
          "data": {
            "text/plain": [
              "tensor(35.3982, device='cuda:0')"
            ]
          },
          "metadata": {},
          "execution_count": 82
        }
      ],
      "source": [
        "# Compute F1 on test set\n",
        "model.run_eval(test)"
      ]
    },
    {
      "cell_type": "markdown",
      "metadata": {
        "id": "UaPOwiMG6zMO"
      },
      "source": [
        "#### DIRTY"
      ]
    },
    {
      "cell_type": "markdown",
      "metadata": {
        "id": "X2m2jjkE7Hrp"
      },
      "source": [
        "##### DBLP-ACM"
      ]
    },
    {
      "cell_type": "code",
      "execution_count": 83,
      "metadata": {
        "id": "iqhh3a5c7Hrr"
      },
      "outputs": [],
      "source": [
        "train, validation, test = dm.data.process(\n",
        "    path='/content/IC/datasesErros/FMedium_50_1_2/Dirty/DBLP-ACM/',\n",
        "    train='joined_train.csv',\n",
        "    validation='joined_valid.csv',\n",
        "    test='joined_test.csv')"
      ]
    },
    {
      "cell_type": "code",
      "execution_count": 84,
      "metadata": {
        "id": "SCdyMpZE7Hrr"
      },
      "outputs": [],
      "source": [
        "model = dm.MatchingModel(attr_summarizer='rnn')"
      ]
    },
    {
      "cell_type": "code",
      "execution_count": 85,
      "metadata": {
        "id": "ySYX4lEM7Hrs",
        "colab": {
          "base_uri": "https://localhost:8080/"
        },
        "outputId": "d7e2ce0f-7019-4ed2-ca9d-6fb6a5b31a51"
      },
      "outputs": [
        {
          "output_type": "stream",
          "name": "stdout",
          "text": [
            "* Number of trainable parameters: 2169602\n",
            "===>  TRAIN Epoch 1\n"
          ]
        },
        {
          "output_type": "stream",
          "name": "stderr",
          "text": [
            "/usr/local/lib/python3.7/dist-packages/torch/nn/modules/module.py:949: UserWarning: Using non-full backward hooks on a Module that does not take as input a single Tensor or a tuple of Tensors is deprecated and will be removed in future versions. This hook will be missing some of the grad_input. Please use register_full_backward_hook to get the documented behavior.\n",
            "  warnings.warn(\"Using non-full backward hooks on a Module that does not take as input a \"\n",
            "/usr/local/lib/python3.7/dist-packages/torch/nn/modules/module.py:974: UserWarning: Using a non-full backward hook when the forward contains multiple autograd Nodes is deprecated and will be removed in future versions. This hook will be missing some grad_input. Please use register_full_backward_hook to get the documented behavior.\n",
            "  warnings.warn(\"Using a non-full backward hook when the forward contains multiple autograd Nodes \"\n",
            "/usr/local/lib/python3.7/dist-packages/torch/nn/modules/module.py:939: UserWarning: Using non-full backward hooks on a Module that does not return a single Tensor or a tuple of Tensors is deprecated and will be removed in future versions. This hook will be missing some of the grad_output. Please use register_full_backward_hook to get the documented behavior.\n",
            "  warnings.warn(\"Using non-full backward hooks on a Module that does not return a \"\n",
            "/usr/local/lib/python3.7/dist-packages/torch/nn/functional.py:2742: UserWarning: reduction: 'mean' divides the total loss by both the batch size and the support size.'batchmean' divides only by the batch size, and aligns with the KL div math definition.'mean' will be changed to behave the same as 'batchmean' in the next major release.\n",
            "  \"reduction: 'mean' divides the total loss by both the batch size and the support size.\"\n",
            "0% [██████████████████████████████] 100% | ETA: 00:00:00\n",
            "Total time elapsed: 00:00:24\n"
          ]
        },
        {
          "output_type": "stream",
          "name": "stdout",
          "text": [
            "Finished Epoch 1 || Run Time:    9.5 | Load Time:   15.2 || F1:  68.67 | Prec:  61.28 | Rec:  78.08 || Ex/s: 300.22\n",
            "\n",
            "===>  EVAL Epoch 1\n"
          ]
        },
        {
          "output_type": "stream",
          "name": "stderr",
          "text": [
            "0% [███████████████] 100% | ETA: 00:00:00\n",
            "Total time elapsed: 00:00:05\n"
          ]
        },
        {
          "output_type": "stream",
          "name": "stdout",
          "text": [
            "Finished Epoch 1 || Run Time:    1.4 | Load Time:    4.7 || F1:  83.68 | Prec:  73.92 | Rec:  96.40 || Ex/s: 403.22\n",
            "\n",
            "* Best F1: tensor(83.6755, device='cuda:0')\n",
            "Saving best model...\n",
            "Done.\n",
            "---------------------\n",
            "\n",
            "===>  TRAIN Epoch 2\n"
          ]
        },
        {
          "output_type": "stream",
          "name": "stderr",
          "text": [
            "0% [██████████████████████████████] 100% | ETA: 00:00:00\n",
            "Total time elapsed: 00:00:24\n"
          ]
        },
        {
          "output_type": "stream",
          "name": "stdout",
          "text": [
            "Finished Epoch 2 || Run Time:    9.5 | Load Time:   15.1 || F1:  90.33 | Prec:  86.06 | Rec:  95.05 || Ex/s: 301.81\n",
            "\n",
            "===>  EVAL Epoch 2\n"
          ]
        },
        {
          "output_type": "stream",
          "name": "stderr",
          "text": [
            "0% [███████████████] 100% | ETA: 00:00:00\n",
            "Total time elapsed: 00:00:05\n"
          ]
        },
        {
          "output_type": "stream",
          "name": "stdout",
          "text": [
            "Finished Epoch 2 || Run Time:    1.4 | Load Time:    4.7 || F1:  90.32 | Prec:  86.42 | Rec:  94.59 || Ex/s: 404.47\n",
            "\n",
            "* Best F1: tensor(90.3226, device='cuda:0')\n",
            "Saving best model...\n",
            "Done.\n",
            "---------------------\n",
            "\n",
            "===>  TRAIN Epoch 3\n"
          ]
        },
        {
          "output_type": "stream",
          "name": "stderr",
          "text": [
            "0% [██████████████████████████████] 100% | ETA: 00:00:00\n",
            "Total time elapsed: 00:00:24\n"
          ]
        },
        {
          "output_type": "stream",
          "name": "stdout",
          "text": [
            "Finished Epoch 3 || Run Time:    9.8 | Load Time:   15.4 || F1:  95.99 | Prec:  94.02 | Rec:  98.05 || Ex/s: 294.51\n",
            "\n",
            "===>  EVAL Epoch 3\n"
          ]
        },
        {
          "output_type": "stream",
          "name": "stderr",
          "text": [
            "0% [███████████████] 100% | ETA: 00:00:00\n",
            "Total time elapsed: 00:00:05\n"
          ]
        },
        {
          "output_type": "stream",
          "name": "stdout",
          "text": [
            "Finished Epoch 3 || Run Time:    1.4 | Load Time:    4.8 || F1:  91.19 | Prec:  88.21 | Rec:  94.37 || Ex/s: 400.55\n",
            "\n",
            "* Best F1: tensor(91.1861, device='cuda:0')\n",
            "Saving best model...\n",
            "Done.\n",
            "---------------------\n",
            "\n",
            "===>  TRAIN Epoch 4\n"
          ]
        },
        {
          "output_type": "stream",
          "name": "stderr",
          "text": [
            "0% [██████████████████████████████] 100% | ETA: 00:00:00\n",
            "Total time elapsed: 00:00:24\n"
          ]
        },
        {
          "output_type": "stream",
          "name": "stdout",
          "text": [
            "Finished Epoch 4 || Run Time:    9.6 | Load Time:   15.0 || F1:  98.33 | Prec:  97.35 | Rec:  99.32 || Ex/s: 301.46\n",
            "\n",
            "===>  EVAL Epoch 4\n"
          ]
        },
        {
          "output_type": "stream",
          "name": "stderr",
          "text": [
            "0% [███████████████] 100% | ETA: 00:00:00\n",
            "Total time elapsed: 00:00:05\n"
          ]
        },
        {
          "output_type": "stream",
          "name": "stdout",
          "text": [
            "Finished Epoch 4 || Run Time:    1.4 | Load Time:    4.7 || F1:  91.31 | Prec:  90.31 | Rec:  92.34 || Ex/s: 403.82\n",
            "\n",
            "* Best F1: tensor(91.3140, device='cuda:0')\n",
            "Saving best model...\n",
            "Done.\n",
            "---------------------\n",
            "\n",
            "===>  TRAIN Epoch 5\n"
          ]
        },
        {
          "output_type": "stream",
          "name": "stderr",
          "text": [
            "0% [██████████████████████████████] 100% | ETA: 00:00:00\n",
            "Total time elapsed: 00:00:24\n"
          ]
        },
        {
          "output_type": "stream",
          "name": "stdout",
          "text": [
            "Finished Epoch 5 || Run Time:    9.5 | Load Time:   15.1 || F1:  99.10 | Prec:  98.73 | Rec:  99.47 || Ex/s: 301.57\n",
            "\n",
            "===>  EVAL Epoch 5\n"
          ]
        },
        {
          "output_type": "stream",
          "name": "stderr",
          "text": [
            "0% [███████████████] 100% | ETA: 00:00:00\n",
            "Total time elapsed: 00:00:05\n"
          ]
        },
        {
          "output_type": "stream",
          "name": "stdout",
          "text": [
            "Finished Epoch 5 || Run Time:    1.4 | Load Time:    4.7 || F1:  91.37 | Prec:  89.78 | Rec:  93.02 || Ex/s: 403.74\n",
            "\n",
            "* Best F1: tensor(91.3717, device='cuda:0')\n",
            "Saving best model...\n",
            "Done.\n",
            "---------------------\n",
            "\n",
            "===>  TRAIN Epoch 6\n"
          ]
        },
        {
          "output_type": "stream",
          "name": "stderr",
          "text": [
            "0% [██████████████████████████████] 100% | ETA: 00:00:00\n",
            "Total time elapsed: 00:00:24\n"
          ]
        },
        {
          "output_type": "stream",
          "name": "stdout",
          "text": [
            "Finished Epoch 6 || Run Time:    9.5 | Load Time:   15.1 || F1:  99.62 | Prec:  99.62 | Rec:  99.62 || Ex/s: 300.72\n",
            "\n",
            "===>  EVAL Epoch 6\n"
          ]
        },
        {
          "output_type": "stream",
          "name": "stderr",
          "text": [
            "0% [███████████████] 100% | ETA: 00:00:00\n",
            "Total time elapsed: 00:00:06\n"
          ]
        },
        {
          "output_type": "stream",
          "name": "stdout",
          "text": [
            "Finished Epoch 6 || Run Time:    1.5 | Load Time:    5.1 || F1:  91.87 | Prec:  89.70 | Rec:  94.14 || Ex/s: 376.00\n",
            "\n",
            "* Best F1: tensor(91.8681, device='cuda:0')\n",
            "Saving best model...\n",
            "Done.\n",
            "---------------------\n",
            "\n",
            "===>  TRAIN Epoch 7\n"
          ]
        },
        {
          "output_type": "stream",
          "name": "stderr",
          "text": [
            "0% [██████████████████████████████] 100% | ETA: 00:00:00\n",
            "Total time elapsed: 00:00:24\n"
          ]
        },
        {
          "output_type": "stream",
          "name": "stdout",
          "text": [
            "Finished Epoch 7 || Run Time:    9.5 | Load Time:   15.0 || F1:  99.74 | Prec:  99.77 | Rec:  99.70 || Ex/s: 301.77\n",
            "\n",
            "===>  EVAL Epoch 7\n"
          ]
        },
        {
          "output_type": "stream",
          "name": "stderr",
          "text": [
            "0% [███████████████] 100% | ETA: 00:00:00\n",
            "Total time elapsed: 00:00:05\n"
          ]
        },
        {
          "output_type": "stream",
          "name": "stdout",
          "text": [
            "Finished Epoch 7 || Run Time:    1.4 | Load Time:    4.7 || F1:  91.45 | Prec:  89.10 | Rec:  93.92 || Ex/s: 403.03\n",
            "\n",
            "---------------------\n",
            "\n",
            "===>  TRAIN Epoch 8\n"
          ]
        },
        {
          "output_type": "stream",
          "name": "stderr",
          "text": [
            "0% [██████████████████████████████] 100% | ETA: 00:00:00\n",
            "Total time elapsed: 00:00:24\n"
          ]
        },
        {
          "output_type": "stream",
          "name": "stdout",
          "text": [
            "Finished Epoch 8 || Run Time:    9.5 | Load Time:   15.1 || F1:  99.89 | Prec: 100.00 | Rec:  99.77 || Ex/s: 301.09\n",
            "\n",
            "===>  EVAL Epoch 8\n"
          ]
        },
        {
          "output_type": "stream",
          "name": "stderr",
          "text": [
            "0% [███████████████] 100% | ETA: 00:00:00\n",
            "Total time elapsed: 00:00:05\n"
          ]
        },
        {
          "output_type": "stream",
          "name": "stdout",
          "text": [
            "Finished Epoch 8 || Run Time:    1.4 | Load Time:    4.7 || F1:  91.45 | Prec:  89.10 | Rec:  93.92 || Ex/s: 400.76\n",
            "\n",
            "---------------------\n",
            "\n",
            "===>  TRAIN Epoch 9\n"
          ]
        },
        {
          "output_type": "stream",
          "name": "stderr",
          "text": [
            "0% [██████████████████████████████] 100% | ETA: 00:00:00\n",
            "Total time elapsed: 00:00:24\n"
          ]
        },
        {
          "output_type": "stream",
          "name": "stdout",
          "text": [
            "Finished Epoch 9 || Run Time:    9.5 | Load Time:   15.0 || F1:  99.89 | Prec: 100.00 | Rec:  99.77 || Ex/s: 301.73\n",
            "\n",
            "===>  EVAL Epoch 9\n"
          ]
        },
        {
          "output_type": "stream",
          "name": "stderr",
          "text": [
            "0% [███████████████] 100% | ETA: 00:00:00\n",
            "Total time elapsed: 00:00:05\n"
          ]
        },
        {
          "output_type": "stream",
          "name": "stdout",
          "text": [
            "Finished Epoch 9 || Run Time:    1.4 | Load Time:    4.7 || F1:  91.45 | Prec:  89.10 | Rec:  93.92 || Ex/s: 403.45\n",
            "\n",
            "---------------------\n",
            "\n",
            "===>  TRAIN Epoch 10\n"
          ]
        },
        {
          "output_type": "stream",
          "name": "stderr",
          "text": [
            "0% [██████████████████████████████] 100% | ETA: 00:00:00\n",
            "Total time elapsed: 00:00:24\n"
          ]
        },
        {
          "output_type": "stream",
          "name": "stdout",
          "text": [
            "Finished Epoch 10 || Run Time:    9.7 | Load Time:   15.3 || F1:  99.89 | Prec: 100.00 | Rec:  99.77 || Ex/s: 296.78\n",
            "\n",
            "===>  EVAL Epoch 10\n"
          ]
        },
        {
          "output_type": "stream",
          "name": "stderr",
          "text": [
            "0% [███████████████] 100% | ETA: 00:00:00\n",
            "Total time elapsed: 00:00:05\n"
          ]
        },
        {
          "output_type": "stream",
          "name": "stdout",
          "text": [
            "Finished Epoch 10 || Run Time:    1.4 | Load Time:    4.7 || F1:  91.37 | Prec:  88.75 | Rec:  94.14 || Ex/s: 402.86\n",
            "\n",
            "---------------------\n",
            "\n",
            "===>  TRAIN Epoch 11\n"
          ]
        },
        {
          "output_type": "stream",
          "name": "stderr",
          "text": [
            "0% [██████████████████████████████] 100% | ETA: 00:00:00\n",
            "Total time elapsed: 00:00:24\n"
          ]
        },
        {
          "output_type": "stream",
          "name": "stdout",
          "text": [
            "Finished Epoch 11 || Run Time:    9.6 | Load Time:   15.2 || F1:  99.92 | Prec: 100.00 | Rec:  99.85 || Ex/s: 299.43\n",
            "\n",
            "===>  EVAL Epoch 11\n"
          ]
        },
        {
          "output_type": "stream",
          "name": "stderr",
          "text": [
            "0% [███████████████] 100% | ETA: 00:00:00\n",
            "Total time elapsed: 00:00:05\n"
          ]
        },
        {
          "output_type": "stream",
          "name": "stdout",
          "text": [
            "Finished Epoch 11 || Run Time:    1.4 | Load Time:    4.7 || F1:  91.72 | Prec:  88.82 | Rec:  94.82 || Ex/s: 401.78\n",
            "\n",
            "---------------------\n",
            "\n",
            "===>  TRAIN Epoch 12\n"
          ]
        },
        {
          "output_type": "stream",
          "name": "stderr",
          "text": [
            "0% [██████████████████████████████] 100% | ETA: 00:00:00\n",
            "Total time elapsed: 00:00:25\n"
          ]
        },
        {
          "output_type": "stream",
          "name": "stdout",
          "text": [
            "Finished Epoch 12 || Run Time:    9.9 | Load Time:   15.4 || F1:  99.92 | Prec: 100.00 | Rec:  99.85 || Ex/s: 293.59\n",
            "\n",
            "===>  EVAL Epoch 12\n"
          ]
        },
        {
          "output_type": "stream",
          "name": "stderr",
          "text": [
            "0% [███████████████] 100% | ETA: 00:00:00\n",
            "Total time elapsed: 00:00:06\n"
          ]
        },
        {
          "output_type": "stream",
          "name": "stdout",
          "text": [
            "Finished Epoch 12 || Run Time:    1.5 | Load Time:    4.9 || F1:  91.27 | Prec:  88.56 | Rec:  94.14 || Ex/s: 383.15\n",
            "\n",
            "---------------------\n",
            "\n",
            "===>  TRAIN Epoch 13\n"
          ]
        },
        {
          "output_type": "stream",
          "name": "stderr",
          "text": [
            "0% [██████████████████████████████] 100% | ETA: 00:00:00\n",
            "Total time elapsed: 00:00:25\n"
          ]
        },
        {
          "output_type": "stream",
          "name": "stdout",
          "text": [
            "Finished Epoch 13 || Run Time:   10.1 | Load Time:   15.7 || F1:  99.92 | Prec: 100.00 | Rec:  99.85 || Ex/s: 288.10\n",
            "\n",
            "===>  EVAL Epoch 13\n"
          ]
        },
        {
          "output_type": "stream",
          "name": "stderr",
          "text": [
            "0% [███████████████] 100% | ETA: 00:00:00\n",
            "Total time elapsed: 00:00:06\n"
          ]
        },
        {
          "output_type": "stream",
          "name": "stdout",
          "text": [
            "Finished Epoch 13 || Run Time:    1.5 | Load Time:    4.9 || F1:  91.38 | Prec:  88.58 | Rec:  94.37 || Ex/s: 388.13\n",
            "\n",
            "---------------------\n",
            "\n",
            "===>  TRAIN Epoch 14\n"
          ]
        },
        {
          "output_type": "stream",
          "name": "stderr",
          "text": [
            "0% [██████████████████████████████] 100% | ETA: 00:00:00\n",
            "Total time elapsed: 00:00:25\n"
          ]
        },
        {
          "output_type": "stream",
          "name": "stdout",
          "text": [
            "Finished Epoch 14 || Run Time:   10.1 | Load Time:   15.7 || F1:  99.92 | Prec: 100.00 | Rec:  99.85 || Ex/s: 287.19\n",
            "\n",
            "===>  EVAL Epoch 14\n"
          ]
        },
        {
          "output_type": "stream",
          "name": "stderr",
          "text": [
            "0% [███████████████] 100% | ETA: 00:00:00\n",
            "Total time elapsed: 00:00:06\n"
          ]
        },
        {
          "output_type": "stream",
          "name": "stdout",
          "text": [
            "Finished Epoch 14 || Run Time:    1.5 | Load Time:    4.8 || F1:  91.38 | Prec:  88.58 | Rec:  94.37 || Ex/s: 391.25\n",
            "\n",
            "---------------------\n",
            "\n",
            "===>  TRAIN Epoch 15\n"
          ]
        },
        {
          "output_type": "stream",
          "name": "stderr",
          "text": [
            "0% [██████████████████████████████] 100% | ETA: 00:00:00\n",
            "Total time elapsed: 00:00:24\n"
          ]
        },
        {
          "output_type": "stream",
          "name": "stdout",
          "text": [
            "Finished Epoch 15 || Run Time:    9.9 | Load Time:   15.3 || F1:  99.92 | Prec: 100.00 | Rec:  99.85 || Ex/s: 293.77\n",
            "\n",
            "===>  EVAL Epoch 15\n"
          ]
        },
        {
          "output_type": "stream",
          "name": "stderr",
          "text": [
            "0% [███████████████] 100% | ETA: 00:00:00\n",
            "Total time elapsed: 00:00:06\n"
          ]
        },
        {
          "output_type": "stream",
          "name": "stdout",
          "text": [
            "Finished Epoch 15 || Run Time:    1.5 | Load Time:    4.8 || F1:  91.40 | Prec:  88.42 | Rec:  94.59 || Ex/s: 391.41\n",
            "\n",
            "---------------------\n",
            "\n",
            "Loading best model...\n",
            "Training done.\n"
          ]
        },
        {
          "output_type": "execute_result",
          "data": {
            "text/plain": [
              "tensor(91.8681, device='cuda:0')"
            ]
          },
          "metadata": {},
          "execution_count": 85
        }
      ],
      "source": [
        "model.run_train(\n",
        "    train,\n",
        "    validation,\n",
        "    epochs=15,\n",
        "    batch_size=32,\n",
        "    best_save_path='rnn_model.pth',\n",
        "    pos_neg_ratio=3)"
      ]
    },
    {
      "cell_type": "code",
      "execution_count": 86,
      "metadata": {
        "id": "6ZcSXyZ47Hrs",
        "colab": {
          "base_uri": "https://localhost:8080/"
        },
        "outputId": "f82f6aaf-07a2-48e9-f739-043985e9d055"
      },
      "outputs": [
        {
          "output_type": "stream",
          "name": "stdout",
          "text": [
            "===>  EVAL Epoch 6\n"
          ]
        },
        {
          "output_type": "stream",
          "name": "stderr",
          "text": [
            "/usr/local/lib/python3.7/dist-packages/torch/nn/modules/module.py:949: UserWarning: Using non-full backward hooks on a Module that does not take as input a single Tensor or a tuple of Tensors is deprecated and will be removed in future versions. This hook will be missing some of the grad_input. Please use register_full_backward_hook to get the documented behavior.\n",
            "  warnings.warn(\"Using non-full backward hooks on a Module that does not take as input a \"\n",
            "/usr/local/lib/python3.7/dist-packages/torch/nn/modules/module.py:939: UserWarning: Using non-full backward hooks on a Module that does not return a single Tensor or a tuple of Tensors is deprecated and will be removed in future versions. This hook will be missing some of the grad_output. Please use register_full_backward_hook to get the documented behavior.\n",
            "  warnings.warn(\"Using non-full backward hooks on a Module that does not return a \"\n",
            "/usr/local/lib/python3.7/dist-packages/torch/nn/modules/module.py:974: UserWarning: Using a non-full backward hook when the forward contains multiple autograd Nodes is deprecated and will be removed in future versions. This hook will be missing some grad_input. Please use register_full_backward_hook to get the documented behavior.\n",
            "  warnings.warn(\"Using a non-full backward hook when the forward contains multiple autograd Nodes \"\n",
            "0% [███████████████] 100% | ETA: 00:00:00\n",
            "Total time elapsed: 00:00:06\n"
          ]
        },
        {
          "output_type": "stream",
          "name": "stdout",
          "text": [
            "Finished Epoch 6 || Run Time:    1.5 | Load Time:    4.8 || F1:  92.24 | Prec:  89.60 | Rec:  95.05 || Ex/s: 394.62\n",
            "\n"
          ]
        },
        {
          "output_type": "execute_result",
          "data": {
            "text/plain": [
              "tensor(92.2404, device='cuda:0')"
            ]
          },
          "metadata": {},
          "execution_count": 86
        }
      ],
      "source": [
        "# Compute F1 on test set\n",
        "model.run_eval(test)"
      ]
    },
    {
      "cell_type": "markdown",
      "metadata": {
        "id": "z3GacbuU7IlJ"
      },
      "source": [
        "##### DBLP-GoogleScholar"
      ]
    },
    {
      "cell_type": "code",
      "execution_count": 87,
      "metadata": {
        "id": "kbi6lSwK7IlK"
      },
      "outputs": [],
      "source": [
        "train, validation, test = dm.data.process(\n",
        "    path='/content/IC/datasesErros/FMedium_50_1_2/Dirty/DBLP-GoogleScholar//',\n",
        "    train='joined_train.csv',\n",
        "    validation='joined_valid.csv',\n",
        "    test='joined_test.csv')"
      ]
    },
    {
      "cell_type": "code",
      "execution_count": 88,
      "metadata": {
        "id": "-ejJQZDB7IlK"
      },
      "outputs": [],
      "source": [
        "model = dm.MatchingModel(attr_summarizer='rnn')"
      ]
    },
    {
      "cell_type": "code",
      "execution_count": 89,
      "metadata": {
        "id": "U0x9AtzJ7IlL",
        "colab": {
          "base_uri": "https://localhost:8080/"
        },
        "outputId": "38a3be4f-920b-475a-b494-a8f8b80d2c73"
      },
      "outputs": [
        {
          "output_type": "stream",
          "name": "stdout",
          "text": [
            "* Number of trainable parameters: 2169602\n",
            "===>  TRAIN Epoch 1\n"
          ]
        },
        {
          "output_type": "stream",
          "name": "stderr",
          "text": [
            "/usr/local/lib/python3.7/dist-packages/torch/nn/modules/module.py:949: UserWarning: Using non-full backward hooks on a Module that does not take as input a single Tensor or a tuple of Tensors is deprecated and will be removed in future versions. This hook will be missing some of the grad_input. Please use register_full_backward_hook to get the documented behavior.\n",
            "  warnings.warn(\"Using non-full backward hooks on a Module that does not take as input a \"\n",
            "/usr/local/lib/python3.7/dist-packages/torch/nn/modules/module.py:974: UserWarning: Using a non-full backward hook when the forward contains multiple autograd Nodes is deprecated and will be removed in future versions. This hook will be missing some grad_input. Please use register_full_backward_hook to get the documented behavior.\n",
            "  warnings.warn(\"Using a non-full backward hook when the forward contains multiple autograd Nodes \"\n",
            "/usr/local/lib/python3.7/dist-packages/torch/nn/modules/module.py:939: UserWarning: Using non-full backward hooks on a Module that does not return a single Tensor or a tuple of Tensors is deprecated and will be removed in future versions. This hook will be missing some of the grad_output. Please use register_full_backward_hook to get the documented behavior.\n",
            "  warnings.warn(\"Using non-full backward hooks on a Module that does not return a \"\n",
            "/usr/local/lib/python3.7/dist-packages/torch/nn/functional.py:2742: UserWarning: reduction: 'mean' divides the total loss by both the batch size and the support size.'batchmean' divides only by the batch size, and aligns with the KL div math definition.'mean' will be changed to behave the same as 'batchmean' in the next major release.\n",
            "  \"reduction: 'mean' divides the total loss by both the batch size and the support size.\"\n",
            "0% [██████████████████████████████] 100% | ETA: 00:00:00\n",
            "Total time elapsed: 00:00:52\n"
          ]
        },
        {
          "output_type": "stream",
          "name": "stdout",
          "text": [
            "Finished Epoch 1 || Run Time:   21.4 | Load Time:   31.0 || F1:  67.58 | Prec:  61.10 | Rec:  75.58 || Ex/s: 328.23\n",
            "\n",
            "===>  EVAL Epoch 1\n"
          ]
        },
        {
          "output_type": "stream",
          "name": "stderr",
          "text": [
            "0% [██████████████████████████████] 100% | ETA: 00:00:00\n",
            "Total time elapsed: 00:00:12\n"
          ]
        },
        {
          "output_type": "stream",
          "name": "stdout",
          "text": [
            "Finished Epoch 1 || Run Time:    3.2 | Load Time:    9.4 || F1:  74.00 | Prec:  61.82 | Rec:  92.15 || Ex/s: 455.74\n",
            "\n",
            "* Best F1: tensor(73.9962, device='cuda:0')\n",
            "Saving best model...\n",
            "Done.\n",
            "---------------------\n",
            "\n",
            "===>  TRAIN Epoch 2\n"
          ]
        },
        {
          "output_type": "stream",
          "name": "stderr",
          "text": [
            "0% [██████████████████████████████] 100% | ETA: 00:00:00\n",
            "Total time elapsed: 00:00:51\n"
          ]
        },
        {
          "output_type": "stream",
          "name": "stdout",
          "text": [
            "Finished Epoch 2 || Run Time:   21.2 | Load Time:   30.6 || F1:  85.57 | Prec:  79.85 | Rec:  92.17 || Ex/s: 332.16\n",
            "\n",
            "===>  EVAL Epoch 2\n"
          ]
        },
        {
          "output_type": "stream",
          "name": "stderr",
          "text": [
            "0% [██████████████████████████████] 100% | ETA: 00:00:00\n",
            "Total time elapsed: 00:00:12\n"
          ]
        },
        {
          "output_type": "stream",
          "name": "stdout",
          "text": [
            "Finished Epoch 2 || Run Time:    3.1 | Load Time:    9.3 || F1:  81.90 | Prec:  74.94 | Rec:  90.28 || Ex/s: 462.10\n",
            "\n",
            "* Best F1: tensor(81.8991, device='cuda:0')\n",
            "Saving best model...\n",
            "Done.\n",
            "---------------------\n",
            "\n",
            "===>  TRAIN Epoch 3\n"
          ]
        },
        {
          "output_type": "stream",
          "name": "stderr",
          "text": [
            "0% [██████████████████████████████] 100% | ETA: 00:00:00\n",
            "Total time elapsed: 00:00:51\n"
          ]
        },
        {
          "output_type": "stream",
          "name": "stdout",
          "text": [
            "Finished Epoch 3 || Run Time:   21.0 | Load Time:   30.6 || F1:  92.96 | Prec:  90.04 | Rec:  96.07 || Ex/s: 333.87\n",
            "\n",
            "===>  EVAL Epoch 3\n"
          ]
        },
        {
          "output_type": "stream",
          "name": "stderr",
          "text": [
            "0% [██████████████████████████████] 100% | ETA: 00:00:00\n",
            "Total time elapsed: 00:00:12\n"
          ]
        },
        {
          "output_type": "stream",
          "name": "stdout",
          "text": [
            "Finished Epoch 3 || Run Time:    3.1 | Load Time:    9.3 || F1:  83.22 | Prec:  77.61 | Rec:  89.72 || Ex/s: 462.05\n",
            "\n",
            "* Best F1: tensor(83.2250, device='cuda:0')\n",
            "Saving best model...\n",
            "Done.\n",
            "---------------------\n",
            "\n",
            "===>  TRAIN Epoch 4\n"
          ]
        },
        {
          "output_type": "stream",
          "name": "stderr",
          "text": [
            "0% [██████████████████████████████] 100% | ETA: 00:00:00\n",
            "Total time elapsed: 00:00:50\n"
          ]
        },
        {
          "output_type": "stream",
          "name": "stdout",
          "text": [
            "Finished Epoch 4 || Run Time:   20.8 | Load Time:   30.3 || F1:  96.49 | Prec:  94.96 | Rec:  98.07 || Ex/s: 336.71\n",
            "\n",
            "===>  EVAL Epoch 4\n"
          ]
        },
        {
          "output_type": "stream",
          "name": "stderr",
          "text": [
            "0% [██████████████████████████████] 100% | ETA: 00:00:00\n",
            "Total time elapsed: 00:00:12\n"
          ]
        },
        {
          "output_type": "stream",
          "name": "stdout",
          "text": [
            "Finished Epoch 4 || Run Time:    3.1 | Load Time:    9.3 || F1:  85.07 | Prec:  87.46 | Rec:  82.80 || Ex/s: 459.87\n",
            "\n",
            "* Best F1: tensor(85.0696, device='cuda:0')\n",
            "Saving best model...\n",
            "Done.\n",
            "---------------------\n",
            "\n",
            "===>  TRAIN Epoch 5\n"
          ]
        },
        {
          "output_type": "stream",
          "name": "stderr",
          "text": [
            "0% [██████████████████████████████] 100% | ETA: 00:00:00\n",
            "Total time elapsed: 00:00:51\n"
          ]
        },
        {
          "output_type": "stream",
          "name": "stdout",
          "text": [
            "Finished Epoch 5 || Run Time:   21.0 | Load Time:   30.5 || F1:  98.28 | Prec:  97.96 | Rec:  98.60 || Ex/s: 334.53\n",
            "\n",
            "===>  EVAL Epoch 5\n"
          ]
        },
        {
          "output_type": "stream",
          "name": "stderr",
          "text": [
            "0% [██████████████████████████████] 100% | ETA: 00:00:00\n",
            "Total time elapsed: 00:00:12\n"
          ]
        },
        {
          "output_type": "stream",
          "name": "stdout",
          "text": [
            "Finished Epoch 5 || Run Time:    3.2 | Load Time:    9.3 || F1:  84.68 | Prec:  83.15 | Rec:  86.26 || Ex/s: 461.47\n",
            "\n",
            "---------------------\n",
            "\n",
            "===>  TRAIN Epoch 6\n"
          ]
        },
        {
          "output_type": "stream",
          "name": "stderr",
          "text": [
            "0% [██████████████████████████████] 100% | ETA: 00:00:00\n",
            "Total time elapsed: 00:00:51\n"
          ]
        },
        {
          "output_type": "stream",
          "name": "stdout",
          "text": [
            "Finished Epoch 6 || Run Time:   21.0 | Load Time:   30.5 || F1:  98.96 | Prec:  98.79 | Rec:  99.13 || Ex/s: 334.19\n",
            "\n",
            "===>  EVAL Epoch 6\n"
          ]
        },
        {
          "output_type": "stream",
          "name": "stderr",
          "text": [
            "0% [██████████████████████████████] 100% | ETA: 00:00:00\n",
            "Total time elapsed: 00:00:12\n"
          ]
        },
        {
          "output_type": "stream",
          "name": "stdout",
          "text": [
            "Finished Epoch 6 || Run Time:    3.1 | Load Time:    9.3 || F1:  84.79 | Prec:  85.98 | Rec:  83.64 || Ex/s: 462.61\n",
            "\n",
            "---------------------\n",
            "\n",
            "===>  TRAIN Epoch 7\n"
          ]
        },
        {
          "output_type": "stream",
          "name": "stderr",
          "text": [
            "0% [██████████████████████████████] 100% | ETA: 00:00:00\n",
            "Total time elapsed: 00:00:50\n"
          ]
        },
        {
          "output_type": "stream",
          "name": "stdout",
          "text": [
            "Finished Epoch 7 || Run Time:   20.8 | Load Time:   30.4 || F1:  99.24 | Prec:  99.25 | Rec:  99.22 || Ex/s: 336.83\n",
            "\n",
            "===>  EVAL Epoch 7\n"
          ]
        },
        {
          "output_type": "stream",
          "name": "stderr",
          "text": [
            "0% [██████████████████████████████] 100% | ETA: 00:00:00\n",
            "Total time elapsed: 00:00:12\n"
          ]
        },
        {
          "output_type": "stream",
          "name": "stdout",
          "text": [
            "Finished Epoch 7 || Run Time:    3.2 | Load Time:    9.3 || F1:  85.97 | Prec:  87.82 | Rec:  84.21 || Ex/s: 460.10\n",
            "\n",
            "* Best F1: tensor(85.9733, device='cuda:0')\n",
            "Saving best model...\n",
            "Done.\n",
            "---------------------\n",
            "\n",
            "===>  TRAIN Epoch 8\n"
          ]
        },
        {
          "output_type": "stream",
          "name": "stderr",
          "text": [
            "0% [██████████████████████████████] 100% | ETA: 00:00:00\n",
            "Total time elapsed: 00:00:51\n"
          ]
        },
        {
          "output_type": "stream",
          "name": "stdout",
          "text": [
            "Finished Epoch 8 || Run Time:   21.3 | Load Time:   30.7 || F1:  99.44 | Prec:  99.47 | Rec:  99.41 || Ex/s: 330.79\n",
            "\n",
            "===>  EVAL Epoch 8\n"
          ]
        },
        {
          "output_type": "stream",
          "name": "stderr",
          "text": [
            "0% [██████████████████████████████] 100% | ETA: 00:00:00\n",
            "Total time elapsed: 00:00:12\n"
          ]
        },
        {
          "output_type": "stream",
          "name": "stdout",
          "text": [
            "Finished Epoch 8 || Run Time:    3.3 | Load Time:    9.4 || F1:  85.59 | Prec:  85.96 | Rec:  85.23 || Ex/s: 451.36\n",
            "\n",
            "---------------------\n",
            "\n",
            "===>  TRAIN Epoch 9\n"
          ]
        },
        {
          "output_type": "stream",
          "name": "stderr",
          "text": [
            "0% [██████████████████████████████] 100% | ETA: 00:00:00\n",
            "Total time elapsed: 00:00:51\n"
          ]
        },
        {
          "output_type": "stream",
          "name": "stdout",
          "text": [
            "Finished Epoch 9 || Run Time:   21.3 | Load Time:   30.6 || F1:  99.66 | Prec:  99.75 | Rec:  99.56 || Ex/s: 331.57\n",
            "\n",
            "===>  EVAL Epoch 9\n"
          ]
        },
        {
          "output_type": "stream",
          "name": "stderr",
          "text": [
            "0% [██████████████████████████████] 100% | ETA: 00:00:00\n",
            "Total time elapsed: 00:00:12\n"
          ]
        },
        {
          "output_type": "stream",
          "name": "stdout",
          "text": [
            "Finished Epoch 9 || Run Time:    3.2 | Load Time:    9.4 || F1:  84.99 | Prec:  82.80 | Rec:  87.29 || Ex/s: 458.08\n",
            "\n",
            "---------------------\n",
            "\n",
            "===>  TRAIN Epoch 10\n"
          ]
        },
        {
          "output_type": "stream",
          "name": "stderr",
          "text": [
            "0% [██████████████████████████████] 100% | ETA: 00:00:00\n",
            "Total time elapsed: 00:00:51\n"
          ]
        },
        {
          "output_type": "stream",
          "name": "stdout",
          "text": [
            "Finished Epoch 10 || Run Time:   21.2 | Load Time:   30.6 || F1:  99.77 | Prec:  99.78 | Rec:  99.75 || Ex/s: 332.59\n",
            "\n",
            "===>  EVAL Epoch 10\n"
          ]
        },
        {
          "output_type": "stream",
          "name": "stderr",
          "text": [
            "0% [██████████████████████████████] 100% | ETA: 00:00:00\n",
            "Total time elapsed: 00:00:12\n"
          ]
        },
        {
          "output_type": "stream",
          "name": "stdout",
          "text": [
            "Finished Epoch 10 || Run Time:    3.2 | Load Time:    9.3 || F1:  85.48 | Prec:  82.34 | Rec:  88.88 || Ex/s: 460.44\n",
            "\n",
            "---------------------\n",
            "\n",
            "===>  TRAIN Epoch 11\n"
          ]
        },
        {
          "output_type": "stream",
          "name": "stderr",
          "text": [
            "0% [██████████████████████████████] 100% | ETA: 00:00:00\n",
            "Total time elapsed: 00:00:50\n"
          ]
        },
        {
          "output_type": "stream",
          "name": "stdout",
          "text": [
            "Finished Epoch 11 || Run Time:   21.0 | Load Time:   30.3 || F1:  99.78 | Prec:  99.81 | Rec:  99.75 || Ex/s: 335.71\n",
            "\n",
            "===>  EVAL Epoch 11\n"
          ]
        },
        {
          "output_type": "stream",
          "name": "stderr",
          "text": [
            "0% [██████████████████████████████] 100% | ETA: 00:00:00\n",
            "Total time elapsed: 00:00:12\n"
          ]
        },
        {
          "output_type": "stream",
          "name": "stdout",
          "text": [
            "Finished Epoch 11 || Run Time:    3.3 | Load Time:    9.6 || F1:  85.50 | Prec:  84.49 | Rec:  86.54 || Ex/s: 444.73\n",
            "\n",
            "---------------------\n",
            "\n",
            "===>  TRAIN Epoch 12\n"
          ]
        },
        {
          "output_type": "stream",
          "name": "stderr",
          "text": [
            "0% [██████████████████████████████] 100% | ETA: 00:00:00\n",
            "Total time elapsed: 00:00:50\n"
          ]
        },
        {
          "output_type": "stream",
          "name": "stdout",
          "text": [
            "Finished Epoch 12 || Run Time:   20.9 | Load Time:   30.3 || F1:  99.78 | Prec:  99.84 | Rec:  99.72 || Ex/s: 336.56\n",
            "\n",
            "===>  EVAL Epoch 12\n"
          ]
        },
        {
          "output_type": "stream",
          "name": "stderr",
          "text": [
            "0% [██████████████████████████████] 100% | ETA: 00:00:00\n",
            "Total time elapsed: 00:00:12\n"
          ]
        },
        {
          "output_type": "stream",
          "name": "stdout",
          "text": [
            "Finished Epoch 12 || Run Time:    3.1 | Load Time:    9.3 || F1:  85.65 | Prec:  85.41 | Rec:  85.89 || Ex/s: 462.34\n",
            "\n",
            "---------------------\n",
            "\n",
            "===>  TRAIN Epoch 13\n"
          ]
        },
        {
          "output_type": "stream",
          "name": "stderr",
          "text": [
            "0% [██████████████████████████████] 100% | ETA: 00:00:00\n",
            "Total time elapsed: 00:00:50\n"
          ]
        },
        {
          "output_type": "stream",
          "name": "stdout",
          "text": [
            "Finished Epoch 13 || Run Time:   20.8 | Load Time:   30.4 || F1:  99.80 | Prec:  99.84 | Rec:  99.75 || Ex/s: 336.84\n",
            "\n",
            "===>  EVAL Epoch 13\n"
          ]
        },
        {
          "output_type": "stream",
          "name": "stderr",
          "text": [
            "0% [██████████████████████████████] 100% | ETA: 00:00:00\n",
            "Total time elapsed: 00:00:12\n"
          ]
        },
        {
          "output_type": "stream",
          "name": "stdout",
          "text": [
            "Finished Epoch 13 || Run Time:    3.2 | Load Time:    9.4 || F1:  85.47 | Prec:  85.16 | Rec:  85.79 || Ex/s: 456.66\n",
            "\n",
            "---------------------\n",
            "\n",
            "===>  TRAIN Epoch 14\n"
          ]
        },
        {
          "output_type": "stream",
          "name": "stderr",
          "text": [
            "0% [██████████████████████████████] 100% | ETA: 00:00:00\n",
            "Total time elapsed: 00:00:50\n"
          ]
        },
        {
          "output_type": "stream",
          "name": "stdout",
          "text": [
            "Finished Epoch 14 || Run Time:   20.9 | Load Time:   30.3 || F1:  99.84 | Prec:  99.91 | Rec:  99.78 || Ex/s: 336.49\n",
            "\n",
            "===>  EVAL Epoch 14\n"
          ]
        },
        {
          "output_type": "stream",
          "name": "stderr",
          "text": [
            "0% [██████████████████████████████] 100% | ETA: 00:00:00\n",
            "Total time elapsed: 00:00:12\n"
          ]
        },
        {
          "output_type": "stream",
          "name": "stdout",
          "text": [
            "Finished Epoch 14 || Run Time:    3.1 | Load Time:    9.3 || F1:  85.66 | Prec:  85.62 | Rec:  85.70 || Ex/s: 462.61\n",
            "\n",
            "---------------------\n",
            "\n",
            "===>  TRAIN Epoch 15\n"
          ]
        },
        {
          "output_type": "stream",
          "name": "stderr",
          "text": [
            "0% [██████████████████████████████] 100% | ETA: 00:00:00\n",
            "Total time elapsed: 00:00:50\n"
          ]
        },
        {
          "output_type": "stream",
          "name": "stdout",
          "text": [
            "Finished Epoch 15 || Run Time:   20.7 | Load Time:   30.5 || F1:  99.83 | Prec:  99.91 | Rec:  99.75 || Ex/s: 336.46\n",
            "\n",
            "===>  EVAL Epoch 15\n"
          ]
        },
        {
          "output_type": "stream",
          "name": "stderr",
          "text": [
            "0% [██████████████████████████████] 100% | ETA: 00:00:00\n",
            "Total time elapsed: 00:00:12\n"
          ]
        },
        {
          "output_type": "stream",
          "name": "stdout",
          "text": [
            "Finished Epoch 15 || Run Time:    3.1 | Load Time:    9.3 || F1:  85.63 | Prec:  85.47 | Rec:  85.79 || Ex/s: 465.06\n",
            "\n",
            "---------------------\n",
            "\n",
            "Loading best model...\n",
            "Training done.\n"
          ]
        },
        {
          "output_type": "execute_result",
          "data": {
            "text/plain": [
              "tensor(85.9733, device='cuda:0')"
            ]
          },
          "metadata": {},
          "execution_count": 89
        }
      ],
      "source": [
        "model.run_train(\n",
        "    train,\n",
        "    validation,\n",
        "    epochs=15,\n",
        "    batch_size=32,\n",
        "    best_save_path='rnn_model.pth',\n",
        "    pos_neg_ratio=3)"
      ]
    },
    {
      "cell_type": "code",
      "execution_count": 90,
      "metadata": {
        "id": "vVG5oqsX7IlL",
        "colab": {
          "base_uri": "https://localhost:8080/"
        },
        "outputId": "344b556c-982f-494d-f9ab-e053dd2e9812"
      },
      "outputs": [
        {
          "output_type": "stream",
          "name": "stdout",
          "text": [
            "===>  EVAL Epoch 7\n"
          ]
        },
        {
          "output_type": "stream",
          "name": "stderr",
          "text": [
            "/usr/local/lib/python3.7/dist-packages/torch/nn/modules/module.py:949: UserWarning: Using non-full backward hooks on a Module that does not take as input a single Tensor or a tuple of Tensors is deprecated and will be removed in future versions. This hook will be missing some of the grad_input. Please use register_full_backward_hook to get the documented behavior.\n",
            "  warnings.warn(\"Using non-full backward hooks on a Module that does not take as input a \"\n",
            "/usr/local/lib/python3.7/dist-packages/torch/nn/modules/module.py:939: UserWarning: Using non-full backward hooks on a Module that does not return a single Tensor or a tuple of Tensors is deprecated and will be removed in future versions. This hook will be missing some of the grad_output. Please use register_full_backward_hook to get the documented behavior.\n",
            "  warnings.warn(\"Using non-full backward hooks on a Module that does not return a \"\n",
            "/usr/local/lib/python3.7/dist-packages/torch/nn/modules/module.py:974: UserWarning: Using a non-full backward hook when the forward contains multiple autograd Nodes is deprecated and will be removed in future versions. This hook will be missing some grad_input. Please use register_full_backward_hook to get the documented behavior.\n",
            "  warnings.warn(\"Using a non-full backward hook when the forward contains multiple autograd Nodes \"\n",
            "0% [██████████████████████████████] 100% | ETA: 00:00:00\n",
            "Total time elapsed: 00:00:12\n"
          ]
        },
        {
          "output_type": "stream",
          "name": "stdout",
          "text": [
            "Finished Epoch 7 || Run Time:    3.1 | Load Time:    9.4 || F1:  84.11 | Prec:  87.01 | Rec:  81.40 || Ex/s: 458.03\n",
            "\n"
          ]
        },
        {
          "output_type": "execute_result",
          "data": {
            "text/plain": [
              "tensor(84.1140, device='cuda:0')"
            ]
          },
          "metadata": {},
          "execution_count": 90
        }
      ],
      "source": [
        "# Compute F1 on test set\n",
        "model.run_eval(test)"
      ]
    },
    {
      "cell_type": "markdown",
      "metadata": {
        "id": "74V0WvCe7jiR"
      },
      "source": [
        "### SIF"
      ]
    },
    {
      "cell_type": "markdown",
      "metadata": {
        "id": "7kQEe_Vh7jiS"
      },
      "source": [
        "#### STRUCTURED"
      ]
    },
    {
      "cell_type": "markdown",
      "metadata": {
        "id": "VYuf4NDQ7jiS"
      },
      "source": [
        "##### Amazon-Google"
      ]
    },
    {
      "cell_type": "code",
      "execution_count": 27,
      "metadata": {
        "id": "NxEM99WA7jiS"
      },
      "outputs": [],
      "source": [
        "train, validation, test = dm.data.process(\n",
        "    path='/content/IC/datasesErros/FMedium_50_1_2/Structured/Amazon-Google/',\n",
        "    train='joined_train.csv',\n",
        "    validation='joined_valid.csv',\n",
        "    test='joined_test.csv')"
      ]
    },
    {
      "cell_type": "code",
      "execution_count": 28,
      "metadata": {
        "id": "CQbS8ipY7jiT"
      },
      "outputs": [],
      "source": [
        "model = dm.MatchingModel(attr_summarizer='sif')"
      ]
    },
    {
      "cell_type": "code",
      "execution_count": 29,
      "metadata": {
        "id": "gvY64y8F7jiU",
        "colab": {
          "base_uri": "https://localhost:8080/"
        },
        "outputId": "3d40ad5e-db92-42d5-f3e1-225bf5750c5b"
      },
      "outputs": [
        {
          "output_type": "stream",
          "name": "stdout",
          "text": [
            "* Number of trainable parameters: 542402\n",
            "===>  TRAIN Epoch 1\n"
          ]
        },
        {
          "output_type": "stream",
          "name": "stderr",
          "text": [
            "/usr/local/lib/python3.7/dist-packages/torch/nn/modules/module.py:974: UserWarning: Using a non-full backward hook when the forward contains multiple autograd Nodes is deprecated and will be removed in future versions. This hook will be missing some grad_input. Please use register_full_backward_hook to get the documented behavior.\n",
            "  warnings.warn(\"Using a non-full backward hook when the forward contains multiple autograd Nodes \"\n",
            "/usr/local/lib/python3.7/dist-packages/torch/nn/functional.py:2742: UserWarning: reduction: 'mean' divides the total loss by both the batch size and the support size.'batchmean' divides only by the batch size, and aligns with the KL div math definition.'mean' will be changed to behave the same as 'batchmean' in the next major release.\n",
            "  \"reduction: 'mean' divides the total loss by both the batch size and the support size.\"\n",
            "0% [██████████████████████████████] 100% | ETA: 00:00:00\n",
            "Total time elapsed: 00:00:07\n"
          ]
        },
        {
          "output_type": "stream",
          "name": "stdout",
          "text": [
            "Finished Epoch 1 || Run Time:    3.3 | Load Time:    4.6 || F1:   7.67 | Prec:  50.88 | Rec:   4.15 || Ex/s: 863.68\n",
            "\n",
            "===>  EVAL Epoch 1\n"
          ]
        },
        {
          "output_type": "stream",
          "name": "stderr",
          "text": [
            "0% [██████████████] 100% | ETA: 00:00:00\n",
            "Total time elapsed: 00:00:02\n"
          ]
        },
        {
          "output_type": "stream",
          "name": "stdout",
          "text": [
            "Finished Epoch 1 || Run Time:    0.7 | Load Time:    1.5 || F1:  30.23 | Prec:  36.81 | Rec:  25.64 || Ex/s: 1051.26\n",
            "\n",
            "* Best F1: tensor(30.2267, device='cuda:0')\n",
            "Saving best model...\n",
            "Done.\n",
            "---------------------\n",
            "\n",
            "===>  TRAIN Epoch 2\n"
          ]
        },
        {
          "output_type": "stream",
          "name": "stderr",
          "text": [
            "0% [██████████████████████████████] 100% | ETA: 00:00:00\n",
            "Total time elapsed: 00:00:08\n"
          ]
        },
        {
          "output_type": "stream",
          "name": "stdout",
          "text": [
            "Finished Epoch 2 || Run Time:    3.6 | Load Time:    4.8 || F1:  37.56 | Prec:  45.96 | Rec:  31.76 || Ex/s: 815.88\n",
            "\n",
            "===>  EVAL Epoch 2\n"
          ]
        },
        {
          "output_type": "stream",
          "name": "stderr",
          "text": [
            "0% [██████████████] 100% | ETA: 00:00:00\n",
            "Total time elapsed: 00:00:02\n"
          ]
        },
        {
          "output_type": "stream",
          "name": "stdout",
          "text": [
            "Finished Epoch 2 || Run Time:    0.7 | Load Time:    1.6 || F1:  34.17 | Prec:  29.50 | Rec:  40.60 || Ex/s: 982.27\n",
            "\n",
            "* Best F1: tensor(34.1727, device='cuda:0')\n",
            "Saving best model...\n",
            "Done.\n",
            "---------------------\n",
            "\n",
            "===>  TRAIN Epoch 3\n"
          ]
        },
        {
          "output_type": "stream",
          "name": "stderr",
          "text": [
            "0% [██████████████████████████████] 100% | ETA: 00:00:00\n",
            "Total time elapsed: 00:00:08\n"
          ]
        },
        {
          "output_type": "stream",
          "name": "stdout",
          "text": [
            "Finished Epoch 3 || Run Time:    3.6 | Load Time:    4.8 || F1:  55.99 | Prec:  54.55 | Rec:  57.51 || Ex/s: 816.83\n",
            "\n",
            "===>  EVAL Epoch 3\n"
          ]
        },
        {
          "output_type": "stream",
          "name": "stderr",
          "text": [
            "0% [██████████████] 100% | ETA: 00:00:00\n",
            "Total time elapsed: 00:00:02\n"
          ]
        },
        {
          "output_type": "stream",
          "name": "stdout",
          "text": [
            "Finished Epoch 3 || Run Time:    0.7 | Load Time:    1.5 || F1:  38.08 | Prec:  35.85 | Rec:  40.60 || Ex/s: 1042.79\n",
            "\n",
            "* Best F1: tensor(38.0762, device='cuda:0')\n",
            "Saving best model...\n",
            "Done.\n",
            "---------------------\n",
            "\n",
            "===>  TRAIN Epoch 4\n"
          ]
        },
        {
          "output_type": "stream",
          "name": "stderr",
          "text": [
            "0% [██████████████████████████████] 100% | ETA: 00:00:00\n",
            "Total time elapsed: 00:00:08\n"
          ]
        },
        {
          "output_type": "stream",
          "name": "stdout",
          "text": [
            "Finished Epoch 4 || Run Time:    3.7 | Load Time:    4.9 || F1:  68.02 | Prec:  62.55 | Rec:  74.54 || Ex/s: 804.20\n",
            "\n",
            "===>  EVAL Epoch 4\n"
          ]
        },
        {
          "output_type": "stream",
          "name": "stderr",
          "text": [
            "0% [██████████████] 100% | ETA: 00:00:00\n",
            "Total time elapsed: 00:00:02\n"
          ]
        },
        {
          "output_type": "stream",
          "name": "stdout",
          "text": [
            "Finished Epoch 4 || Run Time:    0.7 | Load Time:    1.6 || F1:  39.13 | Prec:  39.82 | Rec:  38.46 || Ex/s: 994.64\n",
            "\n",
            "* Best F1: tensor(39.1304, device='cuda:0')\n",
            "Saving best model...\n",
            "Done.\n",
            "---------------------\n",
            "\n",
            "===>  TRAIN Epoch 5\n"
          ]
        },
        {
          "output_type": "stream",
          "name": "stderr",
          "text": [
            "0% [██████████████████████████████] 100% | ETA: 00:00:00\n",
            "Total time elapsed: 00:00:08\n"
          ]
        },
        {
          "output_type": "stream",
          "name": "stdout",
          "text": [
            "Finished Epoch 5 || Run Time:    3.7 | Load Time:    4.9 || F1:  75.54 | Prec:  69.12 | Rec:  83.26 || Ex/s: 807.88\n",
            "\n",
            "===>  EVAL Epoch 5\n"
          ]
        },
        {
          "output_type": "stream",
          "name": "stderr",
          "text": [
            "0% [██████████████] 100% | ETA: 00:00:00\n",
            "Total time elapsed: 00:00:02\n"
          ]
        },
        {
          "output_type": "stream",
          "name": "stdout",
          "text": [
            "Finished Epoch 5 || Run Time:    0.7 | Load Time:    1.6 || F1:  38.85 | Prec:  40.18 | Rec:  37.61 || Ex/s: 999.32\n",
            "\n",
            "---------------------\n",
            "\n",
            "===>  TRAIN Epoch 6\n"
          ]
        },
        {
          "output_type": "stream",
          "name": "stderr",
          "text": [
            "0% [██████████████████████████████] 100% | ETA: 00:00:00\n",
            "Total time elapsed: 00:00:09\n"
          ]
        },
        {
          "output_type": "stream",
          "name": "stdout",
          "text": [
            "Finished Epoch 6 || Run Time:    3.9 | Load Time:    5.2 || F1:  80.86 | Prec:  74.40 | Rec:  88.56 || Ex/s: 759.07\n",
            "\n",
            "===>  EVAL Epoch 6\n"
          ]
        },
        {
          "output_type": "stream",
          "name": "stderr",
          "text": [
            "0% [██████████████] 100% | ETA: 00:00:00\n",
            "Total time elapsed: 00:00:02\n"
          ]
        },
        {
          "output_type": "stream",
          "name": "stdout",
          "text": [
            "Finished Epoch 6 || Run Time:    0.7 | Load Time:    1.5 || F1:  38.43 | Prec:  39.29 | Rec:  37.61 || Ex/s: 1005.31\n",
            "\n",
            "---------------------\n",
            "\n",
            "===>  TRAIN Epoch 7\n"
          ]
        },
        {
          "output_type": "stream",
          "name": "stderr",
          "text": [
            "0% [██████████████████████████████] 100% | ETA: 00:00:00\n",
            "Total time elapsed: 00:00:08\n"
          ]
        },
        {
          "output_type": "stream",
          "name": "stdout",
          "text": [
            "Finished Epoch 7 || Run Time:    3.3 | Load Time:    4.7 || F1:  85.19 | Prec:  79.21 | Rec:  92.13 || Ex/s: 857.38\n",
            "\n",
            "===>  EVAL Epoch 7\n"
          ]
        },
        {
          "output_type": "stream",
          "name": "stderr",
          "text": [
            "0% [██████████████] 100% | ETA: 00:00:00\n",
            "Total time elapsed: 00:00:02\n"
          ]
        },
        {
          "output_type": "stream",
          "name": "stdout",
          "text": [
            "Finished Epoch 7 || Run Time:    0.7 | Load Time:    1.5 || F1:  36.57 | Prec:  39.90 | Rec:  33.76 || Ex/s: 1080.04\n",
            "\n",
            "---------------------\n",
            "\n",
            "===>  TRAIN Epoch 8\n"
          ]
        },
        {
          "output_type": "stream",
          "name": "stderr",
          "text": [
            "0% [██████████████████████████████] 100% | ETA: 00:00:00\n",
            "Total time elapsed: 00:00:07\n"
          ]
        },
        {
          "output_type": "stream",
          "name": "stdout",
          "text": [
            "Finished Epoch 8 || Run Time:    3.2 | Load Time:    4.6 || F1:  87.53 | Prec:  82.35 | Rec:  93.42 || Ex/s: 873.01\n",
            "\n",
            "===>  EVAL Epoch 8\n"
          ]
        },
        {
          "output_type": "stream",
          "name": "stderr",
          "text": [
            "0% [██████████████] 100% | ETA: 00:00:00\n",
            "Total time elapsed: 00:00:02\n"
          ]
        },
        {
          "output_type": "stream",
          "name": "stdout",
          "text": [
            "Finished Epoch 8 || Run Time:    0.6 | Load Time:    1.5 || F1:  34.88 | Prec:  38.27 | Rec:  32.05 || Ex/s: 1085.31\n",
            "\n",
            "---------------------\n",
            "\n",
            "===>  TRAIN Epoch 9\n"
          ]
        },
        {
          "output_type": "stream",
          "name": "stderr",
          "text": [
            "0% [██████████████████████████████] 100% | ETA: 00:00:00\n",
            "Total time elapsed: 00:00:07\n"
          ]
        },
        {
          "output_type": "stream",
          "name": "stdout",
          "text": [
            "Finished Epoch 9 || Run Time:    3.3 | Load Time:    4.7 || F1:  89.75 | Prec:  85.40 | Rec:  94.56 || Ex/s: 857.53\n",
            "\n",
            "===>  EVAL Epoch 9\n"
          ]
        },
        {
          "output_type": "stream",
          "name": "stderr",
          "text": [
            "0% [██████████████] 100% | ETA: 00:00:00\n",
            "Total time elapsed: 00:00:02\n"
          ]
        },
        {
          "output_type": "stream",
          "name": "stdout",
          "text": [
            "Finished Epoch 9 || Run Time:    0.7 | Load Time:    1.5 || F1:  36.97 | Prec:  38.60 | Rec:  35.47 || Ex/s: 1018.75\n",
            "\n",
            "---------------------\n",
            "\n",
            "===>  TRAIN Epoch 10\n"
          ]
        },
        {
          "output_type": "stream",
          "name": "stderr",
          "text": [
            "0% [██████████████████████████████] 100% | ETA: 00:00:00\n",
            "Total time elapsed: 00:00:08\n"
          ]
        },
        {
          "output_type": "stream",
          "name": "stdout",
          "text": [
            "Finished Epoch 10 || Run Time:    3.6 | Load Time:    4.9 || F1:  90.52 | Prec:  86.46 | Rec:  94.99 || Ex/s: 807.91\n",
            "\n",
            "===>  EVAL Epoch 10\n"
          ]
        },
        {
          "output_type": "stream",
          "name": "stderr",
          "text": [
            "0% [██████████████] 100% | ETA: 00:00:00\n",
            "Total time elapsed: 00:00:02\n"
          ]
        },
        {
          "output_type": "stream",
          "name": "stdout",
          "text": [
            "Finished Epoch 10 || Run Time:    0.7 | Load Time:    1.6 || F1:  35.45 | Prec:  37.86 | Rec:  33.33 || Ex/s: 990.15\n",
            "\n",
            "---------------------\n",
            "\n",
            "===>  TRAIN Epoch 11\n"
          ]
        },
        {
          "output_type": "stream",
          "name": "stderr",
          "text": [
            "0% [██████████████████████████████] 100% | ETA: 00:00:00\n",
            "Total time elapsed: 00:00:08\n"
          ]
        },
        {
          "output_type": "stream",
          "name": "stdout",
          "text": [
            "Finished Epoch 11 || Run Time:    3.6 | Load Time:    4.9 || F1:  90.91 | Prec:  86.45 | Rec:  95.85 || Ex/s: 807.22\n",
            "\n",
            "===>  EVAL Epoch 11\n"
          ]
        },
        {
          "output_type": "stream",
          "name": "stderr",
          "text": [
            "0% [██████████████] 100% | ETA: 00:00:00\n",
            "Total time elapsed: 00:00:02\n"
          ]
        },
        {
          "output_type": "stream",
          "name": "stdout",
          "text": [
            "Finished Epoch 11 || Run Time:    0.7 | Load Time:    1.6 || F1:  34.27 | Prec:  38.02 | Rec:  31.20 || Ex/s: 994.24\n",
            "\n",
            "---------------------\n",
            "\n",
            "===>  TRAIN Epoch 12\n"
          ]
        },
        {
          "output_type": "stream",
          "name": "stderr",
          "text": [
            "0% [██████████████████████████████] 100% | ETA: 00:00:00\n",
            "Total time elapsed: 00:00:08\n"
          ]
        },
        {
          "output_type": "stream",
          "name": "stdout",
          "text": [
            "Finished Epoch 12 || Run Time:    3.6 | Load Time:    4.9 || F1:  91.64 | Prec:  87.31 | Rec:  96.42 || Ex/s: 813.75\n",
            "\n",
            "===>  EVAL Epoch 12\n"
          ]
        },
        {
          "output_type": "stream",
          "name": "stderr",
          "text": [
            "0% [██████████████] 100% | ETA: 00:00:00\n",
            "Total time elapsed: 00:00:02\n"
          ]
        },
        {
          "output_type": "stream",
          "name": "stdout",
          "text": [
            "Finished Epoch 12 || Run Time:    0.7 | Load Time:    1.6 || F1:  33.01 | Prec:  38.20 | Rec:  29.06 || Ex/s: 1001.63\n",
            "\n",
            "---------------------\n",
            "\n",
            "===>  TRAIN Epoch 13\n"
          ]
        },
        {
          "output_type": "stream",
          "name": "stderr",
          "text": [
            "0% [██████████████████████████████] 100% | ETA: 00:00:00\n",
            "Total time elapsed: 00:00:08\n"
          ]
        },
        {
          "output_type": "stream",
          "name": "stdout",
          "text": [
            "Finished Epoch 13 || Run Time:    3.6 | Load Time:    4.9 || F1:  92.10 | Prec:  87.91 | Rec:  96.71 || Ex/s: 808.82\n",
            "\n",
            "===>  EVAL Epoch 13\n"
          ]
        },
        {
          "output_type": "stream",
          "name": "stderr",
          "text": [
            "0% [██████████████] 100% | ETA: 00:00:00\n",
            "Total time elapsed: 00:00:02\n"
          ]
        },
        {
          "output_type": "stream",
          "name": "stdout",
          "text": [
            "Finished Epoch 13 || Run Time:    0.7 | Load Time:    1.5 || F1:  31.42 | Prec:  37.72 | Rec:  26.92 || Ex/s: 1009.03\n",
            "\n",
            "---------------------\n",
            "\n",
            "===>  TRAIN Epoch 14\n"
          ]
        },
        {
          "output_type": "stream",
          "name": "stderr",
          "text": [
            "0% [██████████████████████████████] 100% | ETA: 00:00:00\n",
            "Total time elapsed: 00:00:08\n"
          ]
        },
        {
          "output_type": "stream",
          "name": "stdout",
          "text": [
            "Finished Epoch 14 || Run Time:    3.6 | Load Time:    4.8 || F1:  92.89 | Prec:  88.99 | Rec:  97.14 || Ex/s: 815.70\n",
            "\n",
            "===>  EVAL Epoch 14\n"
          ]
        },
        {
          "output_type": "stream",
          "name": "stderr",
          "text": [
            "0% [██████████████] 100% | ETA: 00:00:00\n",
            "Total time elapsed: 00:00:02\n"
          ]
        },
        {
          "output_type": "stream",
          "name": "stdout",
          "text": [
            "Finished Epoch 14 || Run Time:    0.7 | Load Time:    1.5 || F1:  30.61 | Prec:  37.97 | Rec:  25.64 || Ex/s: 1003.34\n",
            "\n",
            "---------------------\n",
            "\n",
            "===>  TRAIN Epoch 15\n"
          ]
        },
        {
          "output_type": "stream",
          "name": "stderr",
          "text": [
            "0% [██████████████████████████████] 100% | ETA: 00:00:00\n",
            "Total time elapsed: 00:00:07\n"
          ]
        },
        {
          "output_type": "stream",
          "name": "stdout",
          "text": [
            "Finished Epoch 15 || Run Time:    3.3 | Load Time:    4.7 || F1:  93.29 | Prec:  89.49 | Rec:  97.42 || Ex/s: 862.89\n",
            "\n",
            "===>  EVAL Epoch 15\n"
          ]
        },
        {
          "output_type": "stream",
          "name": "stderr",
          "text": [
            "0% [██████████████] 100% | ETA: 00:00:00\n",
            "Total time elapsed: 00:00:02\n"
          ]
        },
        {
          "output_type": "stream",
          "name": "stdout",
          "text": [
            "Finished Epoch 15 || Run Time:    0.9 | Load Time:    1.8 || F1:  30.57 | Prec:  38.82 | Rec:  25.21 || Ex/s: 853.49\n",
            "\n",
            "---------------------\n",
            "\n",
            "Loading best model...\n",
            "Training done.\n"
          ]
        },
        {
          "output_type": "execute_result",
          "data": {
            "text/plain": [
              "tensor(39.1304, device='cuda:0')"
            ]
          },
          "metadata": {},
          "execution_count": 29
        }
      ],
      "source": [
        "model.run_train(\n",
        "    train,\n",
        "    validation,\n",
        "    epochs=15,\n",
        "    batch_size=32,\n",
        "    best_save_path='sif_model.pth',\n",
        "    pos_neg_ratio=3)"
      ]
    },
    {
      "cell_type": "code",
      "execution_count": 30,
      "metadata": {
        "id": "UNP-KJ2i7jiU",
        "colab": {
          "base_uri": "https://localhost:8080/"
        },
        "outputId": "a972af68-1b88-4319-b2fa-50ad211942b0"
      },
      "outputs": [
        {
          "output_type": "stream",
          "name": "stdout",
          "text": [
            "===>  EVAL Epoch 4\n"
          ]
        },
        {
          "output_type": "stream",
          "name": "stderr",
          "text": [
            "/usr/local/lib/python3.7/dist-packages/torch/nn/modules/module.py:974: UserWarning: Using a non-full backward hook when the forward contains multiple autograd Nodes is deprecated and will be removed in future versions. This hook will be missing some grad_input. Please use register_full_backward_hook to get the documented behavior.\n",
            "  warnings.warn(\"Using a non-full backward hook when the forward contains multiple autograd Nodes \"\n",
            "0% [██████████████] 100% | ETA: 00:00:00\n",
            "Total time elapsed: 00:00:02\n"
          ]
        },
        {
          "output_type": "stream",
          "name": "stdout",
          "text": [
            "Finished Epoch 4 || Run Time:    0.7 | Load Time:    1.5 || F1:  37.14 | Prec:  38.97 | Rec:  35.47 || Ex/s: 1077.04\n",
            "\n"
          ]
        },
        {
          "output_type": "execute_result",
          "data": {
            "text/plain": [
              "tensor(37.1365, device='cuda:0')"
            ]
          },
          "metadata": {},
          "execution_count": 30
        }
      ],
      "source": [
        "# Compute F1 on test set\n",
        "model.run_eval(test)"
      ]
    },
    {
      "cell_type": "markdown",
      "metadata": {
        "id": "09Aelx9S7jiU"
      },
      "source": [
        "##### Beer"
      ]
    },
    {
      "cell_type": "code",
      "execution_count": 31,
      "metadata": {
        "id": "QGAk50JK7jiV"
      },
      "outputs": [],
      "source": [
        "train, validation, test = dm.data.process(\n",
        "    path='/content/IC/datasesErros/FMedium_50_1_2/Structured/Beer/',\n",
        "    train='joined_train.csv',\n",
        "    validation='joined_valid.csv',\n",
        "    test='joined_test.csv')"
      ]
    },
    {
      "cell_type": "code",
      "execution_count": 32,
      "metadata": {
        "id": "0FsH-YpJ7jiV"
      },
      "outputs": [],
      "source": [
        "model = dm.MatchingModel(attr_summarizer='sif')"
      ]
    },
    {
      "cell_type": "code",
      "execution_count": 33,
      "metadata": {
        "id": "M65m1MA27jiV",
        "colab": {
          "base_uri": "https://localhost:8080/"
        },
        "outputId": "07fad686-b92a-410d-adc1-6228ccec80b5"
      },
      "outputs": [
        {
          "output_type": "stream",
          "name": "stdout",
          "text": [
            "* Number of trainable parameters: 542402\n",
            "===>  TRAIN Epoch 1\n"
          ]
        },
        {
          "output_type": "stream",
          "name": "stderr",
          "text": [
            "/usr/local/lib/python3.7/dist-packages/torch/nn/modules/module.py:974: UserWarning: Using a non-full backward hook when the forward contains multiple autograd Nodes is deprecated and will be removed in future versions. This hook will be missing some grad_input. Please use register_full_backward_hook to get the documented behavior.\n",
            "  warnings.warn(\"Using a non-full backward hook when the forward contains multiple autograd Nodes \"\n",
            "/usr/local/lib/python3.7/dist-packages/torch/nn/functional.py:2742: UserWarning: reduction: 'mean' divides the total loss by both the batch size and the support size.'batchmean' divides only by the batch size, and aligns with the KL div math definition.'mean' will be changed to behave the same as 'batchmean' in the next major release.\n",
            "  \"reduction: 'mean' divides the total loss by both the batch size and the support size.\"\n",
            "0% [█] 100% | ETA: 00:00:00\n",
            "Total time elapsed: 00:00:00\n"
          ]
        },
        {
          "output_type": "stream",
          "name": "stdout",
          "text": [
            "Finished Epoch 1 || Run Time:    0.2 | Load Time:    0.3 || F1:  33.55 | Prec:  22.61 | Rec:  65.00 || Ex/s: 568.01\n",
            "\n",
            "===>  EVAL Epoch 1\n",
            "Finished Epoch 1 || Run Time:    0.0 | Load Time:    0.1 || F1:   0.00 | Prec:   0.00 | Rec:   0.00 || Ex/s: 663.16\n",
            "\n",
            "* Best F1: tensor(0., device='cuda:0')\n",
            "Saving best model...\n",
            "Done.\n",
            "---------------------\n",
            "\n",
            "===>  TRAIN Epoch 2\n"
          ]
        },
        {
          "output_type": "stream",
          "name": "stderr",
          "text": [
            "0% [█] 100% | ETA: 00:00:00\n",
            "Total time elapsed: 00:00:00\n"
          ]
        },
        {
          "output_type": "stream",
          "name": "stdout",
          "text": [
            "Finished Epoch 2 || Run Time:    0.2 | Load Time:    0.3 || F1:   0.00 | Prec:   0.00 | Rec:   0.00 || Ex/s: 580.92\n",
            "\n",
            "===>  EVAL Epoch 2\n",
            "Finished Epoch 2 || Run Time:    0.0 | Load Time:    0.1 || F1:   0.00 | Prec:   0.00 | Rec:   0.00 || Ex/s: 666.72\n",
            "\n",
            "---------------------\n",
            "\n",
            "===>  TRAIN Epoch 3\n"
          ]
        },
        {
          "output_type": "stream",
          "name": "stderr",
          "text": [
            "0% [█] 100% | ETA: 00:00:00\n",
            "Total time elapsed: 00:00:00\n"
          ]
        },
        {
          "output_type": "stream",
          "name": "stdout",
          "text": [
            "Finished Epoch 3 || Run Time:    0.2 | Load Time:    0.3 || F1:   0.00 | Prec:   0.00 | Rec:   0.00 || Ex/s: 569.83\n",
            "\n",
            "===>  EVAL Epoch 3\n",
            "Finished Epoch 3 || Run Time:    0.0 | Load Time:    0.1 || F1:   0.00 | Prec:   0.00 | Rec:   0.00 || Ex/s: 689.28\n",
            "\n",
            "---------------------\n",
            "\n",
            "===>  TRAIN Epoch 4\n"
          ]
        },
        {
          "output_type": "stream",
          "name": "stderr",
          "text": [
            "0% [█] 100% | ETA: 00:00:00\n",
            "Total time elapsed: 00:00:00\n"
          ]
        },
        {
          "output_type": "stream",
          "name": "stdout",
          "text": [
            "Finished Epoch 4 || Run Time:    0.2 | Load Time:    0.3 || F1:   0.00 | Prec:   0.00 | Rec:   0.00 || Ex/s: 580.79\n",
            "\n",
            "===>  EVAL Epoch 4\n",
            "Finished Epoch 4 || Run Time:    0.0 | Load Time:    0.1 || F1:   0.00 | Prec:   0.00 | Rec:   0.00 || Ex/s: 647.77\n",
            "\n",
            "---------------------\n",
            "\n",
            "===>  TRAIN Epoch 5\n"
          ]
        },
        {
          "output_type": "stream",
          "name": "stderr",
          "text": [
            "0% [█] 100% | ETA: 00:00:00\n",
            "Total time elapsed: 00:00:00\n"
          ]
        },
        {
          "output_type": "stream",
          "name": "stdout",
          "text": [
            "Finished Epoch 5 || Run Time:    0.2 | Load Time:    0.3 || F1:   4.88 | Prec: 100.00 | Rec:   2.50 || Ex/s: 579.84\n",
            "\n",
            "===>  EVAL Epoch 5\n",
            "Finished Epoch 5 || Run Time:    0.0 | Load Time:    0.1 || F1:  13.33 | Prec: 100.00 | Rec:   7.14 || Ex/s: 666.88\n",
            "\n",
            "* Best F1: tensor(13.3333, device='cuda:0')\n",
            "Saving best model...\n",
            "Done.\n",
            "---------------------\n",
            "\n",
            "===>  TRAIN Epoch 6\n"
          ]
        },
        {
          "output_type": "stream",
          "name": "stderr",
          "text": [
            "0% [█] 100% | ETA: 00:00:00\n",
            "Total time elapsed: 00:00:00\n"
          ]
        },
        {
          "output_type": "stream",
          "name": "stdout",
          "text": [
            "Finished Epoch 6 || Run Time:    0.2 | Load Time:    0.3 || F1:   9.52 | Prec: 100.00 | Rec:   5.00 || Ex/s: 566.56\n",
            "\n",
            "===>  EVAL Epoch 6\n",
            "Finished Epoch 6 || Run Time:    0.0 | Load Time:    0.1 || F1:  13.33 | Prec: 100.00 | Rec:   7.14 || Ex/s: 705.00\n",
            "\n",
            "---------------------\n",
            "\n",
            "===>  TRAIN Epoch 7\n"
          ]
        },
        {
          "output_type": "stream",
          "name": "stderr",
          "text": [
            "0% [█] 100% | ETA: 00:00:00\n",
            "Total time elapsed: 00:00:00\n"
          ]
        },
        {
          "output_type": "stream",
          "name": "stdout",
          "text": [
            "Finished Epoch 7 || Run Time:    0.2 | Load Time:    0.3 || F1:  13.95 | Prec: 100.00 | Rec:   7.50 || Ex/s: 574.20\n",
            "\n",
            "===>  EVAL Epoch 7\n",
            "Finished Epoch 7 || Run Time:    0.0 | Load Time:    0.1 || F1:  23.53 | Prec:  66.67 | Rec:  14.29 || Ex/s: 717.25\n",
            "\n",
            "* Best F1: tensor(23.5294, device='cuda:0')\n",
            "Saving best model...\n",
            "Done.\n",
            "---------------------\n",
            "\n",
            "===>  TRAIN Epoch 8\n"
          ]
        },
        {
          "output_type": "stream",
          "name": "stderr",
          "text": [
            "0% [█] 100% | ETA: 00:00:00\n",
            "Total time elapsed: 00:00:00\n"
          ]
        },
        {
          "output_type": "stream",
          "name": "stdout",
          "text": [
            "Finished Epoch 8 || Run Time:    0.2 | Load Time:    0.3 || F1:  22.22 | Prec: 100.00 | Rec:  12.50 || Ex/s: 579.81\n",
            "\n",
            "===>  EVAL Epoch 8\n",
            "Finished Epoch 8 || Run Time:    0.0 | Load Time:    0.1 || F1:  23.53 | Prec:  66.67 | Rec:  14.29 || Ex/s: 702.03\n",
            "\n",
            "---------------------\n",
            "\n",
            "===>  TRAIN Epoch 9\n"
          ]
        },
        {
          "output_type": "stream",
          "name": "stderr",
          "text": [
            "0% [█] 100% | ETA: 00:00:00\n",
            "Total time elapsed: 00:00:00\n"
          ]
        },
        {
          "output_type": "stream",
          "name": "stdout",
          "text": [
            "Finished Epoch 9 || Run Time:    0.2 | Load Time:    0.3 || F1:  22.22 | Prec: 100.00 | Rec:  12.50 || Ex/s: 583.73\n",
            "\n",
            "===>  EVAL Epoch 9\n",
            "Finished Epoch 9 || Run Time:    0.0 | Load Time:    0.1 || F1:  22.22 | Prec:  50.00 | Rec:  14.29 || Ex/s: 661.21\n",
            "\n",
            "---------------------\n",
            "\n",
            "===>  TRAIN Epoch 10\n"
          ]
        },
        {
          "output_type": "stream",
          "name": "stderr",
          "text": [
            "0% [█] 100% | ETA: 00:00:00\n",
            "Total time elapsed: 00:00:00\n"
          ]
        },
        {
          "output_type": "stream",
          "name": "stdout",
          "text": [
            "Finished Epoch 10 || Run Time:    0.2 | Load Time:    0.3 || F1:  22.22 | Prec: 100.00 | Rec:  12.50 || Ex/s: 576.77\n",
            "\n",
            "===>  EVAL Epoch 10\n",
            "Finished Epoch 10 || Run Time:    0.0 | Load Time:    0.1 || F1:  22.22 | Prec:  50.00 | Rec:  14.29 || Ex/s: 675.17\n",
            "\n",
            "---------------------\n",
            "\n",
            "===>  TRAIN Epoch 11\n"
          ]
        },
        {
          "output_type": "stream",
          "name": "stderr",
          "text": [
            "0% [█] 100% | ETA: 00:00:00\n",
            "Total time elapsed: 00:00:00\n"
          ]
        },
        {
          "output_type": "stream",
          "name": "stdout",
          "text": [
            "Finished Epoch 11 || Run Time:    0.2 | Load Time:    0.3 || F1:  29.79 | Prec: 100.00 | Rec:  17.50 || Ex/s: 563.79\n",
            "\n",
            "===>  EVAL Epoch 11\n",
            "Finished Epoch 11 || Run Time:    0.0 | Load Time:    0.1 || F1:  22.22 | Prec:  50.00 | Rec:  14.29 || Ex/s: 674.66\n",
            "\n",
            "---------------------\n",
            "\n",
            "===>  TRAIN Epoch 12\n"
          ]
        },
        {
          "output_type": "stream",
          "name": "stderr",
          "text": [
            "0% [█] 100% | ETA: 00:00:00\n",
            "Total time elapsed: 00:00:00\n"
          ]
        },
        {
          "output_type": "stream",
          "name": "stdout",
          "text": [
            "Finished Epoch 12 || Run Time:    0.2 | Load Time:    0.3 || F1:  36.73 | Prec: 100.00 | Rec:  22.50 || Ex/s: 593.16\n",
            "\n",
            "===>  EVAL Epoch 12\n",
            "Finished Epoch 12 || Run Time:    0.0 | Load Time:    0.1 || F1:  22.22 | Prec:  50.00 | Rec:  14.29 || Ex/s: 697.48\n",
            "\n",
            "---------------------\n",
            "\n",
            "===>  TRAIN Epoch 13\n"
          ]
        },
        {
          "output_type": "stream",
          "name": "stderr",
          "text": [
            "0% [█] 100% | ETA: 00:00:00\n",
            "Total time elapsed: 00:00:00\n"
          ]
        },
        {
          "output_type": "stream",
          "name": "stdout",
          "text": [
            "Finished Epoch 13 || Run Time:    0.2 | Load Time:    0.3 || F1:  36.73 | Prec: 100.00 | Rec:  22.50 || Ex/s: 578.73\n",
            "\n",
            "===>  EVAL Epoch 13\n",
            "Finished Epoch 13 || Run Time:    0.0 | Load Time:    0.1 || F1:  22.22 | Prec:  50.00 | Rec:  14.29 || Ex/s: 632.34\n",
            "\n",
            "---------------------\n",
            "\n",
            "===>  TRAIN Epoch 14\n"
          ]
        },
        {
          "output_type": "stream",
          "name": "stderr",
          "text": [
            "0% [█] 100% | ETA: 00:00:00\n",
            "Total time elapsed: 00:00:00\n"
          ]
        },
        {
          "output_type": "stream",
          "name": "stdout",
          "text": [
            "Finished Epoch 14 || Run Time:    0.2 | Load Time:    0.3 || F1:  40.00 | Prec: 100.00 | Rec:  25.00 || Ex/s: 571.48\n",
            "\n",
            "===>  EVAL Epoch 14\n",
            "Finished Epoch 14 || Run Time:    0.0 | Load Time:    0.1 || F1:  22.22 | Prec:  50.00 | Rec:  14.29 || Ex/s: 682.87\n",
            "\n",
            "---------------------\n",
            "\n",
            "===>  TRAIN Epoch 15\n"
          ]
        },
        {
          "output_type": "stream",
          "name": "stderr",
          "text": [
            "0% [█] 100% | ETA: 00:00:00\n",
            "Total time elapsed: 00:00:00\n"
          ]
        },
        {
          "output_type": "stream",
          "name": "stdout",
          "text": [
            "Finished Epoch 15 || Run Time:    0.2 | Load Time:    0.3 || F1:  40.00 | Prec: 100.00 | Rec:  25.00 || Ex/s: 583.62\n",
            "\n",
            "===>  EVAL Epoch 15\n",
            "Finished Epoch 15 || Run Time:    0.0 | Load Time:    0.1 || F1:  22.22 | Prec:  50.00 | Rec:  14.29 || Ex/s: 705.38\n",
            "\n",
            "---------------------\n",
            "\n",
            "Loading best model...\n",
            "Training done.\n"
          ]
        },
        {
          "output_type": "execute_result",
          "data": {
            "text/plain": [
              "tensor(23.5294, device='cuda:0')"
            ]
          },
          "metadata": {},
          "execution_count": 33
        }
      ],
      "source": [
        "model.run_train(\n",
        "    train,\n",
        "    validation,\n",
        "    epochs=15,\n",
        "    batch_size=32,\n",
        "    best_save_path='sif_model.pth',\n",
        "    pos_neg_ratio=3)"
      ]
    },
    {
      "cell_type": "code",
      "execution_count": 34,
      "metadata": {
        "id": "hotRtezC7jiW",
        "colab": {
          "base_uri": "https://localhost:8080/"
        },
        "outputId": "1caf6cdb-81d7-4c6e-a9a6-e8d424907064"
      },
      "outputs": [
        {
          "output_type": "stream",
          "name": "stdout",
          "text": [
            "===>  EVAL Epoch 7\n"
          ]
        },
        {
          "output_type": "stream",
          "name": "stderr",
          "text": [
            "/usr/local/lib/python3.7/dist-packages/torch/nn/modules/module.py:974: UserWarning: Using a non-full backward hook when the forward contains multiple autograd Nodes is deprecated and will be removed in future versions. This hook will be missing some grad_input. Please use register_full_backward_hook to get the documented behavior.\n",
            "  warnings.warn(\"Using a non-full backward hook when the forward contains multiple autograd Nodes \"\n"
          ]
        },
        {
          "output_type": "stream",
          "name": "stdout",
          "text": [
            "Finished Epoch 7 || Run Time:    0.0 | Load Time:    0.1 || F1:  25.00 | Prec: 100.00 | Rec:  14.29 || Ex/s: 690.76\n",
            "\n"
          ]
        },
        {
          "output_type": "execute_result",
          "data": {
            "text/plain": [
              "tensor(25., device='cuda:0')"
            ]
          },
          "metadata": {},
          "execution_count": 34
        }
      ],
      "source": [
        "# Compute F1 on test set\n",
        "model.run_eval(test)"
      ]
    },
    {
      "cell_type": "markdown",
      "metadata": {
        "id": "rEyqJ6mI7jiW"
      },
      "source": [
        "##### DBLP-ACM"
      ]
    },
    {
      "cell_type": "code",
      "execution_count": 35,
      "metadata": {
        "id": "2oeYr-ip7jiX"
      },
      "outputs": [],
      "source": [
        "train, validation, test = dm.data.process(\n",
        "    path='/content/IC/datasesErros/FMedium_50_1_2/Structured/DBLP-ACM/',\n",
        "    train='joined_train.csv',\n",
        "    validation='joined_valid.csv',\n",
        "    test='joined_test.csv')"
      ]
    },
    {
      "cell_type": "code",
      "execution_count": 36,
      "metadata": {
        "id": "vdTDybRv7jiX"
      },
      "outputs": [],
      "source": [
        "model = dm.MatchingModel(attr_summarizer='sif')"
      ]
    },
    {
      "cell_type": "code",
      "execution_count": 37,
      "metadata": {
        "id": "EOAZFGCq7jiZ",
        "colab": {
          "base_uri": "https://localhost:8080/"
        },
        "outputId": "a30feb31-806f-4bc8-cc17-c363a60dec7a"
      },
      "outputs": [
        {
          "output_type": "stream",
          "name": "stdout",
          "text": [
            "* Number of trainable parameters: 542402\n",
            "===>  TRAIN Epoch 1\n"
          ]
        },
        {
          "output_type": "stream",
          "name": "stderr",
          "text": [
            "/usr/local/lib/python3.7/dist-packages/torch/nn/modules/module.py:974: UserWarning: Using a non-full backward hook when the forward contains multiple autograd Nodes is deprecated and will be removed in future versions. This hook will be missing some grad_input. Please use register_full_backward_hook to get the documented behavior.\n",
            "  warnings.warn(\"Using a non-full backward hook when the forward contains multiple autograd Nodes \"\n",
            "/usr/local/lib/python3.7/dist-packages/torch/nn/functional.py:2742: UserWarning: reduction: 'mean' divides the total loss by both the batch size and the support size.'batchmean' divides only by the batch size, and aligns with the KL div math definition.'mean' will be changed to behave the same as 'batchmean' in the next major release.\n",
            "  \"reduction: 'mean' divides the total loss by both the batch size and the support size.\"\n",
            "0% [██████████████████████████████] 100% | ETA: 00:00:00\n",
            "Total time elapsed: 00:00:16\n"
          ]
        },
        {
          "output_type": "stream",
          "name": "stdout",
          "text": [
            "Finished Epoch 1 || Run Time:    4.5 | Load Time:   12.3 || F1:  74.98 | Prec:  76.69 | Rec:  73.35 || Ex/s: 440.87\n",
            "\n",
            "===>  EVAL Epoch 1\n"
          ]
        },
        {
          "output_type": "stream",
          "name": "stderr",
          "text": [
            "0% [███████████████] 100% | ETA: 00:00:00\n",
            "Total time elapsed: 00:00:04\n"
          ]
        },
        {
          "output_type": "stream",
          "name": "stdout",
          "text": [
            "Finished Epoch 1 || Run Time:    1.0 | Load Time:    4.0 || F1:  84.35 | Prec:  73.18 | Rec:  99.55 || Ex/s: 494.79\n",
            "\n",
            "* Best F1: tensor(84.3512, device='cuda:0')\n",
            "Saving best model...\n",
            "Done.\n",
            "---------------------\n",
            "\n",
            "===>  TRAIN Epoch 2\n"
          ]
        },
        {
          "output_type": "stream",
          "name": "stderr",
          "text": [
            "0% [██████████████████████████████] 100% | ETA: 00:00:00\n",
            "Total time elapsed: 00:00:16\n"
          ]
        },
        {
          "output_type": "stream",
          "name": "stdout",
          "text": [
            "Finished Epoch 2 || Run Time:    4.5 | Load Time:   12.3 || F1:  94.74 | Prec:  90.55 | Rec:  99.32 || Ex/s: 441.70\n",
            "\n",
            "===>  EVAL Epoch 2\n"
          ]
        },
        {
          "output_type": "stream",
          "name": "stderr",
          "text": [
            "0% [███████████████] 100% | ETA: 00:00:00\n",
            "Total time elapsed: 00:00:04\n"
          ]
        },
        {
          "output_type": "stream",
          "name": "stdout",
          "text": [
            "Finished Epoch 2 || Run Time:    1.0 | Load Time:    3.9 || F1:  94.50 | Prec:  90.68 | Rec:  98.65 || Ex/s: 507.25\n",
            "\n",
            "* Best F1: tensor(94.4984, device='cuda:0')\n",
            "Saving best model...\n",
            "Done.\n",
            "---------------------\n",
            "\n",
            "===>  TRAIN Epoch 3\n"
          ]
        },
        {
          "output_type": "stream",
          "name": "stderr",
          "text": [
            "0% [██████████████████████████████] 100% | ETA: 00:00:00\n",
            "Total time elapsed: 00:00:16\n"
          ]
        },
        {
          "output_type": "stream",
          "name": "stdout",
          "text": [
            "Finished Epoch 3 || Run Time:    4.7 | Load Time:   12.4 || F1:  97.43 | Prec:  95.27 | Rec:  99.70 || Ex/s: 433.73\n",
            "\n",
            "===>  EVAL Epoch 3\n"
          ]
        },
        {
          "output_type": "stream",
          "name": "stderr",
          "text": [
            "0% [███████████████] 100% | ETA: 00:00:00\n",
            "Total time elapsed: 00:00:04\n"
          ]
        },
        {
          "output_type": "stream",
          "name": "stdout",
          "text": [
            "Finished Epoch 3 || Run Time:    0.9 | Load Time:    3.8 || F1:  94.62 | Prec:  90.53 | Rec:  99.10 || Ex/s: 520.35\n",
            "\n",
            "* Best F1: tensor(94.6236, device='cuda:0')\n",
            "Saving best model...\n",
            "Done.\n",
            "---------------------\n",
            "\n",
            "===>  TRAIN Epoch 4\n"
          ]
        },
        {
          "output_type": "stream",
          "name": "stderr",
          "text": [
            "0% [██████████████████████████████] 100% | ETA: 00:00:00\n",
            "Total time elapsed: 00:00:16\n"
          ]
        },
        {
          "output_type": "stream",
          "name": "stdout",
          "text": [
            "Finished Epoch 4 || Run Time:    4.6 | Load Time:   12.4 || F1:  98.48 | Prec:  97.15 | Rec:  99.85 || Ex/s: 436.79\n",
            "\n",
            "===>  EVAL Epoch 4\n"
          ]
        },
        {
          "output_type": "stream",
          "name": "stderr",
          "text": [
            "0% [███████████████] 100% | ETA: 00:00:00\n",
            "Total time elapsed: 00:00:05\n"
          ]
        },
        {
          "output_type": "stream",
          "name": "stdout",
          "text": [
            "Finished Epoch 4 || Run Time:    1.0 | Load Time:    4.2 || F1:  94.43 | Prec:  90.00 | Rec:  99.32 || Ex/s: 474.37\n",
            "\n",
            "---------------------\n",
            "\n",
            "===>  TRAIN Epoch 5\n"
          ]
        },
        {
          "output_type": "stream",
          "name": "stderr",
          "text": [
            "0% [██████████████████████████████] 100% | ETA: 00:00:00\n",
            "Total time elapsed: 00:00:16\n"
          ]
        },
        {
          "output_type": "stream",
          "name": "stdout",
          "text": [
            "Finished Epoch 5 || Run Time:    4.4 | Load Time:   12.0 || F1:  99.00 | Prec:  98.08 | Rec:  99.92 || Ex/s: 451.06\n",
            "\n",
            "===>  EVAL Epoch 5\n"
          ]
        },
        {
          "output_type": "stream",
          "name": "stderr",
          "text": [
            "0% [███████████████] 100% | ETA: 00:00:00\n",
            "Total time elapsed: 00:00:04\n"
          ]
        },
        {
          "output_type": "stream",
          "name": "stdout",
          "text": [
            "Finished Epoch 5 || Run Time:    1.0 | Load Time:    4.0 || F1:  94.55 | Prec:  90.02 | Rec:  99.55 || Ex/s: 496.43\n",
            "\n",
            "---------------------\n",
            "\n",
            "===>  TRAIN Epoch 6\n"
          ]
        },
        {
          "output_type": "stream",
          "name": "stderr",
          "text": [
            "0% [██████████████████████████████] 100% | ETA: 00:00:00\n",
            "Total time elapsed: 00:00:17\n"
          ]
        },
        {
          "output_type": "stream",
          "name": "stdout",
          "text": [
            "Finished Epoch 6 || Run Time:    4.7 | Load Time:   12.6 || F1:  99.14 | Prec:  98.37 | Rec:  99.92 || Ex/s: 428.78\n",
            "\n",
            "===>  EVAL Epoch 6\n"
          ]
        },
        {
          "output_type": "stream",
          "name": "stderr",
          "text": [
            "0% [███████████████] 100% | ETA: 00:00:00\n",
            "Total time elapsed: 00:00:04\n"
          ]
        },
        {
          "output_type": "stream",
          "name": "stdout",
          "text": [
            "Finished Epoch 6 || Run Time:    1.0 | Load Time:    3.9 || F1:  95.25 | Prec:  91.49 | Rec:  99.32 || Ex/s: 514.34\n",
            "\n",
            "* Best F1: tensor(95.2484, device='cuda:0')\n",
            "Saving best model...\n",
            "Done.\n",
            "---------------------\n",
            "\n",
            "===>  TRAIN Epoch 7\n"
          ]
        },
        {
          "output_type": "stream",
          "name": "stderr",
          "text": [
            "0% [██████████████████████████████] 100% | ETA: 00:00:00\n",
            "Total time elapsed: 00:00:16\n"
          ]
        },
        {
          "output_type": "stream",
          "name": "stdout",
          "text": [
            "Finished Epoch 7 || Run Time:    4.6 | Load Time:   12.3 || F1:  99.29 | Prec:  98.59 | Rec: 100.00 || Ex/s: 440.57\n",
            "\n",
            "===>  EVAL Epoch 7\n"
          ]
        },
        {
          "output_type": "stream",
          "name": "stderr",
          "text": [
            "0% [███████████████] 100% | ETA: 00:00:00\n",
            "Total time elapsed: 00:00:04\n"
          ]
        },
        {
          "output_type": "stream",
          "name": "stdout",
          "text": [
            "Finished Epoch 7 || Run Time:    0.9 | Load Time:    3.8 || F1:  95.43 | Prec:  92.23 | Rec:  98.87 || Ex/s: 518.28\n",
            "\n",
            "* Best F1: tensor(95.4348, device='cuda:0')\n",
            "Saving best model...\n",
            "Done.\n",
            "---------------------\n",
            "\n",
            "===>  TRAIN Epoch 8\n"
          ]
        },
        {
          "output_type": "stream",
          "name": "stderr",
          "text": [
            "0% [██████████████████████████████] 100% | ETA: 00:00:00\n",
            "Total time elapsed: 00:00:16\n"
          ]
        },
        {
          "output_type": "stream",
          "name": "stdout",
          "text": [
            "Finished Epoch 8 || Run Time:    4.4 | Load Time:   12.2 || F1:  99.29 | Prec:  98.59 | Rec: 100.00 || Ex/s: 446.50\n",
            "\n",
            "===>  EVAL Epoch 8\n"
          ]
        },
        {
          "output_type": "stream",
          "name": "stderr",
          "text": [
            "0% [███████████████] 100% | ETA: 00:00:00\n",
            "Total time elapsed: 00:00:04\n"
          ]
        },
        {
          "output_type": "stream",
          "name": "stdout",
          "text": [
            "Finished Epoch 8 || Run Time:    1.0 | Load Time:    3.8 || F1:  95.54 | Prec:  92.42 | Rec:  98.87 || Ex/s: 517.12\n",
            "\n",
            "* Best F1: tensor(95.5386, device='cuda:0')\n",
            "Saving best model...\n",
            "Done.\n",
            "---------------------\n",
            "\n",
            "===>  TRAIN Epoch 9\n"
          ]
        },
        {
          "output_type": "stream",
          "name": "stderr",
          "text": [
            "0% [██████████████████████████████] 100% | ETA: 00:00:00\n",
            "Total time elapsed: 00:00:17\n"
          ]
        },
        {
          "output_type": "stream",
          "name": "stdout",
          "text": [
            "Finished Epoch 9 || Run Time:    4.7 | Load Time:   12.7 || F1:  99.33 | Prec:  98.67 | Rec: 100.00 || Ex/s: 426.24\n",
            "\n",
            "===>  EVAL Epoch 9\n"
          ]
        },
        {
          "output_type": "stream",
          "name": "stderr",
          "text": [
            "0% [███████████████] 100% | ETA: 00:00:00\n",
            "Total time elapsed: 00:00:04\n"
          ]
        },
        {
          "output_type": "stream",
          "name": "stdout",
          "text": [
            "Finished Epoch 9 || Run Time:    1.0 | Load Time:    3.8 || F1:  95.64 | Prec:  92.62 | Rec:  98.87 || Ex/s: 517.71\n",
            "\n",
            "* Best F1: tensor(95.6427, device='cuda:0')\n",
            "Saving best model...\n",
            "Done.\n",
            "---------------------\n",
            "\n",
            "===>  TRAIN Epoch 10\n"
          ]
        },
        {
          "output_type": "stream",
          "name": "stderr",
          "text": [
            "0% [██████████████████████████████] 100% | ETA: 00:00:00\n",
            "Total time elapsed: 00:00:16\n"
          ]
        },
        {
          "output_type": "stream",
          "name": "stdout",
          "text": [
            "Finished Epoch 10 || Run Time:    4.5 | Load Time:   12.1 || F1:  99.37 | Prec:  98.74 | Rec: 100.00 || Ex/s: 445.54\n",
            "\n",
            "===>  EVAL Epoch 10\n"
          ]
        },
        {
          "output_type": "stream",
          "name": "stderr",
          "text": [
            "0% [███████████████] 100% | ETA: 00:00:00\n",
            "Total time elapsed: 00:00:04\n"
          ]
        },
        {
          "output_type": "stream",
          "name": "stdout",
          "text": [
            "Finished Epoch 10 || Run Time:    0.9 | Load Time:    3.8 || F1:  95.64 | Prec:  92.62 | Rec:  98.87 || Ex/s: 529.84\n",
            "\n",
            "---------------------\n",
            "\n",
            "===>  TRAIN Epoch 11\n"
          ]
        },
        {
          "output_type": "stream",
          "name": "stderr",
          "text": [
            "0% [██████████████████████████████] 100% | ETA: 00:00:00\n",
            "Total time elapsed: 00:00:16\n"
          ]
        },
        {
          "output_type": "stream",
          "name": "stdout",
          "text": [
            "Finished Epoch 11 || Run Time:    4.5 | Load Time:   12.1 || F1:  99.37 | Prec:  98.74 | Rec: 100.00 || Ex/s: 448.11\n",
            "\n",
            "===>  EVAL Epoch 11\n"
          ]
        },
        {
          "output_type": "stream",
          "name": "stderr",
          "text": [
            "0% [███████████████] 100% | ETA: 00:00:00\n",
            "Total time elapsed: 00:00:04\n"
          ]
        },
        {
          "output_type": "stream",
          "name": "stdout",
          "text": [
            "Finished Epoch 11 || Run Time:    1.0 | Load Time:    4.0 || F1:  95.64 | Prec:  92.62 | Rec:  98.87 || Ex/s: 495.79\n",
            "\n",
            "---------------------\n",
            "\n",
            "===>  TRAIN Epoch 12\n"
          ]
        },
        {
          "output_type": "stream",
          "name": "stderr",
          "text": [
            "0% [██████████████████████████████] 100% | ETA: 00:00:00\n",
            "Total time elapsed: 00:00:16\n"
          ]
        },
        {
          "output_type": "stream",
          "name": "stdout",
          "text": [
            "Finished Epoch 12 || Run Time:    4.6 | Load Time:   12.3 || F1:  99.37 | Prec:  98.74 | Rec: 100.00 || Ex/s: 439.86\n",
            "\n",
            "===>  EVAL Epoch 12\n"
          ]
        },
        {
          "output_type": "stream",
          "name": "stderr",
          "text": [
            "0% [███████████████] 100% | ETA: 00:00:00\n",
            "Total time elapsed: 00:00:04\n"
          ]
        },
        {
          "output_type": "stream",
          "name": "stdout",
          "text": [
            "Finished Epoch 12 || Run Time:    1.0 | Load Time:    3.9 || F1:  95.64 | Prec:  92.62 | Rec:  98.87 || Ex/s: 510.31\n",
            "\n",
            "---------------------\n",
            "\n",
            "===>  TRAIN Epoch 13\n"
          ]
        },
        {
          "output_type": "stream",
          "name": "stderr",
          "text": [
            "0% [██████████████████████████████] 100% | ETA: 00:00:00\n",
            "Total time elapsed: 00:00:17\n"
          ]
        },
        {
          "output_type": "stream",
          "name": "stdout",
          "text": [
            "Finished Epoch 13 || Run Time:    4.7 | Load Time:   12.5 || F1:  99.37 | Prec:  98.74 | Rec: 100.00 || Ex/s: 430.58\n",
            "\n",
            "===>  EVAL Epoch 13\n"
          ]
        },
        {
          "output_type": "stream",
          "name": "stderr",
          "text": [
            "0% [███████████████] 100% | ETA: 00:00:00\n",
            "Total time elapsed: 00:00:04\n"
          ]
        },
        {
          "output_type": "stream",
          "name": "stdout",
          "text": [
            "Finished Epoch 13 || Run Time:    0.9 | Load Time:    3.7 || F1:  95.64 | Prec:  92.62 | Rec:  98.87 || Ex/s: 536.54\n",
            "\n",
            "---------------------\n",
            "\n",
            "===>  TRAIN Epoch 14\n"
          ]
        },
        {
          "output_type": "stream",
          "name": "stderr",
          "text": [
            "0% [██████████████████████████████] 100% | ETA: 00:00:00\n",
            "Total time elapsed: 00:00:17\n"
          ]
        },
        {
          "output_type": "stream",
          "name": "stdout",
          "text": [
            "Finished Epoch 14 || Run Time:    4.8 | Load Time:   12.8 || F1:  99.37 | Prec:  98.74 | Rec: 100.00 || Ex/s: 422.18\n",
            "\n",
            "===>  EVAL Epoch 14\n"
          ]
        },
        {
          "output_type": "stream",
          "name": "stderr",
          "text": [
            "0% [███████████████] 100% | ETA: 00:00:00\n",
            "Total time elapsed: 00:00:04\n"
          ]
        },
        {
          "output_type": "stream",
          "name": "stdout",
          "text": [
            "Finished Epoch 14 || Run Time:    1.0 | Load Time:    4.0 || F1:  95.64 | Prec:  92.62 | Rec:  98.87 || Ex/s: 499.33\n",
            "\n",
            "---------------------\n",
            "\n",
            "===>  TRAIN Epoch 15\n"
          ]
        },
        {
          "output_type": "stream",
          "name": "stderr",
          "text": [
            "0% [██████████████████████████████] 100% | ETA: 00:00:00\n",
            "Total time elapsed: 00:00:16\n"
          ]
        },
        {
          "output_type": "stream",
          "name": "stdout",
          "text": [
            "Finished Epoch 15 || Run Time:    4.5 | Load Time:   12.3 || F1:  99.37 | Prec:  98.74 | Rec: 100.00 || Ex/s: 441.83\n",
            "\n",
            "===>  EVAL Epoch 15\n"
          ]
        },
        {
          "output_type": "stream",
          "name": "stderr",
          "text": [
            "0% [███████████████] 100% | ETA: 00:00:00\n",
            "Total time elapsed: 00:00:04\n"
          ]
        },
        {
          "output_type": "stream",
          "name": "stdout",
          "text": [
            "Finished Epoch 15 || Run Time:    0.9 | Load Time:    3.8 || F1:  95.75 | Prec:  92.81 | Rec:  98.87 || Ex/s: 519.24\n",
            "\n",
            "* Best F1: tensor(95.7470, device='cuda:0')\n",
            "Saving best model...\n",
            "Done.\n",
            "---------------------\n",
            "\n",
            "Loading best model...\n",
            "Training done.\n"
          ]
        },
        {
          "output_type": "execute_result",
          "data": {
            "text/plain": [
              "tensor(95.7470, device='cuda:0')"
            ]
          },
          "metadata": {},
          "execution_count": 37
        }
      ],
      "source": [
        "model.run_train(\n",
        "    train,\n",
        "    validation,\n",
        "    epochs=15,\n",
        "    batch_size=32,\n",
        "    best_save_path='sif_model.pth',\n",
        "    pos_neg_ratio=3)"
      ]
    },
    {
      "cell_type": "code",
      "execution_count": 38,
      "metadata": {
        "id": "v7hiHKiB7jiZ",
        "colab": {
          "base_uri": "https://localhost:8080/"
        },
        "outputId": "4f1c9ddd-64a9-4103-b7f6-9f3632daf812"
      },
      "outputs": [
        {
          "output_type": "stream",
          "name": "stdout",
          "text": [
            "===>  EVAL Epoch 15\n"
          ]
        },
        {
          "output_type": "stream",
          "name": "stderr",
          "text": [
            "/usr/local/lib/python3.7/dist-packages/torch/nn/modules/module.py:974: UserWarning: Using a non-full backward hook when the forward contains multiple autograd Nodes is deprecated and will be removed in future versions. This hook will be missing some grad_input. Please use register_full_backward_hook to get the documented behavior.\n",
            "  warnings.warn(\"Using a non-full backward hook when the forward contains multiple autograd Nodes \"\n",
            "0% [███████████████] 100% | ETA: 00:00:00\n",
            "Total time elapsed: 00:00:04\n"
          ]
        },
        {
          "output_type": "stream",
          "name": "stdout",
          "text": [
            "Finished Epoch 15 || Run Time:    1.0 | Load Time:    3.8 || F1:  95.78 | Prec:  94.52 | Rec:  97.07 || Ex/s: 521.14\n",
            "\n"
          ]
        },
        {
          "output_type": "execute_result",
          "data": {
            "text/plain": [
              "tensor(95.7778, device='cuda:0')"
            ]
          },
          "metadata": {},
          "execution_count": 38
        }
      ],
      "source": [
        "# Compute F1 on test set\n",
        "model.run_eval(test)"
      ]
    },
    {
      "cell_type": "markdown",
      "metadata": {
        "id": "kfoEkQMa7jia"
      },
      "source": [
        "##### DBLP-GoogleScholar"
      ]
    },
    {
      "cell_type": "code",
      "execution_count": 39,
      "metadata": {
        "id": "44lHWm9x7jia"
      },
      "outputs": [],
      "source": [
        "train, validation, test = dm.data.process(\n",
        "    path='/content/IC/datasesErros/FMedium_50_1_2/Structured/DBLP-GoogleScholar/',\n",
        "    train='joined_train.csv',\n",
        "    validation='joined_valid.csv',\n",
        "    test='joined_test.csv')"
      ]
    },
    {
      "cell_type": "code",
      "execution_count": 40,
      "metadata": {
        "id": "6s0UXEsU7jib"
      },
      "outputs": [],
      "source": [
        "model = dm.MatchingModel(attr_summarizer='sif')"
      ]
    },
    {
      "cell_type": "code",
      "execution_count": 41,
      "metadata": {
        "id": "vxB1T6-K7jib",
        "colab": {
          "base_uri": "https://localhost:8080/"
        },
        "outputId": "100a2be6-b8ab-456b-d24e-5850b1df1663"
      },
      "outputs": [
        {
          "output_type": "stream",
          "name": "stdout",
          "text": [
            "* Number of trainable parameters: 542402\n",
            "===>  TRAIN Epoch 1\n"
          ]
        },
        {
          "output_type": "stream",
          "name": "stderr",
          "text": [
            "/usr/local/lib/python3.7/dist-packages/torch/nn/modules/module.py:974: UserWarning: Using a non-full backward hook when the forward contains multiple autograd Nodes is deprecated and will be removed in future versions. This hook will be missing some grad_input. Please use register_full_backward_hook to get the documented behavior.\n",
            "  warnings.warn(\"Using a non-full backward hook when the forward contains multiple autograd Nodes \"\n",
            "/usr/local/lib/python3.7/dist-packages/torch/nn/functional.py:2742: UserWarning: reduction: 'mean' divides the total loss by both the batch size and the support size.'batchmean' divides only by the batch size, and aligns with the KL div math definition.'mean' will be changed to behave the same as 'batchmean' in the next major release.\n",
            "  \"reduction: 'mean' divides the total loss by both the batch size and the support size.\"\n",
            "0% [██████████████████████████████] 100% | ETA: 00:00:00\n",
            "Total time elapsed: 00:00:34\n"
          ]
        },
        {
          "output_type": "stream",
          "name": "stdout",
          "text": [
            "Finished Epoch 1 || Run Time:   10.2 | Load Time:   25.0 || F1:  64.83 | Prec:  59.30 | Rec:  71.50 || Ex/s: 488.70\n",
            "\n",
            "===>  EVAL Epoch 1\n"
          ]
        },
        {
          "output_type": "stream",
          "name": "stderr",
          "text": [
            "0% [██████████████████████████████] 100% | ETA: 00:00:00\n",
            "Total time elapsed: 00:00:09\n"
          ]
        },
        {
          "output_type": "stream",
          "name": "stdout",
          "text": [
            "Finished Epoch 1 || Run Time:    2.2 | Load Time:    7.7 || F1:  78.36 | Prec:  70.42 | Rec:  88.32 || Ex/s: 582.25\n",
            "\n",
            "* Best F1: tensor(78.3582, device='cuda:0')\n",
            "Saving best model...\n",
            "Done.\n",
            "---------------------\n",
            "\n",
            "===>  TRAIN Epoch 2\n"
          ]
        },
        {
          "output_type": "stream",
          "name": "stderr",
          "text": [
            "0% [██████████████████████████████] 100% | ETA: 00:00:00\n",
            "Total time elapsed: 00:00:36\n"
          ]
        },
        {
          "output_type": "stream",
          "name": "stdout",
          "text": [
            "Finished Epoch 2 || Run Time:   10.9 | Load Time:   26.1 || F1:  84.33 | Prec:  76.92 | Rec:  93.33 || Ex/s: 465.43\n",
            "\n",
            "===>  EVAL Epoch 2\n"
          ]
        },
        {
          "output_type": "stream",
          "name": "stderr",
          "text": [
            "0% [██████████████████████████████] 100% | ETA: 00:00:00\n",
            "Total time elapsed: 00:00:10\n"
          ]
        },
        {
          "output_type": "stream",
          "name": "stdout",
          "text": [
            "Finished Epoch 2 || Run Time:    2.3 | Load Time:    8.0 || F1:  80.40 | Prec:  71.99 | Rec:  91.03 || Ex/s: 558.39\n",
            "\n",
            "* Best F1: tensor(80.3962, device='cuda:0')\n",
            "Saving best model...\n",
            "Done.\n",
            "---------------------\n",
            "\n",
            "===>  TRAIN Epoch 3\n"
          ]
        },
        {
          "output_type": "stream",
          "name": "stderr",
          "text": [
            "0% [██████████████████████████████] 100% | ETA: 00:00:00\n",
            "Total time elapsed: 00:00:35\n"
          ]
        },
        {
          "output_type": "stream",
          "name": "stdout",
          "text": [
            "Finished Epoch 3 || Run Time:   10.3 | Load Time:   25.1 || F1:  91.35 | Prec:  86.24 | Rec:  97.10 || Ex/s: 485.44\n",
            "\n",
            "===>  EVAL Epoch 3\n"
          ]
        },
        {
          "output_type": "stream",
          "name": "stderr",
          "text": [
            "0% [██████████████████████████████] 100% | ETA: 00:00:00\n",
            "Total time elapsed: 00:00:09\n"
          ]
        },
        {
          "output_type": "stream",
          "name": "stdout",
          "text": [
            "Finished Epoch 3 || Run Time:    2.2 | Load Time:    7.7 || F1:  81.71 | Prec:  75.28 | Rec:  89.35 || Ex/s: 579.62\n",
            "\n",
            "* Best F1: tensor(81.7094, device='cuda:0')\n",
            "Saving best model...\n",
            "Done.\n",
            "---------------------\n",
            "\n",
            "===>  TRAIN Epoch 4\n"
          ]
        },
        {
          "output_type": "stream",
          "name": "stderr",
          "text": [
            "0% [██████████████████████████████] 100% | ETA: 00:00:00\n",
            "Total time elapsed: 00:00:35\n"
          ]
        },
        {
          "output_type": "stream",
          "name": "stdout",
          "text": [
            "Finished Epoch 4 || Run Time:   10.4 | Load Time:   25.4 || F1:  95.17 | Prec:  92.20 | Rec:  98.35 || Ex/s: 481.80\n",
            "\n",
            "===>  EVAL Epoch 4\n"
          ]
        },
        {
          "output_type": "stream",
          "name": "stderr",
          "text": [
            "0% [██████████████████████████████] 100% | ETA: 00:00:00\n",
            "Total time elapsed: 00:00:09\n"
          ]
        },
        {
          "output_type": "stream",
          "name": "stdout",
          "text": [
            "Finished Epoch 4 || Run Time:    2.2 | Load Time:    7.7 || F1:  83.32 | Prec:  80.49 | Rec:  86.36 || Ex/s: 584.48\n",
            "\n",
            "* Best F1: tensor(83.3183, device='cuda:0')\n",
            "Saving best model...\n",
            "Done.\n",
            "---------------------\n",
            "\n",
            "===>  TRAIN Epoch 5\n"
          ]
        },
        {
          "output_type": "stream",
          "name": "stderr",
          "text": [
            "0% [██████████████████████████████] 100% | ETA: 00:00:00\n",
            "Total time elapsed: 00:00:35\n"
          ]
        },
        {
          "output_type": "stream",
          "name": "stdout",
          "text": [
            "Finished Epoch 5 || Run Time:   10.5 | Load Time:   25.3 || F1:  96.82 | Prec:  94.94 | Rec:  98.78 || Ex/s: 481.67\n",
            "\n",
            "===>  EVAL Epoch 5\n"
          ]
        },
        {
          "output_type": "stream",
          "name": "stderr",
          "text": [
            "0% [██████████████████████████████] 100% | ETA: 00:00:00\n",
            "Total time elapsed: 00:00:10\n"
          ]
        },
        {
          "output_type": "stream",
          "name": "stdout",
          "text": [
            "Finished Epoch 5 || Run Time:    2.4 | Load Time:    8.0 || F1:  83.79 | Prec:  82.38 | Rec:  85.23 || Ex/s: 555.73\n",
            "\n",
            "* Best F1: tensor(83.7850, device='cuda:0')\n",
            "Saving best model...\n",
            "Done.\n",
            "---------------------\n",
            "\n",
            "===>  TRAIN Epoch 6\n"
          ]
        },
        {
          "output_type": "stream",
          "name": "stderr",
          "text": [
            "0% [██████████████████████████████] 100% | ETA: 00:00:00\n",
            "Total time elapsed: 00:00:36\n"
          ]
        },
        {
          "output_type": "stream",
          "name": "stdout",
          "text": [
            "Finished Epoch 6 || Run Time:   10.7 | Load Time:   25.7 || F1:  97.66 | Prec:  96.33 | Rec:  99.03 || Ex/s: 473.74\n",
            "\n",
            "===>  EVAL Epoch 6\n"
          ]
        },
        {
          "output_type": "stream",
          "name": "stderr",
          "text": [
            "0% [██████████████████████████████] 100% | ETA: 00:00:00\n",
            "Total time elapsed: 00:00:09\n"
          ]
        },
        {
          "output_type": "stream",
          "name": "stdout",
          "text": [
            "Finished Epoch 6 || Run Time:    2.1 | Load Time:    7.6 || F1:  83.45 | Prec:  81.91 | Rec:  85.05 || Ex/s: 588.74\n",
            "\n",
            "---------------------\n",
            "\n",
            "===>  TRAIN Epoch 7\n"
          ]
        },
        {
          "output_type": "stream",
          "name": "stderr",
          "text": [
            "0% [██████████████████████████████] 100% | ETA: 00:00:00\n",
            "Total time elapsed: 00:00:35\n"
          ]
        },
        {
          "output_type": "stream",
          "name": "stdout",
          "text": [
            "Finished Epoch 7 || Run Time:   10.4 | Load Time:   25.3 || F1:  98.28 | Prec:  97.46 | Rec:  99.13 || Ex/s: 483.56\n",
            "\n",
            "===>  EVAL Epoch 7\n"
          ]
        },
        {
          "output_type": "stream",
          "name": "stderr",
          "text": [
            "0% [██████████████████████████████] 100% | ETA: 00:00:00\n",
            "Total time elapsed: 00:00:09\n"
          ]
        },
        {
          "output_type": "stream",
          "name": "stdout",
          "text": [
            "Finished Epoch 7 || Run Time:    2.1 | Load Time:    7.6 || F1:  83.26 | Prec:  82.17 | Rec:  84.39 || Ex/s: 586.39\n",
            "\n",
            "---------------------\n",
            "\n",
            "===>  TRAIN Epoch 8\n"
          ]
        },
        {
          "output_type": "stream",
          "name": "stderr",
          "text": [
            "0% [██████████████████████████████] 100% | ETA: 00:00:00\n",
            "Total time elapsed: 00:00:35\n"
          ]
        },
        {
          "output_type": "stream",
          "name": "stdout",
          "text": [
            "Finished Epoch 8 || Run Time:   10.2 | Load Time:   25.2 || F1:  98.59 | Prec:  97.85 | Rec:  99.35 || Ex/s: 486.45\n",
            "\n",
            "===>  EVAL Epoch 8\n"
          ]
        },
        {
          "output_type": "stream",
          "name": "stderr",
          "text": [
            "0% [██████████████████████████████] 100% | ETA: 00:00:00\n",
            "Total time elapsed: 00:00:10\n"
          ]
        },
        {
          "output_type": "stream",
          "name": "stdout",
          "text": [
            "Finished Epoch 8 || Run Time:    2.3 | Load Time:    8.0 || F1:  83.40 | Prec:  83.92 | Rec:  82.90 || Ex/s: 560.10\n",
            "\n",
            "---------------------\n",
            "\n",
            "===>  TRAIN Epoch 9\n"
          ]
        },
        {
          "output_type": "stream",
          "name": "stderr",
          "text": [
            "0% [██████████████████████████████] 100% | ETA: 00:00:00\n",
            "Total time elapsed: 00:00:36\n"
          ]
        },
        {
          "output_type": "stream",
          "name": "stdout",
          "text": [
            "Finished Epoch 9 || Run Time:   10.8 | Load Time:   25.7 || F1:  98.78 | Prec:  98.12 | Rec:  99.44 || Ex/s: 472.45\n",
            "\n",
            "===>  EVAL Epoch 9\n"
          ]
        },
        {
          "output_type": "stream",
          "name": "stderr",
          "text": [
            "0% [██████████████████████████████] 100% | ETA: 00:00:00\n",
            "Total time elapsed: 00:00:10\n"
          ]
        },
        {
          "output_type": "stream",
          "name": "stdout",
          "text": [
            "Finished Epoch 9 || Run Time:    2.3 | Load Time:    7.9 || F1:  83.25 | Prec:  84.08 | Rec:  82.43 || Ex/s: 566.54\n",
            "\n",
            "---------------------\n",
            "\n",
            "===>  TRAIN Epoch 10\n"
          ]
        },
        {
          "output_type": "stream",
          "name": "stderr",
          "text": [
            "0% [██████████████████████████████] 100% | ETA: 00:00:00\n",
            "Total time elapsed: 00:00:34\n"
          ]
        },
        {
          "output_type": "stream",
          "name": "stdout",
          "text": [
            "Finished Epoch 10 || Run Time:   10.2 | Load Time:   25.0 || F1:  98.99 | Prec:  98.46 | Rec:  99.53 || Ex/s: 488.30\n",
            "\n",
            "===>  EVAL Epoch 10\n"
          ]
        },
        {
          "output_type": "stream",
          "name": "stderr",
          "text": [
            "0% [██████████████████████████████] 100% | ETA: 00:00:00\n",
            "Total time elapsed: 00:00:09\n"
          ]
        },
        {
          "output_type": "stream",
          "name": "stdout",
          "text": [
            "Finished Epoch 10 || Run Time:    2.2 | Load Time:    7.7 || F1:  83.15 | Prec:  83.98 | Rec:  82.34 || Ex/s: 576.19\n",
            "\n",
            "---------------------\n",
            "\n",
            "===>  TRAIN Epoch 11\n"
          ]
        },
        {
          "output_type": "stream",
          "name": "stderr",
          "text": [
            "0% [██████████████████████████████] 100% | ETA: 00:00:00\n",
            "Total time elapsed: 00:00:35\n"
          ]
        },
        {
          "output_type": "stream",
          "name": "stdout",
          "text": [
            "Finished Epoch 11 || Run Time:   10.3 | Load Time:   25.3 || F1:  99.19 | Prec:  98.82 | Rec:  99.56 || Ex/s: 483.66\n",
            "\n",
            "===>  EVAL Epoch 11\n"
          ]
        },
        {
          "output_type": "stream",
          "name": "stderr",
          "text": [
            "0% [██████████████████████████████] 100% | ETA: 00:00:00\n",
            "Total time elapsed: 00:00:10\n"
          ]
        },
        {
          "output_type": "stream",
          "name": "stdout",
          "text": [
            "Finished Epoch 11 || Run Time:    2.3 | Load Time:    7.8 || F1:  83.08 | Prec:  84.03 | Rec:  82.15 || Ex/s: 569.71\n",
            "\n",
            "---------------------\n",
            "\n",
            "===>  TRAIN Epoch 12\n"
          ]
        },
        {
          "output_type": "stream",
          "name": "stderr",
          "text": [
            "0% [██████████████████████████████] 100% | ETA: 00:00:00\n",
            "Total time elapsed: 00:00:35\n"
          ]
        },
        {
          "output_type": "stream",
          "name": "stdout",
          "text": [
            "Finished Epoch 12 || Run Time:   10.4 | Load Time:   25.2 || F1:  99.24 | Prec:  98.86 | Rec:  99.63 || Ex/s: 484.12\n",
            "\n",
            "===>  EVAL Epoch 12\n"
          ]
        },
        {
          "output_type": "stream",
          "name": "stderr",
          "text": [
            "0% [██████████████████████████████] 100% | ETA: 00:00:00\n",
            "Total time elapsed: 00:00:09\n"
          ]
        },
        {
          "output_type": "stream",
          "name": "stdout",
          "text": [
            "Finished Epoch 12 || Run Time:    2.1 | Load Time:    7.6 || F1:  83.10 | Prec:  83.97 | Rec:  82.24 || Ex/s: 590.60\n",
            "\n",
            "---------------------\n",
            "\n",
            "===>  TRAIN Epoch 13\n"
          ]
        },
        {
          "output_type": "stream",
          "name": "stderr",
          "text": [
            "0% [██████████████████████████████] 100% | ETA: 00:00:00\n",
            "Total time elapsed: 00:00:36\n"
          ]
        },
        {
          "output_type": "stream",
          "name": "stdout",
          "text": [
            "Finished Epoch 13 || Run Time:   10.7 | Load Time:   25.8 || F1:  99.32 | Prec:  99.01 | Rec:  99.63 || Ex/s: 471.52\n",
            "\n",
            "===>  EVAL Epoch 13\n"
          ]
        },
        {
          "output_type": "stream",
          "name": "stderr",
          "text": [
            "0% [██████████████████████████████] 100% | ETA: 00:00:00\n",
            "Total time elapsed: 00:00:10\n"
          ]
        },
        {
          "output_type": "stream",
          "name": "stdout",
          "text": [
            "Finished Epoch 13 || Run Time:    2.3 | Load Time:    7.9 || F1:  82.85 | Prec:  83.76 | Rec:  81.96 || Ex/s: 559.12\n",
            "\n",
            "---------------------\n",
            "\n",
            "===>  TRAIN Epoch 14\n"
          ]
        },
        {
          "output_type": "stream",
          "name": "stderr",
          "text": [
            "0% [██████████████████████████████] 100% | ETA: 00:00:00\n",
            "Total time elapsed: 00:00:35\n"
          ]
        },
        {
          "output_type": "stream",
          "name": "stdout",
          "text": [
            "Finished Epoch 14 || Run Time:   10.4 | Load Time:   25.2 || F1:  99.36 | Prec:  99.10 | Rec:  99.63 || Ex/s: 484.66\n",
            "\n",
            "===>  EVAL Epoch 14\n"
          ]
        },
        {
          "output_type": "stream",
          "name": "stderr",
          "text": [
            "0% [██████████████████████████████] 100% | ETA: 00:00:00\n",
            "Total time elapsed: 00:00:09\n"
          ]
        },
        {
          "output_type": "stream",
          "name": "stdout",
          "text": [
            "Finished Epoch 14 || Run Time:    2.2 | Load Time:    7.7 || F1:  82.97 | Prec:  84.00 | Rec:  81.96 || Ex/s: 580.29\n",
            "\n",
            "---------------------\n",
            "\n",
            "===>  TRAIN Epoch 15\n"
          ]
        },
        {
          "output_type": "stream",
          "name": "stderr",
          "text": [
            "0% [██████████████████████████████] 100% | ETA: 00:00:00\n",
            "Total time elapsed: 00:00:35\n"
          ]
        },
        {
          "output_type": "stream",
          "name": "stdout",
          "text": [
            "Finished Epoch 15 || Run Time:   10.4 | Load Time:   25.4 || F1:  99.41 | Prec:  99.19 | Rec:  99.63 || Ex/s: 480.50\n",
            "\n",
            "===>  EVAL Epoch 15\n"
          ]
        },
        {
          "output_type": "stream",
          "name": "stderr",
          "text": [
            "0% [██████████████████████████████] 100% | ETA: 00:00:00\n",
            "Total time elapsed: 00:00:09\n"
          ]
        },
        {
          "output_type": "stream",
          "name": "stdout",
          "text": [
            "Finished Epoch 15 || Run Time:    2.2 | Load Time:    7.7 || F1:  82.90 | Prec:  84.05 | Rec:  81.78 || Ex/s: 580.80\n",
            "\n",
            "---------------------\n",
            "\n",
            "Loading best model...\n",
            "Training done.\n"
          ]
        },
        {
          "output_type": "execute_result",
          "data": {
            "text/plain": [
              "tensor(83.7850, device='cuda:0')"
            ]
          },
          "metadata": {},
          "execution_count": 41
        }
      ],
      "source": [
        "model.run_train(\n",
        "    train,\n",
        "    validation,\n",
        "    epochs=15,\n",
        "    batch_size=32,\n",
        "    best_save_path='sif_model.pth',\n",
        "    pos_neg_ratio=3)"
      ]
    },
    {
      "cell_type": "code",
      "execution_count": 42,
      "metadata": {
        "id": "6KTfXvYq7jib",
        "colab": {
          "base_uri": "https://localhost:8080/"
        },
        "outputId": "6f4cb698-f7a1-443b-e501-9d8261d3958b"
      },
      "outputs": [
        {
          "output_type": "stream",
          "name": "stdout",
          "text": [
            "===>  EVAL Epoch 5\n"
          ]
        },
        {
          "output_type": "stream",
          "name": "stderr",
          "text": [
            "/usr/local/lib/python3.7/dist-packages/torch/nn/modules/module.py:974: UserWarning: Using a non-full backward hook when the forward contains multiple autograd Nodes is deprecated and will be removed in future versions. This hook will be missing some grad_input. Please use register_full_backward_hook to get the documented behavior.\n",
            "  warnings.warn(\"Using a non-full backward hook when the forward contains multiple autograd Nodes \"\n",
            "0% [██████████████████████████████] 100% | ETA: 00:00:00\n",
            "Total time elapsed: 00:00:10\n"
          ]
        },
        {
          "output_type": "stream",
          "name": "stdout",
          "text": [
            "Finished Epoch 5 || Run Time:    2.3 | Load Time:    8.0 || F1:  82.94 | Prec:  81.20 | Rec:  84.77 || Ex/s: 556.13\n",
            "\n"
          ]
        },
        {
          "output_type": "execute_result",
          "data": {
            "text/plain": [
              "tensor(82.9447, device='cuda:0')"
            ]
          },
          "metadata": {},
          "execution_count": 42
        }
      ],
      "source": [
        "# Compute F1 on test set\n",
        "model.run_eval(test)"
      ]
    },
    {
      "cell_type": "markdown",
      "metadata": {
        "id": "nQTv2vdI7jic"
      },
      "source": [
        "##### Walmart-Amazon"
      ]
    },
    {
      "cell_type": "code",
      "execution_count": 43,
      "metadata": {
        "id": "Iz-jzR917jic"
      },
      "outputs": [],
      "source": [
        "train, validation, test = dm.data.process(\n",
        "    path='/content/IC/datasesErros/FMedium_50_1_2/Structured/Walmart-Amazon/',\n",
        "    train='joined_train.csv',\n",
        "    validation='joined_valid.csv',\n",
        "    test='joined_test.csv')"
      ]
    },
    {
      "cell_type": "code",
      "execution_count": 44,
      "metadata": {
        "id": "tPLnyQy97jid"
      },
      "outputs": [],
      "source": [
        "model = dm.MatchingModel(attr_summarizer='sif')"
      ]
    },
    {
      "cell_type": "code",
      "execution_count": 45,
      "metadata": {
        "id": "SGL7wIyt7jid",
        "colab": {
          "base_uri": "https://localhost:8080/"
        },
        "outputId": "9a2fd799-2588-4c68-9a56-690d6f96108c"
      },
      "outputs": [
        {
          "output_type": "stream",
          "name": "stdout",
          "text": [
            "* Number of trainable parameters: 542402\n",
            "===>  TRAIN Epoch 1\n"
          ]
        },
        {
          "output_type": "stream",
          "name": "stderr",
          "text": [
            "/usr/local/lib/python3.7/dist-packages/torch/nn/modules/module.py:974: UserWarning: Using a non-full backward hook when the forward contains multiple autograd Nodes is deprecated and will be removed in future versions. This hook will be missing some grad_input. Please use register_full_backward_hook to get the documented behavior.\n",
            "  warnings.warn(\"Using a non-full backward hook when the forward contains multiple autograd Nodes \"\n",
            "/usr/local/lib/python3.7/dist-packages/torch/nn/functional.py:2742: UserWarning: reduction: 'mean' divides the total loss by both the batch size and the support size.'batchmean' divides only by the batch size, and aligns with the KL div math definition.'mean' will be changed to behave the same as 'batchmean' in the next major release.\n",
            "  \"reduction: 'mean' divides the total loss by both the batch size and the support size.\"\n",
            "0% [██████████████████████████████] 100% | ETA: 00:00:00\n",
            "Total time elapsed: 00:00:11\n"
          ]
        },
        {
          "output_type": "stream",
          "name": "stdout",
          "text": [
            "Finished Epoch 1 || Run Time:    4.7 | Load Time:    7.2 || F1:  23.42 | Prec:  56.67 | Rec:  14.76 || Ex/s: 518.52\n",
            "\n",
            "===>  EVAL Epoch 1\n"
          ]
        },
        {
          "output_type": "stream",
          "name": "stderr",
          "text": [
            "0% [█████████████] 100% | ETA: 00:00:00\n",
            "Total time elapsed: 00:00:03\n"
          ]
        },
        {
          "output_type": "stream",
          "name": "stdout",
          "text": [
            "Finished Epoch 1 || Run Time:    1.0 | Load Time:    2.3 || F1:  47.83 | Prec:  44.80 | Rec:  51.30 || Ex/s: 628.45\n",
            "\n",
            "* Best F1: tensor(47.8261, device='cuda:0')\n",
            "Saving best model...\n",
            "Done.\n",
            "---------------------\n",
            "\n",
            "===>  TRAIN Epoch 2\n"
          ]
        },
        {
          "output_type": "stream",
          "name": "stderr",
          "text": [
            "0% [██████████████████████████████] 100% | ETA: 00:00:00\n",
            "Total time elapsed: 00:00:11\n"
          ]
        },
        {
          "output_type": "stream",
          "name": "stdout",
          "text": [
            "Finished Epoch 2 || Run Time:    4.6 | Load Time:    7.1 || F1:  53.19 | Prec:  55.94 | Rec:  50.69 || Ex/s: 525.97\n",
            "\n",
            "===>  EVAL Epoch 2\n"
          ]
        },
        {
          "output_type": "stream",
          "name": "stderr",
          "text": [
            "0% [█████████████] 100% | ETA: 00:00:00\n",
            "Total time elapsed: 00:00:03\n"
          ]
        },
        {
          "output_type": "stream",
          "name": "stdout",
          "text": [
            "Finished Epoch 2 || Run Time:    1.0 | Load Time:    2.2 || F1:  47.60 | Prec:  38.76 | Rec:  61.66 || Ex/s: 630.90\n",
            "\n",
            "---------------------\n",
            "\n",
            "===>  TRAIN Epoch 3\n"
          ]
        },
        {
          "output_type": "stream",
          "name": "stderr",
          "text": [
            "0% [██████████████████████████████] 100% | ETA: 00:00:00\n",
            "Total time elapsed: 00:00:11\n"
          ]
        },
        {
          "output_type": "stream",
          "name": "stdout",
          "text": [
            "Finished Epoch 3 || Run Time:    4.3 | Load Time:    6.9 || F1:  65.99 | Prec:  64.20 | Rec:  67.88 || Ex/s: 548.37\n",
            "\n",
            "===>  EVAL Epoch 3\n"
          ]
        },
        {
          "output_type": "stream",
          "name": "stderr",
          "text": [
            "0% [█████████████] 100% | ETA: 00:00:00\n",
            "Total time elapsed: 00:00:03\n"
          ]
        },
        {
          "output_type": "stream",
          "name": "stdout",
          "text": [
            "Finished Epoch 3 || Run Time:    0.9 | Load Time:    2.2 || F1:  47.78 | Prec:  37.18 | Rec:  66.84 || Ex/s: 664.31\n",
            "\n",
            "---------------------\n",
            "\n",
            "===>  TRAIN Epoch 4\n"
          ]
        },
        {
          "output_type": "stream",
          "name": "stderr",
          "text": [
            "0% [██████████████████████████████] 100% | ETA: 00:00:00\n",
            "Total time elapsed: 00:00:10\n"
          ]
        },
        {
          "output_type": "stream",
          "name": "stdout",
          "text": [
            "Finished Epoch 4 || Run Time:    4.3 | Load Time:    6.8 || F1:  81.46 | Prec:  78.15 | Rec:  85.07 || Ex/s: 553.38\n",
            "\n",
            "===>  EVAL Epoch 4\n"
          ]
        },
        {
          "output_type": "stream",
          "name": "stderr",
          "text": [
            "0% [█████████████] 100% | ETA: 00:00:00\n",
            "Total time elapsed: 00:00:03\n"
          ]
        },
        {
          "output_type": "stream",
          "name": "stdout",
          "text": [
            "Finished Epoch 4 || Run Time:    0.9 | Load Time:    2.1 || F1:  55.76 | Prec:  50.21 | Rec:  62.69 || Ex/s: 666.51\n",
            "\n",
            "* Best F1: tensor(55.7604, device='cuda:0')\n",
            "Saving best model...\n",
            "Done.\n",
            "---------------------\n",
            "\n",
            "===>  TRAIN Epoch 5\n"
          ]
        },
        {
          "output_type": "stream",
          "name": "stderr",
          "text": [
            "0% [██████████████████████████████] 100% | ETA: 00:00:00\n",
            "Total time elapsed: 00:00:11\n"
          ]
        },
        {
          "output_type": "stream",
          "name": "stdout",
          "text": [
            "Finished Epoch 5 || Run Time:    4.5 | Load Time:    7.0 || F1:  89.75 | Prec:  86.97 | Rec:  92.71 || Ex/s: 535.73\n",
            "\n",
            "===>  EVAL Epoch 5\n"
          ]
        },
        {
          "output_type": "stream",
          "name": "stderr",
          "text": [
            "0% [█████████████] 100% | ETA: 00:00:00\n",
            "Total time elapsed: 00:00:03\n"
          ]
        },
        {
          "output_type": "stream",
          "name": "stdout",
          "text": [
            "Finished Epoch 5 || Run Time:    1.1 | Load Time:    2.5 || F1:  58.79 | Prec:  59.57 | Rec:  58.03 || Ex/s: 557.46\n",
            "\n",
            "* Best F1: tensor(58.7926, device='cuda:0')\n",
            "Saving best model...\n",
            "Done.\n",
            "---------------------\n",
            "\n",
            "===>  TRAIN Epoch 6\n"
          ]
        },
        {
          "output_type": "stream",
          "name": "stderr",
          "text": [
            "0% [██████████████████████████████] 100% | ETA: 00:00:00\n",
            "Total time elapsed: 00:00:11\n"
          ]
        },
        {
          "output_type": "stream",
          "name": "stdout",
          "text": [
            "Finished Epoch 6 || Run Time:    4.4 | Load Time:    6.9 || F1:  93.65 | Prec:  92.54 | Rec:  94.79 || Ex/s: 541.71\n",
            "\n",
            "===>  EVAL Epoch 6\n"
          ]
        },
        {
          "output_type": "stream",
          "name": "stderr",
          "text": [
            "0% [█████████████] 100% | ETA: 00:00:00\n",
            "Total time elapsed: 00:00:03\n"
          ]
        },
        {
          "output_type": "stream",
          "name": "stdout",
          "text": [
            "Finished Epoch 6 || Run Time:    0.9 | Load Time:    2.2 || F1:  57.71 | Prec:  64.33 | Rec:  52.33 || Ex/s: 652.89\n",
            "\n",
            "---------------------\n",
            "\n",
            "===>  TRAIN Epoch 7\n"
          ]
        },
        {
          "output_type": "stream",
          "name": "stderr",
          "text": [
            "0% [██████████████████████████████] 100% | ETA: 00:00:00\n",
            "Total time elapsed: 00:00:11\n"
          ]
        },
        {
          "output_type": "stream",
          "name": "stdout",
          "text": [
            "Finished Epoch 7 || Run Time:    4.4 | Load Time:    6.9 || F1:  95.60 | Prec:  95.03 | Rec:  96.18 || Ex/s: 541.90\n",
            "\n",
            "===>  EVAL Epoch 7\n"
          ]
        },
        {
          "output_type": "stream",
          "name": "stderr",
          "text": [
            "0% [█████████████] 100% | ETA: 00:00:00\n",
            "Total time elapsed: 00:00:03\n"
          ]
        },
        {
          "output_type": "stream",
          "name": "stdout",
          "text": [
            "Finished Epoch 7 || Run Time:    1.0 | Load Time:    2.2 || F1:  58.86 | Prec:  65.61 | Rec:  53.37 || Ex/s: 646.78\n",
            "\n",
            "* Best F1: tensor(58.8571, device='cuda:0')\n",
            "Saving best model...\n",
            "Done.\n",
            "---------------------\n",
            "\n",
            "===>  TRAIN Epoch 8\n"
          ]
        },
        {
          "output_type": "stream",
          "name": "stderr",
          "text": [
            "0% [██████████████████████████████] 100% | ETA: 00:00:00\n",
            "Total time elapsed: 00:00:11\n"
          ]
        },
        {
          "output_type": "stream",
          "name": "stdout",
          "text": [
            "Finished Epoch 8 || Run Time:    4.4 | Load Time:    6.9 || F1:  97.15 | Prec:  96.73 | Rec:  97.57 || Ex/s: 542.44\n",
            "\n",
            "===>  EVAL Epoch 8\n"
          ]
        },
        {
          "output_type": "stream",
          "name": "stderr",
          "text": [
            "0% [█████████████] 100% | ETA: 00:00:00\n",
            "Total time elapsed: 00:00:03\n"
          ]
        },
        {
          "output_type": "stream",
          "name": "stdout",
          "text": [
            "Finished Epoch 8 || Run Time:    1.0 | Load Time:    2.2 || F1:  56.81 | Prec:  64.47 | Rec:  50.78 || Ex/s: 648.18\n",
            "\n",
            "---------------------\n",
            "\n",
            "===>  TRAIN Epoch 9\n"
          ]
        },
        {
          "output_type": "stream",
          "name": "stderr",
          "text": [
            "0% [██████████████████████████████] 100% | ETA: 00:00:00\n",
            "Total time elapsed: 00:00:11\n"
          ]
        },
        {
          "output_type": "stream",
          "name": "stdout",
          "text": [
            "Finished Epoch 9 || Run Time:    4.4 | Load Time:    6.9 || F1:  97.92 | Prec:  97.92 | Rec:  97.92 || Ex/s: 547.51\n",
            "\n",
            "===>  EVAL Epoch 9\n"
          ]
        },
        {
          "output_type": "stream",
          "name": "stderr",
          "text": [
            "0% [█████████████] 100% | ETA: 00:00:00\n",
            "Total time elapsed: 00:00:03\n"
          ]
        },
        {
          "output_type": "stream",
          "name": "stdout",
          "text": [
            "Finished Epoch 9 || Run Time:    1.0 | Load Time:    2.1 || F1:  55.88 | Prec:  64.63 | Rec:  49.22 || Ex/s: 659.07\n",
            "\n",
            "---------------------\n",
            "\n",
            "===>  TRAIN Epoch 10\n"
          ]
        },
        {
          "output_type": "stream",
          "name": "stderr",
          "text": [
            "0% [██████████████████████████████] 100% | ETA: 00:00:00\n",
            "Total time elapsed: 00:00:11\n"
          ]
        },
        {
          "output_type": "stream",
          "name": "stdout",
          "text": [
            "Finished Epoch 10 || Run Time:    4.5 | Load Time:    7.0 || F1:  98.69 | Prec:  98.95 | Rec:  98.44 || Ex/s: 537.73\n",
            "\n",
            "===>  EVAL Epoch 10\n"
          ]
        },
        {
          "output_type": "stream",
          "name": "stderr",
          "text": [
            "0% [█████████████] 100% | ETA: 00:00:00\n",
            "Total time elapsed: 00:00:03\n"
          ]
        },
        {
          "output_type": "stream",
          "name": "stdout",
          "text": [
            "Finished Epoch 10 || Run Time:    1.0 | Load Time:    2.2 || F1:  56.23 | Prec:  63.82 | Rec:  50.26 || Ex/s: 636.41\n",
            "\n",
            "---------------------\n",
            "\n",
            "===>  TRAIN Epoch 11\n"
          ]
        },
        {
          "output_type": "stream",
          "name": "stderr",
          "text": [
            "0% [██████████████████████████████] 100% | ETA: 00:00:00\n",
            "Total time elapsed: 00:00:11\n"
          ]
        },
        {
          "output_type": "stream",
          "name": "stdout",
          "text": [
            "Finished Epoch 11 || Run Time:    4.4 | Load Time:    6.9 || F1:  98.96 | Prec:  99.13 | Rec:  98.78 || Ex/s: 541.38\n",
            "\n",
            "===>  EVAL Epoch 11\n"
          ]
        },
        {
          "output_type": "stream",
          "name": "stderr",
          "text": [
            "0% [█████████████] 100% | ETA: 00:00:00\n",
            "Total time elapsed: 00:00:03\n"
          ]
        },
        {
          "output_type": "stream",
          "name": "stdout",
          "text": [
            "Finished Epoch 11 || Run Time:    0.9 | Load Time:    2.1 || F1:  56.90 | Prec:  63.87 | Rec:  51.30 || Ex/s: 672.71\n",
            "\n",
            "---------------------\n",
            "\n",
            "===>  TRAIN Epoch 12\n"
          ]
        },
        {
          "output_type": "stream",
          "name": "stderr",
          "text": [
            "0% [██████████████████████████████] 100% | ETA: 00:00:00\n",
            "Total time elapsed: 00:00:11\n"
          ]
        },
        {
          "output_type": "stream",
          "name": "stdout",
          "text": [
            "Finished Epoch 12 || Run Time:    4.6 | Load Time:    7.1 || F1:  99.22 | Prec:  99.30 | Rec:  99.13 || Ex/s: 527.99\n",
            "\n",
            "===>  EVAL Epoch 12\n"
          ]
        },
        {
          "output_type": "stream",
          "name": "stderr",
          "text": [
            "0% [█████████████] 100% | ETA: 00:00:00\n",
            "Total time elapsed: 00:00:03\n"
          ]
        },
        {
          "output_type": "stream",
          "name": "stdout",
          "text": [
            "Finished Epoch 12 || Run Time:    1.1 | Load Time:    2.4 || F1:  57.06 | Prec:  64.29 | Rec:  51.30 || Ex/s: 578.45\n",
            "\n",
            "---------------------\n",
            "\n",
            "===>  TRAIN Epoch 13\n"
          ]
        },
        {
          "output_type": "stream",
          "name": "stderr",
          "text": [
            "0% [██████████████████████████████] 100% | ETA: 00:00:00\n",
            "Total time elapsed: 00:00:11\n"
          ]
        },
        {
          "output_type": "stream",
          "name": "stdout",
          "text": [
            "Finished Epoch 13 || Run Time:    4.8 | Load Time:    7.3 || F1:  99.48 | Prec:  99.65 | Rec:  99.31 || Ex/s: 508.31\n",
            "\n",
            "===>  EVAL Epoch 13\n"
          ]
        },
        {
          "output_type": "stream",
          "name": "stderr",
          "text": [
            "0% [█████████████] 100% | ETA: 00:00:00\n",
            "Total time elapsed: 00:00:03\n"
          ]
        },
        {
          "output_type": "stream",
          "name": "stdout",
          "text": [
            "Finished Epoch 13 || Run Time:    1.0 | Load Time:    2.2 || F1:  56.65 | Prec:  64.05 | Rec:  50.78 || Ex/s: 644.45\n",
            "\n",
            "---------------------\n",
            "\n",
            "===>  TRAIN Epoch 14\n"
          ]
        },
        {
          "output_type": "stream",
          "name": "stderr",
          "text": [
            "0% [██████████████████████████████] 100% | ETA: 00:00:00\n",
            "Total time elapsed: 00:00:11\n"
          ]
        },
        {
          "output_type": "stream",
          "name": "stdout",
          "text": [
            "Finished Epoch 14 || Run Time:    4.3 | Load Time:    6.9 || F1:  99.57 | Prec:  99.65 | Rec:  99.48 || Ex/s: 547.47\n",
            "\n",
            "===>  EVAL Epoch 14\n"
          ]
        },
        {
          "output_type": "stream",
          "name": "stderr",
          "text": [
            "0% [█████████████] 100% | ETA: 00:00:00\n",
            "Total time elapsed: 00:00:03\n"
          ]
        },
        {
          "output_type": "stream",
          "name": "stdout",
          "text": [
            "Finished Epoch 14 || Run Time:    0.9 | Load Time:    2.2 || F1:  56.65 | Prec:  64.05 | Rec:  50.78 || Ex/s: 653.12\n",
            "\n",
            "---------------------\n",
            "\n",
            "===>  TRAIN Epoch 15\n"
          ]
        },
        {
          "output_type": "stream",
          "name": "stderr",
          "text": [
            "0% [██████████████████████████████] 100% | ETA: 00:00:00\n",
            "Total time elapsed: 00:00:11\n"
          ]
        },
        {
          "output_type": "stream",
          "name": "stdout",
          "text": [
            "Finished Epoch 15 || Run Time:    4.5 | Load Time:    6.9 || F1:  99.57 | Prec:  99.65 | Rec:  99.48 || Ex/s: 538.44\n",
            "\n",
            "===>  EVAL Epoch 15\n"
          ]
        },
        {
          "output_type": "stream",
          "name": "stderr",
          "text": [
            "0% [█████████████] 100% | ETA: 00:00:00\n",
            "Total time elapsed: 00:00:03\n"
          ]
        },
        {
          "output_type": "stream",
          "name": "stdout",
          "text": [
            "Finished Epoch 15 || Run Time:    1.0 | Load Time:    2.2 || F1:  56.56 | Prec:  64.67 | Rec:  50.26 || Ex/s: 647.79\n",
            "\n",
            "---------------------\n",
            "\n",
            "Loading best model...\n",
            "Training done.\n"
          ]
        },
        {
          "output_type": "execute_result",
          "data": {
            "text/plain": [
              "tensor(58.8571, device='cuda:0')"
            ]
          },
          "metadata": {},
          "execution_count": 45
        }
      ],
      "source": [
        "model.run_train(\n",
        "    train,\n",
        "    validation,\n",
        "    epochs=15,\n",
        "    batch_size=32,\n",
        "    best_save_path='sif_model.pth',\n",
        "    pos_neg_ratio=3)"
      ]
    },
    {
      "cell_type": "code",
      "execution_count": 46,
      "metadata": {
        "id": "XszzAwWb7jid",
        "colab": {
          "base_uri": "https://localhost:8080/"
        },
        "outputId": "85014725-1712-41d5-ad9c-010a1e483af8"
      },
      "outputs": [
        {
          "output_type": "stream",
          "name": "stdout",
          "text": [
            "===>  EVAL Epoch 7\n"
          ]
        },
        {
          "output_type": "stream",
          "name": "stderr",
          "text": [
            "/usr/local/lib/python3.7/dist-packages/torch/nn/modules/module.py:974: UserWarning: Using a non-full backward hook when the forward contains multiple autograd Nodes is deprecated and will be removed in future versions. This hook will be missing some grad_input. Please use register_full_backward_hook to get the documented behavior.\n",
            "  warnings.warn(\"Using a non-full backward hook when the forward contains multiple autograd Nodes \"\n",
            "0% [█████████████] 100% | ETA: 00:00:00\n",
            "Total time elapsed: 00:00:03\n"
          ]
        },
        {
          "output_type": "stream",
          "name": "stdout",
          "text": [
            "Finished Epoch 7 || Run Time:    1.0 | Load Time:    2.2 || F1:  57.91 | Prec:  68.31 | Rec:  50.26 || Ex/s: 644.79\n",
            "\n"
          ]
        },
        {
          "output_type": "execute_result",
          "data": {
            "text/plain": [
              "tensor(57.9104, device='cuda:0')"
            ]
          },
          "metadata": {},
          "execution_count": 46
        }
      ],
      "source": [
        "# Compute F1 on test set\n",
        "model.run_eval(test)"
      ]
    },
    {
      "cell_type": "markdown",
      "metadata": {
        "id": "al1yPMIK7jie"
      },
      "source": [
        "#### TEXTUAL"
      ]
    },
    {
      "cell_type": "markdown",
      "metadata": {
        "id": "Jga5zNts7jie"
      },
      "source": [
        "##### Abt-Buy"
      ]
    },
    {
      "cell_type": "code",
      "execution_count": 47,
      "metadata": {
        "id": "cIdkzPVd7jie"
      },
      "outputs": [],
      "source": [
        "train, validation, test = dm.data.process(\n",
        "    path='/content/IC/datasesErros/FMedium_50_1_2/Textual/Abt-Buy/',\n",
        "    train='joined_train.csv',\n",
        "    validation='joined_valid.csv',\n",
        "    test='joined_test.csv')"
      ]
    },
    {
      "cell_type": "code",
      "execution_count": 48,
      "metadata": {
        "id": "U1FKBwwA7jif"
      },
      "outputs": [],
      "source": [
        "model = dm.MatchingModel(attr_summarizer='sif')"
      ]
    },
    {
      "cell_type": "code",
      "execution_count": 49,
      "metadata": {
        "id": "QE47sqwa7jif",
        "colab": {
          "base_uri": "https://localhost:8080/"
        },
        "outputId": "2e92a027-afd8-41b6-bc44-d867fd1747e8"
      },
      "outputs": [
        {
          "output_type": "stream",
          "name": "stdout",
          "text": [
            "* Number of trainable parameters: 542402\n",
            "===>  TRAIN Epoch 1\n"
          ]
        },
        {
          "output_type": "stream",
          "name": "stderr",
          "text": [
            "/usr/local/lib/python3.7/dist-packages/torch/nn/modules/module.py:974: UserWarning: Using a non-full backward hook when the forward contains multiple autograd Nodes is deprecated and will be removed in future versions. This hook will be missing some grad_input. Please use register_full_backward_hook to get the documented behavior.\n",
            "  warnings.warn(\"Using a non-full backward hook when the forward contains multiple autograd Nodes \"\n",
            "/usr/local/lib/python3.7/dist-packages/torch/nn/functional.py:2742: UserWarning: reduction: 'mean' divides the total loss by both the batch size and the support size.'batchmean' divides only by the batch size, and aligns with the KL div math definition.'mean' will be changed to behave the same as 'batchmean' in the next major release.\n",
            "  \"reduction: 'mean' divides the total loss by both the batch size and the support size.\"\n",
            "0% [██████████████████████████████] 100% | ETA: 00:00:00\n",
            "Total time elapsed: 00:00:13\n"
          ]
        },
        {
          "output_type": "stream",
          "name": "stdout",
          "text": [
            "Finished Epoch 1 || Run Time:    3.0 | Load Time:   11.0 || F1:   1.27 | Prec:  30.77 | Rec:   0.65 || Ex/s: 410.33\n",
            "\n",
            "===>  EVAL Epoch 1\n"
          ]
        },
        {
          "output_type": "stream",
          "name": "stderr",
          "text": [
            "0% [████████████] 100% | ETA: 00:00:00\n",
            "Total time elapsed: 00:00:03\n"
          ]
        },
        {
          "output_type": "stream",
          "name": "stdout",
          "text": [
            "Finished Epoch 1 || Run Time:    0.6 | Load Time:    3.2 || F1:   0.97 | Prec: 100.00 | Rec:   0.49 || Ex/s: 498.03\n",
            "\n",
            "* Best F1: tensor(0.9662, device='cuda:0')\n",
            "Saving best model...\n",
            "Done.\n",
            "---------------------\n",
            "\n",
            "===>  TRAIN Epoch 2\n"
          ]
        },
        {
          "output_type": "stream",
          "name": "stderr",
          "text": [
            "0% [██████████████████████████████] 100% | ETA: 00:00:00\n",
            "Total time elapsed: 00:00:13\n"
          ]
        },
        {
          "output_type": "stream",
          "name": "stdout",
          "text": [
            "Finished Epoch 2 || Run Time:    2.9 | Load Time:   11.0 || F1:  21.66 | Prec:  48.31 | Rec:  13.96 || Ex/s: 413.64\n",
            "\n",
            "===>  EVAL Epoch 2\n"
          ]
        },
        {
          "output_type": "stream",
          "name": "stderr",
          "text": [
            "0% [████████████] 100% | ETA: 00:00:00\n",
            "Total time elapsed: 00:00:03\n"
          ]
        },
        {
          "output_type": "stream",
          "name": "stdout",
          "text": [
            "Finished Epoch 2 || Run Time:    0.6 | Load Time:    3.2 || F1:  18.51 | Prec:  24.03 | Rec:  15.05 || Ex/s: 502.82\n",
            "\n",
            "* Best F1: tensor(18.5075, device='cuda:0')\n",
            "Saving best model...\n",
            "Done.\n",
            "---------------------\n",
            "\n",
            "===>  TRAIN Epoch 3\n"
          ]
        },
        {
          "output_type": "stream",
          "name": "stderr",
          "text": [
            "0% [██████████████████████████████] 100% | ETA: 00:00:00\n",
            "Total time elapsed: 00:00:13\n"
          ]
        },
        {
          "output_type": "stream",
          "name": "stdout",
          "text": [
            "Finished Epoch 3 || Run Time:    3.0 | Load Time:   11.0 || F1:  45.87 | Prec:  47.72 | Rec:  44.16 || Ex/s: 411.65\n",
            "\n",
            "===>  EVAL Epoch 3\n"
          ]
        },
        {
          "output_type": "stream",
          "name": "stderr",
          "text": [
            "0% [████████████] 100% | ETA: 00:00:00\n",
            "Total time elapsed: 00:00:03\n"
          ]
        },
        {
          "output_type": "stream",
          "name": "stdout",
          "text": [
            "Finished Epoch 3 || Run Time:    0.6 | Load Time:    3.3 || F1:  28.44 | Prec:  26.23 | Rec:  31.07 || Ex/s: 489.48\n",
            "\n",
            "* Best F1: tensor(28.4444, device='cuda:0')\n",
            "Saving best model...\n",
            "Done.\n",
            "---------------------\n",
            "\n",
            "===>  TRAIN Epoch 4\n"
          ]
        },
        {
          "output_type": "stream",
          "name": "stderr",
          "text": [
            "0% [██████████████████████████████] 100% | ETA: 00:00:00\n",
            "Total time elapsed: 00:00:14\n"
          ]
        },
        {
          "output_type": "stream",
          "name": "stdout",
          "text": [
            "Finished Epoch 4 || Run Time:    3.0 | Load Time:   11.2 || F1:  64.41 | Prec:  58.97 | Rec:  70.94 || Ex/s: 403.82\n",
            "\n",
            "===>  EVAL Epoch 4\n"
          ]
        },
        {
          "output_type": "stream",
          "name": "stderr",
          "text": [
            "0% [████████████] 100% | ETA: 00:00:00\n",
            "Total time elapsed: 00:00:03\n"
          ]
        },
        {
          "output_type": "stream",
          "name": "stdout",
          "text": [
            "Finished Epoch 4 || Run Time:    0.6 | Load Time:    3.2 || F1:  28.38 | Prec:  25.79 | Rec:  31.55 || Ex/s: 505.33\n",
            "\n",
            "---------------------\n",
            "\n",
            "===>  TRAIN Epoch 5\n"
          ]
        },
        {
          "output_type": "stream",
          "name": "stderr",
          "text": [
            "0% [██████████████████████████████] 100% | ETA: 00:00:00\n",
            "Total time elapsed: 00:00:13\n"
          ]
        },
        {
          "output_type": "stream",
          "name": "stdout",
          "text": [
            "Finished Epoch 5 || Run Time:    2.9 | Load Time:   10.9 || F1:  74.01 | Prec:  67.24 | Rec:  82.31 || Ex/s: 414.68\n",
            "\n",
            "===>  EVAL Epoch 5\n"
          ]
        },
        {
          "output_type": "stream",
          "name": "stderr",
          "text": [
            "0% [████████████] 100% | ETA: 00:00:00\n",
            "Total time elapsed: 00:00:03\n"
          ]
        },
        {
          "output_type": "stream",
          "name": "stdout",
          "text": [
            "Finished Epoch 5 || Run Time:    0.6 | Load Time:    3.3 || F1:  28.99 | Prec:  25.27 | Rec:  33.98 || Ex/s: 490.79\n",
            "\n",
            "* Best F1: tensor(28.9855, device='cuda:0')\n",
            "Saving best model...\n",
            "Done.\n",
            "---------------------\n",
            "\n",
            "===>  TRAIN Epoch 6\n"
          ]
        },
        {
          "output_type": "stream",
          "name": "stderr",
          "text": [
            "0% [██████████████████████████████] 100% | ETA: 00:00:00\n",
            "Total time elapsed: 00:00:14\n"
          ]
        },
        {
          "output_type": "stream",
          "name": "stdout",
          "text": [
            "Finished Epoch 6 || Run Time:    3.1 | Load Time:   11.2 || F1:  80.12 | Prec:  72.87 | Rec:  88.96 || Ex/s: 401.41\n",
            "\n",
            "===>  EVAL Epoch 6\n"
          ]
        },
        {
          "output_type": "stream",
          "name": "stderr",
          "text": [
            "0% [████████████] 100% | ETA: 00:00:00\n",
            "Total time elapsed: 00:00:03\n"
          ]
        },
        {
          "output_type": "stream",
          "name": "stdout",
          "text": [
            "Finished Epoch 6 || Run Time:    0.6 | Load Time:    3.2 || F1:  26.87 | Prec:  23.95 | Rec:  30.58 || Ex/s: 510.21\n",
            "\n",
            "---------------------\n",
            "\n",
            "===>  TRAIN Epoch 7\n"
          ]
        },
        {
          "output_type": "stream",
          "name": "stderr",
          "text": [
            "0% [██████████████████████████████] 100% | ETA: 00:00:00\n",
            "Total time elapsed: 00:00:14\n"
          ]
        },
        {
          "output_type": "stream",
          "name": "stdout",
          "text": [
            "Finished Epoch 7 || Run Time:    3.0 | Load Time:   11.1 || F1:  84.52 | Prec:  78.36 | Rec:  91.72 || Ex/s: 406.25\n",
            "\n",
            "===>  EVAL Epoch 7\n"
          ]
        },
        {
          "output_type": "stream",
          "name": "stderr",
          "text": [
            "0% [████████████] 100% | ETA: 00:00:00\n",
            "Total time elapsed: 00:00:03\n"
          ]
        },
        {
          "output_type": "stream",
          "name": "stdout",
          "text": [
            "Finished Epoch 7 || Run Time:    0.6 | Load Time:    3.3 || F1:  24.82 | Prec:  24.88 | Rec:  24.76 || Ex/s: 480.12\n",
            "\n",
            "---------------------\n",
            "\n",
            "===>  TRAIN Epoch 8\n"
          ]
        },
        {
          "output_type": "stream",
          "name": "stderr",
          "text": [
            "0% [██████████████████████████████] 100% | ETA: 00:00:00\n",
            "Total time elapsed: 00:00:13\n"
          ]
        },
        {
          "output_type": "stream",
          "name": "stdout",
          "text": [
            "Finished Epoch 8 || Run Time:    2.8 | Load Time:   10.8 || F1:  88.06 | Prec:  82.83 | Rec:  93.99 || Ex/s: 422.31\n",
            "\n",
            "===>  EVAL Epoch 8\n"
          ]
        },
        {
          "output_type": "stream",
          "name": "stderr",
          "text": [
            "0% [████████████] 100% | ETA: 00:00:00\n",
            "Total time elapsed: 00:00:03\n"
          ]
        },
        {
          "output_type": "stream",
          "name": "stdout",
          "text": [
            "Finished Epoch 8 || Run Time:    0.6 | Load Time:    3.2 || F1:  20.79 | Prec:  24.67 | Rec:  17.96 || Ex/s: 503.17\n",
            "\n",
            "---------------------\n",
            "\n",
            "===>  TRAIN Epoch 9\n"
          ]
        },
        {
          "output_type": "stream",
          "name": "stderr",
          "text": [
            "0% [██████████████████████████████] 100% | ETA: 00:00:00\n",
            "Total time elapsed: 00:00:14\n"
          ]
        },
        {
          "output_type": "stream",
          "name": "stdout",
          "text": [
            "Finished Epoch 9 || Run Time:    3.1 | Load Time:   11.5 || F1:  90.52 | Prec:  86.20 | Rec:  95.29 || Ex/s: 392.17\n",
            "\n",
            "===>  EVAL Epoch 9\n"
          ]
        },
        {
          "output_type": "stream",
          "name": "stderr",
          "text": [
            "0% [████████████] 100% | ETA: 00:00:00\n",
            "Total time elapsed: 00:00:03\n"
          ]
        },
        {
          "output_type": "stream",
          "name": "stdout",
          "text": [
            "Finished Epoch 9 || Run Time:    0.6 | Load Time:    3.3 || F1:  20.75 | Prec:  25.53 | Rec:  17.48 || Ex/s: 495.24\n",
            "\n",
            "---------------------\n",
            "\n",
            "===>  TRAIN Epoch 10\n"
          ]
        },
        {
          "output_type": "stream",
          "name": "stderr",
          "text": [
            "0% [██████████████████████████████] 100% | ETA: 00:00:00\n",
            "Total time elapsed: 00:00:13\n"
          ]
        },
        {
          "output_type": "stream",
          "name": "stdout",
          "text": [
            "Finished Epoch 10 || Run Time:    3.0 | Load Time:   11.0 || F1:  92.85 | Prec:  89.10 | Rec:  96.92 || Ex/s: 411.01\n",
            "\n",
            "===>  EVAL Epoch 10\n"
          ]
        },
        {
          "output_type": "stream",
          "name": "stderr",
          "text": [
            "0% [████████████] 100% | ETA: 00:00:00\n",
            "Total time elapsed: 00:00:03\n"
          ]
        },
        {
          "output_type": "stream",
          "name": "stdout",
          "text": [
            "Finished Epoch 10 || Run Time:    0.6 | Load Time:    3.2 || F1:  20.63 | Prec:  25.17 | Rec:  17.48 || Ex/s: 500.56\n",
            "\n",
            "---------------------\n",
            "\n",
            "===>  TRAIN Epoch 11\n"
          ]
        },
        {
          "output_type": "stream",
          "name": "stderr",
          "text": [
            "0% [██████████████████████████████] 100% | ETA: 00:00:00\n",
            "Total time elapsed: 00:00:13\n"
          ]
        },
        {
          "output_type": "stream",
          "name": "stdout",
          "text": [
            "Finished Epoch 11 || Run Time:    3.0 | Load Time:   11.0 || F1:  93.53 | Prec:  89.96 | Rec:  97.40 || Ex/s: 410.14\n",
            "\n",
            "===>  EVAL Epoch 11\n"
          ]
        },
        {
          "output_type": "stream",
          "name": "stderr",
          "text": [
            "0% [████████████] 100% | ETA: 00:00:00\n",
            "Total time elapsed: 00:00:03\n"
          ]
        },
        {
          "output_type": "stream",
          "name": "stdout",
          "text": [
            "Finished Epoch 11 || Run Time:    0.6 | Load Time:    3.3 || F1:  20.17 | Prec:  24.82 | Rec:  16.99 || Ex/s: 497.77\n",
            "\n",
            "---------------------\n",
            "\n",
            "===>  TRAIN Epoch 12\n"
          ]
        },
        {
          "output_type": "stream",
          "name": "stderr",
          "text": [
            "0% [██████████████████████████████] 100% | ETA: 00:00:00\n",
            "Total time elapsed: 00:00:14\n"
          ]
        },
        {
          "output_type": "stream",
          "name": "stdout",
          "text": [
            "Finished Epoch 12 || Run Time:    3.0 | Load Time:   11.1 || F1:  94.98 | Prec:  91.82 | Rec:  98.38 || Ex/s: 409.58\n",
            "\n",
            "===>  EVAL Epoch 12\n"
          ]
        },
        {
          "output_type": "stream",
          "name": "stderr",
          "text": [
            "0% [████████████] 100% | ETA: 00:00:00\n",
            "Total time elapsed: 00:00:03\n"
          ]
        },
        {
          "output_type": "stream",
          "name": "stdout",
          "text": [
            "Finished Epoch 12 || Run Time:    0.6 | Load Time:    3.3 || F1:  20.29 | Prec:  25.18 | Rec:  16.99 || Ex/s: 497.54\n",
            "\n",
            "---------------------\n",
            "\n",
            "===>  TRAIN Epoch 13\n"
          ]
        },
        {
          "output_type": "stream",
          "name": "stderr",
          "text": [
            "0% [██████████████████████████████] 100% | ETA: 00:00:00\n",
            "Total time elapsed: 00:00:13\n"
          ]
        },
        {
          "output_type": "stream",
          "name": "stdout",
          "text": [
            "Finished Epoch 13 || Run Time:    2.9 | Load Time:   10.9 || F1:  95.59 | Prec:  92.81 | Rec:  98.54 || Ex/s: 415.28\n",
            "\n",
            "===>  EVAL Epoch 13\n"
          ]
        },
        {
          "output_type": "stream",
          "name": "stderr",
          "text": [
            "0% [████████████] 100% | ETA: 00:00:00\n",
            "Total time elapsed: 00:00:03\n"
          ]
        },
        {
          "output_type": "stream",
          "name": "stdout",
          "text": [
            "Finished Epoch 13 || Run Time:    0.6 | Load Time:    3.2 || F1:  20.23 | Prec:  25.00 | Rec:  16.99 || Ex/s: 506.83\n",
            "\n",
            "---------------------\n",
            "\n",
            "===>  TRAIN Epoch 14\n"
          ]
        },
        {
          "output_type": "stream",
          "name": "stderr",
          "text": [
            "0% [██████████████████████████████] 100% | ETA: 00:00:00\n",
            "Total time elapsed: 00:00:13\n"
          ]
        },
        {
          "output_type": "stream",
          "name": "stdout",
          "text": [
            "Finished Epoch 14 || Run Time:    2.9 | Load Time:   10.9 || F1:  96.12 | Prec:  93.82 | Rec:  98.54 || Ex/s: 414.69\n",
            "\n",
            "===>  EVAL Epoch 14\n"
          ]
        },
        {
          "output_type": "stream",
          "name": "stderr",
          "text": [
            "0% [████████████] 100% | ETA: 00:00:00\n",
            "Total time elapsed: 00:00:03\n"
          ]
        },
        {
          "output_type": "stream",
          "name": "stdout",
          "text": [
            "Finished Epoch 14 || Run Time:    0.6 | Load Time:    3.3 || F1:  20.28 | Prec:  24.16 | Rec:  17.48 || Ex/s: 483.86\n",
            "\n",
            "---------------------\n",
            "\n",
            "===>  TRAIN Epoch 15\n"
          ]
        },
        {
          "output_type": "stream",
          "name": "stderr",
          "text": [
            "0% [██████████████████████████████] 100% | ETA: 00:00:00\n",
            "Total time elapsed: 00:00:14\n"
          ]
        },
        {
          "output_type": "stream",
          "name": "stdout",
          "text": [
            "Finished Epoch 15 || Run Time:    3.2 | Load Time:   11.6 || F1:  96.28 | Prec:  93.97 | Rec:  98.70 || Ex/s: 387.15\n",
            "\n",
            "===>  EVAL Epoch 15\n"
          ]
        },
        {
          "output_type": "stream",
          "name": "stderr",
          "text": [
            "0% [████████████] 100% | ETA: 00:00:00\n",
            "Total time elapsed: 00:00:03\n"
          ]
        },
        {
          "output_type": "stream",
          "name": "stdout",
          "text": [
            "Finished Epoch 15 || Run Time:    0.6 | Load Time:    3.2 || F1:  21.05 | Prec:  24.52 | Rec:  18.45 || Ex/s: 515.23\n",
            "\n",
            "---------------------\n",
            "\n",
            "Loading best model...\n",
            "Training done.\n"
          ]
        },
        {
          "output_type": "execute_result",
          "data": {
            "text/plain": [
              "tensor(28.9855, device='cuda:0')"
            ]
          },
          "metadata": {},
          "execution_count": 49
        }
      ],
      "source": [
        "model.run_train(\n",
        "    train,\n",
        "    validation,\n",
        "    epochs=15,\n",
        "    batch_size=32,\n",
        "    best_save_path='sif_model.pth',\n",
        "    pos_neg_ratio=3)"
      ]
    },
    {
      "cell_type": "code",
      "execution_count": 50,
      "metadata": {
        "id": "xTW5WLmx7jif",
        "colab": {
          "base_uri": "https://localhost:8080/"
        },
        "outputId": "4cd76a24-9bda-4337-cef4-cc40940d30b6"
      },
      "outputs": [
        {
          "output_type": "stream",
          "name": "stdout",
          "text": [
            "===>  EVAL Epoch 5\n"
          ]
        },
        {
          "output_type": "stream",
          "name": "stderr",
          "text": [
            "/usr/local/lib/python3.7/dist-packages/torch/nn/modules/module.py:974: UserWarning: Using a non-full backward hook when the forward contains multiple autograd Nodes is deprecated and will be removed in future versions. This hook will be missing some grad_input. Please use register_full_backward_hook to get the documented behavior.\n",
            "  warnings.warn(\"Using a non-full backward hook when the forward contains multiple autograd Nodes \"\n",
            "0% [████████████] 100% | ETA: 00:00:00\n",
            "Total time elapsed: 00:00:03\n"
          ]
        },
        {
          "output_type": "stream",
          "name": "stdout",
          "text": [
            "Finished Epoch 5 || Run Time:    0.6 | Load Time:    3.2 || F1:  25.31 | Prec:  21.83 | Rec:  30.10 || Ex/s: 499.17\n",
            "\n"
          ]
        },
        {
          "output_type": "execute_result",
          "data": {
            "text/plain": [
              "tensor(25.3061, device='cuda:0')"
            ]
          },
          "metadata": {},
          "execution_count": 50
        }
      ],
      "source": [
        "# Compute F1 on test set\n",
        "model.run_eval(test)"
      ]
    },
    {
      "cell_type": "markdown",
      "metadata": {
        "id": "Vl6ljcMO7jig"
      },
      "source": [
        "#### DIRTY"
      ]
    },
    {
      "cell_type": "markdown",
      "metadata": {
        "id": "ynZvtlXR7jig"
      },
      "source": [
        "##### DBLP-ACM"
      ]
    },
    {
      "cell_type": "code",
      "execution_count": 51,
      "metadata": {
        "id": "CzTzNHhP7jih"
      },
      "outputs": [],
      "source": [
        "train, validation, test = dm.data.process(\n",
        "    path='/content/IC/datasesErros/FMedium_50_1_2/Dirty/DBLP-ACM/',\n",
        "    train='joined_train.csv',\n",
        "    validation='joined_valid.csv',\n",
        "    test='joined_test.csv')"
      ]
    },
    {
      "cell_type": "code",
      "execution_count": 52,
      "metadata": {
        "id": "aKEu0b3E7jih"
      },
      "outputs": [],
      "source": [
        "model = dm.MatchingModel(attr_summarizer='sif')"
      ]
    },
    {
      "cell_type": "code",
      "execution_count": 53,
      "metadata": {
        "id": "cKF_XeV57jii",
        "colab": {
          "base_uri": "https://localhost:8080/"
        },
        "outputId": "55d824ed-c3a0-4d80-e24d-c2a308254ff5"
      },
      "outputs": [
        {
          "output_type": "stream",
          "name": "stdout",
          "text": [
            "* Number of trainable parameters: 542402\n",
            "===>  TRAIN Epoch 1\n"
          ]
        },
        {
          "output_type": "stream",
          "name": "stderr",
          "text": [
            "/usr/local/lib/python3.7/dist-packages/torch/nn/modules/module.py:974: UserWarning: Using a non-full backward hook when the forward contains multiple autograd Nodes is deprecated and will be removed in future versions. This hook will be missing some grad_input. Please use register_full_backward_hook to get the documented behavior.\n",
            "  warnings.warn(\"Using a non-full backward hook when the forward contains multiple autograd Nodes \"\n",
            "/usr/local/lib/python3.7/dist-packages/torch/nn/functional.py:2742: UserWarning: reduction: 'mean' divides the total loss by both the batch size and the support size.'batchmean' divides only by the batch size, and aligns with the KL div math definition.'mean' will be changed to behave the same as 'batchmean' in the next major release.\n",
            "  \"reduction: 'mean' divides the total loss by both the batch size and the support size.\"\n",
            "0% [██████████████████████████████] 100% | ETA: 00:00:00\n",
            "Total time elapsed: 00:00:19\n"
          ]
        },
        {
          "output_type": "stream",
          "name": "stdout",
          "text": [
            "Finished Epoch 1 || Run Time:    4.7 | Load Time:   15.2 || F1:  43.67 | Prec:  56.50 | Rec:  35.59 || Ex/s: 371.31\n",
            "\n",
            "===>  EVAL Epoch 1\n"
          ]
        },
        {
          "output_type": "stream",
          "name": "stderr",
          "text": [
            "0% [███████████████] 100% | ETA: 00:00:00\n",
            "Total time elapsed: 00:00:05\n"
          ]
        },
        {
          "output_type": "stream",
          "name": "stdout",
          "text": [
            "Finished Epoch 1 || Run Time:    0.9 | Load Time:    4.6 || F1:  65.40 | Prec:  58.68 | Rec:  73.87 || Ex/s: 452.53\n",
            "\n",
            "* Best F1: tensor(65.4038, device='cuda:0')\n",
            "Saving best model...\n",
            "Done.\n",
            "---------------------\n",
            "\n",
            "===>  TRAIN Epoch 2\n"
          ]
        },
        {
          "output_type": "stream",
          "name": "stderr",
          "text": [
            "0% [██████████████████████████████] 100% | ETA: 00:00:00\n",
            "Total time elapsed: 00:00:19\n"
          ]
        },
        {
          "output_type": "stream",
          "name": "stdout",
          "text": [
            "Finished Epoch 2 || Run Time:    4.5 | Load Time:   14.8 || F1:  75.06 | Prec:  65.87 | Rec:  87.24 || Ex/s: 385.16\n",
            "\n",
            "===>  EVAL Epoch 2\n"
          ]
        },
        {
          "output_type": "stream",
          "name": "stderr",
          "text": [
            "0% [███████████████] 100% | ETA: 00:00:00\n",
            "Total time elapsed: 00:00:05\n"
          ]
        },
        {
          "output_type": "stream",
          "name": "stdout",
          "text": [
            "Finished Epoch 2 || Run Time:    1.0 | Load Time:    4.7 || F1:  73.20 | Prec:  68.16 | Rec:  79.05 || Ex/s: 439.25\n",
            "\n",
            "* Best F1: tensor(73.2012, device='cuda:0')\n",
            "Saving best model...\n",
            "Done.\n",
            "---------------------\n",
            "\n",
            "===>  TRAIN Epoch 3\n"
          ]
        },
        {
          "output_type": "stream",
          "name": "stderr",
          "text": [
            "0% [██████████████████████████████] 100% | ETA: 00:00:00\n",
            "Total time elapsed: 00:00:19\n"
          ]
        },
        {
          "output_type": "stream",
          "name": "stdout",
          "text": [
            "Finished Epoch 3 || Run Time:    4.5 | Load Time:   14.9 || F1:  85.79 | Prec:  78.70 | Rec:  94.29 || Ex/s: 382.16\n",
            "\n",
            "===>  EVAL Epoch 3\n"
          ]
        },
        {
          "output_type": "stream",
          "name": "stderr",
          "text": [
            "0% [███████████████] 100% | ETA: 00:00:00\n",
            "Total time elapsed: 00:00:05\n"
          ]
        },
        {
          "output_type": "stream",
          "name": "stdout",
          "text": [
            "Finished Epoch 3 || Run Time:    1.0 | Load Time:    4.7 || F1:  76.32 | Prec:  76.06 | Rec:  76.58 || Ex/s: 438.63\n",
            "\n",
            "* Best F1: tensor(76.3187, device='cuda:0')\n",
            "Saving best model...\n",
            "Done.\n",
            "---------------------\n",
            "\n",
            "===>  TRAIN Epoch 4\n"
          ]
        },
        {
          "output_type": "stream",
          "name": "stderr",
          "text": [
            "0% [██████████████████████████████] 100% | ETA: 00:00:00\n",
            "Total time elapsed: 00:00:19\n"
          ]
        },
        {
          "output_type": "stream",
          "name": "stdout",
          "text": [
            "Finished Epoch 4 || Run Time:    4.7 | Load Time:   15.3 || F1:  90.73 | Prec:  85.51 | Rec:  96.62 || Ex/s: 370.74\n",
            "\n",
            "===>  EVAL Epoch 4\n"
          ]
        },
        {
          "output_type": "stream",
          "name": "stderr",
          "text": [
            "0% [███████████████] 100% | ETA: 00:00:00\n",
            "Total time elapsed: 00:00:05\n"
          ]
        },
        {
          "output_type": "stream",
          "name": "stdout",
          "text": [
            "Finished Epoch 4 || Run Time:    1.0 | Load Time:    4.6 || F1:  74.78 | Prec:  85.51 | Rec:  66.44 || Ex/s: 439.50\n",
            "\n",
            "---------------------\n",
            "\n",
            "===>  TRAIN Epoch 5\n"
          ]
        },
        {
          "output_type": "stream",
          "name": "stderr",
          "text": [
            "0% [██████████████████████████████] 100% | ETA: 00:00:00\n",
            "Total time elapsed: 00:00:19\n"
          ]
        },
        {
          "output_type": "stream",
          "name": "stdout",
          "text": [
            "Finished Epoch 5 || Run Time:    4.5 | Load Time:   14.8 || F1:  93.15 | Prec:  88.78 | Rec:  97.97 || Ex/s: 385.63\n",
            "\n",
            "===>  EVAL Epoch 5\n"
          ]
        },
        {
          "output_type": "stream",
          "name": "stderr",
          "text": [
            "0% [███████████████] 100% | ETA: 00:00:00\n",
            "Total time elapsed: 00:00:05\n"
          ]
        },
        {
          "output_type": "stream",
          "name": "stdout",
          "text": [
            "Finished Epoch 5 || Run Time:    0.9 | Load Time:    4.6 || F1:  76.02 | Prec:  84.76 | Rec:  68.92 || Ex/s: 448.95\n",
            "\n",
            "---------------------\n",
            "\n",
            "===>  TRAIN Epoch 6\n"
          ]
        },
        {
          "output_type": "stream",
          "name": "stderr",
          "text": [
            "0% [██████████████████████████████] 100% | ETA: 00:00:00\n",
            "Total time elapsed: 00:00:19\n"
          ]
        },
        {
          "output_type": "stream",
          "name": "stdout",
          "text": [
            "Finished Epoch 6 || Run Time:    4.6 | Load Time:   14.9 || F1:  95.22 | Prec:  91.96 | Rec:  98.72 || Ex/s: 379.95\n",
            "\n",
            "===>  EVAL Epoch 6\n"
          ]
        },
        {
          "output_type": "stream",
          "name": "stderr",
          "text": [
            "0% [███████████████] 100% | ETA: 00:00:00\n",
            "Total time elapsed: 00:00:05\n"
          ]
        },
        {
          "output_type": "stream",
          "name": "stdout",
          "text": [
            "Finished Epoch 6 || Run Time:    0.9 | Load Time:    4.6 || F1:  78.13 | Prec:  81.27 | Rec:  75.23 || Ex/s: 446.10\n",
            "\n",
            "* Best F1: tensor(78.1287, device='cuda:0')\n",
            "Saving best model...\n",
            "Done.\n",
            "---------------------\n",
            "\n",
            "===>  TRAIN Epoch 7\n"
          ]
        },
        {
          "output_type": "stream",
          "name": "stderr",
          "text": [
            "0% [██████████████████████████████] 100% | ETA: 00:00:00\n",
            "Total time elapsed: 00:00:19\n"
          ]
        },
        {
          "output_type": "stream",
          "name": "stdout",
          "text": [
            "Finished Epoch 7 || Run Time:    4.5 | Load Time:   14.9 || F1:  96.95 | Prec:  94.83 | Rec:  99.17 || Ex/s: 381.42\n",
            "\n",
            "===>  EVAL Epoch 7\n"
          ]
        },
        {
          "output_type": "stream",
          "name": "stderr",
          "text": [
            "0% [███████████████] 100% | ETA: 00:00:00\n",
            "Total time elapsed: 00:00:05\n"
          ]
        },
        {
          "output_type": "stream",
          "name": "stdout",
          "text": [
            "Finished Epoch 7 || Run Time:    1.0 | Load Time:    4.7 || F1:  77.59 | Prec:  81.44 | Rec:  74.10 || Ex/s: 434.72\n",
            "\n",
            "---------------------\n",
            "\n",
            "===>  TRAIN Epoch 8\n"
          ]
        },
        {
          "output_type": "stream",
          "name": "stderr",
          "text": [
            "0% [██████████████████████████████] 100% | ETA: 00:00:00\n",
            "Total time elapsed: 00:00:19\n"
          ]
        },
        {
          "output_type": "stream",
          "name": "stdout",
          "text": [
            "Finished Epoch 8 || Run Time:    4.7 | Load Time:   15.3 || F1:  97.56 | Prec:  96.00 | Rec:  99.17 || Ex/s: 372.06\n",
            "\n",
            "===>  EVAL Epoch 8\n"
          ]
        },
        {
          "output_type": "stream",
          "name": "stderr",
          "text": [
            "0% [███████████████] 100% | ETA: 00:00:00\n",
            "Total time elapsed: 00:00:05\n"
          ]
        },
        {
          "output_type": "stream",
          "name": "stdout",
          "text": [
            "Finished Epoch 8 || Run Time:    1.0 | Load Time:    4.6 || F1:  77.05 | Prec:  80.24 | Rec:  74.10 || Ex/s: 440.45\n",
            "\n",
            "---------------------\n",
            "\n",
            "===>  TRAIN Epoch 9\n"
          ]
        },
        {
          "output_type": "stream",
          "name": "stderr",
          "text": [
            "0% [██████████████████████████████] 100% | ETA: 00:00:00\n",
            "Total time elapsed: 00:00:19\n"
          ]
        },
        {
          "output_type": "stream",
          "name": "stdout",
          "text": [
            "Finished Epoch 9 || Run Time:    4.5 | Load Time:   14.9 || F1:  97.89 | Prec:  96.57 | Rec:  99.25 || Ex/s: 381.85\n",
            "\n",
            "===>  EVAL Epoch 9\n"
          ]
        },
        {
          "output_type": "stream",
          "name": "stderr",
          "text": [
            "0% [███████████████] 100% | ETA: 00:00:00\n",
            "Total time elapsed: 00:00:05\n"
          ]
        },
        {
          "output_type": "stream",
          "name": "stdout",
          "text": [
            "Finished Epoch 9 || Run Time:    1.0 | Load Time:    4.6 || F1:  77.19 | Prec:  80.29 | Rec:  74.32 || Ex/s: 443.34\n",
            "\n",
            "---------------------\n",
            "\n",
            "===>  TRAIN Epoch 10\n"
          ]
        },
        {
          "output_type": "stream",
          "name": "stderr",
          "text": [
            "0% [██████████████████████████████] 100% | ETA: 00:00:00\n",
            "Total time elapsed: 00:00:19\n"
          ]
        },
        {
          "output_type": "stream",
          "name": "stdout",
          "text": [
            "Finished Epoch 10 || Run Time:    4.6 | Load Time:   14.8 || F1:  98.11 | Prec:  96.92 | Rec:  99.32 || Ex/s: 382.35\n",
            "\n",
            "===>  EVAL Epoch 10\n"
          ]
        },
        {
          "output_type": "stream",
          "name": "stderr",
          "text": [
            "0% [███████████████] 100% | ETA: 00:00:00\n",
            "Total time elapsed: 00:00:05\n"
          ]
        },
        {
          "output_type": "stream",
          "name": "stdout",
          "text": [
            "Finished Epoch 10 || Run Time:    1.0 | Load Time:    4.6 || F1:  76.89 | Prec:  80.69 | Rec:  73.42 || Ex/s: 443.28\n",
            "\n",
            "---------------------\n",
            "\n",
            "===>  TRAIN Epoch 11\n"
          ]
        },
        {
          "output_type": "stream",
          "name": "stderr",
          "text": [
            "0% [██████████████████████████████] 100% | ETA: 00:00:00\n",
            "Total time elapsed: 00:00:19\n"
          ]
        },
        {
          "output_type": "stream",
          "name": "stdout",
          "text": [
            "Finished Epoch 11 || Run Time:    4.6 | Load Time:   14.9 || F1:  98.26 | Prec:  97.14 | Rec:  99.40 || Ex/s: 380.35\n",
            "\n",
            "===>  EVAL Epoch 11\n"
          ]
        },
        {
          "output_type": "stream",
          "name": "stderr",
          "text": [
            "0% [███████████████] 100% | ETA: 00:00:00\n",
            "Total time elapsed: 00:00:05\n"
          ]
        },
        {
          "output_type": "stream",
          "name": "stdout",
          "text": [
            "Finished Epoch 11 || Run Time:    1.0 | Load Time:    4.7 || F1:  77.14 | Prec:  81.82 | Rec:  72.97 || Ex/s: 430.14\n",
            "\n",
            "---------------------\n",
            "\n",
            "===>  TRAIN Epoch 12\n"
          ]
        },
        {
          "output_type": "stream",
          "name": "stderr",
          "text": [
            "0% [██████████████████████████████] 100% | ETA: 00:00:00\n",
            "Total time elapsed: 00:00:19\n"
          ]
        },
        {
          "output_type": "stream",
          "name": "stdout",
          "text": [
            "Finished Epoch 12 || Run Time:    4.8 | Load Time:   15.3 || F1:  98.37 | Prec:  97.28 | Rec:  99.47 || Ex/s: 368.56\n",
            "\n",
            "===>  EVAL Epoch 12\n"
          ]
        },
        {
          "output_type": "stream",
          "name": "stderr",
          "text": [
            "0% [███████████████] 100% | ETA: 00:00:00\n",
            "Total time elapsed: 00:00:06\n"
          ]
        },
        {
          "output_type": "stream",
          "name": "stdout",
          "text": [
            "Finished Epoch 12 || Run Time:    1.1 | Load Time:    5.3 || F1:  76.94 | Prec:  81.93 | Rec:  72.52 || Ex/s: 388.43\n",
            "\n",
            "---------------------\n",
            "\n",
            "===>  TRAIN Epoch 13\n"
          ]
        },
        {
          "output_type": "stream",
          "name": "stderr",
          "text": [
            "0% [██████████████████████████████] 100% | ETA: 00:00:00\n",
            "Total time elapsed: 00:00:18\n"
          ]
        },
        {
          "output_type": "stream",
          "name": "stdout",
          "text": [
            "Finished Epoch 13 || Run Time:    4.5 | Load Time:   14.7 || F1:  98.44 | Prec:  97.43 | Rec:  99.47 || Ex/s: 387.59\n",
            "\n",
            "===>  EVAL Epoch 13\n"
          ]
        },
        {
          "output_type": "stream",
          "name": "stderr",
          "text": [
            "0% [███████████████] 100% | ETA: 00:00:00\n",
            "Total time elapsed: 00:00:05\n"
          ]
        },
        {
          "output_type": "stream",
          "name": "stdout",
          "text": [
            "Finished Epoch 13 || Run Time:    1.0 | Load Time:    4.8 || F1:  77.03 | Prec:  82.14 | Rec:  72.52 || Ex/s: 427.62\n",
            "\n",
            "---------------------\n",
            "\n",
            "===>  TRAIN Epoch 14\n"
          ]
        },
        {
          "output_type": "stream",
          "name": "stderr",
          "text": [
            "0% [██████████████████████████████] 100% | ETA: 00:00:00\n",
            "Total time elapsed: 00:00:19\n"
          ]
        },
        {
          "output_type": "stream",
          "name": "stdout",
          "text": [
            "Finished Epoch 14 || Run Time:    4.5 | Load Time:   14.9 || F1:  98.51 | Prec:  97.57 | Rec:  99.47 || Ex/s: 382.00\n",
            "\n",
            "===>  EVAL Epoch 14\n"
          ]
        },
        {
          "output_type": "stream",
          "name": "stderr",
          "text": [
            "0% [███████████████] 100% | ETA: 00:00:00\n",
            "Total time elapsed: 00:00:05\n"
          ]
        },
        {
          "output_type": "stream",
          "name": "stdout",
          "text": [
            "Finished Epoch 14 || Run Time:    1.0 | Load Time:    4.7 || F1:  76.50 | Prec:  81.79 | Rec:  71.85 || Ex/s: 439.96\n",
            "\n",
            "---------------------\n",
            "\n",
            "===>  TRAIN Epoch 15\n"
          ]
        },
        {
          "output_type": "stream",
          "name": "stderr",
          "text": [
            "0% [██████████████████████████████] 100% | ETA: 00:00:00\n",
            "Total time elapsed: 00:00:19\n"
          ]
        },
        {
          "output_type": "stream",
          "name": "stdout",
          "text": [
            "Finished Epoch 15 || Run Time:    4.6 | Load Time:   14.8 || F1:  98.59 | Prec:  97.64 | Rec:  99.55 || Ex/s: 382.39\n",
            "\n",
            "===>  EVAL Epoch 15\n"
          ]
        },
        {
          "output_type": "stream",
          "name": "stderr",
          "text": [
            "0% [███████████████] 100% | ETA: 00:00:00\n",
            "Total time elapsed: 00:00:05\n"
          ]
        },
        {
          "output_type": "stream",
          "name": "stdout",
          "text": [
            "Finished Epoch 15 || Run Time:    1.0 | Load Time:    4.7 || F1:  76.32 | Prec:  81.38 | Rec:  71.85 || Ex/s: 440.56\n",
            "\n",
            "---------------------\n",
            "\n",
            "Loading best model...\n",
            "Training done.\n"
          ]
        },
        {
          "output_type": "execute_result",
          "data": {
            "text/plain": [
              "tensor(78.1287, device='cuda:0')"
            ]
          },
          "metadata": {},
          "execution_count": 53
        }
      ],
      "source": [
        "model.run_train(\n",
        "    train,\n",
        "    validation,\n",
        "    epochs=15,\n",
        "    batch_size=32,\n",
        "    best_save_path='sif_model.pth',\n",
        "    pos_neg_ratio=3)"
      ]
    },
    {
      "cell_type": "code",
      "execution_count": 54,
      "metadata": {
        "id": "2mVSbOzT7jii",
        "colab": {
          "base_uri": "https://localhost:8080/"
        },
        "outputId": "117b10de-c14d-498d-cca4-14be59437637"
      },
      "outputs": [
        {
          "output_type": "stream",
          "name": "stdout",
          "text": [
            "===>  EVAL Epoch 6\n"
          ]
        },
        {
          "output_type": "stream",
          "name": "stderr",
          "text": [
            "/usr/local/lib/python3.7/dist-packages/torch/nn/modules/module.py:974: UserWarning: Using a non-full backward hook when the forward contains multiple autograd Nodes is deprecated and will be removed in future versions. This hook will be missing some grad_input. Please use register_full_backward_hook to get the documented behavior.\n",
            "  warnings.warn(\"Using a non-full backward hook when the forward contains multiple autograd Nodes \"\n",
            "0% [███████████████] 100% | ETA: 00:00:00\n",
            "Total time elapsed: 00:00:05\n"
          ]
        },
        {
          "output_type": "stream",
          "name": "stdout",
          "text": [
            "Finished Epoch 6 || Run Time:    1.0 | Load Time:    4.6 || F1:  77.56 | Prec:  81.08 | Rec:  74.32 || Ex/s: 446.45\n",
            "\n"
          ]
        },
        {
          "output_type": "execute_result",
          "data": {
            "text/plain": [
              "tensor(77.5558, device='cuda:0')"
            ]
          },
          "metadata": {},
          "execution_count": 54
        }
      ],
      "source": [
        "# Compute F1 on test set\n",
        "model.run_eval(test)"
      ]
    },
    {
      "cell_type": "markdown",
      "metadata": {
        "id": "jTrOKZCa7jii"
      },
      "source": [
        "##### DBLP-GoogleScholar"
      ]
    },
    {
      "cell_type": "code",
      "execution_count": 55,
      "metadata": {
        "id": "qcEXbtw47jij"
      },
      "outputs": [],
      "source": [
        "train, validation, test = dm.data.process(\n",
        "    path='/content/IC/datasesErros/FMedium_50_1_2/Dirty/DBLP-GoogleScholar//',\n",
        "    train='joined_train.csv',\n",
        "    validation='joined_valid.csv',\n",
        "    test='joined_test.csv')"
      ]
    },
    {
      "cell_type": "code",
      "execution_count": 56,
      "metadata": {
        "id": "AmtPT8Pk7jij"
      },
      "outputs": [],
      "source": [
        "model = dm.MatchingModel(attr_summarizer='sif')"
      ]
    },
    {
      "cell_type": "code",
      "execution_count": 57,
      "metadata": {
        "id": "DEjkADxf7jij",
        "colab": {
          "base_uri": "https://localhost:8080/"
        },
        "outputId": "b4cfd3a4-9d86-433d-85e8-5c1e69e312d0"
      },
      "outputs": [
        {
          "output_type": "stream",
          "name": "stdout",
          "text": [
            "* Number of trainable parameters: 542402\n",
            "===>  TRAIN Epoch 1\n"
          ]
        },
        {
          "output_type": "stream",
          "name": "stderr",
          "text": [
            "/usr/local/lib/python3.7/dist-packages/torch/nn/modules/module.py:974: UserWarning: Using a non-full backward hook when the forward contains multiple autograd Nodes is deprecated and will be removed in future versions. This hook will be missing some grad_input. Please use register_full_backward_hook to get the documented behavior.\n",
            "  warnings.warn(\"Using a non-full backward hook when the forward contains multiple autograd Nodes \"\n",
            "/usr/local/lib/python3.7/dist-packages/torch/nn/functional.py:2742: UserWarning: reduction: 'mean' divides the total loss by both the batch size and the support size.'batchmean' divides only by the batch size, and aligns with the KL div math definition.'mean' will be changed to behave the same as 'batchmean' in the next major release.\n",
            "  \"reduction: 'mean' divides the total loss by both the batch size and the support size.\"\n",
            "0% [██████████████████████████████] 100% | ETA: 00:00:00\n",
            "Total time elapsed: 00:00:40\n"
          ]
        },
        {
          "output_type": "stream",
          "name": "stdout",
          "text": [
            "Finished Epoch 1 || Run Time:   10.5 | Load Time:   30.1 || F1:  51.19 | Prec:  49.58 | Rec:  52.92 || Ex/s: 423.91\n",
            "\n",
            "===>  EVAL Epoch 1\n"
          ]
        },
        {
          "output_type": "stream",
          "name": "stderr",
          "text": [
            "0% [██████████████████████████████] 100% | ETA: 00:00:00\n",
            "Total time elapsed: 00:00:11\n"
          ]
        },
        {
          "output_type": "stream",
          "name": "stdout",
          "text": [
            "Finished Epoch 1 || Run Time:    2.3 | Load Time:    9.3 || F1:  58.25 | Prec:  43.92 | Rec:  86.45 || Ex/s: 493.22\n",
            "\n",
            "* Best F1: tensor(58.2494, device='cuda:0')\n",
            "Saving best model...\n",
            "Done.\n",
            "---------------------\n",
            "\n",
            "===>  TRAIN Epoch 2\n"
          ]
        },
        {
          "output_type": "stream",
          "name": "stderr",
          "text": [
            "0% [██████████████████████████████] 100% | ETA: 00:00:00\n",
            "Total time elapsed: 00:00:39\n"
          ]
        },
        {
          "output_type": "stream",
          "name": "stdout",
          "text": [
            "Finished Epoch 2 || Run Time:   10.3 | Load Time:   29.7 || F1:  73.32 | Prec:  64.94 | Rec:  84.19 || Ex/s: 430.23\n",
            "\n",
            "===>  EVAL Epoch 2\n"
          ]
        },
        {
          "output_type": "stream",
          "name": "stderr",
          "text": [
            "0% [██████████████████████████████] 100% | ETA: 00:00:00\n",
            "Total time elapsed: 00:00:11\n"
          ]
        },
        {
          "output_type": "stream",
          "name": "stdout",
          "text": [
            "Finished Epoch 2 || Run Time:    2.3 | Load Time:    9.3 || F1:  66.21 | Prec:  53.58 | Rec:  86.64 || Ex/s: 496.30\n",
            "\n",
            "* Best F1: tensor(66.2143, device='cuda:0')\n",
            "Saving best model...\n",
            "Done.\n",
            "---------------------\n",
            "\n",
            "===>  TRAIN Epoch 3\n"
          ]
        },
        {
          "output_type": "stream",
          "name": "stderr",
          "text": [
            "0% [██████████████████████████████] 100% | ETA: 00:00:00\n",
            "Total time elapsed: 00:00:39\n"
          ]
        },
        {
          "output_type": "stream",
          "name": "stdout",
          "text": [
            "Finished Epoch 3 || Run Time:   10.3 | Load Time:   29.9 || F1:  83.81 | Prec:  77.46 | Rec:  91.30 || Ex/s: 428.76\n",
            "\n",
            "===>  EVAL Epoch 3\n"
          ]
        },
        {
          "output_type": "stream",
          "name": "stderr",
          "text": [
            "0% [██████████████████████████████] 100% | ETA: 00:00:00\n",
            "Total time elapsed: 00:00:11\n"
          ]
        },
        {
          "output_type": "stream",
          "name": "stdout",
          "text": [
            "Finished Epoch 3 || Run Time:    2.2 | Load Time:    9.1 || F1:  71.90 | Prec:  63.86 | Rec:  82.24 || Ex/s: 505.17\n",
            "\n",
            "* Best F1: tensor(71.8954, device='cuda:0')\n",
            "Saving best model...\n",
            "Done.\n",
            "---------------------\n",
            "\n",
            "===>  TRAIN Epoch 4\n"
          ]
        },
        {
          "output_type": "stream",
          "name": "stderr",
          "text": [
            "0% [██████████████████████████████] 100% | ETA: 00:00:00\n",
            "Total time elapsed: 00:00:39\n"
          ]
        },
        {
          "output_type": "stream",
          "name": "stdout",
          "text": [
            "Finished Epoch 4 || Run Time:   10.2 | Load Time:   29.6 || F1:  89.89 | Prec:  85.43 | Rec:  94.86 || Ex/s: 433.12\n",
            "\n",
            "===>  EVAL Epoch 4\n"
          ]
        },
        {
          "output_type": "stream",
          "name": "stderr",
          "text": [
            "0% [██████████████████████████████] 100% | ETA: 00:00:00\n",
            "Total time elapsed: 00:00:11\n"
          ]
        },
        {
          "output_type": "stream",
          "name": "stdout",
          "text": [
            "Finished Epoch 4 || Run Time:    2.3 | Load Time:    9.3 || F1:  73.10 | Prec:  75.50 | Rec:  70.84 || Ex/s: 494.23\n",
            "\n",
            "* Best F1: tensor(73.0955, device='cuda:0')\n",
            "Saving best model...\n",
            "Done.\n",
            "---------------------\n",
            "\n",
            "===>  TRAIN Epoch 5\n"
          ]
        },
        {
          "output_type": "stream",
          "name": "stderr",
          "text": [
            "0% [██████████████████████████████] 100% | ETA: 00:00:00\n",
            "Total time elapsed: 00:00:40\n"
          ]
        },
        {
          "output_type": "stream",
          "name": "stdout",
          "text": [
            "Finished Epoch 5 || Run Time:   10.5 | Load Time:   30.1 || F1:  93.81 | Prec:  91.12 | Rec:  96.66 || Ex/s: 423.45\n",
            "\n",
            "===>  EVAL Epoch 5\n"
          ]
        },
        {
          "output_type": "stream",
          "name": "stderr",
          "text": [
            "0% [██████████████████████████████] 100% | ETA: 00:00:00\n",
            "Total time elapsed: 00:00:11\n"
          ]
        },
        {
          "output_type": "stream",
          "name": "stdout",
          "text": [
            "Finished Epoch 5 || Run Time:    2.1 | Load Time:    9.0 || F1:  72.92 | Prec:  79.19 | Rec:  67.57 || Ex/s: 513.28\n",
            "\n",
            "---------------------\n",
            "\n",
            "===>  TRAIN Epoch 6\n"
          ]
        },
        {
          "output_type": "stream",
          "name": "stderr",
          "text": [
            "0% [██████████████████████████████] 100% | ETA: 00:00:00\n",
            "Total time elapsed: 00:00:39\n"
          ]
        },
        {
          "output_type": "stream",
          "name": "stdout",
          "text": [
            "Finished Epoch 6 || Run Time:   10.4 | Load Time:   29.8 || F1:  96.13 | Prec:  94.60 | Rec:  97.72 || Ex/s: 428.66\n",
            "\n",
            "===>  EVAL Epoch 6\n"
          ]
        },
        {
          "output_type": "stream",
          "name": "stderr",
          "text": [
            "0% [██████████████████████████████] 100% | ETA: 00:00:00\n",
            "Total time elapsed: 00:00:11\n"
          ]
        },
        {
          "output_type": "stream",
          "name": "stdout",
          "text": [
            "Finished Epoch 6 || Run Time:    2.2 | Load Time:    9.2 || F1:  72.61 | Prec:  81.01 | Rec:  65.79 || Ex/s: 503.51\n",
            "\n",
            "---------------------\n",
            "\n",
            "===>  TRAIN Epoch 7\n"
          ]
        },
        {
          "output_type": "stream",
          "name": "stderr",
          "text": [
            "0% [██████████████████████████████] 100% | ETA: 00:00:00\n",
            "Total time elapsed: 00:00:40\n"
          ]
        },
        {
          "output_type": "stream",
          "name": "stdout",
          "text": [
            "Finished Epoch 7 || Run Time:   10.4 | Load Time:   30.1 || F1:  97.30 | Prec:  96.42 | Rec:  98.19 || Ex/s: 425.27\n",
            "\n",
            "===>  EVAL Epoch 7\n"
          ]
        },
        {
          "output_type": "stream",
          "name": "stderr",
          "text": [
            "0% [██████████████████████████████] 100% | ETA: 00:00:00\n",
            "Total time elapsed: 00:00:11\n"
          ]
        },
        {
          "output_type": "stream",
          "name": "stdout",
          "text": [
            "Finished Epoch 7 || Run Time:    2.2 | Load Time:    9.1 || F1:  73.21 | Prec:  79.37 | Rec:  67.94 || Ex/s: 509.57\n",
            "\n",
            "* Best F1: tensor(73.2125, device='cuda:0')\n",
            "Saving best model...\n",
            "Done.\n",
            "---------------------\n",
            "\n",
            "===>  TRAIN Epoch 8\n"
          ]
        },
        {
          "output_type": "stream",
          "name": "stderr",
          "text": [
            "0% [██████████████████████████████] 100% | ETA: 00:00:00\n",
            "Total time elapsed: 00:00:40\n"
          ]
        },
        {
          "output_type": "stream",
          "name": "stdout",
          "text": [
            "Finished Epoch 8 || Run Time:   10.6 | Load Time:   30.1 || F1:  97.77 | Prec:  97.25 | Rec:  98.29 || Ex/s: 423.10\n",
            "\n",
            "===>  EVAL Epoch 8\n"
          ]
        },
        {
          "output_type": "stream",
          "name": "stderr",
          "text": [
            "0% [██████████████████████████████] 100% | ETA: 00:00:00\n",
            "Total time elapsed: 00:00:11\n"
          ]
        },
        {
          "output_type": "stream",
          "name": "stdout",
          "text": [
            "Finished Epoch 8 || Run Time:    2.2 | Load Time:    9.0 || F1:  73.18 | Prec:  79.80 | Rec:  67.57 || Ex/s: 512.31\n",
            "\n",
            "---------------------\n",
            "\n",
            "===>  TRAIN Epoch 9\n"
          ]
        },
        {
          "output_type": "stream",
          "name": "stderr",
          "text": [
            "0% [██████████████████████████████] 100% | ETA: 00:00:00\n",
            "Total time elapsed: 00:00:40\n"
          ]
        },
        {
          "output_type": "stream",
          "name": "stdout",
          "text": [
            "Finished Epoch 9 || Run Time:   10.5 | Load Time:   30.1 || F1:  98.29 | Prec:  98.13 | Rec:  98.44 || Ex/s: 424.04\n",
            "\n",
            "===>  EVAL Epoch 9\n"
          ]
        },
        {
          "output_type": "stream",
          "name": "stderr",
          "text": [
            "0% [██████████████████████████████] 100% | ETA: 00:00:00\n",
            "Total time elapsed: 00:00:11\n"
          ]
        },
        {
          "output_type": "stream",
          "name": "stdout",
          "text": [
            "Finished Epoch 9 || Run Time:    2.2 | Load Time:    9.1 || F1:  73.02 | Prec:  79.82 | Rec:  67.29 || Ex/s: 510.32\n",
            "\n",
            "---------------------\n",
            "\n",
            "===>  TRAIN Epoch 10\n"
          ]
        },
        {
          "output_type": "stream",
          "name": "stderr",
          "text": [
            "0% [██████████████████████████████] 100% | ETA: 00:00:00\n",
            "Total time elapsed: 00:00:39\n"
          ]
        },
        {
          "output_type": "stream",
          "name": "stdout",
          "text": [
            "Finished Epoch 10 || Run Time:   10.3 | Load Time:   29.5 || F1:  98.50 | Prec:  98.56 | Rec:  98.44 || Ex/s: 432.67\n",
            "\n",
            "===>  EVAL Epoch 10\n"
          ]
        },
        {
          "output_type": "stream",
          "name": "stderr",
          "text": [
            "0% [██████████████████████████████] 100% | ETA: 00:00:00\n",
            "Total time elapsed: 00:00:11\n"
          ]
        },
        {
          "output_type": "stream",
          "name": "stdout",
          "text": [
            "Finished Epoch 10 || Run Time:    2.2 | Load Time:    9.1 || F1:  73.50 | Prec:  79.54 | Rec:  68.32 || Ex/s: 511.29\n",
            "\n",
            "* Best F1: tensor(73.5043, device='cuda:0')\n",
            "Saving best model...\n",
            "Done.\n",
            "---------------------\n",
            "\n",
            "===>  TRAIN Epoch 11\n"
          ]
        },
        {
          "output_type": "stream",
          "name": "stderr",
          "text": [
            "0% [██████████████████████████████] 100% | ETA: 00:00:00\n",
            "Total time elapsed: 00:00:40\n"
          ]
        },
        {
          "output_type": "stream",
          "name": "stdout",
          "text": [
            "Finished Epoch 11 || Run Time:   10.6 | Load Time:   30.3 || F1:  98.63 | Prec:  98.72 | Rec:  98.53 || Ex/s: 421.13\n",
            "\n",
            "===>  EVAL Epoch 11\n"
          ]
        },
        {
          "output_type": "stream",
          "name": "stderr",
          "text": [
            "0% [██████████████████████████████] 100% | ETA: 00:00:00\n",
            "Total time elapsed: 00:00:11\n"
          ]
        },
        {
          "output_type": "stream",
          "name": "stdout",
          "text": [
            "Finished Epoch 11 || Run Time:    2.3 | Load Time:    9.3 || F1:  73.50 | Prec:  78.53 | Rec:  69.07 || Ex/s: 496.77\n",
            "\n",
            "---------------------\n",
            "\n",
            "===>  TRAIN Epoch 12\n"
          ]
        },
        {
          "output_type": "stream",
          "name": "stderr",
          "text": [
            "0% [██████████████████████████████] 100% | ETA: 00:00:00\n",
            "Total time elapsed: 00:00:39\n"
          ]
        },
        {
          "output_type": "stream",
          "name": "stdout",
          "text": [
            "Finished Epoch 12 || Run Time:   10.3 | Load Time:   29.7 || F1:  98.77 | Prec:  98.94 | Rec:  98.60 || Ex/s: 430.03\n",
            "\n",
            "===>  EVAL Epoch 12\n"
          ]
        },
        {
          "output_type": "stream",
          "name": "stderr",
          "text": [
            "0% [██████████████████████████████] 100% | ETA: 00:00:00\n",
            "Total time elapsed: 00:00:11\n"
          ]
        },
        {
          "output_type": "stream",
          "name": "stdout",
          "text": [
            "Finished Epoch 12 || Run Time:    2.2 | Load Time:    9.1 || F1:  73.43 | Prec:  76.44 | Rec:  70.65 || Ex/s: 508.06\n",
            "\n",
            "---------------------\n",
            "\n",
            "===>  TRAIN Epoch 13\n"
          ]
        },
        {
          "output_type": "stream",
          "name": "stderr",
          "text": [
            "0% [██████████████████████████████] 100% | ETA: 00:00:00\n",
            "Total time elapsed: 00:00:40\n"
          ]
        },
        {
          "output_type": "stream",
          "name": "stdout",
          "text": [
            "Finished Epoch 13 || Run Time:   10.4 | Load Time:   30.0 || F1:  98.86 | Prec:  99.06 | Rec:  98.66 || Ex/s: 425.93\n",
            "\n",
            "===>  EVAL Epoch 13\n"
          ]
        },
        {
          "output_type": "stream",
          "name": "stderr",
          "text": [
            "0% [██████████████████████████████] 100% | ETA: 00:00:00\n",
            "Total time elapsed: 00:00:11\n"
          ]
        },
        {
          "output_type": "stream",
          "name": "stdout",
          "text": [
            "Finished Epoch 13 || Run Time:    2.1 | Load Time:    9.0 || F1:  73.41 | Prec:  76.18 | Rec:  70.84 || Ex/s: 515.65\n",
            "\n",
            "---------------------\n",
            "\n",
            "===>  TRAIN Epoch 14\n"
          ]
        },
        {
          "output_type": "stream",
          "name": "stderr",
          "text": [
            "0% [██████████████████████████████] 100% | ETA: 00:00:00\n",
            "Total time elapsed: 00:00:40\n"
          ]
        },
        {
          "output_type": "stream",
          "name": "stdout",
          "text": [
            "Finished Epoch 14 || Run Time:   10.4 | Load Time:   29.9 || F1:  98.92 | Prec:  99.12 | Rec:  98.72 || Ex/s: 427.14\n",
            "\n",
            "===>  EVAL Epoch 14\n"
          ]
        },
        {
          "output_type": "stream",
          "name": "stderr",
          "text": [
            "0% [██████████████████████████████] 100% | ETA: 00:00:00\n",
            "Total time elapsed: 00:00:11\n"
          ]
        },
        {
          "output_type": "stream",
          "name": "stdout",
          "text": [
            "Finished Epoch 14 || Run Time:    2.3 | Load Time:    9.3 || F1:  73.65 | Prec:  75.84 | Rec:  71.59 || Ex/s: 494.05\n",
            "\n",
            "* Best F1: tensor(73.6538, device='cuda:0')\n",
            "Saving best model...\n",
            "Done.\n",
            "---------------------\n",
            "\n",
            "===>  TRAIN Epoch 15\n"
          ]
        },
        {
          "output_type": "stream",
          "name": "stderr",
          "text": [
            "0% [██████████████████████████████] 100% | ETA: 00:00:00\n",
            "Total time elapsed: 00:00:39\n"
          ]
        },
        {
          "output_type": "stream",
          "name": "stdout",
          "text": [
            "Finished Epoch 15 || Run Time:   10.1 | Load Time:   29.7 || F1:  98.94 | Prec:  99.19 | Rec:  98.69 || Ex/s: 433.08\n",
            "\n",
            "===>  EVAL Epoch 15\n"
          ]
        },
        {
          "output_type": "stream",
          "name": "stderr",
          "text": [
            "0% [██████████████████████████████] 100% | ETA: 00:00:00\n",
            "Total time elapsed: 00:00:11\n"
          ]
        },
        {
          "output_type": "stream",
          "name": "stdout",
          "text": [
            "Finished Epoch 15 || Run Time:    2.2 | Load Time:    9.1 || F1:  73.83 | Prec:  75.49 | Rec:  72.24 || Ex/s: 507.55\n",
            "\n",
            "* Best F1: tensor(73.8300, device='cuda:0')\n",
            "Saving best model...\n",
            "Done.\n",
            "---------------------\n",
            "\n",
            "Loading best model...\n",
            "Training done.\n"
          ]
        },
        {
          "output_type": "execute_result",
          "data": {
            "text/plain": [
              "tensor(73.8300, device='cuda:0')"
            ]
          },
          "metadata": {},
          "execution_count": 57
        }
      ],
      "source": [
        "model.run_train(\n",
        "    train,\n",
        "    validation,\n",
        "    epochs=15,\n",
        "    batch_size=32,\n",
        "    best_save_path='sif_model.pth',\n",
        "    pos_neg_ratio=3)"
      ]
    },
    {
      "cell_type": "code",
      "execution_count": 58,
      "metadata": {
        "id": "yhKKxeaf7jik",
        "colab": {
          "base_uri": "https://localhost:8080/"
        },
        "outputId": "65728ed4-110e-4aaf-fce5-6261c1510c3c"
      },
      "outputs": [
        {
          "output_type": "stream",
          "name": "stdout",
          "text": [
            "===>  EVAL Epoch 15\n"
          ]
        },
        {
          "output_type": "stream",
          "name": "stderr",
          "text": [
            "/usr/local/lib/python3.7/dist-packages/torch/nn/modules/module.py:974: UserWarning: Using a non-full backward hook when the forward contains multiple autograd Nodes is deprecated and will be removed in future versions. This hook will be missing some grad_input. Please use register_full_backward_hook to get the documented behavior.\n",
            "  warnings.warn(\"Using a non-full backward hook when the forward contains multiple autograd Nodes \"\n",
            "0% [██████████████████████████████] 100% | ETA: 00:00:00\n",
            "Total time elapsed: 00:00:11\n"
          ]
        },
        {
          "output_type": "stream",
          "name": "stdout",
          "text": [
            "Finished Epoch 15 || Run Time:    2.2 | Load Time:    9.2 || F1:  72.28 | Prec:  74.50 | Rec:  70.19 || Ex/s: 501.51\n",
            "\n"
          ]
        },
        {
          "output_type": "execute_result",
          "data": {
            "text/plain": [
              "tensor(72.2810, device='cuda:0')"
            ]
          },
          "metadata": {},
          "execution_count": 58
        }
      ],
      "source": [
        "# Compute F1 on test set\n",
        "model.run_eval(test)"
      ]
    },
    {
      "cell_type": "markdown",
      "metadata": {
        "id": "Y-yR4O-G75CA"
      },
      "source": [
        "### ATTENTION"
      ]
    },
    {
      "cell_type": "markdown",
      "metadata": {
        "id": "DreQHWwd75CB"
      },
      "source": [
        "#### STRUCTURED"
      ]
    },
    {
      "cell_type": "markdown",
      "metadata": {
        "id": "_uBS7Flo75CB"
      },
      "source": [
        "##### Amazon-Google"
      ]
    },
    {
      "cell_type": "code",
      "execution_count": 3,
      "metadata": {
        "id": "IisFYUP_75CB"
      },
      "outputs": [],
      "source": [
        "train, validation, test = dm.data.process(\n",
        "    path='/content/IC/datasesErros/FMedium_50_1_2/Structured/Amazon-Google/',\n",
        "    train='joined_train.csv',\n",
        "    validation='joined_valid.csv',\n",
        "    test='joined_test.csv')"
      ]
    },
    {
      "cell_type": "code",
      "execution_count": 4,
      "metadata": {
        "id": "Ve41vX4-75CC"
      },
      "outputs": [],
      "source": [
        "model = dm.MatchingModel(attr_summarizer='attention')"
      ]
    },
    {
      "cell_type": "code",
      "execution_count": 5,
      "metadata": {
        "id": "DWbbr5NC75CC",
        "colab": {
          "base_uri": "https://localhost:8080/"
        },
        "outputId": "dba7b594-511b-41d8-9109-03bd18a54fb6"
      },
      "outputs": [
        {
          "output_type": "stream",
          "name": "stderr",
          "text": [
            "/usr/local/lib/python3.7/dist-packages/torch/nn/modules/module.py:974: UserWarning: Using a non-full backward hook when the forward contains multiple autograd Nodes is deprecated and will be removed in future versions. This hook will be missing some grad_input. Please use register_full_backward_hook to get the documented behavior.\n",
            "  warnings.warn(\"Using a non-full backward hook when the forward contains multiple autograd Nodes \"\n",
            "/usr/local/lib/python3.7/dist-packages/torch/nn/modules/module.py:949: UserWarning: Using non-full backward hooks on a Module that does not take as input a single Tensor or a tuple of Tensors is deprecated and will be removed in future versions. This hook will be missing some of the grad_input. Please use register_full_backward_hook to get the documented behavior.\n",
            "  warnings.warn(\"Using non-full backward hooks on a Module that does not take as input a \"\n"
          ]
        },
        {
          "output_type": "stream",
          "name": "stdout",
          "text": [
            "* Number of trainable parameters: 3429602\n",
            "===>  TRAIN Epoch 1\n"
          ]
        },
        {
          "output_type": "stream",
          "name": "stderr",
          "text": [
            "/usr/local/lib/python3.7/dist-packages/torch/nn/modules/module.py:939: UserWarning: Using non-full backward hooks on a Module that does not return a single Tensor or a tuple of Tensors is deprecated and will be removed in future versions. This hook will be missing some of the grad_output. Please use register_full_backward_hook to get the documented behavior.\n",
            "  warnings.warn(\"Using non-full backward hooks on a Module that does not return a \"\n",
            "/usr/local/lib/python3.7/dist-packages/torch/nn/functional.py:2742: UserWarning: reduction: 'mean' divides the total loss by both the batch size and the support size.'batchmean' divides only by the batch size, and aligns with the KL div math definition.'mean' will be changed to behave the same as 'batchmean' in the next major release.\n",
            "  \"reduction: 'mean' divides the total loss by both the batch size and the support size.\"\n",
            "0% [██████████████████████████████] 100% | ETA: 00:00:00\n",
            "Total time elapsed: 00:00:17\n"
          ]
        },
        {
          "output_type": "stream",
          "name": "stdout",
          "text": [
            "Finished Epoch 1 || Run Time:   12.6 | Load Time:    4.8 || F1:  25.54 | Prec:  34.38 | Rec:  20.31 || Ex/s: 394.67\n",
            "\n",
            "===>  EVAL Epoch 1\n"
          ]
        },
        {
          "output_type": "stream",
          "name": "stderr",
          "text": [
            "0% [██████████████] 100% | ETA: 00:00:00\n",
            "Total time elapsed: 00:00:03\n"
          ]
        },
        {
          "output_type": "stream",
          "name": "stdout",
          "text": [
            "Finished Epoch 1 || Run Time:    2.4 | Load Time:    1.5 || F1:  39.40 | Prec:  28.97 | Rec:  61.54 || Ex/s: 577.88\n",
            "\n",
            "* Best F1: tensor(39.3981, device='cuda:0')\n",
            "Saving best model...\n",
            "Done.\n",
            "---------------------\n",
            "\n",
            "===>  TRAIN Epoch 2\n"
          ]
        },
        {
          "output_type": "stream",
          "name": "stderr",
          "text": [
            "0% [██████████████████████████████] 100% | ETA: 00:00:00\n",
            "Total time elapsed: 00:00:16\n"
          ]
        },
        {
          "output_type": "stream",
          "name": "stdout",
          "text": [
            "Finished Epoch 2 || Run Time:   12.3 | Load Time:    4.7 || F1:  46.98 | Prec:  42.24 | Rec:  52.93 || Ex/s: 404.09\n",
            "\n",
            "===>  EVAL Epoch 2\n"
          ]
        },
        {
          "output_type": "stream",
          "name": "stderr",
          "text": [
            "0% [██████████████] 100% | ETA: 00:00:00\n",
            "Total time elapsed: 00:00:03\n"
          ]
        },
        {
          "output_type": "stream",
          "name": "stdout",
          "text": [
            "Finished Epoch 2 || Run Time:    2.3 | Load Time:    1.5 || F1:  44.25 | Prec:  33.33 | Rec:  65.81 || Ex/s: 610.09\n",
            "\n",
            "* Best F1: tensor(44.2529, device='cuda:0')\n",
            "Saving best model...\n",
            "Done.\n",
            "---------------------\n",
            "\n",
            "===>  TRAIN Epoch 3\n"
          ]
        },
        {
          "output_type": "stream",
          "name": "stderr",
          "text": [
            "0% [██████████████████████████████] 100% | ETA: 00:00:00\n",
            "Total time elapsed: 00:00:17\n"
          ]
        },
        {
          "output_type": "stream",
          "name": "stdout",
          "text": [
            "Finished Epoch 3 || Run Time:   12.5 | Load Time:    4.8 || F1:  57.00 | Prec:  49.63 | Rec:  66.95 || Ex/s: 398.79\n",
            "\n",
            "===>  EVAL Epoch 3\n"
          ]
        },
        {
          "output_type": "stream",
          "name": "stderr",
          "text": [
            "0% [██████████████] 100% | ETA: 00:00:00\n",
            "Total time elapsed: 00:00:03\n"
          ]
        },
        {
          "output_type": "stream",
          "name": "stdout",
          "text": [
            "Finished Epoch 3 || Run Time:    2.5 | Load Time:    1.5 || F1:  47.06 | Prec:  35.42 | Rec:  70.09 || Ex/s: 563.36\n",
            "\n",
            "* Best F1: tensor(47.0588, device='cuda:0')\n",
            "Saving best model...\n",
            "Done.\n",
            "---------------------\n",
            "\n",
            "===>  TRAIN Epoch 4\n"
          ]
        },
        {
          "output_type": "stream",
          "name": "stderr",
          "text": [
            "0% [██████████████████████████████] 100% | ETA: 00:00:00\n",
            "Total time elapsed: 00:00:17\n"
          ]
        },
        {
          "output_type": "stream",
          "name": "stdout",
          "text": [
            "Finished Epoch 4 || Run Time:   12.6 | Load Time:    4.8 || F1:  66.18 | Prec:  57.49 | Rec:  77.97 || Ex/s: 393.59\n",
            "\n",
            "===>  EVAL Epoch 4\n"
          ]
        },
        {
          "output_type": "stream",
          "name": "stderr",
          "text": [
            "0% [██████████████] 100% | ETA: 00:00:00\n",
            "Total time elapsed: 00:00:03\n"
          ]
        },
        {
          "output_type": "stream",
          "name": "stdout",
          "text": [
            "Finished Epoch 4 || Run Time:    2.5 | Load Time:    1.6 || F1:  45.91 | Prec:  39.33 | Rec:  55.13 || Ex/s: 568.59\n",
            "\n",
            "---------------------\n",
            "\n",
            "===>  TRAIN Epoch 5\n"
          ]
        },
        {
          "output_type": "stream",
          "name": "stderr",
          "text": [
            "0% [██████████████████████████████] 100% | ETA: 00:00:00\n",
            "Total time elapsed: 00:00:17\n"
          ]
        },
        {
          "output_type": "stream",
          "name": "stdout",
          "text": [
            "Finished Epoch 5 || Run Time:   12.6 | Load Time:    4.8 || F1:  70.59 | Prec:  61.26 | Rec:  83.26 || Ex/s: 394.93\n",
            "\n",
            "===>  EVAL Epoch 5\n"
          ]
        },
        {
          "output_type": "stream",
          "name": "stderr",
          "text": [
            "0% [██████████████] 100% | ETA: 00:00:00\n",
            "Total time elapsed: 00:00:03\n"
          ]
        },
        {
          "output_type": "stream",
          "name": "stdout",
          "text": [
            "Finished Epoch 5 || Run Time:    2.3 | Load Time:    1.5 || F1:  47.84 | Prec:  48.26 | Rec:  47.44 || Ex/s: 600.71\n",
            "\n",
            "* Best F1: tensor(47.8448, device='cuda:0')\n",
            "Saving best model...\n",
            "Done.\n",
            "---------------------\n",
            "\n",
            "===>  TRAIN Epoch 6\n"
          ]
        },
        {
          "output_type": "stream",
          "name": "stderr",
          "text": [
            "0% [██████████████████████████████] 100% | ETA: 00:00:00\n",
            "Total time elapsed: 00:00:18\n"
          ]
        },
        {
          "output_type": "stream",
          "name": "stdout",
          "text": [
            "Finished Epoch 6 || Run Time:   13.2 | Load Time:    5.0 || F1:  75.95 | Prec:  67.14 | Rec:  87.41 || Ex/s: 379.50\n",
            "\n",
            "===>  EVAL Epoch 6\n"
          ]
        },
        {
          "output_type": "stream",
          "name": "stderr",
          "text": [
            "0% [██████████████] 100% | ETA: 00:00:00\n",
            "Total time elapsed: 00:00:03\n"
          ]
        },
        {
          "output_type": "stream",
          "name": "stdout",
          "text": [
            "Finished Epoch 6 || Run Time:    2.4 | Load Time:    1.6 || F1:  46.34 | Prec:  53.98 | Rec:  40.60 || Ex/s: 571.00\n",
            "\n",
            "---------------------\n",
            "\n",
            "===>  TRAIN Epoch 7\n"
          ]
        },
        {
          "output_type": "stream",
          "name": "stderr",
          "text": [
            "0% [██████████████████████████████] 100% | ETA: 00:00:00\n",
            "Total time elapsed: 00:00:17\n"
          ]
        },
        {
          "output_type": "stream",
          "name": "stdout",
          "text": [
            "Finished Epoch 7 || Run Time:   12.7 | Load Time:    4.8 || F1:  79.14 | Prec:  71.07 | Rec:  89.27 || Ex/s: 391.48\n",
            "\n",
            "===>  EVAL Epoch 7\n"
          ]
        },
        {
          "output_type": "stream",
          "name": "stderr",
          "text": [
            "0% [██████████████] 100% | ETA: 00:00:00\n",
            "Total time elapsed: 00:00:03\n"
          ]
        },
        {
          "output_type": "stream",
          "name": "stdout",
          "text": [
            "Finished Epoch 7 || Run Time:    2.3 | Load Time:    1.5 || F1:  45.45 | Prec:  55.56 | Rec:  38.46 || Ex/s: 612.69\n",
            "\n",
            "---------------------\n",
            "\n",
            "===>  TRAIN Epoch 8\n"
          ]
        },
        {
          "output_type": "stream",
          "name": "stderr",
          "text": [
            "0% [██████████████████████████████] 100% | ETA: 00:00:00\n",
            "Total time elapsed: 00:00:16\n"
          ]
        },
        {
          "output_type": "stream",
          "name": "stdout",
          "text": [
            "Finished Epoch 8 || Run Time:   12.1 | Load Time:    4.7 || F1:  82.82 | Prec:  75.50 | Rec:  91.70 || Ex/s: 409.27\n",
            "\n",
            "===>  EVAL Epoch 8\n"
          ]
        },
        {
          "output_type": "stream",
          "name": "stderr",
          "text": [
            "0% [██████████████] 100% | ETA: 00:00:00\n",
            "Total time elapsed: 00:00:03\n"
          ]
        },
        {
          "output_type": "stream",
          "name": "stdout",
          "text": [
            "Finished Epoch 8 || Run Time:    2.4 | Load Time:    1.5 || F1:  46.30 | Prec:  50.51 | Rec:  42.74 || Ex/s: 590.47\n",
            "\n",
            "---------------------\n",
            "\n",
            "===>  TRAIN Epoch 9\n"
          ]
        },
        {
          "output_type": "stream",
          "name": "stderr",
          "text": [
            "0% [██████████████████████████████] 100% | ETA: 00:00:00\n",
            "Total time elapsed: 00:00:17\n"
          ]
        },
        {
          "output_type": "stream",
          "name": "stdout",
          "text": [
            "Finished Epoch 9 || Run Time:   12.4 | Load Time:    4.8 || F1:  83.80 | Prec:  76.35 | Rec:  92.85 || Ex/s: 401.79\n",
            "\n",
            "===>  EVAL Epoch 9\n"
          ]
        },
        {
          "output_type": "stream",
          "name": "stderr",
          "text": [
            "0% [██████████████] 100% | ETA: 00:00:00\n",
            "Total time elapsed: 00:00:03\n"
          ]
        },
        {
          "output_type": "stream",
          "name": "stdout",
          "text": [
            "Finished Epoch 9 || Run Time:    2.3 | Load Time:    1.5 || F1:  47.49 | Prec:  50.98 | Rec:  44.44 || Ex/s: 603.56\n",
            "\n",
            "---------------------\n",
            "\n",
            "===>  TRAIN Epoch 10\n"
          ]
        },
        {
          "output_type": "stream",
          "name": "stderr",
          "text": [
            "0% [██████████████████████████████] 100% | ETA: 00:00:00\n",
            "Total time elapsed: 00:00:17\n"
          ]
        },
        {
          "output_type": "stream",
          "name": "stdout",
          "text": [
            "Finished Epoch 10 || Run Time:   12.6 | Load Time:    4.8 || F1:  86.89 | Prec:  80.89 | Rec:  93.85 || Ex/s: 394.00\n",
            "\n",
            "===>  EVAL Epoch 10\n"
          ]
        },
        {
          "output_type": "stream",
          "name": "stderr",
          "text": [
            "0% [██████████████] 100% | ETA: 00:00:00\n",
            "Total time elapsed: 00:00:03\n"
          ]
        },
        {
          "output_type": "stream",
          "name": "stdout",
          "text": [
            "Finished Epoch 10 || Run Time:    2.4 | Load Time:    1.5 || F1:  47.71 | Prec:  51.49 | Rec:  44.44 || Ex/s: 589.93\n",
            "\n",
            "---------------------\n",
            "\n",
            "===>  TRAIN Epoch 11\n"
          ]
        },
        {
          "output_type": "stream",
          "name": "stderr",
          "text": [
            "0% [██████████████████████████████] 100% | ETA: 00:00:00\n",
            "Total time elapsed: 00:00:17\n"
          ]
        },
        {
          "output_type": "stream",
          "name": "stdout",
          "text": [
            "Finished Epoch 11 || Run Time:   12.7 | Load Time:    4.8 || F1:  88.24 | Prec:  82.81 | Rec:  94.42 || Ex/s: 391.62\n",
            "\n",
            "===>  EVAL Epoch 11\n"
          ]
        },
        {
          "output_type": "stream",
          "name": "stderr",
          "text": [
            "0% [██████████████] 100% | ETA: 00:00:00\n",
            "Total time elapsed: 00:00:03\n"
          ]
        },
        {
          "output_type": "stream",
          "name": "stdout",
          "text": [
            "Finished Epoch 11 || Run Time:    2.3 | Load Time:    1.5 || F1:  47.11 | Prec:  47.21 | Rec:  47.01 || Ex/s: 610.50\n",
            "\n",
            "---------------------\n",
            "\n",
            "===>  TRAIN Epoch 12\n"
          ]
        },
        {
          "output_type": "stream",
          "name": "stderr",
          "text": [
            "0% [██████████████████████████████] 100% | ETA: 00:00:00\n",
            "Total time elapsed: 00:00:17\n"
          ]
        },
        {
          "output_type": "stream",
          "name": "stdout",
          "text": [
            "Finished Epoch 12 || Run Time:   12.7 | Load Time:    4.8 || F1:  88.58 | Prec:  83.08 | Rec:  94.85 || Ex/s: 393.17\n",
            "\n",
            "===>  EVAL Epoch 12\n"
          ]
        },
        {
          "output_type": "stream",
          "name": "stderr",
          "text": [
            "0% [██████████████] 100% | ETA: 00:00:00\n",
            "Total time elapsed: 00:00:03\n"
          ]
        },
        {
          "output_type": "stream",
          "name": "stdout",
          "text": [
            "Finished Epoch 12 || Run Time:    2.2 | Load Time:    1.5 || F1:  47.48 | Prec:  44.87 | Rec:  50.43 || Ex/s: 615.12\n",
            "\n",
            "---------------------\n",
            "\n",
            "===>  TRAIN Epoch 13\n"
          ]
        },
        {
          "output_type": "stream",
          "name": "stderr",
          "text": [
            "0% [██████████████████████████████] 100% | ETA: 00:00:00\n",
            "Total time elapsed: 00:00:16\n"
          ]
        },
        {
          "output_type": "stream",
          "name": "stdout",
          "text": [
            "Finished Epoch 13 || Run Time:   11.7 | Load Time:    4.6 || F1:  89.43 | Prec:  84.48 | Rec:  94.99 || Ex/s: 423.84\n",
            "\n",
            "===>  EVAL Epoch 13\n"
          ]
        },
        {
          "output_type": "stream",
          "name": "stderr",
          "text": [
            "0% [██████████████] 100% | ETA: 00:00:00\n",
            "Total time elapsed: 00:00:03\n"
          ]
        },
        {
          "output_type": "stream",
          "name": "stdout",
          "text": [
            "Finished Epoch 13 || Run Time:    2.2 | Load Time:    1.4 || F1:  47.37 | Prec:  45.00 | Rec:  50.00 || Ex/s: 634.69\n",
            "\n",
            "---------------------\n",
            "\n",
            "===>  TRAIN Epoch 14\n"
          ]
        },
        {
          "output_type": "stream",
          "name": "stderr",
          "text": [
            "0% [██████████████████████████████] 100% | ETA: 00:00:00\n",
            "Total time elapsed: 00:00:16\n"
          ]
        },
        {
          "output_type": "stream",
          "name": "stdout",
          "text": [
            "Finished Epoch 14 || Run Time:   12.2 | Load Time:    4.7 || F1:  90.67 | Prec:  86.49 | Rec:  95.28 || Ex/s: 407.89\n",
            "\n",
            "===>  EVAL Epoch 14\n"
          ]
        },
        {
          "output_type": "stream",
          "name": "stderr",
          "text": [
            "0% [██████████████] 100% | ETA: 00:00:00\n",
            "Total time elapsed: 00:00:03\n"
          ]
        },
        {
          "output_type": "stream",
          "name": "stdout",
          "text": [
            "Finished Epoch 14 || Run Time:    2.4 | Load Time:    1.6 || F1:  46.32 | Prec:  46.93 | Rec:  45.73 || Ex/s: 574.64\n",
            "\n",
            "---------------------\n",
            "\n",
            "===>  TRAIN Epoch 15\n"
          ]
        },
        {
          "output_type": "stream",
          "name": "stderr",
          "text": [
            "0% [██████████████████████████████] 100% | ETA: 00:00:00\n",
            "Total time elapsed: 00:00:17\n"
          ]
        },
        {
          "output_type": "stream",
          "name": "stdout",
          "text": [
            "Finished Epoch 15 || Run Time:   12.9 | Load Time:    4.9 || F1:  91.41 | Prec:  87.35 | Rec:  95.85 || Ex/s: 385.83\n",
            "\n",
            "===>  EVAL Epoch 15\n"
          ]
        },
        {
          "output_type": "stream",
          "name": "stderr",
          "text": [
            "0% [██████████████] 100% | ETA: 00:00:00\n",
            "Total time elapsed: 00:00:03\n"
          ]
        },
        {
          "output_type": "stream",
          "name": "stdout",
          "text": [
            "Finished Epoch 15 || Run Time:    2.3 | Load Time:    1.5 || F1:  47.17 | Prec:  50.24 | Rec:  44.44 || Ex/s: 611.35\n",
            "\n",
            "---------------------\n",
            "\n",
            "Loading best model...\n",
            "Training done.\n"
          ]
        },
        {
          "output_type": "execute_result",
          "data": {
            "text/plain": [
              "tensor(47.8448, device='cuda:0')"
            ]
          },
          "metadata": {},
          "execution_count": 5
        }
      ],
      "source": [
        "model.run_train(\n",
        "    train,\n",
        "    validation,\n",
        "    epochs=15,\n",
        "    batch_size=32,\n",
        "    best_save_path='attention_model.pth',\n",
        "    pos_neg_ratio=3)"
      ]
    },
    {
      "cell_type": "code",
      "execution_count": 6,
      "metadata": {
        "id": "e1sHU6q_75CD",
        "colab": {
          "base_uri": "https://localhost:8080/"
        },
        "outputId": "aa16b905-1f16-4254-e19d-c55da1dce4a1"
      },
      "outputs": [
        {
          "output_type": "stream",
          "name": "stdout",
          "text": [
            "===>  EVAL Epoch 5\n"
          ]
        },
        {
          "output_type": "stream",
          "name": "stderr",
          "text": [
            "/usr/local/lib/python3.7/dist-packages/torch/nn/modules/module.py:974: UserWarning: Using a non-full backward hook when the forward contains multiple autograd Nodes is deprecated and will be removed in future versions. This hook will be missing some grad_input. Please use register_full_backward_hook to get the documented behavior.\n",
            "  warnings.warn(\"Using a non-full backward hook when the forward contains multiple autograd Nodes \"\n",
            "/usr/local/lib/python3.7/dist-packages/torch/nn/modules/module.py:949: UserWarning: Using non-full backward hooks on a Module that does not take as input a single Tensor or a tuple of Tensors is deprecated and will be removed in future versions. This hook will be missing some of the grad_input. Please use register_full_backward_hook to get the documented behavior.\n",
            "  warnings.warn(\"Using non-full backward hooks on a Module that does not take as input a \"\n",
            "/usr/local/lib/python3.7/dist-packages/torch/nn/modules/module.py:939: UserWarning: Using non-full backward hooks on a Module that does not return a single Tensor or a tuple of Tensors is deprecated and will be removed in future versions. This hook will be missing some of the grad_output. Please use register_full_backward_hook to get the documented behavior.\n",
            "  warnings.warn(\"Using non-full backward hooks on a Module that does not return a \"\n",
            "0% [██████████████] 100% | ETA: 00:00:00\n",
            "Total time elapsed: 00:00:03\n"
          ]
        },
        {
          "output_type": "stream",
          "name": "stdout",
          "text": [
            "Finished Epoch 5 || Run Time:    2.2 | Load Time:    1.5 || F1:  46.44 | Prec:  45.49 | Rec:  47.44 || Ex/s: 616.60\n",
            "\n"
          ]
        },
        {
          "output_type": "execute_result",
          "data": {
            "text/plain": [
              "tensor(46.4435, device='cuda:0')"
            ]
          },
          "metadata": {},
          "execution_count": 6
        }
      ],
      "source": [
        "# Compute F1 on test set\n",
        "model.run_eval(test)"
      ]
    },
    {
      "cell_type": "markdown",
      "metadata": {
        "id": "RasOi4AW75CD"
      },
      "source": [
        "##### Beer"
      ]
    },
    {
      "cell_type": "code",
      "execution_count": 7,
      "metadata": {
        "id": "PcdkYzZD75CD"
      },
      "outputs": [],
      "source": [
        "train, validation, test = dm.data.process(\n",
        "    path='/content/IC/datasesErros/FMedium_50_1_2/Structured/Beer/',\n",
        "    train='joined_train.csv',\n",
        "    validation='joined_valid.csv',\n",
        "    test='joined_test.csv')"
      ]
    },
    {
      "cell_type": "code",
      "execution_count": 8,
      "metadata": {
        "id": "WF7p9Ekr75CE"
      },
      "outputs": [],
      "source": [
        "model = dm.MatchingModel(attr_summarizer='attention')"
      ]
    },
    {
      "cell_type": "code",
      "execution_count": 9,
      "metadata": {
        "id": "n27d9dg575CE",
        "colab": {
          "base_uri": "https://localhost:8080/"
        },
        "outputId": "5e88814b-e04b-4509-f46e-7be1d896d861"
      },
      "outputs": [
        {
          "output_type": "stream",
          "name": "stderr",
          "text": [
            "/usr/local/lib/python3.7/dist-packages/torch/nn/modules/module.py:974: UserWarning: Using a non-full backward hook when the forward contains multiple autograd Nodes is deprecated and will be removed in future versions. This hook will be missing some grad_input. Please use register_full_backward_hook to get the documented behavior.\n",
            "  warnings.warn(\"Using a non-full backward hook when the forward contains multiple autograd Nodes \"\n"
          ]
        },
        {
          "output_type": "stream",
          "name": "stdout",
          "text": [
            "* Number of trainable parameters: 4332002\n",
            "===>  TRAIN Epoch 1\n"
          ]
        },
        {
          "output_type": "stream",
          "name": "stderr",
          "text": [
            "/usr/local/lib/python3.7/dist-packages/torch/nn/modules/module.py:949: UserWarning: Using non-full backward hooks on a Module that does not take as input a single Tensor or a tuple of Tensors is deprecated and will be removed in future versions. This hook will be missing some of the grad_input. Please use register_full_backward_hook to get the documented behavior.\n",
            "  warnings.warn(\"Using non-full backward hooks on a Module that does not take as input a \"\n",
            "/usr/local/lib/python3.7/dist-packages/torch/nn/modules/module.py:939: UserWarning: Using non-full backward hooks on a Module that does not return a single Tensor or a tuple of Tensors is deprecated and will be removed in future versions. This hook will be missing some of the grad_output. Please use register_full_backward_hook to get the documented behavior.\n",
            "  warnings.warn(\"Using non-full backward hooks on a Module that does not return a \"\n",
            "/usr/local/lib/python3.7/dist-packages/torch/nn/functional.py:2742: UserWarning: reduction: 'mean' divides the total loss by both the batch size and the support size.'batchmean' divides only by the batch size, and aligns with the KL div math definition.'mean' will be changed to behave the same as 'batchmean' in the next major release.\n",
            "  \"reduction: 'mean' divides the total loss by both the batch size and the support size.\"\n",
            "0% [█] 100% | ETA: 00:00:00\n",
            "Total time elapsed: 00:00:00\n"
          ]
        },
        {
          "output_type": "stream",
          "name": "stdout",
          "text": [
            "Finished Epoch 1 || Run Time:    0.7 | Load Time:    0.3 || F1:  31.82 | Prec:  29.17 | Rec:  35.00 || Ex/s: 275.97\n",
            "\n",
            "===>  EVAL Epoch 1\n",
            "Finished Epoch 1 || Run Time:    0.1 | Load Time:    0.1 || F1:   0.00 | Prec:   0.00 | Rec:   0.00 || Ex/s: 377.53\n",
            "\n",
            "* Best F1: tensor(0., device='cuda:0')\n",
            "Saving best model...\n",
            "Done.\n",
            "---------------------\n",
            "\n",
            "===>  TRAIN Epoch 2\n"
          ]
        },
        {
          "output_type": "stream",
          "name": "stderr",
          "text": [
            "0% [█] 100% | ETA: 00:00:00\n",
            "Total time elapsed: 00:00:00\n"
          ]
        },
        {
          "output_type": "stream",
          "name": "stdout",
          "text": [
            "Finished Epoch 2 || Run Time:    0.7 | Load Time:    0.3 || F1:  31.71 | Prec:  30.95 | Rec:  32.50 || Ex/s: 276.50\n",
            "\n",
            "===>  EVAL Epoch 2\n",
            "Finished Epoch 2 || Run Time:    0.1 | Load Time:    0.1 || F1:  42.55 | Prec:  30.30 | Rec:  71.43 || Ex/s: 411.35\n",
            "\n",
            "* Best F1: tensor(42.5532, device='cuda:0')\n",
            "Saving best model...\n",
            "Done.\n",
            "---------------------\n",
            "\n",
            "===>  TRAIN Epoch 3\n"
          ]
        },
        {
          "output_type": "stream",
          "name": "stderr",
          "text": [
            "0% [█] 100% | ETA: 00:00:00\n",
            "Total time elapsed: 00:00:00\n"
          ]
        },
        {
          "output_type": "stream",
          "name": "stdout",
          "text": [
            "Finished Epoch 3 || Run Time:    0.6 | Load Time:    0.3 || F1:  70.13 | Prec:  72.97 | Rec:  67.50 || Ex/s: 285.34\n",
            "\n",
            "===>  EVAL Epoch 3\n",
            "Finished Epoch 3 || Run Time:    0.1 | Load Time:    0.1 || F1:  31.58 | Prec:  60.00 | Rec:  21.43 || Ex/s: 394.92\n",
            "\n",
            "---------------------\n",
            "\n",
            "===>  TRAIN Epoch 4\n"
          ]
        },
        {
          "output_type": "stream",
          "name": "stderr",
          "text": [
            "0% [█] 100% | ETA: 00:00:00\n",
            "Total time elapsed: 00:00:00\n"
          ]
        },
        {
          "output_type": "stream",
          "name": "stdout",
          "text": [
            "Finished Epoch 4 || Run Time:    0.7 | Load Time:    0.3 || F1:  68.75 | Prec:  58.93 | Rec:  82.50 || Ex/s: 278.05\n",
            "\n",
            "===>  EVAL Epoch 4\n",
            "Finished Epoch 4 || Run Time:    0.1 | Load Time:    0.1 || F1:  51.16 | Prec:  37.93 | Rec:  78.57 || Ex/s: 391.61\n",
            "\n",
            "* Best F1: tensor(51.1628, device='cuda:0')\n",
            "Saving best model...\n",
            "Done.\n",
            "---------------------\n",
            "\n",
            "===>  TRAIN Epoch 5\n"
          ]
        },
        {
          "output_type": "stream",
          "name": "stderr",
          "text": [
            "0% [█] 100% | ETA: 00:00:00\n",
            "Total time elapsed: 00:00:00\n"
          ]
        },
        {
          "output_type": "stream",
          "name": "stdout",
          "text": [
            "Finished Epoch 5 || Run Time:    0.7 | Load Time:    0.3 || F1:  80.43 | Prec:  71.15 | Rec:  92.50 || Ex/s: 276.78\n",
            "\n",
            "===>  EVAL Epoch 5\n",
            "Finished Epoch 5 || Run Time:    0.1 | Load Time:    0.1 || F1:  59.46 | Prec:  47.83 | Rec:  78.57 || Ex/s: 410.88\n",
            "\n",
            "* Best F1: tensor(59.4595, device='cuda:0')\n",
            "Saving best model...\n",
            "Done.\n",
            "---------------------\n",
            "\n",
            "===>  TRAIN Epoch 6\n"
          ]
        },
        {
          "output_type": "stream",
          "name": "stderr",
          "text": [
            "0% [█] 100% | ETA: 00:00:00\n",
            "Total time elapsed: 00:00:00\n"
          ]
        },
        {
          "output_type": "stream",
          "name": "stdout",
          "text": [
            "Finished Epoch 6 || Run Time:    0.7 | Load Time:    0.3 || F1:  79.59 | Prec:  67.24 | Rec:  97.50 || Ex/s: 280.05\n",
            "\n",
            "===>  EVAL Epoch 6\n",
            "Finished Epoch 6 || Run Time:    0.1 | Load Time:    0.1 || F1:  66.67 | Prec:  54.55 | Rec:  85.71 || Ex/s: 409.56\n",
            "\n",
            "* Best F1: tensor(66.6667, device='cuda:0')\n",
            "Saving best model...\n",
            "Done.\n",
            "---------------------\n",
            "\n",
            "===>  TRAIN Epoch 7\n"
          ]
        },
        {
          "output_type": "stream",
          "name": "stderr",
          "text": [
            "0% [█] 100% | ETA: 00:00:00\n",
            "Total time elapsed: 00:00:00\n"
          ]
        },
        {
          "output_type": "stream",
          "name": "stdout",
          "text": [
            "Finished Epoch 7 || Run Time:    0.7 | Load Time:    0.3 || F1:  84.44 | Prec:  76.00 | Rec:  95.00 || Ex/s: 276.15\n",
            "\n",
            "===>  EVAL Epoch 7\n",
            "Finished Epoch 7 || Run Time:    0.1 | Load Time:    0.1 || F1:  64.86 | Prec:  52.17 | Rec:  85.71 || Ex/s: 399.88\n",
            "\n",
            "---------------------\n",
            "\n",
            "===>  TRAIN Epoch 8\n"
          ]
        },
        {
          "output_type": "stream",
          "name": "stderr",
          "text": [
            "0% [█] 100% | ETA: 00:00:00\n",
            "Total time elapsed: 00:00:00\n"
          ]
        },
        {
          "output_type": "stream",
          "name": "stdout",
          "text": [
            "Finished Epoch 8 || Run Time:    0.7 | Load Time:    0.3 || F1:  84.44 | Prec:  76.00 | Rec:  95.00 || Ex/s: 284.49\n",
            "\n",
            "===>  EVAL Epoch 8\n",
            "Finished Epoch 8 || Run Time:    0.1 | Load Time:    0.1 || F1:  61.11 | Prec:  50.00 | Rec:  78.57 || Ex/s: 407.11\n",
            "\n",
            "---------------------\n",
            "\n",
            "===>  TRAIN Epoch 9\n"
          ]
        },
        {
          "output_type": "stream",
          "name": "stderr",
          "text": [
            "0% [█] 100% | ETA: 00:00:00\n",
            "Total time elapsed: 00:00:00\n"
          ]
        },
        {
          "output_type": "stream",
          "name": "stdout",
          "text": [
            "Finished Epoch 9 || Run Time:    0.7 | Load Time:    0.3 || F1:  87.36 | Prec:  80.85 | Rec:  95.00 || Ex/s: 275.29\n",
            "\n",
            "===>  EVAL Epoch 9\n",
            "Finished Epoch 9 || Run Time:    0.1 | Load Time:    0.1 || F1:  61.11 | Prec:  50.00 | Rec:  78.57 || Ex/s: 403.36\n",
            "\n",
            "---------------------\n",
            "\n",
            "===>  TRAIN Epoch 10\n"
          ]
        },
        {
          "output_type": "stream",
          "name": "stderr",
          "text": [
            "0% [█] 100% | ETA: 00:00:00\n",
            "Total time elapsed: 00:00:00\n"
          ]
        },
        {
          "output_type": "stream",
          "name": "stdout",
          "text": [
            "Finished Epoch 10 || Run Time:    0.7 | Load Time:    0.3 || F1:  90.70 | Prec:  84.78 | Rec:  97.50 || Ex/s: 279.16\n",
            "\n",
            "===>  EVAL Epoch 10\n",
            "Finished Epoch 10 || Run Time:    0.1 | Load Time:    0.1 || F1:  61.11 | Prec:  50.00 | Rec:  78.57 || Ex/s: 400.73\n",
            "\n",
            "---------------------\n",
            "\n",
            "===>  TRAIN Epoch 11\n"
          ]
        },
        {
          "output_type": "stream",
          "name": "stderr",
          "text": [
            "0% [█] 100% | ETA: 00:00:00\n",
            "Total time elapsed: 00:00:00\n"
          ]
        },
        {
          "output_type": "stream",
          "name": "stdout",
          "text": [
            "Finished Epoch 11 || Run Time:    0.7 | Load Time:    0.3 || F1:  92.86 | Prec:  88.64 | Rec:  97.50 || Ex/s: 280.91\n",
            "\n",
            "===>  EVAL Epoch 11\n",
            "Finished Epoch 11 || Run Time:    0.1 | Load Time:    0.1 || F1:  64.86 | Prec:  52.17 | Rec:  85.71 || Ex/s: 405.25\n",
            "\n",
            "---------------------\n",
            "\n",
            "===>  TRAIN Epoch 12\n"
          ]
        },
        {
          "output_type": "stream",
          "name": "stderr",
          "text": [
            "0% [█] 100% | ETA: 00:00:00\n",
            "Total time elapsed: 00:00:00\n"
          ]
        },
        {
          "output_type": "stream",
          "name": "stdout",
          "text": [
            "Finished Epoch 12 || Run Time:    0.7 | Load Time:    0.3 || F1:  94.12 | Prec:  88.89 | Rec: 100.00 || Ex/s: 278.12\n",
            "\n",
            "===>  EVAL Epoch 12\n",
            "Finished Epoch 12 || Run Time:    0.1 | Load Time:    0.1 || F1:  66.67 | Prec:  54.55 | Rec:  85.71 || Ex/s: 380.66\n",
            "\n",
            "---------------------\n",
            "\n",
            "===>  TRAIN Epoch 13\n"
          ]
        },
        {
          "output_type": "stream",
          "name": "stderr",
          "text": [
            "0% [█] 100% | ETA: 00:00:00\n",
            "Total time elapsed: 00:00:00\n"
          ]
        },
        {
          "output_type": "stream",
          "name": "stdout",
          "text": [
            "Finished Epoch 13 || Run Time:    0.7 | Load Time:    0.3 || F1:  94.12 | Prec:  88.89 | Rec: 100.00 || Ex/s: 278.44\n",
            "\n",
            "===>  EVAL Epoch 13\n",
            "Finished Epoch 13 || Run Time:    0.1 | Load Time:    0.1 || F1:  66.67 | Prec:  54.55 | Rec:  85.71 || Ex/s: 401.85\n",
            "\n",
            "---------------------\n",
            "\n",
            "===>  TRAIN Epoch 14\n"
          ]
        },
        {
          "output_type": "stream",
          "name": "stderr",
          "text": [
            "0% [█] 100% | ETA: 00:00:00\n",
            "Total time elapsed: 00:00:00\n"
          ]
        },
        {
          "output_type": "stream",
          "name": "stdout",
          "text": [
            "Finished Epoch 14 || Run Time:    0.7 | Load Time:    0.3 || F1:  94.12 | Prec:  88.89 | Rec: 100.00 || Ex/s: 277.07\n",
            "\n",
            "===>  EVAL Epoch 14\n",
            "Finished Epoch 14 || Run Time:    0.1 | Load Time:    0.1 || F1:  68.57 | Prec:  57.14 | Rec:  85.71 || Ex/s: 370.51\n",
            "\n",
            "* Best F1: tensor(68.5714, device='cuda:0')\n",
            "Saving best model...\n",
            "Done.\n",
            "---------------------\n",
            "\n",
            "===>  TRAIN Epoch 15\n"
          ]
        },
        {
          "output_type": "stream",
          "name": "stderr",
          "text": [
            "0% [█] 100% | ETA: 00:00:00\n",
            "Total time elapsed: 00:00:00\n"
          ]
        },
        {
          "output_type": "stream",
          "name": "stdout",
          "text": [
            "Finished Epoch 15 || Run Time:    0.7 | Load Time:    0.3 || F1:  94.12 | Prec:  88.89 | Rec: 100.00 || Ex/s: 269.97\n",
            "\n",
            "===>  EVAL Epoch 15\n",
            "Finished Epoch 15 || Run Time:    0.1 | Load Time:    0.1 || F1:  68.57 | Prec:  57.14 | Rec:  85.71 || Ex/s: 384.22\n",
            "\n",
            "---------------------\n",
            "\n",
            "Loading best model...\n",
            "Training done.\n"
          ]
        },
        {
          "output_type": "execute_result",
          "data": {
            "text/plain": [
              "tensor(68.5714, device='cuda:0')"
            ]
          },
          "metadata": {},
          "execution_count": 9
        }
      ],
      "source": [
        "model.run_train(\n",
        "    train,\n",
        "    validation,\n",
        "    epochs=15,\n",
        "    batch_size=32,\n",
        "    best_save_path='attention_model.pth',\n",
        "    pos_neg_ratio=3)"
      ]
    },
    {
      "cell_type": "code",
      "execution_count": 10,
      "metadata": {
        "id": "D9NtoTG-75CE",
        "colab": {
          "base_uri": "https://localhost:8080/"
        },
        "outputId": "3f38ca87-3f85-4a97-a7d5-484f20e2b94b"
      },
      "outputs": [
        {
          "output_type": "stream",
          "name": "stdout",
          "text": [
            "===>  EVAL Epoch 14\n"
          ]
        },
        {
          "output_type": "stream",
          "name": "stderr",
          "text": [
            "/usr/local/lib/python3.7/dist-packages/torch/nn/modules/module.py:974: UserWarning: Using a non-full backward hook when the forward contains multiple autograd Nodes is deprecated and will be removed in future versions. This hook will be missing some grad_input. Please use register_full_backward_hook to get the documented behavior.\n",
            "  warnings.warn(\"Using a non-full backward hook when the forward contains multiple autograd Nodes \"\n",
            "/usr/local/lib/python3.7/dist-packages/torch/nn/modules/module.py:949: UserWarning: Using non-full backward hooks on a Module that does not take as input a single Tensor or a tuple of Tensors is deprecated and will be removed in future versions. This hook will be missing some of the grad_input. Please use register_full_backward_hook to get the documented behavior.\n",
            "  warnings.warn(\"Using non-full backward hooks on a Module that does not take as input a \"\n",
            "/usr/local/lib/python3.7/dist-packages/torch/nn/modules/module.py:939: UserWarning: Using non-full backward hooks on a Module that does not return a single Tensor or a tuple of Tensors is deprecated and will be removed in future versions. This hook will be missing some of the grad_output. Please use register_full_backward_hook to get the documented behavior.\n",
            "  warnings.warn(\"Using non-full backward hooks on a Module that does not return a \"\n"
          ]
        },
        {
          "output_type": "stream",
          "name": "stdout",
          "text": [
            "Finished Epoch 14 || Run Time:    0.1 | Load Time:    0.1 || F1:  66.67 | Prec:  54.55 | Rec:  85.71 || Ex/s: 377.31\n",
            "\n"
          ]
        },
        {
          "output_type": "execute_result",
          "data": {
            "text/plain": [
              "tensor(66.6667, device='cuda:0')"
            ]
          },
          "metadata": {},
          "execution_count": 10
        }
      ],
      "source": [
        "# Compute F1 on test set\n",
        "model.run_eval(test)"
      ]
    },
    {
      "cell_type": "markdown",
      "metadata": {
        "id": "MW-N7Bz875CF"
      },
      "source": [
        "##### DBLP-ACM"
      ]
    },
    {
      "cell_type": "code",
      "execution_count": 11,
      "metadata": {
        "id": "P8k054gm75CF"
      },
      "outputs": [],
      "source": [
        "train, validation, test = dm.data.process(\n",
        "    path='/content/IC/datasesErros/FMedium_50_1_2/Structured/DBLP-ACM/',\n",
        "    train='joined_train.csv',\n",
        "    validation='joined_valid.csv',\n",
        "    test='joined_test.csv')"
      ]
    },
    {
      "cell_type": "code",
      "execution_count": 12,
      "metadata": {
        "id": "jpHADlZW75CF"
      },
      "outputs": [],
      "source": [
        "model = dm.MatchingModel(attr_summarizer='attention')"
      ]
    },
    {
      "cell_type": "code",
      "execution_count": 13,
      "metadata": {
        "id": "T8os-EXZ75CG",
        "colab": {
          "base_uri": "https://localhost:8080/"
        },
        "outputId": "5d00db37-b6c8-4c5b-f97d-e7e869cc8d53"
      },
      "outputs": [
        {
          "output_type": "stream",
          "name": "stdout",
          "text": [
            "* Number of trainable parameters: 4332002\n",
            "===>  TRAIN Epoch 1\n"
          ]
        },
        {
          "output_type": "stream",
          "name": "stderr",
          "text": [
            "/usr/local/lib/python3.7/dist-packages/torch/nn/modules/module.py:974: UserWarning: Using a non-full backward hook when the forward contains multiple autograd Nodes is deprecated and will be removed in future versions. This hook will be missing some grad_input. Please use register_full_backward_hook to get the documented behavior.\n",
            "  warnings.warn(\"Using a non-full backward hook when the forward contains multiple autograd Nodes \"\n",
            "/usr/local/lib/python3.7/dist-packages/torch/nn/modules/module.py:949: UserWarning: Using non-full backward hooks on a Module that does not take as input a single Tensor or a tuple of Tensors is deprecated and will be removed in future versions. This hook will be missing some of the grad_input. Please use register_full_backward_hook to get the documented behavior.\n",
            "  warnings.warn(\"Using non-full backward hooks on a Module that does not take as input a \"\n",
            "/usr/local/lib/python3.7/dist-packages/torch/nn/modules/module.py:939: UserWarning: Using non-full backward hooks on a Module that does not return a single Tensor or a tuple of Tensors is deprecated and will be removed in future versions. This hook will be missing some of the grad_output. Please use register_full_backward_hook to get the documented behavior.\n",
            "  warnings.warn(\"Using non-full backward hooks on a Module that does not return a \"\n",
            "/usr/local/lib/python3.7/dist-packages/torch/nn/functional.py:2742: UserWarning: reduction: 'mean' divides the total loss by both the batch size and the support size.'batchmean' divides only by the batch size, and aligns with the KL div math definition.'mean' will be changed to behave the same as 'batchmean' in the next major release.\n",
            "  \"reduction: 'mean' divides the total loss by both the batch size and the support size.\"\n",
            "0% [██████████████████████████████] 100% | ETA: 00:00:00\n",
            "Total time elapsed: 00:00:29\n"
          ]
        },
        {
          "output_type": "stream",
          "name": "stdout",
          "text": [
            "Finished Epoch 1 || Run Time:   18.0 | Load Time:   12.2 || F1:  83.81 | Prec:  77.30 | Rec:  91.52 || Ex/s: 245.47\n",
            "\n",
            "===>  EVAL Epoch 1\n"
          ]
        },
        {
          "output_type": "stream",
          "name": "stderr",
          "text": [
            "0% [███████████████] 100% | ETA: 00:00:00\n",
            "Total time elapsed: 00:00:06\n"
          ]
        },
        {
          "output_type": "stream",
          "name": "stdout",
          "text": [
            "Finished Epoch 1 || Run Time:    3.4 | Load Time:    3.8 || F1:  96.88 | Prec:  95.81 | Rec:  97.97 || Ex/s: 341.63\n",
            "\n",
            "* Best F1: tensor(96.8820, device='cuda:0')\n",
            "Saving best model...\n",
            "Done.\n",
            "---------------------\n",
            "\n",
            "===>  TRAIN Epoch 2\n"
          ]
        },
        {
          "output_type": "stream",
          "name": "stderr",
          "text": [
            "0% [██████████████████████████████] 100% | ETA: 00:00:00\n",
            "Total time elapsed: 00:00:31\n"
          ]
        },
        {
          "output_type": "stream",
          "name": "stdout",
          "text": [
            "Finished Epoch 2 || Run Time:   18.7 | Load Time:   12.6 || F1:  96.38 | Prec:  93.94 | Rec:  98.95 || Ex/s: 236.84\n",
            "\n",
            "===>  EVAL Epoch 2\n"
          ]
        },
        {
          "output_type": "stream",
          "name": "stderr",
          "text": [
            "0% [███████████████] 100% | ETA: 00:00:00\n",
            "Total time elapsed: 00:00:06\n"
          ]
        },
        {
          "output_type": "stream",
          "name": "stdout",
          "text": [
            "Finished Epoch 2 || Run Time:    3.5 | Load Time:    3.8 || F1:  97.14 | Prec:  94.85 | Rec:  99.55 || Ex/s: 339.88\n",
            "\n",
            "* Best F1: tensor(97.1429, device='cuda:0')\n",
            "Saving best model...\n",
            "Done.\n",
            "---------------------\n",
            "\n",
            "===>  TRAIN Epoch 3\n"
          ]
        },
        {
          "output_type": "stream",
          "name": "stderr",
          "text": [
            "0% [██████████████████████████████] 100% | ETA: 00:00:00\n",
            "Total time elapsed: 00:00:30\n"
          ]
        },
        {
          "output_type": "stream",
          "name": "stdout",
          "text": [
            "Finished Epoch 3 || Run Time:   18.1 | Load Time:   12.3 || F1:  97.71 | Prec:  96.15 | Rec:  99.32 || Ex/s: 243.76\n",
            "\n",
            "===>  EVAL Epoch 3\n"
          ]
        },
        {
          "output_type": "stream",
          "name": "stderr",
          "text": [
            "0% [███████████████] 100% | ETA: 00:00:00\n",
            "Total time elapsed: 00:00:07\n"
          ]
        },
        {
          "output_type": "stream",
          "name": "stdout",
          "text": [
            "Finished Epoch 3 || Run Time:    3.6 | Load Time:    3.9 || F1:  98.11 | Prec:  96.72 | Rec:  99.55 || Ex/s: 326.70\n",
            "\n",
            "* Best F1: tensor(98.1132, device='cuda:0')\n",
            "Saving best model...\n",
            "Done.\n",
            "---------------------\n",
            "\n",
            "===>  TRAIN Epoch 4\n"
          ]
        },
        {
          "output_type": "stream",
          "name": "stderr",
          "text": [
            "0% [██████████████████████████████] 100% | ETA: 00:00:00\n",
            "Total time elapsed: 00:00:30\n"
          ]
        },
        {
          "output_type": "stream",
          "name": "stdout",
          "text": [
            "Finished Epoch 4 || Run Time:   18.3 | Load Time:   12.4 || F1:  98.29 | Prec:  97.14 | Rec:  99.47 || Ex/s: 242.21\n",
            "\n",
            "===>  EVAL Epoch 4\n"
          ]
        },
        {
          "output_type": "stream",
          "name": "stderr",
          "text": [
            "0% [███████████████] 100% | ETA: 00:00:00\n",
            "Total time elapsed: 00:00:07\n"
          ]
        },
        {
          "output_type": "stream",
          "name": "stdout",
          "text": [
            "Finished Epoch 4 || Run Time:    3.7 | Load Time:    4.1 || F1:  98.33 | Prec:  97.35 | Rec:  99.32 || Ex/s: 320.25\n",
            "\n",
            "* Best F1: tensor(98.3278, device='cuda:0')\n",
            "Saving best model...\n",
            "Done.\n",
            "---------------------\n",
            "\n",
            "===>  TRAIN Epoch 5\n"
          ]
        },
        {
          "output_type": "stream",
          "name": "stderr",
          "text": [
            "0% [██████████████████████████████] 100% | ETA: 00:00:00\n",
            "Total time elapsed: 00:00:29\n"
          ]
        },
        {
          "output_type": "stream",
          "name": "stdout",
          "text": [
            "Finished Epoch 5 || Run Time:   18.0 | Load Time:   12.2 || F1:  98.96 | Prec:  98.22 | Rec:  99.70 || Ex/s: 245.41\n",
            "\n",
            "===>  EVAL Epoch 5\n"
          ]
        },
        {
          "output_type": "stream",
          "name": "stderr",
          "text": [
            "0% [███████████████] 100% | ETA: 00:00:00\n",
            "Total time elapsed: 00:00:06\n"
          ]
        },
        {
          "output_type": "stream",
          "name": "stdout",
          "text": [
            "Finished Epoch 5 || Run Time:    3.5 | Load Time:    3.8 || F1:  98.10 | Prec:  97.55 | Rec:  98.65 || Ex/s: 339.88\n",
            "\n",
            "---------------------\n",
            "\n",
            "===>  TRAIN Epoch 6\n"
          ]
        },
        {
          "output_type": "stream",
          "name": "stderr",
          "text": [
            "0% [██████████████████████████████] 100% | ETA: 00:00:00\n",
            "Total time elapsed: 00:00:30\n"
          ]
        },
        {
          "output_type": "stream",
          "name": "stdout",
          "text": [
            "Finished Epoch 6 || Run Time:   18.2 | Load Time:   12.3 || F1:  99.11 | Prec:  98.44 | Rec:  99.77 || Ex/s: 243.22\n",
            "\n",
            "===>  EVAL Epoch 6\n"
          ]
        },
        {
          "output_type": "stream",
          "name": "stderr",
          "text": [
            "0% [███████████████] 100% | ETA: 00:00:00\n",
            "Total time elapsed: 00:00:07\n"
          ]
        },
        {
          "output_type": "stream",
          "name": "stdout",
          "text": [
            "Finished Epoch 6 || Run Time:    3.5 | Load Time:    3.9 || F1:  97.64 | Prec:  97.53 | Rec:  97.75 || Ex/s: 333.15\n",
            "\n",
            "---------------------\n",
            "\n",
            "===>  TRAIN Epoch 7\n"
          ]
        },
        {
          "output_type": "stream",
          "name": "stderr",
          "text": [
            "0% [██████████████████████████████] 100% | ETA: 00:00:00\n",
            "Total time elapsed: 00:00:31\n"
          ]
        },
        {
          "output_type": "stream",
          "name": "stdout",
          "text": [
            "Finished Epoch 7 || Run Time:   18.9 | Load Time:   12.7 || F1:  99.18 | Prec:  98.59 | Rec:  99.77 || Ex/s: 235.04\n",
            "\n",
            "===>  EVAL Epoch 7\n"
          ]
        },
        {
          "output_type": "stream",
          "name": "stderr",
          "text": [
            "0% [███████████████] 100% | ETA: 00:00:00\n",
            "Total time elapsed: 00:00:07\n"
          ]
        },
        {
          "output_type": "stream",
          "name": "stdout",
          "text": [
            "Finished Epoch 7 || Run Time:    3.5 | Load Time:    3.8 || F1:  97.52 | Prec:  97.74 | Rec:  97.30 || Ex/s: 339.16\n",
            "\n",
            "---------------------\n",
            "\n",
            "===>  TRAIN Epoch 8\n"
          ]
        },
        {
          "output_type": "stream",
          "name": "stderr",
          "text": [
            "0% [██████████████████████████████] 100% | ETA: 00:00:00\n",
            "Total time elapsed: 00:00:31\n"
          ]
        },
        {
          "output_type": "stream",
          "name": "stdout",
          "text": [
            "Finished Epoch 8 || Run Time:   18.9 | Load Time:   12.6 || F1:  99.14 | Prec:  98.45 | Rec:  99.85 || Ex/s: 235.42\n",
            "\n",
            "===>  EVAL Epoch 8\n"
          ]
        },
        {
          "output_type": "stream",
          "name": "stderr",
          "text": [
            "0% [███████████████] 100% | ETA: 00:00:00\n",
            "Total time elapsed: 00:00:07\n"
          ]
        },
        {
          "output_type": "stream",
          "name": "stdout",
          "text": [
            "Finished Epoch 8 || Run Time:    3.7 | Load Time:    3.9 || F1:  97.85 | Prec:  98.19 | Rec:  97.52 || Ex/s: 324.63\n",
            "\n",
            "---------------------\n",
            "\n",
            "===>  TRAIN Epoch 9\n"
          ]
        },
        {
          "output_type": "stream",
          "name": "stderr",
          "text": [
            "0% [██████████████████████████████] 100% | ETA: 00:00:00\n",
            "Total time elapsed: 00:00:30\n"
          ]
        },
        {
          "output_type": "stream",
          "name": "stdout",
          "text": [
            "Finished Epoch 9 || Run Time:   18.4 | Load Time:   12.5 || F1:  99.29 | Prec:  98.67 | Rec:  99.92 || Ex/s: 240.28\n",
            "\n",
            "===>  EVAL Epoch 9\n"
          ]
        },
        {
          "output_type": "stream",
          "name": "stderr",
          "text": [
            "0% [███████████████] 100% | ETA: 00:00:00\n",
            "Total time elapsed: 00:00:07\n"
          ]
        },
        {
          "output_type": "stream",
          "name": "stdout",
          "text": [
            "Finished Epoch 9 || Run Time:    3.6 | Load Time:    3.9 || F1:  97.86 | Prec:  97.75 | Rec:  97.97 || Ex/s: 330.83\n",
            "\n",
            "---------------------\n",
            "\n",
            "===>  TRAIN Epoch 10\n"
          ]
        },
        {
          "output_type": "stream",
          "name": "stderr",
          "text": [
            "0% [██████████████████████████████] 100% | ETA: 00:00:00\n",
            "Total time elapsed: 00:00:30\n"
          ]
        },
        {
          "output_type": "stream",
          "name": "stdout",
          "text": [
            "Finished Epoch 10 || Run Time:   18.1 | Load Time:   12.3 || F1:  99.25 | Prec:  98.59 | Rec:  99.92 || Ex/s: 243.90\n",
            "\n",
            "===>  EVAL Epoch 10\n"
          ]
        },
        {
          "output_type": "stream",
          "name": "stderr",
          "text": [
            "0% [███████████████] 100% | ETA: 00:00:00\n",
            "Total time elapsed: 00:00:07\n"
          ]
        },
        {
          "output_type": "stream",
          "name": "stdout",
          "text": [
            "Finished Epoch 10 || Run Time:    3.6 | Load Time:    4.0 || F1:  97.73 | Prec:  98.40 | Rec:  97.07 || Ex/s: 326.32\n",
            "\n",
            "---------------------\n",
            "\n",
            "===>  TRAIN Epoch 11\n"
          ]
        },
        {
          "output_type": "stream",
          "name": "stderr",
          "text": [
            "0% [██████████████████████████████] 100% | ETA: 00:00:00\n",
            "Total time elapsed: 00:00:29\n"
          ]
        },
        {
          "output_type": "stream",
          "name": "stdout",
          "text": [
            "Finished Epoch 11 || Run Time:   17.9 | Load Time:   12.2 || F1:  99.14 | Prec:  98.37 | Rec:  99.92 || Ex/s: 246.41\n",
            "\n",
            "===>  EVAL Epoch 11\n"
          ]
        },
        {
          "output_type": "stream",
          "name": "stderr",
          "text": [
            "0% [███████████████] 100% | ETA: 00:00:00\n",
            "Total time elapsed: 00:00:06\n"
          ]
        },
        {
          "output_type": "stream",
          "name": "stdout",
          "text": [
            "Finished Epoch 11 || Run Time:    3.4 | Load Time:    3.8 || F1:  97.15 | Prec:  98.38 | Rec:  95.95 || Ex/s: 342.23\n",
            "\n",
            "---------------------\n",
            "\n",
            "===>  TRAIN Epoch 12\n"
          ]
        },
        {
          "output_type": "stream",
          "name": "stderr",
          "text": [
            "0% [██████████████████████████████] 100% | ETA: 00:00:00\n",
            "Total time elapsed: 00:00:31\n"
          ]
        },
        {
          "output_type": "stream",
          "name": "stdout",
          "text": [
            "Finished Epoch 12 || Run Time:   18.8 | Load Time:   12.6 || F1:  99.25 | Prec:  98.59 | Rec:  99.92 || Ex/s: 236.19\n",
            "\n",
            "===>  EVAL Epoch 12\n"
          ]
        },
        {
          "output_type": "stream",
          "name": "stderr",
          "text": [
            "0% [███████████████] 100% | ETA: 00:00:00\n",
            "Total time elapsed: 00:00:07\n"
          ]
        },
        {
          "output_type": "stream",
          "name": "stdout",
          "text": [
            "Finished Epoch 12 || Run Time:    3.7 | Load Time:    3.9 || F1:  97.74 | Prec:  98.18 | Rec:  97.30 || Ex/s: 326.21\n",
            "\n",
            "---------------------\n",
            "\n",
            "===>  TRAIN Epoch 13\n"
          ]
        },
        {
          "output_type": "stream",
          "name": "stderr",
          "text": [
            "0% [██████████████████████████████] 100% | ETA: 00:00:00\n",
            "Total time elapsed: 00:00:30\n"
          ]
        },
        {
          "output_type": "stream",
          "name": "stdout",
          "text": [
            "Finished Epoch 13 || Run Time:   18.1 | Load Time:   12.3 || F1:  99.33 | Prec:  98.67 | Rec: 100.00 || Ex/s: 244.02\n",
            "\n",
            "===>  EVAL Epoch 13\n"
          ]
        },
        {
          "output_type": "stream",
          "name": "stderr",
          "text": [
            "0% [███████████████] 100% | ETA: 00:00:00\n",
            "Total time elapsed: 00:00:06\n"
          ]
        },
        {
          "output_type": "stream",
          "name": "stdout",
          "text": [
            "Finished Epoch 13 || Run Time:    3.4 | Load Time:    3.8 || F1:  98.08 | Prec:  98.19 | Rec:  97.97 || Ex/s: 344.89\n",
            "\n",
            "---------------------\n",
            "\n",
            "===>  TRAIN Epoch 14\n"
          ]
        },
        {
          "output_type": "stream",
          "name": "stderr",
          "text": [
            "0% [██████████████████████████████] 100% | ETA: 00:00:00\n",
            "Total time elapsed: 00:00:30\n"
          ]
        },
        {
          "output_type": "stream",
          "name": "stdout",
          "text": [
            "Finished Epoch 14 || Run Time:   18.6 | Load Time:   12.5 || F1:  99.33 | Prec:  98.67 | Rec: 100.00 || Ex/s: 238.70\n",
            "\n",
            "===>  EVAL Epoch 14\n"
          ]
        },
        {
          "output_type": "stream",
          "name": "stderr",
          "text": [
            "0% [███████████████] 100% | ETA: 00:00:00\n",
            "Total time elapsed: 00:00:07\n"
          ]
        },
        {
          "output_type": "stream",
          "name": "stdout",
          "text": [
            "Finished Epoch 14 || Run Time:    3.6 | Load Time:    3.9 || F1:  98.20 | Prec:  98.20 | Rec:  98.20 || Ex/s: 331.63\n",
            "\n",
            "---------------------\n",
            "\n",
            "===>  TRAIN Epoch 15\n"
          ]
        },
        {
          "output_type": "stream",
          "name": "stderr",
          "text": [
            "0% [██████████████████████████████] 100% | ETA: 00:00:00\n",
            "Total time elapsed: 00:00:29\n"
          ]
        },
        {
          "output_type": "stream",
          "name": "stdout",
          "text": [
            "Finished Epoch 15 || Run Time:   18.0 | Load Time:   12.2 || F1:  99.33 | Prec:  98.67 | Rec: 100.00 || Ex/s: 245.07\n",
            "\n",
            "===>  EVAL Epoch 15\n"
          ]
        },
        {
          "output_type": "stream",
          "name": "stderr",
          "text": [
            "0% [███████████████] 100% | ETA: 00:00:00\n",
            "Total time elapsed: 00:00:07\n"
          ]
        },
        {
          "output_type": "stream",
          "name": "stdout",
          "text": [
            "Finished Epoch 15 || Run Time:    3.5 | Load Time:    3.8 || F1:  98.20 | Prec:  98.20 | Rec:  98.20 || Ex/s: 339.31\n",
            "\n",
            "---------------------\n",
            "\n",
            "Loading best model...\n",
            "Training done.\n"
          ]
        },
        {
          "output_type": "execute_result",
          "data": {
            "text/plain": [
              "tensor(98.3278, device='cuda:0')"
            ]
          },
          "metadata": {},
          "execution_count": 13
        }
      ],
      "source": [
        "model.run_train(\n",
        "    train,\n",
        "    validation,\n",
        "    epochs=15,\n",
        "    batch_size=32,\n",
        "    best_save_path='attention_model.pth',\n",
        "    pos_neg_ratio=3)"
      ]
    },
    {
      "cell_type": "code",
      "execution_count": 14,
      "metadata": {
        "id": "3B2XhW6B75CG",
        "colab": {
          "base_uri": "https://localhost:8080/"
        },
        "outputId": "3bc37e4c-6091-4e8d-d3b3-d48e156604a5"
      },
      "outputs": [
        {
          "output_type": "stream",
          "name": "stdout",
          "text": [
            "===>  EVAL Epoch 4\n"
          ]
        },
        {
          "output_type": "stream",
          "name": "stderr",
          "text": [
            "/usr/local/lib/python3.7/dist-packages/torch/nn/modules/module.py:974: UserWarning: Using a non-full backward hook when the forward contains multiple autograd Nodes is deprecated and will be removed in future versions. This hook will be missing some grad_input. Please use register_full_backward_hook to get the documented behavior.\n",
            "  warnings.warn(\"Using a non-full backward hook when the forward contains multiple autograd Nodes \"\n",
            "/usr/local/lib/python3.7/dist-packages/torch/nn/modules/module.py:949: UserWarning: Using non-full backward hooks on a Module that does not take as input a single Tensor or a tuple of Tensors is deprecated and will be removed in future versions. This hook will be missing some of the grad_input. Please use register_full_backward_hook to get the documented behavior.\n",
            "  warnings.warn(\"Using non-full backward hooks on a Module that does not take as input a \"\n",
            "/usr/local/lib/python3.7/dist-packages/torch/nn/modules/module.py:939: UserWarning: Using non-full backward hooks on a Module that does not return a single Tensor or a tuple of Tensors is deprecated and will be removed in future versions. This hook will be missing some of the grad_output. Please use register_full_backward_hook to get the documented behavior.\n",
            "  warnings.warn(\"Using non-full backward hooks on a Module that does not return a \"\n",
            "0% [███████████████] 100% | ETA: 00:00:00\n",
            "Total time elapsed: 00:00:07\n"
          ]
        },
        {
          "output_type": "stream",
          "name": "stdout",
          "text": [
            "Finished Epoch 4 || Run Time:    3.5 | Load Time:    3.8 || F1:  98.00 | Prec:  96.92 | Rec:  99.10 || Ex/s: 339.56\n",
            "\n"
          ]
        },
        {
          "output_type": "execute_result",
          "data": {
            "text/plain": [
              "tensor(97.9955, device='cuda:0')"
            ]
          },
          "metadata": {},
          "execution_count": 14
        }
      ],
      "source": [
        "# Compute F1 on test set\n",
        "model.run_eval(test)"
      ]
    },
    {
      "cell_type": "markdown",
      "metadata": {
        "id": "tkJLs_1s75CH"
      },
      "source": [
        "##### DBLP-GoogleScholar"
      ]
    },
    {
      "cell_type": "code",
      "execution_count": 15,
      "metadata": {
        "id": "uEwXVgX275CH"
      },
      "outputs": [],
      "source": [
        "train, validation, test = dm.data.process(\n",
        "    path='/content/IC/datasesErros/FMedium_50_1_2/Structured/DBLP-GoogleScholar/',\n",
        "    train='joined_train.csv',\n",
        "    validation='joined_valid.csv',\n",
        "    test='joined_test.csv')"
      ]
    },
    {
      "cell_type": "code",
      "execution_count": 16,
      "metadata": {
        "id": "yYE_vLX575CH"
      },
      "outputs": [],
      "source": [
        "model = dm.MatchingModel(attr_summarizer='attention')"
      ]
    },
    {
      "cell_type": "code",
      "execution_count": 17,
      "metadata": {
        "id": "P-eJnIJW75CI",
        "colab": {
          "base_uri": "https://localhost:8080/"
        },
        "outputId": "72e71c7b-c080-4c76-d1c7-5ccc55e99da6"
      },
      "outputs": [
        {
          "output_type": "stream",
          "name": "stdout",
          "text": [
            "* Number of trainable parameters: 4332002\n",
            "===>  TRAIN Epoch 1\n"
          ]
        },
        {
          "output_type": "stream",
          "name": "stderr",
          "text": [
            "/usr/local/lib/python3.7/dist-packages/torch/nn/modules/module.py:974: UserWarning: Using a non-full backward hook when the forward contains multiple autograd Nodes is deprecated and will be removed in future versions. This hook will be missing some grad_input. Please use register_full_backward_hook to get the documented behavior.\n",
            "  warnings.warn(\"Using a non-full backward hook when the forward contains multiple autograd Nodes \"\n",
            "/usr/local/lib/python3.7/dist-packages/torch/nn/modules/module.py:949: UserWarning: Using non-full backward hooks on a Module that does not take as input a single Tensor or a tuple of Tensors is deprecated and will be removed in future versions. This hook will be missing some of the grad_input. Please use register_full_backward_hook to get the documented behavior.\n",
            "  warnings.warn(\"Using non-full backward hooks on a Module that does not take as input a \"\n",
            "/usr/local/lib/python3.7/dist-packages/torch/nn/modules/module.py:939: UserWarning: Using non-full backward hooks on a Module that does not return a single Tensor or a tuple of Tensors is deprecated and will be removed in future versions. This hook will be missing some of the grad_output. Please use register_full_backward_hook to get the documented behavior.\n",
            "  warnings.warn(\"Using non-full backward hooks on a Module that does not return a \"\n",
            "/usr/local/lib/python3.7/dist-packages/torch/nn/functional.py:2742: UserWarning: reduction: 'mean' divides the total loss by both the batch size and the support size.'batchmean' divides only by the batch size, and aligns with the KL div math definition.'mean' will be changed to behave the same as 'batchmean' in the next major release.\n",
            "  \"reduction: 'mean' divides the total loss by both the batch size and the support size.\"\n",
            "0% [██████████████████████████████] 100% | ETA: 00:00:00\n",
            "Total time elapsed: 00:01:06\n"
          ]
        },
        {
          "output_type": "stream",
          "name": "stdout",
          "text": [
            "Finished Epoch 1 || Run Time:   41.4 | Load Time:   25.5 || F1:  80.33 | Prec:  72.94 | Rec:  89.37 || Ex/s: 257.47\n",
            "\n",
            "===>  EVAL Epoch 1\n"
          ]
        },
        {
          "output_type": "stream",
          "name": "stderr",
          "text": [
            "0% [██████████████████████████████] 100% | ETA: 00:00:00\n",
            "Total time elapsed: 00:00:18\n"
          ]
        },
        {
          "output_type": "stream",
          "name": "stdout",
          "text": [
            "Finished Epoch 1 || Run Time:    9.2 | Load Time:    8.9 || F1:  89.53 | Prec:  84.25 | Rec:  95.51 || Ex/s: 318.14\n",
            "\n",
            "* Best F1: tensor(89.5313, device='cuda:0')\n",
            "Saving best model...\n",
            "Done.\n",
            "---------------------\n",
            "\n",
            "===>  TRAIN Epoch 2\n"
          ]
        },
        {
          "output_type": "stream",
          "name": "stderr",
          "text": [
            "0% [██████████████████████████████] 100% | ETA: 00:00:00\n",
            "Total time elapsed: 00:01:06\n"
          ]
        },
        {
          "output_type": "stream",
          "name": "stdout",
          "text": [
            "Finished Epoch 2 || Run Time:   41.8 | Load Time:   25.5 || F1:  90.74 | Prec:  85.47 | Rec:  96.69 || Ex/s: 255.55\n",
            "\n",
            "===>  EVAL Epoch 2\n"
          ]
        },
        {
          "output_type": "stream",
          "name": "stderr",
          "text": [
            "0% [██████████████████████████████] 100% | ETA: 00:00:00\n",
            "Total time elapsed: 00:00:15\n"
          ]
        },
        {
          "output_type": "stream",
          "name": "stdout",
          "text": [
            "Finished Epoch 2 || Run Time:    7.9 | Load Time:    7.7 || F1:  87.13 | Prec:  79.20 | Rec:  96.82 || Ex/s: 367.87\n",
            "\n",
            "---------------------\n",
            "\n",
            "===>  TRAIN Epoch 3\n"
          ]
        },
        {
          "output_type": "stream",
          "name": "stderr",
          "text": [
            "0% [██████████████████████████████] 100% | ETA: 00:00:00\n",
            "Total time elapsed: 00:01:06\n"
          ]
        },
        {
          "output_type": "stream",
          "name": "stdout",
          "text": [
            "Finished Epoch 3 || Run Time:   41.5 | Load Time:   25.4 || F1:  89.99 | Prec:  84.76 | Rec:  95.92 || Ex/s: 257.33\n",
            "\n",
            "===>  EVAL Epoch 3\n"
          ]
        },
        {
          "output_type": "stream",
          "name": "stderr",
          "text": [
            "0% [██████████████████████████████] 100% | ETA: 00:00:00\n",
            "Total time elapsed: 00:00:15\n"
          ]
        },
        {
          "output_type": "stream",
          "name": "stdout",
          "text": [
            "Finished Epoch 3 || Run Time:    7.8 | Load Time:    7.6 || F1:  86.15 | Prec:  77.24 | Rec:  97.38 || Ex/s: 372.59\n",
            "\n",
            "---------------------\n",
            "\n",
            "===>  TRAIN Epoch 4\n"
          ]
        },
        {
          "output_type": "stream",
          "name": "stderr",
          "text": [
            "0% [██████████████████████████████] 100% | ETA: 00:00:00\n",
            "Total time elapsed: 00:01:05\n"
          ]
        },
        {
          "output_type": "stream",
          "name": "stdout",
          "text": [
            "Finished Epoch 4 || Run Time:   41.0 | Load Time:   25.2 || F1:  90.73 | Prec:  85.78 | Rec:  96.29 || Ex/s: 260.25\n",
            "\n",
            "===>  EVAL Epoch 4\n"
          ]
        },
        {
          "output_type": "stream",
          "name": "stderr",
          "text": [
            "0% [██████████████████████████████] 100% | ETA: 00:00:00\n",
            "Total time elapsed: 00:00:16\n"
          ]
        },
        {
          "output_type": "stream",
          "name": "stdout",
          "text": [
            "Finished Epoch 4 || Run Time:    8.1 | Load Time:    7.9 || F1:  88.27 | Prec:  81.18 | Rec:  96.73 || Ex/s: 357.39\n",
            "\n",
            "---------------------\n",
            "\n",
            "===>  TRAIN Epoch 5\n"
          ]
        },
        {
          "output_type": "stream",
          "name": "stderr",
          "text": [
            "0% [██████████████████████████████] 100% | ETA: 00:00:00\n",
            "Total time elapsed: 00:01:05\n"
          ]
        },
        {
          "output_type": "stream",
          "name": "stdout",
          "text": [
            "Finished Epoch 5 || Run Time:   41.0 | Load Time:   25.2 || F1:  93.49 | Prec:  89.67 | Rec:  97.66 || Ex/s: 260.23\n",
            "\n",
            "===>  EVAL Epoch 5\n"
          ]
        },
        {
          "output_type": "stream",
          "name": "stderr",
          "text": [
            "0% [██████████████████████████████] 100% | ETA: 00:00:00\n",
            "Total time elapsed: 00:00:15\n"
          ]
        },
        {
          "output_type": "stream",
          "name": "stdout",
          "text": [
            "Finished Epoch 5 || Run Time:    8.1 | Load Time:    7.8 || F1:  88.76 | Prec:  82.28 | Rec:  96.36 || Ex/s: 360.48\n",
            "\n",
            "---------------------\n",
            "\n",
            "===>  TRAIN Epoch 6\n"
          ]
        },
        {
          "output_type": "stream",
          "name": "stderr",
          "text": [
            "0% [██████████████████████████████] 100% | ETA: 00:00:00\n",
            "Total time elapsed: 00:01:05\n"
          ]
        },
        {
          "output_type": "stream",
          "name": "stdout",
          "text": [
            "Finished Epoch 6 || Run Time:   41.0 | Load Time:   25.3 || F1:  94.73 | Prec:  91.56 | Rec:  98.13 || Ex/s: 259.70\n",
            "\n",
            "===>  EVAL Epoch 6\n"
          ]
        },
        {
          "output_type": "stream",
          "name": "stderr",
          "text": [
            "0% [██████████████████████████████] 100% | ETA: 00:00:00\n",
            "Total time elapsed: 00:00:15\n"
          ]
        },
        {
          "output_type": "stream",
          "name": "stdout",
          "text": [
            "Finished Epoch 6 || Run Time:    7.9 | Load Time:    7.6 || F1:  89.46 | Prec:  84.35 | Rec:  95.23 || Ex/s: 369.64\n",
            "\n",
            "---------------------\n",
            "\n",
            "===>  TRAIN Epoch 7\n"
          ]
        },
        {
          "output_type": "stream",
          "name": "stderr",
          "text": [
            "0% [██████████████████████████████] 100% | ETA: 00:00:00\n",
            "Total time elapsed: 00:01:05\n"
          ]
        },
        {
          "output_type": "stream",
          "name": "stdout",
          "text": [
            "Finished Epoch 7 || Run Time:   41.1 | Load Time:   25.3 || F1:  96.00 | Prec:  93.29 | Rec:  98.88 || Ex/s: 259.33\n",
            "\n",
            "===>  EVAL Epoch 7\n"
          ]
        },
        {
          "output_type": "stream",
          "name": "stderr",
          "text": [
            "0% [██████████████████████████████] 100% | ETA: 00:00:00\n",
            "Total time elapsed: 00:00:15\n"
          ]
        },
        {
          "output_type": "stream",
          "name": "stdout",
          "text": [
            "Finished Epoch 7 || Run Time:    7.9 | Load Time:    7.7 || F1:  89.81 | Prec:  85.35 | Rec:  94.77 || Ex/s: 368.48\n",
            "\n",
            "* Best F1: tensor(89.8140, device='cuda:0')\n",
            "Saving best model...\n",
            "Done.\n",
            "---------------------\n",
            "\n",
            "===>  TRAIN Epoch 8\n"
          ]
        },
        {
          "output_type": "stream",
          "name": "stderr",
          "text": [
            "0% [██████████████████████████████] 100% | ETA: 00:00:00\n",
            "Total time elapsed: 00:01:05\n"
          ]
        },
        {
          "output_type": "stream",
          "name": "stdout",
          "text": [
            "Finished Epoch 8 || Run Time:   41.0 | Load Time:   25.2 || F1:  96.44 | Prec:  94.07 | Rec:  98.94 || Ex/s: 260.10\n",
            "\n",
            "===>  EVAL Epoch 8\n"
          ]
        },
        {
          "output_type": "stream",
          "name": "stderr",
          "text": [
            "0% [██████████████████████████████] 100% | ETA: 00:00:00\n",
            "Total time elapsed: 00:00:15\n"
          ]
        },
        {
          "output_type": "stream",
          "name": "stdout",
          "text": [
            "Finished Epoch 8 || Run Time:    7.6 | Load Time:    7.5 || F1:  90.01 | Prec:  85.40 | Rec:  95.14 || Ex/s: 378.05\n",
            "\n",
            "* Best F1: tensor(90.0088, device='cuda:0')\n",
            "Saving best model...\n",
            "Done.\n",
            "---------------------\n",
            "\n",
            "===>  TRAIN Epoch 9\n"
          ]
        },
        {
          "output_type": "stream",
          "name": "stderr",
          "text": [
            "0% [██████████████████████████████] 100% | ETA: 00:00:00\n",
            "Total time elapsed: 00:01:06\n"
          ]
        },
        {
          "output_type": "stream",
          "name": "stdout",
          "text": [
            "Finished Epoch 9 || Run Time:   41.4 | Load Time:   25.3 || F1:  97.28 | Prec:  95.49 | Rec:  99.13 || Ex/s: 257.97\n",
            "\n",
            "===>  EVAL Epoch 9\n"
          ]
        },
        {
          "output_type": "stream",
          "name": "stderr",
          "text": [
            "0% [██████████████████████████████] 100% | ETA: 00:00:00\n",
            "Total time elapsed: 00:00:15\n"
          ]
        },
        {
          "output_type": "stream",
          "name": "stdout",
          "text": [
            "Finished Epoch 9 || Run Time:    7.9 | Load Time:    7.6 || F1:  90.29 | Prec:  87.00 | Rec:  93.83 || Ex/s: 369.67\n",
            "\n",
            "* Best F1: tensor(90.2878, device='cuda:0')\n",
            "Saving best model...\n",
            "Done.\n",
            "---------------------\n",
            "\n",
            "===>  TRAIN Epoch 10\n"
          ]
        },
        {
          "output_type": "stream",
          "name": "stderr",
          "text": [
            "0% [██████████████████████████████] 100% | ETA: 00:00:00\n",
            "Total time elapsed: 00:01:05\n"
          ]
        },
        {
          "output_type": "stream",
          "name": "stdout",
          "text": [
            "Finished Epoch 10 || Run Time:   41.0 | Load Time:   25.1 || F1:  98.11 | Prec:  96.90 | Rec:  99.35 || Ex/s: 260.44\n",
            "\n",
            "===>  EVAL Epoch 10\n"
          ]
        },
        {
          "output_type": "stream",
          "name": "stderr",
          "text": [
            "0% [██████████████████████████████] 100% | ETA: 00:00:00\n",
            "Total time elapsed: 00:00:15\n"
          ]
        },
        {
          "output_type": "stream",
          "name": "stdout",
          "text": [
            "Finished Epoch 10 || Run Time:    8.0 | Load Time:    7.8 || F1:  90.18 | Prec:  88.56 | Rec:  91.87 || Ex/s: 363.99\n",
            "\n",
            "---------------------\n",
            "\n",
            "===>  TRAIN Epoch 11\n"
          ]
        },
        {
          "output_type": "stream",
          "name": "stderr",
          "text": [
            "0% [██████████████████████████████] 100% | ETA: 00:00:00\n",
            "Total time elapsed: 00:01:05\n"
          ]
        },
        {
          "output_type": "stream",
          "name": "stdout",
          "text": [
            "Finished Epoch 11 || Run Time:   40.8 | Load Time:   25.1 || F1:  98.55 | Prec:  97.58 | Rec:  99.53 || Ex/s: 261.07\n",
            "\n",
            "===>  EVAL Epoch 11\n"
          ]
        },
        {
          "output_type": "stream",
          "name": "stderr",
          "text": [
            "0% [██████████████████████████████] 100% | ETA: 00:00:00\n",
            "Total time elapsed: 00:00:15\n"
          ]
        },
        {
          "output_type": "stream",
          "name": "stdout",
          "text": [
            "Finished Epoch 11 || Run Time:    8.0 | Load Time:    7.8 || F1:  90.29 | Prec:  89.38 | Rec:  91.21 || Ex/s: 364.77\n",
            "\n",
            "---------------------\n",
            "\n",
            "===>  TRAIN Epoch 12\n"
          ]
        },
        {
          "output_type": "stream",
          "name": "stderr",
          "text": [
            "0% [██████████████████████████████] 100% | ETA: 00:00:00\n",
            "Total time elapsed: 00:01:06\n"
          ]
        },
        {
          "output_type": "stream",
          "name": "stdout",
          "text": [
            "Finished Epoch 12 || Run Time:   41.3 | Load Time:   25.4 || F1:  98.72 | Prec:  97.91 | Rec:  99.53 || Ex/s: 258.38\n",
            "\n",
            "===>  EVAL Epoch 12\n"
          ]
        },
        {
          "output_type": "stream",
          "name": "stderr",
          "text": [
            "0% [██████████████████████████████] 100% | ETA: 00:00:00\n",
            "Total time elapsed: 00:00:15\n"
          ]
        },
        {
          "output_type": "stream",
          "name": "stdout",
          "text": [
            "Finished Epoch 12 || Run Time:    7.7 | Load Time:    7.6 || F1:  89.81 | Prec:  89.43 | Rec:  90.19 || Ex/s: 374.06\n",
            "\n",
            "---------------------\n",
            "\n",
            "===>  TRAIN Epoch 13\n"
          ]
        },
        {
          "output_type": "stream",
          "name": "stderr",
          "text": [
            "0% [██████████████████████████████] 100% | ETA: 00:00:00\n",
            "Total time elapsed: 00:01:06\n"
          ]
        },
        {
          "output_type": "stream",
          "name": "stdout",
          "text": [
            "Finished Epoch 13 || Run Time:   41.6 | Load Time:   25.5 || F1:  98.98 | Prec:  98.37 | Rec:  99.59 || Ex/s: 256.47\n",
            "\n",
            "===>  EVAL Epoch 13\n"
          ]
        },
        {
          "output_type": "stream",
          "name": "stderr",
          "text": [
            "0% [██████████████████████████████] 100% | ETA: 00:00:00\n",
            "Total time elapsed: 00:00:15\n"
          ]
        },
        {
          "output_type": "stream",
          "name": "stdout",
          "text": [
            "Finished Epoch 13 || Run Time:    7.7 | Load Time:    7.6 || F1:  89.80 | Prec:  89.51 | Rec:  90.09 || Ex/s: 374.78\n",
            "\n",
            "---------------------\n",
            "\n",
            "===>  TRAIN Epoch 14\n"
          ]
        },
        {
          "output_type": "stream",
          "name": "stderr",
          "text": [
            "0% [██████████████████████████████] 100% | ETA: 00:00:00\n",
            "Total time elapsed: 00:01:06\n"
          ]
        },
        {
          "output_type": "stream",
          "name": "stdout",
          "text": [
            "Finished Epoch 14 || Run Time:   41.4 | Load Time:   25.5 || F1:  99.12 | Prec:  98.64 | Rec:  99.59 || Ex/s: 257.60\n",
            "\n",
            "===>  EVAL Epoch 14\n"
          ]
        },
        {
          "output_type": "stream",
          "name": "stderr",
          "text": [
            "0% [██████████████████████████████] 100% | ETA: 00:00:00\n",
            "Total time elapsed: 00:00:15\n"
          ]
        },
        {
          "output_type": "stream",
          "name": "stdout",
          "text": [
            "Finished Epoch 14 || Run Time:    7.8 | Load Time:    7.7 || F1:  89.91 | Prec:  89.45 | Rec:  90.37 || Ex/s: 370.94\n",
            "\n",
            "---------------------\n",
            "\n",
            "===>  TRAIN Epoch 15\n"
          ]
        },
        {
          "output_type": "stream",
          "name": "stderr",
          "text": [
            "0% [██████████████████████████████] 100% | ETA: 00:00:00\n",
            "Total time elapsed: 00:01:06\n"
          ]
        },
        {
          "output_type": "stream",
          "name": "stdout",
          "text": [
            "Finished Epoch 15 || Run Time:   41.2 | Load Time:   25.3 || F1:  99.21 | Prec:  98.82 | Rec:  99.59 || Ex/s: 258.84\n",
            "\n",
            "===>  EVAL Epoch 15\n"
          ]
        },
        {
          "output_type": "stream",
          "name": "stderr",
          "text": [
            "0% [██████████████████████████████] 100% | ETA: 00:00:00\n",
            "Total time elapsed: 00:00:15\n"
          ]
        },
        {
          "output_type": "stream",
          "name": "stdout",
          "text": [
            "Finished Epoch 15 || Run Time:    7.9 | Load Time:    7.7 || F1:  89.99 | Prec:  89.69 | Rec:  90.28 || Ex/s: 369.13\n",
            "\n",
            "---------------------\n",
            "\n",
            "Loading best model...\n",
            "Training done.\n"
          ]
        },
        {
          "output_type": "execute_result",
          "data": {
            "text/plain": [
              "tensor(90.2878, device='cuda:0')"
            ]
          },
          "metadata": {},
          "execution_count": 17
        }
      ],
      "source": [
        "model.run_train(\n",
        "    train,\n",
        "    validation,\n",
        "    epochs=15,\n",
        "    batch_size=32,\n",
        "    best_save_path='attention_model.pth',\n",
        "    pos_neg_ratio=3)"
      ]
    },
    {
      "cell_type": "code",
      "execution_count": 18,
      "metadata": {
        "id": "n03XqdT275CI",
        "colab": {
          "base_uri": "https://localhost:8080/"
        },
        "outputId": "f9f6f02f-ae67-4117-b7af-841ec077e1e4"
      },
      "outputs": [
        {
          "output_type": "stream",
          "name": "stdout",
          "text": [
            "===>  EVAL Epoch 9\n"
          ]
        },
        {
          "output_type": "stream",
          "name": "stderr",
          "text": [
            "/usr/local/lib/python3.7/dist-packages/torch/nn/modules/module.py:974: UserWarning: Using a non-full backward hook when the forward contains multiple autograd Nodes is deprecated and will be removed in future versions. This hook will be missing some grad_input. Please use register_full_backward_hook to get the documented behavior.\n",
            "  warnings.warn(\"Using a non-full backward hook when the forward contains multiple autograd Nodes \"\n",
            "/usr/local/lib/python3.7/dist-packages/torch/nn/modules/module.py:949: UserWarning: Using non-full backward hooks on a Module that does not take as input a single Tensor or a tuple of Tensors is deprecated and will be removed in future versions. This hook will be missing some of the grad_input. Please use register_full_backward_hook to get the documented behavior.\n",
            "  warnings.warn(\"Using non-full backward hooks on a Module that does not take as input a \"\n",
            "/usr/local/lib/python3.7/dist-packages/torch/nn/modules/module.py:939: UserWarning: Using non-full backward hooks on a Module that does not return a single Tensor or a tuple of Tensors is deprecated and will be removed in future versions. This hook will be missing some of the grad_output. Please use register_full_backward_hook to get the documented behavior.\n",
            "  warnings.warn(\"Using non-full backward hooks on a Module that does not return a \"\n",
            "0% [██████████████████████████████] 100% | ETA: 00:00:00\n",
            "Total time elapsed: 00:00:16\n"
          ]
        },
        {
          "output_type": "stream",
          "name": "stdout",
          "text": [
            "Finished Epoch 9 || Run Time:    8.3 | Load Time:    8.0 || F1:  90.36 | Prec:  87.22 | Rec:  93.74 || Ex/s: 351.32\n",
            "\n"
          ]
        },
        {
          "output_type": "execute_result",
          "data": {
            "text/plain": [
              "tensor(90.3604, device='cuda:0')"
            ]
          },
          "metadata": {},
          "execution_count": 18
        }
      ],
      "source": [
        "# Compute F1 on test set\n",
        "model.run_eval(test)"
      ]
    },
    {
      "cell_type": "markdown",
      "metadata": {
        "id": "FkGeNHEf75CI"
      },
      "source": [
        "##### Walmart-Amazon"
      ]
    },
    {
      "cell_type": "code",
      "execution_count": 19,
      "metadata": {
        "id": "nDZpWkrG75CJ"
      },
      "outputs": [],
      "source": [
        "train, validation, test = dm.data.process(\n",
        "    path='/content/IC/datasesErros/FMedium_50_1_2/Structured/Walmart-Amazon/',\n",
        "    train='joined_train.csv',\n",
        "    validation='joined_valid.csv',\n",
        "    test='joined_test.csv')"
      ]
    },
    {
      "cell_type": "code",
      "execution_count": 20,
      "metadata": {
        "id": "tQ627lHz75CJ"
      },
      "outputs": [],
      "source": [
        "model = dm.MatchingModel(attr_summarizer='attention')"
      ]
    },
    {
      "cell_type": "code",
      "execution_count": 21,
      "metadata": {
        "id": "D1QS8Zs975CJ",
        "colab": {
          "base_uri": "https://localhost:8080/"
        },
        "outputId": "34948db8-9c46-4d6c-a99e-8490e0db0c79"
      },
      "outputs": [
        {
          "output_type": "stream",
          "name": "stdout",
          "text": [
            "* Number of trainable parameters: 5234402\n",
            "===>  TRAIN Epoch 1\n"
          ]
        },
        {
          "output_type": "stream",
          "name": "stderr",
          "text": [
            "/usr/local/lib/python3.7/dist-packages/torch/nn/modules/module.py:974: UserWarning: Using a non-full backward hook when the forward contains multiple autograd Nodes is deprecated and will be removed in future versions. This hook will be missing some grad_input. Please use register_full_backward_hook to get the documented behavior.\n",
            "  warnings.warn(\"Using a non-full backward hook when the forward contains multiple autograd Nodes \"\n",
            "/usr/local/lib/python3.7/dist-packages/torch/nn/modules/module.py:949: UserWarning: Using non-full backward hooks on a Module that does not take as input a single Tensor or a tuple of Tensors is deprecated and will be removed in future versions. This hook will be missing some of the grad_input. Please use register_full_backward_hook to get the documented behavior.\n",
            "  warnings.warn(\"Using non-full backward hooks on a Module that does not take as input a \"\n",
            "/usr/local/lib/python3.7/dist-packages/torch/nn/modules/module.py:939: UserWarning: Using non-full backward hooks on a Module that does not return a single Tensor or a tuple of Tensors is deprecated and will be removed in future versions. This hook will be missing some of the grad_output. Please use register_full_backward_hook to get the documented behavior.\n",
            "  warnings.warn(\"Using non-full backward hooks on a Module that does not return a \"\n",
            "/usr/local/lib/python3.7/dist-packages/torch/nn/functional.py:2742: UserWarning: reduction: 'mean' divides the total loss by both the batch size and the support size.'batchmean' divides only by the batch size, and aligns with the KL div math definition.'mean' will be changed to behave the same as 'batchmean' in the next major release.\n",
            "  \"reduction: 'mean' divides the total loss by both the batch size and the support size.\"\n",
            "0% [██████████████████████████████] 100% | ETA: 00:00:00\n",
            "Total time elapsed: 00:00:24\n"
          ]
        },
        {
          "output_type": "stream",
          "name": "stdout",
          "text": [
            "Finished Epoch 1 || Run Time:   17.6 | Load Time:    6.9 || F1:  10.35 | Prec:  26.62 | Rec:   6.42 || Ex/s: 250.39\n",
            "\n",
            "===>  EVAL Epoch 1\n"
          ]
        },
        {
          "output_type": "stream",
          "name": "stderr",
          "text": [
            "0% [█████████████] 100% | ETA: 00:00:00\n",
            "Total time elapsed: 00:00:05\n"
          ]
        },
        {
          "output_type": "stream",
          "name": "stdout",
          "text": [
            "Finished Epoch 1 || Run Time:    3.5 | Load Time:    2.2 || F1:  41.43 | Prec:  32.54 | Rec:  56.99 || Ex/s: 356.47\n",
            "\n",
            "* Best F1: tensor(41.4313, device='cuda:0')\n",
            "Saving best model...\n",
            "Done.\n",
            "---------------------\n",
            "\n",
            "===>  TRAIN Epoch 2\n"
          ]
        },
        {
          "output_type": "stream",
          "name": "stderr",
          "text": [
            "0% [██████████████████████████████] 100% | ETA: 00:00:00\n",
            "Total time elapsed: 00:00:24\n"
          ]
        },
        {
          "output_type": "stream",
          "name": "stdout",
          "text": [
            "Finished Epoch 2 || Run Time:   17.6 | Load Time:    6.8 || F1:  47.86 | Prec:  46.34 | Rec:  49.48 || Ex/s: 250.89\n",
            "\n",
            "===>  EVAL Epoch 2\n"
          ]
        },
        {
          "output_type": "stream",
          "name": "stderr",
          "text": [
            "0% [█████████████] 100% | ETA: 00:00:00\n",
            "Total time elapsed: 00:00:06\n"
          ]
        },
        {
          "output_type": "stream",
          "name": "stdout",
          "text": [
            "Finished Epoch 2 || Run Time:    3.9 | Load Time:    2.5 || F1:  51.50 | Prec:  49.76 | Rec:  53.37 || Ex/s: 323.79\n",
            "\n",
            "* Best F1: tensor(51.5000, device='cuda:0')\n",
            "Saving best model...\n",
            "Done.\n",
            "---------------------\n",
            "\n",
            "===>  TRAIN Epoch 3\n"
          ]
        },
        {
          "output_type": "stream",
          "name": "stderr",
          "text": [
            "0% [██████████████████████████████] 100% | ETA: 00:00:00\n",
            "Total time elapsed: 00:00:24\n"
          ]
        },
        {
          "output_type": "stream",
          "name": "stdout",
          "text": [
            "Finished Epoch 3 || Run Time:   18.0 | Load Time:    7.0 || F1:  61.85 | Prec:  56.45 | Rec:  68.40 || Ex/s: 245.61\n",
            "\n",
            "===>  EVAL Epoch 3\n"
          ]
        },
        {
          "output_type": "stream",
          "name": "stderr",
          "text": [
            "0% [█████████████] 100% | ETA: 00:00:00\n",
            "Total time elapsed: 00:00:05\n"
          ]
        },
        {
          "output_type": "stream",
          "name": "stdout",
          "text": [
            "Finished Epoch 3 || Run Time:    3.6 | Load Time:    2.2 || F1:  52.49 | Prec:  46.59 | Rec:  60.10 || Ex/s: 353.62\n",
            "\n",
            "* Best F1: tensor(52.4887, device='cuda:0')\n",
            "Saving best model...\n",
            "Done.\n",
            "---------------------\n",
            "\n",
            "===>  TRAIN Epoch 4\n"
          ]
        },
        {
          "output_type": "stream",
          "name": "stderr",
          "text": [
            "0% [██████████████████████████████] 100% | ETA: 00:00:00\n",
            "Total time elapsed: 00:00:24\n"
          ]
        },
        {
          "output_type": "stream",
          "name": "stdout",
          "text": [
            "Finished Epoch 4 || Run Time:   17.6 | Load Time:    6.8 || F1:  73.54 | Prec:  66.81 | Rec:  81.77 || Ex/s: 251.66\n",
            "\n",
            "===>  EVAL Epoch 4\n"
          ]
        },
        {
          "output_type": "stream",
          "name": "stderr",
          "text": [
            "0% [█████████████] 100% | ETA: 00:00:00\n",
            "Total time elapsed: 00:00:05\n"
          ]
        },
        {
          "output_type": "stream",
          "name": "stdout",
          "text": [
            "Finished Epoch 4 || Run Time:    3.4 | Load Time:    2.2 || F1:  51.06 | Prec:  46.96 | Rec:  55.96 || Ex/s: 368.08\n",
            "\n",
            "---------------------\n",
            "\n",
            "===>  TRAIN Epoch 5\n"
          ]
        },
        {
          "output_type": "stream",
          "name": "stderr",
          "text": [
            "0% [██████████████████████████████] 100% | ETA: 00:00:00\n",
            "Total time elapsed: 00:00:24\n"
          ]
        },
        {
          "output_type": "stream",
          "name": "stdout",
          "text": [
            "Finished Epoch 5 || Run Time:   17.7 | Load Time:    6.9 || F1:  84.73 | Prec:  79.97 | Rec:  90.10 || Ex/s: 250.36\n",
            "\n",
            "===>  EVAL Epoch 5\n"
          ]
        },
        {
          "output_type": "stream",
          "name": "stderr",
          "text": [
            "0% [█████████████] 100% | ETA: 00:00:00\n",
            "Total time elapsed: 00:00:05\n"
          ]
        },
        {
          "output_type": "stream",
          "name": "stdout",
          "text": [
            "Finished Epoch 5 || Run Time:    3.5 | Load Time:    2.2 || F1:  52.97 | Prec:  50.71 | Rec:  55.44 || Ex/s: 357.34\n",
            "\n",
            "* Best F1: tensor(52.9703, device='cuda:0')\n",
            "Saving best model...\n",
            "Done.\n",
            "---------------------\n",
            "\n",
            "===>  TRAIN Epoch 6\n"
          ]
        },
        {
          "output_type": "stream",
          "name": "stderr",
          "text": [
            "0% [██████████████████████████████] 100% | ETA: 00:00:00\n",
            "Total time elapsed: 00:00:25\n"
          ]
        },
        {
          "output_type": "stream",
          "name": "stdout",
          "text": [
            "Finished Epoch 6 || Run Time:   18.6 | Load Time:    7.2 || F1:  89.08 | Prec:  86.32 | Rec:  92.01 || Ex/s: 238.84\n",
            "\n",
            "===>  EVAL Epoch 6\n"
          ]
        },
        {
          "output_type": "stream",
          "name": "stderr",
          "text": [
            "0% [█████████████] 100% | ETA: 00:00:00\n",
            "Total time elapsed: 00:00:05\n"
          ]
        },
        {
          "output_type": "stream",
          "name": "stdout",
          "text": [
            "Finished Epoch 6 || Run Time:    3.5 | Load Time:    2.2 || F1:  52.85 | Prec:  52.85 | Rec:  52.85 || Ex/s: 360.93\n",
            "\n",
            "---------------------\n",
            "\n",
            "===>  TRAIN Epoch 7\n"
          ]
        },
        {
          "output_type": "stream",
          "name": "stderr",
          "text": [
            "0% [██████████████████████████████] 100% | ETA: 00:00:00\n",
            "Total time elapsed: 00:00:24\n"
          ]
        },
        {
          "output_type": "stream",
          "name": "stdout",
          "text": [
            "Finished Epoch 7 || Run Time:   17.6 | Load Time:    6.8 || F1:  91.86 | Prec:  88.94 | Rec:  94.97 || Ex/s: 251.05\n",
            "\n",
            "===>  EVAL Epoch 7\n"
          ]
        },
        {
          "output_type": "stream",
          "name": "stderr",
          "text": [
            "0% [█████████████] 100% | ETA: 00:00:00\n",
            "Total time elapsed: 00:00:05\n"
          ]
        },
        {
          "output_type": "stream",
          "name": "stdout",
          "text": [
            "Finished Epoch 7 || Run Time:    3.4 | Load Time:    2.2 || F1:  51.76 | Prec:  50.24 | Rec:  53.37 || Ex/s: 371.94\n",
            "\n",
            "---------------------\n",
            "\n",
            "===>  TRAIN Epoch 8\n"
          ]
        },
        {
          "output_type": "stream",
          "name": "stderr",
          "text": [
            "0% [██████████████████████████████] 100% | ETA: 00:00:00\n",
            "Total time elapsed: 00:00:24\n"
          ]
        },
        {
          "output_type": "stream",
          "name": "stdout",
          "text": [
            "Finished Epoch 8 || Run Time:   17.6 | Load Time:    6.9 || F1:  93.36 | Prec:  90.54 | Rec:  96.35 || Ex/s: 250.74\n",
            "\n",
            "===>  EVAL Epoch 8\n"
          ]
        },
        {
          "output_type": "stream",
          "name": "stderr",
          "text": [
            "0% [█████████████] 100% | ETA: 00:00:00\n",
            "Total time elapsed: 00:00:05\n"
          ]
        },
        {
          "output_type": "stream",
          "name": "stdout",
          "text": [
            "Finished Epoch 8 || Run Time:    3.6 | Load Time:    2.2 || F1:  49.88 | Prec:  45.34 | Rec:  55.44 || Ex/s: 352.20\n",
            "\n",
            "---------------------\n",
            "\n",
            "===>  TRAIN Epoch 9\n"
          ]
        },
        {
          "output_type": "stream",
          "name": "stderr",
          "text": [
            "0% [██████████████████████████████] 100% | ETA: 00:00:00\n",
            "Total time elapsed: 00:00:24\n"
          ]
        },
        {
          "output_type": "stream",
          "name": "stdout",
          "text": [
            "Finished Epoch 9 || Run Time:   18.2 | Load Time:    7.0 || F1:  95.65 | Prec:  93.97 | Rec:  97.40 || Ex/s: 243.54\n",
            "\n",
            "===>  EVAL Epoch 9\n"
          ]
        },
        {
          "output_type": "stream",
          "name": "stderr",
          "text": [
            "0% [█████████████] 100% | ETA: 00:00:00\n",
            "Total time elapsed: 00:00:05\n"
          ]
        },
        {
          "output_type": "stream",
          "name": "stdout",
          "text": [
            "Finished Epoch 9 || Run Time:    3.5 | Load Time:    2.2 || F1:  51.16 | Prec:  51.03 | Rec:  51.30 || Ex/s: 359.99\n",
            "\n",
            "---------------------\n",
            "\n",
            "===>  TRAIN Epoch 10\n"
          ]
        },
        {
          "output_type": "stream",
          "name": "stderr",
          "text": [
            "0% [██████████████████████████████] 100% | ETA: 00:00:00\n",
            "Total time elapsed: 00:00:24\n"
          ]
        },
        {
          "output_type": "stream",
          "name": "stdout",
          "text": [
            "Finished Epoch 10 || Run Time:   17.8 | Load Time:    7.0 || F1:  96.58 | Prec:  95.12 | Rec:  98.09 || Ex/s: 248.27\n",
            "\n",
            "===>  EVAL Epoch 10\n"
          ]
        },
        {
          "output_type": "stream",
          "name": "stderr",
          "text": [
            "0% [█████████████] 100% | ETA: 00:00:00\n",
            "Total time elapsed: 00:00:05\n"
          ]
        },
        {
          "output_type": "stream",
          "name": "stdout",
          "text": [
            "Finished Epoch 10 || Run Time:    3.4 | Load Time:    2.1 || F1:  49.11 | Prec:  48.02 | Rec:  50.26 || Ex/s: 369.80\n",
            "\n",
            "---------------------\n",
            "\n",
            "===>  TRAIN Epoch 11\n"
          ]
        },
        {
          "output_type": "stream",
          "name": "stderr",
          "text": [
            "0% [██████████████████████████████] 100% | ETA: 00:00:00\n",
            "Total time elapsed: 00:00:24\n"
          ]
        },
        {
          "output_type": "stream",
          "name": "stdout",
          "text": [
            "Finished Epoch 11 || Run Time:   17.6 | Load Time:    6.9 || F1:  97.43 | Prec:  96.11 | Rec:  98.78 || Ex/s: 250.50\n",
            "\n",
            "===>  EVAL Epoch 11\n"
          ]
        },
        {
          "output_type": "stream",
          "name": "stderr",
          "text": [
            "0% [█████████████] 100% | ETA: 00:00:00\n",
            "Total time elapsed: 00:00:05\n"
          ]
        },
        {
          "output_type": "stream",
          "name": "stdout",
          "text": [
            "Finished Epoch 11 || Run Time:    3.3 | Load Time:    2.1 || F1:  49.46 | Prec:  51.40 | Rec:  47.67 || Ex/s: 377.18\n",
            "\n",
            "---------------------\n",
            "\n",
            "===>  TRAIN Epoch 12\n"
          ]
        },
        {
          "output_type": "stream",
          "name": "stderr",
          "text": [
            "0% [██████████████████████████████] 100% | ETA: 00:00:00\n",
            "Total time elapsed: 00:00:24\n"
          ]
        },
        {
          "output_type": "stream",
          "name": "stdout",
          "text": [
            "Finished Epoch 12 || Run Time:   18.0 | Load Time:    7.0 || F1:  97.51 | Prec:  96.28 | Rec:  98.78 || Ex/s: 245.25\n",
            "\n",
            "===>  EVAL Epoch 12\n"
          ]
        },
        {
          "output_type": "stream",
          "name": "stderr",
          "text": [
            "0% [█████████████] 100% | ETA: 00:00:00\n",
            "Total time elapsed: 00:00:05\n"
          ]
        },
        {
          "output_type": "stream",
          "name": "stdout",
          "text": [
            "Finished Epoch 12 || Run Time:    3.4 | Load Time:    2.2 || F1:  49.45 | Prec:  52.63 | Rec:  46.63 || Ex/s: 367.92\n",
            "\n",
            "---------------------\n",
            "\n",
            "===>  TRAIN Epoch 13\n"
          ]
        },
        {
          "output_type": "stream",
          "name": "stderr",
          "text": [
            "0% [██████████████████████████████] 100% | ETA: 00:00:00\n",
            "Total time elapsed: 00:00:23\n"
          ]
        },
        {
          "output_type": "stream",
          "name": "stdout",
          "text": [
            "Finished Epoch 13 || Run Time:   17.3 | Load Time:    6.8 || F1:  97.77 | Prec:  96.77 | Rec:  98.78 || Ex/s: 254.93\n",
            "\n",
            "===>  EVAL Epoch 13\n"
          ]
        },
        {
          "output_type": "stream",
          "name": "stderr",
          "text": [
            "0% [█████████████] 100% | ETA: 00:00:00\n",
            "Total time elapsed: 00:00:05\n"
          ]
        },
        {
          "output_type": "stream",
          "name": "stdout",
          "text": [
            "Finished Epoch 13 || Run Time:    3.6 | Load Time:    2.2 || F1:  49.58 | Prec:  53.61 | Rec:  46.11 || Ex/s: 351.55\n",
            "\n",
            "---------------------\n",
            "\n",
            "===>  TRAIN Epoch 14\n"
          ]
        },
        {
          "output_type": "stream",
          "name": "stderr",
          "text": [
            "0% [██████████████████████████████] 100% | ETA: 00:00:00\n",
            "Total time elapsed: 00:00:24\n"
          ]
        },
        {
          "output_type": "stream",
          "name": "stdout",
          "text": [
            "Finished Epoch 14 || Run Time:   17.9 | Load Time:    6.9 || F1:  98.02 | Prec:  97.10 | Rec:  98.96 || Ex/s: 247.78\n",
            "\n",
            "===>  EVAL Epoch 14\n"
          ]
        },
        {
          "output_type": "stream",
          "name": "stderr",
          "text": [
            "0% [█████████████] 100% | ETA: 00:00:00\n",
            "Total time elapsed: 00:00:05\n"
          ]
        },
        {
          "output_type": "stream",
          "name": "stdout",
          "text": [
            "Finished Epoch 14 || Run Time:    3.5 | Load Time:    2.2 || F1:  49.86 | Prec:  54.27 | Rec:  46.11 || Ex/s: 355.16\n",
            "\n",
            "---------------------\n",
            "\n",
            "===>  TRAIN Epoch 15\n"
          ]
        },
        {
          "output_type": "stream",
          "name": "stderr",
          "text": [
            "0% [██████████████████████████████] 100% | ETA: 00:00:00\n",
            "Total time elapsed: 00:00:23\n"
          ]
        },
        {
          "output_type": "stream",
          "name": "stdout",
          "text": [
            "Finished Epoch 15 || Run Time:   17.2 | Load Time:    6.8 || F1:  98.19 | Prec:  97.44 | Rec:  98.96 || Ex/s: 255.05\n",
            "\n",
            "===>  EVAL Epoch 15\n"
          ]
        },
        {
          "output_type": "stream",
          "name": "stderr",
          "text": [
            "0% [█████████████] 100% | ETA: 00:00:00\n",
            "Total time elapsed: 00:00:05\n"
          ]
        },
        {
          "output_type": "stream",
          "name": "stdout",
          "text": [
            "Finished Epoch 15 || Run Time:    3.6 | Load Time:    2.2 || F1:  49.86 | Prec:  53.57 | Rec:  46.63 || Ex/s: 348.95\n",
            "\n",
            "---------------------\n",
            "\n",
            "Loading best model...\n",
            "Training done.\n"
          ]
        },
        {
          "output_type": "execute_result",
          "data": {
            "text/plain": [
              "tensor(52.9703, device='cuda:0')"
            ]
          },
          "metadata": {},
          "execution_count": 21
        }
      ],
      "source": [
        "model.run_train(\n",
        "    train,\n",
        "    validation,\n",
        "    epochs=15,\n",
        "    batch_size=32,\n",
        "    best_save_path='attention_model.pth',\n",
        "    pos_neg_ratio=3)"
      ]
    },
    {
      "cell_type": "code",
      "execution_count": 22,
      "metadata": {
        "id": "s_h8u_uW75CK",
        "colab": {
          "base_uri": "https://localhost:8080/"
        },
        "outputId": "1502dcb1-c0be-4c49-fa2e-4fc5d287f7c3"
      },
      "outputs": [
        {
          "output_type": "stream",
          "name": "stdout",
          "text": [
            "===>  EVAL Epoch 5\n"
          ]
        },
        {
          "output_type": "stream",
          "name": "stderr",
          "text": [
            "/usr/local/lib/python3.7/dist-packages/torch/nn/modules/module.py:974: UserWarning: Using a non-full backward hook when the forward contains multiple autograd Nodes is deprecated and will be removed in future versions. This hook will be missing some grad_input. Please use register_full_backward_hook to get the documented behavior.\n",
            "  warnings.warn(\"Using a non-full backward hook when the forward contains multiple autograd Nodes \"\n",
            "/usr/local/lib/python3.7/dist-packages/torch/nn/modules/module.py:949: UserWarning: Using non-full backward hooks on a Module that does not take as input a single Tensor or a tuple of Tensors is deprecated and will be removed in future versions. This hook will be missing some of the grad_input. Please use register_full_backward_hook to get the documented behavior.\n",
            "  warnings.warn(\"Using non-full backward hooks on a Module that does not take as input a \"\n",
            "/usr/local/lib/python3.7/dist-packages/torch/nn/modules/module.py:939: UserWarning: Using non-full backward hooks on a Module that does not return a single Tensor or a tuple of Tensors is deprecated and will be removed in future versions. This hook will be missing some of the grad_output. Please use register_full_backward_hook to get the documented behavior.\n",
            "  warnings.warn(\"Using non-full backward hooks on a Module that does not return a \"\n",
            "0% [█████████████] 100% | ETA: 00:00:00\n",
            "Total time elapsed: 00:00:06\n"
          ]
        },
        {
          "output_type": "stream",
          "name": "stdout",
          "text": [
            "Finished Epoch 5 || Run Time:    3.9 | Load Time:    2.5 || F1:  55.32 | Prec:  56.83 | Rec:  53.89 || Ex/s: 320.87\n",
            "\n"
          ]
        },
        {
          "output_type": "execute_result",
          "data": {
            "text/plain": [
              "tensor(55.3191, device='cuda:0')"
            ]
          },
          "metadata": {},
          "execution_count": 22
        }
      ],
      "source": [
        "# Compute F1 on test set\n",
        "model.run_eval(test)"
      ]
    },
    {
      "cell_type": "markdown",
      "metadata": {
        "id": "Cdsxv_qr75CK"
      },
      "source": [
        "#### TEXTUAL"
      ]
    },
    {
      "cell_type": "markdown",
      "metadata": {
        "id": "j4zOGg2n75CK"
      },
      "source": [
        "##### Abt-Buy"
      ]
    },
    {
      "cell_type": "code",
      "execution_count": 23,
      "metadata": {
        "id": "ZtLVBEZg75CL"
      },
      "outputs": [],
      "source": [
        "train, validation, test = dm.data.process(\n",
        "    path='/content/IC/datasesErros/FMedium_50_1_2/Textual/Abt-Buy/',\n",
        "    train='joined_train.csv',\n",
        "    validation='joined_valid.csv',\n",
        "    test='joined_test.csv')"
      ]
    },
    {
      "cell_type": "code",
      "execution_count": 24,
      "metadata": {
        "id": "sdCg5PtC75CL"
      },
      "outputs": [],
      "source": [
        "model = dm.MatchingModel(attr_summarizer='attention')"
      ]
    },
    {
      "cell_type": "code",
      "execution_count": 25,
      "metadata": {
        "id": "CV-ONewg75CL",
        "colab": {
          "base_uri": "https://localhost:8080/"
        },
        "outputId": "9e18bfbe-aea8-4781-b63b-219311594bc4"
      },
      "outputs": [
        {
          "output_type": "stream",
          "name": "stdout",
          "text": [
            "* Number of trainable parameters: 3429602\n",
            "===>  TRAIN Epoch 1\n"
          ]
        },
        {
          "output_type": "stream",
          "name": "stderr",
          "text": [
            "/usr/local/lib/python3.7/dist-packages/torch/nn/modules/module.py:974: UserWarning: Using a non-full backward hook when the forward contains multiple autograd Nodes is deprecated and will be removed in future versions. This hook will be missing some grad_input. Please use register_full_backward_hook to get the documented behavior.\n",
            "  warnings.warn(\"Using a non-full backward hook when the forward contains multiple autograd Nodes \"\n",
            "/usr/local/lib/python3.7/dist-packages/torch/nn/modules/module.py:949: UserWarning: Using non-full backward hooks on a Module that does not take as input a single Tensor or a tuple of Tensors is deprecated and will be removed in future versions. This hook will be missing some of the grad_input. Please use register_full_backward_hook to get the documented behavior.\n",
            "  warnings.warn(\"Using non-full backward hooks on a Module that does not take as input a \"\n",
            "/usr/local/lib/python3.7/dist-packages/torch/nn/modules/module.py:939: UserWarning: Using non-full backward hooks on a Module that does not return a single Tensor or a tuple of Tensors is deprecated and will be removed in future versions. This hook will be missing some of the grad_output. Please use register_full_backward_hook to get the documented behavior.\n",
            "  warnings.warn(\"Using non-full backward hooks on a Module that does not return a \"\n",
            "/usr/local/lib/python3.7/dist-packages/torch/nn/functional.py:2742: UserWarning: reduction: 'mean' divides the total loss by both the batch size and the support size.'batchmean' divides only by the batch size, and aligns with the KL div math definition.'mean' will be changed to behave the same as 'batchmean' in the next major release.\n",
            "  \"reduction: 'mean' divides the total loss by both the batch size and the support size.\"\n",
            "0% [██████████████████████████████] 100% | ETA: 00:00:00\n",
            "Total time elapsed: 00:00:23\n"
          ]
        },
        {
          "output_type": "stream",
          "name": "stdout",
          "text": [
            "Finished Epoch 1 || Run Time:   12.5 | Load Time:   11.1 || F1:  17.39 | Prec:  22.22 | Rec:  14.29 || Ex/s: 242.98\n",
            "\n",
            "===>  EVAL Epoch 1\n"
          ]
        },
        {
          "output_type": "stream",
          "name": "stderr",
          "text": [
            "0% [████████████] 100% | ETA: 00:00:00\n",
            "Total time elapsed: 00:00:05\n"
          ]
        },
        {
          "output_type": "stream",
          "name": "stdout",
          "text": [
            "Finished Epoch 1 || Run Time:    2.2 | Load Time:    3.2 || F1:  28.81 | Prec:  25.56 | Rec:  33.01 || Ex/s: 357.71\n",
            "\n",
            "* Best F1: tensor(28.8136, device='cuda:0')\n",
            "Saving best model...\n",
            "Done.\n",
            "---------------------\n",
            "\n",
            "===>  TRAIN Epoch 2\n"
          ]
        },
        {
          "output_type": "stream",
          "name": "stderr",
          "text": [
            "0% [██████████████████████████████] 100% | ETA: 00:00:00\n",
            "Total time elapsed: 00:00:22\n"
          ]
        },
        {
          "output_type": "stream",
          "name": "stdout",
          "text": [
            "Finished Epoch 2 || Run Time:   12.0 | Load Time:   10.9 || F1:  31.53 | Prec:  31.40 | Rec:  31.66 || Ex/s: 251.14\n",
            "\n",
            "===>  EVAL Epoch 2\n"
          ]
        },
        {
          "output_type": "stream",
          "name": "stderr",
          "text": [
            "0% [████████████] 100% | ETA: 00:00:00\n",
            "Total time elapsed: 00:00:05\n"
          ]
        },
        {
          "output_type": "stream",
          "name": "stdout",
          "text": [
            "Finished Epoch 2 || Run Time:    2.2 | Load Time:    3.3 || F1:  30.41 | Prec:  25.41 | Rec:  37.86 || Ex/s: 352.11\n",
            "\n",
            "* Best F1: tensor(30.4094, device='cuda:0')\n",
            "Saving best model...\n",
            "Done.\n",
            "---------------------\n",
            "\n",
            "===>  TRAIN Epoch 3\n"
          ]
        },
        {
          "output_type": "stream",
          "name": "stderr",
          "text": [
            "0% [██████████████████████████████] 100% | ETA: 00:00:00\n",
            "Total time elapsed: 00:00:22\n"
          ]
        },
        {
          "output_type": "stream",
          "name": "stdout",
          "text": [
            "Finished Epoch 3 || Run Time:   11.9 | Load Time:   10.8 || F1:  40.61 | Prec:  36.81 | Rec:  45.29 || Ex/s: 252.35\n",
            "\n",
            "===>  EVAL Epoch 3\n"
          ]
        },
        {
          "output_type": "stream",
          "name": "stderr",
          "text": [
            "0% [████████████] 100% | ETA: 00:00:00\n",
            "Total time elapsed: 00:00:05\n"
          ]
        },
        {
          "output_type": "stream",
          "name": "stdout",
          "text": [
            "Finished Epoch 3 || Run Time:    2.2 | Load Time:    3.2 || F1:  34.17 | Prec:  28.48 | Rec:  42.72 || Ex/s: 356.67\n",
            "\n",
            "* Best F1: tensor(34.1748, device='cuda:0')\n",
            "Saving best model...\n",
            "Done.\n",
            "---------------------\n",
            "\n",
            "===>  TRAIN Epoch 4\n"
          ]
        },
        {
          "output_type": "stream",
          "name": "stderr",
          "text": [
            "0% [██████████████████████████████] 100% | ETA: 00:00:00\n",
            "Total time elapsed: 00:00:24\n"
          ]
        },
        {
          "output_type": "stream",
          "name": "stdout",
          "text": [
            "Finished Epoch 4 || Run Time:   12.8 | Load Time:   11.5 || F1:  49.79 | Prec:  43.73 | Rec:  57.79 || Ex/s: 236.21\n",
            "\n",
            "===>  EVAL Epoch 4\n"
          ]
        },
        {
          "output_type": "stream",
          "name": "stderr",
          "text": [
            "0% [████████████] 100% | ETA: 00:00:00\n",
            "Total time elapsed: 00:00:05\n"
          ]
        },
        {
          "output_type": "stream",
          "name": "stdout",
          "text": [
            "Finished Epoch 4 || Run Time:    2.2 | Load Time:    3.2 || F1:  40.40 | Prec:  34.35 | Rec:  49.03 || Ex/s: 351.95\n",
            "\n",
            "* Best F1: tensor(40.4000, device='cuda:0')\n",
            "Saving best model...\n",
            "Done.\n",
            "---------------------\n",
            "\n",
            "===>  TRAIN Epoch 5\n"
          ]
        },
        {
          "output_type": "stream",
          "name": "stderr",
          "text": [
            "0% [██████████████████████████████] 100% | ETA: 00:00:00\n",
            "Total time elapsed: 00:00:23\n"
          ]
        },
        {
          "output_type": "stream",
          "name": "stdout",
          "text": [
            "Finished Epoch 5 || Run Time:   12.2 | Load Time:   11.3 || F1:  56.84 | Prec:  49.88 | Rec:  66.07 || Ex/s: 244.56\n",
            "\n",
            "===>  EVAL Epoch 5\n"
          ]
        },
        {
          "output_type": "stream",
          "name": "stderr",
          "text": [
            "0% [████████████] 100% | ETA: 00:00:00\n",
            "Total time elapsed: 00:00:05\n"
          ]
        },
        {
          "output_type": "stream",
          "name": "stdout",
          "text": [
            "Finished Epoch 5 || Run Time:    2.2 | Load Time:    3.2 || F1:  42.77 | Prec:  37.64 | Rec:  49.51 || Ex/s: 355.53\n",
            "\n",
            "* Best F1: tensor(42.7673, device='cuda:0')\n",
            "Saving best model...\n",
            "Done.\n",
            "---------------------\n",
            "\n",
            "===>  TRAIN Epoch 6\n"
          ]
        },
        {
          "output_type": "stream",
          "name": "stderr",
          "text": [
            "0% [██████████████████████████████] 100% | ETA: 00:00:00\n",
            "Total time elapsed: 00:00:23\n"
          ]
        },
        {
          "output_type": "stream",
          "name": "stdout",
          "text": [
            "Finished Epoch 6 || Run Time:   12.6 | Load Time:   11.3 || F1:  62.32 | Prec:  54.42 | Rec:  72.89 || Ex/s: 240.38\n",
            "\n",
            "===>  EVAL Epoch 6\n"
          ]
        },
        {
          "output_type": "stream",
          "name": "stderr",
          "text": [
            "0% [████████████] 100% | ETA: 00:00:00\n",
            "Total time elapsed: 00:00:05\n"
          ]
        },
        {
          "output_type": "stream",
          "name": "stdout",
          "text": [
            "Finished Epoch 6 || Run Time:    2.3 | Load Time:    3.3 || F1:  43.51 | Prec:  36.95 | Rec:  52.91 || Ex/s: 343.19\n",
            "\n",
            "* Best F1: tensor(43.5130, device='cuda:0')\n",
            "Saving best model...\n",
            "Done.\n",
            "---------------------\n",
            "\n",
            "===>  TRAIN Epoch 7\n"
          ]
        },
        {
          "output_type": "stream",
          "name": "stderr",
          "text": [
            "0% [██████████████████████████████] 100% | ETA: 00:00:00\n",
            "Total time elapsed: 00:00:23\n"
          ]
        },
        {
          "output_type": "stream",
          "name": "stdout",
          "text": [
            "Finished Epoch 7 || Run Time:   12.5 | Load Time:   11.2 || F1:  70.20 | Prec:  63.55 | Rec:  78.41 || Ex/s: 242.37\n",
            "\n",
            "===>  EVAL Epoch 7\n"
          ]
        },
        {
          "output_type": "stream",
          "name": "stderr",
          "text": [
            "0% [████████████] 100% | ETA: 00:00:00\n",
            "Total time elapsed: 00:00:05\n"
          ]
        },
        {
          "output_type": "stream",
          "name": "stdout",
          "text": [
            "Finished Epoch 7 || Run Time:    2.2 | Load Time:    3.2 || F1:  44.02 | Prec:  36.54 | Rec:  55.34 || Ex/s: 354.36\n",
            "\n",
            "* Best F1: tensor(44.0154, device='cuda:0')\n",
            "Saving best model...\n",
            "Done.\n",
            "---------------------\n",
            "\n",
            "===>  TRAIN Epoch 8\n"
          ]
        },
        {
          "output_type": "stream",
          "name": "stderr",
          "text": [
            "0% [██████████████████████████████] 100% | ETA: 00:00:00\n",
            "Total time elapsed: 00:00:22\n"
          ]
        },
        {
          "output_type": "stream",
          "name": "stdout",
          "text": [
            "Finished Epoch 8 || Run Time:   12.0 | Load Time:   10.8 || F1:  73.46 | Prec:  67.76 | Rec:  80.19 || Ex/s: 251.73\n",
            "\n",
            "===>  EVAL Epoch 8\n"
          ]
        },
        {
          "output_type": "stream",
          "name": "stderr",
          "text": [
            "0% [████████████] 100% | ETA: 00:00:00\n",
            "Total time elapsed: 00:00:05\n"
          ]
        },
        {
          "output_type": "stream",
          "name": "stdout",
          "text": [
            "Finished Epoch 8 || Run Time:    2.2 | Load Time:    3.2 || F1:  42.81 | Prec:  31.57 | Rec:  66.50 || Ex/s: 354.02\n",
            "\n",
            "---------------------\n",
            "\n",
            "===>  TRAIN Epoch 9\n"
          ]
        },
        {
          "output_type": "stream",
          "name": "stderr",
          "text": [
            "0% [██████████████████████████████] 100% | ETA: 00:00:00\n",
            "Total time elapsed: 00:00:23\n"
          ]
        },
        {
          "output_type": "stream",
          "name": "stdout",
          "text": [
            "Finished Epoch 9 || Run Time:   12.2 | Load Time:   11.0 || F1:  74.57 | Prec:  68.62 | Rec:  81.66 || Ex/s: 247.17\n",
            "\n",
            "===>  EVAL Epoch 9\n"
          ]
        },
        {
          "output_type": "stream",
          "name": "stderr",
          "text": [
            "0% [████████████] 100% | ETA: 00:00:00\n",
            "Total time elapsed: 00:00:05\n"
          ]
        },
        {
          "output_type": "stream",
          "name": "stdout",
          "text": [
            "Finished Epoch 9 || Run Time:    2.2 | Load Time:    3.2 || F1:  43.46 | Prec:  41.89 | Rec:  45.15 || Ex/s: 356.10\n",
            "\n",
            "---------------------\n",
            "\n",
            "===>  TRAIN Epoch 10\n"
          ]
        },
        {
          "output_type": "stream",
          "name": "stderr",
          "text": [
            "0% [██████████████████████████████] 100% | ETA: 00:00:00\n",
            "Total time elapsed: 00:00:23\n"
          ]
        },
        {
          "output_type": "stream",
          "name": "stdout",
          "text": [
            "Finished Epoch 10 || Run Time:   12.3 | Load Time:   11.1 || F1:  76.13 | Prec:  70.81 | Rec:  82.31 || Ex/s: 245.19\n",
            "\n",
            "===>  EVAL Epoch 10\n"
          ]
        },
        {
          "output_type": "stream",
          "name": "stderr",
          "text": [
            "0% [████████████] 100% | ETA: 00:00:00\n",
            "Total time elapsed: 00:00:05\n"
          ]
        },
        {
          "output_type": "stream",
          "name": "stdout",
          "text": [
            "Finished Epoch 10 || Run Time:    2.1 | Load Time:    3.2 || F1:  43.10 | Prec:  52.82 | Rec:  36.41 || Ex/s: 362.01\n",
            "\n",
            "---------------------\n",
            "\n",
            "===>  TRAIN Epoch 11\n"
          ]
        },
        {
          "output_type": "stream",
          "name": "stderr",
          "text": [
            "0% [██████████████████████████████] 100% | ETA: 00:00:00\n",
            "Total time elapsed: 00:00:23\n"
          ]
        },
        {
          "output_type": "stream",
          "name": "stdout",
          "text": [
            "Finished Epoch 11 || Run Time:   12.3 | Load Time:   11.3 || F1:  79.57 | Prec:  75.51 | Rec:  84.09 || Ex/s: 243.21\n",
            "\n",
            "===>  EVAL Epoch 11\n"
          ]
        },
        {
          "output_type": "stream",
          "name": "stderr",
          "text": [
            "0% [████████████] 100% | ETA: 00:00:00\n",
            "Total time elapsed: 00:00:05\n"
          ]
        },
        {
          "output_type": "stream",
          "name": "stdout",
          "text": [
            "Finished Epoch 11 || Run Time:    2.3 | Load Time:    3.3 || F1:  45.25 | Prec:  53.29 | Rec:  39.32 || Ex/s: 342.40\n",
            "\n",
            "* Best F1: tensor(45.2514, device='cuda:0')\n",
            "Saving best model...\n",
            "Done.\n",
            "---------------------\n",
            "\n",
            "===>  TRAIN Epoch 12\n"
          ]
        },
        {
          "output_type": "stream",
          "name": "stderr",
          "text": [
            "0% [██████████████████████████████] 100% | ETA: 00:00:00\n",
            "Total time elapsed: 00:00:23\n"
          ]
        },
        {
          "output_type": "stream",
          "name": "stdout",
          "text": [
            "Finished Epoch 12 || Run Time:   12.2 | Load Time:   11.0 || F1:  81.76 | Prec:  77.75 | Rec:  86.20 || Ex/s: 247.84\n",
            "\n",
            "===>  EVAL Epoch 12\n"
          ]
        },
        {
          "output_type": "stream",
          "name": "stderr",
          "text": [
            "0% [████████████] 100% | ETA: 00:00:00\n",
            "Total time elapsed: 00:00:05\n"
          ]
        },
        {
          "output_type": "stream",
          "name": "stdout",
          "text": [
            "Finished Epoch 12 || Run Time:    2.3 | Load Time:    3.3 || F1:  46.41 | Prec:  53.85 | Rec:  40.78 || Ex/s: 342.72\n",
            "\n",
            "* Best F1: tensor(46.4088, device='cuda:0')\n",
            "Saving best model...\n",
            "Done.\n",
            "---------------------\n",
            "\n",
            "===>  TRAIN Epoch 13\n"
          ]
        },
        {
          "output_type": "stream",
          "name": "stderr",
          "text": [
            "0% [██████████████████████████████] 100% | ETA: 00:00:00\n",
            "Total time elapsed: 00:00:22\n"
          ]
        },
        {
          "output_type": "stream",
          "name": "stdout",
          "text": [
            "Finished Epoch 13 || Run Time:   12.1 | Load Time:   10.9 || F1:  83.10 | Prec:  79.53 | Rec:  87.01 || Ex/s: 249.49\n",
            "\n",
            "===>  EVAL Epoch 13\n"
          ]
        },
        {
          "output_type": "stream",
          "name": "stderr",
          "text": [
            "0% [████████████] 100% | ETA: 00:00:00\n",
            "Total time elapsed: 00:00:05\n"
          ]
        },
        {
          "output_type": "stream",
          "name": "stdout",
          "text": [
            "Finished Epoch 13 || Run Time:    2.2 | Load Time:    3.2 || F1:  45.78 | Prec:  52.17 | Rec:  40.78 || Ex/s: 351.44\n",
            "\n",
            "---------------------\n",
            "\n",
            "===>  TRAIN Epoch 14\n"
          ]
        },
        {
          "output_type": "stream",
          "name": "stderr",
          "text": [
            "0% [██████████████████████████████] 100% | ETA: 00:00:00\n",
            "Total time elapsed: 00:00:23\n"
          ]
        },
        {
          "output_type": "stream",
          "name": "stdout",
          "text": [
            "Finished Epoch 14 || Run Time:   12.5 | Load Time:   11.3 || F1:  85.45 | Prec:  81.66 | Rec:  89.61 || Ex/s: 241.54\n",
            "\n",
            "===>  EVAL Epoch 14\n"
          ]
        },
        {
          "output_type": "stream",
          "name": "stderr",
          "text": [
            "0% [████████████] 100% | ETA: 00:00:00\n",
            "Total time elapsed: 00:00:05\n"
          ]
        },
        {
          "output_type": "stream",
          "name": "stdout",
          "text": [
            "Finished Epoch 14 || Run Time:    2.2 | Load Time:    3.2 || F1:  45.78 | Prec:  52.17 | Rec:  40.78 || Ex/s: 352.39\n",
            "\n",
            "---------------------\n",
            "\n",
            "===>  TRAIN Epoch 15\n"
          ]
        },
        {
          "output_type": "stream",
          "name": "stderr",
          "text": [
            "0% [██████████████████████████████] 100% | ETA: 00:00:00\n",
            "Total time elapsed: 00:00:23\n"
          ]
        },
        {
          "output_type": "stream",
          "name": "stdout",
          "text": [
            "Finished Epoch 15 || Run Time:   12.4 | Load Time:   11.1 || F1:  86.29 | Prec:  82.93 | Rec:  89.94 || Ex/s: 244.43\n",
            "\n",
            "===>  EVAL Epoch 15\n"
          ]
        },
        {
          "output_type": "stream",
          "name": "stderr",
          "text": [
            "0% [████████████] 100% | ETA: 00:00:00\n",
            "Total time elapsed: 00:00:05\n"
          ]
        },
        {
          "output_type": "stream",
          "name": "stdout",
          "text": [
            "Finished Epoch 15 || Run Time:    2.3 | Load Time:    3.3 || F1:  45.82 | Prec:  51.52 | Rec:  41.26 || Ex/s: 342.43\n",
            "\n",
            "---------------------\n",
            "\n",
            "Loading best model...\n",
            "Training done.\n"
          ]
        },
        {
          "output_type": "execute_result",
          "data": {
            "text/plain": [
              "tensor(46.4088, device='cuda:0')"
            ]
          },
          "metadata": {},
          "execution_count": 25
        }
      ],
      "source": [
        "model.run_train(\n",
        "    train,\n",
        "    validation,\n",
        "    epochs=15,\n",
        "    batch_size=32,\n",
        "    best_save_path='attention_model.pth',\n",
        "    pos_neg_ratio=3)"
      ]
    },
    {
      "cell_type": "code",
      "execution_count": 26,
      "metadata": {
        "id": "EgvhQbnU75CM",
        "colab": {
          "base_uri": "https://localhost:8080/"
        },
        "outputId": "be265958-e0da-4d23-e1dc-4985eaba42e9"
      },
      "outputs": [
        {
          "output_type": "stream",
          "name": "stdout",
          "text": [
            "===>  EVAL Epoch 12\n"
          ]
        },
        {
          "output_type": "stream",
          "name": "stderr",
          "text": [
            "/usr/local/lib/python3.7/dist-packages/torch/nn/modules/module.py:974: UserWarning: Using a non-full backward hook when the forward contains multiple autograd Nodes is deprecated and will be removed in future versions. This hook will be missing some grad_input. Please use register_full_backward_hook to get the documented behavior.\n",
            "  warnings.warn(\"Using a non-full backward hook when the forward contains multiple autograd Nodes \"\n",
            "/usr/local/lib/python3.7/dist-packages/torch/nn/modules/module.py:949: UserWarning: Using non-full backward hooks on a Module that does not take as input a single Tensor or a tuple of Tensors is deprecated and will be removed in future versions. This hook will be missing some of the grad_input. Please use register_full_backward_hook to get the documented behavior.\n",
            "  warnings.warn(\"Using non-full backward hooks on a Module that does not take as input a \"\n",
            "/usr/local/lib/python3.7/dist-packages/torch/nn/modules/module.py:939: UserWarning: Using non-full backward hooks on a Module that does not return a single Tensor or a tuple of Tensors is deprecated and will be removed in future versions. This hook will be missing some of the grad_output. Please use register_full_backward_hook to get the documented behavior.\n",
            "  warnings.warn(\"Using non-full backward hooks on a Module that does not return a \"\n",
            "0% [████████████] 100% | ETA: 00:00:00\n",
            "Total time elapsed: 00:00:05\n"
          ]
        },
        {
          "output_type": "stream",
          "name": "stdout",
          "text": [
            "Finished Epoch 12 || Run Time:    2.4 | Load Time:    3.3 || F1:  49.74 | Prec:  53.98 | Rec:  46.12 || Ex/s: 337.10\n",
            "\n"
          ]
        },
        {
          "output_type": "execute_result",
          "data": {
            "text/plain": [
              "tensor(49.7382, device='cuda:0')"
            ]
          },
          "metadata": {},
          "execution_count": 26
        }
      ],
      "source": [
        "# Compute F1 on test set\n",
        "model.run_eval(test)"
      ]
    },
    {
      "cell_type": "markdown",
      "metadata": {
        "id": "t9lDhvR675CM"
      },
      "source": [
        "#### DIRTY"
      ]
    },
    {
      "cell_type": "markdown",
      "metadata": {
        "id": "5N9PM5Rz75CN"
      },
      "source": [
        "##### DBLP-ACM"
      ]
    },
    {
      "cell_type": "code",
      "execution_count": null,
      "metadata": {
        "id": "jzAL_Hhu75CN"
      },
      "outputs": [],
      "source": [
        "train, validation, test = dm.data.process(\n",
        "    path='/content/IC/datasesErros/FMedium_50_1_2/Dirty/DBLP-ACM/',\n",
        "    train='joined_train.csv',\n",
        "    validation='joined_valid.csv',\n",
        "    test='joined_test.csv')"
      ]
    },
    {
      "cell_type": "code",
      "execution_count": null,
      "metadata": {
        "id": "aEKc0IUC75CO"
      },
      "outputs": [],
      "source": [
        "model = dm.MatchingModel(attr_summarizer='attention')"
      ]
    },
    {
      "cell_type": "code",
      "execution_count": null,
      "metadata": {
        "id": "PcD-Y6XG75CO",
        "colab": {
          "base_uri": "https://localhost:8080/"
        },
        "outputId": "503dbc89-11e0-46b8-c043-cd821be02512"
      },
      "outputs": [
        {
          "output_type": "stream",
          "name": "stderr",
          "text": [
            "/usr/local/lib/python3.7/dist-packages/torch/nn/modules/module.py:974: UserWarning: Using a non-full backward hook when the forward contains multiple autograd Nodes is deprecated and will be removed in future versions. This hook will be missing some grad_input. Please use register_full_backward_hook to get the documented behavior.\n",
            "  warnings.warn(\"Using a non-full backward hook when the forward contains multiple autograd Nodes \"\n",
            "/usr/local/lib/python3.7/dist-packages/torch/nn/modules/module.py:949: UserWarning: Using non-full backward hooks on a Module that does not take as input a single Tensor or a tuple of Tensors is deprecated and will be removed in future versions. This hook will be missing some of the grad_input. Please use register_full_backward_hook to get the documented behavior.\n",
            "  warnings.warn(\"Using non-full backward hooks on a Module that does not take as input a \"\n"
          ]
        },
        {
          "output_type": "stream",
          "name": "stdout",
          "text": [
            "* Number of trainable parameters: 4332002\n",
            "===>  TRAIN Epoch 1\n"
          ]
        },
        {
          "output_type": "stream",
          "name": "stderr",
          "text": [
            "/usr/local/lib/python3.7/dist-packages/torch/nn/modules/module.py:939: UserWarning: Using non-full backward hooks on a Module that does not return a single Tensor or a tuple of Tensors is deprecated and will be removed in future versions. This hook will be missing some of the grad_output. Please use register_full_backward_hook to get the documented behavior.\n",
            "  warnings.warn(\"Using non-full backward hooks on a Module that does not return a \"\n",
            "/usr/local/lib/python3.7/dist-packages/torch/nn/functional.py:2742: UserWarning: reduction: 'mean' divides the total loss by both the batch size and the support size.'batchmean' divides only by the batch size, and aligns with the KL div math definition.'mean' will be changed to behave the same as 'batchmean' in the next major release.\n",
            "  \"reduction: 'mean' divides the total loss by both the batch size and the support size.\"\n",
            "0% [██████████████████████████████] 100% | ETA: 00:00:00\n",
            "Total time elapsed: 00:00:34\n"
          ]
        },
        {
          "output_type": "stream",
          "name": "stdout",
          "text": [
            "Finished Epoch 1 || Run Time:   19.1 | Load Time:   16.0 || F1:  62.14 | Prec:  56.03 | Rec:  69.74 || Ex/s: 211.28\n",
            "\n",
            "===>  EVAL Epoch 1\n"
          ]
        },
        {
          "output_type": "stream",
          "name": "stderr",
          "text": [
            "0% [███████████████] 100% | ETA: 00:00:00\n",
            "Total time elapsed: 00:00:08\n"
          ]
        },
        {
          "output_type": "stream",
          "name": "stdout",
          "text": [
            "Finished Epoch 1 || Run Time:    3.6 | Load Time:    5.0 || F1:  84.32 | Prec:  85.09 | Rec:  83.56 || Ex/s: 284.95\n",
            "\n",
            "* Best F1: tensor(84.3182, device='cuda:0')\n",
            "Saving best model...\n",
            "Done.\n",
            "---------------------\n",
            "\n",
            "===>  TRAIN Epoch 2\n"
          ]
        },
        {
          "output_type": "stream",
          "name": "stderr",
          "text": [
            "0% [██████████████████████████████] 100% | ETA: 00:00:00\n",
            "Total time elapsed: 00:00:35\n"
          ]
        },
        {
          "output_type": "stream",
          "name": "stdout",
          "text": [
            "Finished Epoch 2 || Run Time:   19.3 | Load Time:   16.3 || F1:  85.75 | Prec:  80.50 | Rec:  91.74 || Ex/s: 208.42\n",
            "\n",
            "===>  EVAL Epoch 2\n"
          ]
        },
        {
          "output_type": "stream",
          "name": "stderr",
          "text": [
            "0% [███████████████] 100% | ETA: 00:00:00\n",
            "Total time elapsed: 00:00:08\n"
          ]
        },
        {
          "output_type": "stream",
          "name": "stdout",
          "text": [
            "Finished Epoch 2 || Run Time:    3.6 | Load Time:    4.9 || F1:  86.57 | Prec:  89.05 | Rec:  84.23 || Ex/s: 289.51\n",
            "\n",
            "* Best F1: tensor(86.5741, device='cuda:0')\n",
            "Saving best model...\n",
            "Done.\n",
            "---------------------\n",
            "\n",
            "===>  TRAIN Epoch 3\n"
          ]
        },
        {
          "output_type": "stream",
          "name": "stderr",
          "text": [
            "0% [██████████████████████████████] 100% | ETA: 00:00:00\n",
            "Total time elapsed: 00:00:34\n"
          ]
        },
        {
          "output_type": "stream",
          "name": "stdout",
          "text": [
            "Finished Epoch 3 || Run Time:   19.3 | Load Time:   16.1 || F1:  89.78 | Prec:  85.38 | Rec:  94.67 || Ex/s: 209.62\n",
            "\n",
            "===>  EVAL Epoch 3\n"
          ]
        },
        {
          "output_type": "stream",
          "name": "stderr",
          "text": [
            "0% [███████████████] 100% | ETA: 00:00:00\n",
            "Total time elapsed: 00:00:08\n"
          ]
        },
        {
          "output_type": "stream",
          "name": "stdout",
          "text": [
            "Finished Epoch 3 || Run Time:    3.7 | Load Time:    5.1 || F1:  89.16 | Prec:  89.37 | Rec:  88.96 || Ex/s: 278.80\n",
            "\n",
            "* Best F1: tensor(89.1648, device='cuda:0')\n",
            "Saving best model...\n",
            "Done.\n",
            "---------------------\n",
            "\n",
            "===>  TRAIN Epoch 4\n"
          ]
        },
        {
          "output_type": "stream",
          "name": "stderr",
          "text": [
            "0% [██████████████████████████████] 100% | ETA: 00:00:00\n",
            "Total time elapsed: 00:00:35\n"
          ]
        },
        {
          "output_type": "stream",
          "name": "stdout",
          "text": [
            "Finished Epoch 4 || Run Time:   19.2 | Load Time:   16.2 || F1:  91.83 | Prec:  88.24 | Rec:  95.72 || Ex/s: 209.37\n",
            "\n",
            "===>  EVAL Epoch 4\n"
          ]
        },
        {
          "output_type": "stream",
          "name": "stderr",
          "text": [
            "0% [███████████████] 100% | ETA: 00:00:00\n",
            "Total time elapsed: 00:00:08\n"
          ]
        },
        {
          "output_type": "stream",
          "name": "stdout",
          "text": [
            "Finished Epoch 4 || Run Time:    3.7 | Load Time:    5.0 || F1:  90.73 | Prec:  86.06 | Rec:  95.95 || Ex/s: 284.38\n",
            "\n",
            "* Best F1: tensor(90.7348, device='cuda:0')\n",
            "Saving best model...\n",
            "Done.\n",
            "---------------------\n",
            "\n",
            "===>  TRAIN Epoch 5\n"
          ]
        },
        {
          "output_type": "stream",
          "name": "stderr",
          "text": [
            "0% [██████████████████████████████] 100% | ETA: 00:00:00\n",
            "Total time elapsed: 00:00:34\n"
          ]
        },
        {
          "output_type": "stream",
          "name": "stdout",
          "text": [
            "Finished Epoch 5 || Run Time:   18.8 | Load Time:   16.0 || F1:  92.86 | Prec:  89.77 | Rec:  96.17 || Ex/s: 213.48\n",
            "\n",
            "===>  EVAL Epoch 5\n"
          ]
        },
        {
          "output_type": "stream",
          "name": "stderr",
          "text": [
            "0% [███████████████] 100% | ETA: 00:00:00\n",
            "Total time elapsed: 00:00:08\n"
          ]
        },
        {
          "output_type": "stream",
          "name": "stdout",
          "text": [
            "Finished Epoch 5 || Run Time:    3.7 | Load Time:    5.0 || F1:  87.54 | Prec:  92.48 | Rec:  83.11 || Ex/s: 283.81\n",
            "\n",
            "---------------------\n",
            "\n",
            "===>  TRAIN Epoch 6\n"
          ]
        },
        {
          "output_type": "stream",
          "name": "stderr",
          "text": [
            "0% [██████████████████████████████] 100% | ETA: 00:00:00\n",
            "Total time elapsed: 00:00:35\n"
          ]
        },
        {
          "output_type": "stream",
          "name": "stdout",
          "text": [
            "Finished Epoch 6 || Run Time:   19.6 | Load Time:   16.4 || F1:  94.60 | Prec:  91.99 | Rec:  97.37 || Ex/s: 205.83\n",
            "\n",
            "===>  EVAL Epoch 6\n"
          ]
        },
        {
          "output_type": "stream",
          "name": "stderr",
          "text": [
            "0% [███████████████] 100% | ETA: 00:00:00\n",
            "Total time elapsed: 00:00:08\n"
          ]
        },
        {
          "output_type": "stream",
          "name": "stdout",
          "text": [
            "Finished Epoch 6 || Run Time:    3.8 | Load Time:    5.1 || F1:  84.71 | Prec:  95.48 | Rec:  76.13 || Ex/s: 275.83\n",
            "\n",
            "---------------------\n",
            "\n",
            "===>  TRAIN Epoch 7\n"
          ]
        },
        {
          "output_type": "stream",
          "name": "stderr",
          "text": [
            "0% [██████████████████████████████] 100% | ETA: 00:00:00\n",
            "Total time elapsed: 00:00:35\n"
          ]
        },
        {
          "output_type": "stream",
          "name": "stdout",
          "text": [
            "Finished Epoch 7 || Run Time:   19.3 | Load Time:   16.1 || F1:  95.70 | Prec:  93.80 | Rec:  97.67 || Ex/s: 209.29\n",
            "\n",
            "===>  EVAL Epoch 7\n"
          ]
        },
        {
          "output_type": "stream",
          "name": "stderr",
          "text": [
            "0% [███████████████] 100% | ETA: 00:00:00\n",
            "Total time elapsed: 00:00:08\n"
          ]
        },
        {
          "output_type": "stream",
          "name": "stdout",
          "text": [
            "Finished Epoch 7 || Run Time:    3.5 | Load Time:    5.0 || F1:  89.30 | Prec:  91.29 | Rec:  87.39 || Ex/s: 291.58\n",
            "\n",
            "---------------------\n",
            "\n",
            "===>  TRAIN Epoch 8\n"
          ]
        },
        {
          "output_type": "stream",
          "name": "stderr",
          "text": [
            "0% [██████████████████████████████] 100% | ETA: 00:00:00\n",
            "Total time elapsed: 00:00:34\n"
          ]
        },
        {
          "output_type": "stream",
          "name": "stdout",
          "text": [
            "Finished Epoch 8 || Run Time:   19.0 | Load Time:   16.0 || F1:  95.99 | Prec:  94.22 | Rec:  97.82 || Ex/s: 212.21\n",
            "\n",
            "===>  EVAL Epoch 8\n"
          ]
        },
        {
          "output_type": "stream",
          "name": "stderr",
          "text": [
            "0% [███████████████] 100% | ETA: 00:00:00\n",
            "Total time elapsed: 00:00:08\n"
          ]
        },
        {
          "output_type": "stream",
          "name": "stdout",
          "text": [
            "Finished Epoch 8 || Run Time:    3.7 | Load Time:    5.2 || F1:  89.78 | Prec:  91.57 | Rec:  88.06 || Ex/s: 276.22\n",
            "\n",
            "---------------------\n",
            "\n",
            "===>  TRAIN Epoch 9\n"
          ]
        },
        {
          "output_type": "stream",
          "name": "stderr",
          "text": [
            "0% [██████████████████████████████] 100% | ETA: 00:00:00\n",
            "Total time elapsed: 00:00:35\n"
          ]
        },
        {
          "output_type": "stream",
          "name": "stdout",
          "text": [
            "Finished Epoch 9 || Run Time:   19.2 | Load Time:   16.2 || F1:  96.50 | Prec:  94.85 | Rec:  98.20 || Ex/s: 209.55\n",
            "\n",
            "===>  EVAL Epoch 9\n"
          ]
        },
        {
          "output_type": "stream",
          "name": "stderr",
          "text": [
            "0% [███████████████] 100% | ETA: 00:00:00\n",
            "Total time elapsed: 00:00:08\n"
          ]
        },
        {
          "output_type": "stream",
          "name": "stdout",
          "text": [
            "Finished Epoch 9 || Run Time:    3.8 | Load Time:    5.1 || F1:  89.17 | Prec:  90.30 | Rec:  88.06 || Ex/s: 278.31\n",
            "\n",
            "---------------------\n",
            "\n",
            "===>  TRAIN Epoch 10\n"
          ]
        },
        {
          "output_type": "stream",
          "name": "stderr",
          "text": [
            "0% [██████████████████████████████] 100% | ETA: 00:00:00\n",
            "Total time elapsed: 00:00:34\n"
          ]
        },
        {
          "output_type": "stream",
          "name": "stdout",
          "text": [
            "Finished Epoch 10 || Run Time:   18.7 | Load Time:   15.9 || F1:  96.96 | Prec:  95.69 | Rec:  98.27 || Ex/s: 214.32\n",
            "\n",
            "===>  EVAL Epoch 10\n"
          ]
        },
        {
          "output_type": "stream",
          "name": "stderr",
          "text": [
            "0% [███████████████] 100% | ETA: 00:00:00\n",
            "Total time elapsed: 00:00:08\n"
          ]
        },
        {
          "output_type": "stream",
          "name": "stdout",
          "text": [
            "Finished Epoch 10 || Run Time:    3.7 | Load Time:    5.1 || F1:  89.37 | Prec:  86.19 | Rec:  92.79 || Ex/s: 278.88\n",
            "\n",
            "---------------------\n",
            "\n",
            "===>  TRAIN Epoch 11\n"
          ]
        },
        {
          "output_type": "stream",
          "name": "stderr",
          "text": [
            "0% [██████████████████████████████] 100% | ETA: 00:00:00\n",
            "Total time elapsed: 00:00:35\n"
          ]
        },
        {
          "output_type": "stream",
          "name": "stdout",
          "text": [
            "Finished Epoch 11 || Run Time:   19.6 | Load Time:   16.3 || F1:  97.15 | Prec:  95.77 | Rec:  98.57 || Ex/s: 206.54\n",
            "\n",
            "===>  EVAL Epoch 11\n"
          ]
        },
        {
          "output_type": "stream",
          "name": "stderr",
          "text": [
            "0% [███████████████] 100% | ETA: 00:00:00\n",
            "Total time elapsed: 00:00:08\n"
          ]
        },
        {
          "output_type": "stream",
          "name": "stdout",
          "text": [
            "Finished Epoch 11 || Run Time:    3.6 | Load Time:    5.0 || F1:  88.75 | Prec:  83.94 | Rec:  94.14 || Ex/s: 288.21\n",
            "\n",
            "---------------------\n",
            "\n",
            "===>  TRAIN Epoch 12\n"
          ]
        },
        {
          "output_type": "stream",
          "name": "stderr",
          "text": [
            "0% [██████████████████████████████] 100% | ETA: 00:00:00\n",
            "Total time elapsed: 00:00:34\n"
          ]
        },
        {
          "output_type": "stream",
          "name": "stdout",
          "text": [
            "Finished Epoch 12 || Run Time:   19.1 | Load Time:   16.1 || F1:  97.41 | Prec:  96.19 | Rec:  98.65 || Ex/s: 211.03\n",
            "\n",
            "===>  EVAL Epoch 12\n"
          ]
        },
        {
          "output_type": "stream",
          "name": "stderr",
          "text": [
            "0% [███████████████] 100% | ETA: 00:00:00\n",
            "Total time elapsed: 00:00:08\n"
          ]
        },
        {
          "output_type": "stream",
          "name": "stdout",
          "text": [
            "Finished Epoch 12 || Run Time:    3.6 | Load Time:    5.0 || F1:  89.18 | Prec:  85.83 | Rec:  92.79 || Ex/s: 289.64\n",
            "\n",
            "---------------------\n",
            "\n",
            "===>  TRAIN Epoch 13\n"
          ]
        },
        {
          "output_type": "stream",
          "name": "stderr",
          "text": [
            "0% [██████████████████████████████] 100% | ETA: 00:00:00\n",
            "Total time elapsed: 00:00:35\n"
          ]
        },
        {
          "output_type": "stream",
          "name": "stdout",
          "text": [
            "Finished Epoch 13 || Run Time:   19.6 | Load Time:   16.3 || F1:  97.59 | Prec:  96.48 | Rec:  98.72 || Ex/s: 206.83\n",
            "\n",
            "===>  EVAL Epoch 13\n"
          ]
        },
        {
          "output_type": "stream",
          "name": "stderr",
          "text": [
            "0% [███████████████] 100% | ETA: 00:00:00\n",
            "Total time elapsed: 00:00:08\n"
          ]
        },
        {
          "output_type": "stream",
          "name": "stdout",
          "text": [
            "Finished Epoch 13 || Run Time:    3.7 | Load Time:    5.1 || F1:  89.50 | Prec:  87.02 | Rec:  92.12 || Ex/s: 279.37\n",
            "\n",
            "---------------------\n",
            "\n",
            "===>  TRAIN Epoch 14\n"
          ]
        },
        {
          "output_type": "stream",
          "name": "stderr",
          "text": [
            "0% [██████████████████████████████] 100% | ETA: 00:00:00\n",
            "Total time elapsed: 00:00:34\n"
          ]
        },
        {
          "output_type": "stream",
          "name": "stdout",
          "text": [
            "Finished Epoch 14 || Run Time:   19.1 | Load Time:   16.1 || F1:  97.92 | Prec:  97.05 | Rec:  98.80 || Ex/s: 210.61\n",
            "\n",
            "===>  EVAL Epoch 14\n"
          ]
        },
        {
          "output_type": "stream",
          "name": "stderr",
          "text": [
            "0% [███████████████] 100% | ETA: 00:00:00\n",
            "Total time elapsed: 00:00:08\n"
          ]
        },
        {
          "output_type": "stream",
          "name": "stdout",
          "text": [
            "Finished Epoch 14 || Run Time:    3.6 | Load Time:    5.0 || F1:  89.18 | Prec:  86.62 | Rec:  91.89 || Ex/s: 288.38\n",
            "\n",
            "---------------------\n",
            "\n",
            "===>  TRAIN Epoch 15\n"
          ]
        },
        {
          "output_type": "stream",
          "name": "stderr",
          "text": [
            "0% [██████████████████████████████] 100% | ETA: 00:00:00\n",
            "Total time elapsed: 00:00:35\n"
          ]
        },
        {
          "output_type": "stream",
          "name": "stdout",
          "text": [
            "Finished Epoch 15 || Run Time:   19.3 | Load Time:   16.2 || F1:  98.03 | Prec:  97.20 | Rec:  98.87 || Ex/s: 208.90\n",
            "\n",
            "===>  EVAL Epoch 15\n"
          ]
        },
        {
          "output_type": "stream",
          "name": "stderr",
          "text": [
            "0% [███████████████] 100% | ETA: 00:00:00\n",
            "Total time elapsed: 00:00:08\n"
          ]
        },
        {
          "output_type": "stream",
          "name": "stdout",
          "text": [
            "Finished Epoch 15 || Run Time:    3.7 | Load Time:    5.0 || F1:  88.94 | Prec:  86.57 | Rec:  91.44 || Ex/s: 283.64\n",
            "\n",
            "---------------------\n",
            "\n",
            "Loading best model...\n",
            "Training done.\n"
          ]
        },
        {
          "output_type": "execute_result",
          "data": {
            "text/plain": [
              "tensor(90.7348, device='cuda:0')"
            ]
          },
          "metadata": {},
          "execution_count": 29
        }
      ],
      "source": [
        "model.run_train(\n",
        "    train,\n",
        "    validation,\n",
        "    epochs=15,\n",
        "    batch_size=32,\n",
        "    best_save_path='attention_model.pth',\n",
        "    pos_neg_ratio=3)"
      ]
    },
    {
      "cell_type": "code",
      "execution_count": null,
      "metadata": {
        "id": "oxv_PpwD75CO",
        "colab": {
          "base_uri": "https://localhost:8080/"
        },
        "outputId": "c0b05b42-c77e-4f17-ed4f-7d3d44107792"
      },
      "outputs": [
        {
          "output_type": "stream",
          "name": "stdout",
          "text": [
            "===>  EVAL Epoch 4\n"
          ]
        },
        {
          "output_type": "stream",
          "name": "stderr",
          "text": [
            "/usr/local/lib/python3.7/dist-packages/torch/nn/modules/module.py:974: UserWarning: Using a non-full backward hook when the forward contains multiple autograd Nodes is deprecated and will be removed in future versions. This hook will be missing some grad_input. Please use register_full_backward_hook to get the documented behavior.\n",
            "  warnings.warn(\"Using a non-full backward hook when the forward contains multiple autograd Nodes \"\n",
            "/usr/local/lib/python3.7/dist-packages/torch/nn/modules/module.py:949: UserWarning: Using non-full backward hooks on a Module that does not take as input a single Tensor or a tuple of Tensors is deprecated and will be removed in future versions. This hook will be missing some of the grad_input. Please use register_full_backward_hook to get the documented behavior.\n",
            "  warnings.warn(\"Using non-full backward hooks on a Module that does not take as input a \"\n",
            "/usr/local/lib/python3.7/dist-packages/torch/nn/modules/module.py:939: UserWarning: Using non-full backward hooks on a Module that does not return a single Tensor or a tuple of Tensors is deprecated and will be removed in future versions. This hook will be missing some of the grad_output. Please use register_full_backward_hook to get the documented behavior.\n",
            "  warnings.warn(\"Using non-full backward hooks on a Module that does not return a \"\n",
            "0% [███████████████] 100% | ETA: 00:00:00\n",
            "Total time elapsed: 00:00:08\n"
          ]
        },
        {
          "output_type": "stream",
          "name": "stdout",
          "text": [
            "Finished Epoch 4 || Run Time:    3.7 | Load Time:    4.9 || F1:  91.43 | Prec:  87.14 | Rec:  96.17 || Ex/s: 287.25\n",
            "\n"
          ]
        },
        {
          "output_type": "execute_result",
          "data": {
            "text/plain": [
              "tensor(91.4347, device='cuda:0')"
            ]
          },
          "metadata": {},
          "execution_count": 30
        }
      ],
      "source": [
        "# Compute F1 on test set\n",
        "model.run_eval(test)"
      ]
    },
    {
      "cell_type": "markdown",
      "metadata": {
        "id": "Cp1J6BdH75CP"
      },
      "source": [
        "##### DBLP-GoogleScholar"
      ]
    },
    {
      "cell_type": "code",
      "execution_count": null,
      "metadata": {
        "id": "aZ4UKkgV75CP"
      },
      "outputs": [],
      "source": [
        "train, validation, test = dm.data.process(\n",
        "    path='/content/IC/datasesErros/FMedium_50_1_2/Dirty/DBLP-GoogleScholar//',\n",
        "    train='joined_train.csv',\n",
        "    validation='joined_valid.csv',\n",
        "    test='joined_test.csv')"
      ]
    },
    {
      "cell_type": "code",
      "execution_count": null,
      "metadata": {
        "id": "TLjDl_e_75CP"
      },
      "outputs": [],
      "source": [
        "model = dm.MatchingModel(attr_summarizer='attention')"
      ]
    },
    {
      "cell_type": "code",
      "execution_count": null,
      "metadata": {
        "id": "WKDMNhYI75CQ",
        "colab": {
          "base_uri": "https://localhost:8080/"
        },
        "outputId": "d87f076b-ae32-4da7-d659-c1134a715860"
      },
      "outputs": [
        {
          "output_type": "stream",
          "name": "stderr",
          "text": [
            "/usr/local/lib/python3.7/dist-packages/torch/nn/modules/module.py:974: UserWarning: Using a non-full backward hook when the forward contains multiple autograd Nodes is deprecated and will be removed in future versions. This hook will be missing some grad_input. Please use register_full_backward_hook to get the documented behavior.\n",
            "  warnings.warn(\"Using a non-full backward hook when the forward contains multiple autograd Nodes \"\n",
            "/usr/local/lib/python3.7/dist-packages/torch/nn/modules/module.py:949: UserWarning: Using non-full backward hooks on a Module that does not take as input a single Tensor or a tuple of Tensors is deprecated and will be removed in future versions. This hook will be missing some of the grad_input. Please use register_full_backward_hook to get the documented behavior.\n",
            "  warnings.warn(\"Using non-full backward hooks on a Module that does not take as input a \"\n"
          ]
        },
        {
          "output_type": "stream",
          "name": "stdout",
          "text": [
            "* Number of trainable parameters: 4332002\n",
            "===>  TRAIN Epoch 1\n"
          ]
        },
        {
          "output_type": "stream",
          "name": "stderr",
          "text": [
            "/usr/local/lib/python3.7/dist-packages/torch/nn/modules/module.py:939: UserWarning: Using non-full backward hooks on a Module that does not return a single Tensor or a tuple of Tensors is deprecated and will be removed in future versions. This hook will be missing some of the grad_output. Please use register_full_backward_hook to get the documented behavior.\n",
            "  warnings.warn(\"Using non-full backward hooks on a Module that does not return a \"\n",
            "/usr/local/lib/python3.7/dist-packages/torch/nn/functional.py:2742: UserWarning: reduction: 'mean' divides the total loss by both the batch size and the support size.'batchmean' divides only by the batch size, and aligns with the KL div math definition.'mean' will be changed to behave the same as 'batchmean' in the next major release.\n",
            "  \"reduction: 'mean' divides the total loss by both the batch size and the support size.\"\n",
            "0% [██████████████████████████████] 100% | ETA: 00:00:00\n",
            "Total time elapsed: 00:01:16\n"
          ]
        },
        {
          "output_type": "stream",
          "name": "stdout",
          "text": [
            "Finished Epoch 1 || Run Time:   44.6 | Load Time:   32.8 || F1:  67.41 | Prec:  58.92 | Rec:  78.77 || Ex/s: 222.52\n",
            "\n",
            "===>  EVAL Epoch 1\n"
          ]
        },
        {
          "output_type": "stream",
          "name": "stderr",
          "text": [
            "0% [██████████████████████████████] 100% | ETA: 00:00:00\n",
            "Total time elapsed: 00:00:18\n"
          ]
        },
        {
          "output_type": "stream",
          "name": "stdout",
          "text": [
            "Finished Epoch 1 || Run Time:    8.6 | Load Time:   10.1 || F1:  83.16 | Prec:  81.27 | Rec:  85.14 || Ex/s: 306.71\n",
            "\n",
            "* Best F1: tensor(83.1584, device='cuda:0')\n",
            "Saving best model...\n",
            "Done.\n",
            "---------------------\n",
            "\n",
            "===>  TRAIN Epoch 2\n"
          ]
        },
        {
          "output_type": "stream",
          "name": "stderr",
          "text": [
            "0% [██████████████████████████████] 100% | ETA: 00:00:00\n",
            "Total time elapsed: 00:01:15\n"
          ]
        },
        {
          "output_type": "stream",
          "name": "stdout",
          "text": [
            "Finished Epoch 2 || Run Time:   43.4 | Load Time:   32.6 || F1:  83.14 | Prec:  76.61 | Rec:  90.89 || Ex/s: 226.68\n",
            "\n",
            "===>  EVAL Epoch 2\n"
          ]
        },
        {
          "output_type": "stream",
          "name": "stderr",
          "text": [
            "0% [██████████████████████████████] 100% | ETA: 00:00:00\n",
            "Total time elapsed: 00:00:18\n"
          ]
        },
        {
          "output_type": "stream",
          "name": "stdout",
          "text": [
            "Finished Epoch 2 || Run Time:    8.2 | Load Time:    9.9 || F1:  84.78 | Prec:  80.73 | Rec:  89.25 || Ex/s: 317.11\n",
            "\n",
            "* Best F1: tensor(84.7758, device='cuda:0')\n",
            "Saving best model...\n",
            "Done.\n",
            "---------------------\n",
            "\n",
            "===>  TRAIN Epoch 3\n"
          ]
        },
        {
          "output_type": "stream",
          "name": "stderr",
          "text": [
            "0% [██████████████████████████████] 100% | ETA: 00:00:00\n",
            "Total time elapsed: 00:01:15\n"
          ]
        },
        {
          "output_type": "stream",
          "name": "stdout",
          "text": [
            "Finished Epoch 3 || Run Time:   43.7 | Load Time:   32.7 || F1:  87.06 | Prec:  81.87 | Rec:  92.95 || Ex/s: 225.24\n",
            "\n",
            "===>  EVAL Epoch 3\n"
          ]
        },
        {
          "output_type": "stream",
          "name": "stderr",
          "text": [
            "0% [██████████████████████████████] 100% | ETA: 00:00:00\n",
            "Total time elapsed: 00:00:18\n"
          ]
        },
        {
          "output_type": "stream",
          "name": "stdout",
          "text": [
            "Finished Epoch 3 || Run Time:    8.2 | Load Time:    9.9 || F1:  86.92 | Prec:  84.28 | Rec:  89.72 || Ex/s: 317.14\n",
            "\n",
            "* Best F1: tensor(86.9172, device='cuda:0')\n",
            "Saving best model...\n",
            "Done.\n",
            "---------------------\n",
            "\n",
            "===>  TRAIN Epoch 4\n"
          ]
        },
        {
          "output_type": "stream",
          "name": "stderr",
          "text": [
            "0% [██████████████████████████████] 100% | ETA: 00:00:00\n",
            "Total time elapsed: 00:01:14\n"
          ]
        },
        {
          "output_type": "stream",
          "name": "stdout",
          "text": [
            "Finished Epoch 4 || Run Time:   43.0 | Load Time:   32.4 || F1:  89.47 | Prec:  85.09 | Rec:  94.32 || Ex/s: 228.33\n",
            "\n",
            "===>  EVAL Epoch 4\n"
          ]
        },
        {
          "output_type": "stream",
          "name": "stderr",
          "text": [
            "0% [██████████████████████████████] 100% | ETA: 00:00:00\n",
            "Total time elapsed: 00:00:18\n"
          ]
        },
        {
          "output_type": "stream",
          "name": "stdout",
          "text": [
            "Finished Epoch 4 || Run Time:    8.5 | Load Time:   10.2 || F1:  87.62 | Prec:  87.29 | Rec:  87.94 || Ex/s: 307.44\n",
            "\n",
            "* Best F1: tensor(87.6164, device='cuda:0')\n",
            "Saving best model...\n",
            "Done.\n",
            "---------------------\n",
            "\n",
            "===>  TRAIN Epoch 5\n"
          ]
        },
        {
          "output_type": "stream",
          "name": "stderr",
          "text": [
            "0% [██████████████████████████████] 100% | ETA: 00:00:00\n",
            "Total time elapsed: 00:01:15\n"
          ]
        },
        {
          "output_type": "stream",
          "name": "stdout",
          "text": [
            "Finished Epoch 5 || Run Time:   43.2 | Load Time:   32.6 || F1:  91.84 | Prec:  88.20 | Rec:  95.79 || Ex/s: 227.04\n",
            "\n",
            "===>  EVAL Epoch 5\n"
          ]
        },
        {
          "output_type": "stream",
          "name": "stderr",
          "text": [
            "0% [██████████████████████████████] 100% | ETA: 00:00:00\n",
            "Total time elapsed: 00:00:18\n"
          ]
        },
        {
          "output_type": "stream",
          "name": "stdout",
          "text": [
            "Finished Epoch 5 || Run Time:    8.3 | Load Time:    9.9 || F1:  87.95 | Prec:  85.33 | Rec:  90.75 || Ex/s: 316.06\n",
            "\n",
            "* Best F1: tensor(87.9529, device='cuda:0')\n",
            "Saving best model...\n",
            "Done.\n",
            "---------------------\n",
            "\n",
            "===>  TRAIN Epoch 6\n"
          ]
        },
        {
          "output_type": "stream",
          "name": "stderr",
          "text": [
            "0% [██████████████████████████████] 100% | ETA: 00:00:00\n",
            "Total time elapsed: 00:01:15\n"
          ]
        },
        {
          "output_type": "stream",
          "name": "stdout",
          "text": [
            "Finished Epoch 6 || Run Time:   43.6 | Load Time:   32.7 || F1:  93.41 | Prec:  90.24 | Rec:  96.82 || Ex/s: 225.62\n",
            "\n",
            "===>  EVAL Epoch 6\n"
          ]
        },
        {
          "output_type": "stream",
          "name": "stderr",
          "text": [
            "0% [██████████████████████████████] 100% | ETA: 00:00:00\n",
            "Total time elapsed: 00:00:18\n"
          ]
        },
        {
          "output_type": "stream",
          "name": "stdout",
          "text": [
            "Finished Epoch 6 || Run Time:    8.6 | Load Time:   10.1 || F1:  87.95 | Prec:  84.75 | Rec:  91.40 || Ex/s: 306.82\n",
            "\n",
            "---------------------\n",
            "\n",
            "===>  TRAIN Epoch 7\n"
          ]
        },
        {
          "output_type": "stream",
          "name": "stderr",
          "text": [
            "0% [██████████████████████████████] 100% | ETA: 00:00:00\n",
            "Total time elapsed: 00:01:14\n"
          ]
        },
        {
          "output_type": "stream",
          "name": "stdout",
          "text": [
            "Finished Epoch 7 || Run Time:   42.7 | Load Time:   32.3 || F1:  94.51 | Prec:  92.00 | Rec:  97.16 || Ex/s: 229.60\n",
            "\n",
            "===>  EVAL Epoch 7\n"
          ]
        },
        {
          "output_type": "stream",
          "name": "stderr",
          "text": [
            "0% [██████████████████████████████] 100% | ETA: 00:00:00\n",
            "Total time elapsed: 00:00:18\n"
          ]
        },
        {
          "output_type": "stream",
          "name": "stdout",
          "text": [
            "Finished Epoch 7 || Run Time:    8.3 | Load Time:    9.9 || F1:  86.59 | Prec:  80.38 | Rec:  93.83 || Ex/s: 315.28\n",
            "\n",
            "---------------------\n",
            "\n",
            "===>  TRAIN Epoch 8\n"
          ]
        },
        {
          "output_type": "stream",
          "name": "stderr",
          "text": [
            "0% [██████████████████████████████] 100% | ETA: 00:00:00\n",
            "Total time elapsed: 00:01:15\n"
          ]
        },
        {
          "output_type": "stream",
          "name": "stdout",
          "text": [
            "Finished Epoch 8 || Run Time:   43.8 | Load Time:   32.7 || F1:  95.31 | Prec:  93.08 | Rec:  97.66 || Ex/s: 225.11\n",
            "\n",
            "===>  EVAL Epoch 8\n"
          ]
        },
        {
          "output_type": "stream",
          "name": "stderr",
          "text": [
            "0% [██████████████████████████████] 100% | ETA: 00:00:00\n",
            "Total time elapsed: 00:00:18\n"
          ]
        },
        {
          "output_type": "stream",
          "name": "stdout",
          "text": [
            "Finished Epoch 8 || Run Time:    8.3 | Load Time:    9.9 || F1:  86.34 | Prec:  92.15 | Rec:  81.21 || Ex/s: 314.51\n",
            "\n",
            "---------------------\n",
            "\n",
            "===>  TRAIN Epoch 9\n"
          ]
        },
        {
          "output_type": "stream",
          "name": "stderr",
          "text": [
            "0% [██████████████████████████████] 100% | ETA: 00:00:00\n",
            "Total time elapsed: 00:01:15\n"
          ]
        },
        {
          "output_type": "stream",
          "name": "stdout",
          "text": [
            "Finished Epoch 9 || Run Time:   43.4 | Load Time:   32.6 || F1:  96.06 | Prec:  94.05 | Rec:  98.16 || Ex/s: 226.62\n",
            "\n",
            "===>  EVAL Epoch 9\n"
          ]
        },
        {
          "output_type": "stream",
          "name": "stderr",
          "text": [
            "0% [██████████████████████████████] 100% | ETA: 00:00:00\n",
            "Total time elapsed: 00:00:18\n"
          ]
        },
        {
          "output_type": "stream",
          "name": "stdout",
          "text": [
            "Finished Epoch 9 || Run Time:    8.3 | Load Time:   10.0 || F1:  87.86 | Prec:  91.41 | Rec:  84.58 || Ex/s: 313.24\n",
            "\n",
            "---------------------\n",
            "\n",
            "===>  TRAIN Epoch 10\n"
          ]
        },
        {
          "output_type": "stream",
          "name": "stderr",
          "text": [
            "0% [██████████████████████████████] 100% | ETA: 00:00:00\n",
            "Total time elapsed: 00:01:15\n"
          ]
        },
        {
          "output_type": "stream",
          "name": "stdout",
          "text": [
            "Finished Epoch 10 || Run Time:   43.9 | Load Time:   32.8 || F1:  96.43 | Prec:  94.74 | Rec:  98.19 || Ex/s: 224.78\n",
            "\n",
            "===>  EVAL Epoch 10\n"
          ]
        },
        {
          "output_type": "stream",
          "name": "stderr",
          "text": [
            "0% [██████████████████████████████] 100% | ETA: 00:00:00\n",
            "Total time elapsed: 00:00:18\n"
          ]
        },
        {
          "output_type": "stream",
          "name": "stdout",
          "text": [
            "Finished Epoch 10 || Run Time:    8.3 | Load Time:    9.9 || F1:  87.22 | Prec:  91.57 | Rec:  83.27 || Ex/s: 315.90\n",
            "\n",
            "---------------------\n",
            "\n",
            "===>  TRAIN Epoch 11\n"
          ]
        },
        {
          "output_type": "stream",
          "name": "stderr",
          "text": [
            "0% [██████████████████████████████] 100% | ETA: 00:00:00\n",
            "Total time elapsed: 00:01:15\n"
          ]
        },
        {
          "output_type": "stream",
          "name": "stdout",
          "text": [
            "Finished Epoch 11 || Run Time:   43.5 | Load Time:   32.7 || F1:  97.02 | Prec:  95.69 | Rec:  98.38 || Ex/s: 226.18\n",
            "\n",
            "===>  EVAL Epoch 11\n"
          ]
        },
        {
          "output_type": "stream",
          "name": "stderr",
          "text": [
            "0% [██████████████████████████████] 100% | ETA: 00:00:00\n",
            "Total time elapsed: 00:00:18\n"
          ]
        },
        {
          "output_type": "stream",
          "name": "stdout",
          "text": [
            "Finished Epoch 11 || Run Time:    8.6 | Load Time:   10.2 || F1:  87.21 | Prec:  91.31 | Rec:  83.46 || Ex/s: 305.01\n",
            "\n",
            "---------------------\n",
            "\n",
            "===>  TRAIN Epoch 12\n"
          ]
        },
        {
          "output_type": "stream",
          "name": "stderr",
          "text": [
            "0% [██████████████████████████████] 100% | ETA: 00:00:00\n",
            "Total time elapsed: 00:01:14\n"
          ]
        },
        {
          "output_type": "stream",
          "name": "stdout",
          "text": [
            "Finished Epoch 12 || Run Time:   43.0 | Load Time:   32.5 || F1:  97.32 | Prec:  96.16 | Rec:  98.50 || Ex/s: 228.25\n",
            "\n",
            "===>  EVAL Epoch 12\n"
          ]
        },
        {
          "output_type": "stream",
          "name": "stderr",
          "text": [
            "0% [██████████████████████████████] 100% | ETA: 00:00:00\n",
            "Total time elapsed: 00:00:18\n"
          ]
        },
        {
          "output_type": "stream",
          "name": "stdout",
          "text": [
            "Finished Epoch 12 || Run Time:    8.2 | Load Time:    9.9 || F1:  88.01 | Prec:  90.76 | Rec:  85.42 || Ex/s: 317.05\n",
            "\n",
            "* Best F1: tensor(88.0116, device='cuda:0')\n",
            "Saving best model...\n",
            "Done.\n",
            "---------------------\n",
            "\n",
            "===>  TRAIN Epoch 13\n"
          ]
        },
        {
          "output_type": "stream",
          "name": "stderr",
          "text": [
            "0% [██████████████████████████████] 100% | ETA: 00:00:00\n",
            "Total time elapsed: 00:01:16\n"
          ]
        },
        {
          "output_type": "stream",
          "name": "stdout",
          "text": [
            "Finished Epoch 13 || Run Time:   44.2 | Load Time:   32.9 || F1:  97.68 | Prec:  96.76 | Rec:  98.63 || Ex/s: 223.32\n",
            "\n",
            "===>  EVAL Epoch 13\n"
          ]
        },
        {
          "output_type": "stream",
          "name": "stderr",
          "text": [
            "0% [██████████████████████████████] 100% | ETA: 00:00:00\n",
            "Total time elapsed: 00:00:18\n"
          ]
        },
        {
          "output_type": "stream",
          "name": "stdout",
          "text": [
            "Finished Epoch 13 || Run Time:    8.3 | Load Time:    9.9 || F1:  88.27 | Prec:  89.37 | Rec:  87.20 || Ex/s: 315.09\n",
            "\n",
            "* Best F1: tensor(88.2687, device='cuda:0')\n",
            "Saving best model...\n",
            "Done.\n",
            "---------------------\n",
            "\n",
            "===>  TRAIN Epoch 14\n"
          ]
        },
        {
          "output_type": "stream",
          "name": "stderr",
          "text": [
            "0% [██████████████████████████████] 100% | ETA: 00:00:00\n",
            "Total time elapsed: 00:01:15\n"
          ]
        },
        {
          "output_type": "stream",
          "name": "stdout",
          "text": [
            "Finished Epoch 14 || Run Time:   43.2 | Load Time:   32.5 || F1:  98.03 | Prec:  97.30 | Rec:  98.78 || Ex/s: 227.48\n",
            "\n",
            "===>  EVAL Epoch 14\n"
          ]
        },
        {
          "output_type": "stream",
          "name": "stderr",
          "text": [
            "0% [██████████████████████████████] 100% | ETA: 00:00:00\n",
            "Total time elapsed: 00:00:18\n"
          ]
        },
        {
          "output_type": "stream",
          "name": "stdout",
          "text": [
            "Finished Epoch 14 || Run Time:    8.4 | Load Time:   10.1 || F1:  88.30 | Prec:  88.46 | Rec:  88.13 || Ex/s: 311.53\n",
            "\n",
            "* Best F1: tensor(88.2959, device='cuda:0')\n",
            "Saving best model...\n",
            "Done.\n",
            "---------------------\n",
            "\n",
            "===>  TRAIN Epoch 15\n"
          ]
        },
        {
          "output_type": "stream",
          "name": "stderr",
          "text": [
            "0% [██████████████████████████████] 100% | ETA: 00:00:00\n",
            "Total time elapsed: 00:01:16\n"
          ]
        },
        {
          "output_type": "stream",
          "name": "stdout",
          "text": [
            "Finished Epoch 15 || Run Time:   43.9 | Load Time:   32.8 || F1:  98.25 | Prec:  97.63 | Rec:  98.88 || Ex/s: 224.53\n",
            "\n",
            "===>  EVAL Epoch 15\n"
          ]
        },
        {
          "output_type": "stream",
          "name": "stderr",
          "text": [
            "0% [██████████████████████████████] 100% | ETA: 00:00:00\n",
            "Total time elapsed: 00:00:18\n"
          ]
        },
        {
          "output_type": "stream",
          "name": "stdout",
          "text": [
            "Finished Epoch 15 || Run Time:    8.3 | Load Time:   10.0 || F1:  88.39 | Prec:  87.82 | Rec:  88.97 || Ex/s: 314.15\n",
            "\n",
            "* Best F1: tensor(88.3937, device='cuda:0')\n",
            "Saving best model...\n",
            "Done.\n",
            "---------------------\n",
            "\n",
            "Loading best model...\n",
            "Training done.\n"
          ]
        },
        {
          "output_type": "execute_result",
          "data": {
            "text/plain": [
              "tensor(88.3937, device='cuda:0')"
            ]
          },
          "metadata": {},
          "execution_count": 25
        }
      ],
      "source": [
        "model.run_train(\n",
        "    train,\n",
        "    validation,\n",
        "    epochs=15,\n",
        "    batch_size=32,\n",
        "    best_save_path='attention_model.pth',\n",
        "    pos_neg_ratio=3)"
      ]
    },
    {
      "cell_type": "code",
      "execution_count": null,
      "metadata": {
        "id": "T5lYYwCe75CQ",
        "colab": {
          "base_uri": "https://localhost:8080/"
        },
        "outputId": "097ccee9-757f-40fc-8e7b-799d841dd2ef"
      },
      "outputs": [
        {
          "output_type": "stream",
          "name": "stdout",
          "text": [
            "===>  EVAL Epoch 15\n"
          ]
        },
        {
          "output_type": "stream",
          "name": "stderr",
          "text": [
            "/usr/local/lib/python3.7/dist-packages/torch/nn/modules/module.py:974: UserWarning: Using a non-full backward hook when the forward contains multiple autograd Nodes is deprecated and will be removed in future versions. This hook will be missing some grad_input. Please use register_full_backward_hook to get the documented behavior.\n",
            "  warnings.warn(\"Using a non-full backward hook when the forward contains multiple autograd Nodes \"\n",
            "/usr/local/lib/python3.7/dist-packages/torch/nn/modules/module.py:949: UserWarning: Using non-full backward hooks on a Module that does not take as input a single Tensor or a tuple of Tensors is deprecated and will be removed in future versions. This hook will be missing some of the grad_input. Please use register_full_backward_hook to get the documented behavior.\n",
            "  warnings.warn(\"Using non-full backward hooks on a Module that does not take as input a \"\n",
            "/usr/local/lib/python3.7/dist-packages/torch/nn/modules/module.py:939: UserWarning: Using non-full backward hooks on a Module that does not return a single Tensor or a tuple of Tensors is deprecated and will be removed in future versions. This hook will be missing some of the grad_output. Please use register_full_backward_hook to get the documented behavior.\n",
            "  warnings.warn(\"Using non-full backward hooks on a Module that does not return a \"\n",
            "0% [██████████████████████████████] 100% | ETA: 00:00:00\n",
            "Total time elapsed: 00:00:18\n"
          ]
        },
        {
          "output_type": "stream",
          "name": "stdout",
          "text": [
            "Finished Epoch 15 || Run Time:    8.4 | Load Time:   10.2 || F1:  88.22 | Prec:  88.22 | Rec:  88.22 || Ex/s: 307.82\n",
            "\n"
          ]
        },
        {
          "output_type": "execute_result",
          "data": {
            "text/plain": [
              "tensor(88.2243, device='cuda:0')"
            ]
          },
          "metadata": {},
          "execution_count": 26
        }
      ],
      "source": [
        "# Compute F1 on test set\n",
        "model.run_eval(test)"
      ]
    },
    {
      "cell_type": "markdown",
      "metadata": {
        "id": "6KL5c0Ov8Zkv"
      },
      "source": [
        "### HYBRID"
      ]
    },
    {
      "cell_type": "markdown",
      "metadata": {
        "id": "A2FLzeDM8Zkv"
      },
      "source": [
        "#### STRUCTURED"
      ]
    },
    {
      "cell_type": "markdown",
      "metadata": {
        "id": "vP7EvOdZ8Zkw"
      },
      "source": [
        "##### Amazon-Google"
      ]
    },
    {
      "cell_type": "code",
      "execution_count": null,
      "metadata": {
        "id": "yaP7hFJ_8Zkw",
        "colab": {
          "base_uri": "https://localhost:8080/"
        },
        "outputId": "c718b9c2-fc76-4515-f4ab-07a4cba699b1"
      },
      "outputs": [
        {
          "output_type": "stream",
          "name": "stderr",
          "text": [
            "WARNING:deepmatcher.data.dataset:Rebuilding data cache because: ['One or more data files have been modified.', 'Data file list has changed.']\n",
            "\n",
            "Reading and processing data from \"/content/IC/datasesErros/FMedium_50_1_2/Structured/Amazon-Google/joined_train.csv\"\n",
            "0% [############################# ] 100% | ETA: 00:00:00\n",
            "Reading and processing data from \"/content/IC/datasesErros/FMedium_50_1_2/Structured/Amazon-Google/joined_valid.csv\"\n",
            "0% [############################# ] 100% | ETA: 00:00:00\n",
            "Reading and processing data from \"/content/IC/datasesErros/FMedium_50_1_2/Structured/Amazon-Google/joined_test.csv\"\n",
            "0% [############################# ] 100% | ETA: 00:00:00\n",
            "Building vocabulary\n",
            "0% [#######] 100% | ETA: 00:00:00\n",
            "Total time elapsed: 00:00:00\n",
            "\n",
            "Computing principal components\n",
            "0% [#######] 100% | ETA: 00:00:00\n",
            "Total time elapsed: 00:00:01\n"
          ]
        }
      ],
      "source": [
        "train, validation, test = dm.data.process(\n",
        "    path='/content/IC/datasesErros/FMedium_50_1_2/Structured/Amazon-Google/',\n",
        "    train='joined_train.csv',\n",
        "    validation='joined_valid.csv',\n",
        "    test='joined_test.csv')"
      ]
    },
    {
      "cell_type": "code",
      "execution_count": null,
      "metadata": {
        "id": "BF9iNYX-8Zkw"
      },
      "outputs": [],
      "source": [
        "model = dm.MatchingModel(attr_summarizer='hybrid')"
      ]
    },
    {
      "cell_type": "code",
      "execution_count": null,
      "metadata": {
        "id": "DqQ6GU2W8Zkx",
        "colab": {
          "base_uri": "https://localhost:8080/"
        },
        "outputId": "b3f56f10-55ab-41c8-874c-6924d7625d75"
      },
      "outputs": [
        {
          "output_type": "stream",
          "name": "stderr",
          "text": [
            "/usr/local/lib/python3.7/dist-packages/torch/nn/modules/module.py:949: UserWarning: Using non-full backward hooks on a Module that does not take as input a single Tensor or a tuple of Tensors is deprecated and will be removed in future versions. This hook will be missing some of the grad_input. Please use register_full_backward_hook to get the documented behavior.\n",
            "  warnings.warn(\"Using non-full backward hooks on a Module that does not take as input a \"\n",
            "/usr/local/lib/python3.7/dist-packages/torch/nn/modules/module.py:974: UserWarning: Using a non-full backward hook when the forward contains multiple autograd Nodes is deprecated and will be removed in future versions. This hook will be missing some grad_input. Please use register_full_backward_hook to get the documented behavior.\n",
            "  warnings.warn(\"Using a non-full backward hook when the forward contains multiple autograd Nodes \"\n"
          ]
        },
        {
          "output_type": "stream",
          "name": "stdout",
          "text": [
            "* Number of trainable parameters: 7133105\n",
            "===>  TRAIN Epoch 1\n"
          ]
        },
        {
          "output_type": "stream",
          "name": "stderr",
          "text": [
            "/usr/local/lib/python3.7/dist-packages/torch/nn/modules/module.py:939: UserWarning: Using non-full backward hooks on a Module that does not return a single Tensor or a tuple of Tensors is deprecated and will be removed in future versions. This hook will be missing some of the grad_output. Please use register_full_backward_hook to get the documented behavior.\n",
            "  warnings.warn(\"Using non-full backward hooks on a Module that does not return a \"\n",
            "/usr/local/lib/python3.7/dist-packages/torch/nn/functional.py:2742: UserWarning: reduction: 'mean' divides the total loss by both the batch size and the support size.'batchmean' divides only by the batch size, and aligns with the KL div math definition.'mean' will be changed to behave the same as 'batchmean' in the next major release.\n",
            "  \"reduction: 'mean' divides the total loss by both the batch size and the support size.\"\n",
            "0% [██████████████████████████████] 100% | ETA: 00:00:00\n",
            "Total time elapsed: 00:00:26\n"
          ]
        },
        {
          "output_type": "stream",
          "name": "stdout",
          "text": [
            "Finished Epoch 1 || Run Time:   21.5 | Load Time:    5.2 || F1:  24.56 | Prec:  32.47 | Rec:  19.74 || Ex/s: 257.76\n",
            "\n",
            "===>  EVAL Epoch 1\n"
          ]
        },
        {
          "output_type": "stream",
          "name": "stderr",
          "text": [
            "0% [██████████████] 100% | ETA: 00:00:00\n",
            "Total time elapsed: 00:00:05\n"
          ]
        },
        {
          "output_type": "stream",
          "name": "stdout",
          "text": [
            "Finished Epoch 1 || Run Time:    3.7 | Load Time:    1.7 || F1:  41.25 | Prec:  33.60 | Rec:  53.42 || Ex/s: 431.32\n",
            "\n",
            "* Best F1: tensor(41.2541, device='cuda:0')\n",
            "Saving best model...\n",
            "Done.\n",
            "---------------------\n",
            "\n",
            "===>  TRAIN Epoch 2\n"
          ]
        },
        {
          "output_type": "stream",
          "name": "stderr",
          "text": [
            "0% [██████████████████████████████] 100% | ETA: 00:00:00\n",
            "Total time elapsed: 00:00:26\n"
          ]
        },
        {
          "output_type": "stream",
          "name": "stdout",
          "text": [
            "Finished Epoch 2 || Run Time:   21.7 | Load Time:    5.3 || F1:  52.03 | Prec:  46.13 | Rec:  59.66 || Ex/s: 254.91\n",
            "\n",
            "===>  EVAL Epoch 2\n"
          ]
        },
        {
          "output_type": "stream",
          "name": "stderr",
          "text": [
            "0% [██████████████] 100% | ETA: 00:00:00\n",
            "Total time elapsed: 00:00:05\n"
          ]
        },
        {
          "output_type": "stream",
          "name": "stdout",
          "text": [
            "Finished Epoch 2 || Run Time:    3.7 | Load Time:    1.7 || F1:  45.20 | Prec:  31.58 | Rec:  79.49 || Ex/s: 429.69\n",
            "\n",
            "* Best F1: tensor(45.2005, device='cuda:0')\n",
            "Saving best model...\n",
            "Done.\n",
            "---------------------\n",
            "\n",
            "===>  TRAIN Epoch 3\n"
          ]
        },
        {
          "output_type": "stream",
          "name": "stderr",
          "text": [
            "0% [██████████████████████████████] 100% | ETA: 00:00:00\n",
            "Total time elapsed: 00:00:26\n"
          ]
        },
        {
          "output_type": "stream",
          "name": "stdout",
          "text": [
            "Finished Epoch 3 || Run Time:   21.4 | Load Time:    5.2 || F1:  63.69 | Prec:  55.67 | Rec:  74.39 || Ex/s: 258.59\n",
            "\n",
            "===>  EVAL Epoch 3\n"
          ]
        },
        {
          "output_type": "stream",
          "name": "stderr",
          "text": [
            "0% [██████████████] 100% | ETA: 00:00:00\n",
            "Total time elapsed: 00:00:05\n"
          ]
        },
        {
          "output_type": "stream",
          "name": "stdout",
          "text": [
            "Finished Epoch 3 || Run Time:    3.8 | Load Time:    1.7 || F1:  47.56 | Prec:  33.28 | Rec:  83.33 || Ex/s: 419.07\n",
            "\n",
            "* Best F1: tensor(47.5610, device='cuda:0')\n",
            "Saving best model...\n",
            "Done.\n",
            "---------------------\n",
            "\n",
            "===>  TRAIN Epoch 4\n"
          ]
        },
        {
          "output_type": "stream",
          "name": "stderr",
          "text": [
            "0% [██████████████████████████████] 100% | ETA: 00:00:00\n",
            "Total time elapsed: 00:00:26\n"
          ]
        },
        {
          "output_type": "stream",
          "name": "stdout",
          "text": [
            "Finished Epoch 4 || Run Time:   21.6 | Load Time:    5.3 || F1:  73.50 | Prec:  64.34 | Rec:  85.69 || Ex/s: 256.02\n",
            "\n",
            "===>  EVAL Epoch 4\n"
          ]
        },
        {
          "output_type": "stream",
          "name": "stderr",
          "text": [
            "0% [██████████████] 100% | ETA: 00:00:00\n",
            "Total time elapsed: 00:00:05\n"
          ]
        },
        {
          "output_type": "stream",
          "name": "stdout",
          "text": [
            "Finished Epoch 4 || Run Time:    3.8 | Load Time:    1.7 || F1:  53.95 | Prec:  45.11 | Rec:  67.09 || Ex/s: 420.47\n",
            "\n",
            "* Best F1: tensor(53.9519, device='cuda:0')\n",
            "Saving best model...\n",
            "Done.\n",
            "---------------------\n",
            "\n",
            "===>  TRAIN Epoch 5\n"
          ]
        },
        {
          "output_type": "stream",
          "name": "stderr",
          "text": [
            "0% [██████████████████████████████] 100% | ETA: 00:00:00\n",
            "Total time elapsed: 00:00:26\n"
          ]
        },
        {
          "output_type": "stream",
          "name": "stdout",
          "text": [
            "Finished Epoch 5 || Run Time:   21.5 | Load Time:    5.3 || F1:  80.18 | Prec:  72.49 | Rec:  89.70 || Ex/s: 256.60\n",
            "\n",
            "===>  EVAL Epoch 5\n"
          ]
        },
        {
          "output_type": "stream",
          "name": "stderr",
          "text": [
            "0% [██████████████] 100% | ETA: 00:00:00\n",
            "Total time elapsed: 00:00:04\n"
          ]
        },
        {
          "output_type": "stream",
          "name": "stdout",
          "text": [
            "Finished Epoch 5 || Run Time:    3.5 | Load Time:    1.6 || F1:  53.87 | Prec:  47.40 | Rec:  62.39 || Ex/s: 445.68\n",
            "\n",
            "---------------------\n",
            "\n",
            "===>  TRAIN Epoch 6\n"
          ]
        },
        {
          "output_type": "stream",
          "name": "stderr",
          "text": [
            "0% [██████████████████████████████] 100% | ETA: 00:00:00\n",
            "Total time elapsed: 00:00:26\n"
          ]
        },
        {
          "output_type": "stream",
          "name": "stdout",
          "text": [
            "Finished Epoch 6 || Run Time:   21.1 | Load Time:    5.2 || F1:  85.53 | Prec:  79.17 | Rec:  92.99 || Ex/s: 261.72\n",
            "\n",
            "===>  EVAL Epoch 6\n"
          ]
        },
        {
          "output_type": "stream",
          "name": "stderr",
          "text": [
            "0% [██████████████] 100% | ETA: 00:00:00\n",
            "Total time elapsed: 00:00:05\n"
          ]
        },
        {
          "output_type": "stream",
          "name": "stdout",
          "text": [
            "Finished Epoch 6 || Run Time:    3.6 | Load Time:    1.6 || F1:  54.23 | Prec:  45.51 | Rec:  67.09 || Ex/s: 434.32\n",
            "\n",
            "* Best F1: tensor(54.2314, device='cuda:0')\n",
            "Saving best model...\n",
            "Done.\n",
            "---------------------\n",
            "\n",
            "===>  TRAIN Epoch 7\n"
          ]
        },
        {
          "output_type": "stream",
          "name": "stderr",
          "text": [
            "0% [██████████████████████████████] 100% | ETA: 00:00:00\n",
            "Total time elapsed: 00:00:25\n"
          ]
        },
        {
          "output_type": "stream",
          "name": "stdout",
          "text": [
            "Finished Epoch 7 || Run Time:   20.9 | Load Time:    5.1 || F1:  89.16 | Prec:  83.77 | Rec:  95.28 || Ex/s: 264.21\n",
            "\n",
            "===>  EVAL Epoch 7\n"
          ]
        },
        {
          "output_type": "stream",
          "name": "stderr",
          "text": [
            "0% [██████████████] 100% | ETA: 00:00:00\n",
            "Total time elapsed: 00:00:05\n"
          ]
        },
        {
          "output_type": "stream",
          "name": "stdout",
          "text": [
            "Finished Epoch 7 || Run Time:    3.6 | Load Time:    1.7 || F1:  52.51 | Prec:  47.89 | Rec:  58.12 || Ex/s: 435.12\n",
            "\n",
            "---------------------\n",
            "\n",
            "===>  TRAIN Epoch 8\n"
          ]
        },
        {
          "output_type": "stream",
          "name": "stderr",
          "text": [
            "0% [██████████████████████████████] 100% | ETA: 00:00:00\n",
            "Total time elapsed: 00:00:26\n"
          ]
        },
        {
          "output_type": "stream",
          "name": "stdout",
          "text": [
            "Finished Epoch 8 || Run Time:   21.3 | Load Time:    5.2 || F1:  91.75 | Prec:  87.03 | Rec:  97.00 || Ex/s: 258.93\n",
            "\n",
            "===>  EVAL Epoch 8\n"
          ]
        },
        {
          "output_type": "stream",
          "name": "stderr",
          "text": [
            "0% [██████████████] 100% | ETA: 00:00:00\n",
            "Total time elapsed: 00:00:05\n"
          ]
        },
        {
          "output_type": "stream",
          "name": "stdout",
          "text": [
            "Finished Epoch 8 || Run Time:    3.6 | Load Time:    1.7 || F1:  50.72 | Prec:  58.33 | Rec:  44.87 || Ex/s: 434.99\n",
            "\n",
            "---------------------\n",
            "\n",
            "===>  TRAIN Epoch 9\n"
          ]
        },
        {
          "output_type": "stream",
          "name": "stderr",
          "text": [
            "0% [██████████████████████████████] 100% | ETA: 00:00:00\n",
            "Total time elapsed: 00:00:26\n"
          ]
        },
        {
          "output_type": "stream",
          "name": "stdout",
          "text": [
            "Finished Epoch 9 || Run Time:   21.3 | Load Time:    5.2 || F1:  93.15 | Prec:  89.36 | Rec:  97.28 || Ex/s: 259.64\n",
            "\n",
            "===>  EVAL Epoch 9\n"
          ]
        },
        {
          "output_type": "stream",
          "name": "stderr",
          "text": [
            "0% [██████████████] 100% | ETA: 00:00:00\n",
            "Total time elapsed: 00:00:04\n"
          ]
        },
        {
          "output_type": "stream",
          "name": "stdout",
          "text": [
            "Finished Epoch 9 || Run Time:    3.4 | Load Time:    1.6 || F1:  45.71 | Prec:  58.28 | Rec:  37.61 || Ex/s: 460.85\n",
            "\n",
            "---------------------\n",
            "\n",
            "===>  TRAIN Epoch 10\n"
          ]
        },
        {
          "output_type": "stream",
          "name": "stderr",
          "text": [
            "0% [██████████████████████████████] 100% | ETA: 00:00:00\n",
            "Total time elapsed: 00:00:26\n"
          ]
        },
        {
          "output_type": "stream",
          "name": "stdout",
          "text": [
            "Finished Epoch 10 || Run Time:   21.4 | Load Time:    5.2 || F1:  94.60 | Prec:  91.68 | Rec:  97.71 || Ex/s: 258.22\n",
            "\n",
            "===>  EVAL Epoch 10\n"
          ]
        },
        {
          "output_type": "stream",
          "name": "stderr",
          "text": [
            "0% [██████████████] 100% | ETA: 00:00:00\n",
            "Total time elapsed: 00:00:05\n"
          ]
        },
        {
          "output_type": "stream",
          "name": "stdout",
          "text": [
            "Finished Epoch 10 || Run Time:    3.6 | Load Time:    1.6 || F1:  50.37 | Prec:  60.48 | Rec:  43.16 || Ex/s: 440.78\n",
            "\n",
            "---------------------\n",
            "\n",
            "===>  TRAIN Epoch 11\n"
          ]
        },
        {
          "output_type": "stream",
          "name": "stderr",
          "text": [
            "0% [██████████████████████████████] 100% | ETA: 00:00:00\n",
            "Total time elapsed: 00:00:26\n"
          ]
        },
        {
          "output_type": "stream",
          "name": "stdout",
          "text": [
            "Finished Epoch 11 || Run Time:   21.4 | Load Time:    5.2 || F1:  96.08 | Prec:  94.10 | Rec:  98.14 || Ex/s: 257.88\n",
            "\n",
            "===>  EVAL Epoch 11\n"
          ]
        },
        {
          "output_type": "stream",
          "name": "stderr",
          "text": [
            "0% [██████████████] 100% | ETA: 00:00:00\n",
            "Total time elapsed: 00:00:05\n"
          ]
        },
        {
          "output_type": "stream",
          "name": "stdout",
          "text": [
            "Finished Epoch 11 || Run Time:    3.7 | Load Time:    1.6 || F1:  53.59 | Prec:  60.87 | Rec:  47.86 || Ex/s: 433.26\n",
            "\n",
            "---------------------\n",
            "\n",
            "===>  TRAIN Epoch 12\n"
          ]
        },
        {
          "output_type": "stream",
          "name": "stderr",
          "text": [
            "0% [██████████████████████████████] 100% | ETA: 00:00:00\n",
            "Total time elapsed: 00:00:25\n"
          ]
        },
        {
          "output_type": "stream",
          "name": "stdout",
          "text": [
            "Finished Epoch 12 || Run Time:   20.9 | Load Time:    5.1 || F1:  96.35 | Prec:  94.62 | Rec:  98.14 || Ex/s: 263.91\n",
            "\n",
            "===>  EVAL Epoch 12\n"
          ]
        },
        {
          "output_type": "stream",
          "name": "stderr",
          "text": [
            "0% [██████████████] 100% | ETA: 00:00:00\n",
            "Total time elapsed: 00:00:05\n"
          ]
        },
        {
          "output_type": "stream",
          "name": "stdout",
          "text": [
            "Finished Epoch 12 || Run Time:    3.5 | Load Time:    1.6 || F1:  53.68 | Prec:  60.43 | Rec:  48.29 || Ex/s: 443.26\n",
            "\n",
            "---------------------\n",
            "\n",
            "===>  TRAIN Epoch 13\n"
          ]
        },
        {
          "output_type": "stream",
          "name": "stderr",
          "text": [
            "0% [██████████████████████████████] 100% | ETA: 00:00:00\n",
            "Total time elapsed: 00:00:26\n"
          ]
        },
        {
          "output_type": "stream",
          "name": "stdout",
          "text": [
            "Finished Epoch 13 || Run Time:   20.9 | Load Time:    5.2 || F1:  97.03 | Prec:  95.82 | Rec:  98.28 || Ex/s: 263.31\n",
            "\n",
            "===>  EVAL Epoch 13\n"
          ]
        },
        {
          "output_type": "stream",
          "name": "stderr",
          "text": [
            "0% [██████████████] 100% | ETA: 00:00:00\n",
            "Total time elapsed: 00:00:04\n"
          ]
        },
        {
          "output_type": "stream",
          "name": "stdout",
          "text": [
            "Finished Epoch 13 || Run Time:    3.5 | Load Time:    1.6 || F1:  53.65 | Prec:  59.69 | Rec:  48.72 || Ex/s: 452.20\n",
            "\n",
            "---------------------\n",
            "\n",
            "===>  TRAIN Epoch 14\n"
          ]
        },
        {
          "output_type": "stream",
          "name": "stderr",
          "text": [
            "0% [██████████████████████████████] 100% | ETA: 00:00:00\n",
            "Total time elapsed: 00:00:26\n"
          ]
        },
        {
          "output_type": "stream",
          "name": "stdout",
          "text": [
            "Finished Epoch 14 || Run Time:   21.8 | Load Time:    5.3 || F1:  97.31 | Prec:  96.35 | Rec:  98.28 || Ex/s: 254.31\n",
            "\n",
            "===>  EVAL Epoch 14\n"
          ]
        },
        {
          "output_type": "stream",
          "name": "stderr",
          "text": [
            "0% [██████████████] 100% | ETA: 00:00:00\n",
            "Total time elapsed: 00:00:05\n"
          ]
        },
        {
          "output_type": "stream",
          "name": "stdout",
          "text": [
            "Finished Epoch 14 || Run Time:    3.7 | Load Time:    1.7 || F1:  53.58 | Prec:  58.29 | Rec:  49.57 || Ex/s: 430.97\n",
            "\n",
            "---------------------\n",
            "\n",
            "===>  TRAIN Epoch 15\n"
          ]
        },
        {
          "output_type": "stream",
          "name": "stderr",
          "text": [
            "0% [██████████████████████████████] 100% | ETA: 00:00:00\n",
            "Total time elapsed: 00:00:26\n"
          ]
        },
        {
          "output_type": "stream",
          "name": "stdout",
          "text": [
            "Finished Epoch 15 || Run Time:   21.2 | Load Time:    5.2 || F1:  97.52 | Prec:  96.76 | Rec:  98.28 || Ex/s: 260.41\n",
            "\n",
            "===>  EVAL Epoch 15\n"
          ]
        },
        {
          "output_type": "stream",
          "name": "stderr",
          "text": [
            "0% [██████████████] 100% | ETA: 00:00:00\n",
            "Total time elapsed: 00:00:05\n"
          ]
        },
        {
          "output_type": "stream",
          "name": "stdout",
          "text": [
            "Finished Epoch 15 || Run Time:    3.6 | Load Time:    1.6 || F1:  54.05 | Prec:  57.14 | Rec:  51.28 || Ex/s: 437.87\n",
            "\n",
            "---------------------\n",
            "\n",
            "Loading best model...\n",
            "Training done.\n"
          ]
        },
        {
          "output_type": "execute_result",
          "data": {
            "text/plain": [
              "tensor(54.2314, device='cuda:0')"
            ]
          },
          "metadata": {},
          "execution_count": 21
        }
      ],
      "source": [
        "model.run_train(\n",
        "    train,\n",
        "    validation,\n",
        "    epochs=15,\n",
        "    batch_size=32,\n",
        "    best_save_path='hybrid_model.pth',\n",
        "    pos_neg_ratio=3)"
      ]
    },
    {
      "cell_type": "code",
      "execution_count": null,
      "metadata": {
        "id": "Nkx9MW9t8Zkx",
        "colab": {
          "base_uri": "https://localhost:8080/"
        },
        "outputId": "27b46971-1bc5-4229-c00e-591fb3c2881d"
      },
      "outputs": [
        {
          "output_type": "stream",
          "name": "stdout",
          "text": [
            "===>  EVAL Epoch 6\n"
          ]
        },
        {
          "output_type": "stream",
          "name": "stderr",
          "text": [
            "/usr/local/lib/python3.7/dist-packages/torch/nn/modules/module.py:949: UserWarning: Using non-full backward hooks on a Module that does not take as input a single Tensor or a tuple of Tensors is deprecated and will be removed in future versions. This hook will be missing some of the grad_input. Please use register_full_backward_hook to get the documented behavior.\n",
            "  warnings.warn(\"Using non-full backward hooks on a Module that does not take as input a \"\n",
            "/usr/local/lib/python3.7/dist-packages/torch/nn/modules/module.py:974: UserWarning: Using a non-full backward hook when the forward contains multiple autograd Nodes is deprecated and will be removed in future versions. This hook will be missing some grad_input. Please use register_full_backward_hook to get the documented behavior.\n",
            "  warnings.warn(\"Using a non-full backward hook when the forward contains multiple autograd Nodes \"\n",
            "/usr/local/lib/python3.7/dist-packages/torch/nn/modules/module.py:939: UserWarning: Using non-full backward hooks on a Module that does not return a single Tensor or a tuple of Tensors is deprecated and will be removed in future versions. This hook will be missing some of the grad_output. Please use register_full_backward_hook to get the documented behavior.\n",
            "  warnings.warn(\"Using non-full backward hooks on a Module that does not return a \"\n",
            "0% [██████████████] 100% | ETA: 00:00:00\n",
            "Total time elapsed: 00:00:05\n"
          ]
        },
        {
          "output_type": "stream",
          "name": "stdout",
          "text": [
            "Finished Epoch 6 || Run Time:    3.6 | Load Time:    1.7 || F1:  56.07 | Prec:  46.72 | Rec:  70.09 || Ex/s: 432.86\n",
            "\n"
          ]
        },
        {
          "output_type": "execute_result",
          "data": {
            "text/plain": [
              "tensor(56.0684, device='cuda:0')"
            ]
          },
          "metadata": {},
          "execution_count": 22
        }
      ],
      "source": [
        "# Compute F1 on test set\n",
        "model.run_eval(test)"
      ]
    },
    {
      "cell_type": "markdown",
      "metadata": {
        "id": "dikdLu258Zkx"
      },
      "source": [
        "##### Beer"
      ]
    },
    {
      "cell_type": "code",
      "execution_count": null,
      "metadata": {
        "id": "K7LXcH0_8Zky",
        "colab": {
          "base_uri": "https://localhost:8080/"
        },
        "outputId": "de8b650f-128d-4832-d3d1-454143e9680d"
      },
      "outputs": [
        {
          "output_type": "stream",
          "name": "stderr",
          "text": [
            "WARNING:deepmatcher.data.dataset:Rebuilding data cache because: ['One or more data files have been modified.', 'Data file list has changed.']\n",
            "\n",
            "Reading and processing data from \"/content/IC/datasesErros/FMedium_50_1_2/Structured/Beer/joined_train.csv\"\n",
            "0% [############################# ] 100% | ETA: 00:00:00\n",
            "Reading and processing data from \"/content/IC/datasesErros/FMedium_50_1_2/Structured/Beer/joined_valid.csv\"\n",
            "0% [############################# ] 100% | ETA: 00:00:00\n",
            "Reading and processing data from \"/content/IC/datasesErros/FMedium_50_1_2/Structured/Beer/joined_test.csv\"\n",
            "0% [############################# ] 100% | ETA: 00:00:00\n",
            "Building vocabulary\n",
            "0% [#] 100% | ETA: 00:00:00\n",
            "Total time elapsed: 00:00:00\n",
            "\n",
            "Computing principal components\n",
            "0% [#] 100% | ETA: 00:00:00\n",
            "Total time elapsed: 00:00:00\n"
          ]
        }
      ],
      "source": [
        "train, validation, test = dm.data.process(\n",
        "    path='/content/IC/datasesErros/FMedium_50_1_2/Structured/Beer/',\n",
        "    train='joined_train.csv',\n",
        "    validation='joined_valid.csv',\n",
        "    test='joined_test.csv')"
      ]
    },
    {
      "cell_type": "code",
      "execution_count": null,
      "metadata": {
        "id": "omt1438d8Zky"
      },
      "outputs": [],
      "source": [
        "model = dm.MatchingModel(attr_summarizer='hybrid')"
      ]
    },
    {
      "cell_type": "code",
      "execution_count": null,
      "metadata": {
        "id": "8pdxI-si8Zky",
        "colab": {
          "base_uri": "https://localhost:8080/"
        },
        "outputId": "c8131ef6-ddda-4589-919f-9e4943e2d8a9"
      },
      "outputs": [
        {
          "output_type": "stream",
          "name": "stderr",
          "text": [
            "/usr/local/lib/python3.7/dist-packages/torch/nn/modules/module.py:949: UserWarning: Using non-full backward hooks on a Module that does not take as input a single Tensor or a tuple of Tensors is deprecated and will be removed in future versions. This hook will be missing some of the grad_input. Please use register_full_backward_hook to get the documented behavior.\n",
            "  warnings.warn(\"Using non-full backward hooks on a Module that does not take as input a \"\n",
            "/usr/local/lib/python3.7/dist-packages/torch/nn/modules/module.py:974: UserWarning: Using a non-full backward hook when the forward contains multiple autograd Nodes is deprecated and will be removed in future versions. This hook will be missing some grad_input. Please use register_full_backward_hook to get the documented behavior.\n",
            "  warnings.warn(\"Using a non-full backward hook when the forward contains multiple autograd Nodes \"\n"
          ]
        },
        {
          "output_type": "stream",
          "name": "stdout",
          "text": [
            "* Number of trainable parameters: 9210006\n",
            "===>  TRAIN Epoch 1\n"
          ]
        },
        {
          "output_type": "stream",
          "name": "stderr",
          "text": [
            "/usr/local/lib/python3.7/dist-packages/torch/nn/modules/module.py:939: UserWarning: Using non-full backward hooks on a Module that does not return a single Tensor or a tuple of Tensors is deprecated and will be removed in future versions. This hook will be missing some of the grad_output. Please use register_full_backward_hook to get the documented behavior.\n",
            "  warnings.warn(\"Using non-full backward hooks on a Module that does not return a \"\n",
            "/usr/local/lib/python3.7/dist-packages/torch/nn/functional.py:2742: UserWarning: reduction: 'mean' divides the total loss by both the batch size and the support size.'batchmean' divides only by the batch size, and aligns with the KL div math definition.'mean' will be changed to behave the same as 'batchmean' in the next major release.\n",
            "  \"reduction: 'mean' divides the total loss by both the batch size and the support size.\"\n",
            "0% [█] 100% | ETA: 00:00:00\n",
            "Total time elapsed: 00:00:00\n"
          ]
        },
        {
          "output_type": "stream",
          "name": "stdout",
          "text": [
            "Finished Epoch 1 || Run Time:    1.3 | Load Time:    0.3 || F1:  26.26 | Prec:  22.03 | Rec:  32.50 || Ex/s: 169.15\n",
            "\n",
            "===>  EVAL Epoch 1\n",
            "Finished Epoch 1 || Run Time:    0.2 | Load Time:    0.1 || F1:  50.00 | Prec:  83.33 | Rec:  35.71 || Ex/s: 273.85\n",
            "\n",
            "* Best F1: tensor(50., device='cuda:0')\n",
            "Saving best model...\n",
            "Done.\n",
            "---------------------\n",
            "\n",
            "===>  TRAIN Epoch 2\n"
          ]
        },
        {
          "output_type": "stream",
          "name": "stderr",
          "text": [
            "0% [█] 100% | ETA: 00:00:00\n",
            "Total time elapsed: 00:00:00\n"
          ]
        },
        {
          "output_type": "stream",
          "name": "stdout",
          "text": [
            "Finished Epoch 2 || Run Time:    1.2 | Load Time:    0.3 || F1:  40.00 | Prec: 100.00 | Rec:  25.00 || Ex/s: 173.36\n",
            "\n",
            "===>  EVAL Epoch 2\n",
            "Finished Epoch 2 || Run Time:    0.2 | Load Time:    0.1 || F1:   0.00 | Prec:   0.00 | Rec:   0.00 || Ex/s: 284.50\n",
            "\n",
            "---------------------\n",
            "\n",
            "===>  TRAIN Epoch 3\n"
          ]
        },
        {
          "output_type": "stream",
          "name": "stderr",
          "text": [
            "0% [█] 100% | ETA: 00:00:00\n",
            "Total time elapsed: 00:00:00\n"
          ]
        },
        {
          "output_type": "stream",
          "name": "stdout",
          "text": [
            "Finished Epoch 3 || Run Time:    1.2 | Load Time:    0.3 || F1:  62.65 | Prec:  60.47 | Rec:  65.00 || Ex/s: 170.51\n",
            "\n",
            "===>  EVAL Epoch 3\n",
            "Finished Epoch 3 || Run Time:    0.2 | Load Time:    0.1 || F1:  58.82 | Prec:  50.00 | Rec:  71.43 || Ex/s: 289.24\n",
            "\n",
            "* Best F1: tensor(58.8235, device='cuda:0')\n",
            "Saving best model...\n",
            "Done.\n",
            "---------------------\n",
            "\n",
            "===>  TRAIN Epoch 4\n"
          ]
        },
        {
          "output_type": "stream",
          "name": "stderr",
          "text": [
            "0% [█] 100% | ETA: 00:00:00\n",
            "Total time elapsed: 00:00:00\n"
          ]
        },
        {
          "output_type": "stream",
          "name": "stdout",
          "text": [
            "Finished Epoch 4 || Run Time:    1.2 | Load Time:    0.3 || F1:  74.00 | Prec:  61.67 | Rec:  92.50 || Ex/s: 175.99\n",
            "\n",
            "===>  EVAL Epoch 4\n",
            "Finished Epoch 4 || Run Time:    0.2 | Load Time:    0.1 || F1:  64.52 | Prec:  58.82 | Rec:  71.43 || Ex/s: 301.81\n",
            "\n",
            "* Best F1: tensor(64.5161, device='cuda:0')\n",
            "Saving best model...\n",
            "Done.\n",
            "---------------------\n",
            "\n",
            "===>  TRAIN Epoch 5\n"
          ]
        },
        {
          "output_type": "stream",
          "name": "stderr",
          "text": [
            "0% [█] 100% | ETA: 00:00:00\n",
            "Total time elapsed: 00:00:00\n"
          ]
        },
        {
          "output_type": "stream",
          "name": "stdout",
          "text": [
            "Finished Epoch 5 || Run Time:    1.1 | Load Time:    0.3 || F1:  88.64 | Prec:  81.25 | Rec:  97.50 || Ex/s: 187.25\n",
            "\n",
            "===>  EVAL Epoch 5\n",
            "Finished Epoch 5 || Run Time:    0.2 | Load Time:    0.1 || F1:  70.27 | Prec:  56.52 | Rec:  92.86 || Ex/s: 305.57\n",
            "\n",
            "* Best F1: tensor(70.2703, device='cuda:0')\n",
            "Saving best model...\n",
            "Done.\n",
            "---------------------\n",
            "\n",
            "===>  TRAIN Epoch 6\n"
          ]
        },
        {
          "output_type": "stream",
          "name": "stderr",
          "text": [
            "0% [█] 100% | ETA: 00:00:00\n",
            "Total time elapsed: 00:00:00\n"
          ]
        },
        {
          "output_type": "stream",
          "name": "stdout",
          "text": [
            "Finished Epoch 6 || Run Time:    1.1 | Load Time:    0.3 || F1:  95.24 | Prec:  90.91 | Rec: 100.00 || Ex/s: 186.82\n",
            "\n",
            "===>  EVAL Epoch 6\n",
            "Finished Epoch 6 || Run Time:    0.2 | Load Time:    0.1 || F1:  81.25 | Prec:  72.22 | Rec:  92.86 || Ex/s: 304.39\n",
            "\n",
            "* Best F1: tensor(81.2500, device='cuda:0')\n",
            "Saving best model...\n",
            "Done.\n",
            "---------------------\n",
            "\n",
            "===>  TRAIN Epoch 7\n"
          ]
        },
        {
          "output_type": "stream",
          "name": "stderr",
          "text": [
            "0% [█] 100% | ETA: 00:00:00\n",
            "Total time elapsed: 00:00:00\n"
          ]
        },
        {
          "output_type": "stream",
          "name": "stdout",
          "text": [
            "Finished Epoch 7 || Run Time:    1.2 | Load Time:    0.3 || F1:  95.24 | Prec:  90.91 | Rec: 100.00 || Ex/s: 181.76\n",
            "\n",
            "===>  EVAL Epoch 7\n",
            "Finished Epoch 7 || Run Time:    0.2 | Load Time:    0.1 || F1:  81.48 | Prec:  84.62 | Rec:  78.57 || Ex/s: 298.83\n",
            "\n",
            "* Best F1: tensor(81.4815, device='cuda:0')\n",
            "Saving best model...\n",
            "Done.\n",
            "---------------------\n",
            "\n",
            "===>  TRAIN Epoch 8\n"
          ]
        },
        {
          "output_type": "stream",
          "name": "stderr",
          "text": [
            "0% [█] 100% | ETA: 00:00:00\n",
            "Total time elapsed: 00:00:00\n"
          ]
        },
        {
          "output_type": "stream",
          "name": "stdout",
          "text": [
            "Finished Epoch 8 || Run Time:    1.2 | Load Time:    0.3 || F1:  97.56 | Prec:  95.24 | Rec: 100.00 || Ex/s: 175.65\n",
            "\n",
            "===>  EVAL Epoch 8\n",
            "Finished Epoch 8 || Run Time:    0.2 | Load Time:    0.1 || F1:  81.25 | Prec:  72.22 | Rec:  92.86 || Ex/s: 295.29\n",
            "\n",
            "---------------------\n",
            "\n",
            "===>  TRAIN Epoch 9\n"
          ]
        },
        {
          "output_type": "stream",
          "name": "stderr",
          "text": [
            "0% [█] 100% | ETA: 00:00:00\n",
            "Total time elapsed: 00:00:00\n"
          ]
        },
        {
          "output_type": "stream",
          "name": "stdout",
          "text": [
            "Finished Epoch 9 || Run Time:    1.2 | Load Time:    0.3 || F1:  97.56 | Prec:  95.24 | Rec: 100.00 || Ex/s: 176.68\n",
            "\n",
            "===>  EVAL Epoch 9\n",
            "Finished Epoch 9 || Run Time:    0.2 | Load Time:    0.1 || F1:  78.57 | Prec:  78.57 | Rec:  78.57 || Ex/s: 304.46\n",
            "\n",
            "---------------------\n",
            "\n",
            "===>  TRAIN Epoch 10\n"
          ]
        },
        {
          "output_type": "stream",
          "name": "stderr",
          "text": [
            "0% [█] 100% | ETA: 00:00:00\n",
            "Total time elapsed: 00:00:00\n"
          ]
        },
        {
          "output_type": "stream",
          "name": "stdout",
          "text": [
            "Finished Epoch 10 || Run Time:    1.2 | Load Time:    0.3 || F1:  98.77 | Prec:  97.56 | Rec: 100.00 || Ex/s: 178.92\n",
            "\n",
            "===>  EVAL Epoch 10\n",
            "Finished Epoch 10 || Run Time:    0.2 | Load Time:    0.1 || F1:  82.76 | Prec:  80.00 | Rec:  85.71 || Ex/s: 277.17\n",
            "\n",
            "* Best F1: tensor(82.7586, device='cuda:0')\n",
            "Saving best model...\n",
            "Done.\n",
            "---------------------\n",
            "\n",
            "===>  TRAIN Epoch 11\n"
          ]
        },
        {
          "output_type": "stream",
          "name": "stderr",
          "text": [
            "0% [█] 100% | ETA: 00:00:00\n",
            "Total time elapsed: 00:00:00\n"
          ]
        },
        {
          "output_type": "stream",
          "name": "stdout",
          "text": [
            "Finished Epoch 11 || Run Time:    1.3 | Load Time:    0.3 || F1:  98.77 | Prec:  97.56 | Rec: 100.00 || Ex/s: 167.61\n",
            "\n",
            "===>  EVAL Epoch 11\n",
            "Finished Epoch 11 || Run Time:    0.2 | Load Time:    0.1 || F1:  78.57 | Prec:  78.57 | Rec:  78.57 || Ex/s: 285.13\n",
            "\n",
            "---------------------\n",
            "\n",
            "===>  TRAIN Epoch 12\n"
          ]
        },
        {
          "output_type": "stream",
          "name": "stderr",
          "text": [
            "0% [█] 100% | ETA: 00:00:00\n",
            "Total time elapsed: 00:00:00\n"
          ]
        },
        {
          "output_type": "stream",
          "name": "stdout",
          "text": [
            "Finished Epoch 12 || Run Time:    1.4 | Load Time:    0.4 || F1: 100.00 | Prec: 100.00 | Rec: 100.00 || Ex/s: 145.14\n",
            "\n",
            "===>  EVAL Epoch 12\n",
            "Finished Epoch 12 || Run Time:    0.3 | Load Time:    0.1 || F1:  78.57 | Prec:  78.57 | Rec:  78.57 || Ex/s: 215.72\n",
            "\n",
            "---------------------\n",
            "\n",
            "===>  TRAIN Epoch 13\n"
          ]
        },
        {
          "output_type": "stream",
          "name": "stderr",
          "text": [
            "0% [█] 100% | ETA: 00:00:00\n",
            "Total time elapsed: 00:00:01\n"
          ]
        },
        {
          "output_type": "stream",
          "name": "stdout",
          "text": [
            "Finished Epoch 13 || Run Time:    1.6 | Load Time:    0.4 || F1: 100.00 | Prec: 100.00 | Rec: 100.00 || Ex/s: 134.75\n",
            "\n",
            "===>  EVAL Epoch 13\n",
            "Finished Epoch 13 || Run Time:    0.2 | Load Time:    0.1 || F1:  78.57 | Prec:  78.57 | Rec:  78.57 || Ex/s: 272.51\n",
            "\n",
            "---------------------\n",
            "\n",
            "===>  TRAIN Epoch 14\n"
          ]
        },
        {
          "output_type": "stream",
          "name": "stderr",
          "text": [
            "0% [█] 100% | ETA: 00:00:00\n",
            "Total time elapsed: 00:00:00\n"
          ]
        },
        {
          "output_type": "stream",
          "name": "stdout",
          "text": [
            "Finished Epoch 14 || Run Time:    1.2 | Load Time:    0.3 || F1: 100.00 | Prec: 100.00 | Rec: 100.00 || Ex/s: 170.11\n",
            "\n",
            "===>  EVAL Epoch 14\n",
            "Finished Epoch 14 || Run Time:    0.2 | Load Time:    0.1 || F1:  78.57 | Prec:  78.57 | Rec:  78.57 || Ex/s: 276.51\n",
            "\n",
            "---------------------\n",
            "\n",
            "===>  TRAIN Epoch 15\n"
          ]
        },
        {
          "output_type": "stream",
          "name": "stderr",
          "text": [
            "0% [█] 100% | ETA: 00:00:00\n",
            "Total time elapsed: 00:00:00\n"
          ]
        },
        {
          "output_type": "stream",
          "name": "stdout",
          "text": [
            "Finished Epoch 15 || Run Time:    1.3 | Load Time:    0.3 || F1: 100.00 | Prec: 100.00 | Rec: 100.00 || Ex/s: 169.33\n",
            "\n",
            "===>  EVAL Epoch 15\n",
            "Finished Epoch 15 || Run Time:    0.2 | Load Time:    0.1 || F1:  78.57 | Prec:  78.57 | Rec:  78.57 || Ex/s: 285.34\n",
            "\n",
            "---------------------\n",
            "\n",
            "Loading best model...\n",
            "Training done.\n"
          ]
        },
        {
          "output_type": "execute_result",
          "data": {
            "text/plain": [
              "tensor(82.7586, device='cuda:0')"
            ]
          },
          "metadata": {},
          "execution_count": 17
        }
      ],
      "source": [
        "model.run_train(\n",
        "    train,\n",
        "    validation,\n",
        "    epochs=15,\n",
        "    batch_size=32,\n",
        "    best_save_path='hybrid_model.pth',\n",
        "    pos_neg_ratio=3)"
      ]
    },
    {
      "cell_type": "code",
      "execution_count": null,
      "metadata": {
        "id": "45zk9EL68Zkz",
        "colab": {
          "base_uri": "https://localhost:8080/"
        },
        "outputId": "63817a6c-107b-48d6-f53e-25990c8bdf34"
      },
      "outputs": [
        {
          "output_type": "stream",
          "name": "stdout",
          "text": [
            "===>  EVAL Epoch 10\n"
          ]
        },
        {
          "output_type": "stream",
          "name": "stderr",
          "text": [
            "/usr/local/lib/python3.7/dist-packages/torch/nn/modules/module.py:949: UserWarning: Using non-full backward hooks on a Module that does not take as input a single Tensor or a tuple of Tensors is deprecated and will be removed in future versions. This hook will be missing some of the grad_input. Please use register_full_backward_hook to get the documented behavior.\n",
            "  warnings.warn(\"Using non-full backward hooks on a Module that does not take as input a \"\n",
            "/usr/local/lib/python3.7/dist-packages/torch/nn/modules/module.py:974: UserWarning: Using a non-full backward hook when the forward contains multiple autograd Nodes is deprecated and will be removed in future versions. This hook will be missing some grad_input. Please use register_full_backward_hook to get the documented behavior.\n",
            "  warnings.warn(\"Using a non-full backward hook when the forward contains multiple autograd Nodes \"\n",
            "/usr/local/lib/python3.7/dist-packages/torch/nn/modules/module.py:939: UserWarning: Using non-full backward hooks on a Module that does not return a single Tensor or a tuple of Tensors is deprecated and will be removed in future versions. This hook will be missing some of the grad_output. Please use register_full_backward_hook to get the documented behavior.\n",
            "  warnings.warn(\"Using non-full backward hooks on a Module that does not return a \"\n"
          ]
        },
        {
          "output_type": "stream",
          "name": "stdout",
          "text": [
            "Finished Epoch 10 || Run Time:    0.2 | Load Time:    0.1 || F1:  70.97 | Prec:  64.71 | Rec:  78.57 || Ex/s: 258.27\n",
            "\n"
          ]
        },
        {
          "output_type": "execute_result",
          "data": {
            "text/plain": [
              "tensor(70.9677, device='cuda:0')"
            ]
          },
          "metadata": {},
          "execution_count": 18
        }
      ],
      "source": [
        "# Compute F1 on test set\n",
        "model.run_eval(test)"
      ]
    },
    {
      "cell_type": "markdown",
      "metadata": {
        "id": "X2UG_clX8Zkz"
      },
      "source": [
        "##### DBLP-ACM"
      ]
    },
    {
      "cell_type": "code",
      "execution_count": null,
      "metadata": {
        "id": "oydibnoV8Zk0",
        "colab": {
          "base_uri": "https://localhost:8080/"
        },
        "outputId": "eb164992-0146-4007-842e-ee977368eff6"
      },
      "outputs": [
        {
          "output_type": "stream",
          "name": "stderr",
          "text": [
            "WARNING:deepmatcher.data.dataset:Rebuilding data cache because: ['One or more data files have been modified.', 'Data file list has changed.']\n",
            "\n",
            "Reading and processing data from \"/content/IC/datasesErros/FMedium_50_1_2/Structured/DBLP-ACM/joined_train.csv\"\n",
            "0% [############################# ] 100% | ETA: 00:00:00\n",
            "Reading and processing data from \"/content/IC/datasesErros/FMedium_50_1_2/Structured/DBLP-ACM/joined_valid.csv\"\n",
            "0% [############################# ] 100% | ETA: 00:00:00\n",
            "Reading and processing data from \"/content/IC/datasesErros/FMedium_50_1_2/Structured/DBLP-ACM/joined_test.csv\"\n",
            "0% [############################# ] 100% | ETA: 00:00:00Warning : `load_model` does not return WordVectorModel or SupervisedModel any more, but a `FastText` object which is very similar.\n",
            "\n",
            "Building vocabulary\n",
            "0% [########] 100% | ETA: 00:00:00\n",
            "Total time elapsed: 00:00:00\n",
            "\n",
            "Computing principal components\n",
            "0% [########] 100% | ETA: 00:00:00\n",
            "Total time elapsed: 00:00:04\n"
          ]
        }
      ],
      "source": [
        "train, validation, test = dm.data.process(\n",
        "    path='/content/IC/datasesErros/FMedium_50_1_2/Structured/DBLP-ACM/',\n",
        "    train='joined_train.csv',\n",
        "    validation='joined_valid.csv',\n",
        "    test='joined_test.csv')"
      ]
    },
    {
      "cell_type": "code",
      "execution_count": null,
      "metadata": {
        "id": "88z4OGnt8Zk0"
      },
      "outputs": [],
      "source": [
        "model = dm.MatchingModel(attr_summarizer='hybrid')"
      ]
    },
    {
      "cell_type": "code",
      "execution_count": null,
      "metadata": {
        "id": "jJS8L7j58Zk0",
        "colab": {
          "base_uri": "https://localhost:8080/"
        },
        "outputId": "53bc1721-6fca-4c52-d026-5bb1c6463989"
      },
      "outputs": [
        {
          "output_type": "stream",
          "name": "stderr",
          "text": [
            "/usr/local/lib/python3.7/dist-packages/torch/nn/modules/module.py:949: UserWarning: Using non-full backward hooks on a Module that does not take as input a single Tensor or a tuple of Tensors is deprecated and will be removed in future versions. This hook will be missing some of the grad_input. Please use register_full_backward_hook to get the documented behavior.\n",
            "  warnings.warn(\"Using non-full backward hooks on a Module that does not take as input a \"\n",
            "/usr/local/lib/python3.7/dist-packages/torch/nn/modules/module.py:974: UserWarning: Using a non-full backward hook when the forward contains multiple autograd Nodes is deprecated and will be removed in future versions. This hook will be missing some grad_input. Please use register_full_backward_hook to get the documented behavior.\n",
            "  warnings.warn(\"Using a non-full backward hook when the forward contains multiple autograd Nodes \"\n"
          ]
        },
        {
          "output_type": "stream",
          "name": "stdout",
          "text": [
            "* Number of trainable parameters: 9210006\n",
            "===>  TRAIN Epoch 1\n"
          ]
        },
        {
          "output_type": "stream",
          "name": "stderr",
          "text": [
            "/usr/local/lib/python3.7/dist-packages/torch/nn/modules/module.py:939: UserWarning: Using non-full backward hooks on a Module that does not return a single Tensor or a tuple of Tensors is deprecated and will be removed in future versions. This hook will be missing some of the grad_output. Please use register_full_backward_hook to get the documented behavior.\n",
            "  warnings.warn(\"Using non-full backward hooks on a Module that does not return a \"\n",
            "/usr/local/lib/python3.7/dist-packages/torch/nn/functional.py:2742: UserWarning: reduction: 'mean' divides the total loss by both the batch size and the support size.'batchmean' divides only by the batch size, and aligns with the KL div math definition.'mean' will be changed to behave the same as 'batchmean' in the next major release.\n",
            "  \"reduction: 'mean' divides the total loss by both the batch size and the support size.\"\n",
            "0% [██████████████████████████████] 100% | ETA: 00:00:00\n",
            "Total time elapsed: 00:00:42\n"
          ]
        },
        {
          "output_type": "stream",
          "name": "stdout",
          "text": [
            "Finished Epoch 1 || Run Time:   30.6 | Load Time:   12.5 || F1:  86.94 | Prec:  85.70 | Rec:  88.21 || Ex/s: 172.21\n",
            "\n",
            "===>  EVAL Epoch 1\n"
          ]
        },
        {
          "output_type": "stream",
          "name": "stderr",
          "text": [
            "0% [███████████████] 100% | ETA: 00:00:00\n",
            "Total time elapsed: 00:00:09\n"
          ]
        },
        {
          "output_type": "stream",
          "name": "stdout",
          "text": [
            "Finished Epoch 1 || Run Time:    5.6 | Load Time:    4.1 || F1:  96.27 | Prec:  93.80 | Rec:  98.87 || Ex/s: 254.59\n",
            "\n",
            "* Best F1: tensor(96.2719, device='cuda:0')\n",
            "Saving best model...\n",
            "Done.\n",
            "---------------------\n",
            "\n",
            "===>  TRAIN Epoch 2\n"
          ]
        },
        {
          "output_type": "stream",
          "name": "stderr",
          "text": [
            "0% [██████████████████████████████] 100% | ETA: 00:00:00\n",
            "Total time elapsed: 00:00:45\n"
          ]
        },
        {
          "output_type": "stream",
          "name": "stdout",
          "text": [
            "Finished Epoch 2 || Run Time:   32.8 | Load Time:   13.2 || F1:  96.47 | Prec:  94.46 | Rec:  98.57 || Ex/s: 161.19\n",
            "\n",
            "===>  EVAL Epoch 2\n"
          ]
        },
        {
          "output_type": "stream",
          "name": "stderr",
          "text": [
            "0% [███████████████] 100% | ETA: 00:00:00\n",
            "Total time elapsed: 00:00:09\n"
          ]
        },
        {
          "output_type": "stream",
          "name": "stdout",
          "text": [
            "Finished Epoch 2 || Run Time:    5.5 | Load Time:    4.1 || F1:  98.18 | Prec:  99.31 | Rec:  97.07 || Ex/s: 255.94\n",
            "\n",
            "* Best F1: tensor(98.1777, device='cuda:0')\n",
            "Saving best model...\n",
            "Done.\n",
            "---------------------\n",
            "\n",
            "===>  TRAIN Epoch 3\n"
          ]
        },
        {
          "output_type": "stream",
          "name": "stderr",
          "text": [
            "0% [██████████████████████████████] 100% | ETA: 00:00:00\n",
            "Total time elapsed: 00:00:43\n"
          ]
        },
        {
          "output_type": "stream",
          "name": "stdout",
          "text": [
            "Finished Epoch 3 || Run Time:   31.7 | Load Time:   12.7 || F1:  97.63 | Prec:  96.21 | Rec:  99.10 || Ex/s: 167.02\n",
            "\n",
            "===>  EVAL Epoch 3\n"
          ]
        },
        {
          "output_type": "stream",
          "name": "stderr",
          "text": [
            "0% [███████████████] 100% | ETA: 00:00:00\n",
            "Total time elapsed: 00:00:10\n"
          ]
        },
        {
          "output_type": "stream",
          "name": "stdout",
          "text": [
            "Finished Epoch 3 || Run Time:    6.0 | Load Time:    4.5 || F1:  98.86 | Prec:  99.77 | Rec:  97.97 || Ex/s: 235.92\n",
            "\n",
            "* Best F1: tensor(98.8636, device='cuda:0')\n",
            "Saving best model...\n",
            "Done.\n",
            "---------------------\n",
            "\n",
            "===>  TRAIN Epoch 4\n"
          ]
        },
        {
          "output_type": "stream",
          "name": "stderr",
          "text": [
            "0% [██████████████████████████████] 100% | ETA: 00:00:00\n",
            "Total time elapsed: 00:00:44\n"
          ]
        },
        {
          "output_type": "stream",
          "name": "stdout",
          "text": [
            "Finished Epoch 4 || Run Time:   31.8 | Load Time:   12.9 || F1:  98.51 | Prec:  97.64 | Rec:  99.40 || Ex/s: 165.98\n",
            "\n",
            "===>  EVAL Epoch 4\n"
          ]
        },
        {
          "output_type": "stream",
          "name": "stderr",
          "text": [
            "0% [███████████████] 100% | ETA: 00:00:00\n",
            "Total time elapsed: 00:00:09\n"
          ]
        },
        {
          "output_type": "stream",
          "name": "stdout",
          "text": [
            "Finished Epoch 4 || Run Time:    5.7 | Load Time:    4.2 || F1:  98.32 | Prec:  97.99 | Rec:  98.65 || Ex/s: 249.74\n",
            "\n",
            "---------------------\n",
            "\n",
            "===>  TRAIN Epoch 5\n"
          ]
        },
        {
          "output_type": "stream",
          "name": "stderr",
          "text": [
            "0% [██████████████████████████████] 100% | ETA: 00:00:00\n",
            "Total time elapsed: 00:00:44\n"
          ]
        },
        {
          "output_type": "stream",
          "name": "stdout",
          "text": [
            "Finished Epoch 5 || Run Time:   31.9 | Load Time:   12.8 || F1:  99.07 | Prec:  98.30 | Rec:  99.85 || Ex/s: 165.84\n",
            "\n",
            "===>  EVAL Epoch 5\n"
          ]
        },
        {
          "output_type": "stream",
          "name": "stderr",
          "text": [
            "0% [███████████████] 100% | ETA: 00:00:00\n",
            "Total time elapsed: 00:00:09\n"
          ]
        },
        {
          "output_type": "stream",
          "name": "stdout",
          "text": [
            "Finished Epoch 5 || Run Time:    5.7 | Load Time:    4.2 || F1:  98.54 | Prec:  98.00 | Rec:  99.10 || Ex/s: 251.29\n",
            "\n",
            "---------------------\n",
            "\n",
            "===>  TRAIN Epoch 6\n"
          ]
        },
        {
          "output_type": "stream",
          "name": "stderr",
          "text": [
            "0% [██████████████████████████████] 100% | ETA: 00:00:00\n",
            "Total time elapsed: 00:00:43\n"
          ]
        },
        {
          "output_type": "stream",
          "name": "stdout",
          "text": [
            "Finished Epoch 6 || Run Time:   31.3 | Load Time:   12.8 || F1:  99.18 | Prec:  98.52 | Rec:  99.85 || Ex/s: 168.33\n",
            "\n",
            "===>  EVAL Epoch 6\n"
          ]
        },
        {
          "output_type": "stream",
          "name": "stderr",
          "text": [
            "0% [███████████████] 100% | ETA: 00:00:00\n",
            "Total time elapsed: 00:00:09\n"
          ]
        },
        {
          "output_type": "stream",
          "name": "stdout",
          "text": [
            "Finished Epoch 6 || Run Time:    5.5 | Load Time:    4.1 || F1:  98.34 | Prec:  96.94 | Rec:  99.77 || Ex/s: 256.28\n",
            "\n",
            "---------------------\n",
            "\n",
            "===>  TRAIN Epoch 7\n"
          ]
        },
        {
          "output_type": "stream",
          "name": "stderr",
          "text": [
            "0% [██████████████████████████████] 100% | ETA: 00:00:00\n",
            "Total time elapsed: 00:00:45\n"
          ]
        },
        {
          "output_type": "stream",
          "name": "stdout",
          "text": [
            "Finished Epoch 7 || Run Time:   32.7 | Load Time:   13.1 || F1:  99.25 | Prec:  98.66 | Rec:  99.85 || Ex/s: 161.94\n",
            "\n",
            "===>  EVAL Epoch 7\n"
          ]
        },
        {
          "output_type": "stream",
          "name": "stderr",
          "text": [
            "0% [███████████████] 100% | ETA: 00:00:00\n",
            "Total time elapsed: 00:00:09\n"
          ]
        },
        {
          "output_type": "stream",
          "name": "stdout",
          "text": [
            "Finished Epoch 7 || Run Time:    5.8 | Load Time:    4.2 || F1:  98.43 | Prec:  97.78 | Rec:  99.10 || Ex/s: 247.91\n",
            "\n",
            "---------------------\n",
            "\n",
            "===>  TRAIN Epoch 8\n"
          ]
        },
        {
          "output_type": "stream",
          "name": "stderr",
          "text": [
            "0% [██████████████████████████████] 100% | ETA: 00:00:00\n",
            "Total time elapsed: 00:00:44\n"
          ]
        },
        {
          "output_type": "stream",
          "name": "stdout",
          "text": [
            "Finished Epoch 8 || Run Time:   32.0 | Load Time:   13.0 || F1:  99.37 | Prec:  98.81 | Rec:  99.92 || Ex/s: 164.77\n",
            "\n",
            "===>  EVAL Epoch 8\n"
          ]
        },
        {
          "output_type": "stream",
          "name": "stderr",
          "text": [
            "0% [███████████████] 100% | ETA: 00:00:00\n",
            "Total time elapsed: 00:00:09\n"
          ]
        },
        {
          "output_type": "stream",
          "name": "stdout",
          "text": [
            "Finished Epoch 8 || Run Time:    5.8 | Load Time:    4.2 || F1:  98.54 | Prec:  98.21 | Rec:  98.87 || Ex/s: 247.00\n",
            "\n",
            "---------------------\n",
            "\n",
            "===>  TRAIN Epoch 9\n"
          ]
        },
        {
          "output_type": "stream",
          "name": "stderr",
          "text": [
            "0% [██████████████████████████████] 100% | ETA: 00:00:00\n",
            "Total time elapsed: 00:00:44\n"
          ]
        },
        {
          "output_type": "stream",
          "name": "stdout",
          "text": [
            "Finished Epoch 9 || Run Time:   31.9 | Load Time:   12.9 || F1:  99.40 | Prec:  98.89 | Rec:  99.92 || Ex/s: 165.42\n",
            "\n",
            "===>  EVAL Epoch 9\n"
          ]
        },
        {
          "output_type": "stream",
          "name": "stderr",
          "text": [
            "0% [███████████████] 100% | ETA: 00:00:00\n",
            "Total time elapsed: 00:00:09\n"
          ]
        },
        {
          "output_type": "stream",
          "name": "stdout",
          "text": [
            "Finished Epoch 9 || Run Time:    5.6 | Load Time:    4.2 || F1:  98.54 | Prec:  98.00 | Rec:  99.10 || Ex/s: 252.85\n",
            "\n",
            "---------------------\n",
            "\n",
            "===>  TRAIN Epoch 10\n"
          ]
        },
        {
          "output_type": "stream",
          "name": "stderr",
          "text": [
            "0% [██████████████████████████████] 100% | ETA: 00:00:00\n",
            "Total time elapsed: 00:00:45\n"
          ]
        },
        {
          "output_type": "stream",
          "name": "stdout",
          "text": [
            "Finished Epoch 10 || Run Time:   32.6 | Load Time:   13.1 || F1:  99.44 | Prec:  98.89 | Rec: 100.00 || Ex/s: 162.39\n",
            "\n",
            "===>  EVAL Epoch 10\n"
          ]
        },
        {
          "output_type": "stream",
          "name": "stderr",
          "text": [
            "0% [███████████████] 100% | ETA: 00:00:00\n",
            "Total time elapsed: 00:00:09\n"
          ]
        },
        {
          "output_type": "stream",
          "name": "stdout",
          "text": [
            "Finished Epoch 10 || Run Time:    5.8 | Load Time:    4.2 || F1:  98.54 | Prec:  98.00 | Rec:  99.10 || Ex/s: 248.02\n",
            "\n",
            "---------------------\n",
            "\n",
            "===>  TRAIN Epoch 11\n"
          ]
        },
        {
          "output_type": "stream",
          "name": "stderr",
          "text": [
            "0% [██████████████████████████████] 100% | ETA: 00:00:00\n",
            "Total time elapsed: 00:00:44\n"
          ]
        },
        {
          "output_type": "stream",
          "name": "stdout",
          "text": [
            "Finished Epoch 11 || Run Time:   32.1 | Load Time:   12.9 || F1:  99.48 | Prec:  98.96 | Rec: 100.00 || Ex/s: 164.91\n",
            "\n",
            "===>  EVAL Epoch 11\n"
          ]
        },
        {
          "output_type": "stream",
          "name": "stderr",
          "text": [
            "0% [███████████████] 100% | ETA: 00:00:00\n",
            "Total time elapsed: 00:00:09\n"
          ]
        },
        {
          "output_type": "stream",
          "name": "stdout",
          "text": [
            "Finished Epoch 11 || Run Time:    5.7 | Load Time:    4.2 || F1:  98.66 | Prec:  98.00 | Rec:  99.32 || Ex/s: 249.16\n",
            "\n",
            "---------------------\n",
            "\n",
            "===>  TRAIN Epoch 12\n"
          ]
        },
        {
          "output_type": "stream",
          "name": "stderr",
          "text": [
            "0% [██████████████████████████████] 100% | ETA: 00:00:00\n",
            "Total time elapsed: 00:00:44\n"
          ]
        },
        {
          "output_type": "stream",
          "name": "stdout",
          "text": [
            "Finished Epoch 12 || Run Time:   32.3 | Load Time:   13.1 || F1:  99.44 | Prec:  98.89 | Rec: 100.00 || Ex/s: 163.31\n",
            "\n",
            "===>  EVAL Epoch 12\n"
          ]
        },
        {
          "output_type": "stream",
          "name": "stderr",
          "text": [
            "0% [███████████████] 100% | ETA: 00:00:00\n",
            "Total time elapsed: 00:00:09\n"
          ]
        },
        {
          "output_type": "stream",
          "name": "stdout",
          "text": [
            "Finished Epoch 12 || Run Time:    5.9 | Load Time:    4.3 || F1:  98.66 | Prec:  98.00 | Rec:  99.32 || Ex/s: 242.34\n",
            "\n",
            "---------------------\n",
            "\n",
            "===>  TRAIN Epoch 13\n"
          ]
        },
        {
          "output_type": "stream",
          "name": "stderr",
          "text": [
            "0% [██████████████████████████████] 100% | ETA: 00:00:00\n",
            "Total time elapsed: 00:00:45\n"
          ]
        },
        {
          "output_type": "stream",
          "name": "stdout",
          "text": [
            "Finished Epoch 13 || Run Time:   32.8 | Load Time:   13.1 || F1:  99.44 | Prec:  98.89 | Rec: 100.00 || Ex/s: 161.73\n",
            "\n",
            "===>  EVAL Epoch 13\n"
          ]
        },
        {
          "output_type": "stream",
          "name": "stderr",
          "text": [
            "0% [███████████████] 100% | ETA: 00:00:00\n",
            "Total time elapsed: 00:00:09\n"
          ]
        },
        {
          "output_type": "stream",
          "name": "stdout",
          "text": [
            "Finished Epoch 13 || Run Time:    6.0 | Load Time:    4.3 || F1:  98.54 | Prec:  98.21 | Rec:  98.87 || Ex/s: 241.81\n",
            "\n",
            "---------------------\n",
            "\n",
            "===>  TRAIN Epoch 14\n"
          ]
        },
        {
          "output_type": "stream",
          "name": "stderr",
          "text": [
            "0% [██████████████████████████████] 100% | ETA: 00:00:00\n",
            "Total time elapsed: 00:00:44\n"
          ]
        },
        {
          "output_type": "stream",
          "name": "stdout",
          "text": [
            "Finished Epoch 14 || Run Time:   32.0 | Load Time:   12.9 || F1:  99.48 | Prec:  98.96 | Rec: 100.00 || Ex/s: 165.13\n",
            "\n",
            "===>  EVAL Epoch 14\n"
          ]
        },
        {
          "output_type": "stream",
          "name": "stderr",
          "text": [
            "0% [███████████████] 100% | ETA: 00:00:00\n",
            "Total time elapsed: 00:00:09\n"
          ]
        },
        {
          "output_type": "stream",
          "name": "stdout",
          "text": [
            "Finished Epoch 14 || Run Time:    5.7 | Load Time:    4.2 || F1:  98.65 | Prec:  98.21 | Rec:  99.10 || Ex/s: 251.28\n",
            "\n",
            "---------------------\n",
            "\n",
            "===>  TRAIN Epoch 15\n"
          ]
        },
        {
          "output_type": "stream",
          "name": "stderr",
          "text": [
            "0% [██████████████████████████████] 100% | ETA: 00:00:00\n",
            "Total time elapsed: 00:00:45\n"
          ]
        },
        {
          "output_type": "stream",
          "name": "stdout",
          "text": [
            "Finished Epoch 15 || Run Time:   32.5 | Load Time:   13.2 || F1:  99.48 | Prec:  98.96 | Rec: 100.00 || Ex/s: 162.57\n",
            "\n",
            "===>  EVAL Epoch 15\n"
          ]
        },
        {
          "output_type": "stream",
          "name": "stderr",
          "text": [
            "0% [███████████████] 100% | ETA: 00:00:00\n",
            "Total time elapsed: 00:00:09\n"
          ]
        },
        {
          "output_type": "stream",
          "name": "stdout",
          "text": [
            "Finished Epoch 15 || Run Time:    5.9 | Load Time:    4.3 || F1:  98.65 | Prec:  98.21 | Rec:  99.10 || Ex/s: 242.43\n",
            "\n",
            "---------------------\n",
            "\n",
            "Loading best model...\n",
            "Training done.\n"
          ]
        },
        {
          "output_type": "execute_result",
          "data": {
            "text/plain": [
              "tensor(98.8636, device='cuda:0')"
            ]
          },
          "metadata": {},
          "execution_count": 13
        }
      ],
      "source": [
        "model.run_train(\n",
        "    train,\n",
        "    validation,\n",
        "    epochs=15,\n",
        "    batch_size=32,\n",
        "    best_save_path='hybrid_model.pth',\n",
        "    pos_neg_ratio=3)"
      ]
    },
    {
      "cell_type": "code",
      "execution_count": null,
      "metadata": {
        "id": "8dKxVIZD8Zk1",
        "colab": {
          "base_uri": "https://localhost:8080/"
        },
        "outputId": "2b3aa413-9662-498d-cfa1-cd597831f2ab"
      },
      "outputs": [
        {
          "output_type": "stream",
          "name": "stdout",
          "text": [
            "===>  EVAL Epoch 3\n"
          ]
        },
        {
          "output_type": "stream",
          "name": "stderr",
          "text": [
            "/usr/local/lib/python3.7/dist-packages/torch/nn/modules/module.py:949: UserWarning: Using non-full backward hooks on a Module that does not take as input a single Tensor or a tuple of Tensors is deprecated and will be removed in future versions. This hook will be missing some of the grad_input. Please use register_full_backward_hook to get the documented behavior.\n",
            "  warnings.warn(\"Using non-full backward hooks on a Module that does not take as input a \"\n",
            "/usr/local/lib/python3.7/dist-packages/torch/nn/modules/module.py:974: UserWarning: Using a non-full backward hook when the forward contains multiple autograd Nodes is deprecated and will be removed in future versions. This hook will be missing some grad_input. Please use register_full_backward_hook to get the documented behavior.\n",
            "  warnings.warn(\"Using a non-full backward hook when the forward contains multiple autograd Nodes \"\n",
            "/usr/local/lib/python3.7/dist-packages/torch/nn/modules/module.py:939: UserWarning: Using non-full backward hooks on a Module that does not return a single Tensor or a tuple of Tensors is deprecated and will be removed in future versions. This hook will be missing some of the grad_output. Please use register_full_backward_hook to get the documented behavior.\n",
            "  warnings.warn(\"Using non-full backward hooks on a Module that does not return a \"\n",
            "0% [███████████████] 100% | ETA: 00:00:00\n",
            "Total time elapsed: 00:00:09\n"
          ]
        },
        {
          "output_type": "stream",
          "name": "stdout",
          "text": [
            "Finished Epoch 3 || Run Time:    5.6 | Load Time:    4.1 || F1:  98.31 | Prec:  98.64 | Rec:  97.97 || Ex/s: 253.39\n",
            "\n"
          ]
        },
        {
          "output_type": "execute_result",
          "data": {
            "text/plain": [
              "tensor(98.3051, device='cuda:0')"
            ]
          },
          "metadata": {},
          "execution_count": 14
        }
      ],
      "source": [
        "# Compute F1 on test set\n",
        "model.run_eval(test)"
      ]
    },
    {
      "cell_type": "markdown",
      "metadata": {
        "id": "Hvt3MiaV8Zk1"
      },
      "source": [
        "##### DBLP-GoogleScholar"
      ]
    },
    {
      "cell_type": "code",
      "execution_count": null,
      "metadata": {
        "id": "8Fbt0PhW8Zk1",
        "colab": {
          "base_uri": "https://localhost:8080/"
        },
        "outputId": "092bae42-8c15-4231-bc91-faea64ff644a"
      },
      "outputs": [
        {
          "output_type": "stream",
          "name": "stderr",
          "text": [
            "WARNING:deepmatcher.data.dataset:Rebuilding data cache because: ['One or more data files have been modified.', 'Data file list has changed.']\n",
            "\n",
            "Reading and processing data from \"/content/IC/datasesErros/FMedium_50_1_2/Structured/DBLP-GoogleScholar/joined_train.csv\"\n",
            "0% [############################# ] 100% | ETA: 00:00:00\n",
            "Reading and processing data from \"/content/IC/datasesErros/FMedium_50_1_2/Structured/DBLP-GoogleScholar/joined_valid.csv\"\n",
            "0% [############################# ] 100% | ETA: 00:00:00\n",
            "Reading and processing data from \"/content/IC/datasesErros/FMedium_50_1_2/Structured/DBLP-GoogleScholar/joined_test.csv\"\n",
            "0% [############################# ] 100% | ETA: 00:00:00Warning : `load_model` does not return WordVectorModel or SupervisedModel any more, but a `FastText` object which is very similar.\n",
            "\n",
            "Building vocabulary\n",
            "0% [#################] 100% | ETA: 00:00:00\n",
            "Total time elapsed: 00:00:01\n",
            "\n",
            "Computing principal components\n",
            "0% [#################] 100% | ETA: 00:00:00\n",
            "Total time elapsed: 00:00:07\n"
          ]
        }
      ],
      "source": [
        "train, validation, test = dm.data.process(\n",
        "    path='/content/IC/datasesErros/FMedium_50_1_2/Structured/DBLP-GoogleScholar/',\n",
        "    train='joined_train.csv',\n",
        "    validation='joined_valid.csv',\n",
        "    test='joined_test.csv')"
      ]
    },
    {
      "cell_type": "code",
      "execution_count": null,
      "metadata": {
        "id": "yzRiP2zT8Zk2"
      },
      "outputs": [],
      "source": [
        "model = dm.MatchingModel(attr_summarizer='hybrid')"
      ]
    },
    {
      "cell_type": "code",
      "execution_count": null,
      "metadata": {
        "id": "suAqw-TR8Zk2",
        "colab": {
          "base_uri": "https://localhost:8080/"
        },
        "outputId": "d682b080-13f2-40b0-b411-211658ccad4a"
      },
      "outputs": [
        {
          "output_type": "stream",
          "name": "stderr",
          "text": [
            "/usr/local/lib/python3.7/dist-packages/torch/nn/modules/module.py:949: UserWarning: Using non-full backward hooks on a Module that does not take as input a single Tensor or a tuple of Tensors is deprecated and will be removed in future versions. This hook will be missing some of the grad_input. Please use register_full_backward_hook to get the documented behavior.\n",
            "  warnings.warn(\"Using non-full backward hooks on a Module that does not take as input a \"\n",
            "/usr/local/lib/python3.7/dist-packages/torch/nn/modules/module.py:974: UserWarning: Using a non-full backward hook when the forward contains multiple autograd Nodes is deprecated and will be removed in future versions. This hook will be missing some grad_input. Please use register_full_backward_hook to get the documented behavior.\n",
            "  warnings.warn(\"Using a non-full backward hook when the forward contains multiple autograd Nodes \"\n"
          ]
        },
        {
          "output_type": "stream",
          "name": "stdout",
          "text": [
            "* Number of trainable parameters: 9210006\n",
            "===>  TRAIN Epoch 1\n"
          ]
        },
        {
          "output_type": "stream",
          "name": "stderr",
          "text": [
            "/usr/local/lib/python3.7/dist-packages/torch/nn/modules/module.py:939: UserWarning: Using non-full backward hooks on a Module that does not return a single Tensor or a tuple of Tensors is deprecated and will be removed in future versions. This hook will be missing some of the grad_output. Please use register_full_backward_hook to get the documented behavior.\n",
            "  warnings.warn(\"Using non-full backward hooks on a Module that does not return a \"\n",
            "/usr/local/lib/python3.7/dist-packages/torch/nn/functional.py:2742: UserWarning: reduction: 'mean' divides the total loss by both the batch size and the support size.'batchmean' divides only by the batch size, and aligns with the KL div math definition.'mean' will be changed to behave the same as 'batchmean' in the next major release.\n",
            "  \"reduction: 'mean' divides the total loss by both the batch size and the support size.\"\n",
            "0% [██████████████████████████████] 100% | ETA: 00:00:00\n",
            "Total time elapsed: 00:01:36\n"
          ]
        },
        {
          "output_type": "stream",
          "name": "stdout",
          "text": [
            "Finished Epoch 1 || Run Time:   71.4 | Load Time:   25.7 || F1:  83.26 | Prec:  76.87 | Rec:  90.80 || Ex/s: 177.48\n",
            "\n",
            "===>  EVAL Epoch 1\n"
          ]
        },
        {
          "output_type": "stream",
          "name": "stderr",
          "text": [
            "0% [██████████████████████████████] 100% | ETA: 00:00:00\n",
            "Total time elapsed: 00:00:20\n"
          ]
        },
        {
          "output_type": "stream",
          "name": "stdout",
          "text": [
            "Finished Epoch 1 || Run Time:   12.3 | Load Time:    8.1 || F1:  91.87 | Prec:  88.01 | Rec:  96.07 || Ex/s: 280.67\n",
            "\n",
            "* Best F1: tensor(91.8677, device='cuda:0')\n",
            "Saving best model...\n",
            "Done.\n",
            "---------------------\n",
            "\n",
            "===>  TRAIN Epoch 2\n"
          ]
        },
        {
          "output_type": "stream",
          "name": "stderr",
          "text": [
            "0% [██████████████████████████████] 100% | ETA: 00:00:00\n",
            "Total time elapsed: 00:01:38\n"
          ]
        },
        {
          "output_type": "stream",
          "name": "stdout",
          "text": [
            "Finished Epoch 2 || Run Time:   72.9 | Load Time:   26.1 || F1:  92.35 | Prec:  88.06 | Rec:  97.07 || Ex/s: 173.89\n",
            "\n",
            "===>  EVAL Epoch 2\n"
          ]
        },
        {
          "output_type": "stream",
          "name": "stderr",
          "text": [
            "0% [██████████████████████████████] 100% | ETA: 00:00:00\n",
            "Total time elapsed: 00:00:21\n"
          ]
        },
        {
          "output_type": "stream",
          "name": "stdout",
          "text": [
            "Finished Epoch 2 || Run Time:   13.0 | Load Time:    8.4 || F1:  92.38 | Prec:  89.28 | Rec:  95.70 || Ex/s: 268.82\n",
            "\n",
            "* Best F1: tensor(92.3771, device='cuda:0')\n",
            "Saving best model...\n",
            "Done.\n",
            "---------------------\n",
            "\n",
            "===>  TRAIN Epoch 3\n"
          ]
        },
        {
          "output_type": "stream",
          "name": "stderr",
          "text": [
            "0% [██████████████████████████████] 100% | ETA: 00:00:00\n",
            "Total time elapsed: 00:01:36\n"
          ]
        },
        {
          "output_type": "stream",
          "name": "stdout",
          "text": [
            "Finished Epoch 3 || Run Time:   71.8 | Load Time:   25.8 || F1:  95.24 | Prec:  92.45 | Rec:  98.19 || Ex/s: 176.47\n",
            "\n",
            "===>  EVAL Epoch 3\n"
          ]
        },
        {
          "output_type": "stream",
          "name": "stderr",
          "text": [
            "0% [██████████████████████████████] 100% | ETA: 00:00:00\n",
            "Total time elapsed: 00:00:20\n"
          ]
        },
        {
          "output_type": "stream",
          "name": "stdout",
          "text": [
            "Finished Epoch 3 || Run Time:   12.4 | Load Time:    8.1 || F1:  92.44 | Prec:  88.67 | Rec:  96.54 || Ex/s: 280.21\n",
            "\n",
            "* Best F1: tensor(92.4385, device='cuda:0')\n",
            "Saving best model...\n",
            "Done.\n",
            "---------------------\n",
            "\n",
            "===>  TRAIN Epoch 4\n"
          ]
        },
        {
          "output_type": "stream",
          "name": "stderr",
          "text": [
            "0% [██████████████████████████████] 100% | ETA: 00:00:00\n",
            "Total time elapsed: 00:01:38\n"
          ]
        },
        {
          "output_type": "stream",
          "name": "stdout",
          "text": [
            "Finished Epoch 4 || Run Time:   73.3 | Load Time:   26.2 || F1:  96.63 | Prec:  94.65 | Rec:  98.69 || Ex/s: 173.08\n",
            "\n",
            "===>  EVAL Epoch 4\n"
          ]
        },
        {
          "output_type": "stream",
          "name": "stderr",
          "text": [
            "0% [██████████████████████████████] 100% | ETA: 00:00:00\n",
            "Total time elapsed: 00:00:20\n"
          ]
        },
        {
          "output_type": "stream",
          "name": "stdout",
          "text": [
            "Finished Epoch 4 || Run Time:   12.5 | Load Time:    8.2 || F1:  92.58 | Prec:  88.77 | Rec:  96.73 || Ex/s: 276.72\n",
            "\n",
            "* Best F1: tensor(92.5760, device='cuda:0')\n",
            "Saving best model...\n",
            "Done.\n",
            "---------------------\n",
            "\n",
            "===>  TRAIN Epoch 5\n"
          ]
        },
        {
          "output_type": "stream",
          "name": "stderr",
          "text": [
            "0% [██████████████████████████████] 100% | ETA: 00:00:00\n",
            "Total time elapsed: 00:01:37\n"
          ]
        },
        {
          "output_type": "stream",
          "name": "stdout",
          "text": [
            "Finished Epoch 5 || Run Time:   72.2 | Load Time:   25.9 || F1:  97.74 | Prec:  96.36 | Rec:  99.16 || Ex/s: 175.66\n",
            "\n",
            "===>  EVAL Epoch 5\n"
          ]
        },
        {
          "output_type": "stream",
          "name": "stderr",
          "text": [
            "0% [██████████████████████████████] 100% | ETA: 00:00:00\n",
            "Total time elapsed: 00:00:20\n"
          ]
        },
        {
          "output_type": "stream",
          "name": "stdout",
          "text": [
            "Finished Epoch 5 || Run Time:   12.2 | Load Time:    8.0 || F1:  93.22 | Prec:  92.70 | Rec:  93.74 || Ex/s: 283.17\n",
            "\n",
            "* Best F1: tensor(93.2156, device='cuda:0')\n",
            "Saving best model...\n",
            "Done.\n",
            "---------------------\n",
            "\n",
            "===>  TRAIN Epoch 6\n"
          ]
        },
        {
          "output_type": "stream",
          "name": "stderr",
          "text": [
            "0% [██████████████████████████████] 100% | ETA: 00:00:00\n",
            "Total time elapsed: 00:01:38\n"
          ]
        },
        {
          "output_type": "stream",
          "name": "stdout",
          "text": [
            "Finished Epoch 6 || Run Time:   73.0 | Load Time:   26.2 || F1:  98.67 | Prec:  98.06 | Rec:  99.28 || Ex/s: 173.77\n",
            "\n",
            "===>  EVAL Epoch 6\n"
          ]
        },
        {
          "output_type": "stream",
          "name": "stderr",
          "text": [
            "0% [██████████████████████████████] 100% | ETA: 00:00:00\n",
            "Total time elapsed: 00:00:20\n"
          ]
        },
        {
          "output_type": "stream",
          "name": "stdout",
          "text": [
            "Finished Epoch 6 || Run Time:   12.2 | Load Time:    8.1 || F1:  93.37 | Prec:  91.41 | Rec:  95.42 || Ex/s: 283.12\n",
            "\n",
            "* Best F1: tensor(93.3699, device='cuda:0')\n",
            "Saving best model...\n",
            "Done.\n",
            "---------------------\n",
            "\n",
            "===>  TRAIN Epoch 7\n"
          ]
        },
        {
          "output_type": "stream",
          "name": "stderr",
          "text": [
            "0% [██████████████████████████████] 100% | ETA: 00:00:00\n",
            "Total time elapsed: 00:01:37\n"
          ]
        },
        {
          "output_type": "stream",
          "name": "stdout",
          "text": [
            "Finished Epoch 7 || Run Time:   72.1 | Load Time:   25.8 || F1:  99.16 | Prec:  98.82 | Rec:  99.50 || Ex/s: 175.85\n",
            "\n",
            "===>  EVAL Epoch 7\n"
          ]
        },
        {
          "output_type": "stream",
          "name": "stderr",
          "text": [
            "0% [██████████████████████████████] 100% | ETA: 00:00:00\n",
            "Total time elapsed: 00:00:21\n"
          ]
        },
        {
          "output_type": "stream",
          "name": "stdout",
          "text": [
            "Finished Epoch 7 || Run Time:   12.9 | Load Time:    8.4 || F1:  93.72 | Prec:  93.25 | Rec:  94.21 || Ex/s: 269.27\n",
            "\n",
            "* Best F1: tensor(93.7238, device='cuda:0')\n",
            "Saving best model...\n",
            "Done.\n",
            "---------------------\n",
            "\n",
            "===>  TRAIN Epoch 8\n"
          ]
        },
        {
          "output_type": "stream",
          "name": "stderr",
          "text": [
            "0% [██████████████████████████████] 100% | ETA: 00:00:00\n",
            "Total time elapsed: 00:01:37\n"
          ]
        },
        {
          "output_type": "stream",
          "name": "stdout",
          "text": [
            "Finished Epoch 8 || Run Time:   72.6 | Load Time:   25.9 || F1:  99.46 | Prec:  99.19 | Rec:  99.72 || Ex/s: 174.87\n",
            "\n",
            "===>  EVAL Epoch 8\n"
          ]
        },
        {
          "output_type": "stream",
          "name": "stderr",
          "text": [
            "0% [██████████████████████████████] 100% | ETA: 00:00:00\n",
            "Total time elapsed: 00:00:20\n"
          ]
        },
        {
          "output_type": "stream",
          "name": "stdout",
          "text": [
            "Finished Epoch 8 || Run Time:   12.5 | Load Time:    8.2 || F1:  93.85 | Prec:  93.51 | Rec:  94.21 || Ex/s: 276.76\n",
            "\n",
            "* Best F1: tensor(93.8548, device='cuda:0')\n",
            "Saving best model...\n",
            "Done.\n",
            "---------------------\n",
            "\n",
            "===>  TRAIN Epoch 9\n"
          ]
        },
        {
          "output_type": "stream",
          "name": "stderr",
          "text": [
            "0% [██████████████████████████████] 100% | ETA: 00:00:00\n",
            "Total time elapsed: 00:01:36\n"
          ]
        },
        {
          "output_type": "stream",
          "name": "stdout",
          "text": [
            "Finished Epoch 9 || Run Time:   71.4 | Load Time:   25.7 || F1:  99.56 | Prec:  99.32 | Rec:  99.81 || Ex/s: 177.43\n",
            "\n",
            "===>  EVAL Epoch 9\n"
          ]
        },
        {
          "output_type": "stream",
          "name": "stderr",
          "text": [
            "0% [██████████████████████████████] 100% | ETA: 00:00:00\n",
            "Total time elapsed: 00:00:20\n"
          ]
        },
        {
          "output_type": "stream",
          "name": "stdout",
          "text": [
            "Finished Epoch 9 || Run Time:   12.2 | Load Time:    8.0 || F1:  93.84 | Prec:  93.02 | Rec:  94.67 || Ex/s: 283.81\n",
            "\n",
            "---------------------\n",
            "\n",
            "===>  TRAIN Epoch 10\n"
          ]
        },
        {
          "output_type": "stream",
          "name": "stderr",
          "text": [
            "0% [██████████████████████████████] 100% | ETA: 00:00:00\n",
            "Total time elapsed: 00:01:36\n"
          ]
        },
        {
          "output_type": "stream",
          "name": "stdout",
          "text": [
            "Finished Epoch 10 || Run Time:   71.7 | Load Time:   25.8 || F1:  99.60 | Prec:  99.35 | Rec:  99.84 || Ex/s: 176.51\n",
            "\n",
            "===>  EVAL Epoch 10\n"
          ]
        },
        {
          "output_type": "stream",
          "name": "stderr",
          "text": [
            "0% [██████████████████████████████] 100% | ETA: 00:00:00\n",
            "Total time elapsed: 00:00:20\n"
          ]
        },
        {
          "output_type": "stream",
          "name": "stdout",
          "text": [
            "Finished Epoch 10 || Run Time:   12.6 | Load Time:    8.2 || F1:  93.59 | Prec:  93.07 | Rec:  94.11 || Ex/s: 276.10\n",
            "\n",
            "---------------------\n",
            "\n",
            "===>  TRAIN Epoch 11\n"
          ]
        },
        {
          "output_type": "stream",
          "name": "stderr",
          "text": [
            "0% [██████████████████████████████] 100% | ETA: 00:00:00\n",
            "Total time elapsed: 00:01:37\n"
          ]
        },
        {
          "output_type": "stream",
          "name": "stdout",
          "text": [
            "Finished Epoch 11 || Run Time:   71.9 | Load Time:   26.0 || F1:  99.67 | Prec:  99.50 | Rec:  99.84 || Ex/s: 175.95\n",
            "\n",
            "===>  EVAL Epoch 11\n"
          ]
        },
        {
          "output_type": "stream",
          "name": "stderr",
          "text": [
            "0% [██████████████████████████████] 100% | ETA: 00:00:00\n",
            "Total time elapsed: 00:00:21\n"
          ]
        },
        {
          "output_type": "stream",
          "name": "stdout",
          "text": [
            "Finished Epoch 11 || Run Time:   12.9 | Load Time:    8.3 || F1:  93.63 | Prec:  93.15 | Rec:  94.11 || Ex/s: 271.22\n",
            "\n",
            "---------------------\n",
            "\n",
            "===>  TRAIN Epoch 12\n"
          ]
        },
        {
          "output_type": "stream",
          "name": "stderr",
          "text": [
            "0% [██████████████████████████████] 100% | ETA: 00:00:00\n",
            "Total time elapsed: 00:01:37\n"
          ]
        },
        {
          "output_type": "stream",
          "name": "stdout",
          "text": [
            "Finished Epoch 12 || Run Time:   72.2 | Load Time:   25.9 || F1:  99.72 | Prec:  99.60 | Rec:  99.84 || Ex/s: 175.56\n",
            "\n",
            "===>  EVAL Epoch 12\n"
          ]
        },
        {
          "output_type": "stream",
          "name": "stderr",
          "text": [
            "0% [██████████████████████████████] 100% | ETA: 00:00:00\n",
            "Total time elapsed: 00:00:20\n"
          ]
        },
        {
          "output_type": "stream",
          "name": "stdout",
          "text": [
            "Finished Epoch 12 || Run Time:   12.5 | Load Time:    8.2 || F1:  93.62 | Prec:  93.23 | Rec:  94.02 || Ex/s: 276.81\n",
            "\n",
            "---------------------\n",
            "\n",
            "===>  TRAIN Epoch 13\n"
          ]
        },
        {
          "output_type": "stream",
          "name": "stderr",
          "text": [
            "0% [██████████████████████████████] 100% | ETA: 00:00:00\n",
            "Total time elapsed: 00:01:37\n"
          ]
        },
        {
          "output_type": "stream",
          "name": "stdout",
          "text": [
            "Finished Epoch 13 || Run Time:   72.0 | Load Time:   26.0 || F1:  99.75 | Prec:  99.66 | Rec:  99.84 || Ex/s: 175.80\n",
            "\n",
            "===>  EVAL Epoch 13\n"
          ]
        },
        {
          "output_type": "stream",
          "name": "stderr",
          "text": [
            "0% [██████████████████████████████] 100% | ETA: 00:00:00\n",
            "Total time elapsed: 00:00:20\n"
          ]
        },
        {
          "output_type": "stream",
          "name": "stdout",
          "text": [
            "Finished Epoch 13 || Run Time:   12.5 | Load Time:    8.2 || F1:  93.52 | Prec:  93.30 | Rec:  93.74 || Ex/s: 277.43\n",
            "\n",
            "---------------------\n",
            "\n",
            "===>  TRAIN Epoch 14\n"
          ]
        },
        {
          "output_type": "stream",
          "name": "stderr",
          "text": [
            "0% [██████████████████████████████] 100% | ETA: 00:00:00\n",
            "Total time elapsed: 00:01:36\n"
          ]
        },
        {
          "output_type": "stream",
          "name": "stdout",
          "text": [
            "Finished Epoch 14 || Run Time:   71.6 | Load Time:   25.9 || F1:  99.80 | Prec:  99.72 | Rec:  99.88 || Ex/s: 176.54\n",
            "\n",
            "===>  EVAL Epoch 14\n"
          ]
        },
        {
          "output_type": "stream",
          "name": "stderr",
          "text": [
            "0% [██████████████████████████████] 100% | ETA: 00:00:00\n",
            "Total time elapsed: 00:00:20\n"
          ]
        },
        {
          "output_type": "stream",
          "name": "stdout",
          "text": [
            "Finished Epoch 14 || Run Time:   12.3 | Load Time:    8.1 || F1:  93.41 | Prec:  93.37 | Rec:  93.46 || Ex/s: 281.54\n",
            "\n",
            "---------------------\n",
            "\n",
            "===>  TRAIN Epoch 15\n"
          ]
        },
        {
          "output_type": "stream",
          "name": "stderr",
          "text": [
            "0% [██████████████████████████████] 100% | ETA: 00:00:00\n",
            "Total time elapsed: 00:01:36\n"
          ]
        },
        {
          "output_type": "stream",
          "name": "stdout",
          "text": [
            "Finished Epoch 15 || Run Time:   71.6 | Load Time:   25.7 || F1:  99.83 | Prec:  99.78 | Rec:  99.88 || Ex/s: 176.92\n",
            "\n",
            "===>  EVAL Epoch 15\n"
          ]
        },
        {
          "output_type": "stream",
          "name": "stderr",
          "text": [
            "0% [██████████████████████████████] 100% | ETA: 00:00:00\n",
            "Total time elapsed: 00:00:20\n"
          ]
        },
        {
          "output_type": "stream",
          "name": "stdout",
          "text": [
            "Finished Epoch 15 || Run Time:   12.2 | Load Time:    8.0 || F1:  93.58 | Prec:  93.80 | Rec:  93.36 || Ex/s: 283.24\n",
            "\n",
            "---------------------\n",
            "\n",
            "Loading best model...\n",
            "Training done.\n"
          ]
        },
        {
          "output_type": "execute_result",
          "data": {
            "text/plain": [
              "tensor(93.8548, device='cuda:0')"
            ]
          },
          "metadata": {},
          "execution_count": 13
        }
      ],
      "source": [
        "model.run_train(\n",
        "    train,\n",
        "    validation,\n",
        "    epochs=15,\n",
        "    batch_size=32,\n",
        "    best_save_path='hybrid_model.pth',\n",
        "    pos_neg_ratio=3)"
      ]
    },
    {
      "cell_type": "code",
      "execution_count": null,
      "metadata": {
        "id": "miqU3qu78Zk2",
        "colab": {
          "base_uri": "https://localhost:8080/"
        },
        "outputId": "07c5b59e-5319-41bf-aa10-855263cdbb9e"
      },
      "outputs": [
        {
          "output_type": "stream",
          "name": "stdout",
          "text": [
            "===>  EVAL Epoch 8\n"
          ]
        },
        {
          "output_type": "stream",
          "name": "stderr",
          "text": [
            "/usr/local/lib/python3.7/dist-packages/torch/nn/modules/module.py:949: UserWarning: Using non-full backward hooks on a Module that does not take as input a single Tensor or a tuple of Tensors is deprecated and will be removed in future versions. This hook will be missing some of the grad_input. Please use register_full_backward_hook to get the documented behavior.\n",
            "  warnings.warn(\"Using non-full backward hooks on a Module that does not take as input a \"\n",
            "/usr/local/lib/python3.7/dist-packages/torch/nn/modules/module.py:974: UserWarning: Using a non-full backward hook when the forward contains multiple autograd Nodes is deprecated and will be removed in future versions. This hook will be missing some grad_input. Please use register_full_backward_hook to get the documented behavior.\n",
            "  warnings.warn(\"Using a non-full backward hook when the forward contains multiple autograd Nodes \"\n",
            "/usr/local/lib/python3.7/dist-packages/torch/nn/modules/module.py:939: UserWarning: Using non-full backward hooks on a Module that does not return a single Tensor or a tuple of Tensors is deprecated and will be removed in future versions. This hook will be missing some of the grad_output. Please use register_full_backward_hook to get the documented behavior.\n",
            "  warnings.warn(\"Using non-full backward hooks on a Module that does not return a \"\n",
            "0% [██████████████████████████████] 100% | ETA: 00:00:00\n",
            "Total time elapsed: 00:00:21\n"
          ]
        },
        {
          "output_type": "stream",
          "name": "stdout",
          "text": [
            "Finished Epoch 8 || Run Time:   13.1 | Load Time:    8.5 || F1:  93.51 | Prec:  92.74 | Rec:  94.30 || Ex/s: 265.06\n",
            "\n"
          ]
        },
        {
          "output_type": "execute_result",
          "data": {
            "text/plain": [
              "tensor(93.5125, device='cuda:0')"
            ]
          },
          "metadata": {},
          "execution_count": 14
        }
      ],
      "source": [
        "# Compute F1 on test set\n",
        "model.run_eval(test)"
      ]
    },
    {
      "cell_type": "markdown",
      "metadata": {
        "id": "parT3nak8Zk3"
      },
      "source": [
        "##### Walmart-Amazon"
      ]
    },
    {
      "cell_type": "code",
      "execution_count": null,
      "metadata": {
        "id": "4irvp-hv8Zk3",
        "colab": {
          "base_uri": "https://localhost:8080/"
        },
        "outputId": "13ccca83-e9ab-471a-c92a-724feb8f68d5"
      },
      "outputs": [
        {
          "output_type": "stream",
          "name": "stderr",
          "text": [
            "WARNING:deepmatcher.data.dataset:Rebuilding data cache because: ['One or more data files have been modified.', 'Data file list has changed.']\n",
            "\n",
            "Reading and processing data from \"/content/IC/datasesErros/FMedium_50_1_2/Structured/Walmart-Amazon/joined_train.csv\"\n",
            "0% [############################# ] 100% | ETA: 00:00:00\n",
            "Reading and processing data from \"/content/IC/datasesErros/FMedium_50_1_2/Structured/Walmart-Amazon/joined_valid.csv\"\n",
            "0% [############################# ] 100% | ETA: 00:00:00\n",
            "Reading and processing data from \"/content/IC/datasesErros/FMedium_50_1_2/Structured/Walmart-Amazon/joined_test.csv\"\n",
            "0% [############################# ] 100% | ETA: 00:00:00Warning : `load_model` does not return WordVectorModel or SupervisedModel any more, but a `FastText` object which is very similar.\n",
            "\n",
            "Building vocabulary\n",
            "0% [######] 100% | ETA: 00:00:00\n",
            "Total time elapsed: 00:00:00\n",
            "\n",
            "Computing principal components\n",
            "0% [######] 100% | ETA: 00:00:00\n",
            "Total time elapsed: 00:00:02\n"
          ]
        }
      ],
      "source": [
        "train, validation, test = dm.data.process(\n",
        "    path='/content/IC/datasesErros/FMedium_50_1_2/Structured/Walmart-Amazon/',\n",
        "    train='joined_train.csv',\n",
        "    validation='joined_valid.csv',\n",
        "    test='joined_test.csv')"
      ]
    },
    {
      "cell_type": "code",
      "execution_count": null,
      "metadata": {
        "id": "hfjEKHx98Zk3"
      },
      "outputs": [],
      "source": [
        "model = dm.MatchingModel(attr_summarizer='hybrid')"
      ]
    },
    {
      "cell_type": "code",
      "execution_count": null,
      "metadata": {
        "id": "XXqijb-M8Zk4",
        "colab": {
          "base_uri": "https://localhost:8080/"
        },
        "outputId": "85afa571-51a0-4818-d05c-d4e10c72f4e6"
      },
      "outputs": [
        {
          "output_type": "stream",
          "name": "stderr",
          "text": [
            "/usr/local/lib/python3.7/dist-packages/torch/nn/modules/module.py:949: UserWarning: Using non-full backward hooks on a Module that does not take as input a single Tensor or a tuple of Tensors is deprecated and will be removed in future versions. This hook will be missing some of the grad_input. Please use register_full_backward_hook to get the documented behavior.\n",
            "  warnings.warn(\"Using non-full backward hooks on a Module that does not take as input a \"\n",
            "/usr/local/lib/python3.7/dist-packages/torch/nn/modules/module.py:974: UserWarning: Using a non-full backward hook when the forward contains multiple autograd Nodes is deprecated and will be removed in future versions. This hook will be missing some grad_input. Please use register_full_backward_hook to get the documented behavior.\n",
            "  warnings.warn(\"Using a non-full backward hook when the forward contains multiple autograd Nodes \"\n"
          ]
        },
        {
          "output_type": "stream",
          "name": "stdout",
          "text": [
            "* Number of trainable parameters: 11286907\n",
            "===>  TRAIN Epoch 1\n"
          ]
        },
        {
          "output_type": "stream",
          "name": "stderr",
          "text": [
            "/usr/local/lib/python3.7/dist-packages/torch/nn/modules/module.py:939: UserWarning: Using non-full backward hooks on a Module that does not return a single Tensor or a tuple of Tensors is deprecated and will be removed in future versions. This hook will be missing some of the grad_output. Please use register_full_backward_hook to get the documented behavior.\n",
            "  warnings.warn(\"Using non-full backward hooks on a Module that does not return a \"\n",
            "/usr/local/lib/python3.7/dist-packages/torch/nn/functional.py:2742: UserWarning: reduction: 'mean' divides the total loss by both the batch size and the support size.'batchmean' divides only by the batch size, and aligns with the KL div math definition.'mean' will be changed to behave the same as 'batchmean' in the next major release.\n",
            "  \"reduction: 'mean' divides the total loss by both the batch size and the support size.\"\n",
            "0% [██████████████████████████████] 100% | ETA: 00:00:00\n",
            "Total time elapsed: 00:00:36\n"
          ]
        },
        {
          "output_type": "stream",
          "name": "stdout",
          "text": [
            "Finished Epoch 1 || Run Time:   29.6 | Load Time:    7.4 || F1:  26.91 | Prec:  52.79 | Rec:  18.06 || Ex/s: 166.34\n",
            "\n",
            "===>  EVAL Epoch 1\n"
          ]
        },
        {
          "output_type": "stream",
          "name": "stderr",
          "text": [
            "0% [█████████████] 100% | ETA: 00:00:00\n",
            "Total time elapsed: 00:00:07\n"
          ]
        },
        {
          "output_type": "stream",
          "name": "stdout",
          "text": [
            "Finished Epoch 1 || Run Time:    5.6 | Load Time:    2.4 || F1:  49.12 | Prec:  39.38 | Rec:  65.28 || Ex/s: 258.21\n",
            "\n",
            "* Best F1: tensor(49.1228, device='cuda:0')\n",
            "Saving best model...\n",
            "Done.\n",
            "---------------------\n",
            "\n",
            "===>  TRAIN Epoch 2\n"
          ]
        },
        {
          "output_type": "stream",
          "name": "stderr",
          "text": [
            "0% [██████████████████████████████] 100% | ETA: 00:00:00\n",
            "Total time elapsed: 00:00:37\n"
          ]
        },
        {
          "output_type": "stream",
          "name": "stdout",
          "text": [
            "Finished Epoch 2 || Run Time:   30.5 | Load Time:    7.5 || F1:  60.95 | Prec:  61.48 | Rec:  60.42 || Ex/s: 161.60\n",
            "\n",
            "===>  EVAL Epoch 2\n"
          ]
        },
        {
          "output_type": "stream",
          "name": "stderr",
          "text": [
            "0% [█████████████] 100% | ETA: 00:00:00\n",
            "Total time elapsed: 00:00:07\n"
          ]
        },
        {
          "output_type": "stream",
          "name": "stdout",
          "text": [
            "Finished Epoch 2 || Run Time:    5.2 | Load Time:    2.3 || F1:  53.94 | Prec:  44.98 | Rec:  67.36 || Ex/s: 272.19\n",
            "\n",
            "* Best F1: tensor(53.9419, device='cuda:0')\n",
            "Saving best model...\n",
            "Done.\n",
            "---------------------\n",
            "\n",
            "===>  TRAIN Epoch 3\n"
          ]
        },
        {
          "output_type": "stream",
          "name": "stderr",
          "text": [
            "0% [██████████████████████████████] 100% | ETA: 00:00:00\n",
            "Total time elapsed: 00:00:37\n"
          ]
        },
        {
          "output_type": "stream",
          "name": "stdout",
          "text": [
            "Finished Epoch 3 || Run Time:   30.5 | Load Time:    7.5 || F1:  72.70 | Prec:  67.98 | Rec:  78.12 || Ex/s: 161.99\n",
            "\n",
            "===>  EVAL Epoch 3\n"
          ]
        },
        {
          "output_type": "stream",
          "name": "stderr",
          "text": [
            "0% [█████████████] 100% | ETA: 00:00:00\n",
            "Total time elapsed: 00:00:07\n"
          ]
        },
        {
          "output_type": "stream",
          "name": "stdout",
          "text": [
            "Finished Epoch 3 || Run Time:    5.4 | Load Time:    2.3 || F1:  53.97 | Prec:  43.73 | Rec:  70.47 || Ex/s: 267.25\n",
            "\n",
            "* Best F1: tensor(53.9683, device='cuda:0')\n",
            "Saving best model...\n",
            "Done.\n",
            "---------------------\n",
            "\n",
            "===>  TRAIN Epoch 4\n"
          ]
        },
        {
          "output_type": "stream",
          "name": "stderr",
          "text": [
            "0% [██████████████████████████████] 100% | ETA: 00:00:00\n",
            "Total time elapsed: 00:00:38\n"
          ]
        },
        {
          "output_type": "stream",
          "name": "stdout",
          "text": [
            "Finished Epoch 4 || Run Time:   31.3 | Load Time:    7.6 || F1:  82.32 | Prec:  76.65 | Rec:  88.89 || Ex/s: 158.20\n",
            "\n",
            "===>  EVAL Epoch 4\n"
          ]
        },
        {
          "output_type": "stream",
          "name": "stderr",
          "text": [
            "0% [█████████████] 100% | ETA: 00:00:00\n",
            "Total time elapsed: 00:00:07\n"
          ]
        },
        {
          "output_type": "stream",
          "name": "stdout",
          "text": [
            "Finished Epoch 4 || Run Time:    5.2 | Load Time:    2.3 || F1:  62.90 | Prec:  55.82 | Rec:  72.02 || Ex/s: 270.08\n",
            "\n",
            "* Best F1: tensor(62.8959, device='cuda:0')\n",
            "Saving best model...\n",
            "Done.\n",
            "---------------------\n",
            "\n",
            "===>  TRAIN Epoch 5\n"
          ]
        },
        {
          "output_type": "stream",
          "name": "stderr",
          "text": [
            "0% [██████████████████████████████] 100% | ETA: 00:00:00\n",
            "Total time elapsed: 00:00:37\n"
          ]
        },
        {
          "output_type": "stream",
          "name": "stdout",
          "text": [
            "Finished Epoch 5 || Run Time:   30.9 | Load Time:    7.5 || F1:  89.46 | Prec:  86.29 | Rec:  92.88 || Ex/s: 159.84\n",
            "\n",
            "===>  EVAL Epoch 5\n"
          ]
        },
        {
          "output_type": "stream",
          "name": "stderr",
          "text": [
            "0% [█████████████] 100% | ETA: 00:00:00\n",
            "Total time elapsed: 00:00:07\n"
          ]
        },
        {
          "output_type": "stream",
          "name": "stdout",
          "text": [
            "Finished Epoch 5 || Run Time:    5.4 | Load Time:    2.4 || F1:  58.31 | Prec:  52.03 | Rec:  66.32 || Ex/s: 261.52\n",
            "\n",
            "---------------------\n",
            "\n",
            "===>  TRAIN Epoch 6\n"
          ]
        },
        {
          "output_type": "stream",
          "name": "stderr",
          "text": [
            "0% [██████████████████████████████] 100% | ETA: 00:00:00\n",
            "Total time elapsed: 00:00:38\n"
          ]
        },
        {
          "output_type": "stream",
          "name": "stdout",
          "text": [
            "Finished Epoch 6 || Run Time:   31.3 | Load Time:    7.6 || F1:  92.84 | Prec:  90.18 | Rec:  95.66 || Ex/s: 158.03\n",
            "\n",
            "===>  EVAL Epoch 6\n"
          ]
        },
        {
          "output_type": "stream",
          "name": "stderr",
          "text": [
            "0% [█████████████] 100% | ETA: 00:00:00\n",
            "Total time elapsed: 00:00:08\n"
          ]
        },
        {
          "output_type": "stream",
          "name": "stdout",
          "text": [
            "Finished Epoch 6 || Run Time:    5.6 | Load Time:    2.4 || F1:  60.20 | Prec:  57.89 | Rec:  62.69 || Ex/s: 254.96\n",
            "\n",
            "---------------------\n",
            "\n",
            "===>  TRAIN Epoch 7\n"
          ]
        },
        {
          "output_type": "stream",
          "name": "stderr",
          "text": [
            "0% [██████████████████████████████] 100% | ETA: 00:00:00\n",
            "Total time elapsed: 00:00:38\n"
          ]
        },
        {
          "output_type": "stream",
          "name": "stdout",
          "text": [
            "Finished Epoch 7 || Run Time:   31.2 | Load Time:    7.5 || F1:  94.06 | Prec:  92.03 | Rec:  96.18 || Ex/s: 158.51\n",
            "\n",
            "===>  EVAL Epoch 7\n"
          ]
        },
        {
          "output_type": "stream",
          "name": "stderr",
          "text": [
            "0% [█████████████] 100% | ETA: 00:00:00\n",
            "Total time elapsed: 00:00:07\n"
          ]
        },
        {
          "output_type": "stream",
          "name": "stdout",
          "text": [
            "Finished Epoch 7 || Run Time:    5.5 | Load Time:    2.4 || F1:  61.07 | Prec:  60.00 | Rec:  62.18 || Ex/s: 261.98\n",
            "\n",
            "---------------------\n",
            "\n",
            "===>  TRAIN Epoch 8\n"
          ]
        },
        {
          "output_type": "stream",
          "name": "stderr",
          "text": [
            "0% [██████████████████████████████] 100% | ETA: 00:00:00\n",
            "Total time elapsed: 00:00:38\n"
          ]
        },
        {
          "output_type": "stream",
          "name": "stdout",
          "text": [
            "Finished Epoch 8 || Run Time:   31.0 | Load Time:    7.6 || F1:  96.47 | Prec:  95.57 | Rec:  97.40 || Ex/s: 158.93\n",
            "\n",
            "===>  EVAL Epoch 8\n"
          ]
        },
        {
          "output_type": "stream",
          "name": "stderr",
          "text": [
            "0% [█████████████] 100% | ETA: 00:00:00\n",
            "Total time elapsed: 00:00:07\n"
          ]
        },
        {
          "output_type": "stream",
          "name": "stdout",
          "text": [
            "Finished Epoch 8 || Run Time:    5.4 | Load Time:    2.4 || F1:  60.76 | Prec:  59.41 | Rec:  62.18 || Ex/s: 262.96\n",
            "\n",
            "---------------------\n",
            "\n",
            "===>  TRAIN Epoch 9\n"
          ]
        },
        {
          "output_type": "stream",
          "name": "stderr",
          "text": [
            "0% [██████████████████████████████] 100% | ETA: 00:00:00\n",
            "Total time elapsed: 00:00:37\n"
          ]
        },
        {
          "output_type": "stream",
          "name": "stdout",
          "text": [
            "Finished Epoch 9 || Run Time:   31.0 | Load Time:    7.5 || F1:  98.09 | Prec:  98.09 | Rec:  98.09 || Ex/s: 159.69\n",
            "\n",
            "===>  EVAL Epoch 9\n"
          ]
        },
        {
          "output_type": "stream",
          "name": "stderr",
          "text": [
            "0% [█████████████] 100% | ETA: 00:00:00\n",
            "Total time elapsed: 00:00:07\n"
          ]
        },
        {
          "output_type": "stream",
          "name": "stdout",
          "text": [
            "Finished Epoch 9 || Run Time:    5.6 | Load Time:    2.4 || F1:  62.33 | Prec:  65.34 | Rec:  59.59 || Ex/s: 258.11\n",
            "\n",
            "---------------------\n",
            "\n",
            "===>  TRAIN Epoch 10\n"
          ]
        },
        {
          "output_type": "stream",
          "name": "stderr",
          "text": [
            "0% [██████████████████████████████] 100% | ETA: 00:00:00\n",
            "Total time elapsed: 00:00:38\n"
          ]
        },
        {
          "output_type": "stream",
          "name": "stdout",
          "text": [
            "Finished Epoch 10 || Run Time:   31.2 | Load Time:    7.5 || F1:  98.61 | Prec:  98.44 | Rec:  98.78 || Ex/s: 158.71\n",
            "\n",
            "===>  EVAL Epoch 10\n"
          ]
        },
        {
          "output_type": "stream",
          "name": "stderr",
          "text": [
            "0% [█████████████] 100% | ETA: 00:00:00\n",
            "Total time elapsed: 00:00:07\n"
          ]
        },
        {
          "output_type": "stream",
          "name": "stdout",
          "text": [
            "Finished Epoch 10 || Run Time:    5.5 | Load Time:    2.4 || F1:  63.01 | Prec:  66.86 | Rec:  59.59 || Ex/s: 260.14\n",
            "\n",
            "* Best F1: tensor(63.0137, device='cuda:0')\n",
            "Saving best model...\n",
            "Done.\n",
            "---------------------\n",
            "\n",
            "===>  TRAIN Epoch 11\n"
          ]
        },
        {
          "output_type": "stream",
          "name": "stderr",
          "text": [
            "0% [██████████████████████████████] 100% | ETA: 00:00:00\n",
            "Total time elapsed: 00:00:37\n"
          ]
        },
        {
          "output_type": "stream",
          "name": "stdout",
          "text": [
            "Finished Epoch 11 || Run Time:   30.9 | Load Time:    7.5 || F1:  98.79 | Prec:  98.62 | Rec:  98.96 || Ex/s: 159.94\n",
            "\n",
            "===>  EVAL Epoch 11\n"
          ]
        },
        {
          "output_type": "stream",
          "name": "stderr",
          "text": [
            "0% [█████████████] 100% | ETA: 00:00:00\n",
            "Total time elapsed: 00:00:07\n"
          ]
        },
        {
          "output_type": "stream",
          "name": "stdout",
          "text": [
            "Finished Epoch 11 || Run Time:    5.4 | Load Time:    2.4 || F1:  62.60 | Prec:  67.26 | Rec:  58.55 || Ex/s: 264.83\n",
            "\n",
            "---------------------\n",
            "\n",
            "===>  TRAIN Epoch 12\n"
          ]
        },
        {
          "output_type": "stream",
          "name": "stderr",
          "text": [
            "0% [██████████████████████████████] 100% | ETA: 00:00:00\n",
            "Total time elapsed: 00:00:36\n"
          ]
        },
        {
          "output_type": "stream",
          "name": "stdout",
          "text": [
            "Finished Epoch 12 || Run Time:   29.8 | Load Time:    7.4 || F1:  98.87 | Prec:  98.62 | Rec:  99.13 || Ex/s: 165.34\n",
            "\n",
            "===>  EVAL Epoch 12\n"
          ]
        },
        {
          "output_type": "stream",
          "name": "stderr",
          "text": [
            "0% [█████████████] 100% | ETA: 00:00:00\n",
            "Total time elapsed: 00:00:07\n"
          ]
        },
        {
          "output_type": "stream",
          "name": "stdout",
          "text": [
            "Finished Epoch 12 || Run Time:    5.2 | Load Time:    2.3 || F1:  62.81 | Prec:  67.06 | Rec:  59.07 || Ex/s: 271.09\n",
            "\n",
            "---------------------\n",
            "\n",
            "===>  TRAIN Epoch 13\n"
          ]
        },
        {
          "output_type": "stream",
          "name": "stderr",
          "text": [
            "0% [██████████████████████████████] 100% | ETA: 00:00:00\n",
            "Total time elapsed: 00:00:36\n"
          ]
        },
        {
          "output_type": "stream",
          "name": "stdout",
          "text": [
            "Finished Epoch 13 || Run Time:   29.5 | Load Time:    7.4 || F1:  99.13 | Prec:  98.79 | Rec:  99.48 || Ex/s: 166.41\n",
            "\n",
            "===>  EVAL Epoch 13\n"
          ]
        },
        {
          "output_type": "stream",
          "name": "stderr",
          "text": [
            "0% [█████████████] 100% | ETA: 00:00:00\n",
            "Total time elapsed: 00:00:07\n"
          ]
        },
        {
          "output_type": "stream",
          "name": "stdout",
          "text": [
            "Finished Epoch 13 || Run Time:    5.5 | Load Time:    2.4 || F1:  61.79 | Prec:  64.77 | Rec:  59.07 || Ex/s: 259.52\n",
            "\n",
            "---------------------\n",
            "\n",
            "===>  TRAIN Epoch 14\n"
          ]
        },
        {
          "output_type": "stream",
          "name": "stderr",
          "text": [
            "0% [██████████████████████████████] 100% | ETA: 00:00:00\n",
            "Total time elapsed: 00:00:38\n"
          ]
        },
        {
          "output_type": "stream",
          "name": "stdout",
          "text": [
            "Finished Epoch 14 || Run Time:   31.1 | Load Time:    7.6 || F1:  99.22 | Prec:  98.96 | Rec:  99.48 || Ex/s: 158.92\n",
            "\n",
            "===>  EVAL Epoch 14\n"
          ]
        },
        {
          "output_type": "stream",
          "name": "stderr",
          "text": [
            "0% [█████████████] 100% | ETA: 00:00:00\n",
            "Total time elapsed: 00:00:07\n"
          ]
        },
        {
          "output_type": "stream",
          "name": "stdout",
          "text": [
            "Finished Epoch 14 || Run Time:    5.4 | Load Time:    2.4 || F1:  61.66 | Prec:  63.89 | Rec:  59.59 || Ex/s: 262.94\n",
            "\n",
            "---------------------\n",
            "\n",
            "===>  TRAIN Epoch 15\n"
          ]
        },
        {
          "output_type": "stream",
          "name": "stderr",
          "text": [
            "0% [██████████████████████████████] 100% | ETA: 00:00:00\n",
            "Total time elapsed: 00:00:36\n"
          ]
        },
        {
          "output_type": "stream",
          "name": "stdout",
          "text": [
            "Finished Epoch 15 || Run Time:   30.0 | Load Time:    7.4 || F1:  99.22 | Prec:  98.96 | Rec:  99.48 || Ex/s: 164.43\n",
            "\n",
            "===>  EVAL Epoch 15\n"
          ]
        },
        {
          "output_type": "stream",
          "name": "stderr",
          "text": [
            "0% [█████████████] 100% | ETA: 00:00:00\n",
            "Total time elapsed: 00:00:07\n"
          ]
        },
        {
          "output_type": "stream",
          "name": "stdout",
          "text": [
            "Finished Epoch 15 || Run Time:    5.2 | Load Time:    2.3 || F1:  61.50 | Prec:  63.54 | Rec:  59.59 || Ex/s: 271.68\n",
            "\n",
            "---------------------\n",
            "\n",
            "Loading best model...\n",
            "Training done.\n"
          ]
        },
        {
          "output_type": "execute_result",
          "data": {
            "text/plain": [
              "tensor(63.0137, device='cuda:0')"
            ]
          },
          "metadata": {},
          "execution_count": 13
        }
      ],
      "source": [
        "model.run_train(\n",
        "    train,\n",
        "    validation,\n",
        "    epochs=15,\n",
        "    batch_size=32,\n",
        "    best_save_path='hybrid_model.pth',\n",
        "    pos_neg_ratio=3)"
      ]
    },
    {
      "cell_type": "code",
      "execution_count": null,
      "metadata": {
        "id": "tT_4ZVfk8Zk4",
        "colab": {
          "base_uri": "https://localhost:8080/"
        },
        "outputId": "608bd757-2d6a-4391-f320-85cc1c44f2ab"
      },
      "outputs": [
        {
          "output_type": "stream",
          "name": "stdout",
          "text": [
            "===>  EVAL Epoch 10\n"
          ]
        },
        {
          "output_type": "stream",
          "name": "stderr",
          "text": [
            "/usr/local/lib/python3.7/dist-packages/torch/nn/modules/module.py:949: UserWarning: Using non-full backward hooks on a Module that does not take as input a single Tensor or a tuple of Tensors is deprecated and will be removed in future versions. This hook will be missing some of the grad_input. Please use register_full_backward_hook to get the documented behavior.\n",
            "  warnings.warn(\"Using non-full backward hooks on a Module that does not take as input a \"\n",
            "/usr/local/lib/python3.7/dist-packages/torch/nn/modules/module.py:974: UserWarning: Using a non-full backward hook when the forward contains multiple autograd Nodes is deprecated and will be removed in future versions. This hook will be missing some grad_input. Please use register_full_backward_hook to get the documented behavior.\n",
            "  warnings.warn(\"Using a non-full backward hook when the forward contains multiple autograd Nodes \"\n",
            "/usr/local/lib/python3.7/dist-packages/torch/nn/modules/module.py:939: UserWarning: Using non-full backward hooks on a Module that does not return a single Tensor or a tuple of Tensors is deprecated and will be removed in future versions. This hook will be missing some of the grad_output. Please use register_full_backward_hook to get the documented behavior.\n",
            "  warnings.warn(\"Using non-full backward hooks on a Module that does not return a \"\n",
            "0% [█████████████] 100% | ETA: 00:00:00\n",
            "Total time elapsed: 00:00:07\n"
          ]
        },
        {
          "output_type": "stream",
          "name": "stdout",
          "text": [
            "Finished Epoch 10 || Run Time:    5.5 | Load Time:    2.4 || F1:  62.32 | Prec:  68.75 | Rec:  56.99 || Ex/s: 257.25\n",
            "\n"
          ]
        },
        {
          "output_type": "execute_result",
          "data": {
            "text/plain": [
              "tensor(62.3229, device='cuda:0')"
            ]
          },
          "metadata": {},
          "execution_count": 14
        }
      ],
      "source": [
        "# Compute F1 on test set\n",
        "model.run_eval(test)"
      ]
    },
    {
      "cell_type": "markdown",
      "metadata": {
        "id": "JE8Wkqh88Zk5"
      },
      "source": [
        "#### TEXTUAL"
      ]
    },
    {
      "cell_type": "markdown",
      "metadata": {
        "id": "Psve9YNz8Zk5"
      },
      "source": [
        "##### Abt-Buy"
      ]
    },
    {
      "cell_type": "code",
      "execution_count": null,
      "metadata": {
        "id": "vNpMNuW08Zk5",
        "colab": {
          "base_uri": "https://localhost:8080/"
        },
        "outputId": "36978453-4b58-461a-b36f-55553df916dc"
      },
      "outputs": [
        {
          "output_type": "stream",
          "name": "stderr",
          "text": [
            "WARNING:deepmatcher.data.dataset:Rebuilding data cache because: ['One or more data files have been modified.', 'Data file list has changed.']\n",
            "\n",
            "Reading and processing data from \"/content/IC/datasesErros/FMedium_50_1_2/Textual/Abt-Buy/joined_train.csv\"\n",
            "0% [############################# ] 100% | ETA: 00:00:00\n",
            "Reading and processing data from \"/content/IC/datasesErros/FMedium_50_1_2/Textual/Abt-Buy/joined_valid.csv\"\n",
            "0% [############################# ] 100% | ETA: 00:00:00\n",
            "Reading and processing data from \"/content/IC/datasesErros/FMedium_50_1_2/Textual/Abt-Buy/joined_test.csv\"\n",
            "0% [############################# ] 100% | ETA: 00:00:00Warning : `load_model` does not return WordVectorModel or SupervisedModel any more, but a `FastText` object which is very similar.\n",
            "\n",
            "Building vocabulary\n",
            "0% [######] 100% | ETA: 00:00:00\n",
            "Total time elapsed: 00:00:00\n",
            "\n",
            "Computing principal components\n",
            "0% [######] 100% | ETA: 00:00:00\n",
            "Total time elapsed: 00:00:02\n"
          ]
        }
      ],
      "source": [
        "train, validation, test = dm.data.process(\n",
        "    path='/content/IC/datasesErros/FMedium_50_1_2/Textual/Abt-Buy/',\n",
        "    train='joined_train.csv',\n",
        "    validation='joined_valid.csv',\n",
        "    test='joined_test.csv')"
      ]
    },
    {
      "cell_type": "code",
      "execution_count": null,
      "metadata": {
        "id": "9qZteSoc8Zk6"
      },
      "outputs": [],
      "source": [
        "model = dm.MatchingModel(attr_summarizer='hybrid')"
      ]
    },
    {
      "cell_type": "code",
      "execution_count": null,
      "metadata": {
        "id": "TqdspHko8Zk6",
        "colab": {
          "base_uri": "https://localhost:8080/"
        },
        "outputId": "0939c05f-0497-4672-86ec-2b17ee491688"
      },
      "outputs": [
        {
          "output_type": "stream",
          "name": "stderr",
          "text": [
            "/usr/local/lib/python3.7/dist-packages/torch/nn/modules/module.py:949: UserWarning: Using non-full backward hooks on a Module that does not take as input a single Tensor or a tuple of Tensors is deprecated and will be removed in future versions. This hook will be missing some of the grad_input. Please use register_full_backward_hook to get the documented behavior.\n",
            "  warnings.warn(\"Using non-full backward hooks on a Module that does not take as input a \"\n",
            "/usr/local/lib/python3.7/dist-packages/torch/nn/modules/module.py:974: UserWarning: Using a non-full backward hook when the forward contains multiple autograd Nodes is deprecated and will be removed in future versions. This hook will be missing some grad_input. Please use register_full_backward_hook to get the documented behavior.\n",
            "  warnings.warn(\"Using a non-full backward hook when the forward contains multiple autograd Nodes \"\n"
          ]
        },
        {
          "output_type": "stream",
          "name": "stdout",
          "text": [
            "* Number of trainable parameters: 7133105\n",
            "===>  TRAIN Epoch 1\n"
          ]
        },
        {
          "output_type": "stream",
          "name": "stderr",
          "text": [
            "/usr/local/lib/python3.7/dist-packages/torch/nn/modules/module.py:939: UserWarning: Using non-full backward hooks on a Module that does not return a single Tensor or a tuple of Tensors is deprecated and will be removed in future versions. This hook will be missing some of the grad_output. Please use register_full_backward_hook to get the documented behavior.\n",
            "  warnings.warn(\"Using non-full backward hooks on a Module that does not return a \"\n",
            "/usr/local/lib/python3.7/dist-packages/torch/nn/functional.py:2742: UserWarning: reduction: 'mean' divides the total loss by both the batch size and the support size.'batchmean' divides only by the batch size, and aligns with the KL div math definition.'mean' will be changed to behave the same as 'batchmean' in the next major release.\n",
            "  \"reduction: 'mean' divides the total loss by both the batch size and the support size.\"\n",
            "0% [██████████████████████████████] 100% | ETA: 00:00:00\n",
            "Total time elapsed: 00:00:32\n"
          ]
        },
        {
          "output_type": "stream",
          "name": "stdout",
          "text": [
            "Finished Epoch 1 || Run Time:   20.9 | Load Time:   11.3 || F1:  24.14 | Prec:  32.16 | Rec:  19.32 || Ex/s: 178.46\n",
            "\n",
            "===>  EVAL Epoch 1\n"
          ]
        },
        {
          "output_type": "stream",
          "name": "stderr",
          "text": [
            "0% [████████████] 100% | ETA: 00:00:00\n",
            "Total time elapsed: 00:00:06\n"
          ]
        },
        {
          "output_type": "stream",
          "name": "stdout",
          "text": [
            "Finished Epoch 1 || Run Time:    3.5 | Load Time:    3.4 || F1:  52.81 | Prec:  46.18 | Rec:  61.65 || Ex/s: 274.21\n",
            "\n",
            "* Best F1: tensor(52.8067, device='cuda:0')\n",
            "Saving best model...\n",
            "Done.\n",
            "---------------------\n",
            "\n",
            "===>  TRAIN Epoch 2\n"
          ]
        },
        {
          "output_type": "stream",
          "name": "stderr",
          "text": [
            "0% [██████████████████████████████] 100% | ETA: 00:00:00\n",
            "Total time elapsed: 00:00:30\n"
          ]
        },
        {
          "output_type": "stream",
          "name": "stdout",
          "text": [
            "Finished Epoch 2 || Run Time:   20.0 | Load Time:   10.8 || F1:  61.96 | Prec:  57.12 | Rec:  67.69 || Ex/s: 186.51\n",
            "\n",
            "===>  EVAL Epoch 2\n"
          ]
        },
        {
          "output_type": "stream",
          "name": "stderr",
          "text": [
            "0% [████████████] 100% | ETA: 00:00:00\n",
            "Total time elapsed: 00:00:07\n"
          ]
        },
        {
          "output_type": "stream",
          "name": "stdout",
          "text": [
            "Finished Epoch 2 || Run Time:    3.6 | Load Time:    3.4 || F1:  60.16 | Prec:  51.75 | Rec:  71.84 || Ex/s: 272.20\n",
            "\n",
            "* Best F1: tensor(60.1626, device='cuda:0')\n",
            "Saving best model...\n",
            "Done.\n",
            "---------------------\n",
            "\n",
            "===>  TRAIN Epoch 3\n"
          ]
        },
        {
          "output_type": "stream",
          "name": "stderr",
          "text": [
            "0% [██████████████████████████████] 100% | ETA: 00:00:00\n",
            "Total time elapsed: 00:00:32\n"
          ]
        },
        {
          "output_type": "stream",
          "name": "stdout",
          "text": [
            "Finished Epoch 3 || Run Time:   21.1 | Load Time:   11.3 || F1:  73.20 | Prec:  67.44 | Rec:  80.03 || Ex/s: 177.27\n",
            "\n",
            "===>  EVAL Epoch 3\n"
          ]
        },
        {
          "output_type": "stream",
          "name": "stderr",
          "text": [
            "0% [████████████] 100% | ETA: 00:00:00\n",
            "Total time elapsed: 00:00:06\n"
          ]
        },
        {
          "output_type": "stream",
          "name": "stdout",
          "text": [
            "Finished Epoch 3 || Run Time:    3.5 | Load Time:    3.4 || F1:  62.45 | Prec:  53.87 | Rec:  74.27 || Ex/s: 279.28\n",
            "\n",
            "* Best F1: tensor(62.4490, device='cuda:0')\n",
            "Saving best model...\n",
            "Done.\n",
            "---------------------\n",
            "\n",
            "===>  TRAIN Epoch 4\n"
          ]
        },
        {
          "output_type": "stream",
          "name": "stderr",
          "text": [
            "0% [██████████████████████████████] 100% | ETA: 00:00:00\n",
            "Total time elapsed: 00:00:31\n"
          ]
        },
        {
          "output_type": "stream",
          "name": "stdout",
          "text": [
            "Finished Epoch 4 || Run Time:   20.5 | Load Time:   11.1 || F1:  80.24 | Prec:  74.69 | Rec:  86.69 || Ex/s: 181.56\n",
            "\n",
            "===>  EVAL Epoch 4\n"
          ]
        },
        {
          "output_type": "stream",
          "name": "stderr",
          "text": [
            "0% [████████████] 100% | ETA: 00:00:00\n",
            "Total time elapsed: 00:00:07\n"
          ]
        },
        {
          "output_type": "stream",
          "name": "stdout",
          "text": [
            "Finished Epoch 4 || Run Time:    3.8 | Load Time:    3.7 || F1:  60.63 | Prec:  50.99 | Rec:  74.76 || Ex/s: 255.37\n",
            "\n",
            "---------------------\n",
            "\n",
            "===>  TRAIN Epoch 5\n"
          ]
        },
        {
          "output_type": "stream",
          "name": "stderr",
          "text": [
            "0% [██████████████████████████████] 100% | ETA: 00:00:00\n",
            "Total time elapsed: 00:00:31\n"
          ]
        },
        {
          "output_type": "stream",
          "name": "stdout",
          "text": [
            "Finished Epoch 5 || Run Time:   20.6 | Load Time:   11.0 || F1:  84.45 | Prec:  78.60 | Rec:  91.23 || Ex/s: 181.78\n",
            "\n",
            "===>  EVAL Epoch 5\n"
          ]
        },
        {
          "output_type": "stream",
          "name": "stderr",
          "text": [
            "0% [████████████] 100% | ETA: 00:00:00\n",
            "Total time elapsed: 00:00:07\n"
          ]
        },
        {
          "output_type": "stream",
          "name": "stdout",
          "text": [
            "Finished Epoch 5 || Run Time:    3.8 | Load Time:    3.7 || F1:  61.47 | Prec:  54.28 | Rec:  70.87 || Ex/s: 254.03\n",
            "\n",
            "---------------------\n",
            "\n",
            "===>  TRAIN Epoch 6\n"
          ]
        },
        {
          "output_type": "stream",
          "name": "stderr",
          "text": [
            "0% [██████████████████████████████] 100% | ETA: 00:00:00\n",
            "Total time elapsed: 00:00:30\n"
          ]
        },
        {
          "output_type": "stream",
          "name": "stdout",
          "text": [
            "Finished Epoch 6 || Run Time:   20.1 | Load Time:   10.9 || F1:  88.63 | Prec:  84.11 | Rec:  93.67 || Ex/s: 185.70\n",
            "\n",
            "===>  EVAL Epoch 6\n"
          ]
        },
        {
          "output_type": "stream",
          "name": "stderr",
          "text": [
            "0% [████████████] 100% | ETA: 00:00:00\n",
            "Total time elapsed: 00:00:06\n"
          ]
        },
        {
          "output_type": "stream",
          "name": "stdout",
          "text": [
            "Finished Epoch 6 || Run Time:    3.6 | Load Time:    3.4 || F1:  61.68 | Prec:  57.87 | Rec:  66.02 || Ex/s: 274.05\n",
            "\n",
            "---------------------\n",
            "\n",
            "===>  TRAIN Epoch 7\n"
          ]
        },
        {
          "output_type": "stream",
          "name": "stderr",
          "text": [
            "0% [██████████████████████████████] 100% | ETA: 00:00:00\n",
            "Total time elapsed: 00:00:33\n"
          ]
        },
        {
          "output_type": "stream",
          "name": "stdout",
          "text": [
            "Finished Epoch 7 || Run Time:   21.6 | Load Time:   11.5 || F1:  90.71 | Prec:  87.37 | Rec:  94.32 || Ex/s: 173.36\n",
            "\n",
            "===>  EVAL Epoch 7\n"
          ]
        },
        {
          "output_type": "stream",
          "name": "stderr",
          "text": [
            "0% [████████████] 100% | ETA: 00:00:00\n",
            "Total time elapsed: 00:00:07\n"
          ]
        },
        {
          "output_type": "stream",
          "name": "stdout",
          "text": [
            "Finished Epoch 7 || Run Time:    3.7 | Load Time:    3.5 || F1:  61.68 | Prec:  59.46 | Rec:  64.08 || Ex/s: 266.56\n",
            "\n",
            "---------------------\n",
            "\n",
            "===>  TRAIN Epoch 8\n"
          ]
        },
        {
          "output_type": "stream",
          "name": "stderr",
          "text": [
            "0% [██████████████████████████████] 100% | ETA: 00:00:00\n",
            "Total time elapsed: 00:00:33\n"
          ]
        },
        {
          "output_type": "stream",
          "name": "stdout",
          "text": [
            "Finished Epoch 8 || Run Time:   21.8 | Load Time:   11.5 || F1:  92.37 | Prec:  89.62 | Rec:  95.29 || Ex/s: 172.48\n",
            "\n",
            "===>  EVAL Epoch 8\n"
          ]
        },
        {
          "output_type": "stream",
          "name": "stderr",
          "text": [
            "0% [████████████] 100% | ETA: 00:00:00\n",
            "Total time elapsed: 00:00:07\n"
          ]
        },
        {
          "output_type": "stream",
          "name": "stdout",
          "text": [
            "Finished Epoch 8 || Run Time:    3.7 | Load Time:    3.6 || F1:  60.75 | Prec:  58.56 | Rec:  63.11 || Ex/s: 263.62\n",
            "\n",
            "---------------------\n",
            "\n",
            "===>  TRAIN Epoch 9\n"
          ]
        },
        {
          "output_type": "stream",
          "name": "stderr",
          "text": [
            "0% [██████████████████████████████] 100% | ETA: 00:00:00\n",
            "Total time elapsed: 00:00:32\n"
          ]
        },
        {
          "output_type": "stream",
          "name": "stdout",
          "text": [
            "Finished Epoch 9 || Run Time:   21.2 | Load Time:   11.3 || F1:  93.95 | Prec:  92.19 | Rec:  95.78 || Ex/s: 176.50\n",
            "\n",
            "===>  EVAL Epoch 9\n"
          ]
        },
        {
          "output_type": "stream",
          "name": "stderr",
          "text": [
            "0% [████████████] 100% | ETA: 00:00:00\n",
            "Total time elapsed: 00:00:07\n"
          ]
        },
        {
          "output_type": "stream",
          "name": "stdout",
          "text": [
            "Finished Epoch 9 || Run Time:    3.7 | Load Time:    3.6 || F1:  61.61 | Prec:  60.19 | Rec:  63.11 || Ex/s: 263.43\n",
            "\n",
            "---------------------\n",
            "\n",
            "===>  TRAIN Epoch 10\n"
          ]
        },
        {
          "output_type": "stream",
          "name": "stderr",
          "text": [
            "0% [██████████████████████████████] 100% | ETA: 00:00:00\n",
            "Total time elapsed: 00:00:33\n"
          ]
        },
        {
          "output_type": "stream",
          "name": "stdout",
          "text": [
            "Finished Epoch 10 || Run Time:   21.6 | Load Time:   11.6 || F1:  95.02 | Prec:  93.97 | Rec:  96.10 || Ex/s: 173.24\n",
            "\n",
            "===>  EVAL Epoch 10\n"
          ]
        },
        {
          "output_type": "stream",
          "name": "stderr",
          "text": [
            "0% [████████████] 100% | ETA: 00:00:00\n",
            "Total time elapsed: 00:00:07\n"
          ]
        },
        {
          "output_type": "stream",
          "name": "stdout",
          "text": [
            "Finished Epoch 10 || Run Time:    3.7 | Load Time:    3.5 || F1:  60.62 | Prec:  59.62 | Rec:  61.65 || Ex/s: 265.64\n",
            "\n",
            "---------------------\n",
            "\n",
            "===>  TRAIN Epoch 11\n"
          ]
        },
        {
          "output_type": "stream",
          "name": "stderr",
          "text": [
            "0% [██████████████████████████████] 100% | ETA: 00:00:00\n",
            "Total time elapsed: 00:00:32\n"
          ]
        },
        {
          "output_type": "stream",
          "name": "stdout",
          "text": [
            "Finished Epoch 11 || Run Time:   21.5 | Load Time:   11.4 || F1:  96.14 | Prec:  95.22 | Rec:  97.08 || Ex/s: 174.76\n",
            "\n",
            "===>  EVAL Epoch 11\n"
          ]
        },
        {
          "output_type": "stream",
          "name": "stderr",
          "text": [
            "0% [████████████] 100% | ETA: 00:00:00\n",
            "Total time elapsed: 00:00:06\n"
          ]
        },
        {
          "output_type": "stream",
          "name": "stdout",
          "text": [
            "Finished Epoch 11 || Run Time:    3.3 | Load Time:    3.3 || F1:  60.68 | Prec:  60.68 | Rec:  60.68 || Ex/s: 287.89\n",
            "\n",
            "---------------------\n",
            "\n",
            "===>  TRAIN Epoch 12\n"
          ]
        },
        {
          "output_type": "stream",
          "name": "stderr",
          "text": [
            "0% [██████████████████████████████] 100% | ETA: 00:00:00\n",
            "Total time elapsed: 00:00:32\n"
          ]
        },
        {
          "output_type": "stream",
          "name": "stdout",
          "text": [
            "Finished Epoch 12 || Run Time:   21.3 | Load Time:   11.4 || F1:  96.39 | Prec:  95.25 | Rec:  97.56 || Ex/s: 175.67\n",
            "\n",
            "===>  EVAL Epoch 12\n"
          ]
        },
        {
          "output_type": "stream",
          "name": "stderr",
          "text": [
            "0% [████████████] 100% | ETA: 00:00:00\n",
            "Total time elapsed: 00:00:07\n"
          ]
        },
        {
          "output_type": "stream",
          "name": "stdout",
          "text": [
            "Finished Epoch 12 || Run Time:    3.7 | Load Time:    3.5 || F1:  60.25 | Prec:  61.31 | Rec:  59.22 || Ex/s: 265.94\n",
            "\n",
            "---------------------\n",
            "\n",
            "===>  TRAIN Epoch 13\n"
          ]
        },
        {
          "output_type": "stream",
          "name": "stderr",
          "text": [
            "0% [██████████████████████████████] 100% | ETA: 00:00:00\n",
            "Total time elapsed: 00:00:32\n"
          ]
        },
        {
          "output_type": "stream",
          "name": "stdout",
          "text": [
            "Finished Epoch 13 || Run Time:   21.1 | Load Time:   11.2 || F1:  96.95 | Prec:  96.02 | Rec:  97.89 || Ex/s: 177.88\n",
            "\n",
            "===>  EVAL Epoch 13\n"
          ]
        },
        {
          "output_type": "stream",
          "name": "stderr",
          "text": [
            "0% [████████████] 100% | ETA: 00:00:00\n",
            "Total time elapsed: 00:00:07\n"
          ]
        },
        {
          "output_type": "stream",
          "name": "stdout",
          "text": [
            "Finished Epoch 13 || Run Time:    3.7 | Load Time:    3.5 || F1:  59.90 | Prec:  61.11 | Rec:  58.74 || Ex/s: 265.52\n",
            "\n",
            "---------------------\n",
            "\n",
            "===>  TRAIN Epoch 14\n"
          ]
        },
        {
          "output_type": "stream",
          "name": "stderr",
          "text": [
            "0% [██████████████████████████████] 100% | ETA: 00:00:00\n",
            "Total time elapsed: 00:00:32\n"
          ]
        },
        {
          "output_type": "stream",
          "name": "stdout",
          "text": [
            "Finished Epoch 14 || Run Time:   21.0 | Load Time:   11.1 || F1:  96.95 | Prec:  96.02 | Rec:  97.89 || Ex/s: 178.99\n",
            "\n",
            "===>  EVAL Epoch 14\n"
          ]
        },
        {
          "output_type": "stream",
          "name": "stderr",
          "text": [
            "0% [████████████] 100% | ETA: 00:00:00\n",
            "Total time elapsed: 00:00:07\n"
          ]
        },
        {
          "output_type": "stream",
          "name": "stdout",
          "text": [
            "Finished Epoch 14 || Run Time:    4.0 | Load Time:    3.8 || F1:  59.60 | Prec:  62.11 | Rec:  57.28 || Ex/s: 246.36\n",
            "\n",
            "---------------------\n",
            "\n",
            "===>  TRAIN Epoch 15\n"
          ]
        },
        {
          "output_type": "stream",
          "name": "stderr",
          "text": [
            "0% [██████████████████████████████] 100% | ETA: 00:00:00\n",
            "Total time elapsed: 00:00:32\n"
          ]
        },
        {
          "output_type": "stream",
          "name": "stdout",
          "text": [
            "Finished Epoch 15 || Run Time:   20.9 | Load Time:   11.2 || F1:  97.28 | Prec:  96.04 | Rec:  98.54 || Ex/s: 178.90\n",
            "\n",
            "===>  EVAL Epoch 15\n"
          ]
        },
        {
          "output_type": "stream",
          "name": "stderr",
          "text": [
            "0% [████████████] 100% | ETA: 00:00:00\n",
            "Total time elapsed: 00:00:06\n"
          ]
        },
        {
          "output_type": "stream",
          "name": "stdout",
          "text": [
            "Finished Epoch 15 || Run Time:    3.5 | Load Time:    3.4 || F1:  59.24 | Prec:  61.90 | Rec:  56.80 || Ex/s: 280.26\n",
            "\n",
            "---------------------\n",
            "\n",
            "Loading best model...\n",
            "Training done.\n"
          ]
        },
        {
          "output_type": "execute_result",
          "data": {
            "text/plain": [
              "tensor(62.4490, device='cuda:0')"
            ]
          },
          "metadata": {},
          "execution_count": 13
        }
      ],
      "source": [
        "model.run_train(\n",
        "    train,\n",
        "    validation,\n",
        "    epochs=15,\n",
        "    batch_size=32,\n",
        "    best_save_path='hybrid_model.pth',\n",
        "    pos_neg_ratio=3)"
      ]
    },
    {
      "cell_type": "code",
      "execution_count": null,
      "metadata": {
        "id": "PEwvO60_8Zk6",
        "colab": {
          "base_uri": "https://localhost:8080/"
        },
        "outputId": "5322da36-8a96-428a-f280-c3611d672289"
      },
      "outputs": [
        {
          "output_type": "stream",
          "name": "stdout",
          "text": [
            "===>  EVAL Epoch 3\n"
          ]
        },
        {
          "output_type": "stream",
          "name": "stderr",
          "text": [
            "/usr/local/lib/python3.7/dist-packages/torch/nn/modules/module.py:949: UserWarning: Using non-full backward hooks on a Module that does not take as input a single Tensor or a tuple of Tensors is deprecated and will be removed in future versions. This hook will be missing some of the grad_input. Please use register_full_backward_hook to get the documented behavior.\n",
            "  warnings.warn(\"Using non-full backward hooks on a Module that does not take as input a \"\n",
            "/usr/local/lib/python3.7/dist-packages/torch/nn/modules/module.py:974: UserWarning: Using a non-full backward hook when the forward contains multiple autograd Nodes is deprecated and will be removed in future versions. This hook will be missing some grad_input. Please use register_full_backward_hook to get the documented behavior.\n",
            "  warnings.warn(\"Using a non-full backward hook when the forward contains multiple autograd Nodes \"\n",
            "/usr/local/lib/python3.7/dist-packages/torch/nn/modules/module.py:939: UserWarning: Using non-full backward hooks on a Module that does not return a single Tensor or a tuple of Tensors is deprecated and will be removed in future versions. This hook will be missing some of the grad_output. Please use register_full_backward_hook to get the documented behavior.\n",
            "  warnings.warn(\"Using non-full backward hooks on a Module that does not return a \"\n",
            "0% [████████████] 100% | ETA: 00:00:00\n",
            "Total time elapsed: 00:00:07\n"
          ]
        },
        {
          "output_type": "stream",
          "name": "stdout",
          "text": [
            "Finished Epoch 3 || Run Time:    3.7 | Load Time:    3.4 || F1:  61.63 | Prec:  53.17 | Rec:  73.30 || Ex/s: 268.97\n",
            "\n"
          ]
        },
        {
          "output_type": "execute_result",
          "data": {
            "text/plain": [
              "tensor(61.6327, device='cuda:0')"
            ]
          },
          "metadata": {},
          "execution_count": 14
        }
      ],
      "source": [
        "# Compute F1 on test set\n",
        "model.run_eval(test)"
      ]
    },
    {
      "cell_type": "markdown",
      "metadata": {
        "id": "Kk9AAkbf8Zk7"
      },
      "source": [
        "#### DIRTY"
      ]
    },
    {
      "cell_type": "markdown",
      "metadata": {
        "id": "oFQ_ujuN8Zk7"
      },
      "source": [
        "##### DBLP-ACM"
      ]
    },
    {
      "cell_type": "code",
      "execution_count": null,
      "metadata": {
        "id": "mlDdbQR18Zk7",
        "colab": {
          "base_uri": "https://localhost:8080/"
        },
        "outputId": "0d9225b1-63e5-45b5-c3b8-edab2c3f43a1"
      },
      "outputs": [
        {
          "output_type": "stream",
          "name": "stderr",
          "text": [
            "WARNING:deepmatcher.data.dataset:Rebuilding data cache because: ['One or more data files have been modified.', 'Data file list has changed.']\n",
            "\n",
            "Reading and processing data from \"/content/IC/datasesErros/FMedium_50_1_2/Dirty/DBLP-ACM/joined_train.csv\"\n",
            "0% [############################# ] 100% | ETA: 00:00:00\n",
            "Reading and processing data from \"/content/IC/datasesErros/FMedium_50_1_2/Dirty/DBLP-ACM/joined_valid.csv\"\n",
            "0% [############################# ] 100% | ETA: 00:00:00\n",
            "Reading and processing data from \"/content/IC/datasesErros/FMedium_50_1_2/Dirty/DBLP-ACM/joined_test.csv\"\n",
            "0% [############################# ] 100% | ETA: 00:00:00Warning : `load_model` does not return WordVectorModel or SupervisedModel any more, but a `FastText` object which is very similar.\n",
            "\n",
            "Building vocabulary\n",
            "0% [########] 100% | ETA: 00:00:00\n",
            "Total time elapsed: 00:00:00\n",
            "\n",
            "Computing principal components\n",
            "0% [########] 100% | ETA: 00:00:00\n",
            "Total time elapsed: 00:00:05\n"
          ]
        }
      ],
      "source": [
        "train, validation, test = dm.data.process(\n",
        "    path='/content/IC/datasesErros/FMedium_50_1_2/Dirty/DBLP-ACM/',\n",
        "    train='joined_train.csv',\n",
        "    validation='joined_valid.csv',\n",
        "    test='joined_test.csv')"
      ]
    },
    {
      "cell_type": "code",
      "execution_count": null,
      "metadata": {
        "id": "jU-stkTq8Zk7"
      },
      "outputs": [],
      "source": [
        "model = dm.MatchingModel(attr_summarizer='hybrid')"
      ]
    },
    {
      "cell_type": "code",
      "execution_count": null,
      "metadata": {
        "id": "FZ2qOU0u8Zk8",
        "colab": {
          "base_uri": "https://localhost:8080/"
        },
        "outputId": "6d754dda-3497-4ecf-a27d-2d6504625639"
      },
      "outputs": [
        {
          "output_type": "stream",
          "name": "stderr",
          "text": [
            "/usr/local/lib/python3.7/dist-packages/torch/nn/modules/module.py:949: UserWarning: Using non-full backward hooks on a Module that does not take as input a single Tensor or a tuple of Tensors is deprecated and will be removed in future versions. This hook will be missing some of the grad_input. Please use register_full_backward_hook to get the documented behavior.\n",
            "  warnings.warn(\"Using non-full backward hooks on a Module that does not take as input a \"\n",
            "/usr/local/lib/python3.7/dist-packages/torch/nn/modules/module.py:974: UserWarning: Using a non-full backward hook when the forward contains multiple autograd Nodes is deprecated and will be removed in future versions. This hook will be missing some grad_input. Please use register_full_backward_hook to get the documented behavior.\n",
            "  warnings.warn(\"Using a non-full backward hook when the forward contains multiple autograd Nodes \"\n"
          ]
        },
        {
          "output_type": "stream",
          "name": "stdout",
          "text": [
            "* Number of trainable parameters: 9210006\n",
            "===>  TRAIN Epoch 1\n"
          ]
        },
        {
          "output_type": "stream",
          "name": "stderr",
          "text": [
            "/usr/local/lib/python3.7/dist-packages/torch/nn/modules/module.py:939: UserWarning: Using non-full backward hooks on a Module that does not return a single Tensor or a tuple of Tensors is deprecated and will be removed in future versions. This hook will be missing some of the grad_output. Please use register_full_backward_hook to get the documented behavior.\n",
            "  warnings.warn(\"Using non-full backward hooks on a Module that does not return a \"\n",
            "/usr/local/lib/python3.7/dist-packages/torch/nn/functional.py:2742: UserWarning: reduction: 'mean' divides the total loss by both the batch size and the support size.'batchmean' divides only by the batch size, and aligns with the KL div math definition.'mean' will be changed to behave the same as 'batchmean' in the next major release.\n",
            "  \"reduction: 'mean' divides the total loss by both the batch size and the support size.\"\n",
            "0% [██████████████████████████████] 100% | ETA: 00:00:00\n",
            "Total time elapsed: 00:00:47\n"
          ]
        },
        {
          "output_type": "stream",
          "name": "stdout",
          "text": [
            "Finished Epoch 1 || Run Time:   32.5 | Load Time:   15.4 || F1:  67.89 | Prec:  62.23 | Rec:  74.70 || Ex/s: 154.76\n",
            "\n",
            "===>  EVAL Epoch 1\n"
          ]
        },
        {
          "output_type": "stream",
          "name": "stderr",
          "text": [
            "0% [███████████████] 100% | ETA: 00:00:00\n",
            "Total time elapsed: 00:00:10\n"
          ]
        },
        {
          "output_type": "stream",
          "name": "stdout",
          "text": [
            "Finished Epoch 1 || Run Time:    5.8 | Load Time:    5.0 || F1:  93.21 | Prec:  92.09 | Rec:  94.37 || Ex/s: 227.82\n",
            "\n",
            "* Best F1: tensor(93.2147, device='cuda:0')\n",
            "Saving best model...\n",
            "Done.\n",
            "---------------------\n",
            "\n",
            "===>  TRAIN Epoch 2\n"
          ]
        },
        {
          "output_type": "stream",
          "name": "stderr",
          "text": [
            "0% [██████████████████████████████] 100% | ETA: 00:00:00\n",
            "Total time elapsed: 00:00:48\n"
          ]
        },
        {
          "output_type": "stream",
          "name": "stdout",
          "text": [
            "Finished Epoch 2 || Run Time:   33.2 | Load Time:   15.6 || F1:  92.93 | Prec:  89.44 | Rec:  96.70 || Ex/s: 152.19\n",
            "\n",
            "===>  EVAL Epoch 2\n"
          ]
        },
        {
          "output_type": "stream",
          "name": "stderr",
          "text": [
            "0% [███████████████] 100% | ETA: 00:00:00\n",
            "Total time elapsed: 00:00:10\n"
          ]
        },
        {
          "output_type": "stream",
          "name": "stdout",
          "text": [
            "Finished Epoch 2 || Run Time:    5.8 | Load Time:    5.0 || F1:  94.77 | Prec:  93.63 | Rec:  95.95 || Ex/s: 229.75\n",
            "\n",
            "* Best F1: tensor(94.7720, device='cuda:0')\n",
            "Saving best model...\n",
            "Done.\n",
            "---------------------\n",
            "\n",
            "===>  TRAIN Epoch 3\n"
          ]
        },
        {
          "output_type": "stream",
          "name": "stderr",
          "text": [
            "0% [██████████████████████████████] 100% | ETA: 00:00:00\n",
            "Total time elapsed: 00:00:48\n"
          ]
        },
        {
          "output_type": "stream",
          "name": "stdout",
          "text": [
            "Finished Epoch 3 || Run Time:   33.2 | Load Time:   15.5 || F1:  94.71 | Prec:  92.18 | Rec:  97.37 || Ex/s: 152.34\n",
            "\n",
            "===>  EVAL Epoch 3\n"
          ]
        },
        {
          "output_type": "stream",
          "name": "stderr",
          "text": [
            "0% [███████████████] 100% | ETA: 00:00:00\n",
            "Total time elapsed: 00:00:10\n"
          ]
        },
        {
          "output_type": "stream",
          "name": "stdout",
          "text": [
            "Finished Epoch 3 || Run Time:    5.8 | Load Time:    5.0 || F1:  94.27 | Prec:  90.64 | Rec:  98.20 || Ex/s: 228.69\n",
            "\n",
            "---------------------\n",
            "\n",
            "===>  TRAIN Epoch 4\n"
          ]
        },
        {
          "output_type": "stream",
          "name": "stderr",
          "text": [
            "0% [██████████████████████████████] 100% | ETA: 00:00:00\n",
            "Total time elapsed: 00:00:48\n"
          ]
        },
        {
          "output_type": "stream",
          "name": "stdout",
          "text": [
            "Finished Epoch 4 || Run Time:   33.2 | Load Time:   15.5 || F1:  96.74 | Prec:  95.40 | Rec:  98.12 || Ex/s: 152.07\n",
            "\n",
            "===>  EVAL Epoch 4\n"
          ]
        },
        {
          "output_type": "stream",
          "name": "stderr",
          "text": [
            "0% [███████████████] 100% | ETA: 00:00:00\n",
            "Total time elapsed: 00:00:10\n"
          ]
        },
        {
          "output_type": "stream",
          "name": "stdout",
          "text": [
            "Finished Epoch 4 || Run Time:    5.8 | Load Time:    5.0 || F1:  95.50 | Prec:  93.15 | Rec:  97.97 || Ex/s: 230.30\n",
            "\n",
            "* Best F1: tensor(95.4995, device='cuda:0')\n",
            "Saving best model...\n",
            "Done.\n",
            "---------------------\n",
            "\n",
            "===>  TRAIN Epoch 5\n"
          ]
        },
        {
          "output_type": "stream",
          "name": "stderr",
          "text": [
            "0% [██████████████████████████████] 100% | ETA: 00:00:00\n",
            "Total time elapsed: 00:00:46\n"
          ]
        },
        {
          "output_type": "stream",
          "name": "stdout",
          "text": [
            "Finished Epoch 5 || Run Time:   32.3 | Load Time:   15.2 || F1:  97.37 | Prec:  95.99 | Rec:  98.80 || Ex/s: 156.07\n",
            "\n",
            "===>  EVAL Epoch 5\n"
          ]
        },
        {
          "output_type": "stream",
          "name": "stderr",
          "text": [
            "0% [███████████████] 100% | ETA: 00:00:00\n",
            "Total time elapsed: 00:00:11\n"
          ]
        },
        {
          "output_type": "stream",
          "name": "stdout",
          "text": [
            "Finished Epoch 5 || Run Time:    6.3 | Load Time:    5.4 || F1:  95.43 | Prec:  94.48 | Rec:  96.40 || Ex/s: 211.95\n",
            "\n",
            "---------------------\n",
            "\n",
            "===>  TRAIN Epoch 6\n"
          ]
        },
        {
          "output_type": "stream",
          "name": "stderr",
          "text": [
            "0% [██████████████████████████████] 100% | ETA: 00:00:00\n",
            "Total time elapsed: 00:00:47\n"
          ]
        },
        {
          "output_type": "stream",
          "name": "stdout",
          "text": [
            "Finished Epoch 6 || Run Time:   33.1 | Load Time:   15.4 || F1:  97.96 | Prec:  96.85 | Rec:  99.10 || Ex/s: 152.81\n",
            "\n",
            "===>  EVAL Epoch 6\n"
          ]
        },
        {
          "output_type": "stream",
          "name": "stderr",
          "text": [
            "0% [███████████████] 100% | ETA: 00:00:00\n",
            "Total time elapsed: 00:00:10\n"
          ]
        },
        {
          "output_type": "stream",
          "name": "stdout",
          "text": [
            "Finished Epoch 6 || Run Time:    5.7 | Load Time:    4.9 || F1:  95.47 | Prec:  93.71 | Rec:  97.30 || Ex/s: 233.82\n",
            "\n",
            "---------------------\n",
            "\n",
            "===>  TRAIN Epoch 7\n"
          ]
        },
        {
          "output_type": "stream",
          "name": "stderr",
          "text": [
            "0% [██████████████████████████████] 100% | ETA: 00:00:00\n",
            "Total time elapsed: 00:00:47\n"
          ]
        },
        {
          "output_type": "stream",
          "name": "stdout",
          "text": [
            "Finished Epoch 7 || Run Time:   32.7 | Load Time:   15.4 || F1:  98.73 | Prec:  98.07 | Rec:  99.40 || Ex/s: 154.06\n",
            "\n",
            "===>  EVAL Epoch 7\n"
          ]
        },
        {
          "output_type": "stream",
          "name": "stderr",
          "text": [
            "0% [███████████████] 100% | ETA: 00:00:00\n",
            "Total time elapsed: 00:00:10\n"
          ]
        },
        {
          "output_type": "stream",
          "name": "stdout",
          "text": [
            "Finished Epoch 7 || Run Time:    5.7 | Load Time:    5.0 || F1:  95.55 | Prec:  94.49 | Rec:  96.62 || Ex/s: 230.39\n",
            "\n",
            "* Best F1: tensor(95.5457, device='cuda:0')\n",
            "Saving best model...\n",
            "Done.\n",
            "---------------------\n",
            "\n",
            "===>  TRAIN Epoch 8\n"
          ]
        },
        {
          "output_type": "stream",
          "name": "stderr",
          "text": [
            "0% [██████████████████████████████] 100% | ETA: 00:00:00\n",
            "Total time elapsed: 00:00:46\n"
          ]
        },
        {
          "output_type": "stream",
          "name": "stdout",
          "text": [
            "Finished Epoch 8 || Run Time:   32.2 | Load Time:   15.2 || F1:  98.95 | Prec:  98.44 | Rec:  99.47 || Ex/s: 156.49\n",
            "\n",
            "===>  EVAL Epoch 8\n"
          ]
        },
        {
          "output_type": "stream",
          "name": "stderr",
          "text": [
            "0% [███████████████] 100% | ETA: 00:00:00\n",
            "Total time elapsed: 00:00:10\n"
          ]
        },
        {
          "output_type": "stream",
          "name": "stdout",
          "text": [
            "Finished Epoch 8 || Run Time:    6.0 | Load Time:    5.1 || F1:  94.87 | Prec:  94.03 | Rec:  95.72 || Ex/s: 222.69\n",
            "\n",
            "---------------------\n",
            "\n",
            "===>  TRAIN Epoch 9\n"
          ]
        },
        {
          "output_type": "stream",
          "name": "stderr",
          "text": [
            "0% [██████████████████████████████] 100% | ETA: 00:00:00\n",
            "Total time elapsed: 00:00:46\n"
          ]
        },
        {
          "output_type": "stream",
          "name": "stdout",
          "text": [
            "Finished Epoch 9 || Run Time:   32.3 | Load Time:   15.2 || F1:  99.10 | Prec:  98.59 | Rec:  99.62 || Ex/s: 156.24\n",
            "\n",
            "===>  EVAL Epoch 9\n"
          ]
        },
        {
          "output_type": "stream",
          "name": "stderr",
          "text": [
            "0% [███████████████] 100% | ETA: 00:00:00\n",
            "Total time elapsed: 00:00:10\n"
          ]
        },
        {
          "output_type": "stream",
          "name": "stdout",
          "text": [
            "Finished Epoch 9 || Run Time:    5.8 | Load Time:    5.0 || F1:  94.56 | Prec:  93.22 | Rec:  95.95 || Ex/s: 229.47\n",
            "\n",
            "---------------------\n",
            "\n",
            "===>  TRAIN Epoch 10\n"
          ]
        },
        {
          "output_type": "stream",
          "name": "stderr",
          "text": [
            "0% [██████████████████████████████] 100% | ETA: 00:00:00\n",
            "Total time elapsed: 00:00:47\n"
          ]
        },
        {
          "output_type": "stream",
          "name": "stdout",
          "text": [
            "Finished Epoch 10 || Run Time:   32.8 | Load Time:   15.3 || F1:  99.14 | Prec:  98.66 | Rec:  99.62 || Ex/s: 154.07\n",
            "\n",
            "===>  EVAL Epoch 10\n"
          ]
        },
        {
          "output_type": "stream",
          "name": "stderr",
          "text": [
            "0% [███████████████] 100% | ETA: 00:00:00\n",
            "Total time elapsed: 00:00:10\n"
          ]
        },
        {
          "output_type": "stream",
          "name": "stdout",
          "text": [
            "Finished Epoch 10 || Run Time:    5.8 | Load Time:    4.9 || F1:  94.62 | Prec:  92.29 | Rec:  97.07 || Ex/s: 229.99\n",
            "\n",
            "---------------------\n",
            "\n",
            "===>  TRAIN Epoch 11\n"
          ]
        },
        {
          "output_type": "stream",
          "name": "stderr",
          "text": [
            "0% [██████████████████████████████] 100% | ETA: 00:00:00\n",
            "Total time elapsed: 00:00:47\n"
          ]
        },
        {
          "output_type": "stream",
          "name": "stdout",
          "text": [
            "Finished Epoch 11 || Run Time:   32.9 | Load Time:   15.4 || F1:  99.25 | Prec:  98.66 | Rec:  99.85 || Ex/s: 153.74\n",
            "\n",
            "===>  EVAL Epoch 11\n"
          ]
        },
        {
          "output_type": "stream",
          "name": "stderr",
          "text": [
            "0% [███████████████] 100% | ETA: 00:00:00\n",
            "Total time elapsed: 00:00:10\n"
          ]
        },
        {
          "output_type": "stream",
          "name": "stdout",
          "text": [
            "Finished Epoch 11 || Run Time:    5.7 | Load Time:    4.9 || F1:  94.83 | Prec:  92.69 | Rec:  97.07 || Ex/s: 234.12\n",
            "\n",
            "---------------------\n",
            "\n",
            "===>  TRAIN Epoch 12\n"
          ]
        },
        {
          "output_type": "stream",
          "name": "stderr",
          "text": [
            "0% [██████████████████████████████] 100% | ETA: 00:00:00\n",
            "Total time elapsed: 00:00:47\n"
          ]
        },
        {
          "output_type": "stream",
          "name": "stdout",
          "text": [
            "Finished Epoch 12 || Run Time:   32.4 | Load Time:   15.2 || F1:  99.36 | Prec:  98.88 | Rec:  99.85 || Ex/s: 155.69\n",
            "\n",
            "===>  EVAL Epoch 12\n"
          ]
        },
        {
          "output_type": "stream",
          "name": "stderr",
          "text": [
            "0% [███████████████] 100% | ETA: 00:00:00\n",
            "Total time elapsed: 00:00:10\n"
          ]
        },
        {
          "output_type": "stream",
          "name": "stdout",
          "text": [
            "Finished Epoch 12 || Run Time:    5.7 | Load Time:    5.0 || F1:  94.83 | Prec:  92.69 | Rec:  97.07 || Ex/s: 231.57\n",
            "\n",
            "---------------------\n",
            "\n",
            "===>  TRAIN Epoch 13\n"
          ]
        },
        {
          "output_type": "stream",
          "name": "stderr",
          "text": [
            "0% [██████████████████████████████] 100% | ETA: 00:00:00\n",
            "Total time elapsed: 00:00:46\n"
          ]
        },
        {
          "output_type": "stream",
          "name": "stdout",
          "text": [
            "Finished Epoch 13 || Run Time:   32.4 | Load Time:   15.2 || F1:  99.48 | Prec:  99.11 | Rec:  99.85 || Ex/s: 155.65\n",
            "\n",
            "===>  EVAL Epoch 13\n"
          ]
        },
        {
          "output_type": "stream",
          "name": "stderr",
          "text": [
            "0% [███████████████] 100% | ETA: 00:00:00\n",
            "Total time elapsed: 00:00:10\n"
          ]
        },
        {
          "output_type": "stream",
          "name": "stdout",
          "text": [
            "Finished Epoch 13 || Run Time:    6.0 | Load Time:    5.0 || F1:  94.71 | Prec:  92.67 | Rec:  96.85 || Ex/s: 224.17\n",
            "\n",
            "---------------------\n",
            "\n",
            "===>  TRAIN Epoch 14\n"
          ]
        },
        {
          "output_type": "stream",
          "name": "stderr",
          "text": [
            "0% [██████████████████████████████] 100% | ETA: 00:00:00\n",
            "Total time elapsed: 00:00:47\n"
          ]
        },
        {
          "output_type": "stream",
          "name": "stdout",
          "text": [
            "Finished Epoch 14 || Run Time:   33.0 | Load Time:   15.4 || F1:  99.51 | Prec:  99.11 | Rec:  99.92 || Ex/s: 153.14\n",
            "\n",
            "===>  EVAL Epoch 14\n"
          ]
        },
        {
          "output_type": "stream",
          "name": "stderr",
          "text": [
            "0% [███████████████] 100% | ETA: 00:00:00\n",
            "Total time elapsed: 00:00:10\n"
          ]
        },
        {
          "output_type": "stream",
          "name": "stdout",
          "text": [
            "Finished Epoch 14 || Run Time:    5.7 | Load Time:    5.0 || F1:  94.81 | Prec:  93.06 | Rec:  96.62 || Ex/s: 231.00\n",
            "\n",
            "---------------------\n",
            "\n",
            "===>  TRAIN Epoch 15\n"
          ]
        },
        {
          "output_type": "stream",
          "name": "stderr",
          "text": [
            "0% [██████████████████████████████] 100% | ETA: 00:00:00\n",
            "Total time elapsed: 00:00:47\n"
          ]
        },
        {
          "output_type": "stream",
          "name": "stdout",
          "text": [
            "Finished Epoch 15 || Run Time:   32.7 | Load Time:   15.3 || F1:  99.55 | Prec:  99.18 | Rec:  99.92 || Ex/s: 154.24\n",
            "\n",
            "===>  EVAL Epoch 15\n"
          ]
        },
        {
          "output_type": "stream",
          "name": "stderr",
          "text": [
            "0% [███████████████] 100% | ETA: 00:00:00\n",
            "Total time elapsed: 00:00:10\n"
          ]
        },
        {
          "output_type": "stream",
          "name": "stdout",
          "text": [
            "Finished Epoch 15 || Run Time:    5.7 | Load Time:    4.9 || F1:  94.91 | Prec:  93.26 | Rec:  96.62 || Ex/s: 232.20\n",
            "\n",
            "---------------------\n",
            "\n",
            "Loading best model...\n",
            "Training done.\n"
          ]
        },
        {
          "output_type": "execute_result",
          "data": {
            "text/plain": [
              "tensor(95.5457, device='cuda:0')"
            ]
          },
          "metadata": {},
          "execution_count": 27
        }
      ],
      "source": [
        "model.run_train(\n",
        "    train,\n",
        "    validation,\n",
        "    epochs=15,\n",
        "    batch_size=32,\n",
        "    best_save_path='hybrid_model.pth',\n",
        "    pos_neg_ratio=3)"
      ]
    },
    {
      "cell_type": "code",
      "execution_count": null,
      "metadata": {
        "id": "8mXxls0a8Zk8",
        "colab": {
          "base_uri": "https://localhost:8080/"
        },
        "outputId": "2220e316-4a29-46e5-a1b1-59a94189aafd"
      },
      "outputs": [
        {
          "output_type": "stream",
          "name": "stdout",
          "text": [
            "===>  EVAL Epoch 7\n"
          ]
        },
        {
          "output_type": "stream",
          "name": "stderr",
          "text": [
            "/usr/local/lib/python3.7/dist-packages/torch/nn/modules/module.py:949: UserWarning: Using non-full backward hooks on a Module that does not take as input a single Tensor or a tuple of Tensors is deprecated and will be removed in future versions. This hook will be missing some of the grad_input. Please use register_full_backward_hook to get the documented behavior.\n",
            "  warnings.warn(\"Using non-full backward hooks on a Module that does not take as input a \"\n",
            "/usr/local/lib/python3.7/dist-packages/torch/nn/modules/module.py:974: UserWarning: Using a non-full backward hook when the forward contains multiple autograd Nodes is deprecated and will be removed in future versions. This hook will be missing some grad_input. Please use register_full_backward_hook to get the documented behavior.\n",
            "  warnings.warn(\"Using a non-full backward hook when the forward contains multiple autograd Nodes \"\n",
            "/usr/local/lib/python3.7/dist-packages/torch/nn/modules/module.py:939: UserWarning: Using non-full backward hooks on a Module that does not return a single Tensor or a tuple of Tensors is deprecated and will be removed in future versions. This hook will be missing some of the grad_output. Please use register_full_backward_hook to get the documented behavior.\n",
            "  warnings.warn(\"Using non-full backward hooks on a Module that does not return a \"\n",
            "0% [███████████████] 100% | ETA: 00:00:00\n",
            "Total time elapsed: 00:00:10\n"
          ]
        },
        {
          "output_type": "stream",
          "name": "stdout",
          "text": [
            "Finished Epoch 7 || Run Time:    5.9 | Load Time:    4.9 || F1:  95.51 | Prec:  95.29 | Rec:  95.72 || Ex/s: 228.92\n",
            "\n"
          ]
        },
        {
          "output_type": "execute_result",
          "data": {
            "text/plain": [
              "tensor(95.5056, device='cuda:0')"
            ]
          },
          "metadata": {},
          "execution_count": 28
        }
      ],
      "source": [
        "# Compute F1 on test set\n",
        "model.run_eval(test)"
      ]
    },
    {
      "cell_type": "markdown",
      "metadata": {
        "id": "6kcbDdw58Zk8"
      },
      "source": [
        "##### DBLP-GoogleScholar"
      ]
    },
    {
      "cell_type": "code",
      "execution_count": null,
      "metadata": {
        "id": "2BUhgaNu8Zk9",
        "colab": {
          "base_uri": "https://localhost:8080/"
        },
        "outputId": "9ce712cd-92a6-4d4a-a0ae-8842a76b0a8a"
      },
      "outputs": [
        {
          "output_type": "stream",
          "name": "stderr",
          "text": [
            "WARNING:deepmatcher.data.dataset:Rebuilding data cache because: ['Data file list has changed.', 'One or more data files have been modified.']\n",
            "\n",
            "Reading and processing data from \"/content/IC/datasesErros/FMedium_50_1_2/Dirty/DBLP-GoogleScholar//joined_train.csv\"\n",
            "0% [############################# ] 100% | ETA: 00:00:00\n",
            "Reading and processing data from \"/content/IC/datasesErros/FMedium_50_1_2/Dirty/DBLP-GoogleScholar//joined_valid.csv\"\n",
            "0% [############################# ] 100% | ETA: 00:00:00\n",
            "Reading and processing data from \"/content/IC/datasesErros/FMedium_50_1_2/Dirty/DBLP-GoogleScholar//joined_test.csv\"\n",
            "0% [############################# ] 100% | ETA: 00:00:00Warning : `load_model` does not return WordVectorModel or SupervisedModel any more, but a `FastText` object which is very similar.\n",
            "\n",
            "Building vocabulary\n",
            "0% [#################] 100% | ETA: 00:00:00\n",
            "Total time elapsed: 00:00:01\n",
            "\n",
            "Computing principal components\n",
            "0% [#################] 100% | ETA: 00:00:00\n",
            "Total time elapsed: 00:00:08\n"
          ]
        }
      ],
      "source": [
        "train, validation, test = dm.data.process(\n",
        "    path='/content/IC/datasesErros/FMedium_50_1_2/Dirty/DBLP-GoogleScholar//',\n",
        "    train='joined_train.csv',\n",
        "    validation='joined_valid.csv',\n",
        "    test='joined_test.csv')"
      ]
    },
    {
      "cell_type": "code",
      "execution_count": null,
      "metadata": {
        "id": "YyT6HD6x8Zk9"
      },
      "outputs": [],
      "source": [
        "model = dm.MatchingModel(attr_summarizer='hybrid')"
      ]
    },
    {
      "cell_type": "code",
      "execution_count": null,
      "metadata": {
        "id": "gQBhQHlx8Zk-",
        "colab": {
          "base_uri": "https://localhost:8080/"
        },
        "outputId": "8ad9e089-7bd0-4538-875b-05f83e3c51da"
      },
      "outputs": [
        {
          "metadata": {
            "tags": null
          },
          "name": "stderr",
          "output_type": "stream",
          "text": [
            "/usr/local/lib/python3.7/dist-packages/torch/nn/modules/module.py:949: UserWarning: Using non-full backward hooks on a Module that does not take as input a single Tensor or a tuple of Tensors is deprecated and will be removed in future versions. This hook will be missing some of the grad_input. Please use register_full_backward_hook to get the documented behavior.\n",
            "  warnings.warn(\"Using non-full backward hooks on a Module that does not take as input a \"\n",
            "/usr/local/lib/python3.7/dist-packages/torch/nn/modules/module.py:974: UserWarning: Using a non-full backward hook when the forward contains multiple autograd Nodes is deprecated and will be removed in future versions. This hook will be missing some grad_input. Please use register_full_backward_hook to get the documented behavior.\n",
            "  warnings.warn(\"Using a non-full backward hook when the forward contains multiple autograd Nodes \"\n"
          ]
        },
        {
          "metadata": {
            "tags": null
          },
          "name": "stdout",
          "output_type": "stream",
          "text": [
            "* Number of trainable parameters: 9210006\n",
            "===>  TRAIN Epoch 1\n"
          ]
        },
        {
          "metadata": {
            "tags": null
          },
          "name": "stderr",
          "output_type": "stream",
          "text": [
            "/usr/local/lib/python3.7/dist-packages/torch/nn/modules/module.py:939: UserWarning: Using non-full backward hooks on a Module that does not return a single Tensor or a tuple of Tensors is deprecated and will be removed in future versions. This hook will be missing some of the grad_output. Please use register_full_backward_hook to get the documented behavior.\n",
            "  warnings.warn(\"Using non-full backward hooks on a Module that does not return a \"\n",
            "/usr/local/lib/python3.7/dist-packages/torch/nn/functional.py:2742: UserWarning: reduction: 'mean' divides the total loss by both the batch size and the support size.'batchmean' divides only by the batch size, and aligns with the KL div math definition.'mean' will be changed to behave the same as 'batchmean' in the next major release.\n",
            "  \"reduction: 'mean' divides the total loss by both the batch size and the support size.\"\n",
            "0% [██████████████████████████████] 100% | ETA: 00:00:00\n",
            "Total time elapsed: 00:01:42\n"
          ]
        },
        {
          "metadata": {
            "tags": null
          },
          "name": "stdout",
          "output_type": "stream",
          "text": [
            "Finished Epoch 1 || Run Time:   73.4 | Load Time:   30.1 || F1:  72.81 | Prec:  63.54 | Rec:  85.25 || Ex/s: 166.40\n",
            "\n",
            "===>  EVAL Epoch 1\n"
          ]
        },
        {
          "metadata": {
            "tags": null
          },
          "name": "stderr",
          "output_type": "stream",
          "text": [
            "0% [██████████████████████████████] 100% | ETA: 00:00:00\n",
            "Total time elapsed: 00:00:22\n"
          ]
        },
        {
          "metadata": {
            "tags": null
          },
          "name": "stdout",
          "output_type": "stream",
          "text": [
            "Finished Epoch 1 || Run Time:   12.7 | Load Time:    9.5 || F1:  86.64 | Prec:  80.40 | Rec:  93.93 || Ex/s: 258.24\n",
            "\n",
            "* Best F1: tensor(86.6379, device='cuda:0')\n",
            "Saving best model...\n",
            "Done.\n",
            "---------------------\n",
            "\n",
            "===>  TRAIN Epoch 2\n"
          ]
        },
        {
          "metadata": {
            "tags": null
          },
          "name": "stderr",
          "output_type": "stream",
          "text": [
            "0% [██████████████████████████████] 100% | ETA: 00:00:00\n",
            "Total time elapsed: 00:01:42\n"
          ]
        },
        {
          "metadata": {
            "tags": null
          },
          "name": "stdout",
          "output_type": "stream",
          "text": [
            "Finished Epoch 2 || Run Time:   73.1 | Load Time:   30.0 || F1:  89.97 | Prec:  85.49 | Rec:  94.95 || Ex/s: 167.04\n",
            "\n",
            "===>  EVAL Epoch 2\n"
          ]
        },
        {
          "metadata": {
            "tags": null
          },
          "name": "stderr",
          "output_type": "stream",
          "text": [
            "0% [██████████████████████████████] 100% | ETA: 00:00:00\n",
            "Total time elapsed: 00:00:23\n"
          ]
        },
        {
          "metadata": {
            "tags": null
          },
          "name": "stdout",
          "output_type": "stream",
          "text": [
            "Finished Epoch 2 || Run Time:   13.5 | Load Time:    9.9 || F1:  87.57 | Prec:  80.85 | Rec:  95.51 || Ex/s: 245.09\n",
            "\n",
            "* Best F1: tensor(87.5750, device='cuda:0')\n",
            "Saving best model...\n",
            "Done.\n",
            "---------------------\n",
            "\n",
            "===>  TRAIN Epoch 3\n"
          ]
        },
        {
          "metadata": {
            "tags": null
          },
          "name": "stderr",
          "output_type": "stream",
          "text": [
            "0% [██████████████████████████████] 100% | ETA: 00:00:00\n",
            "Total time elapsed: 00:01:43\n"
          ]
        },
        {
          "metadata": {
            "tags": null
          },
          "name": "stdout",
          "output_type": "stream",
          "text": [
            "Finished Epoch 3 || Run Time:   73.6 | Load Time:   30.4 || F1:  93.00 | Prec:  89.57 | Rec:  96.69 || Ex/s: 165.59\n",
            "\n",
            "===>  EVAL Epoch 3\n"
          ]
        },
        {
          "metadata": {
            "tags": null
          },
          "name": "stderr",
          "output_type": "stream",
          "text": [
            "0% [██████████████████████████████] 100% | ETA: 00:00:00\n",
            "Total time elapsed: 00:00:22\n"
          ]
        },
        {
          "metadata": {
            "tags": null
          },
          "name": "stdout",
          "output_type": "stream",
          "text": [
            "Finished Epoch 3 || Run Time:   13.1 | Load Time:    9.7 || F1:  86.52 | Prec:  78.38 | Rec:  96.54 || Ex/s: 252.64\n",
            "\n",
            "---------------------\n",
            "\n",
            "===>  TRAIN Epoch 4\n"
          ]
        },
        {
          "metadata": {
            "tags": null
          },
          "name": "stderr",
          "output_type": "stream",
          "text": [
            "0% [██████████████████████████████] 100% | ETA: 00:00:00\n",
            "Total time elapsed: 00:01:45\n"
          ]
        },
        {
          "metadata": {
            "tags": null
          },
          "name": "stdout",
          "output_type": "stream",
          "text": [
            "Finished Epoch 4 || Run Time:   75.7 | Load Time:   31.0 || F1:  94.58 | Prec:  91.88 | Rec:  97.44 || Ex/s: 161.42\n",
            "\n",
            "===>  EVAL Epoch 4\n"
          ]
        },
        {
          "metadata": {
            "tags": null
          },
          "name": "stderr",
          "output_type": "stream",
          "text": [
            "0% [██████████████████████████████] 100% | ETA: 00:00:00\n",
            "Total time elapsed: 00:00:23\n"
          ]
        },
        {
          "metadata": {
            "tags": null
          },
          "name": "stdout",
          "output_type": "stream",
          "text": [
            "Finished Epoch 4 || Run Time:   13.6 | Load Time:    9.9 || F1:  86.76 | Prec:  79.03 | Rec:  96.17 || Ex/s: 244.23\n",
            "\n",
            "---------------------\n",
            "\n",
            "===>  TRAIN Epoch 5\n"
          ]
        },
        {
          "metadata": {
            "tags": null
          },
          "name": "stderr",
          "output_type": "stream",
          "text": [
            "0% [██████████████████████████████] 100% | ETA: 00:00:00\n",
            "Total time elapsed: 00:01:46\n"
          ]
        },
        {
          "metadata": {
            "tags": null
          },
          "name": "stdout",
          "output_type": "stream",
          "text": [
            "Finished Epoch 5 || Run Time:   75.9 | Load Time:   31.1 || F1:  96.01 | Prec:  94.13 | Rec:  97.97 || Ex/s: 160.92\n",
            "\n",
            "===>  EVAL Epoch 5\n"
          ]
        },
        {
          "metadata": {
            "tags": null
          },
          "name": "stderr",
          "output_type": "stream",
          "text": [
            "0% [██████████████████████████████] 100% | ETA: 00:00:00\n",
            "Total time elapsed: 00:00:23\n"
          ]
        },
        {
          "metadata": {
            "tags": null
          },
          "name": "stdout",
          "output_type": "stream",
          "text": [
            "Finished Epoch 5 || Run Time:   13.6 | Load Time:   10.0 || F1:  85.12 | Prec:  76.30 | Rec:  96.26 || Ex/s: 243.20\n",
            "\n",
            "---------------------\n",
            "\n",
            "===>  TRAIN Epoch 6\n"
          ]
        },
        {
          "metadata": {
            "tags": null
          },
          "name": "stderr",
          "output_type": "stream",
          "text": [
            "0% [██████████████████████████████] 100% | ETA: 00:00:00\n",
            "Total time elapsed: 00:01:40\n"
          ]
        },
        {
          "metadata": {
            "tags": null
          },
          "name": "stdout",
          "output_type": "stream",
          "text": [
            "Finished Epoch 6 || Run Time:   72.0 | Load Time:   29.7 || F1:  97.20 | Prec:  96.07 | Rec:  98.35 || Ex/s: 169.33\n",
            "\n",
            "===>  EVAL Epoch 6\n"
          ]
        },
        {
          "metadata": {
            "tags": null
          },
          "name": "stderr",
          "output_type": "stream",
          "text": [
            "0% [██████████████████████████████] 100% | ETA: 00:00:00\n",
            "Total time elapsed: 00:00:22\n"
          ]
        },
        {
          "metadata": {
            "tags": null
          },
          "name": "stdout",
          "output_type": "stream",
          "text": [
            "Finished Epoch 6 || Run Time:   13.1 | Load Time:    9.7 || F1:  90.28 | Prec:  87.81 | Rec:  92.90 || Ex/s: 251.06\n",
            "\n",
            "* Best F1: tensor(90.2816, device='cuda:0')\n",
            "Saving best model...\n",
            "Done.\n",
            "---------------------\n",
            "\n",
            "===>  TRAIN Epoch 7\n"
          ]
        },
        {
          "metadata": {
            "tags": null
          },
          "name": "stderr",
          "output_type": "stream",
          "text": [
            "0% [██████████████████████████████] 100% | ETA: 00:00:00\n",
            "Total time elapsed: 00:01:40\n"
          ]
        },
        {
          "metadata": {
            "tags": null
          },
          "name": "stdout",
          "output_type": "stream",
          "text": [
            "Finished Epoch 7 || Run Time:   71.8 | Load Time:   29.7 || F1:  97.99 | Prec:  97.24 | Rec:  98.75 || Ex/s: 169.60\n",
            "\n",
            "===>  EVAL Epoch 7\n"
          ]
        },
        {
          "metadata": {
            "tags": null
          },
          "name": "stderr",
          "output_type": "stream",
          "text": [
            "0% [██████████████████████████████] 100% | ETA: 00:00:00\n",
            "Total time elapsed: 00:00:22\n"
          ]
        },
        {
          "metadata": {
            "tags": null
          },
          "name": "stdout",
          "output_type": "stream",
          "text": [
            "Finished Epoch 7 || Run Time:   12.9 | Load Time:    9.6 || F1:  90.33 | Prec:  92.63 | Rec:  88.13 || Ex/s: 256.04\n",
            "\n",
            "* Best F1: tensor(90.3257, device='cuda:0')\n",
            "Saving best model...\n",
            "Done.\n",
            "---------------------\n",
            "\n",
            "===>  TRAIN Epoch 8\n"
          ]
        },
        {
          "metadata": {
            "tags": null
          },
          "name": "stderr",
          "output_type": "stream",
          "text": [
            "0% [██████████████████████████████] 100% | ETA: 00:00:00\n",
            "Total time elapsed: 00:01:42\n"
          ]
        },
        {
          "metadata": {
            "tags": null
          },
          "name": "stdout",
          "output_type": "stream",
          "text": [
            "Finished Epoch 8 || Run Time:   73.4 | Load Time:   30.2 || F1:  98.40 | Prec:  97.84 | Rec:  98.97 || Ex/s: 166.27\n",
            "\n",
            "===>  EVAL Epoch 8\n"
          ]
        },
        {
          "metadata": {
            "tags": null
          },
          "name": "stderr",
          "output_type": "stream",
          "text": [
            "0% [██████████████████████████████] 100% | ETA: 00:00:00\n",
            "Total time elapsed: 00:00:22\n"
          ]
        },
        {
          "metadata": {
            "tags": null
          },
          "name": "stdout",
          "output_type": "stream",
          "text": [
            "Finished Epoch 8 || Run Time:   13.0 | Load Time:    9.7 || F1:  90.12 | Prec:  93.03 | Rec:  87.38 || Ex/s: 252.91\n",
            "\n",
            "---------------------\n",
            "\n",
            "===>  TRAIN Epoch 9\n"
          ]
        },
        {
          "metadata": {
            "tags": null
          },
          "name": "stderr",
          "output_type": "stream",
          "text": [
            "0% [██████████████████████████████] 100% | ETA: 00:00:00\n",
            "Total time elapsed: 00:01:41\n"
          ]
        },
        {
          "metadata": {
            "tags": null
          },
          "name": "stdout",
          "output_type": "stream",
          "text": [
            "Finished Epoch 9 || Run Time:   72.5 | Load Time:   30.0 || F1:  98.82 | Prec:  98.60 | Rec:  99.03 || Ex/s: 168.03\n",
            "\n",
            "===>  EVAL Epoch 9\n"
          ]
        },
        {
          "metadata": {
            "tags": null
          },
          "name": "stderr",
          "output_type": "stream",
          "text": [
            "0% [██████████████████████████████] 100% | ETA: 00:00:00\n",
            "Total time elapsed: 00:00:22\n"
          ]
        },
        {
          "metadata": {
            "tags": null
          },
          "name": "stdout",
          "output_type": "stream",
          "text": [
            "Finished Epoch 9 || Run Time:   12.8 | Load Time:    9.5 || F1:  91.29 | Prec:  90.53 | Rec:  92.06 || Ex/s: 257.82\n",
            "\n",
            "* Best F1: tensor(91.2882, device='cuda:0')\n",
            "Saving best model...\n",
            "Done.\n",
            "---------------------\n",
            "\n",
            "===>  TRAIN Epoch 10\n"
          ]
        },
        {
          "metadata": {
            "tags": null
          },
          "name": "stderr",
          "output_type": "stream",
          "text": [
            "0% [██████████████████████████████] 100% | ETA: 00:00:00\n",
            "Total time elapsed: 00:01:41\n"
          ]
        },
        {
          "metadata": {
            "tags": null
          },
          "name": "stdout",
          "output_type": "stream",
          "text": [
            "Finished Epoch 10 || Run Time:   72.7 | Load Time:   30.1 || F1:  98.99 | Prec:  98.91 | Rec:  99.06 || Ex/s: 167.61\n",
            "\n",
            "===>  EVAL Epoch 10\n"
          ]
        },
        {
          "metadata": {
            "tags": null
          },
          "name": "stderr",
          "output_type": "stream",
          "text": [
            "0% [██████████████████████████████] 100% | ETA: 00:00:00\n",
            "Total time elapsed: 00:00:22\n"
          ]
        },
        {
          "metadata": {
            "tags": null
          },
          "name": "stdout",
          "output_type": "stream",
          "text": [
            "Finished Epoch 10 || Run Time:   13.1 | Load Time:    9.7 || F1:  91.45 | Prec:  89.96 | Rec:  92.99 || Ex/s: 251.94\n",
            "\n",
            "* Best F1: tensor(91.4522, device='cuda:0')\n",
            "Saving best model...\n",
            "Done.\n",
            "---------------------\n",
            "\n",
            "===>  TRAIN Epoch 11\n"
          ]
        },
        {
          "metadata": {
            "tags": null
          },
          "name": "stderr",
          "output_type": "stream",
          "text": [
            "0% [██████████████████████████████] 100% | ETA: 00:00:00\n",
            "Total time elapsed: 00:01:41\n"
          ]
        },
        {
          "metadata": {
            "tags": null
          },
          "name": "stdout",
          "output_type": "stream",
          "text": [
            "Finished Epoch 11 || Run Time:   72.1 | Load Time:   29.9 || F1:  99.24 | Prec:  99.28 | Rec:  99.19 || Ex/s: 168.86\n",
            "\n",
            "===>  EVAL Epoch 11\n"
          ]
        },
        {
          "metadata": {
            "tags": null
          },
          "name": "stderr",
          "output_type": "stream",
          "text": [
            "0% [██████████████████████████████] 100% | ETA: 00:00:00\n",
            "Total time elapsed: 00:00:22\n"
          ]
        },
        {
          "metadata": {
            "tags": null
          },
          "name": "stdout",
          "output_type": "stream",
          "text": [
            "Finished Epoch 11 || Run Time:   12.7 | Load Time:    9.6 || F1:  91.03 | Prec:  89.16 | Rec:  92.99 || Ex/s: 257.41\n",
            "\n",
            "---------------------\n",
            "\n",
            "===>  TRAIN Epoch 12\n"
          ]
        },
        {
          "metadata": {
            "tags": null
          },
          "name": "stderr",
          "output_type": "stream",
          "text": [
            "0% [██████████████████████████████] 100% | ETA: 00:00:00\n",
            "Total time elapsed: 00:01:41\n"
          ]
        },
        {
          "metadata": {
            "tags": null
          },
          "name": "stdout",
          "output_type": "stream",
          "text": [
            "Finished Epoch 12 || Run Time:   72.5 | Load Time:   29.9 || F1:  99.31 | Prec:  99.34 | Rec:  99.28 || Ex/s: 168.22\n",
            "\n",
            "===>  EVAL Epoch 12\n"
          ]
        },
        {
          "metadata": {
            "tags": null
          },
          "name": "stderr",
          "output_type": "stream",
          "text": [
            "0% [██████████████████████████████] 100% | ETA: 00:00:00\n",
            "Total time elapsed: 00:00:22\n"
          ]
        },
        {
          "metadata": {
            "tags": null
          },
          "name": "stdout",
          "output_type": "stream",
          "text": [
            "Finished Epoch 12 || Run Time:   12.8 | Load Time:    9.6 || F1:  90.69 | Prec:  88.59 | Rec:  92.90 || Ex/s: 256.05\n",
            "\n",
            "---------------------\n",
            "\n",
            "===>  TRAIN Epoch 13\n"
          ]
        },
        {
          "metadata": {
            "tags": null
          },
          "name": "stderr",
          "output_type": "stream",
          "text": [
            "0% [██████████████████████████████] 100% | ETA: 00:00:00\n",
            "Total time elapsed: 00:01:40\n"
          ]
        },
        {
          "metadata": {
            "tags": null
          },
          "name": "stdout",
          "output_type": "stream",
          "text": [
            "Finished Epoch 13 || Run Time:   71.6 | Load Time:   29.8 || F1:  99.42 | Prec:  99.50 | Rec:  99.35 || Ex/s: 169.82\n",
            "\n",
            "===>  EVAL Epoch 13\n"
          ]
        },
        {
          "metadata": {
            "tags": null
          },
          "name": "stderr",
          "output_type": "stream",
          "text": [
            "0% [██████████████████████████████] 100% | ETA: 00:00:00\n",
            "Total time elapsed: 00:00:22\n"
          ]
        },
        {
          "metadata": {
            "tags": null
          },
          "name": "stdout",
          "output_type": "stream",
          "text": [
            "Finished Epoch 13 || Run Time:   12.8 | Load Time:    9.5 || F1:  90.63 | Prec:  88.72 | Rec:  92.62 || Ex/s: 257.58\n",
            "\n",
            "---------------------\n",
            "\n",
            "===>  TRAIN Epoch 14\n"
          ]
        },
        {
          "metadata": {
            "tags": null
          },
          "name": "stderr",
          "output_type": "stream",
          "text": [
            "0% [██████████████████████████████] 100% | ETA: 00:00:00\n",
            "Total time elapsed: 00:01:40\n"
          ]
        },
        {
          "metadata": {
            "tags": null
          },
          "name": "stdout",
          "output_type": "stream",
          "text": [
            "Finished Epoch 14 || Run Time:   71.7 | Load Time:   29.8 || F1:  99.48 | Prec:  99.62 | Rec:  99.35 || Ex/s: 169.65\n",
            "\n",
            "===>  EVAL Epoch 14\n"
          ]
        },
        {
          "metadata": {
            "tags": null
          },
          "name": "stderr",
          "output_type": "stream",
          "text": [
            "0% [██████████████████████████████] 100% | ETA: 00:00:00\n",
            "Total time elapsed: 00:00:22\n"
          ]
        },
        {
          "metadata": {
            "tags": null
          },
          "name": "stdout",
          "output_type": "stream",
          "text": [
            "Finished Epoch 14 || Run Time:   13.1 | Load Time:    9.7 || F1:  90.82 | Prec:  88.83 | Rec:  92.90 || Ex/s: 251.17\n",
            "\n",
            "---------------------\n",
            "\n",
            "===>  TRAIN Epoch 15\n"
          ]
        },
        {
          "output_type": "stream",
          "name": "stderr",
          "text": [
            "0% [██████████████████████████████] 100% | ETA: 00:00:00\n",
            "Total time elapsed: 00:01:39\n"
          ]
        },
        {
          "output_type": "stream",
          "name": "stdout",
          "text": [
            "Finished Epoch 15 || Run Time:   70.9 | Load Time:   29.5 || F1:  99.53 | Prec:  99.66 | Rec:  99.41 || Ex/s: 171.48\n",
            "\n",
            "===>  EVAL Epoch 15\n"
          ]
        },
        {
          "output_type": "stream",
          "name": "stderr",
          "text": [
            "0% [██████████████████████████████] 100% | ETA: 00:00:00\n",
            "Total time elapsed: 00:00:23\n"
          ]
        },
        {
          "output_type": "stream",
          "name": "stdout",
          "text": [
            "Finished Epoch 15 || Run Time:   13.5 | Load Time:    9.9 || F1:  90.87 | Prec:  88.42 | Rec:  93.46 || Ex/s: 245.05\n",
            "\n",
            "---------------------\n",
            "\n",
            "Loading best model...\n",
            "Training done.\n"
          ]
        },
        {
          "output_type": "execute_result",
          "data": {
            "text/plain": [
              "tensor(91.4522, device='cuda:0')"
            ]
          },
          "metadata": {},
          "execution_count": 13
        }
      ],
      "source": [
        "model.run_train(\n",
        "    train,\n",
        "    validation,\n",
        "    epochs=15,\n",
        "    batch_size=32,\n",
        "    best_save_path='hybrid_model.pth',\n",
        "    pos_neg_ratio=3)"
      ]
    },
    {
      "cell_type": "code",
      "execution_count": null,
      "metadata": {
        "id": "pEM9xrZO8Zk-",
        "colab": {
          "base_uri": "https://localhost:8080/"
        },
        "outputId": "a411b1d8-da98-4594-ca53-a25b89ed8673"
      },
      "outputs": [
        {
          "output_type": "stream",
          "name": "stdout",
          "text": [
            "===>  EVAL Epoch 10\n"
          ]
        },
        {
          "output_type": "stream",
          "name": "stderr",
          "text": [
            "/usr/local/lib/python3.7/dist-packages/torch/nn/modules/module.py:949: UserWarning: Using non-full backward hooks on a Module that does not take as input a single Tensor or a tuple of Tensors is deprecated and will be removed in future versions. This hook will be missing some of the grad_input. Please use register_full_backward_hook to get the documented behavior.\n",
            "  warnings.warn(\"Using non-full backward hooks on a Module that does not take as input a \"\n",
            "/usr/local/lib/python3.7/dist-packages/torch/nn/modules/module.py:974: UserWarning: Using a non-full backward hook when the forward contains multiple autograd Nodes is deprecated and will be removed in future versions. This hook will be missing some grad_input. Please use register_full_backward_hook to get the documented behavior.\n",
            "  warnings.warn(\"Using a non-full backward hook when the forward contains multiple autograd Nodes \"\n",
            "/usr/local/lib/python3.7/dist-packages/torch/nn/modules/module.py:939: UserWarning: Using non-full backward hooks on a Module that does not return a single Tensor or a tuple of Tensors is deprecated and will be removed in future versions. This hook will be missing some of the grad_output. Please use register_full_backward_hook to get the documented behavior.\n",
            "  warnings.warn(\"Using non-full backward hooks on a Module that does not return a \"\n",
            "0% [██████████████████████████████] 100% | ETA: 00:00:00\n",
            "Total time elapsed: 00:00:22\n"
          ]
        },
        {
          "output_type": "stream",
          "name": "stdout",
          "text": [
            "Finished Epoch 10 || Run Time:   13.1 | Load Time:    9.7 || F1:  91.26 | Prec:  91.30 | Rec:  91.21 || Ex/s: 251.97\n",
            "\n"
          ]
        },
        {
          "output_type": "execute_result",
          "data": {
            "text/plain": [
              "tensor(91.2576, device='cuda:0')"
            ]
          },
          "metadata": {},
          "execution_count": 14
        }
      ],
      "source": [
        "# Compute F1 on test set\n",
        "model.run_eval(test)"
      ]
    },
    {
      "cell_type": "markdown",
      "metadata": {
        "id": "lejVqpjAQJPD"
      },
      "source": [
        "## Step 4. Apply model to new data\n",
        "\n",
        "### Evaluating on test data\n",
        "Now that we have a trained model for entity matching, we can now evaluate its accuracy on test data, to estimate the performance of the model on unlabeled data."
      ]
    },
    {
      "cell_type": "code",
      "execution_count": null,
      "metadata": {
        "id": "jLoneAI_QJPD"
      },
      "outputs": [],
      "source": [
        "# Compute F1 on test set\n",
        "'''model.run_eval(test)'''"
      ]
    },
    {
      "cell_type": "markdown",
      "metadata": {
        "id": "W4ixyezcQJPG"
      },
      "source": [
        "### Evaluating on unlabeled data\n",
        "\n",
        "We finally apply the trained model to unlabeled data to get predictions. To do this, we need to first process the unlabeled data.\n",
        "\n",
        "#### Processing unlabeled data\n",
        "\n",
        "To process unlabeled data, we use `dm.data.process_unlabeled`, as shown in the code snippet below. The basic parameters for this call are as follows:\n",
        "\n",
        "* **path (required): ** The full path to the unlabeled data file (not just the directory).\n",
        "* **trained_model (required): ** The trained model. The model is aware of the configuration of the training data on which it was trained, and so `deepmatcher` reuses the same configuration for the unlabeled data.\n",
        "* **ignore_columns (optional): ** Any columns in the unlabeled CSV file that you may want to ignore for the purposes of evaluation. If not specified, the columns that were ignored while processing the training set will also be ignored while processing the unlabeled data.\n",
        "\n",
        "Note that the unlabeled CSV file must have the same schema as the train, validation and test CSVs."
      ]
    },
    {
      "cell_type": "code",
      "execution_count": null,
      "metadata": {
        "id": "ZmZ7EAtmQJPH"
      },
      "outputs": [],
      "source": [
        "'''\n",
        "unlabeled = dm.data.process_unlabeled(\n",
        "    path='sample_data/itunes-amazon/unlabeled.csv',\n",
        "    trained_model=model)\n",
        "'''"
      ]
    },
    {
      "cell_type": "markdown",
      "metadata": {
        "id": "OF18CNWbQJPM"
      },
      "source": [
        "#### Obtaining predictions\n",
        "\n",
        "Next, we call the `run_prediction` method which takes a processed data set object and returns a `pandas` dataframe containing tuple pair IDs (`id` column) and the corresponding match score predictions (`match_score` column). `match_scores` are in [0, 1] and a score above 0.5 indicates a match prediction."
      ]
    },
    {
      "cell_type": "code",
      "execution_count": null,
      "metadata": {
        "id": "0UE0Lg4KQJPN"
      },
      "outputs": [],
      "source": [
        "'''\n",
        "predictions = model.run_prediction(unlabeled)\n",
        "predictions.head()\n",
        "'''"
      ]
    },
    {
      "cell_type": "markdown",
      "metadata": {
        "id": "vXclEMhkQJPR"
      },
      "source": [
        "You may optionally set the `output_attributes` parameter to also include all attributes present in the original input table. As mentioned earlier, the processed attribute values will likely look a bit different from the attribute values in the input CSV files due to modifications such as tokenization and lowercasing."
      ]
    },
    {
      "cell_type": "code",
      "execution_count": null,
      "metadata": {
        "id": "0wPnH3NPQJPS"
      },
      "outputs": [],
      "source": [
        "#predictions = model.run_prediction(unlabeled, output_attributes=True)\n",
        "#predictions.head()"
      ]
    },
    {
      "cell_type": "markdown",
      "metadata": {
        "id": "bJxMcI0eQJPU"
      },
      "source": [
        "You can then save these predictions to CSV and use them for downstream tasks."
      ]
    },
    {
      "cell_type": "code",
      "execution_count": null,
      "metadata": {
        "id": "oZYSXoNNQJPV"
      },
      "outputs": [],
      "source": [
        "#predictions.to_csv('sample_data/itunes-amazon/unlabeled_predictions.csv')"
      ]
    },
    {
      "cell_type": "markdown",
      "metadata": {
        "id": "3Xo0ULsqQJPX"
      },
      "source": [
        "#### Getting predictions on labeled data\n",
        "\n",
        "You can also get predictions for labeled data such as validation data. To do so, you can simply call the `run_prediction` method passing the validation data as argument."
      ]
    },
    {
      "cell_type": "code",
      "execution_count": null,
      "metadata": {
        "id": "iXvu3exAQJPY"
      },
      "outputs": [],
      "source": [
        "#valid_predictions = model.run_prediction(validation, output_attributes=True)\n",
        "#valid_predictions.head()"
      ]
    }
  ],
  "metadata": {
    "accelerator": "GPU",
    "colab": {
      "collapsed_sections": [
        "jzWDzxUf6Af8",
        "vGOLtgtP6BTG",
        "aHsurHMd6BTJ",
        "UaPOwiMG6zMO",
        "74V0WvCe7jiR",
        "Y-yR4O-G75CA"
      ],
      "name": "DeepMatcher_FMedium_50_1_2.ipynb",
      "provenance": [],
      "toc_visible": true
    },
    "kernelspec": {
      "display_name": "Python 3",
      "language": "python",
      "name": "python3"
    },
    "language_info": {
      "codemirror_mode": {
        "name": "ipython",
        "version": 3
      },
      "file_extension": ".py",
      "mimetype": "text/x-python",
      "name": "python",
      "nbconvert_exporter": "python",
      "pygments_lexer": "ipython3",
      "version": "3.6.4"
    }
  },
  "nbformat": 4,
  "nbformat_minor": 0
}