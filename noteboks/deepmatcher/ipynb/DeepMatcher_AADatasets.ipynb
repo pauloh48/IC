{
  "cells": [
    {
      "cell_type": "markdown",
      "metadata": {
        "id": "aXpIRSAQ-cw1"
      },
      "source": [
        "# Getting started with DeepMatcher\n",
        "\n",
        "Note: you can run **[this notebook live in Google Colab](https://colab.research.google.com/github/anhaidgroup/deepmatcher/blob/master/examples/getting_started.ipynb)** and use free GPUs provided by Google.\n",
        "\n",
        "This tutorial describes how to effortlessly perform entity matching using deep neural networks. Specifically, we will see how to match pairs of tuples (also called data records or table rows) to determine if they refer to the same real world entity. To do so, we will need labeled examples as input, i.e., tuple pairs which have been annotated as matches or non-matches. This will be used to train our neural network using supervised learning. At the end of this tutorial, you will have a trained neural network as output which you can easily apply to unlabeled tuple pairs to make predictions."
      ]
    },
    {
      "cell_type": "code",
      "execution_count": null,
      "metadata": {
        "colab": {
          "base_uri": "https://localhost:8080/"
        },
        "id": "I0U8tlj1esDm",
        "outputId": "cb38736c-13b7-45dc-c0ee-3af9fa4a9aae"
      },
      "outputs": [
        {
          "name": "stdout",
          "output_type": "stream",
          "text": [
            "Mounted at /content/drive\n"
          ]
        }
      ],
      "source": [
        "'''from google.colab import drive\n",
        "drive.mount('/content/drive')'''"
      ]
    },
    {
      "cell_type": "markdown",
      "metadata": {
        "id": "19SozaN8QJOf"
      },
      "source": [
        "As an overview, here are the 4 steps to use `deepmatcher` which we will go through in this tutorial:\n",
        "\n",
        "<ol start=\"0\">\n",
        "  <li>Setup</li>\n",
        "  <li>Process labeled data</li>\n",
        "  <li>Define neural network model</li>\n",
        "  <li>Train model</li>\n",
        "  <li>Apply model to new data</li>\n",
        "</ol>\n",
        "\n",
        "Let's begin!"
      ]
    },
    {
      "cell_type": "markdown",
      "metadata": {
        "id": "sBtZVvrSQJOf"
      },
      "source": [
        "## Step 0. Setup\n",
        "\n",
        "If you are running this notebook inside Colab, you will first need to install necessary packages by running the code below:"
      ]
    },
    {
      "cell_type": "code",
      "execution_count": null,
      "metadata": {
        "id": "LEiDiDNz-PEG"
      },
      "outputs": [],
      "source": [
        "try:\n",
        "    import deepmatcher\n",
        "except:\n",
        "    !pip install -qqq deepmatcher"
      ]
    },
    {
      "cell_type": "code",
      "execution_count": null,
      "metadata": {
        "colab": {
          "base_uri": "https://localhost:8080/"
        },
        "id": "SuphMrtUs1m-",
        "outputId": "f1cc97a5-ab88-48fb-e903-6d36100ee884"
      },
      "outputs": [
        {
          "output_type": "stream",
          "name": "stdout",
          "text": [
            "Looking in indexes: https://pypi.org/simple, https://us-python.pkg.dev/colab-wheels/public/simple/\n",
            "Requirement already satisfied: torchtext==0.10.0 in /usr/local/lib/python3.7/dist-packages (0.10.0)\n",
            "Requirement already satisfied: torch==1.9.0 in /usr/local/lib/python3.7/dist-packages (from torchtext==0.10.0) (1.9.0)\n",
            "Requirement already satisfied: requests in /usr/local/lib/python3.7/dist-packages (from torchtext==0.10.0) (2.23.0)\n",
            "Requirement already satisfied: numpy in /usr/local/lib/python3.7/dist-packages (from torchtext==0.10.0) (1.21.6)\n",
            "Requirement already satisfied: tqdm in /usr/local/lib/python3.7/dist-packages (from torchtext==0.10.0) (4.64.0)\n",
            "Requirement already satisfied: typing-extensions in /usr/local/lib/python3.7/dist-packages (from torch==1.9.0->torchtext==0.10.0) (4.1.1)\n",
            "Requirement already satisfied: urllib3!=1.25.0,!=1.25.1,<1.26,>=1.21.1 in /usr/local/lib/python3.7/dist-packages (from requests->torchtext==0.10.0) (1.24.3)\n",
            "Requirement already satisfied: certifi>=2017.4.17 in /usr/local/lib/python3.7/dist-packages (from requests->torchtext==0.10.0) (2022.6.15)\n",
            "Requirement already satisfied: chardet<4,>=3.0.2 in /usr/local/lib/python3.7/dist-packages (from requests->torchtext==0.10.0) (3.0.4)\n",
            "Requirement already satisfied: idna<3,>=2.5 in /usr/local/lib/python3.7/dist-packages (from requests->torchtext==0.10.0) (2.10)\n"
          ]
        }
      ],
      "source": [
        "# contorna erro legacy\n",
        "!pip install torchtext==0.10.0"
      ]
    },
    {
      "cell_type": "markdown",
      "metadata": {
        "id": "D1Hmd9LXQJOk"
      },
      "source": [
        "Now let's import `deepmatcher` which will do all the heavy lifting to build and train neural network models for entity matching. "
      ]
    },
    {
      "cell_type": "code",
      "execution_count": null,
      "metadata": {
        "id": "0422OsKBQJOk"
      },
      "outputs": [],
      "source": [
        "import pandas as pd\n",
        "import deepmatcher as dm"
      ]
    },
    {
      "cell_type": "markdown",
      "metadata": {
        "id": "g6inOGkQQJOn"
      },
      "source": [
        "We recommend having a GPU available for the training in Step 4. In case a GPU is not available, we will use all available CPU cores. You can run the following command to determine if a GPU is available and will be used for training:"
      ]
    },
    {
      "cell_type": "code",
      "execution_count": null,
      "metadata": {
        "colab": {
          "base_uri": "https://localhost:8080/"
        },
        "id": "GYb5r0etQJOo",
        "outputId": "59b61296-f6f1-4991-b3b4-37516052d157"
      },
      "outputs": [
        {
          "output_type": "execute_result",
          "data": {
            "text/plain": [
              "True"
            ]
          },
          "metadata": {},
          "execution_count": 4
        }
      ],
      "source": [
        "import torch\n",
        "torch.cuda.is_available()"
      ]
    },
    {
      "cell_type": "markdown",
      "metadata": {
        "id": "Dv_sFh1_QJOs"
      },
      "source": [
        "### Download sample data for entity matching\n",
        "\n",
        "Now let's get some sample data to play with in this tutorial. We will need three sets of labeled data and one set of unlabeled data:\n",
        "\n",
        "1. **Training Data:** This is used for training our neural network model.\n",
        "2. **Validation Data:** This is used for determining the configuration (i.e., hyperparameters) of our model in such a way that the model does not overfit to the training set.\n",
        "3. **Test Data:** This is used to estimate the performance of our trained model on unlabeled data.\n",
        "4. **Unlabeled Data:** The trained model is applied on this data to obtain predictions, which can then be used for downstream tasks in practical application scenarios.\n",
        "\n",
        "We download these four data sets to the `sample_data` directory:"
      ]
    },
    {
      "cell_type": "code",
      "execution_count": null,
      "metadata": {
        "id": "wDOPl8FeLm7j"
      },
      "outputs": [],
      "source": [
        "#!mkdir -p /content/drive/MyDrive/IC/unirTeste\n",
        "#!wget -qnc -P /content/drive/MyDrive/IC/unirTeste/ http://pages.cs.wisc.edu/~anhai/data1/deepmatcher_data/Structured.zip"
      ]
    },
    {
      "cell_type": "code",
      "execution_count": null,
      "metadata": {
        "id": "h_cHKHCULzbz"
      },
      "outputs": [],
      "source": [
        "#!unzip -q /content/drive/MyDrive/IC/unirTeste/Structured.zip -d /content/drive/MyDrive/IC/unirTeste"
      ]
    },
    {
      "cell_type": "code",
      "execution_count": null,
      "metadata": {
        "id": "AxhYkWBOYgAQ"
      },
      "outputs": [],
      "source": [
        "#!ls /content/drive/MyDrive/IC/unirTeste/Structured/DBLP-GoogleScholar"
      ]
    },
    {
      "cell_type": "code",
      "execution_count": null,
      "metadata": {
        "colab": {
          "base_uri": "https://localhost:8080/"
        },
        "id": "qj-AXGxmR_gL",
        "outputId": "198280a1-ebcd-43b7-a037-530c5e526f79"
      },
      "outputs": [
        {
          "output_type": "execute_result",
          "data": {
            "text/plain": [
              "\"\\ndef merge_data(labeled, table_a, table_b, output):\\n  merged_csv = pd.read_csv(labeled).rename(columns={'ltable_id': 'left_id', 'rtable_id': 'right_id'})\\n  table_a_csv = pd.read_csv(table_a)\\n  table_a_csv = table_a_csv.rename(columns={col: 'left_' + col for col in table_a_csv.columns})\\n  table_b_csv = pd.read_csv(table_b)\\n  table_b_csv = table_b_csv.rename(columns={col: 'right_' + col for col in table_b_csv.columns})\\n  merged_csv = pd.merge(merged_csv, table_a_csv, on='left_id')\\n  merged_csv = pd.merge(merged_csv, table_b_csv, on='right_id')\\n  merged_csv['id'] = merged_csv[['left_id', 'right_id']].apply(lambda row: '_'.join([str(c) for c in row]), axis=1)\\n  del merged_csv['left_id']\\n  del merged_csv['right_id']\\n  merged_csv.to_csv(output, index=False)\\n\""
            ],
            "application/vnd.google.colaboratory.intrinsic+json": {
              "type": "string"
            }
          },
          "metadata": {},
          "execution_count": 8
        }
      ],
      "source": [
        "'''\n",
        "def merge_data(labeled, table_a, table_b, output):\n",
        "  merged_csv = pd.read_csv(labeled).rename(columns={'ltable_id': 'left_id', 'rtable_id': 'right_id'})\n",
        "  table_a_csv = pd.read_csv(table_a)\n",
        "  table_a_csv = table_a_csv.rename(columns={col: 'left_' + col for col in table_a_csv.columns})\n",
        "  table_b_csv = pd.read_csv(table_b)\n",
        "  table_b_csv = table_b_csv.rename(columns={col: 'right_' + col for col in table_b_csv.columns})\n",
        "  merged_csv = pd.merge(merged_csv, table_a_csv, on='left_id')\n",
        "  merged_csv = pd.merge(merged_csv, table_b_csv, on='right_id')\n",
        "  merged_csv['id'] = merged_csv[['left_id', 'right_id']].apply(lambda row: '_'.join([str(c) for c in row]), axis=1)\n",
        "  del merged_csv['left_id']\n",
        "  del merged_csv['right_id']\n",
        "  merged_csv.to_csv(output, index=False)\n",
        "'''"
      ]
    },
    {
      "cell_type": "code",
      "execution_count": null,
      "metadata": {
        "colab": {
          "base_uri": "https://localhost:8080/"
        },
        "id": "b9U49dPOSVKU",
        "outputId": "c0440bed-b820-42f6-fee2-278f6cb40e4f"
      },
      "outputs": [
        {
          "output_type": "execute_result",
          "data": {
            "text/plain": [
              "\"\\nmerge_data(\\n    '/content/drive/MyDrive/IC/unirTeste/Structured/DBLP-GoogleScholar/train.csv', \\n    '/content/drive/MyDrive/IC/unirTeste/Structured/DBLP-GoogleScholar/tableA.csv', \\n    '/content/drive/MyDrive/IC/unirTeste/Structured/DBLP-GoogleScholar/tableB.csv', \\n    '/content/drive/MyDrive/IC/unirTeste/Structured/DBLP-GoogleScholar/joined_train.csv')\\nmerge_data(\\n    '/content/drive/MyDrive/IC/unirTeste/Structured/DBLP-GoogleScholar/valid.csv', \\n    '/content/drive/MyDrive/IC/unirTeste/Structured/DBLP-GoogleScholar/tableA.csv', \\n    '/content/drive/MyDrive/IC/unirTeste/Structured/DBLP-GoogleScholar/tableB.csv', \\n    '/content/drive/MyDrive/IC/unirTeste/Structured/DBLP-GoogleScholar/joined_valid.csv')\\nmerge_data(\\n    '/content/drive/MyDrive/IC/unirTeste/Structured/DBLP-GoogleScholar/test.csv', \\n    '/content/drive/MyDrive/IC/unirTeste/Structured/DBLP-GoogleScholar/tableA.csv', \\n    '/content/drive/MyDrive/IC/unirTeste/Structured/DBLP-GoogleScholar/tableB.csv', \\n    '/content/drive/MyDrive/IC/unirTeste/Structured/DBLP-GoogleScholar/joined_test.csv')\\n\""
            ],
            "application/vnd.google.colaboratory.intrinsic+json": {
              "type": "string"
            }
          },
          "metadata": {},
          "execution_count": 9
        }
      ],
      "source": [
        "'''\n",
        "merge_data(\n",
        "    '/content/drive/MyDrive/IC/unirTeste/Structured/DBLP-GoogleScholar/train.csv', \n",
        "    '/content/drive/MyDrive/IC/unirTeste/Structured/DBLP-GoogleScholar/tableA.csv', \n",
        "    '/content/drive/MyDrive/IC/unirTeste/Structured/DBLP-GoogleScholar/tableB.csv', \n",
        "    '/content/drive/MyDrive/IC/unirTeste/Structured/DBLP-GoogleScholar/joined_train.csv')\n",
        "merge_data(\n",
        "    '/content/drive/MyDrive/IC/unirTeste/Structured/DBLP-GoogleScholar/valid.csv', \n",
        "    '/content/drive/MyDrive/IC/unirTeste/Structured/DBLP-GoogleScholar/tableA.csv', \n",
        "    '/content/drive/MyDrive/IC/unirTeste/Structured/DBLP-GoogleScholar/tableB.csv', \n",
        "    '/content/drive/MyDrive/IC/unirTeste/Structured/DBLP-GoogleScholar/joined_valid.csv')\n",
        "merge_data(\n",
        "    '/content/drive/MyDrive/IC/unirTeste/Structured/DBLP-GoogleScholar/test.csv', \n",
        "    '/content/drive/MyDrive/IC/unirTeste/Structured/DBLP-GoogleScholar/tableA.csv', \n",
        "    '/content/drive/MyDrive/IC/unirTeste/Structured/DBLP-GoogleScholar/tableB.csv', \n",
        "    '/content/drive/MyDrive/IC/unirTeste/Structured/DBLP-GoogleScholar/joined_test.csv')\n",
        "'''"
      ]
    },
    {
      "cell_type": "markdown",
      "metadata": {
        "id": "lu6QgmbDQJOv"
      },
      "source": [
        "To get an idea of how our data looks like, let's take a peek at the training dataset:"
      ]
    },
    {
      "cell_type": "code",
      "execution_count": null,
      "metadata": {
        "id": "lpsH6NEZQJOw"
      },
      "outputs": [],
      "source": [
        "#pd.read_csv('/content/drive/MyDrive/IC/ICReteste/Deepmatcher/TesteErros/TesteErrosLabel/Erros6_10/Datasets/Structured/DBLP-GoogleScholar/joined_train.csv').head()"
      ]
    },
    {
      "cell_type": "markdown",
      "metadata": {
        "id": "KuCrlwjeQs8i"
      },
      "source": [
        "## Step 1. Process labeled data\n",
        "\n",
        "Before we can use our data for training, `deepmatcher` needs to first load and process it in order to prepare it for neural network training. Currently `deepmatcher` only supports processing CSV files. Each CSV file is assumed to have the following kinds of columns:\n",
        "\n",
        "* **\"Left\" attributes (required):** Our goal is to match tuple pairs. \"Left\" attributes are columns that correspond to the \"left\" tuple or the first tuple in the tuple pair. These column names are expected to be prefixed with \"left_\" by default.\n",
        "* **\"Right\" attributes (required):** \"Right\" attributes are columns that correspond to the \"right\" tuple or the second tuple in the tuple pair. These column names are expected to be prefixed with \"right_\" by default.\n",
        "* **Label column (required for train, validation, test):** Column containing the labels (match or non-match) for each tuple pair. Expected to be named \"label\" by default\n",
        "* **ID column (required):** Column containing a unique ID for each tuple pair. This is for evaluation convenience.  Expected to be named \"id\" by default.\n",
        "\n",
        "More details on what data processing involves and ways to customize it are described in **[this notebook](https://nbviewer.jupyter.org/github/anhaidgroup/deepmatcher/blob/master/examples/data_processing.ipynb)**. \n",
        "\n",
        "### Processing labeled data\n",
        "In order to process our train, validation and test CSV files we call `dm.data.process` in the following code snippet which will load and process the CSV files and return three processed `MatchingDataset` objects respectively. These dataset objects will later be used for training and evaluation. The basic parameters to `dm.data.process` are as follows:\n",
        "\n",
        "* **path (required): ** The path where all data is stored. This includes train, validation and test. `deepmatcher` may create new files in this directory to store information about these data sets. This allows subsequent `dm.data.process` calls to be much faster.\n",
        "* **train (required): ** File name of training data in `path` directory.\n",
        "* **validation (required): ** File name of validation data in `path` directory.\n",
        "* **test (optional): ** File name of test data in `path` directory.\n",
        "* **ignore_columns (optional): ** Any columns in the CSV files that you may want to ignore for the purposes of training. These should be included here. \n",
        "\n",
        "Note that the train, validation and test CSVs must all share the same schema, i.e., they should have the same columns. Processing data involves several steps and can take several minutes to complete, especially if this is the first time you are running the `deepmatcher` package.\n",
        "\n",
        "NOTE: If you are running this in Colab, you may get a message saying 'Memory usage is close to the limit.' You can safely ignore it for now. We are working on reducing the memory footprint."
      ]
    },
    {
      "cell_type": "code",
      "execution_count": null,
      "metadata": {
        "colab": {
          "base_uri": "https://localhost:8080/"
        },
        "id": "EIIVF9-KsvqN",
        "outputId": "eabd7cb2-4c5c-4fe1-aae9-bbb9b85f8a38"
      },
      "outputs": [
        {
          "output_type": "stream",
          "name": "stdout",
          "text": [
            "--2022-08-09 20:53:11--  https://dl.fbaipublicfiles.com/fasttext/vectors-wiki/wiki.en.zip\n",
            "Resolving dl.fbaipublicfiles.com (dl.fbaipublicfiles.com)... 104.22.75.142, 104.22.74.142, 172.67.9.4, ...\n",
            "Connecting to dl.fbaipublicfiles.com (dl.fbaipublicfiles.com)|104.22.75.142|:443... connected.\n",
            "HTTP request sent, awaiting response... 200 OK\n",
            "Length: 10356881291 (9.6G) [application/zip]\n",
            "Saving to: ‘/root/.vector_cache/wiki.en.zip’\n",
            "\n",
            "wiki.en.zip         100%[===================>]   9.65G  16.8MB/s    in 10m 38s \n",
            "\n",
            "2022-08-09 21:03:50 (15.5 MB/s) - ‘/root/.vector_cache/wiki.en.zip’ saved [10356881291/10356881291]\n",
            "\n",
            "Archive:  /root/.vector_cache/wiki.en.zip\n",
            "  inflating: /root/.vector_cache/wiki.en.vec  \n",
            "  inflating: /root/.vector_cache/wiki.en.bin  \n"
          ]
        }
      ],
      "source": [
        "!wget https://dl.fbaipublicfiles.com/fasttext/vectors-wiki/wiki.en.zip --directory-prefix=/root/.vector_cache\n",
        "!unzip /root/.vector_cache/wiki.en.zip -d /root/.vector_cache/\n",
        "!rm /root/.vector_cache/wiki.en.vec"
      ]
    },
    {
      "cell_type": "code",
      "execution_count": null,
      "metadata": {
        "id": "WJ37wi1HC9EJ",
        "colab": {
          "base_uri": "https://localhost:8080/",
          "height": 70
        },
        "outputId": "b59de6e3-e856-4d2a-8189-4a8ef2ab4470"
      },
      "outputs": [
        {
          "output_type": "execute_result",
          "data": {
            "text/plain": [
              "\"train, validation, test = dm.data.process(\\n    path='/content/drive/MyDrive/IC/ICReteste/Deepmatcher/TesteErros/TesteErrosLabel/Erros6_10/Datasets/Dirty/DBLP-GoogleScholar/',\\n    train='joined_train.csv',\\n    validation='joined_valid.csv',\\n    test='joined_test_error.csv')\""
            ],
            "application/vnd.google.colaboratory.intrinsic+json": {
              "type": "string"
            }
          },
          "metadata": {},
          "execution_count": 12
        }
      ],
      "source": [
        "'''train, validation, test = dm.data.process(\n",
        "    path='/content/drive/MyDrive/IC/ICReteste/Deepmatcher/TesteErros/TesteErrosLabel/Erros6_10/Datasets/Dirty/DBLP-GoogleScholar/',\n",
        "    train='joined_train.csv',\n",
        "    validation='joined_valid.csv',\n",
        "    test='joined_test_error.csv')'''"
      ]
    },
    {
      "cell_type": "markdown",
      "metadata": {
        "id": "4RCEIm8MQJO3"
      },
      "source": [
        "#### Peeking at processed data\n",
        "Let's take a look at how the processed data looks like. To do this, we get the raw `pandas` table corresponding to the processed training dataset object. "
      ]
    },
    {
      "cell_type": "code",
      "execution_count": null,
      "metadata": {
        "colab": {
          "base_uri": "https://localhost:8080/",
          "height": 35
        },
        "id": "qmkzAzWOQJO3",
        "outputId": "fa8c0ade-156c-4071-fb3f-c27d80fdb5b7"
      },
      "outputs": [
        {
          "output_type": "execute_result",
          "data": {
            "text/plain": [
              "'train_table = train.get_raw_table()\\ntrain_table.head()'"
            ],
            "application/vnd.google.colaboratory.intrinsic+json": {
              "type": "string"
            }
          },
          "metadata": {},
          "execution_count": 13
        }
      ],
      "source": [
        "'''train_table = train.get_raw_table()\n",
        "train_table.head()'''"
      ]
    },
    {
      "cell_type": "markdown",
      "metadata": {
        "id": "hpo4JpshQJO6"
      },
      "source": [
        "The processed attribute values have been tokenized and lowercased so they may not look exactly the same as the input training data. These modifications help the neural network generalize better, i.e., perform better on data not trained on. "
      ]
    },
    {
      "cell_type": "markdown",
      "metadata": {
        "id": "8mr3oVzuQJO6"
      },
      "source": [
        "## Step 2. Define neural network model\n",
        "\n",
        "In this step you tell `deepmatcher` what kind of neural network you would like to use for entity matching. The easiest way to do this is to use one of the several kinds of neural network models that comes built-in with `deepmatcher`. To use a built-in network, construct a `dm.MatchingModel` as follows:\n",
        "\n",
        "`model = dm.MatchingModel(attr_summarizer='<TYPE>')`\n",
        "\n",
        "where `<TYPE>` is one of `sif`, `rnn`, `attention` or `hybrid`. If you are not familiar with what these mean, we strongly recommend taking a look at either **[slides from our talk on deepmatcher](http://bit.do/deepmatcher-talk)** for a high level overview, or **[our paper](http://pages.cs.wisc.edu/~anhai/papers1/deepmatcher-sigmod18.pdf)** for a more detailed explanation. Here we give briefly describe the intuition behind these four model types:\n",
        "* **sif:** This model considers the **words** present in each attribute value pair to determine a match or non-match. It does not take word order into account.\n",
        "* **rnn:** This model considers the **sequences of words** present in each attribute value pair to determine a match or non-match.\n",
        "* **attention:** This model considers the **alignment of words** present in each attribute value pair to determine a match or non-match. It does not take word order into account.\n",
        "* **hybrid:** This model considers the **alignment of sequences of words** present in each attribute value pair to determine a match or non-match. This is the default.\n",
        "\n",
        "`deepmatcher` is highly customizable and allows you to tune almost every aspect of the neural network model for your application scenario. **[This tutorial](https://nbviewer.jupyter.org/github/anhaidgroup/deepmatcher/blob/master/examples/matching_models.ipynb)** discusses the structure of `MatchingModel`s and how they can be customized.\n",
        "\n",
        "For this tutorial, let's create a `hybrid` model for entity matching:"
      ]
    },
    {
      "cell_type": "code",
      "execution_count": null,
      "metadata": {
        "id": "NwUE2jMXQJO7",
        "colab": {
          "base_uri": "https://localhost:8080/"
        },
        "outputId": "0e54893c-6a3f-41b5-ee17-76741aca1f77"
      },
      "outputs": [
        {
          "output_type": "execute_result",
          "data": {
            "text/plain": [
              "\"model = dm.MatchingModel(attr_summarizer='attention')\""
            ],
            "application/vnd.google.colaboratory.intrinsic+json": {
              "type": "string"
            }
          },
          "metadata": {},
          "execution_count": 14
        }
      ],
      "source": [
        "'''model = dm.MatchingModel(attr_summarizer='attention')'''"
      ]
    },
    {
      "cell_type": "markdown",
      "metadata": {
        "id": "7iLAHpuVQJO9"
      },
      "source": [
        "## Step 3. Train model\n",
        "\n",
        "Next, we train the defined neural network model using the processed training and validation data. To do so, we call the `run_train` method which takes the following basic parameters:\n",
        "\n",
        "* **train:** The processed training dataset object (of type `MatchingDataset`).\n",
        "* **validation:** The processed validation dataset object (of type `MatchingDataset`).\n",
        "* **epochs:** Number of times to go over the entire `train` data for training the model.\n",
        "* **batch_size:** Number of labeled examples (tuple pairs) to use for each training step. This value may be increased if you have a lot of training data and would like to speed up training. The optimal value is dataset dependent.\n",
        "* **best_save_path:** Path to save the best model.\n",
        "* **pos_neg_ratio**: The ratio of the weight of positive examples (matches) to weight of negative examples (non-matches). This value should be increased if you have fewer matches than non-matches in your data. The optimal value is dataset dependent.\n",
        "\n",
        "Many other aspects of the training algorithm can be customized. For details on this, please refer the API documentation for **[run_train]()**"
      ]
    },
    {
      "cell_type": "code",
      "execution_count": null,
      "metadata": {
        "id": "RIZclsK1QJO-",
        "colab": {
          "base_uri": "https://localhost:8080/"
        },
        "outputId": "680b40a1-5790-4d0f-f33c-9fac5ac21c70"
      },
      "outputs": [
        {
          "output_type": "execute_result",
          "data": {
            "text/plain": [
              "\"model.run_train(\\n    train,\\n    validation,\\n    epochs=15,\\n    batch_size=32,\\n    best_save_path='attention_model.pth',\\n    pos_neg_ratio=3)\""
            ],
            "application/vnd.google.colaboratory.intrinsic+json": {
              "type": "string"
            }
          },
          "metadata": {},
          "execution_count": 15
        }
      ],
      "source": [
        "'''model.run_train(\n",
        "    train,\n",
        "    validation,\n",
        "    epochs=15,\n",
        "    batch_size=32,\n",
        "    best_save_path='attention_model.pth',\n",
        "    pos_neg_ratio=3)'''"
      ]
    },
    {
      "cell_type": "markdown",
      "metadata": {
        "id": "0Qwnr7VZ3trW"
      },
      "source": [
        "## Novos Testes"
      ]
    },
    {
      "cell_type": "code",
      "execution_count": null,
      "metadata": {
        "id": "oo_L6Ddt4oEN",
        "colab": {
          "base_uri": "https://localhost:8080/"
        },
        "outputId": "92356235-36f8-4066-bfb8-30dd8b250477"
      },
      "outputs": [
        {
          "output_type": "stream",
          "name": "stdout",
          "text": [
            "Cloning into 'IC'...\n",
            "remote: Enumerating objects: 985, done.\u001b[K\n",
            "remote: Counting objects: 100% (55/55), done.\u001b[K\n",
            "remote: Compressing objects: 100% (51/51), done.\u001b[K\n",
            "remote: Total 985 (delta 16), reused 7 (delta 0), pack-reused 930\u001b[K\n",
            "Receiving objects: 100% (985/985), 252.10 MiB | 17.45 MiB/s, done.\n",
            "Resolving deltas: 100% (600/600), done.\n",
            "Checking out files: 100% (1274/1274), done.\n"
          ]
        }
      ],
      "source": [
        "!git clone https://github.com/pauloh48/IC.git"
      ]
    },
    {
      "cell_type": "markdown",
      "metadata": {
        "id": "3vKq-OdF309e"
      },
      "source": [
        "### RNN"
      ]
    },
    {
      "cell_type": "markdown",
      "metadata": {
        "id": "fAVxQf6N3-T9"
      },
      "source": [
        "#### STRUCTURED"
      ]
    },
    {
      "cell_type": "markdown",
      "metadata": {
        "id": "jKcaukyN4dkT"
      },
      "source": [
        "##### Amazon-Google"
      ]
    },
    {
      "cell_type": "code",
      "execution_count": null,
      "metadata": {
        "id": "DhNKPMVA4YwE"
      },
      "outputs": [],
      "source": [
        "train, validation, test = dm.data.process(\n",
        "    path='/content/IC/datasesErros/AADatasets/Structured/Amazon-Google/',\n",
        "    train='joined_train.csv',\n",
        "    validation='joined_valid.csv',\n",
        "    test='joined_test.csv')"
      ]
    },
    {
      "cell_type": "code",
      "execution_count": null,
      "metadata": {
        "id": "_HYNTpDo4BIN"
      },
      "outputs": [],
      "source": [
        "model = dm.MatchingModel(attr_summarizer='rnn')"
      ]
    },
    {
      "cell_type": "code",
      "execution_count": null,
      "metadata": {
        "colab": {
          "base_uri": "https://localhost:8080/"
        },
        "id": "BJTNu1u-4I7m",
        "outputId": "aff4aa54-d4a6-4612-f7b5-d423573f5ed7"
      },
      "outputs": [
        {
          "output_type": "stream",
          "name": "stderr",
          "text": [
            "/usr/local/lib/python3.7/dist-packages/torch/nn/modules/module.py:949: UserWarning: Using non-full backward hooks on a Module that does not take as input a single Tensor or a tuple of Tensors is deprecated and will be removed in future versions. This hook will be missing some of the grad_input. Please use register_full_backward_hook to get the documented behavior.\n",
            "  warnings.warn(\"Using non-full backward hooks on a Module that does not take as input a \"\n",
            "/usr/local/lib/python3.7/dist-packages/torch/nn/modules/module.py:974: UserWarning: Using a non-full backward hook when the forward contains multiple autograd Nodes is deprecated and will be removed in future versions. This hook will be missing some grad_input. Please use register_full_backward_hook to get the documented behavior.\n",
            "  warnings.warn(\"Using a non-full backward hook when the forward contains multiple autograd Nodes \"\n"
          ]
        },
        {
          "output_type": "stream",
          "name": "stdout",
          "text": [
            "* Number of trainable parameters: 1762802\n",
            "===>  TRAIN Epoch 1\n"
          ]
        },
        {
          "output_type": "stream",
          "name": "stderr",
          "text": [
            "/usr/local/lib/python3.7/dist-packages/torch/nn/modules/module.py:939: UserWarning: Using non-full backward hooks on a Module that does not return a single Tensor or a tuple of Tensors is deprecated and will be removed in future versions. This hook will be missing some of the grad_output. Please use register_full_backward_hook to get the documented behavior.\n",
            "  warnings.warn(\"Using non-full backward hooks on a Module that does not return a \"\n",
            "/usr/local/lib/python3.7/dist-packages/torch/nn/functional.py:2742: UserWarning: reduction: 'mean' divides the total loss by both the batch size and the support size.'batchmean' divides only by the batch size, and aligns with the KL div math definition.'mean' will be changed to behave the same as 'batchmean' in the next major release.\n",
            "  \"reduction: 'mean' divides the total loss by both the batch size and the support size.\"\n",
            "0% [██████████████████████████████] 100% | ETA: 00:00:00\n",
            "Total time elapsed: 00:00:13\n"
          ]
        },
        {
          "output_type": "stream",
          "name": "stdout",
          "text": [
            "Finished Epoch 1 || Run Time:    7.6 | Load Time:    6.1 || F1:  27.96 | Prec:  37.03 | Rec:  22.46 || Ex/s: 501.68\n",
            "\n",
            "===>  EVAL Epoch 1\n"
          ]
        },
        {
          "output_type": "stream",
          "name": "stderr",
          "text": [
            "0% [██████████████] 100% | ETA: 00:00:00\n",
            "Total time elapsed: 00:00:02\n"
          ]
        },
        {
          "output_type": "stream",
          "name": "stdout",
          "text": [
            "Finished Epoch 1 || Run Time:    0.8 | Load Time:    1.4 || F1:  47.83 | Prec:  41.51 | Rec:  56.41 || Ex/s: 1053.17\n",
            "\n",
            "* Best F1: tensor(47.8261, device='cuda:0')\n",
            "Saving best model...\n",
            "Done.\n",
            "---------------------\n",
            "\n",
            "===>  TRAIN Epoch 2\n"
          ]
        },
        {
          "output_type": "stream",
          "name": "stderr",
          "text": [
            "0% [██████████████████████████████] 100% | ETA: 00:00:00\n",
            "Total time elapsed: 00:00:09\n"
          ]
        },
        {
          "output_type": "stream",
          "name": "stdout",
          "text": [
            "Finished Epoch 2 || Run Time:    5.3 | Load Time:    4.4 || F1:  59.93 | Prec:  52.17 | Rec:  70.39 || Ex/s: 710.26\n",
            "\n",
            "===>  EVAL Epoch 2\n"
          ]
        },
        {
          "output_type": "stream",
          "name": "stderr",
          "text": [
            "0% [██████████████] 100% | ETA: 00:00:00\n",
            "Total time elapsed: 00:00:02\n"
          ]
        },
        {
          "output_type": "stream",
          "name": "stdout",
          "text": [
            "Finished Epoch 2 || Run Time:    0.8 | Load Time:    1.4 || F1:  56.18 | Prec:  46.50 | Rec:  70.94 || Ex/s: 1044.31\n",
            "\n",
            "* Best F1: tensor(56.1760, device='cuda:0')\n",
            "Saving best model...\n",
            "Done.\n",
            "---------------------\n",
            "\n",
            "===>  TRAIN Epoch 3\n"
          ]
        },
        {
          "output_type": "stream",
          "name": "stderr",
          "text": [
            "0% [██████████████████████████████] 100% | ETA: 00:00:00\n",
            "Total time elapsed: 00:00:09\n"
          ]
        },
        {
          "output_type": "stream",
          "name": "stdout",
          "text": [
            "Finished Epoch 3 || Run Time:    5.3 | Load Time:    4.4 || F1:  75.55 | Prec:  66.20 | Rec:  87.98 || Ex/s: 708.88\n",
            "\n",
            "===>  EVAL Epoch 3\n"
          ]
        },
        {
          "output_type": "stream",
          "name": "stderr",
          "text": [
            "0% [██████████████] 100% | ETA: 00:00:00\n",
            "Total time elapsed: 00:00:02\n"
          ]
        },
        {
          "output_type": "stream",
          "name": "stdout",
          "text": [
            "Finished Epoch 3 || Run Time:    0.8 | Load Time:    1.4 || F1:  56.70 | Prec:  47.80 | Rec:  69.66 || Ex/s: 1043.66\n",
            "\n",
            "* Best F1: tensor(56.6957, device='cuda:0')\n",
            "Saving best model...\n",
            "Done.\n",
            "---------------------\n",
            "\n",
            "===>  TRAIN Epoch 4\n"
          ]
        },
        {
          "output_type": "stream",
          "name": "stderr",
          "text": [
            "0% [██████████████████████████████] 100% | ETA: 00:00:00\n",
            "Total time elapsed: 00:00:09\n"
          ]
        },
        {
          "output_type": "stream",
          "name": "stdout",
          "text": [
            "Finished Epoch 4 || Run Time:    5.3 | Load Time:    4.4 || F1:  85.94 | Prec:  79.16 | Rec:  93.99 || Ex/s: 708.98\n",
            "\n",
            "===>  EVAL Epoch 4\n"
          ]
        },
        {
          "output_type": "stream",
          "name": "stderr",
          "text": [
            "0% [██████████████] 100% | ETA: 00:00:00\n",
            "Total time elapsed: 00:00:02\n"
          ]
        },
        {
          "output_type": "stream",
          "name": "stdout",
          "text": [
            "Finished Epoch 4 || Run Time:    0.8 | Load Time:    1.4 || F1:  56.31 | Prec:  49.20 | Rec:  65.81 || Ex/s: 1034.27\n",
            "\n",
            "---------------------\n",
            "\n",
            "===>  TRAIN Epoch 5\n"
          ]
        },
        {
          "output_type": "stream",
          "name": "stderr",
          "text": [
            "0% [██████████████████████████████] 100% | ETA: 00:00:00\n",
            "Total time elapsed: 00:00:09\n"
          ]
        },
        {
          "output_type": "stream",
          "name": "stdout",
          "text": [
            "Finished Epoch 5 || Run Time:    5.3 | Load Time:    4.4 || F1:  90.68 | Prec:  85.35 | Rec:  96.71 || Ex/s: 712.71\n",
            "\n",
            "===>  EVAL Epoch 5\n"
          ]
        },
        {
          "output_type": "stream",
          "name": "stderr",
          "text": [
            "0% [██████████████] 100% | ETA: 00:00:00\n",
            "Total time elapsed: 00:00:02\n"
          ]
        },
        {
          "output_type": "stream",
          "name": "stdout",
          "text": [
            "Finished Epoch 5 || Run Time:    0.8 | Load Time:    1.4 || F1:  59.77 | Prec:  53.36 | Rec:  67.95 || Ex/s: 1041.79\n",
            "\n",
            "* Best F1: tensor(59.7744, device='cuda:0')\n",
            "Saving best model...\n",
            "Done.\n",
            "---------------------\n",
            "\n",
            "===>  TRAIN Epoch 6\n"
          ]
        },
        {
          "output_type": "stream",
          "name": "stderr",
          "text": [
            "0% [██████████████████████████████] 100% | ETA: 00:00:00\n",
            "Total time elapsed: 00:00:09\n"
          ]
        },
        {
          "output_type": "stream",
          "name": "stdout",
          "text": [
            "Finished Epoch 6 || Run Time:    5.3 | Load Time:    4.4 || F1:  93.64 | Prec:  89.66 | Rec:  98.00 || Ex/s: 710.72\n",
            "\n",
            "===>  EVAL Epoch 6\n"
          ]
        },
        {
          "output_type": "stream",
          "name": "stderr",
          "text": [
            "0% [██████████████] 100% | ETA: 00:00:00\n",
            "Total time elapsed: 00:00:02\n"
          ]
        },
        {
          "output_type": "stream",
          "name": "stdout",
          "text": [
            "Finished Epoch 6 || Run Time:    0.8 | Load Time:    1.4 || F1:  59.23 | Prec:  56.37 | Rec:  62.39 || Ex/s: 1045.95\n",
            "\n",
            "---------------------\n",
            "\n",
            "===>  TRAIN Epoch 7\n"
          ]
        },
        {
          "output_type": "stream",
          "name": "stderr",
          "text": [
            "0% [██████████████████████████████] 100% | ETA: 00:00:00\n",
            "Total time elapsed: 00:00:09\n"
          ]
        },
        {
          "output_type": "stream",
          "name": "stdout",
          "text": [
            "Finished Epoch 7 || Run Time:    5.3 | Load Time:    4.4 || F1:  96.05 | Prec:  93.15 | Rec:  99.14 || Ex/s: 710.62\n",
            "\n",
            "===>  EVAL Epoch 7\n"
          ]
        },
        {
          "output_type": "stream",
          "name": "stderr",
          "text": [
            "0% [██████████████] 100% | ETA: 00:00:00\n",
            "Total time elapsed: 00:00:02\n"
          ]
        },
        {
          "output_type": "stream",
          "name": "stdout",
          "text": [
            "Finished Epoch 7 || Run Time:    0.8 | Load Time:    1.4 || F1:  59.92 | Prec:  59.17 | Rec:  60.68 || Ex/s: 1047.90\n",
            "\n",
            "* Best F1: tensor(59.9156, device='cuda:0')\n",
            "Saving best model...\n",
            "Done.\n",
            "---------------------\n",
            "\n",
            "===>  TRAIN Epoch 8\n"
          ]
        },
        {
          "output_type": "stream",
          "name": "stderr",
          "text": [
            "0% [██████████████████████████████] 100% | ETA: 00:00:00\n",
            "Total time elapsed: 00:00:09\n"
          ]
        },
        {
          "output_type": "stream",
          "name": "stdout",
          "text": [
            "Finished Epoch 8 || Run Time:    5.3 | Load Time:    4.4 || F1:  96.72 | Prec:  94.54 | Rec:  99.00 || Ex/s: 708.55\n",
            "\n",
            "===>  EVAL Epoch 8\n"
          ]
        },
        {
          "output_type": "stream",
          "name": "stderr",
          "text": [
            "0% [██████████████] 100% | ETA: 00:00:00\n",
            "Total time elapsed: 00:00:02\n"
          ]
        },
        {
          "output_type": "stream",
          "name": "stdout",
          "text": [
            "Finished Epoch 8 || Run Time:    0.8 | Load Time:    1.4 || F1:  60.13 | Prec:  61.33 | Rec:  58.97 || Ex/s: 1028.32\n",
            "\n",
            "* Best F1: tensor(60.1307, device='cuda:0')\n",
            "Saving best model...\n",
            "Done.\n",
            "---------------------\n",
            "\n",
            "===>  TRAIN Epoch 9\n"
          ]
        },
        {
          "output_type": "stream",
          "name": "stderr",
          "text": [
            "0% [██████████████████████████████] 100% | ETA: 00:00:00\n",
            "Total time elapsed: 00:00:10\n"
          ]
        },
        {
          "output_type": "stream",
          "name": "stdout",
          "text": [
            "Finished Epoch 9 || Run Time:    5.6 | Load Time:    4.7 || F1:  97.54 | Prec:  95.73 | Rec:  99.43 || Ex/s: 667.85\n",
            "\n",
            "===>  EVAL Epoch 9\n"
          ]
        },
        {
          "output_type": "stream",
          "name": "stderr",
          "text": [
            "0% [██████████████] 100% | ETA: 00:00:00\n",
            "Total time elapsed: 00:00:02\n"
          ]
        },
        {
          "output_type": "stream",
          "name": "stdout",
          "text": [
            "Finished Epoch 9 || Run Time:    0.8 | Load Time:    1.4 || F1:  58.80 | Prec:  64.14 | Rec:  54.27 || Ex/s: 1042.46\n",
            "\n",
            "---------------------\n",
            "\n",
            "===>  TRAIN Epoch 10\n"
          ]
        },
        {
          "output_type": "stream",
          "name": "stderr",
          "text": [
            "0% [██████████████████████████████] 100% | ETA: 00:00:00\n",
            "Total time elapsed: 00:00:09\n"
          ]
        },
        {
          "output_type": "stream",
          "name": "stdout",
          "text": [
            "Finished Epoch 10 || Run Time:    5.3 | Load Time:    4.3 || F1:  98.17 | Prec:  96.80 | Rec:  99.57 || Ex/s: 714.49\n",
            "\n",
            "===>  EVAL Epoch 10\n"
          ]
        },
        {
          "output_type": "stream",
          "name": "stderr",
          "text": [
            "0% [██████████████] 100% | ETA: 00:00:00\n",
            "Total time elapsed: 00:00:02\n"
          ]
        },
        {
          "output_type": "stream",
          "name": "stdout",
          "text": [
            "Finished Epoch 10 || Run Time:    0.8 | Load Time:    1.5 || F1:  59.07 | Prec:  64.80 | Rec:  54.27 || Ex/s: 981.16\n",
            "\n",
            "---------------------\n",
            "\n",
            "===>  TRAIN Epoch 11\n"
          ]
        },
        {
          "output_type": "stream",
          "name": "stderr",
          "text": [
            "0% [██████████████████████████████] 100% | ETA: 00:00:00\n",
            "Total time elapsed: 00:00:09\n"
          ]
        },
        {
          "output_type": "stream",
          "name": "stdout",
          "text": [
            "Finished Epoch 11 || Run Time:    5.5 | Load Time:    4.4 || F1:  98.37 | Prec:  97.21 | Rec:  99.57 || Ex/s: 696.79\n",
            "\n",
            "===>  EVAL Epoch 11\n"
          ]
        },
        {
          "output_type": "stream",
          "name": "stderr",
          "text": [
            "0% [██████████████] 100% | ETA: 00:00:00\n",
            "Total time elapsed: 00:00:02\n"
          ]
        },
        {
          "output_type": "stream",
          "name": "stdout",
          "text": [
            "Finished Epoch 11 || Run Time:    0.8 | Load Time:    1.4 || F1:  58.33 | Prec:  63.64 | Rec:  53.85 || Ex/s: 1044.95\n",
            "\n",
            "---------------------\n",
            "\n",
            "===>  TRAIN Epoch 12\n"
          ]
        },
        {
          "output_type": "stream",
          "name": "stderr",
          "text": [
            "0% [██████████████████████████████] 100% | ETA: 00:00:00\n",
            "Total time elapsed: 00:00:12\n"
          ]
        },
        {
          "output_type": "stream",
          "name": "stdout",
          "text": [
            "Finished Epoch 12 || Run Time:    6.8 | Load Time:    5.5 || F1:  98.59 | Prec:  97.48 | Rec:  99.71 || Ex/s: 559.45\n",
            "\n",
            "===>  EVAL Epoch 12\n"
          ]
        },
        {
          "output_type": "stream",
          "name": "stderr",
          "text": [
            "0% [██████████████] 100% | ETA: 00:00:00\n",
            "Total time elapsed: 00:00:02\n"
          ]
        },
        {
          "output_type": "stream",
          "name": "stdout",
          "text": [
            "Finished Epoch 12 || Run Time:    0.8 | Load Time:    1.4 || F1:  58.47 | Prec:  63.96 | Rec:  53.85 || Ex/s: 1045.90\n",
            "\n",
            "---------------------\n",
            "\n",
            "===>  TRAIN Epoch 13\n"
          ]
        },
        {
          "output_type": "stream",
          "name": "stderr",
          "text": [
            "0% [██████████████████████████████] 100% | ETA: 00:00:00\n",
            "Total time elapsed: 00:00:09\n"
          ]
        },
        {
          "output_type": "stream",
          "name": "stdout",
          "text": [
            "Finished Epoch 13 || Run Time:    5.3 | Load Time:    4.3 || F1:  98.66 | Prec:  97.62 | Rec:  99.71 || Ex/s: 714.53\n",
            "\n",
            "===>  EVAL Epoch 13\n"
          ]
        },
        {
          "output_type": "stream",
          "name": "stderr",
          "text": [
            "0% [██████████████] 100% | ETA: 00:00:00\n",
            "Total time elapsed: 00:00:02\n"
          ]
        },
        {
          "output_type": "stream",
          "name": "stdout",
          "text": [
            "Finished Epoch 13 || Run Time:    0.8 | Load Time:    1.4 || F1:  58.55 | Prec:  64.77 | Rec:  53.42 || Ex/s: 1041.77\n",
            "\n",
            "---------------------\n",
            "\n",
            "===>  TRAIN Epoch 14\n"
          ]
        },
        {
          "output_type": "stream",
          "name": "stderr",
          "text": [
            "0% [██████████████████████████████] 100% | ETA: 00:00:00\n",
            "Total time elapsed: 00:00:09\n"
          ]
        },
        {
          "output_type": "stream",
          "name": "stdout",
          "text": [
            "Finished Epoch 14 || Run Time:    5.3 | Load Time:    4.4 || F1:  98.73 | Prec:  97.76 | Rec:  99.71 || Ex/s: 712.32\n",
            "\n",
            "===>  EVAL Epoch 14\n"
          ]
        },
        {
          "output_type": "stream",
          "name": "stderr",
          "text": [
            "0% [██████████████] 100% | ETA: 00:00:00\n",
            "Total time elapsed: 00:00:02\n"
          ]
        },
        {
          "output_type": "stream",
          "name": "stdout",
          "text": [
            "Finished Epoch 14 || Run Time:    0.8 | Load Time:    1.4 || F1:  58.55 | Prec:  64.77 | Rec:  53.42 || Ex/s: 1046.98\n",
            "\n",
            "---------------------\n",
            "\n",
            "===>  TRAIN Epoch 15\n"
          ]
        },
        {
          "output_type": "stream",
          "name": "stderr",
          "text": [
            "0% [██████████████████████████████] 100% | ETA: 00:00:00\n",
            "Total time elapsed: 00:00:09\n"
          ]
        },
        {
          "output_type": "stream",
          "name": "stdout",
          "text": [
            "Finished Epoch 15 || Run Time:    5.3 | Load Time:    4.4 || F1:  98.80 | Prec:  97.89 | Rec:  99.71 || Ex/s: 714.16\n",
            "\n",
            "===>  EVAL Epoch 15\n"
          ]
        },
        {
          "output_type": "stream",
          "name": "stderr",
          "text": [
            "0% [██████████████] 100% | ETA: 00:00:00\n",
            "Total time elapsed: 00:00:02\n"
          ]
        },
        {
          "output_type": "stream",
          "name": "stdout",
          "text": [
            "Finished Epoch 15 || Run Time:    0.8 | Load Time:    1.4 || F1:  58.69 | Prec:  65.10 | Rec:  53.42 || Ex/s: 1046.59\n",
            "\n",
            "---------------------\n",
            "\n",
            "Loading best model...\n",
            "Training done.\n"
          ]
        },
        {
          "output_type": "execute_result",
          "data": {
            "text/plain": [
              "tensor(60.1307, device='cuda:0')"
            ]
          },
          "metadata": {},
          "execution_count": 13
        }
      ],
      "source": [
        "model.run_train(\n",
        "    train,\n",
        "    validation,\n",
        "    epochs=15,\n",
        "    batch_size=32,\n",
        "    best_save_path='rnn_model.pth',\n",
        "    pos_neg_ratio=3)"
      ]
    },
    {
      "cell_type": "code",
      "execution_count": null,
      "metadata": {
        "colab": {
          "base_uri": "https://localhost:8080/"
        },
        "id": "E6vG2R6E3w81",
        "outputId": "c9a2d276-5b10-46c4-d6be-c3b4bc8232bf"
      },
      "outputs": [
        {
          "output_type": "stream",
          "name": "stdout",
          "text": [
            "===>  EVAL Epoch 8\n"
          ]
        },
        {
          "output_type": "stream",
          "name": "stderr",
          "text": [
            "/usr/local/lib/python3.7/dist-packages/torch/nn/modules/module.py:949: UserWarning: Using non-full backward hooks on a Module that does not take as input a single Tensor or a tuple of Tensors is deprecated and will be removed in future versions. This hook will be missing some of the grad_input. Please use register_full_backward_hook to get the documented behavior.\n",
            "  warnings.warn(\"Using non-full backward hooks on a Module that does not take as input a \"\n",
            "/usr/local/lib/python3.7/dist-packages/torch/nn/modules/module.py:939: UserWarning: Using non-full backward hooks on a Module that does not return a single Tensor or a tuple of Tensors is deprecated and will be removed in future versions. This hook will be missing some of the grad_output. Please use register_full_backward_hook to get the documented behavior.\n",
            "  warnings.warn(\"Using non-full backward hooks on a Module that does not return a \"\n",
            "/usr/local/lib/python3.7/dist-packages/torch/nn/modules/module.py:974: UserWarning: Using a non-full backward hook when the forward contains multiple autograd Nodes is deprecated and will be removed in future versions. This hook will be missing some grad_input. Please use register_full_backward_hook to get the documented behavior.\n",
            "  warnings.warn(\"Using a non-full backward hook when the forward contains multiple autograd Nodes \"\n",
            "0% [██████████████] 100% | ETA: 00:00:00\n",
            "Total time elapsed: 00:00:02\n"
          ]
        },
        {
          "output_type": "stream",
          "name": "stdout",
          "text": [
            "Finished Epoch 8 || Run Time:    0.8 | Load Time:    1.5 || F1:  61.17 | Prec:  62.11 | Rec:  60.26 || Ex/s: 999.18\n",
            "\n"
          ]
        },
        {
          "output_type": "execute_result",
          "data": {
            "text/plain": [
              "tensor(61.1714, device='cuda:0')"
            ]
          },
          "metadata": {},
          "execution_count": 14
        }
      ],
      "source": [
        "# Compute F1 on test set\n",
        "model.run_eval(test)"
      ]
    },
    {
      "cell_type": "markdown",
      "metadata": {
        "id": "5FgaGRh85u3W"
      },
      "source": [
        "##### Beer"
      ]
    },
    {
      "cell_type": "code",
      "execution_count": null,
      "metadata": {
        "colab": {
          "base_uri": "https://localhost:8080/"
        },
        "id": "6FIw9z855u3g",
        "outputId": "6a06f4e3-30f0-4c86-ceb6-aa6b9b2b3efc"
      },
      "outputs": [
        {
          "output_type": "stream",
          "name": "stderr",
          "text": [
            "WARNING:deepmatcher.data.dataset:Rebuilding data cache because: ['One or more data files have been modified.', 'Data file list has changed.']\n",
            "\n",
            "Reading and processing data from \"/content/IC/datasesErros/AADatasets/Structured/Beer/joined_train.csv\"\n",
            "0% [############################# ] 100% | ETA: 00:00:00\n",
            "Reading and processing data from \"/content/IC/datasesErros/AADatasets/Structured/Beer/joined_valid.csv\"\n",
            "0% [############################# ] 100% | ETA: 00:00:00\n",
            "Reading and processing data from \"/content/IC/datasesErros/AADatasets/Structured/Beer/joined_test.csv\"\n",
            "0% [############################# ] 100% | ETA: 00:00:00\n",
            "Building vocabulary\n",
            "0% [#] 100% | ETA: 00:00:00\n",
            "Total time elapsed: 00:00:00\n",
            "\n",
            "Computing principal components\n",
            "0% [#] 100% | ETA: 00:00:00\n",
            "Total time elapsed: 00:00:00\n"
          ]
        }
      ],
      "source": [
        "train, validation, test = dm.data.process(\n",
        "    path='/content/IC/datasesErros/AADatasets/Structured/Beer/',\n",
        "    train='joined_train.csv',\n",
        "    validation='joined_valid.csv',\n",
        "    test='joined_test.csv')"
      ]
    },
    {
      "cell_type": "code",
      "execution_count": null,
      "metadata": {
        "id": "hb0ZCvlg5u3h"
      },
      "outputs": [],
      "source": [
        "model = dm.MatchingModel(attr_summarizer='rnn')"
      ]
    },
    {
      "cell_type": "code",
      "execution_count": null,
      "metadata": {
        "colab": {
          "base_uri": "https://localhost:8080/"
        },
        "id": "UtG97gkc5u3h",
        "outputId": "889953d6-f755-426d-8847-6fe2d44c88f3"
      },
      "outputs": [
        {
          "output_type": "stream",
          "name": "stdout",
          "text": [
            "* Number of trainable parameters: 2169602\n",
            "===>  TRAIN Epoch 1\n"
          ]
        },
        {
          "output_type": "stream",
          "name": "stderr",
          "text": [
            "/usr/local/lib/python3.7/dist-packages/torch/nn/modules/module.py:949: UserWarning: Using non-full backward hooks on a Module that does not take as input a single Tensor or a tuple of Tensors is deprecated and will be removed in future versions. This hook will be missing some of the grad_input. Please use register_full_backward_hook to get the documented behavior.\n",
            "  warnings.warn(\"Using non-full backward hooks on a Module that does not take as input a \"\n",
            "/usr/local/lib/python3.7/dist-packages/torch/nn/modules/module.py:974: UserWarning: Using a non-full backward hook when the forward contains multiple autograd Nodes is deprecated and will be removed in future versions. This hook will be missing some grad_input. Please use register_full_backward_hook to get the documented behavior.\n",
            "  warnings.warn(\"Using a non-full backward hook when the forward contains multiple autograd Nodes \"\n",
            "/usr/local/lib/python3.7/dist-packages/torch/nn/modules/module.py:939: UserWarning: Using non-full backward hooks on a Module that does not return a single Tensor or a tuple of Tensors is deprecated and will be removed in future versions. This hook will be missing some of the grad_output. Please use register_full_backward_hook to get the documented behavior.\n",
            "  warnings.warn(\"Using non-full backward hooks on a Module that does not return a \"\n",
            "/usr/local/lib/python3.7/dist-packages/torch/nn/functional.py:2742: UserWarning: reduction: 'mean' divides the total loss by both the batch size and the support size.'batchmean' divides only by the batch size, and aligns with the KL div math definition.'mean' will be changed to behave the same as 'batchmean' in the next major release.\n",
            "  \"reduction: 'mean' divides the total loss by both the batch size and the support size.\"\n",
            "0% [█] 100% | ETA: 00:00:00\n",
            "Total time elapsed: 00:00:00\n"
          ]
        },
        {
          "output_type": "stream",
          "name": "stdout",
          "text": [
            "Finished Epoch 1 || Run Time:    0.3 | Load Time:    0.3 || F1:  11.43 | Prec:  13.33 | Rec:  10.00 || Ex/s: 421.21\n",
            "\n",
            "===>  EVAL Epoch 1\n",
            "Finished Epoch 1 || Run Time:    0.0 | Load Time:    0.1 || F1:   0.00 | Prec:   0.00 | Rec:   0.00 || Ex/s: 580.89\n",
            "\n",
            "* Best F1: tensor(0., device='cuda:0')\n",
            "Saving best model...\n",
            "Done.\n",
            "---------------------\n",
            "\n",
            "===>  TRAIN Epoch 2\n"
          ]
        },
        {
          "output_type": "stream",
          "name": "stderr",
          "text": [
            "0% [█] 100% | ETA: 00:00:00\n",
            "Total time elapsed: 00:00:00\n"
          ]
        },
        {
          "output_type": "stream",
          "name": "stdout",
          "text": [
            "Finished Epoch 2 || Run Time:    0.3 | Load Time:    0.3 || F1:  36.73 | Prec: 100.00 | Rec:  22.50 || Ex/s: 440.89\n",
            "\n",
            "===>  EVAL Epoch 2\n",
            "Finished Epoch 2 || Run Time:    0.0 | Load Time:    0.1 || F1:  23.53 | Prec:  66.67 | Rec:  14.29 || Ex/s: 581.98\n",
            "\n",
            "* Best F1: tensor(23.5294, device='cuda:0')\n",
            "Saving best model...\n",
            "Done.\n",
            "---------------------\n",
            "\n",
            "===>  TRAIN Epoch 3\n"
          ]
        },
        {
          "output_type": "stream",
          "name": "stderr",
          "text": [
            "0% [█] 100% | ETA: 00:00:00\n",
            "Total time elapsed: 00:00:00\n"
          ]
        },
        {
          "output_type": "stream",
          "name": "stdout",
          "text": [
            "Finished Epoch 3 || Run Time:    0.3 | Load Time:    0.3 || F1:  78.72 | Prec:  68.52 | Rec:  92.50 || Ex/s: 441.64\n",
            "\n",
            "===>  EVAL Epoch 3\n",
            "Finished Epoch 3 || Run Time:    0.0 | Load Time:    0.1 || F1:  52.17 | Prec:  37.50 | Rec:  85.71 || Ex/s: 635.67\n",
            "\n",
            "* Best F1: tensor(52.1739, device='cuda:0')\n",
            "Saving best model...\n",
            "Done.\n",
            "---------------------\n",
            "\n",
            "===>  TRAIN Epoch 4\n"
          ]
        },
        {
          "output_type": "stream",
          "name": "stderr",
          "text": [
            "0% [█] 100% | ETA: 00:00:00\n",
            "Total time elapsed: 00:00:00\n"
          ]
        },
        {
          "output_type": "stream",
          "name": "stdout",
          "text": [
            "Finished Epoch 4 || Run Time:    0.3 | Load Time:    0.3 || F1:  82.98 | Prec:  72.22 | Rec:  97.50 || Ex/s: 437.95\n",
            "\n",
            "===>  EVAL Epoch 4\n",
            "Finished Epoch 4 || Run Time:    0.0 | Load Time:    0.1 || F1:  59.46 | Prec:  47.83 | Rec:  78.57 || Ex/s: 615.38\n",
            "\n",
            "* Best F1: tensor(59.4595, device='cuda:0')\n",
            "Saving best model...\n",
            "Done.\n",
            "---------------------\n",
            "\n",
            "===>  TRAIN Epoch 5\n"
          ]
        },
        {
          "output_type": "stream",
          "name": "stderr",
          "text": [
            "0% [█] 100% | ETA: 00:00:00\n",
            "Total time elapsed: 00:00:00\n"
          ]
        },
        {
          "output_type": "stream",
          "name": "stdout",
          "text": [
            "Finished Epoch 5 || Run Time:    0.3 | Load Time:    0.3 || F1:  91.76 | Prec:  86.67 | Rec:  97.50 || Ex/s: 429.92\n",
            "\n",
            "===>  EVAL Epoch 5\n",
            "Finished Epoch 5 || Run Time:    0.0 | Load Time:    0.1 || F1:  58.54 | Prec:  44.44 | Rec:  85.71 || Ex/s: 630.54\n",
            "\n",
            "---------------------\n",
            "\n",
            "===>  TRAIN Epoch 6\n"
          ]
        },
        {
          "output_type": "stream",
          "name": "stderr",
          "text": [
            "0% [█] 100% | ETA: 00:00:00\n",
            "Total time elapsed: 00:00:00\n"
          ]
        },
        {
          "output_type": "stream",
          "name": "stdout",
          "text": [
            "Finished Epoch 6 || Run Time:    0.3 | Load Time:    0.3 || F1:  94.12 | Prec:  88.89 | Rec: 100.00 || Ex/s: 442.27\n",
            "\n",
            "===>  EVAL Epoch 6\n",
            "Finished Epoch 6 || Run Time:    0.0 | Load Time:    0.1 || F1:  59.09 | Prec:  43.33 | Rec:  92.86 || Ex/s: 633.80\n",
            "\n",
            "---------------------\n",
            "\n",
            "===>  TRAIN Epoch 7\n"
          ]
        },
        {
          "output_type": "stream",
          "name": "stderr",
          "text": [
            "0% [█] 100% | ETA: 00:00:00\n",
            "Total time elapsed: 00:00:00\n"
          ]
        },
        {
          "output_type": "stream",
          "name": "stdout",
          "text": [
            "Finished Epoch 7 || Run Time:    0.3 | Load Time:    0.3 || F1:  96.39 | Prec:  93.02 | Rec: 100.00 || Ex/s: 448.34\n",
            "\n",
            "===>  EVAL Epoch 7\n",
            "Finished Epoch 7 || Run Time:    0.0 | Load Time:    0.1 || F1:  54.17 | Prec:  38.24 | Rec:  92.86 || Ex/s: 621.24\n",
            "\n",
            "---------------------\n",
            "\n",
            "===>  TRAIN Epoch 8\n"
          ]
        },
        {
          "output_type": "stream",
          "name": "stderr",
          "text": [
            "0% [█] 100% | ETA: 00:00:00\n",
            "Total time elapsed: 00:00:00\n"
          ]
        },
        {
          "output_type": "stream",
          "name": "stdout",
          "text": [
            "Finished Epoch 8 || Run Time:    0.3 | Load Time:    0.3 || F1:  97.56 | Prec:  95.24 | Rec: 100.00 || Ex/s: 437.55\n",
            "\n",
            "===>  EVAL Epoch 8\n",
            "Finished Epoch 8 || Run Time:    0.0 | Load Time:    0.1 || F1:  53.06 | Prec:  37.14 | Rec:  92.86 || Ex/s: 641.31\n",
            "\n",
            "---------------------\n",
            "\n",
            "===>  TRAIN Epoch 9\n"
          ]
        },
        {
          "output_type": "stream",
          "name": "stderr",
          "text": [
            "0% [█] 100% | ETA: 00:00:00\n",
            "Total time elapsed: 00:00:00\n"
          ]
        },
        {
          "output_type": "stream",
          "name": "stdout",
          "text": [
            "Finished Epoch 9 || Run Time:    0.3 | Load Time:    0.3 || F1:  98.77 | Prec:  97.56 | Rec: 100.00 || Ex/s: 444.43\n",
            "\n",
            "===>  EVAL Epoch 9\n",
            "Finished Epoch 9 || Run Time:    0.0 | Load Time:    0.1 || F1:  53.06 | Prec:  37.14 | Rec:  92.86 || Ex/s: 631.12\n",
            "\n",
            "---------------------\n",
            "\n",
            "===>  TRAIN Epoch 10\n"
          ]
        },
        {
          "output_type": "stream",
          "name": "stderr",
          "text": [
            "0% [█] 100% | ETA: 00:00:00\n",
            "Total time elapsed: 00:00:00\n"
          ]
        },
        {
          "output_type": "stream",
          "name": "stdout",
          "text": [
            "Finished Epoch 10 || Run Time:    0.3 | Load Time:    0.3 || F1:  98.77 | Prec:  97.56 | Rec: 100.00 || Ex/s: 447.43\n",
            "\n",
            "===>  EVAL Epoch 10\n",
            "Finished Epoch 10 || Run Time:    0.0 | Load Time:    0.1 || F1:  53.06 | Prec:  37.14 | Rec:  92.86 || Ex/s: 629.87\n",
            "\n",
            "---------------------\n",
            "\n",
            "===>  TRAIN Epoch 11\n"
          ]
        },
        {
          "output_type": "stream",
          "name": "stderr",
          "text": [
            "0% [█] 100% | ETA: 00:00:00\n",
            "Total time elapsed: 00:00:00\n"
          ]
        },
        {
          "output_type": "stream",
          "name": "stdout",
          "text": [
            "Finished Epoch 11 || Run Time:    0.3 | Load Time:    0.3 || F1:  98.77 | Prec:  97.56 | Rec: 100.00 || Ex/s: 450.19\n",
            "\n",
            "===>  EVAL Epoch 11\n",
            "Finished Epoch 11 || Run Time:    0.0 | Load Time:    0.1 || F1:  52.00 | Prec:  36.11 | Rec:  92.86 || Ex/s: 603.97\n",
            "\n",
            "---------------------\n",
            "\n",
            "===>  TRAIN Epoch 12\n"
          ]
        },
        {
          "output_type": "stream",
          "name": "stderr",
          "text": [
            "0% [█] 100% | ETA: 00:00:00\n",
            "Total time elapsed: 00:00:00\n"
          ]
        },
        {
          "output_type": "stream",
          "name": "stdout",
          "text": [
            "Finished Epoch 12 || Run Time:    0.3 | Load Time:    0.3 || F1: 100.00 | Prec: 100.00 | Rec: 100.00 || Ex/s: 448.16\n",
            "\n",
            "===>  EVAL Epoch 12\n",
            "Finished Epoch 12 || Run Time:    0.0 | Load Time:    0.1 || F1:  52.00 | Prec:  36.11 | Rec:  92.86 || Ex/s: 618.80\n",
            "\n",
            "---------------------\n",
            "\n",
            "===>  TRAIN Epoch 13\n"
          ]
        },
        {
          "output_type": "stream",
          "name": "stderr",
          "text": [
            "0% [█] 100% | ETA: 00:00:00\n",
            "Total time elapsed: 00:00:00\n"
          ]
        },
        {
          "output_type": "stream",
          "name": "stdout",
          "text": [
            "Finished Epoch 13 || Run Time:    0.3 | Load Time:    0.3 || F1: 100.00 | Prec: 100.00 | Rec: 100.00 || Ex/s: 440.47\n",
            "\n",
            "===>  EVAL Epoch 13\n",
            "Finished Epoch 13 || Run Time:    0.0 | Load Time:    0.1 || F1:  52.00 | Prec:  36.11 | Rec:  92.86 || Ex/s: 633.66\n",
            "\n",
            "---------------------\n",
            "\n",
            "===>  TRAIN Epoch 14\n"
          ]
        },
        {
          "output_type": "stream",
          "name": "stderr",
          "text": [
            "0% [█] 100% | ETA: 00:00:00\n",
            "Total time elapsed: 00:00:00\n"
          ]
        },
        {
          "output_type": "stream",
          "name": "stdout",
          "text": [
            "Finished Epoch 14 || Run Time:    0.3 | Load Time:    0.3 || F1: 100.00 | Prec: 100.00 | Rec: 100.00 || Ex/s: 436.02\n",
            "\n",
            "===>  EVAL Epoch 14\n",
            "Finished Epoch 14 || Run Time:    0.0 | Load Time:    0.1 || F1:  52.00 | Prec:  36.11 | Rec:  92.86 || Ex/s: 620.30\n",
            "\n",
            "---------------------\n",
            "\n",
            "===>  TRAIN Epoch 15\n"
          ]
        },
        {
          "output_type": "stream",
          "name": "stderr",
          "text": [
            "0% [█] 100% | ETA: 00:00:00\n",
            "Total time elapsed: 00:00:00\n"
          ]
        },
        {
          "output_type": "stream",
          "name": "stdout",
          "text": [
            "Finished Epoch 15 || Run Time:    0.3 | Load Time:    0.3 || F1: 100.00 | Prec: 100.00 | Rec: 100.00 || Ex/s: 452.33\n",
            "\n",
            "===>  EVAL Epoch 15\n",
            "Finished Epoch 15 || Run Time:    0.0 | Load Time:    0.1 || F1:  50.98 | Prec:  35.14 | Rec:  92.86 || Ex/s: 621.10\n",
            "\n",
            "---------------------\n",
            "\n",
            "Loading best model...\n",
            "Training done.\n"
          ]
        },
        {
          "output_type": "execute_result",
          "data": {
            "text/plain": [
              "tensor(59.4595, device='cuda:0')"
            ]
          },
          "metadata": {},
          "execution_count": 23
        }
      ],
      "source": [
        "model.run_train(\n",
        "    train,\n",
        "    validation,\n",
        "    epochs=15,\n",
        "    batch_size=32,\n",
        "    best_save_path='rnn_model.pth',\n",
        "    pos_neg_ratio=3)"
      ]
    },
    {
      "cell_type": "code",
      "execution_count": null,
      "metadata": {
        "colab": {
          "base_uri": "https://localhost:8080/"
        },
        "id": "HENYOC9x5u3i",
        "outputId": "54d34656-2773-46c2-d0f4-2652d75f9167"
      },
      "outputs": [
        {
          "output_type": "stream",
          "name": "stdout",
          "text": [
            "===>  EVAL Epoch 4\n"
          ]
        },
        {
          "output_type": "stream",
          "name": "stderr",
          "text": [
            "/usr/local/lib/python3.7/dist-packages/torch/nn/modules/module.py:949: UserWarning: Using non-full backward hooks on a Module that does not take as input a single Tensor or a tuple of Tensors is deprecated and will be removed in future versions. This hook will be missing some of the grad_input. Please use register_full_backward_hook to get the documented behavior.\n",
            "  warnings.warn(\"Using non-full backward hooks on a Module that does not take as input a \"\n",
            "/usr/local/lib/python3.7/dist-packages/torch/nn/modules/module.py:939: UserWarning: Using non-full backward hooks on a Module that does not return a single Tensor or a tuple of Tensors is deprecated and will be removed in future versions. This hook will be missing some of the grad_output. Please use register_full_backward_hook to get the documented behavior.\n",
            "  warnings.warn(\"Using non-full backward hooks on a Module that does not return a \"\n",
            "/usr/local/lib/python3.7/dist-packages/torch/nn/modules/module.py:974: UserWarning: Using a non-full backward hook when the forward contains multiple autograd Nodes is deprecated and will be removed in future versions. This hook will be missing some grad_input. Please use register_full_backward_hook to get the documented behavior.\n",
            "  warnings.warn(\"Using a non-full backward hook when the forward contains multiple autograd Nodes \"\n"
          ]
        },
        {
          "output_type": "stream",
          "name": "stdout",
          "text": [
            "Finished Epoch 4 || Run Time:    0.0 | Load Time:    0.1 || F1:  66.67 | Prec:  50.00 | Rec: 100.00 || Ex/s: 601.01\n",
            "\n"
          ]
        },
        {
          "output_type": "execute_result",
          "data": {
            "text/plain": [
              "tensor(66.6667, device='cuda:0')"
            ]
          },
          "metadata": {},
          "execution_count": 24
        }
      ],
      "source": [
        "# Compute F1 on test set\n",
        "model.run_eval(test)"
      ]
    },
    {
      "cell_type": "markdown",
      "metadata": {
        "id": "qwQCzuYP5-3d"
      },
      "source": [
        "##### DBLP-ACM"
      ]
    },
    {
      "cell_type": "code",
      "execution_count": null,
      "metadata": {
        "colab": {
          "base_uri": "https://localhost:8080/"
        },
        "id": "J-i9XPea5-3t",
        "outputId": "99fd01e4-3206-4c18-9f1c-ba262e220389"
      },
      "outputs": [
        {
          "output_type": "stream",
          "name": "stderr",
          "text": [
            "WARNING:deepmatcher.data.dataset:Rebuilding data cache because: ['One or more data files have been modified.', 'Data file list has changed.']\n",
            "\n",
            "Reading and processing data from \"/content/IC/datasesErros/AADatasets/Structured/DBLP-ACM/joined_train.csv\"\n",
            "0% [############################# ] 100% | ETA: 00:00:00\n",
            "Reading and processing data from \"/content/IC/datasesErros/AADatasets/Structured/DBLP-ACM/joined_valid.csv\"\n",
            "0% [############################# ] 100% | ETA: 00:00:00\n",
            "Reading and processing data from \"/content/IC/datasesErros/AADatasets/Structured/DBLP-ACM/joined_test.csv\"\n",
            "0% [############################# ] 100% | ETA: 00:00:00\n",
            "Building vocabulary\n",
            "0% [########] 100% | ETA: 00:00:00\n",
            "Total time elapsed: 00:00:00\n",
            "\n",
            "Computing principal components\n",
            "0% [########] 100% | ETA: 00:00:00\n",
            "Total time elapsed: 00:00:04\n"
          ]
        }
      ],
      "source": [
        "train, validation, test = dm.data.process(\n",
        "    path='/content/IC/datasesErros/AADatasets/Structured/DBLP-ACM/',\n",
        "    train='joined_train.csv',\n",
        "    validation='joined_valid.csv',\n",
        "    test='joined_test.csv')"
      ]
    },
    {
      "cell_type": "code",
      "execution_count": null,
      "metadata": {
        "id": "ADWAE_Pm5-3u"
      },
      "outputs": [],
      "source": [
        "model = dm.MatchingModel(attr_summarizer='rnn')"
      ]
    },
    {
      "cell_type": "code",
      "execution_count": null,
      "metadata": {
        "colab": {
          "base_uri": "https://localhost:8080/"
        },
        "id": "YHwbSXrQ5-3u",
        "outputId": "537ce747-a658-441e-9329-d945710a9ab9"
      },
      "outputs": [
        {
          "output_type": "stream",
          "name": "stdout",
          "text": [
            "* Number of trainable parameters: 2169602\n",
            "===>  TRAIN Epoch 1\n"
          ]
        },
        {
          "output_type": "stream",
          "name": "stderr",
          "text": [
            "/usr/local/lib/python3.7/dist-packages/torch/nn/modules/module.py:949: UserWarning: Using non-full backward hooks on a Module that does not take as input a single Tensor or a tuple of Tensors is deprecated and will be removed in future versions. This hook will be missing some of the grad_input. Please use register_full_backward_hook to get the documented behavior.\n",
            "  warnings.warn(\"Using non-full backward hooks on a Module that does not take as input a \"\n",
            "/usr/local/lib/python3.7/dist-packages/torch/nn/modules/module.py:974: UserWarning: Using a non-full backward hook when the forward contains multiple autograd Nodes is deprecated and will be removed in future versions. This hook will be missing some grad_input. Please use register_full_backward_hook to get the documented behavior.\n",
            "  warnings.warn(\"Using a non-full backward hook when the forward contains multiple autograd Nodes \"\n",
            "/usr/local/lib/python3.7/dist-packages/torch/nn/modules/module.py:939: UserWarning: Using non-full backward hooks on a Module that does not return a single Tensor or a tuple of Tensors is deprecated and will be removed in future versions. This hook will be missing some of the grad_output. Please use register_full_backward_hook to get the documented behavior.\n",
            "  warnings.warn(\"Using non-full backward hooks on a Module that does not return a \"\n",
            "/usr/local/lib/python3.7/dist-packages/torch/nn/functional.py:2742: UserWarning: reduction: 'mean' divides the total loss by both the batch size and the support size.'batchmean' divides only by the batch size, and aligns with the KL div math definition.'mean' will be changed to behave the same as 'batchmean' in the next major release.\n",
            "  \"reduction: 'mean' divides the total loss by both the batch size and the support size.\"\n",
            "0% [██████████████████████████████] 100% | ETA: 00:00:00\n",
            "Total time elapsed: 00:00:21\n"
          ]
        },
        {
          "output_type": "stream",
          "name": "stdout",
          "text": [
            "Finished Epoch 1 || Run Time:    9.3 | Load Time:   12.1 || F1:  91.75 | Prec:  90.44 | Rec:  93.09 || Ex/s: 345.54\n",
            "\n",
            "===>  EVAL Epoch 1\n"
          ]
        },
        {
          "output_type": "stream",
          "name": "stderr",
          "text": [
            "0% [███████████████] 100% | ETA: 00:00:00\n",
            "Total time elapsed: 00:00:04\n"
          ]
        },
        {
          "output_type": "stream",
          "name": "stdout",
          "text": [
            "Finished Epoch 1 || Run Time:    1.4 | Load Time:    3.8 || F1:  98.43 | Prec:  97.99 | Rec:  98.87 || Ex/s: 483.21\n",
            "\n",
            "* Best F1: tensor(98.4305, device='cuda:0')\n",
            "Saving best model...\n",
            "Done.\n",
            "---------------------\n",
            "\n",
            "===>  TRAIN Epoch 2\n"
          ]
        },
        {
          "output_type": "stream",
          "name": "stderr",
          "text": [
            "0% [██████████████████████████████] 100% | ETA: 00:00:00\n",
            "Total time elapsed: 00:00:20\n"
          ]
        },
        {
          "output_type": "stream",
          "name": "stdout",
          "text": [
            "Finished Epoch 2 || Run Time:    8.9 | Load Time:   12.0 || F1:  98.33 | Prec:  97.28 | Rec:  99.40 || Ex/s: 354.94\n",
            "\n",
            "===>  EVAL Epoch 2\n"
          ]
        },
        {
          "output_type": "stream",
          "name": "stderr",
          "text": [
            "0% [███████████████] 100% | ETA: 00:00:00\n",
            "Total time elapsed: 00:00:04\n"
          ]
        },
        {
          "output_type": "stream",
          "name": "stdout",
          "text": [
            "Finished Epoch 2 || Run Time:    1.3 | Load Time:    3.8 || F1:  98.77 | Prec:  98.22 | Rec:  99.32 || Ex/s: 482.25\n",
            "\n",
            "* Best F1: tensor(98.7682, device='cuda:0')\n",
            "Saving best model...\n",
            "Done.\n",
            "---------------------\n",
            "\n",
            "===>  TRAIN Epoch 3\n"
          ]
        },
        {
          "output_type": "stream",
          "name": "stderr",
          "text": [
            "0% [██████████████████████████████] 100% | ETA: 00:00:00\n",
            "Total time elapsed: 00:00:20\n"
          ]
        },
        {
          "output_type": "stream",
          "name": "stdout",
          "text": [
            "Finished Epoch 3 || Run Time:    8.9 | Load Time:   11.9 || F1:  98.96 | Prec:  98.22 | Rec:  99.70 || Ex/s: 356.05\n",
            "\n",
            "===>  EVAL Epoch 3\n"
          ]
        },
        {
          "output_type": "stream",
          "name": "stderr",
          "text": [
            "0% [███████████████] 100% | ETA: 00:00:00\n",
            "Total time elapsed: 00:00:04\n"
          ]
        },
        {
          "output_type": "stream",
          "name": "stdout",
          "text": [
            "Finished Epoch 3 || Run Time:    1.4 | Load Time:    3.8 || F1:  98.77 | Prec:  97.79 | Rec:  99.77 || Ex/s: 479.44\n",
            "\n",
            "* Best F1: tensor(98.7737, device='cuda:0')\n",
            "Saving best model...\n",
            "Done.\n",
            "---------------------\n",
            "\n",
            "===>  TRAIN Epoch 4\n"
          ]
        },
        {
          "output_type": "stream",
          "name": "stderr",
          "text": [
            "0% [██████████████████████████████] 100% | ETA: 00:00:00\n",
            "Total time elapsed: 00:00:20\n"
          ]
        },
        {
          "output_type": "stream",
          "name": "stdout",
          "text": [
            "Finished Epoch 4 || Run Time:    8.9 | Load Time:   12.0 || F1:  99.22 | Prec:  98.52 | Rec:  99.92 || Ex/s: 354.31\n",
            "\n",
            "===>  EVAL Epoch 4\n"
          ]
        },
        {
          "output_type": "stream",
          "name": "stderr",
          "text": [
            "0% [███████████████] 100% | ETA: 00:00:00\n",
            "Total time elapsed: 00:00:04\n"
          ]
        },
        {
          "output_type": "stream",
          "name": "stdout",
          "text": [
            "Finished Epoch 4 || Run Time:    1.3 | Load Time:    3.8 || F1:  98.67 | Prec:  97.37 | Rec: 100.00 || Ex/s: 482.74\n",
            "\n",
            "---------------------\n",
            "\n",
            "===>  TRAIN Epoch 5\n"
          ]
        },
        {
          "output_type": "stream",
          "name": "stderr",
          "text": [
            "0% [██████████████████████████████] 100% | ETA: 00:00:00\n",
            "Total time elapsed: 00:00:20\n"
          ]
        },
        {
          "output_type": "stream",
          "name": "stdout",
          "text": [
            "Finished Epoch 5 || Run Time:    9.1 | Load Time:   12.1 || F1:  99.33 | Prec:  98.74 | Rec:  99.92 || Ex/s: 349.69\n",
            "\n",
            "===>  EVAL Epoch 5\n"
          ]
        },
        {
          "output_type": "stream",
          "name": "stderr",
          "text": [
            "0% [███████████████] 100% | ETA: 00:00:00\n",
            "Total time elapsed: 00:00:04\n"
          ]
        },
        {
          "output_type": "stream",
          "name": "stdout",
          "text": [
            "Finished Epoch 5 || Run Time:    1.4 | Load Time:    3.8 || F1:  98.88 | Prec:  98.01 | Rec:  99.77 || Ex/s: 478.95\n",
            "\n",
            "* Best F1: tensor(98.8839, device='cuda:0')\n",
            "Saving best model...\n",
            "Done.\n",
            "---------------------\n",
            "\n",
            "===>  TRAIN Epoch 6\n"
          ]
        },
        {
          "output_type": "stream",
          "name": "stderr",
          "text": [
            "0% [██████████████████████████████] 100% | ETA: 00:00:00\n",
            "Total time elapsed: 00:00:20\n"
          ]
        },
        {
          "output_type": "stream",
          "name": "stdout",
          "text": [
            "Finished Epoch 6 || Run Time:    8.9 | Load Time:   11.9 || F1:  99.48 | Prec:  98.96 | Rec: 100.00 || Ex/s: 355.72\n",
            "\n",
            "===>  EVAL Epoch 6\n"
          ]
        },
        {
          "output_type": "stream",
          "name": "stderr",
          "text": [
            "0% [███████████████] 100% | ETA: 00:00:00\n",
            "Total time elapsed: 00:00:04\n"
          ]
        },
        {
          "output_type": "stream",
          "name": "stdout",
          "text": [
            "Finished Epoch 6 || Run Time:    1.4 | Load Time:    3.8 || F1:  98.78 | Prec:  97.58 | Rec: 100.00 || Ex/s: 482.79\n",
            "\n",
            "---------------------\n",
            "\n",
            "===>  TRAIN Epoch 7\n"
          ]
        },
        {
          "output_type": "stream",
          "name": "stderr",
          "text": [
            "0% [██████████████████████████████] 100% | ETA: 00:00:00\n",
            "Total time elapsed: 00:00:20\n"
          ]
        },
        {
          "output_type": "stream",
          "name": "stdout",
          "text": [
            "Finished Epoch 7 || Run Time:    9.0 | Load Time:   12.0 || F1:  99.48 | Prec:  98.96 | Rec: 100.00 || Ex/s: 353.60\n",
            "\n",
            "===>  EVAL Epoch 7\n"
          ]
        },
        {
          "output_type": "stream",
          "name": "stderr",
          "text": [
            "0% [███████████████] 100% | ETA: 00:00:00\n",
            "Total time elapsed: 00:00:04\n"
          ]
        },
        {
          "output_type": "stream",
          "name": "stdout",
          "text": [
            "Finished Epoch 7 || Run Time:    1.4 | Load Time:    3.8 || F1:  98.78 | Prec:  97.58 | Rec: 100.00 || Ex/s: 480.21\n",
            "\n",
            "---------------------\n",
            "\n",
            "===>  TRAIN Epoch 8\n"
          ]
        },
        {
          "output_type": "stream",
          "name": "stderr",
          "text": [
            "0% [██████████████████████████████] 100% | ETA: 00:00:00\n",
            "Total time elapsed: 00:00:20\n"
          ]
        },
        {
          "output_type": "stream",
          "name": "stdout",
          "text": [
            "Finished Epoch 8 || Run Time:    9.0 | Load Time:   12.0 || F1:  99.48 | Prec:  98.96 | Rec: 100.00 || Ex/s: 354.16\n",
            "\n",
            "===>  EVAL Epoch 8\n"
          ]
        },
        {
          "output_type": "stream",
          "name": "stderr",
          "text": [
            "0% [███████████████] 100% | ETA: 00:00:00\n",
            "Total time elapsed: 00:00:04\n"
          ]
        },
        {
          "output_type": "stream",
          "name": "stdout",
          "text": [
            "Finished Epoch 8 || Run Time:    1.4 | Load Time:    3.8 || F1:  98.78 | Prec:  97.58 | Rec: 100.00 || Ex/s: 480.85\n",
            "\n",
            "---------------------\n",
            "\n",
            "===>  TRAIN Epoch 9\n"
          ]
        },
        {
          "output_type": "stream",
          "name": "stderr",
          "text": [
            "0% [██████████████████████████████] 100% | ETA: 00:00:00\n",
            "Total time elapsed: 00:00:21\n"
          ]
        },
        {
          "output_type": "stream",
          "name": "stdout",
          "text": [
            "Finished Epoch 9 || Run Time:    9.1 | Load Time:   12.2 || F1:  99.48 | Prec:  98.96 | Rec: 100.00 || Ex/s: 349.11\n",
            "\n",
            "===>  EVAL Epoch 9\n"
          ]
        },
        {
          "output_type": "stream",
          "name": "stderr",
          "text": [
            "0% [███████████████] 100% | ETA: 00:00:00\n",
            "Total time elapsed: 00:00:04\n"
          ]
        },
        {
          "output_type": "stream",
          "name": "stdout",
          "text": [
            "Finished Epoch 9 || Run Time:    1.3 | Load Time:    3.8 || F1:  98.78 | Prec:  97.58 | Rec: 100.00 || Ex/s: 482.21\n",
            "\n",
            "---------------------\n",
            "\n",
            "===>  TRAIN Epoch 10\n"
          ]
        },
        {
          "output_type": "stream",
          "name": "stderr",
          "text": [
            "0% [██████████████████████████████] 100% | ETA: 00:00:00\n",
            "Total time elapsed: 00:00:20\n"
          ]
        },
        {
          "output_type": "stream",
          "name": "stdout",
          "text": [
            "Finished Epoch 10 || Run Time:    9.1 | Load Time:   12.0 || F1:  99.48 | Prec:  98.96 | Rec: 100.00 || Ex/s: 351.93\n",
            "\n",
            "===>  EVAL Epoch 10\n"
          ]
        },
        {
          "output_type": "stream",
          "name": "stderr",
          "text": [
            "0% [███████████████] 100% | ETA: 00:00:00\n",
            "Total time elapsed: 00:00:04\n"
          ]
        },
        {
          "output_type": "stream",
          "name": "stdout",
          "text": [
            "Finished Epoch 10 || Run Time:    1.4 | Load Time:    3.8 || F1:  98.78 | Prec:  97.58 | Rec: 100.00 || Ex/s: 481.95\n",
            "\n",
            "---------------------\n",
            "\n",
            "===>  TRAIN Epoch 11\n"
          ]
        },
        {
          "output_type": "stream",
          "name": "stderr",
          "text": [
            "0% [██████████████████████████████] 100% | ETA: 00:00:00\n",
            "Total time elapsed: 00:00:20\n"
          ]
        },
        {
          "output_type": "stream",
          "name": "stdout",
          "text": [
            "Finished Epoch 11 || Run Time:    9.0 | Load Time:   11.9 || F1:  99.48 | Prec:  98.96 | Rec: 100.00 || Ex/s: 354.25\n",
            "\n",
            "===>  EVAL Epoch 11\n"
          ]
        },
        {
          "output_type": "stream",
          "name": "stderr",
          "text": [
            "0% [███████████████] 100% | ETA: 00:00:00\n",
            "Total time elapsed: 00:00:04\n"
          ]
        },
        {
          "output_type": "stream",
          "name": "stdout",
          "text": [
            "Finished Epoch 11 || Run Time:    1.4 | Load Time:    3.8 || F1:  98.78 | Prec:  97.58 | Rec: 100.00 || Ex/s: 478.20\n",
            "\n",
            "---------------------\n",
            "\n",
            "===>  TRAIN Epoch 12\n"
          ]
        },
        {
          "output_type": "stream",
          "name": "stderr",
          "text": [
            "0% [██████████████████████████████] 100% | ETA: 00:00:00\n",
            "Total time elapsed: 00:00:20\n"
          ]
        },
        {
          "output_type": "stream",
          "name": "stdout",
          "text": [
            "Finished Epoch 12 || Run Time:    9.0 | Load Time:   11.9 || F1:  99.48 | Prec:  98.96 | Rec: 100.00 || Ex/s: 355.33\n",
            "\n",
            "===>  EVAL Epoch 12\n"
          ]
        },
        {
          "output_type": "stream",
          "name": "stderr",
          "text": [
            "0% [███████████████] 100% | ETA: 00:00:00\n",
            "Total time elapsed: 00:00:04\n"
          ]
        },
        {
          "output_type": "stream",
          "name": "stdout",
          "text": [
            "Finished Epoch 12 || Run Time:    1.3 | Load Time:    3.8 || F1:  98.78 | Prec:  97.58 | Rec: 100.00 || Ex/s: 483.18\n",
            "\n",
            "---------------------\n",
            "\n",
            "===>  TRAIN Epoch 13\n"
          ]
        },
        {
          "output_type": "stream",
          "name": "stderr",
          "text": [
            "0% [██████████████████████████████] 100% | ETA: 00:00:00\n",
            "Total time elapsed: 00:00:21\n"
          ]
        },
        {
          "output_type": "stream",
          "name": "stdout",
          "text": [
            "Finished Epoch 13 || Run Time:    9.1 | Load Time:   12.2 || F1:  99.48 | Prec:  98.96 | Rec: 100.00 || Ex/s: 348.11\n",
            "\n",
            "===>  EVAL Epoch 13\n"
          ]
        },
        {
          "output_type": "stream",
          "name": "stderr",
          "text": [
            "0% [███████████████] 100% | ETA: 00:00:00\n",
            "Total time elapsed: 00:00:04\n"
          ]
        },
        {
          "output_type": "stream",
          "name": "stdout",
          "text": [
            "Finished Epoch 13 || Run Time:    1.3 | Load Time:    3.8 || F1:  98.78 | Prec:  97.58 | Rec: 100.00 || Ex/s: 481.01\n",
            "\n",
            "---------------------\n",
            "\n",
            "===>  TRAIN Epoch 14\n"
          ]
        },
        {
          "output_type": "stream",
          "name": "stderr",
          "text": [
            "0% [██████████████████████████████] 100% | ETA: 00:00:00\n",
            "Total time elapsed: 00:00:20\n"
          ]
        },
        {
          "output_type": "stream",
          "name": "stdout",
          "text": [
            "Finished Epoch 14 || Run Time:    8.9 | Load Time:   11.9 || F1:  99.48 | Prec:  98.96 | Rec: 100.00 || Ex/s: 355.75\n",
            "\n",
            "===>  EVAL Epoch 14\n"
          ]
        },
        {
          "output_type": "stream",
          "name": "stderr",
          "text": [
            "0% [███████████████] 100% | ETA: 00:00:00\n",
            "Total time elapsed: 00:00:04\n"
          ]
        },
        {
          "output_type": "stream",
          "name": "stdout",
          "text": [
            "Finished Epoch 14 || Run Time:    1.3 | Load Time:    3.8 || F1:  98.78 | Prec:  97.58 | Rec: 100.00 || Ex/s: 482.39\n",
            "\n",
            "---------------------\n",
            "\n",
            "===>  TRAIN Epoch 15\n"
          ]
        },
        {
          "output_type": "stream",
          "name": "stderr",
          "text": [
            "0% [██████████████████████████████] 100% | ETA: 00:00:00\n",
            "Total time elapsed: 00:00:20\n"
          ]
        },
        {
          "output_type": "stream",
          "name": "stdout",
          "text": [
            "Finished Epoch 15 || Run Time:    8.9 | Load Time:   11.9 || F1:  99.48 | Prec:  98.96 | Rec: 100.00 || Ex/s: 355.89\n",
            "\n",
            "===>  EVAL Epoch 15\n"
          ]
        },
        {
          "output_type": "stream",
          "name": "stderr",
          "text": [
            "0% [███████████████] 100% | ETA: 00:00:00\n",
            "Total time elapsed: 00:00:04\n"
          ]
        },
        {
          "output_type": "stream",
          "name": "stdout",
          "text": [
            "Finished Epoch 15 || Run Time:    1.3 | Load Time:    3.8 || F1:  98.78 | Prec:  97.58 | Rec: 100.00 || Ex/s: 482.30\n",
            "\n",
            "---------------------\n",
            "\n",
            "Loading best model...\n",
            "Training done.\n"
          ]
        },
        {
          "output_type": "execute_result",
          "data": {
            "text/plain": [
              "tensor(98.8839, device='cuda:0')"
            ]
          },
          "metadata": {},
          "execution_count": 27
        }
      ],
      "source": [
        "model.run_train(\n",
        "    train,\n",
        "    validation,\n",
        "    epochs=15,\n",
        "    batch_size=32,\n",
        "    best_save_path='rnn_model.pth',\n",
        "    pos_neg_ratio=3)"
      ]
    },
    {
      "cell_type": "code",
      "execution_count": null,
      "metadata": {
        "colab": {
          "base_uri": "https://localhost:8080/"
        },
        "id": "OfkfhY-15-3v",
        "outputId": "05270f48-65c1-46a4-b5b5-d15e34113359"
      },
      "outputs": [
        {
          "output_type": "stream",
          "name": "stdout",
          "text": [
            "===>  EVAL Epoch 5\n"
          ]
        },
        {
          "output_type": "stream",
          "name": "stderr",
          "text": [
            "/usr/local/lib/python3.7/dist-packages/torch/nn/modules/module.py:949: UserWarning: Using non-full backward hooks on a Module that does not take as input a single Tensor or a tuple of Tensors is deprecated and will be removed in future versions. This hook will be missing some of the grad_input. Please use register_full_backward_hook to get the documented behavior.\n",
            "  warnings.warn(\"Using non-full backward hooks on a Module that does not take as input a \"\n",
            "/usr/local/lib/python3.7/dist-packages/torch/nn/modules/module.py:939: UserWarning: Using non-full backward hooks on a Module that does not return a single Tensor or a tuple of Tensors is deprecated and will be removed in future versions. This hook will be missing some of the grad_output. Please use register_full_backward_hook to get the documented behavior.\n",
            "  warnings.warn(\"Using non-full backward hooks on a Module that does not return a \"\n",
            "/usr/local/lib/python3.7/dist-packages/torch/nn/modules/module.py:974: UserWarning: Using a non-full backward hook when the forward contains multiple autograd Nodes is deprecated and will be removed in future versions. This hook will be missing some grad_input. Please use register_full_backward_hook to get the documented behavior.\n",
            "  warnings.warn(\"Using a non-full backward hook when the forward contains multiple autograd Nodes \"\n",
            "0% [███████████████] 100% | ETA: 00:00:00\n",
            "Total time elapsed: 00:00:04\n"
          ]
        },
        {
          "output_type": "stream",
          "name": "stdout",
          "text": [
            "Finished Epoch 5 || Run Time:    1.3 | Load Time:    3.7 || F1:  98.44 | Prec:  97.36 | Rec:  99.55 || Ex/s: 486.43\n",
            "\n"
          ]
        },
        {
          "output_type": "execute_result",
          "data": {
            "text/plain": [
              "tensor(98.4410, device='cuda:0')"
            ]
          },
          "metadata": {},
          "execution_count": 28
        }
      ],
      "source": [
        "# Compute F1 on test set\n",
        "model.run_eval(test)"
      ]
    },
    {
      "cell_type": "markdown",
      "metadata": {
        "id": "jzWDzxUf6Af8"
      },
      "source": [
        "##### DBLP-GoogleScholar"
      ]
    },
    {
      "cell_type": "code",
      "execution_count": null,
      "metadata": {
        "id": "AL8RYXfU6Af8",
        "colab": {
          "base_uri": "https://localhost:8080/"
        },
        "outputId": "8f01ad60-f4c1-4172-cf5e-ed80b7dc0749"
      },
      "outputs": [
        {
          "output_type": "stream",
          "name": "stderr",
          "text": [
            "WARNING:deepmatcher.data.dataset:Rebuilding data cache because: ['Data file list has changed.', 'One or more data files have been modified.']\n",
            "\n",
            "Reading and processing data from \"/content/IC/datasesErros/AADatasets/Structured/DBLP-GoogleScholar/joined_train.csv\"\n",
            "0% [############################# ] 100% | ETA: 00:00:00\n",
            "Reading and processing data from \"/content/IC/datasesErros/AADatasets/Structured/DBLP-GoogleScholar/joined_valid.csv\"\n",
            "0% [############################# ] 100% | ETA: 00:00:00\n",
            "Reading and processing data from \"/content/IC/datasesErros/AADatasets/Structured/DBLP-GoogleScholar/joined_test.csv\"\n",
            "0% [############################# ] 100% | ETA: 00:00:00Warning : `load_model` does not return WordVectorModel or SupervisedModel any more, but a `FastText` object which is very similar.\n",
            "\n",
            "Building vocabulary\n",
            "0% [#################] 100% | ETA: 00:00:00\n",
            "Total time elapsed: 00:00:01\n",
            "\n",
            "Computing principal components\n",
            "0% [#################] 100% | ETA: 00:00:00\n",
            "Total time elapsed: 00:00:06\n"
          ]
        }
      ],
      "source": [
        "train, validation, test = dm.data.process(\n",
        "    path='/content/IC/datasesErros/AADatasets/Structured/DBLP-GoogleScholar/',\n",
        "    train='joined_train.csv',\n",
        "    validation='joined_valid.csv',\n",
        "    test='joined_test.csv')"
      ]
    },
    {
      "cell_type": "code",
      "execution_count": null,
      "metadata": {
        "id": "hitCSKS16Af8"
      },
      "outputs": [],
      "source": [
        "model = dm.MatchingModel(attr_summarizer='rnn')"
      ]
    },
    {
      "cell_type": "code",
      "execution_count": null,
      "metadata": {
        "id": "LD-LgJ1G6Af9",
        "colab": {
          "base_uri": "https://localhost:8080/"
        },
        "outputId": "de03ac0f-2d7d-44a8-b3d8-2d970b35d7f7"
      },
      "outputs": [
        {
          "output_type": "stream",
          "name": "stderr",
          "text": [
            "/usr/local/lib/python3.7/dist-packages/torch/nn/modules/module.py:949: UserWarning: Using non-full backward hooks on a Module that does not take as input a single Tensor or a tuple of Tensors is deprecated and will be removed in future versions. This hook will be missing some of the grad_input. Please use register_full_backward_hook to get the documented behavior.\n",
            "  warnings.warn(\"Using non-full backward hooks on a Module that does not take as input a \"\n",
            "/usr/local/lib/python3.7/dist-packages/torch/nn/modules/module.py:974: UserWarning: Using a non-full backward hook when the forward contains multiple autograd Nodes is deprecated and will be removed in future versions. This hook will be missing some grad_input. Please use register_full_backward_hook to get the documented behavior.\n",
            "  warnings.warn(\"Using a non-full backward hook when the forward contains multiple autograd Nodes \"\n"
          ]
        },
        {
          "output_type": "stream",
          "name": "stdout",
          "text": [
            "* Number of trainable parameters: 2169602\n",
            "===>  TRAIN Epoch 1\n"
          ]
        },
        {
          "output_type": "stream",
          "name": "stderr",
          "text": [
            "/usr/local/lib/python3.7/dist-packages/torch/nn/modules/module.py:939: UserWarning: Using non-full backward hooks on a Module that does not return a single Tensor or a tuple of Tensors is deprecated and will be removed in future versions. This hook will be missing some of the grad_output. Please use register_full_backward_hook to get the documented behavior.\n",
            "  warnings.warn(\"Using non-full backward hooks on a Module that does not return a \"\n",
            "/usr/local/lib/python3.7/dist-packages/torch/nn/functional.py:2742: UserWarning: reduction: 'mean' divides the total loss by both the batch size and the support size.'batchmean' divides only by the batch size, and aligns with the KL div math definition.'mean' will be changed to behave the same as 'batchmean' in the next major release.\n",
            "  \"reduction: 'mean' divides the total loss by both the batch size and the support size.\"\n",
            "0% [██████████████████████████████] 100% | ETA: 00:00:00\n",
            "Total time elapsed: 00:00:43\n"
          ]
        },
        {
          "output_type": "stream",
          "name": "stdout",
          "text": [
            "Finished Epoch 1 || Run Time:   20.0 | Load Time:   24.3 || F1:  83.07 | Prec:  78.69 | Rec:  87.96 || Ex/s: 388.60\n",
            "\n",
            "===>  EVAL Epoch 1\n"
          ]
        },
        {
          "output_type": "stream",
          "name": "stderr",
          "text": [
            "0% [██████████████████████████████] 100% | ETA: 00:00:00\n",
            "Total time elapsed: 00:00:11\n"
          ]
        },
        {
          "output_type": "stream",
          "name": "stdout",
          "text": [
            "Finished Epoch 1 || Run Time:    3.3 | Load Time:    7.9 || F1:  91.95 | Prec:  91.03 | Rec:  92.90 || Ex/s: 513.74\n",
            "\n",
            "* Best F1: tensor(91.9519, device='cuda:0')\n",
            "Saving best model...\n",
            "Done.\n",
            "---------------------\n",
            "\n",
            "===>  TRAIN Epoch 2\n"
          ]
        },
        {
          "output_type": "stream",
          "name": "stderr",
          "text": [
            "0% [██████████████████████████████] 100% | ETA: 00:00:00\n",
            "Total time elapsed: 00:00:43\n"
          ]
        },
        {
          "output_type": "stream",
          "name": "stdout",
          "text": [
            "Finished Epoch 2 || Run Time:   19.7 | Load Time:   24.3 || F1:  93.62 | Prec:  90.30 | Rec:  97.19 || Ex/s: 391.35\n",
            "\n",
            "===>  EVAL Epoch 2\n"
          ]
        },
        {
          "output_type": "stream",
          "name": "stderr",
          "text": [
            "0% [██████████████████████████████] 100% | ETA: 00:00:00\n",
            "Total time elapsed: 00:00:10\n"
          ]
        },
        {
          "output_type": "stream",
          "name": "stdout",
          "text": [
            "Finished Epoch 2 || Run Time:    3.0 | Load Time:    7.5 || F1:  87.84 | Prec:  79.44 | Rec:  98.22 || Ex/s: 545.76\n",
            "\n",
            "---------------------\n",
            "\n",
            "===>  TRAIN Epoch 3\n"
          ]
        },
        {
          "output_type": "stream",
          "name": "stderr",
          "text": [
            "0% [██████████████████████████████] 100% | ETA: 00:00:00\n",
            "Total time elapsed: 00:00:43\n"
          ]
        },
        {
          "output_type": "stream",
          "name": "stdout",
          "text": [
            "Finished Epoch 3 || Run Time:   19.7 | Load Time:   24.3 || F1:  97.05 | Prec:  95.31 | Rec:  98.85 || Ex/s: 391.27\n",
            "\n",
            "===>  EVAL Epoch 3\n"
          ]
        },
        {
          "output_type": "stream",
          "name": "stderr",
          "text": [
            "0% [██████████████████████████████] 100% | ETA: 00:00:00\n",
            "Total time elapsed: 00:00:10\n"
          ]
        },
        {
          "output_type": "stream",
          "name": "stdout",
          "text": [
            "Finished Epoch 3 || Run Time:    3.2 | Load Time:    7.7 || F1:  92.53 | Prec:  88.76 | Rec:  96.64 || Ex/s: 529.40\n",
            "\n",
            "* Best F1: tensor(92.5280, device='cuda:0')\n",
            "Saving best model...\n",
            "Done.\n",
            "---------------------\n",
            "\n",
            "===>  TRAIN Epoch 4\n"
          ]
        },
        {
          "output_type": "stream",
          "name": "stderr",
          "text": [
            "0% [██████████████████████████████] 100% | ETA: 00:00:00\n",
            "Total time elapsed: 00:00:43\n"
          ]
        },
        {
          "output_type": "stream",
          "name": "stdout",
          "text": [
            "Finished Epoch 4 || Run Time:   19.7 | Load Time:   24.3 || F1:  98.39 | Prec:  97.69 | Rec:  99.10 || Ex/s: 391.61\n",
            "\n",
            "===>  EVAL Epoch 4\n"
          ]
        },
        {
          "output_type": "stream",
          "name": "stderr",
          "text": [
            "0% [██████████████████████████████] 100% | ETA: 00:00:00\n",
            "Total time elapsed: 00:00:10\n"
          ]
        },
        {
          "output_type": "stream",
          "name": "stdout",
          "text": [
            "Finished Epoch 4 || Run Time:    3.2 | Load Time:    7.6 || F1:  92.58 | Prec:  90.24 | Rec:  95.05 || Ex/s: 532.74\n",
            "\n",
            "* Best F1: tensor(92.5808, device='cuda:0')\n",
            "Saving best model...\n",
            "Done.\n",
            "---------------------\n",
            "\n",
            "===>  TRAIN Epoch 5\n"
          ]
        },
        {
          "output_type": "stream",
          "name": "stderr",
          "text": [
            "0% [██████████████████████████████] 100% | ETA: 00:00:00\n",
            "Total time elapsed: 00:00:43\n"
          ]
        },
        {
          "output_type": "stream",
          "name": "stdout",
          "text": [
            "Finished Epoch 5 || Run Time:   19.9 | Load Time:   24.4 || F1:  98.98 | Prec:  98.55 | Rec:  99.41 || Ex/s: 388.36\n",
            "\n",
            "===>  EVAL Epoch 5\n"
          ]
        },
        {
          "output_type": "stream",
          "name": "stderr",
          "text": [
            "0% [██████████████████████████████] 100% | ETA: 00:00:00\n",
            "Total time elapsed: 00:00:10\n"
          ]
        },
        {
          "output_type": "stream",
          "name": "stdout",
          "text": [
            "Finished Epoch 5 || Run Time:    3.1 | Load Time:    7.5 || F1:  92.87 | Prec:  90.88 | Rec:  94.95 || Ex/s: 544.58\n",
            "\n",
            "* Best F1: tensor(92.8702, device='cuda:0')\n",
            "Saving best model...\n",
            "Done.\n",
            "---------------------\n",
            "\n",
            "===>  TRAIN Epoch 6\n"
          ]
        },
        {
          "output_type": "stream",
          "name": "stderr",
          "text": [
            "0% [██████████████████████████████] 100% | ETA: 00:00:00\n",
            "Total time elapsed: 00:00:43\n"
          ]
        },
        {
          "output_type": "stream",
          "name": "stdout",
          "text": [
            "Finished Epoch 6 || Run Time:   19.7 | Load Time:   24.2 || F1:  99.36 | Prec:  99.25 | Rec:  99.47 || Ex/s: 392.20\n",
            "\n",
            "===>  EVAL Epoch 6\n"
          ]
        },
        {
          "output_type": "stream",
          "name": "stderr",
          "text": [
            "0% [██████████████████████████████] 100% | ETA: 00:00:00\n",
            "Total time elapsed: 00:00:10\n"
          ]
        },
        {
          "output_type": "stream",
          "name": "stdout",
          "text": [
            "Finished Epoch 6 || Run Time:    3.1 | Load Time:    7.5 || F1:  93.39 | Prec:  92.33 | Rec:  94.49 || Ex/s: 545.50\n",
            "\n",
            "* Best F1: tensor(93.3949, device='cuda:0')\n",
            "Saving best model...\n",
            "Done.\n",
            "---------------------\n",
            "\n",
            "===>  TRAIN Epoch 7\n"
          ]
        },
        {
          "output_type": "stream",
          "name": "stderr",
          "text": [
            "0% [██████████████████████████████] 100% | ETA: 00:00:00\n",
            "Total time elapsed: 00:00:43\n"
          ]
        },
        {
          "output_type": "stream",
          "name": "stdout",
          "text": [
            "Finished Epoch 7 || Run Time:   19.8 | Load Time:   24.4 || F1:  99.42 | Prec:  99.44 | Rec:  99.41 || Ex/s: 389.38\n",
            "\n",
            "===>  EVAL Epoch 7\n"
          ]
        },
        {
          "output_type": "stream",
          "name": "stderr",
          "text": [
            "0% [██████████████████████████████] 100% | ETA: 00:00:00\n",
            "Total time elapsed: 00:00:10\n"
          ]
        },
        {
          "output_type": "stream",
          "name": "stdout",
          "text": [
            "Finished Epoch 7 || Run Time:    3.1 | Load Time:    7.5 || F1:  93.27 | Prec:  91.46 | Rec:  95.14 || Ex/s: 540.50\n",
            "\n",
            "---------------------\n",
            "\n",
            "===>  TRAIN Epoch 8\n"
          ]
        },
        {
          "output_type": "stream",
          "name": "stderr",
          "text": [
            "0% [██████████████████████████████] 100% | ETA: 00:00:00\n",
            "Total time elapsed: 00:00:43\n"
          ]
        },
        {
          "output_type": "stream",
          "name": "stdout",
          "text": [
            "Finished Epoch 8 || Run Time:   19.7 | Load Time:   24.1 || F1:  99.44 | Prec:  99.38 | Rec:  99.50 || Ex/s: 393.19\n",
            "\n",
            "===>  EVAL Epoch 8\n"
          ]
        },
        {
          "output_type": "stream",
          "name": "stderr",
          "text": [
            "0% [██████████████████████████████] 100% | ETA: 00:00:00\n",
            "Total time elapsed: 00:00:10\n"
          ]
        },
        {
          "output_type": "stream",
          "name": "stdout",
          "text": [
            "Finished Epoch 8 || Run Time:    3.1 | Load Time:    7.5 || F1:  93.19 | Prec:  93.67 | Rec:  92.71 || Ex/s: 544.92\n",
            "\n",
            "---------------------\n",
            "\n",
            "===>  TRAIN Epoch 9\n"
          ]
        },
        {
          "output_type": "stream",
          "name": "stderr",
          "text": [
            "0% [██████████████████████████████] 100% | ETA: 00:00:00\n",
            "Total time elapsed: 00:00:43\n"
          ]
        },
        {
          "output_type": "stream",
          "name": "stdout",
          "text": [
            "Finished Epoch 9 || Run Time:   19.9 | Load Time:   24.4 || F1:  99.53 | Prec:  99.50 | Rec:  99.56 || Ex/s: 389.51\n",
            "\n",
            "===>  EVAL Epoch 9\n"
          ]
        },
        {
          "output_type": "stream",
          "name": "stderr",
          "text": [
            "0% [██████████████████████████████] 100% | ETA: 00:00:00\n",
            "Total time elapsed: 00:00:10\n"
          ]
        },
        {
          "output_type": "stream",
          "name": "stdout",
          "text": [
            "Finished Epoch 9 || Run Time:    3.1 | Load Time:    7.5 || F1:  93.28 | Prec:  92.47 | Rec:  94.11 || Ex/s: 541.77\n",
            "\n",
            "---------------------\n",
            "\n",
            "===>  TRAIN Epoch 10\n"
          ]
        },
        {
          "output_type": "stream",
          "name": "stderr",
          "text": [
            "0% [██████████████████████████████] 100% | ETA: 00:00:00\n",
            "Total time elapsed: 00:00:43\n"
          ]
        },
        {
          "output_type": "stream",
          "name": "stdout",
          "text": [
            "Finished Epoch 10 || Run Time:   19.8 | Load Time:   24.3 || F1:  99.56 | Prec:  99.50 | Rec:  99.63 || Ex/s: 391.06\n",
            "\n",
            "===>  EVAL Epoch 10\n"
          ]
        },
        {
          "output_type": "stream",
          "name": "stderr",
          "text": [
            "0% [██████████████████████████████] 100% | ETA: 00:00:00\n",
            "Total time elapsed: 00:00:10\n"
          ]
        },
        {
          "output_type": "stream",
          "name": "stdout",
          "text": [
            "Finished Epoch 10 || Run Time:    3.1 | Load Time:    7.5 || F1:  93.32 | Prec:  92.63 | Rec:  94.02 || Ex/s: 544.39\n",
            "\n",
            "---------------------\n",
            "\n",
            "===>  TRAIN Epoch 11\n"
          ]
        },
        {
          "output_type": "stream",
          "name": "stderr",
          "text": [
            "0% [██████████████████████████████] 100% | ETA: 00:00:00\n",
            "Total time elapsed: 00:00:43\n"
          ]
        },
        {
          "output_type": "stream",
          "name": "stdout",
          "text": [
            "Finished Epoch 11 || Run Time:   19.9 | Load Time:   24.4 || F1:  99.63 | Prec:  99.63 | Rec:  99.63 || Ex/s: 388.87\n",
            "\n",
            "===>  EVAL Epoch 11\n"
          ]
        },
        {
          "output_type": "stream",
          "name": "stderr",
          "text": [
            "0% [██████████████████████████████] 100% | ETA: 00:00:00\n",
            "Total time elapsed: 00:00:10\n"
          ]
        },
        {
          "output_type": "stream",
          "name": "stdout",
          "text": [
            "Finished Epoch 11 || Run Time:    3.0 | Load Time:    7.5 || F1:  93.10 | Prec:  92.29 | Rec:  93.93 || Ex/s: 546.49\n",
            "\n",
            "---------------------\n",
            "\n",
            "===>  TRAIN Epoch 12\n"
          ]
        },
        {
          "output_type": "stream",
          "name": "stderr",
          "text": [
            "0% [██████████████████████████████] 100% | ETA: 00:00:00\n",
            "Total time elapsed: 00:00:43\n"
          ]
        },
        {
          "output_type": "stream",
          "name": "stdout",
          "text": [
            "Finished Epoch 12 || Run Time:   19.8 | Load Time:   24.2 || F1:  99.63 | Prec:  99.59 | Rec:  99.66 || Ex/s: 391.64\n",
            "\n",
            "===>  EVAL Epoch 12\n"
          ]
        },
        {
          "output_type": "stream",
          "name": "stderr",
          "text": [
            "0% [██████████████████████████████] 100% | ETA: 00:00:00\n",
            "Total time elapsed: 00:00:10\n"
          ]
        },
        {
          "output_type": "stream",
          "name": "stdout",
          "text": [
            "Finished Epoch 12 || Run Time:    3.0 | Load Time:    7.4 || F1:  93.20 | Prec:  92.86 | Rec:  93.55 || Ex/s: 547.32\n",
            "\n",
            "---------------------\n",
            "\n",
            "===>  TRAIN Epoch 13\n"
          ]
        },
        {
          "output_type": "stream",
          "name": "stderr",
          "text": [
            "0% [██████████████████████████████] 100% | ETA: 00:00:00\n",
            "Total time elapsed: 00:00:43\n"
          ]
        },
        {
          "output_type": "stream",
          "name": "stdout",
          "text": [
            "Finished Epoch 13 || Run Time:   19.9 | Load Time:   24.4 || F1:  99.69 | Prec:  99.66 | Rec:  99.72 || Ex/s: 389.19\n",
            "\n",
            "===>  EVAL Epoch 13\n"
          ]
        },
        {
          "output_type": "stream",
          "name": "stderr",
          "text": [
            "0% [██████████████████████████████] 100% | ETA: 00:00:00\n",
            "Total time elapsed: 00:00:10\n"
          ]
        },
        {
          "output_type": "stream",
          "name": "stdout",
          "text": [
            "Finished Epoch 13 || Run Time:    3.0 | Load Time:    7.5 || F1:  93.13 | Prec:  92.53 | Rec:  93.74 || Ex/s: 546.41\n",
            "\n",
            "---------------------\n",
            "\n",
            "===>  TRAIN Epoch 14\n"
          ]
        },
        {
          "output_type": "stream",
          "name": "stderr",
          "text": [
            "0% [██████████████████████████████] 100% | ETA: 00:00:00\n",
            "Total time elapsed: 00:00:43\n"
          ]
        },
        {
          "output_type": "stream",
          "name": "stdout",
          "text": [
            "Finished Epoch 14 || Run Time:   19.6 | Load Time:   24.2 || F1:  99.67 | Prec:  99.63 | Rec:  99.72 || Ex/s: 392.99\n",
            "\n",
            "===>  EVAL Epoch 14\n"
          ]
        },
        {
          "output_type": "stream",
          "name": "stderr",
          "text": [
            "0% [██████████████████████████████] 100% | ETA: 00:00:00\n",
            "Total time elapsed: 00:00:10\n"
          ]
        },
        {
          "output_type": "stream",
          "name": "stdout",
          "text": [
            "Finished Epoch 14 || Run Time:    3.0 | Load Time:    7.4 || F1:  93.01 | Prec:  92.19 | Rec:  93.83 || Ex/s: 549.56\n",
            "\n",
            "---------------------\n",
            "\n",
            "===>  TRAIN Epoch 15\n"
          ]
        },
        {
          "output_type": "stream",
          "name": "stderr",
          "text": [
            "0% [██████████████████████████████] 100% | ETA: 00:00:00\n",
            "Total time elapsed: 00:00:43\n"
          ]
        },
        {
          "output_type": "stream",
          "name": "stdout",
          "text": [
            "Finished Epoch 15 || Run Time:   19.8 | Load Time:   24.4 || F1:  99.74 | Prec:  99.72 | Rec:  99.75 || Ex/s: 389.32\n",
            "\n",
            "===>  EVAL Epoch 15\n"
          ]
        },
        {
          "output_type": "stream",
          "name": "stderr",
          "text": [
            "0% [██████████████████████████████] 100% | ETA: 00:00:00\n",
            "Total time elapsed: 00:00:10\n"
          ]
        },
        {
          "output_type": "stream",
          "name": "stdout",
          "text": [
            "Finished Epoch 15 || Run Time:    3.0 | Load Time:    7.5 || F1:  92.97 | Prec:  92.03 | Rec:  93.93 || Ex/s: 549.35\n",
            "\n",
            "---------------------\n",
            "\n",
            "Loading best model...\n",
            "Training done.\n"
          ]
        },
        {
          "output_type": "execute_result",
          "data": {
            "text/plain": [
              "tensor(93.3949, device='cuda:0')"
            ]
          },
          "metadata": {},
          "execution_count": 16
        }
      ],
      "source": [
        "model.run_train(\n",
        "    train,\n",
        "    validation,\n",
        "    epochs=15,\n",
        "    batch_size=32,\n",
        "    best_save_path='rnn_model.pth',\n",
        "    pos_neg_ratio=3)"
      ]
    },
    {
      "cell_type": "code",
      "execution_count": null,
      "metadata": {
        "id": "aGKB9b1M6Af9",
        "colab": {
          "base_uri": "https://localhost:8080/"
        },
        "outputId": "57326af8-3aec-4597-f1cc-5bdb032b9328"
      },
      "outputs": [
        {
          "output_type": "stream",
          "name": "stdout",
          "text": [
            "===>  EVAL Epoch 6\n"
          ]
        },
        {
          "output_type": "stream",
          "name": "stderr",
          "text": [
            "/usr/local/lib/python3.7/dist-packages/torch/nn/modules/module.py:949: UserWarning: Using non-full backward hooks on a Module that does not take as input a single Tensor or a tuple of Tensors is deprecated and will be removed in future versions. This hook will be missing some of the grad_input. Please use register_full_backward_hook to get the documented behavior.\n",
            "  warnings.warn(\"Using non-full backward hooks on a Module that does not take as input a \"\n",
            "/usr/local/lib/python3.7/dist-packages/torch/nn/modules/module.py:939: UserWarning: Using non-full backward hooks on a Module that does not return a single Tensor or a tuple of Tensors is deprecated and will be removed in future versions. This hook will be missing some of the grad_output. Please use register_full_backward_hook to get the documented behavior.\n",
            "  warnings.warn(\"Using non-full backward hooks on a Module that does not return a \"\n",
            "/usr/local/lib/python3.7/dist-packages/torch/nn/modules/module.py:974: UserWarning: Using a non-full backward hook when the forward contains multiple autograd Nodes is deprecated and will be removed in future versions. This hook will be missing some grad_input. Please use register_full_backward_hook to get the documented behavior.\n",
            "  warnings.warn(\"Using a non-full backward hook when the forward contains multiple autograd Nodes \"\n",
            "0% [██████████████████████████████] 100% | ETA: 00:00:00\n",
            "Total time elapsed: 00:00:10\n"
          ]
        },
        {
          "output_type": "stream",
          "name": "stdout",
          "text": [
            "Finished Epoch 6 || Run Time:    3.2 | Load Time:    7.6 || F1:  92.66 | Prec:  91.60 | Rec:  93.74 || Ex/s: 534.35\n",
            "\n"
          ]
        },
        {
          "output_type": "execute_result",
          "data": {
            "text/plain": [
              "tensor(92.6559, device='cuda:0')"
            ]
          },
          "metadata": {},
          "execution_count": 17
        }
      ],
      "source": [
        "# Compute F1 on test set\n",
        "model.run_eval(test)"
      ]
    },
    {
      "cell_type": "markdown",
      "metadata": {
        "id": "vGOLtgtP6BTG"
      },
      "source": [
        "##### Walmart-Amazon"
      ]
    },
    {
      "cell_type": "code",
      "execution_count": null,
      "metadata": {
        "id": "dFQXsL_J6BTH"
      },
      "outputs": [],
      "source": [
        "train, validation, test = dm.data.process(\n",
        "    path='/content/IC/datasesErros/AADatasets/Structured/Walmart-Amazon/',\n",
        "    train='joined_train.csv',\n",
        "    validation='joined_valid.csv',\n",
        "    test='joined_test.csv')"
      ]
    },
    {
      "cell_type": "code",
      "execution_count": null,
      "metadata": {
        "id": "7HIqkciW6BTI"
      },
      "outputs": [],
      "source": [
        "model = dm.MatchingModel(attr_summarizer='rnn')"
      ]
    },
    {
      "cell_type": "code",
      "execution_count": null,
      "metadata": {
        "id": "MDr_sWKt6BTI",
        "colab": {
          "base_uri": "https://localhost:8080/"
        },
        "outputId": "c4f2baf5-01f6-4cb1-a996-a17423294977"
      },
      "outputs": [
        {
          "metadata": {
            "tags": null
          },
          "name": "stderr",
          "output_type": "stream",
          "text": [
            "/usr/local/lib/python3.7/dist-packages/torch/nn/modules/module.py:949: UserWarning: Using non-full backward hooks on a Module that does not take as input a single Tensor or a tuple of Tensors is deprecated and will be removed in future versions. This hook will be missing some of the grad_input. Please use register_full_backward_hook to get the documented behavior.\n",
            "  warnings.warn(\"Using non-full backward hooks on a Module that does not take as input a \"\n",
            "/usr/local/lib/python3.7/dist-packages/torch/nn/modules/module.py:974: UserWarning: Using a non-full backward hook when the forward contains multiple autograd Nodes is deprecated and will be removed in future versions. This hook will be missing some grad_input. Please use register_full_backward_hook to get the documented behavior.\n",
            "  warnings.warn(\"Using a non-full backward hook when the forward contains multiple autograd Nodes \"\n"
          ]
        },
        {
          "metadata": {
            "tags": null
          },
          "name": "stdout",
          "output_type": "stream",
          "text": [
            "* Number of trainable parameters: 2576402\n",
            "===>  TRAIN Epoch 1\n"
          ]
        },
        {
          "metadata": {
            "tags": null
          },
          "name": "stderr",
          "output_type": "stream",
          "text": [
            "/usr/local/lib/python3.7/dist-packages/torch/nn/modules/module.py:939: UserWarning: Using non-full backward hooks on a Module that does not return a single Tensor or a tuple of Tensors is deprecated and will be removed in future versions. This hook will be missing some of the grad_output. Please use register_full_backward_hook to get the documented behavior.\n",
            "  warnings.warn(\"Using non-full backward hooks on a Module that does not return a \"\n",
            "/usr/local/lib/python3.7/dist-packages/torch/nn/functional.py:2742: UserWarning: reduction: 'mean' divides the total loss by both the batch size and the support size.'batchmean' divides only by the batch size, and aligns with the KL div math definition.'mean' will be changed to behave the same as 'batchmean' in the next major release.\n",
            "  \"reduction: 'mean' divides the total loss by both the batch size and the support size.\"\n",
            "0% [██████████████████████████████] 100% | ETA: 00:00:00\n",
            "Total time elapsed: 00:00:14\n"
          ]
        },
        {
          "metadata": {
            "tags": null
          },
          "name": "stdout",
          "output_type": "stream",
          "text": [
            "Finished Epoch 1 || Run Time:    8.2 | Load Time:    6.7 || F1:  30.75 | Prec:  54.91 | Rec:  21.35 || Ex/s: 409.92\n",
            "\n",
            "===>  EVAL Epoch 1\n"
          ]
        },
        {
          "metadata": {
            "tags": null
          },
          "name": "stderr",
          "output_type": "stream",
          "text": [
            "0% [█████████████] 100% | ETA: 00:00:00\n",
            "Total time elapsed: 00:00:03\n"
          ]
        },
        {
          "metadata": {
            "tags": null
          },
          "name": "stdout",
          "output_type": "stream",
          "text": [
            "Finished Epoch 1 || Run Time:    1.2 | Load Time:    2.1 || F1:  56.32 | Prec:  63.23 | Rec:  50.78 || Ex/s: 622.31\n",
            "\n",
            "* Best F1: tensor(56.3218, device='cuda:0')\n",
            "Saving best model...\n",
            "Done.\n",
            "---------------------\n",
            "\n",
            "===>  TRAIN Epoch 2\n"
          ]
        },
        {
          "metadata": {
            "tags": null
          },
          "name": "stderr",
          "output_type": "stream",
          "text": [
            "0% [██████████████████████████████] 100% | ETA: 00:00:00\n",
            "Total time elapsed: 00:00:14\n"
          ]
        },
        {
          "metadata": {
            "tags": null
          },
          "name": "stdout",
          "output_type": "stream",
          "text": [
            "Finished Epoch 2 || Run Time:    7.8 | Load Time:    6.6 || F1:  68.23 | Prec:  68.23 | Rec:  68.23 || Ex/s: 425.86\n",
            "\n",
            "===>  EVAL Epoch 2\n"
          ]
        },
        {
          "metadata": {
            "tags": null
          },
          "name": "stderr",
          "output_type": "stream",
          "text": [
            "0% [█████████████] 100% | ETA: 00:00:00\n",
            "Total time elapsed: 00:00:03\n"
          ]
        },
        {
          "metadata": {
            "tags": null
          },
          "name": "stdout",
          "output_type": "stream",
          "text": [
            "Finished Epoch 2 || Run Time:    1.2 | Load Time:    2.1 || F1:  55.68 | Prec:  43.88 | Rec:  76.17 || Ex/s: 618.60\n",
            "\n",
            "---------------------\n",
            "\n",
            "===>  TRAIN Epoch 3\n"
          ]
        },
        {
          "metadata": {
            "tags": null
          },
          "name": "stderr",
          "output_type": "stream",
          "text": [
            "0% [██████████████████████████████] 100% | ETA: 00:00:00\n",
            "Total time elapsed: 00:00:14\n"
          ]
        },
        {
          "metadata": {
            "tags": null
          },
          "name": "stdout",
          "output_type": "stream",
          "text": [
            "Finished Epoch 3 || Run Time:    7.8 | Load Time:    6.6 || F1:  86.23 | Prec:  82.10 | Rec:  90.80 || Ex/s: 427.52\n",
            "\n",
            "===>  EVAL Epoch 3\n"
          ]
        },
        {
          "metadata": {
            "tags": null
          },
          "name": "stderr",
          "output_type": "stream",
          "text": [
            "0% [█████████████] 100% | ETA: 00:00:00\n",
            "Total time elapsed: 00:00:03\n"
          ]
        },
        {
          "metadata": {
            "tags": null
          },
          "name": "stdout",
          "output_type": "stream",
          "text": [
            "Finished Epoch 3 || Run Time:    1.2 | Load Time:    2.1 || F1:  61.30 | Prec:  52.81 | Rec:  73.06 || Ex/s: 619.72\n",
            "\n",
            "* Best F1: tensor(61.3043, device='cuda:0')\n",
            "Saving best model...\n",
            "Done.\n",
            "---------------------\n",
            "\n",
            "===>  TRAIN Epoch 4\n"
          ]
        },
        {
          "metadata": {
            "tags": null
          },
          "name": "stderr",
          "output_type": "stream",
          "text": [
            "0% [██████████████████████████████] 100% | ETA: 00:00:00\n",
            "Total time elapsed: 00:00:14\n"
          ]
        },
        {
          "metadata": {
            "tags": null
          },
          "name": "stdout",
          "output_type": "stream",
          "text": [
            "Finished Epoch 4 || Run Time:    7.8 | Load Time:    6.6 || F1:  94.89 | Prec:  93.14 | Rec:  96.70 || Ex/s: 426.56\n",
            "\n",
            "===>  EVAL Epoch 4\n"
          ]
        },
        {
          "metadata": {
            "tags": null
          },
          "name": "stderr",
          "output_type": "stream",
          "text": [
            "0% [█████████████] 100% | ETA: 00:00:00\n",
            "Total time elapsed: 00:00:03\n"
          ]
        },
        {
          "metadata": {
            "tags": null
          },
          "name": "stdout",
          "output_type": "stream",
          "text": [
            "Finished Epoch 4 || Run Time:    1.2 | Load Time:    2.1 || F1:  62.25 | Prec:  54.23 | Rec:  73.06 || Ex/s: 623.09\n",
            "\n",
            "* Best F1: tensor(62.2517, device='cuda:0')\n",
            "Saving best model...\n",
            "Done.\n",
            "---------------------\n",
            "\n",
            "===>  TRAIN Epoch 5\n"
          ]
        },
        {
          "metadata": {
            "tags": null
          },
          "name": "stderr",
          "output_type": "stream",
          "text": [
            "0% [██████████████████████████████] 100% | ETA: 00:00:00\n",
            "Total time elapsed: 00:00:14\n"
          ]
        },
        {
          "metadata": {
            "tags": null
          },
          "name": "stdout",
          "output_type": "stream",
          "text": [
            "Finished Epoch 5 || Run Time:    7.8 | Load Time:    6.6 || F1:  97.01 | Prec:  95.46 | Rec:  98.61 || Ex/s: 428.67\n",
            "\n",
            "===>  EVAL Epoch 5\n"
          ]
        },
        {
          "metadata": {
            "tags": null
          },
          "name": "stderr",
          "output_type": "stream",
          "text": [
            "0% [█████████████] 100% | ETA: 00:00:00\n",
            "Total time elapsed: 00:00:03\n"
          ]
        },
        {
          "metadata": {
            "tags": null
          },
          "name": "stdout",
          "output_type": "stream",
          "text": [
            "Finished Epoch 5 || Run Time:    1.2 | Load Time:    2.1 || F1:  66.31 | Prec:  67.93 | Rec:  64.77 || Ex/s: 622.27\n",
            "\n",
            "* Best F1: tensor(66.3130, device='cuda:0')\n",
            "Saving best model...\n",
            "Done.\n",
            "---------------------\n",
            "\n",
            "===>  TRAIN Epoch 6\n"
          ]
        },
        {
          "metadata": {
            "tags": null
          },
          "name": "stderr",
          "output_type": "stream",
          "text": [
            "0% [██████████████████████████████] 100% | ETA: 00:00:00\n",
            "Total time elapsed: 00:00:14\n"
          ]
        },
        {
          "metadata": {
            "tags": null
          },
          "name": "stdout",
          "output_type": "stream",
          "text": [
            "Finished Epoch 6 || Run Time:    7.9 | Load Time:    6.6 || F1:  98.79 | Prec:  98.12 | Rec:  99.48 || Ex/s: 423.22\n",
            "\n",
            "===>  EVAL Epoch 6\n"
          ]
        },
        {
          "metadata": {
            "tags": null
          },
          "name": "stderr",
          "output_type": "stream",
          "text": [
            "0% [█████████████] 100% | ETA: 00:00:00\n",
            "Total time elapsed: 00:00:03\n"
          ]
        },
        {
          "metadata": {
            "tags": null
          },
          "name": "stdout",
          "output_type": "stream",
          "text": [
            "Finished Epoch 6 || Run Time:    1.2 | Load Time:    2.1 || F1:  67.37 | Prec:  68.45 | Rec:  66.32 || Ex/s: 614.45\n",
            "\n",
            "* Best F1: tensor(67.3684, device='cuda:0')\n",
            "Saving best model...\n",
            "Done.\n",
            "---------------------\n",
            "\n",
            "===>  TRAIN Epoch 7\n"
          ]
        },
        {
          "metadata": {
            "tags": null
          },
          "name": "stderr",
          "output_type": "stream",
          "text": [
            "0% [██████████████████████████████] 100% | ETA: 00:00:00\n",
            "Total time elapsed: 00:00:14\n"
          ]
        },
        {
          "metadata": {
            "tags": null
          },
          "name": "stdout",
          "output_type": "stream",
          "text": [
            "Finished Epoch 7 || Run Time:    8.1 | Load Time:    6.8 || F1:  99.31 | Prec:  98.97 | Rec:  99.65 || Ex/s: 411.38\n",
            "\n",
            "===>  EVAL Epoch 7\n"
          ]
        },
        {
          "metadata": {
            "tags": null
          },
          "name": "stderr",
          "output_type": "stream",
          "text": [
            "0% [█████████████] 100% | ETA: 00:00:00\n",
            "Total time elapsed: 00:00:03\n"
          ]
        },
        {
          "metadata": {
            "tags": null
          },
          "name": "stdout",
          "output_type": "stream",
          "text": [
            "Finished Epoch 7 || Run Time:    1.2 | Load Time:    2.1 || F1:  66.14 | Prec:  67.57 | Rec:  64.77 || Ex/s: 619.49\n",
            "\n",
            "---------------------\n",
            "\n",
            "===>  TRAIN Epoch 8\n"
          ]
        },
        {
          "metadata": {
            "tags": null
          },
          "name": "stderr",
          "output_type": "stream",
          "text": [
            "0% [██████████████████████████████] 100% | ETA: 00:00:00\n",
            "Total time elapsed: 00:00:14\n"
          ]
        },
        {
          "metadata": {
            "tags": null
          },
          "name": "stdout",
          "output_type": "stream",
          "text": [
            "Finished Epoch 8 || Run Time:    7.9 | Load Time:    6.7 || F1:  99.74 | Prec:  99.48 | Rec: 100.00 || Ex/s: 422.15\n",
            "\n",
            "===>  EVAL Epoch 8\n"
          ]
        },
        {
          "metadata": {
            "tags": null
          },
          "name": "stderr",
          "output_type": "stream",
          "text": [
            "0% [█████████████] 100% | ETA: 00:00:00\n",
            "Total time elapsed: 00:00:03\n"
          ]
        },
        {
          "metadata": {
            "tags": null
          },
          "name": "stdout",
          "output_type": "stream",
          "text": [
            "Finished Epoch 8 || Run Time:    1.2 | Load Time:    2.1 || F1:  65.95 | Prec:  68.33 | Rec:  63.73 || Ex/s: 621.27\n",
            "\n",
            "---------------------\n",
            "\n",
            "===>  TRAIN Epoch 9\n"
          ]
        },
        {
          "metadata": {
            "tags": null
          },
          "name": "stderr",
          "output_type": "stream",
          "text": [
            "0% [██████████████████████████████] 100% | ETA: 00:00:00\n",
            "Total time elapsed: 00:00:14\n"
          ]
        },
        {
          "metadata": {
            "tags": null
          },
          "name": "stdout",
          "output_type": "stream",
          "text": [
            "Finished Epoch 9 || Run Time:    7.9 | Load Time:    6.6 || F1:  99.91 | Prec:  99.83 | Rec: 100.00 || Ex/s: 425.45\n",
            "\n",
            "===>  EVAL Epoch 9\n"
          ]
        },
        {
          "metadata": {
            "tags": null
          },
          "name": "stderr",
          "output_type": "stream",
          "text": [
            "0% [█████████████] 100% | ETA: 00:00:00\n",
            "Total time elapsed: 00:00:03\n"
          ]
        },
        {
          "metadata": {
            "tags": null
          },
          "name": "stdout",
          "output_type": "stream",
          "text": [
            "Finished Epoch 9 || Run Time:    1.2 | Load Time:    2.1 || F1:  67.40 | Prec:  71.51 | Rec:  63.73 || Ex/s: 625.74\n",
            "\n",
            "* Best F1: tensor(67.3973, device='cuda:0')\n",
            "Saving best model...\n",
            "Done.\n",
            "---------------------\n",
            "\n",
            "===>  TRAIN Epoch 10\n"
          ]
        },
        {
          "metadata": {
            "tags": null
          },
          "name": "stderr",
          "output_type": "stream",
          "text": [
            "0% [██████████████████████████████] 100% | ETA: 00:00:00\n",
            "Total time elapsed: 00:00:14\n"
          ]
        },
        {
          "metadata": {
            "tags": null
          },
          "name": "stdout",
          "output_type": "stream",
          "text": [
            "Finished Epoch 10 || Run Time:    7.7 | Load Time:    6.5 || F1:  99.91 | Prec:  99.83 | Rec: 100.00 || Ex/s: 431.49\n",
            "\n",
            "===>  EVAL Epoch 10\n"
          ]
        },
        {
          "metadata": {
            "tags": null
          },
          "name": "stderr",
          "output_type": "stream",
          "text": [
            "0% [█████████████] 100% | ETA: 00:00:00\n",
            "Total time elapsed: 00:00:03\n"
          ]
        },
        {
          "metadata": {
            "tags": null
          },
          "name": "stdout",
          "output_type": "stream",
          "text": [
            "Finished Epoch 10 || Run Time:    1.2 | Load Time:    2.0 || F1:  68.16 | Prec:  73.94 | Rec:  63.21 || Ex/s: 632.92\n",
            "\n",
            "* Best F1: tensor(68.1564, device='cuda:0')\n",
            "Saving best model...\n",
            "Done.\n",
            "---------------------\n",
            "\n",
            "===>  TRAIN Epoch 11\n"
          ]
        },
        {
          "metadata": {
            "tags": null
          },
          "name": "stderr",
          "output_type": "stream",
          "text": [
            "0% [██████████████████████████████] 100% | ETA: 00:00:00\n",
            "Total time elapsed: 00:00:14\n"
          ]
        },
        {
          "metadata": {
            "tags": null
          },
          "name": "stdout",
          "output_type": "stream",
          "text": [
            "Finished Epoch 11 || Run Time:    7.7 | Load Time:    6.5 || F1: 100.00 | Prec: 100.00 | Rec: 100.00 || Ex/s: 431.10\n",
            "\n",
            "===>  EVAL Epoch 11\n"
          ]
        },
        {
          "metadata": {
            "tags": null
          },
          "name": "stderr",
          "output_type": "stream",
          "text": [
            "0% [█████████████] 100% | ETA: 00:00:00\n",
            "Total time elapsed: 00:00:03\n"
          ]
        },
        {
          "metadata": {
            "tags": null
          },
          "name": "stdout",
          "output_type": "stream",
          "text": [
            "Finished Epoch 11 || Run Time:    1.2 | Load Time:    2.1 || F1:  68.77 | Prec:  76.92 | Rec:  62.18 || Ex/s: 629.08\n",
            "\n",
            "* Best F1: tensor(68.7679, device='cuda:0')\n",
            "Saving best model...\n",
            "Done.\n",
            "---------------------\n",
            "\n",
            "===>  TRAIN Epoch 12\n"
          ]
        },
        {
          "output_type": "stream",
          "name": "stderr",
          "text": [
            "0% [██████████████████████████████] 100% | ETA: 00:00:00\n",
            "Total time elapsed: 00:00:14\n"
          ]
        },
        {
          "output_type": "stream",
          "name": "stdout",
          "text": [
            "Finished Epoch 12 || Run Time:    7.8 | Load Time:    6.5 || F1: 100.00 | Prec: 100.00 | Rec: 100.00 || Ex/s: 428.53\n",
            "\n",
            "===>  EVAL Epoch 12\n"
          ]
        },
        {
          "output_type": "stream",
          "name": "stderr",
          "text": [
            "0% [█████████████] 100% | ETA: 00:00:00\n",
            "Total time elapsed: 00:00:03\n"
          ]
        },
        {
          "output_type": "stream",
          "name": "stdout",
          "text": [
            "Finished Epoch 12 || Run Time:    1.4 | Load Time:    2.4 || F1:  69.36 | Prec:  78.43 | Rec:  62.18 || Ex/s: 542.80\n",
            "\n",
            "* Best F1: tensor(69.3642, device='cuda:0')\n",
            "Saving best model...\n",
            "Done.\n",
            "---------------------\n",
            "\n",
            "===>  TRAIN Epoch 13\n"
          ]
        },
        {
          "output_type": "stream",
          "name": "stderr",
          "text": [
            "0% [██████████████████████████████] 100% | ETA: 00:00:00\n",
            "Total time elapsed: 00:00:14\n"
          ]
        },
        {
          "output_type": "stream",
          "name": "stdout",
          "text": [
            "Finished Epoch 13 || Run Time:    7.8 | Load Time:    6.5 || F1: 100.00 | Prec: 100.00 | Rec: 100.00 || Ex/s: 428.43\n",
            "\n",
            "===>  EVAL Epoch 13\n"
          ]
        },
        {
          "output_type": "stream",
          "name": "stderr",
          "text": [
            "0% [█████████████] 100% | ETA: 00:00:00\n",
            "Total time elapsed: 00:00:03\n"
          ]
        },
        {
          "output_type": "stream",
          "name": "stdout",
          "text": [
            "Finished Epoch 13 || Run Time:    1.2 | Load Time:    2.0 || F1:  69.59 | Prec:  79.87 | Rec:  61.66 || Ex/s: 632.23\n",
            "\n",
            "* Best F1: tensor(69.5906, device='cuda:0')\n",
            "Saving best model...\n",
            "Done.\n",
            "---------------------\n",
            "\n",
            "===>  TRAIN Epoch 14\n"
          ]
        },
        {
          "output_type": "stream",
          "name": "stderr",
          "text": [
            "0% [██████████████████████████████] 100% | ETA: 00:00:00\n",
            "Total time elapsed: 00:00:14\n"
          ]
        },
        {
          "output_type": "stream",
          "name": "stdout",
          "text": [
            "Finished Epoch 14 || Run Time:    7.8 | Load Time:    6.5 || F1: 100.00 | Prec: 100.00 | Rec: 100.00 || Ex/s: 430.13\n",
            "\n",
            "===>  EVAL Epoch 14\n"
          ]
        },
        {
          "output_type": "stream",
          "name": "stderr",
          "text": [
            "0% [█████████████] 100% | ETA: 00:00:00\n",
            "Total time elapsed: 00:00:03\n"
          ]
        },
        {
          "output_type": "stream",
          "name": "stdout",
          "text": [
            "Finished Epoch 14 || Run Time:    1.2 | Load Time:    2.0 || F1:  69.41 | Prec:  80.27 | Rec:  61.14 || Ex/s: 625.83\n",
            "\n",
            "---------------------\n",
            "\n",
            "===>  TRAIN Epoch 15\n"
          ]
        },
        {
          "output_type": "stream",
          "name": "stderr",
          "text": [
            "0% [██████████████████████████████] 100% | ETA: 00:00:00\n",
            "Total time elapsed: 00:00:14\n"
          ]
        },
        {
          "output_type": "stream",
          "name": "stdout",
          "text": [
            "Finished Epoch 15 || Run Time:    7.8 | Load Time:    6.5 || F1: 100.00 | Prec: 100.00 | Rec: 100.00 || Ex/s: 428.45\n",
            "\n",
            "===>  EVAL Epoch 15\n"
          ]
        },
        {
          "output_type": "stream",
          "name": "stderr",
          "text": [
            "0% [█████████████] 100% | ETA: 00:00:00\n",
            "Total time elapsed: 00:00:03\n"
          ]
        },
        {
          "output_type": "stream",
          "name": "stdout",
          "text": [
            "Finished Epoch 15 || Run Time:    1.2 | Load Time:    2.0 || F1:  68.64 | Prec:  80.00 | Rec:  60.10 || Ex/s: 629.56\n",
            "\n",
            "---------------------\n",
            "\n",
            "Loading best model...\n",
            "Training done.\n"
          ]
        },
        {
          "output_type": "execute_result",
          "data": {
            "text/plain": [
              "tensor(69.5906, device='cuda:0')"
            ]
          },
          "metadata": {},
          "execution_count": 13
        }
      ],
      "source": [
        "model.run_train(\n",
        "    train,\n",
        "    validation,\n",
        "    epochs=15,\n",
        "    batch_size=32,\n",
        "    best_save_path='rnn_model.pth',\n",
        "    pos_neg_ratio=3)"
      ]
    },
    {
      "cell_type": "code",
      "execution_count": null,
      "metadata": {
        "id": "i-fh3ga26BTI",
        "colab": {
          "base_uri": "https://localhost:8080/"
        },
        "outputId": "473c48ef-b4a4-4985-ac54-edb1f59eaf53"
      },
      "outputs": [
        {
          "output_type": "stream",
          "name": "stdout",
          "text": [
            "===>  EVAL Epoch 13\n"
          ]
        },
        {
          "output_type": "stream",
          "name": "stderr",
          "text": [
            "/usr/local/lib/python3.7/dist-packages/torch/nn/modules/module.py:949: UserWarning: Using non-full backward hooks on a Module that does not take as input a single Tensor or a tuple of Tensors is deprecated and will be removed in future versions. This hook will be missing some of the grad_input. Please use register_full_backward_hook to get the documented behavior.\n",
            "  warnings.warn(\"Using non-full backward hooks on a Module that does not take as input a \"\n",
            "/usr/local/lib/python3.7/dist-packages/torch/nn/modules/module.py:939: UserWarning: Using non-full backward hooks on a Module that does not return a single Tensor or a tuple of Tensors is deprecated and will be removed in future versions. This hook will be missing some of the grad_output. Please use register_full_backward_hook to get the documented behavior.\n",
            "  warnings.warn(\"Using non-full backward hooks on a Module that does not return a \"\n",
            "/usr/local/lib/python3.7/dist-packages/torch/nn/modules/module.py:974: UserWarning: Using a non-full backward hook when the forward contains multiple autograd Nodes is deprecated and will be removed in future versions. This hook will be missing some grad_input. Please use register_full_backward_hook to get the documented behavior.\n",
            "  warnings.warn(\"Using a non-full backward hook when the forward contains multiple autograd Nodes \"\n",
            "0% [█████████████] 100% | ETA: 00:00:00\n",
            "Total time elapsed: 00:00:03\n"
          ]
        },
        {
          "output_type": "stream",
          "name": "stdout",
          "text": [
            "Finished Epoch 13 || Run Time:    1.2 | Load Time:    2.1 || F1:  66.67 | Prec:  76.51 | Rec:  59.07 || Ex/s: 624.13\n",
            "\n"
          ]
        },
        {
          "output_type": "execute_result",
          "data": {
            "text/plain": [
              "tensor(66.6667, device='cuda:0')"
            ]
          },
          "metadata": {},
          "execution_count": 14
        }
      ],
      "source": [
        "# Compute F1 on test set\n",
        "model.run_eval(test)"
      ]
    },
    {
      "cell_type": "markdown",
      "metadata": {
        "id": "aHsurHMd6BTJ"
      },
      "source": [
        "#### TEXTUAL"
      ]
    },
    {
      "cell_type": "markdown",
      "metadata": {
        "id": "k3fxGhmL6qjr"
      },
      "source": [
        "##### Abt-Buy"
      ]
    },
    {
      "cell_type": "code",
      "execution_count": null,
      "metadata": {
        "id": "Wv4spd7L6qjs",
        "colab": {
          "base_uri": "https://localhost:8080/"
        },
        "outputId": "34d83bd4-5ec0-4fa3-adfe-4ff5b8d65c17"
      },
      "outputs": [
        {
          "output_type": "stream",
          "name": "stderr",
          "text": [
            "WARNING:deepmatcher.data.dataset:Rebuilding data cache because: ['One or more data files have been modified.', 'Data file list has changed.']\n",
            "\n",
            "Reading and processing data from \"/content/IC/datasesErros/AADatasets/Textual/Abt-Buy/joined_train.csv\"\n",
            "0% [############################# ] 100% | ETA: 00:00:00\n",
            "Reading and processing data from \"/content/IC/datasesErros/AADatasets/Textual/Abt-Buy/joined_valid.csv\"\n",
            "0% [############################# ] 100% | ETA: 00:00:00\n",
            "Reading and processing data from \"/content/IC/datasesErros/AADatasets/Textual/Abt-Buy/joined_test.csv\"\n",
            "0% [############################# ] 100% | ETA: 00:00:00Warning : `load_model` does not return WordVectorModel or SupervisedModel any more, but a `FastText` object which is very similar.\n",
            "\n",
            "Building vocabulary\n",
            "0% [######] 100% | ETA: 00:00:00\n",
            "Total time elapsed: 00:00:00\n",
            "\n",
            "Computing principal components\n",
            "0% [######] 100% | ETA: 00:00:00\n",
            "Total time elapsed: 00:00:02\n"
          ]
        }
      ],
      "source": [
        "train, validation, test = dm.data.process(\n",
        "    path='/content/IC/datasesErros/AADatasets/Textual/Abt-Buy/',\n",
        "    train='joined_train.csv',\n",
        "    validation='joined_valid.csv',\n",
        "    test='joined_test.csv')"
      ]
    },
    {
      "cell_type": "code",
      "execution_count": null,
      "metadata": {
        "id": "mpf83bRy6qjt"
      },
      "outputs": [],
      "source": [
        "model = dm.MatchingModel(attr_summarizer='rnn')"
      ]
    },
    {
      "cell_type": "code",
      "execution_count": null,
      "metadata": {
        "id": "_c0rrNjk6qjt",
        "colab": {
          "base_uri": "https://localhost:8080/"
        },
        "outputId": "bf1234ab-df78-4f2d-c336-8632080f43da"
      },
      "outputs": [
        {
          "output_type": "stream",
          "name": "stderr",
          "text": [
            "/usr/local/lib/python3.7/dist-packages/torch/nn/modules/module.py:949: UserWarning: Using non-full backward hooks on a Module that does not take as input a single Tensor or a tuple of Tensors is deprecated and will be removed in future versions. This hook will be missing some of the grad_input. Please use register_full_backward_hook to get the documented behavior.\n",
            "  warnings.warn(\"Using non-full backward hooks on a Module that does not take as input a \"\n",
            "/usr/local/lib/python3.7/dist-packages/torch/nn/modules/module.py:974: UserWarning: Using a non-full backward hook when the forward contains multiple autograd Nodes is deprecated and will be removed in future versions. This hook will be missing some grad_input. Please use register_full_backward_hook to get the documented behavior.\n",
            "  warnings.warn(\"Using a non-full backward hook when the forward contains multiple autograd Nodes \"\n"
          ]
        },
        {
          "output_type": "stream",
          "name": "stdout",
          "text": [
            "* Number of trainable parameters: 1762802\n",
            "===>  TRAIN Epoch 1\n"
          ]
        },
        {
          "output_type": "stream",
          "name": "stderr",
          "text": [
            "/usr/local/lib/python3.7/dist-packages/torch/nn/modules/module.py:939: UserWarning: Using non-full backward hooks on a Module that does not return a single Tensor or a tuple of Tensors is deprecated and will be removed in future versions. This hook will be missing some of the grad_output. Please use register_full_backward_hook to get the documented behavior.\n",
            "  warnings.warn(\"Using non-full backward hooks on a Module that does not return a \"\n",
            "/usr/local/lib/python3.7/dist-packages/torch/nn/functional.py:2742: UserWarning: reduction: 'mean' divides the total loss by both the batch size and the support size.'batchmean' divides only by the batch size, and aligns with the KL div math definition.'mean' will be changed to behave the same as 'batchmean' in the next major release.\n",
            "  \"reduction: 'mean' divides the total loss by both the batch size and the support size.\"\n",
            "0% [██████████████████████████████] 100% | ETA: 00:00:00\n",
            "Total time elapsed: 00:00:17\n"
          ]
        },
        {
          "output_type": "stream",
          "name": "stdout",
          "text": [
            "Finished Epoch 1 || Run Time:    6.6 | Load Time:   10.5 || F1:  19.81 | Prec:  29.39 | Rec:  14.94 || Ex/s: 334.76\n",
            "\n",
            "===>  EVAL Epoch 1\n"
          ]
        },
        {
          "output_type": "stream",
          "name": "stderr",
          "text": [
            "0% [████████████] 100% | ETA: 00:00:00\n",
            "Total time elapsed: 00:00:03\n"
          ]
        },
        {
          "output_type": "stream",
          "name": "stdout",
          "text": [
            "Finished Epoch 1 || Run Time:    0.9 | Load Time:    3.1 || F1:  35.36 | Prec:  29.70 | Rec:  43.69 || Ex/s: 485.33\n",
            "\n",
            "* Best F1: tensor(35.3635, device='cuda:0')\n",
            "Saving best model...\n",
            "Done.\n",
            "---------------------\n",
            "\n",
            "===>  TRAIN Epoch 2\n"
          ]
        },
        {
          "output_type": "stream",
          "name": "stderr",
          "text": [
            "0% [██████████████████████████████] 100% | ETA: 00:00:00\n",
            "Total time elapsed: 00:00:16\n"
          ]
        },
        {
          "output_type": "stream",
          "name": "stdout",
          "text": [
            "Finished Epoch 2 || Run Time:    6.3 | Load Time:   10.4 || F1:  48.63 | Prec:  44.64 | Rec:  53.41 || Ex/s: 344.38\n",
            "\n",
            "===>  EVAL Epoch 2\n"
          ]
        },
        {
          "output_type": "stream",
          "name": "stderr",
          "text": [
            "0% [████████████] 100% | ETA: 00:00:00\n",
            "Total time elapsed: 00:00:03\n"
          ]
        },
        {
          "output_type": "stream",
          "name": "stdout",
          "text": [
            "Finished Epoch 2 || Run Time:    0.9 | Load Time:    3.1 || F1:  37.68 | Prec:  26.86 | Rec:  63.11 || Ex/s: 481.72\n",
            "\n",
            "* Best F1: tensor(37.6812, device='cuda:0')\n",
            "Saving best model...\n",
            "Done.\n",
            "---------------------\n",
            "\n",
            "===>  TRAIN Epoch 3\n"
          ]
        },
        {
          "output_type": "stream",
          "name": "stderr",
          "text": [
            "0% [██████████████████████████████] 100% | ETA: 00:00:00\n",
            "Total time elapsed: 00:00:16\n"
          ]
        },
        {
          "output_type": "stream",
          "name": "stdout",
          "text": [
            "Finished Epoch 3 || Run Time:    6.2 | Load Time:   10.4 || F1:  66.58 | Prec:  57.50 | Rec:  79.06 || Ex/s: 346.28\n",
            "\n",
            "===>  EVAL Epoch 3\n"
          ]
        },
        {
          "output_type": "stream",
          "name": "stderr",
          "text": [
            "0% [████████████] 100% | ETA: 00:00:00\n",
            "Total time elapsed: 00:00:03\n"
          ]
        },
        {
          "output_type": "stream",
          "name": "stdout",
          "text": [
            "Finished Epoch 3 || Run Time:    0.9 | Load Time:    3.1 || F1:  42.01 | Prec:  30.60 | Rec:  66.99 || Ex/s: 485.18\n",
            "\n",
            "* Best F1: tensor(42.0091, device='cuda:0')\n",
            "Saving best model...\n",
            "Done.\n",
            "---------------------\n",
            "\n",
            "===>  TRAIN Epoch 4\n"
          ]
        },
        {
          "output_type": "stream",
          "name": "stderr",
          "text": [
            "0% [██████████████████████████████] 100% | ETA: 00:00:00\n",
            "Total time elapsed: 00:00:17\n"
          ]
        },
        {
          "output_type": "stream",
          "name": "stdout",
          "text": [
            "Finished Epoch 4 || Run Time:    6.5 | Load Time:   10.8 || F1:  78.45 | Prec:  70.17 | Rec:  88.96 || Ex/s: 332.28\n",
            "\n",
            "===>  EVAL Epoch 4\n"
          ]
        },
        {
          "output_type": "stream",
          "name": "stderr",
          "text": [
            "0% [████████████] 100% | ETA: 00:00:00\n",
            "Total time elapsed: 00:00:03\n"
          ]
        },
        {
          "output_type": "stream",
          "name": "stdout",
          "text": [
            "Finished Epoch 4 || Run Time:    0.9 | Load Time:    3.1 || F1:  44.03 | Prec:  38.21 | Rec:  51.94 || Ex/s: 483.79\n",
            "\n",
            "* Best F1: tensor(44.0329, device='cuda:0')\n",
            "Saving best model...\n",
            "Done.\n",
            "---------------------\n",
            "\n",
            "===>  TRAIN Epoch 5\n"
          ]
        },
        {
          "output_type": "stream",
          "name": "stderr",
          "text": [
            "0% [██████████████████████████████] 100% | ETA: 00:00:00\n",
            "Total time elapsed: 00:00:16\n"
          ]
        },
        {
          "output_type": "stream",
          "name": "stdout",
          "text": [
            "Finished Epoch 5 || Run Time:    6.3 | Load Time:   10.3 || F1:  86.63 | Prec:  79.86 | Rec:  94.64 || Ex/s: 345.79\n",
            "\n",
            "===>  EVAL Epoch 5\n"
          ]
        },
        {
          "output_type": "stream",
          "name": "stderr",
          "text": [
            "0% [████████████] 100% | ETA: 00:00:00\n",
            "Total time elapsed: 00:00:03\n"
          ]
        },
        {
          "output_type": "stream",
          "name": "stdout",
          "text": [
            "Finished Epoch 5 || Run Time:    0.9 | Load Time:    3.1 || F1:  44.64 | Prec:  41.32 | Rec:  48.54 || Ex/s: 483.03\n",
            "\n",
            "* Best F1: tensor(44.6429, device='cuda:0')\n",
            "Saving best model...\n",
            "Done.\n",
            "---------------------\n",
            "\n",
            "===>  TRAIN Epoch 6\n"
          ]
        },
        {
          "output_type": "stream",
          "name": "stderr",
          "text": [
            "0% [██████████████████████████████] 100% | ETA: 00:00:00\n",
            "Total time elapsed: 00:00:16\n"
          ]
        },
        {
          "output_type": "stream",
          "name": "stdout",
          "text": [
            "Finished Epoch 6 || Run Time:    6.3 | Load Time:   10.4 || F1:  90.84 | Prec:  86.38 | Rec:  95.78 || Ex/s: 343.52\n",
            "\n",
            "===>  EVAL Epoch 6\n"
          ]
        },
        {
          "output_type": "stream",
          "name": "stderr",
          "text": [
            "0% [████████████] 100% | ETA: 00:00:00\n",
            "Total time elapsed: 00:00:03\n"
          ]
        },
        {
          "output_type": "stream",
          "name": "stdout",
          "text": [
            "Finished Epoch 6 || Run Time:    0.9 | Load Time:    3.1 || F1:  39.49 | Prec:  41.27 | Rec:  37.86 || Ex/s: 483.62\n",
            "\n",
            "---------------------\n",
            "\n",
            "===>  TRAIN Epoch 7\n"
          ]
        },
        {
          "output_type": "stream",
          "name": "stderr",
          "text": [
            "0% [██████████████████████████████] 100% | ETA: 00:00:00\n",
            "Total time elapsed: 00:00:16\n"
          ]
        },
        {
          "output_type": "stream",
          "name": "stdout",
          "text": [
            "Finished Epoch 7 || Run Time:    6.3 | Load Time:   10.4 || F1:  94.50 | Prec:  91.62 | Rec:  97.56 || Ex/s: 345.10\n",
            "\n",
            "===>  EVAL Epoch 7\n"
          ]
        },
        {
          "output_type": "stream",
          "name": "stderr",
          "text": [
            "0% [████████████] 100% | ETA: 00:00:00\n",
            "Total time elapsed: 00:00:04\n"
          ]
        },
        {
          "output_type": "stream",
          "name": "stdout",
          "text": [
            "Finished Epoch 7 || Run Time:    0.9 | Load Time:    3.1 || F1:  36.57 | Prec:  42.58 | Rec:  32.04 || Ex/s: 477.13\n",
            "\n",
            "---------------------\n",
            "\n",
            "===>  TRAIN Epoch 8\n"
          ]
        },
        {
          "output_type": "stream",
          "name": "stderr",
          "text": [
            "0% [██████████████████████████████] 100% | ETA: 00:00:00\n",
            "Total time elapsed: 00:00:17\n"
          ]
        },
        {
          "output_type": "stream",
          "name": "stdout",
          "text": [
            "Finished Epoch 8 || Run Time:    6.5 | Load Time:   10.9 || F1:  96.10 | Prec:  94.37 | Rec:  97.89 || Ex/s: 329.09\n",
            "\n",
            "===>  EVAL Epoch 8\n"
          ]
        },
        {
          "output_type": "stream",
          "name": "stderr",
          "text": [
            "0% [████████████] 100% | ETA: 00:00:00\n",
            "Total time elapsed: 00:00:04\n"
          ]
        },
        {
          "output_type": "stream",
          "name": "stdout",
          "text": [
            "Finished Epoch 8 || Run Time:    1.0 | Load Time:    3.4 || F1:  38.20 | Prec:  45.33 | Rec:  33.01 || Ex/s: 436.78\n",
            "\n",
            "---------------------\n",
            "\n",
            "===>  TRAIN Epoch 9\n"
          ]
        },
        {
          "output_type": "stream",
          "name": "stderr",
          "text": [
            "0% [██████████████████████████████] 100% | ETA: 00:00:00\n",
            "Total time elapsed: 00:00:19\n"
          ]
        },
        {
          "output_type": "stream",
          "name": "stdout",
          "text": [
            "Finished Epoch 9 || Run Time:    8.1 | Load Time:   11.5 || F1:  97.36 | Prec:  96.05 | Rec:  98.70 || Ex/s: 293.51\n",
            "\n",
            "===>  EVAL Epoch 9\n"
          ]
        },
        {
          "output_type": "stream",
          "name": "stderr",
          "text": [
            "0% [████████████] 100% | ETA: 00:00:00\n",
            "Total time elapsed: 00:00:04\n"
          ]
        },
        {
          "output_type": "stream",
          "name": "stdout",
          "text": [
            "Finished Epoch 9 || Run Time:    0.9 | Load Time:    3.1 || F1:  38.44 | Prec:  45.10 | Rec:  33.50 || Ex/s: 476.36\n",
            "\n",
            "---------------------\n",
            "\n",
            "===>  TRAIN Epoch 10\n"
          ]
        },
        {
          "output_type": "stream",
          "name": "stderr",
          "text": [
            "0% [██████████████████████████████] 100% | ETA: 00:00:00\n",
            "Total time elapsed: 00:00:16\n"
          ]
        },
        {
          "output_type": "stream",
          "name": "stdout",
          "text": [
            "Finished Epoch 10 || Run Time:    6.3 | Load Time:   10.4 || F1:  98.15 | Prec:  97.14 | Rec:  99.19 || Ex/s: 343.77\n",
            "\n",
            "===>  EVAL Epoch 10\n"
          ]
        },
        {
          "output_type": "stream",
          "name": "stderr",
          "text": [
            "0% [████████████] 100% | ETA: 00:00:00\n",
            "Total time elapsed: 00:00:03\n"
          ]
        },
        {
          "output_type": "stream",
          "name": "stdout",
          "text": [
            "Finished Epoch 10 || Run Time:    0.9 | Load Time:    3.1 || F1:  38.59 | Prec:  43.83 | Rec:  34.47 || Ex/s: 479.65\n",
            "\n",
            "---------------------\n",
            "\n",
            "===>  TRAIN Epoch 11\n"
          ]
        },
        {
          "output_type": "stream",
          "name": "stderr",
          "text": [
            "0% [██████████████████████████████] 100% | ETA: 00:00:00\n",
            "Total time elapsed: 00:00:16\n"
          ]
        },
        {
          "output_type": "stream",
          "name": "stdout",
          "text": [
            "Finished Epoch 11 || Run Time:    6.3 | Load Time:   10.3 || F1:  98.31 | Prec:  97.60 | Rec:  99.03 || Ex/s: 345.01\n",
            "\n",
            "===>  EVAL Epoch 11\n"
          ]
        },
        {
          "output_type": "stream",
          "name": "stderr",
          "text": [
            "0% [████████████] 100% | ETA: 00:00:00\n",
            "Total time elapsed: 00:00:03\n"
          ]
        },
        {
          "output_type": "stream",
          "name": "stdout",
          "text": [
            "Finished Epoch 11 || Run Time:    0.9 | Load Time:    3.1 || F1:  39.68 | Prec:  44.31 | Rec:  35.92 || Ex/s: 483.53\n",
            "\n",
            "---------------------\n",
            "\n",
            "===>  TRAIN Epoch 12\n"
          ]
        },
        {
          "output_type": "stream",
          "name": "stderr",
          "text": [
            "0% [██████████████████████████████] 100% | ETA: 00:00:00\n",
            "Total time elapsed: 00:00:16\n"
          ]
        },
        {
          "output_type": "stream",
          "name": "stdout",
          "text": [
            "Finished Epoch 12 || Run Time:    6.3 | Load Time:   10.4 || F1:  98.63 | Prec:  97.62 | Rec:  99.68 || Ex/s: 344.12\n",
            "\n",
            "===>  EVAL Epoch 12\n"
          ]
        },
        {
          "output_type": "stream",
          "name": "stderr",
          "text": [
            "0% [████████████] 100% | ETA: 00:00:00\n",
            "Total time elapsed: 00:00:03\n"
          ]
        },
        {
          "output_type": "stream",
          "name": "stdout",
          "text": [
            "Finished Epoch 12 || Run Time:    0.9 | Load Time:    3.1 || F1:  39.35 | Prec:  44.24 | Rec:  35.44 || Ex/s: 481.23\n",
            "\n",
            "---------------------\n",
            "\n",
            "===>  TRAIN Epoch 13\n"
          ]
        },
        {
          "output_type": "stream",
          "name": "stderr",
          "text": [
            "0% [██████████████████████████████] 100% | ETA: 00:00:00\n",
            "Total time elapsed: 00:00:16\n"
          ]
        },
        {
          "output_type": "stream",
          "name": "stdout",
          "text": [
            "Finished Epoch 13 || Run Time:    6.4 | Load Time:   10.6 || F1:  98.55 | Prec:  97.61 | Rec:  99.51 || Ex/s: 338.63\n",
            "\n",
            "===>  EVAL Epoch 13\n"
          ]
        },
        {
          "output_type": "stream",
          "name": "stderr",
          "text": [
            "0% [████████████] 100% | ETA: 00:00:00\n",
            "Total time elapsed: 00:00:03\n"
          ]
        },
        {
          "output_type": "stream",
          "name": "stdout",
          "text": [
            "Finished Epoch 13 || Run Time:    0.9 | Load Time:    3.1 || F1:  38.46 | Prec:  44.30 | Rec:  33.98 || Ex/s: 478.47\n",
            "\n",
            "---------------------\n",
            "\n",
            "===>  TRAIN Epoch 14\n"
          ]
        },
        {
          "output_type": "stream",
          "name": "stderr",
          "text": [
            "0% [██████████████████████████████] 100% | ETA: 00:00:00\n",
            "Total time elapsed: 00:00:16\n"
          ]
        },
        {
          "output_type": "stream",
          "name": "stdout",
          "text": [
            "Finished Epoch 14 || Run Time:    6.3 | Load Time:   10.4 || F1:  98.95 | Prec:  98.24 | Rec:  99.68 || Ex/s: 344.63\n",
            "\n",
            "===>  EVAL Epoch 14\n"
          ]
        },
        {
          "output_type": "stream",
          "name": "stderr",
          "text": [
            "0% [████████████] 100% | ETA: 00:00:00\n",
            "Total time elapsed: 00:00:03\n"
          ]
        },
        {
          "output_type": "stream",
          "name": "stdout",
          "text": [
            "Finished Epoch 14 || Run Time:    0.9 | Load Time:    3.1 || F1:  38.23 | Prec:  44.52 | Rec:  33.50 || Ex/s: 482.08\n",
            "\n",
            "---------------------\n",
            "\n",
            "===>  TRAIN Epoch 15\n"
          ]
        },
        {
          "output_type": "stream",
          "name": "stderr",
          "text": [
            "0% [██████████████████████████████] 100% | ETA: 00:00:00\n",
            "Total time elapsed: 00:00:16\n"
          ]
        },
        {
          "output_type": "stream",
          "name": "stdout",
          "text": [
            "Finished Epoch 15 || Run Time:    6.3 | Load Time:   10.4 || F1:  99.11 | Prec:  98.56 | Rec:  99.68 || Ex/s: 344.43\n",
            "\n",
            "===>  EVAL Epoch 15\n"
          ]
        },
        {
          "output_type": "stream",
          "name": "stderr",
          "text": [
            "0% [████████████] 100% | ETA: 00:00:00\n",
            "Total time elapsed: 00:00:03\n"
          ]
        },
        {
          "output_type": "stream",
          "name": "stdout",
          "text": [
            "Finished Epoch 15 || Run Time:    0.9 | Load Time:    3.1 || F1:  37.88 | Prec:  44.44 | Rec:  33.01 || Ex/s: 482.43\n",
            "\n",
            "---------------------\n",
            "\n",
            "Loading best model...\n",
            "Training done.\n"
          ]
        },
        {
          "output_type": "execute_result",
          "data": {
            "text/plain": [
              "tensor(44.6429, device='cuda:0')"
            ]
          },
          "metadata": {},
          "execution_count": 19
        }
      ],
      "source": [
        "model.run_train(\n",
        "    train,\n",
        "    validation,\n",
        "    epochs=15,\n",
        "    batch_size=32,\n",
        "    best_save_path='rnn_model.pth',\n",
        "    pos_neg_ratio=3)"
      ]
    },
    {
      "cell_type": "code",
      "execution_count": null,
      "metadata": {
        "id": "Km4RlipY6qju",
        "colab": {
          "base_uri": "https://localhost:8080/"
        },
        "outputId": "c67ea27b-3250-443a-8a61-738ad5d47315"
      },
      "outputs": [
        {
          "output_type": "stream",
          "name": "stdout",
          "text": [
            "===>  EVAL Epoch 5\n"
          ]
        },
        {
          "output_type": "stream",
          "name": "stderr",
          "text": [
            "/usr/local/lib/python3.7/dist-packages/torch/nn/modules/module.py:949: UserWarning: Using non-full backward hooks on a Module that does not take as input a single Tensor or a tuple of Tensors is deprecated and will be removed in future versions. This hook will be missing some of the grad_input. Please use register_full_backward_hook to get the documented behavior.\n",
            "  warnings.warn(\"Using non-full backward hooks on a Module that does not take as input a \"\n",
            "/usr/local/lib/python3.7/dist-packages/torch/nn/modules/module.py:939: UserWarning: Using non-full backward hooks on a Module that does not return a single Tensor or a tuple of Tensors is deprecated and will be removed in future versions. This hook will be missing some of the grad_output. Please use register_full_backward_hook to get the documented behavior.\n",
            "  warnings.warn(\"Using non-full backward hooks on a Module that does not return a \"\n",
            "/usr/local/lib/python3.7/dist-packages/torch/nn/modules/module.py:974: UserWarning: Using a non-full backward hook when the forward contains multiple autograd Nodes is deprecated and will be removed in future versions. This hook will be missing some grad_input. Please use register_full_backward_hook to get the documented behavior.\n",
            "  warnings.warn(\"Using a non-full backward hook when the forward contains multiple autograd Nodes \"\n",
            "0% [████████████] 100% | ETA: 00:00:00\n",
            "Total time elapsed: 00:00:03\n"
          ]
        },
        {
          "output_type": "stream",
          "name": "stdout",
          "text": [
            "Finished Epoch 5 || Run Time:    0.9 | Load Time:    3.1 || F1:  41.19 | Prec:  38.96 | Rec:  43.69 || Ex/s: 481.05\n",
            "\n"
          ]
        },
        {
          "output_type": "execute_result",
          "data": {
            "text/plain": [
              "tensor(41.1899, device='cuda:0')"
            ]
          },
          "metadata": {},
          "execution_count": 20
        }
      ],
      "source": [
        "# Compute F1 on test set\n",
        "model.run_eval(test)"
      ]
    },
    {
      "cell_type": "markdown",
      "metadata": {
        "id": "UaPOwiMG6zMO"
      },
      "source": [
        "#### DIRTY"
      ]
    },
    {
      "cell_type": "markdown",
      "metadata": {
        "id": "X2m2jjkE7Hrp"
      },
      "source": [
        "##### DBLP-ACM"
      ]
    },
    {
      "cell_type": "code",
      "execution_count": null,
      "metadata": {
        "id": "iqhh3a5c7Hrr",
        "colab": {
          "base_uri": "https://localhost:8080/"
        },
        "outputId": "d1d8d33c-3c3d-4150-9ddf-0710a5828983"
      },
      "outputs": [
        {
          "output_type": "stream",
          "name": "stderr",
          "text": [
            "WARNING:deepmatcher.data.dataset:Rebuilding data cache because: ['One or more data files have been modified.', 'Data file list has changed.']\n",
            "\n",
            "Reading and processing data from \"/content/IC/datasesErros/AADatasets/Dirty/DBLP-ACM/joined_train.csv\"\n",
            "0% [############################# ] 100% | ETA: 00:00:00\n",
            "Reading and processing data from \"/content/IC/datasesErros/AADatasets/Dirty/DBLP-ACM/joined_valid.csv\"\n",
            "0% [############################# ] 100% | ETA: 00:00:00\n",
            "Reading and processing data from \"/content/IC/datasesErros/AADatasets/Dirty/DBLP-ACM/joined_test.csv\"\n",
            "0% [############################# ] 100% | ETA: 00:00:00Warning : `load_model` does not return WordVectorModel or SupervisedModel any more, but a `FastText` object which is very similar.\n",
            "\n",
            "Building vocabulary\n",
            "0% [########] 100% | ETA: 00:00:00\n",
            "Total time elapsed: 00:00:00\n",
            "\n",
            "Computing principal components\n",
            "0% [########] 100% | ETA: 00:00:00\n",
            "Total time elapsed: 00:00:04\n"
          ]
        }
      ],
      "source": [
        "train, validation, test = dm.data.process(\n",
        "    path='/content/IC/datasesErros/AADatasets/Dirty/DBLP-ACM/',\n",
        "    train='joined_train.csv',\n",
        "    validation='joined_valid.csv',\n",
        "    test='joined_test.csv')"
      ]
    },
    {
      "cell_type": "code",
      "execution_count": null,
      "metadata": {
        "id": "SCdyMpZE7Hrr"
      },
      "outputs": [],
      "source": [
        "model = dm.MatchingModel(attr_summarizer='rnn')"
      ]
    },
    {
      "cell_type": "code",
      "execution_count": null,
      "metadata": {
        "id": "ySYX4lEM7Hrs",
        "colab": {
          "base_uri": "https://localhost:8080/"
        },
        "outputId": "1524c53f-8b32-4d82-aae0-b1d59985b49b"
      },
      "outputs": [
        {
          "output_type": "stream",
          "name": "stderr",
          "text": [
            "/usr/local/lib/python3.7/dist-packages/torch/nn/modules/module.py:949: UserWarning: Using non-full backward hooks on a Module that does not take as input a single Tensor or a tuple of Tensors is deprecated and will be removed in future versions. This hook will be missing some of the grad_input. Please use register_full_backward_hook to get the documented behavior.\n",
            "  warnings.warn(\"Using non-full backward hooks on a Module that does not take as input a \"\n",
            "/usr/local/lib/python3.7/dist-packages/torch/nn/modules/module.py:974: UserWarning: Using a non-full backward hook when the forward contains multiple autograd Nodes is deprecated and will be removed in future versions. This hook will be missing some grad_input. Please use register_full_backward_hook to get the documented behavior.\n",
            "  warnings.warn(\"Using a non-full backward hook when the forward contains multiple autograd Nodes \"\n"
          ]
        },
        {
          "output_type": "stream",
          "name": "stdout",
          "text": [
            "* Number of trainable parameters: 2169602\n",
            "===>  TRAIN Epoch 1\n"
          ]
        },
        {
          "output_type": "stream",
          "name": "stderr",
          "text": [
            "/usr/local/lib/python3.7/dist-packages/torch/nn/modules/module.py:939: UserWarning: Using non-full backward hooks on a Module that does not return a single Tensor or a tuple of Tensors is deprecated and will be removed in future versions. This hook will be missing some of the grad_output. Please use register_full_backward_hook to get the documented behavior.\n",
            "  warnings.warn(\"Using non-full backward hooks on a Module that does not return a \"\n",
            "/usr/local/lib/python3.7/dist-packages/torch/nn/functional.py:2742: UserWarning: reduction: 'mean' divides the total loss by both the batch size and the support size.'batchmean' divides only by the batch size, and aligns with the KL div math definition.'mean' will be changed to behave the same as 'batchmean' in the next major release.\n",
            "  \"reduction: 'mean' divides the total loss by both the batch size and the support size.\"\n",
            "0% [██████████████████████████████] 100% | ETA: 00:00:00\n",
            "Total time elapsed: 00:00:25\n"
          ]
        },
        {
          "output_type": "stream",
          "name": "stdout",
          "text": [
            "Finished Epoch 1 || Run Time:   10.6 | Load Time:   15.5 || F1:  76.82 | Prec:  72.27 | Rec:  81.98 || Ex/s: 284.63\n",
            "\n",
            "===>  EVAL Epoch 1\n"
          ]
        },
        {
          "output_type": "stream",
          "name": "stderr",
          "text": [
            "0% [███████████████] 100% | ETA: 00:00:00\n",
            "Total time elapsed: 00:00:05\n"
          ]
        },
        {
          "output_type": "stream",
          "name": "stdout",
          "text": [
            "Finished Epoch 1 || Run Time:    1.5 | Load Time:    4.7 || F1:  88.48 | Prec:  80.82 | Rec:  97.75 || Ex/s: 398.60\n",
            "\n",
            "* Best F1: tensor(88.4811, device='cuda:0')\n",
            "Saving best model...\n",
            "Done.\n",
            "---------------------\n",
            "\n",
            "===>  TRAIN Epoch 2\n"
          ]
        },
        {
          "output_type": "stream",
          "name": "stderr",
          "text": [
            "0% [██████████████████████████████] 100% | ETA: 00:00:00\n",
            "Total time elapsed: 00:00:22\n"
          ]
        },
        {
          "output_type": "stream",
          "name": "stdout",
          "text": [
            "Finished Epoch 2 || Run Time:    9.3 | Load Time:   13.8 || F1:  94.28 | Prec:  92.68 | Rec:  95.95 || Ex/s: 321.28\n",
            "\n",
            "===>  EVAL Epoch 2\n"
          ]
        },
        {
          "output_type": "stream",
          "name": "stderr",
          "text": [
            "0% [███████████████] 100% | ETA: 00:00:00\n",
            "Total time elapsed: 00:00:05\n"
          ]
        },
        {
          "output_type": "stream",
          "name": "stdout",
          "text": [
            "Finished Epoch 2 || Run Time:    1.4 | Load Time:    4.3 || F1:  90.99 | Prec:  85.10 | Rec:  97.75 || Ex/s: 434.36\n",
            "\n",
            "* Best F1: tensor(90.9853, device='cuda:0')\n",
            "Saving best model...\n",
            "Done.\n",
            "---------------------\n",
            "\n",
            "===>  TRAIN Epoch 3\n"
          ]
        },
        {
          "output_type": "stream",
          "name": "stderr",
          "text": [
            "0% [██████████████████████████████] 100% | ETA: 00:00:00\n",
            "Total time elapsed: 00:00:22\n"
          ]
        },
        {
          "output_type": "stream",
          "name": "stdout",
          "text": [
            "Finished Epoch 3 || Run Time:    9.3 | Load Time:   13.9 || F1:  96.69 | Prec:  95.80 | Rec:  97.60 || Ex/s: 319.04\n",
            "\n",
            "===>  EVAL Epoch 3\n"
          ]
        },
        {
          "output_type": "stream",
          "name": "stderr",
          "text": [
            "0% [███████████████] 100% | ETA: 00:00:00\n",
            "Total time elapsed: 00:00:05\n"
          ]
        },
        {
          "output_type": "stream",
          "name": "stdout",
          "text": [
            "Finished Epoch 3 || Run Time:    1.4 | Load Time:    4.3 || F1:  92.62 | Prec:  88.19 | Rec:  97.52 || Ex/s: 432.65\n",
            "\n",
            "* Best F1: tensor(92.6203, device='cuda:0')\n",
            "Saving best model...\n",
            "Done.\n",
            "---------------------\n",
            "\n",
            "===>  TRAIN Epoch 4\n"
          ]
        },
        {
          "output_type": "stream",
          "name": "stderr",
          "text": [
            "0% [██████████████████████████████] 100% | ETA: 00:00:00\n",
            "Total time elapsed: 00:00:22\n"
          ]
        },
        {
          "output_type": "stream",
          "name": "stdout",
          "text": [
            "Finished Epoch 4 || Run Time:    9.4 | Load Time:   13.9 || F1:  97.65 | Prec:  97.17 | Rec:  98.12 || Ex/s: 318.85\n",
            "\n",
            "===>  EVAL Epoch 4\n"
          ]
        },
        {
          "output_type": "stream",
          "name": "stderr",
          "text": [
            "0% [███████████████] 100% | ETA: 00:00:00\n",
            "Total time elapsed: 00:00:05\n"
          ]
        },
        {
          "output_type": "stream",
          "name": "stdout",
          "text": [
            "Finished Epoch 4 || Run Time:    1.4 | Load Time:    4.4 || F1:  93.08 | Prec:  88.28 | Rec:  98.42 || Ex/s: 430.19\n",
            "\n",
            "* Best F1: tensor(93.0777, device='cuda:0')\n",
            "Saving best model...\n",
            "Done.\n",
            "---------------------\n",
            "\n",
            "===>  TRAIN Epoch 5\n"
          ]
        },
        {
          "output_type": "stream",
          "name": "stderr",
          "text": [
            "0% [██████████████████████████████] 100% | ETA: 00:00:00\n",
            "Total time elapsed: 00:00:23\n"
          ]
        },
        {
          "output_type": "stream",
          "name": "stdout",
          "text": [
            "Finished Epoch 5 || Run Time:    9.4 | Load Time:   14.3 || F1:  98.61 | Prec:  98.57 | Rec:  98.65 || Ex/s: 313.49\n",
            "\n",
            "===>  EVAL Epoch 5\n"
          ]
        },
        {
          "output_type": "stream",
          "name": "stderr",
          "text": [
            "0% [███████████████] 100% | ETA: 00:00:00\n",
            "Total time elapsed: 00:00:05\n"
          ]
        },
        {
          "output_type": "stream",
          "name": "stdout",
          "text": [
            "Finished Epoch 5 || Run Time:    1.4 | Load Time:    4.3 || F1:  93.82 | Prec:  90.40 | Rec:  97.52 || Ex/s: 432.55\n",
            "\n",
            "* Best F1: tensor(93.8245, device='cuda:0')\n",
            "Saving best model...\n",
            "Done.\n",
            "---------------------\n",
            "\n",
            "===>  TRAIN Epoch 6\n"
          ]
        },
        {
          "output_type": "stream",
          "name": "stderr",
          "text": [
            "0% [██████████████████████████████] 100% | ETA: 00:00:00\n",
            "Total time elapsed: 00:00:23\n"
          ]
        },
        {
          "output_type": "stream",
          "name": "stdout",
          "text": [
            "Finished Epoch 6 || Run Time:    9.3 | Load Time:   14.1 || F1:  98.84 | Prec:  98.87 | Rec:  98.80 || Ex/s: 315.98\n",
            "\n",
            "===>  EVAL Epoch 6\n"
          ]
        },
        {
          "output_type": "stream",
          "name": "stderr",
          "text": [
            "0% [███████████████] 100% | ETA: 00:00:00\n",
            "Total time elapsed: 00:00:05\n"
          ]
        },
        {
          "output_type": "stream",
          "name": "stdout",
          "text": [
            "Finished Epoch 6 || Run Time:    1.4 | Load Time:    4.4 || F1:  94.61 | Prec:  92.47 | Rec:  96.85 || Ex/s: 429.95\n",
            "\n",
            "* Best F1: tensor(94.6095, device='cuda:0')\n",
            "Saving best model...\n",
            "Done.\n",
            "---------------------\n",
            "\n",
            "===>  TRAIN Epoch 7\n"
          ]
        },
        {
          "output_type": "stream",
          "name": "stderr",
          "text": [
            "0% [██████████████████████████████] 100% | ETA: 00:00:00\n",
            "Total time elapsed: 00:00:23\n"
          ]
        },
        {
          "output_type": "stream",
          "name": "stdout",
          "text": [
            "Finished Epoch 7 || Run Time:    9.3 | Load Time:   14.0 || F1:  99.02 | Prec:  99.17 | Rec:  98.87 || Ex/s: 318.38\n",
            "\n",
            "===>  EVAL Epoch 7\n"
          ]
        },
        {
          "output_type": "stream",
          "name": "stderr",
          "text": [
            "0% [███████████████] 100% | ETA: 00:00:00\n",
            "Total time elapsed: 00:00:05\n"
          ]
        },
        {
          "output_type": "stream",
          "name": "stdout",
          "text": [
            "Finished Epoch 7 || Run Time:    1.4 | Load Time:    4.4 || F1:  94.74 | Prec:  92.31 | Rec:  97.30 || Ex/s: 430.65\n",
            "\n",
            "* Best F1: tensor(94.7368, device='cuda:0')\n",
            "Saving best model...\n",
            "Done.\n",
            "---------------------\n",
            "\n",
            "===>  TRAIN Epoch 8\n"
          ]
        },
        {
          "output_type": "stream",
          "name": "stderr",
          "text": [
            "0% [██████████████████████████████] 100% | ETA: 00:00:00\n",
            "Total time elapsed: 00:00:23\n"
          ]
        },
        {
          "output_type": "stream",
          "name": "stdout",
          "text": [
            "Finished Epoch 8 || Run Time:    9.4 | Load Time:   14.3 || F1:  99.25 | Prec:  99.40 | Rec:  99.10 || Ex/s: 312.87\n",
            "\n",
            "===>  EVAL Epoch 8\n"
          ]
        },
        {
          "output_type": "stream",
          "name": "stderr",
          "text": [
            "0% [███████████████] 100% | ETA: 00:00:00\n",
            "Total time elapsed: 00:00:05\n"
          ]
        },
        {
          "output_type": "stream",
          "name": "stdout",
          "text": [
            "Finished Epoch 8 || Run Time:    1.4 | Load Time:    4.4 || F1:  94.64 | Prec:  91.93 | Rec:  97.52 || Ex/s: 428.44\n",
            "\n",
            "---------------------\n",
            "\n",
            "===>  TRAIN Epoch 9\n"
          ]
        },
        {
          "output_type": "stream",
          "name": "stderr",
          "text": [
            "0% [██████████████████████████████] 100% | ETA: 00:00:00\n",
            "Total time elapsed: 00:00:22\n"
          ]
        },
        {
          "output_type": "stream",
          "name": "stdout",
          "text": [
            "Finished Epoch 9 || Run Time:    9.2 | Load Time:   14.0 || F1:  99.40 | Prec:  99.55 | Rec:  99.25 || Ex/s: 320.23\n",
            "\n",
            "===>  EVAL Epoch 9\n"
          ]
        },
        {
          "output_type": "stream",
          "name": "stderr",
          "text": [
            "0% [███████████████] 100% | ETA: 00:00:00\n",
            "Total time elapsed: 00:00:05\n"
          ]
        },
        {
          "output_type": "stream",
          "name": "stdout",
          "text": [
            "Finished Epoch 9 || Run Time:    1.4 | Load Time:    4.4 || F1:  94.31 | Prec:  91.70 | Rec:  97.07 || Ex/s: 430.66\n",
            "\n",
            "---------------------\n",
            "\n",
            "===>  TRAIN Epoch 10\n"
          ]
        },
        {
          "output_type": "stream",
          "name": "stderr",
          "text": [
            "0% [██████████████████████████████] 100% | ETA: 00:00:00\n",
            "Total time elapsed: 00:00:22\n"
          ]
        },
        {
          "output_type": "stream",
          "name": "stdout",
          "text": [
            "Finished Epoch 10 || Run Time:    9.3 | Load Time:   13.9 || F1:  99.44 | Prec:  99.55 | Rec:  99.32 || Ex/s: 320.47\n",
            "\n",
            "===>  EVAL Epoch 10\n"
          ]
        },
        {
          "output_type": "stream",
          "name": "stderr",
          "text": [
            "0% [███████████████] 100% | ETA: 00:00:00\n",
            "Total time elapsed: 00:00:05\n"
          ]
        },
        {
          "output_type": "stream",
          "name": "stdout",
          "text": [
            "Finished Epoch 10 || Run Time:    1.4 | Load Time:    4.4 || F1:  94.53 | Prec:  91.91 | Rec:  97.30 || Ex/s: 430.33\n",
            "\n",
            "---------------------\n",
            "\n",
            "===>  TRAIN Epoch 11\n"
          ]
        },
        {
          "output_type": "stream",
          "name": "stderr",
          "text": [
            "0% [██████████████████████████████] 100% | ETA: 00:00:00\n",
            "Total time elapsed: 00:00:22\n"
          ]
        },
        {
          "output_type": "stream",
          "name": "stdout",
          "text": [
            "Finished Epoch 11 || Run Time:    9.2 | Load Time:   14.0 || F1:  99.59 | Prec:  99.62 | Rec:  99.55 || Ex/s: 320.01\n",
            "\n",
            "===>  EVAL Epoch 11\n"
          ]
        },
        {
          "output_type": "stream",
          "name": "stderr",
          "text": [
            "0% [███████████████] 100% | ETA: 00:00:00\n",
            "Total time elapsed: 00:00:05\n"
          ]
        },
        {
          "output_type": "stream",
          "name": "stdout",
          "text": [
            "Finished Epoch 11 || Run Time:    1.5 | Load Time:    4.8 || F1:  94.44 | Prec:  91.54 | Rec:  97.52 || Ex/s: 397.55\n",
            "\n",
            "---------------------\n",
            "\n",
            "===>  TRAIN Epoch 12\n"
          ]
        },
        {
          "output_type": "stream",
          "name": "stderr",
          "text": [
            "0% [██████████████████████████████] 100% | ETA: 00:00:00\n",
            "Total time elapsed: 00:00:23\n"
          ]
        },
        {
          "output_type": "stream",
          "name": "stdout",
          "text": [
            "Finished Epoch 12 || Run Time:    9.3 | Load Time:   14.0 || F1:  99.66 | Prec:  99.70 | Rec:  99.62 || Ex/s: 317.39\n",
            "\n",
            "===>  EVAL Epoch 12\n"
          ]
        },
        {
          "output_type": "stream",
          "name": "stderr",
          "text": [
            "0% [███████████████] 100% | ETA: 00:00:00\n",
            "Total time elapsed: 00:00:05\n"
          ]
        },
        {
          "output_type": "stream",
          "name": "stdout",
          "text": [
            "Finished Epoch 12 || Run Time:    1.4 | Load Time:    4.4 || F1:  94.54 | Prec:  91.74 | Rec:  97.52 || Ex/s: 430.95\n",
            "\n",
            "---------------------\n",
            "\n",
            "===>  TRAIN Epoch 13\n"
          ]
        },
        {
          "output_type": "stream",
          "name": "stderr",
          "text": [
            "0% [██████████████████████████████] 100% | ETA: 00:00:00\n",
            "Total time elapsed: 00:00:22\n"
          ]
        },
        {
          "output_type": "stream",
          "name": "stdout",
          "text": [
            "Finished Epoch 13 || Run Time:    9.3 | Load Time:   13.9 || F1:  99.66 | Prec:  99.70 | Rec:  99.62 || Ex/s: 320.44\n",
            "\n",
            "===>  EVAL Epoch 13\n"
          ]
        },
        {
          "output_type": "stream",
          "name": "stderr",
          "text": [
            "0% [███████████████] 100% | ETA: 00:00:00\n",
            "Total time elapsed: 00:00:05\n"
          ]
        },
        {
          "output_type": "stream",
          "name": "stdout",
          "text": [
            "Finished Epoch 13 || Run Time:    1.4 | Load Time:    4.4 || F1:  94.54 | Prec:  91.74 | Rec:  97.52 || Ex/s: 430.42\n",
            "\n",
            "---------------------\n",
            "\n",
            "===>  TRAIN Epoch 14\n"
          ]
        },
        {
          "output_type": "stream",
          "name": "stderr",
          "text": [
            "0% [██████████████████████████████] 100% | ETA: 00:00:00\n",
            "Total time elapsed: 00:00:22\n"
          ]
        },
        {
          "output_type": "stream",
          "name": "stdout",
          "text": [
            "Finished Epoch 14 || Run Time:    9.3 | Load Time:   13.9 || F1:  99.66 | Prec:  99.70 | Rec:  99.62 || Ex/s: 319.83\n",
            "\n",
            "===>  EVAL Epoch 14\n"
          ]
        },
        {
          "output_type": "stream",
          "name": "stderr",
          "text": [
            "0% [███████████████] 100% | ETA: 00:00:00\n",
            "Total time elapsed: 00:00:05\n"
          ]
        },
        {
          "output_type": "stream",
          "name": "stdout",
          "text": [
            "Finished Epoch 14 || Run Time:    1.4 | Load Time:    4.4 || F1:  94.54 | Prec:  91.74 | Rec:  97.52 || Ex/s: 431.33\n",
            "\n",
            "---------------------\n",
            "\n",
            "===>  TRAIN Epoch 15\n"
          ]
        },
        {
          "output_type": "stream",
          "name": "stderr",
          "text": [
            "0% [██████████████████████████████] 100% | ETA: 00:00:00\n",
            "Total time elapsed: 00:00:23\n"
          ]
        },
        {
          "output_type": "stream",
          "name": "stdout",
          "text": [
            "Finished Epoch 15 || Run Time:    9.4 | Load Time:   14.3 || F1:  99.66 | Prec:  99.70 | Rec:  99.62 || Ex/s: 313.28\n",
            "\n",
            "===>  EVAL Epoch 15\n"
          ]
        },
        {
          "output_type": "stream",
          "name": "stderr",
          "text": [
            "0% [███████████████] 100% | ETA: 00:00:00\n",
            "Total time elapsed: 00:00:05\n"
          ]
        },
        {
          "output_type": "stream",
          "name": "stdout",
          "text": [
            "Finished Epoch 15 || Run Time:    1.4 | Load Time:    4.4 || F1:  94.64 | Prec:  91.93 | Rec:  97.52 || Ex/s: 432.68\n",
            "\n",
            "---------------------\n",
            "\n",
            "Loading best model...\n",
            "Training done.\n"
          ]
        },
        {
          "output_type": "execute_result",
          "data": {
            "text/plain": [
              "tensor(94.7368, device='cuda:0')"
            ]
          },
          "metadata": {},
          "execution_count": 13
        }
      ],
      "source": [
        "model.run_train(\n",
        "    train,\n",
        "    validation,\n",
        "    epochs=15,\n",
        "    batch_size=32,\n",
        "    best_save_path='rnn_model.pth',\n",
        "    pos_neg_ratio=3)"
      ]
    },
    {
      "cell_type": "code",
      "execution_count": null,
      "metadata": {
        "id": "6ZcSXyZ47Hrs",
        "colab": {
          "base_uri": "https://localhost:8080/"
        },
        "outputId": "b87a5c88-050c-406c-9cbf-0af41739ab1c"
      },
      "outputs": [
        {
          "output_type": "stream",
          "name": "stdout",
          "text": [
            "===>  EVAL Epoch 7\n"
          ]
        },
        {
          "output_type": "stream",
          "name": "stderr",
          "text": [
            "/usr/local/lib/python3.7/dist-packages/torch/nn/modules/module.py:949: UserWarning: Using non-full backward hooks on a Module that does not take as input a single Tensor or a tuple of Tensors is deprecated and will be removed in future versions. This hook will be missing some of the grad_input. Please use register_full_backward_hook to get the documented behavior.\n",
            "  warnings.warn(\"Using non-full backward hooks on a Module that does not take as input a \"\n",
            "/usr/local/lib/python3.7/dist-packages/torch/nn/modules/module.py:939: UserWarning: Using non-full backward hooks on a Module that does not return a single Tensor or a tuple of Tensors is deprecated and will be removed in future versions. This hook will be missing some of the grad_output. Please use register_full_backward_hook to get the documented behavior.\n",
            "  warnings.warn(\"Using non-full backward hooks on a Module that does not return a \"\n",
            "/usr/local/lib/python3.7/dist-packages/torch/nn/modules/module.py:974: UserWarning: Using a non-full backward hook when the forward contains multiple autograd Nodes is deprecated and will be removed in future versions. This hook will be missing some grad_input. Please use register_full_backward_hook to get the documented behavior.\n",
            "  warnings.warn(\"Using a non-full backward hook when the forward contains multiple autograd Nodes \"\n",
            "0% [███████████████] 100% | ETA: 00:00:00\n",
            "Total time elapsed: 00:00:05\n"
          ]
        },
        {
          "output_type": "stream",
          "name": "stdout",
          "text": [
            "Finished Epoch 7 || Run Time:    1.4 | Load Time:    4.3 || F1:  94.82 | Prec:  92.87 | Rec:  96.85 || Ex/s: 435.15\n",
            "\n"
          ]
        },
        {
          "output_type": "execute_result",
          "data": {
            "text/plain": [
              "tensor(94.8181, device='cuda:0')"
            ]
          },
          "metadata": {},
          "execution_count": 14
        }
      ],
      "source": [
        "# Compute F1 on test set\n",
        "model.run_eval(test)"
      ]
    },
    {
      "cell_type": "markdown",
      "metadata": {
        "id": "z3GacbuU7IlJ"
      },
      "source": [
        "##### DBLP-GoogleScholar"
      ]
    },
    {
      "cell_type": "code",
      "execution_count": null,
      "metadata": {
        "id": "kbi6lSwK7IlK"
      },
      "outputs": [],
      "source": [
        "train, validation, test = dm.data.process(\n",
        "    path='/content/IC/datasesErros/AADatasets/Dirty/DBLP-GoogleScholar//',\n",
        "    train='joined_train.csv',\n",
        "    validation='joined_valid.csv',\n",
        "    test='joined_test.csv')"
      ]
    },
    {
      "cell_type": "code",
      "execution_count": null,
      "metadata": {
        "id": "-ejJQZDB7IlK"
      },
      "outputs": [],
      "source": [
        "model = dm.MatchingModel(attr_summarizer='rnn')"
      ]
    },
    {
      "cell_type": "code",
      "execution_count": null,
      "metadata": {
        "id": "U0x9AtzJ7IlL",
        "colab": {
          "base_uri": "https://localhost:8080/"
        },
        "outputId": "f4a3dcf2-555b-45df-bdfb-27bbca374861"
      },
      "outputs": [
        {
          "output_type": "stream",
          "name": "stderr",
          "text": [
            "/usr/local/lib/python3.7/dist-packages/torch/nn/modules/module.py:949: UserWarning: Using non-full backward hooks on a Module that does not take as input a single Tensor or a tuple of Tensors is deprecated and will be removed in future versions. This hook will be missing some of the grad_input. Please use register_full_backward_hook to get the documented behavior.\n",
            "  warnings.warn(\"Using non-full backward hooks on a Module that does not take as input a \"\n",
            "/usr/local/lib/python3.7/dist-packages/torch/nn/modules/module.py:974: UserWarning: Using a non-full backward hook when the forward contains multiple autograd Nodes is deprecated and will be removed in future versions. This hook will be missing some grad_input. Please use register_full_backward_hook to get the documented behavior.\n",
            "  warnings.warn(\"Using a non-full backward hook when the forward contains multiple autograd Nodes \"\n"
          ]
        },
        {
          "output_type": "stream",
          "name": "stdout",
          "text": [
            "* Number of trainable parameters: 2169602\n",
            "===>  TRAIN Epoch 1\n"
          ]
        },
        {
          "output_type": "stream",
          "name": "stderr",
          "text": [
            "/usr/local/lib/python3.7/dist-packages/torch/nn/modules/module.py:939: UserWarning: Using non-full backward hooks on a Module that does not return a single Tensor or a tuple of Tensors is deprecated and will be removed in future versions. This hook will be missing some of the grad_output. Please use register_full_backward_hook to get the documented behavior.\n",
            "  warnings.warn(\"Using non-full backward hooks on a Module that does not return a \"\n",
            "/usr/local/lib/python3.7/dist-packages/torch/nn/functional.py:2742: UserWarning: reduction: 'mean' divides the total loss by both the batch size and the support size.'batchmean' divides only by the batch size, and aligns with the KL div math definition.'mean' will be changed to behave the same as 'batchmean' in the next major release.\n",
            "  \"reduction: 'mean' divides the total loss by both the batch size and the support size.\"\n",
            "0% [██████████████████████████████] 100% | ETA: 00:00:00\n",
            "Total time elapsed: 00:00:51\n"
          ]
        },
        {
          "output_type": "stream",
          "name": "stdout",
          "text": [
            "Finished Epoch 1 || Run Time:   21.6 | Load Time:   30.2 || F1:  70.71 | Prec:  64.09 | Rec:  78.86 || Ex/s: 332.69\n",
            "\n",
            "===>  EVAL Epoch 1\n"
          ]
        },
        {
          "output_type": "stream",
          "name": "stderr",
          "text": [
            "0% [██████████████████████████████] 100% | ETA: 00:00:00\n",
            "Total time elapsed: 00:00:11\n"
          ]
        },
        {
          "output_type": "stream",
          "name": "stdout",
          "text": [
            "Finished Epoch 1 || Run Time:    3.0 | Load Time:    8.6 || F1:  84.01 | Prec:  77.79 | Rec:  91.31 || Ex/s: 494.65\n",
            "\n",
            "* Best F1: tensor(84.0069, device='cuda:0')\n",
            "Saving best model...\n",
            "Done.\n",
            "---------------------\n",
            "\n",
            "===>  TRAIN Epoch 2\n"
          ]
        },
        {
          "output_type": "stream",
          "name": "stderr",
          "text": [
            "0% [██████████████████████████████] 100% | ETA: 00:00:00\n",
            "Total time elapsed: 00:00:48\n"
          ]
        },
        {
          "output_type": "stream",
          "name": "stdout",
          "text": [
            "Finished Epoch 2 || Run Time:   20.1 | Load Time:   28.5 || F1:  88.56 | Prec:  84.40 | Rec:  93.14 || Ex/s: 354.77\n",
            "\n",
            "===>  EVAL Epoch 2\n"
          ]
        },
        {
          "output_type": "stream",
          "name": "stderr",
          "text": [
            "0% [██████████████████████████████] 100% | ETA: 00:00:00\n",
            "Total time elapsed: 00:00:11\n"
          ]
        },
        {
          "output_type": "stream",
          "name": "stdout",
          "text": [
            "Finished Epoch 2 || Run Time:    3.0 | Load Time:    8.7 || F1:  88.29 | Prec:  87.09 | Rec:  89.53 || Ex/s: 493.74\n",
            "\n",
            "* Best F1: tensor(88.2949, device='cuda:0')\n",
            "Saving best model...\n",
            "Done.\n",
            "---------------------\n",
            "\n",
            "===>  TRAIN Epoch 3\n"
          ]
        },
        {
          "output_type": "stream",
          "name": "stderr",
          "text": [
            "0% [██████████████████████████████] 100% | ETA: 00:00:00\n",
            "Total time elapsed: 00:00:48\n"
          ]
        },
        {
          "output_type": "stream",
          "name": "stdout",
          "text": [
            "Finished Epoch 3 || Run Time:   20.2 | Load Time:   28.5 || F1:  94.62 | Prec:  92.52 | Rec:  96.82 || Ex/s: 353.69\n",
            "\n",
            "===>  EVAL Epoch 3\n"
          ]
        },
        {
          "output_type": "stream",
          "name": "stderr",
          "text": [
            "0% [██████████████████████████████] 100% | ETA: 00:00:00\n",
            "Total time elapsed: 00:00:11\n"
          ]
        },
        {
          "output_type": "stream",
          "name": "stdout",
          "text": [
            "Finished Epoch 3 || Run Time:    3.0 | Load Time:    8.6 || F1:  89.20 | Prec:  89.24 | Rec:  89.16 || Ex/s: 494.54\n",
            "\n",
            "* Best F1: tensor(89.2006, device='cuda:0')\n",
            "Saving best model...\n",
            "Done.\n",
            "---------------------\n",
            "\n",
            "===>  TRAIN Epoch 4\n"
          ]
        },
        {
          "output_type": "stream",
          "name": "stderr",
          "text": [
            "0% [██████████████████████████████] 100% | ETA: 00:00:00\n",
            "Total time elapsed: 00:00:47\n"
          ]
        },
        {
          "output_type": "stream",
          "name": "stdout",
          "text": [
            "Finished Epoch 4 || Run Time:   20.0 | Load Time:   28.2 || F1:  97.15 | Prec:  96.10 | Rec:  98.22 || Ex/s: 356.99\n",
            "\n",
            "===>  EVAL Epoch 4\n"
          ]
        },
        {
          "output_type": "stream",
          "name": "stderr",
          "text": [
            "0% [██████████████████████████████] 100% | ETA: 00:00:00\n",
            "Total time elapsed: 00:00:12\n"
          ]
        },
        {
          "output_type": "stream",
          "name": "stdout",
          "text": [
            "Finished Epoch 4 || Run Time:    3.1 | Load Time:    8.9 || F1:  89.91 | Prec:  89.45 | Rec:  90.37 || Ex/s: 476.29\n",
            "\n",
            "* Best F1: tensor(89.9117, device='cuda:0')\n",
            "Saving best model...\n",
            "Done.\n",
            "---------------------\n",
            "\n",
            "===>  TRAIN Epoch 5\n"
          ]
        },
        {
          "output_type": "stream",
          "name": "stderr",
          "text": [
            "0% [██████████████████████████████] 100% | ETA: 00:00:00\n",
            "Total time elapsed: 00:00:47\n"
          ]
        },
        {
          "output_type": "stream",
          "name": "stdout",
          "text": [
            "Finished Epoch 5 || Run Time:   20.0 | Load Time:   28.2 || F1:  98.48 | Prec:  98.05 | Rec:  98.91 || Ex/s: 357.00\n",
            "\n",
            "===>  EVAL Epoch 5\n"
          ]
        },
        {
          "output_type": "stream",
          "name": "stderr",
          "text": [
            "0% [██████████████████████████████] 100% | ETA: 00:00:00\n",
            "Total time elapsed: 00:00:11\n"
          ]
        },
        {
          "output_type": "stream",
          "name": "stdout",
          "text": [
            "Finished Epoch 5 || Run Time:    3.0 | Load Time:    8.6 || F1:  89.70 | Prec:  88.32 | Rec:  91.12 || Ex/s: 495.16\n",
            "\n",
            "---------------------\n",
            "\n",
            "===>  TRAIN Epoch 6\n"
          ]
        },
        {
          "output_type": "stream",
          "name": "stderr",
          "text": [
            "0% [██████████████████████████████] 100% | ETA: 00:00:00\n",
            "Total time elapsed: 00:00:48\n"
          ]
        },
        {
          "output_type": "stream",
          "name": "stdout",
          "text": [
            "Finished Epoch 6 || Run Time:   20.2 | Load Time:   28.4 || F1:  99.04 | Prec:  98.76 | Rec:  99.31 || Ex/s: 354.39\n",
            "\n",
            "===>  EVAL Epoch 6\n"
          ]
        },
        {
          "output_type": "stream",
          "name": "stderr",
          "text": [
            "0% [██████████████████████████████] 100% | ETA: 00:00:00\n",
            "Total time elapsed: 00:00:11\n"
          ]
        },
        {
          "output_type": "stream",
          "name": "stdout",
          "text": [
            "Finished Epoch 6 || Run Time:    3.0 | Load Time:    8.6 || F1:  90.06 | Prec:  89.56 | Rec:  90.56 || Ex/s: 492.89\n",
            "\n",
            "* Best F1: tensor(90.0558, device='cuda:0')\n",
            "Saving best model...\n",
            "Done.\n",
            "---------------------\n",
            "\n",
            "===>  TRAIN Epoch 7\n"
          ]
        },
        {
          "output_type": "stream",
          "name": "stderr",
          "text": [
            "0% [██████████████████████████████] 100% | ETA: 00:00:00\n",
            "Total time elapsed: 00:00:47\n"
          ]
        },
        {
          "output_type": "stream",
          "name": "stdout",
          "text": [
            "Finished Epoch 7 || Run Time:   20.0 | Load Time:   28.2 || F1:  99.33 | Prec:  99.28 | Rec:  99.38 || Ex/s: 357.55\n",
            "\n",
            "===>  EVAL Epoch 7\n"
          ]
        },
        {
          "output_type": "stream",
          "name": "stderr",
          "text": [
            "0% [██████████████████████████████] 100% | ETA: 00:00:00\n",
            "Total time elapsed: 00:00:11\n"
          ]
        },
        {
          "output_type": "stream",
          "name": "stdout",
          "text": [
            "Finished Epoch 7 || Run Time:    3.0 | Load Time:    8.6 || F1:  90.22 | Prec:  93.13 | Rec:  87.48 || Ex/s: 494.37\n",
            "\n",
            "* Best F1: tensor(90.2169, device='cuda:0')\n",
            "Saving best model...\n",
            "Done.\n",
            "---------------------\n",
            "\n",
            "===>  TRAIN Epoch 8\n"
          ]
        },
        {
          "output_type": "stream",
          "name": "stderr",
          "text": [
            "0% [██████████████████████████████] 100% | ETA: 00:00:00\n",
            "Total time elapsed: 00:00:48\n"
          ]
        },
        {
          "output_type": "stream",
          "name": "stdout",
          "text": [
            "Finished Epoch 8 || Run Time:   20.3 | Load Time:   28.5 || F1:  99.58 | Prec:  99.59 | Rec:  99.56 || Ex/s: 352.82\n",
            "\n",
            "===>  EVAL Epoch 8\n"
          ]
        },
        {
          "output_type": "stream",
          "name": "stderr",
          "text": [
            "0% [██████████████████████████████] 100% | ETA: 00:00:00\n",
            "Total time elapsed: 00:00:11\n"
          ]
        },
        {
          "output_type": "stream",
          "name": "stdout",
          "text": [
            "Finished Epoch 8 || Run Time:    3.0 | Load Time:    8.6 || F1:  90.97 | Prec:  91.57 | Rec:  90.37 || Ex/s: 494.82\n",
            "\n",
            "* Best F1: tensor(90.9690, device='cuda:0')\n",
            "Saving best model...\n",
            "Done.\n",
            "---------------------\n",
            "\n",
            "===>  TRAIN Epoch 9\n"
          ]
        },
        {
          "output_type": "stream",
          "name": "stderr",
          "text": [
            "0% [██████████████████████████████] 100% | ETA: 00:00:00\n",
            "Total time elapsed: 00:00:48\n"
          ]
        },
        {
          "output_type": "stream",
          "name": "stdout",
          "text": [
            "Finished Epoch 9 || Run Time:   20.2 | Load Time:   28.5 || F1:  99.64 | Prec:  99.66 | Rec:  99.63 || Ex/s: 353.72\n",
            "\n",
            "===>  EVAL Epoch 9\n"
          ]
        },
        {
          "output_type": "stream",
          "name": "stderr",
          "text": [
            "0% [██████████████████████████████] 100% | ETA: 00:00:00\n",
            "Total time elapsed: 00:00:11\n"
          ]
        },
        {
          "output_type": "stream",
          "name": "stdout",
          "text": [
            "Finished Epoch 9 || Run Time:    3.0 | Load Time:    8.6 || F1:  90.26 | Prec:  90.43 | Rec:  90.09 || Ex/s: 495.27\n",
            "\n",
            "---------------------\n",
            "\n",
            "===>  TRAIN Epoch 10\n"
          ]
        },
        {
          "output_type": "stream",
          "name": "stderr",
          "text": [
            "0% [██████████████████████████████] 100% | ETA: 00:00:00\n",
            "Total time elapsed: 00:00:47\n"
          ]
        },
        {
          "output_type": "stream",
          "name": "stdout",
          "text": [
            "Finished Epoch 10 || Run Time:   19.9 | Load Time:   28.2 || F1:  99.72 | Prec:  99.72 | Rec:  99.72 || Ex/s: 358.16\n",
            "\n",
            "===>  EVAL Epoch 10\n"
          ]
        },
        {
          "output_type": "stream",
          "name": "stderr",
          "text": [
            "0% [██████████████████████████████] 100% | ETA: 00:00:00\n",
            "Total time elapsed: 00:00:11\n"
          ]
        },
        {
          "output_type": "stream",
          "name": "stdout",
          "text": [
            "Finished Epoch 10 || Run Time:    3.0 | Load Time:    8.7 || F1:  90.28 | Prec:  89.01 | Rec:  91.59 || Ex/s: 492.99\n",
            "\n",
            "---------------------\n",
            "\n",
            "===>  TRAIN Epoch 11\n"
          ]
        },
        {
          "output_type": "stream",
          "name": "stderr",
          "text": [
            "0% [██████████████████████████████] 100% | ETA: 00:00:00\n",
            "Total time elapsed: 00:00:48\n"
          ]
        },
        {
          "output_type": "stream",
          "name": "stdout",
          "text": [
            "Finished Epoch 11 || Run Time:   20.1 | Load Time:   28.5 || F1:  99.69 | Prec:  99.66 | Rec:  99.72 || Ex/s: 354.23\n",
            "\n",
            "===>  EVAL Epoch 11\n"
          ]
        },
        {
          "output_type": "stream",
          "name": "stderr",
          "text": [
            "0% [██████████████████████████████] 100% | ETA: 00:00:00\n",
            "Total time elapsed: 00:00:11\n"
          ]
        },
        {
          "output_type": "stream",
          "name": "stdout",
          "text": [
            "Finished Epoch 11 || Run Time:    3.0 | Load Time:    8.6 || F1:  90.86 | Prec:  90.23 | Rec:  91.50 || Ex/s: 494.17\n",
            "\n",
            "---------------------\n",
            "\n",
            "===>  TRAIN Epoch 12\n"
          ]
        },
        {
          "output_type": "stream",
          "name": "stderr",
          "text": [
            "0% [██████████████████████████████] 100% | ETA: 00:00:00\n",
            "Total time elapsed: 00:00:47\n"
          ]
        },
        {
          "output_type": "stream",
          "name": "stdout",
          "text": [
            "Finished Epoch 12 || Run Time:   20.0 | Load Time:   28.2 || F1:  99.80 | Prec:  99.81 | Rec:  99.78 || Ex/s: 357.09\n",
            "\n",
            "===>  EVAL Epoch 12\n"
          ]
        },
        {
          "output_type": "stream",
          "name": "stderr",
          "text": [
            "0% [██████████████████████████████] 100% | ETA: 00:00:00\n",
            "Total time elapsed: 00:00:12\n"
          ]
        },
        {
          "output_type": "stream",
          "name": "stdout",
          "text": [
            "Finished Epoch 12 || Run Time:    3.1 | Load Time:    8.9 || F1:  90.73 | Prec:  90.44 | Rec:  91.03 || Ex/s: 474.70\n",
            "\n",
            "---------------------\n",
            "\n",
            "===>  TRAIN Epoch 13\n"
          ]
        },
        {
          "output_type": "stream",
          "name": "stderr",
          "text": [
            "0% [██████████████████████████████] 100% | ETA: 00:00:00\n",
            "Total time elapsed: 00:00:47\n"
          ]
        },
        {
          "output_type": "stream",
          "name": "stdout",
          "text": [
            "Finished Epoch 13 || Run Time:   20.1 | Load Time:   28.3 || F1:  99.80 | Prec:  99.84 | Rec:  99.75 || Ex/s: 356.26\n",
            "\n",
            "===>  EVAL Epoch 13\n"
          ]
        },
        {
          "output_type": "stream",
          "name": "stderr",
          "text": [
            "0% [██████████████████████████████] 100% | ETA: 00:00:00\n",
            "Total time elapsed: 00:00:11\n"
          ]
        },
        {
          "output_type": "stream",
          "name": "stdout",
          "text": [
            "Finished Epoch 13 || Run Time:    3.0 | Load Time:    8.6 || F1:  90.27 | Prec:  88.72 | Rec:  91.87 || Ex/s: 494.46\n",
            "\n",
            "---------------------\n",
            "\n",
            "===>  TRAIN Epoch 14\n"
          ]
        },
        {
          "output_type": "stream",
          "name": "stderr",
          "text": [
            "0% [██████████████████████████████] 100% | ETA: 00:00:00\n",
            "Total time elapsed: 00:00:48\n"
          ]
        },
        {
          "output_type": "stream",
          "name": "stdout",
          "text": [
            "Finished Epoch 14 || Run Time:   20.2 | Load Time:   28.4 || F1:  99.83 | Prec:  99.84 | Rec:  99.81 || Ex/s: 354.30\n",
            "\n",
            "===>  EVAL Epoch 14\n"
          ]
        },
        {
          "output_type": "stream",
          "name": "stderr",
          "text": [
            "0% [██████████████████████████████] 100% | ETA: 00:00:00\n",
            "Total time elapsed: 00:00:11\n"
          ]
        },
        {
          "output_type": "stream",
          "name": "stdout",
          "text": [
            "Finished Epoch 14 || Run Time:    3.0 | Load Time:    8.7 || F1:  90.70 | Prec:  89.83 | Rec:  91.59 || Ex/s: 493.10\n",
            "\n",
            "---------------------\n",
            "\n",
            "===>  TRAIN Epoch 15\n"
          ]
        },
        {
          "output_type": "stream",
          "name": "stderr",
          "text": [
            "0% [██████████████████████████████] 100% | ETA: 00:00:00\n",
            "Total time elapsed: 00:00:47\n"
          ]
        },
        {
          "output_type": "stream",
          "name": "stdout",
          "text": [
            "Finished Epoch 15 || Run Time:   20.0 | Load Time:   28.1 || F1:  99.83 | Prec:  99.84 | Rec:  99.81 || Ex/s: 357.58\n",
            "\n",
            "===>  EVAL Epoch 15\n"
          ]
        },
        {
          "output_type": "stream",
          "name": "stderr",
          "text": [
            "0% [██████████████████████████████] 100% | ETA: 00:00:00\n",
            "Total time elapsed: 00:00:11\n"
          ]
        },
        {
          "output_type": "stream",
          "name": "stdout",
          "text": [
            "Finished Epoch 15 || Run Time:    3.0 | Load Time:    8.6 || F1:  90.74 | Prec:  90.36 | Rec:  91.12 || Ex/s: 494.70\n",
            "\n",
            "---------------------\n",
            "\n",
            "Loading best model...\n",
            "Training done.\n"
          ]
        },
        {
          "output_type": "execute_result",
          "data": {
            "text/plain": [
              "tensor(90.9690, device='cuda:0')"
            ]
          },
          "metadata": {},
          "execution_count": 13
        }
      ],
      "source": [
        "model.run_train(\n",
        "    train,\n",
        "    validation,\n",
        "    epochs=15,\n",
        "    batch_size=32,\n",
        "    best_save_path='rnn_model.pth',\n",
        "    pos_neg_ratio=3)"
      ]
    },
    {
      "cell_type": "code",
      "execution_count": null,
      "metadata": {
        "id": "vVG5oqsX7IlL",
        "colab": {
          "base_uri": "https://localhost:8080/"
        },
        "outputId": "19e945d8-531d-4506-f3f8-6b565e3121de"
      },
      "outputs": [
        {
          "output_type": "stream",
          "name": "stdout",
          "text": [
            "===>  EVAL Epoch 8\n"
          ]
        },
        {
          "output_type": "stream",
          "name": "stderr",
          "text": [
            "/usr/local/lib/python3.7/dist-packages/torch/nn/modules/module.py:949: UserWarning: Using non-full backward hooks on a Module that does not take as input a single Tensor or a tuple of Tensors is deprecated and will be removed in future versions. This hook will be missing some of the grad_input. Please use register_full_backward_hook to get the documented behavior.\n",
            "  warnings.warn(\"Using non-full backward hooks on a Module that does not take as input a \"\n",
            "/usr/local/lib/python3.7/dist-packages/torch/nn/modules/module.py:939: UserWarning: Using non-full backward hooks on a Module that does not return a single Tensor or a tuple of Tensors is deprecated and will be removed in future versions. This hook will be missing some of the grad_output. Please use register_full_backward_hook to get the documented behavior.\n",
            "  warnings.warn(\"Using non-full backward hooks on a Module that does not return a \"\n",
            "/usr/local/lib/python3.7/dist-packages/torch/nn/modules/module.py:974: UserWarning: Using a non-full backward hook when the forward contains multiple autograd Nodes is deprecated and will be removed in future versions. This hook will be missing some grad_input. Please use register_full_backward_hook to get the documented behavior.\n",
            "  warnings.warn(\"Using a non-full backward hook when the forward contains multiple autograd Nodes \"\n",
            "0% [██████████████████████████████] 100% | ETA: 00:00:00\n",
            "Total time elapsed: 00:00:13\n"
          ]
        },
        {
          "output_type": "stream",
          "name": "stdout",
          "text": [
            "Finished Epoch 8 || Run Time:    3.5 | Load Time:    9.9 || F1:  89.49 | Prec:  91.50 | Rec:  87.57 || Ex/s: 426.29\n",
            "\n"
          ]
        },
        {
          "output_type": "execute_result",
          "data": {
            "text/plain": [
              "tensor(89.4938, device='cuda:0')"
            ]
          },
          "metadata": {},
          "execution_count": 14
        }
      ],
      "source": [
        "# Compute F1 on test set\n",
        "model.run_eval(test)"
      ]
    },
    {
      "cell_type": "markdown",
      "metadata": {
        "id": "74V0WvCe7jiR"
      },
      "source": [
        "### SIF"
      ]
    },
    {
      "cell_type": "markdown",
      "metadata": {
        "id": "7kQEe_Vh7jiS"
      },
      "source": [
        "#### STRUCTURED"
      ]
    },
    {
      "cell_type": "markdown",
      "metadata": {
        "id": "VYuf4NDQ7jiS"
      },
      "source": [
        "##### Amazon-Google"
      ]
    },
    {
      "cell_type": "code",
      "execution_count": null,
      "metadata": {
        "id": "NxEM99WA7jiS",
        "colab": {
          "base_uri": "https://localhost:8080/"
        },
        "outputId": "b0ba2f03-12c9-4f5e-ec2f-c4ed4d828f25"
      },
      "outputs": [
        {
          "output_type": "stream",
          "name": "stderr",
          "text": [
            "WARNING:deepmatcher.data.dataset:Rebuilding data cache because: ['One or more data files have been modified.', 'Data file list has changed.']\n",
            "\n",
            "Reading and processing data from \"/content/IC/datasesErros/AADatasets/Structured/Amazon-Google/joined_train.csv\"\n",
            "0% [############################# ] 100% | ETA: 00:00:00\n",
            "Reading and processing data from \"/content/IC/datasesErros/AADatasets/Structured/Amazon-Google/joined_valid.csv\"\n",
            "0% [############################# ] 100% | ETA: 00:00:00\n",
            "Reading and processing data from \"/content/IC/datasesErros/AADatasets/Structured/Amazon-Google/joined_test.csv\"\n",
            "0% [############################# ] 100% | ETA: 00:00:00Warning : `load_model` does not return WordVectorModel or SupervisedModel any more, but a `FastText` object which is very similar.\n",
            "\n",
            "Building vocabulary\n",
            "0% [#######] 100% | ETA: 00:00:00\n",
            "Total time elapsed: 00:00:00\n",
            "\n",
            "Computing principal components\n",
            "0% [#######] 100% | ETA: 00:00:00\n",
            "Total time elapsed: 00:00:01\n"
          ]
        }
      ],
      "source": [
        "train, validation, test = dm.data.process(\n",
        "    path='/content/IC/datasesErros/AADatasets/Structured/Amazon-Google/',\n",
        "    train='joined_train.csv',\n",
        "    validation='joined_valid.csv',\n",
        "    test='joined_test.csv')"
      ]
    },
    {
      "cell_type": "code",
      "execution_count": null,
      "metadata": {
        "id": "CQbS8ipY7jiT"
      },
      "outputs": [],
      "source": [
        "model = dm.MatchingModel(attr_summarizer='sif')"
      ]
    },
    {
      "cell_type": "code",
      "execution_count": null,
      "metadata": {
        "id": "gvY64y8F7jiU",
        "colab": {
          "base_uri": "https://localhost:8080/"
        },
        "outputId": "61a856fc-5409-4659-9767-07daa66be28e"
      },
      "outputs": [
        {
          "output_type": "stream",
          "name": "stderr",
          "text": [
            "/usr/local/lib/python3.7/dist-packages/torch/nn/modules/module.py:974: UserWarning: Using a non-full backward hook when the forward contains multiple autograd Nodes is deprecated and will be removed in future versions. This hook will be missing some grad_input. Please use register_full_backward_hook to get the documented behavior.\n",
            "  warnings.warn(\"Using a non-full backward hook when the forward contains multiple autograd Nodes \"\n"
          ]
        },
        {
          "output_type": "stream",
          "name": "stdout",
          "text": [
            "* Number of trainable parameters: 542402\n",
            "===>  TRAIN Epoch 1\n"
          ]
        },
        {
          "output_type": "stream",
          "name": "stderr",
          "text": [
            "/usr/local/lib/python3.7/dist-packages/torch/nn/functional.py:2742: UserWarning: reduction: 'mean' divides the total loss by both the batch size and the support size.'batchmean' divides only by the batch size, and aligns with the KL div math definition.'mean' will be changed to behave the same as 'batchmean' in the next major release.\n",
            "  \"reduction: 'mean' divides the total loss by both the batch size and the support size.\"\n",
            "0% [██████████████████████████████] 100% | ETA: 00:00:00\n",
            "Total time elapsed: 00:00:07\n"
          ]
        },
        {
          "output_type": "stream",
          "name": "stdout",
          "text": [
            "Finished Epoch 1 || Run Time:    3.3 | Load Time:    4.3 || F1:  24.56 | Prec:  39.18 | Rec:  17.88 || Ex/s: 906.94\n",
            "\n",
            "===>  EVAL Epoch 1\n"
          ]
        },
        {
          "output_type": "stream",
          "name": "stderr",
          "text": [
            "0% [██████████████] 100% | ETA: 00:00:00\n",
            "Total time elapsed: 00:00:01\n"
          ]
        },
        {
          "output_type": "stream",
          "name": "stdout",
          "text": [
            "Finished Epoch 1 || Run Time:    0.6 | Load Time:    1.3 || F1:  40.08 | Prec:  39.58 | Rec:  40.60 || Ex/s: 1197.25\n",
            "\n",
            "* Best F1: tensor(40.0844, device='cuda:0')\n",
            "Saving best model...\n",
            "Done.\n",
            "---------------------\n",
            "\n",
            "===>  TRAIN Epoch 2\n"
          ]
        },
        {
          "output_type": "stream",
          "name": "stderr",
          "text": [
            "0% [██████████████████████████████] 100% | ETA: 00:00:00\n",
            "Total time elapsed: 00:00:09\n"
          ]
        },
        {
          "output_type": "stream",
          "name": "stdout",
          "text": [
            "Finished Epoch 2 || Run Time:    3.7 | Load Time:    5.4 || F1:  48.16 | Prec:  48.68 | Rec:  47.64 || Ex/s: 756.95\n",
            "\n",
            "===>  EVAL Epoch 2\n"
          ]
        },
        {
          "output_type": "stream",
          "name": "stderr",
          "text": [
            "0% [██████████████] 100% | ETA: 00:00:00\n",
            "Total time elapsed: 00:00:03\n"
          ]
        },
        {
          "output_type": "stream",
          "name": "stdout",
          "text": [
            "Finished Epoch 2 || Run Time:    1.7 | Load Time:    2.0 || F1:  47.71 | Prec:  44.61 | Rec:  51.28 || Ex/s: 617.98\n",
            "\n",
            "* Best F1: tensor(47.7137, device='cuda:0')\n",
            "Saving best model...\n",
            "Done.\n",
            "---------------------\n",
            "\n",
            "===>  TRAIN Epoch 3\n"
          ]
        },
        {
          "output_type": "stream",
          "name": "stderr",
          "text": [
            "0% [██████████████████████████████] 100% | ETA: 00:00:00\n",
            "Total time elapsed: 00:00:06\n"
          ]
        },
        {
          "output_type": "stream",
          "name": "stdout",
          "text": [
            "Finished Epoch 3 || Run Time:    2.9 | Load Time:    4.1 || F1:  59.15 | Prec:  55.13 | Rec:  63.81 || Ex/s: 987.69\n",
            "\n",
            "===>  EVAL Epoch 3\n"
          ]
        },
        {
          "output_type": "stream",
          "name": "stderr",
          "text": [
            "0% [██████████████] 100% | ETA: 00:00:00\n",
            "Total time elapsed: 00:00:01\n"
          ]
        },
        {
          "output_type": "stream",
          "name": "stdout",
          "text": [
            "Finished Epoch 3 || Run Time:    0.6 | Load Time:    1.3 || F1:  52.17 | Prec:  48.53 | Rec:  56.41 || Ex/s: 1218.23\n",
            "\n",
            "* Best F1: tensor(52.1739, device='cuda:0')\n",
            "Saving best model...\n",
            "Done.\n",
            "---------------------\n",
            "\n",
            "===>  TRAIN Epoch 4\n"
          ]
        },
        {
          "output_type": "stream",
          "name": "stderr",
          "text": [
            "0% [██████████████████████████████] 100% | ETA: 00:00:00\n",
            "Total time elapsed: 00:00:06\n"
          ]
        },
        {
          "output_type": "stream",
          "name": "stdout",
          "text": [
            "Finished Epoch 4 || Run Time:    2.8 | Load Time:    4.1 || F1:  69.38 | Prec:  63.25 | Rec:  76.82 || Ex/s: 991.33\n",
            "\n",
            "===>  EVAL Epoch 4\n"
          ]
        },
        {
          "output_type": "stream",
          "name": "stderr",
          "text": [
            "0% [██████████████] 100% | ETA: 00:00:00\n",
            "Total time elapsed: 00:00:01\n"
          ]
        },
        {
          "output_type": "stream",
          "name": "stdout",
          "text": [
            "Finished Epoch 4 || Run Time:    0.6 | Load Time:    1.3 || F1:  51.82 | Prec:  47.04 | Rec:  57.69 || Ex/s: 1215.47\n",
            "\n",
            "---------------------\n",
            "\n",
            "===>  TRAIN Epoch 5\n"
          ]
        },
        {
          "output_type": "stream",
          "name": "stderr",
          "text": [
            "0% [██████████████████████████████] 100% | ETA: 00:00:00\n",
            "Total time elapsed: 00:00:06\n"
          ]
        },
        {
          "output_type": "stream",
          "name": "stdout",
          "text": [
            "Finished Epoch 5 || Run Time:    2.8 | Load Time:    4.1 || F1:  75.15 | Prec:  68.76 | Rec:  82.83 || Ex/s: 995.21\n",
            "\n",
            "===>  EVAL Epoch 5\n"
          ]
        },
        {
          "output_type": "stream",
          "name": "stderr",
          "text": [
            "0% [██████████████] 100% | ETA: 00:00:00\n",
            "Total time elapsed: 00:00:01\n"
          ]
        },
        {
          "output_type": "stream",
          "name": "stdout",
          "text": [
            "Finished Epoch 5 || Run Time:    0.6 | Load Time:    1.3 || F1:  50.00 | Prec:  42.73 | Rec:  60.26 || Ex/s: 1225.12\n",
            "\n",
            "---------------------\n",
            "\n",
            "===>  TRAIN Epoch 6\n"
          ]
        },
        {
          "output_type": "stream",
          "name": "stderr",
          "text": [
            "0% [██████████████████████████████] 100% | ETA: 00:00:00\n",
            "Total time elapsed: 00:00:06\n"
          ]
        },
        {
          "output_type": "stream",
          "name": "stdout",
          "text": [
            "Finished Epoch 6 || Run Time:    2.8 | Load Time:    4.1 || F1:  80.63 | Prec:  74.31 | Rec:  88.13 || Ex/s: 994.93\n",
            "\n",
            "===>  EVAL Epoch 6\n"
          ]
        },
        {
          "output_type": "stream",
          "name": "stderr",
          "text": [
            "0% [██████████████] 100% | ETA: 00:00:00\n",
            "Total time elapsed: 00:00:01\n"
          ]
        },
        {
          "output_type": "stream",
          "name": "stdout",
          "text": [
            "Finished Epoch 6 || Run Time:    0.6 | Load Time:    1.3 || F1:  50.62 | Prec:  42.99 | Rec:  61.54 || Ex/s: 1228.71\n",
            "\n",
            "---------------------\n",
            "\n",
            "===>  TRAIN Epoch 7\n"
          ]
        },
        {
          "output_type": "stream",
          "name": "stderr",
          "text": [
            "0% [██████████████████████████████] 100% | ETA: 00:00:00\n",
            "Total time elapsed: 00:00:06\n"
          ]
        },
        {
          "output_type": "stream",
          "name": "stdout",
          "text": [
            "Finished Epoch 7 || Run Time:    2.8 | Load Time:    4.1 || F1:  83.13 | Prec:  76.82 | Rec:  90.56 || Ex/s: 994.57\n",
            "\n",
            "===>  EVAL Epoch 7\n"
          ]
        },
        {
          "output_type": "stream",
          "name": "stderr",
          "text": [
            "0% [██████████████] 100% | ETA: 00:00:00\n",
            "Total time elapsed: 00:00:01\n"
          ]
        },
        {
          "output_type": "stream",
          "name": "stdout",
          "text": [
            "Finished Epoch 7 || Run Time:    0.6 | Load Time:    1.3 || F1:  51.53 | Prec:  44.55 | Rec:  61.11 || Ex/s: 1226.57\n",
            "\n",
            "---------------------\n",
            "\n",
            "===>  TRAIN Epoch 8\n"
          ]
        },
        {
          "output_type": "stream",
          "name": "stderr",
          "text": [
            "0% [██████████████████████████████] 100% | ETA: 00:00:00\n",
            "Total time elapsed: 00:00:06\n"
          ]
        },
        {
          "output_type": "stream",
          "name": "stdout",
          "text": [
            "Finished Epoch 8 || Run Time:    2.8 | Load Time:    4.1 || F1:  85.43 | Prec:  79.22 | Rec:  92.70 || Ex/s: 993.39\n",
            "\n",
            "===>  EVAL Epoch 8\n"
          ]
        },
        {
          "output_type": "stream",
          "name": "stderr",
          "text": [
            "0% [██████████████] 100% | ETA: 00:00:00\n",
            "Total time elapsed: 00:00:01\n"
          ]
        },
        {
          "output_type": "stream",
          "name": "stdout",
          "text": [
            "Finished Epoch 8 || Run Time:    0.6 | Load Time:    1.3 || F1:  52.22 | Prec:  47.70 | Rec:  57.69 || Ex/s: 1230.95\n",
            "\n",
            "* Best F1: tensor(52.2244, device='cuda:0')\n",
            "Saving best model...\n",
            "Done.\n",
            "---------------------\n",
            "\n",
            "===>  TRAIN Epoch 9\n"
          ]
        },
        {
          "output_type": "stream",
          "name": "stderr",
          "text": [
            "0% [██████████████████████████████] 100% | ETA: 00:00:00\n",
            "Total time elapsed: 00:00:06\n"
          ]
        },
        {
          "output_type": "stream",
          "name": "stdout",
          "text": [
            "Finished Epoch 9 || Run Time:    2.8 | Load Time:    4.1 || F1:  86.70 | Prec:  80.67 | Rec:  93.71 || Ex/s: 985.38\n",
            "\n",
            "===>  EVAL Epoch 9\n"
          ]
        },
        {
          "output_type": "stream",
          "name": "stderr",
          "text": [
            "0% [██████████████] 100% | ETA: 00:00:00\n",
            "Total time elapsed: 00:00:01\n"
          ]
        },
        {
          "output_type": "stream",
          "name": "stdout",
          "text": [
            "Finished Epoch 9 || Run Time:    0.6 | Load Time:    1.3 || F1:  51.90 | Prec:  51.25 | Rec:  52.56 || Ex/s: 1215.28\n",
            "\n",
            "---------------------\n",
            "\n",
            "===>  TRAIN Epoch 10\n"
          ]
        },
        {
          "output_type": "stream",
          "name": "stderr",
          "text": [
            "0% [██████████████████████████████] 100% | ETA: 00:00:00\n",
            "Total time elapsed: 00:00:06\n"
          ]
        },
        {
          "output_type": "stream",
          "name": "stdout",
          "text": [
            "Finished Epoch 10 || Run Time:    2.9 | Load Time:    4.1 || F1:  87.79 | Prec:  81.50 | Rec:  95.14 || Ex/s: 983.84\n",
            "\n",
            "===>  EVAL Epoch 10\n"
          ]
        },
        {
          "output_type": "stream",
          "name": "stderr",
          "text": [
            "0% [██████████████] 100% | ETA: 00:00:00\n",
            "Total time elapsed: 00:00:01\n"
          ]
        },
        {
          "output_type": "stream",
          "name": "stdout",
          "text": [
            "Finished Epoch 10 || Run Time:    0.6 | Load Time:    1.3 || F1:  50.45 | Prec:  53.88 | Rec:  47.44 || Ex/s: 1230.39\n",
            "\n",
            "---------------------\n",
            "\n",
            "===>  TRAIN Epoch 11\n"
          ]
        },
        {
          "output_type": "stream",
          "name": "stderr",
          "text": [
            "0% [██████████████████████████████] 100% | ETA: 00:00:00\n",
            "Total time elapsed: 00:00:06\n"
          ]
        },
        {
          "output_type": "stream",
          "name": "stdout",
          "text": [
            "Finished Epoch 11 || Run Time:    2.8 | Load Time:    4.1 || F1:  88.89 | Prec:  82.66 | Rec:  96.14 || Ex/s: 990.22\n",
            "\n",
            "===>  EVAL Epoch 11\n"
          ]
        },
        {
          "output_type": "stream",
          "name": "stderr",
          "text": [
            "0% [██████████████] 100% | ETA: 00:00:00\n",
            "Total time elapsed: 00:00:01\n"
          ]
        },
        {
          "output_type": "stream",
          "name": "stdout",
          "text": [
            "Finished Epoch 11 || Run Time:    0.6 | Load Time:    1.3 || F1:  47.94 | Prec:  55.31 | Rec:  42.31 || Ex/s: 1226.92\n",
            "\n",
            "---------------------\n",
            "\n",
            "===>  TRAIN Epoch 12\n"
          ]
        },
        {
          "output_type": "stream",
          "name": "stderr",
          "text": [
            "0% [██████████████████████████████] 100% | ETA: 00:00:00\n",
            "Total time elapsed: 00:00:06\n"
          ]
        },
        {
          "output_type": "stream",
          "name": "stdout",
          "text": [
            "Finished Epoch 12 || Run Time:    2.8 | Load Time:    4.1 || F1:  89.75 | Prec:  83.94 | Rec:  96.42 || Ex/s: 992.37\n",
            "\n",
            "===>  EVAL Epoch 12\n"
          ]
        },
        {
          "output_type": "stream",
          "name": "stderr",
          "text": [
            "0% [██████████████] 100% | ETA: 00:00:00\n",
            "Total time elapsed: 00:00:02\n"
          ]
        },
        {
          "output_type": "stream",
          "name": "stdout",
          "text": [
            "Finished Epoch 12 || Run Time:    0.7 | Load Time:    1.5 || F1:  47.41 | Prec:  56.14 | Rec:  41.03 || Ex/s: 1018.07\n",
            "\n",
            "---------------------\n",
            "\n",
            "===>  TRAIN Epoch 13\n"
          ]
        },
        {
          "output_type": "stream",
          "name": "stderr",
          "text": [
            "0% [██████████████████████████████] 100% | ETA: 00:00:00\n",
            "Total time elapsed: 00:00:06\n"
          ]
        },
        {
          "output_type": "stream",
          "name": "stdout",
          "text": [
            "Finished Epoch 13 || Run Time:    2.8 | Load Time:    4.1 || F1:  90.43 | Prec:  84.92 | Rec:  96.71 || Ex/s: 991.93\n",
            "\n",
            "===>  EVAL Epoch 13\n"
          ]
        },
        {
          "output_type": "stream",
          "name": "stderr",
          "text": [
            "0% [██████████████] 100% | ETA: 00:00:00\n",
            "Total time elapsed: 00:00:01\n"
          ]
        },
        {
          "output_type": "stream",
          "name": "stdout",
          "text": [
            "Finished Epoch 13 || Run Time:    0.6 | Load Time:    1.3 || F1:  47.15 | Prec:  56.21 | Rec:  40.60 || Ex/s: 1230.08\n",
            "\n",
            "---------------------\n",
            "\n",
            "===>  TRAIN Epoch 14\n"
          ]
        },
        {
          "output_type": "stream",
          "name": "stderr",
          "text": [
            "0% [██████████████████████████████] 100% | ETA: 00:00:00\n",
            "Total time elapsed: 00:00:06\n"
          ]
        },
        {
          "output_type": "stream",
          "name": "stdout",
          "text": [
            "Finished Epoch 14 || Run Time:    2.8 | Load Time:    4.1 || F1:  91.02 | Prec:  85.62 | Rec:  97.14 || Ex/s: 994.00\n",
            "\n",
            "===>  EVAL Epoch 14\n"
          ]
        },
        {
          "output_type": "stream",
          "name": "stderr",
          "text": [
            "0% [██████████████] 100% | ETA: 00:00:00\n",
            "Total time elapsed: 00:00:01\n"
          ]
        },
        {
          "output_type": "stream",
          "name": "stdout",
          "text": [
            "Finished Epoch 14 || Run Time:    0.6 | Load Time:    1.3 || F1:  47.03 | Prec:  55.88 | Rec:  40.60 || Ex/s: 1220.36\n",
            "\n",
            "---------------------\n",
            "\n",
            "===>  TRAIN Epoch 15\n"
          ]
        },
        {
          "output_type": "stream",
          "name": "stderr",
          "text": [
            "0% [██████████████████████████████] 100% | ETA: 00:00:00\n",
            "Total time elapsed: 00:00:06\n"
          ]
        },
        {
          "output_type": "stream",
          "name": "stdout",
          "text": [
            "Finished Epoch 15 || Run Time:    2.8 | Load Time:    4.1 || F1:  91.14 | Prec:  85.84 | Rec:  97.14 || Ex/s: 995.20\n",
            "\n",
            "===>  EVAL Epoch 15\n"
          ]
        },
        {
          "output_type": "stream",
          "name": "stderr",
          "text": [
            "0% [██████████████] 100% | ETA: 00:00:00\n",
            "Total time elapsed: 00:00:01\n"
          ]
        },
        {
          "output_type": "stream",
          "name": "stdout",
          "text": [
            "Finished Epoch 15 || Run Time:    0.6 | Load Time:    1.3 || F1:  46.91 | Prec:  55.56 | Rec:  40.60 || Ex/s: 1225.47\n",
            "\n",
            "---------------------\n",
            "\n",
            "Loading best model...\n",
            "Training done.\n"
          ]
        },
        {
          "output_type": "execute_result",
          "data": {
            "text/plain": [
              "tensor(52.2244, device='cuda:0')"
            ]
          },
          "metadata": {},
          "execution_count": 13
        }
      ],
      "source": [
        "model.run_train(\n",
        "    train,\n",
        "    validation,\n",
        "    epochs=15,\n",
        "    batch_size=32,\n",
        "    best_save_path='sif_model.pth',\n",
        "    pos_neg_ratio=3)"
      ]
    },
    {
      "cell_type": "code",
      "execution_count": null,
      "metadata": {
        "id": "UNP-KJ2i7jiU",
        "colab": {
          "base_uri": "https://localhost:8080/"
        },
        "outputId": "80d6605d-52bd-4f5c-b24c-0a4f30882208"
      },
      "outputs": [
        {
          "output_type": "stream",
          "name": "stdout",
          "text": [
            "===>  EVAL Epoch 8\n"
          ]
        },
        {
          "output_type": "stream",
          "name": "stderr",
          "text": [
            "/usr/local/lib/python3.7/dist-packages/torch/nn/modules/module.py:974: UserWarning: Using a non-full backward hook when the forward contains multiple autograd Nodes is deprecated and will be removed in future versions. This hook will be missing some grad_input. Please use register_full_backward_hook to get the documented behavior.\n",
            "  warnings.warn(\"Using a non-full backward hook when the forward contains multiple autograd Nodes \"\n",
            "0% [██████████████] 100% | ETA: 00:00:00\n",
            "Total time elapsed: 00:00:01\n"
          ]
        },
        {
          "output_type": "stream",
          "name": "stdout",
          "text": [
            "Finished Epoch 8 || Run Time:    0.6 | Load Time:    1.3 || F1:  55.94 | Prec:  50.69 | Rec:  62.39 || Ex/s: 1223.07\n",
            "\n"
          ]
        },
        {
          "output_type": "execute_result",
          "data": {
            "text/plain": [
              "tensor(55.9387, device='cuda:0')"
            ]
          },
          "metadata": {},
          "execution_count": 14
        }
      ],
      "source": [
        "# Compute F1 on test set\n",
        "model.run_eval(test)"
      ]
    },
    {
      "cell_type": "markdown",
      "metadata": {
        "id": "09Aelx9S7jiU"
      },
      "source": [
        "##### Beer"
      ]
    },
    {
      "cell_type": "code",
      "execution_count": null,
      "metadata": {
        "id": "QGAk50JK7jiV",
        "colab": {
          "base_uri": "https://localhost:8080/"
        },
        "outputId": "79fa5e94-0470-4258-94dc-fca8ef5687c8"
      },
      "outputs": [
        {
          "output_type": "stream",
          "name": "stderr",
          "text": [
            "WARNING:deepmatcher.data.dataset:Rebuilding data cache because: ['One or more data files have been modified.', 'Data file list has changed.']\n",
            "\n",
            "Reading and processing data from \"/content/IC/datasesErros/AADatasets/Structured/Beer/joined_train.csv\"\n",
            "0% [############################# ] 100% | ETA: 00:00:00\n",
            "Reading and processing data from \"/content/IC/datasesErros/AADatasets/Structured/Beer/joined_valid.csv\"\n",
            "0% [############################# ] 100% | ETA: 00:00:00\n",
            "Reading and processing data from \"/content/IC/datasesErros/AADatasets/Structured/Beer/joined_test.csv\"\n",
            "0% [############################# ] 100% | ETA: 00:00:00\n",
            "Building vocabulary\n",
            "0% [#] 100% | ETA: 00:00:00\n",
            "Total time elapsed: 00:00:00\n",
            "\n",
            "Computing principal components\n",
            "0% [#] 100% | ETA: 00:00:00\n",
            "Total time elapsed: 00:00:00\n"
          ]
        }
      ],
      "source": [
        "train, validation, test = dm.data.process(\n",
        "    path='/content/IC/datasesErros/AADatasets/Structured/Beer/',\n",
        "    train='joined_train.csv',\n",
        "    validation='joined_valid.csv',\n",
        "    test='joined_test.csv')"
      ]
    },
    {
      "cell_type": "code",
      "execution_count": null,
      "metadata": {
        "id": "0FsH-YpJ7jiV"
      },
      "outputs": [],
      "source": [
        "model = dm.MatchingModel(attr_summarizer='sif')"
      ]
    },
    {
      "cell_type": "code",
      "execution_count": null,
      "metadata": {
        "id": "M65m1MA27jiV",
        "colab": {
          "base_uri": "https://localhost:8080/"
        },
        "outputId": "d75d6a81-52ed-4195-bb26-35bed8bf1b25"
      },
      "outputs": [
        {
          "output_type": "stream",
          "name": "stdout",
          "text": [
            "* Number of trainable parameters: 542402\n",
            "===>  TRAIN Epoch 1\n"
          ]
        },
        {
          "output_type": "stream",
          "name": "stderr",
          "text": [
            "/usr/local/lib/python3.7/dist-packages/torch/nn/modules/module.py:974: UserWarning: Using a non-full backward hook when the forward contains multiple autograd Nodes is deprecated and will be removed in future versions. This hook will be missing some grad_input. Please use register_full_backward_hook to get the documented behavior.\n",
            "  warnings.warn(\"Using a non-full backward hook when the forward contains multiple autograd Nodes \"\n",
            "/usr/local/lib/python3.7/dist-packages/torch/nn/functional.py:2742: UserWarning: reduction: 'mean' divides the total loss by both the batch size and the support size.'batchmean' divides only by the batch size, and aligns with the KL div math definition.'mean' will be changed to behave the same as 'batchmean' in the next major release.\n",
            "  \"reduction: 'mean' divides the total loss by both the batch size and the support size.\"\n",
            "0% [█] 100% | ETA: 00:00:00\n",
            "Total time elapsed: 00:00:00\n"
          ]
        },
        {
          "output_type": "stream",
          "name": "stdout",
          "text": [
            "Finished Epoch 1 || Run Time:    0.2 | Load Time:    0.3 || F1:  25.88 | Prec:  24.44 | Rec:  27.50 || Ex/s: 586.35\n",
            "\n",
            "===>  EVAL Epoch 1\n",
            "Finished Epoch 1 || Run Time:    0.0 | Load Time:    0.1 || F1:   0.00 | Prec:   0.00 | Rec:   0.00 || Ex/s: 749.15\n",
            "\n",
            "* Best F1: tensor(0., device='cuda:0')\n",
            "Saving best model...\n",
            "Done.\n",
            "---------------------\n",
            "\n",
            "===>  TRAIN Epoch 2\n"
          ]
        },
        {
          "output_type": "stream",
          "name": "stderr",
          "text": [
            "0% [█] 100% | ETA: 00:00:00\n",
            "Total time elapsed: 00:00:00\n"
          ]
        },
        {
          "output_type": "stream",
          "name": "stdout",
          "text": [
            "Finished Epoch 2 || Run Time:    0.1 | Load Time:    0.3 || F1:   4.88 | Prec: 100.00 | Rec:   2.50 || Ex/s: 663.52\n",
            "\n",
            "===>  EVAL Epoch 2\n",
            "Finished Epoch 2 || Run Time:    0.0 | Load Time:    0.1 || F1:   0.00 | Prec:   0.00 | Rec:   0.00 || Ex/s: 773.88\n",
            "\n",
            "---------------------\n",
            "\n",
            "===>  TRAIN Epoch 3\n"
          ]
        },
        {
          "output_type": "stream",
          "name": "stderr",
          "text": [
            "0% [█] 100% | ETA: 00:00:00\n",
            "Total time elapsed: 00:00:00\n"
          ]
        },
        {
          "output_type": "stream",
          "name": "stdout",
          "text": [
            "Finished Epoch 3 || Run Time:    0.2 | Load Time:    0.3 || F1:   4.88 | Prec: 100.00 | Rec:   2.50 || Ex/s: 641.00\n",
            "\n",
            "===>  EVAL Epoch 3\n",
            "Finished Epoch 3 || Run Time:    0.0 | Load Time:    0.1 || F1:   0.00 | Prec:   0.00 | Rec:   0.00 || Ex/s: 774.46\n",
            "\n",
            "---------------------\n",
            "\n",
            "===>  TRAIN Epoch 4\n"
          ]
        },
        {
          "output_type": "stream",
          "name": "stderr",
          "text": [
            "0% [█] 100% | ETA: 00:00:00\n",
            "Total time elapsed: 00:00:00\n"
          ]
        },
        {
          "output_type": "stream",
          "name": "stdout",
          "text": [
            "Finished Epoch 4 || Run Time:    0.1 | Load Time:    0.3 || F1:   4.88 | Prec: 100.00 | Rec:   2.50 || Ex/s: 663.15\n",
            "\n",
            "===>  EVAL Epoch 4\n",
            "Finished Epoch 4 || Run Time:    0.0 | Load Time:    0.1 || F1:   0.00 | Prec:   0.00 | Rec:   0.00 || Ex/s: 782.16\n",
            "\n",
            "---------------------\n",
            "\n",
            "===>  TRAIN Epoch 5\n"
          ]
        },
        {
          "output_type": "stream",
          "name": "stderr",
          "text": [
            "0% [█] 100% | ETA: 00:00:00\n",
            "Total time elapsed: 00:00:00\n"
          ]
        },
        {
          "output_type": "stream",
          "name": "stdout",
          "text": [
            "Finished Epoch 5 || Run Time:    0.1 | Load Time:    0.3 || F1:  13.95 | Prec: 100.00 | Rec:   7.50 || Ex/s: 645.23\n",
            "\n",
            "===>  EVAL Epoch 5\n",
            "Finished Epoch 5 || Run Time:    0.0 | Load Time:    0.1 || F1:   0.00 | Prec:   0.00 | Rec:   0.00 || Ex/s: 740.72\n",
            "\n",
            "---------------------\n",
            "\n",
            "===>  TRAIN Epoch 6\n"
          ]
        },
        {
          "output_type": "stream",
          "name": "stderr",
          "text": [
            "0% [█] 100% | ETA: 00:00:00\n",
            "Total time elapsed: 00:00:00\n"
          ]
        },
        {
          "output_type": "stream",
          "name": "stdout",
          "text": [
            "Finished Epoch 6 || Run Time:    0.1 | Load Time:    0.3 || F1:  18.18 | Prec: 100.00 | Rec:  10.00 || Ex/s: 656.04\n",
            "\n",
            "===>  EVAL Epoch 6\n",
            "Finished Epoch 6 || Run Time:    0.0 | Load Time:    0.1 || F1:  25.00 | Prec: 100.00 | Rec:  14.29 || Ex/s: 761.48\n",
            "\n",
            "* Best F1: tensor(25., device='cuda:0')\n",
            "Saving best model...\n",
            "Done.\n",
            "---------------------\n",
            "\n",
            "===>  TRAIN Epoch 7\n"
          ]
        },
        {
          "output_type": "stream",
          "name": "stderr",
          "text": [
            "0% [█] 100% | ETA: 00:00:00\n",
            "Total time elapsed: 00:00:00\n"
          ]
        },
        {
          "output_type": "stream",
          "name": "stdout",
          "text": [
            "Finished Epoch 7 || Run Time:    0.2 | Load Time:    0.3 || F1:  22.22 | Prec: 100.00 | Rec:  12.50 || Ex/s: 647.35\n",
            "\n",
            "===>  EVAL Epoch 7\n",
            "Finished Epoch 7 || Run Time:    0.0 | Load Time:    0.1 || F1:  23.53 | Prec:  66.67 | Rec:  14.29 || Ex/s: 769.18\n",
            "\n",
            "---------------------\n",
            "\n",
            "===>  TRAIN Epoch 8\n"
          ]
        },
        {
          "output_type": "stream",
          "name": "stderr",
          "text": [
            "0% [█] 100% | ETA: 00:00:00\n",
            "Total time elapsed: 00:00:00\n"
          ]
        },
        {
          "output_type": "stream",
          "name": "stdout",
          "text": [
            "Finished Epoch 8 || Run Time:    0.1 | Load Time:    0.3 || F1:  22.22 | Prec: 100.00 | Rec:  12.50 || Ex/s: 660.34\n",
            "\n",
            "===>  EVAL Epoch 8\n",
            "Finished Epoch 8 || Run Time:    0.0 | Load Time:    0.1 || F1:  33.33 | Prec:  75.00 | Rec:  21.43 || Ex/s: 725.18\n",
            "\n",
            "* Best F1: tensor(33.3333, device='cuda:0')\n",
            "Saving best model...\n",
            "Done.\n",
            "---------------------\n",
            "\n",
            "===>  TRAIN Epoch 9\n"
          ]
        },
        {
          "output_type": "stream",
          "name": "stderr",
          "text": [
            "0% [█] 100% | ETA: 00:00:00\n",
            "Total time elapsed: 00:00:00\n"
          ]
        },
        {
          "output_type": "stream",
          "name": "stdout",
          "text": [
            "Finished Epoch 9 || Run Time:    0.1 | Load Time:    0.3 || F1:  29.79 | Prec: 100.00 | Rec:  17.50 || Ex/s: 645.21\n",
            "\n",
            "===>  EVAL Epoch 9\n",
            "Finished Epoch 9 || Run Time:    0.0 | Load Time:    0.1 || F1:  42.11 | Prec:  80.00 | Rec:  28.57 || Ex/s: 772.34\n",
            "\n",
            "* Best F1: tensor(42.1053, device='cuda:0')\n",
            "Saving best model...\n",
            "Done.\n",
            "---------------------\n",
            "\n",
            "===>  TRAIN Epoch 10\n"
          ]
        },
        {
          "output_type": "stream",
          "name": "stderr",
          "text": [
            "0% [█] 100% | ETA: 00:00:00\n",
            "Total time elapsed: 00:00:00\n"
          ]
        },
        {
          "output_type": "stream",
          "name": "stdout",
          "text": [
            "Finished Epoch 10 || Run Time:    0.1 | Load Time:    0.3 || F1:  36.73 | Prec: 100.00 | Rec:  22.50 || Ex/s: 651.62\n",
            "\n",
            "===>  EVAL Epoch 10\n",
            "Finished Epoch 10 || Run Time:    0.0 | Load Time:    0.1 || F1:  42.11 | Prec:  80.00 | Rec:  28.57 || Ex/s: 772.14\n",
            "\n",
            "---------------------\n",
            "\n",
            "===>  TRAIN Epoch 11\n"
          ]
        },
        {
          "output_type": "stream",
          "name": "stderr",
          "text": [
            "0% [█] 100% | ETA: 00:00:00\n",
            "Total time elapsed: 00:00:00\n"
          ]
        },
        {
          "output_type": "stream",
          "name": "stdout",
          "text": [
            "Finished Epoch 11 || Run Time:    0.2 | Load Time:    0.3 || F1:  43.14 | Prec: 100.00 | Rec:  27.50 || Ex/s: 659.25\n",
            "\n",
            "===>  EVAL Epoch 11\n",
            "Finished Epoch 11 || Run Time:    0.0 | Load Time:    0.1 || F1:  42.11 | Prec:  80.00 | Rec:  28.57 || Ex/s: 769.90\n",
            "\n",
            "---------------------\n",
            "\n",
            "===>  TRAIN Epoch 12\n"
          ]
        },
        {
          "output_type": "stream",
          "name": "stderr",
          "text": [
            "0% [█] 100% | ETA: 00:00:00\n",
            "Total time elapsed: 00:00:00\n"
          ]
        },
        {
          "output_type": "stream",
          "name": "stdout",
          "text": [
            "Finished Epoch 12 || Run Time:    0.2 | Load Time:    0.3 || F1:  43.14 | Prec: 100.00 | Rec:  27.50 || Ex/s: 629.72\n",
            "\n",
            "===>  EVAL Epoch 12\n",
            "Finished Epoch 12 || Run Time:    0.0 | Load Time:    0.1 || F1:  42.11 | Prec:  80.00 | Rec:  28.57 || Ex/s: 719.23\n",
            "\n",
            "---------------------\n",
            "\n",
            "===>  TRAIN Epoch 13\n"
          ]
        },
        {
          "output_type": "stream",
          "name": "stderr",
          "text": [
            "0% [█] 100% | ETA: 00:00:00\n",
            "Total time elapsed: 00:00:00\n"
          ]
        },
        {
          "output_type": "stream",
          "name": "stdout",
          "text": [
            "Finished Epoch 13 || Run Time:    0.1 | Load Time:    0.3 || F1:  51.85 | Prec: 100.00 | Rec:  35.00 || Ex/s: 644.89\n",
            "\n",
            "===>  EVAL Epoch 13\n",
            "Finished Epoch 13 || Run Time:    0.0 | Load Time:    0.1 || F1:  42.11 | Prec:  80.00 | Rec:  28.57 || Ex/s: 777.02\n",
            "\n",
            "---------------------\n",
            "\n",
            "===>  TRAIN Epoch 14\n"
          ]
        },
        {
          "output_type": "stream",
          "name": "stderr",
          "text": [
            "0% [█] 100% | ETA: 00:00:00\n",
            "Total time elapsed: 00:00:00\n"
          ]
        },
        {
          "output_type": "stream",
          "name": "stdout",
          "text": [
            "Finished Epoch 14 || Run Time:    0.1 | Load Time:    0.3 || F1:  51.85 | Prec: 100.00 | Rec:  35.00 || Ex/s: 650.66\n",
            "\n",
            "===>  EVAL Epoch 14\n",
            "Finished Epoch 14 || Run Time:    0.0 | Load Time:    0.1 || F1:  40.00 | Prec:  66.67 | Rec:  28.57 || Ex/s: 762.31\n",
            "\n",
            "---------------------\n",
            "\n",
            "===>  TRAIN Epoch 15\n"
          ]
        },
        {
          "output_type": "stream",
          "name": "stderr",
          "text": [
            "0% [█] 100% | ETA: 00:00:00\n",
            "Total time elapsed: 00:00:00\n"
          ]
        },
        {
          "output_type": "stream",
          "name": "stdout",
          "text": [
            "Finished Epoch 15 || Run Time:    0.1 | Load Time:    0.3 || F1:  51.85 | Prec: 100.00 | Rec:  35.00 || Ex/s: 666.35\n",
            "\n",
            "===>  EVAL Epoch 15\n",
            "Finished Epoch 15 || Run Time:    0.0 | Load Time:    0.1 || F1:  40.00 | Prec:  66.67 | Rec:  28.57 || Ex/s: 748.14\n",
            "\n",
            "---------------------\n",
            "\n",
            "Loading best model...\n",
            "Training done.\n"
          ]
        },
        {
          "output_type": "execute_result",
          "data": {
            "text/plain": [
              "tensor(42.1053, device='cuda:0')"
            ]
          },
          "metadata": {},
          "execution_count": 17
        }
      ],
      "source": [
        "model.run_train(\n",
        "    train,\n",
        "    validation,\n",
        "    epochs=15,\n",
        "    batch_size=32,\n",
        "    best_save_path='sif_model.pth',\n",
        "    pos_neg_ratio=3)"
      ]
    },
    {
      "cell_type": "code",
      "execution_count": null,
      "metadata": {
        "id": "hotRtezC7jiW",
        "colab": {
          "base_uri": "https://localhost:8080/"
        },
        "outputId": "63138b1d-4d36-4e4a-e712-28d051263d52"
      },
      "outputs": [
        {
          "output_type": "stream",
          "name": "stdout",
          "text": [
            "===>  EVAL Epoch 9\n"
          ]
        },
        {
          "output_type": "stream",
          "name": "stderr",
          "text": [
            "/usr/local/lib/python3.7/dist-packages/torch/nn/modules/module.py:974: UserWarning: Using a non-full backward hook when the forward contains multiple autograd Nodes is deprecated and will be removed in future versions. This hook will be missing some grad_input. Please use register_full_backward_hook to get the documented behavior.\n",
            "  warnings.warn(\"Using a non-full backward hook when the forward contains multiple autograd Nodes \"\n"
          ]
        },
        {
          "output_type": "stream",
          "name": "stdout",
          "text": [
            "Finished Epoch 9 || Run Time:    0.0 | Load Time:    0.1 || F1:  35.29 | Prec: 100.00 | Rec:  21.43 || Ex/s: 722.29\n",
            "\n"
          ]
        },
        {
          "output_type": "execute_result",
          "data": {
            "text/plain": [
              "tensor(35.2941, device='cuda:0')"
            ]
          },
          "metadata": {},
          "execution_count": 18
        }
      ],
      "source": [
        "# Compute F1 on test set\n",
        "model.run_eval(test)"
      ]
    },
    {
      "cell_type": "markdown",
      "metadata": {
        "id": "rEyqJ6mI7jiW"
      },
      "source": [
        "##### DBLP-ACM"
      ]
    },
    {
      "cell_type": "code",
      "execution_count": null,
      "metadata": {
        "id": "2oeYr-ip7jiX",
        "colab": {
          "base_uri": "https://localhost:8080/"
        },
        "outputId": "8e300d6f-a0ce-4126-cc87-4e4c9898d301"
      },
      "outputs": [
        {
          "output_type": "stream",
          "name": "stderr",
          "text": [
            "WARNING:deepmatcher.data.dataset:Rebuilding data cache because: ['Data file list has changed.', 'One or more data files have been modified.']\n",
            "\n",
            "Reading and processing data from \"/content/IC/datasesErros/AADatasets/Structured/DBLP-ACM/joined_train.csv\"\n",
            "0% [############################# ] 100% | ETA: 00:00:00\n",
            "Reading and processing data from \"/content/IC/datasesErros/AADatasets/Structured/DBLP-ACM/joined_valid.csv\"\n",
            "0% [############################# ] 100% | ETA: 00:00:00\n",
            "Reading and processing data from \"/content/IC/datasesErros/AADatasets/Structured/DBLP-ACM/joined_test.csv\"\n",
            "0% [############################# ] 100% | ETA: 00:00:00Warning : `load_model` does not return WordVectorModel or SupervisedModel any more, but a `FastText` object which is very similar.\n",
            "\n",
            "Building vocabulary\n",
            "0% [########] 100% | ETA: 00:00:00\n",
            "Total time elapsed: 00:00:00\n",
            "\n",
            "Computing principal components\n",
            "0% [########] 100% | ETA: 00:00:00\n",
            "Total time elapsed: 00:00:03\n"
          ]
        }
      ],
      "source": [
        "train, validation, test = dm.data.process(\n",
        "    path='/content/IC/datasesErros/AADatasets/Structured/DBLP-ACM/',\n",
        "    train='joined_train.csv',\n",
        "    validation='joined_valid.csv',\n",
        "    test='joined_test.csv')"
      ]
    },
    {
      "cell_type": "code",
      "execution_count": null,
      "metadata": {
        "id": "vdTDybRv7jiX"
      },
      "outputs": [],
      "source": [
        "model = dm.MatchingModel(attr_summarizer='sif')"
      ]
    },
    {
      "cell_type": "code",
      "execution_count": null,
      "metadata": {
        "id": "EOAZFGCq7jiZ",
        "colab": {
          "base_uri": "https://localhost:8080/"
        },
        "outputId": "2ea9c1f1-1fce-426a-a1a1-89c0a0a9fec1"
      },
      "outputs": [
        {
          "output_type": "stream",
          "name": "stderr",
          "text": [
            "/usr/local/lib/python3.7/dist-packages/torch/nn/modules/module.py:974: UserWarning: Using a non-full backward hook when the forward contains multiple autograd Nodes is deprecated and will be removed in future versions. This hook will be missing some grad_input. Please use register_full_backward_hook to get the documented behavior.\n",
            "  warnings.warn(\"Using a non-full backward hook when the forward contains multiple autograd Nodes \"\n"
          ]
        },
        {
          "output_type": "stream",
          "name": "stdout",
          "text": [
            "* Number of trainable parameters: 542402\n",
            "===>  TRAIN Epoch 1\n"
          ]
        },
        {
          "output_type": "stream",
          "name": "stderr",
          "text": [
            "/usr/local/lib/python3.7/dist-packages/torch/nn/functional.py:2742: UserWarning: reduction: 'mean' divides the total loss by both the batch size and the support size.'batchmean' divides only by the batch size, and aligns with the KL div math definition.'mean' will be changed to behave the same as 'batchmean' in the next major release.\n",
            "  \"reduction: 'mean' divides the total loss by both the batch size and the support size.\"\n",
            "0% [██████████████████████████████] 100% | ETA: 00:00:00\n",
            "Total time elapsed: 00:00:14\n"
          ]
        },
        {
          "output_type": "stream",
          "name": "stdout",
          "text": [
            "Finished Epoch 1 || Run Time:    4.2 | Load Time:   10.9 || F1:  84.30 | Prec:  87.36 | Rec:  81.46 || Ex/s: 489.92\n",
            "\n",
            "===>  EVAL Epoch 1\n"
          ]
        },
        {
          "output_type": "stream",
          "name": "stderr",
          "text": [
            "0% [███████████████] 100% | ETA: 00:00:00\n",
            "Total time elapsed: 00:00:04\n"
          ]
        },
        {
          "output_type": "stream",
          "name": "stdout",
          "text": [
            "Finished Epoch 1 || Run Time:    0.8 | Load Time:    3.4 || F1:  96.05 | Prec:  93.59 | Rec:  98.65 || Ex/s: 587.26\n",
            "\n",
            "* Best F1: tensor(96.0526, device='cuda:0')\n",
            "Saving best model...\n",
            "Done.\n",
            "---------------------\n",
            "\n",
            "===>  TRAIN Epoch 2\n"
          ]
        },
        {
          "output_type": "stream",
          "name": "stderr",
          "text": [
            "0% [██████████████████████████████] 100% | ETA: 00:00:00\n",
            "Total time elapsed: 00:00:15\n"
          ]
        },
        {
          "output_type": "stream",
          "name": "stdout",
          "text": [
            "Finished Epoch 2 || Run Time:    4.0 | Load Time:   11.2 || F1:  97.79 | Prec:  96.02 | Rec:  99.62 || Ex/s: 484.80\n",
            "\n",
            "===>  EVAL Epoch 2\n"
          ]
        },
        {
          "output_type": "stream",
          "name": "stderr",
          "text": [
            "0% [███████████████] 100% | ETA: 00:00:00\n",
            "Total time elapsed: 00:00:04\n"
          ]
        },
        {
          "output_type": "stream",
          "name": "stdout",
          "text": [
            "Finished Epoch 2 || Run Time:    0.8 | Load Time:    3.3 || F1:  98.21 | Prec:  97.77 | Rec:  98.65 || Ex/s: 594.50\n",
            "\n",
            "* Best F1: tensor(98.2063, device='cuda:0')\n",
            "Saving best model...\n",
            "Done.\n",
            "---------------------\n",
            "\n",
            "===>  TRAIN Epoch 3\n"
          ]
        },
        {
          "output_type": "stream",
          "name": "stderr",
          "text": [
            "0% [██████████████████████████████] 100% | ETA: 00:00:00\n",
            "Total time elapsed: 00:00:14\n"
          ]
        },
        {
          "output_type": "stream",
          "name": "stdout",
          "text": [
            "Finished Epoch 3 || Run Time:    3.9 | Load Time:   11.0 || F1:  98.81 | Prec:  97.86 | Rec:  99.77 || Ex/s: 498.21\n",
            "\n",
            "===>  EVAL Epoch 3\n"
          ]
        },
        {
          "output_type": "stream",
          "name": "stderr",
          "text": [
            "0% [███████████████] 100% | ETA: 00:00:00\n",
            "Total time elapsed: 00:00:03\n"
          ]
        },
        {
          "output_type": "stream",
          "name": "stdout",
          "text": [
            "Finished Epoch 3 || Run Time:    0.8 | Load Time:    3.3 || F1:  98.31 | Prec:  98.42 | Rec:  98.20 || Ex/s: 600.49\n",
            "\n",
            "* Best F1: tensor(98.3089, device='cuda:0')\n",
            "Saving best model...\n",
            "Done.\n",
            "---------------------\n",
            "\n",
            "===>  TRAIN Epoch 4\n"
          ]
        },
        {
          "output_type": "stream",
          "name": "stderr",
          "text": [
            "0% [██████████████████████████████] 100% | ETA: 00:00:00\n",
            "Total time elapsed: 00:00:14\n"
          ]
        },
        {
          "output_type": "stream",
          "name": "stdout",
          "text": [
            "Finished Epoch 4 || Run Time:    3.8 | Load Time:   10.7 || F1:  98.96 | Prec:  98.15 | Rec:  99.77 || Ex/s: 510.82\n",
            "\n",
            "===>  EVAL Epoch 4\n"
          ]
        },
        {
          "output_type": "stream",
          "name": "stderr",
          "text": [
            "0% [███████████████] 100% | ETA: 00:00:00\n",
            "Total time elapsed: 00:00:03\n"
          ]
        },
        {
          "output_type": "stream",
          "name": "stdout",
          "text": [
            "Finished Epoch 4 || Run Time:    0.8 | Load Time:    3.3 || F1:  98.32 | Prec:  97.99 | Rec:  98.65 || Ex/s: 595.73\n",
            "\n",
            "* Best F1: tensor(98.3165, device='cuda:0')\n",
            "Saving best model...\n",
            "Done.\n",
            "---------------------\n",
            "\n",
            "===>  TRAIN Epoch 5\n"
          ]
        },
        {
          "output_type": "stream",
          "name": "stderr",
          "text": [
            "0% [██████████████████████████████] 100% | ETA: 00:00:00\n",
            "Total time elapsed: 00:00:14\n"
          ]
        },
        {
          "output_type": "stream",
          "name": "stdout",
          "text": [
            "Finished Epoch 5 || Run Time:    3.8 | Load Time:   10.7 || F1:  99.11 | Prec:  98.30 | Rec:  99.92 || Ex/s: 508.20\n",
            "\n",
            "===>  EVAL Epoch 5\n"
          ]
        },
        {
          "output_type": "stream",
          "name": "stderr",
          "text": [
            "0% [███████████████] 100% | ETA: 00:00:00\n",
            "Total time elapsed: 00:00:03\n"
          ]
        },
        {
          "output_type": "stream",
          "name": "stdout",
          "text": [
            "Finished Epoch 5 || Run Time:    0.8 | Load Time:    3.3 || F1:  98.32 | Prec:  97.77 | Rec:  98.87 || Ex/s: 598.42\n",
            "\n",
            "* Best F1: tensor(98.3203, device='cuda:0')\n",
            "Saving best model...\n",
            "Done.\n",
            "---------------------\n",
            "\n",
            "===>  TRAIN Epoch 6\n"
          ]
        },
        {
          "output_type": "stream",
          "name": "stderr",
          "text": [
            "0% [██████████████████████████████] 100% | ETA: 00:00:00\n",
            "Total time elapsed: 00:00:14\n"
          ]
        },
        {
          "output_type": "stream",
          "name": "stdout",
          "text": [
            "Finished Epoch 6 || Run Time:    3.8 | Load Time:   10.7 || F1:  99.18 | Prec:  98.45 | Rec:  99.92 || Ex/s: 511.31\n",
            "\n",
            "===>  EVAL Epoch 6\n"
          ]
        },
        {
          "output_type": "stream",
          "name": "stderr",
          "text": [
            "0% [███████████████] 100% | ETA: 00:00:00\n",
            "Total time elapsed: 00:00:04\n"
          ]
        },
        {
          "output_type": "stream",
          "name": "stdout",
          "text": [
            "Finished Epoch 6 || Run Time:    0.9 | Load Time:    3.6 || F1:  98.32 | Prec:  97.56 | Rec:  99.10 || Ex/s: 554.03\n",
            "\n",
            "* Best F1: tensor(98.3240, device='cuda:0')\n",
            "Saving best model...\n",
            "Done.\n",
            "---------------------\n",
            "\n",
            "===>  TRAIN Epoch 7\n"
          ]
        },
        {
          "output_type": "stream",
          "name": "stderr",
          "text": [
            "0% [██████████████████████████████] 100% | ETA: 00:00:00\n",
            "Total time elapsed: 00:00:14\n"
          ]
        },
        {
          "output_type": "stream",
          "name": "stdout",
          "text": [
            "Finished Epoch 7 || Run Time:    3.9 | Load Time:   10.8 || F1:  99.25 | Prec:  98.59 | Rec:  99.92 || Ex/s: 503.78\n",
            "\n",
            "===>  EVAL Epoch 7\n"
          ]
        },
        {
          "output_type": "stream",
          "name": "stderr",
          "text": [
            "0% [███████████████] 100% | ETA: 00:00:00\n",
            "Total time elapsed: 00:00:04\n"
          ]
        },
        {
          "output_type": "stream",
          "name": "stdout",
          "text": [
            "Finished Epoch 7 || Run Time:    0.8 | Load Time:    3.4 || F1:  98.44 | Prec:  97.57 | Rec:  99.32 || Ex/s: 592.38\n",
            "\n",
            "* Best F1: tensor(98.4375, device='cuda:0')\n",
            "Saving best model...\n",
            "Done.\n",
            "---------------------\n",
            "\n",
            "===>  TRAIN Epoch 8\n"
          ]
        },
        {
          "output_type": "stream",
          "name": "stderr",
          "text": [
            "0% [██████████████████████████████] 100% | ETA: 00:00:00\n",
            "Total time elapsed: 00:00:14\n"
          ]
        },
        {
          "output_type": "stream",
          "name": "stdout",
          "text": [
            "Finished Epoch 8 || Run Time:    3.8 | Load Time:   10.7 || F1:  99.33 | Prec:  98.74 | Rec:  99.92 || Ex/s: 510.85\n",
            "\n",
            "===>  EVAL Epoch 8\n"
          ]
        },
        {
          "output_type": "stream",
          "name": "stderr",
          "text": [
            "0% [███████████████] 100% | ETA: 00:00:00\n",
            "Total time elapsed: 00:00:03\n"
          ]
        },
        {
          "output_type": "stream",
          "name": "stdout",
          "text": [
            "Finished Epoch 8 || Run Time:    0.8 | Load Time:    3.3 || F1:  98.55 | Prec:  97.78 | Rec:  99.32 || Ex/s: 595.88\n",
            "\n",
            "* Best F1: tensor(98.5475, device='cuda:0')\n",
            "Saving best model...\n",
            "Done.\n",
            "---------------------\n",
            "\n",
            "===>  TRAIN Epoch 9\n"
          ]
        },
        {
          "output_type": "stream",
          "name": "stderr",
          "text": [
            "0% [██████████████████████████████] 100% | ETA: 00:00:00\n",
            "Total time elapsed: 00:00:14\n"
          ]
        },
        {
          "output_type": "stream",
          "name": "stdout",
          "text": [
            "Finished Epoch 9 || Run Time:    3.8 | Load Time:   10.8 || F1:  99.40 | Prec:  98.89 | Rec:  99.92 || Ex/s: 508.57\n",
            "\n",
            "===>  EVAL Epoch 9\n"
          ]
        },
        {
          "output_type": "stream",
          "name": "stderr",
          "text": [
            "0% [███████████████] 100% | ETA: 00:00:00\n",
            "Total time elapsed: 00:00:04\n"
          ]
        },
        {
          "output_type": "stream",
          "name": "stdout",
          "text": [
            "Finished Epoch 9 || Run Time:    0.8 | Load Time:    3.4 || F1:  98.55 | Prec:  97.78 | Rec:  99.32 || Ex/s: 589.89\n",
            "\n",
            "---------------------\n",
            "\n",
            "===>  TRAIN Epoch 10\n"
          ]
        },
        {
          "output_type": "stream",
          "name": "stderr",
          "text": [
            "0% [██████████████████████████████] 100% | ETA: 00:00:00\n",
            "Total time elapsed: 00:00:14\n"
          ]
        },
        {
          "output_type": "stream",
          "name": "stdout",
          "text": [
            "Finished Epoch 10 || Run Time:    3.8 | Load Time:   10.7 || F1:  99.40 | Prec:  98.89 | Rec:  99.92 || Ex/s: 510.82\n",
            "\n",
            "===>  EVAL Epoch 10\n"
          ]
        },
        {
          "output_type": "stream",
          "name": "stderr",
          "text": [
            "0% [███████████████] 100% | ETA: 00:00:00\n",
            "Total time elapsed: 00:00:04\n"
          ]
        },
        {
          "output_type": "stream",
          "name": "stdout",
          "text": [
            "Finished Epoch 10 || Run Time:    0.8 | Load Time:    3.4 || F1:  98.54 | Prec:  98.00 | Rec:  99.10 || Ex/s: 591.13\n",
            "\n",
            "---------------------\n",
            "\n",
            "===>  TRAIN Epoch 11\n"
          ]
        },
        {
          "output_type": "stream",
          "name": "stderr",
          "text": [
            "0% [██████████████████████████████] 100% | ETA: 00:00:00\n",
            "Total time elapsed: 00:00:14\n"
          ]
        },
        {
          "output_type": "stream",
          "name": "stdout",
          "text": [
            "Finished Epoch 11 || Run Time:    3.8 | Load Time:   10.7 || F1:  99.44 | Prec:  98.96 | Rec:  99.92 || Ex/s: 511.79\n",
            "\n",
            "===>  EVAL Epoch 11\n"
          ]
        },
        {
          "output_type": "stream",
          "name": "stderr",
          "text": [
            "0% [███████████████] 100% | ETA: 00:00:00\n",
            "Total time elapsed: 00:00:04\n"
          ]
        },
        {
          "output_type": "stream",
          "name": "stdout",
          "text": [
            "Finished Epoch 11 || Run Time:    0.9 | Load Time:    3.8 || F1:  98.54 | Prec:  98.00 | Rec:  99.10 || Ex/s: 527.70\n",
            "\n",
            "---------------------\n",
            "\n",
            "===>  TRAIN Epoch 12\n"
          ]
        },
        {
          "output_type": "stream",
          "name": "stderr",
          "text": [
            "0% [██████████████████████████████] 100% | ETA: 00:00:00\n",
            "Total time elapsed: 00:00:14\n"
          ]
        },
        {
          "output_type": "stream",
          "name": "stdout",
          "text": [
            "Finished Epoch 12 || Run Time:    3.8 | Load Time:   10.7 || F1:  99.44 | Prec:  98.96 | Rec:  99.92 || Ex/s: 510.64\n",
            "\n",
            "===>  EVAL Epoch 12\n"
          ]
        },
        {
          "output_type": "stream",
          "name": "stderr",
          "text": [
            "0% [███████████████] 100% | ETA: 00:00:00\n",
            "Total time elapsed: 00:00:03\n"
          ]
        },
        {
          "output_type": "stream",
          "name": "stdout",
          "text": [
            "Finished Epoch 12 || Run Time:    0.8 | Load Time:    3.3 || F1:  98.43 | Prec:  97.78 | Rec:  99.10 || Ex/s: 597.86\n",
            "\n",
            "---------------------\n",
            "\n",
            "===>  TRAIN Epoch 13\n"
          ]
        },
        {
          "output_type": "stream",
          "name": "stderr",
          "text": [
            "0% [██████████████████████████████] 100% | ETA: 00:00:00\n",
            "Total time elapsed: 00:00:14\n"
          ]
        },
        {
          "output_type": "stream",
          "name": "stdout",
          "text": [
            "Finished Epoch 13 || Run Time:    3.8 | Load Time:   10.7 || F1:  99.48 | Prec:  98.96 | Rec: 100.00 || Ex/s: 512.65\n",
            "\n",
            "===>  EVAL Epoch 13\n"
          ]
        },
        {
          "output_type": "stream",
          "name": "stderr",
          "text": [
            "0% [███████████████] 100% | ETA: 00:00:00\n",
            "Total time elapsed: 00:00:04\n"
          ]
        },
        {
          "output_type": "stream",
          "name": "stdout",
          "text": [
            "Finished Epoch 13 || Run Time:    0.8 | Load Time:    3.4 || F1:  98.43 | Prec:  97.78 | Rec:  99.10 || Ex/s: 586.43\n",
            "\n",
            "---------------------\n",
            "\n",
            "===>  TRAIN Epoch 14\n"
          ]
        },
        {
          "output_type": "stream",
          "name": "stderr",
          "text": [
            "0% [██████████████████████████████] 100% | ETA: 00:00:00\n",
            "Total time elapsed: 00:00:14\n"
          ]
        },
        {
          "output_type": "stream",
          "name": "stdout",
          "text": [
            "Finished Epoch 14 || Run Time:    3.8 | Load Time:   10.7 || F1:  99.48 | Prec:  98.96 | Rec: 100.00 || Ex/s: 509.56\n",
            "\n",
            "===>  EVAL Epoch 14\n"
          ]
        },
        {
          "output_type": "stream",
          "name": "stderr",
          "text": [
            "0% [███████████████] 100% | ETA: 00:00:00\n",
            "Total time elapsed: 00:00:04\n"
          ]
        },
        {
          "output_type": "stream",
          "name": "stdout",
          "text": [
            "Finished Epoch 14 || Run Time:    0.8 | Load Time:    3.4 || F1:  98.54 | Prec:  98.00 | Rec:  99.10 || Ex/s: 591.78\n",
            "\n",
            "---------------------\n",
            "\n",
            "===>  TRAIN Epoch 15\n"
          ]
        },
        {
          "output_type": "stream",
          "name": "stderr",
          "text": [
            "0% [██████████████████████████████] 100% | ETA: 00:00:00\n",
            "Total time elapsed: 00:00:14\n"
          ]
        },
        {
          "output_type": "stream",
          "name": "stdout",
          "text": [
            "Finished Epoch 15 || Run Time:    3.8 | Load Time:   10.7 || F1:  99.48 | Prec:  98.96 | Rec: 100.00 || Ex/s: 511.81\n",
            "\n",
            "===>  EVAL Epoch 15\n"
          ]
        },
        {
          "output_type": "stream",
          "name": "stderr",
          "text": [
            "0% [███████████████] 100% | ETA: 00:00:00\n",
            "Total time elapsed: 00:00:04\n"
          ]
        },
        {
          "output_type": "stream",
          "name": "stdout",
          "text": [
            "Finished Epoch 15 || Run Time:    0.8 | Load Time:    3.4 || F1:  98.54 | Prec:  98.00 | Rec:  99.10 || Ex/s: 593.89\n",
            "\n",
            "---------------------\n",
            "\n",
            "Loading best model...\n",
            "Training done.\n"
          ]
        },
        {
          "output_type": "execute_result",
          "data": {
            "text/plain": [
              "tensor(98.5475, device='cuda:0')"
            ]
          },
          "metadata": {},
          "execution_count": 13
        }
      ],
      "source": [
        "model.run_train(\n",
        "    train,\n",
        "    validation,\n",
        "    epochs=15,\n",
        "    batch_size=32,\n",
        "    best_save_path='sif_model.pth',\n",
        "    pos_neg_ratio=3)"
      ]
    },
    {
      "cell_type": "code",
      "execution_count": null,
      "metadata": {
        "id": "v7hiHKiB7jiZ",
        "colab": {
          "base_uri": "https://localhost:8080/"
        },
        "outputId": "5940ced9-beab-4bc4-a010-c67b76408dfd"
      },
      "outputs": [
        {
          "output_type": "stream",
          "name": "stdout",
          "text": [
            "===>  EVAL Epoch 8\n"
          ]
        },
        {
          "output_type": "stream",
          "name": "stderr",
          "text": [
            "/usr/local/lib/python3.7/dist-packages/torch/nn/modules/module.py:974: UserWarning: Using a non-full backward hook when the forward contains multiple autograd Nodes is deprecated and will be removed in future versions. This hook will be missing some grad_input. Please use register_full_backward_hook to get the documented behavior.\n",
            "  warnings.warn(\"Using a non-full backward hook when the forward contains multiple autograd Nodes \"\n",
            "0% [███████████████] 100% | ETA: 00:00:00\n",
            "Total time elapsed: 00:00:03\n"
          ]
        },
        {
          "output_type": "stream",
          "name": "stdout",
          "text": [
            "Finished Epoch 8 || Run Time:    0.8 | Load Time:    3.3 || F1:  97.66 | Prec:  96.48 | Rec:  98.87 || Ex/s: 597.77\n",
            "\n"
          ]
        },
        {
          "output_type": "execute_result",
          "data": {
            "text/plain": [
              "tensor(97.6641, device='cuda:0')"
            ]
          },
          "metadata": {},
          "execution_count": 14
        }
      ],
      "source": [
        "# Compute F1 on test set\n",
        "model.run_eval(test)"
      ]
    },
    {
      "cell_type": "markdown",
      "metadata": {
        "id": "kfoEkQMa7jia"
      },
      "source": [
        "##### DBLP-GoogleScholar"
      ]
    },
    {
      "cell_type": "code",
      "execution_count": null,
      "metadata": {
        "id": "44lHWm9x7jia"
      },
      "outputs": [],
      "source": [
        "train, validation, test = dm.data.process(\n",
        "    path='/content/IC/datasesErros/AADatasets/Structured/DBLP-GoogleScholar/',\n",
        "    train='joined_train.csv',\n",
        "    validation='joined_valid.csv',\n",
        "    test='joined_test.csv')"
      ]
    },
    {
      "cell_type": "code",
      "execution_count": null,
      "metadata": {
        "id": "6s0UXEsU7jib"
      },
      "outputs": [],
      "source": [
        "model = dm.MatchingModel(attr_summarizer='sif')"
      ]
    },
    {
      "cell_type": "code",
      "execution_count": null,
      "metadata": {
        "id": "vxB1T6-K7jib",
        "colab": {
          "base_uri": "https://localhost:8080/"
        },
        "outputId": "907050a9-e2d3-4125-ee0e-f83fd9b6c94a"
      },
      "outputs": [
        {
          "output_type": "stream",
          "name": "stderr",
          "text": [
            "/usr/local/lib/python3.7/dist-packages/torch/nn/modules/module.py:974: UserWarning: Using a non-full backward hook when the forward contains multiple autograd Nodes is deprecated and will be removed in future versions. This hook will be missing some grad_input. Please use register_full_backward_hook to get the documented behavior.\n",
            "  warnings.warn(\"Using a non-full backward hook when the forward contains multiple autograd Nodes \"\n"
          ]
        },
        {
          "output_type": "stream",
          "name": "stdout",
          "text": [
            "* Number of trainable parameters: 542402\n",
            "===>  TRAIN Epoch 1\n"
          ]
        },
        {
          "output_type": "stream",
          "name": "stderr",
          "text": [
            "/usr/local/lib/python3.7/dist-packages/torch/nn/functional.py:2742: UserWarning: reduction: 'mean' divides the total loss by both the batch size and the support size.'batchmean' divides only by the batch size, and aligns with the KL div math definition.'mean' will be changed to behave the same as 'batchmean' in the next major release.\n",
            "  \"reduction: 'mean' divides the total loss by both the batch size and the support size.\"\n",
            "0% [██████████████████████████████] 100% | ETA: 00:00:00\n",
            "Total time elapsed: 00:00:33\n"
          ]
        },
        {
          "output_type": "stream",
          "name": "stdout",
          "text": [
            "Finished Epoch 1 || Run Time:    9.6 | Load Time:   23.8 || F1:  76.57 | Prec:  72.97 | Rec:  80.54 || Ex/s: 516.94\n",
            "\n",
            "===>  EVAL Epoch 1\n"
          ]
        },
        {
          "output_type": "stream",
          "name": "stderr",
          "text": [
            "0% [██████████████████████████████] 100% | ETA: 00:00:00\n",
            "Total time elapsed: 00:00:08\n"
          ]
        },
        {
          "output_type": "stream",
          "name": "stdout",
          "text": [
            "Finished Epoch 1 || Run Time:    1.8 | Load Time:    6.7 || F1:  79.81 | Prec:  67.98 | Rec:  96.64 || Ex/s: 677.62\n",
            "\n",
            "* Best F1: tensor(79.8148, device='cuda:0')\n",
            "Saving best model...\n",
            "Done.\n",
            "---------------------\n",
            "\n",
            "===>  TRAIN Epoch 2\n"
          ]
        },
        {
          "output_type": "stream",
          "name": "stderr",
          "text": [
            "0% [██████████████████████████████] 100% | ETA: 00:00:00\n",
            "Total time elapsed: 00:00:29\n"
          ]
        },
        {
          "output_type": "stream",
          "name": "stdout",
          "text": [
            "Finished Epoch 2 || Run Time:    8.4 | Load Time:   21.8 || F1:  89.65 | Prec:  83.89 | Rec:  96.26 || Ex/s: 571.62\n",
            "\n",
            "===>  EVAL Epoch 2\n"
          ]
        },
        {
          "output_type": "stream",
          "name": "stderr",
          "text": [
            "0% [██████████████████████████████] 100% | ETA: 00:00:00\n",
            "Total time elapsed: 00:00:08\n"
          ]
        },
        {
          "output_type": "stream",
          "name": "stdout",
          "text": [
            "Finished Epoch 2 || Run Time:    1.8 | Load Time:    6.7 || F1:  82.94 | Prec:  72.70 | Rec:  96.54 || Ex/s: 674.65\n",
            "\n",
            "* Best F1: tensor(82.9386, device='cuda:0')\n",
            "Saving best model...\n",
            "Done.\n",
            "---------------------\n",
            "\n",
            "===>  TRAIN Epoch 3\n"
          ]
        },
        {
          "output_type": "stream",
          "name": "stderr",
          "text": [
            "0% [██████████████████████████████] 100% | ETA: 00:00:00\n",
            "Total time elapsed: 00:00:30\n"
          ]
        },
        {
          "output_type": "stream",
          "name": "stdout",
          "text": [
            "Finished Epoch 3 || Run Time:    8.5 | Load Time:   22.2 || F1:  93.69 | Prec:  89.63 | Rec:  98.13 || Ex/s: 559.80\n",
            "\n",
            "===>  EVAL Epoch 3\n"
          ]
        },
        {
          "output_type": "stream",
          "name": "stderr",
          "text": [
            "0% [██████████████████████████████] 100% | ETA: 00:00:00\n",
            "Total time elapsed: 00:00:08\n"
          ]
        },
        {
          "output_type": "stream",
          "name": "stdout",
          "text": [
            "Finished Epoch 3 || Run Time:    1.8 | Load Time:    6.7 || F1:  88.35 | Prec:  83.11 | Rec:  94.30 || Ex/s: 676.84\n",
            "\n",
            "* Best F1: tensor(88.3538, device='cuda:0')\n",
            "Saving best model...\n",
            "Done.\n",
            "---------------------\n",
            "\n",
            "===>  TRAIN Epoch 4\n"
          ]
        },
        {
          "output_type": "stream",
          "name": "stderr",
          "text": [
            "0% [██████████████████████████████] 100% | ETA: 00:00:00\n",
            "Total time elapsed: 00:00:30\n"
          ]
        },
        {
          "output_type": "stream",
          "name": "stdout",
          "text": [
            "Finished Epoch 4 || Run Time:    8.4 | Load Time:   22.0 || F1:  96.02 | Prec:  93.22 | Rec:  99.00 || Ex/s: 565.59\n",
            "\n",
            "===>  EVAL Epoch 4\n"
          ]
        },
        {
          "output_type": "stream",
          "name": "stderr",
          "text": [
            "0% [██████████████████████████████] 100% | ETA: 00:00:00\n",
            "Total time elapsed: 00:00:08\n"
          ]
        },
        {
          "output_type": "stream",
          "name": "stdout",
          "text": [
            "Finished Epoch 4 || Run Time:    1.8 | Load Time:    6.7 || F1:  89.70 | Prec:  87.54 | Rec:  91.96 || Ex/s: 673.46\n",
            "\n",
            "* Best F1: tensor(89.6992, device='cuda:0')\n",
            "Saving best model...\n",
            "Done.\n",
            "---------------------\n",
            "\n",
            "===>  TRAIN Epoch 5\n"
          ]
        },
        {
          "output_type": "stream",
          "name": "stderr",
          "text": [
            "0% [██████████████████████████████] 100% | ETA: 00:00:00\n",
            "Total time elapsed: 00:00:30\n"
          ]
        },
        {
          "output_type": "stream",
          "name": "stdout",
          "text": [
            "Finished Epoch 5 || Run Time:    8.6 | Load Time:   22.3 || F1:  97.17 | Prec:  95.24 | Rec:  99.19 || Ex/s: 558.65\n",
            "\n",
            "===>  EVAL Epoch 5\n"
          ]
        },
        {
          "output_type": "stream",
          "name": "stderr",
          "text": [
            "0% [██████████████████████████████] 100% | ETA: 00:00:00\n",
            "Total time elapsed: 00:00:08\n"
          ]
        },
        {
          "output_type": "stream",
          "name": "stdout",
          "text": [
            "Finished Epoch 5 || Run Time:    1.8 | Load Time:    6.7 || F1:  89.95 | Prec:  89.16 | Rec:  90.75 || Ex/s: 676.05\n",
            "\n",
            "* Best F1: tensor(89.9491, device='cuda:0')\n",
            "Saving best model...\n",
            "Done.\n",
            "---------------------\n",
            "\n",
            "===>  TRAIN Epoch 6\n"
          ]
        },
        {
          "output_type": "stream",
          "name": "stderr",
          "text": [
            "0% [██████████████████████████████] 100% | ETA: 00:00:00\n",
            "Total time elapsed: 00:00:29\n"
          ]
        },
        {
          "output_type": "stream",
          "name": "stdout",
          "text": [
            "Finished Epoch 6 || Run Time:    8.3 | Load Time:   21.8 || F1:  97.79 | Prec:  96.28 | Rec:  99.35 || Ex/s: 570.90\n",
            "\n",
            "===>  EVAL Epoch 6\n"
          ]
        },
        {
          "output_type": "stream",
          "name": "stderr",
          "text": [
            "0% [██████████████████████████████] 100% | ETA: 00:00:00\n",
            "Total time elapsed: 00:00:08\n"
          ]
        },
        {
          "output_type": "stream",
          "name": "stdout",
          "text": [
            "Finished Epoch 6 || Run Time:    1.8 | Load Time:    6.7 || F1:  89.79 | Prec:  89.96 | Rec:  89.63 || Ex/s: 675.65\n",
            "\n",
            "---------------------\n",
            "\n",
            "===>  TRAIN Epoch 7\n"
          ]
        },
        {
          "output_type": "stream",
          "name": "stderr",
          "text": [
            "0% [██████████████████████████████] 100% | ETA: 00:00:00\n",
            "Total time elapsed: 00:00:30\n"
          ]
        },
        {
          "output_type": "stream",
          "name": "stdout",
          "text": [
            "Finished Epoch 7 || Run Time:    8.4 | Load Time:   21.9 || F1:  98.29 | Prec:  97.20 | Rec:  99.41 || Ex/s: 569.20\n",
            "\n",
            "===>  EVAL Epoch 7\n"
          ]
        },
        {
          "output_type": "stream",
          "name": "stderr",
          "text": [
            "0% [██████████████████████████████] 100% | ETA: 00:00:00\n",
            "Total time elapsed: 00:00:08\n"
          ]
        },
        {
          "output_type": "stream",
          "name": "stdout",
          "text": [
            "Finished Epoch 7 || Run Time:    1.9 | Load Time:    7.0 || F1:  89.60 | Prec:  89.85 | Rec:  89.35 || Ex/s: 641.72\n",
            "\n",
            "---------------------\n",
            "\n",
            "===>  TRAIN Epoch 8\n"
          ]
        },
        {
          "output_type": "stream",
          "name": "stderr",
          "text": [
            "0% [██████████████████████████████] 100% | ETA: 00:00:00\n",
            "Total time elapsed: 00:00:29\n"
          ]
        },
        {
          "output_type": "stream",
          "name": "stdout",
          "text": [
            "Finished Epoch 8 || Run Time:    8.4 | Load Time:   21.9 || F1:  98.62 | Prec:  97.79 | Rec:  99.47 || Ex/s: 569.42\n",
            "\n",
            "===>  EVAL Epoch 8\n"
          ]
        },
        {
          "output_type": "stream",
          "name": "stderr",
          "text": [
            "0% [██████████████████████████████] 100% | ETA: 00:00:00\n",
            "Total time elapsed: 00:00:10\n"
          ]
        },
        {
          "output_type": "stream",
          "name": "stdout",
          "text": [
            "Finished Epoch 8 || Run Time:    2.4 | Load Time:    8.2 || F1:  89.62 | Prec:  90.08 | Rec:  89.16 || Ex/s: 542.57\n",
            "\n",
            "---------------------\n",
            "\n",
            "===>  TRAIN Epoch 9\n"
          ]
        },
        {
          "output_type": "stream",
          "name": "stderr",
          "text": [
            "0% [██████████████████████████████] 100% | ETA: 00:00:00\n",
            "Total time elapsed: 00:00:29\n"
          ]
        },
        {
          "output_type": "stream",
          "name": "stdout",
          "text": [
            "Finished Epoch 9 || Run Time:    8.4 | Load Time:   21.9 || F1:  98.85 | Prec:  98.21 | Rec:  99.50 || Ex/s: 569.58\n",
            "\n",
            "===>  EVAL Epoch 9\n"
          ]
        },
        {
          "output_type": "stream",
          "name": "stderr",
          "text": [
            "0% [██████████████████████████████] 100% | ETA: 00:00:00\n",
            "Total time elapsed: 00:00:08\n"
          ]
        },
        {
          "output_type": "stream",
          "name": "stdout",
          "text": [
            "Finished Epoch 9 || Run Time:    1.8 | Load Time:    6.7 || F1:  89.74 | Prec:  89.95 | Rec:  89.53 || Ex/s: 675.20\n",
            "\n",
            "---------------------\n",
            "\n",
            "===>  TRAIN Epoch 10\n"
          ]
        },
        {
          "output_type": "stream",
          "name": "stderr",
          "text": [
            "0% [██████████████████████████████] 100% | ETA: 00:00:00\n",
            "Total time elapsed: 00:00:30\n"
          ]
        },
        {
          "output_type": "stream",
          "name": "stdout",
          "text": [
            "Finished Epoch 10 || Run Time:    8.7 | Load Time:   22.4 || F1:  98.98 | Prec:  98.46 | Rec:  99.50 || Ex/s: 554.42\n",
            "\n",
            "===>  EVAL Epoch 10\n"
          ]
        },
        {
          "output_type": "stream",
          "name": "stderr",
          "text": [
            "0% [██████████████████████████████] 100% | ETA: 00:00:00\n",
            "Total time elapsed: 00:00:08\n"
          ]
        },
        {
          "output_type": "stream",
          "name": "stdout",
          "text": [
            "Finished Epoch 10 || Run Time:    1.8 | Load Time:    6.7 || F1:  89.74 | Prec:  89.95 | Rec:  89.53 || Ex/s: 678.42\n",
            "\n",
            "---------------------\n",
            "\n",
            "===>  TRAIN Epoch 11\n"
          ]
        },
        {
          "output_type": "stream",
          "name": "stderr",
          "text": [
            "0% [██████████████████████████████] 100% | ETA: 00:00:00\n",
            "Total time elapsed: 00:00:30\n"
          ]
        },
        {
          "output_type": "stream",
          "name": "stdout",
          "text": [
            "Finished Epoch 11 || Run Time:    8.4 | Load Time:   21.9 || F1:  99.05 | Prec:  98.58 | Rec:  99.53 || Ex/s: 568.82\n",
            "\n",
            "===>  EVAL Epoch 11\n"
          ]
        },
        {
          "output_type": "stream",
          "name": "stderr",
          "text": [
            "0% [██████████████████████████████] 100% | ETA: 00:00:00\n",
            "Total time elapsed: 00:00:08\n"
          ]
        },
        {
          "output_type": "stream",
          "name": "stdout",
          "text": [
            "Finished Epoch 11 || Run Time:    1.8 | Load Time:    6.7 || F1:  89.91 | Prec:  89.91 | Rec:  89.91 || Ex/s: 678.64\n",
            "\n",
            "---------------------\n",
            "\n",
            "===>  TRAIN Epoch 12\n"
          ]
        },
        {
          "output_type": "stream",
          "name": "stderr",
          "text": [
            "0% [██████████████████████████████] 100% | ETA: 00:00:00\n",
            "Total time elapsed: 00:00:30\n"
          ]
        },
        {
          "output_type": "stream",
          "name": "stdout",
          "text": [
            "Finished Epoch 12 || Run Time:    8.4 | Load Time:   22.2 || F1:  99.13 | Prec:  98.73 | Rec:  99.53 || Ex/s: 562.05\n",
            "\n",
            "===>  EVAL Epoch 12\n"
          ]
        },
        {
          "output_type": "stream",
          "name": "stderr",
          "text": [
            "0% [██████████████████████████████] 100% | ETA: 00:00:00\n",
            "Total time elapsed: 00:00:08\n"
          ]
        },
        {
          "output_type": "stream",
          "name": "stdout",
          "text": [
            "Finished Epoch 12 || Run Time:    1.8 | Load Time:    6.7 || F1:  89.88 | Prec:  89.67 | Rec:  90.09 || Ex/s: 675.05\n",
            "\n",
            "---------------------\n",
            "\n",
            "===>  TRAIN Epoch 13\n"
          ]
        },
        {
          "output_type": "stream",
          "name": "stderr",
          "text": [
            "0% [██████████████████████████████] 100% | ETA: 00:00:00\n",
            "Total time elapsed: 00:00:30\n"
          ]
        },
        {
          "output_type": "stream",
          "name": "stdout",
          "text": [
            "Finished Epoch 13 || Run Time:    8.4 | Load Time:   22.0 || F1:  99.16 | Prec:  98.73 | Rec:  99.59 || Ex/s: 567.10\n",
            "\n",
            "===>  EVAL Epoch 13\n"
          ]
        },
        {
          "output_type": "stream",
          "name": "stderr",
          "text": [
            "0% [██████████████████████████████] 100% | ETA: 00:00:00\n",
            "Total time elapsed: 00:00:08\n"
          ]
        },
        {
          "output_type": "stream",
          "name": "stdout",
          "text": [
            "Finished Epoch 13 || Run Time:    1.8 | Load Time:    6.7 || F1:  89.69 | Prec:  89.11 | Rec:  90.28 || Ex/s: 677.40\n",
            "\n",
            "---------------------\n",
            "\n",
            "===>  TRAIN Epoch 14\n"
          ]
        },
        {
          "output_type": "stream",
          "name": "stderr",
          "text": [
            "0% [██████████████████████████████] 100% | ETA: 00:00:00\n",
            "Total time elapsed: 00:00:29\n"
          ]
        },
        {
          "output_type": "stream",
          "name": "stdout",
          "text": [
            "Finished Epoch 14 || Run Time:    8.3 | Load Time:   21.8 || F1:  99.27 | Prec:  98.95 | Rec:  99.59 || Ex/s: 571.13\n",
            "\n",
            "===>  EVAL Epoch 14\n"
          ]
        },
        {
          "output_type": "stream",
          "name": "stderr",
          "text": [
            "0% [██████████████████████████████] 100% | ETA: 00:00:00\n",
            "Total time elapsed: 00:00:08\n"
          ]
        },
        {
          "output_type": "stream",
          "name": "stdout",
          "text": [
            "Finished Epoch 14 || Run Time:    1.9 | Load Time:    7.0 || F1:  89.61 | Prec:  88.95 | Rec:  90.28 || Ex/s: 648.76\n",
            "\n",
            "---------------------\n",
            "\n",
            "===>  TRAIN Epoch 15\n"
          ]
        },
        {
          "output_type": "stream",
          "name": "stderr",
          "text": [
            "0% [██████████████████████████████] 100% | ETA: 00:00:00\n",
            "Total time elapsed: 00:00:30\n"
          ]
        },
        {
          "output_type": "stream",
          "name": "stdout",
          "text": [
            "Finished Epoch 15 || Run Time:    8.4 | Load Time:   22.0 || F1:  99.30 | Prec:  98.98 | Rec:  99.63 || Ex/s: 566.23\n",
            "\n",
            "===>  EVAL Epoch 15\n"
          ]
        },
        {
          "output_type": "stream",
          "name": "stderr",
          "text": [
            "0% [██████████████████████████████] 100% | ETA: 00:00:00\n",
            "Total time elapsed: 00:00:08\n"
          ]
        },
        {
          "output_type": "stream",
          "name": "stdout",
          "text": [
            "Finished Epoch 15 || Run Time:    1.8 | Load Time:    6.7 || F1:  89.67 | Prec:  89.26 | Rec:  90.09 || Ex/s: 676.34\n",
            "\n",
            "---------------------\n",
            "\n",
            "Loading best model...\n",
            "Training done.\n"
          ]
        },
        {
          "output_type": "execute_result",
          "data": {
            "text/plain": [
              "tensor(89.9491, device='cuda:0')"
            ]
          },
          "metadata": {},
          "execution_count": 13
        }
      ],
      "source": [
        "model.run_train(\n",
        "    train,\n",
        "    validation,\n",
        "    epochs=15,\n",
        "    batch_size=32,\n",
        "    best_save_path='sif_model.pth',\n",
        "    pos_neg_ratio=3)"
      ]
    },
    {
      "cell_type": "code",
      "execution_count": null,
      "metadata": {
        "id": "6KTfXvYq7jib",
        "colab": {
          "base_uri": "https://localhost:8080/"
        },
        "outputId": "d164d061-8402-431c-cecb-8392209a50b2"
      },
      "outputs": [
        {
          "output_type": "stream",
          "name": "stdout",
          "text": [
            "===>  EVAL Epoch 5\n"
          ]
        },
        {
          "output_type": "stream",
          "name": "stderr",
          "text": [
            "/usr/local/lib/python3.7/dist-packages/torch/nn/modules/module.py:974: UserWarning: Using a non-full backward hook when the forward contains multiple autograd Nodes is deprecated and will be removed in future versions. This hook will be missing some grad_input. Please use register_full_backward_hook to get the documented behavior.\n",
            "  warnings.warn(\"Using a non-full backward hook when the forward contains multiple autograd Nodes \"\n",
            "0% [██████████████████████████████] 100% | ETA: 00:00:00\n",
            "Total time elapsed: 00:00:08\n"
          ]
        },
        {
          "output_type": "stream",
          "name": "stdout",
          "text": [
            "Finished Epoch 5 || Run Time:    1.9 | Load Time:    7.0 || F1:  89.38 | Prec:  89.50 | Rec:  89.25 || Ex/s: 647.94\n",
            "\n"
          ]
        },
        {
          "output_type": "execute_result",
          "data": {
            "text/plain": [
              "tensor(89.3776, device='cuda:0')"
            ]
          },
          "metadata": {},
          "execution_count": 14
        }
      ],
      "source": [
        "# Compute F1 on test set\n",
        "model.run_eval(test)"
      ]
    },
    {
      "cell_type": "markdown",
      "metadata": {
        "id": "nQTv2vdI7jic"
      },
      "source": [
        "##### Walmart-Amazon"
      ]
    },
    {
      "cell_type": "code",
      "execution_count": null,
      "metadata": {
        "id": "Iz-jzR917jic",
        "colab": {
          "base_uri": "https://localhost:8080/"
        },
        "outputId": "0e566702-b13a-4ac0-93de-65c0261c145c"
      },
      "outputs": [
        {
          "output_type": "stream",
          "name": "stderr",
          "text": [
            "WARNING:deepmatcher.data.dataset:Rebuilding data cache because: ['One or more data files have been modified.', 'Data file list has changed.']\n",
            "\n",
            "Reading and processing data from \"/content/IC/datasesErros/AADatasets/Structured/Walmart-Amazon/joined_train.csv\"\n",
            "0% [############################# ] 100% | ETA: 00:00:00\n",
            "Reading and processing data from \"/content/IC/datasesErros/AADatasets/Structured/Walmart-Amazon/joined_valid.csv\"\n",
            "0% [############################# ] 100% | ETA: 00:00:00\n",
            "Reading and processing data from \"/content/IC/datasesErros/AADatasets/Structured/Walmart-Amazon/joined_test.csv\"\n",
            "0% [############################# ] 100% | ETA: 00:00:00Warning : `load_model` does not return WordVectorModel or SupervisedModel any more, but a `FastText` object which is very similar.\n",
            "\n",
            "Building vocabulary\n",
            "0% [######] 100% | ETA: 00:00:00\n",
            "Total time elapsed: 00:00:00\n",
            "\n",
            "Computing principal components\n",
            "0% [######] 100% | ETA: 00:00:00\n",
            "Total time elapsed: 00:00:01\n"
          ]
        }
      ],
      "source": [
        "train, validation, test = dm.data.process(\n",
        "    path='/content/IC/datasesErros/AADatasets/Structured/Walmart-Amazon/',\n",
        "    train='joined_train.csv',\n",
        "    validation='joined_valid.csv',\n",
        "    test='joined_test.csv')"
      ]
    },
    {
      "cell_type": "code",
      "execution_count": null,
      "metadata": {
        "id": "tPLnyQy97jid"
      },
      "outputs": [],
      "source": [
        "model = dm.MatchingModel(attr_summarizer='sif')"
      ]
    },
    {
      "cell_type": "code",
      "execution_count": null,
      "metadata": {
        "id": "SGL7wIyt7jid",
        "colab": {
          "base_uri": "https://localhost:8080/"
        },
        "outputId": "437c340c-6db9-4e07-d1c1-f7ca37e154a1"
      },
      "outputs": [
        {
          "metadata": {
            "tags": null
          },
          "name": "stderr",
          "output_type": "stream",
          "text": [
            "/usr/local/lib/python3.7/dist-packages/torch/nn/modules/module.py:974: UserWarning: Using a non-full backward hook when the forward contains multiple autograd Nodes is deprecated and will be removed in future versions. This hook will be missing some grad_input. Please use register_full_backward_hook to get the documented behavior.\n",
            "  warnings.warn(\"Using a non-full backward hook when the forward contains multiple autograd Nodes \"\n"
          ]
        },
        {
          "metadata": {
            "tags": null
          },
          "name": "stdout",
          "output_type": "stream",
          "text": [
            "* Number of trainable parameters: 542402\n",
            "===>  TRAIN Epoch 1\n"
          ]
        },
        {
          "metadata": {
            "tags": null
          },
          "name": "stderr",
          "output_type": "stream",
          "text": [
            "/usr/local/lib/python3.7/dist-packages/torch/nn/functional.py:2742: UserWarning: reduction: 'mean' divides the total loss by both the batch size and the support size.'batchmean' divides only by the batch size, and aligns with the KL div math definition.'mean' will be changed to behave the same as 'batchmean' in the next major release.\n",
            "  \"reduction: 'mean' divides the total loss by both the batch size and the support size.\"\n",
            "0% [██████████████████████████████] 100% | ETA: 00:00:00\n",
            "Total time elapsed: 00:00:13\n"
          ]
        },
        {
          "metadata": {
            "tags": null
          },
          "name": "stdout",
          "output_type": "stream",
          "text": [
            "Finished Epoch 1 || Run Time:    5.3 | Load Time:    8.0 || F1:  27.03 | Prec:  46.22 | Rec:  19.10 || Ex/s: 461.47\n",
            "\n",
            "===>  EVAL Epoch 1\n"
          ]
        },
        {
          "metadata": {
            "tags": null
          },
          "name": "stderr",
          "output_type": "stream",
          "text": [
            "0% [█████████████] 100% | ETA: 00:00:00\n",
            "Total time elapsed: 00:00:02\n"
          ]
        },
        {
          "metadata": {
            "tags": null
          },
          "name": "stdout",
          "output_type": "stream",
          "text": [
            "Finished Epoch 1 || Run Time:    0.8 | Load Time:    1.9 || F1:  55.37 | Prec:  60.87 | Rec:  50.78 || Ex/s: 760.01\n",
            "\n",
            "* Best F1: tensor(55.3672, device='cuda:0')\n",
            "Saving best model...\n",
            "Done.\n",
            "---------------------\n",
            "\n",
            "===>  TRAIN Epoch 2\n"
          ]
        },
        {
          "metadata": {
            "tags": null
          },
          "name": "stderr",
          "output_type": "stream",
          "text": [
            "0% [██████████████████████████████] 100% | ETA: 00:00:00\n",
            "Total time elapsed: 00:00:09\n"
          ]
        },
        {
          "metadata": {
            "tags": null
          },
          "name": "stdout",
          "output_type": "stream",
          "text": [
            "Finished Epoch 2 || Run Time:    3.7 | Load Time:    6.0 || F1:  56.47 | Prec:  58.58 | Rec:  54.51 || Ex/s: 629.22\n",
            "\n",
            "===>  EVAL Epoch 2\n"
          ]
        },
        {
          "metadata": {
            "tags": null
          },
          "name": "stderr",
          "output_type": "stream",
          "text": [
            "0% [█████████████] 100% | ETA: 00:00:00\n",
            "Total time elapsed: 00:00:02\n"
          ]
        },
        {
          "metadata": {
            "tags": null
          },
          "name": "stdout",
          "output_type": "stream",
          "text": [
            "Finished Epoch 2 || Run Time:    0.8 | Load Time:    1.9 || F1:  59.01 | Prec:  59.47 | Rec:  58.55 || Ex/s: 772.49\n",
            "\n",
            "* Best F1: tensor(59.0078, device='cuda:0')\n",
            "Saving best model...\n",
            "Done.\n",
            "---------------------\n",
            "\n",
            "===>  TRAIN Epoch 3\n"
          ]
        },
        {
          "metadata": {
            "tags": null
          },
          "name": "stderr",
          "output_type": "stream",
          "text": [
            "0% [██████████████████████████████] 100% | ETA: 00:00:00\n",
            "Total time elapsed: 00:00:09\n"
          ]
        },
        {
          "metadata": {
            "tags": null
          },
          "name": "stdout",
          "output_type": "stream",
          "text": [
            "Finished Epoch 3 || Run Time:    3.7 | Load Time:    6.0 || F1:  70.70 | Prec:  69.40 | Rec:  72.05 || Ex/s: 635.72\n",
            "\n",
            "===>  EVAL Epoch 3\n"
          ]
        },
        {
          "metadata": {
            "tags": null
          },
          "name": "stderr",
          "output_type": "stream",
          "text": [
            "0% [█████████████] 100% | ETA: 00:00:00\n",
            "Total time elapsed: 00:00:02\n"
          ]
        },
        {
          "metadata": {
            "tags": null
          },
          "name": "stdout",
          "output_type": "stream",
          "text": [
            "Finished Epoch 3 || Run Time:    0.8 | Load Time:    1.9 || F1:  60.89 | Prec:  61.70 | Rec:  60.10 || Ex/s: 759.49\n",
            "\n",
            "* Best F1: tensor(60.8924, device='cuda:0')\n",
            "Saving best model...\n",
            "Done.\n",
            "---------------------\n",
            "\n",
            "===>  TRAIN Epoch 4\n"
          ]
        },
        {
          "metadata": {
            "tags": null
          },
          "name": "stderr",
          "output_type": "stream",
          "text": [
            "0% [██████████████████████████████] 100% | ETA: 00:00:00\n",
            "Total time elapsed: 00:00:09\n"
          ]
        },
        {
          "metadata": {
            "tags": null
          },
          "name": "stdout",
          "output_type": "stream",
          "text": [
            "Finished Epoch 4 || Run Time:    3.6 | Load Time:    6.0 || F1:  79.87 | Prec:  77.27 | Rec:  82.64 || Ex/s: 641.61\n",
            "\n",
            "===>  EVAL Epoch 4\n"
          ]
        },
        {
          "metadata": {
            "tags": null
          },
          "name": "stderr",
          "output_type": "stream",
          "text": [
            "0% [█████████████] 100% | ETA: 00:00:00\n",
            "Total time elapsed: 00:00:02\n"
          ]
        },
        {
          "metadata": {
            "tags": null
          },
          "name": "stdout",
          "output_type": "stream",
          "text": [
            "Finished Epoch 4 || Run Time:    0.8 | Load Time:    1.9 || F1:  61.88 | Prec:  59.24 | Rec:  64.77 || Ex/s: 772.54\n",
            "\n",
            "* Best F1: tensor(61.8812, device='cuda:0')\n",
            "Saving best model...\n",
            "Done.\n",
            "---------------------\n",
            "\n",
            "===>  TRAIN Epoch 5\n"
          ]
        },
        {
          "metadata": {
            "tags": null
          },
          "name": "stderr",
          "output_type": "stream",
          "text": [
            "0% [██████████████████████████████] 100% | ETA: 00:00:00\n",
            "Total time elapsed: 00:00:10\n"
          ]
        },
        {
          "metadata": {
            "tags": null
          },
          "name": "stdout",
          "output_type": "stream",
          "text": [
            "Finished Epoch 5 || Run Time:    4.0 | Load Time:    6.4 || F1:  87.84 | Prec:  85.53 | Rec:  90.28 || Ex/s: 596.02\n",
            "\n",
            "===>  EVAL Epoch 5\n"
          ]
        },
        {
          "metadata": {
            "tags": null
          },
          "name": "stderr",
          "output_type": "stream",
          "text": [
            "0% [█████████████] 100% | ETA: 00:00:00\n",
            "Total time elapsed: 00:00:02\n"
          ]
        },
        {
          "metadata": {
            "tags": null
          },
          "name": "stdout",
          "output_type": "stream",
          "text": [
            "Finished Epoch 5 || Run Time:    0.8 | Load Time:    1.9 || F1:  63.03 | Prec:  60.48 | Rec:  65.80 || Ex/s: 776.61\n",
            "\n",
            "* Best F1: tensor(63.0273, device='cuda:0')\n",
            "Saving best model...\n",
            "Done.\n",
            "---------------------\n",
            "\n",
            "===>  TRAIN Epoch 6\n"
          ]
        },
        {
          "metadata": {
            "tags": null
          },
          "name": "stderr",
          "output_type": "stream",
          "text": [
            "0% [██████████████████████████████] 100% | ETA: 00:00:00\n",
            "Total time elapsed: 00:00:09\n"
          ]
        },
        {
          "metadata": {
            "tags": null
          },
          "name": "stdout",
          "output_type": "stream",
          "text": [
            "Finished Epoch 6 || Run Time:    3.7 | Load Time:    5.9 || F1:  92.54 | Prec:  90.40 | Rec:  94.79 || Ex/s: 640.45\n",
            "\n",
            "===>  EVAL Epoch 6\n"
          ]
        },
        {
          "metadata": {
            "tags": null
          },
          "name": "stderr",
          "output_type": "stream",
          "text": [
            "0% [█████████████] 100% | ETA: 00:00:00\n",
            "Total time elapsed: 00:00:02\n"
          ]
        },
        {
          "metadata": {
            "tags": null
          },
          "name": "stdout",
          "output_type": "stream",
          "text": [
            "Finished Epoch 6 || Run Time:    0.8 | Load Time:    1.9 || F1:  65.59 | Prec:  68.16 | Rec:  63.21 || Ex/s: 760.37\n",
            "\n",
            "* Best F1: tensor(65.5914, device='cuda:0')\n",
            "Saving best model...\n",
            "Done.\n",
            "---------------------\n",
            "\n",
            "===>  TRAIN Epoch 7\n"
          ]
        },
        {
          "metadata": {
            "tags": null
          },
          "name": "stderr",
          "output_type": "stream",
          "text": [
            "0% [██████████████████████████████] 100% | ETA: 00:00:00\n",
            "Total time elapsed: 00:00:09\n"
          ]
        },
        {
          "metadata": {
            "tags": null
          },
          "name": "stdout",
          "output_type": "stream",
          "text": [
            "Finished Epoch 7 || Run Time:    3.7 | Load Time:    5.9 || F1:  95.71 | Prec:  94.58 | Rec:  96.88 || Ex/s: 640.03\n",
            "\n",
            "===>  EVAL Epoch 7\n"
          ]
        },
        {
          "metadata": {
            "tags": null
          },
          "name": "stderr",
          "output_type": "stream",
          "text": [
            "0% [█████████████] 100% | ETA: 00:00:00\n",
            "Total time elapsed: 00:00:02\n"
          ]
        },
        {
          "metadata": {
            "tags": null
          },
          "name": "stdout",
          "output_type": "stream",
          "text": [
            "Finished Epoch 7 || Run Time:    0.8 | Load Time:    1.9 || F1:  67.22 | Prec:  72.46 | Rec:  62.69 || Ex/s: 765.85\n",
            "\n",
            "* Best F1: tensor(67.2222, device='cuda:0')\n",
            "Saving best model...\n",
            "Done.\n",
            "---------------------\n",
            "\n",
            "===>  TRAIN Epoch 8\n"
          ]
        },
        {
          "metadata": {
            "tags": null
          },
          "name": "stderr",
          "output_type": "stream",
          "text": [
            "0% [██████████████████████████████] 100% | ETA: 00:00:00\n",
            "Total time elapsed: 00:00:09\n"
          ]
        },
        {
          "metadata": {
            "tags": null
          },
          "name": "stdout",
          "output_type": "stream",
          "text": [
            "Finished Epoch 8 || Run Time:    3.6 | Load Time:    6.0 || F1:  96.82 | Prec:  95.91 | Rec:  97.74 || Ex/s: 639.83\n",
            "\n",
            "===>  EVAL Epoch 8\n"
          ]
        },
        {
          "metadata": {
            "tags": null
          },
          "name": "stderr",
          "output_type": "stream",
          "text": [
            "0% [█████████████] 100% | ETA: 00:00:00\n",
            "Total time elapsed: 00:00:02\n"
          ]
        },
        {
          "metadata": {
            "tags": null
          },
          "name": "stdout",
          "output_type": "stream",
          "text": [
            "Finished Epoch 8 || Run Time:    0.8 | Load Time:    1.9 || F1:  67.04 | Prec:  72.02 | Rec:  62.69 || Ex/s: 766.83\n",
            "\n",
            "---------------------\n",
            "\n",
            "===>  TRAIN Epoch 9\n"
          ]
        },
        {
          "metadata": {
            "tags": null
          },
          "name": "stderr",
          "output_type": "stream",
          "text": [
            "0% [██████████████████████████████] 100% | ETA: 00:00:00\n",
            "Total time elapsed: 00:00:09\n"
          ]
        },
        {
          "metadata": {
            "tags": null
          },
          "name": "stdout",
          "output_type": "stream",
          "text": [
            "Finished Epoch 9 || Run Time:    3.6 | Load Time:    6.0 || F1:  97.84 | Prec:  97.26 | Rec:  98.44 || Ex/s: 635.54\n",
            "\n",
            "===>  EVAL Epoch 9\n"
          ]
        },
        {
          "metadata": {
            "tags": null
          },
          "name": "stderr",
          "output_type": "stream",
          "text": [
            "0% [█████████████] 100% | ETA: 00:00:00\n",
            "Total time elapsed: 00:00:02\n"
          ]
        },
        {
          "metadata": {
            "tags": null
          },
          "name": "stdout",
          "output_type": "stream",
          "text": [
            "Finished Epoch 9 || Run Time:    0.9 | Load Time:    2.0 || F1:  66.67 | Prec:  71.86 | Rec:  62.18 || Ex/s: 698.72\n",
            "\n",
            "---------------------\n",
            "\n",
            "===>  TRAIN Epoch 10\n"
          ]
        },
        {
          "metadata": {
            "tags": null
          },
          "name": "stderr",
          "output_type": "stream",
          "text": [
            "0% [██████████████████████████████] 100% | ETA: 00:00:00\n",
            "Total time elapsed: 00:00:09\n"
          ]
        },
        {
          "metadata": {
            "tags": null
          },
          "name": "stdout",
          "output_type": "stream",
          "text": [
            "Finished Epoch 10 || Run Time:    3.6 | Load Time:    5.9 || F1:  98.19 | Prec:  97.44 | Rec:  98.96 || Ex/s: 641.52\n",
            "\n",
            "===>  EVAL Epoch 10\n"
          ]
        },
        {
          "metadata": {
            "tags": null
          },
          "name": "stderr",
          "output_type": "stream",
          "text": [
            "0% [█████████████] 100% | ETA: 00:00:00\n",
            "Total time elapsed: 00:00:02\n"
          ]
        },
        {
          "metadata": {
            "tags": null
          },
          "name": "stdout",
          "output_type": "stream",
          "text": [
            "Finished Epoch 10 || Run Time:    0.8 | Load Time:    1.9 || F1:  65.75 | Prec:  70.41 | Rec:  61.66 || Ex/s: 773.05\n",
            "\n",
            "---------------------\n",
            "\n",
            "===>  TRAIN Epoch 11\n"
          ]
        },
        {
          "metadata": {
            "tags": null
          },
          "name": "stderr",
          "output_type": "stream",
          "text": [
            "0% [██████████████████████████████] 100% | ETA: 00:00:00\n",
            "Total time elapsed: 00:00:09\n"
          ]
        },
        {
          "metadata": {
            "tags": null
          },
          "name": "stdout",
          "output_type": "stream",
          "text": [
            "Finished Epoch 11 || Run Time:    3.7 | Load Time:    5.9 || F1:  98.36 | Prec:  97.77 | Rec:  98.96 || Ex/s: 637.58\n",
            "\n",
            "===>  EVAL Epoch 11\n"
          ]
        },
        {
          "metadata": {
            "tags": null
          },
          "name": "stderr",
          "output_type": "stream",
          "text": [
            "0% [█████████████] 100% | ETA: 00:00:00\n",
            "Total time elapsed: 00:00:02\n"
          ]
        },
        {
          "metadata": {
            "tags": null
          },
          "name": "stdout",
          "output_type": "stream",
          "text": [
            "Finished Epoch 11 || Run Time:    0.8 | Load Time:    1.9 || F1:  66.85 | Prec:  70.93 | Rec:  63.21 || Ex/s: 765.81\n",
            "\n",
            "---------------------\n",
            "\n",
            "===>  TRAIN Epoch 12\n"
          ]
        },
        {
          "metadata": {
            "tags": null
          },
          "name": "stderr",
          "output_type": "stream",
          "text": [
            "0% [██████████████████████████████] 100% | ETA: 00:00:00\n",
            "Total time elapsed: 00:00:10\n"
          ]
        },
        {
          "metadata": {
            "tags": null
          },
          "name": "stdout",
          "output_type": "stream",
          "text": [
            "Finished Epoch 12 || Run Time:    3.9 | Load Time:    6.3 || F1:  98.62 | Prec:  98.11 | Rec:  99.13 || Ex/s: 598.35\n",
            "\n",
            "===>  EVAL Epoch 12\n"
          ]
        },
        {
          "metadata": {
            "tags": null
          },
          "name": "stderr",
          "output_type": "stream",
          "text": [
            "0% [█████████████] 100% | ETA: 00:00:00\n",
            "Total time elapsed: 00:00:02\n"
          ]
        },
        {
          "metadata": {
            "tags": null
          },
          "name": "stdout",
          "output_type": "stream",
          "text": [
            "Finished Epoch 12 || Run Time:    0.8 | Load Time:    1.9 || F1:  66.48 | Prec:  70.76 | Rec:  62.69 || Ex/s: 762.26\n",
            "\n",
            "---------------------\n",
            "\n",
            "===>  TRAIN Epoch 13\n"
          ]
        },
        {
          "metadata": {
            "tags": null
          },
          "name": "stderr",
          "output_type": "stream",
          "text": [
            "0% [██████████████████████████████] 100% | ETA: 00:00:00\n",
            "Total time elapsed: 00:00:09\n"
          ]
        },
        {
          "metadata": {
            "tags": null
          },
          "name": "stdout",
          "output_type": "stream",
          "text": [
            "Finished Epoch 13 || Run Time:    3.6 | Load Time:    5.9 || F1:  98.96 | Prec:  98.62 | Rec:  99.31 || Ex/s: 641.74\n",
            "\n",
            "===>  EVAL Epoch 13\n"
          ]
        },
        {
          "metadata": {
            "tags": null
          },
          "name": "stderr",
          "output_type": "stream",
          "text": [
            "0% [█████████████] 100% | ETA: 00:00:00\n",
            "Total time elapsed: 00:00:02\n"
          ]
        },
        {
          "metadata": {
            "tags": null
          },
          "name": "stdout",
          "output_type": "stream",
          "text": [
            "Finished Epoch 13 || Run Time:    0.8 | Load Time:    1.9 || F1:  65.75 | Prec:  70.41 | Rec:  61.66 || Ex/s: 766.12\n",
            "\n",
            "---------------------\n",
            "\n",
            "===>  TRAIN Epoch 14\n"
          ]
        },
        {
          "metadata": {
            "tags": null
          },
          "name": "stderr",
          "output_type": "stream",
          "text": [
            "0% [██████████████████████████████] 100% | ETA: 00:00:00\n",
            "Total time elapsed: 00:00:09\n"
          ]
        },
        {
          "metadata": {
            "tags": null
          },
          "name": "stdout",
          "output_type": "stream",
          "text": [
            "Finished Epoch 14 || Run Time:    3.7 | Load Time:    5.9 || F1:  99.05 | Prec:  98.62 | Rec:  99.48 || Ex/s: 639.97\n",
            "\n",
            "===>  EVAL Epoch 14\n"
          ]
        },
        {
          "metadata": {
            "tags": null
          },
          "name": "stderr",
          "output_type": "stream",
          "text": [
            "0% [█████████████] 100% | ETA: 00:00:00\n",
            "Total time elapsed: 00:00:02\n"
          ]
        },
        {
          "metadata": {
            "tags": null
          },
          "name": "stdout",
          "output_type": "stream",
          "text": [
            "Finished Epoch 14 || Run Time:    0.8 | Load Time:    1.9 || F1:  65.92 | Prec:  71.52 | Rec:  61.14 || Ex/s: 771.02\n",
            "\n",
            "---------------------\n",
            "\n",
            "===>  TRAIN Epoch 15\n"
          ]
        },
        {
          "metadata": {
            "tags": null
          },
          "name": "stderr",
          "output_type": "stream",
          "text": [
            "0% [██████████████████████████████] 100% | ETA: 00:00:00\n",
            "Total time elapsed: 00:00:09\n"
          ]
        },
        {
          "metadata": {
            "tags": null
          },
          "name": "stdout",
          "output_type": "stream",
          "text": [
            "Finished Epoch 15 || Run Time:    3.7 | Load Time:    5.9 || F1:  99.05 | Prec:  98.62 | Rec:  99.48 || Ex/s: 643.10\n",
            "\n",
            "===>  EVAL Epoch 15\n"
          ]
        },
        {
          "metadata": {
            "tags": null
          },
          "name": "stderr",
          "output_type": "stream",
          "text": [
            "0% [█████████████] 100% | ETA: 00:00:00\n",
            "Total time elapsed: 00:00:02\n"
          ]
        },
        {
          "metadata": {
            "tags": null
          },
          "name": "stdout",
          "output_type": "stream",
          "text": [
            "Finished Epoch 15 || Run Time:    0.8 | Load Time:    1.9 || F1:  66.10 | Prec:  72.67 | Rec:  60.62 || Ex/s: 764.91\n",
            "\n",
            "---------------------\n",
            "\n",
            "Loading best model...\n",
            "Training done.\n"
          ]
        },
        {
          "data": {
            "text/plain": [
              "tensor(67.2222, device='cuda:0')"
            ]
          },
          "execution_count": 13,
          "metadata": {},
          "output_type": "execute_result"
        }
      ],
      "source": [
        "model.run_train(\n",
        "    train,\n",
        "    validation,\n",
        "    epochs=15,\n",
        "    batch_size=32,\n",
        "    best_save_path='sif_model.pth',\n",
        "    pos_neg_ratio=3)"
      ]
    },
    {
      "cell_type": "code",
      "execution_count": null,
      "metadata": {
        "id": "XszzAwWb7jid",
        "colab": {
          "base_uri": "https://localhost:8080/"
        },
        "outputId": "05fb5074-4aae-4eb8-e704-76b2aad82cce"
      },
      "outputs": [
        {
          "metadata": {
            "tags": null
          },
          "name": "stdout",
          "output_type": "stream",
          "text": [
            "===>  EVAL Epoch 7\n"
          ]
        },
        {
          "metadata": {
            "tags": null
          },
          "name": "stderr",
          "output_type": "stream",
          "text": [
            "/usr/local/lib/python3.7/dist-packages/torch/nn/modules/module.py:974: UserWarning: Using a non-full backward hook when the forward contains multiple autograd Nodes is deprecated and will be removed in future versions. This hook will be missing some grad_input. Please use register_full_backward_hook to get the documented behavior.\n",
            "  warnings.warn(\"Using a non-full backward hook when the forward contains multiple autograd Nodes \"\n",
            "0% [█████████████] 100% | ETA: 00:00:00\n",
            "Total time elapsed: 00:00:02\n"
          ]
        },
        {
          "metadata": {
            "tags": null
          },
          "name": "stdout",
          "output_type": "stream",
          "text": [
            "Finished Epoch 7 || Run Time:    0.8 | Load Time:    1.9 || F1:  61.54 | Prec:  68.35 | Rec:  55.96 || Ex/s: 771.54\n",
            "\n"
          ]
        },
        {
          "data": {
            "text/plain": [
              "tensor(61.5385, device='cuda:0')"
            ]
          },
          "execution_count": 14,
          "metadata": {},
          "output_type": "execute_result"
        }
      ],
      "source": [
        "# Compute F1 on test set\n",
        "model.run_eval(test)"
      ]
    },
    {
      "cell_type": "markdown",
      "metadata": {
        "id": "al1yPMIK7jie"
      },
      "source": [
        "#### TEXTUAL"
      ]
    },
    {
      "cell_type": "markdown",
      "metadata": {
        "id": "Jga5zNts7jie"
      },
      "source": [
        "##### Abt-Buy"
      ]
    },
    {
      "cell_type": "code",
      "execution_count": null,
      "metadata": {
        "id": "cIdkzPVd7jie"
      },
      "outputs": [],
      "source": [
        "train, validation, test = dm.data.process(\n",
        "    path='/content/IC/datasesErros/AADatasets/Textual/Abt-Buy/',\n",
        "    train='joined_train.csv',\n",
        "    validation='joined_valid.csv',\n",
        "    test='joined_test.csv')"
      ]
    },
    {
      "cell_type": "code",
      "execution_count": null,
      "metadata": {
        "id": "U1FKBwwA7jif"
      },
      "outputs": [],
      "source": [
        "model = dm.MatchingModel(attr_summarizer='sif')"
      ]
    },
    {
      "cell_type": "code",
      "execution_count": null,
      "metadata": {
        "id": "QE47sqwa7jif",
        "colab": {
          "base_uri": "https://localhost:8080/"
        },
        "outputId": "d376e538-6b90-4669-c13c-e478c22c9390"
      },
      "outputs": [
        {
          "metadata": {
            "tags": null
          },
          "name": "stdout",
          "output_type": "stream",
          "text": [
            "* Number of trainable parameters: 542402\n",
            "===>  TRAIN Epoch 1\n"
          ]
        },
        {
          "output_type": "stream",
          "name": "stderr",
          "text": [
            "/usr/local/lib/python3.7/dist-packages/torch/nn/modules/module.py:974: UserWarning: Using a non-full backward hook when the forward contains multiple autograd Nodes is deprecated and will be removed in future versions. This hook will be missing some grad_input. Please use register_full_backward_hook to get the documented behavior.\n",
            "  warnings.warn(\"Using a non-full backward hook when the forward contains multiple autograd Nodes \"\n",
            "/usr/local/lib/python3.7/dist-packages/torch/nn/functional.py:2742: UserWarning: reduction: 'mean' divides the total loss by both the batch size and the support size.'batchmean' divides only by the batch size, and aligns with the KL div math definition.'mean' will be changed to behave the same as 'batchmean' in the next major release.\n",
            "  \"reduction: 'mean' divides the total loss by both the batch size and the support size.\"\n",
            "0% [██████████████████████████████] 100% | ETA: 00:00:00\n",
            "Total time elapsed: 00:00:12\n"
          ]
        },
        {
          "output_type": "stream",
          "name": "stdout",
          "text": [
            "Finished Epoch 1 || Run Time:    2.5 | Load Time:    9.6 || F1:   0.92 | Prec:   7.69 | Rec:   0.49 || Ex/s: 475.97\n",
            "\n",
            "===>  EVAL Epoch 1\n"
          ]
        },
        {
          "output_type": "stream",
          "name": "stderr",
          "text": [
            "0% [████████████] 100% | ETA: 00:00:00\n",
            "Total time elapsed: 00:00:03\n"
          ]
        },
        {
          "output_type": "stream",
          "name": "stdout",
          "text": [
            "Finished Epoch 1 || Run Time:    0.5 | Load Time:    2.8 || F1:   5.53 | Prec:  54.55 | Rec:   2.91 || Ex/s: 579.16\n",
            "\n",
            "* Best F1: tensor(5.5300, device='cuda:0')\n",
            "Saving best model...\n",
            "Done.\n",
            "---------------------\n",
            "\n",
            "===>  TRAIN Epoch 2\n"
          ]
        },
        {
          "output_type": "stream",
          "name": "stderr",
          "text": [
            "0% [██████████████████████████████] 100% | ETA: 00:00:00\n",
            "Total time elapsed: 00:00:11\n"
          ]
        },
        {
          "output_type": "stream",
          "name": "stdout",
          "text": [
            "Finished Epoch 2 || Run Time:    2.5 | Load Time:    9.4 || F1:  29.28 | Prec:  48.68 | Rec:  20.94 || Ex/s: 482.26\n",
            "\n",
            "===>  EVAL Epoch 2\n"
          ]
        },
        {
          "output_type": "stream",
          "name": "stderr",
          "text": [
            "0% [████████████] 100% | ETA: 00:00:00\n",
            "Total time elapsed: 00:00:03\n"
          ]
        },
        {
          "output_type": "stream",
          "name": "stdout",
          "text": [
            "Finished Epoch 2 || Run Time:    0.5 | Load Time:    2.8 || F1:  29.07 | Prec:  36.23 | Rec:  24.27 || Ex/s: 579.48\n",
            "\n",
            "* Best F1: tensor(29.0698, device='cuda:0')\n",
            "Saving best model...\n",
            "Done.\n",
            "---------------------\n",
            "\n",
            "===>  TRAIN Epoch 3\n"
          ]
        },
        {
          "output_type": "stream",
          "name": "stderr",
          "text": [
            "0% [██████████████████████████████] 100% | ETA: 00:00:00\n",
            "Total time elapsed: 00:00:11\n"
          ]
        },
        {
          "output_type": "stream",
          "name": "stdout",
          "text": [
            "Finished Epoch 3 || Run Time:    2.5 | Load Time:    9.4 || F1:  53.10 | Prec:  52.02 | Rec:  54.22 || Ex/s: 482.37\n",
            "\n",
            "===>  EVAL Epoch 3\n"
          ]
        },
        {
          "output_type": "stream",
          "name": "stderr",
          "text": [
            "0% [████████████] 100% | ETA: 00:00:00\n",
            "Total time elapsed: 00:00:03\n"
          ]
        },
        {
          "output_type": "stream",
          "name": "stdout",
          "text": [
            "Finished Epoch 3 || Run Time:    0.5 | Load Time:    3.0 || F1:  36.19 | Prec:  34.67 | Rec:  37.86 || Ex/s: 540.74\n",
            "\n",
            "* Best F1: tensor(36.1949, device='cuda:0')\n",
            "Saving best model...\n",
            "Done.\n",
            "---------------------\n",
            "\n",
            "===>  TRAIN Epoch 4\n"
          ]
        },
        {
          "output_type": "stream",
          "name": "stderr",
          "text": [
            "0% [██████████████████████████████] 100% | ETA: 00:00:00\n",
            "Total time elapsed: 00:00:11\n"
          ]
        },
        {
          "output_type": "stream",
          "name": "stdout",
          "text": [
            "Finished Epoch 4 || Run Time:    2.4 | Load Time:    9.5 || F1:  67.59 | Prec:  61.07 | Rec:  75.65 || Ex/s: 482.15\n",
            "\n",
            "===>  EVAL Epoch 4\n"
          ]
        },
        {
          "output_type": "stream",
          "name": "stderr",
          "text": [
            "0% [████████████] 100% | ETA: 00:00:00\n",
            "Total time elapsed: 00:00:03\n"
          ]
        },
        {
          "output_type": "stream",
          "name": "stdout",
          "text": [
            "Finished Epoch 4 || Run Time:    0.5 | Load Time:    2.8 || F1:  37.77 | Prec:  33.85 | Rec:  42.72 || Ex/s: 579.88\n",
            "\n",
            "* Best F1: tensor(37.7682, device='cuda:0')\n",
            "Saving best model...\n",
            "Done.\n",
            "---------------------\n",
            "\n",
            "===>  TRAIN Epoch 5\n"
          ]
        },
        {
          "output_type": "stream",
          "name": "stderr",
          "text": [
            "0% [██████████████████████████████] 100% | ETA: 00:00:00\n",
            "Total time elapsed: 00:00:11\n"
          ]
        },
        {
          "output_type": "stream",
          "name": "stdout",
          "text": [
            "Finished Epoch 5 || Run Time:    2.4 | Load Time:    9.5 || F1:  74.59 | Prec:  66.41 | Rec:  85.06 || Ex/s: 482.51\n",
            "\n",
            "===>  EVAL Epoch 5\n"
          ]
        },
        {
          "output_type": "stream",
          "name": "stderr",
          "text": [
            "0% [████████████] 100% | ETA: 00:00:00\n",
            "Total time elapsed: 00:00:03\n"
          ]
        },
        {
          "output_type": "stream",
          "name": "stdout",
          "text": [
            "Finished Epoch 5 || Run Time:    0.5 | Load Time:    2.8 || F1:  36.32 | Prec:  35.32 | Rec:  37.38 || Ex/s: 578.94\n",
            "\n",
            "---------------------\n",
            "\n",
            "===>  TRAIN Epoch 6\n"
          ]
        },
        {
          "output_type": "stream",
          "name": "stderr",
          "text": [
            "0% [██████████████████████████████] 100% | ETA: 00:00:00\n",
            "Total time elapsed: 00:00:11\n"
          ]
        },
        {
          "output_type": "stream",
          "name": "stdout",
          "text": [
            "Finished Epoch 6 || Run Time:    2.5 | Load Time:    9.5 || F1:  81.00 | Prec:  72.53 | Rec:  91.72 || Ex/s: 479.73\n",
            "\n",
            "===>  EVAL Epoch 6\n"
          ]
        },
        {
          "output_type": "stream",
          "name": "stderr",
          "text": [
            "0% [████████████] 100% | ETA: 00:00:00\n",
            "Total time elapsed: 00:00:03\n"
          ]
        },
        {
          "output_type": "stream",
          "name": "stdout",
          "text": [
            "Finished Epoch 6 || Run Time:    0.5 | Load Time:    2.8 || F1:  36.50 | Prec:  36.59 | Rec:  36.41 || Ex/s: 579.91\n",
            "\n",
            "---------------------\n",
            "\n",
            "===>  TRAIN Epoch 7\n"
          ]
        },
        {
          "output_type": "stream",
          "name": "stderr",
          "text": [
            "0% [██████████████████████████████] 100% | ETA: 00:00:00\n",
            "Total time elapsed: 00:00:11\n"
          ]
        },
        {
          "output_type": "stream",
          "name": "stdout",
          "text": [
            "Finished Epoch 7 || Run Time:    2.4 | Load Time:    9.4 || F1:  85.11 | Prec:  77.64 | Rec:  94.16 || Ex/s: 483.71\n",
            "\n",
            "===>  EVAL Epoch 7\n"
          ]
        },
        {
          "output_type": "stream",
          "name": "stderr",
          "text": [
            "0% [████████████] 100% | ETA: 00:00:00\n",
            "Total time elapsed: 00:00:03\n"
          ]
        },
        {
          "output_type": "stream",
          "name": "stdout",
          "text": [
            "Finished Epoch 7 || Run Time:    0.5 | Load Time:    2.8 || F1:  36.13 | Prec:  37.97 | Rec:  34.47 || Ex/s: 579.59\n",
            "\n",
            "---------------------\n",
            "\n",
            "===>  TRAIN Epoch 8\n"
          ]
        },
        {
          "output_type": "stream",
          "name": "stderr",
          "text": [
            "0% [██████████████████████████████] 100% | ETA: 00:00:00\n",
            "Total time elapsed: 00:00:11\n"
          ]
        },
        {
          "output_type": "stream",
          "name": "stdout",
          "text": [
            "Finished Epoch 8 || Run Time:    2.4 | Load Time:    9.5 || F1:  87.63 | Prec:  80.99 | Rec:  95.45 || Ex/s: 481.62\n",
            "\n",
            "===>  EVAL Epoch 8\n"
          ]
        },
        {
          "output_type": "stream",
          "name": "stderr",
          "text": [
            "0% [████████████] 100% | ETA: 00:00:00\n",
            "Total time elapsed: 00:00:03\n"
          ]
        },
        {
          "output_type": "stream",
          "name": "stdout",
          "text": [
            "Finished Epoch 8 || Run Time:    0.5 | Load Time:    2.8 || F1:  35.57 | Prec:  37.91 | Rec:  33.50 || Ex/s: 582.30\n",
            "\n",
            "---------------------\n",
            "\n",
            "===>  TRAIN Epoch 9\n"
          ]
        },
        {
          "output_type": "stream",
          "name": "stderr",
          "text": [
            "0% [██████████████████████████████] 100% | ETA: 00:00:00\n",
            "Total time elapsed: 00:00:11\n"
          ]
        },
        {
          "output_type": "stream",
          "name": "stdout",
          "text": [
            "Finished Epoch 9 || Run Time:    2.4 | Load Time:    9.5 || F1:  90.16 | Prec:  83.92 | Rec:  97.40 || Ex/s: 482.03\n",
            "\n",
            "===>  EVAL Epoch 9\n"
          ]
        },
        {
          "output_type": "stream",
          "name": "stderr",
          "text": [
            "0% [████████████] 100% | ETA: 00:00:00\n",
            "Total time elapsed: 00:00:03\n"
          ]
        },
        {
          "output_type": "stream",
          "name": "stdout",
          "text": [
            "Finished Epoch 9 || Run Time:    0.5 | Load Time:    2.9 || F1:  32.15 | Prec:  36.65 | Rec:  28.64 || Ex/s: 558.13\n",
            "\n",
            "---------------------\n",
            "\n",
            "===>  TRAIN Epoch 10\n"
          ]
        },
        {
          "output_type": "stream",
          "name": "stderr",
          "text": [
            "0% [██████████████████████████████] 100% | ETA: 00:00:00\n",
            "Total time elapsed: 00:00:12\n"
          ]
        },
        {
          "output_type": "stream",
          "name": "stdout",
          "text": [
            "Finished Epoch 10 || Run Time:    2.5 | Load Time:    9.7 || F1:  91.60 | Prec:  85.82 | Rec:  98.21 || Ex/s: 470.13\n",
            "\n",
            "===>  EVAL Epoch 10\n"
          ]
        },
        {
          "output_type": "stream",
          "name": "stderr",
          "text": [
            "0% [████████████] 100% | ETA: 00:00:00\n",
            "Total time elapsed: 00:00:03\n"
          ]
        },
        {
          "output_type": "stream",
          "name": "stdout",
          "text": [
            "Finished Epoch 10 || Run Time:    0.5 | Load Time:    2.8 || F1:  31.87 | Prec:  36.71 | Rec:  28.16 || Ex/s: 580.30\n",
            "\n",
            "---------------------\n",
            "\n",
            "===>  TRAIN Epoch 11\n"
          ]
        },
        {
          "output_type": "stream",
          "name": "stderr",
          "text": [
            "0% [██████████████████████████████] 100% | ETA: 00:00:00\n",
            "Total time elapsed: 00:00:11\n"
          ]
        },
        {
          "output_type": "stream",
          "name": "stdout",
          "text": [
            "Finished Epoch 11 || Run Time:    2.4 | Load Time:    9.5 || F1:  92.73 | Prec:  87.70 | Rec:  98.38 || Ex/s: 481.99\n",
            "\n",
            "===>  EVAL Epoch 11\n"
          ]
        },
        {
          "output_type": "stream",
          "name": "stderr",
          "text": [
            "0% [████████████] 100% | ETA: 00:00:00\n",
            "Total time elapsed: 00:00:03\n"
          ]
        },
        {
          "output_type": "stream",
          "name": "stdout",
          "text": [
            "Finished Epoch 11 || Run Time:    0.5 | Load Time:    2.8 || F1:  32.70 | Prec:  37.27 | Rec:  29.13 || Ex/s: 575.63\n",
            "\n",
            "---------------------\n",
            "\n",
            "===>  TRAIN Epoch 12\n"
          ]
        },
        {
          "output_type": "stream",
          "name": "stderr",
          "text": [
            "0% [██████████████████████████████] 100% | ETA: 00:00:00\n",
            "Total time elapsed: 00:00:11\n"
          ]
        },
        {
          "output_type": "stream",
          "name": "stdout",
          "text": [
            "Finished Epoch 12 || Run Time:    2.4 | Load Time:    9.5 || F1:  93.59 | Prec:  89.25 | Rec:  98.38 || Ex/s: 481.50\n",
            "\n",
            "===>  EVAL Epoch 12\n"
          ]
        },
        {
          "output_type": "stream",
          "name": "stderr",
          "text": [
            "0% [████████████] 100% | ETA: 00:00:00\n",
            "Total time elapsed: 00:00:03\n"
          ]
        },
        {
          "output_type": "stream",
          "name": "stdout",
          "text": [
            "Finished Epoch 12 || Run Time:    0.5 | Load Time:    2.8 || F1:  32.52 | Prec:  36.81 | Rec:  29.13 || Ex/s: 579.09\n",
            "\n",
            "---------------------\n",
            "\n",
            "===>  TRAIN Epoch 13\n"
          ]
        },
        {
          "output_type": "stream",
          "name": "stderr",
          "text": [
            "0% [██████████████████████████████] 100% | ETA: 00:00:00\n",
            "Total time elapsed: 00:00:11\n"
          ]
        },
        {
          "output_type": "stream",
          "name": "stdout",
          "text": [
            "Finished Epoch 13 || Run Time:    2.4 | Load Time:    9.4 || F1:  94.34 | Prec:  90.34 | Rec:  98.70 || Ex/s: 484.31\n",
            "\n",
            "===>  EVAL Epoch 13\n"
          ]
        },
        {
          "output_type": "stream",
          "name": "stderr",
          "text": [
            "0% [████████████] 100% | ETA: 00:00:00\n",
            "Total time elapsed: 00:00:03\n"
          ]
        },
        {
          "output_type": "stream",
          "name": "stdout",
          "text": [
            "Finished Epoch 13 || Run Time:    0.5 | Load Time:    2.8 || F1:  32.09 | Prec:  35.71 | Rec:  29.13 || Ex/s: 579.89\n",
            "\n",
            "---------------------\n",
            "\n",
            "===>  TRAIN Epoch 14\n"
          ]
        },
        {
          "output_type": "stream",
          "name": "stderr",
          "text": [
            "0% [██████████████████████████████] 100% | ETA: 00:00:00\n",
            "Total time elapsed: 00:00:11\n"
          ]
        },
        {
          "output_type": "stream",
          "name": "stdout",
          "text": [
            "Finished Epoch 14 || Run Time:    2.4 | Load Time:    9.4 || F1:  95.01 | Prec:  91.44 | Rec:  98.86 || Ex/s: 483.14\n",
            "\n",
            "===>  EVAL Epoch 14\n"
          ]
        },
        {
          "output_type": "stream",
          "name": "stderr",
          "text": [
            "0% [████████████] 100% | ETA: 00:00:00\n",
            "Total time elapsed: 00:00:03\n"
          ]
        },
        {
          "output_type": "stream",
          "name": "stdout",
          "text": [
            "Finished Epoch 14 || Run Time:    0.5 | Load Time:    2.8 || F1:  32.09 | Prec:  35.71 | Rec:  29.13 || Ex/s: 581.06\n",
            "\n",
            "---------------------\n",
            "\n",
            "===>  TRAIN Epoch 15\n"
          ]
        },
        {
          "output_type": "stream",
          "name": "stderr",
          "text": [
            "0% [██████████████████████████████] 100% | ETA: 00:00:00\n",
            "Total time elapsed: 00:00:11\n"
          ]
        },
        {
          "output_type": "stream",
          "name": "stdout",
          "text": [
            "Finished Epoch 15 || Run Time:    2.4 | Load Time:    9.4 || F1:  95.38 | Prec:  92.13 | Rec:  98.86 || Ex/s: 484.45\n",
            "\n",
            "===>  EVAL Epoch 15\n"
          ]
        },
        {
          "output_type": "stream",
          "name": "stderr",
          "text": [
            "0% [████████████] 100% | ETA: 00:00:00\n",
            "Total time elapsed: 00:00:03\n"
          ]
        },
        {
          "output_type": "stream",
          "name": "stdout",
          "text": [
            "Finished Epoch 15 || Run Time:    0.5 | Load Time:    3.1 || F1:  31.91 | Prec:  35.29 | Rec:  29.13 || Ex/s: 534.51\n",
            "\n",
            "---------------------\n",
            "\n",
            "Loading best model...\n",
            "Training done.\n"
          ]
        },
        {
          "output_type": "execute_result",
          "data": {
            "text/plain": [
              "tensor(37.7682, device='cuda:0')"
            ]
          },
          "metadata": {},
          "execution_count": 17
        }
      ],
      "source": [
        "model.run_train(\n",
        "    train,\n",
        "    validation,\n",
        "    epochs=15,\n",
        "    batch_size=32,\n",
        "    best_save_path='sif_model.pth',\n",
        "    pos_neg_ratio=3)"
      ]
    },
    {
      "cell_type": "code",
      "execution_count": null,
      "metadata": {
        "id": "xTW5WLmx7jif",
        "colab": {
          "base_uri": "https://localhost:8080/"
        },
        "outputId": "1dcedc0a-699d-40e0-9be8-71ad01fb8cd6"
      },
      "outputs": [
        {
          "output_type": "stream",
          "name": "stdout",
          "text": [
            "===>  EVAL Epoch 4\n"
          ]
        },
        {
          "output_type": "stream",
          "name": "stderr",
          "text": [
            "/usr/local/lib/python3.7/dist-packages/torch/nn/modules/module.py:974: UserWarning: Using a non-full backward hook when the forward contains multiple autograd Nodes is deprecated and will be removed in future versions. This hook will be missing some grad_input. Please use register_full_backward_hook to get the documented behavior.\n",
            "  warnings.warn(\"Using a non-full backward hook when the forward contains multiple autograd Nodes \"\n",
            "0% [████████████] 100% | ETA: 00:00:00\n",
            "Total time elapsed: 00:00:03\n"
          ]
        },
        {
          "output_type": "stream",
          "name": "stdout",
          "text": [
            "Finished Epoch 4 || Run Time:    0.5 | Load Time:    2.9 || F1:  35.90 | Prec:  32.06 | Rec:  40.78 || Ex/s: 569.46\n",
            "\n"
          ]
        },
        {
          "output_type": "execute_result",
          "data": {
            "text/plain": [
              "tensor(35.8974, device='cuda:0')"
            ]
          },
          "metadata": {},
          "execution_count": 18
        }
      ],
      "source": [
        "# Compute F1 on test set\n",
        "model.run_eval(test)"
      ]
    },
    {
      "cell_type": "markdown",
      "metadata": {
        "id": "Vl6ljcMO7jig"
      },
      "source": [
        "#### DIRTY"
      ]
    },
    {
      "cell_type": "markdown",
      "metadata": {
        "id": "ynZvtlXR7jig"
      },
      "source": [
        "##### DBLP-ACM"
      ]
    },
    {
      "cell_type": "code",
      "execution_count": null,
      "metadata": {
        "id": "CzTzNHhP7jih"
      },
      "outputs": [],
      "source": [
        "train, validation, test = dm.data.process(\n",
        "    path='/content/IC/datasesErros/AADatasets/Dirty/DBLP-ACM/',\n",
        "    train='joined_train.csv',\n",
        "    validation='joined_valid.csv',\n",
        "    test='joined_test.csv')"
      ]
    },
    {
      "cell_type": "code",
      "execution_count": null,
      "metadata": {
        "id": "aKEu0b3E7jih"
      },
      "outputs": [],
      "source": [
        "model = dm.MatchingModel(attr_summarizer='sif')"
      ]
    },
    {
      "cell_type": "code",
      "execution_count": null,
      "metadata": {
        "id": "cKF_XeV57jii",
        "colab": {
          "base_uri": "https://localhost:8080/"
        },
        "outputId": "04cbd977-95b6-4d18-95aa-87c0a9d6040f"
      },
      "outputs": [
        {
          "output_type": "stream",
          "name": "stdout",
          "text": [
            "* Number of trainable parameters: 542402\n",
            "===>  TRAIN Epoch 1\n"
          ]
        },
        {
          "output_type": "stream",
          "name": "stderr",
          "text": [
            "/usr/local/lib/python3.7/dist-packages/torch/nn/modules/module.py:974: UserWarning: Using a non-full backward hook when the forward contains multiple autograd Nodes is deprecated and will be removed in future versions. This hook will be missing some grad_input. Please use register_full_backward_hook to get the documented behavior.\n",
            "  warnings.warn(\"Using a non-full backward hook when the forward contains multiple autograd Nodes \"\n",
            "/usr/local/lib/python3.7/dist-packages/torch/nn/functional.py:2742: UserWarning: reduction: 'mean' divides the total loss by both the batch size and the support size.'batchmean' divides only by the batch size, and aligns with the KL div math definition.'mean' will be changed to behave the same as 'batchmean' in the next major release.\n",
            "  \"reduction: 'mean' divides the total loss by both the batch size and the support size.\"\n",
            "0% [██████████████████████████████] 100% | ETA: 00:00:00\n",
            "Total time elapsed: 00:00:20\n"
          ]
        },
        {
          "output_type": "stream",
          "name": "stdout",
          "text": [
            "Finished Epoch 1 || Run Time:    4.8 | Load Time:   15.5 || F1:  58.49 | Prec:  63.21 | Rec:  54.43 || Ex/s: 366.31\n",
            "\n",
            "===>  EVAL Epoch 1\n"
          ]
        },
        {
          "output_type": "stream",
          "name": "stderr",
          "text": [
            "0% [███████████████] 100% | ETA: 00:00:00\n",
            "Total time elapsed: 00:00:04\n"
          ]
        },
        {
          "output_type": "stream",
          "name": "stdout",
          "text": [
            "Finished Epoch 1 || Run Time:    0.8 | Load Time:    4.1 || F1:  68.56 | Prec:  56.60 | Rec:  86.94 || Ex/s: 506.06\n",
            "\n",
            "* Best F1: tensor(68.5613, device='cuda:0')\n",
            "Saving best model...\n",
            "Done.\n",
            "---------------------\n",
            "\n",
            "===>  TRAIN Epoch 2\n"
          ]
        },
        {
          "output_type": "stream",
          "name": "stderr",
          "text": [
            "0% [██████████████████████████████] 100% | ETA: 00:00:00\n",
            "Total time elapsed: 00:00:16\n"
          ]
        },
        {
          "output_type": "stream",
          "name": "stdout",
          "text": [
            "Finished Epoch 2 || Run Time:    3.8 | Load Time:   12.9 || F1:  80.57 | Prec:  72.34 | Rec:  90.92 || Ex/s: 443.33\n",
            "\n",
            "===>  EVAL Epoch 2\n"
          ]
        },
        {
          "output_type": "stream",
          "name": "stderr",
          "text": [
            "0% [███████████████] 100% | ETA: 00:00:00\n",
            "Total time elapsed: 00:00:05\n"
          ]
        },
        {
          "output_type": "stream",
          "name": "stdout",
          "text": [
            "Finished Epoch 2 || Run Time:    0.9 | Load Time:    4.4 || F1:  75.40 | Prec:  64.48 | Rec:  90.77 || Ex/s: 467.67\n",
            "\n",
            "* Best F1: tensor(75.3976, device='cuda:0')\n",
            "Saving best model...\n",
            "Done.\n",
            "---------------------\n",
            "\n",
            "===>  TRAIN Epoch 3\n"
          ]
        },
        {
          "output_type": "stream",
          "name": "stderr",
          "text": [
            "0% [██████████████████████████████] 100% | ETA: 00:00:00\n",
            "Total time elapsed: 00:00:16\n"
          ]
        },
        {
          "output_type": "stream",
          "name": "stdout",
          "text": [
            "Finished Epoch 3 || Run Time:    3.9 | Load Time:   13.0 || F1:  89.48 | Prec:  83.95 | Rec:  95.80 || Ex/s: 439.64\n",
            "\n",
            "===>  EVAL Epoch 3\n"
          ]
        },
        {
          "output_type": "stream",
          "name": "stderr",
          "text": [
            "0% [███████████████] 100% | ETA: 00:00:00\n",
            "Total time elapsed: 00:00:04\n"
          ]
        },
        {
          "output_type": "stream",
          "name": "stdout",
          "text": [
            "Finished Epoch 3 || Run Time:    0.8 | Load Time:    4.0 || F1:  76.89 | Prec:  67.58 | Rec:  89.19 || Ex/s: 509.40\n",
            "\n",
            "* Best F1: tensor(76.8932, device='cuda:0')\n",
            "Saving best model...\n",
            "Done.\n",
            "---------------------\n",
            "\n",
            "===>  TRAIN Epoch 4\n"
          ]
        },
        {
          "output_type": "stream",
          "name": "stderr",
          "text": [
            "0% [██████████████████████████████] 100% | ETA: 00:00:00\n",
            "Total time elapsed: 00:00:16\n"
          ]
        },
        {
          "output_type": "stream",
          "name": "stdout",
          "text": [
            "Finished Epoch 4 || Run Time:    3.8 | Load Time:   13.0 || F1:  93.41 | Prec:  89.32 | Rec:  97.90 || Ex/s: 441.08\n",
            "\n",
            "===>  EVAL Epoch 4\n"
          ]
        },
        {
          "output_type": "stream",
          "name": "stderr",
          "text": [
            "0% [███████████████] 100% | ETA: 00:00:00\n",
            "Total time elapsed: 00:00:04\n"
          ]
        },
        {
          "output_type": "stream",
          "name": "stdout",
          "text": [
            "Finished Epoch 4 || Run Time:    0.8 | Load Time:    4.0 || F1:  81.79 | Prec:  81.15 | Rec:  82.43 || Ex/s: 513.48\n",
            "\n",
            "* Best F1: tensor(81.7877, device='cuda:0')\n",
            "Saving best model...\n",
            "Done.\n",
            "---------------------\n",
            "\n",
            "===>  TRAIN Epoch 5\n"
          ]
        },
        {
          "output_type": "stream",
          "name": "stderr",
          "text": [
            "0% [██████████████████████████████] 100% | ETA: 00:00:00\n",
            "Total time elapsed: 00:00:16\n"
          ]
        },
        {
          "output_type": "stream",
          "name": "stdout",
          "text": [
            "Finished Epoch 5 || Run Time:    3.9 | Load Time:   13.0 || F1:  95.35 | Prec:  92.33 | Rec:  98.57 || Ex/s: 439.70\n",
            "\n",
            "===>  EVAL Epoch 5\n"
          ]
        },
        {
          "output_type": "stream",
          "name": "stderr",
          "text": [
            "0% [███████████████] 100% | ETA: 00:00:00\n",
            "Total time elapsed: 00:00:04\n"
          ]
        },
        {
          "output_type": "stream",
          "name": "stdout",
          "text": [
            "Finished Epoch 5 || Run Time:    0.8 | Load Time:    4.2 || F1:  83.44 | Prec:  79.84 | Rec:  87.39 || Ex/s: 496.19\n",
            "\n",
            "* Best F1: tensor(83.4409, device='cuda:0')\n",
            "Saving best model...\n",
            "Done.\n",
            "---------------------\n",
            "\n",
            "===>  TRAIN Epoch 6\n"
          ]
        },
        {
          "output_type": "stream",
          "name": "stderr",
          "text": [
            "0% [██████████████████████████████] 100% | ETA: 00:00:00\n",
            "Total time elapsed: 00:00:16\n"
          ]
        },
        {
          "output_type": "stream",
          "name": "stdout",
          "text": [
            "Finished Epoch 6 || Run Time:    3.8 | Load Time:   12.9 || F1:  96.35 | Prec:  93.81 | Rec:  99.02 || Ex/s: 444.09\n",
            "\n",
            "===>  EVAL Epoch 6\n"
          ]
        },
        {
          "output_type": "stream",
          "name": "stderr",
          "text": [
            "0% [███████████████] 100% | ETA: 00:00:00\n",
            "Total time elapsed: 00:00:05\n"
          ]
        },
        {
          "output_type": "stream",
          "name": "stdout",
          "text": [
            "Finished Epoch 6 || Run Time:    0.9 | Load Time:    4.5 || F1:  83.09 | Prec:  81.56 | Rec:  84.68 || Ex/s: 459.85\n",
            "\n",
            "---------------------\n",
            "\n",
            "===>  TRAIN Epoch 7\n"
          ]
        },
        {
          "output_type": "stream",
          "name": "stderr",
          "text": [
            "0% [██████████████████████████████] 100% | ETA: 00:00:00\n",
            "Total time elapsed: 00:00:16\n"
          ]
        },
        {
          "output_type": "stream",
          "name": "stdout",
          "text": [
            "Finished Epoch 7 || Run Time:    3.8 | Load Time:   12.9 || F1:  97.17 | Prec:  95.11 | Rec:  99.32 || Ex/s: 443.94\n",
            "\n",
            "===>  EVAL Epoch 7\n"
          ]
        },
        {
          "output_type": "stream",
          "name": "stderr",
          "text": [
            "0% [███████████████] 100% | ETA: 00:00:00\n",
            "Total time elapsed: 00:00:04\n"
          ]
        },
        {
          "output_type": "stream",
          "name": "stdout",
          "text": [
            "Finished Epoch 7 || Run Time:    0.8 | Load Time:    4.2 || F1:  83.88 | Prec:  81.22 | Rec:  86.71 || Ex/s: 494.28\n",
            "\n",
            "* Best F1: tensor(83.8780, device='cuda:0')\n",
            "Saving best model...\n",
            "Done.\n",
            "---------------------\n",
            "\n",
            "===>  TRAIN Epoch 8\n"
          ]
        },
        {
          "output_type": "stream",
          "name": "stderr",
          "text": [
            "0% [██████████████████████████████] 100% | ETA: 00:00:00\n",
            "Total time elapsed: 00:00:16\n"
          ]
        },
        {
          "output_type": "stream",
          "name": "stdout",
          "text": [
            "Finished Epoch 8 || Run Time:    3.8 | Load Time:   13.0 || F1:  97.64 | Prec:  95.88 | Rec:  99.47 || Ex/s: 442.38\n",
            "\n",
            "===>  EVAL Epoch 8\n"
          ]
        },
        {
          "output_type": "stream",
          "name": "stderr",
          "text": [
            "0% [███████████████] 100% | ETA: 00:00:00\n",
            "Total time elapsed: 00:00:04\n"
          ]
        },
        {
          "output_type": "stream",
          "name": "stdout",
          "text": [
            "Finished Epoch 8 || Run Time:    0.8 | Load Time:    4.1 || F1:  82.89 | Prec:  80.77 | Rec:  85.14 || Ex/s: 507.86\n",
            "\n",
            "---------------------\n",
            "\n",
            "===>  TRAIN Epoch 9\n"
          ]
        },
        {
          "output_type": "stream",
          "name": "stderr",
          "text": [
            "0% [██████████████████████████████] 100% | ETA: 00:00:00\n",
            "Total time elapsed: 00:00:16\n"
          ]
        },
        {
          "output_type": "stream",
          "name": "stdout",
          "text": [
            "Finished Epoch 9 || Run Time:    3.8 | Load Time:   13.0 || F1:  97.79 | Prec:  96.15 | Rec:  99.47 || Ex/s: 442.92\n",
            "\n",
            "===>  EVAL Epoch 9\n"
          ]
        },
        {
          "output_type": "stream",
          "name": "stderr",
          "text": [
            "0% [███████████████] 100% | ETA: 00:00:00\n",
            "Total time elapsed: 00:00:04\n"
          ]
        },
        {
          "output_type": "stream",
          "name": "stdout",
          "text": [
            "Finished Epoch 9 || Run Time:    0.8 | Load Time:    4.1 || F1:  82.74 | Prec:  79.87 | Rec:  85.81 || Ex/s: 509.55\n",
            "\n",
            "---------------------\n",
            "\n",
            "===>  TRAIN Epoch 10\n"
          ]
        },
        {
          "output_type": "stream",
          "name": "stderr",
          "text": [
            "0% [██████████████████████████████] 100% | ETA: 00:00:00\n",
            "Total time elapsed: 00:00:16\n"
          ]
        },
        {
          "output_type": "stream",
          "name": "stdout",
          "text": [
            "Finished Epoch 10 || Run Time:    3.8 | Load Time:   12.9 || F1:  97.89 | Prec:  96.36 | Rec:  99.47 || Ex/s: 442.48\n",
            "\n",
            "===>  EVAL Epoch 10\n"
          ]
        },
        {
          "output_type": "stream",
          "name": "stderr",
          "text": [
            "0% [███████████████] 100% | ETA: 00:00:00\n",
            "Total time elapsed: 00:00:04\n"
          ]
        },
        {
          "output_type": "stream",
          "name": "stdout",
          "text": [
            "Finished Epoch 10 || Run Time:    0.8 | Load Time:    4.0 || F1:  83.10 | Prec:  80.55 | Rec:  85.81 || Ex/s: 511.86\n",
            "\n",
            "---------------------\n",
            "\n",
            "===>  TRAIN Epoch 11\n"
          ]
        },
        {
          "output_type": "stream",
          "name": "stderr",
          "text": [
            "0% [██████████████████████████████] 100% | ETA: 00:00:00\n",
            "Total time elapsed: 00:00:17\n"
          ]
        },
        {
          "output_type": "stream",
          "name": "stdout",
          "text": [
            "Finished Epoch 11 || Run Time:    3.9 | Load Time:   13.3 || F1:  97.97 | Prec:  96.50 | Rec:  99.47 || Ex/s: 429.61\n",
            "\n",
            "===>  EVAL Epoch 11\n"
          ]
        },
        {
          "output_type": "stream",
          "name": "stderr",
          "text": [
            "0% [███████████████] 100% | ETA: 00:00:00\n",
            "Total time elapsed: 00:00:04\n"
          ]
        },
        {
          "output_type": "stream",
          "name": "stdout",
          "text": [
            "Finished Epoch 11 || Run Time:    0.8 | Load Time:    4.0 || F1:  82.93 | Prec:  80.64 | Rec:  85.36 || Ex/s: 510.40\n",
            "\n",
            "---------------------\n",
            "\n",
            "===>  TRAIN Epoch 12\n"
          ]
        },
        {
          "output_type": "stream",
          "name": "stderr",
          "text": [
            "0% [██████████████████████████████] 100% | ETA: 00:00:00\n",
            "Total time elapsed: 00:00:16\n"
          ]
        },
        {
          "output_type": "stream",
          "name": "stdout",
          "text": [
            "Finished Epoch 12 || Run Time:    3.8 | Load Time:   12.9 || F1:  98.08 | Prec:  96.72 | Rec:  99.47 || Ex/s: 443.77\n",
            "\n",
            "===>  EVAL Epoch 12\n"
          ]
        },
        {
          "output_type": "stream",
          "name": "stderr",
          "text": [
            "0% [███████████████] 100% | ETA: 00:00:00\n",
            "Total time elapsed: 00:00:04\n"
          ]
        },
        {
          "output_type": "stream",
          "name": "stdout",
          "text": [
            "Finished Epoch 12 || Run Time:    0.8 | Load Time:    4.1 || F1:  82.80 | Prec:  80.60 | Rec:  85.14 || Ex/s: 505.13\n",
            "\n",
            "---------------------\n",
            "\n",
            "===>  TRAIN Epoch 13\n"
          ]
        },
        {
          "output_type": "stream",
          "name": "stderr",
          "text": [
            "0% [██████████████████████████████] 100% | ETA: 00:00:00\n",
            "Total time elapsed: 00:00:16\n"
          ]
        },
        {
          "output_type": "stream",
          "name": "stdout",
          "text": [
            "Finished Epoch 13 || Run Time:    3.8 | Load Time:   12.9 || F1:  98.11 | Prec:  96.79 | Rec:  99.47 || Ex/s: 444.39\n",
            "\n",
            "===>  EVAL Epoch 13\n"
          ]
        },
        {
          "output_type": "stream",
          "name": "stderr",
          "text": [
            "0% [███████████████] 100% | ETA: 00:00:00\n",
            "Total time elapsed: 00:00:04\n"
          ]
        },
        {
          "output_type": "stream",
          "name": "stdout",
          "text": [
            "Finished Epoch 13 || Run Time:    0.8 | Load Time:    4.1 || F1:  82.91 | Prec:  81.21 | Rec:  84.68 || Ex/s: 507.61\n",
            "\n",
            "---------------------\n",
            "\n",
            "===>  TRAIN Epoch 14\n"
          ]
        },
        {
          "output_type": "stream",
          "name": "stderr",
          "text": [
            "0% [██████████████████████████████] 100% | ETA: 00:00:00\n",
            "Total time elapsed: 00:00:16\n"
          ]
        },
        {
          "output_type": "stream",
          "name": "stdout",
          "text": [
            "Finished Epoch 14 || Run Time:    3.8 | Load Time:   12.9 || F1:  98.11 | Prec:  96.79 | Rec:  99.47 || Ex/s: 444.64\n",
            "\n",
            "===>  EVAL Epoch 14\n"
          ]
        },
        {
          "output_type": "stream",
          "name": "stderr",
          "text": [
            "0% [███████████████] 100% | ETA: 00:00:00\n",
            "Total time elapsed: 00:00:04\n"
          ]
        },
        {
          "output_type": "stream",
          "name": "stdout",
          "text": [
            "Finished Epoch 14 || Run Time:    0.8 | Load Time:    4.0 || F1:  83.15 | Prec:  81.88 | Rec:  84.46 || Ex/s: 509.21\n",
            "\n",
            "---------------------\n",
            "\n",
            "===>  TRAIN Epoch 15\n"
          ]
        },
        {
          "output_type": "stream",
          "name": "stderr",
          "text": [
            "0% [██████████████████████████████] 100% | ETA: 00:00:00\n",
            "Total time elapsed: 00:00:17\n"
          ]
        },
        {
          "output_type": "stream",
          "name": "stdout",
          "text": [
            "Finished Epoch 15 || Run Time:    3.9 | Load Time:   13.3 || F1:  98.15 | Prec:  96.86 | Rec:  99.47 || Ex/s: 429.47\n",
            "\n",
            "===>  EVAL Epoch 15\n"
          ]
        },
        {
          "output_type": "stream",
          "name": "stderr",
          "text": [
            "0% [███████████████] 100% | ETA: 00:00:00\n",
            "Total time elapsed: 00:00:04\n"
          ]
        },
        {
          "output_type": "stream",
          "name": "stdout",
          "text": [
            "Finished Epoch 15 || Run Time:    0.8 | Load Time:    4.1 || F1:  82.98 | Prec:  81.98 | Rec:  84.01 || Ex/s: 509.31\n",
            "\n",
            "---------------------\n",
            "\n",
            "Loading best model...\n",
            "Training done.\n"
          ]
        },
        {
          "output_type": "execute_result",
          "data": {
            "text/plain": [
              "tensor(83.8780, device='cuda:0')"
            ]
          },
          "metadata": {},
          "execution_count": 31
        }
      ],
      "source": [
        "model.run_train(\n",
        "    train,\n",
        "    validation,\n",
        "    epochs=15,\n",
        "    batch_size=32,\n",
        "    best_save_path='sif_model.pth',\n",
        "    pos_neg_ratio=3)"
      ]
    },
    {
      "cell_type": "code",
      "execution_count": null,
      "metadata": {
        "id": "2mVSbOzT7jii",
        "colab": {
          "base_uri": "https://localhost:8080/"
        },
        "outputId": "e4d642be-e892-43b0-a39d-0a7af701beef"
      },
      "outputs": [
        {
          "output_type": "stream",
          "name": "stdout",
          "text": [
            "===>  EVAL Epoch 7\n"
          ]
        },
        {
          "output_type": "stream",
          "name": "stderr",
          "text": [
            "/usr/local/lib/python3.7/dist-packages/torch/nn/modules/module.py:974: UserWarning: Using a non-full backward hook when the forward contains multiple autograd Nodes is deprecated and will be removed in future versions. This hook will be missing some grad_input. Please use register_full_backward_hook to get the documented behavior.\n",
            "  warnings.warn(\"Using a non-full backward hook when the forward contains multiple autograd Nodes \"\n",
            "0% [███████████████] 100% | ETA: 00:00:00\n",
            "Total time elapsed: 00:00:04\n"
          ]
        },
        {
          "output_type": "stream",
          "name": "stdout",
          "text": [
            "Finished Epoch 7 || Run Time:    0.8 | Load Time:    4.0 || F1:  82.73 | Prec:  80.86 | Rec:  84.68 || Ex/s: 516.27\n",
            "\n"
          ]
        },
        {
          "output_type": "execute_result",
          "data": {
            "text/plain": [
              "tensor(82.7283, device='cuda:0')"
            ]
          },
          "metadata": {},
          "execution_count": 32
        }
      ],
      "source": [
        "# Compute F1 on test set\n",
        "model.run_eval(test)"
      ]
    },
    {
      "cell_type": "markdown",
      "metadata": {
        "id": "jTrOKZCa7jii"
      },
      "source": [
        "##### DBLP-GoogleScholar"
      ]
    },
    {
      "cell_type": "code",
      "execution_count": null,
      "metadata": {
        "id": "qcEXbtw47jij"
      },
      "outputs": [],
      "source": [
        "train, validation, test = dm.data.process(\n",
        "    path='/content/IC/datasesErros/AADatasets/Dirty/DBLP-GoogleScholar//',\n",
        "    train='joined_train.csv',\n",
        "    validation='joined_valid.csv',\n",
        "    test='joined_test.csv')"
      ]
    },
    {
      "cell_type": "code",
      "execution_count": null,
      "metadata": {
        "id": "AmtPT8Pk7jij"
      },
      "outputs": [],
      "source": [
        "model = dm.MatchingModel(attr_summarizer='sif')"
      ]
    },
    {
      "cell_type": "code",
      "execution_count": null,
      "metadata": {
        "id": "DEjkADxf7jij",
        "colab": {
          "base_uri": "https://localhost:8080/"
        },
        "outputId": "4d26457f-bb68-4a0a-c5a2-27978497e594"
      },
      "outputs": [
        {
          "output_type": "stream",
          "name": "stderr",
          "text": [
            "/usr/local/lib/python3.7/dist-packages/torch/nn/modules/module.py:974: UserWarning: Using a non-full backward hook when the forward contains multiple autograd Nodes is deprecated and will be removed in future versions. This hook will be missing some grad_input. Please use register_full_backward_hook to get the documented behavior.\n",
            "  warnings.warn(\"Using a non-full backward hook when the forward contains multiple autograd Nodes \"\n"
          ]
        },
        {
          "output_type": "stream",
          "name": "stdout",
          "text": [
            "* Number of trainable parameters: 542402\n",
            "===>  TRAIN Epoch 1\n"
          ]
        },
        {
          "output_type": "stream",
          "name": "stderr",
          "text": [
            "/usr/local/lib/python3.7/dist-packages/torch/nn/functional.py:2742: UserWarning: reduction: 'mean' divides the total loss by both the batch size and the support size.'batchmean' divides only by the batch size, and aligns with the KL div math definition.'mean' will be changed to behave the same as 'batchmean' in the next major release.\n",
            "  \"reduction: 'mean' divides the total loss by both the batch size and the support size.\"\n",
            "0% [██████████████████████████████] 100% | ETA: 00:00:00\n",
            "Total time elapsed: 00:00:37\n"
          ]
        },
        {
          "output_type": "stream",
          "name": "stdout",
          "text": [
            "Finished Epoch 1 || Run Time:    9.4 | Load Time:   28.2 || F1:  59.67 | Prec:  58.99 | Rec:  60.37 || Ex/s: 458.81\n",
            "\n",
            "===>  EVAL Epoch 1\n"
          ]
        },
        {
          "output_type": "stream",
          "name": "stderr",
          "text": [
            "0% [██████████████████████████████] 100% | ETA: 00:00:00\n",
            "Total time elapsed: 00:00:09\n"
          ]
        },
        {
          "output_type": "stream",
          "name": "stdout",
          "text": [
            "Finished Epoch 1 || Run Time:    1.8 | Load Time:    7.9 || F1:  68.89 | Prec:  57.42 | Rec:  86.07 || Ex/s: 592.44\n",
            "\n",
            "* Best F1: tensor(68.8856, device='cuda:0')\n",
            "Saving best model...\n",
            "Done.\n",
            "---------------------\n",
            "\n",
            "===>  TRAIN Epoch 2\n"
          ]
        },
        {
          "output_type": "stream",
          "name": "stderr",
          "text": [
            "0% [██████████████████████████████] 100% | ETA: 00:00:00\n",
            "Total time elapsed: 00:00:34\n"
          ]
        },
        {
          "output_type": "stream",
          "name": "stdout",
          "text": [
            "Finished Epoch 2 || Run Time:    8.4 | Load Time:   26.0 || F1:  79.70 | Prec:  72.65 | Rec:  88.28 || Ex/s: 499.80\n",
            "\n",
            "===>  EVAL Epoch 2\n"
          ]
        },
        {
          "output_type": "stream",
          "name": "stderr",
          "text": [
            "0% [██████████████████████████████] 100% | ETA: 00:00:00\n",
            "Total time elapsed: 00:00:09\n"
          ]
        },
        {
          "output_type": "stream",
          "name": "stdout",
          "text": [
            "Finished Epoch 2 || Run Time:    1.8 | Load Time:    7.9 || F1:  75.43 | Prec:  67.13 | Rec:  86.07 || Ex/s: 593.26\n",
            "\n",
            "* Best F1: tensor(75.4300, device='cuda:0')\n",
            "Saving best model...\n",
            "Done.\n",
            "---------------------\n",
            "\n",
            "===>  TRAIN Epoch 3\n"
          ]
        },
        {
          "output_type": "stream",
          "name": "stderr",
          "text": [
            "0% [██████████████████████████████] 100% | ETA: 00:00:00\n",
            "Total time elapsed: 00:00:34\n"
          ]
        },
        {
          "output_type": "stream",
          "name": "stdout",
          "text": [
            "Finished Epoch 3 || Run Time:    8.6 | Load Time:   26.1 || F1:  87.16 | Prec:  81.75 | Rec:  93.33 || Ex/s: 497.20\n",
            "\n",
            "===>  EVAL Epoch 3\n"
          ]
        },
        {
          "output_type": "stream",
          "name": "stderr",
          "text": [
            "0% [██████████████████████████████] 100% | ETA: 00:00:00\n",
            "Total time elapsed: 00:00:09\n"
          ]
        },
        {
          "output_type": "stream",
          "name": "stdout",
          "text": [
            "Finished Epoch 3 || Run Time:    1.8 | Load Time:    7.8 || F1:  78.55 | Prec:  74.70 | Rec:  82.80 || Ex/s: 594.54\n",
            "\n",
            "* Best F1: tensor(78.5461, device='cuda:0')\n",
            "Saving best model...\n",
            "Done.\n",
            "---------------------\n",
            "\n",
            "===>  TRAIN Epoch 4\n"
          ]
        },
        {
          "output_type": "stream",
          "name": "stderr",
          "text": [
            "0% [██████████████████████████████] 100% | ETA: 00:00:00\n",
            "Total time elapsed: 00:00:33\n"
          ]
        },
        {
          "output_type": "stream",
          "name": "stdout",
          "text": [
            "Finished Epoch 4 || Run Time:    8.4 | Load Time:   25.6 || F1:  92.17 | Prec:  88.49 | Rec:  96.16 || Ex/s: 505.22\n",
            "\n",
            "===>  EVAL Epoch 4\n"
          ]
        },
        {
          "output_type": "stream",
          "name": "stderr",
          "text": [
            "0% [██████████████████████████████] 100% | ETA: 00:00:00\n",
            "Total time elapsed: 00:00:09\n"
          ]
        },
        {
          "output_type": "stream",
          "name": "stdout",
          "text": [
            "Finished Epoch 4 || Run Time:    1.8 | Load Time:    7.9 || F1:  77.61 | Prec:  70.28 | Rec:  86.64 || Ex/s: 592.68\n",
            "\n",
            "---------------------\n",
            "\n",
            "===>  TRAIN Epoch 5\n"
          ]
        },
        {
          "output_type": "stream",
          "name": "stderr",
          "text": [
            "0% [██████████████████████████████] 100% | ETA: 00:00:00\n",
            "Total time elapsed: 00:00:34\n"
          ]
        },
        {
          "output_type": "stream",
          "name": "stdout",
          "text": [
            "Finished Epoch 5 || Run Time:    8.6 | Load Time:   26.0 || F1:  95.23 | Prec:  93.14 | Rec:  97.41 || Ex/s: 497.96\n",
            "\n",
            "===>  EVAL Epoch 5\n"
          ]
        },
        {
          "output_type": "stream",
          "name": "stderr",
          "text": [
            "0% [██████████████████████████████] 100% | ETA: 00:00:00\n",
            "Total time elapsed: 00:00:09\n"
          ]
        },
        {
          "output_type": "stream",
          "name": "stdout",
          "text": [
            "Finished Epoch 5 || Run Time:    1.8 | Load Time:    7.8 || F1:  77.96 | Prec:  70.87 | Rec:  86.64 || Ex/s: 594.41\n",
            "\n",
            "---------------------\n",
            "\n",
            "===>  TRAIN Epoch 6\n"
          ]
        },
        {
          "output_type": "stream",
          "name": "stderr",
          "text": [
            "0% [██████████████████████████████] 100% | ETA: 00:00:00\n",
            "Total time elapsed: 00:00:33\n"
          ]
        },
        {
          "output_type": "stream",
          "name": "stdout",
          "text": [
            "Finished Epoch 6 || Run Time:    8.5 | Load Time:   25.7 || F1:  96.48 | Prec:  95.15 | Rec:  97.85 || Ex/s: 503.40\n",
            "\n",
            "===>  EVAL Epoch 6\n"
          ]
        },
        {
          "output_type": "stream",
          "name": "stderr",
          "text": [
            "0% [██████████████████████████████] 100% | ETA: 00:00:00\n",
            "Total time elapsed: 00:00:09\n"
          ]
        },
        {
          "output_type": "stream",
          "name": "stdout",
          "text": [
            "Finished Epoch 6 || Run Time:    1.8 | Load Time:    7.9 || F1:  79.12 | Prec:  74.55 | Rec:  84.30 || Ex/s: 588.69\n",
            "\n",
            "* Best F1: tensor(79.1228, device='cuda:0')\n",
            "Saving best model...\n",
            "Done.\n",
            "---------------------\n",
            "\n",
            "===>  TRAIN Epoch 7\n"
          ]
        },
        {
          "output_type": "stream",
          "name": "stderr",
          "text": [
            "0% [██████████████████████████████] 100% | ETA: 00:00:00\n",
            "Total time elapsed: 00:00:34\n"
          ]
        },
        {
          "output_type": "stream",
          "name": "stdout",
          "text": [
            "Finished Epoch 7 || Run Time:    8.7 | Load Time:   26.2 || F1:  97.19 | Prec:  96.32 | Rec:  98.07 || Ex/s: 493.06\n",
            "\n",
            "===>  EVAL Epoch 7\n"
          ]
        },
        {
          "output_type": "stream",
          "name": "stderr",
          "text": [
            "0% [██████████████████████████████] 100% | ETA: 00:00:00\n",
            "Total time elapsed: 00:00:09\n"
          ]
        },
        {
          "output_type": "stream",
          "name": "stdout",
          "text": [
            "Finished Epoch 7 || Run Time:    1.8 | Load Time:    7.8 || F1:  80.13 | Prec:  76.73 | Rec:  83.83 || Ex/s: 595.32\n",
            "\n",
            "* Best F1: tensor(80.1251, device='cuda:0')\n",
            "Saving best model...\n",
            "Done.\n",
            "---------------------\n",
            "\n",
            "===>  TRAIN Epoch 8\n"
          ]
        },
        {
          "output_type": "stream",
          "name": "stderr",
          "text": [
            "0% [██████████████████████████████] 100% | ETA: 00:00:00\n",
            "Total time elapsed: 00:00:33\n"
          ]
        },
        {
          "output_type": "stream",
          "name": "stdout",
          "text": [
            "Finished Epoch 8 || Run Time:    8.5 | Load Time:   25.7 || F1:  97.75 | Prec:  97.19 | Rec:  98.32 || Ex/s: 504.25\n",
            "\n",
            "===>  EVAL Epoch 8\n"
          ]
        },
        {
          "output_type": "stream",
          "name": "stderr",
          "text": [
            "0% [██████████████████████████████] 100% | ETA: 00:00:00\n",
            "Total time elapsed: 00:00:09\n"
          ]
        },
        {
          "output_type": "stream",
          "name": "stdout",
          "text": [
            "Finished Epoch 8 || Run Time:    1.8 | Load Time:    7.9 || F1:  80.00 | Prec:  77.71 | Rec:  82.43 || Ex/s: 586.53\n",
            "\n",
            "---------------------\n",
            "\n",
            "===>  TRAIN Epoch 9\n"
          ]
        },
        {
          "output_type": "stream",
          "name": "stderr",
          "text": [
            "0% [██████████████████████████████] 100% | ETA: 00:00:00\n",
            "Total time elapsed: 00:00:34\n"
          ]
        },
        {
          "output_type": "stream",
          "name": "stdout",
          "text": [
            "Finished Epoch 9 || Run Time:    8.6 | Load Time:   26.0 || F1:  98.04 | Prec:  97.68 | Rec:  98.41 || Ex/s: 497.69\n",
            "\n",
            "===>  EVAL Epoch 9\n"
          ]
        },
        {
          "output_type": "stream",
          "name": "stderr",
          "text": [
            "0% [██████████████████████████████] 100% | ETA: 00:00:00\n",
            "Total time elapsed: 00:00:09\n"
          ]
        },
        {
          "output_type": "stream",
          "name": "stdout",
          "text": [
            "Finished Epoch 9 || Run Time:    1.8 | Load Time:    7.9 || F1:  80.44 | Prec:  78.89 | Rec:  82.06 || Ex/s: 593.78\n",
            "\n",
            "* Best F1: tensor(80.4398, device='cuda:0')\n",
            "Saving best model...\n",
            "Done.\n",
            "---------------------\n",
            "\n",
            "===>  TRAIN Epoch 10\n"
          ]
        },
        {
          "output_type": "stream",
          "name": "stderr",
          "text": [
            "0% [██████████████████████████████] 100% | ETA: 00:00:00\n",
            "Total time elapsed: 00:00:33\n"
          ]
        },
        {
          "output_type": "stream",
          "name": "stdout",
          "text": [
            "Finished Epoch 10 || Run Time:    8.5 | Load Time:   25.8 || F1:  98.26 | Prec:  98.04 | Rec:  98.47 || Ex/s: 503.27\n",
            "\n",
            "===>  EVAL Epoch 10\n"
          ]
        },
        {
          "output_type": "stream",
          "name": "stderr",
          "text": [
            "0% [██████████████████████████████] 100% | ETA: 00:00:00\n",
            "Total time elapsed: 00:00:09\n"
          ]
        },
        {
          "output_type": "stream",
          "name": "stdout",
          "text": [
            "Finished Epoch 10 || Run Time:    1.8 | Load Time:    7.9 || F1:  80.33 | Prec:  79.20 | Rec:  81.50 || Ex/s: 592.92\n",
            "\n",
            "---------------------\n",
            "\n",
            "===>  TRAIN Epoch 11\n"
          ]
        },
        {
          "output_type": "stream",
          "name": "stderr",
          "text": [
            "0% [██████████████████████████████] 100% | ETA: 00:00:00\n",
            "Total time elapsed: 00:00:33\n"
          ]
        },
        {
          "output_type": "stream",
          "name": "stdout",
          "text": [
            "Finished Epoch 11 || Run Time:    8.5 | Load Time:   25.8 || F1:  98.38 | Prec:  98.26 | Rec:  98.50 || Ex/s: 501.88\n",
            "\n",
            "===>  EVAL Epoch 11\n"
          ]
        },
        {
          "output_type": "stream",
          "name": "stderr",
          "text": [
            "0% [██████████████████████████████] 100% | ETA: 00:00:00\n",
            "Total time elapsed: 00:00:09\n"
          ]
        },
        {
          "output_type": "stream",
          "name": "stdout",
          "text": [
            "Finished Epoch 11 || Run Time:    1.9 | Load Time:    8.0 || F1:  80.43 | Prec:  79.65 | Rec:  81.21 || Ex/s: 581.78\n",
            "\n",
            "---------------------\n",
            "\n",
            "===>  TRAIN Epoch 12\n"
          ]
        },
        {
          "output_type": "stream",
          "name": "stderr",
          "text": [
            "0% [██████████████████████████████] 100% | ETA: 00:00:00\n",
            "Total time elapsed: 00:00:33\n"
          ]
        },
        {
          "output_type": "stream",
          "name": "stdout",
          "text": [
            "Finished Epoch 12 || Run Time:    8.5 | Load Time:   25.7 || F1:  98.55 | Prec:  98.50 | Rec:  98.60 || Ex/s: 504.15\n",
            "\n",
            "===>  EVAL Epoch 12\n"
          ]
        },
        {
          "output_type": "stream",
          "name": "stderr",
          "text": [
            "0% [██████████████████████████████] 100% | ETA: 00:00:00\n",
            "Total time elapsed: 00:00:09\n"
          ]
        },
        {
          "output_type": "stream",
          "name": "stdout",
          "text": [
            "Finished Epoch 12 || Run Time:    1.8 | Load Time:    7.9 || F1:  80.61 | Prec:  79.84 | Rec:  81.40 || Ex/s: 591.49\n",
            "\n",
            "* Best F1: tensor(80.6108, device='cuda:0')\n",
            "Saving best model...\n",
            "Done.\n",
            "---------------------\n",
            "\n",
            "===>  TRAIN Epoch 13\n"
          ]
        },
        {
          "output_type": "stream",
          "name": "stderr",
          "text": [
            "0% [██████████████████████████████] 100% | ETA: 00:00:00\n",
            "Total time elapsed: 00:00:33\n"
          ]
        },
        {
          "output_type": "stream",
          "name": "stdout",
          "text": [
            "Finished Epoch 13 || Run Time:    8.5 | Load Time:   25.7 || F1:  98.67 | Prec:  98.72 | Rec:  98.63 || Ex/s: 504.21\n",
            "\n",
            "===>  EVAL Epoch 13\n"
          ]
        },
        {
          "output_type": "stream",
          "name": "stderr",
          "text": [
            "0% [██████████████████████████████] 100% | ETA: 00:00:00\n",
            "Total time elapsed: 00:00:10\n"
          ]
        },
        {
          "output_type": "stream",
          "name": "stdout",
          "text": [
            "Finished Epoch 13 || Run Time:    1.9 | Load Time:    8.2 || F1:  80.83 | Prec:  79.91 | Rec:  81.78 || Ex/s: 565.87\n",
            "\n",
            "* Best F1: tensor(80.8314, device='cuda:0')\n",
            "Saving best model...\n",
            "Done.\n",
            "---------------------\n",
            "\n",
            "===>  TRAIN Epoch 14\n"
          ]
        },
        {
          "output_type": "stream",
          "name": "stderr",
          "text": [
            "0% [██████████████████████████████] 100% | ETA: 00:00:00\n",
            "Total time elapsed: 00:00:36\n"
          ]
        },
        {
          "output_type": "stream",
          "name": "stdout",
          "text": [
            "Finished Epoch 14 || Run Time:    9.2 | Load Time:   27.4 || F1:  98.70 | Prec:  98.78 | Rec:  98.63 || Ex/s: 469.62\n",
            "\n",
            "===>  EVAL Epoch 14\n"
          ]
        },
        {
          "output_type": "stream",
          "name": "stderr",
          "text": [
            "0% [██████████████████████████████] 100% | ETA: 00:00:00\n",
            "Total time elapsed: 00:00:09\n"
          ]
        },
        {
          "output_type": "stream",
          "name": "stdout",
          "text": [
            "Finished Epoch 14 || Run Time:    1.8 | Load Time:    7.9 || F1:  80.74 | Prec:  79.82 | Rec:  81.68 || Ex/s: 592.35\n",
            "\n",
            "---------------------\n",
            "\n",
            "===>  TRAIN Epoch 15\n"
          ]
        },
        {
          "output_type": "stream",
          "name": "stderr",
          "text": [
            "0% [██████████████████████████████] 100% | ETA: 00:00:00\n",
            "Total time elapsed: 00:00:34\n"
          ]
        },
        {
          "output_type": "stream",
          "name": "stdout",
          "text": [
            "Finished Epoch 15 || Run Time:    8.6 | Load Time:   26.1 || F1:  98.78 | Prec:  98.94 | Rec:  98.63 || Ex/s: 496.48\n",
            "\n",
            "===>  EVAL Epoch 15\n"
          ]
        },
        {
          "output_type": "stream",
          "name": "stderr",
          "text": [
            "0% [██████████████████████████████] 100% | ETA: 00:00:00\n",
            "Total time elapsed: 00:00:10\n"
          ]
        },
        {
          "output_type": "stream",
          "name": "stdout",
          "text": [
            "Finished Epoch 15 || Run Time:    1.9 | Load Time:    8.2 || F1:  80.63 | Prec:  79.78 | Rec:  81.50 || Ex/s: 568.84\n",
            "\n",
            "---------------------\n",
            "\n",
            "Loading best model...\n",
            "Training done.\n"
          ]
        },
        {
          "output_type": "execute_result",
          "data": {
            "text/plain": [
              "tensor(80.8314, device='cuda:0')"
            ]
          },
          "metadata": {},
          "execution_count": 13
        }
      ],
      "source": [
        "model.run_train(\n",
        "    train,\n",
        "    validation,\n",
        "    epochs=15,\n",
        "    batch_size=32,\n",
        "    best_save_path='sif_model.pth',\n",
        "    pos_neg_ratio=3)"
      ]
    },
    {
      "cell_type": "code",
      "execution_count": null,
      "metadata": {
        "id": "yhKKxeaf7jik",
        "colab": {
          "base_uri": "https://localhost:8080/"
        },
        "outputId": "581f8d0d-bf7c-4b29-abfd-ebae836db629"
      },
      "outputs": [
        {
          "output_type": "stream",
          "name": "stdout",
          "text": [
            "===>  EVAL Epoch 13\n"
          ]
        },
        {
          "output_type": "stream",
          "name": "stderr",
          "text": [
            "/usr/local/lib/python3.7/dist-packages/torch/nn/modules/module.py:974: UserWarning: Using a non-full backward hook when the forward contains multiple autograd Nodes is deprecated and will be removed in future versions. This hook will be missing some grad_input. Please use register_full_backward_hook to get the documented behavior.\n",
            "  warnings.warn(\"Using a non-full backward hook when the forward contains multiple autograd Nodes \"\n",
            "0% [██████████████████████████████] 100% | ETA: 00:00:00\n",
            "Total time elapsed: 00:00:10\n"
          ]
        },
        {
          "output_type": "stream",
          "name": "stdout",
          "text": [
            "Finished Epoch 13 || Run Time:    1.9 | Load Time:    8.2 || F1:  79.12 | Prec:  78.90 | Rec:  79.35 || Ex/s: 567.32\n",
            "\n"
          ]
        },
        {
          "output_type": "execute_result",
          "data": {
            "text/plain": [
              "tensor(79.1239, device='cuda:0')"
            ]
          },
          "metadata": {},
          "execution_count": 14
        }
      ],
      "source": [
        "# Compute F1 on test set\n",
        "model.run_eval(test)"
      ]
    },
    {
      "cell_type": "markdown",
      "metadata": {
        "id": "Y-yR4O-G75CA"
      },
      "source": [
        "### ATTENTION"
      ]
    },
    {
      "cell_type": "markdown",
      "metadata": {
        "id": "DreQHWwd75CB"
      },
      "source": [
        "#### STRUCTURED"
      ]
    },
    {
      "cell_type": "markdown",
      "metadata": {
        "id": "_uBS7Flo75CB"
      },
      "source": [
        "##### Amazon-Google"
      ]
    },
    {
      "cell_type": "code",
      "execution_count": null,
      "metadata": {
        "id": "IisFYUP_75CB"
      },
      "outputs": [],
      "source": [
        "train, validation, test = dm.data.process(\n",
        "    path='/content/IC/datasesErros/AADatasets/Structured/Amazon-Google/',\n",
        "    train='joined_train.csv',\n",
        "    validation='joined_valid.csv',\n",
        "    test='joined_test.csv')"
      ]
    },
    {
      "cell_type": "code",
      "execution_count": null,
      "metadata": {
        "id": "Ve41vX4-75CC"
      },
      "outputs": [],
      "source": [
        "model = dm.MatchingModel(attr_summarizer='attention')"
      ]
    },
    {
      "cell_type": "code",
      "execution_count": null,
      "metadata": {
        "id": "DWbbr5NC75CC",
        "colab": {
          "base_uri": "https://localhost:8080/"
        },
        "outputId": "063079e2-6129-4003-f72d-10f69e46e73f"
      },
      "outputs": [
        {
          "output_type": "stream",
          "name": "stdout",
          "text": [
            "* Number of trainable parameters: 3429602\n",
            "===>  TRAIN Epoch 1\n"
          ]
        },
        {
          "output_type": "stream",
          "name": "stderr",
          "text": [
            "/usr/local/lib/python3.7/dist-packages/torch/nn/modules/module.py:974: UserWarning: Using a non-full backward hook when the forward contains multiple autograd Nodes is deprecated and will be removed in future versions. This hook will be missing some grad_input. Please use register_full_backward_hook to get the documented behavior.\n",
            "  warnings.warn(\"Using a non-full backward hook when the forward contains multiple autograd Nodes \"\n",
            "/usr/local/lib/python3.7/dist-packages/torch/nn/modules/module.py:949: UserWarning: Using non-full backward hooks on a Module that does not take as input a single Tensor or a tuple of Tensors is deprecated and will be removed in future versions. This hook will be missing some of the grad_input. Please use register_full_backward_hook to get the documented behavior.\n",
            "  warnings.warn(\"Using non-full backward hooks on a Module that does not take as input a \"\n",
            "/usr/local/lib/python3.7/dist-packages/torch/nn/modules/module.py:939: UserWarning: Using non-full backward hooks on a Module that does not return a single Tensor or a tuple of Tensors is deprecated and will be removed in future versions. This hook will be missing some of the grad_output. Please use register_full_backward_hook to get the documented behavior.\n",
            "  warnings.warn(\"Using non-full backward hooks on a Module that does not return a \"\n",
            "/usr/local/lib/python3.7/dist-packages/torch/nn/functional.py:2742: UserWarning: reduction: 'mean' divides the total loss by both the batch size and the support size.'batchmean' divides only by the batch size, and aligns with the KL div math definition.'mean' will be changed to behave the same as 'batchmean' in the next major release.\n",
            "  \"reduction: 'mean' divides the total loss by both the batch size and the support size.\"\n",
            "0% [██████████████████████████████] 100% | ETA: 00:00:00\n",
            "Total time elapsed: 00:00:14\n"
          ]
        },
        {
          "output_type": "stream",
          "name": "stdout",
          "text": [
            "Finished Epoch 1 || Run Time:   10.5 | Load Time:    4.1 || F1:  29.82 | Prec:  33.45 | Rec:  26.90 || Ex/s: 471.57\n",
            "\n",
            "===>  EVAL Epoch 1\n"
          ]
        },
        {
          "output_type": "stream",
          "name": "stderr",
          "text": [
            "0% [██████████████] 100% | ETA: 00:00:00\n",
            "Total time elapsed: 00:00:03\n"
          ]
        },
        {
          "output_type": "stream",
          "name": "stdout",
          "text": [
            "Finished Epoch 1 || Run Time:    2.0 | Load Time:    1.3 || F1:  40.16 | Prec:  38.58 | Rec:  41.88 || Ex/s: 694.47\n",
            "\n",
            "* Best F1: tensor(40.1639, device='cuda:0')\n",
            "Saving best model...\n",
            "Done.\n",
            "---------------------\n",
            "\n",
            "===>  TRAIN Epoch 2\n"
          ]
        },
        {
          "output_type": "stream",
          "name": "stderr",
          "text": [
            "0% [██████████████████████████████] 100% | ETA: 00:00:00\n",
            "Total time elapsed: 00:00:14\n"
          ]
        },
        {
          "output_type": "stream",
          "name": "stdout",
          "text": [
            "Finished Epoch 2 || Run Time:   10.5 | Load Time:    4.1 || F1:  52.19 | Prec:  44.58 | Rec:  62.95 || Ex/s: 473.37\n",
            "\n",
            "===>  EVAL Epoch 2\n"
          ]
        },
        {
          "output_type": "stream",
          "name": "stderr",
          "text": [
            "0% [██████████████] 100% | ETA: 00:00:00\n",
            "Total time elapsed: 00:00:03\n"
          ]
        },
        {
          "output_type": "stream",
          "name": "stdout",
          "text": [
            "Finished Epoch 2 || Run Time:    2.0 | Load Time:    1.3 || F1:  54.58 | Prec:  44.18 | Rec:  71.37 || Ex/s: 698.08\n",
            "\n",
            "* Best F1: tensor(54.5752, device='cuda:0')\n",
            "Saving best model...\n",
            "Done.\n",
            "---------------------\n",
            "\n",
            "===>  TRAIN Epoch 3\n"
          ]
        },
        {
          "output_type": "stream",
          "name": "stderr",
          "text": [
            "0% [██████████████████████████████] 100% | ETA: 00:00:00\n",
            "Total time elapsed: 00:00:15\n"
          ]
        },
        {
          "output_type": "stream",
          "name": "stdout",
          "text": [
            "Finished Epoch 3 || Run Time:   10.9 | Load Time:    4.3 || F1:  63.29 | Prec:  53.81 | Rec:  76.82 || Ex/s: 453.53\n",
            "\n",
            "===>  EVAL Epoch 3\n"
          ]
        },
        {
          "output_type": "stream",
          "name": "stderr",
          "text": [
            "0% [██████████████] 100% | ETA: 00:00:00\n",
            "Total time elapsed: 00:00:03\n"
          ]
        },
        {
          "output_type": "stream",
          "name": "stdout",
          "text": [
            "Finished Epoch 3 || Run Time:    2.0 | Load Time:    1.3 || F1:  56.43 | Prec:  44.55 | Rec:  76.92 || Ex/s: 700.97\n",
            "\n",
            "* Best F1: tensor(56.4263, device='cuda:0')\n",
            "Saving best model...\n",
            "Done.\n",
            "---------------------\n",
            "\n",
            "===>  TRAIN Epoch 4\n"
          ]
        },
        {
          "output_type": "stream",
          "name": "stderr",
          "text": [
            "0% [██████████████████████████████] 100% | ETA: 00:00:00\n",
            "Total time elapsed: 00:00:14\n"
          ]
        },
        {
          "output_type": "stream",
          "name": "stdout",
          "text": [
            "Finished Epoch 4 || Run Time:   10.5 | Load Time:    4.1 || F1:  71.66 | Prec:  61.65 | Rec:  85.55 || Ex/s: 471.76\n",
            "\n",
            "===>  EVAL Epoch 4\n"
          ]
        },
        {
          "output_type": "stream",
          "name": "stderr",
          "text": [
            "0% [██████████████] 100% | ETA: 00:00:00\n",
            "Total time elapsed: 00:00:03\n"
          ]
        },
        {
          "output_type": "stream",
          "name": "stdout",
          "text": [
            "Finished Epoch 4 || Run Time:    2.0 | Load Time:    1.3 || F1:  56.97 | Prec:  43.88 | Rec:  81.20 || Ex/s: 696.85\n",
            "\n",
            "* Best F1: tensor(56.9715, device='cuda:0')\n",
            "Saving best model...\n",
            "Done.\n",
            "---------------------\n",
            "\n",
            "===>  TRAIN Epoch 5\n"
          ]
        },
        {
          "output_type": "stream",
          "name": "stderr",
          "text": [
            "0% [██████████████████████████████] 100% | ETA: 00:00:00\n",
            "Total time elapsed: 00:00:14\n"
          ]
        },
        {
          "output_type": "stream",
          "name": "stdout",
          "text": [
            "Finished Epoch 5 || Run Time:   10.7 | Load Time:    4.2 || F1:  77.44 | Prec:  67.89 | Rec:  90.13 || Ex/s: 462.07\n",
            "\n",
            "===>  EVAL Epoch 5\n"
          ]
        },
        {
          "output_type": "stream",
          "name": "stderr",
          "text": [
            "0% [██████████████] 100% | ETA: 00:00:00\n",
            "Total time elapsed: 00:00:03\n"
          ]
        },
        {
          "output_type": "stream",
          "name": "stdout",
          "text": [
            "Finished Epoch 5 || Run Time:    2.0 | Load Time:    1.3 || F1:  55.29 | Prec:  42.15 | Rec:  80.34 || Ex/s: 696.31\n",
            "\n",
            "---------------------\n",
            "\n",
            "===>  TRAIN Epoch 6\n"
          ]
        },
        {
          "output_type": "stream",
          "name": "stderr",
          "text": [
            "0% [██████████████████████████████] 100% | ETA: 00:00:00\n",
            "Total time elapsed: 00:00:14\n"
          ]
        },
        {
          "output_type": "stream",
          "name": "stdout",
          "text": [
            "Finished Epoch 6 || Run Time:   10.4 | Load Time:    4.0 || F1:  79.45 | Prec:  70.34 | Rec:  91.27 || Ex/s: 474.57\n",
            "\n",
            "===>  EVAL Epoch 6\n"
          ]
        },
        {
          "output_type": "stream",
          "name": "stderr",
          "text": [
            "0% [██████████████] 100% | ETA: 00:00:00\n",
            "Total time elapsed: 00:00:03\n"
          ]
        },
        {
          "output_type": "stream",
          "name": "stdout",
          "text": [
            "Finished Epoch 6 || Run Time:    2.0 | Load Time:    1.3 || F1:  63.55 | Prec:  58.42 | Rec:  69.66 || Ex/s: 694.74\n",
            "\n",
            "* Best F1: tensor(63.5478, device='cuda:0')\n",
            "Saving best model...\n",
            "Done.\n",
            "---------------------\n",
            "\n",
            "===>  TRAIN Epoch 7\n"
          ]
        },
        {
          "output_type": "stream",
          "name": "stderr",
          "text": [
            "0% [██████████████████████████████] 100% | ETA: 00:00:00\n",
            "Total time elapsed: 00:00:14\n"
          ]
        },
        {
          "output_type": "stream",
          "name": "stdout",
          "text": [
            "Finished Epoch 7 || Run Time:   10.5 | Load Time:    4.1 || F1:  82.37 | Prec:  73.57 | Rec:  93.56 || Ex/s: 472.18\n",
            "\n",
            "===>  EVAL Epoch 7\n"
          ]
        },
        {
          "output_type": "stream",
          "name": "stderr",
          "text": [
            "0% [██████████████] 100% | ETA: 00:00:00\n",
            "Total time elapsed: 00:00:03\n"
          ]
        },
        {
          "output_type": "stream",
          "name": "stdout",
          "text": [
            "Finished Epoch 7 || Run Time:    2.1 | Load Time:    1.4 || F1:  61.63 | Prec:  56.38 | Rec:  67.95 || Ex/s: 656.77\n",
            "\n",
            "---------------------\n",
            "\n",
            "===>  TRAIN Epoch 8\n"
          ]
        },
        {
          "output_type": "stream",
          "name": "stderr",
          "text": [
            "0% [██████████████████████████████] 100% | ETA: 00:00:00\n",
            "Total time elapsed: 00:00:14\n"
          ]
        },
        {
          "output_type": "stream",
          "name": "stdout",
          "text": [
            "Finished Epoch 8 || Run Time:   10.7 | Load Time:    4.2 || F1:  85.27 | Prec:  77.45 | Rec:  94.85 || Ex/s: 461.34\n",
            "\n",
            "===>  EVAL Epoch 8\n"
          ]
        },
        {
          "output_type": "stream",
          "name": "stderr",
          "text": [
            "0% [██████████████] 100% | ETA: 00:00:00\n",
            "Total time elapsed: 00:00:03\n"
          ]
        },
        {
          "output_type": "stream",
          "name": "stdout",
          "text": [
            "Finished Epoch 8 || Run Time:    2.0 | Load Time:    1.3 || F1:  63.08 | Prec:  57.34 | Rec:  70.09 || Ex/s: 698.78\n",
            "\n",
            "---------------------\n",
            "\n",
            "===>  TRAIN Epoch 9\n"
          ]
        },
        {
          "output_type": "stream",
          "name": "stderr",
          "text": [
            "0% [██████████████████████████████] 100% | ETA: 00:00:00\n",
            "Total time elapsed: 00:00:14\n"
          ]
        },
        {
          "output_type": "stream",
          "name": "stdout",
          "text": [
            "Finished Epoch 9 || Run Time:   10.5 | Load Time:    4.1 || F1:  88.04 | Prec:  80.69 | Rec:  96.85 || Ex/s: 472.87\n",
            "\n",
            "===>  EVAL Epoch 9\n"
          ]
        },
        {
          "output_type": "stream",
          "name": "stderr",
          "text": [
            "0% [██████████████] 100% | ETA: 00:00:00\n",
            "Total time elapsed: 00:00:03\n"
          ]
        },
        {
          "output_type": "stream",
          "name": "stdout",
          "text": [
            "Finished Epoch 9 || Run Time:    2.0 | Load Time:    1.3 || F1:  62.55 | Prec:  57.04 | Rec:  69.23 || Ex/s: 698.26\n",
            "\n",
            "---------------------\n",
            "\n",
            "===>  TRAIN Epoch 10\n"
          ]
        },
        {
          "output_type": "stream",
          "name": "stderr",
          "text": [
            "0% [██████████████████████████████] 100% | ETA: 00:00:00\n",
            "Total time elapsed: 00:00:14\n"
          ]
        },
        {
          "output_type": "stream",
          "name": "stdout",
          "text": [
            "Finished Epoch 10 || Run Time:   10.4 | Load Time:    4.1 || F1:  89.31 | Prec:  82.45 | Rec:  97.42 || Ex/s: 474.43\n",
            "\n",
            "===>  EVAL Epoch 10\n"
          ]
        },
        {
          "output_type": "stream",
          "name": "stderr",
          "text": [
            "0% [██████████████] 100% | ETA: 00:00:00\n",
            "Total time elapsed: 00:00:03\n"
          ]
        },
        {
          "output_type": "stream",
          "name": "stdout",
          "text": [
            "Finished Epoch 10 || Run Time:    2.0 | Load Time:    1.3 || F1:  61.71 | Prec:  55.67 | Rec:  69.23 || Ex/s: 697.06\n",
            "\n",
            "---------------------\n",
            "\n",
            "===>  TRAIN Epoch 11\n"
          ]
        },
        {
          "output_type": "stream",
          "name": "stderr",
          "text": [
            "0% [██████████████████████████████] 100% | ETA: 00:00:00\n",
            "Total time elapsed: 00:00:14\n"
          ]
        },
        {
          "output_type": "stream",
          "name": "stdout",
          "text": [
            "Finished Epoch 11 || Run Time:   10.5 | Load Time:    4.1 || F1:  90.87 | Prec:  84.50 | Rec:  98.28 || Ex/s: 472.98\n",
            "\n",
            "===>  EVAL Epoch 11\n"
          ]
        },
        {
          "output_type": "stream",
          "name": "stderr",
          "text": [
            "0% [██████████████] 100% | ETA: 00:00:00\n",
            "Total time elapsed: 00:00:03\n"
          ]
        },
        {
          "output_type": "stream",
          "name": "stdout",
          "text": [
            "Finished Epoch 11 || Run Time:    2.0 | Load Time:    1.3 || F1:  62.23 | Prec:  62.50 | Rec:  61.97 || Ex/s: 695.96\n",
            "\n",
            "---------------------\n",
            "\n",
            "===>  TRAIN Epoch 12\n"
          ]
        },
        {
          "output_type": "stream",
          "name": "stderr",
          "text": [
            "0% [██████████████████████████████] 100% | ETA: 00:00:00\n",
            "Total time elapsed: 00:00:14\n"
          ]
        },
        {
          "output_type": "stream",
          "name": "stdout",
          "text": [
            "Finished Epoch 12 || Run Time:   10.6 | Load Time:    4.1 || F1:  91.66 | Prec:  85.88 | Rec:  98.28 || Ex/s: 469.99\n",
            "\n",
            "===>  EVAL Epoch 12\n"
          ]
        },
        {
          "output_type": "stream",
          "name": "stderr",
          "text": [
            "0% [██████████████] 100% | ETA: 00:00:00\n",
            "Total time elapsed: 00:00:03\n"
          ]
        },
        {
          "output_type": "stream",
          "name": "stdout",
          "text": [
            "Finished Epoch 12 || Run Time:    2.3 | Load Time:    1.5 || F1:  60.73 | Prec:  65.20 | Rec:  56.84 || Ex/s: 604.85\n",
            "\n",
            "---------------------\n",
            "\n",
            "===>  TRAIN Epoch 13\n"
          ]
        },
        {
          "output_type": "stream",
          "name": "stderr",
          "text": [
            "0% [██████████████████████████████] 100% | ETA: 00:00:00\n",
            "Total time elapsed: 00:00:14\n"
          ]
        },
        {
          "output_type": "stream",
          "name": "stdout",
          "text": [
            "Finished Epoch 13 || Run Time:   10.5 | Load Time:    4.1 || F1:  92.81 | Prec:  87.47 | Rec:  98.86 || Ex/s: 473.45\n",
            "\n",
            "===>  EVAL Epoch 13\n"
          ]
        },
        {
          "output_type": "stream",
          "name": "stderr",
          "text": [
            "0% [██████████████] 100% | ETA: 00:00:00\n",
            "Total time elapsed: 00:00:03\n"
          ]
        },
        {
          "output_type": "stream",
          "name": "stdout",
          "text": [
            "Finished Epoch 13 || Run Time:    2.0 | Load Time:    1.3 || F1:  60.41 | Prec:  65.02 | Rec:  56.41 || Ex/s: 699.79\n",
            "\n",
            "---------------------\n",
            "\n",
            "===>  TRAIN Epoch 14\n"
          ]
        },
        {
          "output_type": "stream",
          "name": "stderr",
          "text": [
            "0% [██████████████████████████████] 100% | ETA: 00:00:00\n",
            "Total time elapsed: 00:00:14\n"
          ]
        },
        {
          "output_type": "stream",
          "name": "stdout",
          "text": [
            "Finished Epoch 14 || Run Time:   10.4 | Load Time:    4.1 || F1:  93.32 | Prec:  88.27 | Rec:  99.00 || Ex/s: 473.74\n",
            "\n",
            "===>  EVAL Epoch 14\n"
          ]
        },
        {
          "output_type": "stream",
          "name": "stderr",
          "text": [
            "0% [██████████████] 100% | ETA: 00:00:00\n",
            "Total time elapsed: 00:00:03\n"
          ]
        },
        {
          "output_type": "stream",
          "name": "stdout",
          "text": [
            "Finished Epoch 14 || Run Time:    2.0 | Load Time:    1.3 || F1:  60.14 | Prec:  64.39 | Rec:  56.41 || Ex/s: 694.87\n",
            "\n",
            "---------------------\n",
            "\n",
            "===>  TRAIN Epoch 15\n"
          ]
        },
        {
          "output_type": "stream",
          "name": "stderr",
          "text": [
            "0% [██████████████████████████████] 100% | ETA: 00:00:00\n",
            "Total time elapsed: 00:00:14\n"
          ]
        },
        {
          "output_type": "stream",
          "name": "stdout",
          "text": [
            "Finished Epoch 15 || Run Time:   10.5 | Load Time:    4.0 || F1:  93.64 | Prec:  88.83 | Rec:  99.00 || Ex/s: 473.91\n",
            "\n",
            "===>  EVAL Epoch 15\n"
          ]
        },
        {
          "output_type": "stream",
          "name": "stderr",
          "text": [
            "0% [██████████████] 100% | ETA: 00:00:00\n",
            "Total time elapsed: 00:00:03\n"
          ]
        },
        {
          "output_type": "stream",
          "name": "stdout",
          "text": [
            "Finished Epoch 15 || Run Time:    2.0 | Load Time:    1.3 || F1:  60.77 | Prec:  64.73 | Rec:  57.26 || Ex/s: 695.61\n",
            "\n",
            "---------------------\n",
            "\n",
            "Loading best model...\n",
            "Training done.\n"
          ]
        },
        {
          "output_type": "execute_result",
          "data": {
            "text/plain": [
              "tensor(63.5478, device='cuda:0')"
            ]
          },
          "metadata": {},
          "execution_count": 17
        }
      ],
      "source": [
        "model.run_train(\n",
        "    train,\n",
        "    validation,\n",
        "    epochs=15,\n",
        "    batch_size=32,\n",
        "    best_save_path='attention_model.pth',\n",
        "    pos_neg_ratio=3)"
      ]
    },
    {
      "cell_type": "code",
      "execution_count": null,
      "metadata": {
        "id": "e1sHU6q_75CD",
        "colab": {
          "base_uri": "https://localhost:8080/"
        },
        "outputId": "7e214ce2-5957-4e85-c318-08d6a5956f68"
      },
      "outputs": [
        {
          "output_type": "stream",
          "name": "stdout",
          "text": [
            "===>  EVAL Epoch 6\n"
          ]
        },
        {
          "output_type": "stream",
          "name": "stderr",
          "text": [
            "/usr/local/lib/python3.7/dist-packages/torch/nn/modules/module.py:974: UserWarning: Using a non-full backward hook when the forward contains multiple autograd Nodes is deprecated and will be removed in future versions. This hook will be missing some grad_input. Please use register_full_backward_hook to get the documented behavior.\n",
            "  warnings.warn(\"Using a non-full backward hook when the forward contains multiple autograd Nodes \"\n",
            "/usr/local/lib/python3.7/dist-packages/torch/nn/modules/module.py:949: UserWarning: Using non-full backward hooks on a Module that does not take as input a single Tensor or a tuple of Tensors is deprecated and will be removed in future versions. This hook will be missing some of the grad_input. Please use register_full_backward_hook to get the documented behavior.\n",
            "  warnings.warn(\"Using non-full backward hooks on a Module that does not take as input a \"\n",
            "/usr/local/lib/python3.7/dist-packages/torch/nn/modules/module.py:939: UserWarning: Using non-full backward hooks on a Module that does not return a single Tensor or a tuple of Tensors is deprecated and will be removed in future versions. This hook will be missing some of the grad_output. Please use register_full_backward_hook to get the documented behavior.\n",
            "  warnings.warn(\"Using non-full backward hooks on a Module that does not return a \"\n",
            "0% [██████████████] 100% | ETA: 00:00:00\n",
            "Total time elapsed: 00:00:03\n"
          ]
        },
        {
          "output_type": "stream",
          "name": "stdout",
          "text": [
            "Finished Epoch 6 || Run Time:    2.0 | Load Time:    1.3 || F1:  62.16 | Prec:  56.69 | Rec:  68.80 || Ex/s: 683.98\n",
            "\n"
          ]
        },
        {
          "output_type": "execute_result",
          "data": {
            "text/plain": [
              "tensor(62.1622, device='cuda:0')"
            ]
          },
          "metadata": {},
          "execution_count": 18
        }
      ],
      "source": [
        "# Compute F1 on test set\n",
        "model.run_eval(test)"
      ]
    },
    {
      "cell_type": "markdown",
      "metadata": {
        "id": "RasOi4AW75CD"
      },
      "source": [
        "##### Beer"
      ]
    },
    {
      "cell_type": "code",
      "execution_count": null,
      "metadata": {
        "id": "PcdkYzZD75CD"
      },
      "outputs": [],
      "source": [
        "train, validation, test = dm.data.process(\n",
        "    path='/content/IC/datasesErros/AADatasets/Structured/Beer/',\n",
        "    train='joined_train.csv',\n",
        "    validation='joined_valid.csv',\n",
        "    test='joined_test.csv')"
      ]
    },
    {
      "cell_type": "code",
      "execution_count": null,
      "metadata": {
        "id": "WF7p9Ekr75CE"
      },
      "outputs": [],
      "source": [
        "model = dm.MatchingModel(attr_summarizer='attention')"
      ]
    },
    {
      "cell_type": "code",
      "execution_count": null,
      "metadata": {
        "id": "n27d9dg575CE",
        "colab": {
          "base_uri": "https://localhost:8080/"
        },
        "outputId": "fb53b58f-7397-4f4b-f97c-3c29239cb5e6"
      },
      "outputs": [
        {
          "output_type": "stream",
          "name": "stdout",
          "text": [
            "* Number of trainable parameters: 4332002\n",
            "===>  TRAIN Epoch 1\n"
          ]
        },
        {
          "output_type": "stream",
          "name": "stderr",
          "text": [
            "/usr/local/lib/python3.7/dist-packages/torch/nn/modules/module.py:974: UserWarning: Using a non-full backward hook when the forward contains multiple autograd Nodes is deprecated and will be removed in future versions. This hook will be missing some grad_input. Please use register_full_backward_hook to get the documented behavior.\n",
            "  warnings.warn(\"Using a non-full backward hook when the forward contains multiple autograd Nodes \"\n",
            "/usr/local/lib/python3.7/dist-packages/torch/nn/modules/module.py:949: UserWarning: Using non-full backward hooks on a Module that does not take as input a single Tensor or a tuple of Tensors is deprecated and will be removed in future versions. This hook will be missing some of the grad_input. Please use register_full_backward_hook to get the documented behavior.\n",
            "  warnings.warn(\"Using non-full backward hooks on a Module that does not take as input a \"\n",
            "/usr/local/lib/python3.7/dist-packages/torch/nn/modules/module.py:939: UserWarning: Using non-full backward hooks on a Module that does not return a single Tensor or a tuple of Tensors is deprecated and will be removed in future versions. This hook will be missing some of the grad_output. Please use register_full_backward_hook to get the documented behavior.\n",
            "  warnings.warn(\"Using non-full backward hooks on a Module that does not return a \"\n",
            "/usr/local/lib/python3.7/dist-packages/torch/nn/functional.py:2742: UserWarning: reduction: 'mean' divides the total loss by both the batch size and the support size.'batchmean' divides only by the batch size, and aligns with the KL div math definition.'mean' will be changed to behave the same as 'batchmean' in the next major release.\n",
            "  \"reduction: 'mean' divides the total loss by both the batch size and the support size.\"\n",
            "0% [█] 100% | ETA: 00:00:00\n",
            "Total time elapsed: 00:00:00\n"
          ]
        },
        {
          "output_type": "stream",
          "name": "stdout",
          "text": [
            "Finished Epoch 1 || Run Time:    0.6 | Load Time:    0.3 || F1:  23.33 | Prec:  35.00 | Rec:  17.50 || Ex/s: 310.25\n",
            "\n",
            "===>  EVAL Epoch 1\n",
            "Finished Epoch 1 || Run Time:    0.1 | Load Time:    0.1 || F1:  32.56 | Prec:  19.44 | Rec: 100.00 || Ex/s: 449.61\n",
            "\n",
            "* Best F1: tensor(32.5581, device='cuda:0')\n",
            "Saving best model...\n",
            "Done.\n",
            "---------------------\n",
            "\n",
            "===>  TRAIN Epoch 2\n"
          ]
        },
        {
          "output_type": "stream",
          "name": "stderr",
          "text": [
            "0% [█] 100% | ETA: 00:00:00\n",
            "Total time elapsed: 00:00:00\n"
          ]
        },
        {
          "output_type": "stream",
          "name": "stdout",
          "text": [
            "Finished Epoch 2 || Run Time:    0.8 | Load Time:    0.3 || F1:  42.70 | Prec:  38.78 | Rec:  47.50 || Ex/s: 246.74\n",
            "\n",
            "===>  EVAL Epoch 2\n",
            "Finished Epoch 2 || Run Time:    0.1 | Load Time:    0.1 || F1:   0.00 | Prec:   0.00 | Rec:   0.00 || Ex/s: 444.18\n",
            "\n",
            "---------------------\n",
            "\n",
            "===>  TRAIN Epoch 3\n"
          ]
        },
        {
          "output_type": "stream",
          "name": "stderr",
          "text": [
            "0% [█] 100% | ETA: 00:00:00\n",
            "Total time elapsed: 00:00:00\n"
          ]
        },
        {
          "output_type": "stream",
          "name": "stdout",
          "text": [
            "Finished Epoch 3 || Run Time:    0.6 | Load Time:    0.3 || F1:  33.33 | Prec: 100.00 | Rec:  20.00 || Ex/s: 318.47\n",
            "\n",
            "===>  EVAL Epoch 3\n",
            "Finished Epoch 3 || Run Time:    0.1 | Load Time:    0.1 || F1:  36.36 | Prec:  50.00 | Rec:  28.57 || Ex/s: 451.82\n",
            "\n",
            "* Best F1: tensor(36.3636, device='cuda:0')\n",
            "Saving best model...\n",
            "Done.\n",
            "---------------------\n",
            "\n",
            "===>  TRAIN Epoch 4\n"
          ]
        },
        {
          "output_type": "stream",
          "name": "stderr",
          "text": [
            "0% [█] 100% | ETA: 00:00:00\n",
            "Total time elapsed: 00:00:00\n"
          ]
        },
        {
          "output_type": "stream",
          "name": "stdout",
          "text": [
            "Finished Epoch 4 || Run Time:    0.6 | Load Time:    0.3 || F1:  68.35 | Prec:  69.23 | Rec:  67.50 || Ex/s: 315.97\n",
            "\n",
            "===>  EVAL Epoch 4\n",
            "Finished Epoch 4 || Run Time:    0.1 | Load Time:    0.1 || F1:  53.33 | Prec:  38.71 | Rec:  85.71 || Ex/s: 441.12\n",
            "\n",
            "* Best F1: tensor(53.3333, device='cuda:0')\n",
            "Saving best model...\n",
            "Done.\n",
            "---------------------\n",
            "\n",
            "===>  TRAIN Epoch 5\n"
          ]
        },
        {
          "output_type": "stream",
          "name": "stderr",
          "text": [
            "0% [█] 100% | ETA: 00:00:00\n",
            "Total time elapsed: 00:00:00\n"
          ]
        },
        {
          "output_type": "stream",
          "name": "stdout",
          "text": [
            "Finished Epoch 5 || Run Time:    0.6 | Load Time:    0.3 || F1:  79.52 | Prec:  76.74 | Rec:  82.50 || Ex/s: 313.74\n",
            "\n",
            "===>  EVAL Epoch 5\n",
            "Finished Epoch 5 || Run Time:    0.1 | Load Time:    0.1 || F1:  56.41 | Prec:  44.00 | Rec:  78.57 || Ex/s: 441.02\n",
            "\n",
            "* Best F1: tensor(56.4103, device='cuda:0')\n",
            "Saving best model...\n",
            "Done.\n",
            "---------------------\n",
            "\n",
            "===>  TRAIN Epoch 6\n"
          ]
        },
        {
          "output_type": "stream",
          "name": "stderr",
          "text": [
            "0% [█] 100% | ETA: 00:00:00\n",
            "Total time elapsed: 00:00:00\n"
          ]
        },
        {
          "output_type": "stream",
          "name": "stdout",
          "text": [
            "Finished Epoch 6 || Run Time:    0.6 | Load Time:    0.3 || F1:  86.36 | Prec:  79.17 | Rec:  95.00 || Ex/s: 314.26\n",
            "\n",
            "===>  EVAL Epoch 6\n",
            "Finished Epoch 6 || Run Time:    0.1 | Load Time:    0.1 || F1:  51.06 | Prec:  36.36 | Rec:  85.71 || Ex/s: 465.38\n",
            "\n",
            "---------------------\n",
            "\n",
            "===>  TRAIN Epoch 7\n"
          ]
        },
        {
          "output_type": "stream",
          "name": "stderr",
          "text": [
            "0% [█] 100% | ETA: 00:00:00\n",
            "Total time elapsed: 00:00:00\n"
          ]
        },
        {
          "output_type": "stream",
          "name": "stdout",
          "text": [
            "Finished Epoch 7 || Run Time:    0.6 | Load Time:    0.2 || F1:  84.78 | Prec:  75.00 | Rec:  97.50 || Ex/s: 327.87\n",
            "\n",
            "===>  EVAL Epoch 7\n",
            "Finished Epoch 7 || Run Time:    0.1 | Load Time:    0.1 || F1:  60.00 | Prec:  46.15 | Rec:  85.71 || Ex/s: 477.34\n",
            "\n",
            "* Best F1: tensor(60., device='cuda:0')\n",
            "Saving best model...\n",
            "Done.\n",
            "---------------------\n",
            "\n",
            "===>  TRAIN Epoch 8\n"
          ]
        },
        {
          "output_type": "stream",
          "name": "stderr",
          "text": [
            "0% [█] 100% | ETA: 00:00:00\n",
            "Total time elapsed: 00:00:00\n"
          ]
        },
        {
          "output_type": "stream",
          "name": "stdout",
          "text": [
            "Finished Epoch 8 || Run Time:    0.6 | Load Time:    0.3 || F1:  85.71 | Prec:  76.47 | Rec:  97.50 || Ex/s: 329.07\n",
            "\n",
            "===>  EVAL Epoch 8\n",
            "Finished Epoch 8 || Run Time:    0.1 | Load Time:    0.1 || F1:  60.00 | Prec:  46.15 | Rec:  85.71 || Ex/s: 465.94\n",
            "\n",
            "---------------------\n",
            "\n",
            "===>  TRAIN Epoch 9\n"
          ]
        },
        {
          "output_type": "stream",
          "name": "stderr",
          "text": [
            "0% [█] 100% | ETA: 00:00:00\n",
            "Total time elapsed: 00:00:00\n"
          ]
        },
        {
          "output_type": "stream",
          "name": "stdout",
          "text": [
            "Finished Epoch 9 || Run Time:    0.6 | Load Time:    0.2 || F1:  85.71 | Prec:  76.47 | Rec:  97.50 || Ex/s: 327.69\n",
            "\n",
            "===>  EVAL Epoch 9\n",
            "Finished Epoch 9 || Run Time:    0.1 | Load Time:    0.1 || F1:  63.16 | Prec:  50.00 | Rec:  85.71 || Ex/s: 431.96\n",
            "\n",
            "* Best F1: tensor(63.1579, device='cuda:0')\n",
            "Saving best model...\n",
            "Done.\n",
            "---------------------\n",
            "\n",
            "===>  TRAIN Epoch 10\n"
          ]
        },
        {
          "output_type": "stream",
          "name": "stderr",
          "text": [
            "0% [█] 100% | ETA: 00:00:00\n",
            "Total time elapsed: 00:00:00\n"
          ]
        },
        {
          "output_type": "stream",
          "name": "stdout",
          "text": [
            "Finished Epoch 10 || Run Time:    0.6 | Load Time:    0.3 || F1:  86.67 | Prec:  78.00 | Rec:  97.50 || Ex/s: 323.26\n",
            "\n",
            "===>  EVAL Epoch 10\n",
            "Finished Epoch 10 || Run Time:    0.1 | Load Time:    0.1 || F1:  66.67 | Prec:  54.55 | Rec:  85.71 || Ex/s: 467.37\n",
            "\n",
            "* Best F1: tensor(66.6667, device='cuda:0')\n",
            "Saving best model...\n",
            "Done.\n",
            "---------------------\n",
            "\n",
            "===>  TRAIN Epoch 11\n"
          ]
        },
        {
          "output_type": "stream",
          "name": "stderr",
          "text": [
            "0% [█] 100% | ETA: 00:00:00\n",
            "Total time elapsed: 00:00:00\n"
          ]
        },
        {
          "output_type": "stream",
          "name": "stdout",
          "text": [
            "Finished Epoch 11 || Run Time:    0.6 | Load Time:    0.3 || F1:  86.67 | Prec:  78.00 | Rec:  97.50 || Ex/s: 317.01\n",
            "\n",
            "===>  EVAL Epoch 11\n",
            "Finished Epoch 11 || Run Time:    0.1 | Load Time:    0.1 || F1:  66.67 | Prec:  54.55 | Rec:  85.71 || Ex/s: 471.48\n",
            "\n",
            "---------------------\n",
            "\n",
            "===>  TRAIN Epoch 12\n"
          ]
        },
        {
          "output_type": "stream",
          "name": "stderr",
          "text": [
            "0% [█] 100% | ETA: 00:00:00\n",
            "Total time elapsed: 00:00:00\n"
          ]
        },
        {
          "output_type": "stream",
          "name": "stdout",
          "text": [
            "Finished Epoch 12 || Run Time:    0.6 | Load Time:    0.3 || F1:  88.89 | Prec:  80.00 | Rec: 100.00 || Ex/s: 321.77\n",
            "\n",
            "===>  EVAL Epoch 12\n",
            "Finished Epoch 12 || Run Time:    0.1 | Load Time:    0.1 || F1:  68.57 | Prec:  57.14 | Rec:  85.71 || Ex/s: 469.20\n",
            "\n",
            "* Best F1: tensor(68.5714, device='cuda:0')\n",
            "Saving best model...\n",
            "Done.\n",
            "---------------------\n",
            "\n",
            "===>  TRAIN Epoch 13\n"
          ]
        },
        {
          "output_type": "stream",
          "name": "stderr",
          "text": [
            "0% [█] 100% | ETA: 00:00:00\n",
            "Total time elapsed: 00:00:00\n"
          ]
        },
        {
          "output_type": "stream",
          "name": "stdout",
          "text": [
            "Finished Epoch 13 || Run Time:    0.6 | Load Time:    0.3 || F1:  89.89 | Prec:  81.63 | Rec: 100.00 || Ex/s: 314.04\n",
            "\n",
            "===>  EVAL Epoch 13\n",
            "Finished Epoch 13 || Run Time:    0.1 | Load Time:    0.1 || F1:  68.57 | Prec:  57.14 | Rec:  85.71 || Ex/s: 459.63\n",
            "\n",
            "---------------------\n",
            "\n",
            "===>  TRAIN Epoch 14\n"
          ]
        },
        {
          "output_type": "stream",
          "name": "stderr",
          "text": [
            "0% [█] 100% | ETA: 00:00:00\n",
            "Total time elapsed: 00:00:00\n"
          ]
        },
        {
          "output_type": "stream",
          "name": "stdout",
          "text": [
            "Finished Epoch 14 || Run Time:    0.6 | Load Time:    0.3 || F1:  90.91 | Prec:  83.33 | Rec: 100.00 || Ex/s: 321.70\n",
            "\n",
            "===>  EVAL Epoch 14\n",
            "Finished Epoch 14 || Run Time:    0.1 | Load Time:    0.1 || F1:  64.71 | Prec:  55.00 | Rec:  78.57 || Ex/s: 478.77\n",
            "\n",
            "---------------------\n",
            "\n",
            "===>  TRAIN Epoch 15\n"
          ]
        },
        {
          "output_type": "stream",
          "name": "stderr",
          "text": [
            "0% [█] 100% | ETA: 00:00:00\n",
            "Total time elapsed: 00:00:00\n"
          ]
        },
        {
          "output_type": "stream",
          "name": "stdout",
          "text": [
            "Finished Epoch 15 || Run Time:    0.6 | Load Time:    0.3 || F1:  93.02 | Prec:  86.96 | Rec: 100.00 || Ex/s: 320.54\n",
            "\n",
            "===>  EVAL Epoch 15\n",
            "Finished Epoch 15 || Run Time:    0.1 | Load Time:    0.1 || F1:  64.71 | Prec:  55.00 | Rec:  78.57 || Ex/s: 469.10\n",
            "\n",
            "---------------------\n",
            "\n",
            "Loading best model...\n",
            "Training done.\n"
          ]
        },
        {
          "output_type": "execute_result",
          "data": {
            "text/plain": [
              "tensor(68.5714, device='cuda:0')"
            ]
          },
          "metadata": {},
          "execution_count": 21
        }
      ],
      "source": [
        "model.run_train(\n",
        "    train,\n",
        "    validation,\n",
        "    epochs=15,\n",
        "    batch_size=32,\n",
        "    best_save_path='attention_model.pth',\n",
        "    pos_neg_ratio=3)"
      ]
    },
    {
      "cell_type": "code",
      "execution_count": null,
      "metadata": {
        "id": "D9NtoTG-75CE",
        "colab": {
          "base_uri": "https://localhost:8080/"
        },
        "outputId": "7df1b67e-28c0-4650-d05a-70ce3f3e88a3"
      },
      "outputs": [
        {
          "output_type": "stream",
          "name": "stdout",
          "text": [
            "===>  EVAL Epoch 12\n"
          ]
        },
        {
          "output_type": "stream",
          "name": "stderr",
          "text": [
            "/usr/local/lib/python3.7/dist-packages/torch/nn/modules/module.py:974: UserWarning: Using a non-full backward hook when the forward contains multiple autograd Nodes is deprecated and will be removed in future versions. This hook will be missing some grad_input. Please use register_full_backward_hook to get the documented behavior.\n",
            "  warnings.warn(\"Using a non-full backward hook when the forward contains multiple autograd Nodes \"\n",
            "/usr/local/lib/python3.7/dist-packages/torch/nn/modules/module.py:949: UserWarning: Using non-full backward hooks on a Module that does not take as input a single Tensor or a tuple of Tensors is deprecated and will be removed in future versions. This hook will be missing some of the grad_input. Please use register_full_backward_hook to get the documented behavior.\n",
            "  warnings.warn(\"Using non-full backward hooks on a Module that does not take as input a \"\n",
            "/usr/local/lib/python3.7/dist-packages/torch/nn/modules/module.py:939: UserWarning: Using non-full backward hooks on a Module that does not return a single Tensor or a tuple of Tensors is deprecated and will be removed in future versions. This hook will be missing some of the grad_output. Please use register_full_backward_hook to get the documented behavior.\n",
            "  warnings.warn(\"Using non-full backward hooks on a Module that does not return a \"\n"
          ]
        },
        {
          "output_type": "stream",
          "name": "stdout",
          "text": [
            "Finished Epoch 12 || Run Time:    0.1 | Load Time:    0.1 || F1:  61.11 | Prec:  50.00 | Rec:  78.57 || Ex/s: 435.10\n",
            "\n"
          ]
        },
        {
          "output_type": "execute_result",
          "data": {
            "text/plain": [
              "tensor(61.1111, device='cuda:0')"
            ]
          },
          "metadata": {},
          "execution_count": 22
        }
      ],
      "source": [
        "# Compute F1 on test set\n",
        "model.run_eval(test)"
      ]
    },
    {
      "cell_type": "markdown",
      "metadata": {
        "id": "MW-N7Bz875CF"
      },
      "source": [
        "##### DBLP-ACM"
      ]
    },
    {
      "cell_type": "code",
      "execution_count": null,
      "metadata": {
        "id": "P8k054gm75CF"
      },
      "outputs": [],
      "source": [
        "train, validation, test = dm.data.process(\n",
        "    path='/content/IC/datasesErros/AADatasets/Structured/DBLP-ACM/',\n",
        "    train='joined_train.csv',\n",
        "    validation='joined_valid.csv',\n",
        "    test='joined_test.csv')"
      ]
    },
    {
      "cell_type": "code",
      "execution_count": null,
      "metadata": {
        "id": "jpHADlZW75CF"
      },
      "outputs": [],
      "source": [
        "model = dm.MatchingModel(attr_summarizer='attention')"
      ]
    },
    {
      "cell_type": "code",
      "execution_count": null,
      "metadata": {
        "id": "T8os-EXZ75CG",
        "colab": {
          "base_uri": "https://localhost:8080/"
        },
        "outputId": "56743b93-0e29-48a4-e3dc-16fb9b55a3ad"
      },
      "outputs": [
        {
          "output_type": "stream",
          "name": "stdout",
          "text": [
            "* Number of trainable parameters: 4332002\n",
            "===>  TRAIN Epoch 1\n"
          ]
        },
        {
          "output_type": "stream",
          "name": "stderr",
          "text": [
            "/usr/local/lib/python3.7/dist-packages/torch/nn/modules/module.py:974: UserWarning: Using a non-full backward hook when the forward contains multiple autograd Nodes is deprecated and will be removed in future versions. This hook will be missing some grad_input. Please use register_full_backward_hook to get the documented behavior.\n",
            "  warnings.warn(\"Using a non-full backward hook when the forward contains multiple autograd Nodes \"\n",
            "/usr/local/lib/python3.7/dist-packages/torch/nn/modules/module.py:949: UserWarning: Using non-full backward hooks on a Module that does not take as input a single Tensor or a tuple of Tensors is deprecated and will be removed in future versions. This hook will be missing some of the grad_input. Please use register_full_backward_hook to get the documented behavior.\n",
            "  warnings.warn(\"Using non-full backward hooks on a Module that does not take as input a \"\n",
            "/usr/local/lib/python3.7/dist-packages/torch/nn/modules/module.py:939: UserWarning: Using non-full backward hooks on a Module that does not return a single Tensor or a tuple of Tensors is deprecated and will be removed in future versions. This hook will be missing some of the grad_output. Please use register_full_backward_hook to get the documented behavior.\n",
            "  warnings.warn(\"Using non-full backward hooks on a Module that does not return a \"\n",
            "/usr/local/lib/python3.7/dist-packages/torch/nn/functional.py:2742: UserWarning: reduction: 'mean' divides the total loss by both the batch size and the support size.'batchmean' divides only by the batch size, and aligns with the KL div math definition.'mean' will be changed to behave the same as 'batchmean' in the next major release.\n",
            "  \"reduction: 'mean' divides the total loss by both the batch size and the support size.\"\n",
            "0% [██████████████████████████████] 100% | ETA: 00:00:00\n",
            "Total time elapsed: 00:00:25\n"
          ]
        },
        {
          "output_type": "stream",
          "name": "stdout",
          "text": [
            "Finished Epoch 1 || Run Time:   15.4 | Load Time:   10.4 || F1:  84.59 | Prec:  79.43 | Rec:  90.47 || Ex/s: 287.41\n",
            "\n",
            "===>  EVAL Epoch 1\n"
          ]
        },
        {
          "output_type": "stream",
          "name": "stderr",
          "text": [
            "0% [███████████████] 100% | ETA: 00:00:00\n",
            "Total time elapsed: 00:00:06\n"
          ]
        },
        {
          "output_type": "stream",
          "name": "stdout",
          "text": [
            "Finished Epoch 1 || Run Time:    3.0 | Load Time:    3.3 || F1:  93.67 | Prec:  88.10 | Rec: 100.00 || Ex/s: 388.58\n",
            "\n",
            "* Best F1: tensor(93.6709, device='cuda:0')\n",
            "Saving best model...\n",
            "Done.\n",
            "---------------------\n",
            "\n",
            "===>  TRAIN Epoch 2\n"
          ]
        },
        {
          "output_type": "stream",
          "name": "stderr",
          "text": [
            "0% [██████████████████████████████] 100% | ETA: 00:00:00\n",
            "Total time elapsed: 00:00:25\n"
          ]
        },
        {
          "output_type": "stream",
          "name": "stdout",
          "text": [
            "Finished Epoch 2 || Run Time:   15.6 | Load Time:   10.4 || F1:  97.57 | Prec:  95.87 | Rec:  99.32 || Ex/s: 284.95\n",
            "\n",
            "===>  EVAL Epoch 2\n"
          ]
        },
        {
          "output_type": "stream",
          "name": "stderr",
          "text": [
            "0% [███████████████] 100% | ETA: 00:00:00\n",
            "Total time elapsed: 00:00:06\n"
          ]
        },
        {
          "output_type": "stream",
          "name": "stdout",
          "text": [
            "Finished Epoch 2 || Run Time:    3.0 | Load Time:    3.3 || F1:  98.11 | Prec:  96.72 | Rec:  99.55 || Ex/s: 389.43\n",
            "\n",
            "* Best F1: tensor(98.1132, device='cuda:0')\n",
            "Saving best model...\n",
            "Done.\n",
            "---------------------\n",
            "\n",
            "===>  TRAIN Epoch 3\n"
          ]
        },
        {
          "output_type": "stream",
          "name": "stderr",
          "text": [
            "0% [██████████████████████████████] 100% | ETA: 00:00:00\n",
            "Total time elapsed: 00:00:26\n"
          ]
        },
        {
          "output_type": "stream",
          "name": "stdout",
          "text": [
            "Finished Epoch 3 || Run Time:   15.8 | Load Time:   10.6 || F1:  98.59 | Prec:  97.50 | Rec:  99.70 || Ex/s: 280.92\n",
            "\n",
            "===>  EVAL Epoch 3\n"
          ]
        },
        {
          "output_type": "stream",
          "name": "stderr",
          "text": [
            "0% [███████████████] 100% | ETA: 00:00:00\n",
            "Total time elapsed: 00:00:06\n"
          ]
        },
        {
          "output_type": "stream",
          "name": "stdout",
          "text": [
            "Finished Epoch 3 || Run Time:    3.0 | Load Time:    3.3 || F1:  98.66 | Prec:  97.79 | Rec:  99.55 || Ex/s: 390.16\n",
            "\n",
            "* Best F1: tensor(98.6607, device='cuda:0')\n",
            "Saving best model...\n",
            "Done.\n",
            "---------------------\n",
            "\n",
            "===>  TRAIN Epoch 4\n"
          ]
        },
        {
          "output_type": "stream",
          "name": "stderr",
          "text": [
            "0% [██████████████████████████████] 100% | ETA: 00:00:00\n",
            "Total time elapsed: 00:00:25\n"
          ]
        },
        {
          "output_type": "stream",
          "name": "stdout",
          "text": [
            "Finished Epoch 4 || Run Time:   15.4 | Load Time:   10.4 || F1:  98.70 | Prec:  97.72 | Rec:  99.70 || Ex/s: 287.33\n",
            "\n",
            "===>  EVAL Epoch 4\n"
          ]
        },
        {
          "output_type": "stream",
          "name": "stderr",
          "text": [
            "0% [███████████████] 100% | ETA: 00:00:00\n",
            "Total time elapsed: 00:00:06\n"
          ]
        },
        {
          "output_type": "stream",
          "name": "stdout",
          "text": [
            "Finished Epoch 4 || Run Time:    3.0 | Load Time:    3.3 || F1:  98.44 | Prec:  97.57 | Rec:  99.32 || Ex/s: 389.03\n",
            "\n",
            "---------------------\n",
            "\n",
            "===>  TRAIN Epoch 5\n"
          ]
        },
        {
          "output_type": "stream",
          "name": "stderr",
          "text": [
            "0% [██████████████████████████████] 100% | ETA: 00:00:00\n",
            "Total time elapsed: 00:00:25\n"
          ]
        },
        {
          "output_type": "stream",
          "name": "stdout",
          "text": [
            "Finished Epoch 5 || Run Time:   15.5 | Load Time:   10.4 || F1:  98.77 | Prec:  97.79 | Rec:  99.77 || Ex/s: 286.34\n",
            "\n",
            "===>  EVAL Epoch 5\n"
          ]
        },
        {
          "output_type": "stream",
          "name": "stderr",
          "text": [
            "0% [███████████████] 100% | ETA: 00:00:00\n",
            "Total time elapsed: 00:00:06\n"
          ]
        },
        {
          "output_type": "stream",
          "name": "stdout",
          "text": [
            "Finished Epoch 5 || Run Time:    3.0 | Load Time:    3.3 || F1:  98.55 | Prec:  97.57 | Rec:  99.55 || Ex/s: 388.72\n",
            "\n",
            "---------------------\n",
            "\n",
            "===>  TRAIN Epoch 6\n"
          ]
        },
        {
          "output_type": "stream",
          "name": "stderr",
          "text": [
            "0% [██████████████████████████████] 100% | ETA: 00:00:00\n",
            "Total time elapsed: 00:00:26\n"
          ]
        },
        {
          "output_type": "stream",
          "name": "stdout",
          "text": [
            "Finished Epoch 6 || Run Time:   15.7 | Load Time:   10.6 || F1:  99.11 | Prec:  98.44 | Rec:  99.77 || Ex/s: 282.54\n",
            "\n",
            "===>  EVAL Epoch 6\n"
          ]
        },
        {
          "output_type": "stream",
          "name": "stderr",
          "text": [
            "0% [███████████████] 100% | ETA: 00:00:00\n",
            "Total time elapsed: 00:00:06\n"
          ]
        },
        {
          "output_type": "stream",
          "name": "stdout",
          "text": [
            "Finished Epoch 6 || Run Time:    3.0 | Load Time:    3.3 || F1:  98.66 | Prec:  98.00 | Rec:  99.32 || Ex/s: 389.54\n",
            "\n",
            "---------------------\n",
            "\n",
            "===>  TRAIN Epoch 7\n"
          ]
        },
        {
          "output_type": "stream",
          "name": "stderr",
          "text": [
            "0% [██████████████████████████████] 100% | ETA: 00:00:00\n",
            "Total time elapsed: 00:00:25\n"
          ]
        },
        {
          "output_type": "stream",
          "name": "stdout",
          "text": [
            "Finished Epoch 7 || Run Time:   15.4 | Load Time:   10.4 || F1:  99.14 | Prec:  98.45 | Rec:  99.85 || Ex/s: 287.36\n",
            "\n",
            "===>  EVAL Epoch 7\n"
          ]
        },
        {
          "output_type": "stream",
          "name": "stderr",
          "text": [
            "0% [███████████████] 100% | ETA: 00:00:00\n",
            "Total time elapsed: 00:00:06\n"
          ]
        },
        {
          "output_type": "stream",
          "name": "stdout",
          "text": [
            "Finished Epoch 7 || Run Time:    3.1 | Load Time:    3.3 || F1:  98.44 | Prec:  97.36 | Rec:  99.55 || Ex/s: 387.19\n",
            "\n",
            "---------------------\n",
            "\n",
            "===>  TRAIN Epoch 8\n"
          ]
        },
        {
          "output_type": "stream",
          "name": "stderr",
          "text": [
            "0% [██████████████████████████████] 100% | ETA: 00:00:00\n",
            "Total time elapsed: 00:00:25\n"
          ]
        },
        {
          "output_type": "stream",
          "name": "stdout",
          "text": [
            "Finished Epoch 8 || Run Time:   15.4 | Load Time:   10.4 || F1:  99.25 | Prec:  98.59 | Rec:  99.92 || Ex/s: 287.30\n",
            "\n",
            "===>  EVAL Epoch 8\n"
          ]
        },
        {
          "output_type": "stream",
          "name": "stderr",
          "text": [
            "0% [███████████████] 100% | ETA: 00:00:00\n",
            "Total time elapsed: 00:00:06\n"
          ]
        },
        {
          "output_type": "stream",
          "name": "stdout",
          "text": [
            "Finished Epoch 8 || Run Time:    3.3 | Load Time:    3.6 || F1:  98.66 | Prec:  97.79 | Rec:  99.55 || Ex/s: 361.77\n",
            "\n",
            "---------------------\n",
            "\n",
            "===>  TRAIN Epoch 9\n"
          ]
        },
        {
          "output_type": "stream",
          "name": "stderr",
          "text": [
            "0% [██████████████████████████████] 100% | ETA: 00:00:00\n",
            "Total time elapsed: 00:00:25\n"
          ]
        },
        {
          "output_type": "stream",
          "name": "stdout",
          "text": [
            "Finished Epoch 9 || Run Time:   15.3 | Load Time:   10.4 || F1:  99.29 | Prec:  98.67 | Rec:  99.92 || Ex/s: 288.28\n",
            "\n",
            "===>  EVAL Epoch 9\n"
          ]
        },
        {
          "output_type": "stream",
          "name": "stderr",
          "text": [
            "0% [███████████████] 100% | ETA: 00:00:00\n",
            "Total time elapsed: 00:00:06\n"
          ]
        },
        {
          "output_type": "stream",
          "name": "stdout",
          "text": [
            "Finished Epoch 9 || Run Time:    3.1 | Load Time:    3.3 || F1:  98.55 | Prec:  97.36 | Rec:  99.77 || Ex/s: 387.51\n",
            "\n",
            "---------------------\n",
            "\n",
            "===>  TRAIN Epoch 10\n"
          ]
        },
        {
          "output_type": "stream",
          "name": "stderr",
          "text": [
            "0% [██████████████████████████████] 100% | ETA: 00:00:00\n",
            "Total time elapsed: 00:00:25\n"
          ]
        },
        {
          "output_type": "stream",
          "name": "stdout",
          "text": [
            "Finished Epoch 10 || Run Time:   15.4 | Load Time:   10.4 || F1:  99.29 | Prec:  98.67 | Rec:  99.92 || Ex/s: 287.34\n",
            "\n",
            "===>  EVAL Epoch 10\n"
          ]
        },
        {
          "output_type": "stream",
          "name": "stderr",
          "text": [
            "0% [███████████████] 100% | ETA: 00:00:00\n",
            "Total time elapsed: 00:00:06\n"
          ]
        },
        {
          "output_type": "stream",
          "name": "stdout",
          "text": [
            "Finished Epoch 10 || Run Time:    3.0 | Load Time:    3.3 || F1:  98.55 | Prec:  97.36 | Rec:  99.77 || Ex/s: 389.00\n",
            "\n",
            "---------------------\n",
            "\n",
            "===>  TRAIN Epoch 11\n"
          ]
        },
        {
          "output_type": "stream",
          "name": "stderr",
          "text": [
            "0% [██████████████████████████████] 100% | ETA: 00:00:00\n",
            "Total time elapsed: 00:00:25\n"
          ]
        },
        {
          "output_type": "stream",
          "name": "stdout",
          "text": [
            "Finished Epoch 11 || Run Time:   15.7 | Load Time:   10.5 || F1:  99.37 | Prec:  98.74 | Rec: 100.00 || Ex/s: 282.60\n",
            "\n",
            "===>  EVAL Epoch 11\n"
          ]
        },
        {
          "output_type": "stream",
          "name": "stderr",
          "text": [
            "0% [███████████████] 100% | ETA: 00:00:00\n",
            "Total time elapsed: 00:00:06\n"
          ]
        },
        {
          "output_type": "stream",
          "name": "stdout",
          "text": [
            "Finished Epoch 11 || Run Time:    3.1 | Load Time:    3.3 || F1:  98.55 | Prec:  97.36 | Rec:  99.77 || Ex/s: 387.01\n",
            "\n",
            "---------------------\n",
            "\n",
            "===>  TRAIN Epoch 12\n"
          ]
        },
        {
          "output_type": "stream",
          "name": "stderr",
          "text": [
            "0% [██████████████████████████████] 100% | ETA: 00:00:00\n",
            "Total time elapsed: 00:00:25\n"
          ]
        },
        {
          "output_type": "stream",
          "name": "stdout",
          "text": [
            "Finished Epoch 12 || Run Time:   15.4 | Load Time:   10.4 || F1:  99.37 | Prec:  98.74 | Rec: 100.00 || Ex/s: 287.46\n",
            "\n",
            "===>  EVAL Epoch 12\n"
          ]
        },
        {
          "output_type": "stream",
          "name": "stderr",
          "text": [
            "0% [███████████████] 100% | ETA: 00:00:00\n",
            "Total time elapsed: 00:00:06\n"
          ]
        },
        {
          "output_type": "stream",
          "name": "stdout",
          "text": [
            "Finished Epoch 12 || Run Time:    3.0 | Load Time:    3.3 || F1:  98.55 | Prec:  97.36 | Rec:  99.77 || Ex/s: 389.89\n",
            "\n",
            "---------------------\n",
            "\n",
            "===>  TRAIN Epoch 13\n"
          ]
        },
        {
          "output_type": "stream",
          "name": "stderr",
          "text": [
            "0% [██████████████████████████████] 100% | ETA: 00:00:00\n",
            "Total time elapsed: 00:00:25\n"
          ]
        },
        {
          "output_type": "stream",
          "name": "stdout",
          "text": [
            "Finished Epoch 13 || Run Time:   15.4 | Load Time:   10.4 || F1:  99.37 | Prec:  98.74 | Rec: 100.00 || Ex/s: 288.25\n",
            "\n",
            "===>  EVAL Epoch 13\n"
          ]
        },
        {
          "output_type": "stream",
          "name": "stderr",
          "text": [
            "0% [███████████████] 100% | ETA: 00:00:00\n",
            "Total time elapsed: 00:00:06\n"
          ]
        },
        {
          "output_type": "stream",
          "name": "stdout",
          "text": [
            "Finished Epoch 13 || Run Time:    3.0 | Load Time:    3.3 || F1:  98.66 | Prec:  97.58 | Rec:  99.77 || Ex/s: 388.55\n",
            "\n",
            "* Best F1: tensor(98.6637, device='cuda:0')\n",
            "Saving best model...\n",
            "Done.\n",
            "---------------------\n",
            "\n",
            "===>  TRAIN Epoch 14\n"
          ]
        },
        {
          "output_type": "stream",
          "name": "stderr",
          "text": [
            "0% [██████████████████████████████] 100% | ETA: 00:00:00\n",
            "Total time elapsed: 00:00:26\n"
          ]
        },
        {
          "output_type": "stream",
          "name": "stdout",
          "text": [
            "Finished Epoch 14 || Run Time:   15.6 | Load Time:   10.6 || F1:  99.37 | Prec:  98.74 | Rec: 100.00 || Ex/s: 282.52\n",
            "\n",
            "===>  EVAL Epoch 14\n"
          ]
        },
        {
          "output_type": "stream",
          "name": "stderr",
          "text": [
            "0% [███████████████] 100% | ETA: 00:00:00\n",
            "Total time elapsed: 00:00:06\n"
          ]
        },
        {
          "output_type": "stream",
          "name": "stdout",
          "text": [
            "Finished Epoch 14 || Run Time:    3.0 | Load Time:    3.4 || F1:  98.66 | Prec:  97.58 | Rec:  99.77 || Ex/s: 385.87\n",
            "\n",
            "---------------------\n",
            "\n",
            "===>  TRAIN Epoch 15\n"
          ]
        },
        {
          "output_type": "stream",
          "name": "stderr",
          "text": [
            "0% [██████████████████████████████] 100% | ETA: 00:00:00\n",
            "Total time elapsed: 00:00:25\n"
          ]
        },
        {
          "output_type": "stream",
          "name": "stdout",
          "text": [
            "Finished Epoch 15 || Run Time:   15.4 | Load Time:   10.4 || F1:  99.40 | Prec:  98.81 | Rec: 100.00 || Ex/s: 287.68\n",
            "\n",
            "===>  EVAL Epoch 15\n"
          ]
        },
        {
          "output_type": "stream",
          "name": "stderr",
          "text": [
            "0% [███████████████] 100% | ETA: 00:00:00\n",
            "Total time elapsed: 00:00:06\n"
          ]
        },
        {
          "output_type": "stream",
          "name": "stdout",
          "text": [
            "Finished Epoch 15 || Run Time:    3.0 | Load Time:    3.3 || F1:  98.66 | Prec:  97.58 | Rec:  99.77 || Ex/s: 390.95\n",
            "\n",
            "---------------------\n",
            "\n",
            "Loading best model...\n",
            "Training done.\n"
          ]
        },
        {
          "output_type": "execute_result",
          "data": {
            "text/plain": [
              "tensor(98.6637, device='cuda:0')"
            ]
          },
          "metadata": {},
          "execution_count": 25
        }
      ],
      "source": [
        "model.run_train(\n",
        "    train,\n",
        "    validation,\n",
        "    epochs=15,\n",
        "    batch_size=32,\n",
        "    best_save_path='attention_model.pth',\n",
        "    pos_neg_ratio=3)"
      ]
    },
    {
      "cell_type": "code",
      "execution_count": null,
      "metadata": {
        "id": "3B2XhW6B75CG",
        "colab": {
          "base_uri": "https://localhost:8080/"
        },
        "outputId": "477086bb-12f0-4c3d-b946-9f228b14603e"
      },
      "outputs": [
        {
          "output_type": "stream",
          "name": "stdout",
          "text": [
            "===>  EVAL Epoch 13\n"
          ]
        },
        {
          "output_type": "stream",
          "name": "stderr",
          "text": [
            "/usr/local/lib/python3.7/dist-packages/torch/nn/modules/module.py:974: UserWarning: Using a non-full backward hook when the forward contains multiple autograd Nodes is deprecated and will be removed in future versions. This hook will be missing some grad_input. Please use register_full_backward_hook to get the documented behavior.\n",
            "  warnings.warn(\"Using a non-full backward hook when the forward contains multiple autograd Nodes \"\n",
            "/usr/local/lib/python3.7/dist-packages/torch/nn/modules/module.py:949: UserWarning: Using non-full backward hooks on a Module that does not take as input a single Tensor or a tuple of Tensors is deprecated and will be removed in future versions. This hook will be missing some of the grad_input. Please use register_full_backward_hook to get the documented behavior.\n",
            "  warnings.warn(\"Using non-full backward hooks on a Module that does not take as input a \"\n",
            "/usr/local/lib/python3.7/dist-packages/torch/nn/modules/module.py:939: UserWarning: Using non-full backward hooks on a Module that does not return a single Tensor or a tuple of Tensors is deprecated and will be removed in future versions. This hook will be missing some of the grad_output. Please use register_full_backward_hook to get the documented behavior.\n",
            "  warnings.warn(\"Using non-full backward hooks on a Module that does not return a \"\n",
            "0% [███████████████] 100% | ETA: 00:00:00\n",
            "Total time elapsed: 00:00:06\n"
          ]
        },
        {
          "output_type": "stream",
          "name": "stdout",
          "text": [
            "Finished Epoch 13 || Run Time:    3.1 | Load Time:    3.3 || F1:  98.32 | Prec:  97.56 | Rec:  99.10 || Ex/s: 386.99\n",
            "\n"
          ]
        },
        {
          "output_type": "execute_result",
          "data": {
            "text/plain": [
              "tensor(98.3240, device='cuda:0')"
            ]
          },
          "metadata": {},
          "execution_count": 26
        }
      ],
      "source": [
        "# Compute F1 on test set\n",
        "model.run_eval(test)"
      ]
    },
    {
      "cell_type": "markdown",
      "metadata": {
        "id": "tkJLs_1s75CH"
      },
      "source": [
        "##### DBLP-GoogleScholar"
      ]
    },
    {
      "cell_type": "code",
      "execution_count": null,
      "metadata": {
        "id": "uEwXVgX275CH"
      },
      "outputs": [],
      "source": [
        "train, validation, test = dm.data.process(\n",
        "    path='/content/IC/datasesErros/AADatasets/Structured/DBLP-GoogleScholar/',\n",
        "    train='joined_train.csv',\n",
        "    validation='joined_valid.csv',\n",
        "    test='joined_test.csv')"
      ]
    },
    {
      "cell_type": "code",
      "execution_count": null,
      "metadata": {
        "id": "yYE_vLX575CH"
      },
      "outputs": [],
      "source": [
        "model = dm.MatchingModel(attr_summarizer='attention')"
      ]
    },
    {
      "cell_type": "code",
      "execution_count": null,
      "metadata": {
        "id": "P-eJnIJW75CI",
        "colab": {
          "base_uri": "https://localhost:8080/"
        },
        "outputId": "190804a6-9f49-4623-a47b-5a2ac13be57c"
      },
      "outputs": [
        {
          "output_type": "stream",
          "name": "stdout",
          "text": [
            "* Number of trainable parameters: 4332002\n",
            "===>  TRAIN Epoch 1\n"
          ]
        },
        {
          "output_type": "stream",
          "name": "stderr",
          "text": [
            "/usr/local/lib/python3.7/dist-packages/torch/nn/modules/module.py:974: UserWarning: Using a non-full backward hook when the forward contains multiple autograd Nodes is deprecated and will be removed in future versions. This hook will be missing some grad_input. Please use register_full_backward_hook to get the documented behavior.\n",
            "  warnings.warn(\"Using a non-full backward hook when the forward contains multiple autograd Nodes \"\n",
            "/usr/local/lib/python3.7/dist-packages/torch/nn/modules/module.py:949: UserWarning: Using non-full backward hooks on a Module that does not take as input a single Tensor or a tuple of Tensors is deprecated and will be removed in future versions. This hook will be missing some of the grad_input. Please use register_full_backward_hook to get the documented behavior.\n",
            "  warnings.warn(\"Using non-full backward hooks on a Module that does not take as input a \"\n",
            "/usr/local/lib/python3.7/dist-packages/torch/nn/modules/module.py:939: UserWarning: Using non-full backward hooks on a Module that does not return a single Tensor or a tuple of Tensors is deprecated and will be removed in future versions. This hook will be missing some of the grad_output. Please use register_full_backward_hook to get the documented behavior.\n",
            "  warnings.warn(\"Using non-full backward hooks on a Module that does not return a \"\n",
            "/usr/local/lib/python3.7/dist-packages/torch/nn/functional.py:2742: UserWarning: reduction: 'mean' divides the total loss by both the batch size and the support size.'batchmean' divides only by the batch size, and aligns with the KL div math definition.'mean' will be changed to behave the same as 'batchmean' in the next major release.\n",
            "  \"reduction: 'mean' divides the total loss by both the batch size and the support size.\"\n",
            "0% [██████████████████████████████] 100% | ETA: 00:00:00\n",
            "Total time elapsed: 00:00:56\n"
          ]
        },
        {
          "output_type": "stream",
          "name": "stdout",
          "text": [
            "Finished Epoch 1 || Run Time:   35.1 | Load Time:   21.8 || F1:  83.45 | Prec:  76.69 | Rec:  91.52 || Ex/s: 303.02\n",
            "\n",
            "===>  EVAL Epoch 1\n"
          ]
        },
        {
          "output_type": "stream",
          "name": "stderr",
          "text": [
            "0% [██████████████████████████████] 100% | ETA: 00:00:00\n",
            "Total time elapsed: 00:00:13\n"
          ]
        },
        {
          "output_type": "stream",
          "name": "stdout",
          "text": [
            "Finished Epoch 1 || Run Time:    6.9 | Load Time:    6.7 || F1:  91.04 | Prec:  86.66 | Rec:  95.89 || Ex/s: 421.10\n",
            "\n",
            "* Best F1: tensor(91.0382, device='cuda:0')\n",
            "Saving best model...\n",
            "Done.\n",
            "---------------------\n",
            "\n",
            "===>  TRAIN Epoch 2\n"
          ]
        },
        {
          "output_type": "stream",
          "name": "stderr",
          "text": [
            "0% [██████████████████████████████] 100% | ETA: 00:00:00\n",
            "Total time elapsed: 00:00:56\n"
          ]
        },
        {
          "output_type": "stream",
          "name": "stdout",
          "text": [
            "Finished Epoch 2 || Run Time:   35.0 | Load Time:   21.8 || F1:  93.34 | Prec:  89.57 | Rec:  97.44 || Ex/s: 303.12\n",
            "\n",
            "===>  EVAL Epoch 2\n"
          ]
        },
        {
          "output_type": "stream",
          "name": "stderr",
          "text": [
            "0% [██████████████████████████████] 100% | ETA: 00:00:00\n",
            "Total time elapsed: 00:00:13\n"
          ]
        },
        {
          "output_type": "stream",
          "name": "stdout",
          "text": [
            "Finished Epoch 2 || Run Time:    6.9 | Load Time:    6.6 || F1:  92.69 | Prec:  89.13 | Rec:  96.54 || Ex/s: 425.39\n",
            "\n",
            "* Best F1: tensor(92.6873, device='cuda:0')\n",
            "Saving best model...\n",
            "Done.\n",
            "---------------------\n",
            "\n",
            "===>  TRAIN Epoch 3\n"
          ]
        },
        {
          "output_type": "stream",
          "name": "stderr",
          "text": [
            "0% [██████████████████████████████] 100% | ETA: 00:00:00\n",
            "Total time elapsed: 00:00:56\n"
          ]
        },
        {
          "output_type": "stream",
          "name": "stdout",
          "text": [
            "Finished Epoch 3 || Run Time:   35.0 | Load Time:   21.7 || F1:  95.76 | Prec:  93.39 | Rec:  98.25 || Ex/s: 303.59\n",
            "\n",
            "===>  EVAL Epoch 3\n"
          ]
        },
        {
          "output_type": "stream",
          "name": "stderr",
          "text": [
            "0% [██████████████████████████████] 100% | ETA: 00:00:00\n",
            "Total time elapsed: 00:00:13\n"
          ]
        },
        {
          "output_type": "stream",
          "name": "stdout",
          "text": [
            "Finished Epoch 3 || Run Time:    6.9 | Load Time:    6.7 || F1:  92.04 | Prec:  87.33 | Rec:  97.29 || Ex/s: 423.77\n",
            "\n",
            "---------------------\n",
            "\n",
            "===>  TRAIN Epoch 4\n"
          ]
        },
        {
          "output_type": "stream",
          "name": "stderr",
          "text": [
            "0% [██████████████████████████████] 100% | ETA: 00:00:00\n",
            "Total time elapsed: 00:00:55\n"
          ]
        },
        {
          "output_type": "stream",
          "name": "stdout",
          "text": [
            "Finished Epoch 4 || Run Time:   34.7 | Load Time:   21.4 || F1:  96.95 | Prec:  95.19 | Rec:  98.78 || Ex/s: 306.93\n",
            "\n",
            "===>  EVAL Epoch 4\n"
          ]
        },
        {
          "output_type": "stream",
          "name": "stderr",
          "text": [
            "0% [██████████████████████████████] 100% | ETA: 00:00:00\n",
            "Total time elapsed: 00:00:13\n"
          ]
        },
        {
          "output_type": "stream",
          "name": "stdout",
          "text": [
            "Finished Epoch 4 || Run Time:    7.0 | Load Time:    6.8 || F1:  91.65 | Prec:  87.31 | Rec:  96.45 || Ex/s: 413.93\n",
            "\n",
            "---------------------\n",
            "\n",
            "===>  TRAIN Epoch 5\n"
          ]
        },
        {
          "output_type": "stream",
          "name": "stderr",
          "text": [
            "0% [██████████████████████████████] 100% | ETA: 00:00:00\n",
            "Total time elapsed: 00:00:55\n"
          ]
        },
        {
          "output_type": "stream",
          "name": "stdout",
          "text": [
            "Finished Epoch 5 || Run Time:   34.6 | Load Time:   21.6 || F1:  97.44 | Prec:  95.98 | Rec:  98.94 || Ex/s: 306.88\n",
            "\n",
            "===>  EVAL Epoch 5\n"
          ]
        },
        {
          "output_type": "stream",
          "name": "stderr",
          "text": [
            "0% [██████████████████████████████] 100% | ETA: 00:00:00\n",
            "Total time elapsed: 00:00:13\n"
          ]
        },
        {
          "output_type": "stream",
          "name": "stdout",
          "text": [
            "Finished Epoch 5 || Run Time:    6.8 | Load Time:    6.7 || F1:  92.85 | Prec:  89.51 | Rec:  96.45 || Ex/s: 424.49\n",
            "\n",
            "* Best F1: tensor(92.8475, device='cuda:0')\n",
            "Saving best model...\n",
            "Done.\n",
            "---------------------\n",
            "\n",
            "===>  TRAIN Epoch 6\n"
          ]
        },
        {
          "output_type": "stream",
          "name": "stderr",
          "text": [
            "0% [██████████████████████████████] 100% | ETA: 00:00:00\n",
            "Total time elapsed: 00:00:56\n"
          ]
        },
        {
          "output_type": "stream",
          "name": "stdout",
          "text": [
            "Finished Epoch 6 || Run Time:   34.9 | Load Time:   21.7 || F1:  98.07 | Prec:  97.07 | Rec:  99.10 || Ex/s: 304.30\n",
            "\n",
            "===>  EVAL Epoch 6\n"
          ]
        },
        {
          "output_type": "stream",
          "name": "stderr",
          "text": [
            "0% [██████████████████████████████] 100% | ETA: 00:00:00\n",
            "Total time elapsed: 00:00:13\n"
          ]
        },
        {
          "output_type": "stream",
          "name": "stdout",
          "text": [
            "Finished Epoch 6 || Run Time:    6.8 | Load Time:    6.6 || F1:  93.84 | Prec:  93.75 | Rec:  93.93 || Ex/s: 425.86\n",
            "\n",
            "* Best F1: tensor(93.8375, device='cuda:0')\n",
            "Saving best model...\n",
            "Done.\n",
            "---------------------\n",
            "\n",
            "===>  TRAIN Epoch 7\n"
          ]
        },
        {
          "output_type": "stream",
          "name": "stderr",
          "text": [
            "0% [██████████████████████████████] 100% | ETA: 00:00:00\n",
            "Total time elapsed: 00:00:56\n"
          ]
        },
        {
          "output_type": "stream",
          "name": "stdout",
          "text": [
            "Finished Epoch 7 || Run Time:   34.8 | Load Time:   21.7 || F1:  98.59 | Prec:  97.85 | Rec:  99.35 || Ex/s: 304.79\n",
            "\n",
            "===>  EVAL Epoch 7\n"
          ]
        },
        {
          "output_type": "stream",
          "name": "stderr",
          "text": [
            "0% [██████████████████████████████] 100% | ETA: 00:00:00\n",
            "Total time elapsed: 00:00:13\n"
          ]
        },
        {
          "output_type": "stream",
          "name": "stdout",
          "text": [
            "Finished Epoch 7 || Run Time:    6.8 | Load Time:    6.6 || F1:  94.03 | Prec:  94.61 | Rec:  93.46 || Ex/s: 425.59\n",
            "\n",
            "* Best F1: tensor(94.0292, device='cuda:0')\n",
            "Saving best model...\n",
            "Done.\n",
            "---------------------\n",
            "\n",
            "===>  TRAIN Epoch 8\n"
          ]
        },
        {
          "output_type": "stream",
          "name": "stderr",
          "text": [
            "0% [██████████████████████████████] 100% | ETA: 00:00:00\n",
            "Total time elapsed: 00:00:55\n"
          ]
        },
        {
          "output_type": "stream",
          "name": "stdout",
          "text": [
            "Finished Epoch 8 || Run Time:   34.8 | Load Time:   21.6 || F1:  99.08 | Prec:  98.61 | Rec:  99.56 || Ex/s: 305.27\n",
            "\n",
            "===>  EVAL Epoch 8\n"
          ]
        },
        {
          "output_type": "stream",
          "name": "stderr",
          "text": [
            "0% [██████████████████████████████] 100% | ETA: 00:00:00\n",
            "Total time elapsed: 00:00:13\n"
          ]
        },
        {
          "output_type": "stream",
          "name": "stdout",
          "text": [
            "Finished Epoch 8 || Run Time:    6.8 | Load Time:    6.7 || F1:  94.13 | Prec:  95.31 | Rec:  92.99 || Ex/s: 425.11\n",
            "\n",
            "* Best F1: tensor(94.1343, device='cuda:0')\n",
            "Saving best model...\n",
            "Done.\n",
            "---------------------\n",
            "\n",
            "===>  TRAIN Epoch 9\n"
          ]
        },
        {
          "output_type": "stream",
          "name": "stderr",
          "text": [
            "0% [██████████████████████████████] 100% | ETA: 00:00:00\n",
            "Total time elapsed: 00:00:55\n"
          ]
        },
        {
          "output_type": "stream",
          "name": "stdout",
          "text": [
            "Finished Epoch 9 || Run Time:   34.5 | Load Time:   21.5 || F1:  99.39 | Prec:  99.16 | Rec:  99.63 || Ex/s: 307.48\n",
            "\n",
            "===>  EVAL Epoch 9\n"
          ]
        },
        {
          "output_type": "stream",
          "name": "stderr",
          "text": [
            "0% [██████████████████████████████] 100% | ETA: 00:00:00\n",
            "Total time elapsed: 00:00:13\n"
          ]
        },
        {
          "output_type": "stream",
          "name": "stdout",
          "text": [
            "Finished Epoch 9 || Run Time:    6.8 | Load Time:    6.7 || F1:  94.47 | Prec:  95.60 | Rec:  93.36 || Ex/s: 426.00\n",
            "\n",
            "* Best F1: tensor(94.4681, device='cuda:0')\n",
            "Saving best model...\n",
            "Done.\n",
            "---------------------\n",
            "\n",
            "===>  TRAIN Epoch 10\n"
          ]
        },
        {
          "output_type": "stream",
          "name": "stderr",
          "text": [
            "0% [██████████████████████████████] 100% | ETA: 00:00:00\n",
            "Total time elapsed: 00:00:56\n"
          ]
        },
        {
          "output_type": "stream",
          "name": "stdout",
          "text": [
            "Finished Epoch 10 || Run Time:   35.1 | Load Time:   21.8 || F1:  99.42 | Prec:  99.22 | Rec:  99.63 || Ex/s: 302.98\n",
            "\n",
            "===>  EVAL Epoch 10\n"
          ]
        },
        {
          "output_type": "stream",
          "name": "stderr",
          "text": [
            "0% [██████████████████████████████] 100% | ETA: 00:00:00\n",
            "Total time elapsed: 00:00:13\n"
          ]
        },
        {
          "output_type": "stream",
          "name": "stdout",
          "text": [
            "Finished Epoch 10 || Run Time:    7.1 | Load Time:    6.7 || F1:  94.44 | Prec:  95.25 | Rec:  93.64 || Ex/s: 415.75\n",
            "\n",
            "---------------------\n",
            "\n",
            "===>  TRAIN Epoch 11\n"
          ]
        },
        {
          "output_type": "stream",
          "name": "stderr",
          "text": [
            "0% [██████████████████████████████] 100% | ETA: 00:00:00\n",
            "Total time elapsed: 00:00:56\n"
          ]
        },
        {
          "output_type": "stream",
          "name": "stdout",
          "text": [
            "Finished Epoch 11 || Run Time:   35.4 | Load Time:   21.8 || F1:  99.47 | Prec:  99.29 | Rec:  99.66 || Ex/s: 300.97\n",
            "\n",
            "===>  EVAL Epoch 11\n"
          ]
        },
        {
          "output_type": "stream",
          "name": "stderr",
          "text": [
            "0% [██████████████████████████████] 100% | ETA: 00:00:00\n",
            "Total time elapsed: 00:00:13\n"
          ]
        },
        {
          "output_type": "stream",
          "name": "stdout",
          "text": [
            "Finished Epoch 11 || Run Time:    6.9 | Load Time:    6.7 || F1:  94.45 | Prec:  94.99 | Rec:  93.93 || Ex/s: 423.10\n",
            "\n",
            "---------------------\n",
            "\n",
            "===>  TRAIN Epoch 12\n"
          ]
        },
        {
          "output_type": "stream",
          "name": "stderr",
          "text": [
            "0% [██████████████████████████████] 100% | ETA: 00:00:00\n",
            "Total time elapsed: 00:00:56\n"
          ]
        },
        {
          "output_type": "stream",
          "name": "stdout",
          "text": [
            "Finished Epoch 12 || Run Time:   34.9 | Load Time:   21.7 || F1:  99.53 | Prec:  99.38 | Rec:  99.69 || Ex/s: 304.07\n",
            "\n",
            "===>  EVAL Epoch 12\n"
          ]
        },
        {
          "output_type": "stream",
          "name": "stderr",
          "text": [
            "0% [██████████████████████████████] 100% | ETA: 00:00:00\n",
            "Total time elapsed: 00:00:13\n"
          ]
        },
        {
          "output_type": "stream",
          "name": "stdout",
          "text": [
            "Finished Epoch 12 || Run Time:    6.9 | Load Time:    6.7 || F1:  94.39 | Prec:  95.16 | Rec:  93.64 || Ex/s: 422.68\n",
            "\n",
            "---------------------\n",
            "\n",
            "===>  TRAIN Epoch 13\n"
          ]
        },
        {
          "output_type": "stream",
          "name": "stderr",
          "text": [
            "0% [██████████████████████████████] 100% | ETA: 00:00:00\n",
            "Total time elapsed: 00:00:56\n"
          ]
        },
        {
          "output_type": "stream",
          "name": "stdout",
          "text": [
            "Finished Epoch 13 || Run Time:   34.9 | Load Time:   21.7 || F1:  99.53 | Prec:  99.38 | Rec:  99.69 || Ex/s: 304.50\n",
            "\n",
            "===>  EVAL Epoch 13\n"
          ]
        },
        {
          "output_type": "stream",
          "name": "stderr",
          "text": [
            "0% [██████████████████████████████] 100% | ETA: 00:00:00\n",
            "Total time elapsed: 00:00:13\n"
          ]
        },
        {
          "output_type": "stream",
          "name": "stdout",
          "text": [
            "Finished Epoch 13 || Run Time:    6.8 | Load Time:    6.7 || F1:  94.19 | Prec:  95.22 | Rec:  93.18 || Ex/s: 425.12\n",
            "\n",
            "---------------------\n",
            "\n",
            "===>  TRAIN Epoch 14\n"
          ]
        },
        {
          "output_type": "stream",
          "name": "stderr",
          "text": [
            "0% [██████████████████████████████] 100% | ETA: 00:00:00\n",
            "Total time elapsed: 00:00:55\n"
          ]
        },
        {
          "output_type": "stream",
          "name": "stdout",
          "text": [
            "Finished Epoch 14 || Run Time:   34.7 | Load Time:   21.5 || F1:  99.60 | Prec:  99.41 | Rec:  99.78 || Ex/s: 306.47\n",
            "\n",
            "===>  EVAL Epoch 14\n"
          ]
        },
        {
          "output_type": "stream",
          "name": "stderr",
          "text": [
            "0% [██████████████████████████████] 100% | ETA: 00:00:00\n",
            "Total time elapsed: 00:00:13\n"
          ]
        },
        {
          "output_type": "stream",
          "name": "stdout",
          "text": [
            "Finished Epoch 14 || Run Time:    7.1 | Load Time:    6.9 || F1:  94.05 | Prec:  95.12 | Rec:  92.99 || Ex/s: 410.11\n",
            "\n",
            "---------------------\n",
            "\n",
            "===>  TRAIN Epoch 15\n"
          ]
        },
        {
          "output_type": "stream",
          "name": "stderr",
          "text": [
            "0% [██████████████████████████████] 100% | ETA: 00:00:00\n",
            "Total time elapsed: 00:00:55\n"
          ]
        },
        {
          "output_type": "stream",
          "name": "stdout",
          "text": [
            "Finished Epoch 15 || Run Time:   34.7 | Load Time:   21.6 || F1:  99.61 | Prec:  99.41 | Rec:  99.81 || Ex/s: 306.08\n",
            "\n",
            "===>  EVAL Epoch 15\n"
          ]
        },
        {
          "output_type": "stream",
          "name": "stderr",
          "text": [
            "0% [██████████████████████████████] 100% | ETA: 00:00:00\n",
            "Total time elapsed: 00:00:13\n"
          ]
        },
        {
          "output_type": "stream",
          "name": "stdout",
          "text": [
            "Finished Epoch 15 || Run Time:    6.8 | Load Time:    6.7 || F1:  94.03 | Prec:  95.30 | Rec:  92.80 || Ex/s: 425.18\n",
            "\n",
            "---------------------\n",
            "\n",
            "Loading best model...\n",
            "Training done.\n"
          ]
        },
        {
          "output_type": "execute_result",
          "data": {
            "text/plain": [
              "tensor(94.4681, device='cuda:0')"
            ]
          },
          "metadata": {},
          "execution_count": 29
        }
      ],
      "source": [
        "model.run_train(\n",
        "    train,\n",
        "    validation,\n",
        "    epochs=15,\n",
        "    batch_size=32,\n",
        "    best_save_path='attention_model.pth',\n",
        "    pos_neg_ratio=3)"
      ]
    },
    {
      "cell_type": "code",
      "execution_count": null,
      "metadata": {
        "id": "n03XqdT275CI",
        "colab": {
          "base_uri": "https://localhost:8080/"
        },
        "outputId": "17d2cccb-8db4-4485-ebe7-23a4633d2ee1"
      },
      "outputs": [
        {
          "output_type": "stream",
          "name": "stdout",
          "text": [
            "===>  EVAL Epoch 9\n"
          ]
        },
        {
          "output_type": "stream",
          "name": "stderr",
          "text": [
            "/usr/local/lib/python3.7/dist-packages/torch/nn/modules/module.py:974: UserWarning: Using a non-full backward hook when the forward contains multiple autograd Nodes is deprecated and will be removed in future versions. This hook will be missing some grad_input. Please use register_full_backward_hook to get the documented behavior.\n",
            "  warnings.warn(\"Using a non-full backward hook when the forward contains multiple autograd Nodes \"\n",
            "/usr/local/lib/python3.7/dist-packages/torch/nn/modules/module.py:949: UserWarning: Using non-full backward hooks on a Module that does not take as input a single Tensor or a tuple of Tensors is deprecated and will be removed in future versions. This hook will be missing some of the grad_input. Please use register_full_backward_hook to get the documented behavior.\n",
            "  warnings.warn(\"Using non-full backward hooks on a Module that does not take as input a \"\n",
            "/usr/local/lib/python3.7/dist-packages/torch/nn/modules/module.py:939: UserWarning: Using non-full backward hooks on a Module that does not return a single Tensor or a tuple of Tensors is deprecated and will be removed in future versions. This hook will be missing some of the grad_output. Please use register_full_backward_hook to get the documented behavior.\n",
            "  warnings.warn(\"Using non-full backward hooks on a Module that does not return a \"\n",
            "0% [██████████████████████████████] 100% | ETA: 00:00:00\n",
            "Total time elapsed: 00:00:13\n"
          ]
        },
        {
          "output_type": "stream",
          "name": "stdout",
          "text": [
            "Finished Epoch 9 || Run Time:    6.8 | Load Time:    6.8 || F1:  93.30 | Prec:  93.60 | Rec:  92.99 || Ex/s: 422.12\n",
            "\n"
          ]
        },
        {
          "output_type": "execute_result",
          "data": {
            "text/plain": [
              "tensor(93.2958, device='cuda:0')"
            ]
          },
          "metadata": {},
          "execution_count": 30
        }
      ],
      "source": [
        "# Compute F1 on test set\n",
        "model.run_eval(test)"
      ]
    },
    {
      "cell_type": "markdown",
      "metadata": {
        "id": "FkGeNHEf75CI"
      },
      "source": [
        "##### Walmart-Amazon"
      ]
    },
    {
      "cell_type": "code",
      "execution_count": null,
      "metadata": {
        "id": "nDZpWkrG75CJ"
      },
      "outputs": [],
      "source": [
        "train, validation, test = dm.data.process(\n",
        "    path='/content/IC/datasesErros/AADatasets/Structured/Walmart-Amazon/',\n",
        "    train='joined_train.csv',\n",
        "    validation='joined_valid.csv',\n",
        "    test='joined_test.csv')"
      ]
    },
    {
      "cell_type": "code",
      "execution_count": null,
      "metadata": {
        "id": "tQ627lHz75CJ"
      },
      "outputs": [],
      "source": [
        "model = dm.MatchingModel(attr_summarizer='attention')"
      ]
    },
    {
      "cell_type": "code",
      "execution_count": null,
      "metadata": {
        "id": "D1QS8Zs975CJ",
        "colab": {
          "base_uri": "https://localhost:8080/"
        },
        "outputId": "e98ed0dc-2e00-479f-a049-c36df821f70e"
      },
      "outputs": [
        {
          "output_type": "stream",
          "name": "stdout",
          "text": [
            "* Number of trainable parameters: 5234402\n",
            "===>  TRAIN Epoch 1\n"
          ]
        },
        {
          "output_type": "stream",
          "name": "stderr",
          "text": [
            "/usr/local/lib/python3.7/dist-packages/torch/nn/modules/module.py:974: UserWarning: Using a non-full backward hook when the forward contains multiple autograd Nodes is deprecated and will be removed in future versions. This hook will be missing some grad_input. Please use register_full_backward_hook to get the documented behavior.\n",
            "  warnings.warn(\"Using a non-full backward hook when the forward contains multiple autograd Nodes \"\n",
            "/usr/local/lib/python3.7/dist-packages/torch/nn/modules/module.py:949: UserWarning: Using non-full backward hooks on a Module that does not take as input a single Tensor or a tuple of Tensors is deprecated and will be removed in future versions. This hook will be missing some of the grad_input. Please use register_full_backward_hook to get the documented behavior.\n",
            "  warnings.warn(\"Using non-full backward hooks on a Module that does not take as input a \"\n",
            "/usr/local/lib/python3.7/dist-packages/torch/nn/modules/module.py:939: UserWarning: Using non-full backward hooks on a Module that does not return a single Tensor or a tuple of Tensors is deprecated and will be removed in future versions. This hook will be missing some of the grad_output. Please use register_full_backward_hook to get the documented behavior.\n",
            "  warnings.warn(\"Using non-full backward hooks on a Module that does not return a \"\n",
            "/usr/local/lib/python3.7/dist-packages/torch/nn/functional.py:2742: UserWarning: reduction: 'mean' divides the total loss by both the batch size and the support size.'batchmean' divides only by the batch size, and aligns with the KL div math definition.'mean' will be changed to behave the same as 'batchmean' in the next major release.\n",
            "  \"reduction: 'mean' divides the total loss by both the batch size and the support size.\"\n",
            "0% [██████████████████████████████] 100% | ETA: 00:00:00\n",
            "Total time elapsed: 00:00:21\n"
          ]
        },
        {
          "output_type": "stream",
          "name": "stdout",
          "text": [
            "Finished Epoch 1 || Run Time:   15.5 | Load Time:    6.1 || F1:  12.76 | Prec:  25.52 | Rec:   8.51 || Ex/s: 285.07\n",
            "\n",
            "===>  EVAL Epoch 1\n"
          ]
        },
        {
          "output_type": "stream",
          "name": "stderr",
          "text": [
            "0% [█████████████] 100% | ETA: 00:00:00\n",
            "Total time elapsed: 00:00:04\n"
          ]
        },
        {
          "output_type": "stream",
          "name": "stdout",
          "text": [
            "Finished Epoch 1 || Run Time:    2.9 | Load Time:    1.9 || F1:  24.70 | Prec:  53.45 | Rec:  16.06 || Ex/s: 426.25\n",
            "\n",
            "* Best F1: tensor(24.7012, device='cuda:0')\n",
            "Saving best model...\n",
            "Done.\n",
            "---------------------\n",
            "\n",
            "===>  TRAIN Epoch 2\n"
          ]
        },
        {
          "output_type": "stream",
          "name": "stderr",
          "text": [
            "0% [██████████████████████████████] 100% | ETA: 00:00:00\n",
            "Total time elapsed: 00:00:20\n"
          ]
        },
        {
          "output_type": "stream",
          "name": "stdout",
          "text": [
            "Finished Epoch 2 || Run Time:   15.0 | Load Time:    5.9 || F1:  46.84 | Prec:  44.46 | Rec:  49.48 || Ex/s: 293.34\n",
            "\n",
            "===>  EVAL Epoch 2\n"
          ]
        },
        {
          "output_type": "stream",
          "name": "stderr",
          "text": [
            "0% [█████████████] 100% | ETA: 00:00:00\n",
            "Total time elapsed: 00:00:04\n"
          ]
        },
        {
          "output_type": "stream",
          "name": "stdout",
          "text": [
            "Finished Epoch 2 || Run Time:    3.0 | Load Time:    1.9 || F1:  47.15 | Prec:  49.43 | Rec:  45.08 || Ex/s: 423.37\n",
            "\n",
            "* Best F1: tensor(47.1545, device='cuda:0')\n",
            "Saving best model...\n",
            "Done.\n",
            "---------------------\n",
            "\n",
            "===>  TRAIN Epoch 3\n"
          ]
        },
        {
          "output_type": "stream",
          "name": "stderr",
          "text": [
            "0% [██████████████████████████████] 100% | ETA: 00:00:00\n",
            "Total time elapsed: 00:00:20\n"
          ]
        },
        {
          "output_type": "stream",
          "name": "stdout",
          "text": [
            "Finished Epoch 3 || Run Time:   15.0 | Load Time:    5.9 || F1:  62.39 | Prec:  55.74 | Rec:  70.83 || Ex/s: 293.44\n",
            "\n",
            "===>  EVAL Epoch 3\n"
          ]
        },
        {
          "output_type": "stream",
          "name": "stderr",
          "text": [
            "0% [█████████████] 100% | ETA: 00:00:00\n",
            "Total time elapsed: 00:00:04\n"
          ]
        },
        {
          "output_type": "stream",
          "name": "stdout",
          "text": [
            "Finished Epoch 3 || Run Time:    3.0 | Load Time:    1.8 || F1:  53.33 | Prec:  57.49 | Rec:  49.74 || Ex/s: 426.90\n",
            "\n",
            "* Best F1: tensor(53.3333, device='cuda:0')\n",
            "Saving best model...\n",
            "Done.\n",
            "---------------------\n",
            "\n",
            "===>  TRAIN Epoch 4\n"
          ]
        },
        {
          "output_type": "stream",
          "name": "stderr",
          "text": [
            "0% [██████████████████████████████] 100% | ETA: 00:00:00\n",
            "Total time elapsed: 00:00:20\n"
          ]
        },
        {
          "output_type": "stream",
          "name": "stdout",
          "text": [
            "Finished Epoch 4 || Run Time:   15.1 | Load Time:    5.9 || F1:  71.69 | Prec:  65.38 | Rec:  79.34 || Ex/s: 292.03\n",
            "\n",
            "===>  EVAL Epoch 4\n"
          ]
        },
        {
          "output_type": "stream",
          "name": "stderr",
          "text": [
            "0% [█████████████] 100% | ETA: 00:00:00\n",
            "Total time elapsed: 00:00:05\n"
          ]
        },
        {
          "output_type": "stream",
          "name": "stdout",
          "text": [
            "Finished Epoch 4 || Run Time:    3.2 | Load Time:    2.0 || F1:  52.78 | Prec:  49.55 | Rec:  56.48 || Ex/s: 388.04\n",
            "\n",
            "---------------------\n",
            "\n",
            "===>  TRAIN Epoch 5\n"
          ]
        },
        {
          "output_type": "stream",
          "name": "stderr",
          "text": [
            "0% [██████████████████████████████] 100% | ETA: 00:00:00\n",
            "Total time elapsed: 00:00:20\n"
          ]
        },
        {
          "output_type": "stream",
          "name": "stdout",
          "text": [
            "Finished Epoch 5 || Run Time:   15.0 | Load Time:    5.9 || F1:  78.65 | Prec:  73.13 | Rec:  85.07 || Ex/s: 294.23\n",
            "\n",
            "===>  EVAL Epoch 5\n"
          ]
        },
        {
          "output_type": "stream",
          "name": "stderr",
          "text": [
            "0% [█████████████] 100% | ETA: 00:00:00\n",
            "Total time elapsed: 00:00:04\n"
          ]
        },
        {
          "output_type": "stream",
          "name": "stdout",
          "text": [
            "Finished Epoch 5 || Run Time:    2.9 | Load Time:    1.9 || F1:  54.25 | Prec:  49.78 | Rec:  59.59 || Ex/s: 427.27\n",
            "\n",
            "* Best F1: tensor(54.2453, device='cuda:0')\n",
            "Saving best model...\n",
            "Done.\n",
            "---------------------\n",
            "\n",
            "===>  TRAIN Epoch 6\n"
          ]
        },
        {
          "output_type": "stream",
          "name": "stderr",
          "text": [
            "0% [██████████████████████████████] 100% | ETA: 00:00:00\n",
            "Total time elapsed: 00:00:20\n"
          ]
        },
        {
          "output_type": "stream",
          "name": "stdout",
          "text": [
            "Finished Epoch 6 || Run Time:   14.9 | Load Time:    5.9 || F1:  84.15 | Prec:  79.48 | Rec:  89.41 || Ex/s: 294.87\n",
            "\n",
            "===>  EVAL Epoch 6\n"
          ]
        },
        {
          "output_type": "stream",
          "name": "stderr",
          "text": [
            "0% [█████████████] 100% | ETA: 00:00:00\n",
            "Total time elapsed: 00:00:04\n"
          ]
        },
        {
          "output_type": "stream",
          "name": "stdout",
          "text": [
            "Finished Epoch 6 || Run Time:    2.9 | Load Time:    1.9 || F1:  51.47 | Prec:  53.33 | Rec:  49.74 || Ex/s: 426.94\n",
            "\n",
            "---------------------\n",
            "\n",
            "===>  TRAIN Epoch 7\n"
          ]
        },
        {
          "output_type": "stream",
          "name": "stderr",
          "text": [
            "0% [██████████████████████████████] 100% | ETA: 00:00:00\n",
            "Total time elapsed: 00:00:20\n"
          ]
        },
        {
          "output_type": "stream",
          "name": "stdout",
          "text": [
            "Finished Epoch 7 || Run Time:   15.0 | Load Time:    5.9 || F1:  87.87 | Prec:  84.24 | Rec:  91.84 || Ex/s: 292.82\n",
            "\n",
            "===>  EVAL Epoch 7\n"
          ]
        },
        {
          "output_type": "stream",
          "name": "stderr",
          "text": [
            "0% [█████████████] 100% | ETA: 00:00:00\n",
            "Total time elapsed: 00:00:04\n"
          ]
        },
        {
          "output_type": "stream",
          "name": "stdout",
          "text": [
            "Finished Epoch 7 || Run Time:    2.9 | Load Time:    1.9 || F1:  53.01 | Prec:  56.07 | Rec:  50.26 || Ex/s: 426.44\n",
            "\n",
            "---------------------\n",
            "\n",
            "===>  TRAIN Epoch 8\n"
          ]
        },
        {
          "output_type": "stream",
          "name": "stderr",
          "text": [
            "0% [██████████████████████████████] 100% | ETA: 00:00:00\n",
            "Total time elapsed: 00:00:21\n"
          ]
        },
        {
          "output_type": "stream",
          "name": "stdout",
          "text": [
            "Finished Epoch 8 || Run Time:   15.4 | Load Time:    6.0 || F1:  91.11 | Prec:  88.15 | Rec:  94.27 || Ex/s: 287.18\n",
            "\n",
            "===>  EVAL Epoch 8\n"
          ]
        },
        {
          "output_type": "stream",
          "name": "stderr",
          "text": [
            "0% [█████████████] 100% | ETA: 00:00:00\n",
            "Total time elapsed: 00:00:04\n"
          ]
        },
        {
          "output_type": "stream",
          "name": "stdout",
          "text": [
            "Finished Epoch 8 || Run Time:    3.0 | Load Time:    1.9 || F1:  52.35 | Prec:  50.00 | Rec:  54.92 || Ex/s: 425.58\n",
            "\n",
            "---------------------\n",
            "\n",
            "===>  TRAIN Epoch 9\n"
          ]
        },
        {
          "output_type": "stream",
          "name": "stderr",
          "text": [
            "0% [██████████████████████████████] 100% | ETA: 00:00:00\n",
            "Total time elapsed: 00:00:20\n"
          ]
        },
        {
          "output_type": "stream",
          "name": "stdout",
          "text": [
            "Finished Epoch 9 || Run Time:   14.9 | Load Time:    5.9 || F1:  93.45 | Prec:  91.65 | Rec:  95.31 || Ex/s: 294.51\n",
            "\n",
            "===>  EVAL Epoch 9\n"
          ]
        },
        {
          "output_type": "stream",
          "name": "stderr",
          "text": [
            "0% [█████████████] 100% | ETA: 00:00:00\n",
            "Total time elapsed: 00:00:04\n"
          ]
        },
        {
          "output_type": "stream",
          "name": "stdout",
          "text": [
            "Finished Epoch 9 || Run Time:    2.9 | Load Time:    1.9 || F1:  53.81 | Prec:  49.78 | Rec:  58.55 || Ex/s: 425.76\n",
            "\n",
            "---------------------\n",
            "\n",
            "===>  TRAIN Epoch 10\n"
          ]
        },
        {
          "output_type": "stream",
          "name": "stderr",
          "text": [
            "0% [██████████████████████████████] 100% | ETA: 00:00:00\n",
            "Total time elapsed: 00:00:20\n"
          ]
        },
        {
          "output_type": "stream",
          "name": "stdout",
          "text": [
            "Finished Epoch 10 || Run Time:   15.0 | Load Time:    5.9 || F1:  94.40 | Prec:  92.36 | Rec:  96.53 || Ex/s: 292.64\n",
            "\n",
            "===>  EVAL Epoch 10\n"
          ]
        },
        {
          "output_type": "stream",
          "name": "stderr",
          "text": [
            "0% [█████████████] 100% | ETA: 00:00:00\n",
            "Total time elapsed: 00:00:04\n"
          ]
        },
        {
          "output_type": "stream",
          "name": "stdout",
          "text": [
            "Finished Epoch 10 || Run Time:    2.9 | Load Time:    1.9 || F1:  53.00 | Prec:  47.72 | Rec:  59.59 || Ex/s: 427.67\n",
            "\n",
            "---------------------\n",
            "\n",
            "===>  TRAIN Epoch 11\n"
          ]
        },
        {
          "output_type": "stream",
          "name": "stderr",
          "text": [
            "0% [██████████████████████████████] 100% | ETA: 00:00:00\n",
            "Total time elapsed: 00:00:21\n"
          ]
        },
        {
          "output_type": "stream",
          "name": "stdout",
          "text": [
            "Finished Epoch 11 || Run Time:   15.4 | Load Time:    6.0 || F1:  95.25 | Prec:  93.19 | Rec:  97.40 || Ex/s: 286.38\n",
            "\n",
            "===>  EVAL Epoch 11\n"
          ]
        },
        {
          "output_type": "stream",
          "name": "stderr",
          "text": [
            "0% [█████████████] 100% | ETA: 00:00:00\n",
            "Total time elapsed: 00:00:04\n"
          ]
        },
        {
          "output_type": "stream",
          "name": "stdout",
          "text": [
            "Finished Epoch 11 || Run Time:    2.9 | Load Time:    1.9 || F1:  53.88 | Prec:  48.16 | Rec:  61.14 || Ex/s: 425.25\n",
            "\n",
            "---------------------\n",
            "\n",
            "===>  TRAIN Epoch 12\n"
          ]
        },
        {
          "output_type": "stream",
          "name": "stderr",
          "text": [
            "0% [██████████████████████████████] 100% | ETA: 00:00:00\n",
            "Total time elapsed: 00:00:20\n"
          ]
        },
        {
          "output_type": "stream",
          "name": "stdout",
          "text": [
            "Finished Epoch 12 || Run Time:   15.0 | Load Time:    5.9 || F1:  95.99 | Prec:  94.45 | Rec:  97.57 || Ex/s: 293.35\n",
            "\n",
            "===>  EVAL Epoch 12\n"
          ]
        },
        {
          "output_type": "stream",
          "name": "stderr",
          "text": [
            "0% [█████████████] 100% | ETA: 00:00:00\n",
            "Total time elapsed: 00:00:04\n"
          ]
        },
        {
          "output_type": "stream",
          "name": "stdout",
          "text": [
            "Finished Epoch 12 || Run Time:    2.9 | Load Time:    1.8 || F1:  53.15 | Prec:  47.01 | Rec:  61.14 || Ex/s: 428.14\n",
            "\n",
            "---------------------\n",
            "\n",
            "===>  TRAIN Epoch 13\n"
          ]
        },
        {
          "output_type": "stream",
          "name": "stderr",
          "text": [
            "0% [██████████████████████████████] 100% | ETA: 00:00:00\n",
            "Total time elapsed: 00:00:20\n"
          ]
        },
        {
          "output_type": "stream",
          "name": "stdout",
          "text": [
            "Finished Epoch 13 || Run Time:   15.1 | Load Time:    5.9 || F1:  96.40 | Prec:  95.25 | Rec:  97.57 || Ex/s: 292.36\n",
            "\n",
            "===>  EVAL Epoch 13\n"
          ]
        },
        {
          "output_type": "stream",
          "name": "stderr",
          "text": [
            "0% [█████████████] 100% | ETA: 00:00:00\n",
            "Total time elapsed: 00:00:04\n"
          ]
        },
        {
          "output_type": "stream",
          "name": "stdout",
          "text": [
            "Finished Epoch 13 || Run Time:    2.9 | Load Time:    1.9 || F1:  52.73 | Prec:  46.96 | Rec:  60.10 || Ex/s: 425.95\n",
            "\n",
            "---------------------\n",
            "\n",
            "===>  TRAIN Epoch 14\n"
          ]
        },
        {
          "output_type": "stream",
          "name": "stderr",
          "text": [
            "0% [██████████████████████████████] 100% | ETA: 00:00:00\n",
            "Total time elapsed: 00:00:20\n"
          ]
        },
        {
          "output_type": "stream",
          "name": "stdout",
          "text": [
            "Finished Epoch 14 || Run Time:   15.0 | Load Time:    5.9 || F1:  96.65 | Prec:  95.74 | Rec:  97.57 || Ex/s: 294.20\n",
            "\n",
            "===>  EVAL Epoch 14\n"
          ]
        },
        {
          "output_type": "stream",
          "name": "stderr",
          "text": [
            "0% [█████████████] 100% | ETA: 00:00:00\n",
            "Total time elapsed: 00:00:05\n"
          ]
        },
        {
          "output_type": "stream",
          "name": "stdout",
          "text": [
            "Finished Epoch 14 || Run Time:    3.2 | Load Time:    2.0 || F1:  52.75 | Prec:  47.33 | Rec:  59.59 || Ex/s: 390.73\n",
            "\n",
            "---------------------\n",
            "\n",
            "===>  TRAIN Epoch 15\n"
          ]
        },
        {
          "output_type": "stream",
          "name": "stderr",
          "text": [
            "0% [██████████████████████████████] 100% | ETA: 00:00:00\n",
            "Total time elapsed: 00:00:20\n"
          ]
        },
        {
          "output_type": "stream",
          "name": "stdout",
          "text": [
            "Finished Epoch 15 || Run Time:   15.0 | Load Time:    5.9 || F1:  96.48 | Prec:  95.42 | Rec:  97.57 || Ex/s: 293.50\n",
            "\n",
            "===>  EVAL Epoch 15\n"
          ]
        },
        {
          "output_type": "stream",
          "name": "stderr",
          "text": [
            "0% [█████████████] 100% | ETA: 00:00:00\n",
            "Total time elapsed: 00:00:04\n"
          ]
        },
        {
          "output_type": "stream",
          "name": "stdout",
          "text": [
            "Finished Epoch 15 || Run Time:    2.9 | Load Time:    1.9 || F1:  53.30 | Prec:  48.92 | Rec:  58.55 || Ex/s: 425.58\n",
            "\n",
            "---------------------\n",
            "\n",
            "Loading best model...\n",
            "Training done.\n"
          ]
        },
        {
          "output_type": "execute_result",
          "data": {
            "text/plain": [
              "tensor(54.2453, device='cuda:0')"
            ]
          },
          "metadata": {},
          "execution_count": 33
        }
      ],
      "source": [
        "model.run_train(\n",
        "    train,\n",
        "    validation,\n",
        "    epochs=15,\n",
        "    batch_size=32,\n",
        "    best_save_path='attention_model.pth',\n",
        "    pos_neg_ratio=3)"
      ]
    },
    {
      "cell_type": "code",
      "execution_count": null,
      "metadata": {
        "id": "s_h8u_uW75CK",
        "colab": {
          "base_uri": "https://localhost:8080/"
        },
        "outputId": "d9d3bbf7-3eef-42c7-cd46-2a9ea34f5892"
      },
      "outputs": [
        {
          "output_type": "stream",
          "name": "stdout",
          "text": [
            "===>  EVAL Epoch 5\n"
          ]
        },
        {
          "output_type": "stream",
          "name": "stderr",
          "text": [
            "/usr/local/lib/python3.7/dist-packages/torch/nn/modules/module.py:974: UserWarning: Using a non-full backward hook when the forward contains multiple autograd Nodes is deprecated and will be removed in future versions. This hook will be missing some grad_input. Please use register_full_backward_hook to get the documented behavior.\n",
            "  warnings.warn(\"Using a non-full backward hook when the forward contains multiple autograd Nodes \"\n",
            "/usr/local/lib/python3.7/dist-packages/torch/nn/modules/module.py:949: UserWarning: Using non-full backward hooks on a Module that does not take as input a single Tensor or a tuple of Tensors is deprecated and will be removed in future versions. This hook will be missing some of the grad_input. Please use register_full_backward_hook to get the documented behavior.\n",
            "  warnings.warn(\"Using non-full backward hooks on a Module that does not take as input a \"\n",
            "/usr/local/lib/python3.7/dist-packages/torch/nn/modules/module.py:939: UserWarning: Using non-full backward hooks on a Module that does not return a single Tensor or a tuple of Tensors is deprecated and will be removed in future versions. This hook will be missing some of the grad_output. Please use register_full_backward_hook to get the documented behavior.\n",
            "  warnings.warn(\"Using non-full backward hooks on a Module that does not return a \"\n",
            "0% [█████████████] 100% | ETA: 00:00:00\n",
            "Total time elapsed: 00:00:04\n"
          ]
        },
        {
          "output_type": "stream",
          "name": "stdout",
          "text": [
            "Finished Epoch 5 || Run Time:    3.0 | Load Time:    1.9 || F1:  52.26 | Prec:  50.73 | Rec:  53.89 || Ex/s: 420.53\n",
            "\n"
          ]
        },
        {
          "output_type": "execute_result",
          "data": {
            "text/plain": [
              "tensor(52.2613, device='cuda:0')"
            ]
          },
          "metadata": {},
          "execution_count": 34
        }
      ],
      "source": [
        "# Compute F1 on test set\n",
        "model.run_eval(test)"
      ]
    },
    {
      "cell_type": "markdown",
      "metadata": {
        "id": "Cdsxv_qr75CK"
      },
      "source": [
        "#### TEXTUAL"
      ]
    },
    {
      "cell_type": "markdown",
      "metadata": {
        "id": "j4zOGg2n75CK"
      },
      "source": [
        "##### Abt-Buy"
      ]
    },
    {
      "cell_type": "code",
      "execution_count": null,
      "metadata": {
        "id": "ZtLVBEZg75CL"
      },
      "outputs": [],
      "source": [
        "train, validation, test = dm.data.process(\n",
        "    path='/content/IC/datasesErros/AADatasets/Textual/Abt-Buy/',\n",
        "    train='joined_train.csv',\n",
        "    validation='joined_valid.csv',\n",
        "    test='joined_test.csv')"
      ]
    },
    {
      "cell_type": "code",
      "execution_count": null,
      "metadata": {
        "id": "sdCg5PtC75CL"
      },
      "outputs": [],
      "source": [
        "model = dm.MatchingModel(attr_summarizer='attention')"
      ]
    },
    {
      "cell_type": "code",
      "execution_count": null,
      "metadata": {
        "id": "CV-ONewg75CL",
        "colab": {
          "base_uri": "https://localhost:8080/"
        },
        "outputId": "fc76c97f-b0cc-482a-9278-5fa438efb633"
      },
      "outputs": [
        {
          "output_type": "stream",
          "name": "stdout",
          "text": [
            "* Number of trainable parameters: 3429602\n",
            "===>  TRAIN Epoch 1\n"
          ]
        },
        {
          "output_type": "stream",
          "name": "stderr",
          "text": [
            "/usr/local/lib/python3.7/dist-packages/torch/nn/modules/module.py:974: UserWarning: Using a non-full backward hook when the forward contains multiple autograd Nodes is deprecated and will be removed in future versions. This hook will be missing some grad_input. Please use register_full_backward_hook to get the documented behavior.\n",
            "  warnings.warn(\"Using a non-full backward hook when the forward contains multiple autograd Nodes \"\n",
            "/usr/local/lib/python3.7/dist-packages/torch/nn/modules/module.py:949: UserWarning: Using non-full backward hooks on a Module that does not take as input a single Tensor or a tuple of Tensors is deprecated and will be removed in future versions. This hook will be missing some of the grad_input. Please use register_full_backward_hook to get the documented behavior.\n",
            "  warnings.warn(\"Using non-full backward hooks on a Module that does not take as input a \"\n",
            "/usr/local/lib/python3.7/dist-packages/torch/nn/modules/module.py:939: UserWarning: Using non-full backward hooks on a Module that does not return a single Tensor or a tuple of Tensors is deprecated and will be removed in future versions. This hook will be missing some of the grad_output. Please use register_full_backward_hook to get the documented behavior.\n",
            "  warnings.warn(\"Using non-full backward hooks on a Module that does not return a \"\n",
            "/usr/local/lib/python3.7/dist-packages/torch/nn/functional.py:2742: UserWarning: reduction: 'mean' divides the total loss by both the batch size and the support size.'batchmean' divides only by the batch size, and aligns with the KL div math definition.'mean' will be changed to behave the same as 'batchmean' in the next major release.\n",
            "  \"reduction: 'mean' divides the total loss by both the batch size and the support size.\"\n",
            "0% [██████████████████████████████] 100% | ETA: 00:00:00\n",
            "Total time elapsed: 00:00:20\n"
          ]
        },
        {
          "output_type": "stream",
          "name": "stdout",
          "text": [
            "Finished Epoch 1 || Run Time:   10.6 | Load Time:    9.5 || F1:  19.66 | Prec:  23.84 | Rec:  16.72 || Ex/s: 285.45\n",
            "\n",
            "===>  EVAL Epoch 1\n"
          ]
        },
        {
          "output_type": "stream",
          "name": "stderr",
          "text": [
            "0% [████████████] 100% | ETA: 00:00:00\n",
            "Total time elapsed: 00:00:04\n"
          ]
        },
        {
          "output_type": "stream",
          "name": "stdout",
          "text": [
            "Finished Epoch 1 || Run Time:    1.9 | Load Time:    2.8 || F1:   7.14 | Prec:  44.44 | Rec:   3.88 || Ex/s: 406.04\n",
            "\n",
            "* Best F1: tensor(7.1429, device='cuda:0')\n",
            "Saving best model...\n",
            "Done.\n",
            "---------------------\n",
            "\n",
            "===>  TRAIN Epoch 2\n"
          ]
        },
        {
          "output_type": "stream",
          "name": "stderr",
          "text": [
            "0% [██████████████████████████████] 100% | ETA: 00:00:00\n",
            "Total time elapsed: 00:00:19\n"
          ]
        },
        {
          "output_type": "stream",
          "name": "stdout",
          "text": [
            "Finished Epoch 2 || Run Time:   10.3 | Load Time:    9.2 || F1:  37.22 | Prec:  34.84 | Rec:  39.94 || Ex/s: 293.41\n",
            "\n",
            "===>  EVAL Epoch 2\n"
          ]
        },
        {
          "output_type": "stream",
          "name": "stderr",
          "text": [
            "0% [████████████] 100% | ETA: 00:00:00\n",
            "Total time elapsed: 00:00:04\n"
          ]
        },
        {
          "output_type": "stream",
          "name": "stdout",
          "text": [
            "Finished Epoch 2 || Run Time:    1.9 | Load Time:    2.8 || F1:  28.48 | Prec:  39.32 | Rec:  22.33 || Ex/s: 407.27\n",
            "\n",
            "* Best F1: tensor(28.4830, device='cuda:0')\n",
            "Saving best model...\n",
            "Done.\n",
            "---------------------\n",
            "\n",
            "===>  TRAIN Epoch 3\n"
          ]
        },
        {
          "output_type": "stream",
          "name": "stderr",
          "text": [
            "0% [██████████████████████████████] 100% | ETA: 00:00:00\n",
            "Total time elapsed: 00:00:19\n"
          ]
        },
        {
          "output_type": "stream",
          "name": "stdout",
          "text": [
            "Finished Epoch 3 || Run Time:   10.4 | Load Time:    9.3 || F1:  48.22 | Prec:  41.71 | Rec:  57.14 || Ex/s: 291.03\n",
            "\n",
            "===>  EVAL Epoch 3\n"
          ]
        },
        {
          "output_type": "stream",
          "name": "stderr",
          "text": [
            "0% [████████████] 100% | ETA: 00:00:00\n",
            "Total time elapsed: 00:00:04\n"
          ]
        },
        {
          "output_type": "stream",
          "name": "stdout",
          "text": [
            "Finished Epoch 3 || Run Time:    1.9 | Load Time:    2.8 || F1:  36.06 | Prec:  42.95 | Rec:  31.07 || Ex/s: 406.79\n",
            "\n",
            "* Best F1: tensor(36.0563, device='cuda:0')\n",
            "Saving best model...\n",
            "Done.\n",
            "---------------------\n",
            "\n",
            "===>  TRAIN Epoch 4\n"
          ]
        },
        {
          "output_type": "stream",
          "name": "stderr",
          "text": [
            "0% [██████████████████████████████] 100% | ETA: 00:00:00\n",
            "Total time elapsed: 00:00:19\n"
          ]
        },
        {
          "output_type": "stream",
          "name": "stdout",
          "text": [
            "Finished Epoch 4 || Run Time:   10.3 | Load Time:    9.3 || F1:  57.86 | Prec:  49.65 | Rec:  69.32 || Ex/s: 292.77\n",
            "\n",
            "===>  EVAL Epoch 4\n"
          ]
        },
        {
          "output_type": "stream",
          "name": "stderr",
          "text": [
            "0% [████████████] 100% | ETA: 00:00:00\n",
            "Total time elapsed: 00:00:05\n"
          ]
        },
        {
          "output_type": "stream",
          "name": "stdout",
          "text": [
            "Finished Epoch 4 || Run Time:    2.1 | Load Time:    3.1 || F1:  42.47 | Prec:  47.59 | Rec:  38.35 || Ex/s: 369.82\n",
            "\n",
            "* Best F1: tensor(42.4731, device='cuda:0')\n",
            "Saving best model...\n",
            "Done.\n",
            "---------------------\n",
            "\n",
            "===>  TRAIN Epoch 5\n"
          ]
        },
        {
          "output_type": "stream",
          "name": "stderr",
          "text": [
            "0% [██████████████████████████████] 100% | ETA: 00:00:00\n",
            "Total time elapsed: 00:00:19\n"
          ]
        },
        {
          "output_type": "stream",
          "name": "stdout",
          "text": [
            "Finished Epoch 5 || Run Time:   10.3 | Load Time:    9.3 || F1:  65.70 | Prec:  57.14 | Rec:  77.27 || Ex/s: 292.84\n",
            "\n",
            "===>  EVAL Epoch 5\n"
          ]
        },
        {
          "output_type": "stream",
          "name": "stderr",
          "text": [
            "0% [████████████] 100% | ETA: 00:00:00\n",
            "Total time elapsed: 00:00:04\n"
          ]
        },
        {
          "output_type": "stream",
          "name": "stdout",
          "text": [
            "Finished Epoch 5 || Run Time:    1.9 | Load Time:    2.8 || F1:  49.75 | Prec:  51.56 | Rec:  48.06 || Ex/s: 405.15\n",
            "\n",
            "* Best F1: tensor(49.7487, device='cuda:0')\n",
            "Saving best model...\n",
            "Done.\n",
            "---------------------\n",
            "\n",
            "===>  TRAIN Epoch 6\n"
          ]
        },
        {
          "output_type": "stream",
          "name": "stderr",
          "text": [
            "0% [██████████████████████████████] 100% | ETA: 00:00:00\n",
            "Total time elapsed: 00:00:19\n"
          ]
        },
        {
          "output_type": "stream",
          "name": "stdout",
          "text": [
            "Finished Epoch 6 || Run Time:   10.5 | Load Time:    9.4 || F1:  71.64 | Prec:  63.23 | Rec:  82.63 || Ex/s: 289.36\n",
            "\n",
            "===>  EVAL Epoch 6\n"
          ]
        },
        {
          "output_type": "stream",
          "name": "stderr",
          "text": [
            "0% [████████████] 100% | ETA: 00:00:00\n",
            "Total time elapsed: 00:00:04\n"
          ]
        },
        {
          "output_type": "stream",
          "name": "stdout",
          "text": [
            "Finished Epoch 6 || Run Time:    1.9 | Load Time:    2.8 || F1:  52.17 | Prec:  55.14 | Rec:  49.51 || Ex/s: 402.32\n",
            "\n",
            "* Best F1: tensor(52.1739, device='cuda:0')\n",
            "Saving best model...\n",
            "Done.\n",
            "---------------------\n",
            "\n",
            "===>  TRAIN Epoch 7\n"
          ]
        },
        {
          "output_type": "stream",
          "name": "stderr",
          "text": [
            "0% [██████████████████████████████] 100% | ETA: 00:00:00\n",
            "Total time elapsed: 00:00:19\n"
          ]
        },
        {
          "output_type": "stream",
          "name": "stdout",
          "text": [
            "Finished Epoch 7 || Run Time:   10.6 | Load Time:    9.3 || F1:  78.02 | Prec:  70.71 | Rec:  87.01 || Ex/s: 288.19\n",
            "\n",
            "===>  EVAL Epoch 7\n"
          ]
        },
        {
          "output_type": "stream",
          "name": "stderr",
          "text": [
            "0% [████████████] 100% | ETA: 00:00:00\n",
            "Total time elapsed: 00:00:04\n"
          ]
        },
        {
          "output_type": "stream",
          "name": "stdout",
          "text": [
            "Finished Epoch 7 || Run Time:    2.0 | Load Time:    2.8 || F1:  50.79 | Prec:  55.81 | Rec:  46.60 || Ex/s: 400.32\n",
            "\n",
            "---------------------\n",
            "\n",
            "===>  TRAIN Epoch 8\n"
          ]
        },
        {
          "output_type": "stream",
          "name": "stderr",
          "text": [
            "0% [██████████████████████████████] 100% | ETA: 00:00:00\n",
            "Total time elapsed: 00:00:20\n"
          ]
        },
        {
          "output_type": "stream",
          "name": "stdout",
          "text": [
            "Finished Epoch 8 || Run Time:   10.7 | Load Time:    9.5 || F1:  80.71 | Prec:  73.85 | Rec:  88.96 || Ex/s: 284.31\n",
            "\n",
            "===>  EVAL Epoch 8\n"
          ]
        },
        {
          "output_type": "stream",
          "name": "stderr",
          "text": [
            "0% [████████████] 100% | ETA: 00:00:00\n",
            "Total time elapsed: 00:00:04\n"
          ]
        },
        {
          "output_type": "stream",
          "name": "stdout",
          "text": [
            "Finished Epoch 8 || Run Time:    1.9 | Load Time:    2.8 || F1:  51.79 | Prec:  54.89 | Rec:  49.03 || Ex/s: 405.86\n",
            "\n",
            "---------------------\n",
            "\n",
            "===>  TRAIN Epoch 9\n"
          ]
        },
        {
          "output_type": "stream",
          "name": "stderr",
          "text": [
            "0% [██████████████████████████████] 100% | ETA: 00:00:00\n",
            "Total time elapsed: 00:00:19\n"
          ]
        },
        {
          "output_type": "stream",
          "name": "stdout",
          "text": [
            "Finished Epoch 9 || Run Time:   10.4 | Load Time:    9.3 || F1:  84.24 | Prec:  78.01 | Rec:  91.56 || Ex/s: 291.98\n",
            "\n",
            "===>  EVAL Epoch 9\n"
          ]
        },
        {
          "output_type": "stream",
          "name": "stderr",
          "text": [
            "0% [████████████] 100% | ETA: 00:00:00\n",
            "Total time elapsed: 00:00:04\n"
          ]
        },
        {
          "output_type": "stream",
          "name": "stdout",
          "text": [
            "Finished Epoch 9 || Run Time:    1.9 | Load Time:    2.8 || F1:  51.23 | Prec:  58.39 | Rec:  45.63 || Ex/s: 400.26\n",
            "\n",
            "---------------------\n",
            "\n",
            "===>  TRAIN Epoch 10\n"
          ]
        },
        {
          "output_type": "stream",
          "name": "stderr",
          "text": [
            "0% [██████████████████████████████] 100% | ETA: 00:00:00\n",
            "Total time elapsed: 00:00:19\n"
          ]
        },
        {
          "output_type": "stream",
          "name": "stdout",
          "text": [
            "Finished Epoch 10 || Run Time:   10.3 | Load Time:    9.2 || F1:  85.99 | Prec:  80.20 | Rec:  92.69 || Ex/s: 293.34\n",
            "\n",
            "===>  EVAL Epoch 10\n"
          ]
        },
        {
          "output_type": "stream",
          "name": "stderr",
          "text": [
            "0% [████████████] 100% | ETA: 00:00:00\n",
            "Total time elapsed: 00:00:04\n"
          ]
        },
        {
          "output_type": "stream",
          "name": "stdout",
          "text": [
            "Finished Epoch 10 || Run Time:    1.9 | Load Time:    2.8 || F1:  47.62 | Prec:  61.54 | Rec:  38.83 || Ex/s: 408.63\n",
            "\n",
            "---------------------\n",
            "\n",
            "===>  TRAIN Epoch 11\n"
          ]
        },
        {
          "output_type": "stream",
          "name": "stderr",
          "text": [
            "0% [██████████████████████████████] 100% | ETA: 00:00:00\n",
            "Total time elapsed: 00:00:19\n"
          ]
        },
        {
          "output_type": "stream",
          "name": "stdout",
          "text": [
            "Finished Epoch 11 || Run Time:   10.3 | Load Time:    9.2 || F1:  87.35 | Prec:  81.46 | Rec:  94.16 || Ex/s: 294.33\n",
            "\n",
            "===>  EVAL Epoch 11\n"
          ]
        },
        {
          "output_type": "stream",
          "name": "stderr",
          "text": [
            "0% [████████████] 100% | ETA: 00:00:00\n",
            "Total time elapsed: 00:00:04\n"
          ]
        },
        {
          "output_type": "stream",
          "name": "stdout",
          "text": [
            "Finished Epoch 11 || Run Time:    1.9 | Load Time:    2.8 || F1:  47.31 | Prec:  61.72 | Rec:  38.35 || Ex/s: 406.83\n",
            "\n",
            "---------------------\n",
            "\n",
            "===>  TRAIN Epoch 12\n"
          ]
        },
        {
          "output_type": "stream",
          "name": "stderr",
          "text": [
            "0% [██████████████████████████████] 100% | ETA: 00:00:00\n",
            "Total time elapsed: 00:00:20\n"
          ]
        },
        {
          "output_type": "stream",
          "name": "stdout",
          "text": [
            "Finished Epoch 12 || Run Time:   10.6 | Load Time:    9.5 || F1:  89.06 | Prec:  84.23 | Rec:  94.48 || Ex/s: 285.88\n",
            "\n",
            "===>  EVAL Epoch 12\n"
          ]
        },
        {
          "output_type": "stream",
          "name": "stderr",
          "text": [
            "0% [████████████] 100% | ETA: 00:00:00\n",
            "Total time elapsed: 00:00:04\n"
          ]
        },
        {
          "output_type": "stream",
          "name": "stdout",
          "text": [
            "Finished Epoch 12 || Run Time:    1.9 | Load Time:    2.8 || F1:  49.42 | Prec:  61.59 | Rec:  41.26 || Ex/s: 403.77\n",
            "\n",
            "---------------------\n",
            "\n",
            "===>  TRAIN Epoch 13\n"
          ]
        },
        {
          "output_type": "stream",
          "name": "stderr",
          "text": [
            "0% [██████████████████████████████] 100% | ETA: 00:00:00\n",
            "Total time elapsed: 00:00:19\n"
          ]
        },
        {
          "output_type": "stream",
          "name": "stdout",
          "text": [
            "Finished Epoch 13 || Run Time:   10.4 | Load Time:    9.3 || F1:  89.98 | Prec:  85.63 | Rec:  94.81 || Ex/s: 291.27\n",
            "\n",
            "===>  EVAL Epoch 13\n"
          ]
        },
        {
          "output_type": "stream",
          "name": "stderr",
          "text": [
            "0% [████████████] 100% | ETA: 00:00:00\n",
            "Total time elapsed: 00:00:04\n"
          ]
        },
        {
          "output_type": "stream",
          "name": "stdout",
          "text": [
            "Finished Epoch 13 || Run Time:    1.9 | Load Time:    2.8 || F1:  51.41 | Prec:  61.49 | Rec:  44.17 || Ex/s: 405.26\n",
            "\n",
            "---------------------\n",
            "\n",
            "===>  TRAIN Epoch 14\n"
          ]
        },
        {
          "output_type": "stream",
          "name": "stderr",
          "text": [
            "0% [██████████████████████████████] 100% | ETA: 00:00:00\n",
            "Total time elapsed: 00:00:19\n"
          ]
        },
        {
          "output_type": "stream",
          "name": "stdout",
          "text": [
            "Finished Epoch 14 || Run Time:   10.4 | Load Time:    9.3 || F1:  91.26 | Prec:  87.84 | Rec:  94.97 || Ex/s: 292.63\n",
            "\n",
            "===>  EVAL Epoch 14\n"
          ]
        },
        {
          "output_type": "stream",
          "name": "stderr",
          "text": [
            "0% [████████████] 100% | ETA: 00:00:00\n",
            "Total time elapsed: 00:00:04\n"
          ]
        },
        {
          "output_type": "stream",
          "name": "stdout",
          "text": [
            "Finished Epoch 14 || Run Time:    1.9 | Load Time:    2.8 || F1:  51.12 | Prec:  60.67 | Rec:  44.17 || Ex/s: 406.38\n",
            "\n",
            "---------------------\n",
            "\n",
            "===>  TRAIN Epoch 15\n"
          ]
        },
        {
          "output_type": "stream",
          "name": "stderr",
          "text": [
            "0% [██████████████████████████████] 100% | ETA: 00:00:00\n",
            "Total time elapsed: 00:00:19\n"
          ]
        },
        {
          "output_type": "stream",
          "name": "stdout",
          "text": [
            "Finished Epoch 15 || Run Time:   10.4 | Load Time:    9.3 || F1:  92.04 | Prec:  88.59 | Rec:  95.78 || Ex/s: 290.92\n",
            "\n",
            "===>  EVAL Epoch 15\n"
          ]
        },
        {
          "output_type": "stream",
          "name": "stderr",
          "text": [
            "0% [████████████] 100% | ETA: 00:00:00\n",
            "Total time elapsed: 00:00:05\n"
          ]
        },
        {
          "output_type": "stream",
          "name": "stdout",
          "text": [
            "Finished Epoch 15 || Run Time:    2.1 | Load Time:    3.0 || F1:  50.57 | Prec:  60.96 | Rec:  43.20 || Ex/s: 378.93\n",
            "\n",
            "---------------------\n",
            "\n",
            "Loading best model...\n",
            "Training done.\n"
          ]
        },
        {
          "output_type": "execute_result",
          "data": {
            "text/plain": [
              "tensor(52.1739, device='cuda:0')"
            ]
          },
          "metadata": {},
          "execution_count": 37
        }
      ],
      "source": [
        "model.run_train(\n",
        "    train,\n",
        "    validation,\n",
        "    epochs=15,\n",
        "    batch_size=32,\n",
        "    best_save_path='attention_model.pth',\n",
        "    pos_neg_ratio=3)"
      ]
    },
    {
      "cell_type": "code",
      "execution_count": null,
      "metadata": {
        "id": "EgvhQbnU75CM",
        "colab": {
          "base_uri": "https://localhost:8080/"
        },
        "outputId": "63f4b93e-0e3c-4bae-a56c-cf8ca4c4b64f"
      },
      "outputs": [
        {
          "output_type": "stream",
          "name": "stdout",
          "text": [
            "===>  EVAL Epoch 6\n"
          ]
        },
        {
          "output_type": "stream",
          "name": "stderr",
          "text": [
            "/usr/local/lib/python3.7/dist-packages/torch/nn/modules/module.py:974: UserWarning: Using a non-full backward hook when the forward contains multiple autograd Nodes is deprecated and will be removed in future versions. This hook will be missing some grad_input. Please use register_full_backward_hook to get the documented behavior.\n",
            "  warnings.warn(\"Using a non-full backward hook when the forward contains multiple autograd Nodes \"\n",
            "/usr/local/lib/python3.7/dist-packages/torch/nn/modules/module.py:949: UserWarning: Using non-full backward hooks on a Module that does not take as input a single Tensor or a tuple of Tensors is deprecated and will be removed in future versions. This hook will be missing some of the grad_input. Please use register_full_backward_hook to get the documented behavior.\n",
            "  warnings.warn(\"Using non-full backward hooks on a Module that does not take as input a \"\n",
            "/usr/local/lib/python3.7/dist-packages/torch/nn/modules/module.py:939: UserWarning: Using non-full backward hooks on a Module that does not return a single Tensor or a tuple of Tensors is deprecated and will be removed in future versions. This hook will be missing some of the grad_output. Please use register_full_backward_hook to get the documented behavior.\n",
            "  warnings.warn(\"Using non-full backward hooks on a Module that does not return a \"\n",
            "0% [████████████] 100% | ETA: 00:00:00\n",
            "Total time elapsed: 00:00:04\n"
          ]
        },
        {
          "output_type": "stream",
          "name": "stdout",
          "text": [
            "Finished Epoch 6 || Run Time:    2.0 | Load Time:    2.8 || F1:  52.60 | Prec:  56.74 | Rec:  49.03 || Ex/s: 396.66\n",
            "\n"
          ]
        },
        {
          "output_type": "execute_result",
          "data": {
            "text/plain": [
              "tensor(52.6042, device='cuda:0')"
            ]
          },
          "metadata": {},
          "execution_count": 38
        }
      ],
      "source": [
        "# Compute F1 on test set\n",
        "model.run_eval(test)"
      ]
    },
    {
      "cell_type": "markdown",
      "metadata": {
        "id": "t9lDhvR675CM"
      },
      "source": [
        "#### DIRTY"
      ]
    },
    {
      "cell_type": "markdown",
      "metadata": {
        "id": "5N9PM5Rz75CN"
      },
      "source": [
        "##### DBLP-ACM"
      ]
    },
    {
      "cell_type": "code",
      "execution_count": null,
      "metadata": {
        "id": "jzAL_Hhu75CN"
      },
      "outputs": [],
      "source": [
        "train, validation, test = dm.data.process(\n",
        "    path='/content/IC/datasesErros/AADatasets/Dirty/DBLP-ACM/',\n",
        "    train='joined_train.csv',\n",
        "    validation='joined_valid.csv',\n",
        "    test='joined_test.csv')"
      ]
    },
    {
      "cell_type": "code",
      "execution_count": null,
      "metadata": {
        "id": "aEKc0IUC75CO"
      },
      "outputs": [],
      "source": [
        "model = dm.MatchingModel(attr_summarizer='attention')"
      ]
    },
    {
      "cell_type": "code",
      "execution_count": null,
      "metadata": {
        "id": "PcD-Y6XG75CO",
        "colab": {
          "base_uri": "https://localhost:8080/"
        },
        "outputId": "9d204ddc-1c26-4057-dd80-280561f8f6f6"
      },
      "outputs": [
        {
          "output_type": "stream",
          "name": "stdout",
          "text": [
            "* Number of trainable parameters: 4332002\n",
            "===>  TRAIN Epoch 1\n"
          ]
        },
        {
          "output_type": "stream",
          "name": "stderr",
          "text": [
            "/usr/local/lib/python3.7/dist-packages/torch/nn/modules/module.py:974: UserWarning: Using a non-full backward hook when the forward contains multiple autograd Nodes is deprecated and will be removed in future versions. This hook will be missing some grad_input. Please use register_full_backward_hook to get the documented behavior.\n",
            "  warnings.warn(\"Using a non-full backward hook when the forward contains multiple autograd Nodes \"\n",
            "/usr/local/lib/python3.7/dist-packages/torch/nn/modules/module.py:949: UserWarning: Using non-full backward hooks on a Module that does not take as input a single Tensor or a tuple of Tensors is deprecated and will be removed in future versions. This hook will be missing some of the grad_input. Please use register_full_backward_hook to get the documented behavior.\n",
            "  warnings.warn(\"Using non-full backward hooks on a Module that does not take as input a \"\n",
            "/usr/local/lib/python3.7/dist-packages/torch/nn/modules/module.py:939: UserWarning: Using non-full backward hooks on a Module that does not return a single Tensor or a tuple of Tensors is deprecated and will be removed in future versions. This hook will be missing some of the grad_output. Please use register_full_backward_hook to get the documented behavior.\n",
            "  warnings.warn(\"Using non-full backward hooks on a Module that does not return a \"\n",
            "/usr/local/lib/python3.7/dist-packages/torch/nn/functional.py:2742: UserWarning: reduction: 'mean' divides the total loss by both the batch size and the support size.'batchmean' divides only by the batch size, and aligns with the KL div math definition.'mean' will be changed to behave the same as 'batchmean' in the next major release.\n",
            "  \"reduction: 'mean' divides the total loss by both the batch size and the support size.\"\n",
            "0% [██████████████████████████████] 100% | ETA: 00:00:00\n",
            "Total time elapsed: 00:00:28\n"
          ]
        },
        {
          "output_type": "stream",
          "name": "stdout",
          "text": [
            "Finished Epoch 1 || Run Time:   16.1 | Load Time:   12.6 || F1:  67.25 | Prec:  59.50 | Rec:  77.33 || Ex/s: 258.55\n",
            "\n",
            "===>  EVAL Epoch 1\n"
          ]
        },
        {
          "output_type": "stream",
          "name": "stderr",
          "text": [
            "0% [███████████████] 100% | ETA: 00:00:00\n",
            "Total time elapsed: 00:00:07\n"
          ]
        },
        {
          "output_type": "stream",
          "name": "stdout",
          "text": [
            "Finished Epoch 1 || Run Time:    3.3 | Load Time:    4.3 || F1:  89.82 | Prec:  85.69 | Rec:  94.37 || Ex/s: 327.35\n",
            "\n",
            "* Best F1: tensor(89.8178, device='cuda:0')\n",
            "Saving best model...\n",
            "Done.\n",
            "---------------------\n",
            "\n",
            "===>  TRAIN Epoch 2\n"
          ]
        },
        {
          "output_type": "stream",
          "name": "stderr",
          "text": [
            "0% [██████████████████████████████] 100% | ETA: 00:00:00\n",
            "Total time elapsed: 00:00:28\n"
          ]
        },
        {
          "output_type": "stream",
          "name": "stdout",
          "text": [
            "Finished Epoch 2 || Run Time:   16.2 | Load Time:   12.6 || F1:  91.46 | Prec:  87.30 | Rec:  96.02 || Ex/s: 256.94\n",
            "\n",
            "===>  EVAL Epoch 2\n"
          ]
        },
        {
          "output_type": "stream",
          "name": "stderr",
          "text": [
            "0% [███████████████] 100% | ETA: 00:00:00\n",
            "Total time elapsed: 00:00:07\n"
          ]
        },
        {
          "output_type": "stream",
          "name": "stdout",
          "text": [
            "Finished Epoch 2 || Run Time:    3.2 | Load Time:    4.1 || F1:  90.10 | Prec:  83.08 | Rec:  98.42 || Ex/s: 337.31\n",
            "\n",
            "* Best F1: tensor(90.1031, device='cuda:0')\n",
            "Saving best model...\n",
            "Done.\n",
            "---------------------\n",
            "\n",
            "===>  TRAIN Epoch 3\n"
          ]
        },
        {
          "output_type": "stream",
          "name": "stderr",
          "text": [
            "0% [██████████████████████████████] 100% | ETA: 00:00:00\n",
            "Total time elapsed: 00:00:28\n"
          ]
        },
        {
          "output_type": "stream",
          "name": "stdout",
          "text": [
            "Finished Epoch 3 || Run Time:   16.1 | Load Time:   12.6 || F1:  94.06 | Prec:  90.90 | Rec:  97.45 || Ex/s: 257.84\n",
            "\n",
            "===>  EVAL Epoch 3\n"
          ]
        },
        {
          "output_type": "stream",
          "name": "stderr",
          "text": [
            "0% [███████████████] 100% | ETA: 00:00:00\n",
            "Total time elapsed: 00:00:06\n"
          ]
        },
        {
          "output_type": "stream",
          "name": "stdout",
          "text": [
            "Finished Epoch 3 || Run Time:    3.1 | Load Time:    4.0 || F1:  85.08 | Prec:  74.29 | Rec:  99.55 || Ex/s: 349.53\n",
            "\n",
            "---------------------\n",
            "\n",
            "===>  TRAIN Epoch 4\n"
          ]
        },
        {
          "output_type": "stream",
          "name": "stderr",
          "text": [
            "0% [██████████████████████████████] 100% | ETA: 00:00:00\n",
            "Total time elapsed: 00:00:28\n"
          ]
        },
        {
          "output_type": "stream",
          "name": "stdout",
          "text": [
            "Finished Epoch 4 || Run Time:   16.2 | Load Time:   12.7 || F1:  95.18 | Prec:  92.67 | Rec:  97.82 || Ex/s: 256.47\n",
            "\n",
            "===>  EVAL Epoch 4\n"
          ]
        },
        {
          "output_type": "stream",
          "name": "stderr",
          "text": [
            "0% [███████████████] 100% | ETA: 00:00:00\n",
            "Total time elapsed: 00:00:06\n"
          ]
        },
        {
          "output_type": "stream",
          "name": "stdout",
          "text": [
            "Finished Epoch 4 || Run Time:    3.1 | Load Time:    4.0 || F1:  93.94 | Prec:  90.42 | Rec:  97.75 || Ex/s: 344.14\n",
            "\n",
            "* Best F1: tensor(93.9394, device='cuda:0')\n",
            "Saving best model...\n",
            "Done.\n",
            "---------------------\n",
            "\n",
            "===>  TRAIN Epoch 5\n"
          ]
        },
        {
          "output_type": "stream",
          "name": "stderr",
          "text": [
            "0% [██████████████████████████████] 100% | ETA: 00:00:00\n",
            "Total time elapsed: 00:00:28\n"
          ]
        },
        {
          "output_type": "stream",
          "name": "stdout",
          "text": [
            "Finished Epoch 5 || Run Time:   15.9 | Load Time:   12.5 || F1:  96.22 | Prec:  94.18 | Rec:  98.35 || Ex/s: 261.05\n",
            "\n",
            "===>  EVAL Epoch 5\n"
          ]
        },
        {
          "output_type": "stream",
          "name": "stderr",
          "text": [
            "0% [███████████████] 100% | ETA: 00:00:00\n",
            "Total time elapsed: 00:00:06\n"
          ]
        },
        {
          "output_type": "stream",
          "name": "stdout",
          "text": [
            "Finished Epoch 5 || Run Time:    3.2 | Load Time:    4.0 || F1:  94.13 | Prec:  90.97 | Rec:  97.52 || Ex/s: 344.47\n",
            "\n",
            "* Best F1: tensor(94.1304, device='cuda:0')\n",
            "Saving best model...\n",
            "Done.\n",
            "---------------------\n",
            "\n",
            "===>  TRAIN Epoch 6\n"
          ]
        },
        {
          "output_type": "stream",
          "name": "stderr",
          "text": [
            "0% [██████████████████████████████] 100% | ETA: 00:00:00\n",
            "Total time elapsed: 00:00:27\n"
          ]
        },
        {
          "output_type": "stream",
          "name": "stdout",
          "text": [
            "Finished Epoch 6 || Run Time:   15.8 | Load Time:   12.4 || F1:  97.23 | Prec:  95.78 | Rec:  98.72 || Ex/s: 262.71\n",
            "\n",
            "===>  EVAL Epoch 6\n"
          ]
        },
        {
          "output_type": "stream",
          "name": "stderr",
          "text": [
            "0% [███████████████] 100% | ETA: 00:00:00\n",
            "Total time elapsed: 00:00:07\n"
          ]
        },
        {
          "output_type": "stream",
          "name": "stdout",
          "text": [
            "Finished Epoch 6 || Run Time:    3.2 | Load Time:    4.1 || F1:  94.26 | Prec:  90.81 | Rec:  97.97 || Ex/s: 336.21\n",
            "\n",
            "* Best F1: tensor(94.2579, device='cuda:0')\n",
            "Saving best model...\n",
            "Done.\n",
            "---------------------\n",
            "\n",
            "===>  TRAIN Epoch 7\n"
          ]
        },
        {
          "output_type": "stream",
          "name": "stderr",
          "text": [
            "0% [██████████████████████████████] 100% | ETA: 00:00:00\n",
            "Total time elapsed: 00:00:28\n"
          ]
        },
        {
          "output_type": "stream",
          "name": "stdout",
          "text": [
            "Finished Epoch 7 || Run Time:   15.9 | Load Time:   12.5 || F1:  97.52 | Prec:  96.27 | Rec:  98.80 || Ex/s: 260.41\n",
            "\n",
            "===>  EVAL Epoch 7\n"
          ]
        },
        {
          "output_type": "stream",
          "name": "stderr",
          "text": [
            "0% [███████████████] 100% | ETA: 00:00:00\n",
            "Total time elapsed: 00:00:06\n"
          ]
        },
        {
          "output_type": "stream",
          "name": "stdout",
          "text": [
            "Finished Epoch 7 || Run Time:    3.1 | Load Time:    4.0 || F1:  94.63 | Prec:  92.11 | Rec:  97.30 || Ex/s: 345.63\n",
            "\n",
            "* Best F1: tensor(94.6331, device='cuda:0')\n",
            "Saving best model...\n",
            "Done.\n",
            "---------------------\n",
            "\n",
            "===>  TRAIN Epoch 8\n"
          ]
        },
        {
          "output_type": "stream",
          "name": "stderr",
          "text": [
            "0% [██████████████████████████████] 100% | ETA: 00:00:00\n",
            "Total time elapsed: 00:00:28\n"
          ]
        },
        {
          "output_type": "stream",
          "name": "stdout",
          "text": [
            "Finished Epoch 8 || Run Time:   16.2 | Load Time:   12.5 || F1:  97.81 | Prec:  96.77 | Rec:  98.87 || Ex/s: 258.19\n",
            "\n",
            "===>  EVAL Epoch 8\n"
          ]
        },
        {
          "output_type": "stream",
          "name": "stderr",
          "text": [
            "0% [███████████████] 100% | ETA: 00:00:00\n",
            "Total time elapsed: 00:00:06\n"
          ]
        },
        {
          "output_type": "stream",
          "name": "stdout",
          "text": [
            "Finished Epoch 8 || Run Time:    3.1 | Load Time:    4.0 || F1:  95.11 | Prec:  93.86 | Rec:  96.40 || Ex/s: 345.04\n",
            "\n",
            "* Best F1: tensor(95.1111, device='cuda:0')\n",
            "Saving best model...\n",
            "Done.\n",
            "---------------------\n",
            "\n",
            "===>  TRAIN Epoch 9\n"
          ]
        },
        {
          "output_type": "stream",
          "name": "stderr",
          "text": [
            "0% [██████████████████████████████] 100% | ETA: 00:00:00\n",
            "Total time elapsed: 00:00:28\n"
          ]
        },
        {
          "output_type": "stream",
          "name": "stdout",
          "text": [
            "Finished Epoch 9 || Run Time:   16.4 | Load Time:   12.7 || F1:  97.66 | Prec:  96.55 | Rec:  98.80 || Ex/s: 254.69\n",
            "\n",
            "===>  EVAL Epoch 9\n"
          ]
        },
        {
          "output_type": "stream",
          "name": "stderr",
          "text": [
            "0% [███████████████] 100% | ETA: 00:00:00\n",
            "Total time elapsed: 00:00:06\n"
          ]
        },
        {
          "output_type": "stream",
          "name": "stdout",
          "text": [
            "Finished Epoch 9 || Run Time:    3.2 | Load Time:    4.0 || F1:  94.37 | Prec:  94.37 | Rec:  94.37 || Ex/s: 343.87\n",
            "\n",
            "---------------------\n",
            "\n",
            "===>  TRAIN Epoch 10\n"
          ]
        },
        {
          "output_type": "stream",
          "name": "stderr",
          "text": [
            "0% [██████████████████████████████] 100% | ETA: 00:00:00\n",
            "Total time elapsed: 00:00:28\n"
          ]
        },
        {
          "output_type": "stream",
          "name": "stdout",
          "text": [
            "Finished Epoch 10 || Run Time:   15.9 | Load Time:   12.5 || F1:  97.99 | Prec:  97.05 | Rec:  98.95 || Ex/s: 261.21\n",
            "\n",
            "===>  EVAL Epoch 10\n"
          ]
        },
        {
          "output_type": "stream",
          "name": "stderr",
          "text": [
            "0% [███████████████] 100% | ETA: 00:00:00\n",
            "Total time elapsed: 00:00:06\n"
          ]
        },
        {
          "output_type": "stream",
          "name": "stdout",
          "text": [
            "Finished Epoch 10 || Run Time:    3.1 | Load Time:    4.0 || F1:  94.48 | Prec:  94.58 | Rec:  94.37 || Ex/s: 346.60\n",
            "\n",
            "---------------------\n",
            "\n",
            "===>  TRAIN Epoch 11\n"
          ]
        },
        {
          "output_type": "stream",
          "name": "stderr",
          "text": [
            "0% [██████████████████████████████] 100% | ETA: 00:00:00\n",
            "Total time elapsed: 00:00:28\n"
          ]
        },
        {
          "output_type": "stream",
          "name": "stdout",
          "text": [
            "Finished Epoch 11 || Run Time:   15.9 | Load Time:   12.5 || F1:  97.95 | Prec:  97.12 | Rec:  98.80 || Ex/s: 260.60\n",
            "\n",
            "===>  EVAL Epoch 11\n"
          ]
        },
        {
          "output_type": "stream",
          "name": "stderr",
          "text": [
            "0% [███████████████] 100% | ETA: 00:00:00\n",
            "Total time elapsed: 00:00:07\n"
          ]
        },
        {
          "output_type": "stream",
          "name": "stdout",
          "text": [
            "Finished Epoch 11 || Run Time:    3.3 | Load Time:    4.3 || F1:  95.02 | Prec:  93.46 | Rec:  96.62 || Ex/s: 325.37\n",
            "\n",
            "---------------------\n",
            "\n",
            "===>  TRAIN Epoch 12\n"
          ]
        },
        {
          "output_type": "stream",
          "name": "stderr",
          "text": [
            "0% [██████████████████████████████] 100% | ETA: 00:00:00\n",
            "Total time elapsed: 00:00:28\n"
          ]
        },
        {
          "output_type": "stream",
          "name": "stdout",
          "text": [
            "Finished Epoch 12 || Run Time:   16.0 | Load Time:   12.5 || F1:  98.18 | Prec:  97.27 | Rec:  99.10 || Ex/s: 260.05\n",
            "\n",
            "===>  EVAL Epoch 12\n"
          ]
        },
        {
          "output_type": "stream",
          "name": "stderr",
          "text": [
            "0% [███████████████] 100% | ETA: 00:00:00\n",
            "Total time elapsed: 00:00:06\n"
          ]
        },
        {
          "output_type": "stream",
          "name": "stdout",
          "text": [
            "Finished Epoch 12 || Run Time:    3.1 | Load Time:    4.0 || F1:  95.12 | Prec:  93.67 | Rec:  96.62 || Ex/s: 346.08\n",
            "\n",
            "* Best F1: tensor(95.1219, device='cuda:0')\n",
            "Saving best model...\n",
            "Done.\n",
            "---------------------\n",
            "\n",
            "===>  TRAIN Epoch 13\n"
          ]
        },
        {
          "output_type": "stream",
          "name": "stderr",
          "text": [
            "0% [██████████████████████████████] 100% | ETA: 00:00:00\n",
            "Total time elapsed: 00:00:28\n"
          ]
        },
        {
          "output_type": "stream",
          "name": "stdout",
          "text": [
            "Finished Epoch 13 || Run Time:   16.0 | Load Time:   12.5 || F1:  98.36 | Prec:  97.63 | Rec:  99.10 || Ex/s: 260.37\n",
            "\n",
            "===>  EVAL Epoch 13\n"
          ]
        },
        {
          "output_type": "stream",
          "name": "stderr",
          "text": [
            "0% [███████████████] 100% | ETA: 00:00:00\n",
            "Total time elapsed: 00:00:06\n"
          ]
        },
        {
          "output_type": "stream",
          "name": "stdout",
          "text": [
            "Finished Epoch 13 || Run Time:    3.1 | Load Time:    4.0 || F1:  94.91 | Prec:  93.26 | Rec:  96.62 || Ex/s: 345.26\n",
            "\n",
            "---------------------\n",
            "\n",
            "===>  TRAIN Epoch 14\n"
          ]
        },
        {
          "output_type": "stream",
          "name": "stderr",
          "text": [
            "0% [██████████████████████████████] 100% | ETA: 00:00:00\n",
            "Total time elapsed: 00:00:29\n"
          ]
        },
        {
          "output_type": "stream",
          "name": "stdout",
          "text": [
            "Finished Epoch 14 || Run Time:   16.7 | Load Time:   12.9 || F1:  98.47 | Prec:  97.85 | Rec:  99.10 || Ex/s: 250.96\n",
            "\n",
            "===>  EVAL Epoch 14\n"
          ]
        },
        {
          "output_type": "stream",
          "name": "stderr",
          "text": [
            "0% [███████████████] 100% | ETA: 00:00:00\n",
            "Total time elapsed: 00:00:06\n"
          ]
        },
        {
          "output_type": "stream",
          "name": "stdout",
          "text": [
            "Finished Epoch 14 || Run Time:    3.2 | Load Time:    4.0 || F1:  94.91 | Prec:  93.26 | Rec:  96.62 || Ex/s: 343.46\n",
            "\n",
            "---------------------\n",
            "\n",
            "===>  TRAIN Epoch 15\n"
          ]
        },
        {
          "output_type": "stream",
          "name": "stderr",
          "text": [
            "0% [██████████████████████████████] 100% | ETA: 00:00:00\n",
            "Total time elapsed: 00:00:28\n"
          ]
        },
        {
          "output_type": "stream",
          "name": "stdout",
          "text": [
            "Finished Epoch 15 || Run Time:   16.0 | Load Time:   12.5 || F1:  98.55 | Prec:  97.92 | Rec:  99.17 || Ex/s: 260.46\n",
            "\n",
            "===>  EVAL Epoch 15\n"
          ]
        },
        {
          "output_type": "stream",
          "name": "stderr",
          "text": [
            "0% [███████████████] 100% | ETA: 00:00:00\n",
            "Total time elapsed: 00:00:06\n"
          ]
        },
        {
          "output_type": "stream",
          "name": "stdout",
          "text": [
            "Finished Epoch 15 || Run Time:    3.2 | Load Time:    4.0 || F1:  94.91 | Prec:  93.26 | Rec:  96.62 || Ex/s: 344.53\n",
            "\n",
            "---------------------\n",
            "\n",
            "Loading best model...\n",
            "Training done.\n"
          ]
        },
        {
          "output_type": "execute_result",
          "data": {
            "text/plain": [
              "tensor(95.1219, device='cuda:0')"
            ]
          },
          "metadata": {},
          "execution_count": 41
        }
      ],
      "source": [
        "model.run_train(\n",
        "    train,\n",
        "    validation,\n",
        "    epochs=15,\n",
        "    batch_size=32,\n",
        "    best_save_path='attention_model.pth',\n",
        "    pos_neg_ratio=3)"
      ]
    },
    {
      "cell_type": "code",
      "execution_count": null,
      "metadata": {
        "id": "oxv_PpwD75CO",
        "colab": {
          "base_uri": "https://localhost:8080/"
        },
        "outputId": "ae76a551-f44e-4e14-f925-6eb0767128c1"
      },
      "outputs": [
        {
          "output_type": "stream",
          "name": "stdout",
          "text": [
            "===>  EVAL Epoch 12\n"
          ]
        },
        {
          "output_type": "stream",
          "name": "stderr",
          "text": [
            "/usr/local/lib/python3.7/dist-packages/torch/nn/modules/module.py:974: UserWarning: Using a non-full backward hook when the forward contains multiple autograd Nodes is deprecated and will be removed in future versions. This hook will be missing some grad_input. Please use register_full_backward_hook to get the documented behavior.\n",
            "  warnings.warn(\"Using a non-full backward hook when the forward contains multiple autograd Nodes \"\n",
            "/usr/local/lib/python3.7/dist-packages/torch/nn/modules/module.py:949: UserWarning: Using non-full backward hooks on a Module that does not take as input a single Tensor or a tuple of Tensors is deprecated and will be removed in future versions. This hook will be missing some of the grad_input. Please use register_full_backward_hook to get the documented behavior.\n",
            "  warnings.warn(\"Using non-full backward hooks on a Module that does not take as input a \"\n",
            "/usr/local/lib/python3.7/dist-packages/torch/nn/modules/module.py:939: UserWarning: Using non-full backward hooks on a Module that does not return a single Tensor or a tuple of Tensors is deprecated and will be removed in future versions. This hook will be missing some of the grad_output. Please use register_full_backward_hook to get the documented behavior.\n",
            "  warnings.warn(\"Using non-full backward hooks on a Module that does not return a \"\n",
            "0% [███████████████] 100% | ETA: 00:00:00\n",
            "Total time elapsed: 00:00:06\n"
          ]
        },
        {
          "output_type": "stream",
          "name": "stdout",
          "text": [
            "Finished Epoch 12 || Run Time:    3.2 | Load Time:    4.0 || F1:  95.81 | Prec:  93.75 | Rec:  97.97 || Ex/s: 343.47\n",
            "\n"
          ]
        },
        {
          "output_type": "execute_result",
          "data": {
            "text/plain": [
              "tensor(95.8150, device='cuda:0')"
            ]
          },
          "metadata": {},
          "execution_count": 42
        }
      ],
      "source": [
        "# Compute F1 on test set\n",
        "model.run_eval(test)"
      ]
    },
    {
      "cell_type": "markdown",
      "metadata": {
        "id": "Cp1J6BdH75CP"
      },
      "source": [
        "##### DBLP-GoogleScholar"
      ]
    },
    {
      "cell_type": "code",
      "execution_count": null,
      "metadata": {
        "id": "aZ4UKkgV75CP"
      },
      "outputs": [],
      "source": [
        "train, validation, test = dm.data.process(\n",
        "    path='/content/IC/datasesErros/AADatasets/Dirty/DBLP-GoogleScholar//',\n",
        "    train='joined_train.csv',\n",
        "    validation='joined_valid.csv',\n",
        "    test='joined_test.csv')"
      ]
    },
    {
      "cell_type": "code",
      "execution_count": null,
      "metadata": {
        "id": "TLjDl_e_75CP"
      },
      "outputs": [],
      "source": [
        "model = dm.MatchingModel(attr_summarizer='attention')"
      ]
    },
    {
      "cell_type": "code",
      "execution_count": null,
      "metadata": {
        "id": "WKDMNhYI75CQ",
        "colab": {
          "base_uri": "https://localhost:8080/"
        },
        "outputId": "11f54085-29a5-48a8-dc4f-5aa18379bbc6"
      },
      "outputs": [
        {
          "output_type": "stream",
          "name": "stdout",
          "text": [
            "* Number of trainable parameters: 4332002\n",
            "===>  TRAIN Epoch 1\n"
          ]
        },
        {
          "output_type": "stream",
          "name": "stderr",
          "text": [
            "/usr/local/lib/python3.7/dist-packages/torch/nn/modules/module.py:974: UserWarning: Using a non-full backward hook when the forward contains multiple autograd Nodes is deprecated and will be removed in future versions. This hook will be missing some grad_input. Please use register_full_backward_hook to get the documented behavior.\n",
            "  warnings.warn(\"Using a non-full backward hook when the forward contains multiple autograd Nodes \"\n",
            "/usr/local/lib/python3.7/dist-packages/torch/nn/modules/module.py:949: UserWarning: Using non-full backward hooks on a Module that does not take as input a single Tensor or a tuple of Tensors is deprecated and will be removed in future versions. This hook will be missing some of the grad_input. Please use register_full_backward_hook to get the documented behavior.\n",
            "  warnings.warn(\"Using non-full backward hooks on a Module that does not take as input a \"\n",
            "/usr/local/lib/python3.7/dist-packages/torch/nn/modules/module.py:939: UserWarning: Using non-full backward hooks on a Module that does not return a single Tensor or a tuple of Tensors is deprecated and will be removed in future versions. This hook will be missing some of the grad_output. Please use register_full_backward_hook to get the documented behavior.\n",
            "  warnings.warn(\"Using non-full backward hooks on a Module that does not return a \"\n",
            "/usr/local/lib/python3.7/dist-packages/torch/nn/functional.py:2742: UserWarning: reduction: 'mean' divides the total loss by both the batch size and the support size.'batchmean' divides only by the batch size, and aligns with the KL div math definition.'mean' will be changed to behave the same as 'batchmean' in the next major release.\n",
            "  \"reduction: 'mean' divides the total loss by both the batch size and the support size.\"\n",
            "0% [██████████████████████████████] 100% | ETA: 00:00:00\n",
            "Total time elapsed: 00:01:00\n"
          ]
        },
        {
          "output_type": "stream",
          "name": "stdout",
          "text": [
            "Finished Epoch 1 || Run Time:   35.8 | Load Time:   25.5 || F1:  70.54 | Prec:  62.40 | Rec:  81.14 || Ex/s: 280.80\n",
            "\n",
            "===>  EVAL Epoch 1\n"
          ]
        },
        {
          "output_type": "stream",
          "name": "stderr",
          "text": [
            "0% [██████████████████████████████] 100% | ETA: 00:00:00\n",
            "Total time elapsed: 00:00:14\n"
          ]
        },
        {
          "output_type": "stream",
          "name": "stdout",
          "text": [
            "Finished Epoch 1 || Run Time:    7.1 | Load Time:    7.9 || F1:  81.17 | Prec:  78.02 | Rec:  84.58 || Ex/s: 382.69\n",
            "\n",
            "* Best F1: tensor(81.1659, device='cuda:0')\n",
            "Saving best model...\n",
            "Done.\n",
            "---------------------\n",
            "\n",
            "===>  TRAIN Epoch 2\n"
          ]
        },
        {
          "output_type": "stream",
          "name": "stderr",
          "text": [
            "0% [██████████████████████████████] 100% | ETA: 00:00:00\n",
            "Total time elapsed: 00:01:01\n"
          ]
        },
        {
          "output_type": "stream",
          "name": "stdout",
          "text": [
            "Finished Epoch 2 || Run Time:   36.3 | Load Time:   25.6 || F1:  84.10 | Prec:  78.56 | Rec:  90.49 || Ex/s: 278.35\n",
            "\n",
            "===>  EVAL Epoch 2\n"
          ]
        },
        {
          "output_type": "stream",
          "name": "stderr",
          "text": [
            "0% [██████████████████████████████] 100% | ETA: 00:00:00\n",
            "Total time elapsed: 00:00:15\n"
          ]
        },
        {
          "output_type": "stream",
          "name": "stdout",
          "text": [
            "Finished Epoch 2 || Run Time:    7.1 | Load Time:    7.9 || F1:  85.94 | Prec:  84.28 | Rec:  87.66 || Ex/s: 380.27\n",
            "\n",
            "* Best F1: tensor(85.9368, device='cuda:0')\n",
            "Saving best model...\n",
            "Done.\n",
            "---------------------\n",
            "\n",
            "===>  TRAIN Epoch 3\n"
          ]
        },
        {
          "output_type": "stream",
          "name": "stderr",
          "text": [
            "0% [██████████████████████████████] 100% | ETA: 00:00:00\n",
            "Total time elapsed: 00:01:01\n"
          ]
        },
        {
          "output_type": "stream",
          "name": "stdout",
          "text": [
            "Finished Epoch 3 || Run Time:   36.3 | Load Time:   25.6 || F1:  86.57 | Prec:  81.56 | Rec:  92.24 || Ex/s: 278.12\n",
            "\n",
            "===>  EVAL Epoch 3\n"
          ]
        },
        {
          "output_type": "stream",
          "name": "stderr",
          "text": [
            "0% [██████████████████████████████] 100% | ETA: 00:00:00\n",
            "Total time elapsed: 00:00:15\n"
          ]
        },
        {
          "output_type": "stream",
          "name": "stdout",
          "text": [
            "Finished Epoch 3 || Run Time:    7.2 | Load Time:    8.0 || F1:  86.75 | Prec:  84.05 | Rec:  89.63 || Ex/s: 378.49\n",
            "\n",
            "* Best F1: tensor(86.7481, device='cuda:0')\n",
            "Saving best model...\n",
            "Done.\n",
            "---------------------\n",
            "\n",
            "===>  TRAIN Epoch 4\n"
          ]
        },
        {
          "output_type": "stream",
          "name": "stderr",
          "text": [
            "0% [██████████████████████████████] 100% | ETA: 00:00:00\n",
            "Total time elapsed: 00:01:01\n"
          ]
        },
        {
          "output_type": "stream",
          "name": "stdout",
          "text": [
            "Finished Epoch 4 || Run Time:   36.8 | Load Time:   25.7 || F1:  88.44 | Prec:  83.97 | Rec:  93.42 || Ex/s: 275.51\n",
            "\n",
            "===>  EVAL Epoch 4\n"
          ]
        },
        {
          "output_type": "stream",
          "name": "stderr",
          "text": [
            "0% [██████████████████████████████] 100% | ETA: 00:00:00\n",
            "Total time elapsed: 00:00:15\n"
          ]
        },
        {
          "output_type": "stream",
          "name": "stdout",
          "text": [
            "Finished Epoch 4 || Run Time:    7.2 | Load Time:    7.9 || F1:  85.92 | Prec:  81.42 | Rec:  90.93 || Ex/s: 379.55\n",
            "\n",
            "---------------------\n",
            "\n",
            "===>  TRAIN Epoch 5\n"
          ]
        },
        {
          "output_type": "stream",
          "name": "stderr",
          "text": [
            "0% [██████████████████████████████] 100% | ETA: 00:00:00\n",
            "Total time elapsed: 00:01:01\n"
          ]
        },
        {
          "output_type": "stream",
          "name": "stdout",
          "text": [
            "Finished Epoch 5 || Run Time:   36.8 | Load Time:   25.5 || F1:  90.01 | Prec:  85.91 | Rec:  94.51 || Ex/s: 276.43\n",
            "\n",
            "===>  EVAL Epoch 5\n"
          ]
        },
        {
          "output_type": "stream",
          "name": "stderr",
          "text": [
            "0% [██████████████████████████████] 100% | ETA: 00:00:00\n",
            "Total time elapsed: 00:00:15\n"
          ]
        },
        {
          "output_type": "stream",
          "name": "stdout",
          "text": [
            "Finished Epoch 5 || Run Time:    7.3 | Load Time:    8.0 || F1:  88.01 | Prec:  85.60 | Rec:  90.56 || Ex/s: 376.42\n",
            "\n",
            "* Best F1: tensor(88.0109, device='cuda:0')\n",
            "Saving best model...\n",
            "Done.\n",
            "---------------------\n",
            "\n",
            "===>  TRAIN Epoch 6\n"
          ]
        },
        {
          "output_type": "stream",
          "name": "stderr",
          "text": [
            "0% [██████████████████████████████] 100% | ETA: 00:00:00\n",
            "Total time elapsed: 00:01:01\n"
          ]
        },
        {
          "output_type": "stream",
          "name": "stdout",
          "text": [
            "Finished Epoch 6 || Run Time:   36.4 | Load Time:   25.4 || F1:  90.94 | Prec:  87.05 | Rec:  95.20 || Ex/s: 279.06\n",
            "\n",
            "===>  EVAL Epoch 6\n"
          ]
        },
        {
          "output_type": "stream",
          "name": "stderr",
          "text": [
            "0% [██████████████████████████████] 100% | ETA: 00:00:00\n",
            "Total time elapsed: 00:00:15\n"
          ]
        },
        {
          "output_type": "stream",
          "name": "stdout",
          "text": [
            "Finished Epoch 6 || Run Time:    7.2 | Load Time:    8.2 || F1:  88.02 | Prec:  83.49 | Rec:  93.08 || Ex/s: 372.92\n",
            "\n",
            "* Best F1: tensor(88.0247, device='cuda:0')\n",
            "Saving best model...\n",
            "Done.\n",
            "---------------------\n",
            "\n",
            "===>  TRAIN Epoch 7\n"
          ]
        },
        {
          "output_type": "stream",
          "name": "stderr",
          "text": [
            "0% [██████████████████████████████] 100% | ETA: 00:00:00\n",
            "Total time elapsed: 00:01:00\n"
          ]
        },
        {
          "output_type": "stream",
          "name": "stdout",
          "text": [
            "Finished Epoch 7 || Run Time:   35.6 | Load Time:   25.3 || F1:  91.76 | Prec:  88.16 | Rec:  95.67 || Ex/s: 282.73\n",
            "\n",
            "===>  EVAL Epoch 7\n"
          ]
        },
        {
          "output_type": "stream",
          "name": "stderr",
          "text": [
            "0% [██████████████████████████████] 100% | ETA: 00:00:00\n",
            "Total time elapsed: 00:00:14\n"
          ]
        },
        {
          "output_type": "stream",
          "name": "stdout",
          "text": [
            "Finished Epoch 7 || Run Time:    7.0 | Load Time:    7.9 || F1:  87.95 | Prec:  83.59 | Rec:  92.80 || Ex/s: 384.98\n",
            "\n",
            "---------------------\n",
            "\n",
            "===>  TRAIN Epoch 8\n"
          ]
        },
        {
          "output_type": "stream",
          "name": "stderr",
          "text": [
            "0% [██████████████████████████████] 100% | ETA: 00:00:00\n",
            "Total time elapsed: 00:01:00\n"
          ]
        },
        {
          "output_type": "stream",
          "name": "stdout",
          "text": [
            "Finished Epoch 8 || Run Time:   35.9 | Load Time:   25.5 || F1:  92.52 | Prec:  89.20 | Rec:  96.10 || Ex/s: 280.72\n",
            "\n",
            "===>  EVAL Epoch 8\n"
          ]
        },
        {
          "output_type": "stream",
          "name": "stderr",
          "text": [
            "0% [██████████████████████████████] 100% | ETA: 00:00:00\n",
            "Total time elapsed: 00:00:15\n"
          ]
        },
        {
          "output_type": "stream",
          "name": "stdout",
          "text": [
            "Finished Epoch 8 || Run Time:    7.1 | Load Time:    7.9 || F1:  87.03 | Prec:  81.21 | Rec:  93.74 || Ex/s: 380.82\n",
            "\n",
            "---------------------\n",
            "\n",
            "===>  TRAIN Epoch 9\n"
          ]
        },
        {
          "output_type": "stream",
          "name": "stderr",
          "text": [
            "0% [██████████████████████████████] 100% | ETA: 00:00:00\n",
            "Total time elapsed: 00:01:01\n"
          ]
        },
        {
          "output_type": "stream",
          "name": "stdout",
          "text": [
            "Finished Epoch 9 || Run Time:   36.3 | Load Time:   25.6 || F1:  92.34 | Prec:  89.10 | Rec:  95.82 || Ex/s: 278.17\n",
            "\n",
            "===>  EVAL Epoch 9\n"
          ]
        },
        {
          "output_type": "stream",
          "name": "stderr",
          "text": [
            "0% [██████████████████████████████] 100% | ETA: 00:00:00\n",
            "Total time elapsed: 00:00:14\n"
          ]
        },
        {
          "output_type": "stream",
          "name": "stdout",
          "text": [
            "Finished Epoch 9 || Run Time:    7.1 | Load Time:    7.9 || F1:  87.55 | Prec:  82.71 | Rec:  92.99 || Ex/s: 382.98\n",
            "\n",
            "---------------------\n",
            "\n",
            "===>  TRAIN Epoch 10\n"
          ]
        },
        {
          "output_type": "stream",
          "name": "stderr",
          "text": [
            "0% [██████████████████████████████] 100% | ETA: 00:00:00\n",
            "Total time elapsed: 00:01:01\n"
          ]
        },
        {
          "output_type": "stream",
          "name": "stdout",
          "text": [
            "Finished Epoch 10 || Run Time:   36.3 | Load Time:   25.5 || F1:  92.98 | Prec:  90.13 | Rec:  96.01 || Ex/s: 278.39\n",
            "\n",
            "===>  EVAL Epoch 10\n"
          ]
        },
        {
          "output_type": "stream",
          "name": "stderr",
          "text": [
            "0% [██████████████████████████████] 100% | ETA: 00:00:00\n",
            "Total time elapsed: 00:00:14\n"
          ]
        },
        {
          "output_type": "stream",
          "name": "stdout",
          "text": [
            "Finished Epoch 10 || Run Time:    7.1 | Load Time:    7.9 || F1:  87.94 | Prec:  83.94 | Rec:  92.34 || Ex/s: 382.79\n",
            "\n",
            "---------------------\n",
            "\n",
            "===>  TRAIN Epoch 11\n"
          ]
        },
        {
          "output_type": "stream",
          "name": "stderr",
          "text": [
            "0% [██████████████████████████████] 100% | ETA: 00:00:00\n",
            "Total time elapsed: 00:01:01\n"
          ]
        },
        {
          "output_type": "stream",
          "name": "stdout",
          "text": [
            "Finished Epoch 11 || Run Time:   36.0 | Load Time:   25.5 || F1:  93.56 | Prec:  90.86 | Rec:  96.41 || Ex/s: 279.70\n",
            "\n",
            "===>  EVAL Epoch 11\n"
          ]
        },
        {
          "output_type": "stream",
          "name": "stderr",
          "text": [
            "0% [██████████████████████████████] 100% | ETA: 00:00:00\n",
            "Total time elapsed: 00:00:15\n"
          ]
        },
        {
          "output_type": "stream",
          "name": "stdout",
          "text": [
            "Finished Epoch 11 || Run Time:    7.1 | Load Time:    7.9 || F1:  88.47 | Prec:  85.39 | Rec:  91.78 || Ex/s: 381.49\n",
            "\n",
            "* Best F1: tensor(88.4685, device='cuda:0')\n",
            "Saving best model...\n",
            "Done.\n",
            "---------------------\n",
            "\n",
            "===>  TRAIN Epoch 12\n"
          ]
        },
        {
          "output_type": "stream",
          "name": "stderr",
          "text": [
            "0% [██████████████████████████████] 100% | ETA: 00:00:00\n",
            "Total time elapsed: 00:01:01\n"
          ]
        },
        {
          "output_type": "stream",
          "name": "stdout",
          "text": [
            "Finished Epoch 12 || Run Time:   36.8 | Load Time:   25.7 || F1:  93.97 | Prec:  91.44 | Rec:  96.63 || Ex/s: 275.64\n",
            "\n",
            "===>  EVAL Epoch 12\n"
          ]
        },
        {
          "output_type": "stream",
          "name": "stderr",
          "text": [
            "0% [██████████████████████████████] 100% | ETA: 00:00:00\n",
            "Total time elapsed: 00:00:15\n"
          ]
        },
        {
          "output_type": "stream",
          "name": "stdout",
          "text": [
            "Finished Epoch 12 || Run Time:    7.4 | Load Time:    8.2 || F1:  89.01 | Prec:  86.57 | Rec:  91.59 || Ex/s: 368.83\n",
            "\n",
            "* Best F1: tensor(89.0100, device='cuda:0')\n",
            "Saving best model...\n",
            "Done.\n",
            "---------------------\n",
            "\n",
            "===>  TRAIN Epoch 13\n"
          ]
        },
        {
          "output_type": "stream",
          "name": "stderr",
          "text": [
            "0% [██████████████████████████████] 100% | ETA: 00:00:00\n",
            "Total time elapsed: 00:01:01\n"
          ]
        },
        {
          "output_type": "stream",
          "name": "stdout",
          "text": [
            "Finished Epoch 13 || Run Time:   36.2 | Load Time:   25.4 || F1:  94.50 | Prec:  92.20 | Rec:  96.91 || Ex/s: 279.58\n",
            "\n",
            "===>  EVAL Epoch 13\n"
          ]
        },
        {
          "output_type": "stream",
          "name": "stderr",
          "text": [
            "0% [██████████████████████████████] 100% | ETA: 00:00:00\n",
            "Total time elapsed: 00:00:15\n"
          ]
        },
        {
          "output_type": "stream",
          "name": "stdout",
          "text": [
            "Finished Epoch 13 || Run Time:    7.3 | Load Time:    8.2 || F1:  88.79 | Prec:  86.65 | Rec:  91.03 || Ex/s: 369.59\n",
            "\n",
            "---------------------\n",
            "\n",
            "===>  TRAIN Epoch 14\n"
          ]
        },
        {
          "output_type": "stream",
          "name": "stderr",
          "text": [
            "0% [██████████████████████████████] 100% | ETA: 00:00:00\n",
            "Total time elapsed: 00:01:00\n"
          ]
        },
        {
          "output_type": "stream",
          "name": "stdout",
          "text": [
            "Finished Epoch 14 || Run Time:   35.9 | Load Time:   25.4 || F1:  94.80 | Prec:  92.75 | Rec:  96.94 || Ex/s: 280.98\n",
            "\n",
            "===>  EVAL Epoch 14\n"
          ]
        },
        {
          "output_type": "stream",
          "name": "stderr",
          "text": [
            "0% [██████████████████████████████] 100% | ETA: 00:00:00\n",
            "Total time elapsed: 00:00:15\n"
          ]
        },
        {
          "output_type": "stream",
          "name": "stdout",
          "text": [
            "Finished Epoch 14 || Run Time:    7.1 | Load Time:    7.9 || F1:  88.80 | Prec:  86.59 | Rec:  91.12 || Ex/s: 381.87\n",
            "\n",
            "---------------------\n",
            "\n",
            "===>  TRAIN Epoch 15\n"
          ]
        },
        {
          "output_type": "stream",
          "name": "stderr",
          "text": [
            "0% [██████████████████████████████] 100% | ETA: 00:00:00\n",
            "Total time elapsed: 00:01:01\n"
          ]
        },
        {
          "output_type": "stream",
          "name": "stdout",
          "text": [
            "Finished Epoch 15 || Run Time:   36.2 | Load Time:   25.5 || F1:  95.19 | Prec:  93.24 | Rec:  97.22 || Ex/s: 279.05\n",
            "\n",
            "===>  EVAL Epoch 15\n"
          ]
        },
        {
          "output_type": "stream",
          "name": "stderr",
          "text": [
            "0% [██████████████████████████████] 100% | ETA: 00:00:00\n",
            "Total time elapsed: 00:00:15\n"
          ]
        },
        {
          "output_type": "stream",
          "name": "stdout",
          "text": [
            "Finished Epoch 15 || Run Time:    7.1 | Load Time:    7.9 || F1:  88.84 | Prec:  86.67 | Rec:  91.12 || Ex/s: 381.47\n",
            "\n",
            "---------------------\n",
            "\n",
            "Loading best model...\n",
            "Training done.\n"
          ]
        },
        {
          "output_type": "execute_result",
          "data": {
            "text/plain": [
              "tensor(89.0100, device='cuda:0')"
            ]
          },
          "metadata": {},
          "execution_count": 45
        }
      ],
      "source": [
        "model.run_train(\n",
        "    train,\n",
        "    validation,\n",
        "    epochs=15,\n",
        "    batch_size=32,\n",
        "    best_save_path='attention_model.pth',\n",
        "    pos_neg_ratio=3)"
      ]
    },
    {
      "cell_type": "code",
      "execution_count": null,
      "metadata": {
        "id": "T5lYYwCe75CQ",
        "colab": {
          "base_uri": "https://localhost:8080/"
        },
        "outputId": "338f5739-7745-4571-f1d7-a041d1c0b234"
      },
      "outputs": [
        {
          "output_type": "stream",
          "name": "stdout",
          "text": [
            "===>  EVAL Epoch 12\n"
          ]
        },
        {
          "output_type": "stream",
          "name": "stderr",
          "text": [
            "/usr/local/lib/python3.7/dist-packages/torch/nn/modules/module.py:974: UserWarning: Using a non-full backward hook when the forward contains multiple autograd Nodes is deprecated and will be removed in future versions. This hook will be missing some grad_input. Please use register_full_backward_hook to get the documented behavior.\n",
            "  warnings.warn(\"Using a non-full backward hook when the forward contains multiple autograd Nodes \"\n",
            "/usr/local/lib/python3.7/dist-packages/torch/nn/modules/module.py:949: UserWarning: Using non-full backward hooks on a Module that does not take as input a single Tensor or a tuple of Tensors is deprecated and will be removed in future versions. This hook will be missing some of the grad_input. Please use register_full_backward_hook to get the documented behavior.\n",
            "  warnings.warn(\"Using non-full backward hooks on a Module that does not take as input a \"\n",
            "/usr/local/lib/python3.7/dist-packages/torch/nn/modules/module.py:939: UserWarning: Using non-full backward hooks on a Module that does not return a single Tensor or a tuple of Tensors is deprecated and will be removed in future versions. This hook will be missing some of the grad_output. Please use register_full_backward_hook to get the documented behavior.\n",
            "  warnings.warn(\"Using non-full backward hooks on a Module that does not return a \"\n",
            "0% [██████████████████████████████] 100% | ETA: 00:00:00\n",
            "Total time elapsed: 00:00:15\n"
          ]
        },
        {
          "output_type": "stream",
          "name": "stdout",
          "text": [
            "Finished Epoch 12 || Run Time:    7.2 | Load Time:    8.0 || F1:  88.74 | Prec:  86.64 | Rec:  90.93 || Ex/s: 377.46\n",
            "\n"
          ]
        },
        {
          "output_type": "execute_result",
          "data": {
            "text/plain": [
              "tensor(88.7369, device='cuda:0')"
            ]
          },
          "metadata": {},
          "execution_count": 46
        }
      ],
      "source": [
        "# Compute F1 on test set\n",
        "model.run_eval(test)"
      ]
    },
    {
      "cell_type": "markdown",
      "metadata": {
        "id": "6KL5c0Ov8Zkv"
      },
      "source": [
        "### HYBRID"
      ]
    },
    {
      "cell_type": "markdown",
      "metadata": {
        "id": "A2FLzeDM8Zkv"
      },
      "source": [
        "#### STRUCTURED"
      ]
    },
    {
      "cell_type": "markdown",
      "metadata": {
        "id": "vP7EvOdZ8Zkw"
      },
      "source": [
        "##### Amazon-Google"
      ]
    },
    {
      "cell_type": "code",
      "execution_count": null,
      "metadata": {
        "id": "yaP7hFJ_8Zkw"
      },
      "outputs": [],
      "source": [
        "train, validation, test = dm.data.process(\n",
        "    path='/content/IC/datasesErros/AADatasets/Structured/Amazon-Google/',\n",
        "    train='joined_train.csv',\n",
        "    validation='joined_valid.csv',\n",
        "    test='joined_test.csv')"
      ]
    },
    {
      "cell_type": "code",
      "execution_count": null,
      "metadata": {
        "id": "BF9iNYX-8Zkw"
      },
      "outputs": [],
      "source": [
        "model = dm.MatchingModel(attr_summarizer='hybrid')"
      ]
    },
    {
      "cell_type": "code",
      "execution_count": null,
      "metadata": {
        "id": "DqQ6GU2W8Zkx",
        "colab": {
          "base_uri": "https://localhost:8080/"
        },
        "outputId": "3c05fb7e-f593-4423-e1cf-c039ca8f2000"
      },
      "outputs": [
        {
          "output_type": "stream",
          "name": "stderr",
          "text": [
            "/usr/local/lib/python3.7/dist-packages/torch/nn/modules/module.py:949: UserWarning: Using non-full backward hooks on a Module that does not take as input a single Tensor or a tuple of Tensors is deprecated and will be removed in future versions. This hook will be missing some of the grad_input. Please use register_full_backward_hook to get the documented behavior.\n",
            "  warnings.warn(\"Using non-full backward hooks on a Module that does not take as input a \"\n",
            "/usr/local/lib/python3.7/dist-packages/torch/nn/modules/module.py:974: UserWarning: Using a non-full backward hook when the forward contains multiple autograd Nodes is deprecated and will be removed in future versions. This hook will be missing some grad_input. Please use register_full_backward_hook to get the documented behavior.\n",
            "  warnings.warn(\"Using a non-full backward hook when the forward contains multiple autograd Nodes \"\n"
          ]
        },
        {
          "output_type": "stream",
          "name": "stdout",
          "text": [
            "* Number of trainable parameters: 7133105\n",
            "===>  TRAIN Epoch 1\n"
          ]
        },
        {
          "output_type": "stream",
          "name": "stderr",
          "text": [
            "/usr/local/lib/python3.7/dist-packages/torch/nn/modules/module.py:939: UserWarning: Using non-full backward hooks on a Module that does not return a single Tensor or a tuple of Tensors is deprecated and will be removed in future versions. This hook will be missing some of the grad_output. Please use register_full_backward_hook to get the documented behavior.\n",
            "  warnings.warn(\"Using non-full backward hooks on a Module that does not return a \"\n",
            "/usr/local/lib/python3.7/dist-packages/torch/nn/functional.py:2742: UserWarning: reduction: 'mean' divides the total loss by both the batch size and the support size.'batchmean' divides only by the batch size, and aligns with the KL div math definition.'mean' will be changed to behave the same as 'batchmean' in the next major release.\n",
            "  \"reduction: 'mean' divides the total loss by both the batch size and the support size.\"\n",
            "0% [██████████████████████████████] 100% | ETA: 00:00:00\n",
            "Total time elapsed: 00:00:22\n"
          ]
        },
        {
          "output_type": "stream",
          "name": "stdout",
          "text": [
            "Finished Epoch 1 || Run Time:   18.3 | Load Time:    4.4 || F1:  30.87 | Prec:  37.92 | Rec:  26.04 || Ex/s: 302.91\n",
            "\n",
            "===>  EVAL Epoch 1\n"
          ]
        },
        {
          "output_type": "stream",
          "name": "stderr",
          "text": [
            "0% [██████████████] 100% | ETA: 00:00:00\n",
            "Total time elapsed: 00:00:04\n"
          ]
        },
        {
          "output_type": "stream",
          "name": "stdout",
          "text": [
            "Finished Epoch 1 || Run Time:    3.0 | Load Time:    1.4 || F1:  47.85 | Prec:  42.52 | Rec:  54.70 || Ex/s: 519.52\n",
            "\n",
            "* Best F1: tensor(47.8505, device='cuda:0')\n",
            "Saving best model...\n",
            "Done.\n",
            "---------------------\n",
            "\n",
            "===>  TRAIN Epoch 2\n"
          ]
        },
        {
          "output_type": "stream",
          "name": "stderr",
          "text": [
            "0% [██████████████████████████████] 100% | ETA: 00:00:00\n",
            "Total time elapsed: 00:00:22\n"
          ]
        },
        {
          "output_type": "stream",
          "name": "stdout",
          "text": [
            "Finished Epoch 2 || Run Time:   17.9 | Load Time:    4.3 || F1:  56.31 | Prec:  48.08 | Rec:  67.95 || Ex/s: 309.16\n",
            "\n",
            "===>  EVAL Epoch 2\n"
          ]
        },
        {
          "output_type": "stream",
          "name": "stderr",
          "text": [
            "0% [██████████████] 100% | ETA: 00:00:00\n",
            "Total time elapsed: 00:00:04\n"
          ]
        },
        {
          "output_type": "stream",
          "name": "stdout",
          "text": [
            "Finished Epoch 2 || Run Time:    3.1 | Load Time:    1.4 || F1:  60.33 | Prec:  49.45 | Rec:  77.35 || Ex/s: 507.67\n",
            "\n",
            "* Best F1: tensor(60.3333, device='cuda:0')\n",
            "Saving best model...\n",
            "Done.\n",
            "---------------------\n",
            "\n",
            "===>  TRAIN Epoch 3\n"
          ]
        },
        {
          "output_type": "stream",
          "name": "stderr",
          "text": [
            "0% [██████████████████████████████] 100% | ETA: 00:00:00\n",
            "Total time elapsed: 00:00:21\n"
          ]
        },
        {
          "output_type": "stream",
          "name": "stdout",
          "text": [
            "Finished Epoch 3 || Run Time:   17.5 | Load Time:    4.3 || F1:  68.09 | Prec:  59.20 | Rec:  80.11 || Ex/s: 314.63\n",
            "\n",
            "===>  EVAL Epoch 3\n"
          ]
        },
        {
          "output_type": "stream",
          "name": "stderr",
          "text": [
            "0% [██████████████] 100% | ETA: 00:00:00\n",
            "Total time elapsed: 00:00:04\n"
          ]
        },
        {
          "output_type": "stream",
          "name": "stdout",
          "text": [
            "Finished Epoch 3 || Run Time:    3.0 | Load Time:    1.4 || F1:  66.33 | Prec:  55.08 | Rec:  83.33 || Ex/s: 520.59\n",
            "\n",
            "* Best F1: tensor(66.3265, device='cuda:0')\n",
            "Saving best model...\n",
            "Done.\n",
            "---------------------\n",
            "\n",
            "===>  TRAIN Epoch 4\n"
          ]
        },
        {
          "output_type": "stream",
          "name": "stderr",
          "text": [
            "0% [██████████████████████████████] 100% | ETA: 00:00:00\n",
            "Total time elapsed: 00:00:22\n"
          ]
        },
        {
          "output_type": "stream",
          "name": "stdout",
          "text": [
            "Finished Epoch 4 || Run Time:   18.2 | Load Time:    4.4 || F1:  77.75 | Prec:  69.03 | Rec:  88.98 || Ex/s: 303.56\n",
            "\n",
            "===>  EVAL Epoch 4\n"
          ]
        },
        {
          "output_type": "stream",
          "name": "stderr",
          "text": [
            "0% [██████████████] 100% | ETA: 00:00:00\n",
            "Total time elapsed: 00:00:04\n"
          ]
        },
        {
          "output_type": "stream",
          "name": "stdout",
          "text": [
            "Finished Epoch 4 || Run Time:    3.0 | Load Time:    1.4 || F1:  67.77 | Prec:  55.43 | Rec:  87.18 || Ex/s: 518.21\n",
            "\n",
            "* Best F1: tensor(67.7741, device='cuda:0')\n",
            "Saving best model...\n",
            "Done.\n",
            "---------------------\n",
            "\n",
            "===>  TRAIN Epoch 5\n"
          ]
        },
        {
          "output_type": "stream",
          "name": "stderr",
          "text": [
            "0% [██████████████████████████████] 100% | ETA: 00:00:00\n",
            "Total time elapsed: 00:00:22\n"
          ]
        },
        {
          "output_type": "stream",
          "name": "stdout",
          "text": [
            "Finished Epoch 5 || Run Time:   17.8 | Load Time:    4.3 || F1:  82.79 | Prec:  74.88 | Rec:  92.56 || Ex/s: 310.33\n",
            "\n",
            "===>  EVAL Epoch 5\n"
          ]
        },
        {
          "output_type": "stream",
          "name": "stderr",
          "text": [
            "0% [██████████████] 100% | ETA: 00:00:00\n",
            "Total time elapsed: 00:00:04\n"
          ]
        },
        {
          "output_type": "stream",
          "name": "stdout",
          "text": [
            "Finished Epoch 5 || Run Time:    3.0 | Load Time:    1.4 || F1:  69.58 | Prec:  62.67 | Rec:  78.21 || Ex/s: 520.29\n",
            "\n",
            "* Best F1: tensor(69.5817, device='cuda:0')\n",
            "Saving best model...\n",
            "Done.\n",
            "---------------------\n",
            "\n",
            "===>  TRAIN Epoch 6\n"
          ]
        },
        {
          "output_type": "stream",
          "name": "stderr",
          "text": [
            "0% [██████████████████████████████] 100% | ETA: 00:00:00\n",
            "Total time elapsed: 00:00:21\n"
          ]
        },
        {
          "output_type": "stream",
          "name": "stdout",
          "text": [
            "Finished Epoch 6 || Run Time:   17.7 | Load Time:    4.3 || F1:  86.72 | Prec:  79.57 | Rec:  95.28 || Ex/s: 312.16\n",
            "\n",
            "===>  EVAL Epoch 6\n"
          ]
        },
        {
          "output_type": "stream",
          "name": "stderr",
          "text": [
            "0% [██████████████] 100% | ETA: 00:00:00\n",
            "Total time elapsed: 00:00:04\n"
          ]
        },
        {
          "output_type": "stream",
          "name": "stdout",
          "text": [
            "Finished Epoch 6 || Run Time:    3.1 | Load Time:    1.4 || F1:  66.52 | Prec:  67.25 | Rec:  65.81 || Ex/s: 513.06\n",
            "\n",
            "---------------------\n",
            "\n",
            "===>  TRAIN Epoch 7\n"
          ]
        },
        {
          "output_type": "stream",
          "name": "stderr",
          "text": [
            "0% [██████████████████████████████] 100% | ETA: 00:00:00\n",
            "Total time elapsed: 00:00:22\n"
          ]
        },
        {
          "output_type": "stream",
          "name": "stdout",
          "text": [
            "Finished Epoch 7 || Run Time:   18.2 | Load Time:    4.4 || F1:  89.63 | Prec:  83.73 | Rec:  96.42 || Ex/s: 303.26\n",
            "\n",
            "===>  EVAL Epoch 7\n"
          ]
        },
        {
          "output_type": "stream",
          "name": "stderr",
          "text": [
            "0% [██████████████] 100% | ETA: 00:00:00\n",
            "Total time elapsed: 00:00:04\n"
          ]
        },
        {
          "output_type": "stream",
          "name": "stdout",
          "text": [
            "Finished Epoch 7 || Run Time:    3.0 | Load Time:    1.4 || F1:  68.15 | Prec:  64.86 | Rec:  71.79 || Ex/s: 517.15\n",
            "\n",
            "---------------------\n",
            "\n",
            "===>  TRAIN Epoch 8\n"
          ]
        },
        {
          "output_type": "stream",
          "name": "stderr",
          "text": [
            "0% [██████████████████████████████] 100% | ETA: 00:00:00\n",
            "Total time elapsed: 00:00:21\n"
          ]
        },
        {
          "output_type": "stream",
          "name": "stdout",
          "text": [
            "Finished Epoch 8 || Run Time:   17.6 | Load Time:    4.3 || F1:  90.70 | Prec:  85.73 | Rec:  96.28 || Ex/s: 314.47\n",
            "\n",
            "===>  EVAL Epoch 8\n"
          ]
        },
        {
          "output_type": "stream",
          "name": "stderr",
          "text": [
            "0% [██████████████] 100% | ETA: 00:00:00\n",
            "Total time elapsed: 00:00:04\n"
          ]
        },
        {
          "output_type": "stream",
          "name": "stdout",
          "text": [
            "Finished Epoch 8 || Run Time:    3.0 | Load Time:    1.4 || F1:  68.61 | Prec:  66.80 | Rec:  70.51 || Ex/s: 514.16\n",
            "\n",
            "---------------------\n",
            "\n",
            "===>  TRAIN Epoch 9\n"
          ]
        },
        {
          "output_type": "stream",
          "name": "stderr",
          "text": [
            "0% [██████████████████████████████] 100% | ETA: 00:00:00\n",
            "Total time elapsed: 00:00:21\n"
          ]
        },
        {
          "output_type": "stream",
          "name": "stdout",
          "text": [
            "Finished Epoch 9 || Run Time:   17.6 | Load Time:    4.3 || F1:  92.37 | Prec:  88.17 | Rec:  97.00 || Ex/s: 313.88\n",
            "\n",
            "===>  EVAL Epoch 9\n"
          ]
        },
        {
          "output_type": "stream",
          "name": "stderr",
          "text": [
            "0% [██████████████] 100% | ETA: 00:00:00\n",
            "Total time elapsed: 00:00:04\n"
          ]
        },
        {
          "output_type": "stream",
          "name": "stdout",
          "text": [
            "Finished Epoch 9 || Run Time:    3.0 | Load Time:    1.4 || F1:  67.83 | Prec:  69.03 | Rec:  66.67 || Ex/s: 519.84\n",
            "\n",
            "---------------------\n",
            "\n",
            "===>  TRAIN Epoch 10\n"
          ]
        },
        {
          "output_type": "stream",
          "name": "stderr",
          "text": [
            "0% [██████████████████████████████] 100% | ETA: 00:00:00\n",
            "Total time elapsed: 00:00:21\n"
          ]
        },
        {
          "output_type": "stream",
          "name": "stdout",
          "text": [
            "Finished Epoch 10 || Run Time:   17.7 | Load Time:    4.3 || F1:  93.81 | Prec:  90.33 | Rec:  97.57 || Ex/s: 312.34\n",
            "\n",
            "===>  EVAL Epoch 10\n"
          ]
        },
        {
          "output_type": "stream",
          "name": "stderr",
          "text": [
            "0% [██████████████] 100% | ETA: 00:00:00\n",
            "Total time elapsed: 00:00:04\n"
          ]
        },
        {
          "output_type": "stream",
          "name": "stdout",
          "text": [
            "Finished Epoch 10 || Run Time:    3.0 | Load Time:    1.4 || F1:  66.82 | Prec:  69.77 | Rec:  64.10 || Ex/s: 519.80\n",
            "\n",
            "---------------------\n",
            "\n",
            "===>  TRAIN Epoch 11\n"
          ]
        },
        {
          "output_type": "stream",
          "name": "stderr",
          "text": [
            "0% [██████████████████████████████] 100% | ETA: 00:00:00\n",
            "Total time elapsed: 00:00:22\n"
          ]
        },
        {
          "output_type": "stream",
          "name": "stdout",
          "text": [
            "Finished Epoch 11 || Run Time:   18.0 | Load Time:    4.4 || F1:  95.15 | Prec:  92.33 | Rec:  98.14 || Ex/s: 306.45\n",
            "\n",
            "===>  EVAL Epoch 11\n"
          ]
        },
        {
          "output_type": "stream",
          "name": "stderr",
          "text": [
            "0% [██████████████] 100% | ETA: 00:00:00\n",
            "Total time elapsed: 00:00:04\n"
          ]
        },
        {
          "output_type": "stream",
          "name": "stdout",
          "text": [
            "Finished Epoch 11 || Run Time:    3.0 | Load Time:    1.4 || F1:  66.67 | Prec:  69.44 | Rec:  64.10 || Ex/s: 517.27\n",
            "\n",
            "---------------------\n",
            "\n",
            "===>  TRAIN Epoch 12\n"
          ]
        },
        {
          "output_type": "stream",
          "name": "stderr",
          "text": [
            "0% [██████████████████████████████] 100% | ETA: 00:00:00\n",
            "Total time elapsed: 00:00:21\n"
          ]
        },
        {
          "output_type": "stream",
          "name": "stdout",
          "text": [
            "Finished Epoch 12 || Run Time:   17.7 | Load Time:    4.3 || F1:  95.82 | Prec:  93.35 | Rec:  98.43 || Ex/s: 312.94\n",
            "\n",
            "===>  EVAL Epoch 12\n"
          ]
        },
        {
          "output_type": "stream",
          "name": "stderr",
          "text": [
            "0% [██████████████] 100% | ETA: 00:00:00\n",
            "Total time elapsed: 00:00:04\n"
          ]
        },
        {
          "output_type": "stream",
          "name": "stdout",
          "text": [
            "Finished Epoch 12 || Run Time:    3.0 | Load Time:    1.4 || F1:  66.96 | Prec:  69.09 | Rec:  64.96 || Ex/s: 518.34\n",
            "\n",
            "---------------------\n",
            "\n",
            "===>  TRAIN Epoch 13\n"
          ]
        },
        {
          "output_type": "stream",
          "name": "stderr",
          "text": [
            "0% [██████████████████████████████] 100% | ETA: 00:00:00\n",
            "Total time elapsed: 00:00:21\n"
          ]
        },
        {
          "output_type": "stream",
          "name": "stdout",
          "text": [
            "Finished Epoch 13 || Run Time:   17.7 | Load Time:    4.3 || F1:  96.51 | Prec:  94.15 | Rec:  99.00 || Ex/s: 312.22\n",
            "\n",
            "===>  EVAL Epoch 13\n"
          ]
        },
        {
          "output_type": "stream",
          "name": "stderr",
          "text": [
            "0% [██████████████] 100% | ETA: 00:00:00\n",
            "Total time elapsed: 00:00:04\n"
          ]
        },
        {
          "output_type": "stream",
          "name": "stdout",
          "text": [
            "Finished Epoch 13 || Run Time:    3.1 | Load Time:    1.4 || F1:  65.94 | Prec:  66.96 | Rec:  64.96 || Ex/s: 514.93\n",
            "\n",
            "---------------------\n",
            "\n",
            "===>  TRAIN Epoch 14\n"
          ]
        },
        {
          "output_type": "stream",
          "name": "stderr",
          "text": [
            "0% [██████████████████████████████] 100% | ETA: 00:00:00\n",
            "Total time elapsed: 00:00:22\n"
          ]
        },
        {
          "output_type": "stream",
          "name": "stdout",
          "text": [
            "Finished Epoch 14 || Run Time:   18.0 | Load Time:    4.4 || F1:  96.79 | Prec:  94.54 | Rec:  99.14 || Ex/s: 307.13\n",
            "\n",
            "===>  EVAL Epoch 14\n"
          ]
        },
        {
          "output_type": "stream",
          "name": "stderr",
          "text": [
            "0% [██████████████] 100% | ETA: 00:00:00\n",
            "Total time elapsed: 00:00:04\n"
          ]
        },
        {
          "output_type": "stream",
          "name": "stdout",
          "text": [
            "Finished Epoch 14 || Run Time:    3.0 | Load Time:    1.4 || F1:  65.80 | Prec:  66.67 | Rec:  64.96 || Ex/s: 517.58\n",
            "\n",
            "---------------------\n",
            "\n",
            "===>  TRAIN Epoch 15\n"
          ]
        },
        {
          "output_type": "stream",
          "name": "stderr",
          "text": [
            "0% [██████████████████████████████] 100% | ETA: 00:00:00\n",
            "Total time elapsed: 00:00:21\n"
          ]
        },
        {
          "output_type": "stream",
          "name": "stdout",
          "text": [
            "Finished Epoch 15 || Run Time:   17.5 | Load Time:    4.3 || F1:  96.99 | Prec:  94.93 | Rec:  99.14 || Ex/s: 315.06\n",
            "\n",
            "===>  EVAL Epoch 15\n"
          ]
        },
        {
          "output_type": "stream",
          "name": "stderr",
          "text": [
            "0% [██████████████] 100% | ETA: 00:00:00\n",
            "Total time elapsed: 00:00:04\n"
          ]
        },
        {
          "output_type": "stream",
          "name": "stdout",
          "text": [
            "Finished Epoch 15 || Run Time:    3.0 | Load Time:    1.4 || F1:  65.80 | Prec:  66.67 | Rec:  64.96 || Ex/s: 515.81\n",
            "\n",
            "---------------------\n",
            "\n",
            "Loading best model...\n",
            "Training done.\n"
          ]
        },
        {
          "output_type": "execute_result",
          "data": {
            "text/plain": [
              "tensor(69.5817, device='cuda:0')"
            ]
          },
          "metadata": {},
          "execution_count": 49
        }
      ],
      "source": [
        "model.run_train(\n",
        "    train,\n",
        "    validation,\n",
        "    epochs=15,\n",
        "    batch_size=32,\n",
        "    best_save_path='hybrid_model.pth',\n",
        "    pos_neg_ratio=3)"
      ]
    },
    {
      "cell_type": "code",
      "execution_count": null,
      "metadata": {
        "id": "Nkx9MW9t8Zkx",
        "colab": {
          "base_uri": "https://localhost:8080/"
        },
        "outputId": "639161a9-1de8-4bf7-b47e-2c91beb11c65"
      },
      "outputs": [
        {
          "output_type": "stream",
          "name": "stdout",
          "text": [
            "===>  EVAL Epoch 5\n"
          ]
        },
        {
          "output_type": "stream",
          "name": "stderr",
          "text": [
            "/usr/local/lib/python3.7/dist-packages/torch/nn/modules/module.py:949: UserWarning: Using non-full backward hooks on a Module that does not take as input a single Tensor or a tuple of Tensors is deprecated and will be removed in future versions. This hook will be missing some of the grad_input. Please use register_full_backward_hook to get the documented behavior.\n",
            "  warnings.warn(\"Using non-full backward hooks on a Module that does not take as input a \"\n",
            "/usr/local/lib/python3.7/dist-packages/torch/nn/modules/module.py:974: UserWarning: Using a non-full backward hook when the forward contains multiple autograd Nodes is deprecated and will be removed in future versions. This hook will be missing some grad_input. Please use register_full_backward_hook to get the documented behavior.\n",
            "  warnings.warn(\"Using a non-full backward hook when the forward contains multiple autograd Nodes \"\n",
            "/usr/local/lib/python3.7/dist-packages/torch/nn/modules/module.py:939: UserWarning: Using non-full backward hooks on a Module that does not return a single Tensor or a tuple of Tensors is deprecated and will be removed in future versions. This hook will be missing some of the grad_output. Please use register_full_backward_hook to get the documented behavior.\n",
            "  warnings.warn(\"Using non-full backward hooks on a Module that does not return a \"\n",
            "0% [██████████████] 100% | ETA: 00:00:00\n",
            "Total time elapsed: 00:00:04\n"
          ]
        },
        {
          "output_type": "stream",
          "name": "stdout",
          "text": [
            "Finished Epoch 5 || Run Time:    3.1 | Load Time:    1.4 || F1:  68.94 | Prec:  61.90 | Rec:  77.78 || Ex/s: 510.74\n",
            "\n"
          ]
        },
        {
          "output_type": "execute_result",
          "data": {
            "text/plain": [
              "tensor(68.9394, device='cuda:0')"
            ]
          },
          "metadata": {},
          "execution_count": 50
        }
      ],
      "source": [
        "# Compute F1 on test set\n",
        "model.run_eval(test)"
      ]
    },
    {
      "cell_type": "markdown",
      "metadata": {
        "id": "dikdLu258Zkx"
      },
      "source": [
        "##### Beer"
      ]
    },
    {
      "cell_type": "code",
      "execution_count": null,
      "metadata": {
        "id": "K7LXcH0_8Zky"
      },
      "outputs": [],
      "source": [
        "train, validation, test = dm.data.process(\n",
        "    path='/content/IC/datasesErros/AADatasets/Structured/Beer/',\n",
        "    train='joined_train.csv',\n",
        "    validation='joined_valid.csv',\n",
        "    test='joined_test.csv')"
      ]
    },
    {
      "cell_type": "code",
      "execution_count": null,
      "metadata": {
        "id": "omt1438d8Zky"
      },
      "outputs": [],
      "source": [
        "model = dm.MatchingModel(attr_summarizer='hybrid')"
      ]
    },
    {
      "cell_type": "code",
      "execution_count": null,
      "metadata": {
        "id": "8pdxI-si8Zky",
        "colab": {
          "base_uri": "https://localhost:8080/"
        },
        "outputId": "205c0fad-44e8-4704-a015-d838e4500619"
      },
      "outputs": [
        {
          "output_type": "stream",
          "name": "stdout",
          "text": [
            "* Number of trainable parameters: 9210006\n",
            "===>  TRAIN Epoch 1\n"
          ]
        },
        {
          "output_type": "stream",
          "name": "stderr",
          "text": [
            "/usr/local/lib/python3.7/dist-packages/torch/nn/modules/module.py:949: UserWarning: Using non-full backward hooks on a Module that does not take as input a single Tensor or a tuple of Tensors is deprecated and will be removed in future versions. This hook will be missing some of the grad_input. Please use register_full_backward_hook to get the documented behavior.\n",
            "  warnings.warn(\"Using non-full backward hooks on a Module that does not take as input a \"\n",
            "/usr/local/lib/python3.7/dist-packages/torch/nn/modules/module.py:974: UserWarning: Using a non-full backward hook when the forward contains multiple autograd Nodes is deprecated and will be removed in future versions. This hook will be missing some grad_input. Please use register_full_backward_hook to get the documented behavior.\n",
            "  warnings.warn(\"Using a non-full backward hook when the forward contains multiple autograd Nodes \"\n",
            "/usr/local/lib/python3.7/dist-packages/torch/nn/modules/module.py:939: UserWarning: Using non-full backward hooks on a Module that does not return a single Tensor or a tuple of Tensors is deprecated and will be removed in future versions. This hook will be missing some of the grad_output. Please use register_full_backward_hook to get the documented behavior.\n",
            "  warnings.warn(\"Using non-full backward hooks on a Module that does not return a \"\n",
            "/usr/local/lib/python3.7/dist-packages/torch/nn/functional.py:2742: UserWarning: reduction: 'mean' divides the total loss by both the batch size and the support size.'batchmean' divides only by the batch size, and aligns with the KL div math definition.'mean' will be changed to behave the same as 'batchmean' in the next major release.\n",
            "  \"reduction: 'mean' divides the total loss by both the batch size and the support size.\"\n",
            "0% [█] 100% | ETA: 00:00:00\n",
            "Total time elapsed: 00:00:00\n"
          ]
        },
        {
          "output_type": "stream",
          "name": "stdout",
          "text": [
            "Finished Epoch 1 || Run Time:    1.0 | Load Time:    0.3 || F1:   2.78 | Prec:   3.12 | Rec:   2.50 || Ex/s: 206.79\n",
            "\n",
            "===>  EVAL Epoch 1\n",
            "Finished Epoch 1 || Run Time:    0.2 | Load Time:    0.1 || F1:  38.30 | Prec:  27.27 | Rec:  64.29 || Ex/s: 364.99\n",
            "\n",
            "* Best F1: tensor(38.2979, device='cuda:0')\n",
            "Saving best model...\n",
            "Done.\n",
            "---------------------\n",
            "\n",
            "===>  TRAIN Epoch 2\n"
          ]
        },
        {
          "output_type": "stream",
          "name": "stderr",
          "text": [
            "0% [█] 100% | ETA: 00:00:00\n",
            "Total time elapsed: 00:00:00\n"
          ]
        },
        {
          "output_type": "stream",
          "name": "stdout",
          "text": [
            "Finished Epoch 2 || Run Time:    1.0 | Load Time:    0.3 || F1:  26.42 | Prec:  53.85 | Rec:  17.50 || Ex/s: 210.85\n",
            "\n",
            "===>  EVAL Epoch 2\n",
            "Finished Epoch 2 || Run Time:    0.2 | Load Time:    0.1 || F1:   0.00 | Prec:   0.00 | Rec:   0.00 || Ex/s: 361.15\n",
            "\n",
            "---------------------\n",
            "\n",
            "===>  TRAIN Epoch 3\n"
          ]
        },
        {
          "output_type": "stream",
          "name": "stderr",
          "text": [
            "0% [█] 100% | ETA: 00:00:00\n",
            "Total time elapsed: 00:00:00\n"
          ]
        },
        {
          "output_type": "stream",
          "name": "stdout",
          "text": [
            "Finished Epoch 3 || Run Time:    1.0 | Load Time:    0.3 || F1:  18.18 | Prec: 100.00 | Rec:  10.00 || Ex/s: 214.88\n",
            "\n",
            "===>  EVAL Epoch 3\n",
            "Finished Epoch 3 || Run Time:    0.2 | Load Time:    0.1 || F1:  35.29 | Prec: 100.00 | Rec:  21.43 || Ex/s: 356.51\n",
            "\n",
            "---------------------\n",
            "\n",
            "===>  TRAIN Epoch 4\n"
          ]
        },
        {
          "output_type": "stream",
          "name": "stderr",
          "text": [
            "0% [█] 100% | ETA: 00:00:00\n",
            "Total time elapsed: 00:00:00\n"
          ]
        },
        {
          "output_type": "stream",
          "name": "stdout",
          "text": [
            "Finished Epoch 4 || Run Time:    1.0 | Load Time:    0.3 || F1:  76.19 | Prec:  72.73 | Rec:  80.00 || Ex/s: 212.20\n",
            "\n",
            "===>  EVAL Epoch 4\n",
            "Finished Epoch 4 || Run Time:    0.2 | Load Time:    0.1 || F1:  47.27 | Prec:  31.71 | Rec:  92.86 || Ex/s: 356.12\n",
            "\n",
            "* Best F1: tensor(47.2727, device='cuda:0')\n",
            "Saving best model...\n",
            "Done.\n",
            "---------------------\n",
            "\n",
            "===>  TRAIN Epoch 5\n"
          ]
        },
        {
          "output_type": "stream",
          "name": "stderr",
          "text": [
            "0% [█] 100% | ETA: 00:00:00\n",
            "Total time elapsed: 00:00:00\n"
          ]
        },
        {
          "output_type": "stream",
          "name": "stdout",
          "text": [
            "Finished Epoch 5 || Run Time:    1.0 | Load Time:    0.3 || F1:  76.29 | Prec:  64.91 | Rec:  92.50 || Ex/s: 213.51\n",
            "\n",
            "===>  EVAL Epoch 5\n",
            "Finished Epoch 5 || Run Time:    0.2 | Load Time:    0.1 || F1:  48.15 | Prec:  32.50 | Rec:  92.86 || Ex/s: 334.61\n",
            "\n",
            "* Best F1: tensor(48.1481, device='cuda:0')\n",
            "Saving best model...\n",
            "Done.\n",
            "---------------------\n",
            "\n",
            "===>  TRAIN Epoch 6\n"
          ]
        },
        {
          "output_type": "stream",
          "name": "stderr",
          "text": [
            "0% [█] 100% | ETA: 00:00:00\n",
            "Total time elapsed: 00:00:00\n"
          ]
        },
        {
          "output_type": "stream",
          "name": "stdout",
          "text": [
            "Finished Epoch 6 || Run Time:    1.0 | Load Time:    0.3 || F1:  81.82 | Prec:  75.00 | Rec:  90.00 || Ex/s: 212.68\n",
            "\n",
            "===>  EVAL Epoch 6\n",
            "Finished Epoch 6 || Run Time:    0.2 | Load Time:    0.1 || F1:  66.67 | Prec:  52.00 | Rec:  92.86 || Ex/s: 349.57\n",
            "\n",
            "* Best F1: tensor(66.6667, device='cuda:0')\n",
            "Saving best model...\n",
            "Done.\n",
            "---------------------\n",
            "\n",
            "===>  TRAIN Epoch 7\n"
          ]
        },
        {
          "output_type": "stream",
          "name": "stderr",
          "text": [
            "0% [█] 100% | ETA: 00:00:00\n",
            "Total time elapsed: 00:00:00\n"
          ]
        },
        {
          "output_type": "stream",
          "name": "stdout",
          "text": [
            "Finished Epoch 7 || Run Time:    1.0 | Load Time:    0.3 || F1:  88.37 | Prec:  82.61 | Rec:  95.00 || Ex/s: 209.92\n",
            "\n",
            "===>  EVAL Epoch 7\n",
            "Finished Epoch 7 || Run Time:    0.2 | Load Time:    0.1 || F1:  77.42 | Prec:  70.59 | Rec:  85.71 || Ex/s: 362.39\n",
            "\n",
            "* Best F1: tensor(77.4193, device='cuda:0')\n",
            "Saving best model...\n",
            "Done.\n",
            "---------------------\n",
            "\n",
            "===>  TRAIN Epoch 8\n"
          ]
        },
        {
          "output_type": "stream",
          "name": "stderr",
          "text": [
            "0% [█] 100% | ETA: 00:00:00\n",
            "Total time elapsed: 00:00:00\n"
          ]
        },
        {
          "output_type": "stream",
          "name": "stdout",
          "text": [
            "Finished Epoch 8 || Run Time:    1.4 | Load Time:    0.3 || F1:  97.56 | Prec:  95.24 | Rec: 100.00 || Ex/s: 155.12\n",
            "\n",
            "===>  EVAL Epoch 8\n",
            "Finished Epoch 8 || Run Time:    0.2 | Load Time:    0.1 || F1:  72.22 | Prec:  59.09 | Rec:  92.86 || Ex/s: 289.15\n",
            "\n",
            "---------------------\n",
            "\n",
            "===>  TRAIN Epoch 9\n"
          ]
        },
        {
          "output_type": "stream",
          "name": "stderr",
          "text": [
            "0% [█] 100% | ETA: 00:00:00\n",
            "Total time elapsed: 00:00:00\n"
          ]
        },
        {
          "output_type": "stream",
          "name": "stdout",
          "text": [
            "Finished Epoch 9 || Run Time:    1.0 | Load Time:    0.3 || F1:  97.56 | Prec:  95.24 | Rec: 100.00 || Ex/s: 213.36\n",
            "\n",
            "===>  EVAL Epoch 9\n",
            "Finished Epoch 9 || Run Time:    0.2 | Load Time:    0.1 || F1:  78.79 | Prec:  68.42 | Rec:  92.86 || Ex/s: 357.87\n",
            "\n",
            "* Best F1: tensor(78.7879, device='cuda:0')\n",
            "Saving best model...\n",
            "Done.\n",
            "---------------------\n",
            "\n",
            "===>  TRAIN Epoch 10\n"
          ]
        },
        {
          "output_type": "stream",
          "name": "stderr",
          "text": [
            "0% [█] 100% | ETA: 00:00:00\n",
            "Total time elapsed: 00:00:00\n"
          ]
        },
        {
          "output_type": "stream",
          "name": "stdout",
          "text": [
            "Finished Epoch 10 || Run Time:    1.0 | Load Time:    0.3 || F1:  98.77 | Prec:  97.56 | Rec: 100.00 || Ex/s: 211.29\n",
            "\n",
            "===>  EVAL Epoch 10\n",
            "Finished Epoch 10 || Run Time:    0.2 | Load Time:    0.1 || F1:  76.47 | Prec:  65.00 | Rec:  92.86 || Ex/s: 354.86\n",
            "\n",
            "---------------------\n",
            "\n",
            "===>  TRAIN Epoch 11\n"
          ]
        },
        {
          "output_type": "stream",
          "name": "stderr",
          "text": [
            "0% [█] 100% | ETA: 00:00:00\n",
            "Total time elapsed: 00:00:00\n"
          ]
        },
        {
          "output_type": "stream",
          "name": "stdout",
          "text": [
            "Finished Epoch 11 || Run Time:    1.0 | Load Time:    0.3 || F1:  98.77 | Prec:  97.56 | Rec: 100.00 || Ex/s: 215.18\n",
            "\n",
            "===>  EVAL Epoch 11\n",
            "Finished Epoch 11 || Run Time:    0.2 | Load Time:    0.1 || F1:  78.79 | Prec:  68.42 | Rec:  92.86 || Ex/s: 348.10\n",
            "\n",
            "---------------------\n",
            "\n",
            "===>  TRAIN Epoch 12\n"
          ]
        },
        {
          "output_type": "stream",
          "name": "stderr",
          "text": [
            "0% [█] 100% | ETA: 00:00:00\n",
            "Total time elapsed: 00:00:00\n"
          ]
        },
        {
          "output_type": "stream",
          "name": "stdout",
          "text": [
            "Finished Epoch 12 || Run Time:    1.0 | Load Time:    0.3 || F1:  98.77 | Prec:  97.56 | Rec: 100.00 || Ex/s: 215.01\n",
            "\n",
            "===>  EVAL Epoch 12\n",
            "Finished Epoch 12 || Run Time:    0.2 | Load Time:    0.1 || F1:  78.79 | Prec:  68.42 | Rec:  92.86 || Ex/s: 355.34\n",
            "\n",
            "---------------------\n",
            "\n",
            "===>  TRAIN Epoch 13\n"
          ]
        },
        {
          "output_type": "stream",
          "name": "stderr",
          "text": [
            "0% [█] 100% | ETA: 00:00:00\n",
            "Total time elapsed: 00:00:00\n"
          ]
        },
        {
          "output_type": "stream",
          "name": "stdout",
          "text": [
            "Finished Epoch 13 || Run Time:    1.0 | Load Time:    0.3 || F1: 100.00 | Prec: 100.00 | Rec: 100.00 || Ex/s: 215.59\n",
            "\n",
            "===>  EVAL Epoch 13\n",
            "Finished Epoch 13 || Run Time:    0.2 | Load Time:    0.1 || F1:  78.79 | Prec:  68.42 | Rec:  92.86 || Ex/s: 357.03\n",
            "\n",
            "---------------------\n",
            "\n",
            "===>  TRAIN Epoch 14\n"
          ]
        },
        {
          "output_type": "stream",
          "name": "stderr",
          "text": [
            "0% [█] 100% | ETA: 00:00:00\n",
            "Total time elapsed: 00:00:00\n"
          ]
        },
        {
          "output_type": "stream",
          "name": "stdout",
          "text": [
            "Finished Epoch 14 || Run Time:    1.0 | Load Time:    0.3 || F1: 100.00 | Prec: 100.00 | Rec: 100.00 || Ex/s: 210.78\n",
            "\n",
            "===>  EVAL Epoch 14\n",
            "Finished Epoch 14 || Run Time:    0.2 | Load Time:    0.1 || F1:  78.79 | Prec:  68.42 | Rec:  92.86 || Ex/s: 361.34\n",
            "\n",
            "---------------------\n",
            "\n",
            "===>  TRAIN Epoch 15\n"
          ]
        },
        {
          "output_type": "stream",
          "name": "stderr",
          "text": [
            "0% [█] 100% | ETA: 00:00:00\n",
            "Total time elapsed: 00:00:00\n"
          ]
        },
        {
          "output_type": "stream",
          "name": "stdout",
          "text": [
            "Finished Epoch 15 || Run Time:    1.0 | Load Time:    0.3 || F1: 100.00 | Prec: 100.00 | Rec: 100.00 || Ex/s: 211.40\n",
            "\n",
            "===>  EVAL Epoch 15\n",
            "Finished Epoch 15 || Run Time:    0.2 | Load Time:    0.1 || F1:  78.79 | Prec:  68.42 | Rec:  92.86 || Ex/s: 350.09\n",
            "\n",
            "---------------------\n",
            "\n",
            "Loading best model...\n",
            "Training done.\n"
          ]
        },
        {
          "output_type": "execute_result",
          "data": {
            "text/plain": [
              "tensor(78.7879, device='cuda:0')"
            ]
          },
          "metadata": {},
          "execution_count": 53
        }
      ],
      "source": [
        "model.run_train(\n",
        "    train,\n",
        "    validation,\n",
        "    epochs=15,\n",
        "    batch_size=32,\n",
        "    best_save_path='hybrid_model.pth',\n",
        "    pos_neg_ratio=3)"
      ]
    },
    {
      "cell_type": "code",
      "execution_count": null,
      "metadata": {
        "id": "45zk9EL68Zkz",
        "colab": {
          "base_uri": "https://localhost:8080/"
        },
        "outputId": "edc4a4c6-11c8-4a0b-ecbc-48e89e684e03"
      },
      "outputs": [
        {
          "output_type": "stream",
          "name": "stdout",
          "text": [
            "===>  EVAL Epoch 9\n"
          ]
        },
        {
          "output_type": "stream",
          "name": "stderr",
          "text": [
            "/usr/local/lib/python3.7/dist-packages/torch/nn/modules/module.py:949: UserWarning: Using non-full backward hooks on a Module that does not take as input a single Tensor or a tuple of Tensors is deprecated and will be removed in future versions. This hook will be missing some of the grad_input. Please use register_full_backward_hook to get the documented behavior.\n",
            "  warnings.warn(\"Using non-full backward hooks on a Module that does not take as input a \"\n",
            "/usr/local/lib/python3.7/dist-packages/torch/nn/modules/module.py:974: UserWarning: Using a non-full backward hook when the forward contains multiple autograd Nodes is deprecated and will be removed in future versions. This hook will be missing some grad_input. Please use register_full_backward_hook to get the documented behavior.\n",
            "  warnings.warn(\"Using a non-full backward hook when the forward contains multiple autograd Nodes \"\n",
            "/usr/local/lib/python3.7/dist-packages/torch/nn/modules/module.py:939: UserWarning: Using non-full backward hooks on a Module that does not return a single Tensor or a tuple of Tensors is deprecated and will be removed in future versions. This hook will be missing some of the grad_output. Please use register_full_backward_hook to get the documented behavior.\n",
            "  warnings.warn(\"Using non-full backward hooks on a Module that does not return a \"\n"
          ]
        },
        {
          "output_type": "stream",
          "name": "stdout",
          "text": [
            "Finished Epoch 9 || Run Time:    0.2 | Load Time:    0.1 || F1:  70.97 | Prec:  64.71 | Rec:  78.57 || Ex/s: 348.57\n",
            "\n"
          ]
        },
        {
          "output_type": "execute_result",
          "data": {
            "text/plain": [
              "tensor(70.9677, device='cuda:0')"
            ]
          },
          "metadata": {},
          "execution_count": 54
        }
      ],
      "source": [
        "# Compute F1 on test set\n",
        "model.run_eval(test)"
      ]
    },
    {
      "cell_type": "markdown",
      "metadata": {
        "id": "X2UG_clX8Zkz"
      },
      "source": [
        "##### DBLP-ACM"
      ]
    },
    {
      "cell_type": "code",
      "execution_count": null,
      "metadata": {
        "id": "oydibnoV8Zk0"
      },
      "outputs": [],
      "source": [
        "train, validation, test = dm.data.process(\n",
        "    path='/content/IC/datasesErros/AADatasets/Structured/DBLP-ACM/',\n",
        "    train='joined_train.csv',\n",
        "    validation='joined_valid.csv',\n",
        "    test='joined_test.csv')"
      ]
    },
    {
      "cell_type": "code",
      "execution_count": null,
      "metadata": {
        "id": "88z4OGnt8Zk0"
      },
      "outputs": [],
      "source": [
        "model = dm.MatchingModel(attr_summarizer='hybrid')"
      ]
    },
    {
      "cell_type": "code",
      "execution_count": null,
      "metadata": {
        "id": "jJS8L7j58Zk0",
        "colab": {
          "base_uri": "https://localhost:8080/"
        },
        "outputId": "c1c6fd57-d4d0-4366-cbe0-ba6b75606b78"
      },
      "outputs": [
        {
          "output_type": "stream",
          "name": "stdout",
          "text": [
            "* Number of trainable parameters: 9210006\n",
            "===>  TRAIN Epoch 1\n"
          ]
        },
        {
          "output_type": "stream",
          "name": "stderr",
          "text": [
            "/usr/local/lib/python3.7/dist-packages/torch/nn/modules/module.py:949: UserWarning: Using non-full backward hooks on a Module that does not take as input a single Tensor or a tuple of Tensors is deprecated and will be removed in future versions. This hook will be missing some of the grad_input. Please use register_full_backward_hook to get the documented behavior.\n",
            "  warnings.warn(\"Using non-full backward hooks on a Module that does not take as input a \"\n",
            "/usr/local/lib/python3.7/dist-packages/torch/nn/modules/module.py:974: UserWarning: Using a non-full backward hook when the forward contains multiple autograd Nodes is deprecated and will be removed in future versions. This hook will be missing some grad_input. Please use register_full_backward_hook to get the documented behavior.\n",
            "  warnings.warn(\"Using a non-full backward hook when the forward contains multiple autograd Nodes \"\n",
            "/usr/local/lib/python3.7/dist-packages/torch/nn/modules/module.py:939: UserWarning: Using non-full backward hooks on a Module that does not return a single Tensor or a tuple of Tensors is deprecated and will be removed in future versions. This hook will be missing some of the grad_output. Please use register_full_backward_hook to get the documented behavior.\n",
            "  warnings.warn(\"Using non-full backward hooks on a Module that does not return a \"\n",
            "/usr/local/lib/python3.7/dist-packages/torch/nn/functional.py:2742: UserWarning: reduction: 'mean' divides the total loss by both the batch size and the support size.'batchmean' divides only by the batch size, and aligns with the KL div math definition.'mean' will be changed to behave the same as 'batchmean' in the next major release.\n",
            "  \"reduction: 'mean' divides the total loss by both the batch size and the support size.\"\n",
            "0% [██████████████████████████████] 100% | ETA: 00:00:00\n",
            "Total time elapsed: 00:00:37\n"
          ]
        },
        {
          "output_type": "stream",
          "name": "stdout",
          "text": [
            "Finished Epoch 1 || Run Time:   26.8 | Load Time:   10.7 || F1:  89.38 | Prec:  85.32 | Rec:  93.84 || Ex/s: 197.73\n",
            "\n",
            "===>  EVAL Epoch 1\n"
          ]
        },
        {
          "output_type": "stream",
          "name": "stderr",
          "text": [
            "0% [███████████████] 100% | ETA: 00:00:00\n",
            "Total time elapsed: 00:00:08\n"
          ]
        },
        {
          "output_type": "stream",
          "name": "stdout",
          "text": [
            "Finished Epoch 1 || Run Time:    4.8 | Load Time:    3.6 || F1:  96.00 | Prec:  92.31 | Rec: 100.00 || Ex/s: 295.59\n",
            "\n",
            "* Best F1: tensor(96., device='cuda:0')\n",
            "Saving best model...\n",
            "Done.\n",
            "---------------------\n",
            "\n",
            "===>  TRAIN Epoch 2\n"
          ]
        },
        {
          "output_type": "stream",
          "name": "stderr",
          "text": [
            "0% [██████████████████████████████] 100% | ETA: 00:00:00\n",
            "Total time elapsed: 00:00:37\n"
          ]
        },
        {
          "output_type": "stream",
          "name": "stdout",
          "text": [
            "Finished Epoch 2 || Run Time:   27.2 | Load Time:   10.8 || F1:  97.92 | Prec:  97.05 | Rec:  98.80 || Ex/s: 195.15\n",
            "\n",
            "===>  EVAL Epoch 2\n"
          ]
        },
        {
          "output_type": "stream",
          "name": "stderr",
          "text": [
            "0% [███████████████] 100% | ETA: 00:00:00\n",
            "Total time elapsed: 00:00:07\n"
          ]
        },
        {
          "output_type": "stream",
          "name": "stdout",
          "text": [
            "Finished Epoch 2 || Run Time:    4.8 | Load Time:    3.5 || F1:  95.97 | Prec:  93.02 | Rec:  99.10 || Ex/s: 297.44\n",
            "\n",
            "---------------------\n",
            "\n",
            "===>  TRAIN Epoch 3\n"
          ]
        },
        {
          "output_type": "stream",
          "name": "stderr",
          "text": [
            "0% [██████████████████████████████] 100% | ETA: 00:00:00\n",
            "Total time elapsed: 00:00:36\n"
          ]
        },
        {
          "output_type": "stream",
          "name": "stdout",
          "text": [
            "Finished Epoch 3 || Run Time:   26.7 | Load Time:   10.6 || F1:  98.36 | Prec:  97.42 | Rec:  99.32 || Ex/s: 198.83\n",
            "\n",
            "===>  EVAL Epoch 3\n"
          ]
        },
        {
          "output_type": "stream",
          "name": "stderr",
          "text": [
            "0% [███████████████] 100% | ETA: 00:00:00\n",
            "Total time elapsed: 00:00:07\n"
          ]
        },
        {
          "output_type": "stream",
          "name": "stdout",
          "text": [
            "Finished Epoch 3 || Run Time:    4.8 | Load Time:    3.5 || F1:  97.47 | Prec:  95.27 | Rec:  99.77 || Ex/s: 297.87\n",
            "\n",
            "* Best F1: tensor(97.4697, device='cuda:0')\n",
            "Saving best model...\n",
            "Done.\n",
            "---------------------\n",
            "\n",
            "===>  TRAIN Epoch 4\n"
          ]
        },
        {
          "output_type": "stream",
          "name": "stderr",
          "text": [
            "0% [██████████████████████████████] 100% | ETA: 00:00:00\n",
            "Total time elapsed: 00:00:37\n"
          ]
        },
        {
          "output_type": "stream",
          "name": "stdout",
          "text": [
            "Finished Epoch 4 || Run Time:   27.3 | Load Time:   10.8 || F1:  98.92 | Prec:  98.15 | Rec:  99.70 || Ex/s: 194.67\n",
            "\n",
            "===>  EVAL Epoch 4\n"
          ]
        },
        {
          "output_type": "stream",
          "name": "stderr",
          "text": [
            "0% [███████████████] 100% | ETA: 00:00:00\n",
            "Total time elapsed: 00:00:07\n"
          ]
        },
        {
          "output_type": "stream",
          "name": "stdout",
          "text": [
            "Finished Epoch 4 || Run Time:    4.7 | Load Time:    3.5 || F1:  98.77 | Prec:  98.00 | Rec:  99.55 || Ex/s: 298.68\n",
            "\n",
            "* Best F1: tensor(98.7710, device='cuda:0')\n",
            "Saving best model...\n",
            "Done.\n",
            "---------------------\n",
            "\n",
            "===>  TRAIN Epoch 5\n"
          ]
        },
        {
          "output_type": "stream",
          "name": "stderr",
          "text": [
            "0% [██████████████████████████████] 100% | ETA: 00:00:00\n",
            "Total time elapsed: 00:00:36\n"
          ]
        },
        {
          "output_type": "stream",
          "name": "stdout",
          "text": [
            "Finished Epoch 5 || Run Time:   26.7 | Load Time:   10.6 || F1:  99.22 | Prec:  98.66 | Rec:  99.77 || Ex/s: 198.82\n",
            "\n",
            "===>  EVAL Epoch 5\n"
          ]
        },
        {
          "output_type": "stream",
          "name": "stderr",
          "text": [
            "0% [███████████████] 100% | ETA: 00:00:00\n",
            "Total time elapsed: 00:00:07\n"
          ]
        },
        {
          "output_type": "stream",
          "name": "stdout",
          "text": [
            "Finished Epoch 5 || Run Time:    4.7 | Load Time:    3.6 || F1:  98.33 | Prec:  97.14 | Rec:  99.55 || Ex/s: 297.56\n",
            "\n",
            "---------------------\n",
            "\n",
            "===>  TRAIN Epoch 6\n"
          ]
        },
        {
          "output_type": "stream",
          "name": "stderr",
          "text": [
            "0% [██████████████████████████████] 100% | ETA: 00:00:00\n",
            "Total time elapsed: 00:00:37\n"
          ]
        },
        {
          "output_type": "stream",
          "name": "stdout",
          "text": [
            "Finished Epoch 6 || Run Time:   27.2 | Load Time:   10.8 || F1:  99.25 | Prec:  98.59 | Rec:  99.92 || Ex/s: 195.16\n",
            "\n",
            "===>  EVAL Epoch 6\n"
          ]
        },
        {
          "output_type": "stream",
          "name": "stderr",
          "text": [
            "0% [███████████████] 100% | ETA: 00:00:00\n",
            "Total time elapsed: 00:00:08\n"
          ]
        },
        {
          "output_type": "stream",
          "name": "stdout",
          "text": [
            "Finished Epoch 6 || Run Time:    4.9 | Load Time:    3.6 || F1:  98.66 | Prec:  97.79 | Rec:  99.55 || Ex/s: 291.96\n",
            "\n",
            "---------------------\n",
            "\n",
            "===>  TRAIN Epoch 7\n"
          ]
        },
        {
          "output_type": "stream",
          "name": "stderr",
          "text": [
            "0% [██████████████████████████████] 100% | ETA: 00:00:00\n",
            "Total time elapsed: 00:00:37\n"
          ]
        },
        {
          "output_type": "stream",
          "name": "stdout",
          "text": [
            "Finished Epoch 7 || Run Time:   27.5 | Load Time:   10.8 || F1:  99.25 | Prec:  98.59 | Rec:  99.92 || Ex/s: 193.84\n",
            "\n",
            "===>  EVAL Epoch 7\n"
          ]
        },
        {
          "output_type": "stream",
          "name": "stderr",
          "text": [
            "0% [███████████████] 100% | ETA: 00:00:00\n",
            "Total time elapsed: 00:00:08\n"
          ]
        },
        {
          "output_type": "stream",
          "name": "stdout",
          "text": [
            "Finished Epoch 7 || Run Time:    4.9 | Load Time:    3.6 || F1:  98.55 | Prec:  97.36 | Rec:  99.77 || Ex/s: 293.34\n",
            "\n",
            "---------------------\n",
            "\n",
            "===>  TRAIN Epoch 8\n"
          ]
        },
        {
          "output_type": "stream",
          "name": "stderr",
          "text": [
            "0% [██████████████████████████████] 100% | ETA: 00:00:00\n",
            "Total time elapsed: 00:00:37\n"
          ]
        },
        {
          "output_type": "stream",
          "name": "stdout",
          "text": [
            "Finished Epoch 8 || Run Time:   27.3 | Load Time:   10.8 || F1:  99.29 | Prec:  98.67 | Rec:  99.92 || Ex/s: 194.80\n",
            "\n",
            "===>  EVAL Epoch 8\n"
          ]
        },
        {
          "output_type": "stream",
          "name": "stderr",
          "text": [
            "0% [███████████████] 100% | ETA: 00:00:00\n",
            "Total time elapsed: 00:00:07\n"
          ]
        },
        {
          "output_type": "stream",
          "name": "stdout",
          "text": [
            "Finished Epoch 8 || Run Time:    4.8 | Load Time:    3.5 || F1:  98.44 | Prec:  97.15 | Rec:  99.77 || Ex/s: 298.38\n",
            "\n",
            "---------------------\n",
            "\n",
            "===>  TRAIN Epoch 9\n"
          ]
        },
        {
          "output_type": "stream",
          "name": "stderr",
          "text": [
            "0% [██████████████████████████████] 100% | ETA: 00:00:00\n",
            "Total time elapsed: 00:00:37\n"
          ]
        },
        {
          "output_type": "stream",
          "name": "stdout",
          "text": [
            "Finished Epoch 9 || Run Time:   27.0 | Load Time:   10.6 || F1:  99.33 | Prec:  98.67 | Rec: 100.00 || Ex/s: 197.21\n",
            "\n",
            "===>  EVAL Epoch 9\n"
          ]
        },
        {
          "output_type": "stream",
          "name": "stderr",
          "text": [
            "0% [███████████████] 100% | ETA: 00:00:00\n",
            "Total time elapsed: 00:00:07\n"
          ]
        },
        {
          "output_type": "stream",
          "name": "stdout",
          "text": [
            "Finished Epoch 9 || Run Time:    4.7 | Load Time:    3.5 || F1:  98.44 | Prec:  97.15 | Rec:  99.77 || Ex/s: 299.16\n",
            "\n",
            "---------------------\n",
            "\n",
            "===>  TRAIN Epoch 10\n"
          ]
        },
        {
          "output_type": "stream",
          "name": "stderr",
          "text": [
            "0% [██████████████████████████████] 100% | ETA: 00:00:00\n",
            "Total time elapsed: 00:00:37\n"
          ]
        },
        {
          "output_type": "stream",
          "name": "stdout",
          "text": [
            "Finished Epoch 10 || Run Time:   27.2 | Load Time:   10.8 || F1:  99.37 | Prec:  98.74 | Rec: 100.00 || Ex/s: 195.29\n",
            "\n",
            "===>  EVAL Epoch 10\n"
          ]
        },
        {
          "output_type": "stream",
          "name": "stderr",
          "text": [
            "0% [███████████████] 100% | ETA: 00:00:00\n",
            "Total time elapsed: 00:00:08\n"
          ]
        },
        {
          "output_type": "stream",
          "name": "stdout",
          "text": [
            "Finished Epoch 10 || Run Time:    4.9 | Load Time:    3.6 || F1:  98.44 | Prec:  97.15 | Rec:  99.77 || Ex/s: 290.94\n",
            "\n",
            "---------------------\n",
            "\n",
            "===>  TRAIN Epoch 11\n"
          ]
        },
        {
          "output_type": "stream",
          "name": "stderr",
          "text": [
            "0% [██████████████████████████████] 100% | ETA: 00:00:00\n",
            "Total time elapsed: 00:00:37\n"
          ]
        },
        {
          "output_type": "stream",
          "name": "stdout",
          "text": [
            "Finished Epoch 11 || Run Time:   27.5 | Load Time:   10.7 || F1:  99.37 | Prec:  98.74 | Rec: 100.00 || Ex/s: 193.75\n",
            "\n",
            "===>  EVAL Epoch 11\n"
          ]
        },
        {
          "output_type": "stream",
          "name": "stderr",
          "text": [
            "0% [███████████████] 100% | ETA: 00:00:00\n",
            "Total time elapsed: 00:00:07\n"
          ]
        },
        {
          "output_type": "stream",
          "name": "stdout",
          "text": [
            "Finished Epoch 11 || Run Time:    4.8 | Load Time:    3.5 || F1:  98.55 | Prec:  97.36 | Rec:  99.77 || Ex/s: 298.29\n",
            "\n",
            "---------------------\n",
            "\n",
            "===>  TRAIN Epoch 12\n"
          ]
        },
        {
          "output_type": "stream",
          "name": "stderr",
          "text": [
            "0% [██████████████████████████████] 100% | ETA: 00:00:00\n",
            "Total time elapsed: 00:00:37\n"
          ]
        },
        {
          "output_type": "stream",
          "name": "stdout",
          "text": [
            "Finished Epoch 12 || Run Time:   27.4 | Load Time:   10.8 || F1:  99.37 | Prec:  98.74 | Rec: 100.00 || Ex/s: 193.94\n",
            "\n",
            "===>  EVAL Epoch 12\n"
          ]
        },
        {
          "output_type": "stream",
          "name": "stderr",
          "text": [
            "0% [███████████████] 100% | ETA: 00:00:00\n",
            "Total time elapsed: 00:00:08\n"
          ]
        },
        {
          "output_type": "stream",
          "name": "stdout",
          "text": [
            "Finished Epoch 12 || Run Time:    5.0 | Load Time:    3.6 || F1:  98.55 | Prec:  97.36 | Rec:  99.77 || Ex/s: 289.27\n",
            "\n",
            "---------------------\n",
            "\n",
            "===>  TRAIN Epoch 13\n"
          ]
        },
        {
          "output_type": "stream",
          "name": "stderr",
          "text": [
            "0% [██████████████████████████████] 100% | ETA: 00:00:00\n",
            "Total time elapsed: 00:00:37\n"
          ]
        },
        {
          "output_type": "stream",
          "name": "stdout",
          "text": [
            "Finished Epoch 13 || Run Time:   27.6 | Load Time:   10.7 || F1:  99.40 | Prec:  98.81 | Rec: 100.00 || Ex/s: 193.44\n",
            "\n",
            "===>  EVAL Epoch 13\n"
          ]
        },
        {
          "output_type": "stream",
          "name": "stderr",
          "text": [
            "0% [███████████████] 100% | ETA: 00:00:00\n",
            "Total time elapsed: 00:00:08\n"
          ]
        },
        {
          "output_type": "stream",
          "name": "stdout",
          "text": [
            "Finished Epoch 13 || Run Time:    4.9 | Load Time:    3.6 || F1:  98.55 | Prec:  97.36 | Rec:  99.77 || Ex/s: 289.61\n",
            "\n",
            "---------------------\n",
            "\n",
            "===>  TRAIN Epoch 14\n"
          ]
        },
        {
          "output_type": "stream",
          "name": "stderr",
          "text": [
            "0% [██████████████████████████████] 100% | ETA: 00:00:00\n",
            "Total time elapsed: 00:00:38\n"
          ]
        },
        {
          "output_type": "stream",
          "name": "stdout",
          "text": [
            "Finished Epoch 14 || Run Time:   28.0 | Load Time:   10.8 || F1:  99.40 | Prec:  98.81 | Rec: 100.00 || Ex/s: 190.76\n",
            "\n",
            "===>  EVAL Epoch 14\n"
          ]
        },
        {
          "output_type": "stream",
          "name": "stderr",
          "text": [
            "0% [███████████████] 100% | ETA: 00:00:00\n",
            "Total time elapsed: 00:00:08\n"
          ]
        },
        {
          "output_type": "stream",
          "name": "stdout",
          "text": [
            "Finished Epoch 14 || Run Time:    5.0 | Load Time:    3.6 || F1:  98.66 | Prec:  97.58 | Rec:  99.77 || Ex/s: 286.93\n",
            "\n",
            "---------------------\n",
            "\n",
            "===>  TRAIN Epoch 15\n"
          ]
        },
        {
          "output_type": "stream",
          "name": "stderr",
          "text": [
            "0% [██████████████████████████████] 100% | ETA: 00:00:00\n",
            "Total time elapsed: 00:00:38\n"
          ]
        },
        {
          "output_type": "stream",
          "name": "stdout",
          "text": [
            "Finished Epoch 15 || Run Time:   27.7 | Load Time:   10.8 || F1:  99.40 | Prec:  98.81 | Rec: 100.00 || Ex/s: 192.86\n",
            "\n",
            "===>  EVAL Epoch 15\n"
          ]
        },
        {
          "output_type": "stream",
          "name": "stderr",
          "text": [
            "0% [███████████████] 100% | ETA: 00:00:00\n",
            "Total time elapsed: 00:00:08\n"
          ]
        },
        {
          "output_type": "stream",
          "name": "stdout",
          "text": [
            "Finished Epoch 15 || Run Time:    4.9 | Load Time:    3.6 || F1:  98.66 | Prec:  97.58 | Rec:  99.77 || Ex/s: 290.83\n",
            "\n",
            "---------------------\n",
            "\n",
            "Loading best model...\n",
            "Training done.\n"
          ]
        },
        {
          "output_type": "execute_result",
          "data": {
            "text/plain": [
              "tensor(98.7710, device='cuda:0')"
            ]
          },
          "metadata": {},
          "execution_count": 57
        }
      ],
      "source": [
        "model.run_train(\n",
        "    train,\n",
        "    validation,\n",
        "    epochs=15,\n",
        "    batch_size=32,\n",
        "    best_save_path='hybrid_model.pth',\n",
        "    pos_neg_ratio=3)"
      ]
    },
    {
      "cell_type": "code",
      "execution_count": null,
      "metadata": {
        "id": "8dKxVIZD8Zk1",
        "colab": {
          "base_uri": "https://localhost:8080/"
        },
        "outputId": "049fc76b-8eab-47ea-dec4-c9307d496c2f"
      },
      "outputs": [
        {
          "output_type": "stream",
          "name": "stdout",
          "text": [
            "===>  EVAL Epoch 4\n"
          ]
        },
        {
          "output_type": "stream",
          "name": "stderr",
          "text": [
            "/usr/local/lib/python3.7/dist-packages/torch/nn/modules/module.py:949: UserWarning: Using non-full backward hooks on a Module that does not take as input a single Tensor or a tuple of Tensors is deprecated and will be removed in future versions. This hook will be missing some of the grad_input. Please use register_full_backward_hook to get the documented behavior.\n",
            "  warnings.warn(\"Using non-full backward hooks on a Module that does not take as input a \"\n",
            "/usr/local/lib/python3.7/dist-packages/torch/nn/modules/module.py:974: UserWarning: Using a non-full backward hook when the forward contains multiple autograd Nodes is deprecated and will be removed in future versions. This hook will be missing some grad_input. Please use register_full_backward_hook to get the documented behavior.\n",
            "  warnings.warn(\"Using a non-full backward hook when the forward contains multiple autograd Nodes \"\n",
            "/usr/local/lib/python3.7/dist-packages/torch/nn/modules/module.py:939: UserWarning: Using non-full backward hooks on a Module that does not return a single Tensor or a tuple of Tensors is deprecated and will be removed in future versions. This hook will be missing some of the grad_output. Please use register_full_backward_hook to get the documented behavior.\n",
            "  warnings.warn(\"Using non-full backward hooks on a Module that does not return a \"\n",
            "0% [███████████████] 100% | ETA: 00:00:00\n",
            "Total time elapsed: 00:00:08\n"
          ]
        },
        {
          "output_type": "stream",
          "name": "stdout",
          "text": [
            "Finished Epoch 4 || Run Time:    5.3 | Load Time:    3.8 || F1:  98.76 | Prec:  98.87 | Rec:  98.65 || Ex/s: 272.31\n",
            "\n"
          ]
        },
        {
          "output_type": "execute_result",
          "data": {
            "text/plain": [
              "tensor(98.7599, device='cuda:0')"
            ]
          },
          "metadata": {},
          "execution_count": 58
        }
      ],
      "source": [
        "# Compute F1 on test set\n",
        "model.run_eval(test)"
      ]
    },
    {
      "cell_type": "markdown",
      "metadata": {
        "id": "Hvt3MiaV8Zk1"
      },
      "source": [
        "##### DBLP-GoogleScholar"
      ]
    },
    {
      "cell_type": "code",
      "execution_count": null,
      "metadata": {
        "id": "8Fbt0PhW8Zk1"
      },
      "outputs": [],
      "source": [
        "train, validation, test = dm.data.process(\n",
        "    path='/content/IC/datasesErros/AADatasets/Structured/DBLP-GoogleScholar/',\n",
        "    train='joined_train.csv',\n",
        "    validation='joined_valid.csv',\n",
        "    test='joined_test.csv')"
      ]
    },
    {
      "cell_type": "code",
      "execution_count": null,
      "metadata": {
        "id": "yzRiP2zT8Zk2"
      },
      "outputs": [],
      "source": [
        "model = dm.MatchingModel(attr_summarizer='hybrid')"
      ]
    },
    {
      "cell_type": "code",
      "execution_count": null,
      "metadata": {
        "id": "suAqw-TR8Zk2",
        "colab": {
          "base_uri": "https://localhost:8080/"
        },
        "outputId": "fd329dc6-96db-4d29-c99f-d805a7993696"
      },
      "outputs": [
        {
          "output_type": "stream",
          "name": "stdout",
          "text": [
            "* Number of trainable parameters: 9210006\n",
            "===>  TRAIN Epoch 1\n"
          ]
        },
        {
          "output_type": "stream",
          "name": "stderr",
          "text": [
            "/usr/local/lib/python3.7/dist-packages/torch/nn/modules/module.py:949: UserWarning: Using non-full backward hooks on a Module that does not take as input a single Tensor or a tuple of Tensors is deprecated and will be removed in future versions. This hook will be missing some of the grad_input. Please use register_full_backward_hook to get the documented behavior.\n",
            "  warnings.warn(\"Using non-full backward hooks on a Module that does not take as input a \"\n",
            "/usr/local/lib/python3.7/dist-packages/torch/nn/modules/module.py:974: UserWarning: Using a non-full backward hook when the forward contains multiple autograd Nodes is deprecated and will be removed in future versions. This hook will be missing some grad_input. Please use register_full_backward_hook to get the documented behavior.\n",
            "  warnings.warn(\"Using a non-full backward hook when the forward contains multiple autograd Nodes \"\n",
            "/usr/local/lib/python3.7/dist-packages/torch/nn/modules/module.py:939: UserWarning: Using non-full backward hooks on a Module that does not return a single Tensor or a tuple of Tensors is deprecated and will be removed in future versions. This hook will be missing some of the grad_output. Please use register_full_backward_hook to get the documented behavior.\n",
            "  warnings.warn(\"Using non-full backward hooks on a Module that does not return a \"\n",
            "/usr/local/lib/python3.7/dist-packages/torch/nn/functional.py:2742: UserWarning: reduction: 'mean' divides the total loss by both the batch size and the support size.'batchmean' divides only by the batch size, and aligns with the KL div math definition.'mean' will be changed to behave the same as 'batchmean' in the next major release.\n",
            "  \"reduction: 'mean' divides the total loss by both the batch size and the support size.\"\n",
            "0% [██████████████████████████████] 100% | ETA: 00:00:00\n",
            "Total time elapsed: 00:01:23\n"
          ]
        },
        {
          "output_type": "stream",
          "name": "stdout",
          "text": [
            "Finished Epoch 1 || Run Time:   62.0 | Load Time:   22.1 || F1:  86.08 | Prec:  80.51 | Rec:  92.49 || Ex/s: 204.75\n",
            "\n",
            "===>  EVAL Epoch 1\n"
          ]
        },
        {
          "output_type": "stream",
          "name": "stderr",
          "text": [
            "0% [██████████████████████████████] 100% | ETA: 00:00:00\n",
            "Total time elapsed: 00:00:18\n"
          ]
        },
        {
          "output_type": "stream",
          "name": "stdout",
          "text": [
            "Finished Epoch 1 || Run Time:   11.0 | Load Time:    7.2 || F1:  91.66 | Prec:  85.63 | Rec:  98.60 || Ex/s: 315.93\n",
            "\n",
            "* Best F1: tensor(91.6594, device='cuda:0')\n",
            "Saving best model...\n",
            "Done.\n",
            "---------------------\n",
            "\n",
            "===>  TRAIN Epoch 2\n"
          ]
        },
        {
          "output_type": "stream",
          "name": "stderr",
          "text": [
            "0% [██████████████████████████████] 100% | ETA: 00:00:00\n",
            "Total time elapsed: 00:01:23\n"
          ]
        },
        {
          "output_type": "stream",
          "name": "stdout",
          "text": [
            "Finished Epoch 2 || Run Time:   62.1 | Load Time:   22.0 || F1:  94.48 | Prec:  91.47 | Rec:  97.69 || Ex/s: 204.71\n",
            "\n",
            "===>  EVAL Epoch 2\n"
          ]
        },
        {
          "output_type": "stream",
          "name": "stderr",
          "text": [
            "0% [██████████████████████████████] 100% | ETA: 00:00:00\n",
            "Total time elapsed: 00:00:18\n"
          ]
        },
        {
          "output_type": "stream",
          "name": "stdout",
          "text": [
            "Finished Epoch 2 || Run Time:   11.1 | Load Time:    7.4 || F1:  94.48 | Prec:  93.03 | Rec:  95.98 || Ex/s: 311.37\n",
            "\n",
            "* Best F1: tensor(94.4802, device='cuda:0')\n",
            "Saving best model...\n",
            "Done.\n",
            "---------------------\n",
            "\n",
            "===>  TRAIN Epoch 3\n"
          ]
        },
        {
          "output_type": "stream",
          "name": "stderr",
          "text": [
            "0% [██████████████████████████████] 100% | ETA: 00:00:00\n",
            "Total time elapsed: 00:01:21\n"
          ]
        },
        {
          "output_type": "stream",
          "name": "stdout",
          "text": [
            "Finished Epoch 3 || Run Time:   60.9 | Load Time:   21.9 || F1:  96.32 | Prec:  94.40 | Rec:  98.32 || Ex/s: 208.01\n",
            "\n",
            "===>  EVAL Epoch 3\n"
          ]
        },
        {
          "output_type": "stream",
          "name": "stderr",
          "text": [
            "0% [██████████████████████████████] 100% | ETA: 00:00:00\n",
            "Total time elapsed: 00:00:18\n"
          ]
        },
        {
          "output_type": "stream",
          "name": "stdout",
          "text": [
            "Finished Epoch 3 || Run Time:   10.9 | Load Time:    7.2 || F1:  93.15 | Prec:  89.36 | Rec:  97.29 || Ex/s: 316.00\n",
            "\n",
            "---------------------\n",
            "\n",
            "===>  TRAIN Epoch 4\n"
          ]
        },
        {
          "output_type": "stream",
          "name": "stderr",
          "text": [
            "0% [██████████████████████████████] 100% | ETA: 00:00:00\n",
            "Total time elapsed: 00:01:23\n"
          ]
        },
        {
          "output_type": "stream",
          "name": "stdout",
          "text": [
            "Finished Epoch 4 || Run Time:   61.8 | Load Time:   22.1 || F1:  97.37 | Prec:  96.00 | Rec:  98.78 || Ex/s: 205.29\n",
            "\n",
            "===>  EVAL Epoch 4\n"
          ]
        },
        {
          "output_type": "stream",
          "name": "stderr",
          "text": [
            "0% [██████████████████████████████] 100% | ETA: 00:00:00\n",
            "Total time elapsed: 00:00:17\n"
          ]
        },
        {
          "output_type": "stream",
          "name": "stdout",
          "text": [
            "Finished Epoch 4 || Run Time:   10.7 | Load Time:    7.2 || F1:  93.94 | Prec:  91.64 | Rec:  96.36 || Ex/s: 320.69\n",
            "\n",
            "---------------------\n",
            "\n",
            "===>  TRAIN Epoch 5\n"
          ]
        },
        {
          "output_type": "stream",
          "name": "stderr",
          "text": [
            "0% [██████████████████████████████] 100% | ETA: 00:00:00\n",
            "Total time elapsed: 00:01:23\n"
          ]
        },
        {
          "output_type": "stream",
          "name": "stdout",
          "text": [
            "Finished Epoch 5 || Run Time:   62.0 | Load Time:   22.1 || F1:  98.24 | Prec:  97.31 | Rec:  99.19 || Ex/s: 204.87\n",
            "\n",
            "===>  EVAL Epoch 5\n"
          ]
        },
        {
          "output_type": "stream",
          "name": "stderr",
          "text": [
            "0% [██████████████████████████████] 100% | ETA: 00:00:00\n",
            "Total time elapsed: 00:00:18\n"
          ]
        },
        {
          "output_type": "stream",
          "name": "stdout",
          "text": [
            "Finished Epoch 5 || Run Time:   10.9 | Load Time:    7.2 || F1:  94.50 | Prec:  93.50 | Rec:  95.51 || Ex/s: 317.19\n",
            "\n",
            "* Best F1: tensor(94.4984, device='cuda:0')\n",
            "Saving best model...\n",
            "Done.\n",
            "---------------------\n",
            "\n",
            "===>  TRAIN Epoch 6\n"
          ]
        },
        {
          "output_type": "stream",
          "name": "stderr",
          "text": [
            "0% [██████████████████████████████] 100% | ETA: 00:00:00\n",
            "Total time elapsed: 00:01:23\n"
          ]
        },
        {
          "output_type": "stream",
          "name": "stdout",
          "text": [
            "Finished Epoch 6 || Run Time:   61.7 | Load Time:   22.0 || F1:  98.78 | Prec:  98.15 | Rec:  99.41 || Ex/s: 205.82\n",
            "\n",
            "===>  EVAL Epoch 6\n"
          ]
        },
        {
          "output_type": "stream",
          "name": "stderr",
          "text": [
            "0% [██████████████████████████████] 100% | ETA: 00:00:00\n",
            "Total time elapsed: 00:00:18\n"
          ]
        },
        {
          "output_type": "stream",
          "name": "stdout",
          "text": [
            "Finished Epoch 6 || Run Time:   10.9 | Load Time:    7.2 || F1:  94.83 | Prec:  95.45 | Rec:  94.21 || Ex/s: 317.08\n",
            "\n",
            "* Best F1: tensor(94.8260, device='cuda:0')\n",
            "Saving best model...\n",
            "Done.\n",
            "---------------------\n",
            "\n",
            "===>  TRAIN Epoch 7\n"
          ]
        },
        {
          "output_type": "stream",
          "name": "stderr",
          "text": [
            "0% [██████████████████████████████] 100% | ETA: 00:00:00\n",
            "Total time elapsed: 00:01:22\n"
          ]
        },
        {
          "output_type": "stream",
          "name": "stdout",
          "text": [
            "Finished Epoch 7 || Run Time:   61.0 | Load Time:   22.0 || F1:  99.08 | Prec:  98.70 | Rec:  99.47 || Ex/s: 207.51\n",
            "\n",
            "===>  EVAL Epoch 7\n"
          ]
        },
        {
          "output_type": "stream",
          "name": "stderr",
          "text": [
            "0% [██████████████████████████████] 100% | ETA: 00:00:00\n",
            "Total time elapsed: 00:00:18\n"
          ]
        },
        {
          "output_type": "stream",
          "name": "stdout",
          "text": [
            "Finished Epoch 7 || Run Time:   11.1 | Load Time:    7.2 || F1:  95.00 | Prec:  95.90 | Rec:  94.11 || Ex/s: 313.73\n",
            "\n",
            "* Best F1: tensor(95.0000, device='cuda:0')\n",
            "Saving best model...\n",
            "Done.\n",
            "---------------------\n",
            "\n",
            "===>  TRAIN Epoch 8\n"
          ]
        },
        {
          "output_type": "stream",
          "name": "stderr",
          "text": [
            "0% [██████████████████████████████] 100% | ETA: 00:00:00\n",
            "Total time elapsed: 00:01:22\n"
          ]
        },
        {
          "output_type": "stream",
          "name": "stdout",
          "text": [
            "Finished Epoch 8 || Run Time:   61.4 | Load Time:   22.0 || F1:  99.28 | Prec:  99.04 | Rec:  99.53 || Ex/s: 206.50\n",
            "\n",
            "===>  EVAL Epoch 8\n"
          ]
        },
        {
          "output_type": "stream",
          "name": "stderr",
          "text": [
            "0% [██████████████████████████████] 100% | ETA: 00:00:00\n",
            "Total time elapsed: 00:00:17\n"
          ]
        },
        {
          "output_type": "stream",
          "name": "stdout",
          "text": [
            "Finished Epoch 8 || Run Time:   10.8 | Load Time:    7.2 || F1:  94.82 | Prec:  93.78 | Rec:  95.89 || Ex/s: 319.05\n",
            "\n",
            "---------------------\n",
            "\n",
            "===>  TRAIN Epoch 9\n"
          ]
        },
        {
          "output_type": "stream",
          "name": "stderr",
          "text": [
            "0% [██████████████████████████████] 100% | ETA: 00:00:00\n",
            "Total time elapsed: 00:01:23\n"
          ]
        },
        {
          "output_type": "stream",
          "name": "stdout",
          "text": [
            "Finished Epoch 9 || Run Time:   62.2 | Load Time:   22.0 || F1:  99.41 | Prec:  99.25 | Rec:  99.56 || Ex/s: 204.56\n",
            "\n",
            "===>  EVAL Epoch 9\n"
          ]
        },
        {
          "output_type": "stream",
          "name": "stderr",
          "text": [
            "0% [██████████████████████████████] 100% | ETA: 00:00:00\n",
            "Total time elapsed: 00:00:17\n"
          ]
        },
        {
          "output_type": "stream",
          "name": "stdout",
          "text": [
            "Finished Epoch 9 || Run Time:   10.8 | Load Time:    7.2 || F1:  94.98 | Prec:  95.38 | Rec:  94.58 || Ex/s: 319.77\n",
            "\n",
            "---------------------\n",
            "\n",
            "===>  TRAIN Epoch 10\n"
          ]
        },
        {
          "output_type": "stream",
          "name": "stderr",
          "text": [
            "0% [██████████████████████████████] 100% | ETA: 00:00:00\n",
            "Total time elapsed: 00:01:23\n"
          ]
        },
        {
          "output_type": "stream",
          "name": "stdout",
          "text": [
            "Finished Epoch 10 || Run Time:   61.8 | Load Time:   22.1 || F1:  99.52 | Prec:  99.41 | Rec:  99.63 || Ex/s: 205.37\n",
            "\n",
            "===>  EVAL Epoch 10\n"
          ]
        },
        {
          "output_type": "stream",
          "name": "stderr",
          "text": [
            "0% [██████████████████████████████] 100% | ETA: 00:00:00\n",
            "Total time elapsed: 00:00:18\n"
          ]
        },
        {
          "output_type": "stream",
          "name": "stdout",
          "text": [
            "Finished Epoch 10 || Run Time:   10.9 | Load Time:    7.2 || F1:  95.12 | Prec:  95.57 | Rec:  94.67 || Ex/s: 317.56\n",
            "\n",
            "* Best F1: tensor(95.1174, device='cuda:0')\n",
            "Saving best model...\n",
            "Done.\n",
            "---------------------\n",
            "\n",
            "===>  TRAIN Epoch 11\n"
          ]
        },
        {
          "output_type": "stream",
          "name": "stderr",
          "text": [
            "0% [██████████████████████████████] 100% | ETA: 00:00:00\n",
            "Total time elapsed: 00:01:25\n"
          ]
        },
        {
          "output_type": "stream",
          "name": "stdout",
          "text": [
            "Finished Epoch 11 || Run Time:   63.2 | Load Time:   22.8 || F1:  99.59 | Prec:  99.53 | Rec:  99.66 || Ex/s: 200.36\n",
            "\n",
            "===>  EVAL Epoch 11\n"
          ]
        },
        {
          "output_type": "stream",
          "name": "stderr",
          "text": [
            "0% [██████████████████████████████] 100% | ETA: 00:00:00\n",
            "Total time elapsed: 00:00:18\n"
          ]
        },
        {
          "output_type": "stream",
          "name": "stdout",
          "text": [
            "Finished Epoch 11 || Run Time:   11.3 | Load Time:    7.3 || F1:  95.17 | Prec:  95.48 | Rec:  94.86 || Ex/s: 308.82\n",
            "\n",
            "* Best F1: tensor(95.1711, device='cuda:0')\n",
            "Saving best model...\n",
            "Done.\n",
            "---------------------\n",
            "\n",
            "===>  TRAIN Epoch 12\n"
          ]
        },
        {
          "output_type": "stream",
          "name": "stderr",
          "text": [
            "0% [██████████████████████████████] 100% | ETA: 00:00:00\n",
            "Total time elapsed: 00:01:22\n"
          ]
        },
        {
          "output_type": "stream",
          "name": "stdout",
          "text": [
            "Finished Epoch 12 || Run Time:   61.4 | Load Time:   22.0 || F1:  99.63 | Prec:  99.53 | Rec:  99.72 || Ex/s: 206.48\n",
            "\n",
            "===>  EVAL Epoch 12\n"
          ]
        },
        {
          "output_type": "stream",
          "name": "stderr",
          "text": [
            "0% [██████████████████████████████] 100% | ETA: 00:00:00\n",
            "Total time elapsed: 00:00:18\n"
          ]
        },
        {
          "output_type": "stream",
          "name": "stdout",
          "text": [
            "Finished Epoch 12 || Run Time:   11.1 | Load Time:    7.2 || F1:  95.09 | Prec:  95.22 | Rec:  94.95 || Ex/s: 314.04\n",
            "\n",
            "---------------------\n",
            "\n",
            "===>  TRAIN Epoch 13\n"
          ]
        },
        {
          "output_type": "stream",
          "name": "stderr",
          "text": [
            "0% [██████████████████████████████] 100% | ETA: 00:00:00\n",
            "Total time elapsed: 00:01:22\n"
          ]
        },
        {
          "output_type": "stream",
          "name": "stdout",
          "text": [
            "Finished Epoch 13 || Run Time:   61.3 | Load Time:   22.0 || F1:  99.67 | Prec:  99.56 | Rec:  99.78 || Ex/s: 206.59\n",
            "\n",
            "===>  EVAL Epoch 13\n"
          ]
        },
        {
          "output_type": "stream",
          "name": "stderr",
          "text": [
            "0% [██████████████████████████████] 100% | ETA: 00:00:00\n",
            "Total time elapsed: 00:00:18\n"
          ]
        },
        {
          "output_type": "stream",
          "name": "stdout",
          "text": [
            "Finished Epoch 13 || Run Time:   11.1 | Load Time:    7.4 || F1:  95.04 | Prec:  95.22 | Rec:  94.86 || Ex/s: 311.22\n",
            "\n",
            "---------------------\n",
            "\n",
            "===>  TRAIN Epoch 14\n"
          ]
        },
        {
          "output_type": "stream",
          "name": "stderr",
          "text": [
            "0% [██████████████████████████████] 100% | ETA: 00:00:00\n",
            "Total time elapsed: 00:01:22\n"
          ]
        },
        {
          "output_type": "stream",
          "name": "stdout",
          "text": [
            "Finished Epoch 14 || Run Time:   61.4 | Load Time:   21.9 || F1:  99.72 | Prec:  99.60 | Rec:  99.84 || Ex/s: 206.90\n",
            "\n",
            "===>  EVAL Epoch 14\n"
          ]
        },
        {
          "output_type": "stream",
          "name": "stderr",
          "text": [
            "0% [██████████████████████████████] 100% | ETA: 00:00:00\n",
            "Total time elapsed: 00:00:18\n"
          ]
        },
        {
          "output_type": "stream",
          "name": "stdout",
          "text": [
            "Finished Epoch 14 || Run Time:   11.1 | Load Time:    7.4 || F1:  95.08 | Prec:  95.39 | Rec:  94.77 || Ex/s: 310.71\n",
            "\n",
            "---------------------\n",
            "\n",
            "===>  TRAIN Epoch 15\n"
          ]
        },
        {
          "output_type": "stream",
          "name": "stderr",
          "text": [
            "0% [██████████████████████████████] 100% | ETA: 00:00:00\n",
            "Total time elapsed: 00:01:22\n"
          ]
        },
        {
          "output_type": "stream",
          "name": "stdout",
          "text": [
            "Finished Epoch 15 || Run Time:   61.8 | Load Time:   22.1 || F1:  99.75 | Prec:  99.63 | Rec:  99.88 || Ex/s: 205.40\n",
            "\n",
            "===>  EVAL Epoch 15\n"
          ]
        },
        {
          "output_type": "stream",
          "name": "stderr",
          "text": [
            "0% [██████████████████████████████] 100% | ETA: 00:00:00\n",
            "Total time elapsed: 00:00:17\n"
          ]
        },
        {
          "output_type": "stream",
          "name": "stdout",
          "text": [
            "Finished Epoch 15 || Run Time:   10.8 | Load Time:    7.2 || F1:  95.13 | Prec:  95.39 | Rec:  94.86 || Ex/s: 319.29\n",
            "\n",
            "---------------------\n",
            "\n",
            "Loading best model...\n",
            "Training done.\n"
          ]
        },
        {
          "output_type": "execute_result",
          "data": {
            "text/plain": [
              "tensor(95.1711, device='cuda:0')"
            ]
          },
          "metadata": {},
          "execution_count": 61
        }
      ],
      "source": [
        "model.run_train(\n",
        "    train,\n",
        "    validation,\n",
        "    epochs=15,\n",
        "    batch_size=32,\n",
        "    best_save_path='hybrid_model.pth',\n",
        "    pos_neg_ratio=3)"
      ]
    },
    {
      "cell_type": "code",
      "execution_count": null,
      "metadata": {
        "id": "miqU3qu78Zk2",
        "colab": {
          "base_uri": "https://localhost:8080/"
        },
        "outputId": "fa2bda7f-e6c0-4517-d4cd-34e1e97fb6d4"
      },
      "outputs": [
        {
          "output_type": "stream",
          "name": "stdout",
          "text": [
            "===>  EVAL Epoch 11\n"
          ]
        },
        {
          "output_type": "stream",
          "name": "stderr",
          "text": [
            "/usr/local/lib/python3.7/dist-packages/torch/nn/modules/module.py:949: UserWarning: Using non-full backward hooks on a Module that does not take as input a single Tensor or a tuple of Tensors is deprecated and will be removed in future versions. This hook will be missing some of the grad_input. Please use register_full_backward_hook to get the documented behavior.\n",
            "  warnings.warn(\"Using non-full backward hooks on a Module that does not take as input a \"\n",
            "/usr/local/lib/python3.7/dist-packages/torch/nn/modules/module.py:974: UserWarning: Using a non-full backward hook when the forward contains multiple autograd Nodes is deprecated and will be removed in future versions. This hook will be missing some grad_input. Please use register_full_backward_hook to get the documented behavior.\n",
            "  warnings.warn(\"Using a non-full backward hook when the forward contains multiple autograd Nodes \"\n",
            "/usr/local/lib/python3.7/dist-packages/torch/nn/modules/module.py:939: UserWarning: Using non-full backward hooks on a Module that does not return a single Tensor or a tuple of Tensors is deprecated and will be removed in future versions. This hook will be missing some of the grad_output. Please use register_full_backward_hook to get the documented behavior.\n",
            "  warnings.warn(\"Using non-full backward hooks on a Module that does not return a \"\n",
            "0% [██████████████████████████████] 100% | ETA: 00:00:00\n",
            "Total time elapsed: 00:00:18\n"
          ]
        },
        {
          "output_type": "stream",
          "name": "stdout",
          "text": [
            "Finished Epoch 11 || Run Time:   11.0 | Load Time:    7.3 || F1:  94.90 | Prec:  94.20 | Rec:  95.61 || Ex/s: 313.82\n",
            "\n"
          ]
        },
        {
          "output_type": "execute_result",
          "data": {
            "text/plain": [
              "tensor(94.8980, device='cuda:0')"
            ]
          },
          "metadata": {},
          "execution_count": 62
        }
      ],
      "source": [
        "# Compute F1 on test set\n",
        "model.run_eval(test)"
      ]
    },
    {
      "cell_type": "markdown",
      "metadata": {
        "id": "parT3nak8Zk3"
      },
      "source": [
        "##### Walmart-Amazon"
      ]
    },
    {
      "cell_type": "code",
      "execution_count": null,
      "metadata": {
        "id": "4irvp-hv8Zk3"
      },
      "outputs": [],
      "source": [
        "train, validation, test = dm.data.process(\n",
        "    path='/content/IC/datasesErros/AADatasets/Structured/Walmart-Amazon/',\n",
        "    train='joined_train.csv',\n",
        "    validation='joined_valid.csv',\n",
        "    test='joined_test.csv')"
      ]
    },
    {
      "cell_type": "code",
      "execution_count": null,
      "metadata": {
        "id": "hfjEKHx98Zk3"
      },
      "outputs": [],
      "source": [
        "model = dm.MatchingModel(attr_summarizer='hybrid')"
      ]
    },
    {
      "cell_type": "code",
      "execution_count": null,
      "metadata": {
        "id": "XXqijb-M8Zk4",
        "colab": {
          "base_uri": "https://localhost:8080/"
        },
        "outputId": "71fad47e-50cc-4cbc-e4d8-4ee2c4a6657b"
      },
      "outputs": [
        {
          "output_type": "stream",
          "name": "stderr",
          "text": [
            "/usr/local/lib/python3.7/dist-packages/torch/nn/modules/module.py:949: UserWarning: Using non-full backward hooks on a Module that does not take as input a single Tensor or a tuple of Tensors is deprecated and will be removed in future versions. This hook will be missing some of the grad_input. Please use register_full_backward_hook to get the documented behavior.\n",
            "  warnings.warn(\"Using non-full backward hooks on a Module that does not take as input a \"\n",
            "/usr/local/lib/python3.7/dist-packages/torch/nn/modules/module.py:974: UserWarning: Using a non-full backward hook when the forward contains multiple autograd Nodes is deprecated and will be removed in future versions. This hook will be missing some grad_input. Please use register_full_backward_hook to get the documented behavior.\n",
            "  warnings.warn(\"Using a non-full backward hook when the forward contains multiple autograd Nodes \"\n"
          ]
        },
        {
          "output_type": "stream",
          "name": "stdout",
          "text": [
            "* Number of trainable parameters: 11286907\n",
            "===>  TRAIN Epoch 1\n"
          ]
        },
        {
          "output_type": "stream",
          "name": "stderr",
          "text": [
            "/usr/local/lib/python3.7/dist-packages/torch/nn/modules/module.py:939: UserWarning: Using non-full backward hooks on a Module that does not return a single Tensor or a tuple of Tensors is deprecated and will be removed in future versions. This hook will be missing some of the grad_output. Please use register_full_backward_hook to get the documented behavior.\n",
            "  warnings.warn(\"Using non-full backward hooks on a Module that does not return a \"\n",
            "/usr/local/lib/python3.7/dist-packages/torch/nn/functional.py:2742: UserWarning: reduction: 'mean' divides the total loss by both the batch size and the support size.'batchmean' divides only by the batch size, and aligns with the KL div math definition.'mean' will be changed to behave the same as 'batchmean' in the next major release.\n",
            "  \"reduction: 'mean' divides the total loss by both the batch size and the support size.\"\n",
            "0% [██████████████████████████████] 100% | ETA: 00:00:00\n",
            "Total time elapsed: 00:00:31\n"
          ]
        },
        {
          "output_type": "stream",
          "name": "stdout",
          "text": [
            "Finished Epoch 1 || Run Time:   25.8 | Load Time:    6.1 || F1:  32.93 | Prec:  53.52 | Rec:  23.78 || Ex/s: 192.44\n",
            "\n",
            "===>  EVAL Epoch 1\n"
          ]
        },
        {
          "output_type": "stream",
          "name": "stderr",
          "text": [
            "0% [█████████████] 100% | ETA: 00:00:00\n",
            "Total time elapsed: 00:00:06\n"
          ]
        },
        {
          "output_type": "stream",
          "name": "stdout",
          "text": [
            "Finished Epoch 1 || Run Time:    4.5 | Load Time:    2.0 || F1:  59.93 | Prec:  85.58 | Rec:  46.11 || Ex/s: 316.62\n",
            "\n",
            "* Best F1: tensor(59.9327, device='cuda:0')\n",
            "Saving best model...\n",
            "Done.\n",
            "---------------------\n",
            "\n",
            "===>  TRAIN Epoch 2\n"
          ]
        },
        {
          "output_type": "stream",
          "name": "stderr",
          "text": [
            "0% [██████████████████████████████] 100% | ETA: 00:00:00\n",
            "Total time elapsed: 00:00:32\n"
          ]
        },
        {
          "output_type": "stream",
          "name": "stdout",
          "text": [
            "Finished Epoch 2 || Run Time:   26.7 | Load Time:    6.3 || F1:  58.86 | Prec:  62.80 | Rec:  55.38 || Ex/s: 186.47\n",
            "\n",
            "===>  EVAL Epoch 2\n"
          ]
        },
        {
          "output_type": "stream",
          "name": "stderr",
          "text": [
            "0% [█████████████] 100% | ETA: 00:00:00\n",
            "Total time elapsed: 00:00:06\n"
          ]
        },
        {
          "output_type": "stream",
          "name": "stdout",
          "text": [
            "Finished Epoch 2 || Run Time:    4.6 | Load Time:    2.0 || F1:  60.96 | Prec:  89.90 | Rec:  46.11 || Ex/s: 310.87\n",
            "\n",
            "* Best F1: tensor(60.9589, device='cuda:0')\n",
            "Saving best model...\n",
            "Done.\n",
            "---------------------\n",
            "\n",
            "===>  TRAIN Epoch 3\n"
          ]
        },
        {
          "output_type": "stream",
          "name": "stderr",
          "text": [
            "0% [██████████████████████████████] 100% | ETA: 00:00:00\n",
            "Total time elapsed: 00:00:31\n"
          ]
        },
        {
          "output_type": "stream",
          "name": "stdout",
          "text": [
            "Finished Epoch 3 || Run Time:   25.9 | Load Time:    6.1 || F1:  68.61 | Prec:  67.62 | Rec:  69.62 || Ex/s: 192.09\n",
            "\n",
            "===>  EVAL Epoch 3\n"
          ]
        },
        {
          "output_type": "stream",
          "name": "stderr",
          "text": [
            "0% [█████████████] 100% | ETA: 00:00:00\n",
            "Total time elapsed: 00:00:06\n"
          ]
        },
        {
          "output_type": "stream",
          "name": "stdout",
          "text": [
            "Finished Epoch 3 || Run Time:    4.5 | Load Time:    2.0 || F1:  63.04 | Prec:  66.29 | Rec:  60.10 || Ex/s: 314.14\n",
            "\n",
            "* Best F1: tensor(63.0435, device='cuda:0')\n",
            "Saving best model...\n",
            "Done.\n",
            "---------------------\n",
            "\n",
            "===>  TRAIN Epoch 4\n"
          ]
        },
        {
          "output_type": "stream",
          "name": "stderr",
          "text": [
            "0% [██████████████████████████████] 100% | ETA: 00:00:00\n",
            "Total time elapsed: 00:00:31\n"
          ]
        },
        {
          "output_type": "stream",
          "name": "stdout",
          "text": [
            "Finished Epoch 4 || Run Time:   25.4 | Load Time:    6.1 || F1:  77.59 | Prec:  73.12 | Rec:  82.64 || Ex/s: 195.05\n",
            "\n",
            "===>  EVAL Epoch 4\n"
          ]
        },
        {
          "output_type": "stream",
          "name": "stderr",
          "text": [
            "0% [█████████████] 100% | ETA: 00:00:00\n",
            "Total time elapsed: 00:00:06\n"
          ]
        },
        {
          "output_type": "stream",
          "name": "stdout",
          "text": [
            "Finished Epoch 4 || Run Time:    4.9 | Load Time:    2.1 || F1:  63.71 | Prec:  68.45 | Rec:  59.59 || Ex/s: 293.61\n",
            "\n",
            "* Best F1: tensor(63.7119, device='cuda:0')\n",
            "Saving best model...\n",
            "Done.\n",
            "---------------------\n",
            "\n",
            "===>  TRAIN Epoch 5\n"
          ]
        },
        {
          "output_type": "stream",
          "name": "stderr",
          "text": [
            "0% [██████████████████████████████] 100% | ETA: 00:00:00\n",
            "Total time elapsed: 00:00:32\n"
          ]
        },
        {
          "output_type": "stream",
          "name": "stdout",
          "text": [
            "Finished Epoch 5 || Run Time:   26.4 | Load Time:    6.2 || F1:  83.44 | Prec:  79.04 | Rec:  88.37 || Ex/s: 188.55\n",
            "\n",
            "===>  EVAL Epoch 5\n"
          ]
        },
        {
          "output_type": "stream",
          "name": "stderr",
          "text": [
            "0% [█████████████] 100% | ETA: 00:00:00\n",
            "Total time elapsed: 00:00:06\n"
          ]
        },
        {
          "output_type": "stream",
          "name": "stdout",
          "text": [
            "Finished Epoch 5 || Run Time:    4.6 | Load Time:    2.0 || F1:  62.94 | Prec:  61.69 | Rec:  64.25 || Ex/s: 310.40\n",
            "\n",
            "---------------------\n",
            "\n",
            "===>  TRAIN Epoch 6\n"
          ]
        },
        {
          "output_type": "stream",
          "name": "stderr",
          "text": [
            "0% [██████████████████████████████] 100% | ETA: 00:00:00\n",
            "Total time elapsed: 00:00:31\n"
          ]
        },
        {
          "output_type": "stream",
          "name": "stdout",
          "text": [
            "Finished Epoch 6 || Run Time:   25.6 | Load Time:    6.1 || F1:  89.39 | Prec:  85.56 | Rec:  93.58 || Ex/s: 193.47\n",
            "\n",
            "===>  EVAL Epoch 6\n"
          ]
        },
        {
          "output_type": "stream",
          "name": "stderr",
          "text": [
            "0% [█████████████] 100% | ETA: 00:00:00\n",
            "Total time elapsed: 00:00:06\n"
          ]
        },
        {
          "output_type": "stream",
          "name": "stdout",
          "text": [
            "Finished Epoch 6 || Run Time:    4.5 | Load Time:    2.0 || F1:  65.22 | Prec:  68.57 | Rec:  62.18 || Ex/s: 313.53\n",
            "\n",
            "* Best F1: tensor(65.2174, device='cuda:0')\n",
            "Saving best model...\n",
            "Done.\n",
            "---------------------\n",
            "\n",
            "===>  TRAIN Epoch 7\n"
          ]
        },
        {
          "output_type": "stream",
          "name": "stderr",
          "text": [
            "0% [██████████████████████████████] 100% | ETA: 00:00:00\n",
            "Total time elapsed: 00:00:32\n"
          ]
        },
        {
          "output_type": "stream",
          "name": "stdout",
          "text": [
            "Finished Epoch 7 || Run Time:   26.3 | Load Time:    6.2 || F1:  93.90 | Prec:  91.72 | Rec:  96.18 || Ex/s: 189.25\n",
            "\n",
            "===>  EVAL Epoch 7\n"
          ]
        },
        {
          "output_type": "stream",
          "name": "stderr",
          "text": [
            "0% [█████████████] 100% | ETA: 00:00:00\n",
            "Total time elapsed: 00:00:06\n"
          ]
        },
        {
          "output_type": "stream",
          "name": "stdout",
          "text": [
            "Finished Epoch 7 || Run Time:    4.5 | Load Time:    2.0 || F1:  65.99 | Prec:  64.68 | Rec:  67.36 || Ex/s: 317.47\n",
            "\n",
            "* Best F1: tensor(65.9899, device='cuda:0')\n",
            "Saving best model...\n",
            "Done.\n",
            "---------------------\n",
            "\n",
            "===>  TRAIN Epoch 8\n"
          ]
        },
        {
          "output_type": "stream",
          "name": "stderr",
          "text": [
            "0% [██████████████████████████████] 100% | ETA: 00:00:00\n",
            "Total time elapsed: 00:00:31\n"
          ]
        },
        {
          "output_type": "stream",
          "name": "stdout",
          "text": [
            "Finished Epoch 8 || Run Time:   26.2 | Load Time:    6.1 || F1:  95.50 | Prec:  93.51 | Rec:  97.57 || Ex/s: 190.11\n",
            "\n",
            "===>  EVAL Epoch 8\n"
          ]
        },
        {
          "output_type": "stream",
          "name": "stderr",
          "text": [
            "0% [█████████████] 100% | ETA: 00:00:00\n",
            "Total time elapsed: 00:00:06\n"
          ]
        },
        {
          "output_type": "stream",
          "name": "stdout",
          "text": [
            "Finished Epoch 8 || Run Time:    4.5 | Load Time:    2.0 || F1:  65.07 | Prec:  60.44 | Rec:  70.47 || Ex/s: 313.82\n",
            "\n",
            "---------------------\n",
            "\n",
            "===>  TRAIN Epoch 9\n"
          ]
        },
        {
          "output_type": "stream",
          "name": "stderr",
          "text": [
            "0% [██████████████████████████████] 100% | ETA: 00:00:00\n",
            "Total time elapsed: 00:00:32\n"
          ]
        },
        {
          "output_type": "stream",
          "name": "stdout",
          "text": [
            "Finished Epoch 9 || Run Time:   26.4 | Load Time:    6.2 || F1:  97.00 | Prec:  95.77 | Rec:  98.26 || Ex/s: 187.95\n",
            "\n",
            "===>  EVAL Epoch 9\n"
          ]
        },
        {
          "output_type": "stream",
          "name": "stderr",
          "text": [
            "0% [█████████████] 100% | ETA: 00:00:00\n",
            "Total time elapsed: 00:00:06\n"
          ]
        },
        {
          "output_type": "stream",
          "name": "stdout",
          "text": [
            "Finished Epoch 9 || Run Time:    4.5 | Load Time:    2.0 || F1:  66.83 | Prec:  63.13 | Rec:  70.98 || Ex/s: 316.42\n",
            "\n",
            "* Best F1: tensor(66.8293, device='cuda:0')\n",
            "Saving best model...\n",
            "Done.\n",
            "---------------------\n",
            "\n",
            "===>  TRAIN Epoch 10\n"
          ]
        },
        {
          "output_type": "stream",
          "name": "stderr",
          "text": [
            "0% [██████████████████████████████] 100% | ETA: 00:00:00\n",
            "Total time elapsed: 00:00:31\n"
          ]
        },
        {
          "output_type": "stream",
          "name": "stdout",
          "text": [
            "Finished Epoch 10 || Run Time:   25.5 | Load Time:    6.1 || F1:  98.02 | Prec:  97.10 | Rec:  98.96 || Ex/s: 194.42\n",
            "\n",
            "===>  EVAL Epoch 10\n"
          ]
        },
        {
          "output_type": "stream",
          "name": "stderr",
          "text": [
            "0% [█████████████] 100% | ETA: 00:00:00\n",
            "Total time elapsed: 00:00:06\n"
          ]
        },
        {
          "output_type": "stream",
          "name": "stdout",
          "text": [
            "Finished Epoch 10 || Run Time:    4.5 | Load Time:    2.0 || F1:  66.17 | Prec:  63.21 | Rec:  69.43 || Ex/s: 314.41\n",
            "\n",
            "---------------------\n",
            "\n",
            "===>  TRAIN Epoch 11\n"
          ]
        },
        {
          "output_type": "stream",
          "name": "stderr",
          "text": [
            "0% [██████████████████████████████] 100% | ETA: 00:00:00\n",
            "Total time elapsed: 00:00:31\n"
          ]
        },
        {
          "output_type": "stream",
          "name": "stdout",
          "text": [
            "Finished Epoch 11 || Run Time:   26.2 | Load Time:    6.1 || F1:  98.45 | Prec:  97.94 | Rec:  98.96 || Ex/s: 189.83\n",
            "\n",
            "===>  EVAL Epoch 11\n"
          ]
        },
        {
          "output_type": "stream",
          "name": "stderr",
          "text": [
            "0% [█████████████] 100% | ETA: 00:00:00\n",
            "Total time elapsed: 00:00:06\n"
          ]
        },
        {
          "output_type": "stream",
          "name": "stdout",
          "text": [
            "Finished Epoch 11 || Run Time:    4.7 | Load Time:    2.0 || F1:  68.41 | Prec:  68.95 | Rec:  67.88 || Ex/s: 306.93\n",
            "\n",
            "* Best F1: tensor(68.4073, device='cuda:0')\n",
            "Saving best model...\n",
            "Done.\n",
            "---------------------\n",
            "\n",
            "===>  TRAIN Epoch 12\n"
          ]
        },
        {
          "output_type": "stream",
          "name": "stderr",
          "text": [
            "0% [██████████████████████████████] 100% | ETA: 00:00:00\n",
            "Total time elapsed: 00:00:32\n"
          ]
        },
        {
          "output_type": "stream",
          "name": "stdout",
          "text": [
            "Finished Epoch 12 || Run Time:   26.2 | Load Time:    6.2 || F1:  98.45 | Prec:  97.77 | Rec:  99.13 || Ex/s: 189.17\n",
            "\n",
            "===>  EVAL Epoch 12\n"
          ]
        },
        {
          "output_type": "stream",
          "name": "stderr",
          "text": [
            "0% [█████████████] 100% | ETA: 00:00:00\n",
            "Total time elapsed: 00:00:06\n"
          ]
        },
        {
          "output_type": "stream",
          "name": "stdout",
          "text": [
            "Finished Epoch 12 || Run Time:    4.5 | Load Time:    2.0 || F1:  68.73 | Prec:  68.56 | Rec:  68.91 || Ex/s: 315.46\n",
            "\n",
            "* Best F1: tensor(68.7338, device='cuda:0')\n",
            "Saving best model...\n",
            "Done.\n",
            "---------------------\n",
            "\n",
            "===>  TRAIN Epoch 13\n"
          ]
        },
        {
          "output_type": "stream",
          "name": "stderr",
          "text": [
            "0% [██████████████████████████████] 100% | ETA: 00:00:00\n",
            "Total time elapsed: 00:00:31\n"
          ]
        },
        {
          "output_type": "stream",
          "name": "stdout",
          "text": [
            "Finished Epoch 13 || Run Time:   25.7 | Load Time:    6.1 || F1:  98.36 | Prec:  97.61 | Rec:  99.13 || Ex/s: 193.06\n",
            "\n",
            "===>  EVAL Epoch 13\n"
          ]
        },
        {
          "output_type": "stream",
          "name": "stderr",
          "text": [
            "0% [█████████████] 100% | ETA: 00:00:00\n",
            "Total time elapsed: 00:00:06\n"
          ]
        },
        {
          "output_type": "stream",
          "name": "stdout",
          "text": [
            "Finished Epoch 13 || Run Time:    4.5 | Load Time:    2.0 || F1:  68.06 | Prec:  68.78 | Rec:  67.36 || Ex/s: 314.19\n",
            "\n",
            "---------------------\n",
            "\n",
            "===>  TRAIN Epoch 14\n"
          ]
        },
        {
          "output_type": "stream",
          "name": "stderr",
          "text": [
            "0% [██████████████████████████████] 100% | ETA: 00:00:00\n",
            "Total time elapsed: 00:00:32\n"
          ]
        },
        {
          "output_type": "stream",
          "name": "stdout",
          "text": [
            "Finished Epoch 14 || Run Time:   26.6 | Load Time:    6.3 || F1:  98.79 | Prec:  98.45 | Rec:  99.13 || Ex/s: 186.89\n",
            "\n",
            "===>  EVAL Epoch 14\n"
          ]
        },
        {
          "output_type": "stream",
          "name": "stderr",
          "text": [
            "0% [█████████████] 100% | ETA: 00:00:00\n",
            "Total time elapsed: 00:00:06\n"
          ]
        },
        {
          "output_type": "stream",
          "name": "stdout",
          "text": [
            "Finished Epoch 14 || Run Time:    4.5 | Load Time:    2.0 || F1:  67.72 | Prec:  69.19 | Rec:  66.32 || Ex/s: 315.52\n",
            "\n",
            "---------------------\n",
            "\n",
            "===>  TRAIN Epoch 15\n"
          ]
        },
        {
          "output_type": "stream",
          "name": "stderr",
          "text": [
            "0% [██████████████████████████████] 100% | ETA: 00:00:00\n",
            "Total time elapsed: 00:00:31\n"
          ]
        },
        {
          "output_type": "stream",
          "name": "stdout",
          "text": [
            "Finished Epoch 15 || Run Time:   26.0 | Load Time:    6.1 || F1:  99.05 | Prec:  98.62 | Rec:  99.48 || Ex/s: 191.48\n",
            "\n",
            "===>  EVAL Epoch 15\n"
          ]
        },
        {
          "output_type": "stream",
          "name": "stderr",
          "text": [
            "0% [█████████████] 100% | ETA: 00:00:00\n",
            "Total time elapsed: 00:00:06\n"
          ]
        },
        {
          "output_type": "stream",
          "name": "stdout",
          "text": [
            "Finished Epoch 15 || Run Time:    4.5 | Load Time:    2.0 || F1:  67.90 | Prec:  69.57 | Rec:  66.32 || Ex/s: 315.21\n",
            "\n",
            "---------------------\n",
            "\n",
            "Loading best model...\n",
            "Training done.\n"
          ]
        },
        {
          "output_type": "execute_result",
          "data": {
            "text/plain": [
              "tensor(68.7338, device='cuda:0')"
            ]
          },
          "metadata": {},
          "execution_count": 65
        }
      ],
      "source": [
        "model.run_train(\n",
        "    train,\n",
        "    validation,\n",
        "    epochs=15,\n",
        "    batch_size=32,\n",
        "    best_save_path='hybrid_model.pth',\n",
        "    pos_neg_ratio=3)"
      ]
    },
    {
      "cell_type": "code",
      "execution_count": null,
      "metadata": {
        "id": "tT_4ZVfk8Zk4",
        "colab": {
          "base_uri": "https://localhost:8080/"
        },
        "outputId": "fcaaf7de-58b6-4de0-a697-74b092b770b2"
      },
      "outputs": [
        {
          "output_type": "stream",
          "name": "stdout",
          "text": [
            "===>  EVAL Epoch 12\n"
          ]
        },
        {
          "output_type": "stream",
          "name": "stderr",
          "text": [
            "/usr/local/lib/python3.7/dist-packages/torch/nn/modules/module.py:949: UserWarning: Using non-full backward hooks on a Module that does not take as input a single Tensor or a tuple of Tensors is deprecated and will be removed in future versions. This hook will be missing some of the grad_input. Please use register_full_backward_hook to get the documented behavior.\n",
            "  warnings.warn(\"Using non-full backward hooks on a Module that does not take as input a \"\n",
            "/usr/local/lib/python3.7/dist-packages/torch/nn/modules/module.py:974: UserWarning: Using a non-full backward hook when the forward contains multiple autograd Nodes is deprecated and will be removed in future versions. This hook will be missing some grad_input. Please use register_full_backward_hook to get the documented behavior.\n",
            "  warnings.warn(\"Using a non-full backward hook when the forward contains multiple autograd Nodes \"\n",
            "/usr/local/lib/python3.7/dist-packages/torch/nn/modules/module.py:939: UserWarning: Using non-full backward hooks on a Module that does not return a single Tensor or a tuple of Tensors is deprecated and will be removed in future versions. This hook will be missing some of the grad_output. Please use register_full_backward_hook to get the documented behavior.\n",
            "  warnings.warn(\"Using non-full backward hooks on a Module that does not return a \"\n",
            "0% [█████████████] 100% | ETA: 00:00:00\n",
            "Total time elapsed: 00:00:06\n"
          ]
        },
        {
          "output_type": "stream",
          "name": "stdout",
          "text": [
            "Finished Epoch 12 || Run Time:    4.6 | Load Time:    2.0 || F1:  63.66 | Prec:  65.22 | Rec:  62.18 || Ex/s: 309.15\n",
            "\n"
          ]
        },
        {
          "output_type": "execute_result",
          "data": {
            "text/plain": [
              "tensor(63.6605, device='cuda:0')"
            ]
          },
          "metadata": {},
          "execution_count": 66
        }
      ],
      "source": [
        "# Compute F1 on test set\n",
        "model.run_eval(test)"
      ]
    },
    {
      "cell_type": "markdown",
      "metadata": {
        "id": "JE8Wkqh88Zk5"
      },
      "source": [
        "#### TEXTUAL"
      ]
    },
    {
      "cell_type": "markdown",
      "metadata": {
        "id": "Psve9YNz8Zk5"
      },
      "source": [
        "##### Abt-Buy"
      ]
    },
    {
      "cell_type": "code",
      "execution_count": null,
      "metadata": {
        "id": "vNpMNuW08Zk5"
      },
      "outputs": [],
      "source": [
        "train, validation, test = dm.data.process(\n",
        "    path='/content/IC/datasesErros/AADatasets/Textual/Abt-Buy/',\n",
        "    train='joined_train.csv',\n",
        "    validation='joined_valid.csv',\n",
        "    test='joined_test.csv')"
      ]
    },
    {
      "cell_type": "code",
      "execution_count": null,
      "metadata": {
        "id": "9qZteSoc8Zk6"
      },
      "outputs": [],
      "source": [
        "model = dm.MatchingModel(attr_summarizer='hybrid')"
      ]
    },
    {
      "cell_type": "code",
      "execution_count": null,
      "metadata": {
        "id": "TqdspHko8Zk6",
        "colab": {
          "base_uri": "https://localhost:8080/"
        },
        "outputId": "ae1021e4-693d-4628-862c-3fba443ce5ea"
      },
      "outputs": [
        {
          "output_type": "stream",
          "name": "stdout",
          "text": [
            "* Number of trainable parameters: 7133105\n",
            "===>  TRAIN Epoch 1\n"
          ]
        },
        {
          "output_type": "stream",
          "name": "stderr",
          "text": [
            "/usr/local/lib/python3.7/dist-packages/torch/nn/modules/module.py:949: UserWarning: Using non-full backward hooks on a Module that does not take as input a single Tensor or a tuple of Tensors is deprecated and will be removed in future versions. This hook will be missing some of the grad_input. Please use register_full_backward_hook to get the documented behavior.\n",
            "  warnings.warn(\"Using non-full backward hooks on a Module that does not take as input a \"\n",
            "/usr/local/lib/python3.7/dist-packages/torch/nn/modules/module.py:974: UserWarning: Using a non-full backward hook when the forward contains multiple autograd Nodes is deprecated and will be removed in future versions. This hook will be missing some grad_input. Please use register_full_backward_hook to get the documented behavior.\n",
            "  warnings.warn(\"Using a non-full backward hook when the forward contains multiple autograd Nodes \"\n",
            "/usr/local/lib/python3.7/dist-packages/torch/nn/modules/module.py:939: UserWarning: Using non-full backward hooks on a Module that does not return a single Tensor or a tuple of Tensors is deprecated and will be removed in future versions. This hook will be missing some of the grad_output. Please use register_full_backward_hook to get the documented behavior.\n",
            "  warnings.warn(\"Using non-full backward hooks on a Module that does not return a \"\n",
            "/usr/local/lib/python3.7/dist-packages/torch/nn/functional.py:2742: UserWarning: reduction: 'mean' divides the total loss by both the batch size and the support size.'batchmean' divides only by the batch size, and aligns with the KL div math definition.'mean' will be changed to behave the same as 'batchmean' in the next major release.\n",
            "  \"reduction: 'mean' divides the total loss by both the batch size and the support size.\"\n",
            "0% [██████████████████████████████] 100% | ETA: 00:00:00\n",
            "Total time elapsed: 00:00:26\n"
          ]
        },
        {
          "output_type": "stream",
          "name": "stdout",
          "text": [
            "Finished Epoch 1 || Run Time:   17.3 | Load Time:    9.5 || F1:  18.24 | Prec:  25.74 | Rec:  14.12 || Ex/s: 214.87\n",
            "\n",
            "===>  EVAL Epoch 1\n"
          ]
        },
        {
          "output_type": "stream",
          "name": "stderr",
          "text": [
            "0% [████████████] 100% | ETA: 00:00:00\n",
            "Total time elapsed: 00:00:05\n"
          ]
        },
        {
          "output_type": "stream",
          "name": "stdout",
          "text": [
            "Finished Epoch 1 || Run Time:    2.9 | Load Time:    2.9 || F1:  20.27 | Prec:  33.33 | Rec:  14.56 || Ex/s: 327.71\n",
            "\n",
            "* Best F1: tensor(20.2703, device='cuda:0')\n",
            "Saving best model...\n",
            "Done.\n",
            "---------------------\n",
            "\n",
            "===>  TRAIN Epoch 2\n"
          ]
        },
        {
          "output_type": "stream",
          "name": "stderr",
          "text": [
            "0% [██████████████████████████████] 100% | ETA: 00:00:00\n",
            "Total time elapsed: 00:00:27\n"
          ]
        },
        {
          "output_type": "stream",
          "name": "stdout",
          "text": [
            "Finished Epoch 2 || Run Time:   18.0 | Load Time:    9.6 || F1:  47.88 | Prec:  44.17 | Rec:  52.27 || Ex/s: 208.31\n",
            "\n",
            "===>  EVAL Epoch 2\n"
          ]
        },
        {
          "output_type": "stream",
          "name": "stderr",
          "text": [
            "0% [████████████] 100% | ETA: 00:00:00\n",
            "Total time elapsed: 00:00:06\n"
          ]
        },
        {
          "output_type": "stream",
          "name": "stdout",
          "text": [
            "Finished Epoch 2 || Run Time:    3.1 | Load Time:    3.0 || F1:  64.25 | Prec:  68.89 | Rec:  60.19 || Ex/s: 315.32\n",
            "\n",
            "* Best F1: tensor(64.2487, device='cuda:0')\n",
            "Saving best model...\n",
            "Done.\n",
            "---------------------\n",
            "\n",
            "===>  TRAIN Epoch 3\n"
          ]
        },
        {
          "output_type": "stream",
          "name": "stderr",
          "text": [
            "0% [██████████████████████████████] 100% | ETA: 00:00:00\n",
            "Total time elapsed: 00:00:26\n"
          ]
        },
        {
          "output_type": "stream",
          "name": "stdout",
          "text": [
            "Finished Epoch 3 || Run Time:   17.6 | Load Time:    9.4 || F1:  71.69 | Prec:  64.71 | Rec:  80.36 || Ex/s: 212.84\n",
            "\n",
            "===>  EVAL Epoch 3\n"
          ]
        },
        {
          "output_type": "stream",
          "name": "stderr",
          "text": [
            "0% [████████████] 100% | ETA: 00:00:00\n",
            "Total time elapsed: 00:00:05\n"
          ]
        },
        {
          "output_type": "stream",
          "name": "stdout",
          "text": [
            "Finished Epoch 3 || Run Time:    3.0 | Load Time:    2.9 || F1:  67.36 | Prec:  72.22 | Rec:  63.11 || Ex/s: 323.06\n",
            "\n",
            "* Best F1: tensor(67.3575, device='cuda:0')\n",
            "Saving best model...\n",
            "Done.\n",
            "---------------------\n",
            "\n",
            "===>  TRAIN Epoch 4\n"
          ]
        },
        {
          "output_type": "stream",
          "name": "stderr",
          "text": [
            "0% [██████████████████████████████] 100% | ETA: 00:00:00\n",
            "Total time elapsed: 00:00:26\n"
          ]
        },
        {
          "output_type": "stream",
          "name": "stdout",
          "text": [
            "Finished Epoch 4 || Run Time:   17.4 | Load Time:    9.4 || F1:  80.30 | Prec:  74.07 | Rec:  87.66 || Ex/s: 214.28\n",
            "\n",
            "===>  EVAL Epoch 4\n"
          ]
        },
        {
          "output_type": "stream",
          "name": "stderr",
          "text": [
            "0% [████████████] 100% | ETA: 00:00:00\n",
            "Total time elapsed: 00:00:05\n"
          ]
        },
        {
          "output_type": "stream",
          "name": "stdout",
          "text": [
            "Finished Epoch 4 || Run Time:    3.0 | Load Time:    3.0 || F1:  67.93 | Prec:  77.16 | Rec:  60.68 || Ex/s: 322.00\n",
            "\n",
            "* Best F1: tensor(67.9348, device='cuda:0')\n",
            "Saving best model...\n",
            "Done.\n",
            "---------------------\n",
            "\n",
            "===>  TRAIN Epoch 5\n"
          ]
        },
        {
          "output_type": "stream",
          "name": "stderr",
          "text": [
            "0% [██████████████████████████████] 100% | ETA: 00:00:00\n",
            "Total time elapsed: 00:00:27\n"
          ]
        },
        {
          "output_type": "stream",
          "name": "stdout",
          "text": [
            "Finished Epoch 5 || Run Time:   17.6 | Load Time:    9.6 || F1:  87.35 | Prec:  83.24 | Rec:  91.88 || Ex/s: 211.35\n",
            "\n",
            "===>  EVAL Epoch 5\n"
          ]
        },
        {
          "output_type": "stream",
          "name": "stderr",
          "text": [
            "0% [████████████] 100% | ETA: 00:00:00\n",
            "Total time elapsed: 00:00:05\n"
          ]
        },
        {
          "output_type": "stream",
          "name": "stdout",
          "text": [
            "Finished Epoch 5 || Run Time:    2.9 | Load Time:    2.9 || F1:  67.57 | Prec:  77.02 | Rec:  60.19 || Ex/s: 325.32\n",
            "\n",
            "---------------------\n",
            "\n",
            "===>  TRAIN Epoch 6\n"
          ]
        },
        {
          "output_type": "stream",
          "name": "stderr",
          "text": [
            "0% [██████████████████████████████] 100% | ETA: 00:00:00\n",
            "Total time elapsed: 00:00:27\n"
          ]
        },
        {
          "output_type": "stream",
          "name": "stdout",
          "text": [
            "Finished Epoch 6 || Run Time:   17.7 | Load Time:    9.4 || F1:  90.24 | Prec:  86.92 | Rec:  93.83 || Ex/s: 211.98\n",
            "\n",
            "===>  EVAL Epoch 6\n"
          ]
        },
        {
          "output_type": "stream",
          "name": "stderr",
          "text": [
            "0% [████████████] 100% | ETA: 00:00:00\n",
            "Total time elapsed: 00:00:05\n"
          ]
        },
        {
          "output_type": "stream",
          "name": "stdout",
          "text": [
            "Finished Epoch 6 || Run Time:    3.0 | Load Time:    2.9 || F1:  68.13 | Prec:  78.48 | Rec:  60.19 || Ex/s: 319.66\n",
            "\n",
            "* Best F1: tensor(68.1319, device='cuda:0')\n",
            "Saving best model...\n",
            "Done.\n",
            "---------------------\n",
            "\n",
            "===>  TRAIN Epoch 7\n"
          ]
        },
        {
          "output_type": "stream",
          "name": "stderr",
          "text": [
            "0% [██████████████████████████████] 100% | ETA: 00:00:00\n",
            "Total time elapsed: 00:00:27\n"
          ]
        },
        {
          "output_type": "stream",
          "name": "stdout",
          "text": [
            "Finished Epoch 7 || Run Time:   17.6 | Load Time:    9.5 || F1:  92.53 | Prec:  89.77 | Rec:  95.45 || Ex/s: 211.88\n",
            "\n",
            "===>  EVAL Epoch 7\n"
          ]
        },
        {
          "output_type": "stream",
          "name": "stderr",
          "text": [
            "0% [████████████] 100% | ETA: 00:00:00\n",
            "Total time elapsed: 00:00:06\n"
          ]
        },
        {
          "output_type": "stream",
          "name": "stdout",
          "text": [
            "Finished Epoch 7 || Run Time:    3.3 | Load Time:    3.2 || F1:  65.56 | Prec:  76.62 | Rec:  57.28 || Ex/s: 297.77\n",
            "\n",
            "---------------------\n",
            "\n",
            "===>  TRAIN Epoch 8\n"
          ]
        },
        {
          "output_type": "stream",
          "name": "stderr",
          "text": [
            "0% [██████████████████████████████] 100% | ETA: 00:00:00\n",
            "Total time elapsed: 00:00:26\n"
          ]
        },
        {
          "output_type": "stream",
          "name": "stdout",
          "text": [
            "Finished Epoch 8 || Run Time:   17.4 | Load Time:    9.4 || F1:  95.03 | Prec:  93.83 | Rec:  96.27 || Ex/s: 214.73\n",
            "\n",
            "===>  EVAL Epoch 8\n"
          ]
        },
        {
          "output_type": "stream",
          "name": "stderr",
          "text": [
            "0% [████████████] 100% | ETA: 00:00:00\n",
            "Total time elapsed: 00:00:05\n"
          ]
        },
        {
          "output_type": "stream",
          "name": "stdout",
          "text": [
            "Finished Epoch 8 || Run Time:    2.9 | Load Time:    2.9 || F1:  63.43 | Prec:  77.08 | Rec:  53.88 || Ex/s: 325.58\n",
            "\n",
            "---------------------\n",
            "\n",
            "===>  TRAIN Epoch 9\n"
          ]
        },
        {
          "output_type": "stream",
          "name": "stderr",
          "text": [
            "0% [██████████████████████████████] 100% | ETA: 00:00:00\n",
            "Total time elapsed: 00:00:26\n"
          ]
        },
        {
          "output_type": "stream",
          "name": "stdout",
          "text": [
            "Finished Epoch 9 || Run Time:   17.3 | Load Time:    9.4 || F1:  95.75 | Prec:  94.61 | Rec:  96.92 || Ex/s: 215.13\n",
            "\n",
            "===>  EVAL Epoch 9\n"
          ]
        },
        {
          "output_type": "stream",
          "name": "stderr",
          "text": [
            "0% [████████████] 100% | ETA: 00:00:00\n",
            "Total time elapsed: 00:00:05\n"
          ]
        },
        {
          "output_type": "stream",
          "name": "stdout",
          "text": [
            "Finished Epoch 9 || Run Time:    3.0 | Load Time:    3.0 || F1:  63.31 | Prec:  74.83 | Rec:  54.85 || Ex/s: 322.07\n",
            "\n",
            "---------------------\n",
            "\n",
            "===>  TRAIN Epoch 10\n"
          ]
        },
        {
          "output_type": "stream",
          "name": "stderr",
          "text": [
            "0% [██████████████████████████████] 100% | ETA: 00:00:00\n",
            "Total time elapsed: 00:00:27\n"
          ]
        },
        {
          "output_type": "stream",
          "name": "stdout",
          "text": [
            "Finished Epoch 10 || Run Time:   17.8 | Load Time:    9.4 || F1:  96.16 | Prec:  94.79 | Rec:  97.56 || Ex/s: 210.84\n",
            "\n",
            "===>  EVAL Epoch 10\n"
          ]
        },
        {
          "output_type": "stream",
          "name": "stderr",
          "text": [
            "0% [████████████] 100% | ETA: 00:00:00\n",
            "Total time elapsed: 00:00:06\n"
          ]
        },
        {
          "output_type": "stream",
          "name": "stdout",
          "text": [
            "Finished Epoch 10 || Run Time:    3.4 | Load Time:    3.2 || F1:  65.93 | Prec:  76.77 | Rec:  57.77 || Ex/s: 292.91\n",
            "\n",
            "---------------------\n",
            "\n",
            "===>  TRAIN Epoch 11\n"
          ]
        },
        {
          "output_type": "stream",
          "name": "stderr",
          "text": [
            "0% [██████████████████████████████] 100% | ETA: 00:00:00\n",
            "Total time elapsed: 00:00:26\n"
          ]
        },
        {
          "output_type": "stream",
          "name": "stdout",
          "text": [
            "Finished Epoch 11 || Run Time:   17.5 | Load Time:    9.4 || F1:  96.96 | Prec:  95.44 | Rec:  98.54 || Ex/s: 213.52\n",
            "\n",
            "===>  EVAL Epoch 11\n"
          ]
        },
        {
          "output_type": "stream",
          "name": "stderr",
          "text": [
            "0% [████████████] 100% | ETA: 00:00:00\n",
            "Total time elapsed: 00:00:05\n"
          ]
        },
        {
          "output_type": "stream",
          "name": "stdout",
          "text": [
            "Finished Epoch 11 || Run Time:    3.0 | Load Time:    2.9 || F1:  66.67 | Prec:  72.57 | Rec:  61.65 || Ex/s: 324.39\n",
            "\n",
            "---------------------\n",
            "\n",
            "===>  TRAIN Epoch 12\n"
          ]
        },
        {
          "output_type": "stream",
          "name": "stderr",
          "text": [
            "0% [██████████████████████████████] 100% | ETA: 00:00:00\n",
            "Total time elapsed: 00:00:26\n"
          ]
        },
        {
          "output_type": "stream",
          "name": "stdout",
          "text": [
            "Finished Epoch 12 || Run Time:   17.4 | Load Time:    9.4 || F1:  96.82 | Prec:  95.00 | Rec:  98.70 || Ex/s: 214.23\n",
            "\n",
            "===>  EVAL Epoch 12\n"
          ]
        },
        {
          "output_type": "stream",
          "name": "stderr",
          "text": [
            "0% [████████████] 100% | ETA: 00:00:00\n",
            "Total time elapsed: 00:00:05\n"
          ]
        },
        {
          "output_type": "stream",
          "name": "stdout",
          "text": [
            "Finished Epoch 12 || Run Time:    2.9 | Load Time:    2.9 || F1:  66.67 | Prec:  73.26 | Rec:  61.17 || Ex/s: 325.84\n",
            "\n",
            "---------------------\n",
            "\n",
            "===>  TRAIN Epoch 13\n"
          ]
        },
        {
          "output_type": "stream",
          "name": "stderr",
          "text": [
            "0% [██████████████████████████████] 100% | ETA: 00:00:00\n",
            "Total time elapsed: 00:00:27\n"
          ]
        },
        {
          "output_type": "stream",
          "name": "stdout",
          "text": [
            "Finished Epoch 13 || Run Time:   17.6 | Load Time:    9.5 || F1:  97.53 | Prec:  95.92 | Rec:  99.19 || Ex/s: 211.69\n",
            "\n",
            "===>  EVAL Epoch 13\n"
          ]
        },
        {
          "output_type": "stream",
          "name": "stderr",
          "text": [
            "0% [████████████] 100% | ETA: 00:00:00\n",
            "Total time elapsed: 00:00:06\n"
          ]
        },
        {
          "output_type": "stream",
          "name": "stdout",
          "text": [
            "Finished Epoch 13 || Run Time:    3.1 | Load Time:    3.1 || F1:  67.01 | Prec:  72.07 | Rec:  62.62 || Ex/s: 310.29\n",
            "\n",
            "---------------------\n",
            "\n",
            "===>  TRAIN Epoch 14\n"
          ]
        },
        {
          "output_type": "stream",
          "name": "stderr",
          "text": [
            "0% [██████████████████████████████] 100% | ETA: 00:00:00\n",
            "Total time elapsed: 00:00:27\n"
          ]
        },
        {
          "output_type": "stream",
          "name": "stdout",
          "text": [
            "Finished Epoch 14 || Run Time:   17.9 | Load Time:    9.5 || F1:  97.93 | Prec:  96.09 | Rec:  99.84 || Ex/s: 209.56\n",
            "\n",
            "===>  EVAL Epoch 14\n"
          ]
        },
        {
          "output_type": "stream",
          "name": "stderr",
          "text": [
            "0% [████████████] 100% | ETA: 00:00:00\n",
            "Total time elapsed: 00:00:05\n"
          ]
        },
        {
          "output_type": "stream",
          "name": "stdout",
          "text": [
            "Finished Epoch 14 || Run Time:    3.0 | Load Time:    3.0 || F1:  66.32 | Prec:  71.11 | Rec:  62.14 || Ex/s: 322.08\n",
            "\n",
            "---------------------\n",
            "\n",
            "===>  TRAIN Epoch 15\n"
          ]
        },
        {
          "output_type": "stream",
          "name": "stderr",
          "text": [
            "0% [██████████████████████████████] 100% | ETA: 00:00:00\n",
            "Total time elapsed: 00:00:26\n"
          ]
        },
        {
          "output_type": "stream",
          "name": "stdout",
          "text": [
            "Finished Epoch 15 || Run Time:   17.5 | Load Time:    9.4 || F1:  98.16 | Prec:  96.55 | Rec:  99.84 || Ex/s: 213.52\n",
            "\n",
            "===>  EVAL Epoch 15\n"
          ]
        },
        {
          "output_type": "stream",
          "name": "stderr",
          "text": [
            "0% [████████████] 100% | ETA: 00:00:00\n",
            "Total time elapsed: 00:00:05\n"
          ]
        },
        {
          "output_type": "stream",
          "name": "stdout",
          "text": [
            "Finished Epoch 15 || Run Time:    3.0 | Load Time:    2.9 || F1:  66.32 | Prec:  70.49 | Rec:  62.62 || Ex/s: 324.77\n",
            "\n",
            "---------------------\n",
            "\n",
            "Loading best model...\n",
            "Training done.\n"
          ]
        },
        {
          "output_type": "execute_result",
          "data": {
            "text/plain": [
              "tensor(68.1319, device='cuda:0')"
            ]
          },
          "metadata": {},
          "execution_count": 69
        }
      ],
      "source": [
        "model.run_train(\n",
        "    train,\n",
        "    validation,\n",
        "    epochs=15,\n",
        "    batch_size=32,\n",
        "    best_save_path='hybrid_model.pth',\n",
        "    pos_neg_ratio=3)"
      ]
    },
    {
      "cell_type": "code",
      "execution_count": null,
      "metadata": {
        "id": "PEwvO60_8Zk6",
        "colab": {
          "base_uri": "https://localhost:8080/"
        },
        "outputId": "5c8cf2ca-6666-4b8e-a8bb-3510a4fd3c40"
      },
      "outputs": [
        {
          "output_type": "stream",
          "name": "stdout",
          "text": [
            "===>  EVAL Epoch 6\n"
          ]
        },
        {
          "output_type": "stream",
          "name": "stderr",
          "text": [
            "/usr/local/lib/python3.7/dist-packages/torch/nn/modules/module.py:949: UserWarning: Using non-full backward hooks on a Module that does not take as input a single Tensor or a tuple of Tensors is deprecated and will be removed in future versions. This hook will be missing some of the grad_input. Please use register_full_backward_hook to get the documented behavior.\n",
            "  warnings.warn(\"Using non-full backward hooks on a Module that does not take as input a \"\n",
            "/usr/local/lib/python3.7/dist-packages/torch/nn/modules/module.py:974: UserWarning: Using a non-full backward hook when the forward contains multiple autograd Nodes is deprecated and will be removed in future versions. This hook will be missing some grad_input. Please use register_full_backward_hook to get the documented behavior.\n",
            "  warnings.warn(\"Using a non-full backward hook when the forward contains multiple autograd Nodes \"\n",
            "/usr/local/lib/python3.7/dist-packages/torch/nn/modules/module.py:939: UserWarning: Using non-full backward hooks on a Module that does not return a single Tensor or a tuple of Tensors is deprecated and will be removed in future versions. This hook will be missing some of the grad_output. Please use register_full_backward_hook to get the documented behavior.\n",
            "  warnings.warn(\"Using non-full backward hooks on a Module that does not return a \"\n",
            "0% [████████████] 100% | ETA: 00:00:00\n",
            "Total time elapsed: 00:00:06\n"
          ]
        },
        {
          "output_type": "stream",
          "name": "stdout",
          "text": [
            "Finished Epoch 6 || Run Time:    3.3 | Load Time:    3.0 || F1:  70.03 | Prec:  77.19 | Rec:  64.08 || Ex/s: 300.69\n",
            "\n"
          ]
        },
        {
          "output_type": "execute_result",
          "data": {
            "text/plain": [
              "tensor(70.0265, device='cuda:0')"
            ]
          },
          "metadata": {},
          "execution_count": 70
        }
      ],
      "source": [
        "# Compute F1 on test set\n",
        "model.run_eval(test)"
      ]
    },
    {
      "cell_type": "markdown",
      "metadata": {
        "id": "Kk9AAkbf8Zk7"
      },
      "source": [
        "#### DIRTY"
      ]
    },
    {
      "cell_type": "markdown",
      "metadata": {
        "id": "oFQ_ujuN8Zk7"
      },
      "source": [
        "##### DBLP-ACM"
      ]
    },
    {
      "cell_type": "code",
      "execution_count": null,
      "metadata": {
        "id": "mlDdbQR18Zk7"
      },
      "outputs": [],
      "source": [
        "train, validation, test = dm.data.process(\n",
        "    path='/content/IC/datasesErros/AADatasets/Dirty/DBLP-ACM/',\n",
        "    train='joined_train.csv',\n",
        "    validation='joined_valid.csv',\n",
        "    test='joined_test.csv')"
      ]
    },
    {
      "cell_type": "code",
      "execution_count": null,
      "metadata": {
        "id": "jU-stkTq8Zk7"
      },
      "outputs": [],
      "source": [
        "model = dm.MatchingModel(attr_summarizer='hybrid')"
      ]
    },
    {
      "cell_type": "code",
      "execution_count": null,
      "metadata": {
        "id": "FZ2qOU0u8Zk8",
        "colab": {
          "base_uri": "https://localhost:8080/"
        },
        "outputId": "2a6fb827-ffa5-4d5f-9ad7-fbe24ed243e2"
      },
      "outputs": [
        {
          "output_type": "stream",
          "name": "stdout",
          "text": [
            "* Number of trainable parameters: 9210006\n",
            "===>  TRAIN Epoch 1\n"
          ]
        },
        {
          "output_type": "stream",
          "name": "stderr",
          "text": [
            "/usr/local/lib/python3.7/dist-packages/torch/nn/modules/module.py:949: UserWarning: Using non-full backward hooks on a Module that does not take as input a single Tensor or a tuple of Tensors is deprecated and will be removed in future versions. This hook will be missing some of the grad_input. Please use register_full_backward_hook to get the documented behavior.\n",
            "  warnings.warn(\"Using non-full backward hooks on a Module that does not take as input a \"\n",
            "/usr/local/lib/python3.7/dist-packages/torch/nn/modules/module.py:974: UserWarning: Using a non-full backward hook when the forward contains multiple autograd Nodes is deprecated and will be removed in future versions. This hook will be missing some grad_input. Please use register_full_backward_hook to get the documented behavior.\n",
            "  warnings.warn(\"Using a non-full backward hook when the forward contains multiple autograd Nodes \"\n",
            "/usr/local/lib/python3.7/dist-packages/torch/nn/modules/module.py:939: UserWarning: Using non-full backward hooks on a Module that does not return a single Tensor or a tuple of Tensors is deprecated and will be removed in future versions. This hook will be missing some of the grad_output. Please use register_full_backward_hook to get the documented behavior.\n",
            "  warnings.warn(\"Using non-full backward hooks on a Module that does not return a \"\n",
            "/usr/local/lib/python3.7/dist-packages/torch/nn/functional.py:2742: UserWarning: reduction: 'mean' divides the total loss by both the batch size and the support size.'batchmean' divides only by the batch size, and aligns with the KL div math definition.'mean' will be changed to behave the same as 'batchmean' in the next major release.\n",
            "  \"reduction: 'mean' divides the total loss by both the batch size and the support size.\"\n",
            "0% [██████████████████████████████] 100% | ETA: 00:00:00\n",
            "Total time elapsed: 00:00:40\n"
          ]
        },
        {
          "output_type": "stream",
          "name": "stdout",
          "text": [
            "Finished Epoch 1 || Run Time:   28.2 | Load Time:   13.0 || F1:  76.43 | Prec:  71.08 | Rec:  82.66 || Ex/s: 180.06\n",
            "\n",
            "===>  EVAL Epoch 1\n"
          ]
        },
        {
          "output_type": "stream",
          "name": "stderr",
          "text": [
            "0% [███████████████] 100% | ETA: 00:00:00\n",
            "Total time elapsed: 00:00:09\n"
          ]
        },
        {
          "output_type": "stream",
          "name": "stdout",
          "text": [
            "Finished Epoch 1 || Run Time:    5.2 | Load Time:    4.3 || F1:  90.91 | Prec:  83.97 | Rec:  99.10 || Ex/s: 259.96\n",
            "\n",
            "* Best F1: tensor(90.9091, device='cuda:0')\n",
            "Saving best model...\n",
            "Done.\n",
            "---------------------\n",
            "\n",
            "===>  TRAIN Epoch 2\n"
          ]
        },
        {
          "output_type": "stream",
          "name": "stderr",
          "text": [
            "0% [██████████████████████████████] 100% | ETA: 00:00:00\n",
            "Total time elapsed: 00:00:40\n"
          ]
        },
        {
          "output_type": "stream",
          "name": "stdout",
          "text": [
            "Finished Epoch 2 || Run Time:   28.1 | Load Time:   12.9 || F1:  95.67 | Prec:  93.54 | Rec:  97.90 || Ex/s: 180.79\n",
            "\n",
            "===>  EVAL Epoch 2\n"
          ]
        },
        {
          "output_type": "stream",
          "name": "stderr",
          "text": [
            "0% [███████████████] 100% | ETA: 00:00:00\n",
            "Total time elapsed: 00:00:08\n"
          ]
        },
        {
          "output_type": "stream",
          "name": "stdout",
          "text": [
            "Finished Epoch 2 || Run Time:    5.0 | Load Time:    4.3 || F1:  89.00 | Prec:  80.62 | Rec:  99.32 || Ex/s: 265.96\n",
            "\n",
            "---------------------\n",
            "\n",
            "===>  TRAIN Epoch 3\n"
          ]
        },
        {
          "output_type": "stream",
          "name": "stderr",
          "text": [
            "0% [██████████████████████████████] 100% | ETA: 00:00:00\n",
            "Total time elapsed: 00:00:41\n"
          ]
        },
        {
          "output_type": "stream",
          "name": "stdout",
          "text": [
            "Finished Epoch 3 || Run Time:   28.5 | Load Time:   13.1 || F1:  96.68 | Prec:  95.00 | Rec:  98.42 || Ex/s: 178.57\n",
            "\n",
            "===>  EVAL Epoch 3\n"
          ]
        },
        {
          "output_type": "stream",
          "name": "stderr",
          "text": [
            "0% [███████████████] 100% | ETA: 00:00:00\n",
            "Total time elapsed: 00:00:08\n"
          ]
        },
        {
          "output_type": "stream",
          "name": "stdout",
          "text": [
            "Finished Epoch 3 || Run Time:    4.9 | Load Time:    4.3 || F1:  94.71 | Prec:  90.89 | Rec:  98.87 || Ex/s: 269.78\n",
            "\n",
            "* Best F1: tensor(94.7141, device='cuda:0')\n",
            "Saving best model...\n",
            "Done.\n",
            "---------------------\n",
            "\n",
            "===>  TRAIN Epoch 4\n"
          ]
        },
        {
          "output_type": "stream",
          "name": "stderr",
          "text": [
            "0% [██████████████████████████████] 100% | ETA: 00:00:00\n",
            "Total time elapsed: 00:00:40\n"
          ]
        },
        {
          "output_type": "stream",
          "name": "stdout",
          "text": [
            "Finished Epoch 4 || Run Time:   28.3 | Load Time:   12.8 || F1:  97.16 | Prec:  95.64 | Rec:  98.72 || Ex/s: 180.20\n",
            "\n",
            "===>  EVAL Epoch 4\n"
          ]
        },
        {
          "output_type": "stream",
          "name": "stderr",
          "text": [
            "0% [███████████████] 100% | ETA: 00:00:00\n",
            "Total time elapsed: 00:00:08\n"
          ]
        },
        {
          "output_type": "stream",
          "name": "stdout",
          "text": [
            "Finished Epoch 4 || Run Time:    5.0 | Load Time:    4.3 || F1:  94.71 | Prec:  90.89 | Rec:  98.87 || Ex/s: 264.99\n",
            "\n",
            "---------------------\n",
            "\n",
            "===>  TRAIN Epoch 5\n"
          ]
        },
        {
          "output_type": "stream",
          "name": "stderr",
          "text": [
            "0% [██████████████████████████████] 100% | ETA: 00:00:00\n",
            "Total time elapsed: 00:00:40\n"
          ]
        },
        {
          "output_type": "stream",
          "name": "stdout",
          "text": [
            "Finished Epoch 5 || Run Time:   28.1 | Load Time:   12.9 || F1:  97.96 | Prec:  96.91 | Rec:  99.02 || Ex/s: 180.91\n",
            "\n",
            "===>  EVAL Epoch 5\n"
          ]
        },
        {
          "output_type": "stream",
          "name": "stderr",
          "text": [
            "0% [███████████████] 100% | ETA: 00:00:00\n",
            "Total time elapsed: 00:00:08\n"
          ]
        },
        {
          "output_type": "stream",
          "name": "stdout",
          "text": [
            "Finished Epoch 5 || Run Time:    4.9 | Load Time:    4.3 || F1:  95.79 | Prec:  94.32 | Rec:  97.30 || Ex/s: 269.12\n",
            "\n",
            "* Best F1: tensor(95.7871, device='cuda:0')\n",
            "Saving best model...\n",
            "Done.\n",
            "---------------------\n",
            "\n",
            "===>  TRAIN Epoch 6\n"
          ]
        },
        {
          "output_type": "stream",
          "name": "stderr",
          "text": [
            "0% [██████████████████████████████] 100% | ETA: 00:00:00\n",
            "Total time elapsed: 00:00:40\n"
          ]
        },
        {
          "output_type": "stream",
          "name": "stdout",
          "text": [
            "Finished Epoch 6 || Run Time:   27.6 | Load Time:   12.8 || F1:  98.44 | Prec:  97.57 | Rec:  99.32 || Ex/s: 183.30\n",
            "\n",
            "===>  EVAL Epoch 6\n"
          ]
        },
        {
          "output_type": "stream",
          "name": "stderr",
          "text": [
            "0% [███████████████] 100% | ETA: 00:00:00\n",
            "Total time elapsed: 00:00:08\n"
          ]
        },
        {
          "output_type": "stream",
          "name": "stdout",
          "text": [
            "Finished Epoch 6 || Run Time:    4.9 | Load Time:    4.3 || F1:  96.41 | Prec:  95.98 | Rec:  96.85 || Ex/s: 268.29\n",
            "\n",
            "* Best F1: tensor(96.4126, device='cuda:0')\n",
            "Saving best model...\n",
            "Done.\n",
            "---------------------\n",
            "\n",
            "===>  TRAIN Epoch 7\n"
          ]
        },
        {
          "output_type": "stream",
          "name": "stderr",
          "text": [
            "0% [██████████████████████████████] 100% | ETA: 00:00:00\n",
            "Total time elapsed: 00:00:41\n"
          ]
        },
        {
          "output_type": "stream",
          "name": "stdout",
          "text": [
            "Finished Epoch 7 || Run Time:   28.8 | Load Time:   13.0 || F1:  98.59 | Prec:  97.71 | Rec:  99.47 || Ex/s: 177.14\n",
            "\n",
            "===>  EVAL Epoch 7\n"
          ]
        },
        {
          "output_type": "stream",
          "name": "stderr",
          "text": [
            "0% [███████████████] 100% | ETA: 00:00:00\n",
            "Total time elapsed: 00:00:09\n"
          ]
        },
        {
          "output_type": "stream",
          "name": "stdout",
          "text": [
            "Finished Epoch 7 || Run Time:    5.0 | Load Time:    4.3 || F1:  95.92 | Prec:  96.58 | Rec:  95.27 || Ex/s: 263.39\n",
            "\n",
            "---------------------\n",
            "\n",
            "===>  TRAIN Epoch 8\n"
          ]
        },
        {
          "output_type": "stream",
          "name": "stderr",
          "text": [
            "0% [██████████████████████████████] 100% | ETA: 00:00:00\n",
            "Total time elapsed: 00:00:40\n"
          ]
        },
        {
          "output_type": "stream",
          "name": "stdout",
          "text": [
            "Finished Epoch 8 || Run Time:   27.8 | Load Time:   12.8 || F1:  98.66 | Prec:  98.00 | Rec:  99.32 || Ex/s: 182.54\n",
            "\n",
            "===>  EVAL Epoch 8\n"
          ]
        },
        {
          "output_type": "stream",
          "name": "stderr",
          "text": [
            "0% [███████████████] 100% | ETA: 00:00:00\n",
            "Total time elapsed: 00:00:08\n"
          ]
        },
        {
          "output_type": "stream",
          "name": "stdout",
          "text": [
            "Finished Epoch 8 || Run Time:    4.9 | Load Time:    4.3 || F1:  96.16 | Prec:  96.38 | Rec:  95.95 || Ex/s: 268.78\n",
            "\n",
            "---------------------\n",
            "\n",
            "===>  TRAIN Epoch 9\n"
          ]
        },
        {
          "output_type": "stream",
          "name": "stderr",
          "text": [
            "0% [██████████████████████████████] 100% | ETA: 00:00:00\n",
            "Total time elapsed: 00:00:41\n"
          ]
        },
        {
          "output_type": "stream",
          "name": "stdout",
          "text": [
            "Finished Epoch 9 || Run Time:   28.7 | Load Time:   13.1 || F1:  98.88 | Prec:  98.29 | Rec:  99.47 || Ex/s: 177.69\n",
            "\n",
            "===>  EVAL Epoch 9\n"
          ]
        },
        {
          "output_type": "stream",
          "name": "stderr",
          "text": [
            "0% [███████████████] 100% | ETA: 00:00:00\n",
            "Total time elapsed: 00:00:09\n"
          ]
        },
        {
          "output_type": "stream",
          "name": "stdout",
          "text": [
            "Finished Epoch 9 || Run Time:    5.3 | Load Time:    4.3 || F1:  95.96 | Prec:  95.74 | Rec:  96.17 || Ex/s: 258.38\n",
            "\n",
            "---------------------\n",
            "\n",
            "===>  TRAIN Epoch 10\n"
          ]
        },
        {
          "output_type": "stream",
          "name": "stderr",
          "text": [
            "0% [██████████████████████████████] 100% | ETA: 00:00:00\n",
            "Total time elapsed: 00:00:40\n"
          ]
        },
        {
          "output_type": "stream",
          "name": "stdout",
          "text": [
            "Finished Epoch 10 || Run Time:   27.9 | Load Time:   12.8 || F1:  99.10 | Prec:  98.66 | Rec:  99.55 || Ex/s: 182.25\n",
            "\n",
            "===>  EVAL Epoch 10\n"
          ]
        },
        {
          "output_type": "stream",
          "name": "stderr",
          "text": [
            "0% [███████████████] 100% | ETA: 00:00:00\n",
            "Total time elapsed: 00:00:08\n"
          ]
        },
        {
          "output_type": "stream",
          "name": "stdout",
          "text": [
            "Finished Epoch 10 || Run Time:    4.9 | Load Time:    4.3 || F1:  95.75 | Prec:  95.11 | Rec:  96.40 || Ex/s: 268.50\n",
            "\n",
            "---------------------\n",
            "\n",
            "===>  TRAIN Epoch 11\n"
          ]
        },
        {
          "output_type": "stream",
          "name": "stderr",
          "text": [
            "0% [██████████████████████████████] 100% | ETA: 00:00:00\n",
            "Total time elapsed: 00:00:40\n"
          ]
        },
        {
          "output_type": "stream",
          "name": "stdout",
          "text": [
            "Finished Epoch 11 || Run Time:   28.3 | Load Time:   12.9 || F1:  99.22 | Prec:  98.66 | Rec:  99.77 || Ex/s: 179.67\n",
            "\n",
            "===>  EVAL Epoch 11\n"
          ]
        },
        {
          "output_type": "stream",
          "name": "stderr",
          "text": [
            "0% [███████████████] 100% | ETA: 00:00:00\n",
            "Total time elapsed: 00:00:09\n"
          ]
        },
        {
          "output_type": "stream",
          "name": "stdout",
          "text": [
            "Finished Epoch 11 || Run Time:    5.2 | Load Time:    4.3 || F1:  95.63 | Prec:  95.10 | Rec:  96.17 || Ex/s: 260.44\n",
            "\n",
            "---------------------\n",
            "\n",
            "===>  TRAIN Epoch 12\n"
          ]
        },
        {
          "output_type": "stream",
          "name": "stderr",
          "text": [
            "0% [██████████████████████████████] 100% | ETA: 00:00:00\n",
            "Total time elapsed: 00:00:40\n"
          ]
        },
        {
          "output_type": "stream",
          "name": "stdout",
          "text": [
            "Finished Epoch 12 || Run Time:   27.9 | Load Time:   12.8 || F1:  99.33 | Prec:  98.81 | Rec:  99.85 || Ex/s: 182.27\n",
            "\n",
            "===>  EVAL Epoch 12\n"
          ]
        },
        {
          "output_type": "stream",
          "name": "stderr",
          "text": [
            "0% [███████████████] 100% | ETA: 00:00:00\n",
            "Total time elapsed: 00:00:08\n"
          ]
        },
        {
          "output_type": "stream",
          "name": "stdout",
          "text": [
            "Finished Epoch 12 || Run Time:    4.9 | Load Time:    4.3 || F1:  95.75 | Prec:  95.11 | Rec:  96.40 || Ex/s: 268.86\n",
            "\n",
            "---------------------\n",
            "\n",
            "===>  TRAIN Epoch 13\n"
          ]
        },
        {
          "output_type": "stream",
          "name": "stderr",
          "text": [
            "0% [██████████████████████████████] 100% | ETA: 00:00:00\n",
            "Total time elapsed: 00:00:40\n"
          ]
        },
        {
          "output_type": "stream",
          "name": "stdout",
          "text": [
            "Finished Epoch 13 || Run Time:   28.1 | Load Time:   12.9 || F1:  99.40 | Prec:  98.96 | Rec:  99.85 || Ex/s: 180.77\n",
            "\n",
            "===>  EVAL Epoch 13\n"
          ]
        },
        {
          "output_type": "stream",
          "name": "stderr",
          "text": [
            "0% [███████████████] 100% | ETA: 00:00:00\n",
            "Total time elapsed: 00:00:08\n"
          ]
        },
        {
          "output_type": "stream",
          "name": "stdout",
          "text": [
            "Finished Epoch 13 || Run Time:    4.9 | Load Time:    4.3 || F1:  95.62 | Prec:  95.30 | Rec:  95.95 || Ex/s: 268.85\n",
            "\n",
            "---------------------\n",
            "\n",
            "===>  TRAIN Epoch 14\n"
          ]
        },
        {
          "output_type": "stream",
          "name": "stderr",
          "text": [
            "0% [██████████████████████████████] 100% | ETA: 00:00:00\n",
            "Total time elapsed: 00:00:41\n"
          ]
        },
        {
          "output_type": "stream",
          "name": "stdout",
          "text": [
            "Finished Epoch 14 || Run Time:   29.2 | Load Time:   13.1 || F1:  99.44 | Prec:  98.96 | Rec:  99.92 || Ex/s: 175.48\n",
            "\n",
            "===>  EVAL Epoch 14\n"
          ]
        },
        {
          "output_type": "stream",
          "name": "stderr",
          "text": [
            "0% [███████████████] 100% | ETA: 00:00:00\n",
            "Total time elapsed: 00:00:09\n"
          ]
        },
        {
          "output_type": "stream",
          "name": "stdout",
          "text": [
            "Finished Epoch 14 || Run Time:    5.1 | Load Time:    4.3 || F1:  95.62 | Prec:  95.30 | Rec:  95.95 || Ex/s: 263.13\n",
            "\n",
            "---------------------\n",
            "\n",
            "===>  TRAIN Epoch 15\n"
          ]
        },
        {
          "output_type": "stream",
          "name": "stderr",
          "text": [
            "0% [██████████████████████████████] 100% | ETA: 00:00:00\n",
            "Total time elapsed: 00:00:40\n"
          ]
        },
        {
          "output_type": "stream",
          "name": "stdout",
          "text": [
            "Finished Epoch 15 || Run Time:   28.2 | Load Time:   13.0 || F1:  99.44 | Prec:  98.96 | Rec:  99.92 || Ex/s: 180.06\n",
            "\n",
            "===>  EVAL Epoch 15\n"
          ]
        },
        {
          "output_type": "stream",
          "name": "stderr",
          "text": [
            "0% [███████████████] 100% | ETA: 00:00:00\n",
            "Total time elapsed: 00:00:08\n"
          ]
        },
        {
          "output_type": "stream",
          "name": "stdout",
          "text": [
            "Finished Epoch 15 || Run Time:    5.0 | Load Time:    4.3 || F1:  95.74 | Prec:  95.31 | Rec:  96.17 || Ex/s: 265.75\n",
            "\n",
            "---------------------\n",
            "\n",
            "Loading best model...\n",
            "Training done.\n"
          ]
        },
        {
          "output_type": "execute_result",
          "data": {
            "text/plain": [
              "tensor(96.4126, device='cuda:0')"
            ]
          },
          "metadata": {},
          "execution_count": 73
        }
      ],
      "source": [
        "model.run_train(\n",
        "    train,\n",
        "    validation,\n",
        "    epochs=15,\n",
        "    batch_size=32,\n",
        "    best_save_path='hybrid_model.pth',\n",
        "    pos_neg_ratio=3)"
      ]
    },
    {
      "cell_type": "code",
      "execution_count": null,
      "metadata": {
        "id": "8mXxls0a8Zk8",
        "colab": {
          "base_uri": "https://localhost:8080/"
        },
        "outputId": "8be4cf54-7a42-41f6-c290-0846037f0e0f"
      },
      "outputs": [
        {
          "output_type": "stream",
          "name": "stdout",
          "text": [
            "===>  EVAL Epoch 6\n"
          ]
        },
        {
          "output_type": "stream",
          "name": "stderr",
          "text": [
            "/usr/local/lib/python3.7/dist-packages/torch/nn/modules/module.py:949: UserWarning: Using non-full backward hooks on a Module that does not take as input a single Tensor or a tuple of Tensors is deprecated and will be removed in future versions. This hook will be missing some of the grad_input. Please use register_full_backward_hook to get the documented behavior.\n",
            "  warnings.warn(\"Using non-full backward hooks on a Module that does not take as input a \"\n",
            "/usr/local/lib/python3.7/dist-packages/torch/nn/modules/module.py:974: UserWarning: Using a non-full backward hook when the forward contains multiple autograd Nodes is deprecated and will be removed in future versions. This hook will be missing some grad_input. Please use register_full_backward_hook to get the documented behavior.\n",
            "  warnings.warn(\"Using a non-full backward hook when the forward contains multiple autograd Nodes \"\n",
            "/usr/local/lib/python3.7/dist-packages/torch/nn/modules/module.py:939: UserWarning: Using non-full backward hooks on a Module that does not return a single Tensor or a tuple of Tensors is deprecated and will be removed in future versions. This hook will be missing some of the grad_output. Please use register_full_backward_hook to get the documented behavior.\n",
            "  warnings.warn(\"Using non-full backward hooks on a Module that does not return a \"\n",
            "0% [███████████████] 100% | ETA: 00:00:00\n",
            "Total time elapsed: 00:00:09\n"
          ]
        },
        {
          "output_type": "stream",
          "name": "stdout",
          "text": [
            "Finished Epoch 6 || Run Time:    5.2 | Load Time:    4.3 || F1:  97.20 | Prec:  96.66 | Rec:  97.75 || Ex/s: 260.18\n",
            "\n"
          ]
        },
        {
          "output_type": "execute_result",
          "data": {
            "text/plain": [
              "tensor(97.2005, device='cuda:0')"
            ]
          },
          "metadata": {},
          "execution_count": 74
        }
      ],
      "source": [
        "# Compute F1 on test set\n",
        "model.run_eval(test)"
      ]
    },
    {
      "cell_type": "markdown",
      "metadata": {
        "id": "6kcbDdw58Zk8"
      },
      "source": [
        "##### DBLP-GoogleScholar"
      ]
    },
    {
      "cell_type": "code",
      "execution_count": null,
      "metadata": {
        "id": "2BUhgaNu8Zk9"
      },
      "outputs": [],
      "source": [
        "train, validation, test = dm.data.process(\n",
        "    path='/content/IC/datasesErros/AADatasets/Dirty/DBLP-GoogleScholar//',\n",
        "    train='joined_train.csv',\n",
        "    validation='joined_valid.csv',\n",
        "    test='joined_test.csv')"
      ]
    },
    {
      "cell_type": "code",
      "execution_count": null,
      "metadata": {
        "id": "YyT6HD6x8Zk9"
      },
      "outputs": [],
      "source": [
        "model = dm.MatchingModel(attr_summarizer='hybrid')"
      ]
    },
    {
      "cell_type": "code",
      "execution_count": null,
      "metadata": {
        "id": "gQBhQHlx8Zk-",
        "colab": {
          "base_uri": "https://localhost:8080/"
        },
        "outputId": "5daa74a2-dfda-437b-b1c0-0882ccd39050"
      },
      "outputs": [
        {
          "output_type": "stream",
          "name": "stdout",
          "text": [
            "* Number of trainable parameters: 9210006\n",
            "===>  TRAIN Epoch 1\n"
          ]
        },
        {
          "output_type": "stream",
          "name": "stderr",
          "text": [
            "/usr/local/lib/python3.7/dist-packages/torch/nn/modules/module.py:949: UserWarning: Using non-full backward hooks on a Module that does not take as input a single Tensor or a tuple of Tensors is deprecated and will be removed in future versions. This hook will be missing some of the grad_input. Please use register_full_backward_hook to get the documented behavior.\n",
            "  warnings.warn(\"Using non-full backward hooks on a Module that does not take as input a \"\n",
            "/usr/local/lib/python3.7/dist-packages/torch/nn/modules/module.py:974: UserWarning: Using a non-full backward hook when the forward contains multiple autograd Nodes is deprecated and will be removed in future versions. This hook will be missing some grad_input. Please use register_full_backward_hook to get the documented behavior.\n",
            "  warnings.warn(\"Using a non-full backward hook when the forward contains multiple autograd Nodes \"\n",
            "/usr/local/lib/python3.7/dist-packages/torch/nn/modules/module.py:939: UserWarning: Using non-full backward hooks on a Module that does not return a single Tensor or a tuple of Tensors is deprecated and will be removed in future versions. This hook will be missing some of the grad_output. Please use register_full_backward_hook to get the documented behavior.\n",
            "  warnings.warn(\"Using non-full backward hooks on a Module that does not return a \"\n",
            "/usr/local/lib/python3.7/dist-packages/torch/nn/functional.py:2742: UserWarning: reduction: 'mean' divides the total loss by both the batch size and the support size.'batchmean' divides only by the batch size, and aligns with the KL div math definition.'mean' will be changed to behave the same as 'batchmean' in the next major release.\n",
            "  \"reduction: 'mean' divides the total loss by both the batch size and the support size.\"\n",
            "0% [██████████████████████████████] 100% | ETA: 00:00:00\n",
            "Total time elapsed: 00:01:28\n"
          ]
        },
        {
          "output_type": "stream",
          "name": "stdout",
          "text": [
            "Finished Epoch 1 || Run Time:   63.4 | Load Time:   26.1 || F1:  79.49 | Prec:  73.69 | Rec:  86.28 || Ex/s: 192.48\n",
            "\n",
            "===>  EVAL Epoch 1\n"
          ]
        },
        {
          "output_type": "stream",
          "name": "stderr",
          "text": [
            "0% [██████████████████████████████] 100% | ETA: 00:00:00\n",
            "Total time elapsed: 00:00:19\n"
          ]
        },
        {
          "output_type": "stream",
          "name": "stdout",
          "text": [
            "Finished Epoch 1 || Run Time:   11.4 | Load Time:    8.5 || F1:  85.34 | Prec:  77.13 | Rec:  95.51 || Ex/s: 289.26\n",
            "\n",
            "* Best F1: tensor(85.3445, device='cuda:0')\n",
            "Saving best model...\n",
            "Done.\n",
            "---------------------\n",
            "\n",
            "===>  TRAIN Epoch 2\n"
          ]
        },
        {
          "output_type": "stream",
          "name": "stderr",
          "text": [
            "0% [██████████████████████████████] 100% | ETA: 00:00:00\n",
            "Total time elapsed: 00:01:28\n"
          ]
        },
        {
          "output_type": "stream",
          "name": "stdout",
          "text": [
            "Finished Epoch 2 || Run Time:   63.3 | Load Time:   26.1 || F1:  91.50 | Prec:  87.84 | Rec:  95.48 || Ex/s: 192.80\n",
            "\n",
            "===>  EVAL Epoch 2\n"
          ]
        },
        {
          "output_type": "stream",
          "name": "stderr",
          "text": [
            "0% [██████████████████████████████] 100% | ETA: 00:00:00\n",
            "Total time elapsed: 00:00:19\n"
          ]
        },
        {
          "output_type": "stream",
          "name": "stdout",
          "text": [
            "Finished Epoch 2 || Run Time:   11.4 | Load Time:    8.5 || F1:  90.80 | Prec:  88.13 | Rec:  93.64 || Ex/s: 289.07\n",
            "\n",
            "* Best F1: tensor(90.8020, device='cuda:0')\n",
            "Saving best model...\n",
            "Done.\n",
            "---------------------\n",
            "\n",
            "===>  TRAIN Epoch 3\n"
          ]
        },
        {
          "output_type": "stream",
          "name": "stderr",
          "text": [
            "0% [██████████████████████████████] 100% | ETA: 00:00:00\n",
            "Total time elapsed: 00:01:28\n"
          ]
        },
        {
          "output_type": "stream",
          "name": "stdout",
          "text": [
            "Finished Epoch 3 || Run Time:   63.5 | Load Time:   26.0 || F1:  94.11 | Prec:  91.20 | Rec:  97.22 || Ex/s: 192.48\n",
            "\n",
            "===>  EVAL Epoch 3\n"
          ]
        },
        {
          "output_type": "stream",
          "name": "stderr",
          "text": [
            "0% [██████████████████████████████] 100% | ETA: 00:00:00\n",
            "Total time elapsed: 00:00:20\n"
          ]
        },
        {
          "output_type": "stream",
          "name": "stdout",
          "text": [
            "Finished Epoch 3 || Run Time:   11.6 | Load Time:    8.5 || F1:  89.31 | Prec:  82.88 | Rec:  96.82 || Ex/s: 285.59\n",
            "\n",
            "---------------------\n",
            "\n",
            "===>  TRAIN Epoch 4\n"
          ]
        },
        {
          "output_type": "stream",
          "name": "stderr",
          "text": [
            "0% [██████████████████████████████] 100% | ETA: 00:00:00\n",
            "Total time elapsed: 00:01:28\n"
          ]
        },
        {
          "output_type": "stream",
          "name": "stdout",
          "text": [
            "Finished Epoch 4 || Run Time:   62.9 | Load Time:   25.9 || F1:  95.67 | Prec:  93.38 | Rec:  98.07 || Ex/s: 193.84\n",
            "\n",
            "===>  EVAL Epoch 4\n"
          ]
        },
        {
          "output_type": "stream",
          "name": "stderr",
          "text": [
            "0% [██████████████████████████████] 100% | ETA: 00:00:00\n",
            "Total time elapsed: 00:00:20\n"
          ]
        },
        {
          "output_type": "stream",
          "name": "stdout",
          "text": [
            "Finished Epoch 4 || Run Time:   11.6 | Load Time:    8.5 || F1:  91.08 | Prec:  86.73 | Rec:  95.89 || Ex/s: 286.25\n",
            "\n",
            "* Best F1: tensor(91.0786, device='cuda:0')\n",
            "Saving best model...\n",
            "Done.\n",
            "---------------------\n",
            "\n",
            "===>  TRAIN Epoch 5\n"
          ]
        },
        {
          "output_type": "stream",
          "name": "stderr",
          "text": [
            "0% [██████████████████████████████] 100% | ETA: 00:00:00\n",
            "Total time elapsed: 00:01:28\n"
          ]
        },
        {
          "output_type": "stream",
          "name": "stdout",
          "text": [
            "Finished Epoch 5 || Run Time:   62.8 | Load Time:   25.9 || F1:  96.86 | Prec:  95.21 | Rec:  98.57 || Ex/s: 194.03\n",
            "\n",
            "===>  EVAL Epoch 5\n"
          ]
        },
        {
          "output_type": "stream",
          "name": "stderr",
          "text": [
            "0% [██████████████████████████████] 100% | ETA: 00:00:00\n",
            "Total time elapsed: 00:00:20\n"
          ]
        },
        {
          "output_type": "stream",
          "name": "stdout",
          "text": [
            "Finished Epoch 5 || Run Time:   11.8 | Load Time:    8.6 || F1:  91.80 | Prec:  93.17 | Rec:  90.47 || Ex/s: 282.21\n",
            "\n",
            "* Best F1: tensor(91.7971, device='cuda:0')\n",
            "Saving best model...\n",
            "Done.\n",
            "---------------------\n",
            "\n",
            "===>  TRAIN Epoch 6\n"
          ]
        },
        {
          "output_type": "stream",
          "name": "stderr",
          "text": [
            "0% [██████████████████████████████] 100% | ETA: 00:00:00\n",
            "Total time elapsed: 00:01:28\n"
          ]
        },
        {
          "output_type": "stream",
          "name": "stdout",
          "text": [
            "Finished Epoch 6 || Run Time:   63.3 | Load Time:   26.0 || F1:  97.92 | Prec:  96.77 | Rec:  99.10 || Ex/s: 192.89\n",
            "\n",
            "===>  EVAL Epoch 6\n"
          ]
        },
        {
          "output_type": "stream",
          "name": "stderr",
          "text": [
            "0% [██████████████████████████████] 100% | ETA: 00:00:00\n",
            "Total time elapsed: 00:00:20\n"
          ]
        },
        {
          "output_type": "stream",
          "name": "stdout",
          "text": [
            "Finished Epoch 6 || Run Time:   11.9 | Load Time:    8.7 || F1:  92.55 | Prec:  92.21 | Rec:  92.90 || Ex/s: 278.28\n",
            "\n",
            "* Best F1: tensor(92.5512, device='cuda:0')\n",
            "Saving best model...\n",
            "Done.\n",
            "---------------------\n",
            "\n",
            "===>  TRAIN Epoch 7\n"
          ]
        },
        {
          "output_type": "stream",
          "name": "stderr",
          "text": [
            "0% [██████████████████████████████] 100% | ETA: 00:00:00\n",
            "Total time elapsed: 00:01:28\n"
          ]
        },
        {
          "output_type": "stream",
          "name": "stdout",
          "text": [
            "Finished Epoch 7 || Run Time:   63.2 | Load Time:   25.9 || F1:  98.36 | Prec:  97.66 | Rec:  99.06 || Ex/s: 193.48\n",
            "\n",
            "===>  EVAL Epoch 7\n"
          ]
        },
        {
          "output_type": "stream",
          "name": "stderr",
          "text": [
            "0% [██████████████████████████████] 100% | ETA: 00:00:00\n",
            "Total time elapsed: 00:00:20\n"
          ]
        },
        {
          "output_type": "stream",
          "name": "stdout",
          "text": [
            "Finished Epoch 7 || Run Time:   11.9 | Load Time:    8.7 || F1:  92.03 | Prec:  92.37 | Rec:  91.68 || Ex/s: 278.21\n",
            "\n",
            "---------------------\n",
            "\n",
            "===>  TRAIN Epoch 8\n"
          ]
        },
        {
          "output_type": "stream",
          "name": "stderr",
          "text": [
            "0% [██████████████████████████████] 100% | ETA: 00:00:00\n",
            "Total time elapsed: 00:01:28\n"
          ]
        },
        {
          "output_type": "stream",
          "name": "stdout",
          "text": [
            "Finished Epoch 8 || Run Time:   63.3 | Load Time:   25.9 || F1:  98.73 | Prec:  98.15 | Rec:  99.31 || Ex/s: 193.09\n",
            "\n",
            "===>  EVAL Epoch 8\n"
          ]
        },
        {
          "output_type": "stream",
          "name": "stderr",
          "text": [
            "0% [██████████████████████████████] 100% | ETA: 00:00:00\n",
            "Total time elapsed: 00:00:20\n"
          ]
        },
        {
          "output_type": "stream",
          "name": "stdout",
          "text": [
            "Finished Epoch 8 || Run Time:   11.5 | Load Time:    8.5 || F1:  92.07 | Prec:  90.37 | Rec:  93.83 || Ex/s: 286.87\n",
            "\n",
            "---------------------\n",
            "\n",
            "===>  TRAIN Epoch 9\n"
          ]
        },
        {
          "output_type": "stream",
          "name": "stderr",
          "text": [
            "0% [██████████████████████████████] 100% | ETA: 00:00:00\n",
            "Total time elapsed: 00:01:28\n"
          ]
        },
        {
          "output_type": "stream",
          "name": "stdout",
          "text": [
            "Finished Epoch 9 || Run Time:   63.2 | Load Time:   26.0 || F1:  99.08 | Prec:  98.85 | Rec:  99.31 || Ex/s: 193.08\n",
            "\n",
            "===>  EVAL Epoch 9\n"
          ]
        },
        {
          "output_type": "stream",
          "name": "stderr",
          "text": [
            "0% [██████████████████████████████] 100% | ETA: 00:00:00\n",
            "Total time elapsed: 00:00:20\n"
          ]
        },
        {
          "output_type": "stream",
          "name": "stdout",
          "text": [
            "Finished Epoch 9 || Run Time:   11.6 | Load Time:    8.5 || F1:  92.70 | Prec:  90.55 | Rec:  94.95 || Ex/s: 286.27\n",
            "\n",
            "* Best F1: tensor(92.7007, device='cuda:0')\n",
            "Saving best model...\n",
            "Done.\n",
            "---------------------\n",
            "\n",
            "===>  TRAIN Epoch 10\n"
          ]
        },
        {
          "output_type": "stream",
          "name": "stderr",
          "text": [
            "0% [██████████████████████████████] 100% | ETA: 00:00:00\n",
            "Total time elapsed: 00:01:28\n"
          ]
        },
        {
          "output_type": "stream",
          "name": "stdout",
          "text": [
            "Finished Epoch 10 || Run Time:   63.1 | Load Time:   26.0 || F1:  99.24 | Prec:  99.07 | Rec:  99.41 || Ex/s: 193.35\n",
            "\n",
            "===>  EVAL Epoch 10\n"
          ]
        },
        {
          "output_type": "stream",
          "name": "stderr",
          "text": [
            "0% [██████████████████████████████] 100% | ETA: 00:00:00\n",
            "Total time elapsed: 00:00:19\n"
          ]
        },
        {
          "output_type": "stream",
          "name": "stdout",
          "text": [
            "Finished Epoch 10 || Run Time:   11.3 | Load Time:    8.5 || F1:  92.57 | Prec:  90.90 | Rec:  94.30 || Ex/s: 290.43\n",
            "\n",
            "---------------------\n",
            "\n",
            "===>  TRAIN Epoch 11\n"
          ]
        },
        {
          "output_type": "stream",
          "name": "stderr",
          "text": [
            "0% [██████████████████████████████] 100% | ETA: 00:00:00\n",
            "Total time elapsed: 00:01:28\n"
          ]
        },
        {
          "output_type": "stream",
          "name": "stdout",
          "text": [
            "Finished Epoch 11 || Run Time:   63.1 | Load Time:   25.9 || F1:  99.33 | Prec:  99.19 | Rec:  99.47 || Ex/s: 193.36\n",
            "\n",
            "===>  EVAL Epoch 11\n"
          ]
        },
        {
          "output_type": "stream",
          "name": "stderr",
          "text": [
            "0% [██████████████████████████████] 100% | ETA: 00:00:00\n",
            "Total time elapsed: 00:00:19\n"
          ]
        },
        {
          "output_type": "stream",
          "name": "stdout",
          "text": [
            "Finished Epoch 11 || Run Time:   11.4 | Load Time:    8.5 || F1:  92.56 | Prec:  90.97 | Rec:  94.21 || Ex/s: 289.07\n",
            "\n",
            "---------------------\n",
            "\n",
            "===>  TRAIN Epoch 12\n"
          ]
        },
        {
          "output_type": "stream",
          "name": "stderr",
          "text": [
            "0% [██████████████████████████████] 100% | ETA: 00:00:00\n",
            "Total time elapsed: 00:01:28\n"
          ]
        },
        {
          "output_type": "stream",
          "name": "stdout",
          "text": [
            "Finished Epoch 12 || Run Time:   63.2 | Load Time:   25.9 || F1:  99.39 | Prec:  99.25 | Rec:  99.53 || Ex/s: 193.15\n",
            "\n",
            "===>  EVAL Epoch 12\n"
          ]
        },
        {
          "output_type": "stream",
          "name": "stderr",
          "text": [
            "0% [██████████████████████████████] 100% | ETA: 00:00:00\n",
            "Total time elapsed: 00:00:19\n"
          ]
        },
        {
          "output_type": "stream",
          "name": "stdout",
          "text": [
            "Finished Epoch 12 || Run Time:   11.3 | Load Time:    8.5 || F1:  92.70 | Prec:  91.68 | Rec:  93.74 || Ex/s: 290.23\n",
            "\n",
            "---------------------\n",
            "\n",
            "===>  TRAIN Epoch 13\n"
          ]
        },
        {
          "output_type": "stream",
          "name": "stderr",
          "text": [
            "0% [██████████████████████████████] 100% | ETA: 00:00:00\n",
            "Total time elapsed: 00:01:28\n"
          ]
        },
        {
          "output_type": "stream",
          "name": "stdout",
          "text": [
            "Finished Epoch 13 || Run Time:   63.6 | Load Time:   26.0 || F1:  99.46 | Prec:  99.32 | Rec:  99.59 || Ex/s: 192.20\n",
            "\n",
            "===>  EVAL Epoch 13\n"
          ]
        },
        {
          "output_type": "stream",
          "name": "stderr",
          "text": [
            "0% [██████████████████████████████] 100% | ETA: 00:00:00\n",
            "Total time elapsed: 00:00:19\n"
          ]
        },
        {
          "output_type": "stream",
          "name": "stdout",
          "text": [
            "Finished Epoch 13 || Run Time:   11.3 | Load Time:    8.5 || F1:  92.44 | Prec:  91.26 | Rec:  93.64 || Ex/s: 289.22\n",
            "\n",
            "---------------------\n",
            "\n",
            "===>  TRAIN Epoch 14\n"
          ]
        },
        {
          "output_type": "stream",
          "name": "stderr",
          "text": [
            "0% [██████████████████████████████] 100% | ETA: 00:00:00\n",
            "Total time elapsed: 00:01:28\n"
          ]
        },
        {
          "output_type": "stream",
          "name": "stdout",
          "text": [
            "Finished Epoch 14 || Run Time:   63.1 | Load Time:   25.9 || F1:  99.52 | Prec:  99.41 | Rec:  99.63 || Ex/s: 193.64\n",
            "\n",
            "===>  EVAL Epoch 14\n"
          ]
        },
        {
          "output_type": "stream",
          "name": "stderr",
          "text": [
            "0% [██████████████████████████████] 100% | ETA: 00:00:00\n",
            "Total time elapsed: 00:00:20\n"
          ]
        },
        {
          "output_type": "stream",
          "name": "stdout",
          "text": [
            "Finished Epoch 14 || Run Time:   11.5 | Load Time:    8.5 || F1:  92.58 | Prec:  91.28 | Rec:  93.93 || Ex/s: 286.77\n",
            "\n",
            "---------------------\n",
            "\n",
            "===>  TRAIN Epoch 15\n"
          ]
        },
        {
          "output_type": "stream",
          "name": "stderr",
          "text": [
            "0% [██████████████████████████████] 100% | ETA: 00:00:00\n",
            "Total time elapsed: 00:01:27\n"
          ]
        },
        {
          "output_type": "stream",
          "name": "stdout",
          "text": [
            "Finished Epoch 15 || Run Time:   62.8 | Load Time:   25.9 || F1:  99.58 | Prec:  99.50 | Rec:  99.66 || Ex/s: 194.08\n",
            "\n",
            "===>  EVAL Epoch 15\n"
          ]
        },
        {
          "output_type": "stream",
          "name": "stderr",
          "text": [
            "0% [██████████████████████████████] 100% | ETA: 00:00:00\n",
            "Total time elapsed: 00:00:20\n"
          ]
        },
        {
          "output_type": "stream",
          "name": "stdout",
          "text": [
            "Finished Epoch 15 || Run Time:   11.6 | Load Time:    8.5 || F1:  92.52 | Prec:  90.89 | Rec:  94.21 || Ex/s: 285.24\n",
            "\n",
            "---------------------\n",
            "\n",
            "Loading best model...\n",
            "Training done.\n"
          ]
        },
        {
          "output_type": "execute_result",
          "data": {
            "text/plain": [
              "tensor(92.7007, device='cuda:0')"
            ]
          },
          "metadata": {},
          "execution_count": 77
        }
      ],
      "source": [
        "model.run_train(\n",
        "    train,\n",
        "    validation,\n",
        "    epochs=15,\n",
        "    batch_size=32,\n",
        "    best_save_path='hybrid_model.pth',\n",
        "    pos_neg_ratio=3)"
      ]
    },
    {
      "cell_type": "code",
      "execution_count": null,
      "metadata": {
        "id": "pEM9xrZO8Zk-",
        "colab": {
          "base_uri": "https://localhost:8080/"
        },
        "outputId": "085ea158-3129-4d8f-9fc1-e73c1e5c78fa"
      },
      "outputs": [
        {
          "output_type": "stream",
          "name": "stdout",
          "text": [
            "===>  EVAL Epoch 9\n"
          ]
        },
        {
          "output_type": "stream",
          "name": "stderr",
          "text": [
            "/usr/local/lib/python3.7/dist-packages/torch/nn/modules/module.py:949: UserWarning: Using non-full backward hooks on a Module that does not take as input a single Tensor or a tuple of Tensors is deprecated and will be removed in future versions. This hook will be missing some of the grad_input. Please use register_full_backward_hook to get the documented behavior.\n",
            "  warnings.warn(\"Using non-full backward hooks on a Module that does not take as input a \"\n",
            "/usr/local/lib/python3.7/dist-packages/torch/nn/modules/module.py:974: UserWarning: Using a non-full backward hook when the forward contains multiple autograd Nodes is deprecated and will be removed in future versions. This hook will be missing some grad_input. Please use register_full_backward_hook to get the documented behavior.\n",
            "  warnings.warn(\"Using a non-full backward hook when the forward contains multiple autograd Nodes \"\n",
            "/usr/local/lib/python3.7/dist-packages/torch/nn/modules/module.py:939: UserWarning: Using non-full backward hooks on a Module that does not return a single Tensor or a tuple of Tensors is deprecated and will be removed in future versions. This hook will be missing some of the grad_output. Please use register_full_backward_hook to get the documented behavior.\n",
            "  warnings.warn(\"Using non-full backward hooks on a Module that does not return a \"\n",
            "0% [██████████████████████████████] 100% | ETA: 00:00:00\n",
            "Total time elapsed: 00:00:20\n"
          ]
        },
        {
          "output_type": "stream",
          "name": "stdout",
          "text": [
            "Finished Epoch 9 || Run Time:   11.8 | Load Time:    8.6 || F1:  92.22 | Prec:  90.84 | Rec:  93.64 || Ex/s: 281.19\n",
            "\n"
          ]
        },
        {
          "output_type": "execute_result",
          "data": {
            "text/plain": [
              "tensor(92.2227, device='cuda:0')"
            ]
          },
          "metadata": {},
          "execution_count": 78
        }
      ],
      "source": [
        "# Compute F1 on test set\n",
        "model.run_eval(test)"
      ]
    },
    {
      "cell_type": "markdown",
      "metadata": {
        "id": "lejVqpjAQJPD"
      },
      "source": [
        "## Step 4. Apply model to new data\n",
        "\n",
        "### Evaluating on test data\n",
        "Now that we have a trained model for entity matching, we can now evaluate its accuracy on test data, to estimate the performance of the model on unlabeled data."
      ]
    },
    {
      "cell_type": "code",
      "execution_count": null,
      "metadata": {
        "id": "jLoneAI_QJPD"
      },
      "outputs": [],
      "source": [
        "# Compute F1 on test set\n",
        "'''model.run_eval(test)'''"
      ]
    },
    {
      "cell_type": "markdown",
      "metadata": {
        "id": "W4ixyezcQJPG"
      },
      "source": [
        "### Evaluating on unlabeled data\n",
        "\n",
        "We finally apply the trained model to unlabeled data to get predictions. To do this, we need to first process the unlabeled data.\n",
        "\n",
        "#### Processing unlabeled data\n",
        "\n",
        "To process unlabeled data, we use `dm.data.process_unlabeled`, as shown in the code snippet below. The basic parameters for this call are as follows:\n",
        "\n",
        "* **path (required): ** The full path to the unlabeled data file (not just the directory).\n",
        "* **trained_model (required): ** The trained model. The model is aware of the configuration of the training data on which it was trained, and so `deepmatcher` reuses the same configuration for the unlabeled data.\n",
        "* **ignore_columns (optional): ** Any columns in the unlabeled CSV file that you may want to ignore for the purposes of evaluation. If not specified, the columns that were ignored while processing the training set will also be ignored while processing the unlabeled data.\n",
        "\n",
        "Note that the unlabeled CSV file must have the same schema as the train, validation and test CSVs."
      ]
    },
    {
      "cell_type": "code",
      "execution_count": null,
      "metadata": {
        "id": "ZmZ7EAtmQJPH"
      },
      "outputs": [],
      "source": [
        "'''\n",
        "unlabeled = dm.data.process_unlabeled(\n",
        "    path='sample_data/itunes-amazon/unlabeled.csv',\n",
        "    trained_model=model)\n",
        "'''"
      ]
    },
    {
      "cell_type": "markdown",
      "metadata": {
        "id": "OF18CNWbQJPM"
      },
      "source": [
        "#### Obtaining predictions\n",
        "\n",
        "Next, we call the `run_prediction` method which takes a processed data set object and returns a `pandas` dataframe containing tuple pair IDs (`id` column) and the corresponding match score predictions (`match_score` column). `match_scores` are in [0, 1] and a score above 0.5 indicates a match prediction."
      ]
    },
    {
      "cell_type": "code",
      "execution_count": null,
      "metadata": {
        "id": "0UE0Lg4KQJPN"
      },
      "outputs": [],
      "source": [
        "'''\n",
        "predictions = model.run_prediction(unlabeled)\n",
        "predictions.head()\n",
        "'''"
      ]
    },
    {
      "cell_type": "markdown",
      "metadata": {
        "id": "vXclEMhkQJPR"
      },
      "source": [
        "You may optionally set the `output_attributes` parameter to also include all attributes present in the original input table. As mentioned earlier, the processed attribute values will likely look a bit different from the attribute values in the input CSV files due to modifications such as tokenization and lowercasing."
      ]
    },
    {
      "cell_type": "code",
      "execution_count": null,
      "metadata": {
        "id": "0wPnH3NPQJPS"
      },
      "outputs": [],
      "source": [
        "#predictions = model.run_prediction(unlabeled, output_attributes=True)\n",
        "#predictions.head()"
      ]
    },
    {
      "cell_type": "markdown",
      "metadata": {
        "id": "bJxMcI0eQJPU"
      },
      "source": [
        "You can then save these predictions to CSV and use them for downstream tasks."
      ]
    },
    {
      "cell_type": "code",
      "execution_count": null,
      "metadata": {
        "id": "oZYSXoNNQJPV"
      },
      "outputs": [],
      "source": [
        "#predictions.to_csv('sample_data/itunes-amazon/unlabeled_predictions.csv')"
      ]
    },
    {
      "cell_type": "markdown",
      "metadata": {
        "id": "3Xo0ULsqQJPX"
      },
      "source": [
        "#### Getting predictions on labeled data\n",
        "\n",
        "You can also get predictions for labeled data such as validation data. To do so, you can simply call the `run_prediction` method passing the validation data as argument."
      ]
    },
    {
      "cell_type": "code",
      "execution_count": null,
      "metadata": {
        "id": "iXvu3exAQJPY"
      },
      "outputs": [],
      "source": [
        "#valid_predictions = model.run_prediction(validation, output_attributes=True)\n",
        "#valid_predictions.head()"
      ]
    }
  ],
  "metadata": {
    "accelerator": "GPU",
    "colab": {
      "collapsed_sections": [
        "sBtZVvrSQJOf",
        "8mr3oVzuQJO6",
        "7iLAHpuVQJO9",
        "fAVxQf6N3-T9",
        "5FgaGRh85u3W",
        "qwQCzuYP5-3d",
        "jzWDzxUf6Af8",
        "vGOLtgtP6BTG",
        "aHsurHMd6BTJ",
        "nQTv2vdI7jic",
        "al1yPMIK7jie"
      ],
      "name": "DeepMatcher_AADatasets.ipynb",
      "provenance": [],
      "toc_visible": true
    },
    "kernelspec": {
      "display_name": "Python 3",
      "language": "python",
      "name": "python3"
    },
    "language_info": {
      "codemirror_mode": {
        "name": "ipython",
        "version": 3
      },
      "file_extension": ".py",
      "mimetype": "text/x-python",
      "name": "python",
      "nbconvert_exporter": "python",
      "pygments_lexer": "ipython3",
      "version": "3.6.4"
    }
  },
  "nbformat": 4,
  "nbformat_minor": 0
}