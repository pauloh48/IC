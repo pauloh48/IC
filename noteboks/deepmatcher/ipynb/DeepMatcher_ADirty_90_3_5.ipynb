{
  "cells": [
    {
      "cell_type": "markdown",
      "metadata": {
        "id": "aXpIRSAQ-cw1"
      },
      "source": [
        "# Getting started with DeepMatcher\n",
        "\n",
        "Note: you can run **[this notebook live in Google Colab](https://colab.research.google.com/github/anhaidgroup/deepmatcher/blob/master/examples/getting_started.ipynb)** and use free GPUs provided by Google.\n",
        "\n",
        "This tutorial describes how to effortlessly perform entity matching using deep neural networks. Specifically, we will see how to match pairs of tuples (also called data records or table rows) to determine if they refer to the same real world entity. To do so, we will need labeled examples as input, i.e., tuple pairs which have been annotated as matches or non-matches. This will be used to train our neural network using supervised learning. At the end of this tutorial, you will have a trained neural network as output which you can easily apply to unlabeled tuple pairs to make predictions."
      ]
    },
    {
      "cell_type": "code",
      "execution_count": 1,
      "metadata": {
        "colab": {
          "base_uri": "https://localhost:8080/",
          "height": 35
        },
        "id": "I0U8tlj1esDm",
        "outputId": "abb4814d-60a2-40fb-f34c-7559b84a77ba"
      },
      "outputs": [
        {
          "output_type": "execute_result",
          "data": {
            "text/plain": [
              "\"from google.colab import drive\\ndrive.mount('/content/drive')\""
            ],
            "application/vnd.google.colaboratory.intrinsic+json": {
              "type": "string"
            }
          },
          "metadata": {},
          "execution_count": 1
        }
      ],
      "source": [
        "'''from google.colab import drive\n",
        "drive.mount('/content/drive')'''"
      ]
    },
    {
      "cell_type": "markdown",
      "metadata": {
        "id": "19SozaN8QJOf"
      },
      "source": [
        "As an overview, here are the 4 steps to use `deepmatcher` which we will go through in this tutorial:\n",
        "\n",
        "<ol start=\"0\">\n",
        "  <li>Setup</li>\n",
        "  <li>Process labeled data</li>\n",
        "  <li>Define neural network model</li>\n",
        "  <li>Train model</li>\n",
        "  <li>Apply model to new data</li>\n",
        "</ol>\n",
        "\n",
        "Let's begin!"
      ]
    },
    {
      "cell_type": "markdown",
      "metadata": {
        "id": "sBtZVvrSQJOf"
      },
      "source": [
        "## Step 0. Setup\n",
        "\n",
        "If you are running this notebook inside Colab, you will first need to install necessary packages by running the code below:"
      ]
    },
    {
      "cell_type": "code",
      "execution_count": 1,
      "metadata": {
        "id": "LEiDiDNz-PEG"
      },
      "outputs": [],
      "source": [
        "try:\n",
        "    import deepmatcher\n",
        "except:\n",
        "    !pip install -qqq deepmatcher"
      ]
    },
    {
      "cell_type": "code",
      "execution_count": 2,
      "metadata": {
        "colab": {
          "base_uri": "https://localhost:8080/"
        },
        "id": "SuphMrtUs1m-",
        "outputId": "53da7f7c-8e5f-46c7-ff3a-ddff572d20d9"
      },
      "outputs": [
        {
          "output_type": "stream",
          "name": "stdout",
          "text": [
            "Looking in indexes: https://pypi.org/simple, https://us-python.pkg.dev/colab-wheels/public/simple/\n",
            "Requirement already satisfied: torchtext==0.10.0 in /usr/local/lib/python3.7/dist-packages (0.10.0)\n",
            "Requirement already satisfied: requests in /usr/local/lib/python3.7/dist-packages (from torchtext==0.10.0) (2.23.0)\n",
            "Requirement already satisfied: tqdm in /usr/local/lib/python3.7/dist-packages (from torchtext==0.10.0) (4.64.0)\n",
            "Requirement already satisfied: torch==1.9.0 in /usr/local/lib/python3.7/dist-packages (from torchtext==0.10.0) (1.9.0)\n",
            "Requirement already satisfied: numpy in /usr/local/lib/python3.7/dist-packages (from torchtext==0.10.0) (1.21.6)\n",
            "Requirement already satisfied: typing-extensions in /usr/local/lib/python3.7/dist-packages (from torch==1.9.0->torchtext==0.10.0) (4.1.1)\n",
            "Requirement already satisfied: idna<3,>=2.5 in /usr/local/lib/python3.7/dist-packages (from requests->torchtext==0.10.0) (2.10)\n",
            "Requirement already satisfied: chardet<4,>=3.0.2 in /usr/local/lib/python3.7/dist-packages (from requests->torchtext==0.10.0) (3.0.4)\n",
            "Requirement already satisfied: urllib3!=1.25.0,!=1.25.1,<1.26,>=1.21.1 in /usr/local/lib/python3.7/dist-packages (from requests->torchtext==0.10.0) (1.24.3)\n",
            "Requirement already satisfied: certifi>=2017.4.17 in /usr/local/lib/python3.7/dist-packages (from requests->torchtext==0.10.0) (2022.6.15)\n"
          ]
        }
      ],
      "source": [
        "# contorna erro legacy\n",
        "!pip install torchtext==0.10.0"
      ]
    },
    {
      "cell_type": "markdown",
      "metadata": {
        "id": "D1Hmd9LXQJOk"
      },
      "source": [
        "Now let's import `deepmatcher` which will do all the heavy lifting to build and train neural network models for entity matching. "
      ]
    },
    {
      "cell_type": "code",
      "execution_count": 3,
      "metadata": {
        "id": "0422OsKBQJOk"
      },
      "outputs": [],
      "source": [
        "import pandas as pd\n",
        "import deepmatcher as dm"
      ]
    },
    {
      "cell_type": "markdown",
      "metadata": {
        "id": "g6inOGkQQJOn"
      },
      "source": [
        "We recommend having a GPU available for the training in Step 4. In case a GPU is not available, we will use all available CPU cores. You can run the following command to determine if a GPU is available and will be used for training:"
      ]
    },
    {
      "cell_type": "code",
      "execution_count": 4,
      "metadata": {
        "colab": {
          "base_uri": "https://localhost:8080/"
        },
        "id": "GYb5r0etQJOo",
        "outputId": "6e71a726-f2b6-4ed6-f921-02c3a579802c"
      },
      "outputs": [
        {
          "output_type": "execute_result",
          "data": {
            "text/plain": [
              "True"
            ]
          },
          "metadata": {},
          "execution_count": 4
        }
      ],
      "source": [
        "import torch\n",
        "torch.cuda.is_available()"
      ]
    },
    {
      "cell_type": "markdown",
      "metadata": {
        "id": "Dv_sFh1_QJOs"
      },
      "source": [
        "### Download sample data for entity matching\n",
        "\n",
        "Now let's get some sample data to play with in this tutorial. We will need three sets of labeled data and one set of unlabeled data:\n",
        "\n",
        "1. **Training Data:** This is used for training our neural network model.\n",
        "2. **Validation Data:** This is used for determining the configuration (i.e., hyperparameters) of our model in such a way that the model does not overfit to the training set.\n",
        "3. **Test Data:** This is used to estimate the performance of our trained model on unlabeled data.\n",
        "4. **Unlabeled Data:** The trained model is applied on this data to obtain predictions, which can then be used for downstream tasks in practical application scenarios.\n",
        "\n",
        "We download these four data sets to the `sample_data` directory:"
      ]
    },
    {
      "cell_type": "code",
      "execution_count": 5,
      "metadata": {
        "id": "wDOPl8FeLm7j"
      },
      "outputs": [],
      "source": [
        "#!mkdir -p /content/drive/MyDrive/IC/unirTeste\n",
        "#!wget -qnc -P /content/drive/MyDrive/IC/unirTeste/ http://pages.cs.wisc.edu/~anhai/data1/deepmatcher_data/Structured.zip"
      ]
    },
    {
      "cell_type": "code",
      "execution_count": 6,
      "metadata": {
        "id": "h_cHKHCULzbz"
      },
      "outputs": [],
      "source": [
        "#!unzip -q /content/drive/MyDrive/IC/unirTeste/Structured.zip -d /content/drive/MyDrive/IC/unirTeste"
      ]
    },
    {
      "cell_type": "code",
      "execution_count": 7,
      "metadata": {
        "id": "AxhYkWBOYgAQ"
      },
      "outputs": [],
      "source": [
        "#!ls /content/drive/MyDrive/IC/unirTeste/Structured/DBLP-GoogleScholar"
      ]
    },
    {
      "cell_type": "code",
      "execution_count": 8,
      "metadata": {
        "colab": {
          "base_uri": "https://localhost:8080/",
          "height": 0
        },
        "id": "qj-AXGxmR_gL",
        "outputId": "82da6a9a-8db9-44fa-f177-01cf0be7d150"
      },
      "outputs": [
        {
          "output_type": "execute_result",
          "data": {
            "text/plain": [
              "\"\\ndef merge_data(labeled, table_a, table_b, output):\\n  merged_csv = pd.read_csv(labeled).rename(columns={'ltable_id': 'left_id', 'rtable_id': 'right_id'})\\n  table_a_csv = pd.read_csv(table_a)\\n  table_a_csv = table_a_csv.rename(columns={col: 'left_' + col for col in table_a_csv.columns})\\n  table_b_csv = pd.read_csv(table_b)\\n  table_b_csv = table_b_csv.rename(columns={col: 'right_' + col for col in table_b_csv.columns})\\n  merged_csv = pd.merge(merged_csv, table_a_csv, on='left_id')\\n  merged_csv = pd.merge(merged_csv, table_b_csv, on='right_id')\\n  merged_csv['id'] = merged_csv[['left_id', 'right_id']].apply(lambda row: '_'.join([str(c) for c in row]), axis=1)\\n  del merged_csv['left_id']\\n  del merged_csv['right_id']\\n  merged_csv.to_csv(output, index=False)\\n\""
            ],
            "application/vnd.google.colaboratory.intrinsic+json": {
              "type": "string"
            }
          },
          "metadata": {},
          "execution_count": 8
        }
      ],
      "source": [
        "'''\n",
        "def merge_data(labeled, table_a, table_b, output):\n",
        "  merged_csv = pd.read_csv(labeled).rename(columns={'ltable_id': 'left_id', 'rtable_id': 'right_id'})\n",
        "  table_a_csv = pd.read_csv(table_a)\n",
        "  table_a_csv = table_a_csv.rename(columns={col: 'left_' + col for col in table_a_csv.columns})\n",
        "  table_b_csv = pd.read_csv(table_b)\n",
        "  table_b_csv = table_b_csv.rename(columns={col: 'right_' + col for col in table_b_csv.columns})\n",
        "  merged_csv = pd.merge(merged_csv, table_a_csv, on='left_id')\n",
        "  merged_csv = pd.merge(merged_csv, table_b_csv, on='right_id')\n",
        "  merged_csv['id'] = merged_csv[['left_id', 'right_id']].apply(lambda row: '_'.join([str(c) for c in row]), axis=1)\n",
        "  del merged_csv['left_id']\n",
        "  del merged_csv['right_id']\n",
        "  merged_csv.to_csv(output, index=False)\n",
        "'''"
      ]
    },
    {
      "cell_type": "code",
      "execution_count": 9,
      "metadata": {
        "colab": {
          "base_uri": "https://localhost:8080/",
          "height": 0
        },
        "id": "b9U49dPOSVKU",
        "outputId": "75fce49d-0891-4d12-cb2d-822da2edca57"
      },
      "outputs": [
        {
          "output_type": "execute_result",
          "data": {
            "text/plain": [
              "\"\\nmerge_data(\\n    '/content/drive/MyDrive/IC/unirTeste/Structured/DBLP-GoogleScholar/train.csv', \\n    '/content/drive/MyDrive/IC/unirTeste/Structured/DBLP-GoogleScholar/tableA.csv', \\n    '/content/drive/MyDrive/IC/unirTeste/Structured/DBLP-GoogleScholar/tableB.csv', \\n    '/content/drive/MyDrive/IC/unirTeste/Structured/DBLP-GoogleScholar/joined_train.csv')\\nmerge_data(\\n    '/content/drive/MyDrive/IC/unirTeste/Structured/DBLP-GoogleScholar/valid.csv', \\n    '/content/drive/MyDrive/IC/unirTeste/Structured/DBLP-GoogleScholar/tableA.csv', \\n    '/content/drive/MyDrive/IC/unirTeste/Structured/DBLP-GoogleScholar/tableB.csv', \\n    '/content/drive/MyDrive/IC/unirTeste/Structured/DBLP-GoogleScholar/joined_valid.csv')\\nmerge_data(\\n    '/content/drive/MyDrive/IC/unirTeste/Structured/DBLP-GoogleScholar/test.csv', \\n    '/content/drive/MyDrive/IC/unirTeste/Structured/DBLP-GoogleScholar/tableA.csv', \\n    '/content/drive/MyDrive/IC/unirTeste/Structured/DBLP-GoogleScholar/tableB.csv', \\n    '/content/drive/MyDrive/IC/unirTeste/Structured/DBLP-GoogleScholar/joined_test.csv')\\n\""
            ],
            "application/vnd.google.colaboratory.intrinsic+json": {
              "type": "string"
            }
          },
          "metadata": {},
          "execution_count": 9
        }
      ],
      "source": [
        "'''\n",
        "merge_data(\n",
        "    '/content/drive/MyDrive/IC/unirTeste/Structured/DBLP-GoogleScholar/train.csv', \n",
        "    '/content/drive/MyDrive/IC/unirTeste/Structured/DBLP-GoogleScholar/tableA.csv', \n",
        "    '/content/drive/MyDrive/IC/unirTeste/Structured/DBLP-GoogleScholar/tableB.csv', \n",
        "    '/content/drive/MyDrive/IC/unirTeste/Structured/DBLP-GoogleScholar/joined_train.csv')\n",
        "merge_data(\n",
        "    '/content/drive/MyDrive/IC/unirTeste/Structured/DBLP-GoogleScholar/valid.csv', \n",
        "    '/content/drive/MyDrive/IC/unirTeste/Structured/DBLP-GoogleScholar/tableA.csv', \n",
        "    '/content/drive/MyDrive/IC/unirTeste/Structured/DBLP-GoogleScholar/tableB.csv', \n",
        "    '/content/drive/MyDrive/IC/unirTeste/Structured/DBLP-GoogleScholar/joined_valid.csv')\n",
        "merge_data(\n",
        "    '/content/drive/MyDrive/IC/unirTeste/Structured/DBLP-GoogleScholar/test.csv', \n",
        "    '/content/drive/MyDrive/IC/unirTeste/Structured/DBLP-GoogleScholar/tableA.csv', \n",
        "    '/content/drive/MyDrive/IC/unirTeste/Structured/DBLP-GoogleScholar/tableB.csv', \n",
        "    '/content/drive/MyDrive/IC/unirTeste/Structured/DBLP-GoogleScholar/joined_test.csv')\n",
        "'''"
      ]
    },
    {
      "cell_type": "markdown",
      "metadata": {
        "id": "lu6QgmbDQJOv"
      },
      "source": [
        "To get an idea of how our data looks like, let's take a peek at the training dataset:"
      ]
    },
    {
      "cell_type": "code",
      "execution_count": 10,
      "metadata": {
        "id": "lpsH6NEZQJOw"
      },
      "outputs": [],
      "source": [
        "#pd.read_csv('/content/drive/MyDrive/IC/ICReteste/Deepmatcher/TesteErros/TesteErrosLabel/Erros6_10/Datasets/Structured/DBLP-GoogleScholar/joined_train.csv').head()"
      ]
    },
    {
      "cell_type": "markdown",
      "metadata": {
        "id": "KuCrlwjeQs8i"
      },
      "source": [
        "## Step 1. Process labeled data\n",
        "\n",
        "Before we can use our data for training, `deepmatcher` needs to first load and process it in order to prepare it for neural network training. Currently `deepmatcher` only supports processing CSV files. Each CSV file is assumed to have the following kinds of columns:\n",
        "\n",
        "* **\"Left\" attributes (required):** Our goal is to match tuple pairs. \"Left\" attributes are columns that correspond to the \"left\" tuple or the first tuple in the tuple pair. These column names are expected to be prefixed with \"left_\" by default.\n",
        "* **\"Right\" attributes (required):** \"Right\" attributes are columns that correspond to the \"right\" tuple or the second tuple in the tuple pair. These column names are expected to be prefixed with \"right_\" by default.\n",
        "* **Label column (required for train, validation, test):** Column containing the labels (match or non-match) for each tuple pair. Expected to be named \"label\" by default\n",
        "* **ID column (required):** Column containing a unique ID for each tuple pair. This is for evaluation convenience.  Expected to be named \"id\" by default.\n",
        "\n",
        "More details on what data processing involves and ways to customize it are described in **[this notebook](https://nbviewer.jupyter.org/github/anhaidgroup/deepmatcher/blob/master/examples/data_processing.ipynb)**. \n",
        "\n",
        "### Processing labeled data\n",
        "In order to process our train, validation and test CSV files we call `dm.data.process` in the following code snippet which will load and process the CSV files and return three processed `MatchingDataset` objects respectively. These dataset objects will later be used for training and evaluation. The basic parameters to `dm.data.process` are as follows:\n",
        "\n",
        "* **path (required): ** The path where all data is stored. This includes train, validation and test. `deepmatcher` may create new files in this directory to store information about these data sets. This allows subsequent `dm.data.process` calls to be much faster.\n",
        "* **train (required): ** File name of training data in `path` directory.\n",
        "* **validation (required): ** File name of validation data in `path` directory.\n",
        "* **test (optional): ** File name of test data in `path` directory.\n",
        "* **ignore_columns (optional): ** Any columns in the CSV files that you may want to ignore for the purposes of training. These should be included here. \n",
        "\n",
        "Note that the train, validation and test CSVs must all share the same schema, i.e., they should have the same columns. Processing data involves several steps and can take several minutes to complete, especially if this is the first time you are running the `deepmatcher` package.\n",
        "\n",
        "NOTE: If you are running this in Colab, you may get a message saying 'Memory usage is close to the limit.' You can safely ignore it for now. We are working on reducing the memory footprint."
      ]
    },
    {
      "cell_type": "code",
      "execution_count": 11,
      "metadata": {
        "colab": {
          "base_uri": "https://localhost:8080/"
        },
        "id": "EIIVF9-KsvqN",
        "outputId": "a3e9f568-de1f-4c53-f697-1e8df84d05b1"
      },
      "outputs": [
        {
          "output_type": "stream",
          "name": "stdout",
          "text": [
            "--2022-08-09 20:54:29--  https://dl.fbaipublicfiles.com/fasttext/vectors-wiki/wiki.en.zip\n",
            "Resolving dl.fbaipublicfiles.com (dl.fbaipublicfiles.com)... 104.22.75.142, 104.22.74.142, 172.67.9.4, ...\n",
            "Connecting to dl.fbaipublicfiles.com (dl.fbaipublicfiles.com)|104.22.75.142|:443... connected.\n",
            "HTTP request sent, awaiting response... 200 OK\n",
            "Length: 10356881291 (9.6G) [application/zip]\n",
            "Saving to: ‘/root/.vector_cache/wiki.en.zip’\n",
            "\n",
            "wiki.en.zip         100%[===================>]   9.65G  18.4MB/s    in 9m 35s  \n",
            "\n",
            "2022-08-09 21:04:05 (17.2 MB/s) - ‘/root/.vector_cache/wiki.en.zip’ saved [10356881291/10356881291]\n",
            "\n",
            "Archive:  /root/.vector_cache/wiki.en.zip\n",
            "  inflating: /root/.vector_cache/wiki.en.vec  \n",
            "  inflating: /root/.vector_cache/wiki.en.bin  \n"
          ]
        }
      ],
      "source": [
        "!wget https://dl.fbaipublicfiles.com/fasttext/vectors-wiki/wiki.en.zip --directory-prefix=/root/.vector_cache\n",
        "!unzip /root/.vector_cache/wiki.en.zip -d /root/.vector_cache/\n",
        "!rm /root/.vector_cache/wiki.en.vec"
      ]
    },
    {
      "cell_type": "code",
      "execution_count": 12,
      "metadata": {
        "id": "WJ37wi1HC9EJ",
        "colab": {
          "base_uri": "https://localhost:8080/",
          "height": 0
        },
        "outputId": "da646ec5-634b-413a-c9b2-20ca384da2e4"
      },
      "outputs": [
        {
          "output_type": "execute_result",
          "data": {
            "text/plain": [
              "\"train, validation, test = dm.data.process(\\n    path='/content/drive/MyDrive/IC/ICReteste/Deepmatcher/TesteErros/TesteErrosLabel/Erros6_10/Datasets/Dirty/DBLP-GoogleScholar/',\\n    train='joined_train.csv',\\n    validation='joined_valid.csv',\\n    test='joined_test_error.csv')\""
            ],
            "application/vnd.google.colaboratory.intrinsic+json": {
              "type": "string"
            }
          },
          "metadata": {},
          "execution_count": 12
        }
      ],
      "source": [
        "'''train, validation, test = dm.data.process(\n",
        "    path='/content/drive/MyDrive/IC/ICReteste/Deepmatcher/TesteErros/TesteErrosLabel/Erros6_10/Datasets/Dirty/DBLP-GoogleScholar/',\n",
        "    train='joined_train.csv',\n",
        "    validation='joined_valid.csv',\n",
        "    test='joined_test_error.csv')'''"
      ]
    },
    {
      "cell_type": "markdown",
      "metadata": {
        "id": "4RCEIm8MQJO3"
      },
      "source": [
        "#### Peeking at processed data\n",
        "Let's take a look at how the processed data looks like. To do this, we get the raw `pandas` table corresponding to the processed training dataset object. "
      ]
    },
    {
      "cell_type": "code",
      "execution_count": 13,
      "metadata": {
        "colab": {
          "base_uri": "https://localhost:8080/",
          "height": 0
        },
        "id": "qmkzAzWOQJO3",
        "outputId": "99dedc66-25b6-4874-a436-52824f612e61"
      },
      "outputs": [
        {
          "output_type": "execute_result",
          "data": {
            "text/plain": [
              "'train_table = train.get_raw_table()\\ntrain_table.head()'"
            ],
            "application/vnd.google.colaboratory.intrinsic+json": {
              "type": "string"
            }
          },
          "metadata": {},
          "execution_count": 13
        }
      ],
      "source": [
        "'''train_table = train.get_raw_table()\n",
        "train_table.head()'''"
      ]
    },
    {
      "cell_type": "markdown",
      "metadata": {
        "id": "hpo4JpshQJO6"
      },
      "source": [
        "The processed attribute values have been tokenized and lowercased so they may not look exactly the same as the input training data. These modifications help the neural network generalize better, i.e., perform better on data not trained on. "
      ]
    },
    {
      "cell_type": "markdown",
      "metadata": {
        "id": "8mr3oVzuQJO6"
      },
      "source": [
        "## Step 2. Define neural network model\n",
        "\n",
        "In this step you tell `deepmatcher` what kind of neural network you would like to use for entity matching. The easiest way to do this is to use one of the several kinds of neural network models that comes built-in with `deepmatcher`. To use a built-in network, construct a `dm.MatchingModel` as follows:\n",
        "\n",
        "`model = dm.MatchingModel(attr_summarizer='<TYPE>')`\n",
        "\n",
        "where `<TYPE>` is one of `sif`, `rnn`, `attention` or `hybrid`. If you are not familiar with what these mean, we strongly recommend taking a look at either **[slides from our talk on deepmatcher](http://bit.do/deepmatcher-talk)** for a high level overview, or **[our paper](http://pages.cs.wisc.edu/~anhai/papers1/deepmatcher-sigmod18.pdf)** for a more detailed explanation. Here we give briefly describe the intuition behind these four model types:\n",
        "* **sif:** This model considers the **words** present in each attribute value pair to determine a match or non-match. It does not take word order into account.\n",
        "* **rnn:** This model considers the **sequences of words** present in each attribute value pair to determine a match or non-match.\n",
        "* **attention:** This model considers the **alignment of words** present in each attribute value pair to determine a match or non-match. It does not take word order into account.\n",
        "* **hybrid:** This model considers the **alignment of sequences of words** present in each attribute value pair to determine a match or non-match. This is the default.\n",
        "\n",
        "`deepmatcher` is highly customizable and allows you to tune almost every aspect of the neural network model for your application scenario. **[This tutorial](https://nbviewer.jupyter.org/github/anhaidgroup/deepmatcher/blob/master/examples/matching_models.ipynb)** discusses the structure of `MatchingModel`s and how they can be customized.\n",
        "\n",
        "For this tutorial, let's create a `hybrid` model for entity matching:"
      ]
    },
    {
      "cell_type": "code",
      "execution_count": 14,
      "metadata": {
        "id": "NwUE2jMXQJO7",
        "colab": {
          "base_uri": "https://localhost:8080/",
          "height": 0
        },
        "outputId": "b00ba8a4-8f42-42fe-d12e-376e333932c0"
      },
      "outputs": [
        {
          "output_type": "execute_result",
          "data": {
            "text/plain": [
              "\"model = dm.MatchingModel(attr_summarizer='attention')\""
            ],
            "application/vnd.google.colaboratory.intrinsic+json": {
              "type": "string"
            }
          },
          "metadata": {},
          "execution_count": 14
        }
      ],
      "source": [
        "'''model = dm.MatchingModel(attr_summarizer='attention')'''"
      ]
    },
    {
      "cell_type": "markdown",
      "metadata": {
        "id": "7iLAHpuVQJO9"
      },
      "source": [
        "## Step 3. Train model\n",
        "\n",
        "Next, we train the defined neural network model using the processed training and validation data. To do so, we call the `run_train` method which takes the following basic parameters:\n",
        "\n",
        "* **train:** The processed training dataset object (of type `MatchingDataset`).\n",
        "* **validation:** The processed validation dataset object (of type `MatchingDataset`).\n",
        "* **epochs:** Number of times to go over the entire `train` data for training the model.\n",
        "* **batch_size:** Number of labeled examples (tuple pairs) to use for each training step. This value may be increased if you have a lot of training data and would like to speed up training. The optimal value is dataset dependent.\n",
        "* **best_save_path:** Path to save the best model.\n",
        "* **pos_neg_ratio**: The ratio of the weight of positive examples (matches) to weight of negative examples (non-matches). This value should be increased if you have fewer matches than non-matches in your data. The optimal value is dataset dependent.\n",
        "\n",
        "Many other aspects of the training algorithm can be customized. For details on this, please refer the API documentation for **[run_train]()**"
      ]
    },
    {
      "cell_type": "code",
      "execution_count": 15,
      "metadata": {
        "id": "RIZclsK1QJO-",
        "colab": {
          "base_uri": "https://localhost:8080/",
          "height": 0
        },
        "outputId": "14909139-a91f-4e9a-ccbf-c75b9aaf3d9b"
      },
      "outputs": [
        {
          "output_type": "execute_result",
          "data": {
            "text/plain": [
              "\"model.run_train(\\n    train,\\n    validation,\\n    epochs=15,\\n    batch_size=32,\\n    best_save_path='attention_model.pth',\\n    pos_neg_ratio=3)\""
            ],
            "application/vnd.google.colaboratory.intrinsic+json": {
              "type": "string"
            }
          },
          "metadata": {},
          "execution_count": 15
        }
      ],
      "source": [
        "'''model.run_train(\n",
        "    train,\n",
        "    validation,\n",
        "    epochs=15,\n",
        "    batch_size=32,\n",
        "    best_save_path='attention_model.pth',\n",
        "    pos_neg_ratio=3)'''"
      ]
    },
    {
      "cell_type": "markdown",
      "metadata": {
        "id": "0Qwnr7VZ3trW"
      },
      "source": [
        "## Novos Testes"
      ]
    },
    {
      "cell_type": "code",
      "execution_count": 16,
      "metadata": {
        "id": "oo_L6Ddt4oEN",
        "colab": {
          "base_uri": "https://localhost:8080/"
        },
        "outputId": "12c4b8a2-a1e5-42a8-acb5-c9ec054812d2"
      },
      "outputs": [
        {
          "output_type": "stream",
          "name": "stdout",
          "text": [
            "Cloning into 'IC'...\n",
            "remote: Enumerating objects: 985, done.\u001b[K\n",
            "remote: Counting objects: 100% (55/55), done.\u001b[K\n",
            "remote: Compressing objects: 100% (51/51), done.\u001b[K\n",
            "remote: Total 985 (delta 16), reused 7 (delta 0), pack-reused 930\u001b[K\n",
            "Receiving objects: 100% (985/985), 252.10 MiB | 17.53 MiB/s, done.\n",
            "Resolving deltas: 100% (600/600), done.\n",
            "Checking out files: 100% (1274/1274), done.\n"
          ]
        }
      ],
      "source": [
        "!git clone https://github.com/pauloh48/IC.git"
      ]
    },
    {
      "cell_type": "markdown",
      "metadata": {
        "id": "3vKq-OdF309e"
      },
      "source": [
        "### RNN"
      ]
    },
    {
      "cell_type": "markdown",
      "metadata": {
        "id": "fAVxQf6N3-T9"
      },
      "source": [
        "#### STRUCTURED"
      ]
    },
    {
      "cell_type": "markdown",
      "metadata": {
        "id": "jKcaukyN4dkT"
      },
      "source": [
        "##### Amazon-Google"
      ]
    },
    {
      "cell_type": "code",
      "execution_count": 18,
      "metadata": {
        "id": "DhNKPMVA4YwE",
        "colab": {
          "base_uri": "https://localhost:8080/"
        },
        "outputId": "1af2b172-c320-4ea4-f893-32945049110a"
      },
      "outputs": [
        {
          "output_type": "stream",
          "name": "stderr",
          "text": [
            "WARNING:deepmatcher.data.dataset:Rebuilding data cache because: ['Data file list has changed.', 'One or more data files have been modified.']\n",
            "\n",
            "Reading and processing data from \"/content/IC/datasesErros/ADirty_90_3_5/Structured/Amazon-Google/joined_train.csv\"\n",
            "0% [############################# ] 100% | ETA: 00:00:00\n",
            "Reading and processing data from \"/content/IC/datasesErros/ADirty_90_3_5/Structured/Amazon-Google/joined_valid.csv\"\n",
            "0% [############################# ] 100% | ETA: 00:00:00\n",
            "Reading and processing data from \"/content/IC/datasesErros/ADirty_90_3_5/Structured/Amazon-Google/joined_test.csv\"\n",
            "0% [############################# ] 100% | ETA: 00:00:00Warning : `load_model` does not return WordVectorModel or SupervisedModel any more, but a `FastText` object which is very similar.\n",
            "\n",
            "Building vocabulary\n",
            "0% [#######] 100% | ETA: 00:00:00\n",
            "Total time elapsed: 00:00:00\n",
            "\n",
            "Computing principal components\n",
            "0% [#######] 100% | ETA: 00:00:00\n",
            "Total time elapsed: 00:00:01\n"
          ]
        }
      ],
      "source": [
        "train, validation, test = dm.data.process(\n",
        "    path='/content/IC/datasesErros/ADirty_90_3_5/Structured/Amazon-Google/',\n",
        "    train='joined_train.csv',\n",
        "    validation='joined_valid.csv',\n",
        "    test='joined_test.csv')"
      ]
    },
    {
      "cell_type": "code",
      "execution_count": 19,
      "metadata": {
        "id": "_HYNTpDo4BIN"
      },
      "outputs": [],
      "source": [
        "model = dm.MatchingModel(attr_summarizer='rnn')"
      ]
    },
    {
      "cell_type": "code",
      "execution_count": 20,
      "metadata": {
        "id": "BJTNu1u-4I7m",
        "colab": {
          "base_uri": "https://localhost:8080/"
        },
        "outputId": "7a25a60d-9369-448a-9ee6-64fe11da4933"
      },
      "outputs": [
        {
          "output_type": "stream",
          "name": "stderr",
          "text": [
            "/usr/local/lib/python3.7/dist-packages/torch/nn/modules/module.py:949: UserWarning: Using non-full backward hooks on a Module that does not take as input a single Tensor or a tuple of Tensors is deprecated and will be removed in future versions. This hook will be missing some of the grad_input. Please use register_full_backward_hook to get the documented behavior.\n",
            "  warnings.warn(\"Using non-full backward hooks on a Module that does not take as input a \"\n",
            "/usr/local/lib/python3.7/dist-packages/torch/nn/modules/module.py:974: UserWarning: Using a non-full backward hook when the forward contains multiple autograd Nodes is deprecated and will be removed in future versions. This hook will be missing some grad_input. Please use register_full_backward_hook to get the documented behavior.\n",
            "  warnings.warn(\"Using a non-full backward hook when the forward contains multiple autograd Nodes \"\n"
          ]
        },
        {
          "output_type": "stream",
          "name": "stdout",
          "text": [
            "* Number of trainable parameters: 1762802\n",
            "===>  TRAIN Epoch 1\n"
          ]
        },
        {
          "output_type": "stream",
          "name": "stderr",
          "text": [
            "/usr/local/lib/python3.7/dist-packages/torch/nn/modules/module.py:939: UserWarning: Using non-full backward hooks on a Module that does not return a single Tensor or a tuple of Tensors is deprecated and will be removed in future versions. This hook will be missing some of the grad_output. Please use register_full_backward_hook to get the documented behavior.\n",
            "  warnings.warn(\"Using non-full backward hooks on a Module that does not return a \"\n",
            "/usr/local/lib/python3.7/dist-packages/torch/nn/functional.py:2742: UserWarning: reduction: 'mean' divides the total loss by both the batch size and the support size.'batchmean' divides only by the batch size, and aligns with the KL div math definition.'mean' will be changed to behave the same as 'batchmean' in the next major release.\n",
            "  \"reduction: 'mean' divides the total loss by both the batch size and the support size.\"\n",
            "0% [██████████████████████████████] 100% | ETA: 00:00:00\n",
            "Total time elapsed: 00:00:11\n"
          ]
        },
        {
          "output_type": "stream",
          "name": "stdout",
          "text": [
            "Finished Epoch 1 || Run Time:    6.5 | Load Time:    5.2 || F1:  12.65 | Prec:  28.22 | Rec:   8.15 || Ex/s: 584.95\n",
            "\n",
            "===>  EVAL Epoch 1\n"
          ]
        },
        {
          "output_type": "stream",
          "name": "stderr",
          "text": [
            "0% [██████████████] 100% | ETA: 00:00:00\n",
            "Total time elapsed: 00:00:02\n"
          ]
        },
        {
          "output_type": "stream",
          "name": "stdout",
          "text": [
            "Finished Epoch 1 || Run Time:    0.9 | Load Time:    1.6 || F1:  27.20 | Prec:  40.34 | Rec:  20.51 || Ex/s: 899.99\n",
            "\n",
            "* Best F1: tensor(27.1955, device='cuda:0')\n",
            "Saving best model...\n",
            "Done.\n",
            "---------------------\n",
            "\n",
            "===>  TRAIN Epoch 2\n"
          ]
        },
        {
          "output_type": "stream",
          "name": "stderr",
          "text": [
            "0% [██████████████████████████████] 100% | ETA: 00:00:00\n",
            "Total time elapsed: 00:00:11\n"
          ]
        },
        {
          "output_type": "stream",
          "name": "stdout",
          "text": [
            "Finished Epoch 2 || Run Time:    6.2 | Load Time:    5.1 || F1:  51.61 | Prec:  48.55 | Rec:  55.08 || Ex/s: 609.07\n",
            "\n",
            "===>  EVAL Epoch 2\n"
          ]
        },
        {
          "output_type": "stream",
          "name": "stderr",
          "text": [
            "0% [██████████████] 100% | ETA: 00:00:00\n",
            "Total time elapsed: 00:00:02\n"
          ]
        },
        {
          "output_type": "stream",
          "name": "stdout",
          "text": [
            "Finished Epoch 2 || Run Time:    1.0 | Load Time:    1.6 || F1:  39.37 | Prec:  29.65 | Rec:  58.55 || Ex/s: 888.31\n",
            "\n",
            "* Best F1: tensor(39.3678, device='cuda:0')\n",
            "Saving best model...\n",
            "Done.\n",
            "---------------------\n",
            "\n",
            "===>  TRAIN Epoch 3\n"
          ]
        },
        {
          "output_type": "stream",
          "name": "stderr",
          "text": [
            "0% [██████████████████████████████] 100% | ETA: 00:00:00\n",
            "Total time elapsed: 00:00:11\n"
          ]
        },
        {
          "output_type": "stream",
          "name": "stdout",
          "text": [
            "Finished Epoch 3 || Run Time:    6.2 | Load Time:    5.2 || F1:  69.49 | Prec:  60.15 | Rec:  82.26 || Ex/s: 606.27\n",
            "\n",
            "===>  EVAL Epoch 3\n"
          ]
        },
        {
          "output_type": "stream",
          "name": "stderr",
          "text": [
            "0% [██████████████] 100% | ETA: 00:00:00\n",
            "Total time elapsed: 00:00:02\n"
          ]
        },
        {
          "output_type": "stream",
          "name": "stdout",
          "text": [
            "Finished Epoch 3 || Run Time:    0.9 | Load Time:    1.6 || F1:  38.79 | Prec:  36.78 | Rec:  41.03 || Ex/s: 901.53\n",
            "\n",
            "---------------------\n",
            "\n",
            "===>  TRAIN Epoch 4\n"
          ]
        },
        {
          "output_type": "stream",
          "name": "stderr",
          "text": [
            "0% [██████████████████████████████] 100% | ETA: 00:00:00\n",
            "Total time elapsed: 00:00:11\n"
          ]
        },
        {
          "output_type": "stream",
          "name": "stdout",
          "text": [
            "Finished Epoch 4 || Run Time:    6.1 | Load Time:    5.1 || F1:  81.50 | Prec:  73.34 | Rec:  91.70 || Ex/s: 610.38\n",
            "\n",
            "===>  EVAL Epoch 4\n"
          ]
        },
        {
          "output_type": "stream",
          "name": "stderr",
          "text": [
            "0% [██████████████] 100% | ETA: 00:00:00\n",
            "Total time elapsed: 00:00:02\n"
          ]
        },
        {
          "output_type": "stream",
          "name": "stdout",
          "text": [
            "Finished Epoch 4 || Run Time:    0.9 | Load Time:    1.6 || F1:  32.19 | Prec:  42.07 | Rec:  26.07 || Ex/s: 910.93\n",
            "\n",
            "---------------------\n",
            "\n",
            "===>  TRAIN Epoch 5\n"
          ]
        },
        {
          "output_type": "stream",
          "name": "stderr",
          "text": [
            "0% [██████████████████████████████] 100% | ETA: 00:00:00\n",
            "Total time elapsed: 00:00:11\n"
          ]
        },
        {
          "output_type": "stream",
          "name": "stdout",
          "text": [
            "Finished Epoch 5 || Run Time:    6.3 | Load Time:    5.2 || F1:  90.42 | Prec:  85.57 | Rec:  95.85 || Ex/s: 597.81\n",
            "\n",
            "===>  EVAL Epoch 5\n"
          ]
        },
        {
          "output_type": "stream",
          "name": "stderr",
          "text": [
            "0% [██████████████] 100% | ETA: 00:00:00\n",
            "Total time elapsed: 00:00:02\n"
          ]
        },
        {
          "output_type": "stream",
          "name": "stdout",
          "text": [
            "Finished Epoch 5 || Run Time:    0.9 | Load Time:    1.6 || F1:  34.76 | Prec:  39.25 | Rec:  31.20 || Ex/s: 894.79\n",
            "\n",
            "---------------------\n",
            "\n",
            "===>  TRAIN Epoch 6\n"
          ]
        },
        {
          "output_type": "stream",
          "name": "stderr",
          "text": [
            "0% [██████████████████████████████] 100% | ETA: 00:00:00\n",
            "Total time elapsed: 00:00:11\n"
          ]
        },
        {
          "output_type": "stream",
          "name": "stdout",
          "text": [
            "Finished Epoch 6 || Run Time:    6.1 | Load Time:    5.1 || F1:  94.31 | Prec:  91.52 | Rec:  97.28 || Ex/s: 611.44\n",
            "\n",
            "===>  EVAL Epoch 6\n"
          ]
        },
        {
          "output_type": "stream",
          "name": "stderr",
          "text": [
            "0% [██████████████] 100% | ETA: 00:00:00\n",
            "Total time elapsed: 00:00:02\n"
          ]
        },
        {
          "output_type": "stream",
          "name": "stdout",
          "text": [
            "Finished Epoch 6 || Run Time:    0.9 | Load Time:    1.6 || F1:  35.80 | Prec:  40.54 | Rec:  32.05 || Ex/s: 898.13\n",
            "\n",
            "---------------------\n",
            "\n",
            "===>  TRAIN Epoch 7\n"
          ]
        },
        {
          "output_type": "stream",
          "name": "stderr",
          "text": [
            "0% [██████████████████████████████] 100% | ETA: 00:00:00\n",
            "Total time elapsed: 00:00:12\n"
          ]
        },
        {
          "output_type": "stream",
          "name": "stdout",
          "text": [
            "Finished Epoch 7 || Run Time:    6.6 | Load Time:    5.5 || F1:  96.98 | Prec:  95.30 | Rec:  98.71 || Ex/s: 570.22\n",
            "\n",
            "===>  EVAL Epoch 7\n"
          ]
        },
        {
          "output_type": "stream",
          "name": "stderr",
          "text": [
            "0% [██████████████] 100% | ETA: 00:00:00\n",
            "Total time elapsed: 00:00:02\n"
          ]
        },
        {
          "output_type": "stream",
          "name": "stdout",
          "text": [
            "Finished Epoch 7 || Run Time:    1.0 | Load Time:    1.7 || F1:  33.50 | Prec:  38.76 | Rec:  29.49 || Ex/s: 880.18\n",
            "\n",
            "---------------------\n",
            "\n",
            "===>  TRAIN Epoch 8\n"
          ]
        },
        {
          "output_type": "stream",
          "name": "stderr",
          "text": [
            "0% [██████████████████████████████] 100% | ETA: 00:00:00\n",
            "Total time elapsed: 00:00:10\n"
          ]
        },
        {
          "output_type": "stream",
          "name": "stdout",
          "text": [
            "Finished Epoch 8 || Run Time:    5.8 | Load Time:    5.0 || F1:  98.72 | Prec:  97.89 | Rec:  99.57 || Ex/s: 635.24\n",
            "\n",
            "===>  EVAL Epoch 8\n"
          ]
        },
        {
          "output_type": "stream",
          "name": "stderr",
          "text": [
            "0% [██████████████] 100% | ETA: 00:00:00\n",
            "Total time elapsed: 00:00:02\n"
          ]
        },
        {
          "output_type": "stream",
          "name": "stdout",
          "text": [
            "Finished Epoch 8 || Run Time:    0.9 | Load Time:    1.6 || F1:  33.17 | Prec:  39.41 | Rec:  28.63 || Ex/s: 935.98\n",
            "\n",
            "---------------------\n",
            "\n",
            "===>  TRAIN Epoch 9\n"
          ]
        },
        {
          "output_type": "stream",
          "name": "stderr",
          "text": [
            "0% [██████████████████████████████] 100% | ETA: 00:00:00\n",
            "Total time elapsed: 00:00:10\n"
          ]
        },
        {
          "output_type": "stream",
          "name": "stdout",
          "text": [
            "Finished Epoch 9 || Run Time:    5.6 | Load Time:    5.0 || F1:  99.43 | Prec:  99.15 | Rec:  99.71 || Ex/s: 648.66\n",
            "\n",
            "===>  EVAL Epoch 9\n"
          ]
        },
        {
          "output_type": "stream",
          "name": "stderr",
          "text": [
            "0% [██████████████] 100% | ETA: 00:00:00\n",
            "Total time elapsed: 00:00:02\n"
          ]
        },
        {
          "output_type": "stream",
          "name": "stdout",
          "text": [
            "Finished Epoch 9 || Run Time:    0.8 | Load Time:    1.6 || F1:  32.16 | Prec:  39.02 | Rec:  27.35 || Ex/s: 949.63\n",
            "\n",
            "---------------------\n",
            "\n",
            "===>  TRAIN Epoch 10\n"
          ]
        },
        {
          "output_type": "stream",
          "name": "stderr",
          "text": [
            "0% [██████████████████████████████] 100% | ETA: 00:00:00\n",
            "Total time elapsed: 00:00:10\n"
          ]
        },
        {
          "output_type": "stream",
          "name": "stdout",
          "text": [
            "Finished Epoch 10 || Run Time:    5.6 | Load Time:    5.0 || F1:  99.79 | Prec:  99.71 | Rec:  99.86 || Ex/s: 649.49\n",
            "\n",
            "===>  EVAL Epoch 10\n"
          ]
        },
        {
          "output_type": "stream",
          "name": "stderr",
          "text": [
            "0% [██████████████] 100% | ETA: 00:00:00\n",
            "Total time elapsed: 00:00:02\n"
          ]
        },
        {
          "output_type": "stream",
          "name": "stdout",
          "text": [
            "Finished Epoch 10 || Run Time:    0.8 | Load Time:    1.6 || F1:  32.75 | Prec:  39.88 | Rec:  27.78 || Ex/s: 952.60\n",
            "\n",
            "---------------------\n",
            "\n",
            "===>  TRAIN Epoch 11\n"
          ]
        },
        {
          "output_type": "stream",
          "name": "stderr",
          "text": [
            "0% [██████████████████████████████] 100% | ETA: 00:00:00\n",
            "Total time elapsed: 00:00:10\n"
          ]
        },
        {
          "output_type": "stream",
          "name": "stdout",
          "text": [
            "Finished Epoch 11 || Run Time:    5.6 | Load Time:    5.0 || F1:  99.86 | Prec:  99.86 | Rec:  99.86 || Ex/s: 649.61\n",
            "\n",
            "===>  EVAL Epoch 11\n"
          ]
        },
        {
          "output_type": "stream",
          "name": "stderr",
          "text": [
            "0% [██████████████] 100% | ETA: 00:00:00\n",
            "Total time elapsed: 00:00:02\n"
          ]
        },
        {
          "output_type": "stream",
          "name": "stdout",
          "text": [
            "Finished Epoch 11 || Run Time:    0.8 | Load Time:    1.6 || F1:  33.42 | Prec:  40.99 | Rec:  28.21 || Ex/s: 946.78\n",
            "\n",
            "---------------------\n",
            "\n",
            "===>  TRAIN Epoch 12\n"
          ]
        },
        {
          "output_type": "stream",
          "name": "stderr",
          "text": [
            "0% [██████████████████████████████] 100% | ETA: 00:00:00\n",
            "Total time elapsed: 00:00:10\n"
          ]
        },
        {
          "output_type": "stream",
          "name": "stdout",
          "text": [
            "Finished Epoch 12 || Run Time:    5.6 | Load Time:    5.0 || F1:  99.86 | Prec:  99.86 | Rec:  99.86 || Ex/s: 650.29\n",
            "\n",
            "===>  EVAL Epoch 12\n"
          ]
        },
        {
          "output_type": "stream",
          "name": "stderr",
          "text": [
            "0% [██████████████] 100% | ETA: 00:00:00\n",
            "Total time elapsed: 00:00:02\n"
          ]
        },
        {
          "output_type": "stream",
          "name": "stdout",
          "text": [
            "Finished Epoch 12 || Run Time:    0.9 | Load Time:    1.6 || F1:  32.64 | Prec:  41.45 | Rec:  26.92 || Ex/s: 933.56\n",
            "\n",
            "---------------------\n",
            "\n",
            "===>  TRAIN Epoch 13\n"
          ]
        },
        {
          "output_type": "stream",
          "name": "stderr",
          "text": [
            "0% [██████████████████████████████] 100% | ETA: 00:00:00\n",
            "Total time elapsed: 00:00:10\n"
          ]
        },
        {
          "output_type": "stream",
          "name": "stdout",
          "text": [
            "Finished Epoch 13 || Run Time:    5.7 | Load Time:    5.0 || F1:  99.86 | Prec:  99.86 | Rec:  99.86 || Ex/s: 642.89\n",
            "\n",
            "===>  EVAL Epoch 13\n"
          ]
        },
        {
          "output_type": "stream",
          "name": "stderr",
          "text": [
            "0% [██████████████] 100% | ETA: 00:00:00\n",
            "Total time elapsed: 00:00:02\n"
          ]
        },
        {
          "output_type": "stream",
          "name": "stdout",
          "text": [
            "Finished Epoch 13 || Run Time:    0.9 | Load Time:    1.6 || F1:  32.38 | Prec:  41.61 | Rec:  26.50 || Ex/s: 936.36\n",
            "\n",
            "---------------------\n",
            "\n",
            "===>  TRAIN Epoch 14\n"
          ]
        },
        {
          "output_type": "stream",
          "name": "stderr",
          "text": [
            "0% [██████████████████████████████] 100% | ETA: 00:00:00\n",
            "Total time elapsed: 00:00:10\n"
          ]
        },
        {
          "output_type": "stream",
          "name": "stdout",
          "text": [
            "Finished Epoch 14 || Run Time:    5.7 | Load Time:    5.0 || F1:  99.93 | Prec: 100.00 | Rec:  99.86 || Ex/s: 644.60\n",
            "\n",
            "===>  EVAL Epoch 14\n"
          ]
        },
        {
          "output_type": "stream",
          "name": "stderr",
          "text": [
            "0% [██████████████] 100% | ETA: 00:00:00\n",
            "Total time elapsed: 00:00:02\n"
          ]
        },
        {
          "output_type": "stream",
          "name": "stdout",
          "text": [
            "Finished Epoch 14 || Run Time:    0.8 | Load Time:    1.6 || F1:  31.94 | Prec:  41.22 | Rec:  26.07 || Ex/s: 945.44\n",
            "\n",
            "---------------------\n",
            "\n",
            "===>  TRAIN Epoch 15\n"
          ]
        },
        {
          "output_type": "stream",
          "name": "stderr",
          "text": [
            "0% [██████████████████████████████] 100% | ETA: 00:00:00\n",
            "Total time elapsed: 00:00:11\n"
          ]
        },
        {
          "output_type": "stream",
          "name": "stdout",
          "text": [
            "Finished Epoch 15 || Run Time:    5.9 | Load Time:    5.2 || F1:  99.93 | Prec: 100.00 | Rec:  99.86 || Ex/s: 620.08\n",
            "\n",
            "===>  EVAL Epoch 15\n"
          ]
        },
        {
          "output_type": "stream",
          "name": "stderr",
          "text": [
            "0% [██████████████] 100% | ETA: 00:00:00\n",
            "Total time elapsed: 00:00:02\n"
          ]
        },
        {
          "output_type": "stream",
          "name": "stdout",
          "text": [
            "Finished Epoch 15 || Run Time:    0.8 | Load Time:    1.6 || F1:  31.94 | Prec:  41.22 | Rec:  26.07 || Ex/s: 942.55\n",
            "\n",
            "---------------------\n",
            "\n",
            "Loading best model...\n",
            "Training done.\n"
          ]
        },
        {
          "output_type": "execute_result",
          "data": {
            "text/plain": [
              "tensor(39.3678, device='cuda:0')"
            ]
          },
          "metadata": {},
          "execution_count": 20
        }
      ],
      "source": [
        "model.run_train(\n",
        "    train,\n",
        "    validation,\n",
        "    epochs=15,\n",
        "    batch_size=32,\n",
        "    best_save_path='rnn_model.pth',\n",
        "    pos_neg_ratio=3)"
      ]
    },
    {
      "cell_type": "code",
      "execution_count": 21,
      "metadata": {
        "id": "E6vG2R6E3w81",
        "colab": {
          "base_uri": "https://localhost:8080/"
        },
        "outputId": "3f3e2209-8fbf-41e3-e37d-3db396347935"
      },
      "outputs": [
        {
          "output_type": "stream",
          "name": "stdout",
          "text": [
            "===>  EVAL Epoch 2\n"
          ]
        },
        {
          "output_type": "stream",
          "name": "stderr",
          "text": [
            "/usr/local/lib/python3.7/dist-packages/torch/nn/modules/module.py:949: UserWarning: Using non-full backward hooks on a Module that does not take as input a single Tensor or a tuple of Tensors is deprecated and will be removed in future versions. This hook will be missing some of the grad_input. Please use register_full_backward_hook to get the documented behavior.\n",
            "  warnings.warn(\"Using non-full backward hooks on a Module that does not take as input a \"\n",
            "/usr/local/lib/python3.7/dist-packages/torch/nn/modules/module.py:939: UserWarning: Using non-full backward hooks on a Module that does not return a single Tensor or a tuple of Tensors is deprecated and will be removed in future versions. This hook will be missing some of the grad_output. Please use register_full_backward_hook to get the documented behavior.\n",
            "  warnings.warn(\"Using non-full backward hooks on a Module that does not return a \"\n",
            "/usr/local/lib/python3.7/dist-packages/torch/nn/modules/module.py:974: UserWarning: Using a non-full backward hook when the forward contains multiple autograd Nodes is deprecated and will be removed in future versions. This hook will be missing some grad_input. Please use register_full_backward_hook to get the documented behavior.\n",
            "  warnings.warn(\"Using a non-full backward hook when the forward contains multiple autograd Nodes \"\n",
            "0% [██████████████] 100% | ETA: 00:00:00\n",
            "Total time elapsed: 00:00:02\n"
          ]
        },
        {
          "output_type": "stream",
          "name": "stdout",
          "text": [
            "Finished Epoch 2 || Run Time:    0.9 | Load Time:    1.6 || F1:  39.09 | Prec:  30.28 | Rec:  55.13 || Ex/s: 939.46\n",
            "\n"
          ]
        },
        {
          "output_type": "execute_result",
          "data": {
            "text/plain": [
              "tensor(39.0909, device='cuda:0')"
            ]
          },
          "metadata": {},
          "execution_count": 21
        }
      ],
      "source": [
        "# Compute F1 on test set\n",
        "model.run_eval(test)"
      ]
    },
    {
      "cell_type": "markdown",
      "metadata": {
        "id": "5FgaGRh85u3W"
      },
      "source": [
        "##### Beer"
      ]
    },
    {
      "cell_type": "code",
      "execution_count": 22,
      "metadata": {
        "id": "6FIw9z855u3g",
        "colab": {
          "base_uri": "https://localhost:8080/"
        },
        "outputId": "49317ed5-b02d-4a31-e664-08afd25ebfbb"
      },
      "outputs": [
        {
          "output_type": "stream",
          "name": "stderr",
          "text": [
            "WARNING:deepmatcher.data.dataset:Rebuilding data cache because: ['Data file list has changed.', 'One or more data files have been modified.']\n",
            "\n",
            "Reading and processing data from \"/content/IC/datasesErros/ADirty_90_3_5/Structured/Beer/joined_train.csv\"\n",
            "0% [############################# ] 100% | ETA: 00:00:00\n",
            "Reading and processing data from \"/content/IC/datasesErros/ADirty_90_3_5/Structured/Beer/joined_valid.csv\"\n",
            "0% [############################# ] 100% | ETA: 00:00:00\n",
            "Reading and processing data from \"/content/IC/datasesErros/ADirty_90_3_5/Structured/Beer/joined_test.csv\"\n",
            "0% [############################# ] 100% | ETA: 00:00:00\n",
            "Building vocabulary\n",
            "0% [#] 100% | ETA: 00:00:00\n",
            "Total time elapsed: 00:00:00\n",
            "\n",
            "Computing principal components\n",
            "0% [#] 100% | ETA: 00:00:00\n",
            "Total time elapsed: 00:00:00\n"
          ]
        }
      ],
      "source": [
        "train, validation, test = dm.data.process(\n",
        "    path='/content/IC/datasesErros/ADirty_90_3_5/Structured/Beer/',\n",
        "    train='joined_train.csv',\n",
        "    validation='joined_valid.csv',\n",
        "    test='joined_test.csv')"
      ]
    },
    {
      "cell_type": "code",
      "execution_count": 23,
      "metadata": {
        "id": "hb0ZCvlg5u3h"
      },
      "outputs": [],
      "source": [
        "model = dm.MatchingModel(attr_summarizer='rnn')"
      ]
    },
    {
      "cell_type": "code",
      "execution_count": 24,
      "metadata": {
        "id": "UtG97gkc5u3h",
        "colab": {
          "base_uri": "https://localhost:8080/"
        },
        "outputId": "e881bac8-684c-4a97-e693-b5c7035a6dea"
      },
      "outputs": [
        {
          "output_type": "stream",
          "name": "stdout",
          "text": [
            "* Number of trainable parameters: 2169602\n",
            "===>  TRAIN Epoch 1\n"
          ]
        },
        {
          "output_type": "stream",
          "name": "stderr",
          "text": [
            "/usr/local/lib/python3.7/dist-packages/torch/nn/modules/module.py:949: UserWarning: Using non-full backward hooks on a Module that does not take as input a single Tensor or a tuple of Tensors is deprecated and will be removed in future versions. This hook will be missing some of the grad_input. Please use register_full_backward_hook to get the documented behavior.\n",
            "  warnings.warn(\"Using non-full backward hooks on a Module that does not take as input a \"\n",
            "/usr/local/lib/python3.7/dist-packages/torch/nn/modules/module.py:974: UserWarning: Using a non-full backward hook when the forward contains multiple autograd Nodes is deprecated and will be removed in future versions. This hook will be missing some grad_input. Please use register_full_backward_hook to get the documented behavior.\n",
            "  warnings.warn(\"Using a non-full backward hook when the forward contains multiple autograd Nodes \"\n",
            "/usr/local/lib/python3.7/dist-packages/torch/nn/modules/module.py:939: UserWarning: Using non-full backward hooks on a Module that does not return a single Tensor or a tuple of Tensors is deprecated and will be removed in future versions. This hook will be missing some of the grad_output. Please use register_full_backward_hook to get the documented behavior.\n",
            "  warnings.warn(\"Using non-full backward hooks on a Module that does not return a \"\n",
            "/usr/local/lib/python3.7/dist-packages/torch/nn/functional.py:2742: UserWarning: reduction: 'mean' divides the total loss by both the batch size and the support size.'batchmean' divides only by the batch size, and aligns with the KL div math definition.'mean' will be changed to behave the same as 'batchmean' in the next major release.\n",
            "  \"reduction: 'mean' divides the total loss by both the batch size and the support size.\"\n",
            "0% [█] 100% | ETA: 00:00:00\n",
            "Total time elapsed: 00:00:00\n"
          ]
        },
        {
          "output_type": "stream",
          "name": "stdout",
          "text": [
            "Finished Epoch 1 || Run Time:    0.3 | Load Time:    0.3 || F1:   0.00 | Prec:   0.00 | Rec:   0.00 || Ex/s: 422.01\n",
            "\n",
            "===>  EVAL Epoch 1\n",
            "Finished Epoch 1 || Run Time:    0.0 | Load Time:    0.1 || F1:   0.00 | Prec:   0.00 | Rec:   0.00 || Ex/s: 594.77\n",
            "\n",
            "* Best F1: tensor(0., device='cuda:0')\n",
            "Saving best model...\n",
            "Done.\n",
            "---------------------\n",
            "\n",
            "===>  TRAIN Epoch 2\n"
          ]
        },
        {
          "output_type": "stream",
          "name": "stderr",
          "text": [
            "0% [█] 100% | ETA: 00:00:00\n",
            "Total time elapsed: 00:00:00\n"
          ]
        },
        {
          "output_type": "stream",
          "name": "stdout",
          "text": [
            "Finished Epoch 2 || Run Time:    0.3 | Load Time:    0.3 || F1:  26.09 | Prec: 100.00 | Rec:  15.00 || Ex/s: 433.42\n",
            "\n",
            "===>  EVAL Epoch 2\n",
            "Finished Epoch 2 || Run Time:    0.0 | Load Time:    0.1 || F1:   0.00 | Prec:   0.00 | Rec:   0.00 || Ex/s: 598.56\n",
            "\n",
            "---------------------\n",
            "\n",
            "===>  TRAIN Epoch 3\n"
          ]
        },
        {
          "output_type": "stream",
          "name": "stderr",
          "text": [
            "0% [█] 100% | ETA: 00:00:00\n",
            "Total time elapsed: 00:00:00\n"
          ]
        },
        {
          "output_type": "stream",
          "name": "stdout",
          "text": [
            "Finished Epoch 3 || Run Time:    0.3 | Load Time:    0.3 || F1:  86.42 | Prec:  85.37 | Rec:  87.50 || Ex/s: 436.42\n",
            "\n",
            "===>  EVAL Epoch 3\n",
            "Finished Epoch 3 || Run Time:    0.0 | Load Time:    0.1 || F1:  47.37 | Prec:  37.50 | Rec:  64.29 || Ex/s: 581.08\n",
            "\n",
            "* Best F1: tensor(47.3684, device='cuda:0')\n",
            "Saving best model...\n",
            "Done.\n",
            "---------------------\n",
            "\n",
            "===>  TRAIN Epoch 4\n"
          ]
        },
        {
          "output_type": "stream",
          "name": "stderr",
          "text": [
            "0% [█] 100% | ETA: 00:00:00\n",
            "Total time elapsed: 00:00:00\n"
          ]
        },
        {
          "output_type": "stream",
          "name": "stdout",
          "text": [
            "Finished Epoch 4 || Run Time:    0.3 | Load Time:    0.3 || F1:  88.64 | Prec:  81.25 | Rec:  97.50 || Ex/s: 439.63\n",
            "\n",
            "===>  EVAL Epoch 4\n",
            "Finished Epoch 4 || Run Time:    0.1 | Load Time:    0.1 || F1:  50.00 | Prec:  44.44 | Rec:  57.14 || Ex/s: 555.52\n",
            "\n",
            "* Best F1: tensor(50., device='cuda:0')\n",
            "Saving best model...\n",
            "Done.\n",
            "---------------------\n",
            "\n",
            "===>  TRAIN Epoch 5\n"
          ]
        },
        {
          "output_type": "stream",
          "name": "stderr",
          "text": [
            "0% [█] 100% | ETA: 00:00:00\n",
            "Total time elapsed: 00:00:00\n"
          ]
        },
        {
          "output_type": "stream",
          "name": "stdout",
          "text": [
            "Finished Epoch 5 || Run Time:    0.3 | Load Time:    0.3 || F1:  92.86 | Prec:  88.64 | Rec:  97.50 || Ex/s: 445.05\n",
            "\n",
            "===>  EVAL Epoch 5\n",
            "Finished Epoch 5 || Run Time:    0.0 | Load Time:    0.1 || F1:  54.05 | Prec:  43.48 | Rec:  71.43 || Ex/s: 594.15\n",
            "\n",
            "* Best F1: tensor(54.0541, device='cuda:0')\n",
            "Saving best model...\n",
            "Done.\n",
            "---------------------\n",
            "\n",
            "===>  TRAIN Epoch 6\n"
          ]
        },
        {
          "output_type": "stream",
          "name": "stderr",
          "text": [
            "0% [█] 100% | ETA: 00:00:00\n",
            "Total time elapsed: 00:00:00\n"
          ]
        },
        {
          "output_type": "stream",
          "name": "stdout",
          "text": [
            "Finished Epoch 6 || Run Time:    0.3 | Load Time:    0.3 || F1:  98.77 | Prec:  97.56 | Rec: 100.00 || Ex/s: 436.52\n",
            "\n",
            "===>  EVAL Epoch 6\n",
            "Finished Epoch 6 || Run Time:    0.1 | Load Time:    0.1 || F1:  60.61 | Prec:  52.63 | Rec:  71.43 || Ex/s: 550.80\n",
            "\n",
            "* Best F1: tensor(60.6061, device='cuda:0')\n",
            "Saving best model...\n",
            "Done.\n",
            "---------------------\n",
            "\n",
            "===>  TRAIN Epoch 7\n"
          ]
        },
        {
          "output_type": "stream",
          "name": "stderr",
          "text": [
            "0% [█] 100% | ETA: 00:00:00\n",
            "Total time elapsed: 00:00:00\n"
          ]
        },
        {
          "output_type": "stream",
          "name": "stdout",
          "text": [
            "Finished Epoch 7 || Run Time:    0.3 | Load Time:    0.3 || F1:  98.77 | Prec:  97.56 | Rec: 100.00 || Ex/s: 440.50\n",
            "\n",
            "===>  EVAL Epoch 7\n",
            "Finished Epoch 7 || Run Time:    0.0 | Load Time:    0.1 || F1:  55.56 | Prec:  45.45 | Rec:  71.43 || Ex/s: 609.79\n",
            "\n",
            "---------------------\n",
            "\n",
            "===>  TRAIN Epoch 8\n"
          ]
        },
        {
          "output_type": "stream",
          "name": "stderr",
          "text": [
            "0% [█] 100% | ETA: 00:00:00\n",
            "Total time elapsed: 00:00:00\n"
          ]
        },
        {
          "output_type": "stream",
          "name": "stdout",
          "text": [
            "Finished Epoch 8 || Run Time:    0.3 | Load Time:    0.3 || F1:  98.77 | Prec:  97.56 | Rec: 100.00 || Ex/s: 435.96\n",
            "\n",
            "===>  EVAL Epoch 8\n",
            "Finished Epoch 8 || Run Time:    0.0 | Load Time:    0.1 || F1:  51.28 | Prec:  40.00 | Rec:  71.43 || Ex/s: 606.56\n",
            "\n",
            "---------------------\n",
            "\n",
            "===>  TRAIN Epoch 9\n"
          ]
        },
        {
          "output_type": "stream",
          "name": "stderr",
          "text": [
            "0% [█] 100% | ETA: 00:00:00\n",
            "Total time elapsed: 00:00:00\n"
          ]
        },
        {
          "output_type": "stream",
          "name": "stdout",
          "text": [
            "Finished Epoch 9 || Run Time:    0.3 | Load Time:    0.3 || F1: 100.00 | Prec: 100.00 | Rec: 100.00 || Ex/s: 436.89\n",
            "\n",
            "===>  EVAL Epoch 9\n",
            "Finished Epoch 9 || Run Time:    0.0 | Load Time:    0.1 || F1:  48.78 | Prec:  37.04 | Rec:  71.43 || Ex/s: 588.29\n",
            "\n",
            "---------------------\n",
            "\n",
            "===>  TRAIN Epoch 10\n"
          ]
        },
        {
          "output_type": "stream",
          "name": "stderr",
          "text": [
            "0% [█] 100% | ETA: 00:00:00\n",
            "Total time elapsed: 00:00:00\n"
          ]
        },
        {
          "output_type": "stream",
          "name": "stdout",
          "text": [
            "Finished Epoch 10 || Run Time:    0.3 | Load Time:    0.3 || F1: 100.00 | Prec: 100.00 | Rec: 100.00 || Ex/s: 442.27\n",
            "\n",
            "===>  EVAL Epoch 10\n",
            "Finished Epoch 10 || Run Time:    0.0 | Load Time:    0.1 || F1:  47.62 | Prec:  35.71 | Rec:  71.43 || Ex/s: 566.06\n",
            "\n",
            "---------------------\n",
            "\n",
            "===>  TRAIN Epoch 11\n"
          ]
        },
        {
          "output_type": "stream",
          "name": "stderr",
          "text": [
            "0% [█] 100% | ETA: 00:00:00\n",
            "Total time elapsed: 00:00:00\n"
          ]
        },
        {
          "output_type": "stream",
          "name": "stdout",
          "text": [
            "Finished Epoch 11 || Run Time:    0.3 | Load Time:    0.3 || F1: 100.00 | Prec: 100.00 | Rec: 100.00 || Ex/s: 444.41\n",
            "\n",
            "===>  EVAL Epoch 11\n",
            "Finished Epoch 11 || Run Time:    0.0 | Load Time:    0.1 || F1:  44.44 | Prec:  32.26 | Rec:  71.43 || Ex/s: 601.66\n",
            "\n",
            "---------------------\n",
            "\n",
            "===>  TRAIN Epoch 12\n"
          ]
        },
        {
          "output_type": "stream",
          "name": "stderr",
          "text": [
            "0% [█] 100% | ETA: 00:00:00\n",
            "Total time elapsed: 00:00:00\n"
          ]
        },
        {
          "output_type": "stream",
          "name": "stdout",
          "text": [
            "Finished Epoch 12 || Run Time:    0.3 | Load Time:    0.3 || F1: 100.00 | Prec: 100.00 | Rec: 100.00 || Ex/s: 436.00\n",
            "\n",
            "===>  EVAL Epoch 12\n",
            "Finished Epoch 12 || Run Time:    0.0 | Load Time:    0.1 || F1:  44.44 | Prec:  32.26 | Rec:  71.43 || Ex/s: 609.04\n",
            "\n",
            "---------------------\n",
            "\n",
            "===>  TRAIN Epoch 13\n"
          ]
        },
        {
          "output_type": "stream",
          "name": "stderr",
          "text": [
            "0% [█] 100% | ETA: 00:00:00\n",
            "Total time elapsed: 00:00:00\n"
          ]
        },
        {
          "output_type": "stream",
          "name": "stdout",
          "text": [
            "Finished Epoch 13 || Run Time:    0.3 | Load Time:    0.3 || F1: 100.00 | Prec: 100.00 | Rec: 100.00 || Ex/s: 430.38\n",
            "\n",
            "===>  EVAL Epoch 13\n",
            "Finished Epoch 13 || Run Time:    0.0 | Load Time:    0.1 || F1:  44.44 | Prec:  32.26 | Rec:  71.43 || Ex/s: 613.01\n",
            "\n",
            "---------------------\n",
            "\n",
            "===>  TRAIN Epoch 14\n"
          ]
        },
        {
          "output_type": "stream",
          "name": "stderr",
          "text": [
            "0% [█] 100% | ETA: 00:00:00\n",
            "Total time elapsed: 00:00:00\n"
          ]
        },
        {
          "output_type": "stream",
          "name": "stdout",
          "text": [
            "Finished Epoch 14 || Run Time:    0.3 | Load Time:    0.3 || F1: 100.00 | Prec: 100.00 | Rec: 100.00 || Ex/s: 430.36\n",
            "\n",
            "===>  EVAL Epoch 14\n",
            "Finished Epoch 14 || Run Time:    0.0 | Load Time:    0.1 || F1:  44.44 | Prec:  32.26 | Rec:  71.43 || Ex/s: 584.59\n",
            "\n",
            "---------------------\n",
            "\n",
            "===>  TRAIN Epoch 15\n"
          ]
        },
        {
          "output_type": "stream",
          "name": "stderr",
          "text": [
            "0% [█] 100% | ETA: 00:00:00\n",
            "Total time elapsed: 00:00:00\n"
          ]
        },
        {
          "output_type": "stream",
          "name": "stdout",
          "text": [
            "Finished Epoch 15 || Run Time:    0.3 | Load Time:    0.3 || F1: 100.00 | Prec: 100.00 | Rec: 100.00 || Ex/s: 444.26\n",
            "\n",
            "===>  EVAL Epoch 15\n",
            "Finished Epoch 15 || Run Time:    0.0 | Load Time:    0.1 || F1:  43.48 | Prec:  31.25 | Rec:  71.43 || Ex/s: 598.39\n",
            "\n",
            "---------------------\n",
            "\n",
            "Loading best model...\n",
            "Training done.\n"
          ]
        },
        {
          "output_type": "execute_result",
          "data": {
            "text/plain": [
              "tensor(60.6061, device='cuda:0')"
            ]
          },
          "metadata": {},
          "execution_count": 24
        }
      ],
      "source": [
        "model.run_train(\n",
        "    train,\n",
        "    validation,\n",
        "    epochs=15,\n",
        "    batch_size=32,\n",
        "    best_save_path='rnn_model.pth',\n",
        "    pos_neg_ratio=3)"
      ]
    },
    {
      "cell_type": "code",
      "execution_count": 25,
      "metadata": {
        "id": "HENYOC9x5u3i",
        "colab": {
          "base_uri": "https://localhost:8080/"
        },
        "outputId": "0f085931-cf50-4f99-b73e-3ce22c326ea1"
      },
      "outputs": [
        {
          "output_type": "stream",
          "name": "stdout",
          "text": [
            "===>  EVAL Epoch 6\n"
          ]
        },
        {
          "output_type": "stream",
          "name": "stderr",
          "text": [
            "/usr/local/lib/python3.7/dist-packages/torch/nn/modules/module.py:949: UserWarning: Using non-full backward hooks on a Module that does not take as input a single Tensor or a tuple of Tensors is deprecated and will be removed in future versions. This hook will be missing some of the grad_input. Please use register_full_backward_hook to get the documented behavior.\n",
            "  warnings.warn(\"Using non-full backward hooks on a Module that does not take as input a \"\n",
            "/usr/local/lib/python3.7/dist-packages/torch/nn/modules/module.py:939: UserWarning: Using non-full backward hooks on a Module that does not return a single Tensor or a tuple of Tensors is deprecated and will be removed in future versions. This hook will be missing some of the grad_output. Please use register_full_backward_hook to get the documented behavior.\n",
            "  warnings.warn(\"Using non-full backward hooks on a Module that does not return a \"\n",
            "/usr/local/lib/python3.7/dist-packages/torch/nn/modules/module.py:974: UserWarning: Using a non-full backward hook when the forward contains multiple autograd Nodes is deprecated and will be removed in future versions. This hook will be missing some grad_input. Please use register_full_backward_hook to get the documented behavior.\n",
            "  warnings.warn(\"Using a non-full backward hook when the forward contains multiple autograd Nodes \"\n"
          ]
        },
        {
          "output_type": "stream",
          "name": "stdout",
          "text": [
            "Finished Epoch 6 || Run Time:    0.0 | Load Time:    0.1 || F1:  51.28 | Prec:  40.00 | Rec:  71.43 || Ex/s: 579.04\n",
            "\n"
          ]
        },
        {
          "output_type": "execute_result",
          "data": {
            "text/plain": [
              "tensor(51.2821, device='cuda:0')"
            ]
          },
          "metadata": {},
          "execution_count": 25
        }
      ],
      "source": [
        "# Compute F1 on test set\n",
        "model.run_eval(test)"
      ]
    },
    {
      "cell_type": "markdown",
      "metadata": {
        "id": "qwQCzuYP5-3d"
      },
      "source": [
        "##### DBLP-ACM"
      ]
    },
    {
      "cell_type": "code",
      "execution_count": 11,
      "metadata": {
        "id": "J-i9XPea5-3t",
        "colab": {
          "base_uri": "https://localhost:8080/"
        },
        "outputId": "3db5d494-1b61-42c5-e443-38325538f1d5"
      },
      "outputs": [
        {
          "output_type": "stream",
          "name": "stderr",
          "text": [
            "WARNING:deepmatcher.data.dataset:Rebuilding data cache because: ['Data file list has changed.', 'One or more data files have been modified.']\n",
            "\n",
            "Reading and processing data from \"/content/IC/datasesErros/ADirty_90_3_5/Structured/DBLP-ACM/joined_train.csv\"\n",
            "0% [############################# ] 100% | ETA: 00:00:00\n",
            "Reading and processing data from \"/content/IC/datasesErros/ADirty_90_3_5/Structured/DBLP-ACM/joined_valid.csv\"\n",
            "0% [############################# ] 100% | ETA: 00:00:00\n",
            "Reading and processing data from \"/content/IC/datasesErros/ADirty_90_3_5/Structured/DBLP-ACM/joined_test.csv\"\n",
            "0% [############################# ] 100% | ETA: 00:00:00Warning : `load_model` does not return WordVectorModel or SupervisedModel any more, but a `FastText` object which is very similar.\n",
            "\n",
            "Building vocabulary\n",
            "0% [########] 100% | ETA: 00:00:00\n",
            "Total time elapsed: 00:00:00\n",
            "\n",
            "Computing principal components\n",
            "0% [########] 100% | ETA: 00:00:00\n",
            "Total time elapsed: 00:00:03\n"
          ]
        }
      ],
      "source": [
        "train, validation, test = dm.data.process(\n",
        "    path='/content/IC/datasesErros/ADirty_90_3_5/Structured/DBLP-ACM/',\n",
        "    train='joined_train.csv',\n",
        "    validation='joined_valid.csv',\n",
        "    test='joined_test.csv')"
      ]
    },
    {
      "cell_type": "code",
      "execution_count": 12,
      "metadata": {
        "id": "ADWAE_Pm5-3u"
      },
      "outputs": [],
      "source": [
        "model = dm.MatchingModel(attr_summarizer='rnn')"
      ]
    },
    {
      "cell_type": "code",
      "execution_count": 13,
      "metadata": {
        "id": "YHwbSXrQ5-3u",
        "colab": {
          "base_uri": "https://localhost:8080/"
        },
        "outputId": "01c87906-e66c-480b-fb8e-8477e9ee7a31"
      },
      "outputs": [
        {
          "output_type": "stream",
          "name": "stderr",
          "text": [
            "/usr/local/lib/python3.7/dist-packages/torch/nn/modules/module.py:949: UserWarning: Using non-full backward hooks on a Module that does not take as input a single Tensor or a tuple of Tensors is deprecated and will be removed in future versions. This hook will be missing some of the grad_input. Please use register_full_backward_hook to get the documented behavior.\n",
            "  warnings.warn(\"Using non-full backward hooks on a Module that does not take as input a \"\n",
            "/usr/local/lib/python3.7/dist-packages/torch/nn/modules/module.py:974: UserWarning: Using a non-full backward hook when the forward contains multiple autograd Nodes is deprecated and will be removed in future versions. This hook will be missing some grad_input. Please use register_full_backward_hook to get the documented behavior.\n",
            "  warnings.warn(\"Using a non-full backward hook when the forward contains multiple autograd Nodes \"\n"
          ]
        },
        {
          "output_type": "stream",
          "name": "stdout",
          "text": [
            "* Number of trainable parameters: 2169602\n",
            "===>  TRAIN Epoch 1\n"
          ]
        },
        {
          "output_type": "stream",
          "name": "stderr",
          "text": [
            "/usr/local/lib/python3.7/dist-packages/torch/nn/modules/module.py:939: UserWarning: Using non-full backward hooks on a Module that does not return a single Tensor or a tuple of Tensors is deprecated and will be removed in future versions. This hook will be missing some of the grad_output. Please use register_full_backward_hook to get the documented behavior.\n",
            "  warnings.warn(\"Using non-full backward hooks on a Module that does not return a \"\n",
            "/usr/local/lib/python3.7/dist-packages/torch/nn/functional.py:2742: UserWarning: reduction: 'mean' divides the total loss by both the batch size and the support size.'batchmean' divides only by the batch size, and aligns with the KL div math definition.'mean' will be changed to behave the same as 'batchmean' in the next major release.\n",
            "  \"reduction: 'mean' divides the total loss by both the batch size and the support size.\"\n",
            "0% [██████████████████████████████] 100% | ETA: 00:00:00\n",
            "Total time elapsed: 00:00:25\n"
          ]
        },
        {
          "output_type": "stream",
          "name": "stdout",
          "text": [
            "Finished Epoch 1 || Run Time:   12.9 | Load Time:   13.2 || F1:  87.92 | Prec:  82.81 | Rec:  93.69 || Ex/s: 284.28\n",
            "\n",
            "===>  EVAL Epoch 1\n"
          ]
        },
        {
          "output_type": "stream",
          "name": "stderr",
          "text": [
            "0% [███████████████] 100% | ETA: 00:00:00\n",
            "Total time elapsed: 00:00:05\n"
          ]
        },
        {
          "output_type": "stream",
          "name": "stdout",
          "text": [
            "Finished Epoch 1 || Run Time:    1.3 | Load Time:    4.0 || F1:  94.44 | Prec:  89.84 | Rec:  99.55 || Ex/s: 462.61\n",
            "\n",
            "* Best F1: tensor(94.4444, device='cuda:0')\n",
            "Saving best model...\n",
            "Done.\n",
            "---------------------\n",
            "\n",
            "===>  TRAIN Epoch 2\n"
          ]
        },
        {
          "output_type": "stream",
          "name": "stderr",
          "text": [
            "0% [██████████████████████████████] 100% | ETA: 00:00:00\n",
            "Total time elapsed: 00:00:21\n"
          ]
        },
        {
          "output_type": "stream",
          "name": "stdout",
          "text": [
            "Finished Epoch 2 || Run Time:    8.9 | Load Time:   12.8 || F1:  97.45 | Prec:  96.06 | Rec:  98.87 || Ex/s: 341.76\n",
            "\n",
            "===>  EVAL Epoch 2\n"
          ]
        },
        {
          "output_type": "stream",
          "name": "stderr",
          "text": [
            "0% [███████████████] 100% | ETA: 00:00:00\n",
            "Total time elapsed: 00:00:05\n"
          ]
        },
        {
          "output_type": "stream",
          "name": "stdout",
          "text": [
            "Finished Epoch 2 || Run Time:    1.4 | Load Time:    4.1 || F1:  94.84 | Prec:  90.74 | Rec:  99.32 || Ex/s: 453.64\n",
            "\n",
            "* Best F1: tensor(94.8387, device='cuda:0')\n",
            "Saving best model...\n",
            "Done.\n",
            "---------------------\n",
            "\n",
            "===>  TRAIN Epoch 3\n"
          ]
        },
        {
          "output_type": "stream",
          "name": "stderr",
          "text": [
            "0% [██████████████████████████████] 100% | ETA: 00:00:00\n",
            "Total time elapsed: 00:00:22\n"
          ]
        },
        {
          "output_type": "stream",
          "name": "stdout",
          "text": [
            "Finished Epoch 3 || Run Time:    9.5 | Load Time:   13.3 || F1:  99.33 | Prec:  98.96 | Rec:  99.70 || Ex/s: 325.55\n",
            "\n",
            "===>  EVAL Epoch 3\n"
          ]
        },
        {
          "output_type": "stream",
          "name": "stderr",
          "text": [
            "0% [███████████████] 100% | ETA: 00:00:00\n",
            "Total time elapsed: 00:00:05\n"
          ]
        },
        {
          "output_type": "stream",
          "name": "stdout",
          "text": [
            "Finished Epoch 3 || Run Time:    1.4 | Load Time:    4.1 || F1:  96.49 | Prec:  94.02 | Rec:  99.10 || Ex/s: 451.37\n",
            "\n",
            "* Best F1: tensor(96.4912, device='cuda:0')\n",
            "Saving best model...\n",
            "Done.\n",
            "---------------------\n",
            "\n",
            "===>  TRAIN Epoch 4\n"
          ]
        },
        {
          "output_type": "stream",
          "name": "stderr",
          "text": [
            "0% [██████████████████████████████] 100% | ETA: 00:00:00\n",
            "Total time elapsed: 00:00:22\n"
          ]
        },
        {
          "output_type": "stream",
          "name": "stdout",
          "text": [
            "Finished Epoch 4 || Run Time:    9.5 | Load Time:   13.2 || F1:  99.59 | Prec:  99.48 | Rec:  99.70 || Ex/s: 326.64\n",
            "\n",
            "===>  EVAL Epoch 4\n"
          ]
        },
        {
          "output_type": "stream",
          "name": "stderr",
          "text": [
            "0% [███████████████] 100% | ETA: 00:00:00\n",
            "Total time elapsed: 00:00:05\n"
          ]
        },
        {
          "output_type": "stream",
          "name": "stdout",
          "text": [
            "Finished Epoch 4 || Run Time:    1.5 | Load Time:    4.1 || F1:  96.86 | Prec:  96.43 | Rec:  97.30 || Ex/s: 440.25\n",
            "\n",
            "* Best F1: tensor(96.8610, device='cuda:0')\n",
            "Saving best model...\n",
            "Done.\n",
            "---------------------\n",
            "\n",
            "===>  TRAIN Epoch 5\n"
          ]
        },
        {
          "output_type": "stream",
          "name": "stderr",
          "text": [
            "0% [██████████████████████████████] 100% | ETA: 00:00:00\n",
            "Total time elapsed: 00:00:22\n"
          ]
        },
        {
          "output_type": "stream",
          "name": "stdout",
          "text": [
            "Finished Epoch 5 || Run Time:    9.6 | Load Time:   13.2 || F1:  99.74 | Prec:  99.63 | Rec:  99.85 || Ex/s: 324.73\n",
            "\n",
            "===>  EVAL Epoch 5\n"
          ]
        },
        {
          "output_type": "stream",
          "name": "stderr",
          "text": [
            "0% [███████████████] 100% | ETA: 00:00:00\n",
            "Total time elapsed: 00:00:05\n"
          ]
        },
        {
          "output_type": "stream",
          "name": "stdout",
          "text": [
            "Finished Epoch 5 || Run Time:    1.5 | Load Time:    4.1 || F1:  96.77 | Prec:  95.81 | Rec:  97.75 || Ex/s: 442.35\n",
            "\n",
            "---------------------\n",
            "\n",
            "===>  TRAIN Epoch 6\n"
          ]
        },
        {
          "output_type": "stream",
          "name": "stderr",
          "text": [
            "0% [██████████████████████████████] 100% | ETA: 00:00:00\n",
            "Total time elapsed: 00:00:22\n"
          ]
        },
        {
          "output_type": "stream",
          "name": "stdout",
          "text": [
            "Finished Epoch 6 || Run Time:    9.6 | Load Time:   13.2 || F1:  99.85 | Prec:  99.78 | Rec:  99.92 || Ex/s: 325.01\n",
            "\n",
            "===>  EVAL Epoch 6\n"
          ]
        },
        {
          "output_type": "stream",
          "name": "stderr",
          "text": [
            "0% [███████████████] 100% | ETA: 00:00:00\n",
            "Total time elapsed: 00:00:05\n"
          ]
        },
        {
          "output_type": "stream",
          "name": "stdout",
          "text": [
            "Finished Epoch 6 || Run Time:    1.5 | Load Time:    4.3 || F1:  96.81 | Prec:  94.62 | Rec:  99.10 || Ex/s: 419.71\n",
            "\n",
            "---------------------\n",
            "\n",
            "===>  TRAIN Epoch 7\n"
          ]
        },
        {
          "output_type": "stream",
          "name": "stderr",
          "text": [
            "0% [██████████████████████████████] 100% | ETA: 00:00:00\n",
            "Total time elapsed: 00:00:21\n"
          ]
        },
        {
          "output_type": "stream",
          "name": "stdout",
          "text": [
            "Finished Epoch 7 || Run Time:    9.0 | Load Time:   12.8 || F1:  99.85 | Prec:  99.78 | Rec:  99.92 || Ex/s: 340.52\n",
            "\n",
            "===>  EVAL Epoch 7\n"
          ]
        },
        {
          "output_type": "stream",
          "name": "stderr",
          "text": [
            "0% [███████████████] 100% | ETA: 00:00:00\n",
            "Total time elapsed: 00:00:05\n"
          ]
        },
        {
          "output_type": "stream",
          "name": "stdout",
          "text": [
            "Finished Epoch 7 || Run Time:    1.4 | Load Time:    4.1 || F1:  96.35 | Prec:  94.77 | Rec:  97.97 || Ex/s: 456.79\n",
            "\n",
            "---------------------\n",
            "\n",
            "===>  TRAIN Epoch 8\n"
          ]
        },
        {
          "output_type": "stream",
          "name": "stderr",
          "text": [
            "0% [██████████████████████████████] 100% | ETA: 00:00:00\n",
            "Total time elapsed: 00:00:21\n"
          ]
        },
        {
          "output_type": "stream",
          "name": "stdout",
          "text": [
            "Finished Epoch 8 || Run Time:    8.9 | Load Time:   12.8 || F1:  99.89 | Prec:  99.85 | Rec:  99.92 || Ex/s: 341.52\n",
            "\n",
            "===>  EVAL Epoch 8\n"
          ]
        },
        {
          "output_type": "stream",
          "name": "stderr",
          "text": [
            "0% [███████████████] 100% | ETA: 00:00:00\n",
            "Total time elapsed: 00:00:05\n"
          ]
        },
        {
          "output_type": "stream",
          "name": "stdout",
          "text": [
            "Finished Epoch 8 || Run Time:    1.3 | Load Time:    4.1 || F1:  96.04 | Prec:  93.78 | Rec:  98.42 || Ex/s: 458.39\n",
            "\n",
            "---------------------\n",
            "\n",
            "===>  TRAIN Epoch 9\n"
          ]
        },
        {
          "output_type": "stream",
          "name": "stderr",
          "text": [
            "0% [██████████████████████████████] 100% | ETA: 00:00:00\n",
            "Total time elapsed: 00:00:21\n"
          ]
        },
        {
          "output_type": "stream",
          "name": "stdout",
          "text": [
            "Finished Epoch 9 || Run Time:    9.0 | Load Time:   12.9 || F1:  99.92 | Prec:  99.92 | Rec:  99.92 || Ex/s: 337.78\n",
            "\n",
            "===>  EVAL Epoch 9\n"
          ]
        },
        {
          "output_type": "stream",
          "name": "stderr",
          "text": [
            "0% [███████████████] 100% | ETA: 00:00:00\n",
            "Total time elapsed: 00:00:05\n"
          ]
        },
        {
          "output_type": "stream",
          "name": "stdout",
          "text": [
            "Finished Epoch 9 || Run Time:    1.4 | Load Time:    4.0 || F1:  95.94 | Prec:  93.58 | Rec:  98.42 || Ex/s: 457.78\n",
            "\n",
            "---------------------\n",
            "\n",
            "===>  TRAIN Epoch 10\n"
          ]
        },
        {
          "output_type": "stream",
          "name": "stderr",
          "text": [
            "0% [██████████████████████████████] 100% | ETA: 00:00:00\n",
            "Total time elapsed: 00:00:21\n"
          ]
        },
        {
          "output_type": "stream",
          "name": "stdout",
          "text": [
            "Finished Epoch 10 || Run Time:    9.1 | Load Time:   12.9 || F1:  99.92 | Prec:  99.92 | Rec:  99.92 || Ex/s: 337.78\n",
            "\n",
            "===>  EVAL Epoch 10\n"
          ]
        },
        {
          "output_type": "stream",
          "name": "stderr",
          "text": [
            "0% [███████████████] 100% | ETA: 00:00:00\n",
            "Total time elapsed: 00:00:05\n"
          ]
        },
        {
          "output_type": "stream",
          "name": "stdout",
          "text": [
            "Finished Epoch 10 || Run Time:    1.3 | Load Time:    4.0 || F1:  95.94 | Prec:  93.58 | Rec:  98.42 || Ex/s: 461.84\n",
            "\n",
            "---------------------\n",
            "\n",
            "===>  TRAIN Epoch 11\n"
          ]
        },
        {
          "output_type": "stream",
          "name": "stderr",
          "text": [
            "0% [██████████████████████████████] 100% | ETA: 00:00:00\n",
            "Total time elapsed: 00:00:21\n"
          ]
        },
        {
          "output_type": "stream",
          "name": "stdout",
          "text": [
            "Finished Epoch 11 || Run Time:    8.9 | Load Time:   12.8 || F1:  99.92 | Prec:  99.92 | Rec:  99.92 || Ex/s: 341.87\n",
            "\n",
            "===>  EVAL Epoch 11\n"
          ]
        },
        {
          "output_type": "stream",
          "name": "stderr",
          "text": [
            "0% [███████████████] 100% | ETA: 00:00:00\n",
            "Total time elapsed: 00:00:05\n"
          ]
        },
        {
          "output_type": "stream",
          "name": "stdout",
          "text": [
            "Finished Epoch 11 || Run Time:    1.4 | Load Time:    4.0 || F1:  96.05 | Prec:  93.59 | Rec:  98.65 || Ex/s: 459.18\n",
            "\n",
            "---------------------\n",
            "\n",
            "===>  TRAIN Epoch 12\n"
          ]
        },
        {
          "output_type": "stream",
          "name": "stderr",
          "text": [
            "0% [██████████████████████████████] 100% | ETA: 00:00:00\n",
            "Total time elapsed: 00:00:21\n"
          ]
        },
        {
          "output_type": "stream",
          "name": "stdout",
          "text": [
            "Finished Epoch 12 || Run Time:    9.0 | Load Time:   12.8 || F1:  99.92 | Prec:  99.92 | Rec:  99.92 || Ex/s: 340.54\n",
            "\n",
            "===>  EVAL Epoch 12\n"
          ]
        },
        {
          "output_type": "stream",
          "name": "stderr",
          "text": [
            "0% [███████████████] 100% | ETA: 00:00:00\n",
            "Total time elapsed: 00:00:05\n"
          ]
        },
        {
          "output_type": "stream",
          "name": "stdout",
          "text": [
            "Finished Epoch 12 || Run Time:    1.3 | Load Time:    4.0 || F1:  96.05 | Prec:  93.59 | Rec:  98.65 || Ex/s: 461.56\n",
            "\n",
            "---------------------\n",
            "\n",
            "===>  TRAIN Epoch 13\n"
          ]
        },
        {
          "output_type": "stream",
          "name": "stderr",
          "text": [
            "0% [██████████████████████████████] 100% | ETA: 00:00:00\n",
            "Total time elapsed: 00:00:21\n"
          ]
        },
        {
          "output_type": "stream",
          "name": "stdout",
          "text": [
            "Finished Epoch 13 || Run Time:    8.9 | Load Time:   12.7 || F1:  99.92 | Prec:  99.92 | Rec:  99.92 || Ex/s: 342.01\n",
            "\n",
            "===>  EVAL Epoch 13\n"
          ]
        },
        {
          "output_type": "stream",
          "name": "stderr",
          "text": [
            "0% [███████████████] 100% | ETA: 00:00:00\n",
            "Total time elapsed: 00:00:05\n"
          ]
        },
        {
          "output_type": "stream",
          "name": "stdout",
          "text": [
            "Finished Epoch 13 || Run Time:    1.3 | Load Time:    4.0 || F1:  96.05 | Prec:  93.59 | Rec:  98.65 || Ex/s: 460.22\n",
            "\n",
            "---------------------\n",
            "\n",
            "===>  TRAIN Epoch 14\n"
          ]
        },
        {
          "output_type": "stream",
          "name": "stderr",
          "text": [
            "0% [██████████████████████████████] 100% | ETA: 00:00:00\n",
            "Total time elapsed: 00:00:21\n"
          ]
        },
        {
          "output_type": "stream",
          "name": "stdout",
          "text": [
            "Finished Epoch 14 || Run Time:    9.1 | Load Time:   12.9 || F1:  99.92 | Prec:  99.92 | Rec:  99.92 || Ex/s: 336.89\n",
            "\n",
            "===>  EVAL Epoch 14\n"
          ]
        },
        {
          "output_type": "stream",
          "name": "stderr",
          "text": [
            "0% [███████████████] 100% | ETA: 00:00:00\n",
            "Total time elapsed: 00:00:05\n"
          ]
        },
        {
          "output_type": "stream",
          "name": "stdout",
          "text": [
            "Finished Epoch 14 || Run Time:    1.3 | Load Time:    4.0 || F1:  96.16 | Prec:  93.79 | Rec:  98.65 || Ex/s: 462.79\n",
            "\n",
            "---------------------\n",
            "\n",
            "===>  TRAIN Epoch 15\n"
          ]
        },
        {
          "output_type": "stream",
          "name": "stderr",
          "text": [
            "0% [██████████████████████████████] 100% | ETA: 00:00:00\n",
            "Total time elapsed: 00:00:21\n"
          ]
        },
        {
          "output_type": "stream",
          "name": "stdout",
          "text": [
            "Finished Epoch 15 || Run Time:    9.0 | Load Time:   12.8 || F1:  99.92 | Prec:  99.92 | Rec:  99.92 || Ex/s: 340.42\n",
            "\n",
            "===>  EVAL Epoch 15\n"
          ]
        },
        {
          "output_type": "stream",
          "name": "stderr",
          "text": [
            "0% [███████████████] 100% | ETA: 00:00:00\n",
            "Total time elapsed: 00:00:05\n"
          ]
        },
        {
          "output_type": "stream",
          "name": "stdout",
          "text": [
            "Finished Epoch 15 || Run Time:    1.3 | Load Time:    4.0 || F1:  96.16 | Prec:  93.79 | Rec:  98.65 || Ex/s: 461.50\n",
            "\n",
            "---------------------\n",
            "\n",
            "Loading best model...\n",
            "Training done.\n"
          ]
        },
        {
          "output_type": "execute_result",
          "data": {
            "text/plain": [
              "tensor(96.8610, device='cuda:0')"
            ]
          },
          "metadata": {},
          "execution_count": 13
        }
      ],
      "source": [
        "model.run_train(\n",
        "    train,\n",
        "    validation,\n",
        "    epochs=15,\n",
        "    batch_size=32,\n",
        "    best_save_path='rnn_model.pth',\n",
        "    pos_neg_ratio=3)"
      ]
    },
    {
      "cell_type": "code",
      "execution_count": 14,
      "metadata": {
        "id": "OfkfhY-15-3v",
        "colab": {
          "base_uri": "https://localhost:8080/"
        },
        "outputId": "03f26929-6a2b-49b6-d33c-ae6b16ce762f"
      },
      "outputs": [
        {
          "output_type": "stream",
          "name": "stdout",
          "text": [
            "===>  EVAL Epoch 4\n"
          ]
        },
        {
          "output_type": "stream",
          "name": "stderr",
          "text": [
            "/usr/local/lib/python3.7/dist-packages/torch/nn/modules/module.py:949: UserWarning: Using non-full backward hooks on a Module that does not take as input a single Tensor or a tuple of Tensors is deprecated and will be removed in future versions. This hook will be missing some of the grad_input. Please use register_full_backward_hook to get the documented behavior.\n",
            "  warnings.warn(\"Using non-full backward hooks on a Module that does not take as input a \"\n",
            "/usr/local/lib/python3.7/dist-packages/torch/nn/modules/module.py:939: UserWarning: Using non-full backward hooks on a Module that does not return a single Tensor or a tuple of Tensors is deprecated and will be removed in future versions. This hook will be missing some of the grad_output. Please use register_full_backward_hook to get the documented behavior.\n",
            "  warnings.warn(\"Using non-full backward hooks on a Module that does not return a \"\n",
            "/usr/local/lib/python3.7/dist-packages/torch/nn/modules/module.py:974: UserWarning: Using a non-full backward hook when the forward contains multiple autograd Nodes is deprecated and will be removed in future versions. This hook will be missing some grad_input. Please use register_full_backward_hook to get the documented behavior.\n",
            "  warnings.warn(\"Using a non-full backward hook when the forward contains multiple autograd Nodes \"\n",
            "0% [███████████████] 100% | ETA: 00:00:00\n",
            "Total time elapsed: 00:00:05\n"
          ]
        },
        {
          "output_type": "stream",
          "name": "stdout",
          "text": [
            "Finished Epoch 4 || Run Time:    1.4 | Load Time:    4.0 || F1:  97.31 | Prec:  96.88 | Rec:  97.75 || Ex/s: 462.34\n",
            "\n"
          ]
        },
        {
          "output_type": "execute_result",
          "data": {
            "text/plain": [
              "tensor(97.3094, device='cuda:0')"
            ]
          },
          "metadata": {},
          "execution_count": 14
        }
      ],
      "source": [
        "# Compute F1 on test set\n",
        "model.run_eval(test)"
      ]
    },
    {
      "cell_type": "markdown",
      "metadata": {
        "id": "jzWDzxUf6Af8"
      },
      "source": [
        "##### DBLP-GoogleScholar"
      ]
    },
    {
      "cell_type": "code",
      "execution_count": 11,
      "metadata": {
        "id": "AL8RYXfU6Af8"
      },
      "outputs": [],
      "source": [
        "train, validation, test = dm.data.process(\n",
        "    path='/content/IC/datasesErros/ADirty_90_3_5/Structured/DBLP-GoogleScholar/',\n",
        "    train='joined_train.csv',\n",
        "    validation='joined_valid.csv',\n",
        "    test='joined_test.csv')"
      ]
    },
    {
      "cell_type": "code",
      "execution_count": 12,
      "metadata": {
        "id": "hitCSKS16Af8"
      },
      "outputs": [],
      "source": [
        "model = dm.MatchingModel(attr_summarizer='rnn')"
      ]
    },
    {
      "cell_type": "code",
      "execution_count": 13,
      "metadata": {
        "id": "LD-LgJ1G6Af9",
        "colab": {
          "base_uri": "https://localhost:8080/"
        },
        "outputId": "c14c1de6-4dce-4135-dcf2-c212c78d0f0b"
      },
      "outputs": [
        {
          "output_type": "stream",
          "name": "stderr",
          "text": [
            "/usr/local/lib/python3.7/dist-packages/torch/nn/modules/module.py:949: UserWarning: Using non-full backward hooks on a Module that does not take as input a single Tensor or a tuple of Tensors is deprecated and will be removed in future versions. This hook will be missing some of the grad_input. Please use register_full_backward_hook to get the documented behavior.\n",
            "  warnings.warn(\"Using non-full backward hooks on a Module that does not take as input a \"\n",
            "/usr/local/lib/python3.7/dist-packages/torch/nn/modules/module.py:974: UserWarning: Using a non-full backward hook when the forward contains multiple autograd Nodes is deprecated and will be removed in future versions. This hook will be missing some grad_input. Please use register_full_backward_hook to get the documented behavior.\n",
            "  warnings.warn(\"Using a non-full backward hook when the forward contains multiple autograd Nodes \"\n"
          ]
        },
        {
          "output_type": "stream",
          "name": "stdout",
          "text": [
            "* Number of trainable parameters: 2169602\n",
            "===>  TRAIN Epoch 1\n"
          ]
        },
        {
          "output_type": "stream",
          "name": "stderr",
          "text": [
            "/usr/local/lib/python3.7/dist-packages/torch/nn/modules/module.py:939: UserWarning: Using non-full backward hooks on a Module that does not return a single Tensor or a tuple of Tensors is deprecated and will be removed in future versions. This hook will be missing some of the grad_output. Please use register_full_backward_hook to get the documented behavior.\n",
            "  warnings.warn(\"Using non-full backward hooks on a Module that does not return a \"\n",
            "/usr/local/lib/python3.7/dist-packages/torch/nn/functional.py:2742: UserWarning: reduction: 'mean' divides the total loss by both the batch size and the support size.'batchmean' divides only by the batch size, and aligns with the KL div math definition.'mean' will be changed to behave the same as 'batchmean' in the next major release.\n",
            "  \"reduction: 'mean' divides the total loss by both the batch size and the support size.\"\n",
            "0% [██████████████████████████████] 100% | ETA: 00:00:00\n",
            "Total time elapsed: 00:00:45\n"
          ]
        },
        {
          "output_type": "stream",
          "name": "stdout",
          "text": [
            "Finished Epoch 1 || Run Time:   20.6 | Load Time:   25.5 || F1:  76.65 | Prec:  72.04 | Rec:  81.88 || Ex/s: 373.77\n",
            "\n",
            "===>  EVAL Epoch 1\n"
          ]
        },
        {
          "output_type": "stream",
          "name": "stderr",
          "text": [
            "0% [██████████████████████████████] 100% | ETA: 00:00:00\n",
            "Total time elapsed: 00:00:10\n"
          ]
        },
        {
          "output_type": "stream",
          "name": "stdout",
          "text": [
            "Finished Epoch 1 || Run Time:    2.9 | Load Time:    7.3 || F1:  76.61 | Prec:  63.42 | Rec:  96.73 || Ex/s: 563.12\n",
            "\n",
            "* Best F1: tensor(76.6099, device='cuda:0')\n",
            "Saving best model...\n",
            "Done.\n",
            "---------------------\n",
            "\n",
            "===>  TRAIN Epoch 2\n"
          ]
        },
        {
          "output_type": "stream",
          "name": "stderr",
          "text": [
            "0% [██████████████████████████████] 100% | ETA: 00:00:00\n",
            "Total time elapsed: 00:00:43\n"
          ]
        },
        {
          "output_type": "stream",
          "name": "stdout",
          "text": [
            "Finished Epoch 2 || Run Time:   19.2 | Load Time:   24.3 || F1:  91.33 | Prec:  87.03 | Rec:  96.07 || Ex/s: 395.93\n",
            "\n",
            "===>  EVAL Epoch 2\n"
          ]
        },
        {
          "output_type": "stream",
          "name": "stderr",
          "text": [
            "0% [██████████████████████████████] 100% | ETA: 00:00:00\n",
            "Total time elapsed: 00:00:10\n"
          ]
        },
        {
          "output_type": "stream",
          "name": "stdout",
          "text": [
            "Finished Epoch 2 || Run Time:    3.0 | Load Time:    7.4 || F1:  87.18 | Prec:  82.20 | Rec:  92.80 || Ex/s: 551.88\n",
            "\n",
            "* Best F1: tensor(87.1817, device='cuda:0')\n",
            "Saving best model...\n",
            "Done.\n",
            "---------------------\n",
            "\n",
            "===>  TRAIN Epoch 3\n"
          ]
        },
        {
          "output_type": "stream",
          "name": "stderr",
          "text": [
            "0% [██████████████████████████████] 100% | ETA: 00:00:00\n",
            "Total time elapsed: 00:00:43\n"
          ]
        },
        {
          "output_type": "stream",
          "name": "stdout",
          "text": [
            "Finished Epoch 3 || Run Time:   19.3 | Load Time:   24.1 || F1:  96.40 | Prec:  94.68 | Rec:  98.19 || Ex/s: 396.78\n",
            "\n",
            "===>  EVAL Epoch 3\n"
          ]
        },
        {
          "output_type": "stream",
          "name": "stderr",
          "text": [
            "0% [██████████████████████████████] 100% | ETA: 00:00:00\n",
            "Total time elapsed: 00:00:10\n"
          ]
        },
        {
          "output_type": "stream",
          "name": "stdout",
          "text": [
            "Finished Epoch 3 || Run Time:    2.9 | Load Time:    7.5 || F1:  87.72 | Prec:  90.47 | Rec:  85.14 || Ex/s: 551.96\n",
            "\n",
            "* Best F1: tensor(87.7227, device='cuda:0')\n",
            "Saving best model...\n",
            "Done.\n",
            "---------------------\n",
            "\n",
            "===>  TRAIN Epoch 4\n"
          ]
        },
        {
          "output_type": "stream",
          "name": "stderr",
          "text": [
            "0% [██████████████████████████████] 100% | ETA: 00:00:00\n",
            "Total time elapsed: 00:00:43\n"
          ]
        },
        {
          "output_type": "stream",
          "name": "stdout",
          "text": [
            "Finished Epoch 4 || Run Time:   19.2 | Load Time:   24.2 || F1:  98.19 | Prec:  97.36 | Rec:  99.03 || Ex/s: 396.87\n",
            "\n",
            "===>  EVAL Epoch 4\n"
          ]
        },
        {
          "output_type": "stream",
          "name": "stderr",
          "text": [
            "0% [██████████████████████████████] 100% | ETA: 00:00:00\n",
            "Total time elapsed: 00:00:10\n"
          ]
        },
        {
          "output_type": "stream",
          "name": "stdout",
          "text": [
            "Finished Epoch 4 || Run Time:    2.9 | Load Time:    7.4 || F1:  87.71 | Prec:  86.75 | Rec:  88.69 || Ex/s: 560.50\n",
            "\n",
            "---------------------\n",
            "\n",
            "===>  TRAIN Epoch 5\n"
          ]
        },
        {
          "output_type": "stream",
          "name": "stderr",
          "text": [
            "0% [██████████████████████████████] 100% | ETA: 00:00:00\n",
            "Total time elapsed: 00:00:42\n"
          ]
        },
        {
          "output_type": "stream",
          "name": "stdout",
          "text": [
            "Finished Epoch 5 || Run Time:   18.8 | Load Time:   23.9 || F1:  99.22 | Prec:  98.98 | Rec:  99.47 || Ex/s: 403.84\n",
            "\n",
            "===>  EVAL Epoch 5\n"
          ]
        },
        {
          "output_type": "stream",
          "name": "stderr",
          "text": [
            "0% [██████████████████████████████] 100% | ETA: 00:00:00\n",
            "Total time elapsed: 00:00:10\n"
          ]
        },
        {
          "output_type": "stream",
          "name": "stdout",
          "text": [
            "Finished Epoch 5 || Run Time:    2.8 | Load Time:    7.3 || F1:  88.20 | Prec:  88.37 | Rec:  88.04 || Ex/s: 564.50\n",
            "\n",
            "* Best F1: tensor(88.2022, device='cuda:0')\n",
            "Saving best model...\n",
            "Done.\n",
            "---------------------\n",
            "\n",
            "===>  TRAIN Epoch 6\n"
          ]
        },
        {
          "output_type": "stream",
          "name": "stderr",
          "text": [
            "0% [██████████████████████████████] 100% | ETA: 00:00:00\n",
            "Total time elapsed: 00:00:42\n"
          ]
        },
        {
          "output_type": "stream",
          "name": "stdout",
          "text": [
            "Finished Epoch 6 || Run Time:   19.0 | Load Time:   24.1 || F1:  99.59 | Prec:  99.56 | Rec:  99.63 || Ex/s: 399.07\n",
            "\n",
            "===>  EVAL Epoch 6\n"
          ]
        },
        {
          "output_type": "stream",
          "name": "stderr",
          "text": [
            "0% [██████████████████████████████] 100% | ETA: 00:00:00\n",
            "Total time elapsed: 00:00:10\n"
          ]
        },
        {
          "output_type": "stream",
          "name": "stdout",
          "text": [
            "Finished Epoch 6 || Run Time:    2.8 | Load Time:    7.3 || F1:  87.47 | Prec:  83.10 | Rec:  92.34 || Ex/s: 565.78\n",
            "\n",
            "---------------------\n",
            "\n",
            "===>  TRAIN Epoch 7\n"
          ]
        },
        {
          "output_type": "stream",
          "name": "stderr",
          "text": [
            "0% [██████████████████████████████] 100% | ETA: 00:00:00\n",
            "Total time elapsed: 00:00:42\n"
          ]
        },
        {
          "output_type": "stream",
          "name": "stdout",
          "text": [
            "Finished Epoch 7 || Run Time:   19.2 | Load Time:   24.0 || F1:  99.70 | Prec:  99.66 | Rec:  99.75 || Ex/s: 398.77\n",
            "\n",
            "===>  EVAL Epoch 7\n"
          ]
        },
        {
          "output_type": "stream",
          "name": "stderr",
          "text": [
            "0% [██████████████████████████████] 100% | ETA: 00:00:00\n",
            "Total time elapsed: 00:00:10\n"
          ]
        },
        {
          "output_type": "stream",
          "name": "stdout",
          "text": [
            "Finished Epoch 7 || Run Time:    3.0 | Load Time:    7.4 || F1:  87.92 | Prec:  85.84 | Rec:  90.09 || Ex/s: 550.47\n",
            "\n",
            "---------------------\n",
            "\n",
            "===>  TRAIN Epoch 8\n"
          ]
        },
        {
          "output_type": "stream",
          "name": "stderr",
          "text": [
            "0% [██████████████████████████████] 100% | ETA: 00:00:00\n",
            "Total time elapsed: 00:00:43\n"
          ]
        },
        {
          "output_type": "stream",
          "name": "stdout",
          "text": [
            "Finished Epoch 8 || Run Time:   19.1 | Load Time:   24.3 || F1:  99.77 | Prec:  99.81 | Rec:  99.72 || Ex/s: 397.44\n",
            "\n",
            "===>  EVAL Epoch 8\n"
          ]
        },
        {
          "output_type": "stream",
          "name": "stderr",
          "text": [
            "0% [██████████████████████████████] 100% | ETA: 00:00:00\n",
            "Total time elapsed: 00:00:10\n"
          ]
        },
        {
          "output_type": "stream",
          "name": "stdout",
          "text": [
            "Finished Epoch 8 || Run Time:    2.8 | Load Time:    7.3 || F1:  88.42 | Prec:  87.97 | Rec:  88.88 || Ex/s: 566.26\n",
            "\n",
            "* Best F1: tensor(88.4240, device='cuda:0')\n",
            "Saving best model...\n",
            "Done.\n",
            "---------------------\n",
            "\n",
            "===>  TRAIN Epoch 9\n"
          ]
        },
        {
          "output_type": "stream",
          "name": "stderr",
          "text": [
            "0% [██████████████████████████████] 100% | ETA: 00:00:00\n",
            "Total time elapsed: 00:00:42\n"
          ]
        },
        {
          "output_type": "stream",
          "name": "stdout",
          "text": [
            "Finished Epoch 9 || Run Time:   18.8 | Load Time:   23.9 || F1:  99.89 | Prec:  99.94 | Rec:  99.84 || Ex/s: 403.02\n",
            "\n",
            "===>  EVAL Epoch 9\n"
          ]
        },
        {
          "output_type": "stream",
          "name": "stderr",
          "text": [
            "0% [██████████████████████████████] 100% | ETA: 00:00:00\n",
            "Total time elapsed: 00:00:10\n"
          ]
        },
        {
          "output_type": "stream",
          "name": "stdout",
          "text": [
            "Finished Epoch 9 || Run Time:    2.9 | Load Time:    7.7 || F1:  88.00 | Prec:  85.66 | Rec:  90.47 || Ex/s: 541.30\n",
            "\n",
            "---------------------\n",
            "\n",
            "===>  TRAIN Epoch 10\n"
          ]
        },
        {
          "output_type": "stream",
          "name": "stderr",
          "text": [
            "0% [██████████████████████████████] 100% | ETA: 00:00:00\n",
            "Total time elapsed: 00:00:42\n"
          ]
        },
        {
          "output_type": "stream",
          "name": "stdout",
          "text": [
            "Finished Epoch 10 || Run Time:   18.7 | Load Time:   23.8 || F1:  99.89 | Prec:  99.88 | Rec:  99.91 || Ex/s: 404.65\n",
            "\n",
            "===>  EVAL Epoch 10\n"
          ]
        },
        {
          "output_type": "stream",
          "name": "stderr",
          "text": [
            "0% [██████████████████████████████] 100% | ETA: 00:00:00\n",
            "Total time elapsed: 00:00:10\n"
          ]
        },
        {
          "output_type": "stream",
          "name": "stdout",
          "text": [
            "Finished Epoch 10 || Run Time:    2.8 | Load Time:    7.3 || F1:  88.04 | Prec:  85.74 | Rec:  90.47 || Ex/s: 565.04\n",
            "\n",
            "---------------------\n",
            "\n",
            "===>  TRAIN Epoch 11\n"
          ]
        },
        {
          "output_type": "stream",
          "name": "stderr",
          "text": [
            "0% [██████████████████████████████] 100% | ETA: 00:00:00\n",
            "Total time elapsed: 00:00:42\n"
          ]
        },
        {
          "output_type": "stream",
          "name": "stdout",
          "text": [
            "Finished Epoch 11 || Run Time:   19.1 | Load Time:   23.9 || F1:  99.91 | Prec:  99.91 | Rec:  99.91 || Ex/s: 400.10\n",
            "\n",
            "===>  EVAL Epoch 11\n"
          ]
        },
        {
          "output_type": "stream",
          "name": "stderr",
          "text": [
            "0% [██████████████████████████████] 100% | ETA: 00:00:00\n",
            "Total time elapsed: 00:00:10\n"
          ]
        },
        {
          "output_type": "stream",
          "name": "stdout",
          "text": [
            "Finished Epoch 11 || Run Time:    3.1 | Load Time:    7.7 || F1:  87.90 | Prec:  86.58 | Rec:  89.25 || Ex/s: 534.56\n",
            "\n",
            "---------------------\n",
            "\n",
            "===>  TRAIN Epoch 12\n"
          ]
        },
        {
          "output_type": "stream",
          "name": "stderr",
          "text": [
            "0% [██████████████████████████████] 100% | ETA: 00:00:00\n",
            "Total time elapsed: 00:00:42\n"
          ]
        },
        {
          "output_type": "stream",
          "name": "stdout",
          "text": [
            "Finished Epoch 12 || Run Time:   19.0 | Load Time:   23.9 || F1:  99.91 | Prec:  99.88 | Rec:  99.94 || Ex/s: 401.72\n",
            "\n",
            "===>  EVAL Epoch 12\n"
          ]
        },
        {
          "output_type": "stream",
          "name": "stderr",
          "text": [
            "0% [██████████████████████████████] 100% | ETA: 00:00:00\n",
            "Total time elapsed: 00:00:10\n"
          ]
        },
        {
          "output_type": "stream",
          "name": "stdout",
          "text": [
            "Finished Epoch 12 || Run Time:    2.8 | Load Time:    7.3 || F1:  88.01 | Prec:  88.55 | Rec:  87.48 || Ex/s: 567.59\n",
            "\n",
            "---------------------\n",
            "\n",
            "===>  TRAIN Epoch 13\n"
          ]
        },
        {
          "output_type": "stream",
          "name": "stderr",
          "text": [
            "0% [██████████████████████████████] 100% | ETA: 00:00:00\n",
            "Total time elapsed: 00:00:42\n"
          ]
        },
        {
          "output_type": "stream",
          "name": "stdout",
          "text": [
            "Finished Epoch 13 || Run Time:   19.0 | Load Time:   24.1 || F1:  99.94 | Prec:  99.91 | Rec:  99.97 || Ex/s: 399.52\n",
            "\n",
            "===>  EVAL Epoch 13\n"
          ]
        },
        {
          "output_type": "stream",
          "name": "stderr",
          "text": [
            "0% [██████████████████████████████] 100% | ETA: 00:00:00\n",
            "Total time elapsed: 00:00:10\n"
          ]
        },
        {
          "output_type": "stream",
          "name": "stdout",
          "text": [
            "Finished Epoch 13 || Run Time:    2.8 | Load Time:    7.4 || F1:  87.83 | Prec:  88.29 | Rec:  87.38 || Ex/s: 562.33\n",
            "\n",
            "---------------------\n",
            "\n",
            "===>  TRAIN Epoch 14\n"
          ]
        },
        {
          "output_type": "stream",
          "name": "stderr",
          "text": [
            "0% [██████████████████████████████] 100% | ETA: 00:00:00\n",
            "Total time elapsed: 00:00:42\n"
          ]
        },
        {
          "output_type": "stream",
          "name": "stdout",
          "text": [
            "Finished Epoch 14 || Run Time:   18.7 | Load Time:   23.8 || F1:  99.95 | Prec:  99.94 | Rec:  99.97 || Ex/s: 404.73\n",
            "\n",
            "===>  EVAL Epoch 14\n"
          ]
        },
        {
          "output_type": "stream",
          "name": "stderr",
          "text": [
            "0% [██████████████████████████████] 100% | ETA: 00:00:00\n",
            "Total time elapsed: 00:00:10\n"
          ]
        },
        {
          "output_type": "stream",
          "name": "stdout",
          "text": [
            "Finished Epoch 14 || Run Time:    2.9 | Load Time:    7.3 || F1:  87.57 | Prec:  87.57 | Rec:  87.57 || Ex/s: 561.76\n",
            "\n",
            "---------------------\n",
            "\n",
            "===>  TRAIN Epoch 15\n"
          ]
        },
        {
          "output_type": "stream",
          "name": "stderr",
          "text": [
            "0% [██████████████████████████████] 100% | ETA: 00:00:00\n",
            "Total time elapsed: 00:00:43\n"
          ]
        },
        {
          "output_type": "stream",
          "name": "stdout",
          "text": [
            "Finished Epoch 15 || Run Time:   19.3 | Load Time:   24.2 || F1:  99.97 | Prec:  99.94 | Rec: 100.00 || Ex/s: 396.53\n",
            "\n",
            "===>  EVAL Epoch 15\n"
          ]
        },
        {
          "output_type": "stream",
          "name": "stderr",
          "text": [
            "0% [██████████████████████████████] 100% | ETA: 00:00:00\n",
            "Total time elapsed: 00:00:10\n"
          ]
        },
        {
          "output_type": "stream",
          "name": "stdout",
          "text": [
            "Finished Epoch 15 || Run Time:    3.0 | Load Time:    7.4 || F1:  87.61 | Prec:  87.65 | Rec:  87.57 || Ex/s: 553.02\n",
            "\n",
            "---------------------\n",
            "\n",
            "Loading best model...\n",
            "Training done.\n"
          ]
        },
        {
          "output_type": "execute_result",
          "data": {
            "text/plain": [
              "tensor(88.4240, device='cuda:0')"
            ]
          },
          "metadata": {},
          "execution_count": 13
        }
      ],
      "source": [
        "model.run_train(\n",
        "    train,\n",
        "    validation,\n",
        "    epochs=15,\n",
        "    batch_size=32,\n",
        "    best_save_path='rnn_model.pth',\n",
        "    pos_neg_ratio=3)"
      ]
    },
    {
      "cell_type": "code",
      "execution_count": 14,
      "metadata": {
        "id": "aGKB9b1M6Af9",
        "colab": {
          "base_uri": "https://localhost:8080/"
        },
        "outputId": "afcf6b5e-ec4a-45aa-9114-6bea7a88c2cf"
      },
      "outputs": [
        {
          "output_type": "stream",
          "name": "stdout",
          "text": [
            "===>  EVAL Epoch 8\n"
          ]
        },
        {
          "output_type": "stream",
          "name": "stderr",
          "text": [
            "/usr/local/lib/python3.7/dist-packages/torch/nn/modules/module.py:949: UserWarning: Using non-full backward hooks on a Module that does not take as input a single Tensor or a tuple of Tensors is deprecated and will be removed in future versions. This hook will be missing some of the grad_input. Please use register_full_backward_hook to get the documented behavior.\n",
            "  warnings.warn(\"Using non-full backward hooks on a Module that does not take as input a \"\n",
            "/usr/local/lib/python3.7/dist-packages/torch/nn/modules/module.py:939: UserWarning: Using non-full backward hooks on a Module that does not return a single Tensor or a tuple of Tensors is deprecated and will be removed in future versions. This hook will be missing some of the grad_output. Please use register_full_backward_hook to get the documented behavior.\n",
            "  warnings.warn(\"Using non-full backward hooks on a Module that does not return a \"\n",
            "/usr/local/lib/python3.7/dist-packages/torch/nn/modules/module.py:974: UserWarning: Using a non-full backward hook when the forward contains multiple autograd Nodes is deprecated and will be removed in future versions. This hook will be missing some grad_input. Please use register_full_backward_hook to get the documented behavior.\n",
            "  warnings.warn(\"Using a non-full backward hook when the forward contains multiple autograd Nodes \"\n",
            "0% [██████████████████████████████] 100% | ETA: 00:00:00\n",
            "Total time elapsed: 00:00:12\n"
          ]
        },
        {
          "output_type": "stream",
          "name": "stdout",
          "text": [
            "Finished Epoch 8 || Run Time:    3.4 | Load Time:    8.7 || F1:  87.64 | Prec:  86.80 | Rec:  88.50 || Ex/s: 472.60\n",
            "\n"
          ]
        },
        {
          "output_type": "execute_result",
          "data": {
            "text/plain": [
              "tensor(87.6446, device='cuda:0')"
            ]
          },
          "metadata": {},
          "execution_count": 14
        }
      ],
      "source": [
        "# Compute F1 on test set\n",
        "model.run_eval(test)"
      ]
    },
    {
      "cell_type": "markdown",
      "metadata": {
        "id": "vGOLtgtP6BTG"
      },
      "source": [
        "##### Walmart-Amazon"
      ]
    },
    {
      "cell_type": "code",
      "execution_count": 11,
      "metadata": {
        "id": "dFQXsL_J6BTH",
        "colab": {
          "base_uri": "https://localhost:8080/"
        },
        "outputId": "120b75cf-d34f-411d-9921-2e50c0bd71bc"
      },
      "outputs": [
        {
          "output_type": "stream",
          "name": "stderr",
          "text": [
            "WARNING:deepmatcher.data.dataset:Rebuilding data cache because: ['Data file list has changed.', 'One or more data files have been modified.']\n",
            "\n",
            "Reading and processing data from \"/content/IC/datasesErros/ADirty_90_3_5/Structured/Walmart-Amazon/joined_train.csv\"\n",
            "0% [############################# ] 100% | ETA: 00:00:00\n",
            "Reading and processing data from \"/content/IC/datasesErros/ADirty_90_3_5/Structured/Walmart-Amazon/joined_valid.csv\"\n",
            "0% [############################# ] 100% | ETA: 00:00:00\n",
            "Reading and processing data from \"/content/IC/datasesErros/ADirty_90_3_5/Structured/Walmart-Amazon/joined_test.csv\"\n",
            "0% [############################# ] 100% | ETA: 00:00:00Warning : `load_model` does not return WordVectorModel or SupervisedModel any more, but a `FastText` object which is very similar.\n",
            "\n",
            "Building vocabulary\n",
            "0% [######] 100% | ETA: 00:00:00\n",
            "Total time elapsed: 00:00:00\n",
            "\n",
            "Computing principal components\n",
            "0% [######] 100% | ETA: 00:00:00\n",
            "Total time elapsed: 00:00:01\n"
          ]
        }
      ],
      "source": [
        "train, validation, test = dm.data.process(\n",
        "    path='/content/IC/datasesErros/ADirty_90_3_5/Structured/Walmart-Amazon/',\n",
        "    train='joined_train.csv',\n",
        "    validation='joined_valid.csv',\n",
        "    test='joined_test.csv')"
      ]
    },
    {
      "cell_type": "code",
      "execution_count": 12,
      "metadata": {
        "id": "7HIqkciW6BTI"
      },
      "outputs": [],
      "source": [
        "model = dm.MatchingModel(attr_summarizer='rnn')"
      ]
    },
    {
      "cell_type": "code",
      "execution_count": 13,
      "metadata": {
        "id": "MDr_sWKt6BTI",
        "colab": {
          "base_uri": "https://localhost:8080/"
        },
        "outputId": "ccdd2d82-568c-416f-a671-7e77bf139088"
      },
      "outputs": [
        {
          "output_type": "stream",
          "name": "stderr",
          "text": [
            "/usr/local/lib/python3.7/dist-packages/torch/nn/modules/module.py:949: UserWarning: Using non-full backward hooks on a Module that does not take as input a single Tensor or a tuple of Tensors is deprecated and will be removed in future versions. This hook will be missing some of the grad_input. Please use register_full_backward_hook to get the documented behavior.\n",
            "  warnings.warn(\"Using non-full backward hooks on a Module that does not take as input a \"\n",
            "/usr/local/lib/python3.7/dist-packages/torch/nn/modules/module.py:974: UserWarning: Using a non-full backward hook when the forward contains multiple autograd Nodes is deprecated and will be removed in future versions. This hook will be missing some grad_input. Please use register_full_backward_hook to get the documented behavior.\n",
            "  warnings.warn(\"Using a non-full backward hook when the forward contains multiple autograd Nodes \"\n"
          ]
        },
        {
          "output_type": "stream",
          "name": "stdout",
          "text": [
            "* Number of trainable parameters: 2576402\n",
            "===>  TRAIN Epoch 1\n"
          ]
        },
        {
          "output_type": "stream",
          "name": "stderr",
          "text": [
            "/usr/local/lib/python3.7/dist-packages/torch/nn/modules/module.py:939: UserWarning: Using non-full backward hooks on a Module that does not return a single Tensor or a tuple of Tensors is deprecated and will be removed in future versions. This hook will be missing some of the grad_output. Please use register_full_backward_hook to get the documented behavior.\n",
            "  warnings.warn(\"Using non-full backward hooks on a Module that does not return a \"\n",
            "/usr/local/lib/python3.7/dist-packages/torch/nn/functional.py:2742: UserWarning: reduction: 'mean' divides the total loss by both the batch size and the support size.'batchmean' divides only by the batch size, and aligns with the KL div math definition.'mean' will be changed to behave the same as 'batchmean' in the next major release.\n",
            "  \"reduction: 'mean' divides the total loss by both the batch size and the support size.\"\n",
            "0% [██████████████████████████████] 100% | ETA: 00:00:00\n",
            "Total time elapsed: 00:00:18\n"
          ]
        },
        {
          "output_type": "stream",
          "name": "stdout",
          "text": [
            "Finished Epoch 1 || Run Time:   10.2 | Load Time:    8.3 || F1:  28.43 | Prec:  52.83 | Rec:  19.44 || Ex/s: 332.41\n",
            "\n",
            "===>  EVAL Epoch 1\n"
          ]
        },
        {
          "output_type": "stream",
          "name": "stderr",
          "text": [
            "0% [█████████████] 100% | ETA: 00:00:00\n",
            "Total time elapsed: 00:00:03\n"
          ]
        },
        {
          "output_type": "stream",
          "name": "stdout",
          "text": [
            "Finished Epoch 1 || Run Time:    1.2 | Load Time:    2.0 || F1:  58.68 | Prec:  69.50 | Rec:  50.78 || Ex/s: 636.99\n",
            "\n",
            "* Best F1: tensor(58.6826, device='cuda:0')\n",
            "Saving best model...\n",
            "Done.\n",
            "---------------------\n",
            "\n",
            "===>  TRAIN Epoch 2\n"
          ]
        },
        {
          "output_type": "stream",
          "name": "stderr",
          "text": [
            "0% [██████████████████████████████] 100% | ETA: 00:00:00\n",
            "Total time elapsed: 00:00:14\n"
          ]
        },
        {
          "output_type": "stream",
          "name": "stdout",
          "text": [
            "Finished Epoch 2 || Run Time:    7.8 | Load Time:    6.6 || F1:  68.66 | Prec:  67.74 | Rec:  69.62 || Ex/s: 426.02\n",
            "\n",
            "===>  EVAL Epoch 2\n"
          ]
        },
        {
          "output_type": "stream",
          "name": "stderr",
          "text": [
            "0% [█████████████] 100% | ETA: 00:00:00\n",
            "Total time elapsed: 00:00:03\n"
          ]
        },
        {
          "output_type": "stream",
          "name": "stdout",
          "text": [
            "Finished Epoch 2 || Run Time:    1.2 | Load Time:    2.0 || F1:  57.08 | Prec:  51.68 | Rec:  63.73 || Ex/s: 641.05\n",
            "\n",
            "---------------------\n",
            "\n",
            "===>  TRAIN Epoch 3\n"
          ]
        },
        {
          "output_type": "stream",
          "name": "stderr",
          "text": [
            "0% [██████████████████████████████] 100% | ETA: 00:00:00\n",
            "Total time elapsed: 00:00:13\n"
          ]
        },
        {
          "output_type": "stream",
          "name": "stdout",
          "text": [
            "Finished Epoch 3 || Run Time:    7.7 | Load Time:    6.5 || F1:  88.94 | Prec:  84.75 | Rec:  93.58 || Ex/s: 434.52\n",
            "\n",
            "===>  EVAL Epoch 3\n"
          ]
        },
        {
          "output_type": "stream",
          "name": "stderr",
          "text": [
            "0% [█████████████] 100% | ETA: 00:00:00\n",
            "Total time elapsed: 00:00:03\n"
          ]
        },
        {
          "output_type": "stream",
          "name": "stdout",
          "text": [
            "Finished Epoch 3 || Run Time:    1.2 | Load Time:    2.1 || F1:  55.14 | Prec:  57.63 | Rec:  52.85 || Ex/s: 621.01\n",
            "\n",
            "---------------------\n",
            "\n",
            "===>  TRAIN Epoch 4\n"
          ]
        },
        {
          "output_type": "stream",
          "name": "stderr",
          "text": [
            "0% [██████████████████████████████] 100% | ETA: 00:00:00\n",
            "Total time elapsed: 00:00:13\n"
          ]
        },
        {
          "output_type": "stream",
          "name": "stdout",
          "text": [
            "Finished Epoch 4 || Run Time:    7.6 | Load Time:    6.5 || F1:  98.02 | Prec:  97.10 | Rec:  98.96 || Ex/s: 434.03\n",
            "\n",
            "===>  EVAL Epoch 4\n"
          ]
        },
        {
          "output_type": "stream",
          "name": "stderr",
          "text": [
            "0% [█████████████] 100% | ETA: 00:00:00\n",
            "Total time elapsed: 00:00:03\n"
          ]
        },
        {
          "output_type": "stream",
          "name": "stdout",
          "text": [
            "Finished Epoch 4 || Run Time:    1.2 | Load Time:    2.0 || F1:  58.38 | Prec:  57.21 | Rec:  59.59 || Ex/s: 641.57\n",
            "\n",
            "---------------------\n",
            "\n",
            "===>  TRAIN Epoch 5\n"
          ]
        },
        {
          "output_type": "stream",
          "name": "stderr",
          "text": [
            "0% [██████████████████████████████] 100% | ETA: 00:00:00\n",
            "Total time elapsed: 00:00:13\n"
          ]
        },
        {
          "output_type": "stream",
          "name": "stdout",
          "text": [
            "Finished Epoch 5 || Run Time:    7.6 | Load Time:    6.4 || F1:  99.22 | Prec:  98.96 | Rec:  99.48 || Ex/s: 437.45\n",
            "\n",
            "===>  EVAL Epoch 5\n"
          ]
        },
        {
          "output_type": "stream",
          "name": "stderr",
          "text": [
            "0% [█████████████] 100% | ETA: 00:00:00\n",
            "Total time elapsed: 00:00:03\n"
          ]
        },
        {
          "output_type": "stream",
          "name": "stdout",
          "text": [
            "Finished Epoch 5 || Run Time:    1.2 | Load Time:    2.1 || F1:  59.24 | Prec:  62.29 | Rec:  56.48 || Ex/s: 626.36\n",
            "\n",
            "* Best F1: tensor(59.2391, device='cuda:0')\n",
            "Saving best model...\n",
            "Done.\n",
            "---------------------\n",
            "\n",
            "===>  TRAIN Epoch 6\n"
          ]
        },
        {
          "output_type": "stream",
          "name": "stderr",
          "text": [
            "0% [██████████████████████████████] 100% | ETA: 00:00:00\n",
            "Total time elapsed: 00:00:13\n"
          ]
        },
        {
          "output_type": "stream",
          "name": "stdout",
          "text": [
            "Finished Epoch 6 || Run Time:    7.6 | Load Time:    6.5 || F1:  99.48 | Prec:  99.14 | Rec:  99.83 || Ex/s: 435.01\n",
            "\n",
            "===>  EVAL Epoch 6\n"
          ]
        },
        {
          "output_type": "stream",
          "name": "stderr",
          "text": [
            "0% [█████████████] 100% | ETA: 00:00:00\n",
            "Total time elapsed: 00:00:03\n"
          ]
        },
        {
          "output_type": "stream",
          "name": "stdout",
          "text": [
            "Finished Epoch 6 || Run Time:    1.1 | Load Time:    2.0 || F1:  60.57 | Prec:  77.42 | Rec:  49.74 || Ex/s: 646.22\n",
            "\n",
            "* Best F1: tensor(60.5678, device='cuda:0')\n",
            "Saving best model...\n",
            "Done.\n",
            "---------------------\n",
            "\n",
            "===>  TRAIN Epoch 7\n"
          ]
        },
        {
          "output_type": "stream",
          "name": "stderr",
          "text": [
            "0% [██████████████████████████████] 100% | ETA: 00:00:00\n",
            "Total time elapsed: 00:00:14\n"
          ]
        },
        {
          "output_type": "stream",
          "name": "stdout",
          "text": [
            "Finished Epoch 7 || Run Time:    7.7 | Load Time:    6.7 || F1:  99.91 | Prec: 100.00 | Rec:  99.83 || Ex/s: 426.63\n",
            "\n",
            "===>  EVAL Epoch 7\n"
          ]
        },
        {
          "output_type": "stream",
          "name": "stderr",
          "text": [
            "0% [█████████████] 100% | ETA: 00:00:00\n",
            "Total time elapsed: 00:00:03\n"
          ]
        },
        {
          "output_type": "stream",
          "name": "stdout",
          "text": [
            "Finished Epoch 7 || Run Time:    1.2 | Load Time:    2.0 || F1:  60.06 | Prec:  78.33 | Rec:  48.70 || Ex/s: 637.48\n",
            "\n",
            "---------------------\n",
            "\n",
            "===>  TRAIN Epoch 8\n"
          ]
        },
        {
          "output_type": "stream",
          "name": "stderr",
          "text": [
            "0% [██████████████████████████████] 100% | ETA: 00:00:00\n",
            "Total time elapsed: 00:00:13\n"
          ]
        },
        {
          "output_type": "stream",
          "name": "stdout",
          "text": [
            "Finished Epoch 8 || Run Time:    7.4 | Load Time:    6.5 || F1:  99.91 | Prec: 100.00 | Rec:  99.83 || Ex/s: 441.14\n",
            "\n",
            "===>  EVAL Epoch 8\n"
          ]
        },
        {
          "output_type": "stream",
          "name": "stderr",
          "text": [
            "0% [█████████████] 100% | ETA: 00:00:00\n",
            "Total time elapsed: 00:00:03\n"
          ]
        },
        {
          "output_type": "stream",
          "name": "stdout",
          "text": [
            "Finished Epoch 8 || Run Time:    1.2 | Load Time:    2.0 || F1:  60.13 | Prec:  77.24 | Rec:  49.22 || Ex/s: 631.48\n",
            "\n",
            "---------------------\n",
            "\n",
            "===>  TRAIN Epoch 9\n"
          ]
        },
        {
          "output_type": "stream",
          "name": "stderr",
          "text": [
            "0% [██████████████████████████████] 100% | ETA: 00:00:00\n",
            "Total time elapsed: 00:00:13\n"
          ]
        },
        {
          "output_type": "stream",
          "name": "stdout",
          "text": [
            "Finished Epoch 9 || Run Time:    7.5 | Load Time:    6.5 || F1: 100.00 | Prec: 100.00 | Rec: 100.00 || Ex/s: 440.76\n",
            "\n",
            "===>  EVAL Epoch 9\n"
          ]
        },
        {
          "output_type": "stream",
          "name": "stderr",
          "text": [
            "0% [█████████████] 100% | ETA: 00:00:00\n",
            "Total time elapsed: 00:00:03\n"
          ]
        },
        {
          "output_type": "stream",
          "name": "stdout",
          "text": [
            "Finished Epoch 9 || Run Time:    1.2 | Load Time:    2.0 || F1:  60.38 | Prec:  76.80 | Rec:  49.74 || Ex/s: 644.24\n",
            "\n",
            "---------------------\n",
            "\n",
            "===>  TRAIN Epoch 10\n"
          ]
        },
        {
          "output_type": "stream",
          "name": "stderr",
          "text": [
            "0% [██████████████████████████████] 100% | ETA: 00:00:00\n",
            "Total time elapsed: 00:00:13\n"
          ]
        },
        {
          "output_type": "stream",
          "name": "stdout",
          "text": [
            "Finished Epoch 10 || Run Time:    7.4 | Load Time:    6.5 || F1: 100.00 | Prec: 100.00 | Rec: 100.00 || Ex/s: 443.29\n",
            "\n",
            "===>  EVAL Epoch 10\n"
          ]
        },
        {
          "output_type": "stream",
          "name": "stderr",
          "text": [
            "0% [█████████████] 100% | ETA: 00:00:00\n",
            "Total time elapsed: 00:00:03\n"
          ]
        },
        {
          "output_type": "stream",
          "name": "stdout",
          "text": [
            "Finished Epoch 10 || Run Time:    1.2 | Load Time:    2.0 || F1:  60.51 | Prec:  78.51 | Rec:  49.22 || Ex/s: 639.97\n",
            "\n",
            "---------------------\n",
            "\n",
            "===>  TRAIN Epoch 11\n"
          ]
        },
        {
          "output_type": "stream",
          "name": "stderr",
          "text": [
            "0% [██████████████████████████████] 100% | ETA: 00:00:00\n",
            "Total time elapsed: 00:00:13\n"
          ]
        },
        {
          "output_type": "stream",
          "name": "stdout",
          "text": [
            "Finished Epoch 11 || Run Time:    7.4 | Load Time:    6.5 || F1: 100.00 | Prec: 100.00 | Rec: 100.00 || Ex/s: 442.03\n",
            "\n",
            "===>  EVAL Epoch 11\n"
          ]
        },
        {
          "output_type": "stream",
          "name": "stderr",
          "text": [
            "0% [█████████████] 100% | ETA: 00:00:00\n",
            "Total time elapsed: 00:00:03\n"
          ]
        },
        {
          "output_type": "stream",
          "name": "stdout",
          "text": [
            "Finished Epoch 11 || Run Time:    1.2 | Load Time:    2.0 || F1:  60.06 | Prec:  78.33 | Rec:  48.70 || Ex/s: 643.41\n",
            "\n",
            "---------------------\n",
            "\n",
            "===>  TRAIN Epoch 12\n"
          ]
        },
        {
          "output_type": "stream",
          "name": "stderr",
          "text": [
            "0% [██████████████████████████████] 100% | ETA: 00:00:00\n",
            "Total time elapsed: 00:00:13\n"
          ]
        },
        {
          "output_type": "stream",
          "name": "stdout",
          "text": [
            "Finished Epoch 12 || Run Time:    7.5 | Load Time:    6.5 || F1: 100.00 | Prec: 100.00 | Rec: 100.00 || Ex/s: 436.23\n",
            "\n",
            "===>  EVAL Epoch 12\n"
          ]
        },
        {
          "output_type": "stream",
          "name": "stderr",
          "text": [
            "0% [█████████████] 100% | ETA: 00:00:00\n",
            "Total time elapsed: 00:00:03\n"
          ]
        },
        {
          "output_type": "stream",
          "name": "stdout",
          "text": [
            "Finished Epoch 12 || Run Time:    1.2 | Load Time:    2.2 || F1:  59.87 | Prec:  77.69 | Rec:  48.70 || Ex/s: 599.65\n",
            "\n",
            "---------------------\n",
            "\n",
            "===>  TRAIN Epoch 13\n"
          ]
        },
        {
          "output_type": "stream",
          "name": "stderr",
          "text": [
            "0% [██████████████████████████████] 100% | ETA: 00:00:00\n",
            "Total time elapsed: 00:00:13\n"
          ]
        },
        {
          "output_type": "stream",
          "name": "stdout",
          "text": [
            "Finished Epoch 13 || Run Time:    7.5 | Load Time:    6.5 || F1: 100.00 | Prec: 100.00 | Rec: 100.00 || Ex/s: 439.90\n",
            "\n",
            "===>  EVAL Epoch 13\n"
          ]
        },
        {
          "output_type": "stream",
          "name": "stderr",
          "text": [
            "0% [█████████████] 100% | ETA: 00:00:00\n",
            "Total time elapsed: 00:00:03\n"
          ]
        },
        {
          "output_type": "stream",
          "name": "stdout",
          "text": [
            "Finished Epoch 13 || Run Time:    1.2 | Load Time:    2.0 || F1:  59.87 | Prec:  77.69 | Rec:  48.70 || Ex/s: 639.45\n",
            "\n",
            "---------------------\n",
            "\n",
            "===>  TRAIN Epoch 14\n"
          ]
        },
        {
          "output_type": "stream",
          "name": "stderr",
          "text": [
            "0% [██████████████████████████████] 100% | ETA: 00:00:00\n",
            "Total time elapsed: 00:00:13\n"
          ]
        },
        {
          "output_type": "stream",
          "name": "stdout",
          "text": [
            "Finished Epoch 14 || Run Time:    7.4 | Load Time:    6.5 || F1: 100.00 | Prec: 100.00 | Rec: 100.00 || Ex/s: 442.10\n",
            "\n",
            "===>  EVAL Epoch 14\n"
          ]
        },
        {
          "output_type": "stream",
          "name": "stderr",
          "text": [
            "0% [█████████████] 100% | ETA: 00:00:00\n",
            "Total time elapsed: 00:00:03\n"
          ]
        },
        {
          "output_type": "stream",
          "name": "stdout",
          "text": [
            "Finished Epoch 14 || Run Time:    1.2 | Load Time:    2.0 || F1:  59.87 | Prec:  77.69 | Rec:  48.70 || Ex/s: 645.05\n",
            "\n",
            "---------------------\n",
            "\n",
            "===>  TRAIN Epoch 15\n"
          ]
        },
        {
          "output_type": "stream",
          "name": "stderr",
          "text": [
            "0% [██████████████████████████████] 100% | ETA: 00:00:00\n",
            "Total time elapsed: 00:00:13\n"
          ]
        },
        {
          "output_type": "stream",
          "name": "stdout",
          "text": [
            "Finished Epoch 15 || Run Time:    7.4 | Load Time:    6.4 || F1: 100.00 | Prec: 100.00 | Rec: 100.00 || Ex/s: 443.45\n",
            "\n",
            "===>  EVAL Epoch 15\n"
          ]
        },
        {
          "output_type": "stream",
          "name": "stderr",
          "text": [
            "0% [█████████████] 100% | ETA: 00:00:00\n",
            "Total time elapsed: 00:00:03\n"
          ]
        },
        {
          "output_type": "stream",
          "name": "stdout",
          "text": [
            "Finished Epoch 15 || Run Time:    1.2 | Load Time:    2.0 || F1:  59.87 | Prec:  77.69 | Rec:  48.70 || Ex/s: 643.03\n",
            "\n",
            "---------------------\n",
            "\n",
            "Loading best model...\n",
            "Training done.\n"
          ]
        },
        {
          "output_type": "execute_result",
          "data": {
            "text/plain": [
              "tensor(60.5678, device='cuda:0')"
            ]
          },
          "metadata": {},
          "execution_count": 13
        }
      ],
      "source": [
        "model.run_train(\n",
        "    train,\n",
        "    validation,\n",
        "    epochs=15,\n",
        "    batch_size=32,\n",
        "    best_save_path='rnn_model.pth',\n",
        "    pos_neg_ratio=3)"
      ]
    },
    {
      "cell_type": "code",
      "execution_count": 14,
      "metadata": {
        "id": "i-fh3ga26BTI",
        "colab": {
          "base_uri": "https://localhost:8080/"
        },
        "outputId": "64446c7e-fa14-4faf-9209-3a0ef868e4a6"
      },
      "outputs": [
        {
          "output_type": "stream",
          "name": "stdout",
          "text": [
            "===>  EVAL Epoch 6\n"
          ]
        },
        {
          "output_type": "stream",
          "name": "stderr",
          "text": [
            "/usr/local/lib/python3.7/dist-packages/torch/nn/modules/module.py:949: UserWarning: Using non-full backward hooks on a Module that does not take as input a single Tensor or a tuple of Tensors is deprecated and will be removed in future versions. This hook will be missing some of the grad_input. Please use register_full_backward_hook to get the documented behavior.\n",
            "  warnings.warn(\"Using non-full backward hooks on a Module that does not take as input a \"\n",
            "/usr/local/lib/python3.7/dist-packages/torch/nn/modules/module.py:939: UserWarning: Using non-full backward hooks on a Module that does not return a single Tensor or a tuple of Tensors is deprecated and will be removed in future versions. This hook will be missing some of the grad_output. Please use register_full_backward_hook to get the documented behavior.\n",
            "  warnings.warn(\"Using non-full backward hooks on a Module that does not return a \"\n",
            "/usr/local/lib/python3.7/dist-packages/torch/nn/modules/module.py:974: UserWarning: Using a non-full backward hook when the forward contains multiple autograd Nodes is deprecated and will be removed in future versions. This hook will be missing some grad_input. Please use register_full_backward_hook to get the documented behavior.\n",
            "  warnings.warn(\"Using a non-full backward hook when the forward contains multiple autograd Nodes \"\n",
            "0% [█████████████] 100% | ETA: 00:00:00\n",
            "Total time elapsed: 00:00:03\n"
          ]
        },
        {
          "output_type": "stream",
          "name": "stdout",
          "text": [
            "Finished Epoch 6 || Run Time:    1.2 | Load Time:    2.1 || F1:  60.00 | Prec:  75.59 | Rec:  49.74 || Ex/s: 635.45\n",
            "\n"
          ]
        },
        {
          "output_type": "execute_result",
          "data": {
            "text/plain": [
              "tensor(60.0000, device='cuda:0')"
            ]
          },
          "metadata": {},
          "execution_count": 14
        }
      ],
      "source": [
        "# Compute F1 on test set\n",
        "model.run_eval(test)"
      ]
    },
    {
      "cell_type": "markdown",
      "metadata": {
        "id": "aHsurHMd6BTJ"
      },
      "source": [
        "#### TEXTUAL"
      ]
    },
    {
      "cell_type": "markdown",
      "metadata": {
        "id": "k3fxGhmL6qjr"
      },
      "source": [
        "##### Abt-Buy"
      ]
    },
    {
      "cell_type": "code",
      "execution_count": 11,
      "metadata": {
        "id": "Wv4spd7L6qjs",
        "colab": {
          "base_uri": "https://localhost:8080/"
        },
        "outputId": "0712b49a-b786-4abf-f225-84ac1b1ba617"
      },
      "outputs": [
        {
          "output_type": "stream",
          "name": "stderr",
          "text": [
            "WARNING:deepmatcher.data.dataset:Rebuilding data cache because: ['Data file list has changed.', 'One or more data files have been modified.']\n",
            "\n",
            "Reading and processing data from \"/content/IC/datasesErros/ADirty_90_3_5/Textual/Abt-Buy/joined_train.csv\"\n",
            "0% [############################# ] 100% | ETA: 00:00:00\n",
            "Reading and processing data from \"/content/IC/datasesErros/ADirty_90_3_5/Textual/Abt-Buy/joined_valid.csv\"\n",
            "0% [############################# ] 100% | ETA: 00:00:00\n",
            "Reading and processing data from \"/content/IC/datasesErros/ADirty_90_3_5/Textual/Abt-Buy/joined_test.csv\"\n",
            "0% [############################# ] 100% | ETA: 00:00:00Warning : `load_model` does not return WordVectorModel or SupervisedModel any more, but a `FastText` object which is very similar.\n",
            "\n",
            "Building vocabulary\n",
            "0% [######] 100% | ETA: 00:00:00\n",
            "Total time elapsed: 00:00:00\n",
            "\n",
            "Computing principal components\n",
            "0% [######] 100% | ETA: 00:00:00\n",
            "Total time elapsed: 00:00:02\n"
          ]
        }
      ],
      "source": [
        "train, validation, test = dm.data.process(\n",
        "    path='/content/IC/datasesErros/ADirty_90_3_5/Textual/Abt-Buy/',\n",
        "    train='joined_train.csv',\n",
        "    validation='joined_valid.csv',\n",
        "    test='joined_test.csv')"
      ]
    },
    {
      "cell_type": "code",
      "execution_count": 12,
      "metadata": {
        "id": "mpf83bRy6qjt"
      },
      "outputs": [],
      "source": [
        "model = dm.MatchingModel(attr_summarizer='rnn')"
      ]
    },
    {
      "cell_type": "code",
      "execution_count": 13,
      "metadata": {
        "id": "_c0rrNjk6qjt",
        "colab": {
          "base_uri": "https://localhost:8080/"
        },
        "outputId": "83e17c60-b677-4fc2-dc8c-0c608b97352a"
      },
      "outputs": [
        {
          "output_type": "stream",
          "name": "stderr",
          "text": [
            "/usr/local/lib/python3.7/dist-packages/torch/nn/modules/module.py:949: UserWarning: Using non-full backward hooks on a Module that does not take as input a single Tensor or a tuple of Tensors is deprecated and will be removed in future versions. This hook will be missing some of the grad_input. Please use register_full_backward_hook to get the documented behavior.\n",
            "  warnings.warn(\"Using non-full backward hooks on a Module that does not take as input a \"\n",
            "/usr/local/lib/python3.7/dist-packages/torch/nn/modules/module.py:974: UserWarning: Using a non-full backward hook when the forward contains multiple autograd Nodes is deprecated and will be removed in future versions. This hook will be missing some grad_input. Please use register_full_backward_hook to get the documented behavior.\n",
            "  warnings.warn(\"Using a non-full backward hook when the forward contains multiple autograd Nodes \"\n"
          ]
        },
        {
          "output_type": "stream",
          "name": "stdout",
          "text": [
            "* Number of trainable parameters: 1762802\n",
            "===>  TRAIN Epoch 1\n"
          ]
        },
        {
          "output_type": "stream",
          "name": "stderr",
          "text": [
            "/usr/local/lib/python3.7/dist-packages/torch/nn/modules/module.py:939: UserWarning: Using non-full backward hooks on a Module that does not return a single Tensor or a tuple of Tensors is deprecated and will be removed in future versions. This hook will be missing some of the grad_output. Please use register_full_backward_hook to get the documented behavior.\n",
            "  warnings.warn(\"Using non-full backward hooks on a Module that does not return a \"\n",
            "/usr/local/lib/python3.7/dist-packages/torch/nn/functional.py:2742: UserWarning: reduction: 'mean' divides the total loss by both the batch size and the support size.'batchmean' divides only by the batch size, and aligns with the KL div math definition.'mean' will be changed to behave the same as 'batchmean' in the next major release.\n",
            "  \"reduction: 'mean' divides the total loss by both the batch size and the support size.\"\n",
            "0% [██████████████████████████████] 100% | ETA: 00:00:00\n",
            "Total time elapsed: 00:00:19\n"
          ]
        },
        {
          "output_type": "stream",
          "name": "stdout",
          "text": [
            "Finished Epoch 1 || Run Time:    7.5 | Load Time:   12.4 || F1:  15.54 | Prec:  25.37 | Rec:  11.20 || Ex/s: 288.85\n",
            "\n",
            "===>  EVAL Epoch 1\n"
          ]
        },
        {
          "output_type": "stream",
          "name": "stderr",
          "text": [
            "0% [████████████] 100% | ETA: 00:00:00\n",
            "Total time elapsed: 00:00:03\n"
          ]
        },
        {
          "output_type": "stream",
          "name": "stdout",
          "text": [
            "Finished Epoch 1 || Run Time:    0.9 | Load Time:    3.1 || F1:  29.23 | Prec:  28.00 | Rec:  30.58 || Ex/s: 484.44\n",
            "\n",
            "* Best F1: tensor(29.2343, device='cuda:0')\n",
            "Saving best model...\n",
            "Done.\n",
            "---------------------\n",
            "\n",
            "===>  TRAIN Epoch 2\n"
          ]
        },
        {
          "output_type": "stream",
          "name": "stderr",
          "text": [
            "0% [██████████████████████████████] 100% | ETA: 00:00:00\n",
            "Total time elapsed: 00:00:17\n"
          ]
        },
        {
          "output_type": "stream",
          "name": "stdout",
          "text": [
            "Finished Epoch 2 || Run Time:    6.6 | Load Time:   10.6 || F1:  39.21 | Prec:  39.97 | Rec:  38.47 || Ex/s: 334.14\n",
            "\n",
            "===>  EVAL Epoch 2\n"
          ]
        },
        {
          "output_type": "stream",
          "name": "stderr",
          "text": [
            "0% [████████████] 100% | ETA: 00:00:00\n",
            "Total time elapsed: 00:00:03\n"
          ]
        },
        {
          "output_type": "stream",
          "name": "stdout",
          "text": [
            "Finished Epoch 2 || Run Time:    0.9 | Load Time:    3.0 || F1:  36.29 | Prec:  32.09 | Rec:  41.75 || Ex/s: 488.09\n",
            "\n",
            "* Best F1: tensor(36.2869, device='cuda:0')\n",
            "Saving best model...\n",
            "Done.\n",
            "---------------------\n",
            "\n",
            "===>  TRAIN Epoch 3\n"
          ]
        },
        {
          "output_type": "stream",
          "name": "stderr",
          "text": [
            "0% [██████████████████████████████] 100% | ETA: 00:00:00\n",
            "Total time elapsed: 00:00:16\n"
          ]
        },
        {
          "output_type": "stream",
          "name": "stdout",
          "text": [
            "Finished Epoch 3 || Run Time:    6.4 | Load Time:   10.3 || F1:  61.52 | Prec:  53.13 | Rec:  73.05 || Ex/s: 344.26\n",
            "\n",
            "===>  EVAL Epoch 3\n"
          ]
        },
        {
          "output_type": "stream",
          "name": "stderr",
          "text": [
            "0% [████████████] 100% | ETA: 00:00:00\n",
            "Total time elapsed: 00:00:03\n"
          ]
        },
        {
          "output_type": "stream",
          "name": "stdout",
          "text": [
            "Finished Epoch 3 || Run Time:    0.9 | Load Time:    3.0 || F1:  34.32 | Prec:  32.47 | Rec:  36.41 || Ex/s: 488.72\n",
            "\n",
            "---------------------\n",
            "\n",
            "===>  TRAIN Epoch 4\n"
          ]
        },
        {
          "output_type": "stream",
          "name": "stderr",
          "text": [
            "0% [██████████████████████████████] 100% | ETA: 00:00:00\n",
            "Total time elapsed: 00:00:16\n"
          ]
        },
        {
          "output_type": "stream",
          "name": "stdout",
          "text": [
            "Finished Epoch 4 || Run Time:    6.4 | Load Time:   10.3 || F1:  77.10 | Prec:  68.12 | Rec:  88.80 || Ex/s: 344.97\n",
            "\n",
            "===>  EVAL Epoch 4\n"
          ]
        },
        {
          "output_type": "stream",
          "name": "stderr",
          "text": [
            "0% [████████████] 100% | ETA: 00:00:00\n",
            "Total time elapsed: 00:00:03\n"
          ]
        },
        {
          "output_type": "stream",
          "name": "stdout",
          "text": [
            "Finished Epoch 4 || Run Time:    0.9 | Load Time:    3.1 || F1:  32.35 | Prec:  32.67 | Rec:  32.04 || Ex/s: 485.35\n",
            "\n",
            "---------------------\n",
            "\n",
            "===>  TRAIN Epoch 5\n"
          ]
        },
        {
          "output_type": "stream",
          "name": "stderr",
          "text": [
            "0% [██████████████████████████████] 100% | ETA: 00:00:00\n",
            "Total time elapsed: 00:00:16\n"
          ]
        },
        {
          "output_type": "stream",
          "name": "stdout",
          "text": [
            "Finished Epoch 5 || Run Time:    6.4 | Load Time:   10.2 || F1:  88.65 | Prec:  83.50 | Rec:  94.48 || Ex/s: 346.10\n",
            "\n",
            "===>  EVAL Epoch 5\n"
          ]
        },
        {
          "output_type": "stream",
          "name": "stderr",
          "text": [
            "0% [████████████] 100% | ETA: 00:00:00\n",
            "Total time elapsed: 00:00:04\n"
          ]
        },
        {
          "output_type": "stream",
          "name": "stdout",
          "text": [
            "Finished Epoch 5 || Run Time:    0.9 | Load Time:    3.2 || F1:  29.10 | Prec:  27.75 | Rec:  30.58 || Ex/s: 473.90\n",
            "\n",
            "---------------------\n",
            "\n",
            "===>  TRAIN Epoch 6\n"
          ]
        },
        {
          "output_type": "stream",
          "name": "stderr",
          "text": [
            "0% [██████████████████████████████] 100% | ETA: 00:00:00\n",
            "Total time elapsed: 00:00:16\n"
          ]
        },
        {
          "output_type": "stream",
          "name": "stdout",
          "text": [
            "Finished Epoch 6 || Run Time:    6.4 | Load Time:   10.2 || F1:  94.82 | Prec:  93.11 | Rec:  96.59 || Ex/s: 345.50\n",
            "\n",
            "===>  EVAL Epoch 6\n"
          ]
        },
        {
          "output_type": "stream",
          "name": "stderr",
          "text": [
            "0% [████████████] 100% | ETA: 00:00:00\n",
            "Total time elapsed: 00:00:04\n"
          ]
        },
        {
          "output_type": "stream",
          "name": "stdout",
          "text": [
            "Finished Epoch 6 || Run Time:    1.0 | Load Time:    3.5 || F1:  31.36 | Prec:  27.82 | Rec:  35.92 || Ex/s: 428.42\n",
            "\n",
            "---------------------\n",
            "\n",
            "===>  TRAIN Epoch 7\n"
          ]
        },
        {
          "output_type": "stream",
          "name": "stderr",
          "text": [
            "0% [██████████████████████████████] 100% | ETA: 00:00:00\n",
            "Total time elapsed: 00:00:16\n"
          ]
        },
        {
          "output_type": "stream",
          "name": "stdout",
          "text": [
            "Finished Epoch 7 || Run Time:    6.5 | Load Time:   10.3 || F1:  97.51 | Prec:  96.50 | Rec:  98.54 || Ex/s: 340.59\n",
            "\n",
            "===>  EVAL Epoch 7\n"
          ]
        },
        {
          "output_type": "stream",
          "name": "stderr",
          "text": [
            "0% [████████████] 100% | ETA: 00:00:00\n",
            "Total time elapsed: 00:00:04\n"
          ]
        },
        {
          "output_type": "stream",
          "name": "stdout",
          "text": [
            "Finished Epoch 7 || Run Time:    0.9 | Load Time:    3.1 || F1:  27.82 | Prec:  30.29 | Rec:  25.73 || Ex/s: 476.39\n",
            "\n",
            "---------------------\n",
            "\n",
            "===>  TRAIN Epoch 8\n"
          ]
        },
        {
          "output_type": "stream",
          "name": "stderr",
          "text": [
            "0% [██████████████████████████████] 100% | ETA: 00:00:00\n",
            "Total time elapsed: 00:00:17\n"
          ]
        },
        {
          "output_type": "stream",
          "name": "stdout",
          "text": [
            "Finished Epoch 8 || Run Time:    6.6 | Load Time:   10.5 || F1:  98.71 | Prec:  98.39 | Rec:  99.03 || Ex/s: 336.68\n",
            "\n",
            "===>  EVAL Epoch 8\n"
          ]
        },
        {
          "output_type": "stream",
          "name": "stderr",
          "text": [
            "0% [████████████] 100% | ETA: 00:00:00\n",
            "Total time elapsed: 00:00:03\n"
          ]
        },
        {
          "output_type": "stream",
          "name": "stdout",
          "text": [
            "Finished Epoch 8 || Run Time:    0.9 | Load Time:    3.1 || F1:  25.81 | Prec:  32.59 | Rec:  21.36 || Ex/s: 482.72\n",
            "\n",
            "---------------------\n",
            "\n",
            "===>  TRAIN Epoch 9\n"
          ]
        },
        {
          "output_type": "stream",
          "name": "stderr",
          "text": [
            "0% [██████████████████████████████] 100% | ETA: 00:00:00\n",
            "Total time elapsed: 00:00:16\n"
          ]
        },
        {
          "output_type": "stream",
          "name": "stdout",
          "text": [
            "Finished Epoch 9 || Run Time:    6.5 | Load Time:   10.3 || F1:  99.51 | Prec:  99.51 | Rec:  99.51 || Ex/s: 340.14\n",
            "\n",
            "===>  EVAL Epoch 9\n"
          ]
        },
        {
          "output_type": "stream",
          "name": "stderr",
          "text": [
            "0% [████████████] 100% | ETA: 00:00:00\n",
            "Total time elapsed: 00:00:04\n"
          ]
        },
        {
          "output_type": "stream",
          "name": "stdout",
          "text": [
            "Finished Epoch 9 || Run Time:    0.9 | Load Time:    3.1 || F1:  25.43 | Prec:  31.43 | Rec:  21.36 || Ex/s: 477.25\n",
            "\n",
            "---------------------\n",
            "\n",
            "===>  TRAIN Epoch 10\n"
          ]
        },
        {
          "output_type": "stream",
          "name": "stderr",
          "text": [
            "0% [██████████████████████████████] 100% | ETA: 00:00:00\n",
            "Total time elapsed: 00:00:16\n"
          ]
        },
        {
          "output_type": "stream",
          "name": "stdout",
          "text": [
            "Finished Epoch 10 || Run Time:    6.5 | Load Time:   10.3 || F1:  99.59 | Prec:  99.51 | Rec:  99.68 || Ex/s: 342.88\n",
            "\n",
            "===>  EVAL Epoch 10\n"
          ]
        },
        {
          "output_type": "stream",
          "name": "stderr",
          "text": [
            "0% [████████████] 100% | ETA: 00:00:00\n",
            "Total time elapsed: 00:00:03\n"
          ]
        },
        {
          "output_type": "stream",
          "name": "stdout",
          "text": [
            "Finished Epoch 10 || Run Time:    0.9 | Load Time:    3.1 || F1:  25.37 | Prec:  32.33 | Rec:  20.87 || Ex/s: 485.36\n",
            "\n",
            "---------------------\n",
            "\n",
            "===>  TRAIN Epoch 11\n"
          ]
        },
        {
          "output_type": "stream",
          "name": "stderr",
          "text": [
            "0% [██████████████████████████████] 100% | ETA: 00:00:00\n",
            "Total time elapsed: 00:00:17\n"
          ]
        },
        {
          "output_type": "stream",
          "name": "stdout",
          "text": [
            "Finished Epoch 11 || Run Time:    6.5 | Load Time:   10.6 || F1:  99.59 | Prec:  99.51 | Rec:  99.68 || Ex/s: 334.95\n",
            "\n",
            "===>  EVAL Epoch 11\n"
          ]
        },
        {
          "output_type": "stream",
          "name": "stderr",
          "text": [
            "0% [████████████] 100% | ETA: 00:00:00\n",
            "Total time elapsed: 00:00:03\n"
          ]
        },
        {
          "output_type": "stream",
          "name": "stdout",
          "text": [
            "Finished Epoch 11 || Run Time:    0.9 | Load Time:    3.0 || F1:  25.07 | Prec:  32.56 | Rec:  20.39 || Ex/s: 486.44\n",
            "\n",
            "---------------------\n",
            "\n",
            "===>  TRAIN Epoch 12\n"
          ]
        },
        {
          "output_type": "stream",
          "name": "stderr",
          "text": [
            "0% [██████████████████████████████] 100% | ETA: 00:00:00\n",
            "Total time elapsed: 00:00:16\n"
          ]
        },
        {
          "output_type": "stream",
          "name": "stdout",
          "text": [
            "Finished Epoch 12 || Run Time:    6.4 | Load Time:   10.3 || F1:  99.68 | Prec:  99.51 | Rec:  99.84 || Ex/s: 344.43\n",
            "\n",
            "===>  EVAL Epoch 12\n"
          ]
        },
        {
          "output_type": "stream",
          "name": "stderr",
          "text": [
            "0% [████████████] 100% | ETA: 00:00:00\n",
            "Total time elapsed: 00:00:03\n"
          ]
        },
        {
          "output_type": "stream",
          "name": "stdout",
          "text": [
            "Finished Epoch 12 || Run Time:    0.9 | Load Time:    3.1 || F1:  24.54 | Prec:  33.33 | Rec:  19.42 || Ex/s: 485.30\n",
            "\n",
            "---------------------\n",
            "\n",
            "===>  TRAIN Epoch 13\n"
          ]
        },
        {
          "output_type": "stream",
          "name": "stderr",
          "text": [
            "0% [██████████████████████████████] 100% | ETA: 00:00:00\n",
            "Total time elapsed: 00:00:16\n"
          ]
        },
        {
          "output_type": "stream",
          "name": "stdout",
          "text": [
            "Finished Epoch 13 || Run Time:    6.4 | Load Time:   10.3 || F1:  99.76 | Prec:  99.68 | Rec:  99.84 || Ex/s: 344.29\n",
            "\n",
            "===>  EVAL Epoch 13\n"
          ]
        },
        {
          "output_type": "stream",
          "name": "stderr",
          "text": [
            "0% [████████████] 100% | ETA: 00:00:00\n",
            "Total time elapsed: 00:00:03\n"
          ]
        },
        {
          "output_type": "stream",
          "name": "stdout",
          "text": [
            "Finished Epoch 13 || Run Time:    0.9 | Load Time:    3.1 || F1:  23.97 | Prec:  34.23 | Rec:  18.45 || Ex/s: 486.47\n",
            "\n",
            "---------------------\n",
            "\n",
            "===>  TRAIN Epoch 14\n"
          ]
        },
        {
          "output_type": "stream",
          "name": "stderr",
          "text": [
            "0% [██████████████████████████████] 100% | ETA: 00:00:00\n",
            "Total time elapsed: 00:00:16\n"
          ]
        },
        {
          "output_type": "stream",
          "name": "stdout",
          "text": [
            "Finished Epoch 14 || Run Time:    6.4 | Load Time:   10.3 || F1:  99.76 | Prec:  99.68 | Rec:  99.84 || Ex/s: 345.51\n",
            "\n",
            "===>  EVAL Epoch 14\n"
          ]
        },
        {
          "output_type": "stream",
          "name": "stderr",
          "text": [
            "0% [████████████] 100% | ETA: 00:00:00\n",
            "Total time elapsed: 00:00:03\n"
          ]
        },
        {
          "output_type": "stream",
          "name": "stdout",
          "text": [
            "Finished Epoch 14 || Run Time:    0.9 | Load Time:    3.1 || F1:  24.20 | Prec:  35.19 | Rec:  18.45 || Ex/s: 487.10\n",
            "\n",
            "---------------------\n",
            "\n",
            "===>  TRAIN Epoch 15\n"
          ]
        },
        {
          "output_type": "stream",
          "name": "stderr",
          "text": [
            "0% [██████████████████████████████] 100% | ETA: 00:00:00\n",
            "Total time elapsed: 00:00:16\n"
          ]
        },
        {
          "output_type": "stream",
          "name": "stdout",
          "text": [
            "Finished Epoch 15 || Run Time:    6.4 | Load Time:   10.3 || F1:  99.84 | Prec:  99.68 | Rec: 100.00 || Ex/s: 344.89\n",
            "\n",
            "===>  EVAL Epoch 15\n"
          ]
        },
        {
          "output_type": "stream",
          "name": "stderr",
          "text": [
            "0% [████████████] 100% | ETA: 00:00:00\n",
            "Total time elapsed: 00:00:03\n"
          ]
        },
        {
          "output_type": "stream",
          "name": "stdout",
          "text": [
            "Finished Epoch 15 || Run Time:    0.9 | Load Time:    3.1 || F1:  23.87 | Prec:  35.58 | Rec:  17.96 || Ex/s: 482.43\n",
            "\n",
            "---------------------\n",
            "\n",
            "Loading best model...\n",
            "Training done.\n"
          ]
        },
        {
          "output_type": "execute_result",
          "data": {
            "text/plain": [
              "tensor(36.2869, device='cuda:0')"
            ]
          },
          "metadata": {},
          "execution_count": 13
        }
      ],
      "source": [
        "model.run_train(\n",
        "    train,\n",
        "    validation,\n",
        "    epochs=15,\n",
        "    batch_size=32,\n",
        "    best_save_path='rnn_model.pth',\n",
        "    pos_neg_ratio=3)"
      ]
    },
    {
      "cell_type": "code",
      "execution_count": 14,
      "metadata": {
        "id": "Km4RlipY6qju",
        "colab": {
          "base_uri": "https://localhost:8080/"
        },
        "outputId": "b8ebeed0-2e56-45e3-f303-85f563827124"
      },
      "outputs": [
        {
          "output_type": "stream",
          "name": "stdout",
          "text": [
            "===>  EVAL Epoch 2\n"
          ]
        },
        {
          "output_type": "stream",
          "name": "stderr",
          "text": [
            "/usr/local/lib/python3.7/dist-packages/torch/nn/modules/module.py:949: UserWarning: Using non-full backward hooks on a Module that does not take as input a single Tensor or a tuple of Tensors is deprecated and will be removed in future versions. This hook will be missing some of the grad_input. Please use register_full_backward_hook to get the documented behavior.\n",
            "  warnings.warn(\"Using non-full backward hooks on a Module that does not take as input a \"\n",
            "/usr/local/lib/python3.7/dist-packages/torch/nn/modules/module.py:939: UserWarning: Using non-full backward hooks on a Module that does not return a single Tensor or a tuple of Tensors is deprecated and will be removed in future versions. This hook will be missing some of the grad_output. Please use register_full_backward_hook to get the documented behavior.\n",
            "  warnings.warn(\"Using non-full backward hooks on a Module that does not return a \"\n",
            "/usr/local/lib/python3.7/dist-packages/torch/nn/modules/module.py:974: UserWarning: Using a non-full backward hook when the forward contains multiple autograd Nodes is deprecated and will be removed in future versions. This hook will be missing some grad_input. Please use register_full_backward_hook to get the documented behavior.\n",
            "  warnings.warn(\"Using a non-full backward hook when the forward contains multiple autograd Nodes \"\n",
            "0% [████████████] 100% | ETA: 00:00:00\n",
            "Total time elapsed: 00:00:04\n"
          ]
        },
        {
          "output_type": "stream",
          "name": "stdout",
          "text": [
            "Finished Epoch 2 || Run Time:    1.0 | Load Time:    3.2 || F1:  32.15 | Prec:  28.21 | Rec:  37.38 || Ex/s: 451.92\n",
            "\n"
          ]
        },
        {
          "output_type": "execute_result",
          "data": {
            "text/plain": [
              "tensor(32.1503, device='cuda:0')"
            ]
          },
          "metadata": {},
          "execution_count": 14
        }
      ],
      "source": [
        "# Compute F1 on test set\n",
        "model.run_eval(test)"
      ]
    },
    {
      "cell_type": "markdown",
      "metadata": {
        "id": "UaPOwiMG6zMO"
      },
      "source": [
        "#### DIRTY"
      ]
    },
    {
      "cell_type": "markdown",
      "metadata": {
        "id": "X2m2jjkE7Hrp"
      },
      "source": [
        "##### DBLP-ACM"
      ]
    },
    {
      "cell_type": "code",
      "execution_count": 11,
      "metadata": {
        "id": "iqhh3a5c7Hrr"
      },
      "outputs": [],
      "source": [
        "train, validation, test = dm.data.process(\n",
        "    path='/content/IC/datasesErros/ADirty_90_3_5/Dirty/DBLP-ACM/',\n",
        "    train='joined_train.csv',\n",
        "    validation='joined_valid.csv',\n",
        "    test='joined_test.csv')"
      ]
    },
    {
      "cell_type": "code",
      "execution_count": 12,
      "metadata": {
        "id": "SCdyMpZE7Hrr"
      },
      "outputs": [],
      "source": [
        "model = dm.MatchingModel(attr_summarizer='rnn')"
      ]
    },
    {
      "cell_type": "code",
      "execution_count": 13,
      "metadata": {
        "id": "ySYX4lEM7Hrs",
        "colab": {
          "base_uri": "https://localhost:8080/"
        },
        "outputId": "d1d15993-2d0f-42d4-cecc-c39830b73859"
      },
      "outputs": [
        {
          "output_type": "stream",
          "name": "stderr",
          "text": [
            "/usr/local/lib/python3.7/dist-packages/torch/nn/modules/module.py:949: UserWarning: Using non-full backward hooks on a Module that does not take as input a single Tensor or a tuple of Tensors is deprecated and will be removed in future versions. This hook will be missing some of the grad_input. Please use register_full_backward_hook to get the documented behavior.\n",
            "  warnings.warn(\"Using non-full backward hooks on a Module that does not take as input a \"\n",
            "/usr/local/lib/python3.7/dist-packages/torch/nn/modules/module.py:974: UserWarning: Using a non-full backward hook when the forward contains multiple autograd Nodes is deprecated and will be removed in future versions. This hook will be missing some grad_input. Please use register_full_backward_hook to get the documented behavior.\n",
            "  warnings.warn(\"Using a non-full backward hook when the forward contains multiple autograd Nodes \"\n"
          ]
        },
        {
          "output_type": "stream",
          "name": "stdout",
          "text": [
            "* Number of trainable parameters: 2169602\n",
            "===>  TRAIN Epoch 1\n"
          ]
        },
        {
          "output_type": "stream",
          "name": "stderr",
          "text": [
            "/usr/local/lib/python3.7/dist-packages/torch/nn/modules/module.py:939: UserWarning: Using non-full backward hooks on a Module that does not return a single Tensor or a tuple of Tensors is deprecated and will be removed in future versions. This hook will be missing some of the grad_output. Please use register_full_backward_hook to get the documented behavior.\n",
            "  warnings.warn(\"Using non-full backward hooks on a Module that does not return a \"\n",
            "/usr/local/lib/python3.7/dist-packages/torch/nn/functional.py:2742: UserWarning: reduction: 'mean' divides the total loss by both the batch size and the support size.'batchmean' divides only by the batch size, and aligns with the KL div math definition.'mean' will be changed to behave the same as 'batchmean' in the next major release.\n",
            "  \"reduction: 'mean' divides the total loss by both the batch size and the support size.\"\n",
            "0% [██████████████████████████████] 100% | ETA: 00:00:00\n",
            "Total time elapsed: 00:00:26\n"
          ]
        },
        {
          "output_type": "stream",
          "name": "stdout",
          "text": [
            "Finished Epoch 1 || Run Time:   10.7 | Load Time:   15.8 || F1:  64.49 | Prec:  55.11 | Rec:  77.70 || Ex/s: 280.24\n",
            "\n",
            "===>  EVAL Epoch 1\n"
          ]
        },
        {
          "output_type": "stream",
          "name": "stderr",
          "text": [
            "0% [███████████████] 100% | ETA: 00:00:00\n",
            "Total time elapsed: 00:00:05\n"
          ]
        },
        {
          "output_type": "stream",
          "name": "stdout",
          "text": [
            "Finished Epoch 1 || Run Time:    1.4 | Load Time:    4.4 || F1:  82.83 | Prec:  81.48 | Rec:  84.23 || Ex/s: 428.59\n",
            "\n",
            "* Best F1: tensor(82.8350, device='cuda:0')\n",
            "Saving best model...\n",
            "Done.\n",
            "---------------------\n",
            "\n",
            "===>  TRAIN Epoch 2\n"
          ]
        },
        {
          "output_type": "stream",
          "name": "stderr",
          "text": [
            "0% [██████████████████████████████] 100% | ETA: 00:00:00\n",
            "Total time elapsed: 00:00:23\n"
          ]
        },
        {
          "output_type": "stream",
          "name": "stdout",
          "text": [
            "Finished Epoch 2 || Run Time:    9.8 | Load Time:   14.3 || F1:  85.41 | Prec:  78.68 | Rec:  93.39 || Ex/s: 306.94\n",
            "\n",
            "===>  EVAL Epoch 2\n"
          ]
        },
        {
          "output_type": "stream",
          "name": "stderr",
          "text": [
            "0% [███████████████] 100% | ETA: 00:00:00\n",
            "Total time elapsed: 00:00:05\n"
          ]
        },
        {
          "output_type": "stream",
          "name": "stdout",
          "text": [
            "Finished Epoch 2 || Run Time:    1.4 | Load Time:    4.4 || F1:  84.89 | Prec:  80.44 | Rec:  89.86 || Ex/s: 425.29\n",
            "\n",
            "* Best F1: tensor(84.8936, device='cuda:0')\n",
            "Saving best model...\n",
            "Done.\n",
            "---------------------\n",
            "\n",
            "===>  TRAIN Epoch 3\n"
          ]
        },
        {
          "output_type": "stream",
          "name": "stderr",
          "text": [
            "0% [██████████████████████████████] 100% | ETA: 00:00:00\n",
            "Total time elapsed: 00:00:23\n"
          ]
        },
        {
          "output_type": "stream",
          "name": "stdout",
          "text": [
            "Finished Epoch 3 || Run Time:    9.6 | Load Time:   14.1 || F1:  93.61 | Prec:  90.19 | Rec:  97.30 || Ex/s: 313.09\n",
            "\n",
            "===>  EVAL Epoch 3\n"
          ]
        },
        {
          "output_type": "stream",
          "name": "stderr",
          "text": [
            "0% [███████████████] 100% | ETA: 00:00:00\n",
            "Total time elapsed: 00:00:05\n"
          ]
        },
        {
          "output_type": "stream",
          "name": "stdout",
          "text": [
            "Finished Epoch 3 || Run Time:    1.4 | Load Time:    4.4 || F1:  81.15 | Prec:  70.55 | Rec:  95.50 || Ex/s: 422.42\n",
            "\n",
            "---------------------\n",
            "\n",
            "===>  TRAIN Epoch 4\n"
          ]
        },
        {
          "output_type": "stream",
          "name": "stderr",
          "text": [
            "0% [██████████████████████████████] 100% | ETA: 00:00:00\n",
            "Total time elapsed: 00:00:23\n"
          ]
        },
        {
          "output_type": "stream",
          "name": "stdout",
          "text": [
            "Finished Epoch 4 || Run Time:    9.5 | Load Time:   14.1 || F1:  96.72 | Prec:  95.00 | Rec:  98.50 || Ex/s: 313.21\n",
            "\n",
            "===>  EVAL Epoch 4\n"
          ]
        },
        {
          "output_type": "stream",
          "name": "stderr",
          "text": [
            "0% [███████████████] 100% | ETA: 00:00:00\n",
            "Total time elapsed: 00:00:05\n"
          ]
        },
        {
          "output_type": "stream",
          "name": "stdout",
          "text": [
            "Finished Epoch 4 || Run Time:    1.4 | Load Time:    4.4 || F1:  86.83 | Prec:  86.06 | Rec:  87.61 || Ex/s: 430.68\n",
            "\n",
            "* Best F1: tensor(86.8304, device='cuda:0')\n",
            "Saving best model...\n",
            "Done.\n",
            "---------------------\n",
            "\n",
            "===>  TRAIN Epoch 5\n"
          ]
        },
        {
          "output_type": "stream",
          "name": "stderr",
          "text": [
            "0% [██████████████████████████████] 100% | ETA: 00:00:00\n",
            "Total time elapsed: 00:00:23\n"
          ]
        },
        {
          "output_type": "stream",
          "name": "stdout",
          "text": [
            "Finished Epoch 5 || Run Time:    9.7 | Load Time:   14.4 || F1:  98.07 | Prec:  96.92 | Rec:  99.25 || Ex/s: 308.13\n",
            "\n",
            "===>  EVAL Epoch 5\n"
          ]
        },
        {
          "output_type": "stream",
          "name": "stderr",
          "text": [
            "0% [███████████████] 100% | ETA: 00:00:00\n",
            "Total time elapsed: 00:00:05\n"
          ]
        },
        {
          "output_type": "stream",
          "name": "stdout",
          "text": [
            "Finished Epoch 5 || Run Time:    1.4 | Load Time:    4.4 || F1:  87.10 | Prec:  85.31 | Rec:  88.96 || Ex/s: 428.63\n",
            "\n",
            "* Best F1: tensor(87.1003, device='cuda:0')\n",
            "Saving best model...\n",
            "Done.\n",
            "---------------------\n",
            "\n",
            "===>  TRAIN Epoch 6\n"
          ]
        },
        {
          "output_type": "stream",
          "name": "stderr",
          "text": [
            "0% [██████████████████████████████] 100% | ETA: 00:00:00\n",
            "Total time elapsed: 00:00:23\n"
          ]
        },
        {
          "output_type": "stream",
          "name": "stdout",
          "text": [
            "Finished Epoch 6 || Run Time:    9.4 | Load Time:   14.1 || F1:  99.14 | Prec:  98.73 | Rec:  99.55 || Ex/s: 315.20\n",
            "\n",
            "===>  EVAL Epoch 6\n"
          ]
        },
        {
          "output_type": "stream",
          "name": "stderr",
          "text": [
            "0% [███████████████] 100% | ETA: 00:00:00\n",
            "Total time elapsed: 00:00:05\n"
          ]
        },
        {
          "output_type": "stream",
          "name": "stdout",
          "text": [
            "Finished Epoch 6 || Run Time:    1.4 | Load Time:    4.4 || F1:  87.32 | Prec:  87.02 | Rec:  87.61 || Ex/s: 429.42\n",
            "\n",
            "* Best F1: tensor(87.3176, device='cuda:0')\n",
            "Saving best model...\n",
            "Done.\n",
            "---------------------\n",
            "\n",
            "===>  TRAIN Epoch 7\n"
          ]
        },
        {
          "output_type": "stream",
          "name": "stderr",
          "text": [
            "0% [██████████████████████████████] 100% | ETA: 00:00:00\n",
            "Total time elapsed: 00:00:23\n"
          ]
        },
        {
          "output_type": "stream",
          "name": "stdout",
          "text": [
            "Finished Epoch 7 || Run Time:    9.3 | Load Time:   14.0 || F1:  99.59 | Prec:  99.55 | Rec:  99.62 || Ex/s: 317.65\n",
            "\n",
            "===>  EVAL Epoch 7\n"
          ]
        },
        {
          "output_type": "stream",
          "name": "stderr",
          "text": [
            "0% [███████████████] 100% | ETA: 00:00:00\n",
            "Total time elapsed: 00:00:05\n"
          ]
        },
        {
          "output_type": "stream",
          "name": "stdout",
          "text": [
            "Finished Epoch 7 || Run Time:    1.4 | Load Time:    4.4 || F1:  87.54 | Prec:  87.25 | Rec:  87.84 || Ex/s: 430.85\n",
            "\n",
            "* Best F1: tensor(87.5421, device='cuda:0')\n",
            "Saving best model...\n",
            "Done.\n",
            "---------------------\n",
            "\n",
            "===>  TRAIN Epoch 8\n"
          ]
        },
        {
          "output_type": "stream",
          "name": "stderr",
          "text": [
            "0% [██████████████████████████████] 100% | ETA: 00:00:00\n",
            "Total time elapsed: 00:00:23\n"
          ]
        },
        {
          "output_type": "stream",
          "name": "stdout",
          "text": [
            "Finished Epoch 8 || Run Time:    9.5 | Load Time:   14.4 || F1:  99.77 | Prec:  99.85 | Rec:  99.70 || Ex/s: 310.42\n",
            "\n",
            "===>  EVAL Epoch 8\n"
          ]
        },
        {
          "output_type": "stream",
          "name": "stderr",
          "text": [
            "0% [███████████████] 100% | ETA: 00:00:00\n",
            "Total time elapsed: 00:00:05\n"
          ]
        },
        {
          "output_type": "stream",
          "name": "stdout",
          "text": [
            "Finished Epoch 8 || Run Time:    1.4 | Load Time:    4.4 || F1:  87.42 | Prec:  85.71 | Rec:  89.19 || Ex/s: 428.47\n",
            "\n",
            "---------------------\n",
            "\n",
            "===>  TRAIN Epoch 9\n"
          ]
        },
        {
          "output_type": "stream",
          "name": "stderr",
          "text": [
            "0% [██████████████████████████████] 100% | ETA: 00:00:00\n",
            "Total time elapsed: 00:00:23\n"
          ]
        },
        {
          "output_type": "stream",
          "name": "stdout",
          "text": [
            "Finished Epoch 9 || Run Time:    9.4 | Load Time:   14.1 || F1:  99.77 | Prec:  99.85 | Rec:  99.70 || Ex/s: 316.54\n",
            "\n",
            "===>  EVAL Epoch 9\n"
          ]
        },
        {
          "output_type": "stream",
          "name": "stderr",
          "text": [
            "0% [███████████████] 100% | ETA: 00:00:00\n",
            "Total time elapsed: 00:00:05\n"
          ]
        },
        {
          "output_type": "stream",
          "name": "stdout",
          "text": [
            "Finished Epoch 9 || Run Time:    1.4 | Load Time:    4.4 || F1:  87.21 | Prec:  86.15 | Rec:  88.29 || Ex/s: 430.32\n",
            "\n",
            "---------------------\n",
            "\n",
            "===>  TRAIN Epoch 10\n"
          ]
        },
        {
          "output_type": "stream",
          "name": "stderr",
          "text": [
            "0% [██████████████████████████████] 100% | ETA: 00:00:00\n",
            "Total time elapsed: 00:00:23\n"
          ]
        },
        {
          "output_type": "stream",
          "name": "stdout",
          "text": [
            "Finished Epoch 10 || Run Time:    9.6 | Load Time:   14.2 || F1:  99.85 | Prec:  99.85 | Rec:  99.85 || Ex/s: 311.61\n",
            "\n",
            "===>  EVAL Epoch 10\n"
          ]
        },
        {
          "output_type": "stream",
          "name": "stderr",
          "text": [
            "0% [███████████████] 100% | ETA: 00:00:00\n",
            "Total time elapsed: 00:00:05\n"
          ]
        },
        {
          "output_type": "stream",
          "name": "stdout",
          "text": [
            "Finished Epoch 10 || Run Time:    1.4 | Load Time:    4.4 || F1:  87.01 | Prec:  85.78 | Rec:  88.29 || Ex/s: 427.57\n",
            "\n",
            "---------------------\n",
            "\n",
            "===>  TRAIN Epoch 11\n"
          ]
        },
        {
          "output_type": "stream",
          "name": "stderr",
          "text": [
            "0% [██████████████████████████████] 100% | ETA: 00:00:00\n",
            "Total time elapsed: 00:00:23\n"
          ]
        },
        {
          "output_type": "stream",
          "name": "stdout",
          "text": [
            "Finished Epoch 11 || Run Time:    9.6 | Load Time:   14.4 || F1:  99.92 | Prec: 100.00 | Rec:  99.85 || Ex/s: 308.31\n",
            "\n",
            "===>  EVAL Epoch 11\n"
          ]
        },
        {
          "output_type": "stream",
          "name": "stderr",
          "text": [
            "0% [███████████████] 100% | ETA: 00:00:00\n",
            "Total time elapsed: 00:00:05\n"
          ]
        },
        {
          "output_type": "stream",
          "name": "stdout",
          "text": [
            "Finished Epoch 11 || Run Time:    1.5 | Load Time:    4.5 || F1:  86.95 | Prec:  85.43 | Rec:  88.51 || Ex/s: 413.09\n",
            "\n",
            "---------------------\n",
            "\n",
            "===>  TRAIN Epoch 12\n"
          ]
        },
        {
          "output_type": "stream",
          "name": "stderr",
          "text": [
            "0% [██████████████████████████████] 100% | ETA: 00:00:00\n",
            "Total time elapsed: 00:00:23\n"
          ]
        },
        {
          "output_type": "stream",
          "name": "stdout",
          "text": [
            "Finished Epoch 12 || Run Time:    9.5 | Load Time:   14.2 || F1:  99.96 | Prec: 100.00 | Rec:  99.92 || Ex/s: 313.10\n",
            "\n",
            "===>  EVAL Epoch 12\n"
          ]
        },
        {
          "output_type": "stream",
          "name": "stderr",
          "text": [
            "0% [███████████████] 100% | ETA: 00:00:00\n",
            "Total time elapsed: 00:00:05\n"
          ]
        },
        {
          "output_type": "stream",
          "name": "stdout",
          "text": [
            "Finished Epoch 12 || Run Time:    1.4 | Load Time:    4.4 || F1:  86.88 | Prec:  85.10 | Rec:  88.74 || Ex/s: 431.56\n",
            "\n",
            "---------------------\n",
            "\n",
            "===>  TRAIN Epoch 13\n"
          ]
        },
        {
          "output_type": "stream",
          "name": "stderr",
          "text": [
            "0% [██████████████████████████████] 100% | ETA: 00:00:00\n",
            "Total time elapsed: 00:00:23\n"
          ]
        },
        {
          "output_type": "stream",
          "name": "stdout",
          "text": [
            "Finished Epoch 13 || Run Time:    9.3 | Load Time:   14.0 || F1:  99.96 | Prec: 100.00 | Rec:  99.92 || Ex/s: 317.76\n",
            "\n",
            "===>  EVAL Epoch 13\n"
          ]
        },
        {
          "output_type": "stream",
          "name": "stderr",
          "text": [
            "0% [███████████████] 100% | ETA: 00:00:00\n",
            "Total time elapsed: 00:00:05\n"
          ]
        },
        {
          "output_type": "stream",
          "name": "stdout",
          "text": [
            "Finished Epoch 13 || Run Time:    1.3 | Load Time:    4.4 || F1:  86.88 | Prec:  85.10 | Rec:  88.74 || Ex/s: 432.18\n",
            "\n",
            "---------------------\n",
            "\n",
            "===>  TRAIN Epoch 14\n"
          ]
        },
        {
          "output_type": "stream",
          "name": "stderr",
          "text": [
            "0% [██████████████████████████████] 100% | ETA: 00:00:00\n",
            "Total time elapsed: 00:00:23\n"
          ]
        },
        {
          "output_type": "stream",
          "name": "stdout",
          "text": [
            "Finished Epoch 14 || Run Time:    9.4 | Load Time:   14.1 || F1:  99.96 | Prec: 100.00 | Rec:  99.92 || Ex/s: 315.35\n",
            "\n",
            "===>  EVAL Epoch 14\n"
          ]
        },
        {
          "output_type": "stream",
          "name": "stderr",
          "text": [
            "0% [███████████████] 100% | ETA: 00:00:00\n",
            "Total time elapsed: 00:00:05\n"
          ]
        },
        {
          "output_type": "stream",
          "name": "stdout",
          "text": [
            "Finished Epoch 14 || Run Time:    1.4 | Load Time:    4.6 || F1:  86.88 | Prec:  85.10 | Rec:  88.74 || Ex/s: 413.49\n",
            "\n",
            "---------------------\n",
            "\n",
            "===>  TRAIN Epoch 15\n"
          ]
        },
        {
          "output_type": "stream",
          "name": "stderr",
          "text": [
            "0% [██████████████████████████████] 100% | ETA: 00:00:00\n",
            "Total time elapsed: 00:00:23\n"
          ]
        },
        {
          "output_type": "stream",
          "name": "stdout",
          "text": [
            "Finished Epoch 15 || Run Time:    9.3 | Load Time:   14.2 || F1:  99.96 | Prec: 100.00 | Rec:  99.92 || Ex/s: 314.98\n",
            "\n",
            "===>  EVAL Epoch 15\n"
          ]
        },
        {
          "output_type": "stream",
          "name": "stderr",
          "text": [
            "0% [███████████████] 100% | ETA: 00:00:00\n",
            "Total time elapsed: 00:00:05\n"
          ]
        },
        {
          "output_type": "stream",
          "name": "stdout",
          "text": [
            "Finished Epoch 15 || Run Time:    1.4 | Load Time:    4.4 || F1:  86.88 | Prec:  85.10 | Rec:  88.74 || Ex/s: 431.23\n",
            "\n",
            "---------------------\n",
            "\n",
            "Loading best model...\n",
            "Training done.\n"
          ]
        },
        {
          "output_type": "execute_result",
          "data": {
            "text/plain": [
              "tensor(87.5421, device='cuda:0')"
            ]
          },
          "metadata": {},
          "execution_count": 13
        }
      ],
      "source": [
        "model.run_train(\n",
        "    train,\n",
        "    validation,\n",
        "    epochs=15,\n",
        "    batch_size=32,\n",
        "    best_save_path='rnn_model.pth',\n",
        "    pos_neg_ratio=3)"
      ]
    },
    {
      "cell_type": "code",
      "execution_count": 14,
      "metadata": {
        "id": "6ZcSXyZ47Hrs",
        "colab": {
          "base_uri": "https://localhost:8080/"
        },
        "outputId": "39f87945-d05e-4e39-aae9-a029faa7a74c"
      },
      "outputs": [
        {
          "output_type": "stream",
          "name": "stdout",
          "text": [
            "===>  EVAL Epoch 7\n"
          ]
        },
        {
          "output_type": "stream",
          "name": "stderr",
          "text": [
            "/usr/local/lib/python3.7/dist-packages/torch/nn/modules/module.py:949: UserWarning: Using non-full backward hooks on a Module that does not take as input a single Tensor or a tuple of Tensors is deprecated and will be removed in future versions. This hook will be missing some of the grad_input. Please use register_full_backward_hook to get the documented behavior.\n",
            "  warnings.warn(\"Using non-full backward hooks on a Module that does not take as input a \"\n",
            "/usr/local/lib/python3.7/dist-packages/torch/nn/modules/module.py:939: UserWarning: Using non-full backward hooks on a Module that does not return a single Tensor or a tuple of Tensors is deprecated and will be removed in future versions. This hook will be missing some of the grad_output. Please use register_full_backward_hook to get the documented behavior.\n",
            "  warnings.warn(\"Using non-full backward hooks on a Module that does not return a \"\n",
            "/usr/local/lib/python3.7/dist-packages/torch/nn/modules/module.py:974: UserWarning: Using a non-full backward hook when the forward contains multiple autograd Nodes is deprecated and will be removed in future versions. This hook will be missing some grad_input. Please use register_full_backward_hook to get the documented behavior.\n",
            "  warnings.warn(\"Using a non-full backward hook when the forward contains multiple autograd Nodes \"\n",
            "0% [███████████████] 100% | ETA: 00:00:00\n",
            "Total time elapsed: 00:00:05\n"
          ]
        },
        {
          "output_type": "stream",
          "name": "stdout",
          "text": [
            "Finished Epoch 7 || Run Time:    1.4 | Load Time:    4.4 || F1:  86.07 | Prec:  86.56 | Rec:  85.59 || Ex/s: 423.37\n",
            "\n"
          ]
        },
        {
          "output_type": "execute_result",
          "data": {
            "text/plain": [
              "tensor(86.0702, device='cuda:0')"
            ]
          },
          "metadata": {},
          "execution_count": 14
        }
      ],
      "source": [
        "# Compute F1 on test set\n",
        "model.run_eval(test)"
      ]
    },
    {
      "cell_type": "markdown",
      "metadata": {
        "id": "z3GacbuU7IlJ"
      },
      "source": [
        "##### DBLP-GoogleScholar"
      ]
    },
    {
      "cell_type": "code",
      "execution_count": 11,
      "metadata": {
        "id": "kbi6lSwK7IlK"
      },
      "outputs": [],
      "source": [
        "train, validation, test = dm.data.process(\n",
        "    path='/content/IC/datasesErros/ADirty_90_3_5/Dirty/DBLP-GoogleScholar//',\n",
        "    train='joined_train.csv',\n",
        "    validation='joined_valid.csv',\n",
        "    test='joined_test.csv')"
      ]
    },
    {
      "cell_type": "code",
      "execution_count": 12,
      "metadata": {
        "id": "-ejJQZDB7IlK"
      },
      "outputs": [],
      "source": [
        "model = dm.MatchingModel(attr_summarizer='rnn')"
      ]
    },
    {
      "cell_type": "code",
      "execution_count": 13,
      "metadata": {
        "id": "U0x9AtzJ7IlL",
        "colab": {
          "base_uri": "https://localhost:8080/"
        },
        "outputId": "e451c6c7-5d34-4500-f47f-4c3b84304bce"
      },
      "outputs": [
        {
          "output_type": "stream",
          "name": "stderr",
          "text": [
            "/usr/local/lib/python3.7/dist-packages/torch/nn/modules/module.py:949: UserWarning: Using non-full backward hooks on a Module that does not take as input a single Tensor or a tuple of Tensors is deprecated and will be removed in future versions. This hook will be missing some of the grad_input. Please use register_full_backward_hook to get the documented behavior.\n",
            "  warnings.warn(\"Using non-full backward hooks on a Module that does not take as input a \"\n",
            "/usr/local/lib/python3.7/dist-packages/torch/nn/modules/module.py:974: UserWarning: Using a non-full backward hook when the forward contains multiple autograd Nodes is deprecated and will be removed in future versions. This hook will be missing some grad_input. Please use register_full_backward_hook to get the documented behavior.\n",
            "  warnings.warn(\"Using a non-full backward hook when the forward contains multiple autograd Nodes \"\n"
          ]
        },
        {
          "output_type": "stream",
          "name": "stdout",
          "text": [
            "* Number of trainable parameters: 2169602\n",
            "===>  TRAIN Epoch 1\n"
          ]
        },
        {
          "output_type": "stream",
          "name": "stderr",
          "text": [
            "/usr/local/lib/python3.7/dist-packages/torch/nn/modules/module.py:939: UserWarning: Using non-full backward hooks on a Module that does not return a single Tensor or a tuple of Tensors is deprecated and will be removed in future versions. This hook will be missing some of the grad_output. Please use register_full_backward_hook to get the documented behavior.\n",
            "  warnings.warn(\"Using non-full backward hooks on a Module that does not return a \"\n",
            "/usr/local/lib/python3.7/dist-packages/torch/nn/functional.py:2742: UserWarning: reduction: 'mean' divides the total loss by both the batch size and the support size.'batchmean' divides only by the batch size, and aligns with the KL div math definition.'mean' will be changed to behave the same as 'batchmean' in the next major release.\n",
            "  \"reduction: 'mean' divides the total loss by both the batch size and the support size.\"\n",
            "0% [██████████████████████████████] 100% | ETA: 00:00:00\n",
            "Total time elapsed: 00:00:51\n"
          ]
        },
        {
          "output_type": "stream",
          "name": "stdout",
          "text": [
            "Finished Epoch 1 || Run Time:   21.6 | Load Time:   30.7 || F1:  61.34 | Prec:  54.46 | Rec:  70.19 || Ex/s: 329.00\n",
            "\n",
            "===>  EVAL Epoch 1\n"
          ]
        },
        {
          "output_type": "stream",
          "name": "stderr",
          "text": [
            "0% [██████████████████████████████] 100% | ETA: 00:00:00\n",
            "Total time elapsed: 00:00:11\n"
          ]
        },
        {
          "output_type": "stream",
          "name": "stdout",
          "text": [
            "Finished Epoch 1 || Run Time:    3.2 | Load Time:    8.7 || F1:  72.03 | Prec:  62.13 | Rec:  85.70 || Ex/s: 485.82\n",
            "\n",
            "* Best F1: tensor(72.0346, device='cuda:0')\n",
            "Saving best model...\n",
            "Done.\n",
            "---------------------\n",
            "\n",
            "===>  TRAIN Epoch 2\n"
          ]
        },
        {
          "output_type": "stream",
          "name": "stderr",
          "text": [
            "0% [██████████████████████████████] 100% | ETA: 00:00:00\n",
            "Total time elapsed: 00:00:49\n"
          ]
        },
        {
          "output_type": "stream",
          "name": "stdout",
          "text": [
            "Finished Epoch 2 || Run Time:   20.9 | Load Time:   28.6 || F1:  81.16 | Prec:  73.85 | Rec:  90.08 || Ex/s: 348.13\n",
            "\n",
            "===>  EVAL Epoch 2\n"
          ]
        },
        {
          "output_type": "stream",
          "name": "stderr",
          "text": [
            "0% [██████████████████████████████] 100% | ETA: 00:00:00\n",
            "Total time elapsed: 00:00:11\n"
          ]
        },
        {
          "output_type": "stream",
          "name": "stdout",
          "text": [
            "Finished Epoch 2 || Run Time:    3.1 | Load Time:    8.7 || F1:  78.22 | Prec:  76.17 | Rec:  80.37 || Ex/s: 488.30\n",
            "\n",
            "* Best F1: tensor(78.2174, device='cuda:0')\n",
            "Saving best model...\n",
            "Done.\n",
            "---------------------\n",
            "\n",
            "===>  TRAIN Epoch 3\n"
          ]
        },
        {
          "output_type": "stream",
          "name": "stderr",
          "text": [
            "0% [██████████████████████████████] 100% | ETA: 00:00:00\n",
            "Total time elapsed: 00:00:48\n"
          ]
        },
        {
          "output_type": "stream",
          "name": "stdout",
          "text": [
            "Finished Epoch 3 || Run Time:   20.1 | Load Time:   28.3 || F1:  90.81 | Prec:  86.55 | Rec:  95.51 || Ex/s: 355.64\n",
            "\n",
            "===>  EVAL Epoch 3\n"
          ]
        },
        {
          "output_type": "stream",
          "name": "stderr",
          "text": [
            "0% [██████████████████████████████] 100% | ETA: 00:00:00\n",
            "Total time elapsed: 00:00:11\n"
          ]
        },
        {
          "output_type": "stream",
          "name": "stdout",
          "text": [
            "Finished Epoch 3 || Run Time:    3.0 | Load Time:    8.6 || F1:  78.72 | Prec:  77.13 | Rec:  80.37 || Ex/s: 492.67\n",
            "\n",
            "* Best F1: tensor(78.7185, device='cuda:0')\n",
            "Saving best model...\n",
            "Done.\n",
            "---------------------\n",
            "\n",
            "===>  TRAIN Epoch 4\n"
          ]
        },
        {
          "output_type": "stream",
          "name": "stderr",
          "text": [
            "0% [██████████████████████████████] 100% | ETA: 00:00:00\n",
            "Total time elapsed: 00:00:48\n"
          ]
        },
        {
          "output_type": "stream",
          "name": "stdout",
          "text": [
            "Finished Epoch 4 || Run Time:   20.3 | Load Time:   28.4 || F1:  95.37 | Prec:  93.19 | Rec:  97.66 || Ex/s: 353.01\n",
            "\n",
            "===>  EVAL Epoch 4\n"
          ]
        },
        {
          "output_type": "stream",
          "name": "stderr",
          "text": [
            "0% [██████████████████████████████] 100% | ETA: 00:00:00\n",
            "Total time elapsed: 00:00:11\n"
          ]
        },
        {
          "output_type": "stream",
          "name": "stdout",
          "text": [
            "Finished Epoch 4 || Run Time:    3.0 | Load Time:    8.7 || F1:  80.34 | Prec:  76.81 | Rec:  84.21 || Ex/s: 491.07\n",
            "\n",
            "* Best F1: tensor(80.3388, device='cuda:0')\n",
            "Saving best model...\n",
            "Done.\n",
            "---------------------\n",
            "\n",
            "===>  TRAIN Epoch 5\n"
          ]
        },
        {
          "output_type": "stream",
          "name": "stderr",
          "text": [
            "0% [██████████████████████████████] 100% | ETA: 00:00:00\n",
            "Total time elapsed: 00:00:48\n"
          ]
        },
        {
          "output_type": "stream",
          "name": "stdout",
          "text": [
            "Finished Epoch 5 || Run Time:   20.4 | Load Time:   28.5 || F1:  98.13 | Prec:  97.19 | Rec:  99.10 || Ex/s: 352.33\n",
            "\n",
            "===>  EVAL Epoch 5\n"
          ]
        },
        {
          "output_type": "stream",
          "name": "stderr",
          "text": [
            "0% [██████████████████████████████] 100% | ETA: 00:00:00\n",
            "Total time elapsed: 00:00:11\n"
          ]
        },
        {
          "output_type": "stream",
          "name": "stdout",
          "text": [
            "Finished Epoch 5 || Run Time:    3.2 | Load Time:    8.7 || F1:  80.40 | Prec:  75.43 | Rec:  86.07 || Ex/s: 482.42\n",
            "\n",
            "* Best F1: tensor(80.4016, device='cuda:0')\n",
            "Saving best model...\n",
            "Done.\n",
            "---------------------\n",
            "\n",
            "===>  TRAIN Epoch 6\n"
          ]
        },
        {
          "output_type": "stream",
          "name": "stderr",
          "text": [
            "0% [██████████████████████████████] 100% | ETA: 00:00:00\n",
            "Total time elapsed: 00:00:48\n"
          ]
        },
        {
          "output_type": "stream",
          "name": "stdout",
          "text": [
            "Finished Epoch 6 || Run Time:   20.6 | Load Time:   28.3 || F1:  99.05 | Prec:  98.76 | Rec:  99.35 || Ex/s: 352.37\n",
            "\n",
            "===>  EVAL Epoch 6\n"
          ]
        },
        {
          "output_type": "stream",
          "name": "stderr",
          "text": [
            "0% [██████████████████████████████] 100% | ETA: 00:00:00\n",
            "Total time elapsed: 00:00:11\n"
          ]
        },
        {
          "output_type": "stream",
          "name": "stdout",
          "text": [
            "Finished Epoch 6 || Run Time:    3.0 | Load Time:    8.6 || F1:  81.77 | Prec:  82.23 | Rec:  81.31 || Ex/s: 492.03\n",
            "\n",
            "* Best F1: tensor(81.7669, device='cuda:0')\n",
            "Saving best model...\n",
            "Done.\n",
            "---------------------\n",
            "\n",
            "===>  TRAIN Epoch 7\n"
          ]
        },
        {
          "output_type": "stream",
          "name": "stderr",
          "text": [
            "0% [██████████████████████████████] 100% | ETA: 00:00:00\n",
            "Total time elapsed: 00:00:48\n"
          ]
        },
        {
          "output_type": "stream",
          "name": "stdout",
          "text": [
            "Finished Epoch 7 || Run Time:   20.3 | Load Time:   28.4 || F1:  99.67 | Prec:  99.81 | Rec:  99.53 || Ex/s: 353.95\n",
            "\n",
            "===>  EVAL Epoch 7\n"
          ]
        },
        {
          "output_type": "stream",
          "name": "stderr",
          "text": [
            "0% [██████████████████████████████] 100% | ETA: 00:00:00\n",
            "Total time elapsed: 00:00:11\n"
          ]
        },
        {
          "output_type": "stream",
          "name": "stdout",
          "text": [
            "Finished Epoch 7 || Run Time:    3.0 | Load Time:    8.6 || F1:  80.39 | Prec:  82.99 | Rec:  77.94 || Ex/s: 491.28\n",
            "\n",
            "---------------------\n",
            "\n",
            "===>  TRAIN Epoch 8\n"
          ]
        },
        {
          "output_type": "stream",
          "name": "stderr",
          "text": [
            "0% [██████████████████████████████] 100% | ETA: 00:00:00\n",
            "Total time elapsed: 00:00:48\n"
          ]
        },
        {
          "output_type": "stream",
          "name": "stdout",
          "text": [
            "Finished Epoch 8 || Run Time:   20.3 | Load Time:   28.4 || F1:  99.83 | Prec:  99.94 | Rec:  99.72 || Ex/s: 353.79\n",
            "\n",
            "===>  EVAL Epoch 8\n"
          ]
        },
        {
          "output_type": "stream",
          "name": "stderr",
          "text": [
            "0% [██████████████████████████████] 100% | ETA: 00:00:00\n",
            "Total time elapsed: 00:00:11\n"
          ]
        },
        {
          "output_type": "stream",
          "name": "stdout",
          "text": [
            "Finished Epoch 8 || Run Time:    3.0 | Load Time:    8.6 || F1:  81.59 | Prec:  80.96 | Rec:  82.24 || Ex/s: 491.80\n",
            "\n",
            "---------------------\n",
            "\n",
            "===>  TRAIN Epoch 9\n"
          ]
        },
        {
          "output_type": "stream",
          "name": "stderr",
          "text": [
            "0% [██████████████████████████████] 100% | ETA: 00:00:00\n",
            "Total time elapsed: 00:00:47\n"
          ]
        },
        {
          "output_type": "stream",
          "name": "stdout",
          "text": [
            "Finished Epoch 9 || Run Time:   20.2 | Load Time:   28.1 || F1:  99.83 | Prec:  99.94 | Rec:  99.72 || Ex/s: 356.59\n",
            "\n",
            "===>  EVAL Epoch 9\n"
          ]
        },
        {
          "output_type": "stream",
          "name": "stderr",
          "text": [
            "0% [██████████████████████████████] 100% | ETA: 00:00:00\n",
            "Total time elapsed: 00:00:11\n"
          ]
        },
        {
          "output_type": "stream",
          "name": "stdout",
          "text": [
            "Finished Epoch 9 || Run Time:    3.2 | Load Time:    8.7 || F1:  81.36 | Prec:  79.78 | Rec:  82.99 || Ex/s: 482.96\n",
            "\n",
            "---------------------\n",
            "\n",
            "===>  TRAIN Epoch 10\n"
          ]
        },
        {
          "output_type": "stream",
          "name": "stderr",
          "text": [
            "0% [██████████████████████████████] 100% | ETA: 00:00:00\n",
            "Total time elapsed: 00:00:48\n"
          ]
        },
        {
          "output_type": "stream",
          "name": "stdout",
          "text": [
            "Finished Epoch 10 || Run Time:   20.8 | Load Time:   28.5 || F1:  99.88 | Prec: 100.00 | Rec:  99.75 || Ex/s: 349.13\n",
            "\n",
            "===>  EVAL Epoch 10\n"
          ]
        },
        {
          "output_type": "stream",
          "name": "stderr",
          "text": [
            "0% [██████████████████████████████] 100% | ETA: 00:00:00\n",
            "Total time elapsed: 00:00:11\n"
          ]
        },
        {
          "output_type": "stream",
          "name": "stdout",
          "text": [
            "Finished Epoch 10 || Run Time:    3.0 | Load Time:    8.7 || F1:  81.35 | Prec:  79.43 | Rec:  83.36 || Ex/s: 492.97\n",
            "\n",
            "---------------------\n",
            "\n",
            "===>  TRAIN Epoch 11\n"
          ]
        },
        {
          "output_type": "stream",
          "name": "stderr",
          "text": [
            "0% [██████████████████████████████] 100% | ETA: 00:00:00\n",
            "Total time elapsed: 00:00:47\n"
          ]
        },
        {
          "output_type": "stream",
          "name": "stdout",
          "text": [
            "Finished Epoch 11 || Run Time:   20.0 | Load Time:   28.1 || F1:  99.89 | Prec: 100.00 | Rec:  99.78 || Ex/s: 358.18\n",
            "\n",
            "===>  EVAL Epoch 11\n"
          ]
        },
        {
          "output_type": "stream",
          "name": "stderr",
          "text": [
            "0% [██████████████████████████████] 100% | ETA: 00:00:00\n",
            "Total time elapsed: 00:00:12\n"
          ]
        },
        {
          "output_type": "stream",
          "name": "stdout",
          "text": [
            "Finished Epoch 11 || Run Time:    3.2 | Load Time:    9.0 || F1:  81.17 | Prec:  79.25 | Rec:  83.18 || Ex/s: 472.43\n",
            "\n",
            "---------------------\n",
            "\n",
            "===>  TRAIN Epoch 12\n"
          ]
        },
        {
          "output_type": "stream",
          "name": "stderr",
          "text": [
            "0% [██████████████████████████████] 100% | ETA: 00:00:00\n",
            "Total time elapsed: 00:00:47\n"
          ]
        },
        {
          "output_type": "stream",
          "name": "stdout",
          "text": [
            "Finished Epoch 12 || Run Time:   20.0 | Load Time:   28.1 || F1:  99.89 | Prec: 100.00 | Rec:  99.78 || Ex/s: 357.98\n",
            "\n",
            "===>  EVAL Epoch 12\n"
          ]
        },
        {
          "output_type": "stream",
          "name": "stderr",
          "text": [
            "0% [██████████████████████████████] 100% | ETA: 00:00:00\n",
            "Total time elapsed: 00:00:11\n"
          ]
        },
        {
          "output_type": "stream",
          "name": "stdout",
          "text": [
            "Finished Epoch 12 || Run Time:    3.0 | Load Time:    8.6 || F1:  81.21 | Prec:  79.50 | Rec:  82.99 || Ex/s: 492.97\n",
            "\n",
            "---------------------\n",
            "\n",
            "===>  TRAIN Epoch 13\n"
          ]
        },
        {
          "output_type": "stream",
          "name": "stderr",
          "text": [
            "0% [██████████████████████████████] 100% | ETA: 00:00:00\n",
            "Total time elapsed: 00:00:48\n"
          ]
        },
        {
          "output_type": "stream",
          "name": "stdout",
          "text": [
            "Finished Epoch 13 || Run Time:   20.5 | Load Time:   28.5 || F1:  99.89 | Prec: 100.00 | Rec:  99.78 || Ex/s: 351.92\n",
            "\n",
            "===>  EVAL Epoch 13\n"
          ]
        },
        {
          "output_type": "stream",
          "name": "stderr",
          "text": [
            "0% [██████████████████████████████] 100% | ETA: 00:00:00\n",
            "Total time elapsed: 00:00:11\n"
          ]
        },
        {
          "output_type": "stream",
          "name": "stdout",
          "text": [
            "Finished Epoch 13 || Run Time:    3.2 | Load Time:    8.7 || F1:  81.44 | Prec:  79.34 | Rec:  83.64 || Ex/s: 484.14\n",
            "\n",
            "---------------------\n",
            "\n",
            "===>  TRAIN Epoch 14\n"
          ]
        },
        {
          "output_type": "stream",
          "name": "stderr",
          "text": [
            "0% [██████████████████████████████] 100% | ETA: 00:00:00\n",
            "Total time elapsed: 00:00:48\n"
          ]
        },
        {
          "output_type": "stream",
          "name": "stdout",
          "text": [
            "Finished Epoch 14 || Run Time:   20.4 | Load Time:   28.3 || F1:  99.94 | Prec: 100.00 | Rec:  99.88 || Ex/s: 353.94\n",
            "\n",
            "===>  EVAL Epoch 14\n"
          ]
        },
        {
          "output_type": "stream",
          "name": "stderr",
          "text": [
            "0% [██████████████████████████████] 100% | ETA: 00:00:00\n",
            "Total time elapsed: 00:00:12\n"
          ]
        },
        {
          "output_type": "stream",
          "name": "stdout",
          "text": [
            "Finished Epoch 14 || Run Time:    3.1 | Load Time:    9.0 || F1:  81.38 | Prec:  78.98 | Rec:  83.93 || Ex/s: 473.12\n",
            "\n",
            "---------------------\n",
            "\n",
            "===>  TRAIN Epoch 15\n"
          ]
        },
        {
          "output_type": "stream",
          "name": "stderr",
          "text": [
            "0% [██████████████████████████████] 100% | ETA: 00:00:00\n",
            "Total time elapsed: 00:00:47\n"
          ]
        },
        {
          "output_type": "stream",
          "name": "stdout",
          "text": [
            "Finished Epoch 15 || Run Time:   20.1 | Load Time:   28.1 || F1:  99.92 | Prec:  99.94 | Rec:  99.91 || Ex/s: 357.65\n",
            "\n",
            "===>  EVAL Epoch 15\n"
          ]
        },
        {
          "output_type": "stream",
          "name": "stderr",
          "text": [
            "0% [██████████████████████████████] 100% | ETA: 00:00:00\n",
            "Total time elapsed: 00:00:11\n"
          ]
        },
        {
          "output_type": "stream",
          "name": "stdout",
          "text": [
            "Finished Epoch 15 || Run Time:    3.0 | Load Time:    8.6 || F1:  81.33 | Prec:  79.31 | Rec:  83.46 || Ex/s: 493.96\n",
            "\n",
            "---------------------\n",
            "\n",
            "Loading best model...\n",
            "Training done.\n"
          ]
        },
        {
          "output_type": "execute_result",
          "data": {
            "text/plain": [
              "tensor(81.7669, device='cuda:0')"
            ]
          },
          "metadata": {},
          "execution_count": 13
        }
      ],
      "source": [
        "model.run_train(\n",
        "    train,\n",
        "    validation,\n",
        "    epochs=15,\n",
        "    batch_size=32,\n",
        "    best_save_path='rnn_model.pth',\n",
        "    pos_neg_ratio=3)"
      ]
    },
    {
      "cell_type": "code",
      "execution_count": 14,
      "metadata": {
        "id": "vVG5oqsX7IlL",
        "colab": {
          "base_uri": "https://localhost:8080/"
        },
        "outputId": "3d7607fc-6938-46ea-88b7-37409865d55d"
      },
      "outputs": [
        {
          "output_type": "stream",
          "name": "stdout",
          "text": [
            "===>  EVAL Epoch 6\n"
          ]
        },
        {
          "output_type": "stream",
          "name": "stderr",
          "text": [
            "/usr/local/lib/python3.7/dist-packages/torch/nn/modules/module.py:949: UserWarning: Using non-full backward hooks on a Module that does not take as input a single Tensor or a tuple of Tensors is deprecated and will be removed in future versions. This hook will be missing some of the grad_input. Please use register_full_backward_hook to get the documented behavior.\n",
            "  warnings.warn(\"Using non-full backward hooks on a Module that does not take as input a \"\n",
            "/usr/local/lib/python3.7/dist-packages/torch/nn/modules/module.py:939: UserWarning: Using non-full backward hooks on a Module that does not return a single Tensor or a tuple of Tensors is deprecated and will be removed in future versions. This hook will be missing some of the grad_output. Please use register_full_backward_hook to get the documented behavior.\n",
            "  warnings.warn(\"Using non-full backward hooks on a Module that does not return a \"\n",
            "/usr/local/lib/python3.7/dist-packages/torch/nn/modules/module.py:974: UserWarning: Using a non-full backward hook when the forward contains multiple autograd Nodes is deprecated and will be removed in future versions. This hook will be missing some grad_input. Please use register_full_backward_hook to get the documented behavior.\n",
            "  warnings.warn(\"Using a non-full backward hook when the forward contains multiple autograd Nodes \"\n",
            "0% [██████████████████████████████] 100% | ETA: 00:00:00\n",
            "Total time elapsed: 00:00:11\n"
          ]
        },
        {
          "output_type": "stream",
          "name": "stdout",
          "text": [
            "Finished Epoch 6 || Run Time:    3.1 | Load Time:    8.7 || F1:  79.15 | Prec:  80.10 | Rec:  78.22 || Ex/s: 486.67\n",
            "\n"
          ]
        },
        {
          "output_type": "execute_result",
          "data": {
            "text/plain": [
              "tensor(79.1489, device='cuda:0')"
            ]
          },
          "metadata": {},
          "execution_count": 14
        }
      ],
      "source": [
        "# Compute F1 on test set\n",
        "model.run_eval(test)"
      ]
    },
    {
      "cell_type": "markdown",
      "metadata": {
        "id": "74V0WvCe7jiR"
      },
      "source": [
        "### SIF"
      ]
    },
    {
      "cell_type": "markdown",
      "metadata": {
        "id": "7kQEe_Vh7jiS"
      },
      "source": [
        "#### STRUCTURED"
      ]
    },
    {
      "cell_type": "markdown",
      "metadata": {
        "id": "VYuf4NDQ7jiS"
      },
      "source": [
        "##### Amazon-Google"
      ]
    },
    {
      "cell_type": "code",
      "execution_count": 11,
      "metadata": {
        "id": "NxEM99WA7jiS",
        "colab": {
          "base_uri": "https://localhost:8080/"
        },
        "outputId": "6bb25628-8335-4011-b5aa-ee87231f9fd0"
      },
      "outputs": [
        {
          "output_type": "stream",
          "name": "stderr",
          "text": [
            "WARNING:deepmatcher.data.dataset:Rebuilding data cache because: ['Data file list has changed.', 'One or more data files have been modified.']\n",
            "\n",
            "Reading and processing data from \"/content/IC/datasesErros/ADirty_90_3_5/Structured/Amazon-Google/joined_train.csv\"\n",
            "0% [############################# ] 100% | ETA: 00:00:00\n",
            "Reading and processing data from \"/content/IC/datasesErros/ADirty_90_3_5/Structured/Amazon-Google/joined_valid.csv\"\n",
            "0% [############################# ] 100% | ETA: 00:00:00\n",
            "Reading and processing data from \"/content/IC/datasesErros/ADirty_90_3_5/Structured/Amazon-Google/joined_test.csv\"\n",
            "0% [############################# ] 100% | ETA: 00:00:00Warning : `load_model` does not return WordVectorModel or SupervisedModel any more, but a `FastText` object which is very similar.\n",
            "\n",
            "Building vocabulary\n",
            "0% [#######] 100% | ETA: 00:00:00\n",
            "Total time elapsed: 00:00:00\n",
            "\n",
            "Computing principal components\n",
            "0% [#######] 100% | ETA: 00:00:00\n",
            "Total time elapsed: 00:00:01\n"
          ]
        }
      ],
      "source": [
        "train, validation, test = dm.data.process(\n",
        "    path='/content/IC/datasesErros/ADirty_90_3_5/Structured/Amazon-Google/',\n",
        "    train='joined_train.csv',\n",
        "    validation='joined_valid.csv',\n",
        "    test='joined_test.csv')"
      ]
    },
    {
      "cell_type": "code",
      "execution_count": 12,
      "metadata": {
        "id": "CQbS8ipY7jiT"
      },
      "outputs": [],
      "source": [
        "model = dm.MatchingModel(attr_summarizer='sif')"
      ]
    },
    {
      "cell_type": "code",
      "execution_count": 13,
      "metadata": {
        "id": "gvY64y8F7jiU",
        "colab": {
          "base_uri": "https://localhost:8080/"
        },
        "outputId": "035c161e-238c-4332-a670-2152abea31b1"
      },
      "outputs": [
        {
          "output_type": "stream",
          "name": "stderr",
          "text": [
            "/usr/local/lib/python3.7/dist-packages/torch/nn/modules/module.py:974: UserWarning: Using a non-full backward hook when the forward contains multiple autograd Nodes is deprecated and will be removed in future versions. This hook will be missing some grad_input. Please use register_full_backward_hook to get the documented behavior.\n",
            "  warnings.warn(\"Using a non-full backward hook when the forward contains multiple autograd Nodes \"\n"
          ]
        },
        {
          "output_type": "stream",
          "name": "stdout",
          "text": [
            "* Number of trainable parameters: 542402\n",
            "===>  TRAIN Epoch 1\n"
          ]
        },
        {
          "output_type": "stream",
          "name": "stderr",
          "text": [
            "/usr/local/lib/python3.7/dist-packages/torch/nn/functional.py:2742: UserWarning: reduction: 'mean' divides the total loss by both the batch size and the support size.'batchmean' divides only by the batch size, and aligns with the KL div math definition.'mean' will be changed to behave the same as 'batchmean' in the next major release.\n",
            "  \"reduction: 'mean' divides the total loss by both the batch size and the support size.\"\n",
            "0% [██████████████████████████████] 100% | ETA: 00:00:00\n",
            "Total time elapsed: 00:00:10\n"
          ]
        },
        {
          "output_type": "stream",
          "name": "stdout",
          "text": [
            "Finished Epoch 1 || Run Time:    4.7 | Load Time:    6.3 || F1:   0.00 | Prec:   0.00 | Rec:   0.00 || Ex/s: 623.61\n",
            "\n",
            "===>  EVAL Epoch 1\n"
          ]
        },
        {
          "output_type": "stream",
          "name": "stderr",
          "text": [
            "0% [██████████████] 100% | ETA: 00:00:00\n",
            "Total time elapsed: 00:00:01\n"
          ]
        },
        {
          "output_type": "stream",
          "name": "stdout",
          "text": [
            "Finished Epoch 1 || Run Time:    0.6 | Load Time:    1.4 || F1:   4.71 | Prec:  28.57 | Rec:   2.56 || Ex/s: 1185.01\n",
            "\n",
            "* Best F1: tensor(4.7059, device='cuda:0')\n",
            "Saving best model...\n",
            "Done.\n",
            "---------------------\n",
            "\n",
            "===>  TRAIN Epoch 2\n"
          ]
        },
        {
          "output_type": "stream",
          "name": "stderr",
          "text": [
            "0% [██████████████████████████████] 100% | ETA: 00:00:00\n",
            "Total time elapsed: 00:00:07\n"
          ]
        },
        {
          "output_type": "stream",
          "name": "stdout",
          "text": [
            "Finished Epoch 2 || Run Time:    3.2 | Load Time:    4.7 || F1:  17.39 | Prec:  39.39 | Rec:  11.16 || Ex/s: 877.63\n",
            "\n",
            "===>  EVAL Epoch 2\n"
          ]
        },
        {
          "output_type": "stream",
          "name": "stderr",
          "text": [
            "0% [██████████████] 100% | ETA: 00:00:00\n",
            "Total time elapsed: 00:00:01\n"
          ]
        },
        {
          "output_type": "stream",
          "name": "stdout",
          "text": [
            "Finished Epoch 2 || Run Time:    0.6 | Load Time:    1.4 || F1:  26.69 | Prec:  25.00 | Rec:  28.63 || Ex/s: 1180.41\n",
            "\n",
            "* Best F1: tensor(26.6932, device='cuda:0')\n",
            "Saving best model...\n",
            "Done.\n",
            "---------------------\n",
            "\n",
            "===>  TRAIN Epoch 3\n"
          ]
        },
        {
          "output_type": "stream",
          "name": "stderr",
          "text": [
            "0% [██████████████████████████████] 100% | ETA: 00:00:00\n",
            "Total time elapsed: 00:00:07\n"
          ]
        },
        {
          "output_type": "stream",
          "name": "stdout",
          "text": [
            "Finished Epoch 3 || Run Time:    2.9 | Load Time:    4.3 || F1:  45.62 | Prec:  47.45 | Rec:  43.92 || Ex/s: 956.24\n",
            "\n",
            "===>  EVAL Epoch 3\n"
          ]
        },
        {
          "output_type": "stream",
          "name": "stderr",
          "text": [
            "0% [██████████████] 100% | ETA: 00:00:00\n",
            "Total time elapsed: 00:00:01\n"
          ]
        },
        {
          "output_type": "stream",
          "name": "stdout",
          "text": [
            "Finished Epoch 3 || Run Time:    0.6 | Load Time:    1.3 || F1:  26.90 | Prec:  22.96 | Rec:  32.48 || Ex/s: 1189.00\n",
            "\n",
            "* Best F1: tensor(26.9027, device='cuda:0')\n",
            "Saving best model...\n",
            "Done.\n",
            "---------------------\n",
            "\n",
            "===>  TRAIN Epoch 4\n"
          ]
        },
        {
          "output_type": "stream",
          "name": "stderr",
          "text": [
            "0% [██████████████████████████████] 100% | ETA: 00:00:00\n",
            "Total time elapsed: 00:00:07\n"
          ]
        },
        {
          "output_type": "stream",
          "name": "stdout",
          "text": [
            "Finished Epoch 4 || Run Time:    2.9 | Load Time:    4.4 || F1:  63.45 | Prec:  58.34 | Rec:  69.53 || Ex/s: 949.76\n",
            "\n",
            "===>  EVAL Epoch 4\n"
          ]
        },
        {
          "output_type": "stream",
          "name": "stderr",
          "text": [
            "0% [██████████████] 100% | ETA: 00:00:00\n",
            "Total time elapsed: 00:00:01\n"
          ]
        },
        {
          "output_type": "stream",
          "name": "stdout",
          "text": [
            "Finished Epoch 4 || Run Time:    0.6 | Load Time:    1.4 || F1:  29.77 | Prec:  23.96 | Rec:  39.32 || Ex/s: 1178.62\n",
            "\n",
            "* Best F1: tensor(29.7735, device='cuda:0')\n",
            "Saving best model...\n",
            "Done.\n",
            "---------------------\n",
            "\n",
            "===>  TRAIN Epoch 5\n"
          ]
        },
        {
          "output_type": "stream",
          "name": "stderr",
          "text": [
            "0% [██████████████████████████████] 100% | ETA: 00:00:00\n",
            "Total time elapsed: 00:00:07\n"
          ]
        },
        {
          "output_type": "stream",
          "name": "stdout",
          "text": [
            "Finished Epoch 5 || Run Time:    2.9 | Load Time:    4.3 || F1:  74.12 | Prec:  66.97 | Rec:  82.98 || Ex/s: 949.59\n",
            "\n",
            "===>  EVAL Epoch 5\n"
          ]
        },
        {
          "output_type": "stream",
          "name": "stderr",
          "text": [
            "0% [██████████████] 100% | ETA: 00:00:00\n",
            "Total time elapsed: 00:00:01\n"
          ]
        },
        {
          "output_type": "stream",
          "name": "stdout",
          "text": [
            "Finished Epoch 5 || Run Time:    0.6 | Load Time:    1.4 || F1:  29.62 | Prec:  25.00 | Rec:  36.32 || Ex/s: 1165.73\n",
            "\n",
            "---------------------\n",
            "\n",
            "===>  TRAIN Epoch 6\n"
          ]
        },
        {
          "output_type": "stream",
          "name": "stderr",
          "text": [
            "0% [██████████████████████████████] 100% | ETA: 00:00:00\n",
            "Total time elapsed: 00:00:07\n"
          ]
        },
        {
          "output_type": "stream",
          "name": "stdout",
          "text": [
            "Finished Epoch 6 || Run Time:    2.9 | Load Time:    4.3 || F1:  81.17 | Prec:  74.52 | Rec:  89.13 || Ex/s: 947.00\n",
            "\n",
            "===>  EVAL Epoch 6\n"
          ]
        },
        {
          "output_type": "stream",
          "name": "stderr",
          "text": [
            "0% [██████████████] 100% | ETA: 00:00:00\n",
            "Total time elapsed: 00:00:01\n"
          ]
        },
        {
          "output_type": "stream",
          "name": "stdout",
          "text": [
            "Finished Epoch 6 || Run Time:    0.6 | Load Time:    1.4 || F1:  29.23 | Prec:  23.73 | Rec:  38.03 || Ex/s: 1149.40\n",
            "\n",
            "---------------------\n",
            "\n",
            "===>  TRAIN Epoch 7\n"
          ]
        },
        {
          "output_type": "stream",
          "name": "stderr",
          "text": [
            "0% [██████████████████████████████] 100% | ETA: 00:00:00\n",
            "Total time elapsed: 00:00:07\n"
          ]
        },
        {
          "output_type": "stream",
          "name": "stdout",
          "text": [
            "Finished Epoch 7 || Run Time:    2.9 | Load Time:    4.3 || F1:  86.30 | Prec:  80.62 | Rec:  92.85 || Ex/s: 955.37\n",
            "\n",
            "===>  EVAL Epoch 7\n"
          ]
        },
        {
          "output_type": "stream",
          "name": "stderr",
          "text": [
            "0% [██████████████] 100% | ETA: 00:00:00\n",
            "Total time elapsed: 00:00:01\n"
          ]
        },
        {
          "output_type": "stream",
          "name": "stdout",
          "text": [
            "Finished Epoch 7 || Run Time:    0.6 | Load Time:    1.4 || F1:  27.82 | Prec:  23.65 | Rec:  33.76 || Ex/s: 1159.40\n",
            "\n",
            "---------------------\n",
            "\n",
            "===>  TRAIN Epoch 8\n"
          ]
        },
        {
          "output_type": "stream",
          "name": "stderr",
          "text": [
            "0% [██████████████████████████████] 100% | ETA: 00:00:00\n",
            "Total time elapsed: 00:00:07\n"
          ]
        },
        {
          "output_type": "stream",
          "name": "stdout",
          "text": [
            "Finished Epoch 8 || Run Time:    2.9 | Load Time:    4.4 || F1:  89.70 | Prec:  85.20 | Rec:  94.71 || Ex/s: 942.26\n",
            "\n",
            "===>  EVAL Epoch 8\n"
          ]
        },
        {
          "output_type": "stream",
          "name": "stderr",
          "text": [
            "0% [██████████████] 100% | ETA: 00:00:00\n",
            "Total time elapsed: 00:00:01\n"
          ]
        },
        {
          "output_type": "stream",
          "name": "stdout",
          "text": [
            "Finished Epoch 8 || Run Time:    0.6 | Load Time:    1.4 || F1:  26.39 | Prec:  23.36 | Rec:  30.34 || Ex/s: 1152.51\n",
            "\n",
            "---------------------\n",
            "\n",
            "===>  TRAIN Epoch 9\n"
          ]
        },
        {
          "output_type": "stream",
          "name": "stderr",
          "text": [
            "0% [██████████████████████████████] 100% | ETA: 00:00:00\n",
            "Total time elapsed: 00:00:07\n"
          ]
        },
        {
          "output_type": "stream",
          "name": "stdout",
          "text": [
            "Finished Epoch 9 || Run Time:    2.9 | Load Time:    4.3 || F1:  92.20 | Prec:  89.07 | Rec:  95.57 || Ex/s: 953.54\n",
            "\n",
            "===>  EVAL Epoch 9\n"
          ]
        },
        {
          "output_type": "stream",
          "name": "stderr",
          "text": [
            "0% [██████████████] 100% | ETA: 00:00:00\n",
            "Total time elapsed: 00:00:01\n"
          ]
        },
        {
          "output_type": "stream",
          "name": "stdout",
          "text": [
            "Finished Epoch 9 || Run Time:    0.6 | Load Time:    1.4 || F1:  25.41 | Prec:  24.41 | Rec:  26.50 || Ex/s: 1180.60\n",
            "\n",
            "---------------------\n",
            "\n",
            "===>  TRAIN Epoch 10\n"
          ]
        },
        {
          "output_type": "stream",
          "name": "stderr",
          "text": [
            "0% [██████████████████████████████] 100% | ETA: 00:00:00\n",
            "Total time elapsed: 00:00:07\n"
          ]
        },
        {
          "output_type": "stream",
          "name": "stdout",
          "text": [
            "Finished Epoch 10 || Run Time:    2.9 | Load Time:    4.3 || F1:  94.37 | Prec:  91.76 | Rec:  97.14 || Ex/s: 949.49\n",
            "\n",
            "===>  EVAL Epoch 10\n"
          ]
        },
        {
          "output_type": "stream",
          "name": "stderr",
          "text": [
            "0% [██████████████] 100% | ETA: 00:00:00\n",
            "Total time elapsed: 00:00:01\n"
          ]
        },
        {
          "output_type": "stream",
          "name": "stdout",
          "text": [
            "Finished Epoch 10 || Run Time:    0.6 | Load Time:    1.4 || F1:  23.84 | Prec:  24.66 | Rec:  23.08 || Ex/s: 1171.31\n",
            "\n",
            "---------------------\n",
            "\n",
            "===>  TRAIN Epoch 11\n"
          ]
        },
        {
          "output_type": "stream",
          "name": "stderr",
          "text": [
            "0% [██████████████████████████████] 100% | ETA: 00:00:00\n",
            "Total time elapsed: 00:00:07\n"
          ]
        },
        {
          "output_type": "stream",
          "name": "stdout",
          "text": [
            "Finished Epoch 11 || Run Time:    2.9 | Load Time:    4.3 || F1:  95.93 | Prec:  94.09 | Rec:  97.85 || Ex/s: 954.58\n",
            "\n",
            "===>  EVAL Epoch 11\n"
          ]
        },
        {
          "output_type": "stream",
          "name": "stderr",
          "text": [
            "0% [██████████████] 100% | ETA: 00:00:00\n",
            "Total time elapsed: 00:00:02\n"
          ]
        },
        {
          "output_type": "stream",
          "name": "stdout",
          "text": [
            "Finished Epoch 11 || Run Time:    0.6 | Load Time:    1.5 || F1:  23.00 | Prec:  25.52 | Rec:  20.94 || Ex/s: 1093.97\n",
            "\n",
            "---------------------\n",
            "\n",
            "===>  TRAIN Epoch 12\n"
          ]
        },
        {
          "output_type": "stream",
          "name": "stderr",
          "text": [
            "0% [██████████████████████████████] 100% | ETA: 00:00:00\n",
            "Total time elapsed: 00:00:07\n"
          ]
        },
        {
          "output_type": "stream",
          "name": "stdout",
          "text": [
            "Finished Epoch 12 || Run Time:    3.2 | Load Time:    4.7 || F1:  96.48 | Prec:  94.88 | Rec:  98.14 || Ex/s: 875.18\n",
            "\n",
            "===>  EVAL Epoch 12\n"
          ]
        },
        {
          "output_type": "stream",
          "name": "stderr",
          "text": [
            "0% [██████████████] 100% | ETA: 00:00:00\n",
            "Total time elapsed: 00:00:01\n"
          ]
        },
        {
          "output_type": "stream",
          "name": "stdout",
          "text": [
            "Finished Epoch 12 || Run Time:    0.6 | Load Time:    1.3 || F1:  21.78 | Prec:  25.88 | Rec:  18.80 || Ex/s: 1184.65\n",
            "\n",
            "---------------------\n",
            "\n",
            "===>  TRAIN Epoch 13\n"
          ]
        },
        {
          "output_type": "stream",
          "name": "stderr",
          "text": [
            "0% [██████████████████████████████] 100% | ETA: 00:00:00\n",
            "Total time elapsed: 00:00:08\n"
          ]
        },
        {
          "output_type": "stream",
          "name": "stdout",
          "text": [
            "Finished Epoch 13 || Run Time:    3.5 | Load Time:    5.1 || F1:  96.97 | Prec:  95.56 | Rec:  98.43 || Ex/s: 794.85\n",
            "\n",
            "===>  EVAL Epoch 13\n"
          ]
        },
        {
          "output_type": "stream",
          "name": "stderr",
          "text": [
            "0% [██████████████] 100% | ETA: 00:00:00\n",
            "Total time elapsed: 00:00:01\n"
          ]
        },
        {
          "output_type": "stream",
          "name": "stdout",
          "text": [
            "Finished Epoch 13 || Run Time:    0.6 | Load Time:    1.4 || F1:  19.22 | Prec:  24.50 | Rec:  15.81 || Ex/s: 1161.06\n",
            "\n",
            "---------------------\n",
            "\n",
            "===>  TRAIN Epoch 14\n"
          ]
        },
        {
          "output_type": "stream",
          "name": "stderr",
          "text": [
            "0% [██████████████████████████████] 100% | ETA: 00:00:00\n",
            "Total time elapsed: 00:00:07\n"
          ]
        },
        {
          "output_type": "stream",
          "name": "stdout",
          "text": [
            "Finished Epoch 14 || Run Time:    2.9 | Load Time:    4.3 || F1:  97.32 | Prec:  95.84 | Rec:  98.86 || Ex/s: 948.69\n",
            "\n",
            "===>  EVAL Epoch 14\n"
          ]
        },
        {
          "output_type": "stream",
          "name": "stderr",
          "text": [
            "0% [██████████████] 100% | ETA: 00:00:00\n",
            "Total time elapsed: 00:00:01\n"
          ]
        },
        {
          "output_type": "stream",
          "name": "stdout",
          "text": [
            "Finished Epoch 14 || Run Time:    0.6 | Load Time:    1.3 || F1:  17.84 | Prec:  24.26 | Rec:  14.10 || Ex/s: 1178.06\n",
            "\n",
            "---------------------\n",
            "\n",
            "===>  TRAIN Epoch 15\n"
          ]
        },
        {
          "output_type": "stream",
          "name": "stderr",
          "text": [
            "0% [██████████████████████████████] 100% | ETA: 00:00:00\n",
            "Total time elapsed: 00:00:07\n"
          ]
        },
        {
          "output_type": "stream",
          "name": "stdout",
          "text": [
            "Finished Epoch 15 || Run Time:    3.1 | Load Time:    4.3 || F1:  97.53 | Prec:  96.24 | Rec:  98.86 || Ex/s: 928.80\n",
            "\n",
            "===>  EVAL Epoch 15\n"
          ]
        },
        {
          "output_type": "stream",
          "name": "stderr",
          "text": [
            "0% [██████████████] 100% | ETA: 00:00:00\n",
            "Total time elapsed: 00:00:01\n"
          ]
        },
        {
          "output_type": "stream",
          "name": "stdout",
          "text": [
            "Finished Epoch 15 || Run Time:    0.6 | Load Time:    1.4 || F1:  18.03 | Prec:  25.00 | Rec:  14.10 || Ex/s: 1136.43\n",
            "\n",
            "---------------------\n",
            "\n",
            "Loading best model...\n",
            "Training done.\n"
          ]
        },
        {
          "output_type": "execute_result",
          "data": {
            "text/plain": [
              "tensor(29.7735, device='cuda:0')"
            ]
          },
          "metadata": {},
          "execution_count": 13
        }
      ],
      "source": [
        "model.run_train(\n",
        "    train,\n",
        "    validation,\n",
        "    epochs=15,\n",
        "    batch_size=32,\n",
        "    best_save_path='sif_model.pth',\n",
        "    pos_neg_ratio=3)"
      ]
    },
    {
      "cell_type": "code",
      "execution_count": 14,
      "metadata": {
        "id": "UNP-KJ2i7jiU",
        "colab": {
          "base_uri": "https://localhost:8080/"
        },
        "outputId": "bb2a9e36-6584-4a45-9893-8e071cd21557"
      },
      "outputs": [
        {
          "output_type": "stream",
          "name": "stdout",
          "text": [
            "===>  EVAL Epoch 4\n"
          ]
        },
        {
          "output_type": "stream",
          "name": "stderr",
          "text": [
            "/usr/local/lib/python3.7/dist-packages/torch/nn/modules/module.py:974: UserWarning: Using a non-full backward hook when the forward contains multiple autograd Nodes is deprecated and will be removed in future versions. This hook will be missing some grad_input. Please use register_full_backward_hook to get the documented behavior.\n",
            "  warnings.warn(\"Using a non-full backward hook when the forward contains multiple autograd Nodes \"\n",
            "0% [██████████████] 100% | ETA: 00:00:00\n",
            "Total time elapsed: 00:00:01\n"
          ]
        },
        {
          "output_type": "stream",
          "name": "stdout",
          "text": [
            "Finished Epoch 4 || Run Time:    0.6 | Load Time:    1.4 || F1:  30.36 | Prec:  24.73 | Rec:  39.32 || Ex/s: 1163.95\n",
            "\n"
          ]
        },
        {
          "output_type": "execute_result",
          "data": {
            "text/plain": [
              "tensor(30.3630, device='cuda:0')"
            ]
          },
          "metadata": {},
          "execution_count": 14
        }
      ],
      "source": [
        "# Compute F1 on test set\n",
        "model.run_eval(test)"
      ]
    },
    {
      "cell_type": "markdown",
      "metadata": {
        "id": "09Aelx9S7jiU"
      },
      "source": [
        "##### Beer"
      ]
    },
    {
      "cell_type": "code",
      "execution_count": 15,
      "metadata": {
        "id": "QGAk50JK7jiV",
        "colab": {
          "base_uri": "https://localhost:8080/"
        },
        "outputId": "13071dcf-8a1f-4cf9-9a4f-38006c7d83b8"
      },
      "outputs": [
        {
          "output_type": "stream",
          "name": "stderr",
          "text": [
            "WARNING:deepmatcher.data.dataset:Rebuilding data cache because: ['Data file list has changed.', 'One or more data files have been modified.']\n",
            "\n",
            "Reading and processing data from \"/content/IC/datasesErros/ADirty_90_3_5/Structured/Beer/joined_train.csv\"\n",
            "0% [############################# ] 100% | ETA: 00:00:00\n",
            "Reading and processing data from \"/content/IC/datasesErros/ADirty_90_3_5/Structured/Beer/joined_valid.csv\"\n",
            "0% [############################# ] 100% | ETA: 00:00:00\n",
            "Reading and processing data from \"/content/IC/datasesErros/ADirty_90_3_5/Structured/Beer/joined_test.csv\"\n",
            "0% [############################# ] 100% | ETA: 00:00:00\n",
            "Building vocabulary\n",
            "0% [#] 100% | ETA: 00:00:00\n",
            "Total time elapsed: 00:00:00\n",
            "\n",
            "Computing principal components\n",
            "0% [#] 100% | ETA: 00:00:00\n",
            "Total time elapsed: 00:00:00\n"
          ]
        }
      ],
      "source": [
        "train, validation, test = dm.data.process(\n",
        "    path='/content/IC/datasesErros/ADirty_90_3_5/Structured/Beer/',\n",
        "    train='joined_train.csv',\n",
        "    validation='joined_valid.csv',\n",
        "    test='joined_test.csv')"
      ]
    },
    {
      "cell_type": "code",
      "execution_count": 16,
      "metadata": {
        "id": "0FsH-YpJ7jiV"
      },
      "outputs": [],
      "source": [
        "model = dm.MatchingModel(attr_summarizer='sif')"
      ]
    },
    {
      "cell_type": "code",
      "execution_count": 17,
      "metadata": {
        "id": "M65m1MA27jiV",
        "colab": {
          "base_uri": "https://localhost:8080/"
        },
        "outputId": "bbb1cf8a-9f5d-4fce-c7df-5b9c8ae214fd"
      },
      "outputs": [
        {
          "output_type": "stream",
          "name": "stdout",
          "text": [
            "* Number of trainable parameters: 542402\n",
            "===>  TRAIN Epoch 1\n"
          ]
        },
        {
          "output_type": "stream",
          "name": "stderr",
          "text": [
            "/usr/local/lib/python3.7/dist-packages/torch/nn/modules/module.py:974: UserWarning: Using a non-full backward hook when the forward contains multiple autograd Nodes is deprecated and will be removed in future versions. This hook will be missing some grad_input. Please use register_full_backward_hook to get the documented behavior.\n",
            "  warnings.warn(\"Using a non-full backward hook when the forward contains multiple autograd Nodes \"\n",
            "/usr/local/lib/python3.7/dist-packages/torch/nn/functional.py:2742: UserWarning: reduction: 'mean' divides the total loss by both the batch size and the support size.'batchmean' divides only by the batch size, and aligns with the KL div math definition.'mean' will be changed to behave the same as 'batchmean' in the next major release.\n",
            "  \"reduction: 'mean' divides the total loss by both the batch size and the support size.\"\n",
            "0% [█] 100% | ETA: 00:00:00\n",
            "Total time elapsed: 00:00:00\n"
          ]
        },
        {
          "output_type": "stream",
          "name": "stdout",
          "text": [
            "Finished Epoch 1 || Run Time:    0.2 | Load Time:    0.3 || F1:  18.46 | Prec:  24.00 | Rec:  15.00 || Ex/s: 599.60\n",
            "\n",
            "===>  EVAL Epoch 1\n",
            "Finished Epoch 1 || Run Time:    0.0 | Load Time:    0.1 || F1:   0.00 | Prec:   0.00 | Rec:   0.00 || Ex/s: 755.69\n",
            "\n",
            "* Best F1: tensor(0., device='cuda:0')\n",
            "Saving best model...\n",
            "Done.\n",
            "---------------------\n",
            "\n",
            "===>  TRAIN Epoch 2\n"
          ]
        },
        {
          "output_type": "stream",
          "name": "stderr",
          "text": [
            "0% [█] 100% | ETA: 00:00:00\n",
            "Total time elapsed: 00:00:00\n"
          ]
        },
        {
          "output_type": "stream",
          "name": "stdout",
          "text": [
            "Finished Epoch 2 || Run Time:    0.2 | Load Time:    0.3 || F1:   0.00 | Prec:   0.00 | Rec:   0.00 || Ex/s: 634.03\n",
            "\n",
            "===>  EVAL Epoch 2\n",
            "Finished Epoch 2 || Run Time:    0.0 | Load Time:    0.1 || F1:   0.00 | Prec:   0.00 | Rec:   0.00 || Ex/s: 748.16\n",
            "\n",
            "---------------------\n",
            "\n",
            "===>  TRAIN Epoch 3\n"
          ]
        },
        {
          "output_type": "stream",
          "name": "stderr",
          "text": [
            "0% [█] 100% | ETA: 00:00:00\n",
            "Total time elapsed: 00:00:00\n"
          ]
        },
        {
          "output_type": "stream",
          "name": "stdout",
          "text": [
            "Finished Epoch 3 || Run Time:    0.2 | Load Time:    0.3 || F1:   0.00 | Prec:   0.00 | Rec:   0.00 || Ex/s: 624.20\n",
            "\n",
            "===>  EVAL Epoch 3\n",
            "Finished Epoch 3 || Run Time:    0.0 | Load Time:    0.1 || F1:   0.00 | Prec:   0.00 | Rec:   0.00 || Ex/s: 683.97\n",
            "\n",
            "---------------------\n",
            "\n",
            "===>  TRAIN Epoch 4\n"
          ]
        },
        {
          "output_type": "stream",
          "name": "stderr",
          "text": [
            "0% [█] 100% | ETA: 00:00:00\n",
            "Total time elapsed: 00:00:00\n"
          ]
        },
        {
          "output_type": "stream",
          "name": "stdout",
          "text": [
            "Finished Epoch 4 || Run Time:    0.2 | Load Time:    0.3 || F1:   0.00 | Prec:   0.00 | Rec:   0.00 || Ex/s: 597.41\n",
            "\n",
            "===>  EVAL Epoch 4\n",
            "Finished Epoch 4 || Run Time:    0.0 | Load Time:    0.1 || F1:   0.00 | Prec:   0.00 | Rec:   0.00 || Ex/s: 741.31\n",
            "\n",
            "---------------------\n",
            "\n",
            "===>  TRAIN Epoch 5\n"
          ]
        },
        {
          "output_type": "stream",
          "name": "stderr",
          "text": [
            "0% [█] 100% | ETA: 00:00:00\n",
            "Total time elapsed: 00:00:00\n"
          ]
        },
        {
          "output_type": "stream",
          "name": "stdout",
          "text": [
            "Finished Epoch 5 || Run Time:    0.2 | Load Time:    0.3 || F1:  18.18 | Prec: 100.00 | Rec:  10.00 || Ex/s: 627.62\n",
            "\n",
            "===>  EVAL Epoch 5\n",
            "Finished Epoch 5 || Run Time:    0.0 | Load Time:    0.1 || F1:  25.00 | Prec: 100.00 | Rec:  14.29 || Ex/s: 737.24\n",
            "\n",
            "* Best F1: tensor(25., device='cuda:0')\n",
            "Saving best model...\n",
            "Done.\n",
            "---------------------\n",
            "\n",
            "===>  TRAIN Epoch 6\n"
          ]
        },
        {
          "output_type": "stream",
          "name": "stderr",
          "text": [
            "0% [█] 100% | ETA: 00:00:00\n",
            "Total time elapsed: 00:00:00\n"
          ]
        },
        {
          "output_type": "stream",
          "name": "stdout",
          "text": [
            "Finished Epoch 6 || Run Time:    0.2 | Load Time:    0.3 || F1:  25.53 | Prec:  85.71 | Rec:  15.00 || Ex/s: 621.73\n",
            "\n",
            "===>  EVAL Epoch 6\n",
            "Finished Epoch 6 || Run Time:    0.0 | Load Time:    0.1 || F1:  23.53 | Prec:  66.67 | Rec:  14.29 || Ex/s: 752.52\n",
            "\n",
            "---------------------\n",
            "\n",
            "===>  TRAIN Epoch 7\n"
          ]
        },
        {
          "output_type": "stream",
          "name": "stderr",
          "text": [
            "0% [█] 100% | ETA: 00:00:00\n",
            "Total time elapsed: 00:00:00\n"
          ]
        },
        {
          "output_type": "stream",
          "name": "stdout",
          "text": [
            "Finished Epoch 7 || Run Time:    0.2 | Load Time:    0.3 || F1:  32.65 | Prec:  88.89 | Rec:  20.00 || Ex/s: 621.32\n",
            "\n",
            "===>  EVAL Epoch 7\n",
            "Finished Epoch 7 || Run Time:    0.0 | Load Time:    0.1 || F1:  23.53 | Prec:  66.67 | Rec:  14.29 || Ex/s: 709.54\n",
            "\n",
            "---------------------\n",
            "\n",
            "===>  TRAIN Epoch 8\n"
          ]
        },
        {
          "output_type": "stream",
          "name": "stderr",
          "text": [
            "0% [█] 100% | ETA: 00:00:00\n",
            "Total time elapsed: 00:00:00\n"
          ]
        },
        {
          "output_type": "stream",
          "name": "stdout",
          "text": [
            "Finished Epoch 8 || Run Time:    0.2 | Load Time:    0.3 || F1:  39.22 | Prec:  90.91 | Rec:  25.00 || Ex/s: 629.97\n",
            "\n",
            "===>  EVAL Epoch 8\n",
            "Finished Epoch 8 || Run Time:    0.0 | Load Time:    0.1 || F1:  23.53 | Prec:  66.67 | Rec:  14.29 || Ex/s: 720.55\n",
            "\n",
            "---------------------\n",
            "\n",
            "===>  TRAIN Epoch 9\n"
          ]
        },
        {
          "output_type": "stream",
          "name": "stderr",
          "text": [
            "0% [█] 100% | ETA: 00:00:00\n",
            "Total time elapsed: 00:00:00\n"
          ]
        },
        {
          "output_type": "stream",
          "name": "stdout",
          "text": [
            "Finished Epoch 9 || Run Time:    0.2 | Load Time:    0.3 || F1:  39.22 | Prec:  90.91 | Rec:  25.00 || Ex/s: 602.64\n",
            "\n",
            "===>  EVAL Epoch 9\n",
            "Finished Epoch 9 || Run Time:    0.0 | Load Time:    0.1 || F1:  23.53 | Prec:  66.67 | Rec:  14.29 || Ex/s: 723.96\n",
            "\n",
            "---------------------\n",
            "\n",
            "===>  TRAIN Epoch 10\n"
          ]
        },
        {
          "output_type": "stream",
          "name": "stderr",
          "text": [
            "0% [█] 100% | ETA: 00:00:00\n",
            "Total time elapsed: 00:00:00\n"
          ]
        },
        {
          "output_type": "stream",
          "name": "stdout",
          "text": [
            "Finished Epoch 10 || Run Time:    0.2 | Load Time:    0.3 || F1:  42.31 | Prec:  91.67 | Rec:  27.50 || Ex/s: 621.88\n",
            "\n",
            "===>  EVAL Epoch 10\n",
            "Finished Epoch 10 || Run Time:    0.0 | Load Time:    0.1 || F1:  22.22 | Prec:  50.00 | Rec:  14.29 || Ex/s: 683.68\n",
            "\n",
            "---------------------\n",
            "\n",
            "===>  TRAIN Epoch 11\n"
          ]
        },
        {
          "output_type": "stream",
          "name": "stderr",
          "text": [
            "0% [█] 100% | ETA: 00:00:00\n",
            "Total time elapsed: 00:00:00\n"
          ]
        },
        {
          "output_type": "stream",
          "name": "stdout",
          "text": [
            "Finished Epoch 11 || Run Time:    0.2 | Load Time:    0.3 || F1:  44.44 | Prec:  85.71 | Rec:  30.00 || Ex/s: 566.31\n",
            "\n",
            "===>  EVAL Epoch 11\n",
            "Finished Epoch 11 || Run Time:    0.0 | Load Time:    0.1 || F1:  22.22 | Prec:  50.00 | Rec:  14.29 || Ex/s: 733.17\n",
            "\n",
            "---------------------\n",
            "\n",
            "===>  TRAIN Epoch 12\n"
          ]
        },
        {
          "output_type": "stream",
          "name": "stderr",
          "text": [
            "0% [█] 100% | ETA: 00:00:00\n",
            "Total time elapsed: 00:00:00\n"
          ]
        },
        {
          "output_type": "stream",
          "name": "stdout",
          "text": [
            "Finished Epoch 12 || Run Time:    0.2 | Load Time:    0.3 || F1:  47.27 | Prec:  86.67 | Rec:  32.50 || Ex/s: 620.61\n",
            "\n",
            "===>  EVAL Epoch 12\n",
            "Finished Epoch 12 || Run Time:    0.0 | Load Time:    0.1 || F1:  22.22 | Prec:  50.00 | Rec:  14.29 || Ex/s: 735.98\n",
            "\n",
            "---------------------\n",
            "\n",
            "===>  TRAIN Epoch 13\n"
          ]
        },
        {
          "output_type": "stream",
          "name": "stderr",
          "text": [
            "0% [█] 100% | ETA: 00:00:00\n",
            "Total time elapsed: 00:00:00\n"
          ]
        },
        {
          "output_type": "stream",
          "name": "stdout",
          "text": [
            "Finished Epoch 13 || Run Time:    0.2 | Load Time:    0.3 || F1:  47.27 | Prec:  86.67 | Rec:  32.50 || Ex/s: 644.61\n",
            "\n",
            "===>  EVAL Epoch 13\n",
            "Finished Epoch 13 || Run Time:    0.0 | Load Time:    0.1 || F1:  22.22 | Prec:  50.00 | Rec:  14.29 || Ex/s: 754.33\n",
            "\n",
            "---------------------\n",
            "\n",
            "===>  TRAIN Epoch 14\n"
          ]
        },
        {
          "output_type": "stream",
          "name": "stderr",
          "text": [
            "0% [█] 100% | ETA: 00:00:00\n",
            "Total time elapsed: 00:00:00\n"
          ]
        },
        {
          "output_type": "stream",
          "name": "stdout",
          "text": [
            "Finished Epoch 14 || Run Time:    0.2 | Load Time:    0.3 || F1:  51.72 | Prec:  83.33 | Rec:  37.50 || Ex/s: 618.59\n",
            "\n",
            "===>  EVAL Epoch 14\n",
            "Finished Epoch 14 || Run Time:    0.0 | Load Time:    0.1 || F1:  22.22 | Prec:  50.00 | Rec:  14.29 || Ex/s: 741.87\n",
            "\n",
            "---------------------\n",
            "\n",
            "===>  TRAIN Epoch 15\n"
          ]
        },
        {
          "output_type": "stream",
          "name": "stderr",
          "text": [
            "0% [█] 100% | ETA: 00:00:00\n",
            "Total time elapsed: 00:00:00\n"
          ]
        },
        {
          "output_type": "stream",
          "name": "stdout",
          "text": [
            "Finished Epoch 15 || Run Time:    0.2 | Load Time:    0.3 || F1:  54.24 | Prec:  84.21 | Rec:  40.00 || Ex/s: 625.88\n",
            "\n",
            "===>  EVAL Epoch 15\n",
            "Finished Epoch 15 || Run Time:    0.0 | Load Time:    0.1 || F1:  31.58 | Prec:  60.00 | Rec:  21.43 || Ex/s: 741.59\n",
            "\n",
            "* Best F1: tensor(31.5789, device='cuda:0')\n",
            "Saving best model...\n",
            "Done.\n",
            "---------------------\n",
            "\n",
            "Loading best model...\n",
            "Training done.\n"
          ]
        },
        {
          "output_type": "execute_result",
          "data": {
            "text/plain": [
              "tensor(31.5789, device='cuda:0')"
            ]
          },
          "metadata": {},
          "execution_count": 17
        }
      ],
      "source": [
        "model.run_train(\n",
        "    train,\n",
        "    validation,\n",
        "    epochs=15,\n",
        "    batch_size=32,\n",
        "    best_save_path='sif_model.pth',\n",
        "    pos_neg_ratio=3)"
      ]
    },
    {
      "cell_type": "code",
      "execution_count": 18,
      "metadata": {
        "id": "hotRtezC7jiW",
        "colab": {
          "base_uri": "https://localhost:8080/"
        },
        "outputId": "c5f9ee03-c917-4091-8baa-98dcf5c541d0"
      },
      "outputs": [
        {
          "output_type": "stream",
          "name": "stdout",
          "text": [
            "===>  EVAL Epoch 15\n"
          ]
        },
        {
          "output_type": "stream",
          "name": "stderr",
          "text": [
            "/usr/local/lib/python3.7/dist-packages/torch/nn/modules/module.py:974: UserWarning: Using a non-full backward hook when the forward contains multiple autograd Nodes is deprecated and will be removed in future versions. This hook will be missing some grad_input. Please use register_full_backward_hook to get the documented behavior.\n",
            "  warnings.warn(\"Using a non-full backward hook when the forward contains multiple autograd Nodes \"\n"
          ]
        },
        {
          "output_type": "stream",
          "name": "stdout",
          "text": [
            "Finished Epoch 15 || Run Time:    0.0 | Load Time:    0.1 || F1:  22.22 | Prec:  50.00 | Rec:  14.29 || Ex/s: 675.59\n",
            "\n"
          ]
        },
        {
          "output_type": "execute_result",
          "data": {
            "text/plain": [
              "tensor(22.2222, device='cuda:0')"
            ]
          },
          "metadata": {},
          "execution_count": 18
        }
      ],
      "source": [
        "# Compute F1 on test set\n",
        "model.run_eval(test)"
      ]
    },
    {
      "cell_type": "markdown",
      "metadata": {
        "id": "rEyqJ6mI7jiW"
      },
      "source": [
        "##### DBLP-ACM"
      ]
    },
    {
      "cell_type": "code",
      "execution_count": 11,
      "metadata": {
        "id": "2oeYr-ip7jiX"
      },
      "outputs": [],
      "source": [
        "train, validation, test = dm.data.process(\n",
        "    path='/content/IC/datasesErros/ADirty_90_3_5/Structured/DBLP-ACM/',\n",
        "    train='joined_train.csv',\n",
        "    validation='joined_valid.csv',\n",
        "    test='joined_test.csv')"
      ]
    },
    {
      "cell_type": "code",
      "execution_count": 12,
      "metadata": {
        "id": "vdTDybRv7jiX"
      },
      "outputs": [],
      "source": [
        "model = dm.MatchingModel(attr_summarizer='sif')"
      ]
    },
    {
      "cell_type": "code",
      "execution_count": 13,
      "metadata": {
        "id": "EOAZFGCq7jiZ",
        "colab": {
          "base_uri": "https://localhost:8080/"
        },
        "outputId": "0380c68d-601b-4976-9157-4f63f5185b6d"
      },
      "outputs": [
        {
          "metadata": {
            "tags": null
          },
          "name": "stderr",
          "output_type": "stream",
          "text": [
            "/usr/local/lib/python3.7/dist-packages/torch/nn/modules/module.py:974: UserWarning: Using a non-full backward hook when the forward contains multiple autograd Nodes is deprecated and will be removed in future versions. This hook will be missing some grad_input. Please use register_full_backward_hook to get the documented behavior.\n",
            "  warnings.warn(\"Using a non-full backward hook when the forward contains multiple autograd Nodes \"\n"
          ]
        },
        {
          "metadata": {
            "tags": null
          },
          "name": "stdout",
          "output_type": "stream",
          "text": [
            "* Number of trainable parameters: 542402\n",
            "===>  TRAIN Epoch 1\n"
          ]
        },
        {
          "metadata": {
            "tags": null
          },
          "name": "stderr",
          "output_type": "stream",
          "text": [
            "/usr/local/lib/python3.7/dist-packages/torch/nn/functional.py:2742: UserWarning: reduction: 'mean' divides the total loss by both the batch size and the support size.'batchmean' divides only by the batch size, and aligns with the KL div math definition.'mean' will be changed to behave the same as 'batchmean' in the next major release.\n",
            "  \"reduction: 'mean' divides the total loss by both the batch size and the support size.\"\n",
            "0% [██████████████████████████████] 100% | ETA: 00:00:00\n",
            "Total time elapsed: 00:00:17\n"
          ]
        },
        {
          "metadata": {
            "tags": null
          },
          "name": "stdout",
          "output_type": "stream",
          "text": [
            "Finished Epoch 1 || Run Time:    4.9 | Load Time:   13.1 || F1:  68.93 | Prec:  67.78 | Rec:  70.12 || Ex/s: 412.30\n",
            "\n",
            "===>  EVAL Epoch 1\n"
          ]
        },
        {
          "metadata": {
            "tags": null
          },
          "name": "stderr",
          "output_type": "stream",
          "text": [
            "0% [███████████████] 100% | ETA: 00:00:00\n",
            "Total time elapsed: 00:00:04\n"
          ]
        },
        {
          "metadata": {
            "tags": null
          },
          "name": "stdout",
          "output_type": "stream",
          "text": [
            "Finished Epoch 1 || Run Time:    0.8 | Load Time:    3.4 || F1:  87.97 | Prec:  79.82 | Rec:  97.97 || Ex/s: 586.54\n",
            "\n",
            "* Best F1: tensor(87.9676, device='cuda:0')\n",
            "Saving best model...\n",
            "Done.\n",
            "---------------------\n",
            "\n",
            "===>  TRAIN Epoch 2\n"
          ]
        },
        {
          "metadata": {
            "tags": null
          },
          "name": "stderr",
          "output_type": "stream",
          "text": [
            "0% [██████████████████████████████] 100% | ETA: 00:00:00\n",
            "Total time elapsed: 00:00:14\n"
          ]
        },
        {
          "metadata": {
            "tags": null
          },
          "name": "stdout",
          "output_type": "stream",
          "text": [
            "Finished Epoch 2 || Run Time:    3.9 | Load Time:   10.9 || F1:  91.47 | Prec:  84.99 | Rec:  99.02 || Ex/s: 500.50\n",
            "\n",
            "===>  EVAL Epoch 2\n"
          ]
        },
        {
          "metadata": {
            "tags": null
          },
          "name": "stderr",
          "output_type": "stream",
          "text": [
            "0% [███████████████] 100% | ETA: 00:00:00\n",
            "Total time elapsed: 00:00:04\n"
          ]
        },
        {
          "metadata": {
            "tags": null
          },
          "name": "stdout",
          "output_type": "stream",
          "text": [
            "Finished Epoch 2 || Run Time:    0.9 | Load Time:    3.7 || F1:  90.42 | Prec:  84.11 | Rec:  97.75 || Ex/s: 530.08\n",
            "\n",
            "* Best F1: tensor(90.4167, device='cuda:0')\n",
            "Saving best model...\n",
            "Done.\n",
            "---------------------\n",
            "\n",
            "===>  TRAIN Epoch 3\n"
          ]
        },
        {
          "metadata": {
            "tags": null
          },
          "name": "stderr",
          "output_type": "stream",
          "text": [
            "0% [██████████████████████████████] 100% | ETA: 00:00:00\n",
            "Total time elapsed: 00:00:14\n"
          ]
        },
        {
          "metadata": {
            "tags": null
          },
          "name": "stdout",
          "output_type": "stream",
          "text": [
            "Finished Epoch 3 || Run Time:    4.1 | Load Time:   10.9 || F1:  95.61 | Prec:  91.78 | Rec:  99.77 || Ex/s: 495.36\n",
            "\n",
            "===>  EVAL Epoch 3\n"
          ]
        },
        {
          "metadata": {
            "tags": null
          },
          "name": "stderr",
          "output_type": "stream",
          "text": [
            "0% [███████████████] 100% | ETA: 00:00:00\n",
            "Total time elapsed: 00:00:04\n"
          ]
        },
        {
          "metadata": {
            "tags": null
          },
          "name": "stdout",
          "output_type": "stream",
          "text": [
            "Finished Epoch 3 || Run Time:    0.8 | Load Time:    3.4 || F1:  90.16 | Prec:  83.49 | Rec:  97.97 || Ex/s: 585.25\n",
            "\n",
            "---------------------\n",
            "\n",
            "===>  TRAIN Epoch 4\n"
          ]
        },
        {
          "metadata": {
            "tags": null
          },
          "name": "stderr",
          "output_type": "stream",
          "text": [
            "0% [██████████████████████████████] 100% | ETA: 00:00:00\n",
            "Total time elapsed: 00:00:14\n"
          ]
        },
        {
          "metadata": {
            "tags": null
          },
          "name": "stdout",
          "output_type": "stream",
          "text": [
            "Finished Epoch 4 || Run Time:    3.8 | Load Time:   10.8 || F1:  97.51 | Prec:  95.27 | Rec:  99.85 || Ex/s: 506.77\n",
            "\n",
            "===>  EVAL Epoch 4\n"
          ]
        },
        {
          "metadata": {
            "tags": null
          },
          "name": "stderr",
          "output_type": "stream",
          "text": [
            "0% [███████████████] 100% | ETA: 00:00:00\n",
            "Total time elapsed: 00:00:04\n"
          ]
        },
        {
          "metadata": {
            "tags": null
          },
          "name": "stdout",
          "output_type": "stream",
          "text": [
            "Finished Epoch 4 || Run Time:    0.8 | Load Time:    3.4 || F1:  90.97 | Prec:  85.24 | Rec:  97.52 || Ex/s: 585.87\n",
            "\n",
            "* Best F1: tensor(90.9664, device='cuda:0')\n",
            "Saving best model...\n",
            "Done.\n",
            "---------------------\n",
            "\n",
            "===>  TRAIN Epoch 5\n"
          ]
        },
        {
          "output_type": "stream",
          "name": "stderr",
          "text": [
            "0% [██████████████████████████████] 100% | ETA: 00:00:00\n",
            "Total time elapsed: 00:00:14\n"
          ]
        },
        {
          "output_type": "stream",
          "name": "stdout",
          "text": [
            "Finished Epoch 5 || Run Time:    3.8 | Load Time:   10.8 || F1:  98.48 | Prec:  97.15 | Rec:  99.85 || Ex/s: 507.89\n",
            "\n",
            "===>  EVAL Epoch 5\n"
          ]
        },
        {
          "output_type": "stream",
          "name": "stderr",
          "text": [
            "0% [███████████████] 100% | ETA: 00:00:00\n",
            "Total time elapsed: 00:00:04\n"
          ]
        },
        {
          "output_type": "stream",
          "name": "stdout",
          "text": [
            "Finished Epoch 5 || Run Time:    0.8 | Load Time:    3.4 || F1:  92.00 | Prec:  89.55 | Rec:  94.59 || Ex/s: 582.23\n",
            "\n",
            "* Best F1: tensor(92.0044, device='cuda:0')\n",
            "Saving best model...\n",
            "Done.\n",
            "---------------------\n",
            "\n",
            "===>  TRAIN Epoch 6\n"
          ]
        },
        {
          "output_type": "stream",
          "name": "stderr",
          "text": [
            "0% [██████████████████████████████] 100% | ETA: 00:00:00\n",
            "Total time elapsed: 00:00:14\n"
          ]
        },
        {
          "output_type": "stream",
          "name": "stdout",
          "text": [
            "Finished Epoch 6 || Run Time:    3.9 | Load Time:   10.9 || F1:  99.07 | Prec:  98.23 | Rec:  99.92 || Ex/s: 503.80\n",
            "\n",
            "===>  EVAL Epoch 6\n"
          ]
        },
        {
          "output_type": "stream",
          "name": "stderr",
          "text": [
            "0% [███████████████] 100% | ETA: 00:00:00\n",
            "Total time elapsed: 00:00:04\n"
          ]
        },
        {
          "output_type": "stream",
          "name": "stdout",
          "text": [
            "Finished Epoch 6 || Run Time:    0.8 | Load Time:    3.5 || F1:  92.00 | Prec:  89.55 | Rec:  94.59 || Ex/s: 578.35\n",
            "\n",
            "---------------------\n",
            "\n",
            "===>  TRAIN Epoch 7\n"
          ]
        },
        {
          "output_type": "stream",
          "name": "stderr",
          "text": [
            "0% [██████████████████████████████] 100% | ETA: 00:00:00\n",
            "Total time elapsed: 00:00:14\n"
          ]
        },
        {
          "output_type": "stream",
          "name": "stdout",
          "text": [
            "Finished Epoch 7 || Run Time:    4.0 | Load Time:   11.1 || F1:  99.33 | Prec:  98.74 | Rec:  99.92 || Ex/s: 492.33\n",
            "\n",
            "===>  EVAL Epoch 7\n"
          ]
        },
        {
          "output_type": "stream",
          "name": "stderr",
          "text": [
            "0% [███████████████] 100% | ETA: 00:00:00\n",
            "Total time elapsed: 00:00:04\n"
          ]
        },
        {
          "output_type": "stream",
          "name": "stdout",
          "text": [
            "Finished Epoch 7 || Run Time:    0.8 | Load Time:    3.4 || F1:  92.11 | Prec:  89.74 | Rec:  94.59 || Ex/s: 578.85\n",
            "\n",
            "* Best F1: tensor(92.1053, device='cuda:0')\n",
            "Saving best model...\n",
            "Done.\n",
            "---------------------\n",
            "\n",
            "===>  TRAIN Epoch 8\n"
          ]
        },
        {
          "output_type": "stream",
          "name": "stderr",
          "text": [
            "0% [██████████████████████████████] 100% | ETA: 00:00:00\n",
            "Total time elapsed: 00:00:14\n"
          ]
        },
        {
          "output_type": "stream",
          "name": "stdout",
          "text": [
            "Finished Epoch 8 || Run Time:    3.9 | Load Time:   10.8 || F1:  99.48 | Prec:  98.96 | Rec: 100.00 || Ex/s: 503.44\n",
            "\n",
            "===>  EVAL Epoch 8\n"
          ]
        },
        {
          "output_type": "stream",
          "name": "stderr",
          "text": [
            "0% [███████████████] 100% | ETA: 00:00:00\n",
            "Total time elapsed: 00:00:04\n"
          ]
        },
        {
          "output_type": "stream",
          "name": "stdout",
          "text": [
            "Finished Epoch 8 || Run Time:    0.8 | Load Time:    3.4 || F1:  92.12 | Prec:  89.57 | Rec:  94.82 || Ex/s: 586.63\n",
            "\n",
            "* Best F1: tensor(92.1225, device='cuda:0')\n",
            "Saving best model...\n",
            "Done.\n",
            "---------------------\n",
            "\n",
            "===>  TRAIN Epoch 9\n"
          ]
        },
        {
          "output_type": "stream",
          "name": "stderr",
          "text": [
            "0% [██████████████████████████████] 100% | ETA: 00:00:00\n",
            "Total time elapsed: 00:00:14\n"
          ]
        },
        {
          "output_type": "stream",
          "name": "stdout",
          "text": [
            "Finished Epoch 9 || Run Time:    3.9 | Load Time:   10.8 || F1:  99.55 | Prec:  99.11 | Rec: 100.00 || Ex/s: 502.51\n",
            "\n",
            "===>  EVAL Epoch 9\n"
          ]
        },
        {
          "output_type": "stream",
          "name": "stderr",
          "text": [
            "0% [███████████████] 100% | ETA: 00:00:00\n",
            "Total time elapsed: 00:00:04\n"
          ]
        },
        {
          "output_type": "stream",
          "name": "stdout",
          "text": [
            "Finished Epoch 9 || Run Time:    0.8 | Load Time:    3.4 || F1:  92.12 | Prec:  89.57 | Rec:  94.82 || Ex/s: 581.65\n",
            "\n",
            "---------------------\n",
            "\n",
            "===>  TRAIN Epoch 10\n"
          ]
        },
        {
          "output_type": "stream",
          "name": "stderr",
          "text": [
            "0% [██████████████████████████████] 100% | ETA: 00:00:00\n",
            "Total time elapsed: 00:00:14\n"
          ]
        },
        {
          "output_type": "stream",
          "name": "stdout",
          "text": [
            "Finished Epoch 10 || Run Time:    3.9 | Load Time:   10.8 || F1:  99.63 | Prec:  99.25 | Rec: 100.00 || Ex/s: 503.72\n",
            "\n",
            "===>  EVAL Epoch 10\n"
          ]
        },
        {
          "output_type": "stream",
          "name": "stderr",
          "text": [
            "0% [███████████████] 100% | ETA: 00:00:00\n",
            "Total time elapsed: 00:00:04\n"
          ]
        },
        {
          "output_type": "stream",
          "name": "stdout",
          "text": [
            "Finished Epoch 10 || Run Time:    0.8 | Load Time:    3.4 || F1:  92.02 | Prec:  89.38 | Rec:  94.82 || Ex/s: 578.83\n",
            "\n",
            "---------------------\n",
            "\n",
            "===>  TRAIN Epoch 11\n"
          ]
        },
        {
          "output_type": "stream",
          "name": "stderr",
          "text": [
            "0% [██████████████████████████████] 100% | ETA: 00:00:00\n",
            "Total time elapsed: 00:00:14\n"
          ]
        },
        {
          "output_type": "stream",
          "name": "stdout",
          "text": [
            "Finished Epoch 11 || Run Time:    3.9 | Load Time:   10.9 || F1:  99.66 | Prec:  99.33 | Rec: 100.00 || Ex/s: 502.80\n",
            "\n",
            "===>  EVAL Epoch 11\n"
          ]
        },
        {
          "output_type": "stream",
          "name": "stderr",
          "text": [
            "0% [███████████████] 100% | ETA: 00:00:00\n",
            "Total time elapsed: 00:00:04\n"
          ]
        },
        {
          "output_type": "stream",
          "name": "stdout",
          "text": [
            "Finished Epoch 11 || Run Time:    0.8 | Load Time:    3.4 || F1:  91.90 | Prec:  89.36 | Rec:  94.59 || Ex/s: 582.54\n",
            "\n",
            "---------------------\n",
            "\n",
            "===>  TRAIN Epoch 12\n"
          ]
        },
        {
          "output_type": "stream",
          "name": "stderr",
          "text": [
            "0% [██████████████████████████████] 100% | ETA: 00:00:00\n",
            "Total time elapsed: 00:00:14\n"
          ]
        },
        {
          "output_type": "stream",
          "name": "stdout",
          "text": [
            "Finished Epoch 12 || Run Time:    4.1 | Load Time:   11.1 || F1:  99.81 | Prec:  99.63 | Rec: 100.00 || Ex/s: 489.87\n",
            "\n",
            "===>  EVAL Epoch 12\n"
          ]
        },
        {
          "output_type": "stream",
          "name": "stderr",
          "text": [
            "0% [███████████████] 100% | ETA: 00:00:00\n",
            "Total time elapsed: 00:00:04\n"
          ]
        },
        {
          "output_type": "stream",
          "name": "stdout",
          "text": [
            "Finished Epoch 12 || Run Time:    0.9 | Load Time:    3.4 || F1:  91.79 | Prec:  89.34 | Rec:  94.37 || Ex/s: 573.58\n",
            "\n",
            "---------------------\n",
            "\n",
            "===>  TRAIN Epoch 13\n"
          ]
        },
        {
          "output_type": "stream",
          "name": "stderr",
          "text": [
            "0% [██████████████████████████████] 100% | ETA: 00:00:00\n",
            "Total time elapsed: 00:00:14\n"
          ]
        },
        {
          "output_type": "stream",
          "name": "stdout",
          "text": [
            "Finished Epoch 13 || Run Time:    4.1 | Load Time:   10.9 || F1:  99.81 | Prec:  99.63 | Rec: 100.00 || Ex/s: 495.85\n",
            "\n",
            "===>  EVAL Epoch 13\n"
          ]
        },
        {
          "output_type": "stream",
          "name": "stderr",
          "text": [
            "0% [███████████████] 100% | ETA: 00:00:00\n",
            "Total time elapsed: 00:00:04\n"
          ]
        },
        {
          "output_type": "stream",
          "name": "stdout",
          "text": [
            "Finished Epoch 13 || Run Time:    0.8 | Load Time:    3.4 || F1:  91.79 | Prec:  89.34 | Rec:  94.37 || Ex/s: 581.04\n",
            "\n",
            "---------------------\n",
            "\n",
            "===>  TRAIN Epoch 14\n"
          ]
        },
        {
          "output_type": "stream",
          "name": "stderr",
          "text": [
            "0% [██████████████████████████████] 100% | ETA: 00:00:00\n",
            "Total time elapsed: 00:00:14\n"
          ]
        },
        {
          "output_type": "stream",
          "name": "stdout",
          "text": [
            "Finished Epoch 14 || Run Time:    4.0 | Load Time:   10.8 || F1:  99.81 | Prec:  99.63 | Rec: 100.00 || Ex/s: 498.92\n",
            "\n",
            "===>  EVAL Epoch 14\n"
          ]
        },
        {
          "output_type": "stream",
          "name": "stderr",
          "text": [
            "0% [███████████████] 100% | ETA: 00:00:00\n",
            "Total time elapsed: 00:00:04\n"
          ]
        },
        {
          "output_type": "stream",
          "name": "stdout",
          "text": [
            "Finished Epoch 14 || Run Time:    0.8 | Load Time:    3.5 || F1:  91.79 | Prec:  89.34 | Rec:  94.37 || Ex/s: 574.16\n",
            "\n",
            "---------------------\n",
            "\n",
            "===>  TRAIN Epoch 15\n"
          ]
        },
        {
          "output_type": "stream",
          "name": "stderr",
          "text": [
            "0% [██████████████████████████████] 100% | ETA: 00:00:00\n",
            "Total time elapsed: 00:00:14\n"
          ]
        },
        {
          "output_type": "stream",
          "name": "stdout",
          "text": [
            "Finished Epoch 15 || Run Time:    4.0 | Load Time:   10.9 || F1:  99.81 | Prec:  99.63 | Rec: 100.00 || Ex/s: 497.01\n",
            "\n",
            "===>  EVAL Epoch 15\n"
          ]
        },
        {
          "output_type": "stream",
          "name": "stderr",
          "text": [
            "0% [███████████████] 100% | ETA: 00:00:00\n",
            "Total time elapsed: 00:00:04\n"
          ]
        },
        {
          "output_type": "stream",
          "name": "stdout",
          "text": [
            "Finished Epoch 15 || Run Time:    0.8 | Load Time:    3.4 || F1:  91.67 | Prec:  89.32 | Rec:  94.14 || Ex/s: 584.48\n",
            "\n",
            "---------------------\n",
            "\n",
            "Loading best model...\n",
            "Training done.\n"
          ]
        },
        {
          "output_type": "execute_result",
          "data": {
            "text/plain": [
              "tensor(92.1225, device='cuda:0')"
            ]
          },
          "metadata": {},
          "execution_count": 13
        }
      ],
      "source": [
        "model.run_train(\n",
        "    train,\n",
        "    validation,\n",
        "    epochs=15,\n",
        "    batch_size=32,\n",
        "    best_save_path='sif_model.pth',\n",
        "    pos_neg_ratio=3)"
      ]
    },
    {
      "cell_type": "code",
      "execution_count": 14,
      "metadata": {
        "id": "v7hiHKiB7jiZ",
        "colab": {
          "base_uri": "https://localhost:8080/"
        },
        "outputId": "5dc8982f-f304-499a-ef9b-1207cc9bced6"
      },
      "outputs": [
        {
          "output_type": "stream",
          "name": "stdout",
          "text": [
            "===>  EVAL Epoch 8\n"
          ]
        },
        {
          "output_type": "stream",
          "name": "stderr",
          "text": [
            "/usr/local/lib/python3.7/dist-packages/torch/nn/modules/module.py:974: UserWarning: Using a non-full backward hook when the forward contains multiple autograd Nodes is deprecated and will be removed in future versions. This hook will be missing some grad_input. Please use register_full_backward_hook to get the documented behavior.\n",
            "  warnings.warn(\"Using a non-full backward hook when the forward contains multiple autograd Nodes \"\n",
            "0% [███████████████] 100% | ETA: 00:00:00\n",
            "Total time elapsed: 00:00:04\n"
          ]
        },
        {
          "output_type": "stream",
          "name": "stdout",
          "text": [
            "Finished Epoch 8 || Run Time:    0.8 | Load Time:    3.5 || F1:  92.69 | Prec:  89.85 | Rec:  95.72 || Ex/s: 574.93\n",
            "\n"
          ]
        },
        {
          "output_type": "execute_result",
          "data": {
            "text/plain": [
              "tensor(92.6936, device='cuda:0')"
            ]
          },
          "metadata": {},
          "execution_count": 14
        }
      ],
      "source": [
        "# Compute F1 on test set\n",
        "model.run_eval(test)"
      ]
    },
    {
      "cell_type": "markdown",
      "metadata": {
        "id": "kfoEkQMa7jia"
      },
      "source": [
        "##### DBLP-GoogleScholar"
      ]
    },
    {
      "cell_type": "code",
      "execution_count": 15,
      "metadata": {
        "id": "44lHWm9x7jia"
      },
      "outputs": [],
      "source": [
        "train, validation, test = dm.data.process(\n",
        "    path='/content/IC/datasesErros/ADirty_90_3_5/Structured/DBLP-GoogleScholar/',\n",
        "    train='joined_train.csv',\n",
        "    validation='joined_valid.csv',\n",
        "    test='joined_test.csv')"
      ]
    },
    {
      "cell_type": "code",
      "execution_count": 16,
      "metadata": {
        "id": "6s0UXEsU7jib"
      },
      "outputs": [],
      "source": [
        "model = dm.MatchingModel(attr_summarizer='sif')"
      ]
    },
    {
      "cell_type": "code",
      "execution_count": 17,
      "metadata": {
        "id": "vxB1T6-K7jib",
        "colab": {
          "base_uri": "https://localhost:8080/"
        },
        "outputId": "d98503c7-fcd1-46ab-cca8-c067e865daac"
      },
      "outputs": [
        {
          "output_type": "stream",
          "name": "stdout",
          "text": [
            "* Number of trainable parameters: 542402\n",
            "===>  TRAIN Epoch 1\n"
          ]
        },
        {
          "output_type": "stream",
          "name": "stderr",
          "text": [
            "/usr/local/lib/python3.7/dist-packages/torch/nn/modules/module.py:974: UserWarning: Using a non-full backward hook when the forward contains multiple autograd Nodes is deprecated and will be removed in future versions. This hook will be missing some grad_input. Please use register_full_backward_hook to get the documented behavior.\n",
            "  warnings.warn(\"Using a non-full backward hook when the forward contains multiple autograd Nodes \"\n",
            "/usr/local/lib/python3.7/dist-packages/torch/nn/functional.py:2742: UserWarning: reduction: 'mean' divides the total loss by both the batch size and the support size.'batchmean' divides only by the batch size, and aligns with the KL div math definition.'mean' will be changed to behave the same as 'batchmean' in the next major release.\n",
            "  \"reduction: 'mean' divides the total loss by both the batch size and the support size.\"\n",
            "0% [██████████████████████████████] 100% | ETA: 00:00:00\n",
            "Total time elapsed: 00:00:31\n"
          ]
        },
        {
          "output_type": "stream",
          "name": "stdout",
          "text": [
            "Finished Epoch 1 || Run Time:    9.0 | Load Time:   22.7 || F1:  50.97 | Prec:  45.75 | Rec:  57.53 || Ex/s: 543.04\n",
            "\n",
            "===>  EVAL Epoch 1\n"
          ]
        },
        {
          "output_type": "stream",
          "name": "stderr",
          "text": [
            "0% [██████████████████████████████] 100% | ETA: 00:00:00\n",
            "Total time elapsed: 00:00:08\n"
          ]
        },
        {
          "output_type": "stream",
          "name": "stdout",
          "text": [
            "Finished Epoch 1 || Run Time:    2.0 | Load Time:    7.0 || F1:  65.60 | Prec:  54.64 | Rec:  82.06 || Ex/s: 640.85\n",
            "\n",
            "* Best F1: tensor(65.5958, device='cuda:0')\n",
            "Saving best model...\n",
            "Done.\n",
            "---------------------\n",
            "\n",
            "===>  TRAIN Epoch 2\n"
          ]
        },
        {
          "output_type": "stream",
          "name": "stderr",
          "text": [
            "0% [██████████████████████████████] 100% | ETA: 00:00:00\n",
            "Total time elapsed: 00:00:31\n"
          ]
        },
        {
          "output_type": "stream",
          "name": "stdout",
          "text": [
            "Finished Epoch 2 || Run Time:    8.9 | Load Time:   22.5 || F1:  74.71 | Prec:  64.26 | Rec:  89.21 || Ex/s: 549.32\n",
            "\n",
            "===>  EVAL Epoch 2\n"
          ]
        },
        {
          "output_type": "stream",
          "name": "stderr",
          "text": [
            "0% [██████████████████████████████] 100% | ETA: 00:00:00\n",
            "Total time elapsed: 00:00:08\n"
          ]
        },
        {
          "output_type": "stream",
          "name": "stdout",
          "text": [
            "Finished Epoch 2 || Run Time:    1.9 | Load Time:    6.9 || F1:  73.43 | Prec:  67.53 | Rec:  80.47 || Ex/s: 653.42\n",
            "\n",
            "* Best F1: tensor(73.4328, device='cuda:0')\n",
            "Saving best model...\n",
            "Done.\n",
            "---------------------\n",
            "\n",
            "===>  TRAIN Epoch 3\n"
          ]
        },
        {
          "output_type": "stream",
          "name": "stderr",
          "text": [
            "0% [██████████████████████████████] 100% | ETA: 00:00:00\n",
            "Total time elapsed: 00:00:31\n"
          ]
        },
        {
          "output_type": "stream",
          "name": "stdout",
          "text": [
            "Finished Epoch 3 || Run Time:    9.0 | Load Time:   22.7 || F1:  85.84 | Prec:  78.51 | Rec:  94.67 || Ex/s: 542.58\n",
            "\n",
            "===>  EVAL Epoch 3\n"
          ]
        },
        {
          "output_type": "stream",
          "name": "stderr",
          "text": [
            "0% [██████████████████████████████] 100% | ETA: 00:00:00\n",
            "Total time elapsed: 00:00:08\n"
          ]
        },
        {
          "output_type": "stream",
          "name": "stdout",
          "text": [
            "Finished Epoch 3 || Run Time:    1.9 | Load Time:    6.9 || F1:  73.95 | Prec:  75.83 | Rec:  72.15 || Ex/s: 647.50\n",
            "\n",
            "* Best F1: tensor(73.9464, device='cuda:0')\n",
            "Saving best model...\n",
            "Done.\n",
            "---------------------\n",
            "\n",
            "===>  TRAIN Epoch 4\n"
          ]
        },
        {
          "output_type": "stream",
          "name": "stderr",
          "text": [
            "0% [██████████████████████████████] 100% | ETA: 00:00:00\n",
            "Total time elapsed: 00:00:31\n"
          ]
        },
        {
          "output_type": "stream",
          "name": "stdout",
          "text": [
            "Finished Epoch 4 || Run Time:    8.8 | Load Time:   22.5 || F1:  92.26 | Prec:  87.65 | Rec:  97.38 || Ex/s: 550.22\n",
            "\n",
            "===>  EVAL Epoch 4\n"
          ]
        },
        {
          "output_type": "stream",
          "name": "stderr",
          "text": [
            "0% [██████████████████████████████] 100% | ETA: 00:00:00\n",
            "Total time elapsed: 00:00:08\n"
          ]
        },
        {
          "output_type": "stream",
          "name": "stdout",
          "text": [
            "Finished Epoch 4 || Run Time:    2.0 | Load Time:    6.9 || F1:  74.96 | Prec:  71.40 | Rec:  78.88 || Ex/s: 644.75\n",
            "\n",
            "* Best F1: tensor(74.9556, device='cuda:0')\n",
            "Saving best model...\n",
            "Done.\n",
            "---------------------\n",
            "\n",
            "===>  TRAIN Epoch 5\n"
          ]
        },
        {
          "output_type": "stream",
          "name": "stderr",
          "text": [
            "0% [██████████████████████████████] 100% | ETA: 00:00:00\n",
            "Total time elapsed: 00:00:31\n"
          ]
        },
        {
          "output_type": "stream",
          "name": "stdout",
          "text": [
            "Finished Epoch 5 || Run Time:    9.0 | Load Time:   22.8 || F1:  95.93 | Prec:  93.59 | Rec:  98.38 || Ex/s: 541.99\n",
            "\n",
            "===>  EVAL Epoch 5\n"
          ]
        },
        {
          "output_type": "stream",
          "name": "stderr",
          "text": [
            "0% [██████████████████████████████] 100% | ETA: 00:00:00\n",
            "Total time elapsed: 00:00:08\n"
          ]
        },
        {
          "output_type": "stream",
          "name": "stdout",
          "text": [
            "Finished Epoch 5 || Run Time:    1.9 | Load Time:    7.0 || F1:  73.77 | Prec:  76.20 | Rec:  71.50 || Ex/s: 642.22\n",
            "\n",
            "---------------------\n",
            "\n",
            "===>  TRAIN Epoch 6\n"
          ]
        },
        {
          "output_type": "stream",
          "name": "stderr",
          "text": [
            "0% [██████████████████████████████] 100% | ETA: 00:00:00\n",
            "Total time elapsed: 00:00:30\n"
          ]
        },
        {
          "output_type": "stream",
          "name": "stdout",
          "text": [
            "Finished Epoch 6 || Run Time:    8.6 | Load Time:   22.4 || F1:  97.79 | Prec:  96.94 | Rec:  98.66 || Ex/s: 554.69\n",
            "\n",
            "===>  EVAL Epoch 6\n"
          ]
        },
        {
          "output_type": "stream",
          "name": "stderr",
          "text": [
            "0% [██████████████████████████████] 100% | ETA: 00:00:00\n",
            "Total time elapsed: 00:00:08\n"
          ]
        },
        {
          "output_type": "stream",
          "name": "stdout",
          "text": [
            "Finished Epoch 6 || Run Time:    1.9 | Load Time:    6.9 || F1:  74.53 | Prec:  73.74 | Rec:  75.33 || Ex/s: 657.96\n",
            "\n",
            "---------------------\n",
            "\n",
            "===>  TRAIN Epoch 7\n"
          ]
        },
        {
          "output_type": "stream",
          "name": "stderr",
          "text": [
            "0% [██████████████████████████████] 100% | ETA: 00:00:00\n",
            "Total time elapsed: 00:00:31\n"
          ]
        },
        {
          "output_type": "stream",
          "name": "stdout",
          "text": [
            "Finished Epoch 7 || Run Time:    8.7 | Load Time:   22.6 || F1:  98.77 | Prec:  98.54 | Rec:  99.00 || Ex/s: 549.90\n",
            "\n",
            "===>  EVAL Epoch 7\n"
          ]
        },
        {
          "output_type": "stream",
          "name": "stderr",
          "text": [
            "0% [██████████████████████████████] 100% | ETA: 00:00:00\n",
            "Total time elapsed: 00:00:08\n"
          ]
        },
        {
          "output_type": "stream",
          "name": "stdout",
          "text": [
            "Finished Epoch 7 || Run Time:    1.9 | Load Time:    6.9 || F1:  74.27 | Prec:  73.42 | Rec:  75.14 || Ex/s: 651.24\n",
            "\n",
            "---------------------\n",
            "\n",
            "===>  TRAIN Epoch 8\n"
          ]
        },
        {
          "output_type": "stream",
          "name": "stderr",
          "text": [
            "0% [██████████████████████████████] 100% | ETA: 00:00:00\n",
            "Total time elapsed: 00:00:30\n"
          ]
        },
        {
          "output_type": "stream",
          "name": "stdout",
          "text": [
            "Finished Epoch 8 || Run Time:    8.6 | Load Time:   22.4 || F1:  99.05 | Prec:  98.94 | Rec:  99.16 || Ex/s: 555.62\n",
            "\n",
            "===>  EVAL Epoch 8\n"
          ]
        },
        {
          "output_type": "stream",
          "name": "stderr",
          "text": [
            "0% [██████████████████████████████] 100% | ETA: 00:00:00\n",
            "Total time elapsed: 00:00:08\n"
          ]
        },
        {
          "output_type": "stream",
          "name": "stdout",
          "text": [
            "Finished Epoch 8 || Run Time:    1.8 | Load Time:    6.9 || F1:  73.97 | Prec:  74.11 | Rec:  73.83 || Ex/s: 659.14\n",
            "\n",
            "---------------------\n",
            "\n",
            "===>  TRAIN Epoch 9\n"
          ]
        },
        {
          "output_type": "stream",
          "name": "stderr",
          "text": [
            "0% [██████████████████████████████] 100% | ETA: 00:00:00\n",
            "Total time elapsed: 00:00:30\n"
          ]
        },
        {
          "output_type": "stream",
          "name": "stdout",
          "text": [
            "Finished Epoch 9 || Run Time:    8.7 | Load Time:   22.5 || F1:  99.31 | Prec:  99.38 | Rec:  99.25 || Ex/s: 553.08\n",
            "\n",
            "===>  EVAL Epoch 9\n"
          ]
        },
        {
          "output_type": "stream",
          "name": "stderr",
          "text": [
            "0% [██████████████████████████████] 100% | ETA: 00:00:00\n",
            "Total time elapsed: 00:00:09\n"
          ]
        },
        {
          "output_type": "stream",
          "name": "stdout",
          "text": [
            "Finished Epoch 9 || Run Time:    1.9 | Load Time:    7.2 || F1:  73.66 | Prec:  75.24 | Rec:  72.15 || Ex/s: 630.55\n",
            "\n",
            "---------------------\n",
            "\n",
            "===>  TRAIN Epoch 10\n"
          ]
        },
        {
          "output_type": "stream",
          "name": "stderr",
          "text": [
            "0% [██████████████████████████████] 100% | ETA: 00:00:00\n",
            "Total time elapsed: 00:00:31\n"
          ]
        },
        {
          "output_type": "stream",
          "name": "stdout",
          "text": [
            "Finished Epoch 10 || Run Time:    9.0 | Load Time:   22.5 || F1:  99.49 | Prec:  99.56 | Rec:  99.41 || Ex/s: 546.98\n",
            "\n",
            "===>  EVAL Epoch 10\n"
          ]
        },
        {
          "output_type": "stream",
          "name": "stderr",
          "text": [
            "0% [██████████████████████████████] 100% | ETA: 00:00:00\n",
            "Total time elapsed: 00:00:08\n"
          ]
        },
        {
          "output_type": "stream",
          "name": "stdout",
          "text": [
            "Finished Epoch 10 || Run Time:    1.9 | Load Time:    6.9 || F1:  72.82 | Prec:  75.76 | Rec:  70.09 || Ex/s: 656.96\n",
            "\n",
            "---------------------\n",
            "\n",
            "===>  TRAIN Epoch 11\n"
          ]
        },
        {
          "output_type": "stream",
          "name": "stderr",
          "text": [
            "0% [██████████████████████████████] 100% | ETA: 00:00:00\n",
            "Total time elapsed: 00:00:30\n"
          ]
        },
        {
          "output_type": "stream",
          "name": "stdout",
          "text": [
            "Finished Epoch 11 || Run Time:    8.7 | Load Time:   22.4 || F1:  99.56 | Prec:  99.66 | Rec:  99.47 || Ex/s: 553.72\n",
            "\n",
            "===>  EVAL Epoch 11\n"
          ]
        },
        {
          "output_type": "stream",
          "name": "stderr",
          "text": [
            "0% [██████████████████████████████] 100% | ETA: 00:00:00\n",
            "Total time elapsed: 00:00:08\n"
          ]
        },
        {
          "output_type": "stream",
          "name": "stdout",
          "text": [
            "Finished Epoch 11 || Run Time:    1.9 | Load Time:    6.9 || F1:  72.46 | Prec:  75.87 | Rec:  69.35 || Ex/s: 651.40\n",
            "\n",
            "---------------------\n",
            "\n",
            "===>  TRAIN Epoch 12\n"
          ]
        },
        {
          "output_type": "stream",
          "name": "stderr",
          "text": [
            "0% [██████████████████████████████] 100% | ETA: 00:00:00\n",
            "Total time elapsed: 00:00:31\n"
          ]
        },
        {
          "output_type": "stream",
          "name": "stdout",
          "text": [
            "Finished Epoch 12 || Run Time:    8.8 | Load Time:   22.6 || F1:  99.64 | Prec:  99.75 | Rec:  99.53 || Ex/s: 548.56\n",
            "\n",
            "===>  EVAL Epoch 12\n"
          ]
        },
        {
          "output_type": "stream",
          "name": "stderr",
          "text": [
            "0% [██████████████████████████████] 100% | ETA: 00:00:00\n",
            "Total time elapsed: 00:00:08\n"
          ]
        },
        {
          "output_type": "stream",
          "name": "stdout",
          "text": [
            "Finished Epoch 12 || Run Time:    1.8 | Load Time:    6.9 || F1:  72.23 | Prec:  75.59 | Rec:  69.16 || Ex/s: 660.32\n",
            "\n",
            "---------------------\n",
            "\n",
            "===>  TRAIN Epoch 13\n"
          ]
        },
        {
          "output_type": "stream",
          "name": "stderr",
          "text": [
            "0% [██████████████████████████████] 100% | ETA: 00:00:00\n",
            "Total time elapsed: 00:00:30\n"
          ]
        },
        {
          "output_type": "stream",
          "name": "stdout",
          "text": [
            "Finished Epoch 13 || Run Time:    8.8 | Load Time:   22.4 || F1:  99.66 | Prec:  99.75 | Rec:  99.56 || Ex/s: 551.10\n",
            "\n",
            "===>  EVAL Epoch 13\n"
          ]
        },
        {
          "output_type": "stream",
          "name": "stderr",
          "text": [
            "0% [██████████████████████████████] 100% | ETA: 00:00:00\n",
            "Total time elapsed: 00:00:08\n"
          ]
        },
        {
          "output_type": "stream",
          "name": "stdout",
          "text": [
            "Finished Epoch 13 || Run Time:    2.0 | Load Time:    7.0 || F1:  72.26 | Prec:  75.54 | Rec:  69.25 || Ex/s: 642.83\n",
            "\n",
            "---------------------\n",
            "\n",
            "===>  TRAIN Epoch 14\n"
          ]
        },
        {
          "output_type": "stream",
          "name": "stderr",
          "text": [
            "0% [██████████████████████████████] 100% | ETA: 00:00:00\n",
            "Total time elapsed: 00:00:31\n"
          ]
        },
        {
          "output_type": "stream",
          "name": "stdout",
          "text": [
            "Finished Epoch 14 || Run Time:    8.8 | Load Time:   22.6 || F1:  99.72 | Prec:  99.81 | Rec:  99.63 || Ex/s: 547.55\n",
            "\n",
            "===>  EVAL Epoch 14\n"
          ]
        },
        {
          "output_type": "stream",
          "name": "stderr",
          "text": [
            "0% [██████████████████████████████] 100% | ETA: 00:00:00\n",
            "Total time elapsed: 00:00:08\n"
          ]
        },
        {
          "output_type": "stream",
          "name": "stdout",
          "text": [
            "Finished Epoch 14 || Run Time:    1.9 | Load Time:    6.9 || F1:  72.37 | Prec:  75.46 | Rec:  69.53 || Ex/s: 654.63\n",
            "\n",
            "---------------------\n",
            "\n",
            "===>  TRAIN Epoch 15\n"
          ]
        },
        {
          "output_type": "stream",
          "name": "stderr",
          "text": [
            "0% [██████████████████████████████] 100% | ETA: 00:00:00\n",
            "Total time elapsed: 00:00:30\n"
          ]
        },
        {
          "output_type": "stream",
          "name": "stdout",
          "text": [
            "Finished Epoch 15 || Run Time:    8.7 | Load Time:   22.4 || F1:  99.77 | Prec:  99.84 | Rec:  99.69 || Ex/s: 554.90\n",
            "\n",
            "===>  EVAL Epoch 15\n"
          ]
        },
        {
          "output_type": "stream",
          "name": "stderr",
          "text": [
            "0% [██████████████████████████████] 100% | ETA: 00:00:00\n",
            "Total time elapsed: 00:00:08\n"
          ]
        },
        {
          "output_type": "stream",
          "name": "stdout",
          "text": [
            "Finished Epoch 15 || Run Time:    1.9 | Load Time:    6.9 || F1:  72.56 | Prec:  75.53 | Rec:  69.81 || Ex/s: 652.64\n",
            "\n",
            "---------------------\n",
            "\n",
            "Loading best model...\n",
            "Training done.\n"
          ]
        },
        {
          "output_type": "execute_result",
          "data": {
            "text/plain": [
              "tensor(74.9556, device='cuda:0')"
            ]
          },
          "metadata": {},
          "execution_count": 17
        }
      ],
      "source": [
        "model.run_train(\n",
        "    train,\n",
        "    validation,\n",
        "    epochs=15,\n",
        "    batch_size=32,\n",
        "    best_save_path='sif_model.pth',\n",
        "    pos_neg_ratio=3)"
      ]
    },
    {
      "cell_type": "code",
      "execution_count": 18,
      "metadata": {
        "id": "6KTfXvYq7jib",
        "colab": {
          "base_uri": "https://localhost:8080/"
        },
        "outputId": "366aeb14-34b2-414e-ad75-e82c7622cece"
      },
      "outputs": [
        {
          "output_type": "stream",
          "name": "stdout",
          "text": [
            "===>  EVAL Epoch 4\n"
          ]
        },
        {
          "output_type": "stream",
          "name": "stderr",
          "text": [
            "/usr/local/lib/python3.7/dist-packages/torch/nn/modules/module.py:974: UserWarning: Using a non-full backward hook when the forward contains multiple autograd Nodes is deprecated and will be removed in future versions. This hook will be missing some grad_input. Please use register_full_backward_hook to get the documented behavior.\n",
            "  warnings.warn(\"Using a non-full backward hook when the forward contains multiple autograd Nodes \"\n",
            "0% [██████████████████████████████] 100% | ETA: 00:00:00\n",
            "Total time elapsed: 00:00:08\n"
          ]
        },
        {
          "output_type": "stream",
          "name": "stdout",
          "text": [
            "Finished Epoch 4 || Run Time:    1.9 | Load Time:    7.0 || F1:  71.96 | Prec:  67.82 | Rec:  76.64 || Ex/s: 647.02\n",
            "\n"
          ]
        },
        {
          "output_type": "execute_result",
          "data": {
            "text/plain": [
              "tensor(71.9614, device='cuda:0')"
            ]
          },
          "metadata": {},
          "execution_count": 18
        }
      ],
      "source": [
        "# Compute F1 on test set\n",
        "model.run_eval(test)"
      ]
    },
    {
      "cell_type": "markdown",
      "metadata": {
        "id": "nQTv2vdI7jic"
      },
      "source": [
        "##### Walmart-Amazon"
      ]
    },
    {
      "cell_type": "code",
      "execution_count": 19,
      "metadata": {
        "id": "Iz-jzR917jic"
      },
      "outputs": [],
      "source": [
        "train, validation, test = dm.data.process(\n",
        "    path='/content/IC/datasesErros/ADirty_90_3_5/Structured/Walmart-Amazon/',\n",
        "    train='joined_train.csv',\n",
        "    validation='joined_valid.csv',\n",
        "    test='joined_test.csv')"
      ]
    },
    {
      "cell_type": "code",
      "execution_count": 20,
      "metadata": {
        "id": "tPLnyQy97jid"
      },
      "outputs": [],
      "source": [
        "model = dm.MatchingModel(attr_summarizer='sif')"
      ]
    },
    {
      "cell_type": "code",
      "execution_count": 21,
      "metadata": {
        "id": "SGL7wIyt7jid",
        "colab": {
          "base_uri": "https://localhost:8080/"
        },
        "outputId": "cc4154b8-1983-4fe7-8b53-d56123866a4b"
      },
      "outputs": [
        {
          "output_type": "stream",
          "name": "stdout",
          "text": [
            "* Number of trainable parameters: 542402\n",
            "===>  TRAIN Epoch 1\n"
          ]
        },
        {
          "output_type": "stream",
          "name": "stderr",
          "text": [
            "/usr/local/lib/python3.7/dist-packages/torch/nn/modules/module.py:974: UserWarning: Using a non-full backward hook when the forward contains multiple autograd Nodes is deprecated and will be removed in future versions. This hook will be missing some grad_input. Please use register_full_backward_hook to get the documented behavior.\n",
            "  warnings.warn(\"Using a non-full backward hook when the forward contains multiple autograd Nodes \"\n",
            "/usr/local/lib/python3.7/dist-packages/torch/nn/functional.py:2742: UserWarning: reduction: 'mean' divides the total loss by both the batch size and the support size.'batchmean' divides only by the batch size, and aligns with the KL div math definition.'mean' will be changed to behave the same as 'batchmean' in the next major release.\n",
            "  \"reduction: 'mean' divides the total loss by both the batch size and the support size.\"\n",
            "0% [██████████████████████████████] 100% | ETA: 00:00:00\n",
            "Total time elapsed: 00:00:09\n"
          ]
        },
        {
          "output_type": "stream",
          "name": "stdout",
          "text": [
            "Finished Epoch 1 || Run Time:    3.7 | Load Time:    6.2 || F1:  23.48 | Prec:  57.43 | Rec:  14.76 || Ex/s: 619.42\n",
            "\n",
            "===>  EVAL Epoch 1\n"
          ]
        },
        {
          "output_type": "stream",
          "name": "stderr",
          "text": [
            "0% [█████████████] 100% | ETA: 00:00:00\n",
            "Total time elapsed: 00:00:02\n"
          ]
        },
        {
          "output_type": "stream",
          "name": "stdout",
          "text": [
            "Finished Epoch 1 || Run Time:    0.8 | Load Time:    1.9 || F1:  49.57 | Prec:  55.06 | Rec:  45.08 || Ex/s: 747.12\n",
            "\n",
            "* Best F1: tensor(49.5727, device='cuda:0')\n",
            "Saving best model...\n",
            "Done.\n",
            "---------------------\n",
            "\n",
            "===>  TRAIN Epoch 2\n"
          ]
        },
        {
          "output_type": "stream",
          "name": "stderr",
          "text": [
            "0% [██████████████████████████████] 100% | ETA: 00:00:00\n",
            "Total time elapsed: 00:00:10\n"
          ]
        },
        {
          "output_type": "stream",
          "name": "stdout",
          "text": [
            "Finished Epoch 2 || Run Time:    4.0 | Load Time:    6.4 || F1:  53.12 | Prec:  56.45 | Rec:  50.17 || Ex/s: 591.29\n",
            "\n",
            "===>  EVAL Epoch 2\n"
          ]
        },
        {
          "output_type": "stream",
          "name": "stderr",
          "text": [
            "0% [█████████████] 100% | ETA: 00:00:00\n",
            "Total time elapsed: 00:00:02\n"
          ]
        },
        {
          "output_type": "stream",
          "name": "stdout",
          "text": [
            "Finished Epoch 2 || Run Time:    0.8 | Load Time:    1.9 || F1:  52.41 | Prec:  54.14 | Rec:  50.78 || Ex/s: 738.85\n",
            "\n",
            "* Best F1: tensor(52.4064, device='cuda:0')\n",
            "Saving best model...\n",
            "Done.\n",
            "---------------------\n",
            "\n",
            "===>  TRAIN Epoch 3\n"
          ]
        },
        {
          "output_type": "stream",
          "name": "stderr",
          "text": [
            "0% [██████████████████████████████] 100% | ETA: 00:00:00\n",
            "Total time elapsed: 00:00:10\n"
          ]
        },
        {
          "output_type": "stream",
          "name": "stdout",
          "text": [
            "Finished Epoch 3 || Run Time:    4.0 | Load Time:    6.2 || F1:  65.85 | Prec:  66.26 | Rec:  65.45 || Ex/s: 602.32\n",
            "\n",
            "===>  EVAL Epoch 3\n"
          ]
        },
        {
          "output_type": "stream",
          "name": "stderr",
          "text": [
            "0% [█████████████] 100% | ETA: 00:00:00\n",
            "Total time elapsed: 00:00:02\n"
          ]
        },
        {
          "output_type": "stream",
          "name": "stdout",
          "text": [
            "Finished Epoch 3 || Run Time:    0.8 | Load Time:    1.9 || F1:  55.21 | Prec:  60.49 | Rec:  50.78 || Ex/s: 741.13\n",
            "\n",
            "* Best F1: tensor(55.2113, device='cuda:0')\n",
            "Saving best model...\n",
            "Done.\n",
            "---------------------\n",
            "\n",
            "===>  TRAIN Epoch 4\n"
          ]
        },
        {
          "output_type": "stream",
          "name": "stderr",
          "text": [
            "0% [██████████████████████████████] 100% | ETA: 00:00:00\n",
            "Total time elapsed: 00:00:09\n"
          ]
        },
        {
          "output_type": "stream",
          "name": "stdout",
          "text": [
            "Finished Epoch 4 || Run Time:    3.7 | Load Time:    6.2 || F1:  82.17 | Prec:  78.00 | Rec:  86.81 || Ex/s: 622.16\n",
            "\n",
            "===>  EVAL Epoch 4\n"
          ]
        },
        {
          "output_type": "stream",
          "name": "stderr",
          "text": [
            "0% [█████████████] 100% | ETA: 00:00:00\n",
            "Total time elapsed: 00:00:02\n"
          ]
        },
        {
          "output_type": "stream",
          "name": "stdout",
          "text": [
            "Finished Epoch 4 || Run Time:    0.8 | Load Time:    1.9 || F1:  55.75 | Prec:  62.58 | Rec:  50.26 || Ex/s: 747.76\n",
            "\n",
            "* Best F1: tensor(55.7471, device='cuda:0')\n",
            "Saving best model...\n",
            "Done.\n",
            "---------------------\n",
            "\n",
            "===>  TRAIN Epoch 5\n"
          ]
        },
        {
          "output_type": "stream",
          "name": "stderr",
          "text": [
            "0% [██████████████████████████████] 100% | ETA: 00:00:00\n",
            "Total time elapsed: 00:00:09\n"
          ]
        },
        {
          "output_type": "stream",
          "name": "stdout",
          "text": [
            "Finished Epoch 5 || Run Time:    3.8 | Load Time:    6.1 || F1:  92.69 | Prec:  90.83 | Rec:  94.62 || Ex/s: 619.00\n",
            "\n",
            "===>  EVAL Epoch 5\n"
          ]
        },
        {
          "output_type": "stream",
          "name": "stderr",
          "text": [
            "0% [█████████████] 100% | ETA: 00:00:00\n",
            "Total time elapsed: 00:00:02\n"
          ]
        },
        {
          "output_type": "stream",
          "name": "stdout",
          "text": [
            "Finished Epoch 5 || Run Time:    0.8 | Load Time:    2.0 || F1:  55.90 | Prec:  69.77 | Rec:  46.63 || Ex/s: 735.22\n",
            "\n",
            "* Best F1: tensor(55.9006, device='cuda:0')\n",
            "Saving best model...\n",
            "Done.\n",
            "---------------------\n",
            "\n",
            "===>  TRAIN Epoch 6\n"
          ]
        },
        {
          "output_type": "stream",
          "name": "stderr",
          "text": [
            "0% [██████████████████████████████] 100% | ETA: 00:00:00\n",
            "Total time elapsed: 00:00:09\n"
          ]
        },
        {
          "output_type": "stream",
          "name": "stdout",
          "text": [
            "Finished Epoch 6 || Run Time:    3.8 | Load Time:    6.2 || F1:  96.79 | Prec:  96.71 | Rec:  96.88 || Ex/s: 615.04\n",
            "\n",
            "===>  EVAL Epoch 6\n"
          ]
        },
        {
          "output_type": "stream",
          "name": "stderr",
          "text": [
            "0% [█████████████] 100% | ETA: 00:00:00\n",
            "Total time elapsed: 00:00:02\n"
          ]
        },
        {
          "output_type": "stream",
          "name": "stdout",
          "text": [
            "Finished Epoch 6 || Run Time:    0.8 | Load Time:    1.9 || F1:  54.71 | Prec:  66.18 | Rec:  46.63 || Ex/s: 748.29\n",
            "\n",
            "---------------------\n",
            "\n",
            "===>  TRAIN Epoch 7\n"
          ]
        },
        {
          "output_type": "stream",
          "name": "stderr",
          "text": [
            "0% [██████████████████████████████] 100% | ETA: 00:00:00\n",
            "Total time elapsed: 00:00:09\n"
          ]
        },
        {
          "output_type": "stream",
          "name": "stdout",
          "text": [
            "Finished Epoch 7 || Run Time:    3.7 | Load Time:    6.1 || F1:  98.26 | Prec:  98.26 | Rec:  98.26 || Ex/s: 622.18\n",
            "\n",
            "===>  EVAL Epoch 7\n"
          ]
        },
        {
          "output_type": "stream",
          "name": "stderr",
          "text": [
            "0% [█████████████] 100% | ETA: 00:00:00\n",
            "Total time elapsed: 00:00:02\n"
          ]
        },
        {
          "output_type": "stream",
          "name": "stdout",
          "text": [
            "Finished Epoch 7 || Run Time:    0.8 | Load Time:    1.9 || F1:  54.17 | Prec:  63.64 | Rec:  47.15 || Ex/s: 749.34\n",
            "\n",
            "---------------------\n",
            "\n",
            "===>  TRAIN Epoch 8\n"
          ]
        },
        {
          "output_type": "stream",
          "name": "stderr",
          "text": [
            "0% [██████████████████████████████] 100% | ETA: 00:00:00\n",
            "Total time elapsed: 00:00:09\n"
          ]
        },
        {
          "output_type": "stream",
          "name": "stdout",
          "text": [
            "Finished Epoch 8 || Run Time:    3.7 | Load Time:    6.1 || F1:  99.22 | Prec:  99.48 | Rec:  98.96 || Ex/s: 624.00\n",
            "\n",
            "===>  EVAL Epoch 8\n"
          ]
        },
        {
          "output_type": "stream",
          "name": "stderr",
          "text": [
            "0% [█████████████] 100% | ETA: 00:00:00\n",
            "Total time elapsed: 00:00:02\n"
          ]
        },
        {
          "output_type": "stream",
          "name": "stdout",
          "text": [
            "Finished Epoch 8 || Run Time:    0.8 | Load Time:    1.9 || F1:  53.09 | Prec:  65.65 | Rec:  44.56 || Ex/s: 748.42\n",
            "\n",
            "---------------------\n",
            "\n",
            "===>  TRAIN Epoch 9\n"
          ]
        },
        {
          "output_type": "stream",
          "name": "stderr",
          "text": [
            "0% [██████████████████████████████] 100% | ETA: 00:00:00\n",
            "Total time elapsed: 00:00:10\n"
          ]
        },
        {
          "output_type": "stream",
          "name": "stdout",
          "text": [
            "Finished Epoch 9 || Run Time:    3.8 | Load Time:    6.3 || F1:  99.39 | Prec:  99.82 | Rec:  98.96 || Ex/s: 606.60\n",
            "\n",
            "===>  EVAL Epoch 9\n"
          ]
        },
        {
          "output_type": "stream",
          "name": "stderr",
          "text": [
            "0% [█████████████] 100% | ETA: 00:00:00\n",
            "Total time elapsed: 00:00:02\n"
          ]
        },
        {
          "output_type": "stream",
          "name": "stdout",
          "text": [
            "Finished Epoch 9 || Run Time:    0.8 | Load Time:    1.9 || F1:  52.96 | Prec:  66.41 | Rec:  44.04 || Ex/s: 746.14\n",
            "\n",
            "---------------------\n",
            "\n",
            "===>  TRAIN Epoch 10\n"
          ]
        },
        {
          "output_type": "stream",
          "name": "stderr",
          "text": [
            "0% [██████████████████████████████] 100% | ETA: 00:00:00\n",
            "Total time elapsed: 00:00:09\n"
          ]
        },
        {
          "output_type": "stream",
          "name": "stdout",
          "text": [
            "Finished Epoch 10 || Run Time:    3.7 | Load Time:    6.1 || F1:  99.48 | Prec: 100.00 | Rec:  98.96 || Ex/s: 626.23\n",
            "\n",
            "===>  EVAL Epoch 10\n"
          ]
        },
        {
          "output_type": "stream",
          "name": "stderr",
          "text": [
            "0% [█████████████] 100% | ETA: 00:00:00\n",
            "Total time elapsed: 00:00:02\n"
          ]
        },
        {
          "output_type": "stream",
          "name": "stdout",
          "text": [
            "Finished Epoch 10 || Run Time:    0.8 | Load Time:    1.9 || F1:  52.76 | Prec:  64.66 | Rec:  44.56 || Ex/s: 748.20\n",
            "\n",
            "---------------------\n",
            "\n",
            "===>  TRAIN Epoch 11\n"
          ]
        },
        {
          "output_type": "stream",
          "name": "stderr",
          "text": [
            "0% [██████████████████████████████] 100% | ETA: 00:00:00\n",
            "Total time elapsed: 00:00:09\n"
          ]
        },
        {
          "output_type": "stream",
          "name": "stdout",
          "text": [
            "Finished Epoch 11 || Run Time:    3.7 | Load Time:    6.1 || F1:  99.56 | Prec: 100.00 | Rec:  99.13 || Ex/s: 625.65\n",
            "\n",
            "===>  EVAL Epoch 11\n"
          ]
        },
        {
          "output_type": "stream",
          "name": "stderr",
          "text": [
            "0% [█████████████] 100% | ETA: 00:00:00\n",
            "Total time elapsed: 00:00:02\n"
          ]
        },
        {
          "output_type": "stream",
          "name": "stdout",
          "text": [
            "Finished Epoch 11 || Run Time:    0.8 | Load Time:    1.9 || F1:  52.73 | Prec:  63.50 | Rec:  45.08 || Ex/s: 742.84\n",
            "\n",
            "---------------------\n",
            "\n",
            "===>  TRAIN Epoch 12\n"
          ]
        },
        {
          "output_type": "stream",
          "name": "stderr",
          "text": [
            "0% [██████████████████████████████] 100% | ETA: 00:00:00\n",
            "Total time elapsed: 00:00:10\n"
          ]
        },
        {
          "output_type": "stream",
          "name": "stdout",
          "text": [
            "Finished Epoch 12 || Run Time:    3.9 | Load Time:    6.2 || F1:  99.65 | Prec: 100.00 | Rec:  99.31 || Ex/s: 604.48\n",
            "\n",
            "===>  EVAL Epoch 12\n"
          ]
        },
        {
          "output_type": "stream",
          "name": "stderr",
          "text": [
            "0% [█████████████] 100% | ETA: 00:00:00\n",
            "Total time elapsed: 00:00:02\n"
          ]
        },
        {
          "output_type": "stream",
          "name": "stdout",
          "text": [
            "Finished Epoch 12 || Run Time:    0.9 | Load Time:    1.9 || F1:  52.10 | Prec:  61.70 | Rec:  45.08 || Ex/s: 729.06\n",
            "\n",
            "---------------------\n",
            "\n",
            "===>  TRAIN Epoch 13\n"
          ]
        },
        {
          "output_type": "stream",
          "name": "stderr",
          "text": [
            "0% [██████████████████████████████] 100% | ETA: 00:00:00\n",
            "Total time elapsed: 00:00:09\n"
          ]
        },
        {
          "output_type": "stream",
          "name": "stdout",
          "text": [
            "Finished Epoch 13 || Run Time:    3.8 | Load Time:    6.1 || F1:  99.65 | Prec: 100.00 | Rec:  99.31 || Ex/s: 616.05\n",
            "\n",
            "===>  EVAL Epoch 13\n"
          ]
        },
        {
          "output_type": "stream",
          "name": "stderr",
          "text": [
            "0% [█████████████] 100% | ETA: 00:00:00\n",
            "Total time elapsed: 00:00:02\n"
          ]
        },
        {
          "output_type": "stream",
          "name": "stdout",
          "text": [
            "Finished Epoch 13 || Run Time:    0.8 | Load Time:    1.9 || F1:  52.20 | Prec:  60.14 | Rec:  46.11 || Ex/s: 745.16\n",
            "\n",
            "---------------------\n",
            "\n",
            "===>  TRAIN Epoch 14\n"
          ]
        },
        {
          "output_type": "stream",
          "name": "stderr",
          "text": [
            "0% [██████████████████████████████] 100% | ETA: 00:00:00\n",
            "Total time elapsed: 00:00:09\n"
          ]
        },
        {
          "output_type": "stream",
          "name": "stdout",
          "text": [
            "Finished Epoch 14 || Run Time:    3.7 | Load Time:    6.1 || F1:  99.65 | Prec: 100.00 | Rec:  99.31 || Ex/s: 626.18\n",
            "\n",
            "===>  EVAL Epoch 14\n"
          ]
        },
        {
          "output_type": "stream",
          "name": "stderr",
          "text": [
            "0% [█████████████] 100% | ETA: 00:00:00\n",
            "Total time elapsed: 00:00:02\n"
          ]
        },
        {
          "output_type": "stream",
          "name": "stdout",
          "text": [
            "Finished Epoch 14 || Run Time:    0.8 | Load Time:    1.9 || F1:  51.90 | Prec:  59.33 | Rec:  46.11 || Ex/s: 750.43\n",
            "\n",
            "---------------------\n",
            "\n",
            "===>  TRAIN Epoch 15\n"
          ]
        },
        {
          "output_type": "stream",
          "name": "stderr",
          "text": [
            "0% [██████████████████████████████] 100% | ETA: 00:00:00\n",
            "Total time elapsed: 00:00:09\n"
          ]
        },
        {
          "output_type": "stream",
          "name": "stdout",
          "text": [
            "Finished Epoch 15 || Run Time:    3.8 | Load Time:    6.1 || F1:  99.65 | Prec: 100.00 | Rec:  99.31 || Ex/s: 619.20\n",
            "\n",
            "===>  EVAL Epoch 15\n"
          ]
        },
        {
          "output_type": "stream",
          "name": "stderr",
          "text": [
            "0% [█████████████] 100% | ETA: 00:00:00\n",
            "Total time elapsed: 00:00:02\n"
          ]
        },
        {
          "output_type": "stream",
          "name": "stdout",
          "text": [
            "Finished Epoch 15 || Run Time:    0.8 | Load Time:    1.9 || F1:  52.00 | Prec:  57.96 | Rec:  47.15 || Ex/s: 751.78\n",
            "\n",
            "---------------------\n",
            "\n",
            "Loading best model...\n",
            "Training done.\n"
          ]
        },
        {
          "output_type": "execute_result",
          "data": {
            "text/plain": [
              "tensor(55.9006, device='cuda:0')"
            ]
          },
          "metadata": {},
          "execution_count": 21
        }
      ],
      "source": [
        "model.run_train(\n",
        "    train,\n",
        "    validation,\n",
        "    epochs=15,\n",
        "    batch_size=32,\n",
        "    best_save_path='sif_model.pth',\n",
        "    pos_neg_ratio=3)"
      ]
    },
    {
      "cell_type": "code",
      "execution_count": 22,
      "metadata": {
        "id": "XszzAwWb7jid",
        "colab": {
          "base_uri": "https://localhost:8080/"
        },
        "outputId": "91fe6fb6-08a4-4698-df81-d4605eba9bd8"
      },
      "outputs": [
        {
          "output_type": "stream",
          "name": "stdout",
          "text": [
            "===>  EVAL Epoch 5\n"
          ]
        },
        {
          "output_type": "stream",
          "name": "stderr",
          "text": [
            "/usr/local/lib/python3.7/dist-packages/torch/nn/modules/module.py:974: UserWarning: Using a non-full backward hook when the forward contains multiple autograd Nodes is deprecated and will be removed in future versions. This hook will be missing some grad_input. Please use register_full_backward_hook to get the documented behavior.\n",
            "  warnings.warn(\"Using a non-full backward hook when the forward contains multiple autograd Nodes \"\n",
            "0% [█████████████] 100% | ETA: 00:00:00\n",
            "Total time elapsed: 00:00:02\n"
          ]
        },
        {
          "output_type": "stream",
          "name": "stdout",
          "text": [
            "Finished Epoch 5 || Run Time:    0.8 | Load Time:    1.9 || F1:  54.85 | Prec:  77.36 | Rec:  42.49 || Ex/s: 745.69\n",
            "\n"
          ]
        },
        {
          "output_type": "execute_result",
          "data": {
            "text/plain": [
              "tensor(54.8495, device='cuda:0')"
            ]
          },
          "metadata": {},
          "execution_count": 22
        }
      ],
      "source": [
        "# Compute F1 on test set\n",
        "model.run_eval(test)"
      ]
    },
    {
      "cell_type": "markdown",
      "metadata": {
        "id": "al1yPMIK7jie"
      },
      "source": [
        "#### TEXTUAL"
      ]
    },
    {
      "cell_type": "markdown",
      "metadata": {
        "id": "Jga5zNts7jie"
      },
      "source": [
        "##### Abt-Buy"
      ]
    },
    {
      "cell_type": "code",
      "execution_count": 23,
      "metadata": {
        "id": "cIdkzPVd7jie"
      },
      "outputs": [],
      "source": [
        "train, validation, test = dm.data.process(\n",
        "    path='/content/IC/datasesErros/ADirty_90_3_5/Textual/Abt-Buy/',\n",
        "    train='joined_train.csv',\n",
        "    validation='joined_valid.csv',\n",
        "    test='joined_test.csv')"
      ]
    },
    {
      "cell_type": "code",
      "execution_count": 24,
      "metadata": {
        "id": "U1FKBwwA7jif"
      },
      "outputs": [],
      "source": [
        "model = dm.MatchingModel(attr_summarizer='sif')"
      ]
    },
    {
      "cell_type": "code",
      "execution_count": 25,
      "metadata": {
        "id": "QE47sqwa7jif",
        "colab": {
          "base_uri": "https://localhost:8080/"
        },
        "outputId": "107f227c-7e58-4ba8-e1e1-55ee67fe5501"
      },
      "outputs": [
        {
          "output_type": "stream",
          "name": "stdout",
          "text": [
            "* Number of trainable parameters: 542402\n",
            "===>  TRAIN Epoch 1\n"
          ]
        },
        {
          "output_type": "stream",
          "name": "stderr",
          "text": [
            "/usr/local/lib/python3.7/dist-packages/torch/nn/modules/module.py:974: UserWarning: Using a non-full backward hook when the forward contains multiple autograd Nodes is deprecated and will be removed in future versions. This hook will be missing some grad_input. Please use register_full_backward_hook to get the documented behavior.\n",
            "  warnings.warn(\"Using a non-full backward hook when the forward contains multiple autograd Nodes \"\n",
            "/usr/local/lib/python3.7/dist-packages/torch/nn/functional.py:2742: UserWarning: reduction: 'mean' divides the total loss by both the batch size and the support size.'batchmean' divides only by the batch size, and aligns with the KL div math definition.'mean' will be changed to behave the same as 'batchmean' in the next major release.\n",
            "  \"reduction: 'mean' divides the total loss by both the batch size and the support size.\"\n",
            "0% [██████████████████████████████] 100% | ETA: 00:00:00\n",
            "Total time elapsed: 00:00:12\n"
          ]
        },
        {
          "output_type": "stream",
          "name": "stdout",
          "text": [
            "Finished Epoch 1 || Run Time:    2.5 | Load Time:    9.7 || F1:   0.64 | Prec:  40.00 | Rec:   0.32 || Ex/s: 469.32\n",
            "\n",
            "===>  EVAL Epoch 1\n"
          ]
        },
        {
          "output_type": "stream",
          "name": "stderr",
          "text": [
            "0% [████████████] 100% | ETA: 00:00:00\n",
            "Total time elapsed: 00:00:03\n"
          ]
        },
        {
          "output_type": "stream",
          "name": "stdout",
          "text": [
            "Finished Epoch 1 || Run Time:    0.5 | Load Time:    2.9 || F1:   0.00 | Prec:   0.00 | Rec:   0.00 || Ex/s: 562.94\n",
            "\n",
            "* Best F1: tensor(0., device='cuda:0')\n",
            "Saving best model...\n",
            "Done.\n",
            "---------------------\n",
            "\n",
            "===>  TRAIN Epoch 2\n"
          ]
        },
        {
          "output_type": "stream",
          "name": "stderr",
          "text": [
            "0% [██████████████████████████████] 100% | ETA: 00:00:00\n",
            "Total time elapsed: 00:00:12\n"
          ]
        },
        {
          "output_type": "stream",
          "name": "stdout",
          "text": [
            "Finished Epoch 2 || Run Time:    2.5 | Load Time:    9.7 || F1:  11.67 | Prec:  40.38 | Rec:   6.82 || Ex/s: 472.36\n",
            "\n",
            "===>  EVAL Epoch 2\n"
          ]
        },
        {
          "output_type": "stream",
          "name": "stderr",
          "text": [
            "0% [████████████] 100% | ETA: 00:00:00\n",
            "Total time elapsed: 00:00:03\n"
          ]
        },
        {
          "output_type": "stream",
          "name": "stdout",
          "text": [
            "Finished Epoch 2 || Run Time:    0.5 | Load Time:    2.9 || F1:   5.65 | Prec:  16.67 | Rec:   3.40 || Ex/s: 568.62\n",
            "\n",
            "* Best F1: tensor(5.6452, device='cuda:0')\n",
            "Saving best model...\n",
            "Done.\n",
            "---------------------\n",
            "\n",
            "===>  TRAIN Epoch 3\n"
          ]
        },
        {
          "output_type": "stream",
          "name": "stderr",
          "text": [
            "0% [██████████████████████████████] 100% | ETA: 00:00:00\n",
            "Total time elapsed: 00:00:12\n"
          ]
        },
        {
          "output_type": "stream",
          "name": "stdout",
          "text": [
            "Finished Epoch 3 || Run Time:    2.4 | Load Time:    9.7 || F1:  40.40 | Prec:  46.23 | Rec:  35.88 || Ex/s: 474.47\n",
            "\n",
            "===>  EVAL Epoch 3\n"
          ]
        },
        {
          "output_type": "stream",
          "name": "stderr",
          "text": [
            "0% [████████████] 100% | ETA: 00:00:00\n",
            "Total time elapsed: 00:00:03\n"
          ]
        },
        {
          "output_type": "stream",
          "name": "stdout",
          "text": [
            "Finished Epoch 3 || Run Time:    0.5 | Load Time:    2.9 || F1:  11.18 | Prec:  14.18 | Rec:   9.22 || Ex/s: 567.56\n",
            "\n",
            "* Best F1: tensor(11.1765, device='cuda:0')\n",
            "Saving best model...\n",
            "Done.\n",
            "---------------------\n",
            "\n",
            "===>  TRAIN Epoch 4\n"
          ]
        },
        {
          "output_type": "stream",
          "name": "stderr",
          "text": [
            "0% [██████████████████████████████] 100% | ETA: 00:00:00\n",
            "Total time elapsed: 00:00:12\n"
          ]
        },
        {
          "output_type": "stream",
          "name": "stdout",
          "text": [
            "Finished Epoch 4 || Run Time:    2.5 | Load Time:    9.7 || F1:  60.62 | Prec:  54.78 | Rec:  67.86 || Ex/s: 471.83\n",
            "\n",
            "===>  EVAL Epoch 4\n"
          ]
        },
        {
          "output_type": "stream",
          "name": "stderr",
          "text": [
            "0% [████████████] 100% | ETA: 00:00:00\n",
            "Total time elapsed: 00:00:03\n"
          ]
        },
        {
          "output_type": "stream",
          "name": "stdout",
          "text": [
            "Finished Epoch 4 || Run Time:    0.5 | Load Time:    2.9 || F1:  13.03 | Prec:  13.47 | Rec:  12.62 || Ex/s: 568.86\n",
            "\n",
            "* Best F1: tensor(13.0326, device='cuda:0')\n",
            "Saving best model...\n",
            "Done.\n",
            "---------------------\n",
            "\n",
            "===>  TRAIN Epoch 5\n"
          ]
        },
        {
          "output_type": "stream",
          "name": "stderr",
          "text": [
            "0% [██████████████████████████████] 100% | ETA: 00:00:00\n",
            "Total time elapsed: 00:00:12\n"
          ]
        },
        {
          "output_type": "stream",
          "name": "stdout",
          "text": [
            "Finished Epoch 5 || Run Time:    2.5 | Load Time:    9.9 || F1:  72.09 | Prec:  63.46 | Rec:  83.44 || Ex/s: 463.96\n",
            "\n",
            "===>  EVAL Epoch 5\n"
          ]
        },
        {
          "output_type": "stream",
          "name": "stderr",
          "text": [
            "0% [████████████] 100% | ETA: 00:00:00\n",
            "Total time elapsed: 00:00:03\n"
          ]
        },
        {
          "output_type": "stream",
          "name": "stdout",
          "text": [
            "Finished Epoch 5 || Run Time:    0.5 | Load Time:    3.0 || F1:  13.25 | Prec:  12.15 | Rec:  14.56 || Ex/s: 552.00\n",
            "\n",
            "* Best F1: tensor(13.2450, device='cuda:0')\n",
            "Saving best model...\n",
            "Done.\n",
            "---------------------\n",
            "\n",
            "===>  TRAIN Epoch 6\n"
          ]
        },
        {
          "output_type": "stream",
          "name": "stderr",
          "text": [
            "0% [██████████████████████████████] 100% | ETA: 00:00:00\n",
            "Total time elapsed: 00:00:12\n"
          ]
        },
        {
          "output_type": "stream",
          "name": "stdout",
          "text": [
            "Finished Epoch 6 || Run Time:    2.6 | Load Time:    9.8 || F1:  80.55 | Prec:  72.83 | Rec:  90.10 || Ex/s: 464.34\n",
            "\n",
            "===>  EVAL Epoch 6\n"
          ]
        },
        {
          "output_type": "stream",
          "name": "stderr",
          "text": [
            "0% [████████████] 100% | ETA: 00:00:00\n",
            "Total time elapsed: 00:00:03\n"
          ]
        },
        {
          "output_type": "stream",
          "name": "stdout",
          "text": [
            "Finished Epoch 6 || Run Time:    0.5 | Load Time:    2.9 || F1:  12.47 | Prec:  11.89 | Rec:  13.11 || Ex/s: 557.26\n",
            "\n",
            "---------------------\n",
            "\n",
            "===>  TRAIN Epoch 7\n"
          ]
        },
        {
          "output_type": "stream",
          "name": "stderr",
          "text": [
            "0% [██████████████████████████████] 100% | ETA: 00:00:00\n",
            "Total time elapsed: 00:00:12\n"
          ]
        },
        {
          "output_type": "stream",
          "name": "stdout",
          "text": [
            "Finished Epoch 7 || Run Time:    2.6 | Load Time:    9.7 || F1:  88.03 | Prec:  81.21 | Rec:  96.10 || Ex/s: 464.94\n",
            "\n",
            "===>  EVAL Epoch 7\n"
          ]
        },
        {
          "output_type": "stream",
          "name": "stderr",
          "text": [
            "0% [████████████] 100% | ETA: 00:00:00\n",
            "Total time elapsed: 00:00:03\n"
          ]
        },
        {
          "output_type": "stream",
          "name": "stdout",
          "text": [
            "Finished Epoch 7 || Run Time:    0.5 | Load Time:    2.9 || F1:  10.78 | Prec:  12.12 | Rec:   9.71 || Ex/s: 566.55\n",
            "\n",
            "---------------------\n",
            "\n",
            "===>  TRAIN Epoch 8\n"
          ]
        },
        {
          "output_type": "stream",
          "name": "stderr",
          "text": [
            "0% [██████████████████████████████] 100% | ETA: 00:00:00\n",
            "Total time elapsed: 00:00:12\n"
          ]
        },
        {
          "output_type": "stream",
          "name": "stdout",
          "text": [
            "Finished Epoch 8 || Run Time:    2.5 | Load Time:    9.7 || F1:  91.86 | Prec:  86.41 | Rec:  98.05 || Ex/s: 471.54\n",
            "\n",
            "===>  EVAL Epoch 8\n"
          ]
        },
        {
          "output_type": "stream",
          "name": "stderr",
          "text": [
            "0% [████████████] 100% | ETA: 00:00:00\n",
            "Total time elapsed: 00:00:03\n"
          ]
        },
        {
          "output_type": "stream",
          "name": "stdout",
          "text": [
            "Finished Epoch 8 || Run Time:    0.5 | Load Time:    2.9 || F1:  10.44 | Prec:  12.03 | Rec:   9.22 || Ex/s: 560.65\n",
            "\n",
            "---------------------\n",
            "\n",
            "===>  TRAIN Epoch 9\n"
          ]
        },
        {
          "output_type": "stream",
          "name": "stderr",
          "text": [
            "0% [██████████████████████████████] 100% | ETA: 00:00:00\n",
            "Total time elapsed: 00:00:12\n"
          ]
        },
        {
          "output_type": "stream",
          "name": "stdout",
          "text": [
            "Finished Epoch 9 || Run Time:    2.5 | Load Time:    9.7 || F1:  95.62 | Prec:  92.30 | Rec:  99.19 || Ex/s: 469.24\n",
            "\n",
            "===>  EVAL Epoch 9\n"
          ]
        },
        {
          "output_type": "stream",
          "name": "stderr",
          "text": [
            "0% [████████████] 100% | ETA: 00:00:00\n",
            "Total time elapsed: 00:00:03\n"
          ]
        },
        {
          "output_type": "stream",
          "name": "stdout",
          "text": [
            "Finished Epoch 9 || Run Time:    0.5 | Load Time:    2.9 || F1:  10.16 | Prec:  11.31 | Rec:   9.22 || Ex/s: 562.93\n",
            "\n",
            "---------------------\n",
            "\n",
            "===>  TRAIN Epoch 10\n"
          ]
        },
        {
          "output_type": "stream",
          "name": "stderr",
          "text": [
            "0% [██████████████████████████████] 100% | ETA: 00:00:00\n",
            "Total time elapsed: 00:00:12\n"
          ]
        },
        {
          "output_type": "stream",
          "name": "stdout",
          "text": [
            "Finished Epoch 10 || Run Time:    2.5 | Load Time:    9.6 || F1:  96.92 | Prec:  94.32 | Rec:  99.68 || Ex/s: 474.61\n",
            "\n",
            "===>  EVAL Epoch 10\n"
          ]
        },
        {
          "output_type": "stream",
          "name": "stderr",
          "text": [
            "0% [████████████] 100% | ETA: 00:00:00\n",
            "Total time elapsed: 00:00:03\n"
          ]
        },
        {
          "output_type": "stream",
          "name": "stdout",
          "text": [
            "Finished Epoch 10 || Run Time:    0.5 | Load Time:    2.9 || F1:  10.71 | Prec:  10.73 | Rec:  10.68 || Ex/s: 569.20\n",
            "\n",
            "---------------------\n",
            "\n",
            "===>  TRAIN Epoch 11\n"
          ]
        },
        {
          "output_type": "stream",
          "name": "stderr",
          "text": [
            "0% [██████████████████████████████] 100% | ETA: 00:00:00\n",
            "Total time elapsed: 00:00:12\n"
          ]
        },
        {
          "output_type": "stream",
          "name": "stdout",
          "text": [
            "Finished Epoch 11 || Run Time:    2.6 | Load Time:   10.0 || F1:  98.09 | Prec:  96.39 | Rec:  99.84 || Ex/s: 457.99\n",
            "\n",
            "===>  EVAL Epoch 11\n"
          ]
        },
        {
          "output_type": "stream",
          "name": "stderr",
          "text": [
            "0% [████████████] 100% | ETA: 00:00:00\n",
            "Total time elapsed: 00:00:03\n"
          ]
        },
        {
          "output_type": "stream",
          "name": "stdout",
          "text": [
            "Finished Epoch 11 || Run Time:    0.5 | Load Time:    2.9 || F1:  11.06 | Prec:  10.53 | Rec:  11.65 || Ex/s: 562.80\n",
            "\n",
            "---------------------\n",
            "\n",
            "===>  TRAIN Epoch 12\n"
          ]
        },
        {
          "output_type": "stream",
          "name": "stderr",
          "text": [
            "0% [██████████████████████████████] 100% | ETA: 00:00:00\n",
            "Total time elapsed: 00:00:12\n"
          ]
        },
        {
          "output_type": "stream",
          "name": "stdout",
          "text": [
            "Finished Epoch 12 || Run Time:    2.5 | Load Time:    9.7 || F1:  98.48 | Prec:  97.01 | Rec: 100.00 || Ex/s: 472.68\n",
            "\n",
            "===>  EVAL Epoch 12\n"
          ]
        },
        {
          "output_type": "stream",
          "name": "stderr",
          "text": [
            "0% [████████████] 100% | ETA: 00:00:00\n",
            "Total time elapsed: 00:00:03\n"
          ]
        },
        {
          "output_type": "stream",
          "name": "stdout",
          "text": [
            "Finished Epoch 12 || Run Time:    0.5 | Load Time:    2.9 || F1:  11.53 | Prec:  10.61 | Rec:  12.62 || Ex/s: 562.62\n",
            "\n",
            "---------------------\n",
            "\n",
            "===>  TRAIN Epoch 13\n"
          ]
        },
        {
          "output_type": "stream",
          "name": "stderr",
          "text": [
            "0% [██████████████████████████████] 100% | ETA: 00:00:00\n",
            "Total time elapsed: 00:00:12\n"
          ]
        },
        {
          "output_type": "stream",
          "name": "stdout",
          "text": [
            "Finished Epoch 13 || Run Time:    2.7 | Load Time:    9.7 || F1:  99.12 | Prec:  98.25 | Rec: 100.00 || Ex/s: 462.88\n",
            "\n",
            "===>  EVAL Epoch 13\n"
          ]
        },
        {
          "output_type": "stream",
          "name": "stderr",
          "text": [
            "0% [████████████] 100% | ETA: 00:00:00\n",
            "Total time elapsed: 00:00:03\n"
          ]
        },
        {
          "output_type": "stream",
          "name": "stdout",
          "text": [
            "Finished Epoch 13 || Run Time:    0.5 | Load Time:    2.9 || F1:  11.74 | Prec:  10.97 | Rec:  12.62 || Ex/s: 560.60\n",
            "\n",
            "---------------------\n",
            "\n",
            "===>  TRAIN Epoch 14\n"
          ]
        },
        {
          "output_type": "stream",
          "name": "stderr",
          "text": [
            "0% [██████████████████████████████] 100% | ETA: 00:00:00\n",
            "Total time elapsed: 00:00:12\n"
          ]
        },
        {
          "output_type": "stream",
          "name": "stdout",
          "text": [
            "Finished Epoch 14 || Run Time:    2.5 | Load Time:    9.7 || F1:  99.44 | Prec:  98.88 | Rec: 100.00 || Ex/s: 471.49\n",
            "\n",
            "===>  EVAL Epoch 14\n"
          ]
        },
        {
          "output_type": "stream",
          "name": "stderr",
          "text": [
            "0% [████████████] 100% | ETA: 00:00:00\n",
            "Total time elapsed: 00:00:03\n"
          ]
        },
        {
          "output_type": "stream",
          "name": "stdout",
          "text": [
            "Finished Epoch 14 || Run Time:    0.5 | Load Time:    2.9 || F1:  10.77 | Prec:  10.41 | Rec:  11.17 || Ex/s: 570.60\n",
            "\n",
            "---------------------\n",
            "\n",
            "===>  TRAIN Epoch 15\n"
          ]
        },
        {
          "output_type": "stream",
          "name": "stderr",
          "text": [
            "0% [██████████████████████████████] 100% | ETA: 00:00:00\n",
            "Total time elapsed: 00:00:12\n"
          ]
        },
        {
          "output_type": "stream",
          "name": "stdout",
          "text": [
            "Finished Epoch 15 || Run Time:    2.5 | Load Time:    9.7 || F1:  99.44 | Prec:  98.88 | Rec: 100.00 || Ex/s: 471.95\n",
            "\n",
            "===>  EVAL Epoch 15\n"
          ]
        },
        {
          "output_type": "stream",
          "name": "stderr",
          "text": [
            "0% [████████████] 100% | ETA: 00:00:00\n",
            "Total time elapsed: 00:00:03\n"
          ]
        },
        {
          "output_type": "stream",
          "name": "stdout",
          "text": [
            "Finished Epoch 15 || Run Time:    0.5 | Load Time:    2.9 || F1:  10.50 | Prec:  10.33 | Rec:  10.68 || Ex/s: 564.14\n",
            "\n",
            "---------------------\n",
            "\n",
            "Loading best model...\n",
            "Training done.\n"
          ]
        },
        {
          "output_type": "execute_result",
          "data": {
            "text/plain": [
              "tensor(13.2450, device='cuda:0')"
            ]
          },
          "metadata": {},
          "execution_count": 25
        }
      ],
      "source": [
        "model.run_train(\n",
        "    train,\n",
        "    validation,\n",
        "    epochs=15,\n",
        "    batch_size=32,\n",
        "    best_save_path='sif_model.pth',\n",
        "    pos_neg_ratio=3)"
      ]
    },
    {
      "cell_type": "code",
      "execution_count": 26,
      "metadata": {
        "id": "xTW5WLmx7jif",
        "colab": {
          "base_uri": "https://localhost:8080/"
        },
        "outputId": "dd023074-a357-44b6-9a18-a8d5cc10a89a"
      },
      "outputs": [
        {
          "output_type": "stream",
          "name": "stdout",
          "text": [
            "===>  EVAL Epoch 5\n"
          ]
        },
        {
          "output_type": "stream",
          "name": "stderr",
          "text": [
            "/usr/local/lib/python3.7/dist-packages/torch/nn/modules/module.py:974: UserWarning: Using a non-full backward hook when the forward contains multiple autograd Nodes is deprecated and will be removed in future versions. This hook will be missing some grad_input. Please use register_full_backward_hook to get the documented behavior.\n",
            "  warnings.warn(\"Using a non-full backward hook when the forward contains multiple autograd Nodes \"\n",
            "0% [████████████] 100% | ETA: 00:00:00\n",
            "Total time elapsed: 00:00:03\n"
          ]
        },
        {
          "output_type": "stream",
          "name": "stdout",
          "text": [
            "Finished Epoch 5 || Run Time:    0.5 | Load Time:    2.9 || F1:  18.30 | Prec:  16.00 | Rec:  21.36 || Ex/s: 561.68\n",
            "\n"
          ]
        },
        {
          "output_type": "execute_result",
          "data": {
            "text/plain": [
              "tensor(18.2952, device='cuda:0')"
            ]
          },
          "metadata": {},
          "execution_count": 26
        }
      ],
      "source": [
        "# Compute F1 on test set\n",
        "model.run_eval(test)"
      ]
    },
    {
      "cell_type": "markdown",
      "metadata": {
        "id": "Vl6ljcMO7jig"
      },
      "source": [
        "#### DIRTY"
      ]
    },
    {
      "cell_type": "markdown",
      "metadata": {
        "id": "ynZvtlXR7jig"
      },
      "source": [
        "##### DBLP-ACM"
      ]
    },
    {
      "cell_type": "code",
      "execution_count": 27,
      "metadata": {
        "id": "CzTzNHhP7jih"
      },
      "outputs": [],
      "source": [
        "train, validation, test = dm.data.process(\n",
        "    path='/content/IC/datasesErros/ADirty_90_3_5/Dirty/DBLP-ACM/',\n",
        "    train='joined_train.csv',\n",
        "    validation='joined_valid.csv',\n",
        "    test='joined_test.csv')"
      ]
    },
    {
      "cell_type": "code",
      "execution_count": 28,
      "metadata": {
        "id": "aKEu0b3E7jih"
      },
      "outputs": [],
      "source": [
        "model = dm.MatchingModel(attr_summarizer='sif')"
      ]
    },
    {
      "cell_type": "code",
      "execution_count": 29,
      "metadata": {
        "id": "cKF_XeV57jii",
        "colab": {
          "base_uri": "https://localhost:8080/"
        },
        "outputId": "fb5b9456-fd3c-48c7-ce0d-e99953b83d0a"
      },
      "outputs": [
        {
          "output_type": "stream",
          "name": "stdout",
          "text": [
            "* Number of trainable parameters: 542402\n",
            "===>  TRAIN Epoch 1\n"
          ]
        },
        {
          "output_type": "stream",
          "name": "stderr",
          "text": [
            "/usr/local/lib/python3.7/dist-packages/torch/nn/modules/module.py:974: UserWarning: Using a non-full backward hook when the forward contains multiple autograd Nodes is deprecated and will be removed in future versions. This hook will be missing some grad_input. Please use register_full_backward_hook to get the documented behavior.\n",
            "  warnings.warn(\"Using a non-full backward hook when the forward contains multiple autograd Nodes \"\n",
            "/usr/local/lib/python3.7/dist-packages/torch/nn/functional.py:2742: UserWarning: reduction: 'mean' divides the total loss by both the batch size and the support size.'batchmean' divides only by the batch size, and aligns with the KL div math definition.'mean' will be changed to behave the same as 'batchmean' in the next major release.\n",
            "  \"reduction: 'mean' divides the total loss by both the batch size and the support size.\"\n",
            "0% [██████████████████████████████] 100% | ETA: 00:00:00\n",
            "Total time elapsed: 00:00:17\n"
          ]
        },
        {
          "output_type": "stream",
          "name": "stdout",
          "text": [
            "Finished Epoch 1 || Run Time:    3.9 | Load Time:   13.3 || F1:  32.93 | Prec:  43.47 | Rec:  26.50 || Ex/s: 430.93\n",
            "\n",
            "===>  EVAL Epoch 1\n"
          ]
        },
        {
          "output_type": "stream",
          "name": "stderr",
          "text": [
            "0% [███████████████] 100% | ETA: 00:00:00\n",
            "Total time elapsed: 00:00:04\n"
          ]
        },
        {
          "output_type": "stream",
          "name": "stdout",
          "text": [
            "Finished Epoch 1 || Run Time:    0.9 | Load Time:    4.2 || F1:  51.99 | Prec:  75.54 | Rec:  39.64 || Ex/s: 493.56\n",
            "\n",
            "* Best F1: tensor(51.9941, device='cuda:0')\n",
            "Saving best model...\n",
            "Done.\n",
            "---------------------\n",
            "\n",
            "===>  TRAIN Epoch 2\n"
          ]
        },
        {
          "output_type": "stream",
          "name": "stderr",
          "text": [
            "0% [██████████████████████████████] 100% | ETA: 00:00:00\n",
            "Total time elapsed: 00:00:17\n"
          ]
        },
        {
          "output_type": "stream",
          "name": "stdout",
          "text": [
            "Finished Epoch 2 || Run Time:    4.1 | Load Time:   13.4 || F1:  63.57 | Prec:  51.64 | Rec:  82.66 || Ex/s: 425.09\n",
            "\n",
            "===>  EVAL Epoch 2\n"
          ]
        },
        {
          "output_type": "stream",
          "name": "stderr",
          "text": [
            "0% [███████████████] 100% | ETA: 00:00:00\n",
            "Total time elapsed: 00:00:04\n"
          ]
        },
        {
          "output_type": "stream",
          "name": "stdout",
          "text": [
            "Finished Epoch 2 || Run Time:    0.8 | Load Time:    4.1 || F1:  62.72 | Prec:  61.11 | Rec:  64.41 || Ex/s: 501.83\n",
            "\n",
            "* Best F1: tensor(62.7193, device='cuda:0')\n",
            "Saving best model...\n",
            "Done.\n",
            "---------------------\n",
            "\n",
            "===>  TRAIN Epoch 3\n"
          ]
        },
        {
          "output_type": "stream",
          "name": "stderr",
          "text": [
            "0% [██████████████████████████████] 100% | ETA: 00:00:00\n",
            "Total time elapsed: 00:00:16\n"
          ]
        },
        {
          "output_type": "stream",
          "name": "stdout",
          "text": [
            "Finished Epoch 3 || Run Time:    3.8 | Load Time:   13.2 || F1:  75.67 | Prec:  64.38 | Rec:  91.74 || Ex/s: 435.84\n",
            "\n",
            "===>  EVAL Epoch 3\n"
          ]
        },
        {
          "output_type": "stream",
          "name": "stderr",
          "text": [
            "0% [███████████████] 100% | ETA: 00:00:00\n",
            "Total time elapsed: 00:00:04\n"
          ]
        },
        {
          "output_type": "stream",
          "name": "stdout",
          "text": [
            "Finished Epoch 3 || Run Time:    0.8 | Load Time:    4.2 || F1:  64.92 | Prec:  63.06 | Rec:  66.89 || Ex/s: 492.69\n",
            "\n",
            "* Best F1: tensor(64.9180, device='cuda:0')\n",
            "Saving best model...\n",
            "Done.\n",
            "---------------------\n",
            "\n",
            "===>  TRAIN Epoch 4\n"
          ]
        },
        {
          "output_type": "stream",
          "name": "stderr",
          "text": [
            "0% [██████████████████████████████] 100% | ETA: 00:00:00\n",
            "Total time elapsed: 00:00:17\n"
          ]
        },
        {
          "output_type": "stream",
          "name": "stdout",
          "text": [
            "Finished Epoch 4 || Run Time:    4.0 | Load Time:   13.6 || F1:  83.05 | Prec:  74.06 | Rec:  94.52 || Ex/s: 422.64\n",
            "\n",
            "===>  EVAL Epoch 4\n"
          ]
        },
        {
          "output_type": "stream",
          "name": "stderr",
          "text": [
            "0% [███████████████] 100% | ETA: 00:00:00\n",
            "Total time elapsed: 00:00:04\n"
          ]
        },
        {
          "output_type": "stream",
          "name": "stdout",
          "text": [
            "Finished Epoch 4 || Run Time:    0.8 | Load Time:    4.1 || F1:  64.37 | Prec:  63.46 | Rec:  65.32 || Ex/s: 499.61\n",
            "\n",
            "---------------------\n",
            "\n",
            "===>  TRAIN Epoch 5\n"
          ]
        },
        {
          "output_type": "stream",
          "name": "stderr",
          "text": [
            "0% [██████████████████████████████] 100% | ETA: 00:00:00\n",
            "Total time elapsed: 00:00:16\n"
          ]
        },
        {
          "output_type": "stream",
          "name": "stdout",
          "text": [
            "Finished Epoch 5 || Run Time:    3.8 | Load Time:   13.3 || F1:  88.61 | Prec:  81.82 | Rec:  96.62 || Ex/s: 434.10\n",
            "\n",
            "===>  EVAL Epoch 5\n"
          ]
        },
        {
          "output_type": "stream",
          "name": "stderr",
          "text": [
            "0% [███████████████] 100% | ETA: 00:00:00\n",
            "Total time elapsed: 00:00:04\n"
          ]
        },
        {
          "output_type": "stream",
          "name": "stdout",
          "text": [
            "Finished Epoch 5 || Run Time:    0.8 | Load Time:    4.1 || F1:  59.91 | Prec:  49.78 | Rec:  75.23 || Ex/s: 499.67\n",
            "\n",
            "---------------------\n",
            "\n",
            "===>  TRAIN Epoch 6\n"
          ]
        },
        {
          "output_type": "stream",
          "name": "stderr",
          "text": [
            "0% [██████████████████████████████] 100% | ETA: 00:00:00\n",
            "Total time elapsed: 00:00:16\n"
          ]
        },
        {
          "output_type": "stream",
          "name": "stdout",
          "text": [
            "Finished Epoch 6 || Run Time:    3.8 | Load Time:   13.2 || F1:  92.91 | Prec:  88.41 | Rec:  97.90 || Ex/s: 434.98\n",
            "\n",
            "===>  EVAL Epoch 6\n"
          ]
        },
        {
          "output_type": "stream",
          "name": "stderr",
          "text": [
            "0% [███████████████] 100% | ETA: 00:00:00\n",
            "Total time elapsed: 00:00:04\n"
          ]
        },
        {
          "output_type": "stream",
          "name": "stdout",
          "text": [
            "Finished Epoch 6 || Run Time:    0.8 | Load Time:    4.2 || F1:  61.72 | Prec:  55.03 | Rec:  70.27 || Ex/s: 497.43\n",
            "\n",
            "---------------------\n",
            "\n",
            "===>  TRAIN Epoch 7\n"
          ]
        },
        {
          "output_type": "stream",
          "name": "stderr",
          "text": [
            "0% [██████████████████████████████] 100% | ETA: 00:00:00\n",
            "Total time elapsed: 00:00:16\n"
          ]
        },
        {
          "output_type": "stream",
          "name": "stdout",
          "text": [
            "Finished Epoch 7 || Run Time:    3.8 | Load Time:   13.3 || F1:  95.22 | Prec:  92.02 | Rec:  98.65 || Ex/s: 433.71\n",
            "\n",
            "===>  EVAL Epoch 7\n"
          ]
        },
        {
          "output_type": "stream",
          "name": "stderr",
          "text": [
            "0% [███████████████] 100% | ETA: 00:00:00\n",
            "Total time elapsed: 00:00:04\n"
          ]
        },
        {
          "output_type": "stream",
          "name": "stdout",
          "text": [
            "Finished Epoch 7 || Run Time:    0.8 | Load Time:    4.2 || F1:  63.28 | Prec:  59.68 | Rec:  67.34 || Ex/s: 497.56\n",
            "\n",
            "---------------------\n",
            "\n",
            "===>  TRAIN Epoch 8\n"
          ]
        },
        {
          "output_type": "stream",
          "name": "stderr",
          "text": [
            "0% [██████████████████████████████] 100% | ETA: 00:00:00\n",
            "Total time elapsed: 00:00:17\n"
          ]
        },
        {
          "output_type": "stream",
          "name": "stdout",
          "text": [
            "Finished Epoch 8 || Run Time:    3.9 | Load Time:   13.5 || F1:  97.38 | Prec:  95.72 | Rec:  99.10 || Ex/s: 425.81\n",
            "\n",
            "===>  EVAL Epoch 8\n"
          ]
        },
        {
          "output_type": "stream",
          "name": "stderr",
          "text": [
            "0% [███████████████] 100% | ETA: 00:00:00\n",
            "Total time elapsed: 00:00:04\n"
          ]
        },
        {
          "output_type": "stream",
          "name": "stdout",
          "text": [
            "Finished Epoch 8 || Run Time:    0.8 | Load Time:    4.2 || F1:  64.32 | Prec:  62.93 | Rec:  65.77 || Ex/s: 496.64\n",
            "\n",
            "---------------------\n",
            "\n",
            "===>  TRAIN Epoch 9\n"
          ]
        },
        {
          "output_type": "stream",
          "name": "stderr",
          "text": [
            "0% [██████████████████████████████] 100% | ETA: 00:00:00\n",
            "Total time elapsed: 00:00:17\n"
          ]
        },
        {
          "output_type": "stream",
          "name": "stdout",
          "text": [
            "Finished Epoch 9 || Run Time:    4.0 | Load Time:   13.3 || F1:  98.07 | Prec:  96.78 | Rec:  99.40 || Ex/s: 429.15\n",
            "\n",
            "===>  EVAL Epoch 9\n"
          ]
        },
        {
          "output_type": "stream",
          "name": "stderr",
          "text": [
            "0% [███████████████] 100% | ETA: 00:00:00\n",
            "Total time elapsed: 00:00:04\n"
          ]
        },
        {
          "output_type": "stream",
          "name": "stdout",
          "text": [
            "Finished Epoch 9 || Run Time:    0.8 | Load Time:    4.2 || F1:  63.57 | Prec:  65.55 | Rec:  61.71 || Ex/s: 492.06\n",
            "\n",
            "---------------------\n",
            "\n",
            "===>  TRAIN Epoch 10\n"
          ]
        },
        {
          "output_type": "stream",
          "name": "stderr",
          "text": [
            "0% [██████████████████████████████] 100% | ETA: 00:00:00\n",
            "Total time elapsed: 00:00:16\n"
          ]
        },
        {
          "output_type": "stream",
          "name": "stdout",
          "text": [
            "Finished Epoch 10 || Run Time:    3.9 | Load Time:   13.3 || F1:  98.40 | Prec:  97.35 | Rec:  99.47 || Ex/s: 432.92\n",
            "\n",
            "===>  EVAL Epoch 10\n"
          ]
        },
        {
          "output_type": "stream",
          "name": "stderr",
          "text": [
            "0% [███████████████] 100% | ETA: 00:00:00\n",
            "Total time elapsed: 00:00:04\n"
          ]
        },
        {
          "output_type": "stream",
          "name": "stdout",
          "text": [
            "Finished Epoch 10 || Run Time:    0.8 | Load Time:    4.1 || F1:  63.17 | Prec:  65.46 | Rec:  61.04 || Ex/s: 498.34\n",
            "\n",
            "---------------------\n",
            "\n",
            "===>  TRAIN Epoch 11\n"
          ]
        },
        {
          "output_type": "stream",
          "name": "stderr",
          "text": [
            "0% [██████████████████████████████] 100% | ETA: 00:00:00\n",
            "Total time elapsed: 00:00:17\n"
          ]
        },
        {
          "output_type": "stream",
          "name": "stdout",
          "text": [
            "Finished Epoch 11 || Run Time:    3.9 | Load Time:   13.4 || F1:  98.84 | Prec:  98.22 | Rec:  99.47 || Ex/s: 429.69\n",
            "\n",
            "===>  EVAL Epoch 11\n"
          ]
        },
        {
          "output_type": "stream",
          "name": "stderr",
          "text": [
            "0% [███████████████] 100% | ETA: 00:00:00\n",
            "Total time elapsed: 00:00:04\n"
          ]
        },
        {
          "output_type": "stream",
          "name": "stdout",
          "text": [
            "Finished Epoch 11 || Run Time:    0.8 | Load Time:    4.2 || F1:  63.75 | Prec:  65.18 | Rec:  62.39 || Ex/s: 495.02\n",
            "\n",
            "---------------------\n",
            "\n",
            "===>  TRAIN Epoch 12\n"
          ]
        },
        {
          "output_type": "stream",
          "name": "stderr",
          "text": [
            "0% [██████████████████████████████] 100% | ETA: 00:00:00\n",
            "Total time elapsed: 00:00:17\n"
          ]
        },
        {
          "output_type": "stream",
          "name": "stdout",
          "text": [
            "Finished Epoch 12 || Run Time:    3.9 | Load Time:   13.5 || F1:  98.92 | Prec:  98.37 | Rec:  99.47 || Ex/s: 425.79\n",
            "\n",
            "===>  EVAL Epoch 12\n"
          ]
        },
        {
          "output_type": "stream",
          "name": "stderr",
          "text": [
            "0% [███████████████] 100% | ETA: 00:00:00\n",
            "Total time elapsed: 00:00:04\n"
          ]
        },
        {
          "output_type": "stream",
          "name": "stdout",
          "text": [
            "Finished Epoch 12 || Run Time:    0.8 | Load Time:    4.1 || F1:  63.70 | Prec:  64.58 | Rec:  62.84 || Ex/s: 500.19\n",
            "\n",
            "---------------------\n",
            "\n",
            "===>  TRAIN Epoch 13\n"
          ]
        },
        {
          "output_type": "stream",
          "name": "stderr",
          "text": [
            "0% [██████████████████████████████] 100% | ETA: 00:00:00\n",
            "Total time elapsed: 00:00:17\n"
          ]
        },
        {
          "output_type": "stream",
          "name": "stdout",
          "text": [
            "Finished Epoch 13 || Run Time:    3.9 | Load Time:   13.3 || F1:  98.99 | Prec:  98.51 | Rec:  99.47 || Ex/s: 430.88\n",
            "\n",
            "===>  EVAL Epoch 13\n"
          ]
        },
        {
          "output_type": "stream",
          "name": "stderr",
          "text": [
            "0% [███████████████] 100% | ETA: 00:00:00\n",
            "Total time elapsed: 00:00:04\n"
          ]
        },
        {
          "output_type": "stream",
          "name": "stdout",
          "text": [
            "Finished Epoch 13 || Run Time:    0.9 | Load Time:    4.2 || F1:  63.77 | Prec:  64.73 | Rec:  62.84 || Ex/s: 492.09\n",
            "\n",
            "---------------------\n",
            "\n",
            "===>  TRAIN Epoch 14\n"
          ]
        },
        {
          "output_type": "stream",
          "name": "stderr",
          "text": [
            "0% [██████████████████████████████] 100% | ETA: 00:00:00\n",
            "Total time elapsed: 00:00:17\n"
          ]
        },
        {
          "output_type": "stream",
          "name": "stdout",
          "text": [
            "Finished Epoch 14 || Run Time:    3.9 | Load Time:   13.3 || F1:  99.03 | Prec:  98.59 | Rec:  99.47 || Ex/s: 430.39\n",
            "\n",
            "===>  EVAL Epoch 14\n"
          ]
        },
        {
          "output_type": "stream",
          "name": "stderr",
          "text": [
            "0% [███████████████] 100% | ETA: 00:00:00\n",
            "Total time elapsed: 00:00:04\n"
          ]
        },
        {
          "output_type": "stream",
          "name": "stdout",
          "text": [
            "Finished Epoch 14 || Run Time:    0.8 | Load Time:    4.2 || F1:  63.82 | Prec:  65.33 | Rec:  62.39 || Ex/s: 495.59\n",
            "\n",
            "---------------------\n",
            "\n",
            "===>  TRAIN Epoch 15\n"
          ]
        },
        {
          "output_type": "stream",
          "name": "stderr",
          "text": [
            "0% [██████████████████████████████] 100% | ETA: 00:00:00\n",
            "Total time elapsed: 00:00:17\n"
          ]
        },
        {
          "output_type": "stream",
          "name": "stdout",
          "text": [
            "Finished Epoch 15 || Run Time:    3.9 | Load Time:   13.3 || F1:  99.03 | Prec:  98.59 | Rec:  99.47 || Ex/s: 430.87\n",
            "\n",
            "===>  EVAL Epoch 15\n"
          ]
        },
        {
          "output_type": "stream",
          "name": "stderr",
          "text": [
            "0% [███████████████] 100% | ETA: 00:00:00\n",
            "Total time elapsed: 00:00:04\n"
          ]
        },
        {
          "output_type": "stream",
          "name": "stdout",
          "text": [
            "Finished Epoch 15 || Run Time:    0.8 | Load Time:    4.1 || F1:  63.95 | Prec:  66.11 | Rec:  61.94 || Ex/s: 500.30\n",
            "\n",
            "---------------------\n",
            "\n",
            "Loading best model...\n",
            "Training done.\n"
          ]
        },
        {
          "output_type": "execute_result",
          "data": {
            "text/plain": [
              "tensor(64.9180, device='cuda:0')"
            ]
          },
          "metadata": {},
          "execution_count": 29
        }
      ],
      "source": [
        "model.run_train(\n",
        "    train,\n",
        "    validation,\n",
        "    epochs=15,\n",
        "    batch_size=32,\n",
        "    best_save_path='sif_model.pth',\n",
        "    pos_neg_ratio=3)"
      ]
    },
    {
      "cell_type": "code",
      "execution_count": 30,
      "metadata": {
        "id": "2mVSbOzT7jii",
        "colab": {
          "base_uri": "https://localhost:8080/"
        },
        "outputId": "d7de178f-c2c8-4c68-87b2-2d1996c101a4"
      },
      "outputs": [
        {
          "output_type": "stream",
          "name": "stdout",
          "text": [
            "===>  EVAL Epoch 3\n"
          ]
        },
        {
          "output_type": "stream",
          "name": "stderr",
          "text": [
            "/usr/local/lib/python3.7/dist-packages/torch/nn/modules/module.py:974: UserWarning: Using a non-full backward hook when the forward contains multiple autograd Nodes is deprecated and will be removed in future versions. This hook will be missing some grad_input. Please use register_full_backward_hook to get the documented behavior.\n",
            "  warnings.warn(\"Using a non-full backward hook when the forward contains multiple autograd Nodes \"\n",
            "0% [███████████████] 100% | ETA: 00:00:00\n",
            "Total time elapsed: 00:00:04\n"
          ]
        },
        {
          "output_type": "stream",
          "name": "stdout",
          "text": [
            "Finished Epoch 3 || Run Time:    0.8 | Load Time:    4.1 || F1:  66.30 | Prec:  64.87 | Rec:  67.79 || Ex/s: 503.10\n",
            "\n"
          ]
        },
        {
          "output_type": "execute_result",
          "data": {
            "text/plain": [
              "tensor(66.2996, device='cuda:0')"
            ]
          },
          "metadata": {},
          "execution_count": 30
        }
      ],
      "source": [
        "# Compute F1 on test set\n",
        "model.run_eval(test)"
      ]
    },
    {
      "cell_type": "markdown",
      "metadata": {
        "id": "jTrOKZCa7jii"
      },
      "source": [
        "##### DBLP-GoogleScholar"
      ]
    },
    {
      "cell_type": "code",
      "execution_count": 31,
      "metadata": {
        "id": "qcEXbtw47jij"
      },
      "outputs": [],
      "source": [
        "train, validation, test = dm.data.process(\n",
        "    path='/content/IC/datasesErros/ADirty_90_3_5/Dirty/DBLP-GoogleScholar//',\n",
        "    train='joined_train.csv',\n",
        "    validation='joined_valid.csv',\n",
        "    test='joined_test.csv')"
      ]
    },
    {
      "cell_type": "code",
      "execution_count": 32,
      "metadata": {
        "id": "AmtPT8Pk7jij"
      },
      "outputs": [],
      "source": [
        "model = dm.MatchingModel(attr_summarizer='sif')"
      ]
    },
    {
      "cell_type": "code",
      "execution_count": 33,
      "metadata": {
        "id": "DEjkADxf7jij",
        "colab": {
          "base_uri": "https://localhost:8080/"
        },
        "outputId": "8bb28d1b-249c-41cd-bb59-fe37edc6e613"
      },
      "outputs": [
        {
          "output_type": "stream",
          "name": "stdout",
          "text": [
            "* Number of trainable parameters: 542402\n",
            "===>  TRAIN Epoch 1\n"
          ]
        },
        {
          "output_type": "stream",
          "name": "stderr",
          "text": [
            "/usr/local/lib/python3.7/dist-packages/torch/nn/modules/module.py:974: UserWarning: Using a non-full backward hook when the forward contains multiple autograd Nodes is deprecated and will be removed in future versions. This hook will be missing some grad_input. Please use register_full_backward_hook to get the documented behavior.\n",
            "  warnings.warn(\"Using a non-full backward hook when the forward contains multiple autograd Nodes \"\n",
            "/usr/local/lib/python3.7/dist-packages/torch/nn/functional.py:2742: UserWarning: reduction: 'mean' divides the total loss by both the batch size and the support size.'batchmean' divides only by the batch size, and aligns with the KL div math definition.'mean' will be changed to behave the same as 'batchmean' in the next major release.\n",
            "  \"reduction: 'mean' divides the total loss by both the batch size and the support size.\"\n",
            "0% [██████████████████████████████] 100% | ETA: 00:00:00\n",
            "Total time elapsed: 00:00:35\n"
          ]
        },
        {
          "output_type": "stream",
          "name": "stdout",
          "text": [
            "Finished Epoch 1 || Run Time:    9.0 | Load Time:   26.5 || F1:  38.78 | Prec:  37.52 | Rec:  40.13 || Ex/s: 484.94\n",
            "\n",
            "===>  EVAL Epoch 1\n"
          ]
        },
        {
          "output_type": "stream",
          "name": "stderr",
          "text": [
            "0% [██████████████████████████████] 100% | ETA: 00:00:00\n",
            "Total time elapsed: 00:00:09\n"
          ]
        },
        {
          "output_type": "stream",
          "name": "stdout",
          "text": [
            "Finished Epoch 1 || Run Time:    1.9 | Load Time:    8.1 || F1:  54.22 | Prec:  47.23 | Rec:  63.64 || Ex/s: 576.07\n",
            "\n",
            "* Best F1: tensor(54.2197, device='cuda:0')\n",
            "Saving best model...\n",
            "Done.\n",
            "---------------------\n",
            "\n",
            "===>  TRAIN Epoch 2\n"
          ]
        },
        {
          "output_type": "stream",
          "name": "stderr",
          "text": [
            "0% [██████████████████████████████] 100% | ETA: 00:00:00\n",
            "Total time elapsed: 00:00:35\n"
          ]
        },
        {
          "output_type": "stream",
          "name": "stdout",
          "text": [
            "Finished Epoch 2 || Run Time:    8.8 | Load Time:   26.6 || F1:  64.78 | Prec:  53.57 | Rec:  81.95 || Ex/s: 486.00\n",
            "\n",
            "===>  EVAL Epoch 2\n"
          ]
        },
        {
          "output_type": "stream",
          "name": "stderr",
          "text": [
            "0% [██████████████████████████████] 100% | ETA: 00:00:00\n",
            "Total time elapsed: 00:00:09\n"
          ]
        },
        {
          "output_type": "stream",
          "name": "stdout",
          "text": [
            "Finished Epoch 2 || Run Time:    1.9 | Load Time:    8.1 || F1:  60.74 | Prec:  52.95 | Rec:  71.21 || Ex/s: 577.91\n",
            "\n",
            "* Best F1: tensor(60.7413, device='cuda:0')\n",
            "Saving best model...\n",
            "Done.\n",
            "---------------------\n",
            "\n",
            "===>  TRAIN Epoch 3\n"
          ]
        },
        {
          "output_type": "stream",
          "name": "stderr",
          "text": [
            "0% [██████████████████████████████] 100% | ETA: 00:00:00\n",
            "Total time elapsed: 00:00:34\n"
          ]
        },
        {
          "output_type": "stream",
          "name": "stdout",
          "text": [
            "Finished Epoch 3 || Run Time:    8.7 | Load Time:   26.5 || F1:  77.35 | Prec:  68.26 | Rec:  89.24 || Ex/s: 490.20\n",
            "\n",
            "===>  EVAL Epoch 3\n"
          ]
        },
        {
          "output_type": "stream",
          "name": "stderr",
          "text": [
            "0% [██████████████████████████████] 100% | ETA: 00:00:00\n",
            "Total time elapsed: 00:00:09\n"
          ]
        },
        {
          "output_type": "stream",
          "name": "stdout",
          "text": [
            "Finished Epoch 3 || Run Time:    1.8 | Load Time:    8.1 || F1:  63.97 | Prec:  63.01 | Rec:  64.95 || Ex/s: 579.19\n",
            "\n",
            "* Best F1: tensor(63.9669, device='cuda:0')\n",
            "Saving best model...\n",
            "Done.\n",
            "---------------------\n",
            "\n",
            "===>  TRAIN Epoch 4\n"
          ]
        },
        {
          "output_type": "stream",
          "name": "stderr",
          "text": [
            "0% [██████████████████████████████] 100% | ETA: 00:00:00\n",
            "Total time elapsed: 00:00:34\n"
          ]
        },
        {
          "output_type": "stream",
          "name": "stdout",
          "text": [
            "Finished Epoch 4 || Run Time:    8.6 | Load Time:   26.5 || F1:  85.55 | Prec:  78.85 | Rec:  93.48 || Ex/s: 489.35\n",
            "\n",
            "===>  EVAL Epoch 4\n"
          ]
        },
        {
          "output_type": "stream",
          "name": "stderr",
          "text": [
            "0% [██████████████████████████████] 100% | ETA: 00:00:00\n",
            "Total time elapsed: 00:00:09\n"
          ]
        },
        {
          "output_type": "stream",
          "name": "stdout",
          "text": [
            "Finished Epoch 4 || Run Time:    1.9 | Load Time:    8.1 || F1:  62.74 | Prec:  69.47 | Rec:  57.20 || Ex/s: 577.10\n",
            "\n",
            "---------------------\n",
            "\n",
            "===>  TRAIN Epoch 5\n"
          ]
        },
        {
          "output_type": "stream",
          "name": "stderr",
          "text": [
            "0% [██████████████████████████████] 100% | ETA: 00:00:00\n",
            "Total time elapsed: 00:00:35\n"
          ]
        },
        {
          "output_type": "stream",
          "name": "stdout",
          "text": [
            "Finished Epoch 5 || Run Time:    8.9 | Load Time:   26.5 || F1:  91.22 | Prec:  87.36 | Rec:  95.45 || Ex/s: 486.76\n",
            "\n",
            "===>  EVAL Epoch 5\n"
          ]
        },
        {
          "output_type": "stream",
          "name": "stderr",
          "text": [
            "0% [██████████████████████████████] 100% | ETA: 00:00:00\n",
            "Total time elapsed: 00:00:10\n"
          ]
        },
        {
          "output_type": "stream",
          "name": "stdout",
          "text": [
            "Finished Epoch 5 || Run Time:    1.9 | Load Time:    8.1 || F1:  62.00 | Prec:  69.04 | Rec:  56.26 || Ex/s: 572.79\n",
            "\n",
            "---------------------\n",
            "\n",
            "===>  TRAIN Epoch 6\n"
          ]
        },
        {
          "output_type": "stream",
          "name": "stderr",
          "text": [
            "0% [██████████████████████████████] 100% | ETA: 00:00:00\n",
            "Total time elapsed: 00:00:35\n"
          ]
        },
        {
          "output_type": "stream",
          "name": "stdout",
          "text": [
            "Finished Epoch 6 || Run Time:    8.7 | Load Time:   26.6 || F1:  94.65 | Prec:  92.78 | Rec:  96.60 || Ex/s: 487.00\n",
            "\n",
            "===>  EVAL Epoch 6\n"
          ]
        },
        {
          "output_type": "stream",
          "name": "stderr",
          "text": [
            "0% [██████████████████████████████] 100% | ETA: 00:00:00\n",
            "Total time elapsed: 00:00:09\n"
          ]
        },
        {
          "output_type": "stream",
          "name": "stdout",
          "text": [
            "Finished Epoch 6 || Run Time:    1.9 | Load Time:    8.1 || F1:  61.80 | Prec:  70.59 | Rec:  54.95 || Ex/s: 575.42\n",
            "\n",
            "---------------------\n",
            "\n",
            "===>  TRAIN Epoch 7\n"
          ]
        },
        {
          "output_type": "stream",
          "name": "stderr",
          "text": [
            "0% [██████████████████████████████] 100% | ETA: 00:00:00\n",
            "Total time elapsed: 00:00:35\n"
          ]
        },
        {
          "output_type": "stream",
          "name": "stdout",
          "text": [
            "Finished Epoch 7 || Run Time:    8.9 | Load Time:   26.4 || F1:  96.38 | Prec:  95.53 | Rec:  97.26 || Ex/s: 487.17\n",
            "\n",
            "===>  EVAL Epoch 7\n"
          ]
        },
        {
          "output_type": "stream",
          "name": "stderr",
          "text": [
            "0% [██████████████████████████████] 100% | ETA: 00:00:00\n",
            "Total time elapsed: 00:00:09\n"
          ]
        },
        {
          "output_type": "stream",
          "name": "stdout",
          "text": [
            "Finished Epoch 7 || Run Time:    1.9 | Load Time:    8.1 || F1:  62.75 | Prec:  70.64 | Rec:  56.45 || Ex/s: 578.10\n",
            "\n",
            "---------------------\n",
            "\n",
            "===>  TRAIN Epoch 8\n"
          ]
        },
        {
          "output_type": "stream",
          "name": "stderr",
          "text": [
            "0% [██████████████████████████████] 100% | ETA: 00:00:00\n",
            "Total time elapsed: 00:00:35\n"
          ]
        },
        {
          "output_type": "stream",
          "name": "stdout",
          "text": [
            "Finished Epoch 8 || Run Time:    8.8 | Load Time:   26.7 || F1:  97.63 | Prec:  97.75 | Rec:  97.51 || Ex/s: 485.52\n",
            "\n",
            "===>  EVAL Epoch 8\n"
          ]
        },
        {
          "output_type": "stream",
          "name": "stderr",
          "text": [
            "0% [██████████████████████████████] 100% | ETA: 00:00:00\n",
            "Total time elapsed: 00:00:09\n"
          ]
        },
        {
          "output_type": "stream",
          "name": "stdout",
          "text": [
            "Finished Epoch 8 || Run Time:    1.9 | Load Time:    8.1 || F1:  64.14 | Prec:  67.81 | Rec:  60.84 || Ex/s: 578.34\n",
            "\n",
            "* Best F1: tensor(64.1379, device='cuda:0')\n",
            "Saving best model...\n",
            "Done.\n",
            "---------------------\n",
            "\n",
            "===>  TRAIN Epoch 9\n"
          ]
        },
        {
          "output_type": "stream",
          "name": "stderr",
          "text": [
            "0% [██████████████████████████████] 100% | ETA: 00:00:00\n",
            "Total time elapsed: 00:00:34\n"
          ]
        },
        {
          "output_type": "stream",
          "name": "stdout",
          "text": [
            "Finished Epoch 9 || Run Time:    8.6 | Load Time:   26.3 || F1:  98.12 | Prec:  98.64 | Rec:  97.60 || Ex/s: 492.97\n",
            "\n",
            "===>  EVAL Epoch 9\n"
          ]
        },
        {
          "output_type": "stream",
          "name": "stderr",
          "text": [
            "0% [██████████████████████████████] 100% | ETA: 00:00:00\n",
            "Total time elapsed: 00:00:10\n"
          ]
        },
        {
          "output_type": "stream",
          "name": "stdout",
          "text": [
            "Finished Epoch 9 || Run Time:    1.9 | Load Time:    8.1 || F1:  64.37 | Prec:  67.07 | Rec:  61.87 || Ex/s: 572.37\n",
            "\n",
            "* Best F1: tensor(64.3656, device='cuda:0')\n",
            "Saving best model...\n",
            "Done.\n",
            "---------------------\n",
            "\n",
            "===>  TRAIN Epoch 10\n"
          ]
        },
        {
          "output_type": "stream",
          "name": "stderr",
          "text": [
            "0% [██████████████████████████████] 100% | ETA: 00:00:00\n",
            "Total time elapsed: 00:00:35\n"
          ]
        },
        {
          "output_type": "stream",
          "name": "stdout",
          "text": [
            "Finished Epoch 10 || Run Time:    9.0 | Load Time:   26.8 || F1:  98.40 | Prec:  99.05 | Rec:  97.75 || Ex/s: 481.81\n",
            "\n",
            "===>  EVAL Epoch 10\n"
          ]
        },
        {
          "output_type": "stream",
          "name": "stderr",
          "text": [
            "0% [██████████████████████████████] 100% | ETA: 00:00:00\n",
            "Total time elapsed: 00:00:09\n"
          ]
        },
        {
          "output_type": "stream",
          "name": "stdout",
          "text": [
            "Finished Epoch 10 || Run Time:    1.9 | Load Time:    8.1 || F1:  63.87 | Prec:  66.87 | Rec:  61.12 || Ex/s: 575.46\n",
            "\n",
            "---------------------\n",
            "\n",
            "===>  TRAIN Epoch 11\n"
          ]
        },
        {
          "output_type": "stream",
          "name": "stderr",
          "text": [
            "0% [██████████████████████████████] 100% | ETA: 00:00:00\n",
            "Total time elapsed: 00:00:34\n"
          ]
        },
        {
          "output_type": "stream",
          "name": "stdout",
          "text": [
            "Finished Epoch 11 || Run Time:    8.6 | Load Time:   26.3 || F1:  98.59 | Prec:  99.30 | Rec:  97.88 || Ex/s: 493.75\n",
            "\n",
            "===>  EVAL Epoch 11\n"
          ]
        },
        {
          "output_type": "stream",
          "name": "stderr",
          "text": [
            "0% [██████████████████████████████] 100% | ETA: 00:00:00\n",
            "Total time elapsed: 00:00:09\n"
          ]
        },
        {
          "output_type": "stream",
          "name": "stdout",
          "text": [
            "Finished Epoch 11 || Run Time:    1.9 | Load Time:    8.1 || F1:  63.80 | Prec:  67.75 | Rec:  60.28 || Ex/s: 574.37\n",
            "\n",
            "---------------------\n",
            "\n",
            "===>  TRAIN Epoch 12\n"
          ]
        },
        {
          "output_type": "stream",
          "name": "stderr",
          "text": [
            "0% [██████████████████████████████] 100% | ETA: 00:00:00\n",
            "Total time elapsed: 00:00:35\n"
          ]
        },
        {
          "output_type": "stream",
          "name": "stdout",
          "text": [
            "Finished Epoch 12 || Run Time:    8.8 | Load Time:   26.6 || F1:  98.71 | Prec:  99.52 | Rec:  97.91 || Ex/s: 485.70\n",
            "\n",
            "===>  EVAL Epoch 12\n"
          ]
        },
        {
          "output_type": "stream",
          "name": "stderr",
          "text": [
            "0% [██████████████████████████████] 100% | ETA: 00:00:00\n",
            "Total time elapsed: 00:00:10\n"
          ]
        },
        {
          "output_type": "stream",
          "name": "stdout",
          "text": [
            "Finished Epoch 12 || Run Time:    2.0 | Load Time:    8.1 || F1:  63.56 | Prec:  68.43 | Rec:  59.35 || Ex/s: 568.17\n",
            "\n",
            "---------------------\n",
            "\n",
            "===>  TRAIN Epoch 13\n"
          ]
        },
        {
          "output_type": "stream",
          "name": "stderr",
          "text": [
            "0% [██████████████████████████████] 100% | ETA: 00:00:00\n",
            "Total time elapsed: 00:00:34\n"
          ]
        },
        {
          "output_type": "stream",
          "name": "stdout",
          "text": [
            "Finished Epoch 13 || Run Time:    8.7 | Load Time:   26.4 || F1:  98.80 | Prec:  99.71 | Rec:  97.91 || Ex/s: 491.05\n",
            "\n",
            "===>  EVAL Epoch 13\n"
          ]
        },
        {
          "output_type": "stream",
          "name": "stderr",
          "text": [
            "0% [██████████████████████████████] 100% | ETA: 00:00:00\n",
            "Total time elapsed: 00:00:10\n"
          ]
        },
        {
          "output_type": "stream",
          "name": "stdout",
          "text": [
            "Finished Epoch 13 || Run Time:    1.9 | Load Time:    8.2 || F1:  63.39 | Prec:  68.51 | Rec:  58.97 || Ex/s: 572.87\n",
            "\n",
            "---------------------\n",
            "\n",
            "===>  TRAIN Epoch 14\n"
          ]
        },
        {
          "output_type": "stream",
          "name": "stderr",
          "text": [
            "0% [██████████████████████████████] 100% | ETA: 00:00:00\n",
            "Total time elapsed: 00:00:34\n"
          ]
        },
        {
          "output_type": "stream",
          "name": "stdout",
          "text": [
            "Finished Epoch 14 || Run Time:    8.7 | Load Time:   26.6 || F1:  98.85 | Prec:  99.78 | Rec:  97.94 || Ex/s: 489.13\n",
            "\n",
            "===>  EVAL Epoch 14\n"
          ]
        },
        {
          "output_type": "stream",
          "name": "stderr",
          "text": [
            "0% [██████████████████████████████] 100% | ETA: 00:00:00\n",
            "Total time elapsed: 00:00:10\n"
          ]
        },
        {
          "output_type": "stream",
          "name": "stdout",
          "text": [
            "Finished Epoch 14 || Run Time:    1.9 | Load Time:    8.1 || F1:  63.37 | Prec:  68.98 | Rec:  58.60 || Ex/s: 569.44\n",
            "\n",
            "---------------------\n",
            "\n",
            "===>  TRAIN Epoch 15\n"
          ]
        },
        {
          "output_type": "stream",
          "name": "stderr",
          "text": [
            "0% [██████████████████████████████] 100% | ETA: 00:00:00\n",
            "Total time elapsed: 00:00:34\n"
          ]
        },
        {
          "output_type": "stream",
          "name": "stdout",
          "text": [
            "Finished Epoch 15 || Run Time:    8.8 | Load Time:   26.4 || F1:  98.88 | Prec:  99.81 | Rec:  97.97 || Ex/s: 489.59\n",
            "\n",
            "===>  EVAL Epoch 15\n"
          ]
        },
        {
          "output_type": "stream",
          "name": "stderr",
          "text": [
            "0% [██████████████████████████████] 100% | ETA: 00:00:00\n",
            "Total time elapsed: 00:00:10\n"
          ]
        },
        {
          "output_type": "stream",
          "name": "stdout",
          "text": [
            "Finished Epoch 15 || Run Time:    1.9 | Load Time:    8.1 || F1:  63.18 | Prec:  69.07 | Rec:  58.22 || Ex/s: 573.64\n",
            "\n",
            "---------------------\n",
            "\n",
            "Loading best model...\n",
            "Training done.\n"
          ]
        },
        {
          "output_type": "execute_result",
          "data": {
            "text/plain": [
              "tensor(64.3656, device='cuda:0')"
            ]
          },
          "metadata": {},
          "execution_count": 33
        }
      ],
      "source": [
        "model.run_train(\n",
        "    train,\n",
        "    validation,\n",
        "    epochs=15,\n",
        "    batch_size=32,\n",
        "    best_save_path='sif_model.pth',\n",
        "    pos_neg_ratio=3)"
      ]
    },
    {
      "cell_type": "code",
      "execution_count": 34,
      "metadata": {
        "id": "yhKKxeaf7jik",
        "colab": {
          "base_uri": "https://localhost:8080/"
        },
        "outputId": "28cc9414-8329-496b-a730-183d61528aab"
      },
      "outputs": [
        {
          "output_type": "stream",
          "name": "stdout",
          "text": [
            "===>  EVAL Epoch 9\n"
          ]
        },
        {
          "output_type": "stream",
          "name": "stderr",
          "text": [
            "/usr/local/lib/python3.7/dist-packages/torch/nn/modules/module.py:974: UserWarning: Using a non-full backward hook when the forward contains multiple autograd Nodes is deprecated and will be removed in future versions. This hook will be missing some grad_input. Please use register_full_backward_hook to get the documented behavior.\n",
            "  warnings.warn(\"Using a non-full backward hook when the forward contains multiple autograd Nodes \"\n",
            "0% [██████████████████████████████] 100% | ETA: 00:00:00\n",
            "Total time elapsed: 00:00:10\n"
          ]
        },
        {
          "output_type": "stream",
          "name": "stdout",
          "text": [
            "Finished Epoch 9 || Run Time:    1.9 | Load Time:    8.4 || F1:  61.53 | Prec:  62.63 | Rec:  60.47 || Ex/s: 554.54\n",
            "\n"
          ]
        },
        {
          "output_type": "execute_result",
          "data": {
            "text/plain": [
              "tensor(61.5311, device='cuda:0')"
            ]
          },
          "metadata": {},
          "execution_count": 34
        }
      ],
      "source": [
        "# Compute F1 on test set\n",
        "model.run_eval(test)"
      ]
    },
    {
      "cell_type": "markdown",
      "metadata": {
        "id": "Y-yR4O-G75CA"
      },
      "source": [
        "### ATTENTION"
      ]
    },
    {
      "cell_type": "markdown",
      "metadata": {
        "id": "DreQHWwd75CB"
      },
      "source": [
        "#### STRUCTURED"
      ]
    },
    {
      "cell_type": "markdown",
      "metadata": {
        "id": "_uBS7Flo75CB"
      },
      "source": [
        "##### Amazon-Google"
      ]
    },
    {
      "cell_type": "code",
      "execution_count": 35,
      "metadata": {
        "id": "IisFYUP_75CB"
      },
      "outputs": [],
      "source": [
        "train, validation, test = dm.data.process(\n",
        "    path='/content/IC/datasesErros/ADirty_90_3_5/Structured/Amazon-Google/',\n",
        "    train='joined_train.csv',\n",
        "    validation='joined_valid.csv',\n",
        "    test='joined_test.csv')"
      ]
    },
    {
      "cell_type": "code",
      "execution_count": 36,
      "metadata": {
        "id": "Ve41vX4-75CC"
      },
      "outputs": [],
      "source": [
        "model = dm.MatchingModel(attr_summarizer='attention')"
      ]
    },
    {
      "cell_type": "code",
      "execution_count": 37,
      "metadata": {
        "id": "DWbbr5NC75CC",
        "colab": {
          "base_uri": "https://localhost:8080/"
        },
        "outputId": "5df3da6c-6011-4538-b85a-9e08b33d3ca3"
      },
      "outputs": [
        {
          "output_type": "stream",
          "name": "stdout",
          "text": [
            "* Number of trainable parameters: 3429602\n",
            "===>  TRAIN Epoch 1\n"
          ]
        },
        {
          "output_type": "stream",
          "name": "stderr",
          "text": [
            "/usr/local/lib/python3.7/dist-packages/torch/nn/modules/module.py:974: UserWarning: Using a non-full backward hook when the forward contains multiple autograd Nodes is deprecated and will be removed in future versions. This hook will be missing some grad_input. Please use register_full_backward_hook to get the documented behavior.\n",
            "  warnings.warn(\"Using a non-full backward hook when the forward contains multiple autograd Nodes \"\n",
            "/usr/local/lib/python3.7/dist-packages/torch/nn/modules/module.py:949: UserWarning: Using non-full backward hooks on a Module that does not take as input a single Tensor or a tuple of Tensors is deprecated and will be removed in future versions. This hook will be missing some of the grad_input. Please use register_full_backward_hook to get the documented behavior.\n",
            "  warnings.warn(\"Using non-full backward hooks on a Module that does not take as input a \"\n",
            "/usr/local/lib/python3.7/dist-packages/torch/nn/modules/module.py:939: UserWarning: Using non-full backward hooks on a Module that does not return a single Tensor or a tuple of Tensors is deprecated and will be removed in future versions. This hook will be missing some of the grad_output. Please use register_full_backward_hook to get the documented behavior.\n",
            "  warnings.warn(\"Using non-full backward hooks on a Module that does not return a \"\n",
            "/usr/local/lib/python3.7/dist-packages/torch/nn/functional.py:2742: UserWarning: reduction: 'mean' divides the total loss by both the batch size and the support size.'batchmean' divides only by the batch size, and aligns with the KL div math definition.'mean' will be changed to behave the same as 'batchmean' in the next major release.\n",
            "  \"reduction: 'mean' divides the total loss by both the batch size and the support size.\"\n",
            "0% [██████████████████████████████] 100% | ETA: 00:00:00\n",
            "Total time elapsed: 00:00:14\n"
          ]
        },
        {
          "output_type": "stream",
          "name": "stdout",
          "text": [
            "Finished Epoch 1 || Run Time:   10.7 | Load Time:    4.3 || F1:  19.18 | Prec:  28.53 | Rec:  14.45 || Ex/s: 459.05\n",
            "\n",
            "===>  EVAL Epoch 1\n"
          ]
        },
        {
          "output_type": "stream",
          "name": "stderr",
          "text": [
            "0% [██████████████] 100% | ETA: 00:00:00\n",
            "Total time elapsed: 00:00:03\n"
          ]
        },
        {
          "output_type": "stream",
          "name": "stdout",
          "text": [
            "Finished Epoch 1 || Run Time:    2.0 | Load Time:    1.4 || F1:  15.44 | Prec:  35.94 | Rec:   9.83 || Ex/s: 678.03\n",
            "\n",
            "* Best F1: tensor(15.4362, device='cuda:0')\n",
            "Saving best model...\n",
            "Done.\n",
            "---------------------\n",
            "\n",
            "===>  TRAIN Epoch 2\n"
          ]
        },
        {
          "output_type": "stream",
          "name": "stderr",
          "text": [
            "0% [██████████████████████████████] 100% | ETA: 00:00:00\n",
            "Total time elapsed: 00:00:14\n"
          ]
        },
        {
          "output_type": "stream",
          "name": "stdout",
          "text": [
            "Finished Epoch 2 || Run Time:   10.6 | Load Time:    4.3 || F1:  41.08 | Prec:  36.71 | Rec:  46.64 || Ex/s: 459.80\n",
            "\n",
            "===>  EVAL Epoch 2\n"
          ]
        },
        {
          "output_type": "stream",
          "name": "stderr",
          "text": [
            "0% [██████████████] 100% | ETA: 00:00:00\n",
            "Total time elapsed: 00:00:03\n"
          ]
        },
        {
          "output_type": "stream",
          "name": "stdout",
          "text": [
            "Finished Epoch 2 || Run Time:    2.1 | Load Time:    1.4 || F1:  36.09 | Prec:  43.64 | Rec:  30.77 || Ex/s: 664.72\n",
            "\n",
            "* Best F1: tensor(36.0902, device='cuda:0')\n",
            "Saving best model...\n",
            "Done.\n",
            "---------------------\n",
            "\n",
            "===>  TRAIN Epoch 3\n"
          ]
        },
        {
          "output_type": "stream",
          "name": "stderr",
          "text": [
            "0% [██████████████████████████████] 100% | ETA: 00:00:00\n",
            "Total time elapsed: 00:00:14\n"
          ]
        },
        {
          "output_type": "stream",
          "name": "stdout",
          "text": [
            "Finished Epoch 3 || Run Time:   10.7 | Load Time:    4.3 || F1:  52.01 | Prec:  44.31 | Rec:  62.95 || Ex/s: 457.63\n",
            "\n",
            "===>  EVAL Epoch 3\n"
          ]
        },
        {
          "output_type": "stream",
          "name": "stderr",
          "text": [
            "0% [██████████████] 100% | ETA: 00:00:00\n",
            "Total time elapsed: 00:00:03\n"
          ]
        },
        {
          "output_type": "stream",
          "name": "stdout",
          "text": [
            "Finished Epoch 3 || Run Time:    2.0 | Load Time:    1.3 || F1:  37.04 | Prec:  37.78 | Rec:  36.32 || Ex/s: 680.37\n",
            "\n",
            "* Best F1: tensor(37.0370, device='cuda:0')\n",
            "Saving best model...\n",
            "Done.\n",
            "---------------------\n",
            "\n",
            "===>  TRAIN Epoch 4\n"
          ]
        },
        {
          "output_type": "stream",
          "name": "stderr",
          "text": [
            "0% [██████████████████████████████] 100% | ETA: 00:00:00\n",
            "Total time elapsed: 00:00:14\n"
          ]
        },
        {
          "output_type": "stream",
          "name": "stdout",
          "text": [
            "Finished Epoch 4 || Run Time:   10.6 | Load Time:    4.3 || F1:  59.07 | Prec:  50.67 | Rec:  70.82 || Ex/s: 461.50\n",
            "\n",
            "===>  EVAL Epoch 4\n"
          ]
        },
        {
          "output_type": "stream",
          "name": "stderr",
          "text": [
            "0% [██████████████] 100% | ETA: 00:00:00\n",
            "Total time elapsed: 00:00:03\n"
          ]
        },
        {
          "output_type": "stream",
          "name": "stdout",
          "text": [
            "Finished Epoch 4 || Run Time:    2.0 | Load Time:    1.4 || F1:  42.14 | Prec:  36.20 | Rec:  50.43 || Ex/s: 677.22\n",
            "\n",
            "* Best F1: tensor(42.1429, device='cuda:0')\n",
            "Saving best model...\n",
            "Done.\n",
            "---------------------\n",
            "\n",
            "===>  TRAIN Epoch 5\n"
          ]
        },
        {
          "output_type": "stream",
          "name": "stderr",
          "text": [
            "0% [██████████████████████████████] 100% | ETA: 00:00:00\n",
            "Total time elapsed: 00:00:15\n"
          ]
        },
        {
          "output_type": "stream",
          "name": "stdout",
          "text": [
            "Finished Epoch 5 || Run Time:   11.0 | Load Time:    4.4 || F1:  65.32 | Prec:  57.05 | Rec:  76.39 || Ex/s: 447.40\n",
            "\n",
            "===>  EVAL Epoch 5\n"
          ]
        },
        {
          "output_type": "stream",
          "name": "stderr",
          "text": [
            "0% [██████████████] 100% | ETA: 00:00:00\n",
            "Total time elapsed: 00:00:03\n"
          ]
        },
        {
          "output_type": "stream",
          "name": "stdout",
          "text": [
            "Finished Epoch 5 || Run Time:    2.2 | Load Time:    1.4 || F1:  40.77 | Prec:  34.63 | Rec:  49.57 || Ex/s: 648.55\n",
            "\n",
            "---------------------\n",
            "\n",
            "===>  TRAIN Epoch 6\n"
          ]
        },
        {
          "output_type": "stream",
          "name": "stderr",
          "text": [
            "0% [██████████████████████████████] 100% | ETA: 00:00:00\n",
            "Total time elapsed: 00:00:15\n"
          ]
        },
        {
          "output_type": "stream",
          "name": "stdout",
          "text": [
            "Finished Epoch 6 || Run Time:   11.1 | Load Time:    4.3 || F1:  71.16 | Prec:  63.12 | Rec:  81.55 || Ex/s: 446.65\n",
            "\n",
            "===>  EVAL Epoch 6\n"
          ]
        },
        {
          "output_type": "stream",
          "name": "stderr",
          "text": [
            "0% [██████████████] 100% | ETA: 00:00:00\n",
            "Total time elapsed: 00:00:03\n"
          ]
        },
        {
          "output_type": "stream",
          "name": "stdout",
          "text": [
            "Finished Epoch 6 || Run Time:    2.0 | Load Time:    1.4 || F1:  40.87 | Prec:  35.42 | Rec:  48.29 || Ex/s: 674.91\n",
            "\n",
            "---------------------\n",
            "\n",
            "===>  TRAIN Epoch 7\n"
          ]
        },
        {
          "output_type": "stream",
          "name": "stderr",
          "text": [
            "0% [██████████████████████████████] 100% | ETA: 00:00:00\n",
            "Total time elapsed: 00:00:15\n"
          ]
        },
        {
          "output_type": "stream",
          "name": "stdout",
          "text": [
            "Finished Epoch 7 || Run Time:   10.8 | Load Time:    4.3 || F1:  75.41 | Prec:  67.15 | Rec:  85.98 || Ex/s: 454.42\n",
            "\n",
            "===>  EVAL Epoch 7\n"
          ]
        },
        {
          "output_type": "stream",
          "name": "stderr",
          "text": [
            "0% [██████████████] 100% | ETA: 00:00:00\n",
            "Total time elapsed: 00:00:03\n"
          ]
        },
        {
          "output_type": "stream",
          "name": "stdout",
          "text": [
            "Finished Epoch 7 || Run Time:    2.0 | Load Time:    1.4 || F1:  40.15 | Prec:  36.05 | Rec:  45.30 || Ex/s: 673.68\n",
            "\n",
            "---------------------\n",
            "\n",
            "===>  TRAIN Epoch 8\n"
          ]
        },
        {
          "output_type": "stream",
          "name": "stderr",
          "text": [
            "0% [██████████████████████████████] 100% | ETA: 00:00:00\n",
            "Total time elapsed: 00:00:15\n"
          ]
        },
        {
          "output_type": "stream",
          "name": "stdout",
          "text": [
            "Finished Epoch 8 || Run Time:   10.7 | Load Time:    4.3 || F1:  79.36 | Prec:  71.89 | Rec:  88.56 || Ex/s: 456.68\n",
            "\n",
            "===>  EVAL Epoch 8\n"
          ]
        },
        {
          "output_type": "stream",
          "name": "stderr",
          "text": [
            "0% [██████████████] 100% | ETA: 00:00:00\n",
            "Total time elapsed: 00:00:03\n"
          ]
        },
        {
          "output_type": "stream",
          "name": "stdout",
          "text": [
            "Finished Epoch 8 || Run Time:    2.0 | Load Time:    1.4 || F1:  39.19 | Prec:  37.16 | Rec:  41.45 || Ex/s: 682.31\n",
            "\n",
            "---------------------\n",
            "\n",
            "===>  TRAIN Epoch 9\n"
          ]
        },
        {
          "output_type": "stream",
          "name": "stderr",
          "text": [
            "0% [██████████████████████████████] 100% | ETA: 00:00:00\n",
            "Total time elapsed: 00:00:14\n"
          ]
        },
        {
          "output_type": "stream",
          "name": "stdout",
          "text": [
            "Finished Epoch 9 || Run Time:   10.7 | Load Time:    4.3 || F1:  82.01 | Prec:  75.54 | Rec:  89.70 || Ex/s: 458.73\n",
            "\n",
            "===>  EVAL Epoch 9\n"
          ]
        },
        {
          "output_type": "stream",
          "name": "stderr",
          "text": [
            "0% [██████████████] 100% | ETA: 00:00:00\n",
            "Total time elapsed: 00:00:03\n"
          ]
        },
        {
          "output_type": "stream",
          "name": "stdout",
          "text": [
            "Finished Epoch 9 || Run Time:    2.2 | Load Time:    1.5 || F1:  37.42 | Prec:  36.44 | Rec:  38.46 || Ex/s: 620.51\n",
            "\n",
            "---------------------\n",
            "\n",
            "===>  TRAIN Epoch 10\n"
          ]
        },
        {
          "output_type": "stream",
          "name": "stderr",
          "text": [
            "0% [██████████████████████████████] 100% | ETA: 00:00:00\n",
            "Total time elapsed: 00:00:14\n"
          ]
        },
        {
          "output_type": "stream",
          "name": "stdout",
          "text": [
            "Finished Epoch 10 || Run Time:   10.7 | Load Time:    4.3 || F1:  84.03 | Prec:  78.27 | Rec:  90.70 || Ex/s: 459.22\n",
            "\n",
            "===>  EVAL Epoch 10\n"
          ]
        },
        {
          "output_type": "stream",
          "name": "stderr",
          "text": [
            "0% [██████████████] 100% | ETA: 00:00:00\n",
            "Total time elapsed: 00:00:03\n"
          ]
        },
        {
          "output_type": "stream",
          "name": "stdout",
          "text": [
            "Finished Epoch 10 || Run Time:    2.0 | Load Time:    1.4 || F1:  37.47 | Prec:  36.93 | Rec:  38.03 || Ex/s: 673.99\n",
            "\n",
            "---------------------\n",
            "\n",
            "===>  TRAIN Epoch 11\n"
          ]
        },
        {
          "output_type": "stream",
          "name": "stderr",
          "text": [
            "0% [██████████████████████████████] 100% | ETA: 00:00:00\n",
            "Total time elapsed: 00:00:14\n"
          ]
        },
        {
          "output_type": "stream",
          "name": "stdout",
          "text": [
            "Finished Epoch 11 || Run Time:   10.6 | Load Time:    4.3 || F1:  85.66 | Prec:  80.58 | Rec:  91.42 || Ex/s: 458.99\n",
            "\n",
            "===>  EVAL Epoch 11\n"
          ]
        },
        {
          "output_type": "stream",
          "name": "stderr",
          "text": [
            "0% [██████████████] 100% | ETA: 00:00:00\n",
            "Total time elapsed: 00:00:03\n"
          ]
        },
        {
          "output_type": "stream",
          "name": "stdout",
          "text": [
            "Finished Epoch 11 || Run Time:    2.0 | Load Time:    1.4 || F1:  37.63 | Prec:  37.24 | Rec:  38.03 || Ex/s: 674.83\n",
            "\n",
            "---------------------\n",
            "\n",
            "===>  TRAIN Epoch 12\n"
          ]
        },
        {
          "output_type": "stream",
          "name": "stderr",
          "text": [
            "0% [██████████████████████████████] 100% | ETA: 00:00:00\n",
            "Total time elapsed: 00:00:15\n"
          ]
        },
        {
          "output_type": "stream",
          "name": "stdout",
          "text": [
            "Finished Epoch 12 || Run Time:   11.0 | Load Time:    4.4 || F1:  86.58 | Prec:  81.89 | Rec:  91.85 || Ex/s: 447.36\n",
            "\n",
            "===>  EVAL Epoch 12\n"
          ]
        },
        {
          "output_type": "stream",
          "name": "stderr",
          "text": [
            "0% [██████████████] 100% | ETA: 00:00:00\n",
            "Total time elapsed: 00:00:03\n"
          ]
        },
        {
          "output_type": "stream",
          "name": "stdout",
          "text": [
            "Finished Epoch 12 || Run Time:    2.1 | Load Time:    1.4 || F1:  37.71 | Prec:  37.39 | Rec:  38.03 || Ex/s: 659.39\n",
            "\n",
            "---------------------\n",
            "\n",
            "===>  TRAIN Epoch 13\n"
          ]
        },
        {
          "output_type": "stream",
          "name": "stderr",
          "text": [
            "0% [██████████████████████████████] 100% | ETA: 00:00:00\n",
            "Total time elapsed: 00:00:15\n"
          ]
        },
        {
          "output_type": "stream",
          "name": "stdout",
          "text": [
            "Finished Epoch 13 || Run Time:   10.9 | Load Time:    4.3 || F1:  87.97 | Prec:  83.81 | Rec:  92.56 || Ex/s: 452.15\n",
            "\n",
            "===>  EVAL Epoch 13\n"
          ]
        },
        {
          "output_type": "stream",
          "name": "stderr",
          "text": [
            "0% [██████████████] 100% | ETA: 00:00:00\n",
            "Total time elapsed: 00:00:03\n"
          ]
        },
        {
          "output_type": "stream",
          "name": "stdout",
          "text": [
            "Finished Epoch 13 || Run Time:    2.0 | Load Time:    1.4 || F1:  38.40 | Prec:  37.92 | Rec:  38.89 || Ex/s: 670.76\n",
            "\n",
            "---------------------\n",
            "\n",
            "===>  TRAIN Epoch 14\n"
          ]
        },
        {
          "output_type": "stream",
          "name": "stderr",
          "text": [
            "0% [██████████████████████████████] 100% | ETA: 00:00:00\n",
            "Total time elapsed: 00:00:15\n"
          ]
        },
        {
          "output_type": "stream",
          "name": "stdout",
          "text": [
            "Finished Epoch 14 || Run Time:   11.0 | Load Time:    4.4 || F1:  88.86 | Prec:  85.08 | Rec:  92.99 || Ex/s: 446.01\n",
            "\n",
            "===>  EVAL Epoch 14\n"
          ]
        },
        {
          "output_type": "stream",
          "name": "stderr",
          "text": [
            "0% [██████████████] 100% | ETA: 00:00:00\n",
            "Total time elapsed: 00:00:03\n"
          ]
        },
        {
          "output_type": "stream",
          "name": "stdout",
          "text": [
            "Finished Epoch 14 || Run Time:    2.0 | Load Time:    1.4 || F1:  36.75 | Prec:  36.75 | Rec:  36.75 || Ex/s: 675.33\n",
            "\n",
            "---------------------\n",
            "\n",
            "===>  TRAIN Epoch 15\n"
          ]
        },
        {
          "output_type": "stream",
          "name": "stderr",
          "text": [
            "0% [██████████████████████████████] 100% | ETA: 00:00:00\n",
            "Total time elapsed: 00:00:15\n"
          ]
        },
        {
          "output_type": "stream",
          "name": "stdout",
          "text": [
            "Finished Epoch 15 || Run Time:   10.8 | Load Time:    4.3 || F1:  89.94 | Prec:  86.72 | Rec:  93.42 || Ex/s: 456.49\n",
            "\n",
            "===>  EVAL Epoch 15\n"
          ]
        },
        {
          "output_type": "stream",
          "name": "stderr",
          "text": [
            "0% [██████████████] 100% | ETA: 00:00:00\n",
            "Total time elapsed: 00:00:03\n"
          ]
        },
        {
          "output_type": "stream",
          "name": "stdout",
          "text": [
            "Finished Epoch 15 || Run Time:    2.0 | Load Time:    1.4 || F1:  36.32 | Prec:  37.22 | Rec:  35.47 || Ex/s: 677.82\n",
            "\n",
            "---------------------\n",
            "\n",
            "Loading best model...\n",
            "Training done.\n"
          ]
        },
        {
          "output_type": "execute_result",
          "data": {
            "text/plain": [
              "tensor(42.1429, device='cuda:0')"
            ]
          },
          "metadata": {},
          "execution_count": 37
        }
      ],
      "source": [
        "model.run_train(\n",
        "    train,\n",
        "    validation,\n",
        "    epochs=15,\n",
        "    batch_size=32,\n",
        "    best_save_path='attention_model.pth',\n",
        "    pos_neg_ratio=3)"
      ]
    },
    {
      "cell_type": "code",
      "execution_count": 38,
      "metadata": {
        "id": "e1sHU6q_75CD",
        "colab": {
          "base_uri": "https://localhost:8080/"
        },
        "outputId": "7a58551d-574a-49a2-cbdc-19cfab555558"
      },
      "outputs": [
        {
          "output_type": "stream",
          "name": "stdout",
          "text": [
            "===>  EVAL Epoch 4\n"
          ]
        },
        {
          "output_type": "stream",
          "name": "stderr",
          "text": [
            "/usr/local/lib/python3.7/dist-packages/torch/nn/modules/module.py:974: UserWarning: Using a non-full backward hook when the forward contains multiple autograd Nodes is deprecated and will be removed in future versions. This hook will be missing some grad_input. Please use register_full_backward_hook to get the documented behavior.\n",
            "  warnings.warn(\"Using a non-full backward hook when the forward contains multiple autograd Nodes \"\n",
            "/usr/local/lib/python3.7/dist-packages/torch/nn/modules/module.py:949: UserWarning: Using non-full backward hooks on a Module that does not take as input a single Tensor or a tuple of Tensors is deprecated and will be removed in future versions. This hook will be missing some of the grad_input. Please use register_full_backward_hook to get the documented behavior.\n",
            "  warnings.warn(\"Using non-full backward hooks on a Module that does not take as input a \"\n",
            "/usr/local/lib/python3.7/dist-packages/torch/nn/modules/module.py:939: UserWarning: Using non-full backward hooks on a Module that does not return a single Tensor or a tuple of Tensors is deprecated and will be removed in future versions. This hook will be missing some of the grad_output. Please use register_full_backward_hook to get the documented behavior.\n",
            "  warnings.warn(\"Using non-full backward hooks on a Module that does not return a \"\n",
            "0% [██████████████] 100% | ETA: 00:00:00\n",
            "Total time elapsed: 00:00:03\n"
          ]
        },
        {
          "output_type": "stream",
          "name": "stdout",
          "text": [
            "Finished Epoch 4 || Run Time:    2.1 | Load Time:    1.4 || F1:  41.64 | Prec:  35.67 | Rec:  50.00 || Ex/s: 667.56\n",
            "\n"
          ]
        },
        {
          "output_type": "execute_result",
          "data": {
            "text/plain": [
              "tensor(41.6370, device='cuda:0')"
            ]
          },
          "metadata": {},
          "execution_count": 38
        }
      ],
      "source": [
        "# Compute F1 on test set\n",
        "model.run_eval(test)"
      ]
    },
    {
      "cell_type": "markdown",
      "metadata": {
        "id": "RasOi4AW75CD"
      },
      "source": [
        "##### Beer"
      ]
    },
    {
      "cell_type": "code",
      "execution_count": 39,
      "metadata": {
        "id": "PcdkYzZD75CD"
      },
      "outputs": [],
      "source": [
        "train, validation, test = dm.data.process(\n",
        "    path='/content/IC/datasesErros/ADirty_90_3_5/Structured/Beer/',\n",
        "    train='joined_train.csv',\n",
        "    validation='joined_valid.csv',\n",
        "    test='joined_test.csv')"
      ]
    },
    {
      "cell_type": "code",
      "execution_count": 40,
      "metadata": {
        "id": "WF7p9Ekr75CE"
      },
      "outputs": [],
      "source": [
        "model = dm.MatchingModel(attr_summarizer='attention')"
      ]
    },
    {
      "cell_type": "code",
      "execution_count": 41,
      "metadata": {
        "id": "n27d9dg575CE",
        "colab": {
          "base_uri": "https://localhost:8080/"
        },
        "outputId": "120a414c-9bd9-4339-9d69-08776d8d1b23"
      },
      "outputs": [
        {
          "output_type": "stream",
          "name": "stderr",
          "text": [
            "/usr/local/lib/python3.7/dist-packages/torch/nn/modules/module.py:974: UserWarning: Using a non-full backward hook when the forward contains multiple autograd Nodes is deprecated and will be removed in future versions. This hook will be missing some grad_input. Please use register_full_backward_hook to get the documented behavior.\n",
            "  warnings.warn(\"Using a non-full backward hook when the forward contains multiple autograd Nodes \"\n",
            "/usr/local/lib/python3.7/dist-packages/torch/nn/modules/module.py:949: UserWarning: Using non-full backward hooks on a Module that does not take as input a single Tensor or a tuple of Tensors is deprecated and will be removed in future versions. This hook will be missing some of the grad_input. Please use register_full_backward_hook to get the documented behavior.\n",
            "  warnings.warn(\"Using non-full backward hooks on a Module that does not take as input a \"\n"
          ]
        },
        {
          "output_type": "stream",
          "name": "stdout",
          "text": [
            "* Number of trainable parameters: 4332002\n",
            "===>  TRAIN Epoch 1\n"
          ]
        },
        {
          "output_type": "stream",
          "name": "stderr",
          "text": [
            "/usr/local/lib/python3.7/dist-packages/torch/nn/modules/module.py:939: UserWarning: Using non-full backward hooks on a Module that does not return a single Tensor or a tuple of Tensors is deprecated and will be removed in future versions. This hook will be missing some of the grad_output. Please use register_full_backward_hook to get the documented behavior.\n",
            "  warnings.warn(\"Using non-full backward hooks on a Module that does not return a \"\n",
            "/usr/local/lib/python3.7/dist-packages/torch/nn/functional.py:2742: UserWarning: reduction: 'mean' divides the total loss by both the batch size and the support size.'batchmean' divides only by the batch size, and aligns with the KL div math definition.'mean' will be changed to behave the same as 'batchmean' in the next major release.\n",
            "  \"reduction: 'mean' divides the total loss by both the batch size and the support size.\"\n",
            "0% [█] 100% | ETA: 00:00:00\n",
            "Total time elapsed: 00:00:00\n"
          ]
        },
        {
          "output_type": "stream",
          "name": "stdout",
          "text": [
            "Finished Epoch 1 || Run Time:    0.6 | Load Time:    0.3 || F1:  21.92 | Prec:  24.24 | Rec:  20.00 || Ex/s: 302.96\n",
            "\n",
            "===>  EVAL Epoch 1\n",
            "Finished Epoch 1 || Run Time:    0.1 | Load Time:    0.1 || F1:  41.67 | Prec:  50.00 | Rec:  35.71 || Ex/s: 440.86\n",
            "\n",
            "* Best F1: tensor(41.6667, device='cuda:0')\n",
            "Saving best model...\n",
            "Done.\n",
            "---------------------\n",
            "\n",
            "===>  TRAIN Epoch 2\n"
          ]
        },
        {
          "output_type": "stream",
          "name": "stderr",
          "text": [
            "0% [█] 100% | ETA: 00:00:00\n",
            "Total time elapsed: 00:00:00\n"
          ]
        },
        {
          "output_type": "stream",
          "name": "stdout",
          "text": [
            "Finished Epoch 2 || Run Time:    0.6 | Load Time:    0.3 || F1:  57.50 | Prec:  57.50 | Rec:  57.50 || Ex/s: 312.52\n",
            "\n",
            "===>  EVAL Epoch 2\n",
            "Finished Epoch 2 || Run Time:    0.1 | Load Time:    0.1 || F1:  40.00 | Prec:  45.45 | Rec:  35.71 || Ex/s: 427.61\n",
            "\n",
            "---------------------\n",
            "\n",
            "===>  TRAIN Epoch 3\n"
          ]
        },
        {
          "output_type": "stream",
          "name": "stderr",
          "text": [
            "0% [█] 100% | ETA: 00:00:00\n",
            "Total time elapsed: 00:00:00\n"
          ]
        },
        {
          "output_type": "stream",
          "name": "stdout",
          "text": [
            "Finished Epoch 3 || Run Time:    0.6 | Load Time:    0.3 || F1:  58.59 | Prec:  49.15 | Rec:  72.50 || Ex/s: 313.93\n",
            "\n",
            "===>  EVAL Epoch 3\n",
            "Finished Epoch 3 || Run Time:    0.1 | Load Time:    0.1 || F1:  41.38 | Prec:  40.00 | Rec:  42.86 || Ex/s: 434.61\n",
            "\n",
            "---------------------\n",
            "\n",
            "===>  TRAIN Epoch 4\n"
          ]
        },
        {
          "output_type": "stream",
          "name": "stderr",
          "text": [
            "0% [█] 100% | ETA: 00:00:00\n",
            "Total time elapsed: 00:00:00\n"
          ]
        },
        {
          "output_type": "stream",
          "name": "stdout",
          "text": [
            "Finished Epoch 4 || Run Time:    0.6 | Load Time:    0.3 || F1:  72.16 | Prec:  61.40 | Rec:  87.50 || Ex/s: 314.04\n",
            "\n",
            "===>  EVAL Epoch 4\n",
            "Finished Epoch 4 || Run Time:    0.1 | Load Time:    0.1 || F1:  45.00 | Prec:  34.62 | Rec:  64.29 || Ex/s: 429.30\n",
            "\n",
            "* Best F1: tensor(45., device='cuda:0')\n",
            "Saving best model...\n",
            "Done.\n",
            "---------------------\n",
            "\n",
            "===>  TRAIN Epoch 5\n"
          ]
        },
        {
          "output_type": "stream",
          "name": "stderr",
          "text": [
            "0% [█] 100% | ETA: 00:00:00\n",
            "Total time elapsed: 00:00:00\n"
          ]
        },
        {
          "output_type": "stream",
          "name": "stdout",
          "text": [
            "Finished Epoch 5 || Run Time:    0.6 | Load Time:    0.3 || F1:  80.85 | Prec:  70.37 | Rec:  95.00 || Ex/s: 316.99\n",
            "\n",
            "===>  EVAL Epoch 5\n",
            "Finished Epoch 5 || Run Time:    0.1 | Load Time:    0.1 || F1:  45.00 | Prec:  34.62 | Rec:  64.29 || Ex/s: 436.78\n",
            "\n",
            "---------------------\n",
            "\n",
            "===>  TRAIN Epoch 6\n"
          ]
        },
        {
          "output_type": "stream",
          "name": "stderr",
          "text": [
            "0% [█] 100% | ETA: 00:00:00\n",
            "Total time elapsed: 00:00:00\n"
          ]
        },
        {
          "output_type": "stream",
          "name": "stdout",
          "text": [
            "Finished Epoch 6 || Run Time:    0.6 | Load Time:    0.3 || F1:  82.61 | Prec:  73.08 | Rec:  95.00 || Ex/s: 316.87\n",
            "\n",
            "===>  EVAL Epoch 6\n",
            "Finished Epoch 6 || Run Time:    0.1 | Load Time:    0.1 || F1:  50.00 | Prec:  40.91 | Rec:  64.29 || Ex/s: 444.53\n",
            "\n",
            "* Best F1: tensor(50.0000, device='cuda:0')\n",
            "Saving best model...\n",
            "Done.\n",
            "---------------------\n",
            "\n",
            "===>  TRAIN Epoch 7\n"
          ]
        },
        {
          "output_type": "stream",
          "name": "stderr",
          "text": [
            "0% [█] 100% | ETA: 00:00:00\n",
            "Total time elapsed: 00:00:00\n"
          ]
        },
        {
          "output_type": "stream",
          "name": "stdout",
          "text": [
            "Finished Epoch 7 || Run Time:    0.6 | Load Time:    0.3 || F1:  87.64 | Prec:  79.59 | Rec:  97.50 || Ex/s: 314.71\n",
            "\n",
            "===>  EVAL Epoch 7\n",
            "Finished Epoch 7 || Run Time:    0.1 | Load Time:    0.1 || F1:  47.37 | Prec:  37.50 | Rec:  64.29 || Ex/s: 450.47\n",
            "\n",
            "---------------------\n",
            "\n",
            "===>  TRAIN Epoch 8\n"
          ]
        },
        {
          "output_type": "stream",
          "name": "stderr",
          "text": [
            "0% [█] 100% | ETA: 00:00:00\n",
            "Total time elapsed: 00:00:00\n"
          ]
        },
        {
          "output_type": "stream",
          "name": "stdout",
          "text": [
            "Finished Epoch 8 || Run Time:    0.6 | Load Time:    0.3 || F1:  90.70 | Prec:  84.78 | Rec:  97.50 || Ex/s: 317.96\n",
            "\n",
            "===>  EVAL Epoch 8\n",
            "Finished Epoch 8 || Run Time:    0.1 | Load Time:    0.1 || F1:  48.65 | Prec:  39.13 | Rec:  64.29 || Ex/s: 448.67\n",
            "\n",
            "---------------------\n",
            "\n",
            "===>  TRAIN Epoch 9\n"
          ]
        },
        {
          "output_type": "stream",
          "name": "stderr",
          "text": [
            "0% [█] 100% | ETA: 00:00:00\n",
            "Total time elapsed: 00:00:00\n"
          ]
        },
        {
          "output_type": "stream",
          "name": "stdout",
          "text": [
            "Finished Epoch 9 || Run Time:    0.6 | Load Time:    0.3 || F1:  91.76 | Prec:  86.67 | Rec:  97.50 || Ex/s: 317.18\n",
            "\n",
            "===>  EVAL Epoch 9\n",
            "Finished Epoch 9 || Run Time:    0.1 | Load Time:    0.1 || F1:  51.28 | Prec:  40.00 | Rec:  71.43 || Ex/s: 471.89\n",
            "\n",
            "* Best F1: tensor(51.2821, device='cuda:0')\n",
            "Saving best model...\n",
            "Done.\n",
            "---------------------\n",
            "\n",
            "===>  TRAIN Epoch 10\n"
          ]
        },
        {
          "output_type": "stream",
          "name": "stderr",
          "text": [
            "0% [█] 100% | ETA: 00:00:00\n",
            "Total time elapsed: 00:00:00\n"
          ]
        },
        {
          "output_type": "stream",
          "name": "stdout",
          "text": [
            "Finished Epoch 10 || Run Time:    0.6 | Load Time:    0.3 || F1:  92.86 | Prec:  88.64 | Rec:  97.50 || Ex/s: 315.35\n",
            "\n",
            "===>  EVAL Epoch 10\n",
            "Finished Epoch 10 || Run Time:    0.1 | Load Time:    0.1 || F1:  52.63 | Prec:  41.67 | Rec:  71.43 || Ex/s: 452.21\n",
            "\n",
            "* Best F1: tensor(52.6316, device='cuda:0')\n",
            "Saving best model...\n",
            "Done.\n",
            "---------------------\n",
            "\n",
            "===>  TRAIN Epoch 11\n"
          ]
        },
        {
          "output_type": "stream",
          "name": "stderr",
          "text": [
            "0% [█] 100% | ETA: 00:00:00\n",
            "Total time elapsed: 00:00:00\n"
          ]
        },
        {
          "output_type": "stream",
          "name": "stdout",
          "text": [
            "Finished Epoch 11 || Run Time:    0.6 | Load Time:    0.3 || F1:  92.86 | Prec:  88.64 | Rec:  97.50 || Ex/s: 309.01\n",
            "\n",
            "===>  EVAL Epoch 11\n",
            "Finished Epoch 11 || Run Time:    0.1 | Load Time:    0.1 || F1:  52.63 | Prec:  41.67 | Rec:  71.43 || Ex/s: 467.19\n",
            "\n",
            "---------------------\n",
            "\n",
            "===>  TRAIN Epoch 12\n"
          ]
        },
        {
          "output_type": "stream",
          "name": "stderr",
          "text": [
            "0% [█] 100% | ETA: 00:00:00\n",
            "Total time elapsed: 00:00:00\n"
          ]
        },
        {
          "output_type": "stream",
          "name": "stdout",
          "text": [
            "Finished Epoch 12 || Run Time:    0.6 | Load Time:    0.3 || F1:  92.86 | Prec:  88.64 | Rec:  97.50 || Ex/s: 320.48\n",
            "\n",
            "===>  EVAL Epoch 12\n",
            "Finished Epoch 12 || Run Time:    0.1 | Load Time:    0.1 || F1:  52.63 | Prec:  41.67 | Rec:  71.43 || Ex/s: 447.85\n",
            "\n",
            "---------------------\n",
            "\n",
            "===>  TRAIN Epoch 13\n"
          ]
        },
        {
          "output_type": "stream",
          "name": "stderr",
          "text": [
            "0% [█] 100% | ETA: 00:00:00\n",
            "Total time elapsed: 00:00:00\n"
          ]
        },
        {
          "output_type": "stream",
          "name": "stdout",
          "text": [
            "Finished Epoch 13 || Run Time:    0.6 | Load Time:    0.3 || F1:  92.86 | Prec:  88.64 | Rec:  97.50 || Ex/s: 314.81\n",
            "\n",
            "===>  EVAL Epoch 13\n",
            "Finished Epoch 13 || Run Time:    0.1 | Load Time:    0.1 || F1:  52.63 | Prec:  41.67 | Rec:  71.43 || Ex/s: 422.18\n",
            "\n",
            "---------------------\n",
            "\n",
            "===>  TRAIN Epoch 14\n"
          ]
        },
        {
          "output_type": "stream",
          "name": "stderr",
          "text": [
            "0% [█] 100% | ETA: 00:00:00\n",
            "Total time elapsed: 00:00:00\n"
          ]
        },
        {
          "output_type": "stream",
          "name": "stdout",
          "text": [
            "Finished Epoch 14 || Run Time:    0.6 | Load Time:    0.3 || F1:  92.86 | Prec:  88.64 | Rec:  97.50 || Ex/s: 312.05\n",
            "\n",
            "===>  EVAL Epoch 14\n",
            "Finished Epoch 14 || Run Time:    0.1 | Load Time:    0.1 || F1:  52.63 | Prec:  41.67 | Rec:  71.43 || Ex/s: 445.37\n",
            "\n",
            "---------------------\n",
            "\n",
            "===>  TRAIN Epoch 15\n"
          ]
        },
        {
          "output_type": "stream",
          "name": "stderr",
          "text": [
            "0% [█] 100% | ETA: 00:00:00\n",
            "Total time elapsed: 00:00:00\n"
          ]
        },
        {
          "output_type": "stream",
          "name": "stdout",
          "text": [
            "Finished Epoch 15 || Run Time:    0.6 | Load Time:    0.3 || F1:  92.86 | Prec:  88.64 | Rec:  97.50 || Ex/s: 314.03\n",
            "\n",
            "===>  EVAL Epoch 15\n",
            "Finished Epoch 15 || Run Time:    0.1 | Load Time:    0.1 || F1:  52.63 | Prec:  41.67 | Rec:  71.43 || Ex/s: 446.66\n",
            "\n",
            "---------------------\n",
            "\n",
            "Loading best model...\n",
            "Training done.\n"
          ]
        },
        {
          "output_type": "execute_result",
          "data": {
            "text/plain": [
              "tensor(52.6316, device='cuda:0')"
            ]
          },
          "metadata": {},
          "execution_count": 41
        }
      ],
      "source": [
        "model.run_train(\n",
        "    train,\n",
        "    validation,\n",
        "    epochs=15,\n",
        "    batch_size=32,\n",
        "    best_save_path='attention_model.pth',\n",
        "    pos_neg_ratio=3)"
      ]
    },
    {
      "cell_type": "code",
      "execution_count": 42,
      "metadata": {
        "id": "D9NtoTG-75CE",
        "colab": {
          "base_uri": "https://localhost:8080/"
        },
        "outputId": "a9e9687a-5414-4cc6-fbdd-548c9b0ef210"
      },
      "outputs": [
        {
          "output_type": "stream",
          "name": "stdout",
          "text": [
            "===>  EVAL Epoch 10\n"
          ]
        },
        {
          "output_type": "stream",
          "name": "stderr",
          "text": [
            "/usr/local/lib/python3.7/dist-packages/torch/nn/modules/module.py:974: UserWarning: Using a non-full backward hook when the forward contains multiple autograd Nodes is deprecated and will be removed in future versions. This hook will be missing some grad_input. Please use register_full_backward_hook to get the documented behavior.\n",
            "  warnings.warn(\"Using a non-full backward hook when the forward contains multiple autograd Nodes \"\n",
            "/usr/local/lib/python3.7/dist-packages/torch/nn/modules/module.py:949: UserWarning: Using non-full backward hooks on a Module that does not take as input a single Tensor or a tuple of Tensors is deprecated and will be removed in future versions. This hook will be missing some of the grad_input. Please use register_full_backward_hook to get the documented behavior.\n",
            "  warnings.warn(\"Using non-full backward hooks on a Module that does not take as input a \"\n",
            "/usr/local/lib/python3.7/dist-packages/torch/nn/modules/module.py:939: UserWarning: Using non-full backward hooks on a Module that does not return a single Tensor or a tuple of Tensors is deprecated and will be removed in future versions. This hook will be missing some of the grad_output. Please use register_full_backward_hook to get the documented behavior.\n",
            "  warnings.warn(\"Using non-full backward hooks on a Module that does not return a \"\n"
          ]
        },
        {
          "output_type": "stream",
          "name": "stdout",
          "text": [
            "Finished Epoch 10 || Run Time:    0.1 | Load Time:    0.1 || F1:  48.65 | Prec:  39.13 | Rec:  64.29 || Ex/s: 435.38\n",
            "\n"
          ]
        },
        {
          "output_type": "execute_result",
          "data": {
            "text/plain": [
              "tensor(48.6487, device='cuda:0')"
            ]
          },
          "metadata": {},
          "execution_count": 42
        }
      ],
      "source": [
        "# Compute F1 on test set\n",
        "model.run_eval(test)"
      ]
    },
    {
      "cell_type": "markdown",
      "metadata": {
        "id": "MW-N7Bz875CF"
      },
      "source": [
        "##### DBLP-ACM"
      ]
    },
    {
      "cell_type": "code",
      "execution_count": 43,
      "metadata": {
        "id": "P8k054gm75CF"
      },
      "outputs": [],
      "source": [
        "train, validation, test = dm.data.process(\n",
        "    path='/content/IC/datasesErros/ADirty_90_3_5/Structured/DBLP-ACM/',\n",
        "    train='joined_train.csv',\n",
        "    validation='joined_valid.csv',\n",
        "    test='joined_test.csv')"
      ]
    },
    {
      "cell_type": "code",
      "execution_count": 44,
      "metadata": {
        "id": "jpHADlZW75CF"
      },
      "outputs": [],
      "source": [
        "model = dm.MatchingModel(attr_summarizer='attention')"
      ]
    },
    {
      "cell_type": "code",
      "execution_count": 45,
      "metadata": {
        "id": "T8os-EXZ75CG",
        "colab": {
          "base_uri": "https://localhost:8080/"
        },
        "outputId": "34f58804-7870-44a9-f740-5ab8bb960d66"
      },
      "outputs": [
        {
          "output_type": "stream",
          "name": "stdout",
          "text": [
            "* Number of trainable parameters: 4332002\n",
            "===>  TRAIN Epoch 1\n"
          ]
        },
        {
          "output_type": "stream",
          "name": "stderr",
          "text": [
            "/usr/local/lib/python3.7/dist-packages/torch/nn/modules/module.py:974: UserWarning: Using a non-full backward hook when the forward contains multiple autograd Nodes is deprecated and will be removed in future versions. This hook will be missing some grad_input. Please use register_full_backward_hook to get the documented behavior.\n",
            "  warnings.warn(\"Using a non-full backward hook when the forward contains multiple autograd Nodes \"\n",
            "/usr/local/lib/python3.7/dist-packages/torch/nn/modules/module.py:949: UserWarning: Using non-full backward hooks on a Module that does not take as input a single Tensor or a tuple of Tensors is deprecated and will be removed in future versions. This hook will be missing some of the grad_input. Please use register_full_backward_hook to get the documented behavior.\n",
            "  warnings.warn(\"Using non-full backward hooks on a Module that does not take as input a \"\n",
            "/usr/local/lib/python3.7/dist-packages/torch/nn/modules/module.py:939: UserWarning: Using non-full backward hooks on a Module that does not return a single Tensor or a tuple of Tensors is deprecated and will be removed in future versions. This hook will be missing some of the grad_output. Please use register_full_backward_hook to get the documented behavior.\n",
            "  warnings.warn(\"Using non-full backward hooks on a Module that does not return a \"\n",
            "/usr/local/lib/python3.7/dist-packages/torch/nn/functional.py:2742: UserWarning: reduction: 'mean' divides the total loss by both the batch size and the support size.'batchmean' divides only by the batch size, and aligns with the KL div math definition.'mean' will be changed to behave the same as 'batchmean' in the next major release.\n",
            "  \"reduction: 'mean' divides the total loss by both the batch size and the support size.\"\n",
            "0% [██████████████████████████████] 100% | ETA: 00:00:00\n",
            "Total time elapsed: 00:00:26\n"
          ]
        },
        {
          "output_type": "stream",
          "name": "stdout",
          "text": [
            "Finished Epoch 1 || Run Time:   15.9 | Load Time:   10.9 || F1:  77.46 | Prec:  68.41 | Rec:  89.26 || Ex/s: 276.21\n",
            "\n",
            "===>  EVAL Epoch 1\n"
          ]
        },
        {
          "output_type": "stream",
          "name": "stderr",
          "text": [
            "0% [███████████████] 100% | ETA: 00:00:00\n",
            "Total time elapsed: 00:00:06\n"
          ]
        },
        {
          "output_type": "stream",
          "name": "stdout",
          "text": [
            "Finished Epoch 1 || Run Time:    3.1 | Load Time:    3.5 || F1:  94.16 | Prec:  89.13 | Rec:  99.77 || Ex/s: 375.27\n",
            "\n",
            "* Best F1: tensor(94.1552, device='cuda:0')\n",
            "Saving best model...\n",
            "Done.\n",
            "---------------------\n",
            "\n",
            "===>  TRAIN Epoch 2\n"
          ]
        },
        {
          "output_type": "stream",
          "name": "stderr",
          "text": [
            "0% [██████████████████████████████] 100% | ETA: 00:00:00\n",
            "Total time elapsed: 00:00:26\n"
          ]
        },
        {
          "output_type": "stream",
          "name": "stdout",
          "text": [
            "Finished Epoch 2 || Run Time:   16.2 | Load Time:   10.9 || F1:  95.33 | Prec:  91.97 | Rec:  98.95 || Ex/s: 274.13\n",
            "\n",
            "===>  EVAL Epoch 2\n"
          ]
        },
        {
          "output_type": "stream",
          "name": "stderr",
          "text": [
            "0% [███████████████] 100% | ETA: 00:00:00\n",
            "Total time elapsed: 00:00:06\n"
          ]
        },
        {
          "output_type": "stream",
          "name": "stdout",
          "text": [
            "Finished Epoch 2 || Run Time:    3.1 | Load Time:    3.4 || F1:  89.77 | Prec:  81.58 | Rec:  99.77 || Ex/s: 381.40\n",
            "\n",
            "---------------------\n",
            "\n",
            "===>  TRAIN Epoch 3\n"
          ]
        },
        {
          "output_type": "stream",
          "name": "stderr",
          "text": [
            "0% [██████████████████████████████] 100% | ETA: 00:00:00\n",
            "Total time elapsed: 00:00:26\n"
          ]
        },
        {
          "output_type": "stream",
          "name": "stdout",
          "text": [
            "Finished Epoch 3 || Run Time:   15.9 | Load Time:   10.8 || F1:  96.76 | Prec:  94.05 | Rec:  99.62 || Ex/s: 277.48\n",
            "\n",
            "===>  EVAL Epoch 3\n"
          ]
        },
        {
          "output_type": "stream",
          "name": "stderr",
          "text": [
            "0% [███████████████] 100% | ETA: 00:00:00\n",
            "Total time elapsed: 00:00:06\n"
          ]
        },
        {
          "output_type": "stream",
          "name": "stdout",
          "text": [
            "Finished Epoch 3 || Run Time:    3.1 | Load Time:    3.5 || F1:  95.37 | Prec:  91.34 | Rec:  99.77 || Ex/s: 375.67\n",
            "\n",
            "* Best F1: tensor(95.3714, device='cuda:0')\n",
            "Saving best model...\n",
            "Done.\n",
            "---------------------\n",
            "\n",
            "===>  TRAIN Epoch 4\n"
          ]
        },
        {
          "output_type": "stream",
          "name": "stderr",
          "text": [
            "0% [██████████████████████████████] 100% | ETA: 00:00:00\n",
            "Total time elapsed: 00:00:26\n"
          ]
        },
        {
          "output_type": "stream",
          "name": "stdout",
          "text": [
            "Finished Epoch 4 || Run Time:   15.8 | Load Time:   10.8 || F1:  97.24 | Prec:  95.44 | Rec:  99.10 || Ex/s: 278.74\n",
            "\n",
            "===>  EVAL Epoch 4\n"
          ]
        },
        {
          "output_type": "stream",
          "name": "stderr",
          "text": [
            "0% [███████████████] 100% | ETA: 00:00:00\n",
            "Total time elapsed: 00:00:06\n"
          ]
        },
        {
          "output_type": "stream",
          "name": "stdout",
          "text": [
            "Finished Epoch 4 || Run Time:    3.1 | Load Time:    3.4 || F1:  94.36 | Prec:  89.49 | Rec:  99.77 || Ex/s: 379.14\n",
            "\n",
            "---------------------\n",
            "\n",
            "===>  TRAIN Epoch 5\n"
          ]
        },
        {
          "output_type": "stream",
          "name": "stderr",
          "text": [
            "0% [██████████████████████████████] 100% | ETA: 00:00:00\n",
            "Total time elapsed: 00:00:26\n"
          ]
        },
        {
          "output_type": "stream",
          "name": "stdout",
          "text": [
            "Finished Epoch 5 || Run Time:   15.9 | Load Time:   10.8 || F1:  97.71 | Prec:  96.22 | Rec:  99.25 || Ex/s: 277.77\n",
            "\n",
            "===>  EVAL Epoch 5\n"
          ]
        },
        {
          "output_type": "stream",
          "name": "stderr",
          "text": [
            "0% [███████████████] 100% | ETA: 00:00:00\n",
            "Total time elapsed: 00:00:06\n"
          ]
        },
        {
          "output_type": "stream",
          "name": "stdout",
          "text": [
            "Finished Epoch 5 || Run Time:    3.2 | Load Time:    3.5 || F1:  95.88 | Prec:  92.47 | Rec:  99.55 || Ex/s: 369.11\n",
            "\n",
            "* Best F1: tensor(95.8785, device='cuda:0')\n",
            "Saving best model...\n",
            "Done.\n",
            "---------------------\n",
            "\n",
            "===>  TRAIN Epoch 6\n"
          ]
        },
        {
          "output_type": "stream",
          "name": "stderr",
          "text": [
            "0% [██████████████████████████████] 100% | ETA: 00:00:00\n",
            "Total time elapsed: 00:00:27\n"
          ]
        },
        {
          "output_type": "stream",
          "name": "stdout",
          "text": [
            "Finished Epoch 6 || Run Time:   16.3 | Load Time:   11.0 || F1:  98.44 | Prec:  97.36 | Rec:  99.55 || Ex/s: 271.19\n",
            "\n",
            "===>  EVAL Epoch 6\n"
          ]
        },
        {
          "output_type": "stream",
          "name": "stderr",
          "text": [
            "0% [███████████████] 100% | ETA: 00:00:00\n",
            "Total time elapsed: 00:00:06\n"
          ]
        },
        {
          "output_type": "stream",
          "name": "stdout",
          "text": [
            "Finished Epoch 6 || Run Time:    3.1 | Load Time:    3.4 || F1:  96.60 | Prec:  94.22 | Rec:  99.10 || Ex/s: 377.02\n",
            "\n",
            "* Best F1: tensor(96.5972, device='cuda:0')\n",
            "Saving best model...\n",
            "Done.\n",
            "---------------------\n",
            "\n",
            "===>  TRAIN Epoch 7\n"
          ]
        },
        {
          "output_type": "stream",
          "name": "stderr",
          "text": [
            "0% [██████████████████████████████] 100% | ETA: 00:00:00\n",
            "Total time elapsed: 00:00:26\n"
          ]
        },
        {
          "output_type": "stream",
          "name": "stdout",
          "text": [
            "Finished Epoch 7 || Run Time:   15.8 | Load Time:   10.8 || F1:  99.21 | Prec:  98.81 | Rec:  99.62 || Ex/s: 278.69\n",
            "\n",
            "===>  EVAL Epoch 7\n"
          ]
        },
        {
          "output_type": "stream",
          "name": "stderr",
          "text": [
            "0% [███████████████] 100% | ETA: 00:00:00\n",
            "Total time elapsed: 00:00:06\n"
          ]
        },
        {
          "output_type": "stream",
          "name": "stdout",
          "text": [
            "Finished Epoch 7 || Run Time:    3.1 | Load Time:    3.5 || F1:  96.60 | Prec:  94.03 | Rec:  99.32 || Ex/s: 377.34\n",
            "\n",
            "* Best F1: tensor(96.6046, device='cuda:0')\n",
            "Saving best model...\n",
            "Done.\n",
            "---------------------\n",
            "\n",
            "===>  TRAIN Epoch 8\n"
          ]
        },
        {
          "output_type": "stream",
          "name": "stderr",
          "text": [
            "0% [██████████████████████████████] 100% | ETA: 00:00:00\n",
            "Total time elapsed: 00:00:26\n"
          ]
        },
        {
          "output_type": "stream",
          "name": "stdout",
          "text": [
            "Finished Epoch 8 || Run Time:   15.8 | Load Time:   10.8 || F1:  99.40 | Prec:  99.03 | Rec:  99.77 || Ex/s: 279.18\n",
            "\n",
            "===>  EVAL Epoch 8\n"
          ]
        },
        {
          "output_type": "stream",
          "name": "stderr",
          "text": [
            "0% [███████████████] 100% | ETA: 00:00:00\n",
            "Total time elapsed: 00:00:06\n"
          ]
        },
        {
          "output_type": "stream",
          "name": "stdout",
          "text": [
            "Finished Epoch 8 || Run Time:    3.1 | Load Time:    3.5 || F1:  97.12 | Prec:  95.43 | Rec:  98.87 || Ex/s: 377.26\n",
            "\n",
            "* Best F1: tensor(97.1239, device='cuda:0')\n",
            "Saving best model...\n",
            "Done.\n",
            "---------------------\n",
            "\n",
            "===>  TRAIN Epoch 9\n"
          ]
        },
        {
          "output_type": "stream",
          "name": "stderr",
          "text": [
            "0% [██████████████████████████████] 100% | ETA: 00:00:00\n",
            "Total time elapsed: 00:00:26\n"
          ]
        },
        {
          "output_type": "stream",
          "name": "stdout",
          "text": [
            "Finished Epoch 9 || Run Time:   16.0 | Load Time:   10.9 || F1:  99.51 | Prec:  99.18 | Rec:  99.85 || Ex/s: 275.37\n",
            "\n",
            "===>  EVAL Epoch 9\n"
          ]
        },
        {
          "output_type": "stream",
          "name": "stderr",
          "text": [
            "0% [███████████████] 100% | ETA: 00:00:00\n",
            "Total time elapsed: 00:00:06\n"
          ]
        },
        {
          "output_type": "stream",
          "name": "stdout",
          "text": [
            "Finished Epoch 9 || Run Time:    3.1 | Load Time:    3.4 || F1:  96.79 | Prec:  95.21 | Rec:  98.42 || Ex/s: 380.07\n",
            "\n",
            "---------------------\n",
            "\n",
            "===>  TRAIN Epoch 10\n"
          ]
        },
        {
          "output_type": "stream",
          "name": "stderr",
          "text": [
            "0% [██████████████████████████████] 100% | ETA: 00:00:00\n",
            "Total time elapsed: 00:00:26\n"
          ]
        },
        {
          "output_type": "stream",
          "name": "stdout",
          "text": [
            "Finished Epoch 10 || Run Time:   16.0 | Load Time:   10.8 || F1:  99.55 | Prec:  99.25 | Rec:  99.85 || Ex/s: 276.37\n",
            "\n",
            "===>  EVAL Epoch 10\n"
          ]
        },
        {
          "output_type": "stream",
          "name": "stderr",
          "text": [
            "0% [███████████████] 100% | ETA: 00:00:00\n",
            "Total time elapsed: 00:00:06\n"
          ]
        },
        {
          "output_type": "stream",
          "name": "stdout",
          "text": [
            "Finished Epoch 10 || Run Time:    3.2 | Load Time:    3.5 || F1:  95.98 | Prec:  95.13 | Rec:  96.85 || Ex/s: 368.56\n",
            "\n",
            "---------------------\n",
            "\n",
            "===>  TRAIN Epoch 11\n"
          ]
        },
        {
          "output_type": "stream",
          "name": "stderr",
          "text": [
            "0% [██████████████████████████████] 100% | ETA: 00:00:00\n",
            "Total time elapsed: 00:00:26\n"
          ]
        },
        {
          "output_type": "stream",
          "name": "stdout",
          "text": [
            "Finished Epoch 11 || Run Time:   16.1 | Load Time:   11.0 || F1:  99.55 | Prec:  99.25 | Rec:  99.85 || Ex/s: 273.53\n",
            "\n",
            "===>  EVAL Epoch 11\n"
          ]
        },
        {
          "output_type": "stream",
          "name": "stderr",
          "text": [
            "0% [███████████████] 100% | ETA: 00:00:00\n",
            "Total time elapsed: 00:00:06\n"
          ]
        },
        {
          "output_type": "stream",
          "name": "stdout",
          "text": [
            "Finished Epoch 11 || Run Time:    3.2 | Load Time:    3.4 || F1:  96.41 | Prec:  95.98 | Rec:  96.85 || Ex/s: 375.39\n",
            "\n",
            "---------------------\n",
            "\n",
            "===>  TRAIN Epoch 12\n"
          ]
        },
        {
          "output_type": "stream",
          "name": "stderr",
          "text": [
            "0% [██████████████████████████████] 100% | ETA: 00:00:00\n",
            "Total time elapsed: 00:00:26\n"
          ]
        },
        {
          "output_type": "stream",
          "name": "stdout",
          "text": [
            "Finished Epoch 12 || Run Time:   15.9 | Load Time:   10.8 || F1:  99.48 | Prec:  99.11 | Rec:  99.85 || Ex/s: 277.75\n",
            "\n",
            "===>  EVAL Epoch 12\n"
          ]
        },
        {
          "output_type": "stream",
          "name": "stderr",
          "text": [
            "0% [███████████████] 100% | ETA: 00:00:00\n",
            "Total time elapsed: 00:00:06\n"
          ]
        },
        {
          "output_type": "stream",
          "name": "stdout",
          "text": [
            "Finished Epoch 12 || Run Time:    3.1 | Load Time:    3.4 || F1:  96.73 | Prec:  96.84 | Rec:  96.62 || Ex/s: 378.87\n",
            "\n",
            "---------------------\n",
            "\n",
            "===>  TRAIN Epoch 13\n"
          ]
        },
        {
          "output_type": "stream",
          "name": "stderr",
          "text": [
            "0% [██████████████████████████████] 100% | ETA: 00:00:00\n",
            "Total time elapsed: 00:00:26\n"
          ]
        },
        {
          "output_type": "stream",
          "name": "stdout",
          "text": [
            "Finished Epoch 13 || Run Time:   16.1 | Load Time:   10.9 || F1:  99.59 | Prec:  99.25 | Rec:  99.92 || Ex/s: 275.50\n",
            "\n",
            "===>  EVAL Epoch 13\n"
          ]
        },
        {
          "output_type": "stream",
          "name": "stderr",
          "text": [
            "0% [███████████████] 100% | ETA: 00:00:00\n",
            "Total time elapsed: 00:00:06\n"
          ]
        },
        {
          "output_type": "stream",
          "name": "stdout",
          "text": [
            "Finished Epoch 13 || Run Time:    3.2 | Load Time:    3.5 || F1:  96.21 | Prec:  95.15 | Rec:  97.30 || Ex/s: 367.90\n",
            "\n",
            "---------------------\n",
            "\n",
            "===>  TRAIN Epoch 14\n"
          ]
        },
        {
          "output_type": "stream",
          "name": "stderr",
          "text": [
            "0% [██████████████████████████████] 100% | ETA: 00:00:00\n",
            "Total time elapsed: 00:00:26\n"
          ]
        },
        {
          "output_type": "stream",
          "name": "stdout",
          "text": [
            "Finished Epoch 14 || Run Time:   15.9 | Load Time:   10.8 || F1:  99.63 | Prec:  99.33 | Rec:  99.92 || Ex/s: 277.07\n",
            "\n",
            "===>  EVAL Epoch 14\n"
          ]
        },
        {
          "output_type": "stream",
          "name": "stderr",
          "text": [
            "0% [███████████████] 100% | ETA: 00:00:00\n",
            "Total time elapsed: 00:00:06\n"
          ]
        },
        {
          "output_type": "stream",
          "name": "stdout",
          "text": [
            "Finished Epoch 14 || Run Time:    3.2 | Load Time:    3.4 || F1:  96.44 | Prec:  95.18 | Rec:  97.75 || Ex/s: 374.16\n",
            "\n",
            "---------------------\n",
            "\n",
            "===>  TRAIN Epoch 15\n"
          ]
        },
        {
          "output_type": "stream",
          "name": "stderr",
          "text": [
            "0% [██████████████████████████████] 100% | ETA: 00:00:00\n",
            "Total time elapsed: 00:00:26\n"
          ]
        },
        {
          "output_type": "stream",
          "name": "stdout",
          "text": [
            "Finished Epoch 15 || Run Time:   15.7 | Load Time:   10.8 || F1:  99.63 | Prec:  99.33 | Rec:  99.92 || Ex/s: 279.29\n",
            "\n",
            "===>  EVAL Epoch 15\n"
          ]
        },
        {
          "output_type": "stream",
          "name": "stderr",
          "text": [
            "0% [███████████████] 100% | ETA: 00:00:00\n",
            "Total time elapsed: 00:00:06\n"
          ]
        },
        {
          "output_type": "stream",
          "name": "stdout",
          "text": [
            "Finished Epoch 15 || Run Time:    3.1 | Load Time:    3.4 || F1:  96.34 | Prec:  94.97 | Rec:  97.75 || Ex/s: 379.42\n",
            "\n",
            "---------------------\n",
            "\n",
            "Loading best model...\n",
            "Training done.\n"
          ]
        },
        {
          "output_type": "execute_result",
          "data": {
            "text/plain": [
              "tensor(97.1239, device='cuda:0')"
            ]
          },
          "metadata": {},
          "execution_count": 45
        }
      ],
      "source": [
        "model.run_train(\n",
        "    train,\n",
        "    validation,\n",
        "    epochs=15,\n",
        "    batch_size=32,\n",
        "    best_save_path='attention_model.pth',\n",
        "    pos_neg_ratio=3)"
      ]
    },
    {
      "cell_type": "code",
      "execution_count": 46,
      "metadata": {
        "id": "3B2XhW6B75CG",
        "colab": {
          "base_uri": "https://localhost:8080/"
        },
        "outputId": "e01c1cab-639a-41ff-ca4f-149d01f8fb7d"
      },
      "outputs": [
        {
          "output_type": "stream",
          "name": "stdout",
          "text": [
            "===>  EVAL Epoch 8\n"
          ]
        },
        {
          "output_type": "stream",
          "name": "stderr",
          "text": [
            "/usr/local/lib/python3.7/dist-packages/torch/nn/modules/module.py:974: UserWarning: Using a non-full backward hook when the forward contains multiple autograd Nodes is deprecated and will be removed in future versions. This hook will be missing some grad_input. Please use register_full_backward_hook to get the documented behavior.\n",
            "  warnings.warn(\"Using a non-full backward hook when the forward contains multiple autograd Nodes \"\n",
            "/usr/local/lib/python3.7/dist-packages/torch/nn/modules/module.py:949: UserWarning: Using non-full backward hooks on a Module that does not take as input a single Tensor or a tuple of Tensors is deprecated and will be removed in future versions. This hook will be missing some of the grad_input. Please use register_full_backward_hook to get the documented behavior.\n",
            "  warnings.warn(\"Using non-full backward hooks on a Module that does not take as input a \"\n",
            "/usr/local/lib/python3.7/dist-packages/torch/nn/modules/module.py:939: UserWarning: Using non-full backward hooks on a Module that does not return a single Tensor or a tuple of Tensors is deprecated and will be removed in future versions. This hook will be missing some of the grad_output. Please use register_full_backward_hook to get the documented behavior.\n",
            "  warnings.warn(\"Using non-full backward hooks on a Module that does not return a \"\n",
            "0% [███████████████] 100% | ETA: 00:00:00\n",
            "Total time elapsed: 00:00:06\n"
          ]
        },
        {
          "output_type": "stream",
          "name": "stdout",
          "text": [
            "Finished Epoch 8 || Run Time:    3.1 | Load Time:    3.4 || F1:  96.44 | Prec:  95.18 | Rec:  97.75 || Ex/s: 377.66\n",
            "\n"
          ]
        },
        {
          "output_type": "execute_result",
          "data": {
            "text/plain": [
              "tensor(96.4444, device='cuda:0')"
            ]
          },
          "metadata": {},
          "execution_count": 46
        }
      ],
      "source": [
        "# Compute F1 on test set\n",
        "model.run_eval(test)"
      ]
    },
    {
      "cell_type": "markdown",
      "metadata": {
        "id": "tkJLs_1s75CH"
      },
      "source": [
        "##### DBLP-GoogleScholar"
      ]
    },
    {
      "cell_type": "code",
      "execution_count": 47,
      "metadata": {
        "id": "uEwXVgX275CH"
      },
      "outputs": [],
      "source": [
        "train, validation, test = dm.data.process(\n",
        "    path='/content/IC/datasesErros/ADirty_90_3_5/Structured/DBLP-GoogleScholar/',\n",
        "    train='joined_train.csv',\n",
        "    validation='joined_valid.csv',\n",
        "    test='joined_test.csv')"
      ]
    },
    {
      "cell_type": "code",
      "execution_count": 48,
      "metadata": {
        "id": "yYE_vLX575CH"
      },
      "outputs": [],
      "source": [
        "model = dm.MatchingModel(attr_summarizer='attention')"
      ]
    },
    {
      "cell_type": "code",
      "execution_count": 49,
      "metadata": {
        "id": "P-eJnIJW75CI",
        "colab": {
          "base_uri": "https://localhost:8080/"
        },
        "outputId": "65f946ca-019a-49f5-80a7-2423fcda0a92"
      },
      "outputs": [
        {
          "output_type": "stream",
          "name": "stdout",
          "text": [
            "* Number of trainable parameters: 4332002\n",
            "===>  TRAIN Epoch 1\n"
          ]
        },
        {
          "output_type": "stream",
          "name": "stderr",
          "text": [
            "/usr/local/lib/python3.7/dist-packages/torch/nn/modules/module.py:974: UserWarning: Using a non-full backward hook when the forward contains multiple autograd Nodes is deprecated and will be removed in future versions. This hook will be missing some grad_input. Please use register_full_backward_hook to get the documented behavior.\n",
            "  warnings.warn(\"Using a non-full backward hook when the forward contains multiple autograd Nodes \"\n",
            "/usr/local/lib/python3.7/dist-packages/torch/nn/modules/module.py:949: UserWarning: Using non-full backward hooks on a Module that does not take as input a single Tensor or a tuple of Tensors is deprecated and will be removed in future versions. This hook will be missing some of the grad_input. Please use register_full_backward_hook to get the documented behavior.\n",
            "  warnings.warn(\"Using non-full backward hooks on a Module that does not take as input a \"\n",
            "/usr/local/lib/python3.7/dist-packages/torch/nn/modules/module.py:939: UserWarning: Using non-full backward hooks on a Module that does not return a single Tensor or a tuple of Tensors is deprecated and will be removed in future versions. This hook will be missing some of the grad_output. Please use register_full_backward_hook to get the documented behavior.\n",
            "  warnings.warn(\"Using non-full backward hooks on a Module that does not return a \"\n",
            "/usr/local/lib/python3.7/dist-packages/torch/nn/functional.py:2742: UserWarning: reduction: 'mean' divides the total loss by both the batch size and the support size.'batchmean' divides only by the batch size, and aligns with the KL div math definition.'mean' will be changed to behave the same as 'batchmean' in the next major release.\n",
            "  \"reduction: 'mean' divides the total loss by both the batch size and the support size.\"\n",
            "0% [██████████████████████████████] 100% | ETA: 00:00:00\n",
            "Total time elapsed: 00:00:58\n"
          ]
        },
        {
          "output_type": "stream",
          "name": "stdout",
          "text": [
            "Finished Epoch 1 || Run Time:   36.3 | Load Time:   22.5 || F1:  75.90 | Prec:  68.10 | Rec:  85.72 || Ex/s: 292.74\n",
            "\n",
            "===>  EVAL Epoch 1\n"
          ]
        },
        {
          "output_type": "stream",
          "name": "stderr",
          "text": [
            "0% [██████████████████████████████] 100% | ETA: 00:00:00\n",
            "Total time elapsed: 00:00:14\n"
          ]
        },
        {
          "output_type": "stream",
          "name": "stdout",
          "text": [
            "Finished Epoch 1 || Run Time:    7.1 | Load Time:    7.0 || F1:  85.89 | Prec:  81.08 | Rec:  91.31 || Ex/s: 408.23\n",
            "\n",
            "* Best F1: tensor(85.8901, device='cuda:0')\n",
            "Saving best model...\n",
            "Done.\n",
            "---------------------\n",
            "\n",
            "===>  TRAIN Epoch 2\n"
          ]
        },
        {
          "output_type": "stream",
          "name": "stderr",
          "text": [
            "0% [██████████████████████████████] 100% | ETA: 00:00:00\n",
            "Total time elapsed: 00:00:57\n"
          ]
        },
        {
          "output_type": "stream",
          "name": "stdout",
          "text": [
            "Finished Epoch 2 || Run Time:   35.8 | Load Time:   22.3 || F1:  87.09 | Prec:  81.11 | Rec:  94.01 || Ex/s: 296.55\n",
            "\n",
            "===>  EVAL Epoch 2\n"
          ]
        },
        {
          "output_type": "stream",
          "name": "stderr",
          "text": [
            "0% [██████████████████████████████] 100% | ETA: 00:00:00\n",
            "Total time elapsed: 00:00:14\n"
          ]
        },
        {
          "output_type": "stream",
          "name": "stdout",
          "text": [
            "Finished Epoch 2 || Run Time:    7.4 | Load Time:    7.1 || F1:  86.83 | Prec:  84.45 | Rec:  89.35 || Ex/s: 395.54\n",
            "\n",
            "* Best F1: tensor(86.8301, device='cuda:0')\n",
            "Saving best model...\n",
            "Done.\n",
            "---------------------\n",
            "\n",
            "===>  TRAIN Epoch 3\n"
          ]
        },
        {
          "output_type": "stream",
          "name": "stderr",
          "text": [
            "0% [██████████████████████████████] 100% | ETA: 00:00:00\n",
            "Total time elapsed: 00:00:57\n"
          ]
        },
        {
          "output_type": "stream",
          "name": "stdout",
          "text": [
            "Finished Epoch 3 || Run Time:   35.9 | Load Time:   22.3 || F1:  89.54 | Prec:  84.05 | Rec:  95.79 || Ex/s: 295.68\n",
            "\n",
            "===>  EVAL Epoch 3\n"
          ]
        },
        {
          "output_type": "stream",
          "name": "stderr",
          "text": [
            "0% [██████████████████████████████] 100% | ETA: 00:00:00\n",
            "Total time elapsed: 00:00:13\n"
          ]
        },
        {
          "output_type": "stream",
          "name": "stdout",
          "text": [
            "Finished Epoch 3 || Run Time:    7.0 | Load Time:    6.9 || F1:  88.16 | Prec:  84.43 | Rec:  92.24 || Ex/s: 412.29\n",
            "\n",
            "* Best F1: tensor(88.1644, device='cuda:0')\n",
            "Saving best model...\n",
            "Done.\n",
            "---------------------\n",
            "\n",
            "===>  TRAIN Epoch 4\n"
          ]
        },
        {
          "output_type": "stream",
          "name": "stderr",
          "text": [
            "0% [██████████████████████████████] 100% | ETA: 00:00:00\n",
            "Total time elapsed: 00:00:57\n"
          ]
        },
        {
          "output_type": "stream",
          "name": "stdout",
          "text": [
            "Finished Epoch 4 || Run Time:   35.8 | Load Time:   22.4 || F1:  91.66 | Prec:  87.30 | Rec:  96.48 || Ex/s: 295.60\n",
            "\n",
            "===>  EVAL Epoch 4\n"
          ]
        },
        {
          "output_type": "stream",
          "name": "stderr",
          "text": [
            "0% [██████████████████████████████] 100% | ETA: 00:00:00\n",
            "Total time elapsed: 00:00:13\n"
          ]
        },
        {
          "output_type": "stream",
          "name": "stdout",
          "text": [
            "Finished Epoch 4 || Run Time:    7.0 | Load Time:    6.9 || F1:  87.19 | Prec:  80.27 | Rec:  95.42 || Ex/s: 413.26\n",
            "\n",
            "---------------------\n",
            "\n",
            "===>  TRAIN Epoch 5\n"
          ]
        },
        {
          "output_type": "stream",
          "name": "stderr",
          "text": [
            "0% [██████████████████████████████] 100% | ETA: 00:00:00\n",
            "Total time elapsed: 00:00:57\n"
          ]
        },
        {
          "output_type": "stream",
          "name": "stdout",
          "text": [
            "Finished Epoch 5 || Run Time:   35.6 | Load Time:   22.4 || F1:  93.65 | Prec:  90.09 | Rec:  97.51 || Ex/s: 297.05\n",
            "\n",
            "===>  EVAL Epoch 5\n"
          ]
        },
        {
          "output_type": "stream",
          "name": "stderr",
          "text": [
            "0% [██████████████████████████████] 100% | ETA: 00:00:00\n",
            "Total time elapsed: 00:00:13\n"
          ]
        },
        {
          "output_type": "stream",
          "name": "stdout",
          "text": [
            "Finished Epoch 5 || Run Time:    6.9 | Load Time:    6.9 || F1:  85.77 | Prec:  77.65 | Rec:  95.79 || Ex/s: 416.03\n",
            "\n",
            "---------------------\n",
            "\n",
            "===>  TRAIN Epoch 6\n"
          ]
        },
        {
          "output_type": "stream",
          "name": "stderr",
          "text": [
            "0% [██████████████████████████████] 100% | ETA: 00:00:00\n",
            "Total time elapsed: 00:00:58\n"
          ]
        },
        {
          "output_type": "stream",
          "name": "stdout",
          "text": [
            "Finished Epoch 6 || Run Time:   36.1 | Load Time:   22.5 || F1:  95.08 | Prec:  92.33 | Rec:  98.00 || Ex/s: 293.98\n",
            "\n",
            "===>  EVAL Epoch 6\n"
          ]
        },
        {
          "output_type": "stream",
          "name": "stderr",
          "text": [
            "0% [██████████████████████████████] 100% | ETA: 00:00:00\n",
            "Total time elapsed: 00:00:13\n"
          ]
        },
        {
          "output_type": "stream",
          "name": "stdout",
          "text": [
            "Finished Epoch 6 || Run Time:    7.0 | Load Time:    6.9 || F1:  88.43 | Prec:  85.32 | Rec:  91.78 || Ex/s: 413.11\n",
            "\n",
            "* Best F1: tensor(88.4286, device='cuda:0')\n",
            "Saving best model...\n",
            "Done.\n",
            "---------------------\n",
            "\n",
            "===>  TRAIN Epoch 7\n"
          ]
        },
        {
          "output_type": "stream",
          "name": "stderr",
          "text": [
            "0% [██████████████████████████████] 100% | ETA: 00:00:00\n",
            "Total time elapsed: 00:00:57\n"
          ]
        },
        {
          "output_type": "stream",
          "name": "stdout",
          "text": [
            "Finished Epoch 7 || Run Time:   35.5 | Load Time:   22.3 || F1:  96.10 | Prec:  93.95 | Rec:  98.35 || Ex/s: 297.61\n",
            "\n",
            "===>  EVAL Epoch 7\n"
          ]
        },
        {
          "output_type": "stream",
          "name": "stderr",
          "text": [
            "0% [██████████████████████████████] 100% | ETA: 00:00:00\n",
            "Total time elapsed: 00:00:13\n"
          ]
        },
        {
          "output_type": "stream",
          "name": "stdout",
          "text": [
            "Finished Epoch 7 || Run Time:    6.9 | Load Time:    6.9 || F1:  87.97 | Prec:  82.16 | Rec:  94.67 || Ex/s: 415.90\n",
            "\n",
            "---------------------\n",
            "\n",
            "===>  TRAIN Epoch 8\n"
          ]
        },
        {
          "output_type": "stream",
          "name": "stderr",
          "text": [
            "0% [██████████████████████████████] 100% | ETA: 00:00:00\n",
            "Total time elapsed: 00:00:57\n"
          ]
        },
        {
          "output_type": "stream",
          "name": "stdout",
          "text": [
            "Finished Epoch 8 || Run Time:   36.1 | Load Time:   22.3 || F1:  97.12 | Prec:  95.56 | Rec:  98.72 || Ex/s: 294.89\n",
            "\n",
            "===>  EVAL Epoch 8\n"
          ]
        },
        {
          "output_type": "stream",
          "name": "stderr",
          "text": [
            "0% [██████████████████████████████] 100% | ETA: 00:00:00\n",
            "Total time elapsed: 00:00:14\n"
          ]
        },
        {
          "output_type": "stream",
          "name": "stdout",
          "text": [
            "Finished Epoch 8 || Run Time:    7.1 | Load Time:    7.0 || F1:  88.21 | Prec:  84.75 | Rec:  91.96 || Ex/s: 406.35\n",
            "\n",
            "---------------------\n",
            "\n",
            "===>  TRAIN Epoch 9\n"
          ]
        },
        {
          "output_type": "stream",
          "name": "stderr",
          "text": [
            "0% [██████████████████████████████] 100% | ETA: 00:00:00\n",
            "Total time elapsed: 00:00:56\n"
          ]
        },
        {
          "output_type": "stream",
          "name": "stdout",
          "text": [
            "Finished Epoch 9 || Run Time:   35.1 | Load Time:   22.2 || F1:  97.68 | Prec:  96.44 | Rec:  98.94 || Ex/s: 300.65\n",
            "\n",
            "===>  EVAL Epoch 9\n"
          ]
        },
        {
          "output_type": "stream",
          "name": "stderr",
          "text": [
            "0% [██████████████████████████████] 100% | ETA: 00:00:00\n",
            "Total time elapsed: 00:00:13\n"
          ]
        },
        {
          "output_type": "stream",
          "name": "stdout",
          "text": [
            "Finished Epoch 9 || Run Time:    6.9 | Load Time:    6.9 || F1:  88.43 | Prec:  87.26 | Rec:  89.63 || Ex/s: 415.26\n",
            "\n",
            "---------------------\n",
            "\n",
            "===>  TRAIN Epoch 10\n"
          ]
        },
        {
          "output_type": "stream",
          "name": "stderr",
          "text": [
            "0% [██████████████████████████████] 100% | ETA: 00:00:00\n",
            "Total time elapsed: 00:00:58\n"
          ]
        },
        {
          "output_type": "stream",
          "name": "stdout",
          "text": [
            "Finished Epoch 10 || Run Time:   36.2 | Load Time:   22.5 || F1:  98.16 | Prec:  97.36 | Rec:  98.97 || Ex/s: 293.23\n",
            "\n",
            "===>  EVAL Epoch 10\n"
          ]
        },
        {
          "output_type": "stream",
          "name": "stderr",
          "text": [
            "0% [██████████████████████████████] 100% | ETA: 00:00:00\n",
            "Total time elapsed: 00:00:13\n"
          ]
        },
        {
          "output_type": "stream",
          "name": "stdout",
          "text": [
            "Finished Epoch 10 || Run Time:    7.0 | Load Time:    6.9 || F1:  88.20 | Prec:  88.74 | Rec:  87.66 || Ex/s: 412.76\n",
            "\n",
            "---------------------\n",
            "\n",
            "===>  TRAIN Epoch 11\n"
          ]
        },
        {
          "output_type": "stream",
          "name": "stderr",
          "text": [
            "0% [██████████████████████████████] 100% | ETA: 00:00:00\n",
            "Total time elapsed: 00:00:57\n"
          ]
        },
        {
          "output_type": "stream",
          "name": "stdout",
          "text": [
            "Finished Epoch 11 || Run Time:   36.0 | Load Time:   22.5 || F1:  98.39 | Prec:  97.69 | Rec:  99.10 || Ex/s: 294.53\n",
            "\n",
            "===>  EVAL Epoch 11\n"
          ]
        },
        {
          "output_type": "stream",
          "name": "stderr",
          "text": [
            "0% [██████████████████████████████] 100% | ETA: 00:00:00\n",
            "Total time elapsed: 00:00:13\n"
          ]
        },
        {
          "output_type": "stream",
          "name": "stdout",
          "text": [
            "Finished Epoch 11 || Run Time:    7.0 | Load Time:    6.9 || F1:  87.82 | Prec:  89.83 | Rec:  85.89 || Ex/s: 413.08\n",
            "\n",
            "---------------------\n",
            "\n",
            "===>  TRAIN Epoch 12\n"
          ]
        },
        {
          "output_type": "stream",
          "name": "stderr",
          "text": [
            "0% [██████████████████████████████] 100% | ETA: 00:00:00\n",
            "Total time elapsed: 00:00:57\n"
          ]
        },
        {
          "output_type": "stream",
          "name": "stdout",
          "text": [
            "Finished Epoch 12 || Run Time:   35.7 | Load Time:   22.5 || F1:  98.59 | Prec:  98.00 | Rec:  99.19 || Ex/s: 296.03\n",
            "\n",
            "===>  EVAL Epoch 12\n"
          ]
        },
        {
          "output_type": "stream",
          "name": "stderr",
          "text": [
            "0% [██████████████████████████████] 100% | ETA: 00:00:00\n",
            "Total time elapsed: 00:00:13\n"
          ]
        },
        {
          "output_type": "stream",
          "name": "stdout",
          "text": [
            "Finished Epoch 12 || Run Time:    7.1 | Load Time:    6.9 || F1:  87.55 | Prec:  89.78 | Rec:  85.42 || Ex/s: 410.68\n",
            "\n",
            "---------------------\n",
            "\n",
            "===>  TRAIN Epoch 13\n"
          ]
        },
        {
          "output_type": "stream",
          "name": "stderr",
          "text": [
            "0% [██████████████████████████████] 100% | ETA: 00:00:00\n",
            "Total time elapsed: 00:00:58\n"
          ]
        },
        {
          "output_type": "stream",
          "name": "stdout",
          "text": [
            "Finished Epoch 13 || Run Time:   36.6 | Load Time:   22.6 || F1:  98.82 | Prec:  98.30 | Rec:  99.35 || Ex/s: 290.92\n",
            "\n",
            "===>  EVAL Epoch 13\n"
          ]
        },
        {
          "output_type": "stream",
          "name": "stderr",
          "text": [
            "0% [██████████████████████████████] 100% | ETA: 00:00:00\n",
            "Total time elapsed: 00:00:14\n"
          ]
        },
        {
          "output_type": "stream",
          "name": "stdout",
          "text": [
            "Finished Epoch 13 || Run Time:    7.2 | Load Time:    7.0 || F1:  87.49 | Prec:  89.45 | Rec:  85.61 || Ex/s: 405.72\n",
            "\n",
            "---------------------\n",
            "\n",
            "===>  TRAIN Epoch 14\n"
          ]
        },
        {
          "output_type": "stream",
          "name": "stderr",
          "text": [
            "0% [██████████████████████████████] 100% | ETA: 00:00:00\n",
            "Total time elapsed: 00:00:58\n"
          ]
        },
        {
          "output_type": "stream",
          "name": "stdout",
          "text": [
            "Finished Epoch 14 || Run Time:   36.1 | Load Time:   22.5 || F1:  98.93 | Prec:  98.52 | Rec:  99.35 || Ex/s: 294.01\n",
            "\n",
            "===>  EVAL Epoch 14\n"
          ]
        },
        {
          "output_type": "stream",
          "name": "stderr",
          "text": [
            "0% [██████████████████████████████] 100% | ETA: 00:00:00\n",
            "Total time elapsed: 00:00:14\n"
          ]
        },
        {
          "output_type": "stream",
          "name": "stdout",
          "text": [
            "Finished Epoch 14 || Run Time:    7.2 | Load Time:    7.1 || F1:  87.66 | Prec:  89.41 | Rec:  85.98 || Ex/s: 400.47\n",
            "\n",
            "---------------------\n",
            "\n",
            "===>  TRAIN Epoch 15\n"
          ]
        },
        {
          "output_type": "stream",
          "name": "stderr",
          "text": [
            "0% [██████████████████████████████] 100% | ETA: 00:00:00\n",
            "Total time elapsed: 00:00:58\n"
          ]
        },
        {
          "output_type": "stream",
          "name": "stdout",
          "text": [
            "Finished Epoch 15 || Run Time:   36.3 | Load Time:   22.5 || F1:  99.07 | Prec:  98.73 | Rec:  99.41 || Ex/s: 292.93\n",
            "\n",
            "===>  EVAL Epoch 15\n"
          ]
        },
        {
          "output_type": "stream",
          "name": "stderr",
          "text": [
            "0% [██████████████████████████████] 100% | ETA: 00:00:00\n",
            "Total time elapsed: 00:00:14\n"
          ]
        },
        {
          "output_type": "stream",
          "name": "stdout",
          "text": [
            "Finished Epoch 15 || Run Time:    7.1 | Load Time:    6.9 || F1:  87.49 | Prec:  88.75 | Rec:  86.26 || Ex/s: 409.12\n",
            "\n",
            "---------------------\n",
            "\n",
            "Loading best model...\n",
            "Training done.\n"
          ]
        },
        {
          "output_type": "execute_result",
          "data": {
            "text/plain": [
              "tensor(88.4286, device='cuda:0')"
            ]
          },
          "metadata": {},
          "execution_count": 49
        }
      ],
      "source": [
        "model.run_train(\n",
        "    train,\n",
        "    validation,\n",
        "    epochs=15,\n",
        "    batch_size=32,\n",
        "    best_save_path='attention_model.pth',\n",
        "    pos_neg_ratio=3)"
      ]
    },
    {
      "cell_type": "code",
      "execution_count": 50,
      "metadata": {
        "id": "n03XqdT275CI",
        "colab": {
          "base_uri": "https://localhost:8080/"
        },
        "outputId": "3b7202cf-1de2-4056-9de9-9440c0c891ca"
      },
      "outputs": [
        {
          "output_type": "stream",
          "name": "stdout",
          "text": [
            "===>  EVAL Epoch 6\n"
          ]
        },
        {
          "output_type": "stream",
          "name": "stderr",
          "text": [
            "/usr/local/lib/python3.7/dist-packages/torch/nn/modules/module.py:974: UserWarning: Using a non-full backward hook when the forward contains multiple autograd Nodes is deprecated and will be removed in future versions. This hook will be missing some grad_input. Please use register_full_backward_hook to get the documented behavior.\n",
            "  warnings.warn(\"Using a non-full backward hook when the forward contains multiple autograd Nodes \"\n",
            "/usr/local/lib/python3.7/dist-packages/torch/nn/modules/module.py:949: UserWarning: Using non-full backward hooks on a Module that does not take as input a single Tensor or a tuple of Tensors is deprecated and will be removed in future versions. This hook will be missing some of the grad_input. Please use register_full_backward_hook to get the documented behavior.\n",
            "  warnings.warn(\"Using non-full backward hooks on a Module that does not take as input a \"\n",
            "/usr/local/lib/python3.7/dist-packages/torch/nn/modules/module.py:939: UserWarning: Using non-full backward hooks on a Module that does not return a single Tensor or a tuple of Tensors is deprecated and will be removed in future versions. This hook will be missing some of the grad_output. Please use register_full_backward_hook to get the documented behavior.\n",
            "  warnings.warn(\"Using non-full backward hooks on a Module that does not return a \"\n",
            "0% [██████████████████████████████] 100% | ETA: 00:00:00\n",
            "Total time elapsed: 00:00:14\n"
          ]
        },
        {
          "output_type": "stream",
          "name": "stdout",
          "text": [
            "Finished Epoch 6 || Run Time:    7.3 | Load Time:    7.2 || F1:  88.30 | Prec:  84.84 | Rec:  92.06 || Ex/s: 395.89\n",
            "\n"
          ]
        },
        {
          "output_type": "execute_result",
          "data": {
            "text/plain": [
              "tensor(88.3012, device='cuda:0')"
            ]
          },
          "metadata": {},
          "execution_count": 50
        }
      ],
      "source": [
        "# Compute F1 on test set\n",
        "model.run_eval(test)"
      ]
    },
    {
      "cell_type": "markdown",
      "metadata": {
        "id": "FkGeNHEf75CI"
      },
      "source": [
        "##### Walmart-Amazon"
      ]
    },
    {
      "cell_type": "code",
      "execution_count": 51,
      "metadata": {
        "id": "nDZpWkrG75CJ"
      },
      "outputs": [],
      "source": [
        "train, validation, test = dm.data.process(\n",
        "    path='/content/IC/datasesErros/ADirty_90_3_5/Structured/Walmart-Amazon/',\n",
        "    train='joined_train.csv',\n",
        "    validation='joined_valid.csv',\n",
        "    test='joined_test.csv')"
      ]
    },
    {
      "cell_type": "code",
      "execution_count": 52,
      "metadata": {
        "id": "tQ627lHz75CJ"
      },
      "outputs": [],
      "source": [
        "model = dm.MatchingModel(attr_summarizer='attention')"
      ]
    },
    {
      "cell_type": "code",
      "execution_count": 53,
      "metadata": {
        "id": "D1QS8Zs975CJ",
        "colab": {
          "base_uri": "https://localhost:8080/"
        },
        "outputId": "41b3a590-2553-4716-faea-1fa772dad28e"
      },
      "outputs": [
        {
          "output_type": "stream",
          "name": "stdout",
          "text": [
            "* Number of trainable parameters: 5234402\n",
            "===>  TRAIN Epoch 1\n"
          ]
        },
        {
          "output_type": "stream",
          "name": "stderr",
          "text": [
            "/usr/local/lib/python3.7/dist-packages/torch/nn/modules/module.py:974: UserWarning: Using a non-full backward hook when the forward contains multiple autograd Nodes is deprecated and will be removed in future versions. This hook will be missing some grad_input. Please use register_full_backward_hook to get the documented behavior.\n",
            "  warnings.warn(\"Using a non-full backward hook when the forward contains multiple autograd Nodes \"\n",
            "/usr/local/lib/python3.7/dist-packages/torch/nn/modules/module.py:949: UserWarning: Using non-full backward hooks on a Module that does not take as input a single Tensor or a tuple of Tensors is deprecated and will be removed in future versions. This hook will be missing some of the grad_input. Please use register_full_backward_hook to get the documented behavior.\n",
            "  warnings.warn(\"Using non-full backward hooks on a Module that does not take as input a \"\n",
            "/usr/local/lib/python3.7/dist-packages/torch/nn/modules/module.py:939: UserWarning: Using non-full backward hooks on a Module that does not return a single Tensor or a tuple of Tensors is deprecated and will be removed in future versions. This hook will be missing some of the grad_output. Please use register_full_backward_hook to get the documented behavior.\n",
            "  warnings.warn(\"Using non-full backward hooks on a Module that does not return a \"\n",
            "/usr/local/lib/python3.7/dist-packages/torch/nn/functional.py:2742: UserWarning: reduction: 'mean' divides the total loss by both the batch size and the support size.'batchmean' divides only by the batch size, and aligns with the KL div math definition.'mean' will be changed to behave the same as 'batchmean' in the next major release.\n",
            "  \"reduction: 'mean' divides the total loss by both the batch size and the support size.\"\n",
            "0% [██████████████████████████████] 100% | ETA: 00:00:00\n",
            "Total time elapsed: 00:00:21\n"
          ]
        },
        {
          "output_type": "stream",
          "name": "stdout",
          "text": [
            "Finished Epoch 1 || Run Time:   15.9 | Load Time:    6.3 || F1:  21.73 | Prec:  33.21 | Rec:  16.15 || Ex/s: 275.84\n",
            "\n",
            "===>  EVAL Epoch 1\n"
          ]
        },
        {
          "output_type": "stream",
          "name": "stderr",
          "text": [
            "0% [█████████████] 100% | ETA: 00:00:00\n",
            "Total time elapsed: 00:00:05\n"
          ]
        },
        {
          "output_type": "stream",
          "name": "stdout",
          "text": [
            "Finished Epoch 1 || Run Time:    3.1 | Load Time:    2.0 || F1:  26.34 | Prec:  64.00 | Rec:  16.58 || Ex/s: 401.03\n",
            "\n",
            "* Best F1: tensor(26.3375, device='cuda:0')\n",
            "Saving best model...\n",
            "Done.\n",
            "---------------------\n",
            "\n",
            "===>  TRAIN Epoch 2\n"
          ]
        },
        {
          "output_type": "stream",
          "name": "stderr",
          "text": [
            "0% [██████████████████████████████] 100% | ETA: 00:00:00\n",
            "Total time elapsed: 00:00:21\n"
          ]
        },
        {
          "output_type": "stream",
          "name": "stdout",
          "text": [
            "Finished Epoch 2 || Run Time:   15.8 | Load Time:    6.2 || F1:  52.60 | Prec:  48.13 | Rec:  57.99 || Ex/s: 278.88\n",
            "\n",
            "===>  EVAL Epoch 2\n"
          ]
        },
        {
          "output_type": "stream",
          "name": "stderr",
          "text": [
            "0% [█████████████] 100% | ETA: 00:00:00\n",
            "Total time elapsed: 00:00:04\n"
          ]
        },
        {
          "output_type": "stream",
          "name": "stdout",
          "text": [
            "Finished Epoch 2 || Run Time:    3.0 | Load Time:    2.0 || F1:  54.50 | Prec:  49.17 | Rec:  61.14 || Ex/s: 412.48\n",
            "\n",
            "* Best F1: tensor(54.5035, device='cuda:0')\n",
            "Saving best model...\n",
            "Done.\n",
            "---------------------\n",
            "\n",
            "===>  TRAIN Epoch 3\n"
          ]
        },
        {
          "output_type": "stream",
          "name": "stderr",
          "text": [
            "0% [██████████████████████████████] 100% | ETA: 00:00:00\n",
            "Total time elapsed: 00:00:21\n"
          ]
        },
        {
          "output_type": "stream",
          "name": "stdout",
          "text": [
            "Finished Epoch 3 || Run Time:   15.8 | Load Time:    6.2 || F1:  65.02 | Prec:  58.45 | Rec:  73.26 || Ex/s: 279.05\n",
            "\n",
            "===>  EVAL Epoch 3\n"
          ]
        },
        {
          "output_type": "stream",
          "name": "stderr",
          "text": [
            "0% [█████████████] 100% | ETA: 00:00:00\n",
            "Total time elapsed: 00:00:05\n"
          ]
        },
        {
          "output_type": "stream",
          "name": "stdout",
          "text": [
            "Finished Epoch 3 || Run Time:    3.1 | Load Time:    1.9 || F1:  49.17 | Prec:  41.11 | Rec:  61.14 || Ex/s: 405.97\n",
            "\n",
            "---------------------\n",
            "\n",
            "===>  TRAIN Epoch 4\n"
          ]
        },
        {
          "output_type": "stream",
          "name": "stderr",
          "text": [
            "0% [██████████████████████████████] 100% | ETA: 00:00:00\n",
            "Total time elapsed: 00:00:21\n"
          ]
        },
        {
          "output_type": "stream",
          "name": "stdout",
          "text": [
            "Finished Epoch 4 || Run Time:   15.9 | Load Time:    6.3 || F1:  74.37 | Prec:  67.61 | Rec:  82.64 || Ex/s: 277.03\n",
            "\n",
            "===>  EVAL Epoch 4\n"
          ]
        },
        {
          "output_type": "stream",
          "name": "stderr",
          "text": [
            "0% [█████████████] 100% | ETA: 00:00:00\n",
            "Total time elapsed: 00:00:04\n"
          ]
        },
        {
          "output_type": "stream",
          "name": "stdout",
          "text": [
            "Finished Epoch 4 || Run Time:    3.0 | Load Time:    1.9 || F1:  50.33 | Prec:  43.28 | Rec:  60.10 || Ex/s: 413.70\n",
            "\n",
            "---------------------\n",
            "\n",
            "===>  TRAIN Epoch 5\n"
          ]
        },
        {
          "output_type": "stream",
          "name": "stderr",
          "text": [
            "0% [██████████████████████████████] 100% | ETA: 00:00:00\n",
            "Total time elapsed: 00:00:21\n"
          ]
        },
        {
          "output_type": "stream",
          "name": "stdout",
          "text": [
            "Finished Epoch 5 || Run Time:   15.6 | Load Time:    6.2 || F1:  83.51 | Prec:  77.81 | Rec:  90.10 || Ex/s: 282.39\n",
            "\n",
            "===>  EVAL Epoch 5\n"
          ]
        },
        {
          "output_type": "stream",
          "name": "stderr",
          "text": [
            "0% [█████████████] 100% | ETA: 00:00:00\n",
            "Total time elapsed: 00:00:05\n"
          ]
        },
        {
          "output_type": "stream",
          "name": "stdout",
          "text": [
            "Finished Epoch 5 || Run Time:    3.1 | Load Time:    1.9 || F1:  51.54 | Prec:  56.10 | Rec:  47.67 || Ex/s: 408.83\n",
            "\n",
            "---------------------\n",
            "\n",
            "===>  TRAIN Epoch 6\n"
          ]
        },
        {
          "output_type": "stream",
          "name": "stderr",
          "text": [
            "0% [██████████████████████████████] 100% | ETA: 00:00:00\n",
            "Total time elapsed: 00:00:21\n"
          ]
        },
        {
          "output_type": "stream",
          "name": "stdout",
          "text": [
            "Finished Epoch 6 || Run Time:   15.5 | Load Time:    6.2 || F1:  90.56 | Prec:  88.03 | Rec:  93.23 || Ex/s: 283.44\n",
            "\n",
            "===>  EVAL Epoch 6\n"
          ]
        },
        {
          "output_type": "stream",
          "name": "stderr",
          "text": [
            "0% [█████████████] 100% | ETA: 00:00:00\n",
            "Total time elapsed: 00:00:04\n"
          ]
        },
        {
          "output_type": "stream",
          "name": "stdout",
          "text": [
            "Finished Epoch 6 || Run Time:    3.0 | Load Time:    1.9 || F1:  50.76 | Prec:  61.94 | Rec:  43.01 || Ex/s: 409.91\n",
            "\n",
            "---------------------\n",
            "\n",
            "===>  TRAIN Epoch 7\n"
          ]
        },
        {
          "output_type": "stream",
          "name": "stderr",
          "text": [
            "0% [██████████████████████████████] 100% | ETA: 00:00:00\n",
            "Total time elapsed: 00:00:22\n"
          ]
        },
        {
          "output_type": "stream",
          "name": "stdout",
          "text": [
            "Finished Epoch 7 || Run Time:   16.3 | Load Time:    6.3 || F1:  93.96 | Prec:  92.15 | Rec:  95.83 || Ex/s: 271.31\n",
            "\n",
            "===>  EVAL Epoch 7\n"
          ]
        },
        {
          "output_type": "stream",
          "name": "stderr",
          "text": [
            "0% [█████████████] 100% | ETA: 00:00:00\n",
            "Total time elapsed: 00:00:05\n"
          ]
        },
        {
          "output_type": "stream",
          "name": "stdout",
          "text": [
            "Finished Epoch 7 || Run Time:    3.1 | Load Time:    2.0 || F1:  48.50 | Prec:  67.59 | Rec:  37.82 || Ex/s: 407.60\n",
            "\n",
            "---------------------\n",
            "\n",
            "===>  TRAIN Epoch 8\n"
          ]
        },
        {
          "output_type": "stream",
          "name": "stderr",
          "text": [
            "0% [██████████████████████████████] 100% | ETA: 00:00:00\n",
            "Total time elapsed: 00:00:21\n"
          ]
        },
        {
          "output_type": "stream",
          "name": "stdout",
          "text": [
            "Finished Epoch 8 || Run Time:   15.7 | Load Time:    6.2 || F1:  96.30 | Prec:  95.56 | Rec:  97.05 || Ex/s: 281.46\n",
            "\n",
            "===>  EVAL Epoch 8\n"
          ]
        },
        {
          "output_type": "stream",
          "name": "stderr",
          "text": [
            "0% [█████████████] 100% | ETA: 00:00:00\n",
            "Total time elapsed: 00:00:05\n"
          ]
        },
        {
          "output_type": "stream",
          "name": "stdout",
          "text": [
            "Finished Epoch 8 || Run Time:    3.0 | Load Time:    2.0 || F1:  49.68 | Prec:  64.46 | Rec:  40.41 || Ex/s: 409.08\n",
            "\n",
            "---------------------\n",
            "\n",
            "===>  TRAIN Epoch 9\n"
          ]
        },
        {
          "output_type": "stream",
          "name": "stderr",
          "text": [
            "0% [██████████████████████████████] 100% | ETA: 00:00:00\n",
            "Total time elapsed: 00:00:21\n"
          ]
        },
        {
          "output_type": "stream",
          "name": "stdout",
          "text": [
            "Finished Epoch 9 || Run Time:   15.5 | Load Time:    6.2 || F1:  98.10 | Prec:  97.59 | Rec:  98.61 || Ex/s: 282.67\n",
            "\n",
            "===>  EVAL Epoch 9\n"
          ]
        },
        {
          "output_type": "stream",
          "name": "stderr",
          "text": [
            "0% [█████████████] 100% | ETA: 00:00:00\n",
            "Total time elapsed: 00:00:05\n"
          ]
        },
        {
          "output_type": "stream",
          "name": "stdout",
          "text": [
            "Finished Epoch 9 || Run Time:    3.1 | Load Time:    2.0 || F1:  48.19 | Prec:  57.55 | Rec:  41.45 || Ex/s: 405.66\n",
            "\n",
            "---------------------\n",
            "\n",
            "===>  TRAIN Epoch 10\n"
          ]
        },
        {
          "output_type": "stream",
          "name": "stderr",
          "text": [
            "0% [██████████████████████████████] 100% | ETA: 00:00:00\n",
            "Total time elapsed: 00:00:21\n"
          ]
        },
        {
          "output_type": "stream",
          "name": "stdout",
          "text": [
            "Finished Epoch 10 || Run Time:   15.6 | Load Time:    6.2 || F1:  98.78 | Prec:  98.78 | Rec:  98.78 || Ex/s: 282.16\n",
            "\n",
            "===>  EVAL Epoch 10\n"
          ]
        },
        {
          "output_type": "stream",
          "name": "stderr",
          "text": [
            "0% [█████████████] 100% | ETA: 00:00:00\n",
            "Total time elapsed: 00:00:05\n"
          ]
        },
        {
          "output_type": "stream",
          "name": "stdout",
          "text": [
            "Finished Epoch 10 || Run Time:    3.3 | Load Time:    2.1 || F1:  49.30 | Prec:  53.66 | Rec:  45.60 || Ex/s: 379.45\n",
            "\n",
            "---------------------\n",
            "\n",
            "===>  TRAIN Epoch 11\n"
          ]
        },
        {
          "output_type": "stream",
          "name": "stderr",
          "text": [
            "0% [██████████████████████████████] 100% | ETA: 00:00:00\n",
            "Total time elapsed: 00:00:21\n"
          ]
        },
        {
          "output_type": "stream",
          "name": "stdout",
          "text": [
            "Finished Epoch 11 || Run Time:   15.7 | Load Time:    6.2 || F1:  99.22 | Prec:  99.48 | Rec:  98.96 || Ex/s: 280.56\n",
            "\n",
            "===>  EVAL Epoch 11\n"
          ]
        },
        {
          "output_type": "stream",
          "name": "stderr",
          "text": [
            "0% [█████████████] 100% | ETA: 00:00:00\n",
            "Total time elapsed: 00:00:04\n"
          ]
        },
        {
          "output_type": "stream",
          "name": "stdout",
          "text": [
            "Finished Epoch 11 || Run Time:    3.0 | Load Time:    1.9 || F1:  51.10 | Prec:  54.39 | Rec:  48.19 || Ex/s: 413.59\n",
            "\n",
            "---------------------\n",
            "\n",
            "===>  TRAIN Epoch 12\n"
          ]
        },
        {
          "output_type": "stream",
          "name": "stderr",
          "text": [
            "0% [██████████████████████████████] 100% | ETA: 00:00:00\n",
            "Total time elapsed: 00:00:21\n"
          ]
        },
        {
          "output_type": "stream",
          "name": "stdout",
          "text": [
            "Finished Epoch 12 || Run Time:   15.6 | Load Time:    6.2 || F1:  99.39 | Prec:  99.65 | Rec:  99.13 || Ex/s: 282.40\n",
            "\n",
            "===>  EVAL Epoch 12\n"
          ]
        },
        {
          "output_type": "stream",
          "name": "stderr",
          "text": [
            "0% [█████████████] 100% | ETA: 00:00:00\n",
            "Total time elapsed: 00:00:05\n"
          ]
        },
        {
          "output_type": "stream",
          "name": "stdout",
          "text": [
            "Finished Epoch 12 || Run Time:    3.1 | Load Time:    2.0 || F1:  50.27 | Prec:  51.93 | Rec:  48.70 || Ex/s: 406.38\n",
            "\n",
            "---------------------\n",
            "\n",
            "===>  TRAIN Epoch 13\n"
          ]
        },
        {
          "output_type": "stream",
          "name": "stderr",
          "text": [
            "0% [██████████████████████████████] 100% | ETA: 00:00:00\n",
            "Total time elapsed: 00:00:21\n"
          ]
        },
        {
          "output_type": "stream",
          "name": "stdout",
          "text": [
            "Finished Epoch 13 || Run Time:   15.4 | Load Time:    6.2 || F1:  99.57 | Prec:  99.65 | Rec:  99.48 || Ex/s: 284.97\n",
            "\n",
            "===>  EVAL Epoch 13\n"
          ]
        },
        {
          "output_type": "stream",
          "name": "stderr",
          "text": [
            "0% [█████████████] 100% | ETA: 00:00:00\n",
            "Total time elapsed: 00:00:04\n"
          ]
        },
        {
          "output_type": "stream",
          "name": "stdout",
          "text": [
            "Finished Epoch 13 || Run Time:    3.0 | Load Time:    1.9 || F1:  49.48 | Prec:  49.74 | Rec:  49.22 || Ex/s: 413.57\n",
            "\n",
            "---------------------\n",
            "\n",
            "===>  TRAIN Epoch 14\n"
          ]
        },
        {
          "output_type": "stream",
          "name": "stderr",
          "text": [
            "0% [██████████████████████████████] 100% | ETA: 00:00:00\n",
            "Total time elapsed: 00:00:21\n"
          ]
        },
        {
          "output_type": "stream",
          "name": "stdout",
          "text": [
            "Finished Epoch 14 || Run Time:   15.8 | Load Time:    6.3 || F1:  99.65 | Prec:  99.83 | Rec:  99.48 || Ex/s: 278.74\n",
            "\n",
            "===>  EVAL Epoch 14\n"
          ]
        },
        {
          "output_type": "stream",
          "name": "stderr",
          "text": [
            "0% [█████████████] 100% | ETA: 00:00:00\n",
            "Total time elapsed: 00:00:05\n"
          ]
        },
        {
          "output_type": "stream",
          "name": "stdout",
          "text": [
            "Finished Epoch 14 || Run Time:    3.2 | Load Time:    2.0 || F1:  50.00 | Prec:  49.25 | Rec:  50.78 || Ex/s: 396.62\n",
            "\n",
            "---------------------\n",
            "\n",
            "===>  TRAIN Epoch 15\n"
          ]
        },
        {
          "output_type": "stream",
          "name": "stderr",
          "text": [
            "0% [██████████████████████████████] 100% | ETA: 00:00:00\n",
            "Total time elapsed: 00:00:21\n"
          ]
        },
        {
          "output_type": "stream",
          "name": "stdout",
          "text": [
            "Finished Epoch 15 || Run Time:   15.7 | Load Time:    6.2 || F1:  99.65 | Prec:  99.83 | Rec:  99.48 || Ex/s: 279.88\n",
            "\n",
            "===>  EVAL Epoch 15\n"
          ]
        },
        {
          "output_type": "stream",
          "name": "stderr",
          "text": [
            "0% [█████████████] 100% | ETA: 00:00:00\n",
            "Total time elapsed: 00:00:04\n"
          ]
        },
        {
          "output_type": "stream",
          "name": "stdout",
          "text": [
            "Finished Epoch 15 || Run Time:    3.0 | Load Time:    2.0 || F1:  50.13 | Prec:  49.01 | Rec:  51.30 || Ex/s: 409.98\n",
            "\n",
            "---------------------\n",
            "\n",
            "Loading best model...\n",
            "Training done.\n"
          ]
        },
        {
          "output_type": "execute_result",
          "data": {
            "text/plain": [
              "tensor(54.5035, device='cuda:0')"
            ]
          },
          "metadata": {},
          "execution_count": 53
        }
      ],
      "source": [
        "model.run_train(\n",
        "    train,\n",
        "    validation,\n",
        "    epochs=15,\n",
        "    batch_size=32,\n",
        "    best_save_path='attention_model.pth',\n",
        "    pos_neg_ratio=3)"
      ]
    },
    {
      "cell_type": "code",
      "execution_count": 54,
      "metadata": {
        "id": "s_h8u_uW75CK",
        "colab": {
          "base_uri": "https://localhost:8080/"
        },
        "outputId": "ecb627a7-8110-4d38-ae03-0d7a55479d20"
      },
      "outputs": [
        {
          "output_type": "stream",
          "name": "stdout",
          "text": [
            "===>  EVAL Epoch 2\n"
          ]
        },
        {
          "output_type": "stream",
          "name": "stderr",
          "text": [
            "/usr/local/lib/python3.7/dist-packages/torch/nn/modules/module.py:974: UserWarning: Using a non-full backward hook when the forward contains multiple autograd Nodes is deprecated and will be removed in future versions. This hook will be missing some grad_input. Please use register_full_backward_hook to get the documented behavior.\n",
            "  warnings.warn(\"Using a non-full backward hook when the forward contains multiple autograd Nodes \"\n",
            "/usr/local/lib/python3.7/dist-packages/torch/nn/modules/module.py:949: UserWarning: Using non-full backward hooks on a Module that does not take as input a single Tensor or a tuple of Tensors is deprecated and will be removed in future versions. This hook will be missing some of the grad_input. Please use register_full_backward_hook to get the documented behavior.\n",
            "  warnings.warn(\"Using non-full backward hooks on a Module that does not take as input a \"\n",
            "/usr/local/lib/python3.7/dist-packages/torch/nn/modules/module.py:939: UserWarning: Using non-full backward hooks on a Module that does not return a single Tensor or a tuple of Tensors is deprecated and will be removed in future versions. This hook will be missing some of the grad_output. Please use register_full_backward_hook to get the documented behavior.\n",
            "  warnings.warn(\"Using non-full backward hooks on a Module that does not return a \"\n",
            "0% [█████████████] 100% | ETA: 00:00:00\n",
            "Total time elapsed: 00:00:05\n"
          ]
        },
        {
          "output_type": "stream",
          "name": "stdout",
          "text": [
            "Finished Epoch 2 || Run Time:    3.1 | Load Time:    1.9 || F1:  53.53 | Prec:  50.46 | Rec:  56.99 || Ex/s: 405.61\n",
            "\n"
          ]
        },
        {
          "output_type": "execute_result",
          "data": {
            "text/plain": [
              "tensor(53.5280, device='cuda:0')"
            ]
          },
          "metadata": {},
          "execution_count": 54
        }
      ],
      "source": [
        "# Compute F1 on test set\n",
        "model.run_eval(test)"
      ]
    },
    {
      "cell_type": "markdown",
      "metadata": {
        "id": "Cdsxv_qr75CK"
      },
      "source": [
        "#### TEXTUAL"
      ]
    },
    {
      "cell_type": "markdown",
      "metadata": {
        "id": "j4zOGg2n75CK"
      },
      "source": [
        "##### Abt-Buy"
      ]
    },
    {
      "cell_type": "code",
      "execution_count": 55,
      "metadata": {
        "id": "ZtLVBEZg75CL"
      },
      "outputs": [],
      "source": [
        "train, validation, test = dm.data.process(\n",
        "    path='/content/IC/datasesErros/ADirty_90_3_5/Textual/Abt-Buy/',\n",
        "    train='joined_train.csv',\n",
        "    validation='joined_valid.csv',\n",
        "    test='joined_test.csv')"
      ]
    },
    {
      "cell_type": "code",
      "execution_count": 56,
      "metadata": {
        "id": "sdCg5PtC75CL"
      },
      "outputs": [],
      "source": [
        "model = dm.MatchingModel(attr_summarizer='attention')"
      ]
    },
    {
      "cell_type": "code",
      "execution_count": 57,
      "metadata": {
        "id": "CV-ONewg75CL",
        "colab": {
          "base_uri": "https://localhost:8080/"
        },
        "outputId": "1643483d-78e0-4e4b-a1e3-be2130f14564"
      },
      "outputs": [
        {
          "output_type": "stream",
          "name": "stdout",
          "text": [
            "* Number of trainable parameters: 3429602\n",
            "===>  TRAIN Epoch 1\n"
          ]
        },
        {
          "output_type": "stream",
          "name": "stderr",
          "text": [
            "/usr/local/lib/python3.7/dist-packages/torch/nn/modules/module.py:974: UserWarning: Using a non-full backward hook when the forward contains multiple autograd Nodes is deprecated and will be removed in future versions. This hook will be missing some grad_input. Please use register_full_backward_hook to get the documented behavior.\n",
            "  warnings.warn(\"Using a non-full backward hook when the forward contains multiple autograd Nodes \"\n",
            "/usr/local/lib/python3.7/dist-packages/torch/nn/modules/module.py:949: UserWarning: Using non-full backward hooks on a Module that does not take as input a single Tensor or a tuple of Tensors is deprecated and will be removed in future versions. This hook will be missing some of the grad_input. Please use register_full_backward_hook to get the documented behavior.\n",
            "  warnings.warn(\"Using non-full backward hooks on a Module that does not take as input a \"\n",
            "/usr/local/lib/python3.7/dist-packages/torch/nn/modules/module.py:939: UserWarning: Using non-full backward hooks on a Module that does not return a single Tensor or a tuple of Tensors is deprecated and will be removed in future versions. This hook will be missing some of the grad_output. Please use register_full_backward_hook to get the documented behavior.\n",
            "  warnings.warn(\"Using non-full backward hooks on a Module that does not return a \"\n",
            "/usr/local/lib/python3.7/dist-packages/torch/nn/functional.py:2742: UserWarning: reduction: 'mean' divides the total loss by both the batch size and the support size.'batchmean' divides only by the batch size, and aligns with the KL div math definition.'mean' will be changed to behave the same as 'batchmean' in the next major release.\n",
            "  \"reduction: 'mean' divides the total loss by both the batch size and the support size.\"\n",
            "0% [██████████████████████████████] 100% | ETA: 00:00:00\n",
            "Total time elapsed: 00:00:21\n"
          ]
        },
        {
          "output_type": "stream",
          "name": "stdout",
          "text": [
            "Finished Epoch 1 || Run Time:   11.2 | Load Time:    9.9 || F1:  13.55 | Prec:  18.44 | Rec:  10.71 || Ex/s: 272.68\n",
            "\n",
            "===>  EVAL Epoch 1\n"
          ]
        },
        {
          "output_type": "stream",
          "name": "stderr",
          "text": [
            "0% [████████████] 100% | ETA: 00:00:00\n",
            "Total time elapsed: 00:00:05\n"
          ]
        },
        {
          "output_type": "stream",
          "name": "stdout",
          "text": [
            "Finished Epoch 1 || Run Time:    2.4 | Load Time:    2.9 || F1:  13.49 | Prec:  36.96 | Rec:   8.25 || Ex/s: 359.39\n",
            "\n",
            "* Best F1: tensor(13.4921, device='cuda:0')\n",
            "Saving best model...\n",
            "Done.\n",
            "---------------------\n",
            "\n",
            "===>  TRAIN Epoch 2\n"
          ]
        },
        {
          "output_type": "stream",
          "name": "stderr",
          "text": [
            "0% [██████████████████████████████] 100% | ETA: 00:00:00\n",
            "Total time elapsed: 00:00:20\n"
          ]
        },
        {
          "output_type": "stream",
          "name": "stdout",
          "text": [
            "Finished Epoch 2 || Run Time:   10.9 | Load Time:    9.7 || F1:  29.41 | Prec:  30.29 | Rec:  28.57 || Ex/s: 279.10\n",
            "\n",
            "===>  EVAL Epoch 2\n"
          ]
        },
        {
          "output_type": "stream",
          "name": "stderr",
          "text": [
            "0% [████████████] 100% | ETA: 00:00:00\n",
            "Total time elapsed: 00:00:04\n"
          ]
        },
        {
          "output_type": "stream",
          "name": "stdout",
          "text": [
            "Finished Epoch 2 || Run Time:    2.0 | Load Time:    2.9 || F1:  24.70 | Prec:  24.64 | Rec:  24.76 || Ex/s: 386.06\n",
            "\n",
            "* Best F1: tensor(24.6973, device='cuda:0')\n",
            "Saving best model...\n",
            "Done.\n",
            "---------------------\n",
            "\n",
            "===>  TRAIN Epoch 3\n"
          ]
        },
        {
          "output_type": "stream",
          "name": "stderr",
          "text": [
            "0% [██████████████████████████████] 100% | ETA: 00:00:00\n",
            "Total time elapsed: 00:00:20\n"
          ]
        },
        {
          "output_type": "stream",
          "name": "stdout",
          "text": [
            "Finished Epoch 3 || Run Time:   11.0 | Load Time:    9.9 || F1:  37.42 | Prec:  34.83 | Rec:  40.42 || Ex/s: 275.73\n",
            "\n",
            "===>  EVAL Epoch 3\n"
          ]
        },
        {
          "output_type": "stream",
          "name": "stderr",
          "text": [
            "0% [████████████] 100% | ETA: 00:00:00\n",
            "Total time elapsed: 00:00:04\n"
          ]
        },
        {
          "output_type": "stream",
          "name": "stdout",
          "text": [
            "Finished Epoch 3 || Run Time:    2.0 | Load Time:    2.9 || F1:  26.70 | Prec:  26.70 | Rec:  26.70 || Ex/s: 392.94\n",
            "\n",
            "* Best F1: tensor(26.6990, device='cuda:0')\n",
            "Saving best model...\n",
            "Done.\n",
            "---------------------\n",
            "\n",
            "===>  TRAIN Epoch 4\n"
          ]
        },
        {
          "output_type": "stream",
          "name": "stderr",
          "text": [
            "0% [██████████████████████████████] 100% | ETA: 00:00:00\n",
            "Total time elapsed: 00:00:20\n"
          ]
        },
        {
          "output_type": "stream",
          "name": "stdout",
          "text": [
            "Finished Epoch 4 || Run Time:   11.0 | Load Time:    9.7 || F1:  44.33 | Prec:  40.13 | Rec:  49.51 || Ex/s: 277.55\n",
            "\n",
            "===>  EVAL Epoch 4\n"
          ]
        },
        {
          "output_type": "stream",
          "name": "stderr",
          "text": [
            "0% [████████████] 100% | ETA: 00:00:00\n",
            "Total time elapsed: 00:00:04\n"
          ]
        },
        {
          "output_type": "stream",
          "name": "stdout",
          "text": [
            "Finished Epoch 4 || Run Time:    2.0 | Load Time:    2.9 || F1:  24.64 | Prec:  24.07 | Rec:  25.24 || Ex/s: 390.11\n",
            "\n",
            "---------------------\n",
            "\n",
            "===>  TRAIN Epoch 5\n"
          ]
        },
        {
          "output_type": "stream",
          "name": "stderr",
          "text": [
            "0% [██████████████████████████████] 100% | ETA: 00:00:00\n",
            "Total time elapsed: 00:00:20\n"
          ]
        },
        {
          "output_type": "stream",
          "name": "stdout",
          "text": [
            "Finished Epoch 5 || Run Time:   10.9 | Load Time:    9.7 || F1:  52.70 | Prec:  46.84 | Rec:  60.23 || Ex/s: 278.89\n",
            "\n",
            "===>  EVAL Epoch 5\n"
          ]
        },
        {
          "output_type": "stream",
          "name": "stderr",
          "text": [
            "0% [████████████] 100% | ETA: 00:00:00\n",
            "Total time elapsed: 00:00:04\n"
          ]
        },
        {
          "output_type": "stream",
          "name": "stdout",
          "text": [
            "Finished Epoch 5 || Run Time:    2.0 | Load Time:    2.9 || F1:  26.07 | Prec:  24.27 | Rec:  28.16 || Ex/s: 388.08\n",
            "\n",
            "---------------------\n",
            "\n",
            "===>  TRAIN Epoch 6\n"
          ]
        },
        {
          "output_type": "stream",
          "name": "stderr",
          "text": [
            "0% [██████████████████████████████] 100% | ETA: 00:00:00\n",
            "Total time elapsed: 00:00:20\n"
          ]
        },
        {
          "output_type": "stream",
          "name": "stdout",
          "text": [
            "Finished Epoch 6 || Run Time:   11.1 | Load Time:    9.8 || F1:  58.69 | Prec:  52.28 | Rec:  66.88 || Ex/s: 274.61\n",
            "\n",
            "===>  EVAL Epoch 6\n"
          ]
        },
        {
          "output_type": "stream",
          "name": "stderr",
          "text": [
            "0% [████████████] 100% | ETA: 00:00:00\n",
            "Total time elapsed: 00:00:05\n"
          ]
        },
        {
          "output_type": "stream",
          "name": "stdout",
          "text": [
            "Finished Epoch 6 || Run Time:    2.1 | Load Time:    3.1 || F1:  27.41 | Prec:  24.52 | Rec:  31.07 || Ex/s: 368.39\n",
            "\n",
            "* Best F1: tensor(27.4090, device='cuda:0')\n",
            "Saving best model...\n",
            "Done.\n",
            "---------------------\n",
            "\n",
            "===>  TRAIN Epoch 7\n"
          ]
        },
        {
          "output_type": "stream",
          "name": "stderr",
          "text": [
            "0% [██████████████████████████████] 100% | ETA: 00:00:00\n",
            "Total time elapsed: 00:00:20\n"
          ]
        },
        {
          "output_type": "stream",
          "name": "stdout",
          "text": [
            "Finished Epoch 7 || Run Time:   10.9 | Load Time:    9.7 || F1:  63.95 | Prec:  57.99 | Rec:  71.27 || Ex/s: 278.94\n",
            "\n",
            "===>  EVAL Epoch 7\n"
          ]
        },
        {
          "output_type": "stream",
          "name": "stderr",
          "text": [
            "0% [████████████] 100% | ETA: 00:00:00\n",
            "Total time elapsed: 00:00:04\n"
          ]
        },
        {
          "output_type": "stream",
          "name": "stdout",
          "text": [
            "Finished Epoch 7 || Run Time:    2.0 | Load Time:    2.9 || F1:  29.88 | Prec:  25.34 | Rec:  36.41 || Ex/s: 390.32\n",
            "\n",
            "* Best F1: tensor(29.8805, device='cuda:0')\n",
            "Saving best model...\n",
            "Done.\n",
            "---------------------\n",
            "\n",
            "===>  TRAIN Epoch 8\n"
          ]
        },
        {
          "output_type": "stream",
          "name": "stderr",
          "text": [
            "0% [██████████████████████████████] 100% | ETA: 00:00:00\n",
            "Total time elapsed: 00:00:20\n"
          ]
        },
        {
          "output_type": "stream",
          "name": "stdout",
          "text": [
            "Finished Epoch 8 || Run Time:   10.8 | Load Time:    9.7 || F1:  68.58 | Prec:  62.72 | Rec:  75.65 || Ex/s: 279.92\n",
            "\n",
            "===>  EVAL Epoch 8\n"
          ]
        },
        {
          "output_type": "stream",
          "name": "stderr",
          "text": [
            "0% [████████████] 100% | ETA: 00:00:00\n",
            "Total time elapsed: 00:00:04\n"
          ]
        },
        {
          "output_type": "stream",
          "name": "stdout",
          "text": [
            "Finished Epoch 8 || Run Time:    2.0 | Load Time:    2.9 || F1:  26.00 | Prec:  25.35 | Rec:  26.70 || Ex/s: 387.07\n",
            "\n",
            "---------------------\n",
            "\n",
            "===>  TRAIN Epoch 9\n"
          ]
        },
        {
          "output_type": "stream",
          "name": "stderr",
          "text": [
            "0% [██████████████████████████████] 100% | ETA: 00:00:00\n",
            "Total time elapsed: 00:00:20\n"
          ]
        },
        {
          "output_type": "stream",
          "name": "stdout",
          "text": [
            "Finished Epoch 9 || Run Time:   10.9 | Load Time:    9.8 || F1:  72.28 | Prec:  66.35 | Rec:  79.38 || Ex/s: 277.85\n",
            "\n",
            "===>  EVAL Epoch 9\n"
          ]
        },
        {
          "output_type": "stream",
          "name": "stderr",
          "text": [
            "0% [████████████] 100% | ETA: 00:00:00\n",
            "Total time elapsed: 00:00:04\n"
          ]
        },
        {
          "output_type": "stream",
          "name": "stdout",
          "text": [
            "Finished Epoch 9 || Run Time:    2.0 | Load Time:    2.9 || F1:  22.89 | Prec:  26.09 | Rec:  20.39 || Ex/s: 387.44\n",
            "\n",
            "---------------------\n",
            "\n",
            "===>  TRAIN Epoch 10\n"
          ]
        },
        {
          "output_type": "stream",
          "name": "stderr",
          "text": [
            "0% [██████████████████████████████] 100% | ETA: 00:00:00\n",
            "Total time elapsed: 00:00:20\n"
          ]
        },
        {
          "output_type": "stream",
          "name": "stdout",
          "text": [
            "Finished Epoch 10 || Run Time:   11.0 | Load Time:    9.9 || F1:  74.80 | Prec:  68.66 | Rec:  82.14 || Ex/s: 274.16\n",
            "\n",
            "===>  EVAL Epoch 10\n"
          ]
        },
        {
          "output_type": "stream",
          "name": "stderr",
          "text": [
            "0% [████████████] 100% | ETA: 00:00:00\n",
            "Total time elapsed: 00:00:04\n"
          ]
        },
        {
          "output_type": "stream",
          "name": "stdout",
          "text": [
            "Finished Epoch 10 || Run Time:    2.1 | Load Time:    2.9 || F1:  23.56 | Prec:  27.04 | Rec:  20.87 || Ex/s: 383.82\n",
            "\n",
            "---------------------\n",
            "\n",
            "===>  TRAIN Epoch 11\n"
          ]
        },
        {
          "output_type": "stream",
          "name": "stderr",
          "text": [
            "0% [██████████████████████████████] 100% | ETA: 00:00:00\n",
            "Total time elapsed: 00:00:20\n"
          ]
        },
        {
          "output_type": "stream",
          "name": "stdout",
          "text": [
            "Finished Epoch 11 || Run Time:   11.0 | Load Time:    9.8 || F1:  77.01 | Prec:  70.69 | Rec:  84.58 || Ex/s: 275.96\n",
            "\n",
            "===>  EVAL Epoch 11\n"
          ]
        },
        {
          "output_type": "stream",
          "name": "stderr",
          "text": [
            "0% [████████████] 100% | ETA: 00:00:00\n",
            "Total time elapsed: 00:00:04\n"
          ]
        },
        {
          "output_type": "stream",
          "name": "stdout",
          "text": [
            "Finished Epoch 11 || Run Time:    2.0 | Load Time:    2.9 || F1:  25.31 | Prec:  25.89 | Rec:  24.76 || Ex/s: 388.79\n",
            "\n",
            "---------------------\n",
            "\n",
            "===>  TRAIN Epoch 12\n"
          ]
        },
        {
          "output_type": "stream",
          "name": "stderr",
          "text": [
            "0% [██████████████████████████████] 100% | ETA: 00:00:00\n",
            "Total time elapsed: 00:00:20\n"
          ]
        },
        {
          "output_type": "stream",
          "name": "stdout",
          "text": [
            "Finished Epoch 12 || Run Time:   11.0 | Load Time:    9.8 || F1:  78.28 | Prec:  72.03 | Rec:  85.71 || Ex/s: 276.76\n",
            "\n",
            "===>  EVAL Epoch 12\n"
          ]
        },
        {
          "output_type": "stream",
          "name": "stderr",
          "text": [
            "0% [████████████] 100% | ETA: 00:00:00\n",
            "Total time elapsed: 00:00:04\n"
          ]
        },
        {
          "output_type": "stream",
          "name": "stdout",
          "text": [
            "Finished Epoch 12 || Run Time:    2.0 | Load Time:    2.9 || F1:  25.60 | Prec:  23.14 | Rec:  28.64 || Ex/s: 390.25\n",
            "\n",
            "---------------------\n",
            "\n",
            "===>  TRAIN Epoch 13\n"
          ]
        },
        {
          "output_type": "stream",
          "name": "stderr",
          "text": [
            "0% [██████████████████████████████] 100% | ETA: 00:00:00\n",
            "Total time elapsed: 00:00:20\n"
          ]
        },
        {
          "output_type": "stream",
          "name": "stdout",
          "text": [
            "Finished Epoch 13 || Run Time:   10.9 | Load Time:    9.7 || F1:  79.91 | Prec:  74.23 | Rec:  86.53 || Ex/s: 278.30\n",
            "\n",
            "===>  EVAL Epoch 13\n"
          ]
        },
        {
          "output_type": "stream",
          "name": "stderr",
          "text": [
            "0% [████████████] 100% | ETA: 00:00:00\n",
            "Total time elapsed: 00:00:05\n"
          ]
        },
        {
          "output_type": "stream",
          "name": "stdout",
          "text": [
            "Finished Epoch 13 || Run Time:    2.1 | Load Time:    3.1 || F1:  26.50 | Prec:  23.10 | Rec:  31.07 || Ex/s: 367.53\n",
            "\n",
            "---------------------\n",
            "\n",
            "===>  TRAIN Epoch 14\n"
          ]
        },
        {
          "output_type": "stream",
          "name": "stderr",
          "text": [
            "0% [██████████████████████████████] 100% | ETA: 00:00:00\n",
            "Total time elapsed: 00:00:20\n"
          ]
        },
        {
          "output_type": "stream",
          "name": "stdout",
          "text": [
            "Finished Epoch 14 || Run Time:   10.8 | Load Time:    9.8 || F1:  80.71 | Prec:  74.55 | Rec:  87.99 || Ex/s: 279.33\n",
            "\n",
            "===>  EVAL Epoch 14\n"
          ]
        },
        {
          "output_type": "stream",
          "name": "stderr",
          "text": [
            "0% [████████████] 100% | ETA: 00:00:00\n",
            "Total time elapsed: 00:00:04\n"
          ]
        },
        {
          "output_type": "stream",
          "name": "stdout",
          "text": [
            "Finished Epoch 14 || Run Time:    2.0 | Load Time:    2.9 || F1:  26.12 | Prec:  23.37 | Rec:  29.61 || Ex/s: 387.39\n",
            "\n",
            "---------------------\n",
            "\n",
            "===>  TRAIN Epoch 15\n"
          ]
        },
        {
          "output_type": "stream",
          "name": "stderr",
          "text": [
            "0% [██████████████████████████████] 100% | ETA: 00:00:00\n",
            "Total time elapsed: 00:00:21\n"
          ]
        },
        {
          "output_type": "stream",
          "name": "stdout",
          "text": [
            "Finished Epoch 15 || Run Time:   11.2 | Load Time:    9.9 || F1:  81.92 | Prec:  76.15 | Rec:  88.64 || Ex/s: 271.40\n",
            "\n",
            "===>  EVAL Epoch 15\n"
          ]
        },
        {
          "output_type": "stream",
          "name": "stderr",
          "text": [
            "0% [████████████] 100% | ETA: 00:00:00\n",
            "Total time elapsed: 00:00:04\n"
          ]
        },
        {
          "output_type": "stream",
          "name": "stdout",
          "text": [
            "Finished Epoch 15 || Run Time:    2.0 | Load Time:    2.9 || F1:  25.33 | Prec:  23.36 | Rec:  27.67 || Ex/s: 385.86\n",
            "\n",
            "---------------------\n",
            "\n",
            "Loading best model...\n",
            "Training done.\n"
          ]
        },
        {
          "output_type": "execute_result",
          "data": {
            "text/plain": [
              "tensor(29.8805, device='cuda:0')"
            ]
          },
          "metadata": {},
          "execution_count": 57
        }
      ],
      "source": [
        "model.run_train(\n",
        "    train,\n",
        "    validation,\n",
        "    epochs=15,\n",
        "    batch_size=32,\n",
        "    best_save_path='attention_model.pth',\n",
        "    pos_neg_ratio=3)"
      ]
    },
    {
      "cell_type": "code",
      "execution_count": 58,
      "metadata": {
        "id": "EgvhQbnU75CM",
        "colab": {
          "base_uri": "https://localhost:8080/"
        },
        "outputId": "4f007e71-c057-4cef-ca85-3432f2e5b416"
      },
      "outputs": [
        {
          "output_type": "stream",
          "name": "stdout",
          "text": [
            "===>  EVAL Epoch 7\n"
          ]
        },
        {
          "output_type": "stream",
          "name": "stderr",
          "text": [
            "/usr/local/lib/python3.7/dist-packages/torch/nn/modules/module.py:974: UserWarning: Using a non-full backward hook when the forward contains multiple autograd Nodes is deprecated and will be removed in future versions. This hook will be missing some grad_input. Please use register_full_backward_hook to get the documented behavior.\n",
            "  warnings.warn(\"Using a non-full backward hook when the forward contains multiple autograd Nodes \"\n",
            "/usr/local/lib/python3.7/dist-packages/torch/nn/modules/module.py:949: UserWarning: Using non-full backward hooks on a Module that does not take as input a single Tensor or a tuple of Tensors is deprecated and will be removed in future versions. This hook will be missing some of the grad_input. Please use register_full_backward_hook to get the documented behavior.\n",
            "  warnings.warn(\"Using non-full backward hooks on a Module that does not take as input a \"\n",
            "/usr/local/lib/python3.7/dist-packages/torch/nn/modules/module.py:939: UserWarning: Using non-full backward hooks on a Module that does not return a single Tensor or a tuple of Tensors is deprecated and will be removed in future versions. This hook will be missing some of the grad_output. Please use register_full_backward_hook to get the documented behavior.\n",
            "  warnings.warn(\"Using non-full backward hooks on a Module that does not return a \"\n",
            "0% [████████████] 100% | ETA: 00:00:00\n",
            "Total time elapsed: 00:00:05\n"
          ]
        },
        {
          "output_type": "stream",
          "name": "stdout",
          "text": [
            "Finished Epoch 7 || Run Time:    2.1 | Load Time:    3.0 || F1:  31.09 | Prec:  25.71 | Rec:  39.32 || Ex/s: 381.13\n",
            "\n"
          ]
        },
        {
          "output_type": "execute_result",
          "data": {
            "text/plain": [
              "tensor(31.0940, device='cuda:0')"
            ]
          },
          "metadata": {},
          "execution_count": 58
        }
      ],
      "source": [
        "# Compute F1 on test set\n",
        "model.run_eval(test)"
      ]
    },
    {
      "cell_type": "markdown",
      "metadata": {
        "id": "t9lDhvR675CM"
      },
      "source": [
        "#### DIRTY"
      ]
    },
    {
      "cell_type": "markdown",
      "metadata": {
        "id": "5N9PM5Rz75CN"
      },
      "source": [
        "##### DBLP-ACM"
      ]
    },
    {
      "cell_type": "code",
      "execution_count": 59,
      "metadata": {
        "id": "jzAL_Hhu75CN"
      },
      "outputs": [],
      "source": [
        "train, validation, test = dm.data.process(\n",
        "    path='/content/IC/datasesErros/ADirty_90_3_5/Dirty/DBLP-ACM/',\n",
        "    train='joined_train.csv',\n",
        "    validation='joined_valid.csv',\n",
        "    test='joined_test.csv')"
      ]
    },
    {
      "cell_type": "code",
      "execution_count": 60,
      "metadata": {
        "id": "aEKc0IUC75CO"
      },
      "outputs": [],
      "source": [
        "model = dm.MatchingModel(attr_summarizer='attention')"
      ]
    },
    {
      "cell_type": "code",
      "execution_count": 61,
      "metadata": {
        "id": "PcD-Y6XG75CO",
        "colab": {
          "base_uri": "https://localhost:8080/"
        },
        "outputId": "23a94035-6c77-4d42-8a3a-41ee71cccd9f"
      },
      "outputs": [
        {
          "output_type": "stream",
          "name": "stdout",
          "text": [
            "* Number of trainable parameters: 4332002\n",
            "===>  TRAIN Epoch 1\n"
          ]
        },
        {
          "output_type": "stream",
          "name": "stderr",
          "text": [
            "/usr/local/lib/python3.7/dist-packages/torch/nn/modules/module.py:974: UserWarning: Using a non-full backward hook when the forward contains multiple autograd Nodes is deprecated and will be removed in future versions. This hook will be missing some grad_input. Please use register_full_backward_hook to get the documented behavior.\n",
            "  warnings.warn(\"Using a non-full backward hook when the forward contains multiple autograd Nodes \"\n",
            "/usr/local/lib/python3.7/dist-packages/torch/nn/modules/module.py:949: UserWarning: Using non-full backward hooks on a Module that does not take as input a single Tensor or a tuple of Tensors is deprecated and will be removed in future versions. This hook will be missing some of the grad_input. Please use register_full_backward_hook to get the documented behavior.\n",
            "  warnings.warn(\"Using non-full backward hooks on a Module that does not take as input a \"\n",
            "/usr/local/lib/python3.7/dist-packages/torch/nn/modules/module.py:939: UserWarning: Using non-full backward hooks on a Module that does not return a single Tensor or a tuple of Tensors is deprecated and will be removed in future versions. This hook will be missing some of the grad_output. Please use register_full_backward_hook to get the documented behavior.\n",
            "  warnings.warn(\"Using non-full backward hooks on a Module that does not return a \"\n",
            "/usr/local/lib/python3.7/dist-packages/torch/nn/functional.py:2742: UserWarning: reduction: 'mean' divides the total loss by both the batch size and the support size.'batchmean' divides only by the batch size, and aligns with the KL div math definition.'mean' will be changed to behave the same as 'batchmean' in the next major release.\n",
            "  \"reduction: 'mean' divides the total loss by both the batch size and the support size.\"\n",
            "0% [██████████████████████████████] 100% | ETA: 00:00:00\n",
            "Total time elapsed: 00:00:29\n"
          ]
        },
        {
          "output_type": "stream",
          "name": "stdout",
          "text": [
            "Finished Epoch 1 || Run Time:   16.6 | Load Time:   13.2 || F1:  49.14 | Prec:  41.09 | Rec:  61.11 || Ex/s: 248.41\n",
            "\n",
            "===>  EVAL Epoch 1\n"
          ]
        },
        {
          "output_type": "stream",
          "name": "stderr",
          "text": [
            "0% [███████████████] 100% | ETA: 00:00:00\n",
            "Total time elapsed: 00:00:07\n"
          ]
        },
        {
          "output_type": "stream",
          "name": "stdout",
          "text": [
            "Finished Epoch 1 || Run Time:    3.2 | Load Time:    4.1 || F1:  76.74 | Prec:  74.16 | Rec:  79.50 || Ex/s: 336.00\n",
            "\n",
            "* Best F1: tensor(76.7391, device='cuda:0')\n",
            "Saving best model...\n",
            "Done.\n",
            "---------------------\n",
            "\n",
            "===>  TRAIN Epoch 2\n"
          ]
        },
        {
          "output_type": "stream",
          "name": "stderr",
          "text": [
            "0% [██████████████████████████████] 100% | ETA: 00:00:00\n",
            "Total time elapsed: 00:00:29\n"
          ]
        },
        {
          "output_type": "stream",
          "name": "stdout",
          "text": [
            "Finished Epoch 2 || Run Time:   16.3 | Load Time:   13.1 || F1:  77.58 | Prec:  70.24 | Rec:  86.64 || Ex/s: 251.62\n",
            "\n",
            "===>  EVAL Epoch 2\n"
          ]
        },
        {
          "output_type": "stream",
          "name": "stderr",
          "text": [
            "0% [███████████████] 100% | ETA: 00:00:00\n",
            "Total time elapsed: 00:00:07\n"
          ]
        },
        {
          "output_type": "stream",
          "name": "stdout",
          "text": [
            "Finished Epoch 2 || Run Time:    3.2 | Load Time:    4.2 || F1:  79.92 | Prec:  72.69 | Rec:  88.74 || Ex/s: 333.63\n",
            "\n",
            "* Best F1: tensor(79.9189, device='cuda:0')\n",
            "Saving best model...\n",
            "Done.\n",
            "---------------------\n",
            "\n",
            "===>  TRAIN Epoch 3\n"
          ]
        },
        {
          "output_type": "stream",
          "name": "stderr",
          "text": [
            "0% [██████████████████████████████] 100% | ETA: 00:00:00\n",
            "Total time elapsed: 00:00:29\n"
          ]
        },
        {
          "output_type": "stream",
          "name": "stdout",
          "text": [
            "Finished Epoch 3 || Run Time:   16.3 | Load Time:   13.1 || F1:  83.42 | Prec:  76.70 | Rec:  91.44 || Ex/s: 252.45\n",
            "\n",
            "===>  EVAL Epoch 3\n"
          ]
        },
        {
          "output_type": "stream",
          "name": "stderr",
          "text": [
            "0% [███████████████] 100% | ETA: 00:00:00\n",
            "Total time elapsed: 00:00:07\n"
          ]
        },
        {
          "output_type": "stream",
          "name": "stdout",
          "text": [
            "Finished Epoch 3 || Run Time:    3.3 | Load Time:    4.3 || F1:  81.75 | Prec:  76.12 | Rec:  88.29 || Ex/s: 322.44\n",
            "\n",
            "* Best F1: tensor(81.7518, device='cuda:0')\n",
            "Saving best model...\n",
            "Done.\n",
            "---------------------\n",
            "\n",
            "===>  TRAIN Epoch 4\n"
          ]
        },
        {
          "output_type": "stream",
          "name": "stderr",
          "text": [
            "0% [██████████████████████████████] 100% | ETA: 00:00:00\n",
            "Total time elapsed: 00:00:29\n"
          ]
        },
        {
          "output_type": "stream",
          "name": "stdout",
          "text": [
            "Finished Epoch 4 || Run Time:   16.6 | Load Time:   13.2 || F1:  85.94 | Prec:  79.92 | Rec:  92.94 || Ex/s: 248.83\n",
            "\n",
            "===>  EVAL Epoch 4\n"
          ]
        },
        {
          "output_type": "stream",
          "name": "stderr",
          "text": [
            "0% [███████████████] 100% | ETA: 00:00:00\n",
            "Total time elapsed: 00:00:07\n"
          ]
        },
        {
          "output_type": "stream",
          "name": "stdout",
          "text": [
            "Finished Epoch 4 || Run Time:    3.4 | Load Time:    4.2 || F1:  82.52 | Prec:  78.34 | Rec:  87.16 || Ex/s: 327.01\n",
            "\n",
            "* Best F1: tensor(82.5160, device='cuda:0')\n",
            "Saving best model...\n",
            "Done.\n",
            "---------------------\n",
            "\n",
            "===>  TRAIN Epoch 5\n"
          ]
        },
        {
          "output_type": "stream",
          "name": "stderr",
          "text": [
            "0% [██████████████████████████████] 100% | ETA: 00:00:00\n",
            "Total time elapsed: 00:00:30\n"
          ]
        },
        {
          "output_type": "stream",
          "name": "stdout",
          "text": [
            "Finished Epoch 5 || Run Time:   17.0 | Load Time:   13.3 || F1:  88.44 | Prec:  83.15 | Rec:  94.44 || Ex/s: 244.14\n",
            "\n",
            "===>  EVAL Epoch 5\n"
          ]
        },
        {
          "output_type": "stream",
          "name": "stderr",
          "text": [
            "0% [███████████████] 100% | ETA: 00:00:00\n",
            "Total time elapsed: 00:00:07\n"
          ]
        },
        {
          "output_type": "stream",
          "name": "stdout",
          "text": [
            "Finished Epoch 5 || Run Time:    3.3 | Load Time:    4.2 || F1:  82.89 | Prec:  84.54 | Rec:  81.31 || Ex/s: 326.82\n",
            "\n",
            "* Best F1: tensor(82.8932, device='cuda:0')\n",
            "Saving best model...\n",
            "Done.\n",
            "---------------------\n",
            "\n",
            "===>  TRAIN Epoch 6\n"
          ]
        },
        {
          "output_type": "stream",
          "name": "stderr",
          "text": [
            "0% [██████████████████████████████] 100% | ETA: 00:00:00\n",
            "Total time elapsed: 00:00:30\n"
          ]
        },
        {
          "output_type": "stream",
          "name": "stdout",
          "text": [
            "Finished Epoch 6 || Run Time:   17.1 | Load Time:   13.4 || F1:  90.31 | Prec:  85.66 | Rec:  95.50 || Ex/s: 242.94\n",
            "\n",
            "===>  EVAL Epoch 6\n"
          ]
        },
        {
          "output_type": "stream",
          "name": "stderr",
          "text": [
            "0% [███████████████] 100% | ETA: 00:00:00\n",
            "Total time elapsed: 00:00:07\n"
          ]
        },
        {
          "output_type": "stream",
          "name": "stdout",
          "text": [
            "Finished Epoch 6 || Run Time:    3.2 | Load Time:    4.2 || F1:  82.14 | Prec:  87.12 | Rec:  77.70 || Ex/s: 335.49\n",
            "\n",
            "---------------------\n",
            "\n",
            "===>  TRAIN Epoch 7\n"
          ]
        },
        {
          "output_type": "stream",
          "name": "stderr",
          "text": [
            "0% [██████████████████████████████] 100% | ETA: 00:00:00\n",
            "Total time elapsed: 00:00:29\n"
          ]
        },
        {
          "output_type": "stream",
          "name": "stdout",
          "text": [
            "Finished Epoch 7 || Run Time:   16.4 | Load Time:   13.1 || F1:  91.69 | Prec:  87.67 | Rec:  96.10 || Ex/s: 251.48\n",
            "\n",
            "===>  EVAL Epoch 7\n"
          ]
        },
        {
          "output_type": "stream",
          "name": "stderr",
          "text": [
            "0% [███████████████] 100% | ETA: 00:00:00\n",
            "Total time elapsed: 00:00:07\n"
          ]
        },
        {
          "output_type": "stream",
          "name": "stdout",
          "text": [
            "Finished Epoch 7 || Run Time:    3.3 | Load Time:    4.2 || F1:  83.10 | Prec:  80.55 | Rec:  85.81 || Ex/s: 330.70\n",
            "\n",
            "* Best F1: tensor(83.0971, device='cuda:0')\n",
            "Saving best model...\n",
            "Done.\n",
            "---------------------\n",
            "\n",
            "===>  TRAIN Epoch 8\n"
          ]
        },
        {
          "output_type": "stream",
          "name": "stderr",
          "text": [
            "0% [██████████████████████████████] 100% | ETA: 00:00:00\n",
            "Total time elapsed: 00:00:29\n"
          ]
        },
        {
          "output_type": "stream",
          "name": "stdout",
          "text": [
            "Finished Epoch 8 || Run Time:   16.8 | Load Time:   13.2 || F1:  93.26 | Prec:  90.13 | Rec:  96.62 || Ex/s: 246.90\n",
            "\n",
            "===>  EVAL Epoch 8\n"
          ]
        },
        {
          "output_type": "stream",
          "name": "stderr",
          "text": [
            "0% [███████████████] 100% | ETA: 00:00:00\n",
            "Total time elapsed: 00:00:07\n"
          ]
        },
        {
          "output_type": "stream",
          "name": "stdout",
          "text": [
            "Finished Epoch 8 || Run Time:    3.3 | Load Time:    4.2 || F1:  82.87 | Prec:  78.98 | Rec:  87.16 || Ex/s: 330.77\n",
            "\n",
            "---------------------\n",
            "\n",
            "===>  TRAIN Epoch 9\n"
          ]
        },
        {
          "output_type": "stream",
          "name": "stderr",
          "text": [
            "0% [██████████████████████████████] 100% | ETA: 00:00:00\n",
            "Total time elapsed: 00:00:29\n"
          ]
        },
        {
          "output_type": "stream",
          "name": "stdout",
          "text": [
            "Finished Epoch 9 || Run Time:   16.8 | Load Time:   13.2 || F1:  95.23 | Prec:  93.11 | Rec:  97.45 || Ex/s: 247.57\n",
            "\n",
            "===>  EVAL Epoch 9\n"
          ]
        },
        {
          "output_type": "stream",
          "name": "stderr",
          "text": [
            "0% [███████████████] 100% | ETA: 00:00:00\n",
            "Total time elapsed: 00:00:07\n"
          ]
        },
        {
          "output_type": "stream",
          "name": "stdout",
          "text": [
            "Finished Epoch 9 || Run Time:    3.3 | Load Time:    4.2 || F1:  82.40 | Prec:  80.04 | Rec:  84.91 || Ex/s: 327.12\n",
            "\n",
            "---------------------\n",
            "\n",
            "===>  TRAIN Epoch 10\n"
          ]
        },
        {
          "output_type": "stream",
          "name": "stderr",
          "text": [
            "0% [██████████████████████████████] 100% | ETA: 00:00:00\n",
            "Total time elapsed: 00:00:29\n"
          ]
        },
        {
          "output_type": "stream",
          "name": "stdout",
          "text": [
            "Finished Epoch 10 || Run Time:   16.6 | Load Time:   13.1 || F1:  95.70 | Prec:  93.67 | Rec:  97.82 || Ex/s: 250.03\n",
            "\n",
            "===>  EVAL Epoch 10\n"
          ]
        },
        {
          "output_type": "stream",
          "name": "stderr",
          "text": [
            "0% [███████████████] 100% | ETA: 00:00:00\n",
            "Total time elapsed: 00:00:07\n"
          ]
        },
        {
          "output_type": "stream",
          "name": "stdout",
          "text": [
            "Finished Epoch 10 || Run Time:    3.2 | Load Time:    4.2 || F1:  82.39 | Prec:  78.30 | Rec:  86.94 || Ex/s: 332.46\n",
            "\n",
            "---------------------\n",
            "\n",
            "===>  TRAIN Epoch 11\n"
          ]
        },
        {
          "output_type": "stream",
          "name": "stderr",
          "text": [
            "0% [██████████████████████████████] 100% | ETA: 00:00:00\n",
            "Total time elapsed: 00:00:29\n"
          ]
        },
        {
          "output_type": "stream",
          "name": "stdout",
          "text": [
            "Finished Epoch 11 || Run Time:   16.8 | Load Time:   13.4 || F1:  95.93 | Prec:  93.83 | Rec:  98.12 || Ex/s: 246.05\n",
            "\n",
            "===>  EVAL Epoch 11\n"
          ]
        },
        {
          "output_type": "stream",
          "name": "stderr",
          "text": [
            "0% [███████████████] 100% | ETA: 00:00:00\n",
            "Total time elapsed: 00:00:07\n"
          ]
        },
        {
          "output_type": "stream",
          "name": "stdout",
          "text": [
            "Finished Epoch 11 || Run Time:    3.2 | Load Time:    4.2 || F1:  81.45 | Prec:  75.43 | Rec:  88.51 || Ex/s: 332.29\n",
            "\n",
            "---------------------\n",
            "\n",
            "===>  TRAIN Epoch 12\n"
          ]
        },
        {
          "output_type": "stream",
          "name": "stderr",
          "text": [
            "0% [██████████████████████████████] 100% | ETA: 00:00:00\n",
            "Total time elapsed: 00:00:29\n"
          ]
        },
        {
          "output_type": "stream",
          "name": "stdout",
          "text": [
            "Finished Epoch 12 || Run Time:   16.4 | Load Time:   13.1 || F1:  95.62 | Prec:  93.04 | Rec:  98.35 || Ex/s: 251.51\n",
            "\n",
            "===>  EVAL Epoch 12\n"
          ]
        },
        {
          "output_type": "stream",
          "name": "stderr",
          "text": [
            "0% [███████████████] 100% | ETA: 00:00:00\n",
            "Total time elapsed: 00:00:07\n"
          ]
        },
        {
          "output_type": "stream",
          "name": "stdout",
          "text": [
            "Finished Epoch 12 || Run Time:    3.3 | Load Time:    4.2 || F1:  81.83 | Prec:  75.92 | Rec:  88.74 || Ex/s: 332.28\n",
            "\n",
            "---------------------\n",
            "\n",
            "===>  TRAIN Epoch 13\n"
          ]
        },
        {
          "output_type": "stream",
          "name": "stderr",
          "text": [
            "0% [██████████████████████████████] 100% | ETA: 00:00:00\n",
            "Total time elapsed: 00:00:29\n"
          ]
        },
        {
          "output_type": "stream",
          "name": "stdout",
          "text": [
            "Finished Epoch 13 || Run Time:   16.3 | Load Time:   13.1 || F1:  96.40 | Prec:  94.45 | Rec:  98.42 || Ex/s: 251.96\n",
            "\n",
            "===>  EVAL Epoch 13\n"
          ]
        },
        {
          "output_type": "stream",
          "name": "stderr",
          "text": [
            "0% [███████████████] 100% | ETA: 00:00:00\n",
            "Total time elapsed: 00:00:07\n"
          ]
        },
        {
          "output_type": "stream",
          "name": "stdout",
          "text": [
            "Finished Epoch 13 || Run Time:    3.2 | Load Time:    4.2 || F1:  83.09 | Prec:  81.56 | Rec:  84.68 || Ex/s: 335.72\n",
            "\n",
            "---------------------\n",
            "\n",
            "===>  TRAIN Epoch 14\n"
          ]
        },
        {
          "output_type": "stream",
          "name": "stderr",
          "text": [
            "0% [██████████████████████████████] 100% | ETA: 00:00:00\n",
            "Total time elapsed: 00:00:29\n"
          ]
        },
        {
          "output_type": "stream",
          "name": "stdout",
          "text": [
            "Finished Epoch 14 || Run Time:   16.5 | Load Time:   13.1 || F1:  97.26 | Prec:  95.85 | Rec:  98.72 || Ex/s: 250.73\n",
            "\n",
            "===>  EVAL Epoch 14\n"
          ]
        },
        {
          "output_type": "stream",
          "name": "stderr",
          "text": [
            "0% [███████████████] 100% | ETA: 00:00:00\n",
            "Total time elapsed: 00:00:07\n"
          ]
        },
        {
          "output_type": "stream",
          "name": "stdout",
          "text": [
            "Finished Epoch 14 || Run Time:    3.2 | Load Time:    4.1 || F1:  83.35 | Prec:  81.64 | Rec:  85.14 || Ex/s: 334.64\n",
            "\n",
            "* Best F1: tensor(83.3517, device='cuda:0')\n",
            "Saving best model...\n",
            "Done.\n",
            "---------------------\n",
            "\n",
            "===>  TRAIN Epoch 15\n"
          ]
        },
        {
          "output_type": "stream",
          "name": "stderr",
          "text": [
            "0% [██████████████████████████████] 100% | ETA: 00:00:00\n",
            "Total time elapsed: 00:00:29\n"
          ]
        },
        {
          "output_type": "stream",
          "name": "stdout",
          "text": [
            "Finished Epoch 15 || Run Time:   16.4 | Load Time:   13.1 || F1:  97.66 | Prec:  96.48 | Rec:  98.87 || Ex/s: 251.14\n",
            "\n",
            "===>  EVAL Epoch 15\n"
          ]
        },
        {
          "output_type": "stream",
          "name": "stderr",
          "text": [
            "0% [███████████████] 100% | ETA: 00:00:00\n",
            "Total time elapsed: 00:00:07\n"
          ]
        },
        {
          "output_type": "stream",
          "name": "stdout",
          "text": [
            "Finished Epoch 15 || Run Time:    3.3 | Load Time:    4.4 || F1:  83.10 | Prec:  80.55 | Rec:  85.81 || Ex/s: 321.21\n",
            "\n",
            "---------------------\n",
            "\n",
            "Loading best model...\n",
            "Training done.\n"
          ]
        },
        {
          "output_type": "execute_result",
          "data": {
            "text/plain": [
              "tensor(83.3517, device='cuda:0')"
            ]
          },
          "metadata": {},
          "execution_count": 61
        }
      ],
      "source": [
        "model.run_train(\n",
        "    train,\n",
        "    validation,\n",
        "    epochs=15,\n",
        "    batch_size=32,\n",
        "    best_save_path='attention_model.pth',\n",
        "    pos_neg_ratio=3)"
      ]
    },
    {
      "cell_type": "code",
      "execution_count": 62,
      "metadata": {
        "id": "oxv_PpwD75CO",
        "colab": {
          "base_uri": "https://localhost:8080/"
        },
        "outputId": "3a9f2c0b-566d-4291-8f6f-276ca386cce2"
      },
      "outputs": [
        {
          "output_type": "stream",
          "name": "stdout",
          "text": [
            "===>  EVAL Epoch 14\n"
          ]
        },
        {
          "output_type": "stream",
          "name": "stderr",
          "text": [
            "/usr/local/lib/python3.7/dist-packages/torch/nn/modules/module.py:974: UserWarning: Using a non-full backward hook when the forward contains multiple autograd Nodes is deprecated and will be removed in future versions. This hook will be missing some grad_input. Please use register_full_backward_hook to get the documented behavior.\n",
            "  warnings.warn(\"Using a non-full backward hook when the forward contains multiple autograd Nodes \"\n",
            "/usr/local/lib/python3.7/dist-packages/torch/nn/modules/module.py:949: UserWarning: Using non-full backward hooks on a Module that does not take as input a single Tensor or a tuple of Tensors is deprecated and will be removed in future versions. This hook will be missing some of the grad_input. Please use register_full_backward_hook to get the documented behavior.\n",
            "  warnings.warn(\"Using non-full backward hooks on a Module that does not take as input a \"\n",
            "/usr/local/lib/python3.7/dist-packages/torch/nn/modules/module.py:939: UserWarning: Using non-full backward hooks on a Module that does not return a single Tensor or a tuple of Tensors is deprecated and will be removed in future versions. This hook will be missing some of the grad_output. Please use register_full_backward_hook to get the documented behavior.\n",
            "  warnings.warn(\"Using non-full backward hooks on a Module that does not return a \"\n",
            "0% [███████████████] 100% | ETA: 00:00:00\n",
            "Total time elapsed: 00:00:07\n"
          ]
        },
        {
          "output_type": "stream",
          "name": "stdout",
          "text": [
            "Finished Epoch 14 || Run Time:    3.3 | Load Time:    4.1 || F1:  83.58 | Prec:  82.93 | Rec:  84.23 || Ex/s: 336.30\n",
            "\n"
          ]
        },
        {
          "output_type": "execute_result",
          "data": {
            "text/plain": [
              "tensor(83.5754, device='cuda:0')"
            ]
          },
          "metadata": {},
          "execution_count": 62
        }
      ],
      "source": [
        "# Compute F1 on test set\n",
        "model.run_eval(test)"
      ]
    },
    {
      "cell_type": "markdown",
      "metadata": {
        "id": "Cp1J6BdH75CP"
      },
      "source": [
        "##### DBLP-GoogleScholar"
      ]
    },
    {
      "cell_type": "code",
      "execution_count": 63,
      "metadata": {
        "id": "aZ4UKkgV75CP"
      },
      "outputs": [],
      "source": [
        "train, validation, test = dm.data.process(\n",
        "    path='/content/IC/datasesErros/ADirty_90_3_5/Dirty/DBLP-GoogleScholar//',\n",
        "    train='joined_train.csv',\n",
        "    validation='joined_valid.csv',\n",
        "    test='joined_test.csv')"
      ]
    },
    {
      "cell_type": "code",
      "execution_count": 64,
      "metadata": {
        "id": "TLjDl_e_75CP"
      },
      "outputs": [],
      "source": [
        "model = dm.MatchingModel(attr_summarizer='attention')"
      ]
    },
    {
      "cell_type": "code",
      "execution_count": 65,
      "metadata": {
        "id": "WKDMNhYI75CQ",
        "colab": {
          "base_uri": "https://localhost:8080/"
        },
        "outputId": "57decbc8-7c25-4c3b-a37f-0445451ad3d9"
      },
      "outputs": [
        {
          "output_type": "stream",
          "name": "stdout",
          "text": [
            "* Number of trainable parameters: 4332002\n",
            "===>  TRAIN Epoch 1\n"
          ]
        },
        {
          "output_type": "stream",
          "name": "stderr",
          "text": [
            "/usr/local/lib/python3.7/dist-packages/torch/nn/modules/module.py:974: UserWarning: Using a non-full backward hook when the forward contains multiple autograd Nodes is deprecated and will be removed in future versions. This hook will be missing some grad_input. Please use register_full_backward_hook to get the documented behavior.\n",
            "  warnings.warn(\"Using a non-full backward hook when the forward contains multiple autograd Nodes \"\n",
            "/usr/local/lib/python3.7/dist-packages/torch/nn/modules/module.py:949: UserWarning: Using non-full backward hooks on a Module that does not take as input a single Tensor or a tuple of Tensors is deprecated and will be removed in future versions. This hook will be missing some of the grad_input. Please use register_full_backward_hook to get the documented behavior.\n",
            "  warnings.warn(\"Using non-full backward hooks on a Module that does not take as input a \"\n",
            "/usr/local/lib/python3.7/dist-packages/torch/nn/modules/module.py:939: UserWarning: Using non-full backward hooks on a Module that does not return a single Tensor or a tuple of Tensors is deprecated and will be removed in future versions. This hook will be missing some of the grad_output. Please use register_full_backward_hook to get the documented behavior.\n",
            "  warnings.warn(\"Using non-full backward hooks on a Module that does not return a \"\n",
            "/usr/local/lib/python3.7/dist-packages/torch/nn/functional.py:2742: UserWarning: reduction: 'mean' divides the total loss by both the batch size and the support size.'batchmean' divides only by the batch size, and aligns with the KL div math definition.'mean' will be changed to behave the same as 'batchmean' in the next major release.\n",
            "  \"reduction: 'mean' divides the total loss by both the batch size and the support size.\"\n",
            "0% [██████████████████████████████] 100% | ETA: 00:00:00\n",
            "Total time elapsed: 00:01:02\n"
          ]
        },
        {
          "output_type": "stream",
          "name": "stdout",
          "text": [
            "Finished Epoch 1 || Run Time:   36.4 | Load Time:   26.2 || F1:  62.66 | Prec:  54.09 | Rec:  74.46 || Ex/s: 274.88\n",
            "\n",
            "===>  EVAL Epoch 1\n"
          ]
        },
        {
          "output_type": "stream",
          "name": "stderr",
          "text": [
            "0% [██████████████████████████████] 100% | ETA: 00:00:00\n",
            "Total time elapsed: 00:00:15\n"
          ]
        },
        {
          "output_type": "stream",
          "name": "stdout",
          "text": [
            "Finished Epoch 1 || Run Time:    7.2 | Load Time:    8.2 || F1:  74.14 | Prec:  65.77 | Rec:  84.95 || Ex/s: 372.10\n",
            "\n",
            "* Best F1: tensor(74.1436, device='cuda:0')\n",
            "Saving best model...\n",
            "Done.\n",
            "---------------------\n",
            "\n",
            "===>  TRAIN Epoch 2\n"
          ]
        },
        {
          "output_type": "stream",
          "name": "stderr",
          "text": [
            "0% [██████████████████████████████] 100% | ETA: 00:00:00\n",
            "Total time elapsed: 00:01:01\n"
          ]
        },
        {
          "output_type": "stream",
          "name": "stdout",
          "text": [
            "Finished Epoch 2 || Run Time:   36.3 | Load Time:   26.1 || F1:  77.09 | Prec:  69.29 | Rec:  86.87 || Ex/s: 276.35\n",
            "\n",
            "===>  EVAL Epoch 2\n"
          ]
        },
        {
          "output_type": "stream",
          "name": "stderr",
          "text": [
            "0% [██████████████████████████████] 100% | ETA: 00:00:00\n",
            "Total time elapsed: 00:00:15\n"
          ]
        },
        {
          "output_type": "stream",
          "name": "stdout",
          "text": [
            "Finished Epoch 2 || Run Time:    7.3 | Load Time:    8.2 || F1:  75.22 | Prec:  64.28 | Rec:  90.65 || Ex/s: 371.02\n",
            "\n",
            "* Best F1: tensor(75.2230, device='cuda:0')\n",
            "Saving best model...\n",
            "Done.\n",
            "---------------------\n",
            "\n",
            "===>  TRAIN Epoch 3\n"
          ]
        },
        {
          "output_type": "stream",
          "name": "stderr",
          "text": [
            "0% [██████████████████████████████] 100% | ETA: 00:00:00\n",
            "Total time elapsed: 00:01:03\n"
          ]
        },
        {
          "output_type": "stream",
          "name": "stdout",
          "text": [
            "Finished Epoch 3 || Run Time:   37.2 | Load Time:   26.4 || F1:  81.24 | Prec:  74.07 | Rec:  89.96 || Ex/s: 271.03\n",
            "\n",
            "===>  EVAL Epoch 3\n"
          ]
        },
        {
          "output_type": "stream",
          "name": "stderr",
          "text": [
            "0% [██████████████████████████████] 100% | ETA: 00:00:00\n",
            "Total time elapsed: 00:00:15\n"
          ]
        },
        {
          "output_type": "stream",
          "name": "stdout",
          "text": [
            "Finished Epoch 3 || Run Time:    7.4 | Load Time:    8.2 || F1:  76.75 | Prec:  66.19 | Rec:  91.31 || Ex/s: 367.34\n",
            "\n",
            "* Best F1: tensor(76.7478, device='cuda:0')\n",
            "Saving best model...\n",
            "Done.\n",
            "---------------------\n",
            "\n",
            "===>  TRAIN Epoch 4\n"
          ]
        },
        {
          "output_type": "stream",
          "name": "stderr",
          "text": [
            "0% [██████████████████████████████] 100% | ETA: 00:00:00\n",
            "Total time elapsed: 00:01:02\n"
          ]
        },
        {
          "output_type": "stream",
          "name": "stdout",
          "text": [
            "Finished Epoch 4 || Run Time:   36.6 | Load Time:   26.3 || F1:  84.27 | Prec:  77.58 | Rec:  92.24 || Ex/s: 273.94\n",
            "\n",
            "===>  EVAL Epoch 4\n"
          ]
        },
        {
          "output_type": "stream",
          "name": "stderr",
          "text": [
            "0% [██████████████████████████████] 100% | ETA: 00:00:00\n",
            "Total time elapsed: 00:00:15\n"
          ]
        },
        {
          "output_type": "stream",
          "name": "stdout",
          "text": [
            "Finished Epoch 4 || Run Time:    7.2 | Load Time:    8.1 || F1:  78.64 | Prec:  69.23 | Rec:  91.03 || Ex/s: 375.60\n",
            "\n",
            "* Best F1: tensor(78.6435, device='cuda:0')\n",
            "Saving best model...\n",
            "Done.\n",
            "---------------------\n",
            "\n",
            "===>  TRAIN Epoch 5\n"
          ]
        },
        {
          "output_type": "stream",
          "name": "stderr",
          "text": [
            "0% [██████████████████████████████] 100% | ETA: 00:00:00\n",
            "Total time elapsed: 00:01:02\n"
          ]
        },
        {
          "output_type": "stream",
          "name": "stdout",
          "text": [
            "Finished Epoch 5 || Run Time:   36.9 | Load Time:   26.3 || F1:  86.29 | Prec:  80.33 | Rec:  93.20 || Ex/s: 272.62\n",
            "\n",
            "===>  EVAL Epoch 5\n"
          ]
        },
        {
          "output_type": "stream",
          "name": "stderr",
          "text": [
            "0% [██████████████████████████████] 100% | ETA: 00:00:00\n",
            "Total time elapsed: 00:00:15\n"
          ]
        },
        {
          "output_type": "stream",
          "name": "stdout",
          "text": [
            "Finished Epoch 5 || Run Time:    7.3 | Load Time:    8.2 || F1:  76.74 | Prec:  65.65 | Rec:  92.34 || Ex/s: 369.48\n",
            "\n",
            "---------------------\n",
            "\n",
            "===>  TRAIN Epoch 6\n"
          ]
        },
        {
          "output_type": "stream",
          "name": "stderr",
          "text": [
            "0% [██████████████████████████████] 100% | ETA: 00:00:00\n",
            "Total time elapsed: 00:01:02\n"
          ]
        },
        {
          "output_type": "stream",
          "name": "stdout",
          "text": [
            "Finished Epoch 6 || Run Time:   36.4 | Load Time:   26.2 || F1:  86.17 | Prec:  80.45 | Rec:  92.77 || Ex/s: 275.19\n",
            "\n",
            "===>  EVAL Epoch 6\n"
          ]
        },
        {
          "output_type": "stream",
          "name": "stderr",
          "text": [
            "0% [██████████████████████████████] 100% | ETA: 00:00:00\n",
            "Total time elapsed: 00:00:15\n"
          ]
        },
        {
          "output_type": "stream",
          "name": "stdout",
          "text": [
            "Finished Epoch 6 || Run Time:    7.1 | Load Time:    8.1 || F1:  75.79 | Prec:  64.64 | Rec:  91.59 || Ex/s: 375.92\n",
            "\n",
            "---------------------\n",
            "\n",
            "===>  TRAIN Epoch 7\n"
          ]
        },
        {
          "output_type": "stream",
          "name": "stderr",
          "text": [
            "0% [██████████████████████████████] 100% | ETA: 00:00:00\n",
            "Total time elapsed: 00:01:02\n"
          ]
        },
        {
          "output_type": "stream",
          "name": "stdout",
          "text": [
            "Finished Epoch 7 || Run Time:   36.4 | Load Time:   26.2 || F1:  87.23 | Prec:  81.65 | Rec:  93.64 || Ex/s: 275.18\n",
            "\n",
            "===>  EVAL Epoch 7\n"
          ]
        },
        {
          "output_type": "stream",
          "name": "stderr",
          "text": [
            "0% [██████████████████████████████] 100% | ETA: 00:00:00\n",
            "Total time elapsed: 00:00:15\n"
          ]
        },
        {
          "output_type": "stream",
          "name": "stdout",
          "text": [
            "Finished Epoch 7 || Run Time:    7.2 | Load Time:    8.2 || F1:  77.51 | Prec:  68.61 | Rec:  89.07 || Ex/s: 374.14\n",
            "\n",
            "---------------------\n",
            "\n",
            "===>  TRAIN Epoch 8\n"
          ]
        },
        {
          "output_type": "stream",
          "name": "stderr",
          "text": [
            "0% [██████████████████████████████] 100% | ETA: 00:00:00\n",
            "Total time elapsed: 00:01:01\n"
          ]
        },
        {
          "output_type": "stream",
          "name": "stdout",
          "text": [
            "Finished Epoch 8 || Run Time:   36.2 | Load Time:   26.1 || F1:  88.46 | Prec:  83.11 | Rec:  94.54 || Ex/s: 276.57\n",
            "\n",
            "===>  EVAL Epoch 8\n"
          ]
        },
        {
          "output_type": "stream",
          "name": "stderr",
          "text": [
            "0% [██████████████████████████████] 100% | ETA: 00:00:00\n",
            "Total time elapsed: 00:00:15\n"
          ]
        },
        {
          "output_type": "stream",
          "name": "stdout",
          "text": [
            "Finished Epoch 8 || Run Time:    7.3 | Load Time:    8.3 || F1:  79.02 | Prec:  71.81 | Rec:  87.85 || Ex/s: 367.49\n",
            "\n",
            "* Best F1: tensor(79.0248, device='cuda:0')\n",
            "Saving best model...\n",
            "Done.\n",
            "---------------------\n",
            "\n",
            "===>  TRAIN Epoch 9\n"
          ]
        },
        {
          "output_type": "stream",
          "name": "stderr",
          "text": [
            "0% [██████████████████████████████] 100% | ETA: 00:00:00\n",
            "Total time elapsed: 00:01:02\n"
          ]
        },
        {
          "output_type": "stream",
          "name": "stdout",
          "text": [
            "Finished Epoch 9 || Run Time:   36.4 | Load Time:   26.2 || F1:  90.11 | Prec:  85.36 | Rec:  95.42 || Ex/s: 275.14\n",
            "\n",
            "===>  EVAL Epoch 9\n"
          ]
        },
        {
          "output_type": "stream",
          "name": "stderr",
          "text": [
            "0% [██████████████████████████████] 100% | ETA: 00:00:00\n",
            "Total time elapsed: 00:00:15\n"
          ]
        },
        {
          "output_type": "stream",
          "name": "stdout",
          "text": [
            "Finished Epoch 9 || Run Time:    7.2 | Load Time:    8.2 || F1:  78.60 | Prec:  73.13 | Rec:  84.95 || Ex/s: 373.68\n",
            "\n",
            "---------------------\n",
            "\n",
            "===>  TRAIN Epoch 10\n"
          ]
        },
        {
          "output_type": "stream",
          "name": "stderr",
          "text": [
            "0% [██████████████████████████████] 100% | ETA: 00:00:00\n",
            "Total time elapsed: 00:01:02\n"
          ]
        },
        {
          "output_type": "stream",
          "name": "stdout",
          "text": [
            "Finished Epoch 10 || Run Time:   36.4 | Load Time:   26.2 || F1:  91.34 | Prec:  87.08 | Rec:  96.04 || Ex/s: 274.80\n",
            "\n",
            "===>  EVAL Epoch 10\n"
          ]
        },
        {
          "output_type": "stream",
          "name": "stderr",
          "text": [
            "0% [██████████████████████████████] 100% | ETA: 00:00:00\n",
            "Total time elapsed: 00:00:15\n"
          ]
        },
        {
          "output_type": "stream",
          "name": "stdout",
          "text": [
            "Finished Epoch 10 || Run Time:    7.2 | Load Time:    8.2 || F1:  78.11 | Prec:  72.35 | Rec:  84.86 || Ex/s: 373.18\n",
            "\n",
            "---------------------\n",
            "\n",
            "===>  TRAIN Epoch 11\n"
          ]
        },
        {
          "output_type": "stream",
          "name": "stderr",
          "text": [
            "0% [██████████████████████████████] 100% | ETA: 00:00:00\n",
            "Total time elapsed: 00:01:02\n"
          ]
        },
        {
          "output_type": "stream",
          "name": "stdout",
          "text": [
            "Finished Epoch 11 || Run Time:   36.5 | Load Time:   26.3 || F1:  92.58 | Prec:  88.78 | Rec:  96.73 || Ex/s: 274.55\n",
            "\n",
            "===>  EVAL Epoch 11\n"
          ]
        },
        {
          "output_type": "stream",
          "name": "stderr",
          "text": [
            "0% [██████████████████████████████] 100% | ETA: 00:00:00\n",
            "Total time elapsed: 00:00:15\n"
          ]
        },
        {
          "output_type": "stream",
          "name": "stdout",
          "text": [
            "Finished Epoch 11 || Run Time:    7.2 | Load Time:    8.1 || F1:  78.52 | Prec:  74.35 | Rec:  83.18 || Ex/s: 374.06\n",
            "\n",
            "---------------------\n",
            "\n",
            "===>  TRAIN Epoch 12\n"
          ]
        },
        {
          "output_type": "stream",
          "name": "stderr",
          "text": [
            "0% [██████████████████████████████] 100% | ETA: 00:00:00\n",
            "Total time elapsed: 00:01:02\n"
          ]
        },
        {
          "output_type": "stream",
          "name": "stdout",
          "text": [
            "Finished Epoch 12 || Run Time:   36.5 | Load Time:   26.2 || F1:  93.21 | Prec:  89.61 | Rec:  97.10 || Ex/s: 274.56\n",
            "\n",
            "===>  EVAL Epoch 12\n"
          ]
        },
        {
          "output_type": "stream",
          "name": "stderr",
          "text": [
            "0% [██████████████████████████████] 100% | ETA: 00:00:00\n",
            "Total time elapsed: 00:00:15\n"
          ]
        },
        {
          "output_type": "stream",
          "name": "stdout",
          "text": [
            "Finished Epoch 12 || Run Time:    7.2 | Load Time:    8.2 || F1:  78.79 | Prec:  76.50 | Rec:  81.21 || Ex/s: 374.59\n",
            "\n",
            "---------------------\n",
            "\n",
            "===>  TRAIN Epoch 13\n"
          ]
        },
        {
          "output_type": "stream",
          "name": "stderr",
          "text": [
            "0% [██████████████████████████████] 100% | ETA: 00:00:00\n",
            "Total time elapsed: 00:01:02\n"
          ]
        },
        {
          "output_type": "stream",
          "name": "stdout",
          "text": [
            "Finished Epoch 13 || Run Time:   36.6 | Load Time:   26.2 || F1:  93.90 | Prec:  90.61 | Rec:  97.44 || Ex/s: 274.06\n",
            "\n",
            "===>  EVAL Epoch 13\n"
          ]
        },
        {
          "output_type": "stream",
          "name": "stderr",
          "text": [
            "0% [██████████████████████████████] 100% | ETA: 00:00:00\n",
            "Total time elapsed: 00:00:15\n"
          ]
        },
        {
          "output_type": "stream",
          "name": "stdout",
          "text": [
            "Finished Epoch 13 || Run Time:    7.1 | Load Time:    8.2 || F1:  79.05 | Prec:  77.09 | Rec:  81.12 || Ex/s: 375.02\n",
            "\n",
            "* Best F1: tensor(79.0528, device='cuda:0')\n",
            "Saving best model...\n",
            "Done.\n",
            "---------------------\n",
            "\n",
            "===>  TRAIN Epoch 14\n"
          ]
        },
        {
          "output_type": "stream",
          "name": "stderr",
          "text": [
            "0% [██████████████████████████████] 100% | ETA: 00:00:00\n",
            "Total time elapsed: 00:01:02\n"
          ]
        },
        {
          "output_type": "stream",
          "name": "stdout",
          "text": [
            "Finished Epoch 14 || Run Time:   36.4 | Load Time:   26.2 || F1:  94.74 | Prec:  91.88 | Rec:  97.79 || Ex/s: 274.96\n",
            "\n",
            "===>  EVAL Epoch 14\n"
          ]
        },
        {
          "output_type": "stream",
          "name": "stderr",
          "text": [
            "0% [██████████████████████████████] 100% | ETA: 00:00:00\n",
            "Total time elapsed: 00:00:15\n"
          ]
        },
        {
          "output_type": "stream",
          "name": "stdout",
          "text": [
            "Finished Epoch 14 || Run Time:    7.2 | Load Time:    8.2 || F1:  79.43 | Prec:  75.55 | Rec:  83.74 || Ex/s: 374.43\n",
            "\n",
            "* Best F1: tensor(79.4326, device='cuda:0')\n",
            "Saving best model...\n",
            "Done.\n",
            "---------------------\n",
            "\n",
            "===>  TRAIN Epoch 15\n"
          ]
        },
        {
          "output_type": "stream",
          "name": "stderr",
          "text": [
            "0% [██████████████████████████████] 100% | ETA: 00:00:00\n",
            "Total time elapsed: 00:01:01\n"
          ]
        },
        {
          "output_type": "stream",
          "name": "stdout",
          "text": [
            "Finished Epoch 15 || Run Time:   36.3 | Load Time:   26.1 || F1:  95.37 | Prec:  92.98 | Rec:  97.88 || Ex/s: 275.81\n",
            "\n",
            "===>  EVAL Epoch 15\n"
          ]
        },
        {
          "output_type": "stream",
          "name": "stderr",
          "text": [
            "0% [██████████████████████████████] 100% | ETA: 00:00:00\n",
            "Total time elapsed: 00:00:15\n"
          ]
        },
        {
          "output_type": "stream",
          "name": "stdout",
          "text": [
            "Finished Epoch 15 || Run Time:    7.4 | Load Time:    8.3 || F1:  79.90 | Prec:  74.90 | Rec:  85.61 || Ex/s: 365.47\n",
            "\n",
            "* Best F1: tensor(79.8953, device='cuda:0')\n",
            "Saving best model...\n",
            "Done.\n",
            "---------------------\n",
            "\n",
            "Loading best model...\n",
            "Training done.\n"
          ]
        },
        {
          "output_type": "execute_result",
          "data": {
            "text/plain": [
              "tensor(79.8953, device='cuda:0')"
            ]
          },
          "metadata": {},
          "execution_count": 65
        }
      ],
      "source": [
        "model.run_train(\n",
        "    train,\n",
        "    validation,\n",
        "    epochs=15,\n",
        "    batch_size=32,\n",
        "    best_save_path='attention_model.pth',\n",
        "    pos_neg_ratio=3)"
      ]
    },
    {
      "cell_type": "code",
      "execution_count": 66,
      "metadata": {
        "id": "T5lYYwCe75CQ",
        "colab": {
          "base_uri": "https://localhost:8080/"
        },
        "outputId": "b34b7718-9b9a-41c6-9ae9-fc8b3eca4663"
      },
      "outputs": [
        {
          "output_type": "stream",
          "name": "stdout",
          "text": [
            "===>  EVAL Epoch 15\n"
          ]
        },
        {
          "output_type": "stream",
          "name": "stderr",
          "text": [
            "/usr/local/lib/python3.7/dist-packages/torch/nn/modules/module.py:974: UserWarning: Using a non-full backward hook when the forward contains multiple autograd Nodes is deprecated and will be removed in future versions. This hook will be missing some grad_input. Please use register_full_backward_hook to get the documented behavior.\n",
            "  warnings.warn(\"Using a non-full backward hook when the forward contains multiple autograd Nodes \"\n",
            "/usr/local/lib/python3.7/dist-packages/torch/nn/modules/module.py:949: UserWarning: Using non-full backward hooks on a Module that does not take as input a single Tensor or a tuple of Tensors is deprecated and will be removed in future versions. This hook will be missing some of the grad_input. Please use register_full_backward_hook to get the documented behavior.\n",
            "  warnings.warn(\"Using non-full backward hooks on a Module that does not take as input a \"\n",
            "/usr/local/lib/python3.7/dist-packages/torch/nn/modules/module.py:939: UserWarning: Using non-full backward hooks on a Module that does not return a single Tensor or a tuple of Tensors is deprecated and will be removed in future versions. This hook will be missing some of the grad_output. Please use register_full_backward_hook to get the documented behavior.\n",
            "  warnings.warn(\"Using non-full backward hooks on a Module that does not return a \"\n",
            "0% [██████████████████████████████] 100% | ETA: 00:00:00\n",
            "Total time elapsed: 00:00:15\n"
          ]
        },
        {
          "output_type": "stream",
          "name": "stdout",
          "text": [
            "Finished Epoch 15 || Run Time:    7.2 | Load Time:    8.3 || F1:  79.03 | Prec:  75.04 | Rec:  83.46 || Ex/s: 370.26\n",
            "\n"
          ]
        },
        {
          "output_type": "execute_result",
          "data": {
            "text/plain": [
              "tensor(79.0265, device='cuda:0')"
            ]
          },
          "metadata": {},
          "execution_count": 66
        }
      ],
      "source": [
        "# Compute F1 on test set\n",
        "model.run_eval(test)"
      ]
    },
    {
      "cell_type": "markdown",
      "metadata": {
        "id": "6KL5c0Ov8Zkv"
      },
      "source": [
        "### HYBRID"
      ]
    },
    {
      "cell_type": "markdown",
      "metadata": {
        "id": "A2FLzeDM8Zkv"
      },
      "source": [
        "#### STRUCTURED"
      ]
    },
    {
      "cell_type": "markdown",
      "metadata": {
        "id": "vP7EvOdZ8Zkw"
      },
      "source": [
        "##### Amazon-Google"
      ]
    },
    {
      "cell_type": "code",
      "execution_count": 67,
      "metadata": {
        "id": "yaP7hFJ_8Zkw"
      },
      "outputs": [],
      "source": [
        "train, validation, test = dm.data.process(\n",
        "    path='/content/IC/datasesErros/ADirty_90_3_5/Structured/Amazon-Google/',\n",
        "    train='joined_train.csv',\n",
        "    validation='joined_valid.csv',\n",
        "    test='joined_test.csv')"
      ]
    },
    {
      "cell_type": "code",
      "execution_count": 68,
      "metadata": {
        "id": "BF9iNYX-8Zkw"
      },
      "outputs": [],
      "source": [
        "model = dm.MatchingModel(attr_summarizer='hybrid')"
      ]
    },
    {
      "cell_type": "code",
      "execution_count": 69,
      "metadata": {
        "id": "DqQ6GU2W8Zkx",
        "colab": {
          "base_uri": "https://localhost:8080/"
        },
        "outputId": "f9a55bbe-ca32-47bb-e318-ff91a5921d0e"
      },
      "outputs": [
        {
          "output_type": "stream",
          "name": "stdout",
          "text": [
            "* Number of trainable parameters: 7133105\n",
            "===>  TRAIN Epoch 1\n"
          ]
        },
        {
          "output_type": "stream",
          "name": "stderr",
          "text": [
            "/usr/local/lib/python3.7/dist-packages/torch/nn/modules/module.py:949: UserWarning: Using non-full backward hooks on a Module that does not take as input a single Tensor or a tuple of Tensors is deprecated and will be removed in future versions. This hook will be missing some of the grad_input. Please use register_full_backward_hook to get the documented behavior.\n",
            "  warnings.warn(\"Using non-full backward hooks on a Module that does not take as input a \"\n",
            "/usr/local/lib/python3.7/dist-packages/torch/nn/modules/module.py:974: UserWarning: Using a non-full backward hook when the forward contains multiple autograd Nodes is deprecated and will be removed in future versions. This hook will be missing some grad_input. Please use register_full_backward_hook to get the documented behavior.\n",
            "  warnings.warn(\"Using a non-full backward hook when the forward contains multiple autograd Nodes \"\n",
            "/usr/local/lib/python3.7/dist-packages/torch/nn/modules/module.py:939: UserWarning: Using non-full backward hooks on a Module that does not return a single Tensor or a tuple of Tensors is deprecated and will be removed in future versions. This hook will be missing some of the grad_output. Please use register_full_backward_hook to get the documented behavior.\n",
            "  warnings.warn(\"Using non-full backward hooks on a Module that does not return a \"\n",
            "/usr/local/lib/python3.7/dist-packages/torch/nn/functional.py:2742: UserWarning: reduction: 'mean' divides the total loss by both the batch size and the support size.'batchmean' divides only by the batch size, and aligns with the KL div math definition.'mean' will be changed to behave the same as 'batchmean' in the next major release.\n",
            "  \"reduction: 'mean' divides the total loss by both the batch size and the support size.\"\n",
            "0% [██████████████████████████████] 100% | ETA: 00:00:00\n",
            "Total time elapsed: 00:00:22\n"
          ]
        },
        {
          "output_type": "stream",
          "name": "stdout",
          "text": [
            "Finished Epoch 1 || Run Time:   18.2 | Load Time:    4.6 || F1:  19.00 | Prec:  27.75 | Rec:  14.45 || Ex/s: 301.48\n",
            "\n",
            "===>  EVAL Epoch 1\n"
          ]
        },
        {
          "output_type": "stream",
          "name": "stderr",
          "text": [
            "0% [██████████████] 100% | ETA: 00:00:00\n",
            "Total time elapsed: 00:00:04\n"
          ]
        },
        {
          "output_type": "stream",
          "name": "stdout",
          "text": [
            "Finished Epoch 1 || Run Time:    3.1 | Load Time:    1.5 || F1:  13.14 | Prec:  45.00 | Rec:   7.69 || Ex/s: 503.07\n",
            "\n",
            "* Best F1: tensor(13.1387, device='cuda:0')\n",
            "Saving best model...\n",
            "Done.\n",
            "---------------------\n",
            "\n",
            "===>  TRAIN Epoch 2\n"
          ]
        },
        {
          "output_type": "stream",
          "name": "stderr",
          "text": [
            "0% [██████████████████████████████] 100% | ETA: 00:00:00\n",
            "Total time elapsed: 00:00:22\n"
          ]
        },
        {
          "output_type": "stream",
          "name": "stdout",
          "text": [
            "Finished Epoch 2 || Run Time:   18.0 | Load Time:    4.6 || F1:  44.50 | Prec:  39.69 | Rec:  50.64 || Ex/s: 304.04\n",
            "\n",
            "===>  EVAL Epoch 2\n"
          ]
        },
        {
          "output_type": "stream",
          "name": "stderr",
          "text": [
            "0% [██████████████] 100% | ETA: 00:00:00\n",
            "Total time elapsed: 00:00:04\n"
          ]
        },
        {
          "output_type": "stream",
          "name": "stdout",
          "text": [
            "Finished Epoch 2 || Run Time:    3.1 | Load Time:    1.5 || F1:  32.90 | Prec:  41.29 | Rec:  27.35 || Ex/s: 503.35\n",
            "\n",
            "* Best F1: tensor(32.9049, device='cuda:0')\n",
            "Saving best model...\n",
            "Done.\n",
            "---------------------\n",
            "\n",
            "===>  TRAIN Epoch 3\n"
          ]
        },
        {
          "output_type": "stream",
          "name": "stderr",
          "text": [
            "0% [██████████████████████████████] 100% | ETA: 00:00:00\n",
            "Total time elapsed: 00:00:22\n"
          ]
        },
        {
          "output_type": "stream",
          "name": "stdout",
          "text": [
            "Finished Epoch 3 || Run Time:   18.3 | Load Time:    4.6 || F1:  56.13 | Prec:  48.94 | Rec:  65.81 || Ex/s: 300.14\n",
            "\n",
            "===>  EVAL Epoch 3\n"
          ]
        },
        {
          "output_type": "stream",
          "name": "stderr",
          "text": [
            "0% [██████████████] 100% | ETA: 00:00:00\n",
            "Total time elapsed: 00:00:04\n"
          ]
        },
        {
          "output_type": "stream",
          "name": "stdout",
          "text": [
            "Finished Epoch 3 || Run Time:    3.1 | Load Time:    1.5 || F1:  34.21 | Prec:  44.52 | Rec:  27.78 || Ex/s: 502.63\n",
            "\n",
            "* Best F1: tensor(34.2105, device='cuda:0')\n",
            "Saving best model...\n",
            "Done.\n",
            "---------------------\n",
            "\n",
            "===>  TRAIN Epoch 4\n"
          ]
        },
        {
          "output_type": "stream",
          "name": "stderr",
          "text": [
            "0% [██████████████████████████████] 100% | ETA: 00:00:00\n",
            "Total time elapsed: 00:00:22\n"
          ]
        },
        {
          "output_type": "stream",
          "name": "stdout",
          "text": [
            "Finished Epoch 4 || Run Time:   17.9 | Load Time:    4.6 || F1:  66.83 | Prec:  59.40 | Rec:  76.39 || Ex/s: 305.49\n",
            "\n",
            "===>  EVAL Epoch 4\n"
          ]
        },
        {
          "output_type": "stream",
          "name": "stderr",
          "text": [
            "0% [██████████████] 100% | ETA: 00:00:00\n",
            "Total time elapsed: 00:00:04\n"
          ]
        },
        {
          "output_type": "stream",
          "name": "stdout",
          "text": [
            "Finished Epoch 4 || Run Time:    3.1 | Load Time:    1.5 || F1:  41.39 | Prec:  34.90 | Rec:  50.85 || Ex/s: 500.45\n",
            "\n",
            "* Best F1: tensor(41.3913, device='cuda:0')\n",
            "Saving best model...\n",
            "Done.\n",
            "---------------------\n",
            "\n",
            "===>  TRAIN Epoch 5\n"
          ]
        },
        {
          "output_type": "stream",
          "name": "stderr",
          "text": [
            "0% [██████████████████████████████] 100% | ETA: 00:00:00\n",
            "Total time elapsed: 00:00:22\n"
          ]
        },
        {
          "output_type": "stream",
          "name": "stdout",
          "text": [
            "Finished Epoch 5 || Run Time:   17.9 | Load Time:    4.5 || F1:  75.95 | Prec:  69.13 | Rec:  84.26 || Ex/s: 306.76\n",
            "\n",
            "===>  EVAL Epoch 5\n"
          ]
        },
        {
          "output_type": "stream",
          "name": "stderr",
          "text": [
            "0% [██████████████] 100% | ETA: 00:00:00\n",
            "Total time elapsed: 00:00:04\n"
          ]
        },
        {
          "output_type": "stream",
          "name": "stdout",
          "text": [
            "Finished Epoch 5 || Run Time:    3.1 | Load Time:    1.5 || F1:  40.32 | Prec:  32.23 | Rec:  53.85 || Ex/s: 503.93\n",
            "\n",
            "---------------------\n",
            "\n",
            "===>  TRAIN Epoch 6\n"
          ]
        },
        {
          "output_type": "stream",
          "name": "stderr",
          "text": [
            "0% [██████████████████████████████] 100% | ETA: 00:00:00\n",
            "Total time elapsed: 00:00:22\n"
          ]
        },
        {
          "output_type": "stream",
          "name": "stdout",
          "text": [
            "Finished Epoch 6 || Run Time:   18.2 | Load Time:    4.6 || F1:  82.24 | Prec:  76.13 | Rec:  89.41 || Ex/s: 301.53\n",
            "\n",
            "===>  EVAL Epoch 6\n"
          ]
        },
        {
          "output_type": "stream",
          "name": "stderr",
          "text": [
            "0% [██████████████] 100% | ETA: 00:00:00\n",
            "Total time elapsed: 00:00:04\n"
          ]
        },
        {
          "output_type": "stream",
          "name": "stdout",
          "text": [
            "Finished Epoch 6 || Run Time:    3.1 | Load Time:    1.5 || F1:  40.57 | Prec:  38.61 | Rec:  42.74 || Ex/s: 502.93\n",
            "\n",
            "---------------------\n",
            "\n",
            "===>  TRAIN Epoch 7\n"
          ]
        },
        {
          "output_type": "stream",
          "name": "stderr",
          "text": [
            "0% [██████████████████████████████] 100% | ETA: 00:00:00\n",
            "Total time elapsed: 00:00:22\n"
          ]
        },
        {
          "output_type": "stream",
          "name": "stdout",
          "text": [
            "Finished Epoch 7 || Run Time:   17.9 | Load Time:    4.5 || F1:  84.78 | Prec:  79.16 | Rec:  91.27 || Ex/s: 307.07\n",
            "\n",
            "===>  EVAL Epoch 7\n"
          ]
        },
        {
          "output_type": "stream",
          "name": "stderr",
          "text": [
            "0% [██████████████] 100% | ETA: 00:00:00\n",
            "Total time elapsed: 00:00:04\n"
          ]
        },
        {
          "output_type": "stream",
          "name": "stdout",
          "text": [
            "Finished Epoch 7 || Run Time:    3.1 | Load Time:    1.5 || F1:  35.85 | Prec:  36.24 | Rec:  35.47 || Ex/s: 501.44\n",
            "\n",
            "---------------------\n",
            "\n",
            "===>  TRAIN Epoch 8\n"
          ]
        },
        {
          "output_type": "stream",
          "name": "stderr",
          "text": [
            "0% [██████████████████████████████] 100% | ETA: 00:00:00\n",
            "Total time elapsed: 00:00:22\n"
          ]
        },
        {
          "output_type": "stream",
          "name": "stdout",
          "text": [
            "Finished Epoch 8 || Run Time:   17.9 | Load Time:    4.6 || F1:  88.21 | Prec:  83.78 | Rec:  93.13 || Ex/s: 306.45\n",
            "\n",
            "===>  EVAL Epoch 8\n"
          ]
        },
        {
          "output_type": "stream",
          "name": "stderr",
          "text": [
            "0% [██████████████] 100% | ETA: 00:00:00\n",
            "Total time elapsed: 00:00:04\n"
          ]
        },
        {
          "output_type": "stream",
          "name": "stdout",
          "text": [
            "Finished Epoch 8 || Run Time:    3.1 | Load Time:    1.5 || F1:  37.74 | Prec:  37.04 | Rec:  38.46 || Ex/s: 501.51\n",
            "\n",
            "---------------------\n",
            "\n",
            "===>  TRAIN Epoch 9\n"
          ]
        },
        {
          "output_type": "stream",
          "name": "stderr",
          "text": [
            "0% [██████████████████████████████] 100% | ETA: 00:00:00\n",
            "Total time elapsed: 00:00:22\n"
          ]
        },
        {
          "output_type": "stream",
          "name": "stdout",
          "text": [
            "Finished Epoch 9 || Run Time:   17.9 | Load Time:    4.5 || F1:  92.97 | Prec:  90.51 | Rec:  95.57 || Ex/s: 305.69\n",
            "\n",
            "===>  EVAL Epoch 9\n"
          ]
        },
        {
          "output_type": "stream",
          "name": "stderr",
          "text": [
            "0% [██████████████] 100% | ETA: 00:00:00\n",
            "Total time elapsed: 00:00:04\n"
          ]
        },
        {
          "output_type": "stream",
          "name": "stdout",
          "text": [
            "Finished Epoch 9 || Run Time:    3.1 | Load Time:    1.5 || F1:  36.24 | Prec:  39.11 | Rec:  33.76 || Ex/s: 503.16\n",
            "\n",
            "---------------------\n",
            "\n",
            "===>  TRAIN Epoch 10\n"
          ]
        },
        {
          "output_type": "stream",
          "name": "stderr",
          "text": [
            "0% [██████████████████████████████] 100% | ETA: 00:00:00\n",
            "Total time elapsed: 00:00:22\n"
          ]
        },
        {
          "output_type": "stream",
          "name": "stdout",
          "text": [
            "Finished Epoch 10 || Run Time:   18.2 | Load Time:    4.6 || F1:  95.31 | Prec:  93.29 | Rec:  97.42 || Ex/s: 301.54\n",
            "\n",
            "===>  EVAL Epoch 10\n"
          ]
        },
        {
          "output_type": "stream",
          "name": "stderr",
          "text": [
            "0% [██████████████] 100% | ETA: 00:00:00\n",
            "Total time elapsed: 00:00:04\n"
          ]
        },
        {
          "output_type": "stream",
          "name": "stdout",
          "text": [
            "Finished Epoch 10 || Run Time:    3.1 | Load Time:    1.5 || F1:  35.49 | Prec:  40.44 | Rec:  31.62 || Ex/s: 506.46\n",
            "\n",
            "---------------------\n",
            "\n",
            "===>  TRAIN Epoch 11\n"
          ]
        },
        {
          "output_type": "stream",
          "name": "stderr",
          "text": [
            "0% [██████████████████████████████] 100% | ETA: 00:00:00\n",
            "Total time elapsed: 00:00:22\n"
          ]
        },
        {
          "output_type": "stream",
          "name": "stdout",
          "text": [
            "Finished Epoch 11 || Run Time:   17.9 | Load Time:    4.5 || F1:  96.89 | Prec:  95.80 | Rec:  98.00 || Ex/s: 306.25\n",
            "\n",
            "===>  EVAL Epoch 11\n"
          ]
        },
        {
          "output_type": "stream",
          "name": "stderr",
          "text": [
            "0% [██████████████] 100% | ETA: 00:00:00\n",
            "Total time elapsed: 00:00:04\n"
          ]
        },
        {
          "output_type": "stream",
          "name": "stdout",
          "text": [
            "Finished Epoch 11 || Run Time:    3.1 | Load Time:    1.5 || F1:  35.35 | Prec:  40.78 | Rec:  31.20 || Ex/s: 503.54\n",
            "\n",
            "---------------------\n",
            "\n",
            "===>  TRAIN Epoch 12\n"
          ]
        },
        {
          "output_type": "stream",
          "name": "stderr",
          "text": [
            "0% [██████████████████████████████] 100% | ETA: 00:00:00\n",
            "Total time elapsed: 00:00:22\n"
          ]
        },
        {
          "output_type": "stream",
          "name": "stdout",
          "text": [
            "Finished Epoch 12 || Run Time:   18.0 | Load Time:    4.5 || F1:  97.72 | Prec:  97.44 | Rec:  98.00 || Ex/s: 305.16\n",
            "\n",
            "===>  EVAL Epoch 12\n"
          ]
        },
        {
          "output_type": "stream",
          "name": "stderr",
          "text": [
            "0% [██████████████] 100% | ETA: 00:00:00\n",
            "Total time elapsed: 00:00:04\n"
          ]
        },
        {
          "output_type": "stream",
          "name": "stdout",
          "text": [
            "Finished Epoch 12 || Run Time:    3.1 | Load Time:    1.5 || F1:  33.90 | Prec:  39.11 | Rec:  29.91 || Ex/s: 499.75\n",
            "\n",
            "---------------------\n",
            "\n",
            "===>  TRAIN Epoch 13\n"
          ]
        },
        {
          "output_type": "stream",
          "name": "stderr",
          "text": [
            "0% [██████████████████████████████] 100% | ETA: 00:00:00\n",
            "Total time elapsed: 00:00:22\n"
          ]
        },
        {
          "output_type": "stream",
          "name": "stdout",
          "text": [
            "Finished Epoch 13 || Run Time:   18.2 | Load Time:    4.6 || F1:  98.14 | Prec:  98.14 | Rec:  98.14 || Ex/s: 301.15\n",
            "\n",
            "===>  EVAL Epoch 13\n"
          ]
        },
        {
          "output_type": "stream",
          "name": "stderr",
          "text": [
            "0% [██████████████] 100% | ETA: 00:00:00\n",
            "Total time elapsed: 00:00:04\n"
          ]
        },
        {
          "output_type": "stream",
          "name": "stdout",
          "text": [
            "Finished Epoch 13 || Run Time:    3.1 | Load Time:    1.5 || F1:  33.49 | Prec:  38.04 | Rec:  29.91 || Ex/s: 505.38\n",
            "\n",
            "---------------------\n",
            "\n",
            "===>  TRAIN Epoch 14\n"
          ]
        },
        {
          "output_type": "stream",
          "name": "stderr",
          "text": [
            "0% [██████████████████████████████] 100% | ETA: 00:00:00\n",
            "Total time elapsed: 00:00:22\n"
          ]
        },
        {
          "output_type": "stream",
          "name": "stdout",
          "text": [
            "Finished Epoch 14 || Run Time:   17.8 | Load Time:    4.5 || F1:  98.78 | Prec:  99.14 | Rec:  98.43 || Ex/s: 307.21\n",
            "\n",
            "===>  EVAL Epoch 14\n"
          ]
        },
        {
          "output_type": "stream",
          "name": "stderr",
          "text": [
            "0% [██████████████] 100% | ETA: 00:00:00\n",
            "Total time elapsed: 00:00:04\n"
          ]
        },
        {
          "output_type": "stream",
          "name": "stdout",
          "text": [
            "Finished Epoch 14 || Run Time:    3.1 | Load Time:    1.5 || F1:  33.73 | Prec:  37.97 | Rec:  30.34 || Ex/s: 505.96\n",
            "\n",
            "---------------------\n",
            "\n",
            "===>  TRAIN Epoch 15\n"
          ]
        },
        {
          "output_type": "stream",
          "name": "stderr",
          "text": [
            "0% [██████████████████████████████] 100% | ETA: 00:00:00\n",
            "Total time elapsed: 00:00:22\n"
          ]
        },
        {
          "output_type": "stream",
          "name": "stdout",
          "text": [
            "Finished Epoch 15 || Run Time:   17.9 | Load Time:    4.5 || F1:  99.07 | Prec:  99.42 | Rec:  98.71 || Ex/s: 306.72\n",
            "\n",
            "===>  EVAL Epoch 15\n"
          ]
        },
        {
          "output_type": "stream",
          "name": "stderr",
          "text": [
            "0% [██████████████] 100% | ETA: 00:00:00\n",
            "Total time elapsed: 00:00:04\n"
          ]
        },
        {
          "output_type": "stream",
          "name": "stdout",
          "text": [
            "Finished Epoch 15 || Run Time:    3.1 | Load Time:    1.5 || F1:  33.73 | Prec:  37.97 | Rec:  30.34 || Ex/s: 500.08\n",
            "\n",
            "---------------------\n",
            "\n",
            "Loading best model...\n",
            "Training done.\n"
          ]
        },
        {
          "output_type": "execute_result",
          "data": {
            "text/plain": [
              "tensor(41.3913, device='cuda:0')"
            ]
          },
          "metadata": {},
          "execution_count": 69
        }
      ],
      "source": [
        "model.run_train(\n",
        "    train,\n",
        "    validation,\n",
        "    epochs=15,\n",
        "    batch_size=32,\n",
        "    best_save_path='hybrid_model.pth',\n",
        "    pos_neg_ratio=3)"
      ]
    },
    {
      "cell_type": "code",
      "execution_count": 70,
      "metadata": {
        "id": "Nkx9MW9t8Zkx",
        "colab": {
          "base_uri": "https://localhost:8080/"
        },
        "outputId": "fe1ad185-2dd1-4ebb-be1e-ed2932698ace"
      },
      "outputs": [
        {
          "output_type": "stream",
          "name": "stdout",
          "text": [
            "===>  EVAL Epoch 4\n"
          ]
        },
        {
          "output_type": "stream",
          "name": "stderr",
          "text": [
            "/usr/local/lib/python3.7/dist-packages/torch/nn/modules/module.py:949: UserWarning: Using non-full backward hooks on a Module that does not take as input a single Tensor or a tuple of Tensors is deprecated and will be removed in future versions. This hook will be missing some of the grad_input. Please use register_full_backward_hook to get the documented behavior.\n",
            "  warnings.warn(\"Using non-full backward hooks on a Module that does not take as input a \"\n",
            "/usr/local/lib/python3.7/dist-packages/torch/nn/modules/module.py:974: UserWarning: Using a non-full backward hook when the forward contains multiple autograd Nodes is deprecated and will be removed in future versions. This hook will be missing some grad_input. Please use register_full_backward_hook to get the documented behavior.\n",
            "  warnings.warn(\"Using a non-full backward hook when the forward contains multiple autograd Nodes \"\n",
            "/usr/local/lib/python3.7/dist-packages/torch/nn/modules/module.py:939: UserWarning: Using non-full backward hooks on a Module that does not return a single Tensor or a tuple of Tensors is deprecated and will be removed in future versions. This hook will be missing some of the grad_output. Please use register_full_backward_hook to get the documented behavior.\n",
            "  warnings.warn(\"Using non-full backward hooks on a Module that does not return a \"\n",
            "0% [██████████████] 100% | ETA: 00:00:00\n",
            "Total time elapsed: 00:00:04\n"
          ]
        },
        {
          "output_type": "stream",
          "name": "stdout",
          "text": [
            "Finished Epoch 4 || Run Time:    3.1 | Load Time:    1.5 || F1:  42.83 | Prec:  35.38 | Rec:  54.27 || Ex/s: 497.17\n",
            "\n"
          ]
        },
        {
          "output_type": "execute_result",
          "data": {
            "text/plain": [
              "tensor(42.8331, device='cuda:0')"
            ]
          },
          "metadata": {},
          "execution_count": 70
        }
      ],
      "source": [
        "# Compute F1 on test set\n",
        "model.run_eval(test)"
      ]
    },
    {
      "cell_type": "markdown",
      "metadata": {
        "id": "dikdLu258Zkx"
      },
      "source": [
        "##### Beer"
      ]
    },
    {
      "cell_type": "code",
      "execution_count": 71,
      "metadata": {
        "id": "K7LXcH0_8Zky"
      },
      "outputs": [],
      "source": [
        "train, validation, test = dm.data.process(\n",
        "    path='/content/IC/datasesErros/ADirty_90_3_5/Structured/Beer/',\n",
        "    train='joined_train.csv',\n",
        "    validation='joined_valid.csv',\n",
        "    test='joined_test.csv')"
      ]
    },
    {
      "cell_type": "code",
      "execution_count": 72,
      "metadata": {
        "id": "omt1438d8Zky"
      },
      "outputs": [],
      "source": [
        "model = dm.MatchingModel(attr_summarizer='hybrid')"
      ]
    },
    {
      "cell_type": "code",
      "execution_count": 73,
      "metadata": {
        "id": "8pdxI-si8Zky",
        "colab": {
          "base_uri": "https://localhost:8080/"
        },
        "outputId": "53c7dd9d-7846-4a27-c72b-b2adb1b6c08d"
      },
      "outputs": [
        {
          "output_type": "stream",
          "name": "stdout",
          "text": [
            "* Number of trainable parameters: 9210006\n",
            "===>  TRAIN Epoch 1\n"
          ]
        },
        {
          "output_type": "stream",
          "name": "stderr",
          "text": [
            "/usr/local/lib/python3.7/dist-packages/torch/nn/modules/module.py:949: UserWarning: Using non-full backward hooks on a Module that does not take as input a single Tensor or a tuple of Tensors is deprecated and will be removed in future versions. This hook will be missing some of the grad_input. Please use register_full_backward_hook to get the documented behavior.\n",
            "  warnings.warn(\"Using non-full backward hooks on a Module that does not take as input a \"\n",
            "/usr/local/lib/python3.7/dist-packages/torch/nn/modules/module.py:974: UserWarning: Using a non-full backward hook when the forward contains multiple autograd Nodes is deprecated and will be removed in future versions. This hook will be missing some grad_input. Please use register_full_backward_hook to get the documented behavior.\n",
            "  warnings.warn(\"Using a non-full backward hook when the forward contains multiple autograd Nodes \"\n",
            "/usr/local/lib/python3.7/dist-packages/torch/nn/modules/module.py:939: UserWarning: Using non-full backward hooks on a Module that does not return a single Tensor or a tuple of Tensors is deprecated and will be removed in future versions. This hook will be missing some of the grad_output. Please use register_full_backward_hook to get the documented behavior.\n",
            "  warnings.warn(\"Using non-full backward hooks on a Module that does not return a \"\n",
            "/usr/local/lib/python3.7/dist-packages/torch/nn/functional.py:2742: UserWarning: reduction: 'mean' divides the total loss by both the batch size and the support size.'batchmean' divides only by the batch size, and aligns with the KL div math definition.'mean' will be changed to behave the same as 'batchmean' in the next major release.\n",
            "  \"reduction: 'mean' divides the total loss by both the batch size and the support size.\"\n",
            "0% [█] 100% | ETA: 00:00:00\n",
            "Total time elapsed: 00:00:00\n"
          ]
        },
        {
          "output_type": "stream",
          "name": "stdout",
          "text": [
            "Finished Epoch 1 || Run Time:    1.0 | Load Time:    0.3 || F1:  20.00 | Prec:  23.33 | Rec:  17.50 || Ex/s: 201.65\n",
            "\n",
            "===>  EVAL Epoch 1\n",
            "Finished Epoch 1 || Run Time:    0.2 | Load Time:    0.1 || F1:  45.45 | Prec:  62.50 | Rec:  35.71 || Ex/s: 341.78\n",
            "\n",
            "* Best F1: tensor(45.4545, device='cuda:0')\n",
            "Saving best model...\n",
            "Done.\n",
            "---------------------\n",
            "\n",
            "===>  TRAIN Epoch 2\n"
          ]
        },
        {
          "output_type": "stream",
          "name": "stderr",
          "text": [
            "0% [█] 100% | ETA: 00:00:00\n",
            "Total time elapsed: 00:00:00\n"
          ]
        },
        {
          "output_type": "stream",
          "name": "stdout",
          "text": [
            "Finished Epoch 2 || Run Time:    1.0 | Load Time:    0.3 || F1:  74.70 | Prec:  72.09 | Rec:  77.50 || Ex/s: 210.21\n",
            "\n",
            "===>  EVAL Epoch 2\n",
            "Finished Epoch 2 || Run Time:    0.2 | Load Time:    0.1 || F1:  57.89 | Prec:  45.83 | Rec:  78.57 || Ex/s: 351.07\n",
            "\n",
            "* Best F1: tensor(57.8947, device='cuda:0')\n",
            "Saving best model...\n",
            "Done.\n",
            "---------------------\n",
            "\n",
            "===>  TRAIN Epoch 3\n"
          ]
        },
        {
          "output_type": "stream",
          "name": "stderr",
          "text": [
            "0% [█] 100% | ETA: 00:00:00\n",
            "Total time elapsed: 00:00:00\n"
          ]
        },
        {
          "output_type": "stream",
          "name": "stdout",
          "text": [
            "Finished Epoch 3 || Run Time:    1.0 | Load Time:    0.3 || F1:  67.29 | Prec:  53.73 | Rec:  90.00 || Ex/s: 204.85\n",
            "\n",
            "===>  EVAL Epoch 3\n",
            "Finished Epoch 3 || Run Time:    0.2 | Load Time:    0.1 || F1:  55.17 | Prec:  53.33 | Rec:  57.14 || Ex/s: 352.54\n",
            "\n",
            "---------------------\n",
            "\n",
            "===>  TRAIN Epoch 4\n"
          ]
        },
        {
          "output_type": "stream",
          "name": "stderr",
          "text": [
            "0% [█] 100% | ETA: 00:00:00\n",
            "Total time elapsed: 00:00:00\n"
          ]
        },
        {
          "output_type": "stream",
          "name": "stdout",
          "text": [
            "Finished Epoch 4 || Run Time:    1.0 | Load Time:    0.3 || F1:  71.03 | Prec:  56.72 | Rec:  95.00 || Ex/s: 209.11\n",
            "\n",
            "===>  EVAL Epoch 4\n",
            "Finished Epoch 4 || Run Time:    0.2 | Load Time:    0.1 || F1:  51.85 | Prec:  53.85 | Rec:  50.00 || Ex/s: 342.41\n",
            "\n",
            "---------------------\n",
            "\n",
            "===>  TRAIN Epoch 5\n"
          ]
        },
        {
          "output_type": "stream",
          "name": "stderr",
          "text": [
            "0% [█] 100% | ETA: 00:00:00\n",
            "Total time elapsed: 00:00:00\n"
          ]
        },
        {
          "output_type": "stream",
          "name": "stdout",
          "text": [
            "Finished Epoch 5 || Run Time:    1.0 | Load Time:    0.3 || F1:  85.00 | Prec:  85.00 | Rec:  85.00 || Ex/s: 208.31\n",
            "\n",
            "===>  EVAL Epoch 5\n",
            "Finished Epoch 5 || Run Time:    0.2 | Load Time:    0.1 || F1:  60.00 | Prec:  46.15 | Rec:  85.71 || Ex/s: 352.37\n",
            "\n",
            "* Best F1: tensor(60., device='cuda:0')\n",
            "Saving best model...\n",
            "Done.\n",
            "---------------------\n",
            "\n",
            "===>  TRAIN Epoch 6\n"
          ]
        },
        {
          "output_type": "stream",
          "name": "stderr",
          "text": [
            "0% [█] 100% | ETA: 00:00:00\n",
            "Total time elapsed: 00:00:00\n"
          ]
        },
        {
          "output_type": "stream",
          "name": "stdout",
          "text": [
            "Finished Epoch 6 || Run Time:    1.0 | Load Time:    0.3 || F1:  88.37 | Prec:  82.61 | Rec:  95.00 || Ex/s: 205.20\n",
            "\n",
            "===>  EVAL Epoch 6\n",
            "Finished Epoch 6 || Run Time:    0.2 | Load Time:    0.1 || F1:  58.06 | Prec:  52.94 | Rec:  64.29 || Ex/s: 350.49\n",
            "\n",
            "---------------------\n",
            "\n",
            "===>  TRAIN Epoch 7\n"
          ]
        },
        {
          "output_type": "stream",
          "name": "stderr",
          "text": [
            "0% [█] 100% | ETA: 00:00:00\n",
            "Total time elapsed: 00:00:00\n"
          ]
        },
        {
          "output_type": "stream",
          "name": "stdout",
          "text": [
            "Finished Epoch 7 || Run Time:    1.0 | Load Time:    0.3 || F1:  91.57 | Prec:  88.37 | Rec:  95.00 || Ex/s: 207.19\n",
            "\n",
            "===>  EVAL Epoch 7\n",
            "Finished Epoch 7 || Run Time:    0.2 | Load Time:    0.1 || F1:  61.11 | Prec:  50.00 | Rec:  78.57 || Ex/s: 350.15\n",
            "\n",
            "* Best F1: tensor(61.1111, device='cuda:0')\n",
            "Saving best model...\n",
            "Done.\n",
            "---------------------\n",
            "\n",
            "===>  TRAIN Epoch 8\n"
          ]
        },
        {
          "output_type": "stream",
          "name": "stderr",
          "text": [
            "0% [█] 100% | ETA: 00:00:00\n",
            "Total time elapsed: 00:00:00\n"
          ]
        },
        {
          "output_type": "stream",
          "name": "stdout",
          "text": [
            "Finished Epoch 8 || Run Time:    1.2 | Load Time:    0.3 || F1:  93.83 | Prec:  92.68 | Rec:  95.00 || Ex/s: 174.93\n",
            "\n",
            "===>  EVAL Epoch 8\n",
            "Finished Epoch 8 || Run Time:    0.2 | Load Time:    0.1 || F1:  58.06 | Prec:  52.94 | Rec:  64.29 || Ex/s: 341.74\n",
            "\n",
            "---------------------\n",
            "\n",
            "===>  TRAIN Epoch 9\n"
          ]
        },
        {
          "output_type": "stream",
          "name": "stderr",
          "text": [
            "0% [█] 100% | ETA: 00:00:00\n",
            "Total time elapsed: 00:00:00\n"
          ]
        },
        {
          "output_type": "stream",
          "name": "stdout",
          "text": [
            "Finished Epoch 9 || Run Time:    1.0 | Load Time:    0.3 || F1:  93.83 | Prec:  92.68 | Rec:  95.00 || Ex/s: 208.89\n",
            "\n",
            "===>  EVAL Epoch 9\n",
            "Finished Epoch 9 || Run Time:    0.2 | Load Time:    0.1 || F1:  60.61 | Prec:  52.63 | Rec:  71.43 || Ex/s: 338.99\n",
            "\n",
            "---------------------\n",
            "\n",
            "===>  TRAIN Epoch 10\n"
          ]
        },
        {
          "output_type": "stream",
          "name": "stderr",
          "text": [
            "0% [█] 100% | ETA: 00:00:00\n",
            "Total time elapsed: 00:00:00\n"
          ]
        },
        {
          "output_type": "stream",
          "name": "stdout",
          "text": [
            "Finished Epoch 10 || Run Time:    1.0 | Load Time:    0.3 || F1:  95.00 | Prec:  95.00 | Rec:  95.00 || Ex/s: 211.76\n",
            "\n",
            "===>  EVAL Epoch 10\n",
            "Finished Epoch 10 || Run Time:    0.2 | Load Time:    0.1 || F1:  62.50 | Prec:  55.56 | Rec:  71.43 || Ex/s: 352.43\n",
            "\n",
            "* Best F1: tensor(62.5000, device='cuda:0')\n",
            "Saving best model...\n",
            "Done.\n",
            "---------------------\n",
            "\n",
            "===>  TRAIN Epoch 11\n"
          ]
        },
        {
          "output_type": "stream",
          "name": "stderr",
          "text": [
            "0% [█] 100% | ETA: 00:00:00\n",
            "Total time elapsed: 00:00:00\n"
          ]
        },
        {
          "output_type": "stream",
          "name": "stdout",
          "text": [
            "Finished Epoch 11 || Run Time:    1.0 | Load Time:    0.3 || F1:  96.20 | Prec:  97.44 | Rec:  95.00 || Ex/s: 207.31\n",
            "\n",
            "===>  EVAL Epoch 11\n",
            "Finished Epoch 11 || Run Time:    0.2 | Load Time:    0.1 || F1:  62.50 | Prec:  55.56 | Rec:  71.43 || Ex/s: 352.97\n",
            "\n",
            "---------------------\n",
            "\n",
            "===>  TRAIN Epoch 12\n"
          ]
        },
        {
          "output_type": "stream",
          "name": "stderr",
          "text": [
            "0% [█] 100% | ETA: 00:00:00\n",
            "Total time elapsed: 00:00:00\n"
          ]
        },
        {
          "output_type": "stream",
          "name": "stdout",
          "text": [
            "Finished Epoch 12 || Run Time:    1.0 | Load Time:    0.3 || F1:  97.50 | Prec:  97.50 | Rec:  97.50 || Ex/s: 209.51\n",
            "\n",
            "===>  EVAL Epoch 12\n",
            "Finished Epoch 12 || Run Time:    0.2 | Load Time:    0.1 || F1:  62.50 | Prec:  55.56 | Rec:  71.43 || Ex/s: 335.30\n",
            "\n",
            "---------------------\n",
            "\n",
            "===>  TRAIN Epoch 13\n"
          ]
        },
        {
          "output_type": "stream",
          "name": "stderr",
          "text": [
            "0% [█] 100% | ETA: 00:00:00\n",
            "Total time elapsed: 00:00:00\n"
          ]
        },
        {
          "output_type": "stream",
          "name": "stdout",
          "text": [
            "Finished Epoch 13 || Run Time:    1.0 | Load Time:    0.3 || F1:  97.56 | Prec:  95.24 | Rec: 100.00 || Ex/s: 202.93\n",
            "\n",
            "===>  EVAL Epoch 13\n",
            "Finished Epoch 13 || Run Time:    0.2 | Load Time:    0.1 || F1:  62.50 | Prec:  55.56 | Rec:  71.43 || Ex/s: 345.33\n",
            "\n",
            "---------------------\n",
            "\n",
            "===>  TRAIN Epoch 14\n"
          ]
        },
        {
          "output_type": "stream",
          "name": "stderr",
          "text": [
            "0% [█] 100% | ETA: 00:00:00\n",
            "Total time elapsed: 00:00:00\n"
          ]
        },
        {
          "output_type": "stream",
          "name": "stdout",
          "text": [
            "Finished Epoch 14 || Run Time:    1.0 | Load Time:    0.3 || F1:  97.56 | Prec:  95.24 | Rec: 100.00 || Ex/s: 211.03\n",
            "\n",
            "===>  EVAL Epoch 14\n",
            "Finished Epoch 14 || Run Time:    0.2 | Load Time:    0.1 || F1:  62.50 | Prec:  55.56 | Rec:  71.43 || Ex/s: 333.06\n",
            "\n",
            "---------------------\n",
            "\n",
            "===>  TRAIN Epoch 15\n"
          ]
        },
        {
          "output_type": "stream",
          "name": "stderr",
          "text": [
            "0% [█] 100% | ETA: 00:00:00\n",
            "Total time elapsed: 00:00:00\n"
          ]
        },
        {
          "output_type": "stream",
          "name": "stdout",
          "text": [
            "Finished Epoch 15 || Run Time:    1.0 | Load Time:    0.3 || F1:  97.56 | Prec:  95.24 | Rec: 100.00 || Ex/s: 213.32\n",
            "\n",
            "===>  EVAL Epoch 15\n",
            "Finished Epoch 15 || Run Time:    0.2 | Load Time:    0.1 || F1:  62.50 | Prec:  55.56 | Rec:  71.43 || Ex/s: 340.60\n",
            "\n",
            "---------------------\n",
            "\n",
            "Loading best model...\n",
            "Training done.\n"
          ]
        },
        {
          "output_type": "execute_result",
          "data": {
            "text/plain": [
              "tensor(62.5000, device='cuda:0')"
            ]
          },
          "metadata": {},
          "execution_count": 73
        }
      ],
      "source": [
        "model.run_train(\n",
        "    train,\n",
        "    validation,\n",
        "    epochs=15,\n",
        "    batch_size=32,\n",
        "    best_save_path='hybrid_model.pth',\n",
        "    pos_neg_ratio=3)"
      ]
    },
    {
      "cell_type": "code",
      "execution_count": 74,
      "metadata": {
        "id": "45zk9EL68Zkz",
        "colab": {
          "base_uri": "https://localhost:8080/"
        },
        "outputId": "0959d171-e807-4c9e-f143-f95da5c45f51"
      },
      "outputs": [
        {
          "output_type": "stream",
          "name": "stdout",
          "text": [
            "===>  EVAL Epoch 10\n"
          ]
        },
        {
          "output_type": "stream",
          "name": "stderr",
          "text": [
            "/usr/local/lib/python3.7/dist-packages/torch/nn/modules/module.py:949: UserWarning: Using non-full backward hooks on a Module that does not take as input a single Tensor or a tuple of Tensors is deprecated and will be removed in future versions. This hook will be missing some of the grad_input. Please use register_full_backward_hook to get the documented behavior.\n",
            "  warnings.warn(\"Using non-full backward hooks on a Module that does not take as input a \"\n",
            "/usr/local/lib/python3.7/dist-packages/torch/nn/modules/module.py:974: UserWarning: Using a non-full backward hook when the forward contains multiple autograd Nodes is deprecated and will be removed in future versions. This hook will be missing some grad_input. Please use register_full_backward_hook to get the documented behavior.\n",
            "  warnings.warn(\"Using a non-full backward hook when the forward contains multiple autograd Nodes \"\n",
            "/usr/local/lib/python3.7/dist-packages/torch/nn/modules/module.py:939: UserWarning: Using non-full backward hooks on a Module that does not return a single Tensor or a tuple of Tensors is deprecated and will be removed in future versions. This hook will be missing some of the grad_output. Please use register_full_backward_hook to get the documented behavior.\n",
            "  warnings.warn(\"Using non-full backward hooks on a Module that does not return a \"\n"
          ]
        },
        {
          "output_type": "stream",
          "name": "stdout",
          "text": [
            "Finished Epoch 10 || Run Time:    0.2 | Load Time:    0.1 || F1:  45.71 | Prec:  38.10 | Rec:  57.14 || Ex/s: 328.86\n",
            "\n"
          ]
        },
        {
          "output_type": "execute_result",
          "data": {
            "text/plain": [
              "tensor(45.7143, device='cuda:0')"
            ]
          },
          "metadata": {},
          "execution_count": 74
        }
      ],
      "source": [
        "# Compute F1 on test set\n",
        "model.run_eval(test)"
      ]
    },
    {
      "cell_type": "markdown",
      "metadata": {
        "id": "X2UG_clX8Zkz"
      },
      "source": [
        "##### DBLP-ACM"
      ]
    },
    {
      "cell_type": "code",
      "execution_count": 75,
      "metadata": {
        "id": "oydibnoV8Zk0"
      },
      "outputs": [],
      "source": [
        "train, validation, test = dm.data.process(\n",
        "    path='/content/IC/datasesErros/ADirty_90_3_5/Structured/DBLP-ACM/',\n",
        "    train='joined_train.csv',\n",
        "    validation='joined_valid.csv',\n",
        "    test='joined_test.csv')"
      ]
    },
    {
      "cell_type": "code",
      "execution_count": 76,
      "metadata": {
        "id": "88z4OGnt8Zk0"
      },
      "outputs": [],
      "source": [
        "model = dm.MatchingModel(attr_summarizer='hybrid')"
      ]
    },
    {
      "cell_type": "code",
      "execution_count": 77,
      "metadata": {
        "id": "jJS8L7j58Zk0",
        "colab": {
          "base_uri": "https://localhost:8080/"
        },
        "outputId": "aac4fa92-ce6a-432e-aee9-34ac273085c8"
      },
      "outputs": [
        {
          "output_type": "stream",
          "name": "stdout",
          "text": [
            "* Number of trainable parameters: 9210006\n",
            "===>  TRAIN Epoch 1\n"
          ]
        },
        {
          "output_type": "stream",
          "name": "stderr",
          "text": [
            "/usr/local/lib/python3.7/dist-packages/torch/nn/modules/module.py:949: UserWarning: Using non-full backward hooks on a Module that does not take as input a single Tensor or a tuple of Tensors is deprecated and will be removed in future versions. This hook will be missing some of the grad_input. Please use register_full_backward_hook to get the documented behavior.\n",
            "  warnings.warn(\"Using non-full backward hooks on a Module that does not take as input a \"\n",
            "/usr/local/lib/python3.7/dist-packages/torch/nn/modules/module.py:974: UserWarning: Using a non-full backward hook when the forward contains multiple autograd Nodes is deprecated and will be removed in future versions. This hook will be missing some grad_input. Please use register_full_backward_hook to get the documented behavior.\n",
            "  warnings.warn(\"Using a non-full backward hook when the forward contains multiple autograd Nodes \"\n",
            "/usr/local/lib/python3.7/dist-packages/torch/nn/modules/module.py:939: UserWarning: Using non-full backward hooks on a Module that does not return a single Tensor or a tuple of Tensors is deprecated and will be removed in future versions. This hook will be missing some of the grad_output. Please use register_full_backward_hook to get the documented behavior.\n",
            "  warnings.warn(\"Using non-full backward hooks on a Module that does not return a \"\n",
            "/usr/local/lib/python3.7/dist-packages/torch/nn/functional.py:2742: UserWarning: reduction: 'mean' divides the total loss by both the batch size and the support size.'batchmean' divides only by the batch size, and aligns with the KL div math definition.'mean' will be changed to behave the same as 'batchmean' in the next major release.\n",
            "  \"reduction: 'mean' divides the total loss by both the batch size and the support size.\"\n",
            "0% [██████████████████████████████] 100% | ETA: 00:00:00\n",
            "Total time elapsed: 00:00:38\n"
          ]
        },
        {
          "output_type": "stream",
          "name": "stdout",
          "text": [
            "Finished Epoch 1 || Run Time:   27.5 | Load Time:   11.0 || F1:  78.63 | Prec:  70.73 | Rec:  88.51 || Ex/s: 192.33\n",
            "\n",
            "===>  EVAL Epoch 1\n"
          ]
        },
        {
          "output_type": "stream",
          "name": "stderr",
          "text": [
            "0% [███████████████] 100% | ETA: 00:00:00\n",
            "Total time elapsed: 00:00:08\n"
          ]
        },
        {
          "output_type": "stream",
          "name": "stdout",
          "text": [
            "Finished Epoch 1 || Run Time:    4.9 | Load Time:    3.7 || F1:  95.83 | Prec:  93.38 | Rec:  98.42 || Ex/s: 286.71\n",
            "\n",
            "* Best F1: tensor(95.8333, device='cuda:0')\n",
            "Saving best model...\n",
            "Done.\n",
            "---------------------\n",
            "\n",
            "===>  TRAIN Epoch 2\n"
          ]
        },
        {
          "output_type": "stream",
          "name": "stderr",
          "text": [
            "0% [██████████████████████████████] 100% | ETA: 00:00:00\n",
            "Total time elapsed: 00:00:37\n"
          ]
        },
        {
          "output_type": "stream",
          "name": "stdout",
          "text": [
            "Finished Epoch 2 || Run Time:   27.1 | Load Time:   10.9 || F1:  96.42 | Prec:  94.01 | Rec:  98.95 || Ex/s: 194.83\n",
            "\n",
            "===>  EVAL Epoch 2\n"
          ]
        },
        {
          "output_type": "stream",
          "name": "stderr",
          "text": [
            "0% [███████████████] 100% | ETA: 00:00:00\n",
            "Total time elapsed: 00:00:08\n"
          ]
        },
        {
          "output_type": "stream",
          "name": "stdout",
          "text": [
            "Finished Epoch 2 || Run Time:    4.8 | Load Time:    3.7 || F1:  94.33 | Prec:  89.82 | Rec:  99.32 || Ex/s: 290.37\n",
            "\n",
            "---------------------\n",
            "\n",
            "===>  TRAIN Epoch 3\n"
          ]
        },
        {
          "output_type": "stream",
          "name": "stderr",
          "text": [
            "0% [██████████████████████████████] 100% | ETA: 00:00:00\n",
            "Total time elapsed: 00:00:38\n"
          ]
        },
        {
          "output_type": "stream",
          "name": "stdout",
          "text": [
            "Finished Epoch 3 || Run Time:   27.6 | Load Time:   11.1 || F1:  97.60 | Prec:  96.01 | Rec:  99.25 || Ex/s: 191.77\n",
            "\n",
            "===>  EVAL Epoch 3\n"
          ]
        },
        {
          "output_type": "stream",
          "name": "stderr",
          "text": [
            "0% [███████████████] 100% | ETA: 00:00:00\n",
            "Total time elapsed: 00:00:08\n"
          ]
        },
        {
          "output_type": "stream",
          "name": "stdout",
          "text": [
            "Finished Epoch 3 || Run Time:    4.9 | Load Time:    3.7 || F1:  96.48 | Prec:  94.40 | Rec:  98.65 || Ex/s: 290.51\n",
            "\n",
            "* Best F1: tensor(96.4758, device='cuda:0')\n",
            "Saving best model...\n",
            "Done.\n",
            "---------------------\n",
            "\n",
            "===>  TRAIN Epoch 4\n"
          ]
        },
        {
          "output_type": "stream",
          "name": "stderr",
          "text": [
            "0% [██████████████████████████████] 100% | ETA: 00:00:00\n",
            "Total time elapsed: 00:00:37\n"
          ]
        },
        {
          "output_type": "stream",
          "name": "stdout",
          "text": [
            "Finished Epoch 4 || Run Time:   27.1 | Load Time:   11.0 || F1:  98.48 | Prec:  97.57 | Rec:  99.40 || Ex/s: 194.55\n",
            "\n",
            "===>  EVAL Epoch 4\n"
          ]
        },
        {
          "output_type": "stream",
          "name": "stderr",
          "text": [
            "0% [███████████████] 100% | ETA: 00:00:00\n",
            "Total time elapsed: 00:00:08\n"
          ]
        },
        {
          "output_type": "stream",
          "name": "stdout",
          "text": [
            "Finished Epoch 4 || Run Time:    4.8 | Load Time:    3.7 || F1:  96.70 | Prec:  94.42 | Rec:  99.10 || Ex/s: 290.92\n",
            "\n",
            "* Best F1: tensor(96.7033, device='cuda:0')\n",
            "Saving best model...\n",
            "Done.\n",
            "---------------------\n",
            "\n",
            "===>  TRAIN Epoch 5\n"
          ]
        },
        {
          "output_type": "stream",
          "name": "stderr",
          "text": [
            "0% [██████████████████████████████] 100% | ETA: 00:00:00\n",
            "Total time elapsed: 00:00:38\n"
          ]
        },
        {
          "output_type": "stream",
          "name": "stdout",
          "text": [
            "Finished Epoch 5 || Run Time:   27.6 | Load Time:   11.1 || F1:  98.70 | Prec:  97.93 | Rec:  99.47 || Ex/s: 191.72\n",
            "\n",
            "===>  EVAL Epoch 5\n"
          ]
        },
        {
          "output_type": "stream",
          "name": "stderr",
          "text": [
            "0% [███████████████] 100% | ETA: 00:00:00\n",
            "Total time elapsed: 00:00:08\n"
          ]
        },
        {
          "output_type": "stream",
          "name": "stdout",
          "text": [
            "Finished Epoch 5 || Run Time:    4.8 | Load Time:    3.7 || F1:  97.02 | Prec:  95.03 | Rec:  99.10 || Ex/s: 290.28\n",
            "\n",
            "* Best F1: tensor(97.0232, device='cuda:0')\n",
            "Saving best model...\n",
            "Done.\n",
            "---------------------\n",
            "\n",
            "===>  TRAIN Epoch 6\n"
          ]
        },
        {
          "output_type": "stream",
          "name": "stderr",
          "text": [
            "0% [██████████████████████████████] 100% | ETA: 00:00:00\n",
            "Total time elapsed: 00:00:37\n"
          ]
        },
        {
          "output_type": "stream",
          "name": "stdout",
          "text": [
            "Finished Epoch 6 || Run Time:   27.3 | Load Time:   11.0 || F1:  99.48 | Prec:  99.18 | Rec:  99.77 || Ex/s: 193.72\n",
            "\n",
            "===>  EVAL Epoch 6\n"
          ]
        },
        {
          "output_type": "stream",
          "name": "stderr",
          "text": [
            "0% [███████████████] 100% | ETA: 00:00:00\n",
            "Total time elapsed: 00:00:08\n"
          ]
        },
        {
          "output_type": "stream",
          "name": "stdout",
          "text": [
            "Finished Epoch 6 || Run Time:    4.9 | Load Time:    3.7 || F1:  97.23 | Prec:  95.84 | Rec:  98.65 || Ex/s: 287.27\n",
            "\n",
            "* Best F1: tensor(97.2253, device='cuda:0')\n",
            "Saving best model...\n",
            "Done.\n",
            "---------------------\n",
            "\n",
            "===>  TRAIN Epoch 7\n"
          ]
        },
        {
          "output_type": "stream",
          "name": "stderr",
          "text": [
            "0% [██████████████████████████████] 100% | ETA: 00:00:00\n",
            "Total time elapsed: 00:00:38\n"
          ]
        },
        {
          "output_type": "stream",
          "name": "stdout",
          "text": [
            "Finished Epoch 7 || Run Time:   27.9 | Load Time:   11.1 || F1:  99.63 | Prec:  99.33 | Rec:  99.92 || Ex/s: 190.17\n",
            "\n",
            "===>  EVAL Epoch 7\n"
          ]
        },
        {
          "output_type": "stream",
          "name": "stderr",
          "text": [
            "0% [███████████████] 100% | ETA: 00:00:00\n",
            "Total time elapsed: 00:00:08\n"
          ]
        },
        {
          "output_type": "stream",
          "name": "stdout",
          "text": [
            "Finished Epoch 7 || Run Time:    4.8 | Load Time:    3.7 || F1:  97.33 | Prec:  96.26 | Rec:  98.42 || Ex/s: 292.59\n",
            "\n",
            "* Best F1: tensor(97.3274, device='cuda:0')\n",
            "Saving best model...\n",
            "Done.\n",
            "---------------------\n",
            "\n",
            "===>  TRAIN Epoch 8\n"
          ]
        },
        {
          "output_type": "stream",
          "name": "stderr",
          "text": [
            "0% [██████████████████████████████] 100% | ETA: 00:00:00\n",
            "Total time elapsed: 00:00:37\n"
          ]
        },
        {
          "output_type": "stream",
          "name": "stdout",
          "text": [
            "Finished Epoch 8 || Run Time:   27.2 | Load Time:   10.9 || F1:  99.70 | Prec:  99.48 | Rec:  99.92 || Ex/s: 194.35\n",
            "\n",
            "===>  EVAL Epoch 8\n"
          ]
        },
        {
          "output_type": "stream",
          "name": "stderr",
          "text": [
            "0% [███████████████] 100% | ETA: 00:00:00\n",
            "Total time elapsed: 00:00:08\n"
          ]
        },
        {
          "output_type": "stream",
          "name": "stdout",
          "text": [
            "Finished Epoch 8 || Run Time:    4.8 | Load Time:    3.7 || F1:  97.54 | Prec:  96.89 | Rec:  98.20 || Ex/s: 292.64\n",
            "\n",
            "* Best F1: tensor(97.5391, device='cuda:0')\n",
            "Saving best model...\n",
            "Done.\n",
            "---------------------\n",
            "\n",
            "===>  TRAIN Epoch 9\n"
          ]
        },
        {
          "output_type": "stream",
          "name": "stderr",
          "text": [
            "0% [██████████████████████████████] 100% | ETA: 00:00:00\n",
            "Total time elapsed: 00:00:38\n"
          ]
        },
        {
          "output_type": "stream",
          "name": "stdout",
          "text": [
            "Finished Epoch 9 || Run Time:   27.4 | Load Time:   11.1 || F1:  99.81 | Prec:  99.70 | Rec:  99.92 || Ex/s: 192.79\n",
            "\n",
            "===>  EVAL Epoch 9\n"
          ]
        },
        {
          "output_type": "stream",
          "name": "stderr",
          "text": [
            "0% [███████████████] 100% | ETA: 00:00:00\n",
            "Total time elapsed: 00:00:08\n"
          ]
        },
        {
          "output_type": "stream",
          "name": "stdout",
          "text": [
            "Finished Epoch 9 || Run Time:    4.8 | Load Time:    3.7 || F1:  97.54 | Prec:  96.89 | Rec:  98.20 || Ex/s: 291.50\n",
            "\n",
            "---------------------\n",
            "\n",
            "===>  TRAIN Epoch 10\n"
          ]
        },
        {
          "output_type": "stream",
          "name": "stderr",
          "text": [
            "0% [██████████████████████████████] 100% | ETA: 00:00:00\n",
            "Total time elapsed: 00:00:37\n"
          ]
        },
        {
          "output_type": "stream",
          "name": "stdout",
          "text": [
            "Finished Epoch 10 || Run Time:   27.2 | Load Time:   10.9 || F1:  99.85 | Prec:  99.70 | Rec: 100.00 || Ex/s: 194.22\n",
            "\n",
            "===>  EVAL Epoch 10\n"
          ]
        },
        {
          "output_type": "stream",
          "name": "stderr",
          "text": [
            "0% [███████████████] 100% | ETA: 00:00:00\n",
            "Total time elapsed: 00:00:08\n"
          ]
        },
        {
          "output_type": "stream",
          "name": "stdout",
          "text": [
            "Finished Epoch 10 || Run Time:    4.8 | Load Time:    3.7 || F1:  97.65 | Prec:  97.10 | Rec:  98.20 || Ex/s: 289.99\n",
            "\n",
            "* Best F1: tensor(97.6484, device='cuda:0')\n",
            "Saving best model...\n",
            "Done.\n",
            "---------------------\n",
            "\n",
            "===>  TRAIN Epoch 11\n"
          ]
        },
        {
          "output_type": "stream",
          "name": "stderr",
          "text": [
            "0% [██████████████████████████████] 100% | ETA: 00:00:00\n",
            "Total time elapsed: 00:00:38\n"
          ]
        },
        {
          "output_type": "stream",
          "name": "stdout",
          "text": [
            "Finished Epoch 11 || Run Time:   27.4 | Load Time:   11.1 || F1:  99.85 | Prec:  99.70 | Rec: 100.00 || Ex/s: 192.81\n",
            "\n",
            "===>  EVAL Epoch 11\n"
          ]
        },
        {
          "output_type": "stream",
          "name": "stderr",
          "text": [
            "0% [███████████████] 100% | ETA: 00:00:00\n",
            "Total time elapsed: 00:00:08\n"
          ]
        },
        {
          "output_type": "stream",
          "name": "stdout",
          "text": [
            "Finished Epoch 11 || Run Time:    4.9 | Load Time:    3.7 || F1:  97.65 | Prec:  97.10 | Rec:  98.20 || Ex/s: 289.28\n",
            "\n",
            "---------------------\n",
            "\n",
            "===>  TRAIN Epoch 12\n"
          ]
        },
        {
          "output_type": "stream",
          "name": "stderr",
          "text": [
            "0% [██████████████████████████████] 100% | ETA: 00:00:00\n",
            "Total time elapsed: 00:00:37\n"
          ]
        },
        {
          "output_type": "stream",
          "name": "stdout",
          "text": [
            "Finished Epoch 12 || Run Time:   27.2 | Load Time:   10.9 || F1:  99.89 | Prec:  99.78 | Rec: 100.00 || Ex/s: 194.36\n",
            "\n",
            "===>  EVAL Epoch 12\n"
          ]
        },
        {
          "output_type": "stream",
          "name": "stderr",
          "text": [
            "0% [███████████████] 100% | ETA: 00:00:00\n",
            "Total time elapsed: 00:00:08\n"
          ]
        },
        {
          "output_type": "stream",
          "name": "stdout",
          "text": [
            "Finished Epoch 12 || Run Time:    4.8 | Load Time:    3.7 || F1:  97.65 | Prec:  97.10 | Rec:  98.20 || Ex/s: 293.05\n",
            "\n",
            "---------------------\n",
            "\n",
            "===>  TRAIN Epoch 13\n"
          ]
        },
        {
          "output_type": "stream",
          "name": "stderr",
          "text": [
            "0% [██████████████████████████████] 100% | ETA: 00:00:00\n",
            "Total time elapsed: 00:00:38\n"
          ]
        },
        {
          "output_type": "stream",
          "name": "stdout",
          "text": [
            "Finished Epoch 13 || Run Time:   27.5 | Load Time:   11.1 || F1:  99.89 | Prec:  99.78 | Rec: 100.00 || Ex/s: 192.29\n",
            "\n",
            "===>  EVAL Epoch 13\n"
          ]
        },
        {
          "output_type": "stream",
          "name": "stderr",
          "text": [
            "0% [███████████████] 100% | ETA: 00:00:00\n",
            "Total time elapsed: 00:00:08\n"
          ]
        },
        {
          "output_type": "stream",
          "name": "stdout",
          "text": [
            "Finished Epoch 13 || Run Time:    4.8 | Load Time:    3.7 || F1:  97.76 | Prec:  97.11 | Rec:  98.42 || Ex/s: 291.32\n",
            "\n",
            "* Best F1: tensor(97.7629, device='cuda:0')\n",
            "Saving best model...\n",
            "Done.\n",
            "---------------------\n",
            "\n",
            "===>  TRAIN Epoch 14\n"
          ]
        },
        {
          "output_type": "stream",
          "name": "stderr",
          "text": [
            "0% [██████████████████████████████] 100% | ETA: 00:00:00\n",
            "Total time elapsed: 00:00:37\n"
          ]
        },
        {
          "output_type": "stream",
          "name": "stdout",
          "text": [
            "Finished Epoch 14 || Run Time:   27.1 | Load Time:   10.9 || F1:  99.89 | Prec:  99.78 | Rec: 100.00 || Ex/s: 195.03\n",
            "\n",
            "===>  EVAL Epoch 14\n"
          ]
        },
        {
          "output_type": "stream",
          "name": "stderr",
          "text": [
            "0% [███████████████] 100% | ETA: 00:00:00\n",
            "Total time elapsed: 00:00:08\n"
          ]
        },
        {
          "output_type": "stream",
          "name": "stdout",
          "text": [
            "Finished Epoch 14 || Run Time:    4.9 | Load Time:    3.7 || F1:  97.76 | Prec:  97.11 | Rec:  98.42 || Ex/s: 288.66\n",
            "\n",
            "---------------------\n",
            "\n",
            "===>  TRAIN Epoch 15\n"
          ]
        },
        {
          "output_type": "stream",
          "name": "stderr",
          "text": [
            "0% [██████████████████████████████] 100% | ETA: 00:00:00\n",
            "Total time elapsed: 00:00:38\n"
          ]
        },
        {
          "output_type": "stream",
          "name": "stdout",
          "text": [
            "Finished Epoch 15 || Run Time:   27.5 | Load Time:   11.1 || F1:  99.89 | Prec:  99.78 | Rec: 100.00 || Ex/s: 192.57\n",
            "\n",
            "===>  EVAL Epoch 15\n"
          ]
        },
        {
          "output_type": "stream",
          "name": "stderr",
          "text": [
            "0% [███████████████] 100% | ETA: 00:00:00\n",
            "Total time elapsed: 00:00:08\n"
          ]
        },
        {
          "output_type": "stream",
          "name": "stdout",
          "text": [
            "Finished Epoch 15 || Run Time:    4.8 | Load Time:    3.6 || F1:  97.76 | Prec:  97.11 | Rec:  98.42 || Ex/s: 291.97\n",
            "\n",
            "---------------------\n",
            "\n",
            "Loading best model...\n",
            "Training done.\n"
          ]
        },
        {
          "output_type": "execute_result",
          "data": {
            "text/plain": [
              "tensor(97.7629, device='cuda:0')"
            ]
          },
          "metadata": {},
          "execution_count": 77
        }
      ],
      "source": [
        "model.run_train(\n",
        "    train,\n",
        "    validation,\n",
        "    epochs=15,\n",
        "    batch_size=32,\n",
        "    best_save_path='hybrid_model.pth',\n",
        "    pos_neg_ratio=3)"
      ]
    },
    {
      "cell_type": "code",
      "execution_count": 78,
      "metadata": {
        "id": "8dKxVIZD8Zk1",
        "colab": {
          "base_uri": "https://localhost:8080/"
        },
        "outputId": "a840057f-6a66-4de8-8570-8f4415b2023b"
      },
      "outputs": [
        {
          "output_type": "stream",
          "name": "stdout",
          "text": [
            "===>  EVAL Epoch 13\n"
          ]
        },
        {
          "output_type": "stream",
          "name": "stderr",
          "text": [
            "/usr/local/lib/python3.7/dist-packages/torch/nn/modules/module.py:949: UserWarning: Using non-full backward hooks on a Module that does not take as input a single Tensor or a tuple of Tensors is deprecated and will be removed in future versions. This hook will be missing some of the grad_input. Please use register_full_backward_hook to get the documented behavior.\n",
            "  warnings.warn(\"Using non-full backward hooks on a Module that does not take as input a \"\n",
            "/usr/local/lib/python3.7/dist-packages/torch/nn/modules/module.py:974: UserWarning: Using a non-full backward hook when the forward contains multiple autograd Nodes is deprecated and will be removed in future versions. This hook will be missing some grad_input. Please use register_full_backward_hook to get the documented behavior.\n",
            "  warnings.warn(\"Using a non-full backward hook when the forward contains multiple autograd Nodes \"\n",
            "/usr/local/lib/python3.7/dist-packages/torch/nn/modules/module.py:939: UserWarning: Using non-full backward hooks on a Module that does not return a single Tensor or a tuple of Tensors is deprecated and will be removed in future versions. This hook will be missing some of the grad_output. Please use register_full_backward_hook to get the documented behavior.\n",
            "  warnings.warn(\"Using non-full backward hooks on a Module that does not return a \"\n",
            "0% [███████████████] 100% | ETA: 00:00:00\n",
            "Total time elapsed: 00:00:08\n"
          ]
        },
        {
          "output_type": "stream",
          "name": "stdout",
          "text": [
            "Finished Epoch 13 || Run Time:    5.0 | Load Time:    3.7 || F1:  97.33 | Prec:  96.05 | Rec:  98.65 || Ex/s: 284.23\n",
            "\n"
          ]
        },
        {
          "output_type": "execute_result",
          "data": {
            "text/plain": [
              "tensor(97.3333, device='cuda:0')"
            ]
          },
          "metadata": {},
          "execution_count": 78
        }
      ],
      "source": [
        "# Compute F1 on test set\n",
        "model.run_eval(test)"
      ]
    },
    {
      "cell_type": "markdown",
      "metadata": {
        "id": "Hvt3MiaV8Zk1"
      },
      "source": [
        "##### DBLP-GoogleScholar"
      ]
    },
    {
      "cell_type": "code",
      "execution_count": 79,
      "metadata": {
        "id": "8Fbt0PhW8Zk1"
      },
      "outputs": [],
      "source": [
        "train, validation, test = dm.data.process(\n",
        "    path='/content/IC/datasesErros/ADirty_90_3_5/Structured/DBLP-GoogleScholar/',\n",
        "    train='joined_train.csv',\n",
        "    validation='joined_valid.csv',\n",
        "    test='joined_test.csv')"
      ]
    },
    {
      "cell_type": "code",
      "execution_count": 80,
      "metadata": {
        "id": "yzRiP2zT8Zk2"
      },
      "outputs": [],
      "source": [
        "model = dm.MatchingModel(attr_summarizer='hybrid')"
      ]
    },
    {
      "cell_type": "code",
      "execution_count": 81,
      "metadata": {
        "id": "suAqw-TR8Zk2",
        "colab": {
          "base_uri": "https://localhost:8080/"
        },
        "outputId": "3d3236f2-22ca-4da8-d186-4b83c06d792a"
      },
      "outputs": [
        {
          "output_type": "stream",
          "name": "stdout",
          "text": [
            "* Number of trainable parameters: 9210006\n",
            "===>  TRAIN Epoch 1\n"
          ]
        },
        {
          "output_type": "stream",
          "name": "stderr",
          "text": [
            "/usr/local/lib/python3.7/dist-packages/torch/nn/modules/module.py:949: UserWarning: Using non-full backward hooks on a Module that does not take as input a single Tensor or a tuple of Tensors is deprecated and will be removed in future versions. This hook will be missing some of the grad_input. Please use register_full_backward_hook to get the documented behavior.\n",
            "  warnings.warn(\"Using non-full backward hooks on a Module that does not take as input a \"\n",
            "/usr/local/lib/python3.7/dist-packages/torch/nn/modules/module.py:974: UserWarning: Using a non-full backward hook when the forward contains multiple autograd Nodes is deprecated and will be removed in future versions. This hook will be missing some grad_input. Please use register_full_backward_hook to get the documented behavior.\n",
            "  warnings.warn(\"Using a non-full backward hook when the forward contains multiple autograd Nodes \"\n",
            "/usr/local/lib/python3.7/dist-packages/torch/nn/modules/module.py:939: UserWarning: Using non-full backward hooks on a Module that does not return a single Tensor or a tuple of Tensors is deprecated and will be removed in future versions. This hook will be missing some of the grad_output. Please use register_full_backward_hook to get the documented behavior.\n",
            "  warnings.warn(\"Using non-full backward hooks on a Module that does not return a \"\n",
            "/usr/local/lib/python3.7/dist-packages/torch/nn/functional.py:2742: UserWarning: reduction: 'mean' divides the total loss by both the batch size and the support size.'batchmean' divides only by the batch size, and aligns with the KL div math definition.'mean' will be changed to behave the same as 'batchmean' in the next major release.\n",
            "  \"reduction: 'mean' divides the total loss by both the batch size and the support size.\"\n",
            "0% [██████████████████████████████] 100% | ETA: 00:00:00\n",
            "Total time elapsed: 00:01:24\n"
          ]
        },
        {
          "output_type": "stream",
          "name": "stdout",
          "text": [
            "Finished Epoch 1 || Run Time:   62.4 | Load Time:   22.8 || F1:  77.48 | Prec:  70.21 | Rec:  86.44 || Ex/s: 202.27\n",
            "\n",
            "===>  EVAL Epoch 1\n"
          ]
        },
        {
          "output_type": "stream",
          "name": "stderr",
          "text": [
            "0% [██████████████████████████████] 100% | ETA: 00:00:00\n",
            "Total time elapsed: 00:00:18\n"
          ]
        },
        {
          "output_type": "stream",
          "name": "stdout",
          "text": [
            "Finished Epoch 1 || Run Time:   11.3 | Load Time:    7.5 || F1:  89.20 | Prec:  86.02 | Rec:  92.62 || Ex/s: 306.33\n",
            "\n",
            "* Best F1: tensor(89.1989, device='cuda:0')\n",
            "Saving best model...\n",
            "Done.\n",
            "---------------------\n",
            "\n",
            "===>  TRAIN Epoch 2\n"
          ]
        },
        {
          "output_type": "stream",
          "name": "stderr",
          "text": [
            "0% [██████████████████████████████] 100% | ETA: 00:00:00\n",
            "Total time elapsed: 00:01:24\n"
          ]
        },
        {
          "output_type": "stream",
          "name": "stdout",
          "text": [
            "Finished Epoch 2 || Run Time:   62.7 | Load Time:   22.9 || F1:  89.18 | Prec:  83.93 | Rec:  95.14 || Ex/s: 201.30\n",
            "\n",
            "===>  EVAL Epoch 2\n"
          ]
        },
        {
          "output_type": "stream",
          "name": "stderr",
          "text": [
            "0% [██████████████████████████████] 100% | ETA: 00:00:00\n",
            "Total time elapsed: 00:00:18\n"
          ]
        },
        {
          "output_type": "stream",
          "name": "stdout",
          "text": [
            "Finished Epoch 2 || Run Time:   11.0 | Load Time:    7.4 || F1:  89.51 | Prec:  84.07 | Rec:  95.70 || Ex/s: 310.92\n",
            "\n",
            "* Best F1: tensor(89.5105, device='cuda:0')\n",
            "Saving best model...\n",
            "Done.\n",
            "---------------------\n",
            "\n",
            "===>  TRAIN Epoch 3\n"
          ]
        },
        {
          "output_type": "stream",
          "name": "stderr",
          "text": [
            "0% [██████████████████████████████] 100% | ETA: 00:00:00\n",
            "Total time elapsed: 00:01:25\n"
          ]
        },
        {
          "output_type": "stream",
          "name": "stdout",
          "text": [
            "Finished Epoch 3 || Run Time:   63.2 | Load Time:   23.0 || F1:  93.22 | Prec:  89.61 | Rec:  97.13 || Ex/s: 199.88\n",
            "\n",
            "===>  EVAL Epoch 3\n"
          ]
        },
        {
          "output_type": "stream",
          "name": "stderr",
          "text": [
            "0% [██████████████████████████████] 100% | ETA: 00:00:00\n",
            "Total time elapsed: 00:00:18\n"
          ]
        },
        {
          "output_type": "stream",
          "name": "stdout",
          "text": [
            "Finished Epoch 3 || Run Time:   11.3 | Load Time:    7.5 || F1:  90.21 | Prec:  86.85 | Rec:  93.83 || Ex/s: 305.13\n",
            "\n",
            "* Best F1: tensor(90.2067, device='cuda:0')\n",
            "Saving best model...\n",
            "Done.\n",
            "---------------------\n",
            "\n",
            "===>  TRAIN Epoch 4\n"
          ]
        },
        {
          "output_type": "stream",
          "name": "stderr",
          "text": [
            "0% [██████████████████████████████] 100% | ETA: 00:00:00\n",
            "Total time elapsed: 00:01:24\n"
          ]
        },
        {
          "output_type": "stream",
          "name": "stdout",
          "text": [
            "Finished Epoch 4 || Run Time:   62.3 | Load Time:   22.8 || F1:  95.59 | Prec:  92.93 | Rec:  98.41 || Ex/s: 202.23\n",
            "\n",
            "===>  EVAL Epoch 4\n"
          ]
        },
        {
          "output_type": "stream",
          "name": "stderr",
          "text": [
            "0% [██████████████████████████████] 100% | ETA: 00:00:00\n",
            "Total time elapsed: 00:00:18\n"
          ]
        },
        {
          "output_type": "stream",
          "name": "stdout",
          "text": [
            "Finished Epoch 4 || Run Time:   11.3 | Load Time:    7.6 || F1:  88.71 | Prec:  81.78 | Rec:  96.92 || Ex/s: 303.41\n",
            "\n",
            "---------------------\n",
            "\n",
            "===>  TRAIN Epoch 5\n"
          ]
        },
        {
          "output_type": "stream",
          "name": "stderr",
          "text": [
            "0% [██████████████████████████████] 100% | ETA: 00:00:00\n",
            "Total time elapsed: 00:01:25\n"
          ]
        },
        {
          "output_type": "stream",
          "name": "stdout",
          "text": [
            "Finished Epoch 5 || Run Time:   63.0 | Load Time:   22.9 || F1:  97.10 | Prec:  95.51 | Rec:  98.75 || Ex/s: 200.55\n",
            "\n",
            "===>  EVAL Epoch 5\n"
          ]
        },
        {
          "output_type": "stream",
          "name": "stderr",
          "text": [
            "0% [██████████████████████████████] 100% | ETA: 00:00:00\n",
            "Total time elapsed: 00:00:18\n"
          ]
        },
        {
          "output_type": "stream",
          "name": "stdout",
          "text": [
            "Finished Epoch 5 || Run Time:   11.3 | Load Time:    7.4 || F1:  90.59 | Prec:  88.57 | Rec:  92.71 || Ex/s: 306.28\n",
            "\n",
            "* Best F1: tensor(90.5936, device='cuda:0')\n",
            "Saving best model...\n",
            "Done.\n",
            "---------------------\n",
            "\n",
            "===>  TRAIN Epoch 6\n"
          ]
        },
        {
          "output_type": "stream",
          "name": "stderr",
          "text": [
            "0% [██████████████████████████████] 100% | ETA: 00:00:00\n",
            "Total time elapsed: 00:01:25\n"
          ]
        },
        {
          "output_type": "stream",
          "name": "stdout",
          "text": [
            "Finished Epoch 6 || Run Time:   63.5 | Load Time:   22.9 || F1:  97.66 | Prec:  96.36 | Rec:  99.00 || Ex/s: 199.43\n",
            "\n",
            "===>  EVAL Epoch 6\n"
          ]
        },
        {
          "output_type": "stream",
          "name": "stderr",
          "text": [
            "0% [██████████████████████████████] 100% | ETA: 00:00:00\n",
            "Total time elapsed: 00:00:18\n"
          ]
        },
        {
          "output_type": "stream",
          "name": "stdout",
          "text": [
            "Finished Epoch 6 || Run Time:   11.2 | Load Time:    7.5 || F1:  89.34 | Prec:  89.42 | Rec:  89.25 || Ex/s: 306.96\n",
            "\n",
            "---------------------\n",
            "\n",
            "===>  TRAIN Epoch 7\n"
          ]
        },
        {
          "output_type": "stream",
          "name": "stderr",
          "text": [
            "0% [██████████████████████████████] 100% | ETA: 00:00:00\n",
            "Total time elapsed: 00:01:24\n"
          ]
        },
        {
          "output_type": "stream",
          "name": "stdout",
          "text": [
            "Finished Epoch 7 || Run Time:   62.7 | Load Time:   22.8 || F1:  98.36 | Prec:  97.46 | Rec:  99.28 || Ex/s: 201.46\n",
            "\n",
            "===>  EVAL Epoch 7\n"
          ]
        },
        {
          "output_type": "stream",
          "name": "stderr",
          "text": [
            "0% [██████████████████████████████] 100% | ETA: 00:00:00\n",
            "Total time elapsed: 00:00:18\n"
          ]
        },
        {
          "output_type": "stream",
          "name": "stdout",
          "text": [
            "Finished Epoch 7 || Run Time:   11.0 | Load Time:    7.4 || F1:  90.46 | Prec:  90.54 | Rec:  90.37 || Ex/s: 310.91\n",
            "\n",
            "---------------------\n",
            "\n",
            "===>  TRAIN Epoch 8\n"
          ]
        },
        {
          "output_type": "stream",
          "name": "stderr",
          "text": [
            "0% [██████████████████████████████] 100% | ETA: 00:00:00\n",
            "Total time elapsed: 00:01:24\n"
          ]
        },
        {
          "output_type": "stream",
          "name": "stdout",
          "text": [
            "Finished Epoch 8 || Run Time:   62.8 | Load Time:   22.8 || F1:  98.92 | Prec:  98.34 | Rec:  99.50 || Ex/s: 201.17\n",
            "\n",
            "===>  EVAL Epoch 8\n"
          ]
        },
        {
          "output_type": "stream",
          "name": "stderr",
          "text": [
            "0% [██████████████████████████████] 100% | ETA: 00:00:00\n",
            "Total time elapsed: 00:00:18\n"
          ]
        },
        {
          "output_type": "stream",
          "name": "stdout",
          "text": [
            "Finished Epoch 8 || Run Time:   11.5 | Load Time:    7.5 || F1:  90.72 | Prec:  91.45 | Rec:  90.00 || Ex/s: 303.21\n",
            "\n",
            "* Best F1: tensor(90.7207, device='cuda:0')\n",
            "Saving best model...\n",
            "Done.\n",
            "---------------------\n",
            "\n",
            "===>  TRAIN Epoch 9\n"
          ]
        },
        {
          "output_type": "stream",
          "name": "stderr",
          "text": [
            "0% [██████████████████████████████] 100% | ETA: 00:00:00\n",
            "Total time elapsed: 00:01:24\n"
          ]
        },
        {
          "output_type": "stream",
          "name": "stdout",
          "text": [
            "Finished Epoch 9 || Run Time:   62.3 | Load Time:   22.8 || F1:  99.19 | Prec:  98.70 | Rec:  99.69 || Ex/s: 202.33\n",
            "\n",
            "===>  EVAL Epoch 9\n"
          ]
        },
        {
          "output_type": "stream",
          "name": "stderr",
          "text": [
            "0% [██████████████████████████████] 100% | ETA: 00:00:00\n",
            "Total time elapsed: 00:00:18\n"
          ]
        },
        {
          "output_type": "stream",
          "name": "stdout",
          "text": [
            "Finished Epoch 9 || Run Time:   11.0 | Load Time:    7.3 || F1:  90.31 | Prec:  91.80 | Rec:  88.88 || Ex/s: 312.56\n",
            "\n",
            "---------------------\n",
            "\n",
            "===>  TRAIN Epoch 10\n"
          ]
        },
        {
          "output_type": "stream",
          "name": "stderr",
          "text": [
            "0% [██████████████████████████████] 100% | ETA: 00:00:00\n",
            "Total time elapsed: 00:01:23\n"
          ]
        },
        {
          "output_type": "stream",
          "name": "stdout",
          "text": [
            "Finished Epoch 10 || Run Time:   61.9 | Load Time:   22.7 || F1:  99.36 | Prec:  98.98 | Rec:  99.75 || Ex/s: 203.65\n",
            "\n",
            "===>  EVAL Epoch 10\n"
          ]
        },
        {
          "output_type": "stream",
          "name": "stderr",
          "text": [
            "0% [██████████████████████████████] 100% | ETA: 00:00:00\n",
            "Total time elapsed: 00:00:18\n"
          ]
        },
        {
          "output_type": "stream",
          "name": "stdout",
          "text": [
            "Finished Epoch 10 || Run Time:   11.1 | Load Time:    7.4 || F1:  91.00 | Prec:  90.79 | Rec:  91.21 || Ex/s: 310.43\n",
            "\n",
            "* Best F1: tensor(91.0023, device='cuda:0')\n",
            "Saving best model...\n",
            "Done.\n",
            "---------------------\n",
            "\n",
            "===>  TRAIN Epoch 11\n"
          ]
        },
        {
          "output_type": "stream",
          "name": "stderr",
          "text": [
            "0% [██████████████████████████████] 100% | ETA: 00:00:00\n",
            "Total time elapsed: 00:01:23\n"
          ]
        },
        {
          "output_type": "stream",
          "name": "stdout",
          "text": [
            "Finished Epoch 11 || Run Time:   62.0 | Load Time:   22.7 || F1:  99.55 | Prec:  99.23 | Rec:  99.88 || Ex/s: 203.49\n",
            "\n",
            "===>  EVAL Epoch 11\n"
          ]
        },
        {
          "output_type": "stream",
          "name": "stderr",
          "text": [
            "0% [██████████████████████████████] 100% | ETA: 00:00:00\n",
            "Total time elapsed: 00:00:18\n"
          ]
        },
        {
          "output_type": "stream",
          "name": "stdout",
          "text": [
            "Finished Epoch 11 || Run Time:   11.0 | Load Time:    7.4 || F1:  90.94 | Prec:  91.33 | Rec:  90.56 || Ex/s: 311.75\n",
            "\n",
            "---------------------\n",
            "\n",
            "===>  TRAIN Epoch 12\n"
          ]
        },
        {
          "output_type": "stream",
          "name": "stderr",
          "text": [
            "0% [██████████████████████████████] 100% | ETA: 00:00:00\n",
            "Total time elapsed: 00:01:24\n"
          ]
        },
        {
          "output_type": "stream",
          "name": "stdout",
          "text": [
            "Finished Epoch 12 || Run Time:   62.4 | Load Time:   22.9 || F1:  99.61 | Prec:  99.32 | Rec:  99.91 || Ex/s: 202.04\n",
            "\n",
            "===>  EVAL Epoch 12\n"
          ]
        },
        {
          "output_type": "stream",
          "name": "stderr",
          "text": [
            "0% [██████████████████████████████] 100% | ETA: 00:00:00\n",
            "Total time elapsed: 00:00:18\n"
          ]
        },
        {
          "output_type": "stream",
          "name": "stdout",
          "text": [
            "Finished Epoch 12 || Run Time:   11.2 | Load Time:    7.5 || F1:  90.76 | Prec:  91.06 | Rec:  90.47 || Ex/s: 307.41\n",
            "\n",
            "---------------------\n",
            "\n",
            "===>  TRAIN Epoch 13\n"
          ]
        },
        {
          "output_type": "stream",
          "name": "stderr",
          "text": [
            "0% [██████████████████████████████] 100% | ETA: 00:00:00\n",
            "Total time elapsed: 00:01:25\n"
          ]
        },
        {
          "output_type": "stream",
          "name": "stdout",
          "text": [
            "Finished Epoch 13 || Run Time:   63.1 | Load Time:   22.9 || F1:  99.69 | Prec:  99.47 | Rec:  99.91 || Ex/s: 200.20\n",
            "\n",
            "===>  EVAL Epoch 13\n"
          ]
        },
        {
          "output_type": "stream",
          "name": "stderr",
          "text": [
            "0% [██████████████████████████████] 100% | ETA: 00:00:00\n",
            "Total time elapsed: 00:00:18\n"
          ]
        },
        {
          "output_type": "stream",
          "name": "stdout",
          "text": [
            "Finished Epoch 13 || Run Time:   11.3 | Load Time:    7.5 || F1:  90.71 | Prec:  91.05 | Rec:  90.37 || Ex/s: 304.73\n",
            "\n",
            "---------------------\n",
            "\n",
            "===>  TRAIN Epoch 14\n"
          ]
        },
        {
          "output_type": "stream",
          "name": "stderr",
          "text": [
            "0% [██████████████████████████████] 100% | ETA: 00:00:00\n",
            "Total time elapsed: 00:01:24\n"
          ]
        },
        {
          "output_type": "stream",
          "name": "stdout",
          "text": [
            "Finished Epoch 14 || Run Time:   62.3 | Load Time:   22.7 || F1:  99.77 | Prec:  99.57 | Rec:  99.97 || Ex/s: 202.66\n",
            "\n",
            "===>  EVAL Epoch 14\n"
          ]
        },
        {
          "output_type": "stream",
          "name": "stderr",
          "text": [
            "0% [██████████████████████████████] 100% | ETA: 00:00:00\n",
            "Total time elapsed: 00:00:19\n"
          ]
        },
        {
          "output_type": "stream",
          "name": "stdout",
          "text": [
            "Finished Epoch 14 || Run Time:   11.6 | Load Time:    7.7 || F1:  90.68 | Prec:  90.89 | Rec:  90.47 || Ex/s: 298.11\n",
            "\n",
            "---------------------\n",
            "\n",
            "===>  TRAIN Epoch 15\n"
          ]
        },
        {
          "output_type": "stream",
          "name": "stderr",
          "text": [
            "0% [██████████████████████████████] 100% | ETA: 00:00:00\n",
            "Total time elapsed: 00:01:24\n"
          ]
        },
        {
          "output_type": "stream",
          "name": "stdout",
          "text": [
            "Finished Epoch 15 || Run Time:   62.7 | Load Time:   22.8 || F1:  99.81 | Prec:  99.66 | Rec:  99.97 || Ex/s: 201.37\n",
            "\n",
            "===>  EVAL Epoch 15\n"
          ]
        },
        {
          "output_type": "stream",
          "name": "stderr",
          "text": [
            "0% [██████████████████████████████] 100% | ETA: 00:00:00\n",
            "Total time elapsed: 00:00:18\n"
          ]
        },
        {
          "output_type": "stream",
          "name": "stdout",
          "text": [
            "Finished Epoch 15 || Run Time:   11.4 | Load Time:    7.6 || F1:  90.59 | Prec:  90.80 | Rec:  90.37 || Ex/s: 302.97\n",
            "\n",
            "---------------------\n",
            "\n",
            "Loading best model...\n",
            "Training done.\n"
          ]
        },
        {
          "output_type": "execute_result",
          "data": {
            "text/plain": [
              "tensor(91.0023, device='cuda:0')"
            ]
          },
          "metadata": {},
          "execution_count": 81
        }
      ],
      "source": [
        "model.run_train(\n",
        "    train,\n",
        "    validation,\n",
        "    epochs=15,\n",
        "    batch_size=32,\n",
        "    best_save_path='hybrid_model.pth',\n",
        "    pos_neg_ratio=3)"
      ]
    },
    {
      "cell_type": "code",
      "execution_count": 82,
      "metadata": {
        "id": "miqU3qu78Zk2",
        "colab": {
          "base_uri": "https://localhost:8080/"
        },
        "outputId": "7de95bad-511d-428d-85b2-d5ca4089dd4a"
      },
      "outputs": [
        {
          "output_type": "stream",
          "name": "stdout",
          "text": [
            "===>  EVAL Epoch 10\n"
          ]
        },
        {
          "output_type": "stream",
          "name": "stderr",
          "text": [
            "/usr/local/lib/python3.7/dist-packages/torch/nn/modules/module.py:949: UserWarning: Using non-full backward hooks on a Module that does not take as input a single Tensor or a tuple of Tensors is deprecated and will be removed in future versions. This hook will be missing some of the grad_input. Please use register_full_backward_hook to get the documented behavior.\n",
            "  warnings.warn(\"Using non-full backward hooks on a Module that does not take as input a \"\n",
            "/usr/local/lib/python3.7/dist-packages/torch/nn/modules/module.py:974: UserWarning: Using a non-full backward hook when the forward contains multiple autograd Nodes is deprecated and will be removed in future versions. This hook will be missing some grad_input. Please use register_full_backward_hook to get the documented behavior.\n",
            "  warnings.warn(\"Using a non-full backward hook when the forward contains multiple autograd Nodes \"\n",
            "/usr/local/lib/python3.7/dist-packages/torch/nn/modules/module.py:939: UserWarning: Using non-full backward hooks on a Module that does not return a single Tensor or a tuple of Tensors is deprecated and will be removed in future versions. This hook will be missing some of the grad_output. Please use register_full_backward_hook to get the documented behavior.\n",
            "  warnings.warn(\"Using non-full backward hooks on a Module that does not return a \"\n",
            "0% [██████████████████████████████] 100% | ETA: 00:00:00\n",
            "Total time elapsed: 00:00:18\n"
          ]
        },
        {
          "output_type": "stream",
          "name": "stdout",
          "text": [
            "Finished Epoch 10 || Run Time:   11.3 | Load Time:    7.5 || F1:  89.88 | Prec:  89.30 | Rec:  90.47 || Ex/s: 304.94\n",
            "\n"
          ]
        },
        {
          "output_type": "execute_result",
          "data": {
            "text/plain": [
              "tensor(89.8793, device='cuda:0')"
            ]
          },
          "metadata": {},
          "execution_count": 82
        }
      ],
      "source": [
        "# Compute F1 on test set\n",
        "model.run_eval(test)"
      ]
    },
    {
      "cell_type": "markdown",
      "metadata": {
        "id": "parT3nak8Zk3"
      },
      "source": [
        "##### Walmart-Amazon"
      ]
    },
    {
      "cell_type": "code",
      "execution_count": 83,
      "metadata": {
        "id": "4irvp-hv8Zk3"
      },
      "outputs": [],
      "source": [
        "train, validation, test = dm.data.process(\n",
        "    path='/content/IC/datasesErros/ADirty_90_3_5/Structured/Walmart-Amazon/',\n",
        "    train='joined_train.csv',\n",
        "    validation='joined_valid.csv',\n",
        "    test='joined_test.csv')"
      ]
    },
    {
      "cell_type": "code",
      "execution_count": 84,
      "metadata": {
        "id": "hfjEKHx98Zk3"
      },
      "outputs": [],
      "source": [
        "model = dm.MatchingModel(attr_summarizer='hybrid')"
      ]
    },
    {
      "cell_type": "code",
      "execution_count": 85,
      "metadata": {
        "id": "XXqijb-M8Zk4",
        "colab": {
          "base_uri": "https://localhost:8080/"
        },
        "outputId": "f602d704-b17c-43eb-ebc1-ee7a343a92e6"
      },
      "outputs": [
        {
          "output_type": "stream",
          "name": "stderr",
          "text": [
            "/usr/local/lib/python3.7/dist-packages/torch/nn/modules/module.py:949: UserWarning: Using non-full backward hooks on a Module that does not take as input a single Tensor or a tuple of Tensors is deprecated and will be removed in future versions. This hook will be missing some of the grad_input. Please use register_full_backward_hook to get the documented behavior.\n",
            "  warnings.warn(\"Using non-full backward hooks on a Module that does not take as input a \"\n",
            "/usr/local/lib/python3.7/dist-packages/torch/nn/modules/module.py:974: UserWarning: Using a non-full backward hook when the forward contains multiple autograd Nodes is deprecated and will be removed in future versions. This hook will be missing some grad_input. Please use register_full_backward_hook to get the documented behavior.\n",
            "  warnings.warn(\"Using a non-full backward hook when the forward contains multiple autograd Nodes \"\n"
          ]
        },
        {
          "output_type": "stream",
          "name": "stdout",
          "text": [
            "* Number of trainable parameters: 11286907\n",
            "===>  TRAIN Epoch 1\n"
          ]
        },
        {
          "output_type": "stream",
          "name": "stderr",
          "text": [
            "/usr/local/lib/python3.7/dist-packages/torch/nn/modules/module.py:939: UserWarning: Using non-full backward hooks on a Module that does not return a single Tensor or a tuple of Tensors is deprecated and will be removed in future versions. This hook will be missing some of the grad_output. Please use register_full_backward_hook to get the documented behavior.\n",
            "  warnings.warn(\"Using non-full backward hooks on a Module that does not return a \"\n",
            "/usr/local/lib/python3.7/dist-packages/torch/nn/functional.py:2742: UserWarning: reduction: 'mean' divides the total loss by both the batch size and the support size.'batchmean' divides only by the batch size, and aligns with the KL div math definition.'mean' will be changed to behave the same as 'batchmean' in the next major release.\n",
            "  \"reduction: 'mean' divides the total loss by both the batch size and the support size.\"\n",
            "0% [██████████████████████████████] 100% | ETA: 00:00:00\n",
            "Total time elapsed: 00:00:32\n"
          ]
        },
        {
          "output_type": "stream",
          "name": "stdout",
          "text": [
            "Finished Epoch 1 || Run Time:   26.2 | Load Time:    6.4 || F1:  37.65 | Prec:  49.03 | Rec:  30.56 || Ex/s: 188.34\n",
            "\n",
            "===>  EVAL Epoch 1\n"
          ]
        },
        {
          "output_type": "stream",
          "name": "stderr",
          "text": [
            "0% [█████████████] 100% | ETA: 00:00:00\n",
            "Total time elapsed: 00:00:06\n"
          ]
        },
        {
          "output_type": "stream",
          "name": "stdout",
          "text": [
            "Finished Epoch 1 || Run Time:    4.6 | Load Time:    2.1 || F1:  54.71 | Prec:  63.27 | Rec:  48.19 || Ex/s: 305.99\n",
            "\n",
            "* Best F1: tensor(54.7059, device='cuda:0')\n",
            "Saving best model...\n",
            "Done.\n",
            "---------------------\n",
            "\n",
            "===>  TRAIN Epoch 2\n"
          ]
        },
        {
          "output_type": "stream",
          "name": "stderr",
          "text": [
            "0% [██████████████████████████████] 100% | ETA: 00:00:00\n",
            "Total time elapsed: 00:00:32\n"
          ]
        },
        {
          "output_type": "stream",
          "name": "stdout",
          "text": [
            "Finished Epoch 2 || Run Time:   26.7 | Load Time:    6.5 || F1:  59.31 | Prec:  62.50 | Rec:  56.42 || Ex/s: 185.27\n",
            "\n",
            "===>  EVAL Epoch 2\n"
          ]
        },
        {
          "output_type": "stream",
          "name": "stderr",
          "text": [
            "0% [█████████████] 100% | ETA: 00:00:00\n",
            "Total time elapsed: 00:00:06\n"
          ]
        },
        {
          "output_type": "stream",
          "name": "stdout",
          "text": [
            "Finished Epoch 2 || Run Time:    4.7 | Load Time:    2.1 || F1:  60.18 | Prec:  69.86 | Rec:  52.85 || Ex/s: 302.92\n",
            "\n",
            "* Best F1: tensor(60.1770, device='cuda:0')\n",
            "Saving best model...\n",
            "Done.\n",
            "---------------------\n",
            "\n",
            "===>  TRAIN Epoch 3\n"
          ]
        },
        {
          "output_type": "stream",
          "name": "stderr",
          "text": [
            "0% [██████████████████████████████] 100% | ETA: 00:00:00\n",
            "Total time elapsed: 00:00:32\n"
          ]
        },
        {
          "output_type": "stream",
          "name": "stdout",
          "text": [
            "Finished Epoch 3 || Run Time:   26.1 | Load Time:    6.4 || F1:  70.26 | Prec:  67.19 | Rec:  73.61 || Ex/s: 188.87\n",
            "\n",
            "===>  EVAL Epoch 3\n"
          ]
        },
        {
          "output_type": "stream",
          "name": "stderr",
          "text": [
            "0% [█████████████] 100% | ETA: 00:00:00\n",
            "Total time elapsed: 00:00:07\n"
          ]
        },
        {
          "output_type": "stream",
          "name": "stdout",
          "text": [
            "Finished Epoch 3 || Run Time:    4.9 | Load Time:    2.1 || F1:  53.64 | Prec:  47.77 | Rec:  61.14 || Ex/s: 291.64\n",
            "\n",
            "---------------------\n",
            "\n",
            "===>  TRAIN Epoch 4\n"
          ]
        },
        {
          "output_type": "stream",
          "name": "stderr",
          "text": [
            "0% [██████████████████████████████] 100% | ETA: 00:00:00\n",
            "Total time elapsed: 00:00:32\n"
          ]
        },
        {
          "output_type": "stream",
          "name": "stdout",
          "text": [
            "Finished Epoch 4 || Run Time:   26.5 | Load Time:    6.5 || F1:  83.71 | Prec:  78.83 | Rec:  89.24 || Ex/s: 186.33\n",
            "\n",
            "===>  EVAL Epoch 4\n"
          ]
        },
        {
          "output_type": "stream",
          "name": "stderr",
          "text": [
            "0% [█████████████] 100% | ETA: 00:00:00\n",
            "Total time elapsed: 00:00:07\n"
          ]
        },
        {
          "output_type": "stream",
          "name": "stdout",
          "text": [
            "Finished Epoch 4 || Run Time:    4.9 | Load Time:    2.2 || F1:  56.06 | Prec:  58.43 | Rec:  53.89 || Ex/s: 291.31\n",
            "\n",
            "---------------------\n",
            "\n",
            "===>  TRAIN Epoch 5\n"
          ]
        },
        {
          "output_type": "stream",
          "name": "stderr",
          "text": [
            "0% [██████████████████████████████] 100% | ETA: 00:00:00\n",
            "Total time elapsed: 00:00:32\n"
          ]
        },
        {
          "output_type": "stream",
          "name": "stdout",
          "text": [
            "Finished Epoch 5 || Run Time:   26.5 | Load Time:    6.4 || F1:  90.94 | Prec:  87.24 | Rec:  94.97 || Ex/s: 186.72\n",
            "\n",
            "===>  EVAL Epoch 5\n"
          ]
        },
        {
          "output_type": "stream",
          "name": "stderr",
          "text": [
            "0% [█████████████] 100% | ETA: 00:00:00\n",
            "Total time elapsed: 00:00:06\n"
          ]
        },
        {
          "output_type": "stream",
          "name": "stdout",
          "text": [
            "Finished Epoch 5 || Run Time:    4.8 | Load Time:    2.1 || F1:  55.92 | Prec:  54.41 | Rec:  57.51 || Ex/s: 298.97\n",
            "\n",
            "---------------------\n",
            "\n",
            "===>  TRAIN Epoch 6\n"
          ]
        },
        {
          "output_type": "stream",
          "name": "stderr",
          "text": [
            "0% [██████████████████████████████] 100% | ETA: 00:00:00\n",
            "Total time elapsed: 00:00:32\n"
          ]
        },
        {
          "output_type": "stream",
          "name": "stdout",
          "text": [
            "Finished Epoch 6 || Run Time:   26.5 | Load Time:    6.5 || F1:  93.84 | Prec:  91.30 | Rec:  96.53 || Ex/s: 186.53\n",
            "\n",
            "===>  EVAL Epoch 6\n"
          ]
        },
        {
          "output_type": "stream",
          "name": "stderr",
          "text": [
            "0% [█████████████] 100% | ETA: 00:00:00\n",
            "Total time elapsed: 00:00:06\n"
          ]
        },
        {
          "output_type": "stream",
          "name": "stdout",
          "text": [
            "Finished Epoch 6 || Run Time:    4.7 | Load Time:    2.1 || F1:  60.36 | Prec:  70.34 | Rec:  52.85 || Ex/s: 304.11\n",
            "\n",
            "* Best F1: tensor(60.3550, device='cuda:0')\n",
            "Saving best model...\n",
            "Done.\n",
            "---------------------\n",
            "\n",
            "===>  TRAIN Epoch 7\n"
          ]
        },
        {
          "output_type": "stream",
          "name": "stderr",
          "text": [
            "0% [██████████████████████████████] 100% | ETA: 00:00:00\n",
            "Total time elapsed: 00:00:32\n"
          ]
        },
        {
          "output_type": "stream",
          "name": "stdout",
          "text": [
            "Finished Epoch 7 || Run Time:   26.5 | Load Time:    6.5 || F1:  98.09 | Prec:  97.92 | Rec:  98.26 || Ex/s: 185.76\n",
            "\n",
            "===>  EVAL Epoch 7\n"
          ]
        },
        {
          "output_type": "stream",
          "name": "stderr",
          "text": [
            "0% [█████████████] 100% | ETA: 00:00:00\n",
            "Total time elapsed: 00:00:06\n"
          ]
        },
        {
          "output_type": "stream",
          "name": "stdout",
          "text": [
            "Finished Epoch 7 || Run Time:    4.6 | Load Time:    2.1 || F1:  56.65 | Prec:  64.05 | Rec:  50.78 || Ex/s: 304.67\n",
            "\n",
            "---------------------\n",
            "\n",
            "===>  TRAIN Epoch 8\n"
          ]
        },
        {
          "output_type": "stream",
          "name": "stderr",
          "text": [
            "0% [██████████████████████████████] 100% | ETA: 00:00:00\n",
            "Total time elapsed: 00:00:32\n"
          ]
        },
        {
          "output_type": "stream",
          "name": "stdout",
          "text": [
            "Finished Epoch 8 || Run Time:   26.5 | Load Time:    6.4 || F1:  99.30 | Prec:  99.48 | Rec:  99.13 || Ex/s: 186.54\n",
            "\n",
            "===>  EVAL Epoch 8\n"
          ]
        },
        {
          "output_type": "stream",
          "name": "stderr",
          "text": [
            "0% [█████████████] 100% | ETA: 00:00:00\n",
            "Total time elapsed: 00:00:06\n"
          ]
        },
        {
          "output_type": "stream",
          "name": "stdout",
          "text": [
            "Finished Epoch 8 || Run Time:    4.6 | Load Time:    2.1 || F1:  56.99 | Prec:  58.06 | Rec:  55.96 || Ex/s: 306.15\n",
            "\n",
            "---------------------\n",
            "\n",
            "===>  TRAIN Epoch 9\n"
          ]
        },
        {
          "output_type": "stream",
          "name": "stderr",
          "text": [
            "0% [██████████████████████████████] 100% | ETA: 00:00:00\n",
            "Total time elapsed: 00:00:32\n"
          ]
        },
        {
          "output_type": "stream",
          "name": "stdout",
          "text": [
            "Finished Epoch 9 || Run Time:   26.1 | Load Time:    6.4 || F1:  99.48 | Prec:  99.83 | Rec:  99.13 || Ex/s: 189.34\n",
            "\n",
            "===>  EVAL Epoch 9\n"
          ]
        },
        {
          "output_type": "stream",
          "name": "stderr",
          "text": [
            "0% [█████████████] 100% | ETA: 00:00:00\n",
            "Total time elapsed: 00:00:07\n"
          ]
        },
        {
          "output_type": "stream",
          "name": "stdout",
          "text": [
            "Finished Epoch 9 || Run Time:    4.9 | Load Time:    2.2 || F1:  56.42 | Prec:  54.90 | Rec:  58.03 || Ex/s: 291.71\n",
            "\n",
            "---------------------\n",
            "\n",
            "===>  TRAIN Epoch 10\n"
          ]
        },
        {
          "output_type": "stream",
          "name": "stderr",
          "text": [
            "0% [██████████████████████████████] 100% | ETA: 00:00:00\n",
            "Total time elapsed: 00:00:32\n"
          ]
        },
        {
          "output_type": "stream",
          "name": "stdout",
          "text": [
            "Finished Epoch 10 || Run Time:   26.8 | Load Time:    6.5 || F1:  99.56 | Prec:  99.83 | Rec:  99.31 || Ex/s: 184.81\n",
            "\n",
            "===>  EVAL Epoch 10\n"
          ]
        },
        {
          "output_type": "stream",
          "name": "stderr",
          "text": [
            "0% [█████████████] 100% | ETA: 00:00:00\n",
            "Total time elapsed: 00:00:06\n"
          ]
        },
        {
          "output_type": "stream",
          "name": "stdout",
          "text": [
            "Finished Epoch 10 || Run Time:    4.6 | Load Time:    2.0 || F1:  56.57 | Prec:  55.17 | Rec:  58.03 || Ex/s: 309.13\n",
            "\n",
            "---------------------\n",
            "\n",
            "===>  TRAIN Epoch 11\n"
          ]
        },
        {
          "output_type": "stream",
          "name": "stderr",
          "text": [
            "0% [██████████████████████████████] 100% | ETA: 00:00:00\n",
            "Total time elapsed: 00:00:32\n"
          ]
        },
        {
          "output_type": "stream",
          "name": "stdout",
          "text": [
            "Finished Epoch 11 || Run Time:   26.1 | Load Time:    6.4 || F1:  99.56 | Prec:  99.83 | Rec:  99.31 || Ex/s: 189.14\n",
            "\n",
            "===>  EVAL Epoch 11\n"
          ]
        },
        {
          "output_type": "stream",
          "name": "stderr",
          "text": [
            "0% [█████████████] 100% | ETA: 00:00:00\n",
            "Total time elapsed: 00:00:06\n"
          ]
        },
        {
          "output_type": "stream",
          "name": "stdout",
          "text": [
            "Finished Epoch 11 || Run Time:    4.6 | Load Time:    2.1 || F1:  56.56 | Prec:  56.12 | Rec:  56.99 || Ex/s: 307.93\n",
            "\n",
            "---------------------\n",
            "\n",
            "===>  TRAIN Epoch 12\n"
          ]
        },
        {
          "output_type": "stream",
          "name": "stderr",
          "text": [
            "0% [██████████████████████████████] 100% | ETA: 00:00:00\n",
            "Total time elapsed: 00:00:32\n"
          ]
        },
        {
          "output_type": "stream",
          "name": "stdout",
          "text": [
            "Finished Epoch 12 || Run Time:   26.7 | Load Time:    6.5 || F1:  99.83 | Prec: 100.00 | Rec:  99.65 || Ex/s: 185.26\n",
            "\n",
            "===>  EVAL Epoch 12\n"
          ]
        },
        {
          "output_type": "stream",
          "name": "stderr",
          "text": [
            "0% [█████████████] 100% | ETA: 00:00:00\n",
            "Total time elapsed: 00:00:06\n"
          ]
        },
        {
          "output_type": "stream",
          "name": "stdout",
          "text": [
            "Finished Epoch 12 || Run Time:    4.6 | Load Time:    2.1 || F1:  56.48 | Prec:  56.48 | Rec:  56.48 || Ex/s: 306.04\n",
            "\n",
            "---------------------\n",
            "\n",
            "===>  TRAIN Epoch 13\n"
          ]
        },
        {
          "output_type": "stream",
          "name": "stderr",
          "text": [
            "0% [██████████████████████████████] 100% | ETA: 00:00:00\n",
            "Total time elapsed: 00:00:32\n"
          ]
        },
        {
          "output_type": "stream",
          "name": "stdout",
          "text": [
            "Finished Epoch 13 || Run Time:   26.1 | Load Time:    6.4 || F1:  99.83 | Prec: 100.00 | Rec:  99.65 || Ex/s: 188.95\n",
            "\n",
            "===>  EVAL Epoch 13\n"
          ]
        },
        {
          "output_type": "stream",
          "name": "stderr",
          "text": [
            "0% [█████████████] 100% | ETA: 00:00:00\n",
            "Total time elapsed: 00:00:06\n"
          ]
        },
        {
          "output_type": "stream",
          "name": "stdout",
          "text": [
            "Finished Epoch 13 || Run Time:    4.6 | Load Time:    2.1 || F1:  56.25 | Prec:  56.54 | Rec:  55.96 || Ex/s: 308.08\n",
            "\n",
            "---------------------\n",
            "\n",
            "===>  TRAIN Epoch 14\n"
          ]
        },
        {
          "output_type": "stream",
          "name": "stderr",
          "text": [
            "0% [██████████████████████████████] 100% | ETA: 00:00:00\n",
            "Total time elapsed: 00:00:32\n"
          ]
        },
        {
          "output_type": "stream",
          "name": "stdout",
          "text": [
            "Finished Epoch 14 || Run Time:   26.1 | Load Time:    6.4 || F1:  99.83 | Prec: 100.00 | Rec:  99.65 || Ex/s: 188.75\n",
            "\n",
            "===>  EVAL Epoch 14\n"
          ]
        },
        {
          "output_type": "stream",
          "name": "stderr",
          "text": [
            "0% [█████████████] 100% | ETA: 00:00:00\n",
            "Total time elapsed: 00:00:07\n"
          ]
        },
        {
          "output_type": "stream",
          "name": "stdout",
          "text": [
            "Finished Epoch 14 || Run Time:    4.9 | Load Time:    2.2 || F1:  55.94 | Prec:  56.99 | Rec:  54.92 || Ex/s: 288.35\n",
            "\n",
            "---------------------\n",
            "\n",
            "===>  TRAIN Epoch 15\n"
          ]
        },
        {
          "output_type": "stream",
          "name": "stderr",
          "text": [
            "0% [██████████████████████████████] 100% | ETA: 00:00:00\n",
            "Total time elapsed: 00:00:32\n"
          ]
        },
        {
          "output_type": "stream",
          "name": "stdout",
          "text": [
            "Finished Epoch 15 || Run Time:   26.1 | Load Time:    6.4 || F1:  99.83 | Prec: 100.00 | Rec:  99.65 || Ex/s: 188.95\n",
            "\n",
            "===>  EVAL Epoch 15\n"
          ]
        },
        {
          "output_type": "stream",
          "name": "stderr",
          "text": [
            "0% [█████████████] 100% | ETA: 00:00:00\n",
            "Total time elapsed: 00:00:06\n"
          ]
        },
        {
          "output_type": "stream",
          "name": "stdout",
          "text": [
            "Finished Epoch 15 || Run Time:    4.6 | Load Time:    2.1 || F1:  56.23 | Prec:  57.61 | Rec:  54.92 || Ex/s: 306.55\n",
            "\n",
            "---------------------\n",
            "\n",
            "Loading best model...\n",
            "Training done.\n"
          ]
        },
        {
          "output_type": "execute_result",
          "data": {
            "text/plain": [
              "tensor(60.3550, device='cuda:0')"
            ]
          },
          "metadata": {},
          "execution_count": 85
        }
      ],
      "source": [
        "model.run_train(\n",
        "    train,\n",
        "    validation,\n",
        "    epochs=15,\n",
        "    batch_size=32,\n",
        "    best_save_path='hybrid_model.pth',\n",
        "    pos_neg_ratio=3)"
      ]
    },
    {
      "cell_type": "code",
      "execution_count": 86,
      "metadata": {
        "id": "tT_4ZVfk8Zk4",
        "colab": {
          "base_uri": "https://localhost:8080/"
        },
        "outputId": "b99546a3-466f-4be3-c90b-a9206aed3a4e"
      },
      "outputs": [
        {
          "output_type": "stream",
          "name": "stdout",
          "text": [
            "===>  EVAL Epoch 6\n"
          ]
        },
        {
          "output_type": "stream",
          "name": "stderr",
          "text": [
            "/usr/local/lib/python3.7/dist-packages/torch/nn/modules/module.py:949: UserWarning: Using non-full backward hooks on a Module that does not take as input a single Tensor or a tuple of Tensors is deprecated and will be removed in future versions. This hook will be missing some of the grad_input. Please use register_full_backward_hook to get the documented behavior.\n",
            "  warnings.warn(\"Using non-full backward hooks on a Module that does not take as input a \"\n",
            "/usr/local/lib/python3.7/dist-packages/torch/nn/modules/module.py:974: UserWarning: Using a non-full backward hook when the forward contains multiple autograd Nodes is deprecated and will be removed in future versions. This hook will be missing some grad_input. Please use register_full_backward_hook to get the documented behavior.\n",
            "  warnings.warn(\"Using a non-full backward hook when the forward contains multiple autograd Nodes \"\n",
            "/usr/local/lib/python3.7/dist-packages/torch/nn/modules/module.py:939: UserWarning: Using non-full backward hooks on a Module that does not return a single Tensor or a tuple of Tensors is deprecated and will be removed in future versions. This hook will be missing some of the grad_output. Please use register_full_backward_hook to get the documented behavior.\n",
            "  warnings.warn(\"Using non-full backward hooks on a Module that does not return a \"\n",
            "0% [█████████████] 100% | ETA: 00:00:00\n",
            "Total time elapsed: 00:00:06\n"
          ]
        },
        {
          "output_type": "stream",
          "name": "stdout",
          "text": [
            "Finished Epoch 6 || Run Time:    4.7 | Load Time:    2.1 || F1:  63.16 | Prec:  78.46 | Rec:  52.85 || Ex/s: 302.74\n",
            "\n"
          ]
        },
        {
          "output_type": "execute_result",
          "data": {
            "text/plain": [
              "tensor(63.1579, device='cuda:0')"
            ]
          },
          "metadata": {},
          "execution_count": 86
        }
      ],
      "source": [
        "# Compute F1 on test set\n",
        "model.run_eval(test)"
      ]
    },
    {
      "cell_type": "markdown",
      "metadata": {
        "id": "JE8Wkqh88Zk5"
      },
      "source": [
        "#### TEXTUAL"
      ]
    },
    {
      "cell_type": "markdown",
      "metadata": {
        "id": "Psve9YNz8Zk5"
      },
      "source": [
        "##### Abt-Buy"
      ]
    },
    {
      "cell_type": "code",
      "execution_count": 87,
      "metadata": {
        "id": "vNpMNuW08Zk5"
      },
      "outputs": [],
      "source": [
        "train, validation, test = dm.data.process(\n",
        "    path='/content/IC/datasesErros/ADirty_90_3_5/Textual/Abt-Buy/',\n",
        "    train='joined_train.csv',\n",
        "    validation='joined_valid.csv',\n",
        "    test='joined_test.csv')"
      ]
    },
    {
      "cell_type": "code",
      "execution_count": 88,
      "metadata": {
        "id": "9qZteSoc8Zk6"
      },
      "outputs": [],
      "source": [
        "model = dm.MatchingModel(attr_summarizer='hybrid')"
      ]
    },
    {
      "cell_type": "code",
      "execution_count": 89,
      "metadata": {
        "id": "TqdspHko8Zk6",
        "colab": {
          "base_uri": "https://localhost:8080/"
        },
        "outputId": "89cd8431-a949-47f8-9ffa-d68610b1f53e"
      },
      "outputs": [
        {
          "output_type": "stream",
          "name": "stdout",
          "text": [
            "* Number of trainable parameters: 7133105\n",
            "===>  TRAIN Epoch 1\n"
          ]
        },
        {
          "output_type": "stream",
          "name": "stderr",
          "text": [
            "/usr/local/lib/python3.7/dist-packages/torch/nn/modules/module.py:949: UserWarning: Using non-full backward hooks on a Module that does not take as input a single Tensor or a tuple of Tensors is deprecated and will be removed in future versions. This hook will be missing some of the grad_input. Please use register_full_backward_hook to get the documented behavior.\n",
            "  warnings.warn(\"Using non-full backward hooks on a Module that does not take as input a \"\n",
            "/usr/local/lib/python3.7/dist-packages/torch/nn/modules/module.py:974: UserWarning: Using a non-full backward hook when the forward contains multiple autograd Nodes is deprecated and will be removed in future versions. This hook will be missing some grad_input. Please use register_full_backward_hook to get the documented behavior.\n",
            "  warnings.warn(\"Using a non-full backward hook when the forward contains multiple autograd Nodes \"\n",
            "/usr/local/lib/python3.7/dist-packages/torch/nn/modules/module.py:939: UserWarning: Using non-full backward hooks on a Module that does not return a single Tensor or a tuple of Tensors is deprecated and will be removed in future versions. This hook will be missing some of the grad_output. Please use register_full_backward_hook to get the documented behavior.\n",
            "  warnings.warn(\"Using non-full backward hooks on a Module that does not return a \"\n",
            "/usr/local/lib/python3.7/dist-packages/torch/nn/functional.py:2742: UserWarning: reduction: 'mean' divides the total loss by both the batch size and the support size.'batchmean' divides only by the batch size, and aligns with the KL div math definition.'mean' will be changed to behave the same as 'batchmean' in the next major release.\n",
            "  \"reduction: 'mean' divides the total loss by both the batch size and the support size.\"\n",
            "0% [██████████████████████████████] 100% | ETA: 00:00:00\n",
            "Total time elapsed: 00:00:27\n"
          ]
        },
        {
          "output_type": "stream",
          "name": "stdout",
          "text": [
            "Finished Epoch 1 || Run Time:   17.7 | Load Time:    9.7 || F1:  17.62 | Prec:  27.40 | Rec:  12.99 || Ex/s: 209.69\n",
            "\n",
            "===>  EVAL Epoch 1\n"
          ]
        },
        {
          "output_type": "stream",
          "name": "stderr",
          "text": [
            "0% [████████████] 100% | ETA: 00:00:00\n",
            "Total time elapsed: 00:00:06\n"
          ]
        },
        {
          "output_type": "stream",
          "name": "stdout",
          "text": [
            "Finished Epoch 1 || Run Time:    3.0 | Load Time:    3.0 || F1:  42.50 | Prec:  59.65 | Rec:  33.01 || Ex/s: 317.20\n",
            "\n",
            "* Best F1: tensor(42.5000, device='cuda:0')\n",
            "Saving best model...\n",
            "Done.\n",
            "---------------------\n",
            "\n",
            "===>  TRAIN Epoch 2\n"
          ]
        },
        {
          "output_type": "stream",
          "name": "stderr",
          "text": [
            "0% [██████████████████████████████] 100% | ETA: 00:00:00\n",
            "Total time elapsed: 00:00:27\n"
          ]
        },
        {
          "output_type": "stream",
          "name": "stdout",
          "text": [
            "Finished Epoch 2 || Run Time:   17.9 | Load Time:    9.8 || F1:  57.05 | Prec:  56.64 | Rec:  57.47 || Ex/s: 207.51\n",
            "\n",
            "===>  EVAL Epoch 2\n"
          ]
        },
        {
          "output_type": "stream",
          "name": "stderr",
          "text": [
            "0% [████████████] 100% | ETA: 00:00:00\n",
            "Total time elapsed: 00:00:06\n"
          ]
        },
        {
          "output_type": "stream",
          "name": "stdout",
          "text": [
            "Finished Epoch 2 || Run Time:    3.0 | Load Time:    3.0 || F1:  53.91 | Prec:  60.61 | Rec:  48.54 || Ex/s: 317.43\n",
            "\n",
            "* Best F1: tensor(53.9084, device='cuda:0')\n",
            "Saving best model...\n",
            "Done.\n",
            "---------------------\n",
            "\n",
            "===>  TRAIN Epoch 3\n"
          ]
        },
        {
          "output_type": "stream",
          "name": "stderr",
          "text": [
            "0% [██████████████████████████████] 100% | ETA: 00:00:00\n",
            "Total time elapsed: 00:00:27\n"
          ]
        },
        {
          "output_type": "stream",
          "name": "stdout",
          "text": [
            "Finished Epoch 3 || Run Time:   17.9 | Load Time:    9.8 || F1:  67.54 | Prec:  64.32 | Rec:  71.10 || Ex/s: 207.52\n",
            "\n",
            "===>  EVAL Epoch 3\n"
          ]
        },
        {
          "output_type": "stream",
          "name": "stderr",
          "text": [
            "0% [████████████] 100% | ETA: 00:00:00\n",
            "Total time elapsed: 00:00:06\n"
          ]
        },
        {
          "output_type": "stream",
          "name": "stdout",
          "text": [
            "Finished Epoch 3 || Run Time:    3.0 | Load Time:    3.0 || F1:  52.42 | Prec:  47.98 | Rec:  57.77 || Ex/s: 316.20\n",
            "\n",
            "---------------------\n",
            "\n",
            "===>  TRAIN Epoch 4\n"
          ]
        },
        {
          "output_type": "stream",
          "name": "stderr",
          "text": [
            "0% [██████████████████████████████] 100% | ETA: 00:00:00\n",
            "Total time elapsed: 00:00:27\n"
          ]
        },
        {
          "output_type": "stream",
          "name": "stdout",
          "text": [
            "Finished Epoch 4 || Run Time:   17.7 | Load Time:    9.8 || F1:  75.00 | Prec:  73.15 | Rec:  76.95 || Ex/s: 209.41\n",
            "\n",
            "===>  EVAL Epoch 4\n"
          ]
        },
        {
          "output_type": "stream",
          "name": "stderr",
          "text": [
            "0% [████████████] 100% | ETA: 00:00:00\n",
            "Total time elapsed: 00:00:06\n"
          ]
        },
        {
          "output_type": "stream",
          "name": "stdout",
          "text": [
            "Finished Epoch 4 || Run Time:    3.1 | Load Time:    3.1 || F1:  51.46 | Prec:  43.00 | Rec:  64.08 || Ex/s: 313.35\n",
            "\n",
            "---------------------\n",
            "\n",
            "===>  TRAIN Epoch 5\n"
          ]
        },
        {
          "output_type": "stream",
          "name": "stderr",
          "text": [
            "0% [██████████████████████████████] 100% | ETA: 00:00:00\n",
            "Total time elapsed: 00:00:27\n"
          ]
        },
        {
          "output_type": "stream",
          "name": "stdout",
          "text": [
            "Finished Epoch 5 || Run Time:   18.0 | Load Time:    9.8 || F1:  81.41 | Prec:  78.46 | Rec:  84.58 || Ex/s: 206.20\n",
            "\n",
            "===>  EVAL Epoch 5\n"
          ]
        },
        {
          "output_type": "stream",
          "name": "stderr",
          "text": [
            "0% [████████████] 100% | ETA: 00:00:00\n",
            "Total time elapsed: 00:00:06\n"
          ]
        },
        {
          "output_type": "stream",
          "name": "stdout",
          "text": [
            "Finished Epoch 5 || Run Time:    3.1 | Load Time:    3.1 || F1:  54.43 | Prec:  49.03 | Rec:  61.17 || Ex/s: 312.02\n",
            "\n",
            "* Best F1: tensor(54.4276, device='cuda:0')\n",
            "Saving best model...\n",
            "Done.\n",
            "---------------------\n",
            "\n",
            "===>  TRAIN Epoch 6\n"
          ]
        },
        {
          "output_type": "stream",
          "name": "stderr",
          "text": [
            "0% [██████████████████████████████] 100% | ETA: 00:00:00\n",
            "Total time elapsed: 00:00:27\n"
          ]
        },
        {
          "output_type": "stream",
          "name": "stdout",
          "text": [
            "Finished Epoch 6 || Run Time:   17.8 | Load Time:    9.7 || F1:  84.72 | Prec:  82.69 | Rec:  86.85 || Ex/s: 208.78\n",
            "\n",
            "===>  EVAL Epoch 6\n"
          ]
        },
        {
          "output_type": "stream",
          "name": "stderr",
          "text": [
            "0% [████████████] 100% | ETA: 00:00:00\n",
            "Total time elapsed: 00:00:06\n"
          ]
        },
        {
          "output_type": "stream",
          "name": "stdout",
          "text": [
            "Finished Epoch 6 || Run Time:    3.0 | Load Time:    3.1 || F1:  52.61 | Prec:  46.15 | Rec:  61.17 || Ex/s: 314.89\n",
            "\n",
            "---------------------\n",
            "\n",
            "===>  TRAIN Epoch 7\n"
          ]
        },
        {
          "output_type": "stream",
          "name": "stderr",
          "text": [
            "0% [██████████████████████████████] 100% | ETA: 00:00:00\n",
            "Total time elapsed: 00:00:27\n"
          ]
        },
        {
          "output_type": "stream",
          "name": "stdout",
          "text": [
            "Finished Epoch 7 || Run Time:   17.7 | Load Time:    9.7 || F1:  89.48 | Prec:  88.55 | Rec:  90.42 || Ex/s: 209.38\n",
            "\n",
            "===>  EVAL Epoch 7\n"
          ]
        },
        {
          "output_type": "stream",
          "name": "stderr",
          "text": [
            "0% [████████████] 100% | ETA: 00:00:00\n",
            "Total time elapsed: 00:00:06\n"
          ]
        },
        {
          "output_type": "stream",
          "name": "stdout",
          "text": [
            "Finished Epoch 7 || Run Time:    3.0 | Load Time:    3.1 || F1:  50.78 | Prec:  42.48 | Rec:  63.11 || Ex/s: 314.39\n",
            "\n",
            "---------------------\n",
            "\n",
            "===>  TRAIN Epoch 8\n"
          ]
        },
        {
          "output_type": "stream",
          "name": "stderr",
          "text": [
            "0% [██████████████████████████████] 100% | ETA: 00:00:00\n",
            "Total time elapsed: 00:00:27\n"
          ]
        },
        {
          "output_type": "stream",
          "name": "stdout",
          "text": [
            "Finished Epoch 8 || Run Time:   18.0 | Load Time:    9.9 || F1:  91.59 | Prec:  90.36 | Rec:  92.86 || Ex/s: 206.24\n",
            "\n",
            "===>  EVAL Epoch 8\n"
          ]
        },
        {
          "output_type": "stream",
          "name": "stderr",
          "text": [
            "0% [████████████] 100% | ETA: 00:00:00\n",
            "Total time elapsed: 00:00:06\n"
          ]
        },
        {
          "output_type": "stream",
          "name": "stdout",
          "text": [
            "Finished Epoch 8 || Run Time:    3.0 | Load Time:    3.0 || F1:  50.51 | Prec:  53.23 | Rec:  48.06 || Ex/s: 316.71\n",
            "\n",
            "---------------------\n",
            "\n",
            "===>  TRAIN Epoch 9\n"
          ]
        },
        {
          "output_type": "stream",
          "name": "stderr",
          "text": [
            "0% [██████████████████████████████] 100% | ETA: 00:00:00\n",
            "Total time elapsed: 00:00:27\n"
          ]
        },
        {
          "output_type": "stream",
          "name": "stdout",
          "text": [
            "Finished Epoch 9 || Run Time:   17.6 | Load Time:    9.7 || F1:  93.69 | Prec:  92.28 | Rec:  95.13 || Ex/s: 209.82\n",
            "\n",
            "===>  EVAL Epoch 9\n"
          ]
        },
        {
          "output_type": "stream",
          "name": "stderr",
          "text": [
            "0% [████████████] 100% | ETA: 00:00:00\n",
            "Total time elapsed: 00:00:06\n"
          ]
        },
        {
          "output_type": "stream",
          "name": "stdout",
          "text": [
            "Finished Epoch 9 || Run Time:    3.0 | Load Time:    3.0 || F1:  50.78 | Prec:  54.44 | Rec:  47.57 || Ex/s: 314.93\n",
            "\n",
            "---------------------\n",
            "\n",
            "===>  TRAIN Epoch 10\n"
          ]
        },
        {
          "output_type": "stream",
          "name": "stderr",
          "text": [
            "0% [██████████████████████████████] 100% | ETA: 00:00:00\n",
            "Total time elapsed: 00:00:27\n"
          ]
        },
        {
          "output_type": "stream",
          "name": "stdout",
          "text": [
            "Finished Epoch 10 || Run Time:   17.7 | Load Time:    9.7 || F1:  95.18 | Prec:  94.13 | Rec:  96.27 || Ex/s: 209.48\n",
            "\n",
            "===>  EVAL Epoch 10\n"
          ]
        },
        {
          "output_type": "stream",
          "name": "stderr",
          "text": [
            "0% [████████████] 100% | ETA: 00:00:00\n",
            "Total time elapsed: 00:00:06\n"
          ]
        },
        {
          "output_type": "stream",
          "name": "stdout",
          "text": [
            "Finished Epoch 10 || Run Time:    3.0 | Load Time:    3.0 || F1:  49.87 | Prec:  53.63 | Rec:  46.60 || Ex/s: 314.16\n",
            "\n",
            "---------------------\n",
            "\n",
            "===>  TRAIN Epoch 11\n"
          ]
        },
        {
          "output_type": "stream",
          "name": "stderr",
          "text": [
            "0% [██████████████████████████████] 100% | ETA: 00:00:00\n",
            "Total time elapsed: 00:00:27\n"
          ]
        },
        {
          "output_type": "stream",
          "name": "stdout",
          "text": [
            "Finished Epoch 11 || Run Time:   17.9 | Load Time:    9.8 || F1:  96.62 | Prec:  95.70 | Rec:  97.56 || Ex/s: 206.86\n",
            "\n",
            "===>  EVAL Epoch 11\n"
          ]
        },
        {
          "output_type": "stream",
          "name": "stderr",
          "text": [
            "0% [████████████] 100% | ETA: 00:00:00\n",
            "Total time elapsed: 00:00:06\n"
          ]
        },
        {
          "output_type": "stream",
          "name": "stdout",
          "text": [
            "Finished Epoch 11 || Run Time:    3.0 | Load Time:    3.0 || F1:  51.02 | Prec:  53.76 | Rec:  48.54 || Ex/s: 318.78\n",
            "\n",
            "---------------------\n",
            "\n",
            "===>  TRAIN Epoch 12\n"
          ]
        },
        {
          "output_type": "stream",
          "name": "stderr",
          "text": [
            "0% [██████████████████████████████] 100% | ETA: 00:00:00\n",
            "Total time elapsed: 00:00:27\n"
          ]
        },
        {
          "output_type": "stream",
          "name": "stdout",
          "text": [
            "Finished Epoch 12 || Run Time:   17.8 | Load Time:    9.8 || F1:  97.58 | Prec:  96.81 | Rec:  98.38 || Ex/s: 208.40\n",
            "\n",
            "===>  EVAL Epoch 12\n"
          ]
        },
        {
          "output_type": "stream",
          "name": "stderr",
          "text": [
            "0% [████████████] 100% | ETA: 00:00:00\n",
            "Total time elapsed: 00:00:06\n"
          ]
        },
        {
          "output_type": "stream",
          "name": "stdout",
          "text": [
            "Finished Epoch 12 || Run Time:    3.0 | Load Time:    3.1 || F1:  50.00 | Prec:  53.93 | Rec:  46.60 || Ex/s: 315.50\n",
            "\n",
            "---------------------\n",
            "\n",
            "===>  TRAIN Epoch 13\n"
          ]
        },
        {
          "output_type": "stream",
          "name": "stderr",
          "text": [
            "0% [██████████████████████████████] 100% | ETA: 00:00:00\n",
            "Total time elapsed: 00:00:27\n"
          ]
        },
        {
          "output_type": "stream",
          "name": "stdout",
          "text": [
            "Finished Epoch 13 || Run Time:   17.8 | Load Time:    9.7 || F1:  98.06 | Prec:  97.59 | Rec:  98.54 || Ex/s: 208.75\n",
            "\n",
            "===>  EVAL Epoch 13\n"
          ]
        },
        {
          "output_type": "stream",
          "name": "stderr",
          "text": [
            "0% [████████████] 100% | ETA: 00:00:00\n",
            "Total time elapsed: 00:00:06\n"
          ]
        },
        {
          "output_type": "stream",
          "name": "stdout",
          "text": [
            "Finished Epoch 13 || Run Time:    3.0 | Load Time:    3.1 || F1:  50.00 | Prec:  56.02 | Rec:  45.15 || Ex/s: 315.25\n",
            "\n",
            "---------------------\n",
            "\n",
            "===>  TRAIN Epoch 14\n"
          ]
        },
        {
          "output_type": "stream",
          "name": "stderr",
          "text": [
            "0% [██████████████████████████████] 100% | ETA: 00:00:00\n",
            "Total time elapsed: 00:00:27\n"
          ]
        },
        {
          "output_type": "stream",
          "name": "stdout",
          "text": [
            "Finished Epoch 14 || Run Time:   17.9 | Load Time:    9.8 || F1:  98.71 | Prec:  98.23 | Rec:  99.19 || Ex/s: 206.94\n",
            "\n",
            "===>  EVAL Epoch 14\n"
          ]
        },
        {
          "output_type": "stream",
          "name": "stderr",
          "text": [
            "0% [████████████] 100% | ETA: 00:00:00\n",
            "Total time elapsed: 00:00:06\n"
          ]
        },
        {
          "output_type": "stream",
          "name": "stdout",
          "text": [
            "Finished Epoch 14 || Run Time:    3.0 | Load Time:    3.1 || F1:  49.86 | Prec:  56.44 | Rec:  44.66 || Ex/s: 312.54\n",
            "\n",
            "---------------------\n",
            "\n",
            "===>  TRAIN Epoch 15\n"
          ]
        },
        {
          "output_type": "stream",
          "name": "stderr",
          "text": [
            "0% [██████████████████████████████] 100% | ETA: 00:00:00\n",
            "Total time elapsed: 00:00:27\n"
          ]
        },
        {
          "output_type": "stream",
          "name": "stdout",
          "text": [
            "Finished Epoch 15 || Run Time:   17.8 | Load Time:    9.8 || F1:  98.71 | Prec:  98.08 | Rec:  99.35 || Ex/s: 208.11\n",
            "\n",
            "===>  EVAL Epoch 15\n"
          ]
        },
        {
          "output_type": "stream",
          "name": "stderr",
          "text": [
            "0% [████████████] 100% | ETA: 00:00:00\n",
            "Total time elapsed: 00:00:06\n"
          ]
        },
        {
          "output_type": "stream",
          "name": "stdout",
          "text": [
            "Finished Epoch 15 || Run Time:    3.0 | Load Time:    3.0 || F1:  50.00 | Prec:  57.59 | Rec:  44.17 || Ex/s: 314.52\n",
            "\n",
            "---------------------\n",
            "\n",
            "Loading best model...\n",
            "Training done.\n"
          ]
        },
        {
          "output_type": "execute_result",
          "data": {
            "text/plain": [
              "tensor(54.4276, device='cuda:0')"
            ]
          },
          "metadata": {},
          "execution_count": 89
        }
      ],
      "source": [
        "model.run_train(\n",
        "    train,\n",
        "    validation,\n",
        "    epochs=15,\n",
        "    batch_size=32,\n",
        "    best_save_path='hybrid_model.pth',\n",
        "    pos_neg_ratio=3)"
      ]
    },
    {
      "cell_type": "code",
      "execution_count": 90,
      "metadata": {
        "id": "PEwvO60_8Zk6",
        "colab": {
          "base_uri": "https://localhost:8080/"
        },
        "outputId": "852fd06e-4fb1-482d-b9ee-f9c56e143690"
      },
      "outputs": [
        {
          "output_type": "stream",
          "name": "stdout",
          "text": [
            "===>  EVAL Epoch 5\n"
          ]
        },
        {
          "output_type": "stream",
          "name": "stderr",
          "text": [
            "/usr/local/lib/python3.7/dist-packages/torch/nn/modules/module.py:949: UserWarning: Using non-full backward hooks on a Module that does not take as input a single Tensor or a tuple of Tensors is deprecated and will be removed in future versions. This hook will be missing some of the grad_input. Please use register_full_backward_hook to get the documented behavior.\n",
            "  warnings.warn(\"Using non-full backward hooks on a Module that does not take as input a \"\n",
            "/usr/local/lib/python3.7/dist-packages/torch/nn/modules/module.py:974: UserWarning: Using a non-full backward hook when the forward contains multiple autograd Nodes is deprecated and will be removed in future versions. This hook will be missing some grad_input. Please use register_full_backward_hook to get the documented behavior.\n",
            "  warnings.warn(\"Using a non-full backward hook when the forward contains multiple autograd Nodes \"\n",
            "/usr/local/lib/python3.7/dist-packages/torch/nn/modules/module.py:939: UserWarning: Using non-full backward hooks on a Module that does not return a single Tensor or a tuple of Tensors is deprecated and will be removed in future versions. This hook will be missing some of the grad_output. Please use register_full_backward_hook to get the documented behavior.\n",
            "  warnings.warn(\"Using non-full backward hooks on a Module that does not return a \"\n",
            "0% [████████████] 100% | ETA: 00:00:00\n",
            "Total time elapsed: 00:00:06\n"
          ]
        },
        {
          "output_type": "stream",
          "name": "stdout",
          "text": [
            "Finished Epoch 5 || Run Time:    3.4 | Load Time:    3.1 || F1:  51.19 | Prec:  46.27 | Rec:  57.28 || Ex/s: 291.81\n",
            "\n"
          ]
        },
        {
          "output_type": "execute_result",
          "data": {
            "text/plain": [
              "tensor(51.1931, device='cuda:0')"
            ]
          },
          "metadata": {},
          "execution_count": 90
        }
      ],
      "source": [
        "# Compute F1 on test set\n",
        "model.run_eval(test)"
      ]
    },
    {
      "cell_type": "markdown",
      "metadata": {
        "id": "Kk9AAkbf8Zk7"
      },
      "source": [
        "#### DIRTY"
      ]
    },
    {
      "cell_type": "markdown",
      "metadata": {
        "id": "oFQ_ujuN8Zk7"
      },
      "source": [
        "##### DBLP-ACM"
      ]
    },
    {
      "cell_type": "code",
      "execution_count": 91,
      "metadata": {
        "id": "mlDdbQR18Zk7"
      },
      "outputs": [],
      "source": [
        "train, validation, test = dm.data.process(\n",
        "    path='/content/IC/datasesErros/ADirty_90_3_5/Dirty/DBLP-ACM/',\n",
        "    train='joined_train.csv',\n",
        "    validation='joined_valid.csv',\n",
        "    test='joined_test.csv')"
      ]
    },
    {
      "cell_type": "code",
      "execution_count": 92,
      "metadata": {
        "id": "jU-stkTq8Zk7"
      },
      "outputs": [],
      "source": [
        "model = dm.MatchingModel(attr_summarizer='hybrid')"
      ]
    },
    {
      "cell_type": "code",
      "execution_count": 93,
      "metadata": {
        "id": "FZ2qOU0u8Zk8",
        "colab": {
          "base_uri": "https://localhost:8080/"
        },
        "outputId": "bea06694-3b79-4f2a-a0e0-27fa0cc6d402"
      },
      "outputs": [
        {
          "output_type": "stream",
          "name": "stderr",
          "text": [
            "/usr/local/lib/python3.7/dist-packages/torch/nn/modules/module.py:949: UserWarning: Using non-full backward hooks on a Module that does not take as input a single Tensor or a tuple of Tensors is deprecated and will be removed in future versions. This hook will be missing some of the grad_input. Please use register_full_backward_hook to get the documented behavior.\n",
            "  warnings.warn(\"Using non-full backward hooks on a Module that does not take as input a \"\n",
            "/usr/local/lib/python3.7/dist-packages/torch/nn/modules/module.py:974: UserWarning: Using a non-full backward hook when the forward contains multiple autograd Nodes is deprecated and will be removed in future versions. This hook will be missing some grad_input. Please use register_full_backward_hook to get the documented behavior.\n",
            "  warnings.warn(\"Using a non-full backward hook when the forward contains multiple autograd Nodes \"\n"
          ]
        },
        {
          "output_type": "stream",
          "name": "stdout",
          "text": [
            "* Number of trainable parameters: 9210006\n",
            "===>  TRAIN Epoch 1\n"
          ]
        },
        {
          "output_type": "stream",
          "name": "stderr",
          "text": [
            "/usr/local/lib/python3.7/dist-packages/torch/nn/modules/module.py:939: UserWarning: Using non-full backward hooks on a Module that does not return a single Tensor or a tuple of Tensors is deprecated and will be removed in future versions. This hook will be missing some of the grad_output. Please use register_full_backward_hook to get the documented behavior.\n",
            "  warnings.warn(\"Using non-full backward hooks on a Module that does not return a \"\n",
            "/usr/local/lib/python3.7/dist-packages/torch/nn/functional.py:2742: UserWarning: reduction: 'mean' divides the total loss by both the batch size and the support size.'batchmean' divides only by the batch size, and aligns with the KL div math definition.'mean' will be changed to behave the same as 'batchmean' in the next major release.\n",
            "  \"reduction: 'mean' divides the total loss by both the batch size and the support size.\"\n",
            "0% [██████████████████████████████] 100% | ETA: 00:00:00\n",
            "Total time elapsed: 00:00:41\n"
          ]
        },
        {
          "output_type": "stream",
          "name": "stdout",
          "text": [
            "Finished Epoch 1 || Run Time:   28.7 | Load Time:   13.5 || F1:  54.85 | Prec:  45.62 | Rec:  68.77 || Ex/s: 175.81\n",
            "\n",
            "===>  EVAL Epoch 1\n"
          ]
        },
        {
          "output_type": "stream",
          "name": "stderr",
          "text": [
            "0% [███████████████] 100% | ETA: 00:00:00\n",
            "Total time elapsed: 00:00:09\n"
          ]
        },
        {
          "output_type": "stream",
          "name": "stdout",
          "text": [
            "Finished Epoch 1 || Run Time:    5.1 | Load Time:    4.4 || F1:  75.75 | Prec:  64.65 | Rec:  91.44 || Ex/s: 259.18\n",
            "\n",
            "* Best F1: tensor(75.7463, device='cuda:0')\n",
            "Saving best model...\n",
            "Done.\n",
            "---------------------\n",
            "\n",
            "===>  TRAIN Epoch 2\n"
          ]
        },
        {
          "output_type": "stream",
          "name": "stderr",
          "text": [
            "0% [██████████████████████████████] 100% | ETA: 00:00:00\n",
            "Total time elapsed: 00:00:41\n"
          ]
        },
        {
          "output_type": "stream",
          "name": "stdout",
          "text": [
            "Finished Epoch 2 || Run Time:   28.5 | Load Time:   13.3 || F1:  82.49 | Prec:  74.55 | Rec:  92.34 || Ex/s: 177.21\n",
            "\n",
            "===>  EVAL Epoch 2\n"
          ]
        },
        {
          "output_type": "stream",
          "name": "stderr",
          "text": [
            "0% [███████████████] 100% | ETA: 00:00:00\n",
            "Total time elapsed: 00:00:09\n"
          ]
        },
        {
          "output_type": "stream",
          "name": "stdout",
          "text": [
            "Finished Epoch 2 || Run Time:    5.1 | Load Time:    4.4 || F1:  81.44 | Prec:  71.62 | Rec:  94.37 || Ex/s: 259.04\n",
            "\n",
            "* Best F1: tensor(81.4383, device='cuda:0')\n",
            "Saving best model...\n",
            "Done.\n",
            "---------------------\n",
            "\n",
            "===>  TRAIN Epoch 3\n"
          ]
        },
        {
          "output_type": "stream",
          "name": "stderr",
          "text": [
            "0% [██████████████████████████████] 100% | ETA: 00:00:00\n",
            "Total time elapsed: 00:00:41\n"
          ]
        },
        {
          "output_type": "stream",
          "name": "stdout",
          "text": [
            "Finished Epoch 3 || Run Time:   28.8 | Load Time:   13.5 || F1:  89.08 | Prec:  83.65 | Rec:  95.27 || Ex/s: 175.48\n",
            "\n",
            "===>  EVAL Epoch 3\n"
          ]
        },
        {
          "output_type": "stream",
          "name": "stderr",
          "text": [
            "0% [███████████████] 100% | ETA: 00:00:00\n",
            "Total time elapsed: 00:00:09\n"
          ]
        },
        {
          "output_type": "stream",
          "name": "stdout",
          "text": [
            "Finished Epoch 3 || Run Time:    5.1 | Load Time:    4.4 || F1:  83.28 | Prec:  76.46 | Rec:  91.44 || Ex/s: 259.64\n",
            "\n",
            "* Best F1: tensor(83.2821, device='cuda:0')\n",
            "Saving best model...\n",
            "Done.\n",
            "---------------------\n",
            "\n",
            "===>  TRAIN Epoch 4\n"
          ]
        },
        {
          "output_type": "stream",
          "name": "stderr",
          "text": [
            "0% [██████████████████████████████] 100% | ETA: 00:00:00\n",
            "Total time elapsed: 00:00:41\n"
          ]
        },
        {
          "output_type": "stream",
          "name": "stdout",
          "text": [
            "Finished Epoch 4 || Run Time:   28.5 | Load Time:   13.3 || F1:  91.86 | Prec:  88.24 | Rec:  95.80 || Ex/s: 177.25\n",
            "\n",
            "===>  EVAL Epoch 4\n"
          ]
        },
        {
          "output_type": "stream",
          "name": "stderr",
          "text": [
            "0% [███████████████] 100% | ETA: 00:00:00\n",
            "Total time elapsed: 00:00:09\n"
          ]
        },
        {
          "output_type": "stream",
          "name": "stdout",
          "text": [
            "Finished Epoch 4 || Run Time:    5.1 | Load Time:    4.4 || F1:  82.40 | Prec:  74.10 | Rec:  92.79 || Ex/s: 260.06\n",
            "\n",
            "---------------------\n",
            "\n",
            "===>  TRAIN Epoch 5\n"
          ]
        },
        {
          "output_type": "stream",
          "name": "stderr",
          "text": [
            "0% [██████████████████████████████] 100% | ETA: 00:00:00\n",
            "Total time elapsed: 00:00:41\n"
          ]
        },
        {
          "output_type": "stream",
          "name": "stdout",
          "text": [
            "Finished Epoch 5 || Run Time:   28.7 | Load Time:   13.5 || F1:  94.74 | Prec:  92.25 | Rec:  97.37 || Ex/s: 175.78\n",
            "\n",
            "===>  EVAL Epoch 5\n"
          ]
        },
        {
          "output_type": "stream",
          "name": "stderr",
          "text": [
            "0% [███████████████] 100% | ETA: 00:00:00\n",
            "Total time elapsed: 00:00:09\n"
          ]
        },
        {
          "output_type": "stream",
          "name": "stdout",
          "text": [
            "Finished Epoch 5 || Run Time:    5.1 | Load Time:    4.4 || F1:  85.74 | Prec:  79.20 | Rec:  93.47 || Ex/s: 258.44\n",
            "\n",
            "* Best F1: tensor(85.7438, device='cuda:0')\n",
            "Saving best model...\n",
            "Done.\n",
            "---------------------\n",
            "\n",
            "===>  TRAIN Epoch 6\n"
          ]
        },
        {
          "output_type": "stream",
          "name": "stderr",
          "text": [
            "0% [██████████████████████████████] 100% | ETA: 00:00:00\n",
            "Total time elapsed: 00:00:41\n"
          ]
        },
        {
          "output_type": "stream",
          "name": "stdout",
          "text": [
            "Finished Epoch 6 || Run Time:   28.5 | Load Time:   13.3 || F1:  96.82 | Prec:  95.28 | Rec:  98.42 || Ex/s: 177.29\n",
            "\n",
            "===>  EVAL Epoch 6\n"
          ]
        },
        {
          "output_type": "stream",
          "name": "stderr",
          "text": [
            "0% [███████████████] 100% | ETA: 00:00:00\n",
            "Total time elapsed: 00:00:09\n"
          ]
        },
        {
          "output_type": "stream",
          "name": "stdout",
          "text": [
            "Finished Epoch 6 || Run Time:    5.0 | Load Time:    4.4 || F1:  87.82 | Prec:  83.54 | Rec:  92.57 || Ex/s: 261.37\n",
            "\n",
            "* Best F1: tensor(87.8205, device='cuda:0')\n",
            "Saving best model...\n",
            "Done.\n",
            "---------------------\n",
            "\n",
            "===>  TRAIN Epoch 7\n"
          ]
        },
        {
          "output_type": "stream",
          "name": "stderr",
          "text": [
            "0% [██████████████████████████████] 100% | ETA: 00:00:00\n",
            "Total time elapsed: 00:00:41\n"
          ]
        },
        {
          "output_type": "stream",
          "name": "stdout",
          "text": [
            "Finished Epoch 7 || Run Time:   28.8 | Load Time:   13.4 || F1:  97.89 | Prec:  96.57 | Rec:  99.25 || Ex/s: 175.84\n",
            "\n",
            "===>  EVAL Epoch 7\n"
          ]
        },
        {
          "output_type": "stream",
          "name": "stderr",
          "text": [
            "0% [███████████████] 100% | ETA: 00:00:00\n",
            "Total time elapsed: 00:00:09\n"
          ]
        },
        {
          "output_type": "stream",
          "name": "stdout",
          "text": [
            "Finished Epoch 7 || Run Time:    5.2 | Load Time:    4.4 || F1:  87.47 | Prec:  82.73 | Rec:  92.79 || Ex/s: 257.71\n",
            "\n",
            "---------------------\n",
            "\n",
            "===>  TRAIN Epoch 8\n"
          ]
        },
        {
          "output_type": "stream",
          "name": "stderr",
          "text": [
            "0% [██████████████████████████████] 100% | ETA: 00:00:00\n",
            "Total time elapsed: 00:00:41\n"
          ]
        },
        {
          "output_type": "stream",
          "name": "stdout",
          "text": [
            "Finished Epoch 8 || Run Time:   28.6 | Load Time:   13.4 || F1:  98.66 | Prec:  97.86 | Rec:  99.47 || Ex/s: 176.51\n",
            "\n",
            "===>  EVAL Epoch 8\n"
          ]
        },
        {
          "output_type": "stream",
          "name": "stderr",
          "text": [
            "0% [███████████████] 100% | ETA: 00:00:00\n",
            "Total time elapsed: 00:00:09\n"
          ]
        },
        {
          "output_type": "stream",
          "name": "stdout",
          "text": [
            "Finished Epoch 8 || Run Time:    5.4 | Load Time:    4.4 || F1:  88.76 | Prec:  88.57 | Rec:  88.96 || Ex/s: 253.07\n",
            "\n",
            "* Best F1: tensor(88.7640, device='cuda:0')\n",
            "Saving best model...\n",
            "Done.\n",
            "---------------------\n",
            "\n",
            "===>  TRAIN Epoch 9\n"
          ]
        },
        {
          "output_type": "stream",
          "name": "stderr",
          "text": [
            "0% [██████████████████████████████] 100% | ETA: 00:00:00\n",
            "Total time elapsed: 00:00:41\n"
          ]
        },
        {
          "output_type": "stream",
          "name": "stdout",
          "text": [
            "Finished Epoch 9 || Run Time:   28.8 | Load Time:   13.4 || F1:  98.92 | Prec:  98.22 | Rec:  99.62 || Ex/s: 175.63\n",
            "\n",
            "===>  EVAL Epoch 9\n"
          ]
        },
        {
          "output_type": "stream",
          "name": "stderr",
          "text": [
            "0% [███████████████] 100% | ETA: 00:00:00\n",
            "Total time elapsed: 00:00:09\n"
          ]
        },
        {
          "output_type": "stream",
          "name": "stdout",
          "text": [
            "Finished Epoch 9 || Run Time:    5.2 | Load Time:    4.4 || F1:  88.99 | Prec:  89.70 | Rec:  88.29 || Ex/s: 257.61\n",
            "\n",
            "* Best F1: tensor(88.9898, device='cuda:0')\n",
            "Saving best model...\n",
            "Done.\n",
            "---------------------\n",
            "\n",
            "===>  TRAIN Epoch 10\n"
          ]
        },
        {
          "output_type": "stream",
          "name": "stderr",
          "text": [
            "0% [██████████████████████████████] 100% | ETA: 00:00:00\n",
            "Total time elapsed: 00:00:41\n"
          ]
        },
        {
          "output_type": "stream",
          "name": "stdout",
          "text": [
            "Finished Epoch 10 || Run Time:   28.6 | Load Time:   13.4 || F1:  99.10 | Prec:  98.59 | Rec:  99.62 || Ex/s: 176.82\n",
            "\n",
            "===>  EVAL Epoch 10\n"
          ]
        },
        {
          "output_type": "stream",
          "name": "stderr",
          "text": [
            "0% [███████████████] 100% | ETA: 00:00:00\n",
            "Total time elapsed: 00:00:09\n"
          ]
        },
        {
          "output_type": "stream",
          "name": "stdout",
          "text": [
            "Finished Epoch 10 || Run Time:    5.1 | Load Time:    4.4 || F1:  88.44 | Prec:  89.04 | Rec:  87.84 || Ex/s: 258.79\n",
            "\n",
            "---------------------\n",
            "\n",
            "===>  TRAIN Epoch 11\n"
          ]
        },
        {
          "output_type": "stream",
          "name": "stderr",
          "text": [
            "0% [██████████████████████████████] 100% | ETA: 00:00:00\n",
            "Total time elapsed: 00:00:41\n"
          ]
        },
        {
          "output_type": "stream",
          "name": "stdout",
          "text": [
            "Finished Epoch 11 || Run Time:   28.9 | Load Time:   13.5 || F1:  99.29 | Prec:  98.81 | Rec:  99.77 || Ex/s: 174.92\n",
            "\n",
            "===>  EVAL Epoch 11\n"
          ]
        },
        {
          "output_type": "stream",
          "name": "stderr",
          "text": [
            "0% [███████████████] 100% | ETA: 00:00:00\n",
            "Total time elapsed: 00:00:09\n"
          ]
        },
        {
          "output_type": "stream",
          "name": "stdout",
          "text": [
            "Finished Epoch 11 || Run Time:    5.2 | Load Time:    4.4 || F1:  88.91 | Prec:  89.32 | Rec:  88.51 || Ex/s: 257.46\n",
            "\n",
            "---------------------\n",
            "\n",
            "===>  TRAIN Epoch 12\n"
          ]
        },
        {
          "output_type": "stream",
          "name": "stderr",
          "text": [
            "0% [██████████████████████████████] 100% | ETA: 00:00:00\n",
            "Total time elapsed: 00:00:41\n"
          ]
        },
        {
          "output_type": "stream",
          "name": "stdout",
          "text": [
            "Finished Epoch 12 || Run Time:   28.4 | Load Time:   13.3 || F1:  99.33 | Prec:  98.88 | Rec:  99.77 || Ex/s: 177.85\n",
            "\n",
            "===>  EVAL Epoch 12\n"
          ]
        },
        {
          "output_type": "stream",
          "name": "stderr",
          "text": [
            "0% [███████████████] 100% | ETA: 00:00:00\n",
            "Total time elapsed: 00:00:09\n"
          ]
        },
        {
          "output_type": "stream",
          "name": "stdout",
          "text": [
            "Finished Epoch 12 || Run Time:    5.1 | Load Time:    4.5 || F1:  88.69 | Prec:  89.09 | Rec:  88.29 || Ex/s: 257.62\n",
            "\n",
            "---------------------\n",
            "\n",
            "===>  TRAIN Epoch 13\n"
          ]
        },
        {
          "output_type": "stream",
          "name": "stderr",
          "text": [
            "0% [██████████████████████████████] 100% | ETA: 00:00:00\n",
            "Total time elapsed: 00:00:41\n"
          ]
        },
        {
          "output_type": "stream",
          "name": "stdout",
          "text": [
            "Finished Epoch 13 || Run Time:   28.7 | Load Time:   13.4 || F1:  99.40 | Prec:  99.03 | Rec:  99.77 || Ex/s: 175.94\n",
            "\n",
            "===>  EVAL Epoch 13\n"
          ]
        },
        {
          "output_type": "stream",
          "name": "stderr",
          "text": [
            "0% [███████████████] 100% | ETA: 00:00:00\n",
            "Total time elapsed: 00:00:09\n"
          ]
        },
        {
          "output_type": "stream",
          "name": "stdout",
          "text": [
            "Finished Epoch 13 || Run Time:    5.1 | Load Time:    4.4 || F1:  88.64 | Prec:  89.45 | Rec:  87.84 || Ex/s: 259.37\n",
            "\n",
            "---------------------\n",
            "\n",
            "===>  TRAIN Epoch 14\n"
          ]
        },
        {
          "output_type": "stream",
          "name": "stderr",
          "text": [
            "0% [██████████████████████████████] 100% | ETA: 00:00:00\n",
            "Total time elapsed: 00:00:41\n"
          ]
        },
        {
          "output_type": "stream",
          "name": "stdout",
          "text": [
            "Finished Epoch 14 || Run Time:   28.5 | Load Time:   13.3 || F1:  99.48 | Prec:  99.18 | Rec:  99.77 || Ex/s: 177.30\n",
            "\n",
            "===>  EVAL Epoch 14\n"
          ]
        },
        {
          "output_type": "stream",
          "name": "stderr",
          "text": [
            "0% [███████████████] 100% | ETA: 00:00:00\n",
            "Total time elapsed: 00:00:09\n"
          ]
        },
        {
          "output_type": "stream",
          "name": "stdout",
          "text": [
            "Finished Epoch 14 || Run Time:    5.1 | Load Time:    4.4 || F1:  88.64 | Prec:  89.45 | Rec:  87.84 || Ex/s: 259.18\n",
            "\n",
            "---------------------\n",
            "\n",
            "===>  TRAIN Epoch 15\n"
          ]
        },
        {
          "output_type": "stream",
          "name": "stderr",
          "text": [
            "0% [██████████████████████████████] 100% | ETA: 00:00:00\n",
            "Total time elapsed: 00:00:41\n"
          ]
        },
        {
          "output_type": "stream",
          "name": "stdout",
          "text": [
            "Finished Epoch 15 || Run Time:   28.7 | Load Time:   13.4 || F1:  99.55 | Prec:  99.33 | Rec:  99.77 || Ex/s: 176.17\n",
            "\n",
            "===>  EVAL Epoch 15\n"
          ]
        },
        {
          "output_type": "stream",
          "name": "stderr",
          "text": [
            "0% [███████████████] 100% | ETA: 00:00:00\n",
            "Total time elapsed: 00:00:09\n"
          ]
        },
        {
          "output_type": "stream",
          "name": "stdout",
          "text": [
            "Finished Epoch 15 || Run Time:    5.1 | Load Time:    4.5 || F1:  88.61 | Prec:  89.63 | Rec:  87.61 || Ex/s: 257.98\n",
            "\n",
            "---------------------\n",
            "\n",
            "Loading best model...\n",
            "Training done.\n"
          ]
        },
        {
          "output_type": "execute_result",
          "data": {
            "text/plain": [
              "tensor(88.9898, device='cuda:0')"
            ]
          },
          "metadata": {},
          "execution_count": 93
        }
      ],
      "source": [
        "model.run_train(\n",
        "    train,\n",
        "    validation,\n",
        "    epochs=15,\n",
        "    batch_size=32,\n",
        "    best_save_path='hybrid_model.pth',\n",
        "    pos_neg_ratio=3)"
      ]
    },
    {
      "cell_type": "code",
      "execution_count": 94,
      "metadata": {
        "id": "8mXxls0a8Zk8",
        "colab": {
          "base_uri": "https://localhost:8080/"
        },
        "outputId": "ff705780-0b9a-43b2-caea-972161f165c3"
      },
      "outputs": [
        {
          "output_type": "stream",
          "name": "stdout",
          "text": [
            "===>  EVAL Epoch 9\n"
          ]
        },
        {
          "output_type": "stream",
          "name": "stderr",
          "text": [
            "/usr/local/lib/python3.7/dist-packages/torch/nn/modules/module.py:949: UserWarning: Using non-full backward hooks on a Module that does not take as input a single Tensor or a tuple of Tensors is deprecated and will be removed in future versions. This hook will be missing some of the grad_input. Please use register_full_backward_hook to get the documented behavior.\n",
            "  warnings.warn(\"Using non-full backward hooks on a Module that does not take as input a \"\n",
            "/usr/local/lib/python3.7/dist-packages/torch/nn/modules/module.py:974: UserWarning: Using a non-full backward hook when the forward contains multiple autograd Nodes is deprecated and will be removed in future versions. This hook will be missing some grad_input. Please use register_full_backward_hook to get the documented behavior.\n",
            "  warnings.warn(\"Using a non-full backward hook when the forward contains multiple autograd Nodes \"\n",
            "/usr/local/lib/python3.7/dist-packages/torch/nn/modules/module.py:939: UserWarning: Using non-full backward hooks on a Module that does not return a single Tensor or a tuple of Tensors is deprecated and will be removed in future versions. This hook will be missing some of the grad_output. Please use register_full_backward_hook to get the documented behavior.\n",
            "  warnings.warn(\"Using non-full backward hooks on a Module that does not return a \"\n",
            "0% [███████████████] 100% | ETA: 00:00:00\n",
            "Total time elapsed: 00:00:09\n"
          ]
        },
        {
          "output_type": "stream",
          "name": "stdout",
          "text": [
            "Finished Epoch 9 || Run Time:    5.4 | Load Time:    4.5 || F1:  86.57 | Prec:  85.34 | Rec:  87.84 || Ex/s: 250.21\n",
            "\n"
          ]
        },
        {
          "output_type": "execute_result",
          "data": {
            "text/plain": [
              "tensor(86.5705, device='cuda:0')"
            ]
          },
          "metadata": {},
          "execution_count": 94
        }
      ],
      "source": [
        "# Compute F1 on test set\n",
        "model.run_eval(test)"
      ]
    },
    {
      "cell_type": "markdown",
      "metadata": {
        "id": "6kcbDdw58Zk8"
      },
      "source": [
        "##### DBLP-GoogleScholar"
      ]
    },
    {
      "cell_type": "code",
      "execution_count": 95,
      "metadata": {
        "id": "2BUhgaNu8Zk9"
      },
      "outputs": [],
      "source": [
        "train, validation, test = dm.data.process(\n",
        "    path='/content/IC/datasesErros/ADirty_90_3_5/Dirty/DBLP-GoogleScholar//',\n",
        "    train='joined_train.csv',\n",
        "    validation='joined_valid.csv',\n",
        "    test='joined_test.csv')"
      ]
    },
    {
      "cell_type": "code",
      "execution_count": 96,
      "metadata": {
        "id": "YyT6HD6x8Zk9"
      },
      "outputs": [],
      "source": [
        "model = dm.MatchingModel(attr_summarizer='hybrid')"
      ]
    },
    {
      "cell_type": "code",
      "execution_count": 97,
      "metadata": {
        "id": "gQBhQHlx8Zk-",
        "colab": {
          "base_uri": "https://localhost:8080/"
        },
        "outputId": "4a870cef-00b8-475d-d36e-05654a19f65e"
      },
      "outputs": [
        {
          "output_type": "stream",
          "name": "stdout",
          "text": [
            "* Number of trainable parameters: 9210006\n",
            "===>  TRAIN Epoch 1\n"
          ]
        },
        {
          "output_type": "stream",
          "name": "stderr",
          "text": [
            "/usr/local/lib/python3.7/dist-packages/torch/nn/modules/module.py:949: UserWarning: Using non-full backward hooks on a Module that does not take as input a single Tensor or a tuple of Tensors is deprecated and will be removed in future versions. This hook will be missing some of the grad_input. Please use register_full_backward_hook to get the documented behavior.\n",
            "  warnings.warn(\"Using non-full backward hooks on a Module that does not take as input a \"\n",
            "/usr/local/lib/python3.7/dist-packages/torch/nn/modules/module.py:974: UserWarning: Using a non-full backward hook when the forward contains multiple autograd Nodes is deprecated and will be removed in future versions. This hook will be missing some grad_input. Please use register_full_backward_hook to get the documented behavior.\n",
            "  warnings.warn(\"Using a non-full backward hook when the forward contains multiple autograd Nodes \"\n",
            "/usr/local/lib/python3.7/dist-packages/torch/nn/modules/module.py:939: UserWarning: Using non-full backward hooks on a Module that does not return a single Tensor or a tuple of Tensors is deprecated and will be removed in future versions. This hook will be missing some of the grad_output. Please use register_full_backward_hook to get the documented behavior.\n",
            "  warnings.warn(\"Using non-full backward hooks on a Module that does not return a \"\n",
            "/usr/local/lib/python3.7/dist-packages/torch/nn/functional.py:2742: UserWarning: reduction: 'mean' divides the total loss by both the batch size and the support size.'batchmean' divides only by the batch size, and aligns with the KL div math definition.'mean' will be changed to behave the same as 'batchmean' in the next major release.\n",
            "  \"reduction: 'mean' divides the total loss by both the batch size and the support size.\"\n",
            "0% [██████████████████████████████] 100% | ETA: 00:00:00\n",
            "Total time elapsed: 00:01:29\n"
          ]
        },
        {
          "output_type": "stream",
          "name": "stdout",
          "text": [
            "Finished Epoch 1 || Run Time:   64.0 | Load Time:   26.6 || F1:  68.36 | Prec:  59.73 | Rec:  79.92 || Ex/s: 190.05\n",
            "\n",
            "===>  EVAL Epoch 1\n"
          ]
        },
        {
          "output_type": "stream",
          "name": "stderr",
          "text": [
            "0% [██████████████████████████████] 100% | ETA: 00:00:00\n",
            "Total time elapsed: 00:00:20\n"
          ]
        },
        {
          "output_type": "stream",
          "name": "stdout",
          "text": [
            "Finished Epoch 1 || Run Time:   11.6 | Load Time:    8.7 || F1:  83.19 | Prec:  78.41 | Rec:  88.60 || Ex/s: 282.81\n",
            "\n",
            "* Best F1: tensor(83.1944, device='cuda:0')\n",
            "Saving best model...\n",
            "Done.\n",
            "---------------------\n",
            "\n",
            "===>  TRAIN Epoch 2\n"
          ]
        },
        {
          "output_type": "stream",
          "name": "stderr",
          "text": [
            "0% [██████████████████████████████] 100% | ETA: 00:00:00\n",
            "Total time elapsed: 00:01:29\n"
          ]
        },
        {
          "output_type": "stream",
          "name": "stdout",
          "text": [
            "Finished Epoch 2 || Run Time:   63.9 | Load Time:   26.6 || F1:  85.04 | Prec:  78.50 | Rec:  92.77 || Ex/s: 190.28\n",
            "\n",
            "===>  EVAL Epoch 2\n"
          ]
        },
        {
          "output_type": "stream",
          "name": "stderr",
          "text": [
            "0% [██████████████████████████████] 100% | ETA: 00:00:00\n",
            "Total time elapsed: 00:00:20\n"
          ]
        },
        {
          "output_type": "stream",
          "name": "stdout",
          "text": [
            "Finished Epoch 2 || Run Time:   11.6 | Load Time:    8.7 || F1:  85.80 | Prec:  81.00 | Rec:  91.21 || Ex/s: 282.22\n",
            "\n",
            "* Best F1: tensor(85.8022, device='cuda:0')\n",
            "Saving best model...\n",
            "Done.\n",
            "---------------------\n",
            "\n",
            "===>  TRAIN Epoch 3\n"
          ]
        },
        {
          "output_type": "stream",
          "name": "stderr",
          "text": [
            "0% [██████████████████████████████] 100% | ETA: 00:00:00\n",
            "Total time elapsed: 00:01:29\n"
          ]
        },
        {
          "output_type": "stream",
          "name": "stdout",
          "text": [
            "Finished Epoch 3 || Run Time:   64.1 | Load Time:   26.7 || F1:  90.07 | Prec:  85.28 | Rec:  95.42 || Ex/s: 189.82\n",
            "\n",
            "===>  EVAL Epoch 3\n"
          ]
        },
        {
          "output_type": "stream",
          "name": "stderr",
          "text": [
            "0% [██████████████████████████████] 100% | ETA: 00:00:00\n",
            "Total time elapsed: 00:00:20\n"
          ]
        },
        {
          "output_type": "stream",
          "name": "stdout",
          "text": [
            "Finished Epoch 3 || Run Time:   11.7 | Load Time:    8.8 || F1:  83.31 | Prec:  73.93 | Rec:  95.42 || Ex/s: 279.50\n",
            "\n",
            "---------------------\n",
            "\n",
            "===>  TRAIN Epoch 4\n"
          ]
        },
        {
          "output_type": "stream",
          "name": "stderr",
          "text": [
            "0% [██████████████████████████████] 100% | ETA: 00:00:00\n",
            "Total time elapsed: 00:01:29\n"
          ]
        },
        {
          "output_type": "stream",
          "name": "stdout",
          "text": [
            "Finished Epoch 4 || Run Time:   64.0 | Load Time:   26.6 || F1:  93.02 | Prec:  89.48 | Rec:  96.85 || Ex/s: 190.04\n",
            "\n",
            "===>  EVAL Epoch 4\n"
          ]
        },
        {
          "output_type": "stream",
          "name": "stderr",
          "text": [
            "0% [██████████████████████████████] 100% | ETA: 00:00:00\n",
            "Total time elapsed: 00:00:20\n"
          ]
        },
        {
          "output_type": "stream",
          "name": "stdout",
          "text": [
            "Finished Epoch 4 || Run Time:   11.5 | Load Time:    8.7 || F1:  87.11 | Prec:  86.12 | Rec:  88.13 || Ex/s: 283.06\n",
            "\n",
            "* Best F1: tensor(87.1132, device='cuda:0')\n",
            "Saving best model...\n",
            "Done.\n",
            "---------------------\n",
            "\n",
            "===>  TRAIN Epoch 5\n"
          ]
        },
        {
          "output_type": "stream",
          "name": "stderr",
          "text": [
            "0% [██████████████████████████████] 100% | ETA: 00:00:00\n",
            "Total time elapsed: 00:01:29\n"
          ]
        },
        {
          "output_type": "stream",
          "name": "stdout",
          "text": [
            "Finished Epoch 5 || Run Time:   63.8 | Load Time:   26.7 || F1:  94.59 | Prec:  91.79 | Rec:  97.57 || Ex/s: 190.47\n",
            "\n",
            "===>  EVAL Epoch 5\n"
          ]
        },
        {
          "output_type": "stream",
          "name": "stderr",
          "text": [
            "0% [██████████████████████████████] 100% | ETA: 00:00:00\n",
            "Total time elapsed: 00:00:20\n"
          ]
        },
        {
          "output_type": "stream",
          "name": "stdout",
          "text": [
            "Finished Epoch 5 || Run Time:   11.6 | Load Time:    8.8 || F1:  87.20 | Prec:  85.33 | Rec:  89.16 || Ex/s: 281.33\n",
            "\n",
            "* Best F1: tensor(87.2029, device='cuda:0')\n",
            "Saving best model...\n",
            "Done.\n",
            "---------------------\n",
            "\n",
            "===>  TRAIN Epoch 6\n"
          ]
        },
        {
          "output_type": "stream",
          "name": "stderr",
          "text": [
            "0% [██████████████████████████████] 100% | ETA: 00:00:00\n",
            "Total time elapsed: 00:01:29\n"
          ]
        },
        {
          "output_type": "stream",
          "name": "stdout",
          "text": [
            "Finished Epoch 6 || Run Time:   64.0 | Load Time:   26.6 || F1:  96.81 | Prec:  95.12 | Rec:  98.57 || Ex/s: 190.03\n",
            "\n",
            "===>  EVAL Epoch 6\n"
          ]
        },
        {
          "output_type": "stream",
          "name": "stderr",
          "text": [
            "0% [██████████████████████████████] 100% | ETA: 00:00:00\n",
            "Total time elapsed: 00:00:20\n"
          ]
        },
        {
          "output_type": "stream",
          "name": "stdout",
          "text": [
            "Finished Epoch 6 || Run Time:   12.0 | Load Time:    8.9 || F1:  87.51 | Prec:  87.27 | Rec:  87.76 || Ex/s: 274.81\n",
            "\n",
            "* Best F1: tensor(87.5117, device='cuda:0')\n",
            "Saving best model...\n",
            "Done.\n",
            "---------------------\n",
            "\n",
            "===>  TRAIN Epoch 7\n"
          ]
        },
        {
          "output_type": "stream",
          "name": "stderr",
          "text": [
            "0% [██████████████████████████████] 100% | ETA: 00:00:00\n",
            "Total time elapsed: 00:01:29\n"
          ]
        },
        {
          "output_type": "stream",
          "name": "stdout",
          "text": [
            "Finished Epoch 7 || Run Time:   63.6 | Load Time:   26.4 || F1:  97.70 | Prec:  96.67 | Rec:  98.75 || Ex/s: 191.34\n",
            "\n",
            "===>  EVAL Epoch 7\n"
          ]
        },
        {
          "output_type": "stream",
          "name": "stderr",
          "text": [
            "0% [██████████████████████████████] 100% | ETA: 00:00:00\n",
            "Total time elapsed: 00:00:20\n"
          ]
        },
        {
          "output_type": "stream",
          "name": "stdout",
          "text": [
            "Finished Epoch 7 || Run Time:   11.8 | Load Time:    8.9 || F1:  87.41 | Prec:  86.26 | Rec:  88.60 || Ex/s: 278.06\n",
            "\n",
            "---------------------\n",
            "\n",
            "===>  TRAIN Epoch 8\n"
          ]
        },
        {
          "output_type": "stream",
          "name": "stderr",
          "text": [
            "0% [██████████████████████████████] 100% | ETA: 00:00:00\n",
            "Total time elapsed: 00:01:29\n"
          ]
        },
        {
          "output_type": "stream",
          "name": "stdout",
          "text": [
            "Finished Epoch 8 || Run Time:   63.8 | Load Time:   26.5 || F1:  98.47 | Prec:  97.79 | Rec:  99.16 || Ex/s: 190.74\n",
            "\n",
            "===>  EVAL Epoch 8\n"
          ]
        },
        {
          "output_type": "stream",
          "name": "stderr",
          "text": [
            "0% [██████████████████████████████] 100% | ETA: 00:00:00\n",
            "Total time elapsed: 00:00:20\n"
          ]
        },
        {
          "output_type": "stream",
          "name": "stdout",
          "text": [
            "Finished Epoch 8 || Run Time:   11.7 | Load Time:    8.9 || F1:  87.72 | Prec:  90.47 | Rec:  85.14 || Ex/s: 278.79\n",
            "\n",
            "* Best F1: tensor(87.7227, device='cuda:0')\n",
            "Saving best model...\n",
            "Done.\n",
            "---------------------\n",
            "\n",
            "===>  TRAIN Epoch 9\n"
          ]
        },
        {
          "output_type": "stream",
          "name": "stderr",
          "text": [
            "0% [██████████████████████████████] 100% | ETA: 00:00:00\n",
            "Total time elapsed: 00:01:29\n"
          ]
        },
        {
          "output_type": "stream",
          "name": "stdout",
          "text": [
            "Finished Epoch 9 || Run Time:   63.7 | Load Time:   26.7 || F1:  98.74 | Prec:  98.21 | Rec:  99.28 || Ex/s: 190.63\n",
            "\n",
            "===>  EVAL Epoch 9\n"
          ]
        },
        {
          "output_type": "stream",
          "name": "stderr",
          "text": [
            "0% [██████████████████████████████] 100% | ETA: 00:00:00\n",
            "Total time elapsed: 00:00:20\n"
          ]
        },
        {
          "output_type": "stream",
          "name": "stdout",
          "text": [
            "Finished Epoch 9 || Run Time:   11.6 | Load Time:    8.7 || F1:  88.05 | Prec:  89.72 | Rec:  86.45 || Ex/s: 282.86\n",
            "\n",
            "* Best F1: tensor(88.0533, device='cuda:0')\n",
            "Saving best model...\n",
            "Done.\n",
            "---------------------\n",
            "\n",
            "===>  TRAIN Epoch 10\n"
          ]
        },
        {
          "output_type": "stream",
          "name": "stderr",
          "text": [
            "0% [██████████████████████████████] 100% | ETA: 00:00:00\n",
            "Total time elapsed: 00:01:29\n"
          ]
        },
        {
          "output_type": "stream",
          "name": "stdout",
          "text": [
            "Finished Epoch 10 || Run Time:   63.5 | Load Time:   26.7 || F1:  99.14 | Prec:  98.91 | Rec:  99.38 || Ex/s: 190.97\n",
            "\n",
            "===>  EVAL Epoch 10\n"
          ]
        },
        {
          "output_type": "stream",
          "name": "stderr",
          "text": [
            "0% [██████████████████████████████] 100% | ETA: 00:00:00\n",
            "Total time elapsed: 00:00:20\n"
          ]
        },
        {
          "output_type": "stream",
          "name": "stdout",
          "text": [
            "Finished Epoch 10 || Run Time:   11.6 | Load Time:    8.7 || F1:  87.90 | Prec:  89.61 | Rec:  86.26 || Ex/s: 284.05\n",
            "\n",
            "---------------------\n",
            "\n",
            "===>  TRAIN Epoch 11\n"
          ]
        },
        {
          "output_type": "stream",
          "name": "stderr",
          "text": [
            "0% [██████████████████████████████] 100% | ETA: 00:00:00\n",
            "Total time elapsed: 00:01:29\n"
          ]
        },
        {
          "output_type": "stream",
          "name": "stdout",
          "text": [
            "Finished Epoch 11 || Run Time:   63.6 | Load Time:   26.5 || F1:  99.33 | Prec:  99.22 | Rec:  99.44 || Ex/s: 191.10\n",
            "\n",
            "===>  EVAL Epoch 11\n"
          ]
        },
        {
          "output_type": "stream",
          "name": "stderr",
          "text": [
            "0% [██████████████████████████████] 100% | ETA: 00:00:00\n",
            "Total time elapsed: 00:00:20\n"
          ]
        },
        {
          "output_type": "stream",
          "name": "stdout",
          "text": [
            "Finished Epoch 11 || Run Time:   11.6 | Load Time:    8.7 || F1:  87.64 | Prec:  89.17 | Rec:  86.17 || Ex/s: 282.88\n",
            "\n",
            "---------------------\n",
            "\n",
            "===>  TRAIN Epoch 12\n"
          ]
        },
        {
          "output_type": "stream",
          "name": "stderr",
          "text": [
            "0% [██████████████████████████████] 100% | ETA: 00:00:00\n",
            "Total time elapsed: 00:01:29\n"
          ]
        },
        {
          "output_type": "stream",
          "name": "stdout",
          "text": [
            "Finished Epoch 12 || Run Time:   63.5 | Load Time:   26.6 || F1:  99.49 | Prec:  99.47 | Rec:  99.50 || Ex/s: 191.19\n",
            "\n",
            "===>  EVAL Epoch 12\n"
          ]
        },
        {
          "output_type": "stream",
          "name": "stderr",
          "text": [
            "0% [██████████████████████████████] 100% | ETA: 00:00:00\n",
            "Total time elapsed: 00:00:20\n"
          ]
        },
        {
          "output_type": "stream",
          "name": "stdout",
          "text": [
            "Finished Epoch 12 || Run Time:   11.5 | Load Time:    8.7 || F1:  87.86 | Prec:  88.83 | Rec:  86.92 || Ex/s: 283.76\n",
            "\n",
            "---------------------\n",
            "\n",
            "===>  TRAIN Epoch 13\n"
          ]
        },
        {
          "output_type": "stream",
          "name": "stderr",
          "text": [
            "0% [██████████████████████████████] 100% | ETA: 00:00:00\n",
            "Total time elapsed: 00:01:29\n"
          ]
        },
        {
          "output_type": "stream",
          "name": "stdout",
          "text": [
            "Finished Epoch 13 || Run Time:   63.6 | Load Time:   26.6 || F1:  99.58 | Prec:  99.59 | Rec:  99.56 || Ex/s: 191.09\n",
            "\n",
            "===>  EVAL Epoch 13\n"
          ]
        },
        {
          "output_type": "stream",
          "name": "stderr",
          "text": [
            "0% [██████████████████████████████] 100% | ETA: 00:00:00\n",
            "Total time elapsed: 00:00:20\n"
          ]
        },
        {
          "output_type": "stream",
          "name": "stdout",
          "text": [
            "Finished Epoch 13 || Run Time:   11.6 | Load Time:    8.8 || F1:  88.14 | Prec:  88.80 | Rec:  87.48 || Ex/s: 281.85\n",
            "\n",
            "* Best F1: tensor(88.1356, device='cuda:0')\n",
            "Saving best model...\n",
            "Done.\n",
            "---------------------\n",
            "\n",
            "===>  TRAIN Epoch 14\n"
          ]
        },
        {
          "output_type": "stream",
          "name": "stderr",
          "text": [
            "0% [██████████████████████████████] 100% | ETA: 00:00:00\n",
            "Total time elapsed: 00:01:29\n"
          ]
        },
        {
          "output_type": "stream",
          "name": "stdout",
          "text": [
            "Finished Epoch 14 || Run Time:   63.4 | Load Time:   26.5 || F1:  99.61 | Prec:  99.63 | Rec:  99.59 || Ex/s: 191.39\n",
            "\n",
            "===>  EVAL Epoch 14\n"
          ]
        },
        {
          "output_type": "stream",
          "name": "stderr",
          "text": [
            "0% [██████████████████████████████] 100% | ETA: 00:00:00\n",
            "Total time elapsed: 00:00:20\n"
          ]
        },
        {
          "output_type": "stream",
          "name": "stdout",
          "text": [
            "Finished Epoch 14 || Run Time:   11.6 | Load Time:    8.7 || F1:  88.02 | Prec:  88.48 | Rec:  87.57 || Ex/s: 282.83\n",
            "\n",
            "---------------------\n",
            "\n",
            "===>  TRAIN Epoch 15\n"
          ]
        },
        {
          "output_type": "stream",
          "name": "stderr",
          "text": [
            "0% [██████████████████████████████] 100% | ETA: 00:00:00\n",
            "Total time elapsed: 00:01:29\n"
          ]
        },
        {
          "output_type": "stream",
          "name": "stdout",
          "text": [
            "Finished Epoch 15 || Run Time:   63.5 | Load Time:   26.6 || F1:  99.67 | Prec:  99.72 | Rec:  99.63 || Ex/s: 191.16\n",
            "\n",
            "===>  EVAL Epoch 15\n"
          ]
        },
        {
          "output_type": "stream",
          "name": "stderr",
          "text": [
            "0% [██████████████████████████████] 100% | ETA: 00:00:00\n",
            "Total time elapsed: 00:00:20\n"
          ]
        },
        {
          "output_type": "stream",
          "name": "stdout",
          "text": [
            "Finished Epoch 15 || Run Time:   11.6 | Load Time:    8.7 || F1:  88.02 | Prec:  88.48 | Rec:  87.57 || Ex/s: 282.45\n",
            "\n",
            "---------------------\n",
            "\n",
            "Loading best model...\n",
            "Training done.\n"
          ]
        },
        {
          "output_type": "execute_result",
          "data": {
            "text/plain": [
              "tensor(88.1356, device='cuda:0')"
            ]
          },
          "metadata": {},
          "execution_count": 97
        }
      ],
      "source": [
        "model.run_train(\n",
        "    train,\n",
        "    validation,\n",
        "    epochs=15,\n",
        "    batch_size=32,\n",
        "    best_save_path='hybrid_model.pth',\n",
        "    pos_neg_ratio=3)"
      ]
    },
    {
      "cell_type": "code",
      "execution_count": 98,
      "metadata": {
        "id": "pEM9xrZO8Zk-",
        "colab": {
          "base_uri": "https://localhost:8080/"
        },
        "outputId": "67cc6306-8c8c-4ef1-f96e-e2aaa28c290d"
      },
      "outputs": [
        {
          "output_type": "stream",
          "name": "stdout",
          "text": [
            "===>  EVAL Epoch 13\n"
          ]
        },
        {
          "output_type": "stream",
          "name": "stderr",
          "text": [
            "/usr/local/lib/python3.7/dist-packages/torch/nn/modules/module.py:949: UserWarning: Using non-full backward hooks on a Module that does not take as input a single Tensor or a tuple of Tensors is deprecated and will be removed in future versions. This hook will be missing some of the grad_input. Please use register_full_backward_hook to get the documented behavior.\n",
            "  warnings.warn(\"Using non-full backward hooks on a Module that does not take as input a \"\n",
            "/usr/local/lib/python3.7/dist-packages/torch/nn/modules/module.py:974: UserWarning: Using a non-full backward hook when the forward contains multiple autograd Nodes is deprecated and will be removed in future versions. This hook will be missing some grad_input. Please use register_full_backward_hook to get the documented behavior.\n",
            "  warnings.warn(\"Using a non-full backward hook when the forward contains multiple autograd Nodes \"\n",
            "/usr/local/lib/python3.7/dist-packages/torch/nn/modules/module.py:939: UserWarning: Using non-full backward hooks on a Module that does not return a single Tensor or a tuple of Tensors is deprecated and will be removed in future versions. This hook will be missing some of the grad_output. Please use register_full_backward_hook to get the documented behavior.\n",
            "  warnings.warn(\"Using non-full backward hooks on a Module that does not return a \"\n",
            "0% [██████████████████████████████] 100% | ETA: 00:00:00\n",
            "Total time elapsed: 00:00:20\n"
          ]
        },
        {
          "output_type": "stream",
          "name": "stdout",
          "text": [
            "Finished Epoch 13 || Run Time:   11.9 | Load Time:    8.8 || F1:  86.63 | Prec:  88.26 | Rec:  85.05 || Ex/s: 277.20\n",
            "\n"
          ]
        },
        {
          "output_type": "execute_result",
          "data": {
            "text/plain": [
              "tensor(86.6254, device='cuda:0')"
            ]
          },
          "metadata": {},
          "execution_count": 98
        }
      ],
      "source": [
        "# Compute F1 on test set\n",
        "model.run_eval(test)"
      ]
    },
    {
      "cell_type": "markdown",
      "metadata": {
        "id": "lejVqpjAQJPD"
      },
      "source": [
        "## Step 4. Apply model to new data\n",
        "\n",
        "### Evaluating on test data\n",
        "Now that we have a trained model for entity matching, we can now evaluate its accuracy on test data, to estimate the performance of the model on unlabeled data."
      ]
    },
    {
      "cell_type": "code",
      "execution_count": null,
      "metadata": {
        "id": "jLoneAI_QJPD"
      },
      "outputs": [],
      "source": [
        "# Compute F1 on test set\n",
        "'''model.run_eval(test)'''"
      ]
    },
    {
      "cell_type": "markdown",
      "metadata": {
        "id": "W4ixyezcQJPG"
      },
      "source": [
        "### Evaluating on unlabeled data\n",
        "\n",
        "We finally apply the trained model to unlabeled data to get predictions. To do this, we need to first process the unlabeled data.\n",
        "\n",
        "#### Processing unlabeled data\n",
        "\n",
        "To process unlabeled data, we use `dm.data.process_unlabeled`, as shown in the code snippet below. The basic parameters for this call are as follows:\n",
        "\n",
        "* **path (required): ** The full path to the unlabeled data file (not just the directory).\n",
        "* **trained_model (required): ** The trained model. The model is aware of the configuration of the training data on which it was trained, and so `deepmatcher` reuses the same configuration for the unlabeled data.\n",
        "* **ignore_columns (optional): ** Any columns in the unlabeled CSV file that you may want to ignore for the purposes of evaluation. If not specified, the columns that were ignored while processing the training set will also be ignored while processing the unlabeled data.\n",
        "\n",
        "Note that the unlabeled CSV file must have the same schema as the train, validation and test CSVs."
      ]
    },
    {
      "cell_type": "code",
      "execution_count": null,
      "metadata": {
        "id": "ZmZ7EAtmQJPH"
      },
      "outputs": [],
      "source": [
        "'''\n",
        "unlabeled = dm.data.process_unlabeled(\n",
        "    path='sample_data/itunes-amazon/unlabeled.csv',\n",
        "    trained_model=model)\n",
        "'''"
      ]
    },
    {
      "cell_type": "markdown",
      "metadata": {
        "id": "OF18CNWbQJPM"
      },
      "source": [
        "#### Obtaining predictions\n",
        "\n",
        "Next, we call the `run_prediction` method which takes a processed data set object and returns a `pandas` dataframe containing tuple pair IDs (`id` column) and the corresponding match score predictions (`match_score` column). `match_scores` are in [0, 1] and a score above 0.5 indicates a match prediction."
      ]
    },
    {
      "cell_type": "code",
      "execution_count": null,
      "metadata": {
        "id": "0UE0Lg4KQJPN"
      },
      "outputs": [],
      "source": [
        "'''\n",
        "predictions = model.run_prediction(unlabeled)\n",
        "predictions.head()\n",
        "'''"
      ]
    },
    {
      "cell_type": "markdown",
      "metadata": {
        "id": "vXclEMhkQJPR"
      },
      "source": [
        "You may optionally set the `output_attributes` parameter to also include all attributes present in the original input table. As mentioned earlier, the processed attribute values will likely look a bit different from the attribute values in the input CSV files due to modifications such as tokenization and lowercasing."
      ]
    },
    {
      "cell_type": "code",
      "execution_count": null,
      "metadata": {
        "id": "0wPnH3NPQJPS"
      },
      "outputs": [],
      "source": [
        "#predictions = model.run_prediction(unlabeled, output_attributes=True)\n",
        "#predictions.head()"
      ]
    },
    {
      "cell_type": "markdown",
      "metadata": {
        "id": "bJxMcI0eQJPU"
      },
      "source": [
        "You can then save these predictions to CSV and use them for downstream tasks."
      ]
    },
    {
      "cell_type": "code",
      "execution_count": null,
      "metadata": {
        "id": "oZYSXoNNQJPV"
      },
      "outputs": [],
      "source": [
        "#predictions.to_csv('sample_data/itunes-amazon/unlabeled_predictions.csv')"
      ]
    },
    {
      "cell_type": "markdown",
      "metadata": {
        "id": "3Xo0ULsqQJPX"
      },
      "source": [
        "#### Getting predictions on labeled data\n",
        "\n",
        "You can also get predictions for labeled data such as validation data. To do so, you can simply call the `run_prediction` method passing the validation data as argument."
      ]
    },
    {
      "cell_type": "code",
      "execution_count": null,
      "metadata": {
        "id": "iXvu3exAQJPY"
      },
      "outputs": [],
      "source": [
        "#valid_predictions = model.run_prediction(validation, output_attributes=True)\n",
        "#valid_predictions.head()"
      ]
    }
  ],
  "metadata": {
    "accelerator": "GPU",
    "colab": {
      "collapsed_sections": [
        "sBtZVvrSQJOf",
        "KuCrlwjeQs8i",
        "8mr3oVzuQJO6",
        "7iLAHpuVQJO9",
        "z3GacbuU7IlJ",
        "rEyqJ6mI7jiW",
        "kfoEkQMa7jia",
        "nQTv2vdI7jic"
      ],
      "name": "DeepMatcher_ADirty_90_3_5.ipynb",
      "provenance": [],
      "toc_visible": true
    },
    "kernelspec": {
      "display_name": "Python 3",
      "language": "python",
      "name": "python3"
    },
    "language_info": {
      "codemirror_mode": {
        "name": "ipython",
        "version": 3
      },
      "file_extension": ".py",
      "mimetype": "text/x-python",
      "name": "python",
      "nbconvert_exporter": "python",
      "pygments_lexer": "ipython3",
      "version": "3.6.4"
    }
  },
  "nbformat": 4,
  "nbformat_minor": 0
}